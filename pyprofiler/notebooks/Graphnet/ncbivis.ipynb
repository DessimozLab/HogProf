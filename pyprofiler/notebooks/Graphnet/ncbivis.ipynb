{
 "cells": [
  {
   "cell_type": "code",
   "execution_count": 1,
   "id": "e33bf1e5-a951-405c-bcef-9c3af6c31351",
   "metadata": {},
   "outputs": [
    {
     "name": "stdout",
     "output_type": "stream",
     "text": [
      "['/scratch/dmoi/projects/HogProf/pyprofiler/notebooks', '/scratch/dmoi/condaenvs/ML2/lib/python39.zip', '/scratch/dmoi/condaenvs/ML2/lib/python3.9', '/scratch/dmoi/condaenvs/ML2/lib/python3.9/lib-dynload', '', '/scratch/dmoi/condaenvs/ML2/lib/python3.9/site-packages', '/scratch/dmoi/software/pyham', '/scratch/dmoi/condaenvs/ML2/lib/python3.9/site-packages/IPython/extensions', '/users/dmoi/.ipython', '../..']\n"
     ]
    }
   ],
   "source": [
    "%load_ext autoreload\n",
    "%autoreload 2\n",
    "import sys\n",
    "sys.path.append('../..')\n",
    "#sys.path.append( '/home/cactuskid13/miniconda3/pkgs/')\n",
    "print(sys.path)"
   ]
  },
  {
   "cell_type": "code",
   "execution_count": 2,
   "id": "ddb9ae76-5b23-43fe-84c6-23b3c7a2cf59",
   "metadata": {},
   "outputs": [
    {
     "name": "stdout",
     "output_type": "stream",
     "text": [
      "{'dir': {'datadir': '/scratch/dmoi/datasets/birds/', 'omadir': '/scratch/dmoi/datasets/birds/'}, 'orthoxmltar': '', 'email': 'dmoi@unil.ch'}\n"
     ]
    }
   ],
   "source": [
    "#using the profiler. It's easy!\n",
    "#lets import the profiler, configuration file and some tools for GO analysis to look at our returned results\n",
    "from pyprofiler.utils import config_utils\n",
    "import pyprofiler.utils.goatools_utils as goa\n",
    "import pyprofiler.utils.hashutils as hashutils\n",
    "import pyprofiler.profiler as profiler\n"
   ]
  },
  {
   "cell_type": "code",
   "execution_count": 3,
   "id": "10393561-054c-4252-b833-e08b11800745",
   "metadata": {},
   "outputs": [
    {
     "name": "stdout",
     "output_type": "stream",
     "text": [
      "loading lsh\n",
      "indexing lsh\n"
     ]
    },
    {
     "name": "stderr",
     "output_type": "stream",
     "text": [
      "/scratch/dmoi/condaenvs/ML2/lib/python3.9/site-packages/tables/leaf.py:367: PerformanceWarning: The Leaf ``/Protein/_i_Entries/OmaHOG/sorted`` is exceeding the maximum recommended rowsize (104857600 bytes);\n",
      "be ready to see PyTables asking for *lots* of memory and possibly slow\n",
      "I/O.  You may want to reduce the rowsize by trimming the value of\n",
      "dimensions that are orthogonal (and preferably close) to the *main*\n",
      "dimension of this leave.  Alternatively, in case you have specified a\n",
      "very small/large chunksize, you may want to increase/decrease it.\n",
      "  warnings.warn(\"\"\"\\\n"
     ]
    },
    {
     "name": "stdout",
     "output_type": "stream",
     "text": [
      "3508\n",
      "DONE\n"
     ]
    }
   ],
   "source": [
    "p = profiler.Profiler(lshforestpath = '/scratch/dmoi/datasets/all/newlshforest.pkl' , hashes_h5='/scratch/dmoi/datasets/birds/all/hashes.h5' , mat_path= None, oma = '/scratch/dmoi/datasets/OMA/apr2021/OmaServer.h5', tar= None , nsamples = 256 , mastertree = '/scratch/dmoi/datasets/birds/all_test_master_tree.pkl')"
   ]
  },
  {
   "cell_type": "code",
   "execution_count": 5,
   "id": "64d3f281-ac2f-4600-9f56-297388269f62",
   "metadata": {},
   "outputs": [
    {
     "name": "stdout",
     "output_type": "stream",
     "text": [
      "3507\n"
     ]
    }
   ],
   "source": [
    "print(len(p.tree.get_descendants()))"
   ]
  },
  {
   "cell_type": "code",
   "execution_count": 7,
   "id": "37065489-f071-4d25-a4b1-df922328e9fc",
   "metadata": {},
   "outputs": [
    {
     "name": "stdout",
     "output_type": "stream",
     "text": [
      "<class 'ete3.phylo.phylotree.PhyloNode'>\n",
      "160\n"
     ]
    }
   ],
   "source": [
    "#clip level\n",
    "import copy\n",
    "t = copy.deepcopy(p.tree)\n",
    "print(type(t))\n",
    "def prune_leaves(t , mindepth = 5 ):\n",
    "    prune = set([ n for n in t] )\n",
    "    [prune.discard(l) for l in t.get_leaves() if t.get_distance(l) > mindepth ]\n",
    "    t.prune(prune)\n",
    "    return t\n",
    "prune_tips_iter = 1\n",
    "for i in range(prune_tips_iter):\n",
    "    t = prune_leaves(t)\n",
    "    \n",
    "print(len(t.get_descendants()))"
   ]
  },
  {
   "cell_type": "code",
   "execution_count": 8,
   "id": "73326080-da62-4871-9e2b-ed884844271f",
   "metadata": {},
   "outputs": [],
   "source": [
    "taxtree = p.tree\n",
    "from ete3 import Tree, TreeStyle"
   ]
  },
  {
   "cell_type": "code",
   "execution_count": null,
   "id": "8095869a-8d41-4b55-bb27-1454d07428c8",
   "metadata": {},
   "outputs": [],
   "source": [
    "ts = TreeStyle()\n",
    "ts.show_leaf_name = True\n",
    "ts.rotation = 90\n",
    "#add color for high level clade\n",
    "#add thickness and alpha for representation\n",
    "#rgb for presence loss dupl\n",
    "#purple for dataset representation\n",
    "taxtree.render(\"taxtree.png\", tree_style=ts)"
   ]
  },
  {
   "cell_type": "code",
   "execution_count": null,
   "id": "19ec45c1-23b4-4bad-ae67-cbe4b16d059a",
   "metadata": {},
   "outputs": [],
   "source": []
  },
  {
   "cell_type": "code",
   "execution_count": null,
   "id": "cdc9c1e3-fa47-4db2-a738-3a4284d96156",
   "metadata": {},
   "outputs": [],
   "source": []
  }
 ],
 "metadata": {
  "kernelspec": {
   "display_name": "Python 3 (ipykernel)",
   "language": "python",
   "name": "python3"
  },
  "language_info": {
   "codemirror_mode": {
    "name": "ipython",
    "version": 3
   },
   "file_extension": ".py",
   "mimetype": "text/x-python",
   "name": "python",
   "nbconvert_exporter": "python",
   "pygments_lexer": "ipython3",
   "version": "3.9.7"
  }
 },
 "nbformat": 4,
 "nbformat_minor": 5
}
