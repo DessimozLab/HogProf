{
 "cells": [
  {
   "cell_type": "code",
   "execution_count": 1,
   "metadata": {},
   "outputs": [
    {
     "name": "stdout",
     "output_type": "stream",
     "text": [
      "['/scratch/dmoi/projects/HogProf/pyprofiler/notebooks', '/scratch/dmoi/condaenvs/ML2/lib/python39.zip', '/scratch/dmoi/condaenvs/ML2/lib/python3.9', '/scratch/dmoi/condaenvs/ML2/lib/python3.9/lib-dynload', '', '/scratch/dmoi/condaenvs/ML2/lib/python3.9/site-packages', '/scratch/dmoi/software/pyham', '/scratch/dmoi/condaenvs/ML2/lib/python3.9/site-packages/IPython/extensions', '/users/dmoi/.ipython', '../..']\n"
     ]
    }
   ],
   "source": [
    "import sys\n",
    "sys.path.append('../..')\n",
    "#sys.path.append( '/home/cactuskid13/miniconda3/pkgs/')\n",
    "print(sys.path)"
   ]
  },
  {
   "cell_type": "code",
   "execution_count": 2,
   "metadata": {},
   "outputs": [],
   "source": [
    "import torch"
   ]
  },
  {
   "cell_type": "code",
   "execution_count": 3,
   "metadata": {},
   "outputs": [
    {
     "name": "stdout",
     "output_type": "stream",
     "text": [
      "{'dir': {'datadir': '/scratch/dmoi/datasets/birds/', 'omadir': '/scratch/dmoi/datasets/birds/'}, 'orthoxmltar': '', 'email': 'dmoi@unil.ch'}\n"
     ]
    }
   ],
   "source": [
    "from pyprofiler.utils import hashutils\n",
    "import ete3\n",
    "import random\n",
    "from pyprofiler.utils import config_utils\n",
    "import pyprofiler.utils.goatools_utils as goa\n",
    "import pyprofiler.utils.hashutils as hashutils\n",
    "import seaborn as sns\n",
    "from matplotlib import pyplot as plt\n",
    "import numpy as np\n",
    "import pyprofiler.profiler as profiler\n",
    "import pandas as pd\n",
    "import itertools\n",
    "import redis\n",
    "##to get the mapping of oma hogs to cogs to interactions in specific species I used dask distributed and a redis server\n",
    "#you may need to get these up and running for you own cluster configuration before this notebook will work for you\n",
    "import dask\n",
    "import scipy\n",
    "from dask import dataframe as dd\n",
    "import pickle\n",
    "from bloom_filter2 import BloomFilter\n",
    "from sklearn.model_selection import train_test_split\n"
   ]
  },
  {
   "cell_type": "code",
   "execution_count": 4,
   "metadata": {},
   "outputs": [
    {
     "name": "stdout",
     "output_type": "stream",
     "text": [
      "loading lsh\n",
      "indexing lsh\n"
     ]
    },
    {
     "name": "stderr",
     "output_type": "stream",
     "text": [
      "/scratch/dmoi/condaenvs/ML2/lib/python3.9/site-packages/tables/leaf.py:367: PerformanceWarning: The Leaf ``/Protein/_i_Entries/OmaHOG/sorted`` is exceeding the maximum recommended rowsize (104857600 bytes);\n",
      "be ready to see PyTables asking for *lots* of memory and possibly slow\n",
      "I/O.  You may want to reduce the rowsize by trimming the value of\n",
      "dimensions that are orthogonal (and preferably close) to the *main*\n",
      "dimension of this leave.  Alternatively, in case you have specified a\n",
      "very small/large chunksize, you may want to increase/decrease it.\n",
      "  warnings.warn(\"\"\"\\\n"
     ]
    },
    {
     "name": "stdout",
     "output_type": "stream",
     "text": [
      "3508\n",
      "DONE\n"
     ]
    }
   ],
   "source": [
    "#lets load a compiled db containing the OMA root HOGs into a profiler oject \n",
    "p = profiler.Profiler(lshforestpath = '/scratch/dmoi/datasets/all/newlshforest.pkl' , hashes_h5='/scratch/dmoi/datasets/birds/all/hashes.h5' , mat_path= None, oma = '/scratch/dmoi/datasets/OMA/apr2021/OmaServer.h5', tar= None , nsamples = 256 , mastertree = '/scratch/dmoi/datasets/birds/all_test_master_tree.pkl')"
   ]
  },
  {
   "cell_type": "code",
   "execution_count": 5,
   "metadata": {},
   "outputs": [],
   "source": [
    "def grabHog(ID, verbose = True):\n",
    "    try:\n",
    "        entry = p.db_obj.entry_by_entry_nr(p.db_obj.id_resolver.resolve(ID))\n",
    "        return entry[4].decode() , entry\n",
    "    except:\n",
    "        return np.nan,np.nan\n",
    "#map to OMA HOGs"
   ]
  },
  {
   "cell_type": "code",
   "execution_count": 6,
   "metadata": {},
   "outputs": [],
   "source": [
    "humap = '/scratch/dmoi/datasets/humap_PPI/humap2_ppis_ACC_20200821.pairsWprob'\n",
    "calc_humap = False\n",
    "if calc_humap == True:\n",
    "    #load humap data\n",
    "    humap_df = pd.read_table(humap, header = None)\n",
    "    print(humap_df)\n",
    "    humap_df = humap_df[humap_df[2] > .75 ]\n",
    "    mapper = set( list(humap_df[1]) + list(humap_df[0]) )\n",
    "    mapper = { protid: grabHog(protid) for protid in mapper }\n",
    "    humap_df['hog1'] = humap_df[1].map(mapper)\n",
    "    humap_df['hog2'] = humap_df[0].map(mapper)\n",
    "    humap_df['hogid_1'] = humap_df['hog1'].map(lambda x:x[0])\n",
    "    humap_df['hogid_2'] = humap_df['hog2'].map(lambda x:x[0])\n",
    "    humap_df = humap_df.dropna()\n",
    "    humap_df['fam1'] = humap_df['hog1'].map( lambda x :   p.hogid2fam(x[1]) )\n",
    "    humap_df['fam2'] = humap_df['hog2'].map( lambda x :   p.hogid2fam(x[1]) ) \n",
    "    humap_df = humap_df.dropna()\n",
    "    humap_df.fam1 = humap_df.fam1.map(int)\n",
    "    humap_df.fam2 = humap_df.fam2.map(int)\n",
    "    print(len(humap_df))\n",
    "    humap_df.to_csv(humap+'hogmapped.csv')\n",
    "else:\n",
    "    humap_df = pd.read_csv(humap+'hogmapped.csv')"
   ]
  },
  {
   "cell_type": "code",
   "execution_count": 7,
   "metadata": {},
   "outputs": [],
   "source": [
    "humap_pairs = humap_df"
   ]
  },
  {
   "cell_type": "code",
   "execution_count": 8,
   "metadata": {
    "scrolled": true,
    "tags": []
   },
   "outputs": [],
   "source": [
    "profiles = {}\n",
    "calc_hogs_humap = False\n",
    "if calc_hogs_humap == True:\n",
    "    allhogs = set([])\n",
    "    allhogs = allhogs.union( set(humap_df.fam1.unique() ) )\n",
    "    allhogs = allhogs.union( set(humap_df.fam2.unique() ) )\n",
    "    print(len(allhogs))\n",
    "    for fam in allhogs:\n",
    "        print(fam)\n",
    "        try:\n",
    "            prof = p.return_profile_OTF(fam)\n",
    "        except:\n",
    "            print('err', fam)\n",
    "        print(prof)\n",
    "        profiles.update(prof)"
   ]
  },
  {
   "cell_type": "code",
   "execution_count": 9,
   "metadata": {},
   "outputs": [],
   "source": [
    "save_Hogs_humap = False\n",
    "if save_Hogs_humap == True:\n",
    "    with open(humap + 'gold_standard_profiles.pkl' , 'wb') as profiles_out:\n",
    "        profiles_out.write(pickle.dumps(profiles))"
   ]
  },
  {
   "cell_type": "code",
   "execution_count": 10,
   "metadata": {},
   "outputs": [],
   "source": [
    "with open(humap + 'gold_standard_profiles.pkl' , 'rb') as profiles_out:\n",
    "    humap_profiles = pickle.loads(profiles_out.read())"
   ]
  },
  {
   "cell_type": "code",
   "execution_count": 11,
   "metadata": {},
   "outputs": [
    {
     "name": "stdout",
     "output_type": "stream",
     "text": [
      "                                                      mat  \\\n",
      "524288  [[0.0, 0.0, 0.0, 0.0, 0.0, 0.0, 0.0, 0.0, 0.0,...   \n",
      "516097  [[0.0, 0.0, 0.0, 0.0, 0.0, 0.0, 0.0, 0.0, 0.0,...   \n",
      "516099  [[0.0, 0.0, 0.0, 0.0, 0.0, 0.0, 0.0, 0.0, 0.0,...   \n",
      "786438  [[1.0, 1.0, 1.0, 0.0, 0.0, 1.0, 1.0, 1.0, 1.0,...   \n",
      "573452  [[0.0, 0.0, 1.0, 0.0, 0.0, 0.0, 0.0, 0.0, 0.0,...   \n",
      "\n",
      "                                                     tree  \n",
      "524288  (((\\n--7757)), ((\\n--7764)), ((\\n--9597)), ((\\...  \n",
      "516097  (((\\n--9597)), ((\\n--9598)), ((\\n--9606)), ((\\...  \n",
      "516099  (((\\n--9597)), ((\\n--9598)), ((\\n--9606)), ((\\...  \n",
      "786438  (((\\n--868595)), ((\\n--349161)), ((\\n--696281)...  \n",
      "573452  (((\\n--120017)), ((\\n--237631)), ((\\n--1230383...  \n"
     ]
    }
   ],
   "source": [
    "humap_df = pd.DataFrame.from_dict(humap_profiles , orient = 'index')\n",
    "print(humap_df.head())"
   ]
  },
  {
   "cell_type": "code",
   "execution_count": 12,
   "metadata": {},
   "outputs": [],
   "source": [
    "#################begin building the string dataset ###################################"
   ]
  },
  {
   "cell_type": "code",
   "execution_count": 13,
   "metadata": {},
   "outputs": [],
   "source": [
    "filter_coglinks = False\n",
    "if filter_coglinks == True:\n",
    "    coglink_df = dd.read_csv('/scratch/dmoi/datasets/STRING/COG.links.detailed.v11.5.txt', blocksize=25e6 , header = 0, sep = ' ')\n",
    "    print(coglink_df)\n",
    "    print(coglink_df.columns)\n",
    "    dropcols = ['neighborhood', 'fusion', 'cooccurence', 'combined_score' ]\n",
    "    coglink_df = coglink_df.drop(columns = dropcols)\n",
    "    coglink_df['score'] = coglink_df.coexpression + coglink_df.experimental +coglink_df.database+ coglink_df.textmining\n",
    "    coglink_df= coglink_df[coglink_df.score>1000]\n",
    "    coglink_df = coglink_df.compute()\n",
    "    print(coglink_df.head())"
   ]
  },
  {
   "cell_type": "code",
   "execution_count": 14,
   "metadata": {},
   "outputs": [],
   "source": [
    "#map the interacting cogs to the proteins\n",
    "compute_grabcogs = False\n",
    "if compute_grabcogs == True:\n",
    "    grabcogs = set( list(coglink_df.group1.unique()) + list(coglink_df.group2.unique()) )\n",
    "    grabcogs= list(grabcogs)\n",
    "    COGmapings_df = dd.read_csv('/scratch/dmoi/datasets/STRING/COG.mappings.v11.5.txt', blocksize=25e6 , header = 0, sep = '\\t')\n",
    "    COGmapings_df = COGmapings_df.set_index('orthologous_group')\n",
    "    COGmapings_df.astype(str)\n",
    "    COGmapings_df['##protein'].map( lambda x : x.strip() )\n",
    "    COGmapings_df['species'] = COGmapings_df['##protein'].map( lambda x : x.split('.')[0] )\n",
    "    COGmapings_df['COG'] = COGmapings_df.index\n",
    "    COGmapings_df = COGmapings_df.loc[grabcogs]\n",
    "    COGmapings_df = COGmapings_df.compute()\n",
    "    print(COGmapings_df.head())"
   ]
  },
  {
   "cell_type": "code",
   "execution_count": 15,
   "metadata": {},
   "outputs": [],
   "source": [
    "#only take the proteins in our cogs of interest\n",
    "if compute_grabcogs == True:\n",
    "    grabprots =list(COGmapings_df['##protein'].unique())\n",
    "    print(len(grabprots))\n",
    "    with open('/scratch/dmoi/datasets/STRING/COG.links.detailed.v11.5.txt' + '.grabcogs.txt', 'w') as protsout:\n",
    "        protsout.write(''.join([ p + '\\n' for p in grabcogs ]) )\n",
    "    with open('/scratch/dmoi/datasets/STRING/COG.mappings.v11.5.txt' + '.grabprots.txt' , 'w') as protsout:\n",
    "        protsout.write(''.join([ p + '\\n' for p in grabprots ]) )\n",
    "else:\n",
    "    with open('/scratch/dmoi/datasets/STRING/COG.links.detailed.v11.5.txt' + '.grabcogs.txt', 'r') as protsout:\n",
    "        grabcogs = [ cog for cog in protsout.readlines()]\n",
    "    with open('/scratch/dmoi/datasets/STRING/COG.mappings.v11.5.txt' + '.grabprots.txt' , 'r') as protsout:\n",
    "        grabprots = [ prot for prot in protsout.readlines()]"
   ]
  },
  {
   "cell_type": "code",
   "execution_count": 16,
   "metadata": {},
   "outputs": [],
   "source": [
    "calc_mappers = False\n",
    "rdb = redis.Redis(host='10.202.12.174', port=6379, db=0)\n",
    "if calc_mappers == True:\n",
    "    count = 0\n",
    "    for i,r in COGmapings_df.iterrows():\n",
    "        rdb.set(r['##protein'], i)\n",
    "        count+=1\n",
    "        if count < 10:\n",
    "            print(i+'\\n',r)\n",
    "        if count%1000000==0:\n",
    "            print(count/len(COGmapings_df))"
   ]
  },
  {
   "cell_type": "code",
   "execution_count": 17,
   "metadata": {},
   "outputs": [],
   "source": [
    "maphogs = False\n",
    "if maphogs == True:\n",
    "    #mapping each string cog to an oma hog by selecting a member of the cog\n",
    "    rdb = redis.Redis(host='10.202.12.174', port=6379, db=0)\n",
    "    hogmap = {}\n",
    "    for i,prot in enumerate(grabprots):\n",
    "        if i % 100000 == 0 :\n",
    "            print(i/len(grabprots))\n",
    "        cog = rdb.get(prot)\n",
    "        if cog not in hogmap:\n",
    "            mapped =  grabHog(prot)\n",
    "            #retry until something maps\n",
    "            if mapped[0] != np.nan and type(mapped[0]) == str :\n",
    "                if len(mapped[0])>1 :\n",
    "                    hogmap[cog] = mapped\n",
    "    with open('stringhogmap.pkl' , 'wb')as hogmapout:\n",
    "        hogmapout.write(pickle.dumps(hogmap))\n",
    "else:\n",
    "    with open('stringhogmap.pkl' , 'rb')as hogmapout:\n",
    "        hogmap = pickle.loads(hogmapout.read())\n"
   ]
  },
  {
   "cell_type": "code",
   "execution_count": 18,
   "metadata": {},
   "outputs": [
    {
     "name": "stdout",
     "output_type": "stream",
     "text": [
      "12761\n",
      "b'COG0022' ('HOG:A0772469', (1134780, 359776777, 338, 36877, b'HOG:A0772469', b'A', 136963, 137976, -1, 0, b'Q9K3H1', 1080465110, 1015, b'6161cbb7b6aed10547b7c95555c1c63a', 60128051, 322, b'', -1, -1))\n",
      "b'COG1071' ('HOG:A0780700.10b.7b', (3753108, 1179251817, 734, 598427, b'HOG:A0780700.10b.7b', b'A', 2952449, 2954650, -1, 0, b'F4GWD5', 3541508558, 2203, b'0eaa8538e27a234812d4b19c67f1f560', 234217123, 43, b'', -1, -1))\n",
      "b'COG0508' ('HOG:A0757171.22b.54b.29a', (3288989, 1034223672, 469, 598421, b'HOG:A0757171.22b.54b.29a', b'A', 1363913, 1365319, 1, 0, b'G4R8Y9', 3105960004, 1408, b'3b9ecc15f5881cc16928ba7e6a656fe6', 205095449, 48, b'', -1, -1))\n",
      "b'COG0462' ('HOG:A0780700', (14151364, 5935651032, 846, 598427, b'HOG:A0780700', b'supercontig_To_g48347', 2246, 4990, -1, 0, b'K0RIS8', 17821104459, 2539, b'8f2ac7bfb36b9ffe82ad5d8dc2410bae', 696068665, 22, b'', -1, -1))\n",
      "b'COG4886' ('HOG:A0779810.2c.30a.12a.2a', (16107232, 6695185680, 411, 598444, b'HOG:A0779810.2c.30a.12a.2a', b'1', 16009478, 16013321, 1, 0, b'A0A0A0LUF3', 20101664271, 1234, b'5ef6b97572ab9b6e5b14a390dee7e0b0', 775353403, 22, b'', -1, -1))\n",
      "b'KOG0836' ('HOG:A0340147', (7186393, 2441445398, 730, 232423, b'HOG:A0340147', b'supercontig_CCM_S00003', 3237807, 3240958, -1, 0, b'G3JGC8', 7331522586, 2191, b'0ec2bdd82de40b4a83db93dc6e49531c', 404397013, 22, b'', -1, -1))\n",
      "b'COG0025' ('HOG:A0645179.17f', (1135340, 359947462, 529, 807503, b'HOG:A0645179.17f', b'A', 120051, 121637, -1, 0, b'Q9S2Y0', 1080977725, 1588, b'8ae35ad6b3503cb02fe7286519489d30', 60305019, 797, b'', -1, -1))\n",
      "b'COG2905' ('HOG:A0792471', (3753076, 1179241622, 870, 810460, b'HOG:A0792471', b'A', 2919860, 2922469, -1, 0, b'F4GWA3', 3541477941, 2611, b'628cfc8860369d797b5b145e312368fd', 234216107, 40, b'', -1, -1))\n",
      "b'COG0569' ('HOG:A0743626.16j', (4647593, 1466328081, 602, 808080, b'HOG:A0743626.16j', b'A', 62922, 64727, -1, 0, b'A0A0H3FI71', 4403631835, 1807, b'306b5f8eb255c80fd14d7df21f3f257d', 286428690, 72, b'', -1, -1))\n",
      "b'COG0589' ('HOG:A0757574.22l', (1750695, 568860072, 544, 808054, b'HOG:A0757574.22l', b'Chromosome', 2723405, 2725036, 1, 0, b'Q8YUS0', 1708330910, 1633, b'4e54ac253f4a82b2e6da32dd095c5be2', 111675212, 25, b'', -1, -1))\n"
     ]
    }
   ],
   "source": [
    "print(len(hogmap))\n",
    "for i, key in enumerate(hogmap):\n",
    "    if i < 10:\n",
    "        print(key, hogmap[key])"
   ]
  },
  {
   "cell_type": "code",
   "execution_count": 19,
   "metadata": {},
   "outputs": [],
   "source": [
    "#add the HOGs to the COGdf\n",
    "#grab the corresponding profiles\n",
    "compile_final_cogdf = False\n",
    "if compile_final_cogdf == True:\n",
    "    print(len(coglink_df))\n",
    "    try:\n",
    "        coglink_df.group1  = coglink_df.group1.map( lambda x : x.encode())\n",
    "        coglink_df.group2  = coglink_df.group2.map( lambda x : x.encode())\n",
    "    except:\n",
    "        pass\n",
    "    coglink_df['hog1'] = coglink_df.group1.map(hogmap)\n",
    "    coglink_df['hog2'] = coglink_df.group2.map(hogmap)\n",
    "    coglink_df=coglink_df.dropna()\n",
    "    print(len(coglink_df))\n",
    "    print(coglink_df.head())\n",
    "    coglink_df['hogid_1'] = coglink_df['hog1'].map(lambda x:x[0])\n",
    "    coglink_df['hogid_2'] = coglink_df['hog2'].map(lambda x:x[0])\n",
    "    coglink_df['fam1'] = coglink_df['hog1'].map( lambda x :   p.hogid2fam(x[1]) )\n",
    "    coglink_df['fam2'] = coglink_df['hog2'].map( lambda x :   p.hogid2fam(x[1]) ) \n",
    "    coglink_df.fam1 = coglink_df.fam1.map(int)\n",
    "    coglink_df.fam2 = coglink_df.fam2.map(int)\n",
    "    stringHOGs = set(coglink_df.fam1.unique()).union(set(coglink_df.fam2.unique()))\n",
    "    print(len(stringHOGs))\n",
    "    print(coglink_df)\n",
    "    coglink_df.to_csv('STRINGCOGS2OMAHOGS.csv')\n",
    "else:\n",
    "    coglink_df = pd.read_csv('STRINGCOGS2OMAHOGS.csv')"
   ]
  },
  {
   "cell_type": "code",
   "execution_count": 20,
   "metadata": {},
   "outputs": [],
   "source": [
    "stringPairs = coglink_df"
   ]
  },
  {
   "cell_type": "code",
   "execution_count": 21,
   "metadata": {},
   "outputs": [],
   "source": [
    "#derive explicit profiles for our hogs of interest in string\n",
    "calc_hogs_string = False\n",
    "stringprofiles = {}\n",
    "if calc_hogs_string == True:\n",
    "    print('profiles to calclulate',len(stringHOGs))\n",
    "    for i,fam in enumerate(stringHOGs):\n",
    "        if i % 100 ==0:\n",
    "            print(i)\n",
    "        try:\n",
    "            prof = p.return_profile_OTF(fam)\n",
    "            stringprofiles.update(prof)\n",
    "        except:\n",
    "            print('err',fam)"
   ]
  },
  {
   "cell_type": "code",
   "execution_count": 22,
   "metadata": {},
   "outputs": [],
   "source": [
    "if calc_hogs_string == True:\n",
    "    with open('/scratch/dmoi/datasets/STRING/' + 'gold_standard_profiles.pkl' , 'wb') as profiles_out:\n",
    "        profiles_out.write(pickle.dumps(stringprofiles))"
   ]
  },
  {
   "cell_type": "code",
   "execution_count": 23,
   "metadata": {},
   "outputs": [],
   "source": [
    "with open('/scratch/dmoi/datasets/STRING/' + 'gold_standard_profiles.pkl' , 'rb' )as profiles_out:\n",
    "    stringprofiles = pickle.loads(profiles_out.read())"
   ]
  },
  {
   "cell_type": "code",
   "execution_count": 24,
   "metadata": {},
   "outputs": [],
   "source": [
    "string_df = pd.DataFrame.from_dict(stringprofiles , orient='index')"
   ]
  },
  {
   "cell_type": "code",
   "execution_count": 25,
   "metadata": {},
   "outputs": [
    {
     "name": "stdout",
     "output_type": "stream",
     "text": [
      "786432 {'mat': array([[1., 1., 1., ..., 0., 0., 0.]]), 'tree': Tree node '131567' (0x7fe3ad7dcfa)}\n",
      "786433 {'mat': array([[1., 1., 1., ..., 0., 0., 0.]]), 'tree': Tree node '131567' (0x7fe263d8658)}\n",
      "524294 {'mat': array([[0., 0., 0., ..., 0., 0., 0.]]), 'tree': Tree node '7742' (0x7fe263a251c)}\n",
      "786440 {'mat': array([[1., 1., 1., ..., 0., 0., 0.]]), 'tree': Tree node '131567' (0x7fe263a49a6)}\n",
      "524299 {'mat': array([[0., 0., 0., ..., 0., 0., 0.]]), 'tree': Tree node '7742' (0x7fe2636e86a)}\n",
      "786448 {'mat': array([[1., 1., 1., ..., 0., 0., 0.]]), 'tree': Tree node '131567' (0x7fe26370ef4)}\n",
      "786449 {'mat': array([[1., 1., 1., ..., 0., 0., 0.]]), 'tree': Tree node '131567' (0x7fe2623afb8)}\n",
      "786450 {'mat': array([[1., 1., 1., ..., 0., 0., 0.]]), 'tree': Tree node '131567' (0x7fe2620cf7c)}\n",
      "131092 {'mat': array([[0., 0., 0., ..., 0., 0., 0.]]), 'tree': Tree node '1648030' (0x7fe25d90040)}\n",
      "524309 {'mat': array([[0., 0., 0., ..., 0., 0., 0.]]), 'tree': Tree node '7742' (0x7fe25d90052)}\n"
     ]
    }
   ],
   "source": [
    "#make the profiles for this small set of HOGs\n",
    "for i, key in enumerate(stringprofiles):\n",
    "    if i < 10:\n",
    "        print(key,stringprofiles[key])"
   ]
  },
  {
   "cell_type": "code",
   "execution_count": 26,
   "metadata": {},
   "outputs": [],
   "source": [
    "#now we have profiles for all HUMAP and COG interactions\n",
    "#String has interactions from each COG in different species.\n",
    "#We need a way to check for the presence of interaction within a species for a COG\n",
    "#for this we will create a bloom filter with all the interactions between our cogs\n",
    "\n",
    "calc_filter = False"
   ]
  },
  {
   "cell_type": "code",
   "execution_count": 27,
   "metadata": {},
   "outputs": [],
   "source": [
    "if calc_filter == True:\n",
    "    from dask.distributed import fire_and_forget\n",
    "    from dask.distributed import Client, Variable , Queue , Lock ,LocalCluster\n",
    "    from dask_jobqueue import SLURMCluster\n",
    "    from dask.distributed import  utils_perf\n",
    "    from dask.distributed import Client, LocalCluster\n",
    "    import dask\n",
    "    import redis\n",
    "    from bloom_filter2 import BloomFilter\n",
    "    import lzma\n",
    "    from dask import dataframe as dd\n",
    "    distributed = True"
   ]
  },
  {
   "cell_type": "code",
   "execution_count": 28,
   "metadata": {},
   "outputs": [],
   "source": [
    "if calc_filter == True:\n",
    "    if distributed == True:\n",
    "        NCORE = 4\n",
    "        print('deploying cluster')\n",
    "        cluster = SLURMCluster(\n",
    "            walltime='4:00:00',\n",
    "            n_workers = NCORE,\n",
    "            cores=NCORE,\n",
    "            processes = NCORE,\n",
    "            interface='ib0',\n",
    "            memory=\"120GB\",\n",
    "            env_extra=[\n",
    "            'source /scratch/dmoi/miniconda/etc/profile.d/conda.sh',\n",
    "            'conda activate ML2'\n",
    "            ],\n",
    "            scheduler_options={'interface': 'ens2f0' },\n",
    "            #extra=[\"--lifetime\", \"3h55m\", \"--lifetime-stagger\", \"4m\"]\n",
    "        )\n",
    "        print(cluster.job_script())\n",
    "\n",
    "    else:\n",
    "        cluster = LocalCluster()\n",
    "        client = Client(cluster)"
   ]
  },
  {
   "cell_type": "code",
   "execution_count": 29,
   "metadata": {},
   "outputs": [],
   "source": [
    "if calc_filter == True:\n",
    "    if distributed == True:\n",
    "        print(cluster)\n",
    "        cluster.scale(jobs = 100)\n",
    "        print(cluster.dashboard_link)\n",
    "        client = Client(cluster , timeout='450s' , set_as_default=True )"
   ]
  },
  {
   "cell_type": "code",
   "execution_count": 30,
   "metadata": {},
   "outputs": [],
   "source": [
    "#find which species each of the cogs has an interaction in\n",
    "if calc_filter == True:\n",
    "    \n",
    "    #link_df = dd.read_csv('/scratch/dmoi/datasets/STRING/protein.physical.links.detailed.v11.5.txt', blocksize=100e6 , header = 0, sep = ' ')\n",
    "    link_df = dd.read_csv('/scratch/dmoi/datasets/STRING/protein.links.detailed.v11.5.txt',  blocksize=100e6 , header = 0, sep = ' ')\n",
    "    print(link_df)\n",
    "    "
   ]
  },
  {
   "cell_type": "code",
   "execution_count": 31,
   "metadata": {},
   "outputs": [],
   "source": [
    "#compute bloom filters for protein pairs\n",
    "@dask.delayed\n",
    "def mapcogs(df ):\n",
    "    rdb = redis.Redis(host='10.202.12.174', port=6379, db=0)\n",
    "    if type( df ) == tuple:\n",
    "        df = df[0]\n",
    "    protlist1 = list(df.protein1.map(lambda x:str(x).strip()))\n",
    "    protlist2 = list(df.protein2.map(lambda x:str(x).strip()))\n",
    "    protlist = list(set(protlist1+protlist2))\n",
    "    data = rdb.mget(protlist)\n",
    "    mapper = dict(zip(protlist, data) )\n",
    "    df['COG1'] = df.protein1.map(mapper)\n",
    "    df['COG2'] = df.protein2.map(mapper)\n",
    "    df = df.dropna()\n",
    "    df['COG1'] = df.COG1.map(lambda x:str(x).replace(\"b\",'').replace(\"'\",'').strip() )\n",
    "    df['COG2'] = df.COG2.map(lambda x:str(x).replace(\"b\",'').replace(\"'\",'').strip() )\n",
    "    df['species'] = df.protein1.map(lambda x:x.split('.')[0])\n",
    "    df['coglinks'] = df.COG1 + '_' + df.COG2 + '_' + df.species\n",
    "    ret = set(df.coglinks.unique())\n",
    "    return ret\n",
    "@dask.delayed\n",
    "def return_filter(coglinks, verbose = True):\n",
    "    if type( coglinks ) == tuple:\n",
    "        coglinks = coglinks[0]\n",
    "    b=BloomFilter(max_elements=10**8, error_rate=0.001 ,start_fresh = True)\n",
    "    for p in coglinks:\n",
    "        b.add( p )\n",
    "    retlen = len(coglinks)\n",
    "    return   b , retlen\n",
    "\n",
    "@dask.delayed\n",
    "def sumfilter(f1,f2, total ):\n",
    "    if type( f1 ) == tuple:\n",
    "        f1 = f1[0]\n",
    "    if type( f2 ) == tuple:\n",
    "        f2 = f2[0]\n",
    "    f3 = f1.__ior__(f2)\n",
    "    return f3 , total"
   ]
  },
  {
   "cell_type": "code",
   "execution_count": 32,
   "metadata": {},
   "outputs": [],
   "source": [
    "def treesum(totalfilter):\n",
    "    print(len(totalfilter))\n",
    "    while len(totalfilter)>1:\n",
    "        next_round= []\n",
    "        for i in range(0,len(totalfilter),2):\n",
    "            if i+1 < len(totalfilter):\n",
    "                next_round.append( sumfilter( totalfilter[i][0] , totalfilter[i+1][0] , totalfilter[i][1]+totalfilter[i+1][1]  ) )\n",
    "        if len(totalfilter) % 2 !=0:\n",
    "            next_round.append(totalfilter[-1])\n",
    "        totalfilter = next_round\n",
    "        print(len(totalfilter))\n",
    "    return totalfilter\n",
    "\n",
    "if calc_filter == True:\n",
    "    b=BloomFilter(max_elements=10**8, error_rate=0.001 ,start_fresh = True)\n",
    "    partitions  = link_df.to_delayed()\n",
    "    print('map cogs')\n",
    "    res1 = [ mapcogs(p) for p in partitions ]\n",
    "    print('done')\n",
    "    print('make filters')\n",
    "    res2 = [ return_filter(p) for p in res1 ]\n",
    "    finals =[]\n",
    "    for chunk in range(int(len(res2)/1024)+1):\n",
    "        print(chunk*1024)\n",
    "        res3 = res2[chunk*1024:(chunk+1)*1024]\n",
    "        res4 = treesum(res3)\n",
    "        res4 = dask.compute(res4)\n",
    "        print(res4)\n",
    "        finals.append(res4[0])\n",
    "\n",
    "    with open('bloomfinal_big.pkl' , 'wb' ) as finalout:\n",
    "        finalout.write(pickle.dumps(finals))"
   ]
  },
  {
   "cell_type": "code",
   "execution_count": 33,
   "metadata": {},
   "outputs": [],
   "source": [
    "if calc_filter == True:\n",
    "    print(finals)\n",
    "    peel_finals = [r[0] for r in finals]\n",
    "    resfinal = treesum(peel_finals)\n",
    "    resfinal = dask.compute(peel_finals)"
   ]
  },
  {
   "cell_type": "code",
   "execution_count": 34,
   "metadata": {},
   "outputs": [],
   "source": [
    "#client.cancel(resfinal)"
   ]
  },
  {
   "cell_type": "code",
   "execution_count": 35,
   "metadata": {},
   "outputs": [],
   "source": [
    "if calc_filter == True:\n",
    "    import pickle\n",
    "    with open('bloomfinal_big.pkl' , 'wb' ) as finalout:\n",
    "        finalout.write(pickle.dumps(resfinal))"
   ]
  },
  {
   "cell_type": "code",
   "execution_count": 36,
   "metadata": {},
   "outputs": [
    {
     "name": "stdout",
     "output_type": "stream",
     "text": [
      "([(BloomFilter(ideal_num_elements_n=100000000, error_rate_p=0.001000, num_bits_m=1437758757), 122010548), (BloomFilter(ideal_num_elements_n=100000000, error_rate_p=0.001000, num_bits_m=1437758757), 220957577), (BloomFilter(ideal_num_elements_n=100000000, error_rate_p=0.001000, num_bits_m=1437758757), 169856375), (BloomFilter(ideal_num_elements_n=100000000, error_rate_p=0.001000, num_bits_m=1437758757), 119428878), (BloomFilter(ideal_num_elements_n=100000000, error_rate_p=0.001000, num_bits_m=1437758757), 126517031), (BloomFilter(ideal_num_elements_n=100000000, error_rate_p=0.001000, num_bits_m=1437758757), 185650531), (BloomFilter(ideal_num_elements_n=100000000, error_rate_p=0.001000, num_bits_m=1437758757), 199204385), (BloomFilter(ideal_num_elements_n=100000000, error_rate_p=0.001000, num_bits_m=1437758757), 241435144), (BloomFilter(ideal_num_elements_n=100000000, error_rate_p=0.001000, num_bits_m=1437758757), 228547216), (BloomFilter(ideal_num_elements_n=100000000, error_rate_p=0.001000, num_bits_m=1437758757), 191150555), (BloomFilter(ideal_num_elements_n=100000000, error_rate_p=0.001000, num_bits_m=1437758757), 93170677), (BloomFilter(ideal_num_elements_n=100000000, error_rate_p=0.001000, num_bits_m=1437758757), 0), (BloomFilter(ideal_num_elements_n=100000000, error_rate_p=0.001000, num_bits_m=1437758757), 0)],)\n"
     ]
    }
   ],
   "source": [
    "with open('bloomfinal_big.pkl' , 'rb' ) as finalout:\n",
    "    resfinal = pickle.loads(finalout.read()) \n",
    "print(resfinal)\n"
   ]
  },
  {
   "cell_type": "code",
   "execution_count": 37,
   "metadata": {},
   "outputs": [
    {
     "name": "stdout",
     "output_type": "stream",
     "text": [
      "True\n",
      "False\n"
     ]
    }
   ],
   "source": [
    "def check_filters(element,filters):\n",
    "    for f in filters:\n",
    "        if element in f[0][0]:\n",
    "            return True\n",
    "    return False\n",
    "import functools\n",
    "bfilter = functools.partial(check_filters , filters= resfinal)\n",
    "\n",
    "print(bfilter('COG1756_COG0088_4113'))\n",
    "print(bfilter('crap'))"
   ]
  },
  {
   "cell_type": "code",
   "execution_count": 38,
   "metadata": {},
   "outputs": [],
   "source": [
    "#lets try it out. we should be able to find in which species two cogs interact with the bloom filter\n",
    "cog1='COG0088'\n",
    "cog2 ='COG1756'\n",
    "coglink = cog1 + '_' + cog2 + '_'"
   ]
  },
  {
   "cell_type": "code",
   "execution_count": 39,
   "metadata": {},
   "outputs": [
    {
     "name": "stdout",
     "output_type": "stream",
     "text": [
      "23\n",
      "['4558', '4555', '4565', '4529', '4533', '4536', '4538', '4537', '4113', '4081', '3702', '3641', '3694', '3983', '3880', '3885', '3847', '3659', '3760', '3218', '3055', '3067', '2880']\n"
     ]
    }
   ],
   "source": [
    "#test out to find the species for a cog pair\n",
    "coglinks_species = [ coglink+spec.name  for spec in p.tree.get_leaves()]\n",
    "species = [ spec.name  for spec in p.tree.get_leaves()]\n",
    "checklinks = [ bfilter( spec) for spec in coglinks_species ]\n",
    "species_set = [s for s in species]\n",
    "links = [ l for l,c in list(zip(coglinks_species,checklinks))  if c== True  ]\n",
    "species_set = [ s for s,c in list(zip(species_set,checklinks))  if c== True  ]\n",
    "print(len(links))\n",
    "print(species_set)"
   ]
  },
  {
   "cell_type": "code",
   "execution_count": 40,
   "metadata": {},
   "outputs": [
    {
     "name": "stdout",
     "output_type": "stream",
     "text": [
      "(3145, 10524)\n",
      "(11788, 10524)\n",
      "string\n",
      "train 389499\n",
      "test 97133\n",
      "humap\n",
      "train 6592\n",
      "test 1701\n"
     ]
    }
   ],
   "source": [
    "#mapfam to matrow\n",
    "humap_fam_map= { f:i for i,f in enumerate(humap_df.index)}\n",
    "humap_profilemat = np.vstack(humap_df.mat)\n",
    "print(humap_profilemat.shape)\n",
    "string_fam_map = { f:i for i,f in enumerate(string_df.index)}\n",
    "string_mat = np.vstack(string_df.mat)\n",
    "print(string_mat.shape)\n",
    "#train test split\n",
    "Datasets = {}\n",
    "for label,df,mapping,profilemat in [  ('string', stringPairs, string_fam_map ,string_mat ) , ('humap',humap_pairs, humap_fam_map , humap_profilemat) ]: \n",
    "    keys = set(mapping.keys())\n",
    "    entry1 = [ f in keys for f in df.fam1]\n",
    "    df = df.iloc[entry1]\n",
    "    entry2 = [ f in keys for f in df.fam2]\n",
    "    df = df.iloc[entry2]\n",
    "    msk = np.random.rand(len(df)) < 0.8\n",
    "    df_train = df.iloc[msk]\n",
    "    df_test = df.iloc[~msk]\n",
    "    Datasets[label]={'Train':df_train,'Test':df_test , 'mapping': mapping , 'mat':profilemat }\n",
    "    print(label)\n",
    "    print('train',len(df_train))\n",
    "    print('test',len(df_test))"
   ]
  },
  {
   "cell_type": "code",
   "execution_count": 41,
   "metadata": {},
   "outputs": [],
   "source": [
    "\n",
    "def chunks(df, n):\n",
    "    for i in range(0, len(df), n):\n",
    "        yield df.iloc[i:i + n]\n",
    "def generateXYchunk(explicit_profiles, goldstandardDF,fam_map,  nsamples=100, posi_percent = .5):\n",
    "    #shuffle\n",
    "    goldstandardDF = goldstandardDF.sample(frac=1)\n",
    "    for chunkdf in chunks(goldstandardDF , int( nsamples*posi_percent)):\n",
    "        #negatives drawn from the overall dataset\n",
    "        X = np.hstack([ np.vstack([profilemat[fam_map[f]] for f in chunkdf.fam1]) , np.vstack([profilemat[fam_map[f]] for f in chunkdf.fam2]) ] )\n",
    "        Y = [1]* X.shape[0]\n",
    "        neg1 = list(goldstandardDF.sample(n = int(nsamples*(1-posi_percent))).fam1)\n",
    "        neg2 = list(goldstandardDF.sample(n = int(nsamples*(1-posi_percent))).fam2)\n",
    "        \n",
    "        if len(neg1)>0:\n",
    "            mixchunk = np.hstack([np.vstack([profilemat[fam_map[f]] for f in neg1]),np.vstack([profilemat[fam_map[f]] for f in neg2])])\n",
    "            Y =np.hstack([[0]* mixchunk.shape[0] , Y])\n",
    "            X= np.vstack([mixchunk,X])    \n",
    "        #positive samples\n",
    "        yield X, Y"
   ]
  },
  {
   "cell_type": "code",
   "execution_count": 42,
   "metadata": {},
   "outputs": [],
   "source": [
    "from sklearn.metrics import precision_recall_curve\n",
    "import matplotlib.pyplot as plt\n",
    "from sklearn.metrics import roc_curve\n",
    "from sklearn.metrics import auc\n",
    "\n",
    "def ROC_curve(y_data, label = None):\n",
    "    plt.figure(figsize=(10,10))\n",
    "    plt.plot([0, 1], [0, 1], 'k--')\n",
    "    for l in y_data:\n",
    "        print(l)\n",
    "        y_pred_grd = y_data[l]['Ytrue']\n",
    "        y_test = y_data[l]['Ypred']\n",
    "        fpr, tpr, _ = roc_curve(   y_pred_grd ,y_test)\n",
    "        plt.plot(fpr, tpr, label=l + 'auc'+ str(auc(fpr, tpr) ))\n",
    "        plt.xlabel('False positive rate')\n",
    "        plt.ylabel('True positive rate')\n",
    "    plt.title('ROC curve')\n",
    "    plt.legend(loc='best')\n",
    "    if label:\n",
    "        plt.savefig( label +'_ROC.svg' )\n",
    "    plt.show()\n",
    "    \n",
    "    \n",
    "    plt.figure(figsize=(10,10))\n",
    "    for l in y_data:\n",
    "        y_pred_grd = y_data[l]['Ytrue']\n",
    "        y_test = y_data[l]['Ypred']\n",
    "        precision, recall, thresholds = precision_recall_curve( y_pred_grd, y_test)\n",
    "        plt.plot( recall, precision , label= l )\n",
    "        plt.ylabel('Precision')\n",
    "        plt.xlabel('Recall')\n",
    "    \n",
    "    plt.title('PR curve')\n",
    "    plt.legend(loc='best')\n",
    "    if label:\n",
    "        plt.savefig( label +'_PR.svg' )\n",
    "    plt.show()\n",
    "    \n",
    "def ROC_curve_single(y_test, y_pred_grd):\n",
    "    fpr_grd, tpr_grd, _ = roc_curve(y_test, y_pred_grd)\n",
    "\n",
    "    plt.plot([0, 1], [0, 1], 'k--')\n",
    "\n",
    "    fpr, tpr, _ = roc_curve(y_test, y_pred_grd)\n",
    "    plt.plot(fpr, tpr, label='single')\n",
    "    plt.xlabel('False positive rate')\n",
    "    plt.ylabel('True positive rate')\n",
    "\n",
    "    plt.title('ROC curve')\n",
    "    plt.legend(loc='best')\n",
    "    plt.show()\n",
    "\n",
    "    precision, recall, thresholds = precision_recall_curve(  y_test , y_pred_grd)\n",
    "    plt.plot(precision, recall , label='single')\n",
    "    plt.xlabel('Precision')\n",
    "    plt.ylabel('Recall')\n",
    "\n",
    "    plt.title('PR curve')\n",
    "    plt.legend(loc='best')\n",
    "    plt.show()\n"
   ]
  },
  {
   "cell_type": "code",
   "execution_count": 43,
   "metadata": {},
   "outputs": [],
   "source": [
    "#try a vanilla deep NN\n",
    "from keras.layers import Dense, Input\n",
    "from keras.models import Sequential\n",
    "import os\n",
    "import tensorflow as tf\n",
    "from keras.models import load_model\n",
    "\n",
    "overwrite = True\n",
    "train_dnn = False\n",
    "\n",
    "if train_dnn == True:\n",
    "    for dataset in Datasets:\n",
    "        modelpath = './'+dataset+'_dropout_DNN.h5'\n",
    "        callbacks = [\n",
    "        tf.keras.callbacks.TensorBoard(log_dir= modelpath+'.logs'),\n",
    "        tf.keras.callbacks.ModelCheckpoint(filepath=modelpath)\n",
    "        ]\n",
    "        print(dataset)\n",
    "        df_train = Datasets[label]['Train']\n",
    "        fam_map = Datasets[label]['mapping']\n",
    "        profilemat = Datasets[label]['mat']\n",
    "        if os.path.exists(modelpath) and overwrite == False:\n",
    "            model = load_model(modelpath)\n",
    "        else:\n",
    "            model = Sequential()\n",
    "            model.add(Dense(units=100, activation='sigmoid', input_dim=profilemat.shape[1]*2))\n",
    "            model.add(tf.keras.layers.Dropout( .2 , seed=42 ))\n",
    "            model.add(Dense(units=30, activation='sigmoid' ) )\n",
    "            model.add(Dense(units=1, activation='sigmoid' ) )\n",
    "        model.compile(loss='binary_crossentropy', optimizer='rmsprop', metrics=['accuracy'])\n",
    "        generator = generateXYchunk(profilemat, df_train, fam_map , posi_percent= .5 , nsamples = 50 )\n",
    "        sample = next(generator)\n",
    "        model.fit(itertools.cycle(generator) , steps_per_epoch = 300 , epochs = 50, callbacks=callbacks)\n",
    "        # Save the model\n",
    "        model.save(modelpath)\n",
    "\n"
   ]
  },
  {
   "cell_type": "code",
   "execution_count": 44,
   "metadata": {},
   "outputs": [],
   "source": [
    "#normal distance metrics to try\n",
    "\n",
    "from scipy.spatial.distance import euclidean , hamming, jaccard\n",
    "from sklearn.covariance import empirical_covariance\n",
    "from scipy.stats import pearsonr\n",
    "from keract import get_activations\n",
    "def pearsonR(v1,v2):\n",
    "        return -pearsonr(v1,v2)[0]\n",
    "\n",
    "visualize = False    \n",
    "if visualize == True:\n",
    "    for label in Datasets:\n",
    "        print(label)\n",
    "        df_test = Datasets[label]['Test']\n",
    "        fam_map = Datasets[label]['mapping']\n",
    "        profilemat = Datasets[label]['mat']\n",
    "        ydata =  {}\n",
    "\n",
    "        for func, name in [ (euclidean, 'Euclidean' ), (hamming,'Hamming') , (jaccard,'Jaccard') , (pearsonR,'Pearson') ]:\n",
    "            print(name)\n",
    "            generator = generateXYchunk(profilemat, df_test, fam_map , posi_percent= .5 , nsamples = 50 )\n",
    "            #test all the easy metrics\n",
    "            ypreds = []\n",
    "            ytruth = []\n",
    "            for X,y in generator:\n",
    "                #distances\n",
    "                x1 = X[:,0:int(X.shape[1]/2)]\n",
    "                x2 = X[:,int(X.shape[1]/2):]\n",
    "                predictions = np.array([ -func(x1[r,:],x2[r,:] ) for r in range(x1.shape[0]) ])\n",
    "                ypreds.append(predictions)\n",
    "                ytruth.append(y)\n",
    "            ytest= np.hstack(ytruth)\n",
    "            ypred = np.hstack(ypreds)\n",
    "            ydata[name] = { 'Ypred': ypred , 'Ytrue':ytest} \n",
    "        #get DNN values\n",
    "        print('DNN')\n",
    "        generator = generateXYchunk(profilemat, df_test, fam_map , posi_percent= .5 , nsamples = 50 )\n",
    "        mats = [(x,y) for x,y in generator ]\n",
    "        y_test = np.hstack([y for x,y in mats])\n",
    "        modelpath = './'+label+'_dropout_DNN.h5'\n",
    "        if os.path.exists(modelpath):\n",
    "            model = load_model(modelpath)\n",
    "\n",
    "\n",
    "        ypred = np.vstack([ model.predict(x) for x,y in mats])\n",
    "\n",
    "\n",
    "        #activations = [ get_activations(model, x , auto_compile=True) for x,y in mats] \n",
    "        #activations = activations[list(activations.keys())[0]]\n",
    "        #print( activations.shape)\n",
    "        #n_samples = activations.shape[0]\n",
    "        #activations = np.sum(activations,axis =0)/n_samples\n",
    "        #representations = np.sum(X_test, axis = 0)\n",
    "\n",
    "        #print(activations.shape)\n",
    "\n",
    "        #np.save(modelpath + 'activation.np' , activations)\n",
    "        #np.save(modelpath + 'representation.np', representations)\n",
    "\n",
    "        ydata['DNN'] ={ 'Ypred': ypred , 'Ytrue':ytest}\n",
    "        #plot ROC\n",
    "        print(ydata)\n",
    "        ROC_curve(ydata , label = label)\n",
    "        plt.show()\n"
   ]
  },
  {
   "cell_type": "code",
   "execution_count": 45,
   "metadata": {},
   "outputs": [],
   "source": [
    "#######################being the graph NN part of the paper #####################################"
   ]
  },
  {
   "cell_type": "code",
   "execution_count": 46,
   "metadata": {},
   "outputs": [
    {
     "name": "stdout",
     "output_type": "stream",
     "text": [
      "cuda\n"
     ]
    }
   ],
   "source": [
    "import torch.nn.functional as F\n",
    "import torch_geometric.transforms as T\n",
    "from torch_geometric.nn import ChebConv\n",
    "from torch_geometric.nn import  to_hetero\n",
    "from torch_geometric.data import Data\n",
    "from torch_geometric.loader import DataLoader\n",
    "from torch_geometric.data import HeteroData ,InMemoryDataset\n",
    "#create graphs on the fly to represent pairs of profiles\n",
    "device = torch.device('cuda' if torch.cuda.is_available() else 'cpu')\n",
    "print(device)"
   ]
  },
  {
   "cell_type": "code",
   "execution_count": 47,
   "metadata": {},
   "outputs": [],
   "source": [
    "import dendropy\n",
    "taxnwk = '/scratch/dmoi/datasets/birds/all_test_master_tree.nwk'\n",
    "with open( 'taxtree.nwk' , 'w') as treeout:\n",
    "    treeout.write(p.tree.write())\n",
    "dendrotree = dendropy.Tree.get(\n",
    "        data=p.tree.write(format=3),\n",
    "        rooting=\"force-rooted\",\n",
    "        suppress_internal_node_taxa=False,\n",
    "        schema='newick')"
   ]
  },
  {
   "cell_type": "code",
   "execution_count": 48,
   "metadata": {},
   "outputs": [],
   "source": [
    "nodes = set([ n.name for n in p.tree.traverse() ])\n",
    "dendrotree_nodes = set([str(n.taxon.label) if n.taxon else '-1' for n in dendrotree.nodes()] )"
   ]
  },
  {
   "cell_type": "code",
   "execution_count": 49,
   "metadata": {},
   "outputs": [
    {
     "name": "stdout",
     "output_type": "stream",
     "text": [
      "3508\n",
      "3508\n",
      "3508\n"
     ]
    }
   ],
   "source": [
    "print(len(nodes))\n",
    "print(len(dendrotree_nodes))\n",
    "print(len(nodes.intersection(dendrotree_nodes)))"
   ]
  },
  {
   "cell_type": "code",
   "execution_count": 50,
   "metadata": {},
   "outputs": [],
   "source": [
    "profile_mapper = { n.name:i for i,n in enumerate(p.tree.traverse()) }"
   ]
  },
  {
   "cell_type": "code",
   "execution_count": 51,
   "metadata": {},
   "outputs": [],
   "source": [
    "#setup the internal nodes for the fitch algo\n",
    "for i,l in enumerate(dendrotree.nodes()):\n",
    "    l.event = {}\n",
    "    l.scores = {}\n",
    "    l.symbols = None\n",
    "    l.char= None\n",
    "    l.matrow = i"
   ]
  },
  {
   "cell_type": "code",
   "execution_count": 52,
   "metadata": {},
   "outputs": [],
   "source": [
    "profile_mapper = { (n.taxon.label if n.taxon else '-1'):n.matrow for n in  dendrotree.nodes() }"
   ]
  },
  {
   "cell_type": "code",
   "execution_count": 53,
   "metadata": {},
   "outputs": [],
   "source": [
    "import smallpars\n",
    "#we're checking for interaction in a subset of species and propagating up\n",
    "allowed_symbols =set([0,1])\n",
    "transition_dict = { (c[0],c[1]):i for i,c in enumerate(itertools.permutations(allowed_symbols,2) ) }\n",
    "def calc_interaction_on_taxonomy(cog1,cog2,treein , verbose = False):\n",
    "    #set interaction states\n",
    "    #look for interactions in bloom\n",
    "    tree = copy.deepcopy(treein)\n",
    "    for i,l in enumerate(tree.leaf_nodes()):\n",
    "        l.event = {}\n",
    "        l.scores = {}\n",
    "        l.symbols = {}\n",
    "        l.scores = { c:10**10 for c in allowed_symbols }\n",
    "        if bfilter(cog1+'_'+cog2+'_'+l.taxon.label):\n",
    "            if verbose == True:\n",
    "                print(l.taxon.label)\n",
    "            l.char= 1\n",
    "            l.symbols = {1}\n",
    "        else:\n",
    "            l.char= 0\n",
    "            l.symbols = {0}\n",
    "        l.scores[l.char] = 0\n",
    "    t = smallpars.calculate_small_parsimony(tree ,allowed_symbols, transition_dict)\n",
    "    labels = np.array( [ n.char for n in t.nodes() ] )\n",
    "    return  labels"
   ]
  },
  {
   "cell_type": "code",
   "execution_count": 54,
   "metadata": {},
   "outputs": [],
   "source": [
    "def tree2Single_sparse_graph_updown(tree):\n",
    "    N = len(tree.nodes())\n",
    "    #mimic the fitch algo\n",
    "    #propagate up and down in separate graphs\n",
    "    index_up = np.vstack([ [n.matrow, c.matrow ] for n in tree.nodes() for c in n.child_nodes()])\n",
    "    index_down = np.vstack([ [c.matrow, n.matrow ] for n in tree.nodes() for c in n.child_nodes()])\n",
    "    \n",
    "    connectmat_up = scipy.sparse.lil_matrix(( N ,  N ) )\n",
    "    connectmat_down = scipy.sparse.lil_matrix(( N ,  N ) )\n",
    "    \n",
    "    connectmat_up[index_up[:,0],index_up[:,1]] = 1 \n",
    "    connectmat_down[index_down[:,0],index_down[:,1]] = 1 \n",
    "\n",
    "    diag = [[n,n] for n in range(N)]\n",
    "    connectmat_diag=scipy.sparse.lil_matrix(( N ,  N ) )\n",
    "    connectmat_diag[diag,diag] = 1 \n",
    "    \n",
    "    ntime = np.array([ n.distance_from_root() for n in tree.nodes()])\n",
    "    mtime = np.amax(ntime)\n",
    "    ntime/=mtime\n",
    "    \n",
    "    levels = np.array([ n.level() for n in tree.nodes() ] , dtype='double')\n",
    "    levels /= np.amax(levels)\n",
    "    \n",
    "    Norm_nchild= np.array( [ len(n.child_nodes()) for n in tree.nodes() ] ,dtype='double' )\n",
    "    mchild =np.amax(Norm_nchild)\n",
    "    Norm_nchild/=mchild \n",
    "    \n",
    "    Norm_nsister= np.array( [ len(n.sister_nodes()) for n in tree.nodes() ] ,dtype='double' )\n",
    "    msis =np.amax(Norm_nsister)\n",
    "    Norm_nsister/=msis    \n",
    "    \n",
    "    template_features = np.stack([ntime ,  Norm_nchild , Norm_nsister ]).T    \n",
    "    return connectmat_up, connectmat_down, connectmat_diag, template_features\n",
    "\n"
   ]
  },
  {
   "cell_type": "code",
   "execution_count": 55,
   "metadata": {},
   "outputs": [],
   "source": [
    "import copy\n",
    "import time\n",
    "import rand\n",
    "def getmrca(treein,taxset):\n",
    "    tree = copy.deepcopy(treein)\n",
    "    n = tree.mrca(taxon_labels=taxset)\n",
    "    subtree = dendropy.Tree(seed_node=n)\n",
    "    taxset = set([ t.taxon.label if n.taxon else '-1'  for t in subtree.nodes()])\n",
    "    matrows = [ t.matrow for t in subtree.nodes()]\n",
    "    return taxset, matrows , n"
   ]
  },
  {
   "cell_type": "code",
   "execution_count": 56,
   "metadata": {},
   "outputs": [],
   "source": [
    "def sparse2pairs(sparsemat, matrows = None):\n",
    "    if matrows :\n",
    "        sparsemat = sparsemat[matrows,:]\n",
    "        sparsemat = sparsemat[:,matrows]\n",
    "    sparsemat = scipy.sparse.find(sparsemat)\n",
    "    return np.vstack([sparsemat[0],sparsemat[1]])"
   ]
  },
  {
   "cell_type": "code",
   "execution_count": 59,
   "metadata": {},
   "outputs": [],
   "source": [
    "def create_data_updown( q, iolock, tree, coglinkdf, profiles , taxindex , posi_percent = .5 , verbose = False, loop= True):\n",
    "        connectmat_up, connectmat_down, connectmat_diag, template_features = tree2Single_sparse_graph_updown(tree)\n",
    "        num_total_nodes = template_features.shape[0]\n",
    "        with iolock:\n",
    "            print('dataset size' , len(coglinkdf))\n",
    "        lineiterator = coglinkdf.iterrows()\n",
    "        N = len(tree.nodes())\n",
    "        leafnodes = np.array([n.matrow for n in tree.leaf_nodes()])\n",
    "        overview_connect = scipy.sparse.lil_matrix(( N , 2 ) )\n",
    "        overview_connect[leafnodes,0] = 1\n",
    "        allfams = list(set(coglinkdf.fam1.unique()).union( set(coglinkdf.fam2.unique() ) ))\n",
    "        while True:\n",
    "            toss = scipy.stats.bernoulli.rvs(posi_percent, loc=0, size=1, random_state=None)\n",
    "            if verbose == True:\n",
    "                print('posi/nega',toss)\n",
    "            if toss == 0:\n",
    "                fam1 = random.choice(allfams)\n",
    "                fam2 = fam1\n",
    "                while fam1 == fam2:\n",
    "                    fam2 = random.choice(allfams)\n",
    "                labels = np.zeros((template_features.shape[0],))\n",
    "            else:\n",
    "                #positive sample\n",
    "                dfline = coglinkdf.sample(n=1, random_state = random.randint(1,1000)).iloc[0]\n",
    "                cog1= str(dfline.group1).replace(\"b\",'').replace(\"'\",'').strip()\n",
    "                cog2= str(dfline.group2).replace(\"b\",'').replace(\"'\",'').strip()\n",
    "                fam1 = dfline.fam1\n",
    "                fam2 = dfline.fam2\n",
    "                #get the features from fitch and profile\n",
    "                labels = calc_interaction_on_taxonomy(cog1,cog2,tree)\n",
    "            profile1 = profiles[fam1]['tree']\n",
    "            profile2 = profiles[fam2]['tree']\n",
    "            presence1 = set([ n.name  for n in profile1.get_leaves() if n.nbr_genes > 0  ])\n",
    "            presence2 = set([ n.name  for n in profile2.get_leaves() if n.nbr_genes > 0  ])\n",
    "            #restrict graph to clades where both the proteins are found\n",
    "            skip = False\n",
    "            try:\n",
    "                taxset,matrows,n = getmrca(tree,presence1.intersection(presence2))\n",
    "            except ValueError:\n",
    "                #no species overlap\n",
    "                skip = True    \n",
    "            if skip == False:\n",
    "                subconnect_up = sparse2pairs(connectmat_up, matrows)\n",
    "                subconnect_down = sparse2pairs(connectmat_down, matrows)\n",
    "                subdiag = sparse2pairs(connectmat_diag, matrows)\n",
    "                suboverview = overview_connect[matrows,:]                \n",
    "                suboverview = sparse2pairs(suboverview)\n",
    "                \n",
    "                nodefeatures = []\n",
    "                for i,tp in enumerate([profile1,profile2]):    \n",
    "                    profilefeatures = np.zeros((template_features.shape[0],3) )\n",
    "                    #find on which nodes the events happened\n",
    "                    losses = [ taxindex[n.name]  for n in tp.traverse() if n.lost and n.name in taxset ]\n",
    "                    dupl = [ taxindex[n.name]  for n in tp.traverse() if n.dupl and n.name in taxset  ]\n",
    "                    presence = [ taxindex[n.name]  for n in tp.traverse() if n.nbr_genes > 0  and n.name in taxset ]\n",
    "                    profilefeatures[losses, 0] = 1\n",
    "                    profilefeatures[dupl, 1] = 1\n",
    "                    profilefeatures[presence, 2] = 1\n",
    "                    nodefeatures.append(profilefeatures)\n",
    "                \n",
    "                nodefeatures=np.hstack(nodefeatures)\n",
    "                sub_template_features= template_features[matrows,:]\n",
    "                sub_node_features= nodefeatures[matrows,:]\n",
    "                \n",
    "                sub_node_features = np.hstack([sub_template_features , sub_node_features])\n",
    "                \n",
    "                labels = labels[matrows]\n",
    "                \n",
    "                \n",
    "                if verbose == True:\n",
    "                    print('features',nodefeatures)\n",
    "                    print( 'labels' , labels)\n",
    "                \n",
    "                data = HeteroData()            \n",
    "                data['phylonodes_up'].x = torch.tensor(sub_node_features, dtype=torch.double )\n",
    "                data['phylonodes_down'].x = torch.tensor(sub_node_features, dtype=torch.double )\n",
    "                data['godnode'].x =torch.tensor(  np.zeros((1,sub_node_features.shape[1]))  ,  dtype=torch.double )\n",
    "\n",
    "                data['phylonodes_up', 'phylolink_up', 'phylonodes_up'].edge_index = torch.tensor(subconnect_up ,  dtype=torch.long )\n",
    "                data['phylonodes_down', 'phylolink_down', 'phylonodes_down'].edge_index = torch.tensor(subconnect_down ,  dtype=torch.long )             \n",
    "                data['phylonodes_up', 'phylolink_up_down', 'phylonodes_down'].edge_index = torch.tensor( subdiag ,  dtype=torch.long )\n",
    "                data['phylonodes_down', 'phylolink_down_up', 'phylonodes_up'].edge_index = torch.tensor( subdiag ,  dtype=torch.long )\n",
    "                \n",
    "                data['phylonodes_down', 'informs', 'godnode'].edge_index = torch.tensor(suboverview,  dtype=torch.long )\n",
    "                data['phylonodes_up', 'informs', 'godnode'].edge_index = torch.tensor(suboverview,  dtype=torch.long )\n",
    "                                \n",
    "                #add 2 label classes                \n",
    "                data['phylonodes_up'].y =torch.tensor(labels  ,  dtype=torch.long )\n",
    "                data['phylonodes_down'].y =torch.tensor(labels  ,  dtype=torch.long )\n",
    "                data['godnode'].y =torch.tensor( np.ones((1,))*toss  ,  dtype=torch.long )\n",
    "                \n",
    "                data = T.AddSelfLoops()(data)\n",
    "                data = T.NormalizeFeatures()(data)\n",
    "                q.put(data)\n",
    "                \n",
    "                #yield data\n",
    "                \n",
    "            "
   ]
  },
  {
   "cell_type": "code",
   "execution_count": null,
   "metadata": {},
   "outputs": [
    {
     "name": "stdout",
     "output_type": "stream",
     "text": [
      "dataset size 389499\n",
      "dataset size "
     ]
    },
    {
     "name": "stderr",
     "output_type": "stream",
     "text": [
      "Process ForkPoolWorker-376:\n"
     ]
    },
    {
     "name": "stdout",
     "output_type": "stream",
     "text": [
      "389499\n"
     ]
    },
    {
     "name": "stderr",
     "output_type": "stream",
     "text": [
      "Traceback (most recent call last):\n"
     ]
    },
    {
     "name": "stdout",
     "output_type": "stream",
     "text": [
      "dataset size"
     ]
    },
    {
     "name": "stderr",
     "output_type": "stream",
     "text": [
      "  File \"/scratch/dmoi/condaenvs/ML2/lib/python3.9/multiprocessing/process.py\", line 315, in _bootstrap\n",
      "    self.run()\n",
      "Process ForkPoolWorker-377:\n"
     ]
    },
    {
     "name": "stdout",
     "output_type": "stream",
     "text": [
      " "
     ]
    },
    {
     "name": "stderr",
     "output_type": "stream",
     "text": [
      "  File \"/scratch/dmoi/condaenvs/ML2/lib/python3.9/multiprocessing/process.py\", line 108, in run\n",
      "    self._target(*self._args, **self._kwargs)\n",
      "Traceback (most recent call last):\n"
     ]
    },
    {
     "name": "stdout",
     "output_type": "stream",
     "text": [
      "389499"
     ]
    },
    {
     "name": "stderr",
     "output_type": "stream",
     "text": [
      "  File \"/scratch/dmoi/condaenvs/ML2/lib/python3.9/multiprocessing/pool.py\", line 109, in worker\n",
      "    initializer(*initargs)\n",
      "  File \"/scratch/dmoi/condaenvs/ML2/lib/python3.9/multiprocessing/process.py\", line 315, in _bootstrap\n",
      "    self.run()\n"
     ]
    },
    {
     "name": "stdout",
     "output_type": "stream",
     "text": [
      "\n"
     ]
    },
    {
     "name": "stderr",
     "output_type": "stream",
     "text": [
      "  File \"/tmp/4730631/ipykernel_631294/4073675763.py\", line 13, in create_data_updown\n",
      "    toss = scipy.stats.bernoulli.rvs(posi_percent, loc=0, size=1, random_state=random.randint())\n",
      "  File \"/scratch/dmoi/condaenvs/ML2/lib/python3.9/multiprocessing/process.py\", line 108, in run\n",
      "    self._target(*self._args, **self._kwargs)\n",
      "TypeError: randint() missing 2 required positional arguments: 'a' and 'b'\n",
      "  File \"/scratch/dmoi/condaenvs/ML2/lib/python3.9/multiprocessing/pool.py\", line 109, in worker\n",
      "    initializer(*initargs)\n",
      "Process ForkPoolWorker-378:\n",
      "  File \"/tmp/4730631/ipykernel_631294/4073675763.py\", line 13, in create_data_updown\n",
      "    toss = scipy.stats.bernoulli.rvs(posi_percent, loc=0, size=1, random_state=random.randint())\n",
      "Traceback (most recent call last):\n",
      "TypeError: randint() missing 2 required positional arguments: 'a' and 'b'\n",
      "  File \"/scratch/dmoi/condaenvs/ML2/lib/python3.9/multiprocessing/process.py\", line 315, in _bootstrap\n",
      "    self.run()\n"
     ]
    },
    {
     "name": "stdout",
     "output_type": "stream",
     "text": [
      "dataset size"
     ]
    },
    {
     "name": "stderr",
     "output_type": "stream",
     "text": [
      "  File \"/scratch/dmoi/condaenvs/ML2/lib/python3.9/multiprocessing/process.py\", line 108, in run\n",
      "    self._target(*self._args, **self._kwargs)\n"
     ]
    },
    {
     "name": "stdout",
     "output_type": "stream",
     "text": [
      " "
     ]
    },
    {
     "name": "stderr",
     "output_type": "stream",
     "text": [
      "  File \"/scratch/dmoi/condaenvs/ML2/lib/python3.9/multiprocessing/pool.py\", line 109, in worker\n",
      "    initializer(*initargs)\n"
     ]
    },
    {
     "name": "stdout",
     "output_type": "stream",
     "text": [
      "389499\n"
     ]
    },
    {
     "name": "stderr",
     "output_type": "stream",
     "text": [
      "  File \"/tmp/4730631/ipykernel_631294/4073675763.py\", line 13, in create_data_updown\n",
      "    toss = scipy.stats.bernoulli.rvs(posi_percent, loc=0, size=1, random_state=random.randint())\n",
      "TypeError: randint() missing 2 required positional arguments: 'a' and 'b'\n",
      "Process ForkPoolWorker-379:\n",
      "Traceback (most recent call last):\n",
      "  File \"/scratch/dmoi/condaenvs/ML2/lib/python3.9/multiprocessing/process.py\", line 315, in _bootstrap\n",
      "    self.run()\n",
      "  File \"/scratch/dmoi/condaenvs/ML2/lib/python3.9/multiprocessing/process.py\", line 108, in run\n",
      "    self._target(*self._args, **self._kwargs)\n",
      "  File \"/scratch/dmoi/condaenvs/ML2/lib/python3.9/multiprocessing/pool.py\", line 109, in worker\n",
      "    initializer(*initargs)\n",
      "  File \"/tmp/4730631/ipykernel_631294/4073675763.py\", line 13, in create_data_updown\n",
      "    toss = scipy.stats.bernoulli.rvs(posi_percent, loc=0, size=1, random_state=random.randint())\n",
      "TypeError: randint() missing 2 required positional arguments: 'a' and 'b'\n"
     ]
    },
    {
     "name": "stdout",
     "output_type": "stream",
     "text": [
      "dataset sizedataset size  97133\n",
      "389499"
     ]
    },
    {
     "name": "stderr",
     "output_type": "stream",
     "text": [
      "Process ForkPoolWorker-380:\n"
     ]
    },
    {
     "name": "stdout",
     "output_type": "stream",
     "text": [
      "dataset size\n",
      "dataset size"
     ]
    },
    {
     "name": "stderr",
     "output_type": "stream",
     "text": [
      "Process ForkPoolWorker-383:\n",
      "Traceback (most recent call last):\n"
     ]
    },
    {
     "name": "stdout",
     "output_type": "stream",
     "text": [
      "  "
     ]
    },
    {
     "name": "stderr",
     "output_type": "stream",
     "text": [
      "Traceback (most recent call last):\n",
      "  File \"/scratch/dmoi/condaenvs/ML2/lib/python3.9/multiprocessing/process.py\", line 315, in _bootstrap\n",
      "    self.run()\n"
     ]
    },
    {
     "name": "stdout",
     "output_type": "stream",
     "text": [
      "97133\n"
     ]
    },
    {
     "name": "stderr",
     "output_type": "stream",
     "text": [
      "  File \"/scratch/dmoi/condaenvs/ML2/lib/python3.9/multiprocessing/process.py\", line 315, in _bootstrap\n",
      "    self.run()\n"
     ]
    },
    {
     "name": "stdout",
     "output_type": "stream",
     "text": [
      "97133"
     ]
    },
    {
     "name": "stderr",
     "output_type": "stream",
     "text": [
      "  File \"/scratch/dmoi/condaenvs/ML2/lib/python3.9/multiprocessing/process.py\", line 108, in run\n",
      "    self._target(*self._args, **self._kwargs)\n",
      "  File \"/scratch/dmoi/condaenvs/ML2/lib/python3.9/multiprocessing/process.py\", line 108, in run\n",
      "    self._target(*self._args, **self._kwargs)\n",
      "  File \"/scratch/dmoi/condaenvs/ML2/lib/python3.9/multiprocessing/pool.py\", line 109, in worker\n",
      "    initializer(*initargs)\n"
     ]
    },
    {
     "name": "stdout",
     "output_type": "stream",
     "text": [
      "dataset size"
     ]
    },
    {
     "name": "stderr",
     "output_type": "stream",
     "text": [
      "Process ForkPoolWorker-381:\n"
     ]
    },
    {
     "name": "stdout",
     "output_type": "stream",
     "text": [
      "\n"
     ]
    },
    {
     "name": "stderr",
     "output_type": "stream",
     "text": [
      "Process ForkPoolWorker-382:\n"
     ]
    },
    {
     "name": "stdout",
     "output_type": "stream",
     "text": [
      "dataset size"
     ]
    },
    {
     "name": "stderr",
     "output_type": "stream",
     "text": [
      "Traceback (most recent call last):\n",
      "  File \"/scratch/dmoi/condaenvs/ML2/lib/python3.9/multiprocessing/pool.py\", line 109, in worker\n",
      "    initializer(*initargs)\n",
      "  File \"/tmp/4730631/ipykernel_631294/2899797808.py\", line 24, in create_data_updown\n",
      "    dfline = coglinkdf.sample(n=1, random_state = time.localtime() ).iloc[0]\n"
     ]
    },
    {
     "name": "stdout",
     "output_type": "stream",
     "text": [
      "  "
     ]
    },
    {
     "name": "stderr",
     "output_type": "stream",
     "text": [
      "  File \"/tmp/4730631/ipykernel_631294/4073675763.py\", line 13, in create_data_updown\n",
      "    toss = scipy.stats.bernoulli.rvs(posi_percent, loc=0, size=1, random_state=random.randint())\n",
      "  File \"/scratch/dmoi/condaenvs/ML2/lib/python3.9/site-packages/pandas/core/generic.py\", line 5284, in sample\n",
      "    rs = com.random_state(random_state)\n"
     ]
    },
    {
     "name": "stdout",
     "output_type": "stream",
     "text": [
      "97133"
     ]
    },
    {
     "name": "stderr",
     "output_type": "stream",
     "text": [
      "TypeError: randint() missing 2 required positional arguments: 'a' and 'b'\n",
      "  File \"/scratch/dmoi/condaenvs/ML2/lib/python3.9/site-packages/pandas/core/common.py\", line 431, in random_state\n",
      "    raise ValueError(\n"
     ]
    },
    {
     "name": "stdout",
     "output_type": "stream",
     "text": [
      "\n",
      "389499"
     ]
    },
    {
     "name": "stderr",
     "output_type": "stream",
     "text": [
      "Process ForkPoolWorker-386:\n"
     ]
    },
    {
     "name": "stdout",
     "output_type": "stream",
     "text": [
      "dataset size"
     ]
    },
    {
     "name": "stderr",
     "output_type": "stream",
     "text": [
      "ValueError: random_state must be an integer, array-like, a BitGenerator, a numpy RandomState, or None\n",
      "Traceback (most recent call last):\n",
      "  File \"/scratch/dmoi/condaenvs/ML2/lib/python3.9/multiprocessing/process.py\", line 315, in _bootstrap\n",
      "    self.run()\n"
     ]
    },
    {
     "name": "stdout",
     "output_type": "stream",
     "text": [
      " "
     ]
    },
    {
     "name": "stderr",
     "output_type": "stream",
     "text": [
      "  File \"/scratch/dmoi/condaenvs/ML2/lib/python3.9/multiprocessing/process.py\", line 108, in run\n",
      "    self._target(*self._args, **self._kwargs)\n",
      "  File \"/scratch/dmoi/condaenvs/ML2/lib/python3.9/multiprocessing/process.py\", line 315, in _bootstrap\n",
      "    self.run()\n"
     ]
    },
    {
     "name": "stdout",
     "output_type": "stream",
     "text": [
      "97133"
     ]
    },
    {
     "name": "stderr",
     "output_type": "stream",
     "text": [
      "  File \"/scratch/dmoi/condaenvs/ML2/lib/python3.9/multiprocessing/pool.py\", line 109, in worker\n",
      "    initializer(*initargs)\n"
     ]
    },
    {
     "name": "stdout",
     "output_type": "stream",
     "text": [
      "\n"
     ]
    },
    {
     "name": "stderr",
     "output_type": "stream",
     "text": [
      "Traceback (most recent call last):\n",
      "  File \"/scratch/dmoi/condaenvs/ML2/lib/python3.9/multiprocessing/process.py\", line 108, in run\n",
      "    self._target(*self._args, **self._kwargs)\n",
      "  File \"/tmp/4730631/ipykernel_631294/2899797808.py\", line 24, in create_data_updown\n",
      "    dfline = coglinkdf.sample(n=1, random_state = time.localtime() ).iloc[0]\n"
     ]
    },
    {
     "name": "stdout",
     "output_type": "stream",
     "text": [
      "\n"
     ]
    },
    {
     "name": "stderr",
     "output_type": "stream",
     "text": [
      "  File \"/scratch/dmoi/condaenvs/ML2/lib/python3.9/multiprocessing/process.py\", line 315, in _bootstrap\n",
      "    self.run()\n"
     ]
    },
    {
     "name": "stdout",
     "output_type": "stream",
     "text": [
      "dataset size"
     ]
    },
    {
     "name": "stderr",
     "output_type": "stream",
     "text": [
      "Process ForkPoolWorker-384:\n",
      "  File \"/scratch/dmoi/condaenvs/ML2/lib/python3.9/multiprocessing/pool.py\", line 109, in worker\n",
      "    initializer(*initargs)\n",
      "  File \"/scratch/dmoi/condaenvs/ML2/lib/python3.9/site-packages/pandas/core/generic.py\", line 5284, in sample\n",
      "    rs = com.random_state(random_state)\n",
      "Process ForkPoolWorker-388:\n"
     ]
    },
    {
     "name": "stdout",
     "output_type": "stream",
     "text": [
      " "
     ]
    },
    {
     "name": "stderr",
     "output_type": "stream",
     "text": [
      "Traceback (most recent call last):\n",
      "  File \"/tmp/4730631/ipykernel_631294/4073675763.py\", line 13, in create_data_updown\n",
      "    toss = scipy.stats.bernoulli.rvs(posi_percent, loc=0, size=1, random_state=random.randint())\n"
     ]
    },
    {
     "name": "stdout",
     "output_type": "stream",
     "text": [
      "97133"
     ]
    },
    {
     "name": "stderr",
     "output_type": "stream",
     "text": [
      "TypeError: randint() missing 2 required positional arguments: 'a' and 'b'\n"
     ]
    },
    {
     "name": "stdout",
     "output_type": "stream",
     "text": [
      "\n"
     ]
    },
    {
     "name": "stderr",
     "output_type": "stream",
     "text": [
      "  File \"/scratch/dmoi/condaenvs/ML2/lib/python3.9/multiprocessing/process.py\", line 315, in _bootstrap\n",
      "    self.run()\n",
      "  File \"/scratch/dmoi/condaenvs/ML2/lib/python3.9/multiprocessing/process.py\", line 108, in run\n",
      "    self._target(*self._args, **self._kwargs)\n",
      "  File \"/scratch/dmoi/condaenvs/ML2/lib/python3.9/multiprocessing/pool.py\", line 109, in worker\n",
      "    initializer(*initargs)\n"
     ]
    },
    {
     "name": "stdout",
     "output_type": "stream",
     "text": [
      "dataset size"
     ]
    },
    {
     "name": "stderr",
     "output_type": "stream",
     "text": [
      "Process ForkPoolWorker-385:\n",
      "  File \"/tmp/4730631/ipykernel_631294/4073675763.py\", line 13, in create_data_updown\n",
      "    toss = scipy.stats.bernoulli.rvs(posi_percent, loc=0, size=1, random_state=random.randint())\n"
     ]
    },
    {
     "name": "stdout",
     "output_type": "stream",
     "text": [
      " "
     ]
    },
    {
     "name": "stderr",
     "output_type": "stream",
     "text": [
      "Traceback (most recent call last):\n",
      "TypeError: randint() missing 2 required positional arguments: 'a' and 'b'\n"
     ]
    },
    {
     "name": "stdout",
     "output_type": "stream",
     "text": [
      "389499"
     ]
    },
    {
     "name": "stderr",
     "output_type": "stream",
     "text": [
      "  File \"/scratch/dmoi/condaenvs/ML2/lib/python3.9/multiprocessing/process.py\", line 315, in _bootstrap\n",
      "    self.run()\n"
     ]
    },
    {
     "name": "stdout",
     "output_type": "stream",
     "text": [
      "\n"
     ]
    },
    {
     "name": "stderr",
     "output_type": "stream",
     "text": [
      "  File \"/scratch/dmoi/condaenvs/ML2/lib/python3.9/multiprocessing/process.py\", line 108, in run\n",
      "    self._target(*self._args, **self._kwargs)\n"
     ]
    },
    {
     "name": "stdout",
     "output_type": "stream",
     "text": [
      "dataset size"
     ]
    },
    {
     "name": "stderr",
     "output_type": "stream",
     "text": [
      "Process ForkPoolWorker-387:\n",
      "  File \"/scratch/dmoi/condaenvs/ML2/lib/python3.9/multiprocessing/pool.py\", line 109, in worker\n",
      "    initializer(*initargs)\n"
     ]
    },
    {
     "name": "stdout",
     "output_type": "stream",
     "text": [
      " "
     ]
    },
    {
     "name": "stderr",
     "output_type": "stream",
     "text": [
      "Traceback (most recent call last):\n",
      "  File \"/tmp/4730631/ipykernel_631294/4073675763.py\", line 13, in create_data_updown\n",
      "    toss = scipy.stats.bernoulli.rvs(posi_percent, loc=0, size=1, random_state=random.randint())\n"
     ]
    },
    {
     "name": "stdout",
     "output_type": "stream",
     "text": [
      "97133"
     ]
    },
    {
     "name": "stderr",
     "output_type": "stream",
     "text": [
      "  File \"/scratch/dmoi/condaenvs/ML2/lib/python3.9/multiprocessing/process.py\", line 315, in _bootstrap\n",
      "    self.run()\n",
      "TypeError: randint() missing 2 required positional arguments: 'a' and 'b'\n"
     ]
    },
    {
     "name": "stdout",
     "output_type": "stream",
     "text": [
      "\n"
     ]
    },
    {
     "name": "stderr",
     "output_type": "stream",
     "text": [
      "  File \"/scratch/dmoi/condaenvs/ML2/lib/python3.9/multiprocessing/process.py\", line 108, in run\n",
      "    self._target(*self._args, **self._kwargs)\n"
     ]
    },
    {
     "name": "stdout",
     "output_type": "stream",
     "text": [
      "dataset size"
     ]
    },
    {
     "name": "stderr",
     "output_type": "stream",
     "text": [
      "  File \"/scratch/dmoi/condaenvs/ML2/lib/python3.9/multiprocessing/pool.py\", line 109, in worker\n",
      "    initializer(*initargs)\n",
      "Process ForkPoolWorker-389:\n"
     ]
    },
    {
     "name": "stdout",
     "output_type": "stream",
     "text": [
      " "
     ]
    },
    {
     "name": "stderr",
     "output_type": "stream",
     "text": [
      "  File \"/tmp/4730631/ipykernel_631294/4073675763.py\", line 13, in create_data_updown\n",
      "    toss = scipy.stats.bernoulli.rvs(posi_percent, loc=0, size=1, random_state=random.randint())\n",
      "Traceback (most recent call last):\n"
     ]
    },
    {
     "name": "stdout",
     "output_type": "stream",
     "text": [
      "389499"
     ]
    },
    {
     "name": "stderr",
     "output_type": "stream",
     "text": [
      "TypeError: randint() missing 2 required positional arguments: 'a' and 'b'\n",
      "  File \"/scratch/dmoi/condaenvs/ML2/lib/python3.9/multiprocessing/process.py\", line 315, in _bootstrap\n",
      "    self.run()\n",
      "  File \"/scratch/dmoi/condaenvs/ML2/lib/python3.9/multiprocessing/process.py\", line 108, in run\n",
      "    self._target(*self._args, **self._kwargs)\n"
     ]
    },
    {
     "name": "stdout",
     "output_type": "stream",
     "text": [
      "\n"
     ]
    },
    {
     "name": "stderr",
     "output_type": "stream",
     "text": [
      "  File \"/scratch/dmoi/condaenvs/ML2/lib/python3.9/multiprocessing/pool.py\", line 109, in worker\n",
      "    initializer(*initargs)\n"
     ]
    },
    {
     "name": "stdout",
     "output_type": "stream",
     "text": [
      "dataset size"
     ]
    },
    {
     "name": "stderr",
     "output_type": "stream",
     "text": [
      "  File \"/tmp/4730631/ipykernel_631294/4073675763.py\", line 13, in create_data_updown\n",
      "    toss = scipy.stats.bernoulli.rvs(posi_percent, loc=0, size=1, random_state=random.randint())\n",
      "Process ForkPoolWorker-390:\n"
     ]
    },
    {
     "name": "stdout",
     "output_type": "stream",
     "text": [
      " "
     ]
    },
    {
     "name": "stderr",
     "output_type": "stream",
     "text": [
      "TypeError: randint() missing 2 required positional arguments: 'a' and 'b'\n",
      "Traceback (most recent call last):\n"
     ]
    },
    {
     "name": "stdout",
     "output_type": "stream",
     "text": [
      "97133"
     ]
    },
    {
     "name": "stderr",
     "output_type": "stream",
     "text": [
      "  File \"/scratch/dmoi/condaenvs/ML2/lib/python3.9/multiprocessing/process.py\", line 315, in _bootstrap\n",
      "    self.run()\n"
     ]
    },
    {
     "name": "stdout",
     "output_type": "stream",
     "text": [
      "\n"
     ]
    },
    {
     "name": "stderr",
     "output_type": "stream",
     "text": [
      "  File \"/scratch/dmoi/condaenvs/ML2/lib/python3.9/multiprocessing/process.py\", line 108, in run\n",
      "    self._target(*self._args, **self._kwargs)\n"
     ]
    },
    {
     "name": "stdout",
     "output_type": "stream",
     "text": [
      "dataset size"
     ]
    },
    {
     "name": "stderr",
     "output_type": "stream",
     "text": [
      "Process ForkPoolWorker-391:\n",
      "  File \"/scratch/dmoi/condaenvs/ML2/lib/python3.9/multiprocessing/pool.py\", line 109, in worker\n",
      "    initializer(*initargs)\n"
     ]
    },
    {
     "name": "stdout",
     "output_type": "stream",
     "text": [
      " "
     ]
    },
    {
     "name": "stderr",
     "output_type": "stream",
     "text": [
      "Traceback (most recent call last):\n",
      "  File \"/tmp/4730631/ipykernel_631294/4073675763.py\", line 13, in create_data_updown\n",
      "    toss = scipy.stats.bernoulli.rvs(posi_percent, loc=0, size=1, random_state=random.randint())\n"
     ]
    },
    {
     "name": "stdout",
     "output_type": "stream",
     "text": [
      "389499"
     ]
    },
    {
     "name": "stderr",
     "output_type": "stream",
     "text": [
      "  File \"/scratch/dmoi/condaenvs/ML2/lib/python3.9/multiprocessing/process.py\", line 315, in _bootstrap\n",
      "    self.run()\n",
      "TypeError: randint() missing 2 required positional arguments: 'a' and 'b'\n"
     ]
    },
    {
     "name": "stdout",
     "output_type": "stream",
     "text": [
      "\n"
     ]
    },
    {
     "name": "stderr",
     "output_type": "stream",
     "text": [
      "  File \"/scratch/dmoi/condaenvs/ML2/lib/python3.9/multiprocessing/process.py\", line 108, in run\n",
      "    self._target(*self._args, **self._kwargs)\n",
      "  File \"/scratch/dmoi/condaenvs/ML2/lib/python3.9/multiprocessing/pool.py\", line 109, in worker\n",
      "    initializer(*initargs)\n",
      "Process ForkPoolWorker-392:\n",
      "  File \"/tmp/4730631/ipykernel_631294/4073675763.py\", line 13, in create_data_updown\n",
      "    toss = scipy.stats.bernoulli.rvs(posi_percent, loc=0, size=1, random_state=random.randint())\n",
      "TypeError: randint() missing 2 required positional arguments: 'a' and 'b'\n",
      "Traceback (most recent call last):\n",
      "  File \"/scratch/dmoi/condaenvs/ML2/lib/python3.9/multiprocessing/process.py\", line 315, in _bootstrap\n",
      "    self.run()\n",
      "  File \"/scratch/dmoi/condaenvs/ML2/lib/python3.9/multiprocessing/process.py\", line 108, in run\n",
      "    self._target(*self._args, **self._kwargs)\n",
      "  File \"/scratch/dmoi/condaenvs/ML2/lib/python3.9/multiprocessing/pool.py\", line 109, in worker\n",
      "    initializer(*initargs)\n",
      "  File \"/tmp/4730631/ipykernel_631294/4073675763.py\", line 13, in create_data_updown\n",
      "    toss = scipy.stats.bernoulli.rvs(posi_percent, loc=0, size=1, random_state=random.randint())\n",
      "TypeError: randint() missing 2 required positional arguments: 'a' and 'b'\n"
     ]
    },
    {
     "name": "stdout",
     "output_type": "stream",
     "text": [
      "dataset size 97133\n"
     ]
    },
    {
     "name": "stderr",
     "output_type": "stream",
     "text": [
      "Process ForkPoolWorker-393:\n"
     ]
    },
    {
     "name": "stdout",
     "output_type": "stream",
     "text": [
      "dataset size"
     ]
    },
    {
     "name": "stderr",
     "output_type": "stream",
     "text": [
      "Traceback (most recent call last):\n"
     ]
    },
    {
     "name": "stdout",
     "output_type": "stream",
     "text": [
      " 389499"
     ]
    },
    {
     "name": "stderr",
     "output_type": "stream",
     "text": [
      "  File \"/scratch/dmoi/condaenvs/ML2/lib/python3.9/multiprocessing/process.py\", line 315, in _bootstrap\n",
      "    self.run()\n",
      "  File \"/scratch/dmoi/condaenvs/ML2/lib/python3.9/multiprocessing/process.py\", line 108, in run\n",
      "    self._target(*self._args, **self._kwargs)\n"
     ]
    },
    {
     "name": "stdout",
     "output_type": "stream",
     "text": [
      "\n"
     ]
    },
    {
     "name": "stderr",
     "output_type": "stream",
     "text": [
      "  File \"/scratch/dmoi/condaenvs/ML2/lib/python3.9/multiprocessing/pool.py\", line 109, in worker\n",
      "    initializer(*initargs)\n"
     ]
    },
    {
     "name": "stdout",
     "output_type": "stream",
     "text": [
      "dataset size"
     ]
    },
    {
     "name": "stderr",
     "output_type": "stream",
     "text": [
      "  File \"/tmp/4730631/ipykernel_631294/4073675763.py\", line 13, in create_data_updown\n",
      "    toss = scipy.stats.bernoulli.rvs(posi_percent, loc=0, size=1, random_state=random.randint())\n",
      "Process ForkPoolWorker-395:\n"
     ]
    },
    {
     "name": "stdout",
     "output_type": "stream",
     "text": [
      " "
     ]
    },
    {
     "name": "stderr",
     "output_type": "stream",
     "text": [
      "TypeError: randint() missing 2 required positional arguments: 'a' and 'b'\n",
      "Traceback (most recent call last):\n"
     ]
    },
    {
     "name": "stdout",
     "output_type": "stream",
     "text": [
      "97133"
     ]
    },
    {
     "name": "stderr",
     "output_type": "stream",
     "text": [
      "  File \"/scratch/dmoi/condaenvs/ML2/lib/python3.9/multiprocessing/process.py\", line 315, in _bootstrap\n",
      "    self.run()\n"
     ]
    },
    {
     "name": "stdout",
     "output_type": "stream",
     "text": [
      "\n"
     ]
    },
    {
     "name": "stderr",
     "output_type": "stream",
     "text": [
      "  File \"/scratch/dmoi/condaenvs/ML2/lib/python3.9/multiprocessing/process.py\", line 108, in run\n",
      "    self._target(*self._args, **self._kwargs)\n"
     ]
    },
    {
     "name": "stdout",
     "output_type": "stream",
     "text": [
      "dataset size"
     ]
    },
    {
     "name": "stderr",
     "output_type": "stream",
     "text": [
      "Process ForkPoolWorker-394:\n",
      "  File \"/scratch/dmoi/condaenvs/ML2/lib/python3.9/multiprocessing/pool.py\", line 109, in worker\n",
      "    initializer(*initargs)\n"
     ]
    },
    {
     "name": "stdout",
     "output_type": "stream",
     "text": [
      " "
     ]
    },
    {
     "name": "stderr",
     "output_type": "stream",
     "text": [
      "Traceback (most recent call last):\n",
      "  File \"/tmp/4730631/ipykernel_631294/4073675763.py\", line 13, in create_data_updown\n",
      "    toss = scipy.stats.bernoulli.rvs(posi_percent, loc=0, size=1, random_state=random.randint())\n"
     ]
    },
    {
     "name": "stdout",
     "output_type": "stream",
     "text": [
      "389499"
     ]
    },
    {
     "name": "stderr",
     "output_type": "stream",
     "text": [
      "  File \"/scratch/dmoi/condaenvs/ML2/lib/python3.9/multiprocessing/process.py\", line 315, in _bootstrap\n",
      "    self.run()\n",
      "TypeError: randint() missing 2 required positional arguments: 'a' and 'b'\n"
     ]
    },
    {
     "name": "stdout",
     "output_type": "stream",
     "text": [
      "\n"
     ]
    },
    {
     "name": "stderr",
     "output_type": "stream",
     "text": [
      "  File \"/scratch/dmoi/condaenvs/ML2/lib/python3.9/multiprocessing/process.py\", line 108, in run\n",
      "    self._target(*self._args, **self._kwargs)\n"
     ]
    },
    {
     "name": "stdout",
     "output_type": "stream",
     "text": [
      "dataset size"
     ]
    },
    {
     "name": "stderr",
     "output_type": "stream",
     "text": [
      "Process ForkPoolWorker-396:\n",
      "  File \"/scratch/dmoi/condaenvs/ML2/lib/python3.9/multiprocessing/pool.py\", line 109, in worker\n",
      "    initializer(*initargs)\n"
     ]
    },
    {
     "name": "stdout",
     "output_type": "stream",
     "text": [
      " "
     ]
    },
    {
     "name": "stderr",
     "output_type": "stream",
     "text": [
      "Traceback (most recent call last):\n",
      "  File \"/tmp/4730631/ipykernel_631294/4073675763.py\", line 13, in create_data_updown\n",
      "    toss = scipy.stats.bernoulli.rvs(posi_percent, loc=0, size=1, random_state=random.randint())\n"
     ]
    },
    {
     "name": "stdout",
     "output_type": "stream",
     "text": [
      "97133"
     ]
    },
    {
     "name": "stderr",
     "output_type": "stream",
     "text": [
      "  File \"/scratch/dmoi/condaenvs/ML2/lib/python3.9/multiprocessing/process.py\", line 315, in _bootstrap\n",
      "    self.run()\n",
      "TypeError: randint() missing 2 required positional arguments: 'a' and 'b'\n"
     ]
    },
    {
     "name": "stdout",
     "output_type": "stream",
     "text": [
      "\n"
     ]
    },
    {
     "name": "stderr",
     "output_type": "stream",
     "text": [
      "  File \"/scratch/dmoi/condaenvs/ML2/lib/python3.9/multiprocessing/process.py\", line 108, in run\n",
      "    self._target(*self._args, **self._kwargs)\n"
     ]
    },
    {
     "name": "stdout",
     "output_type": "stream",
     "text": [
      "dataset size"
     ]
    },
    {
     "name": "stderr",
     "output_type": "stream",
     "text": [
      "  File \"/scratch/dmoi/condaenvs/ML2/lib/python3.9/multiprocessing/pool.py\", line 109, in worker\n",
      "    initializer(*initargs)\n",
      "Process ForkPoolWorker-397:\n"
     ]
    },
    {
     "name": "stdout",
     "output_type": "stream",
     "text": [
      " "
     ]
    },
    {
     "name": "stderr",
     "output_type": "stream",
     "text": [
      "  File \"/tmp/4730631/ipykernel_631294/4073675763.py\", line 13, in create_data_updown\n",
      "    toss = scipy.stats.bernoulli.rvs(posi_percent, loc=0, size=1, random_state=random.randint())\n",
      "Traceback (most recent call last):\n"
     ]
    },
    {
     "name": "stdout",
     "output_type": "stream",
     "text": [
      "389499"
     ]
    },
    {
     "name": "stderr",
     "output_type": "stream",
     "text": [
      "TypeError: randint() missing 2 required positional arguments: 'a' and 'b'\n",
      "  File \"/scratch/dmoi/condaenvs/ML2/lib/python3.9/multiprocessing/process.py\", line 315, in _bootstrap\n",
      "    self.run()\n",
      "  File \"/scratch/dmoi/condaenvs/ML2/lib/python3.9/multiprocessing/process.py\", line 108, in run\n",
      "    self._target(*self._args, **self._kwargs)\n"
     ]
    },
    {
     "name": "stdout",
     "output_type": "stream",
     "text": [
      "\n"
     ]
    },
    {
     "name": "stderr",
     "output_type": "stream",
     "text": [
      "  File \"/scratch/dmoi/condaenvs/ML2/lib/python3.9/multiprocessing/pool.py\", line 109, in worker\n",
      "    initializer(*initargs)\n"
     ]
    },
    {
     "name": "stdout",
     "output_type": "stream",
     "text": [
      "dataset size"
     ]
    },
    {
     "name": "stderr",
     "output_type": "stream",
     "text": [
      "  File \"/tmp/4730631/ipykernel_631294/4073675763.py\", line 13, in create_data_updown\n",
      "    toss = scipy.stats.bernoulli.rvs(posi_percent, loc=0, size=1, random_state=random.randint())\n",
      "Process ForkPoolWorker-398:\n"
     ]
    },
    {
     "name": "stdout",
     "output_type": "stream",
     "text": [
      " "
     ]
    },
    {
     "name": "stderr",
     "output_type": "stream",
     "text": [
      "TypeError: randint() missing 2 required positional arguments: 'a' and 'b'\n",
      "Traceback (most recent call last):\n"
     ]
    },
    {
     "name": "stdout",
     "output_type": "stream",
     "text": [
      "97133"
     ]
    },
    {
     "name": "stderr",
     "output_type": "stream",
     "text": [
      "  File \"/scratch/dmoi/condaenvs/ML2/lib/python3.9/multiprocessing/process.py\", line 315, in _bootstrap\n",
      "    self.run()\n"
     ]
    },
    {
     "name": "stdout",
     "output_type": "stream",
     "text": [
      "\n"
     ]
    },
    {
     "name": "stderr",
     "output_type": "stream",
     "text": [
      "  File \"/scratch/dmoi/condaenvs/ML2/lib/python3.9/multiprocessing/process.py\", line 108, in run\n",
      "    self._target(*self._args, **self._kwargs)\n"
     ]
    },
    {
     "name": "stdout",
     "output_type": "stream",
     "text": [
      "dataset size"
     ]
    },
    {
     "name": "stderr",
     "output_type": "stream",
     "text": [
      "Process ForkPoolWorker-399:\n",
      "  File \"/scratch/dmoi/condaenvs/ML2/lib/python3.9/multiprocessing/pool.py\", line 109, in worker\n",
      "    initializer(*initargs)\n"
     ]
    },
    {
     "name": "stdout",
     "output_type": "stream",
     "text": [
      " "
     ]
    },
    {
     "name": "stderr",
     "output_type": "stream",
     "text": [
      "Traceback (most recent call last):\n",
      "  File \"/tmp/4730631/ipykernel_631294/4073675763.py\", line 13, in create_data_updown\n",
      "    toss = scipy.stats.bernoulli.rvs(posi_percent, loc=0, size=1, random_state=random.randint())\n"
     ]
    },
    {
     "name": "stdout",
     "output_type": "stream",
     "text": [
      "389499"
     ]
    },
    {
     "name": "stderr",
     "output_type": "stream",
     "text": [
      "  File \"/scratch/dmoi/condaenvs/ML2/lib/python3.9/multiprocessing/process.py\", line 315, in _bootstrap\n",
      "    self.run()\n",
      "TypeError: randint() missing 2 required positional arguments: 'a' and 'b'\n"
     ]
    },
    {
     "name": "stdout",
     "output_type": "stream",
     "text": [
      "\n"
     ]
    },
    {
     "name": "stderr",
     "output_type": "stream",
     "text": [
      "  File \"/scratch/dmoi/condaenvs/ML2/lib/python3.9/multiprocessing/process.py\", line 108, in run\n",
      "    self._target(*self._args, **self._kwargs)\n",
      "  File \"/scratch/dmoi/condaenvs/ML2/lib/python3.9/multiprocessing/pool.py\", line 109, in worker\n",
      "    initializer(*initargs)\n",
      "  File \"/tmp/4730631/ipykernel_631294/4073675763.py\", line 13, in create_data_updown\n",
      "    toss = scipy.stats.bernoulli.rvs(posi_percent, loc=0, size=1, random_state=random.randint())\n",
      "Process ForkPoolWorker-400:\n",
      "TypeError: randint() missing 2 required positional arguments: 'a' and 'b'\n",
      "Traceback (most recent call last):\n",
      "  File \"/scratch/dmoi/condaenvs/ML2/lib/python3.9/multiprocessing/process.py\", line 315, in _bootstrap\n",
      "    self.run()\n",
      "  File \"/scratch/dmoi/condaenvs/ML2/lib/python3.9/multiprocessing/process.py\", line 108, in run\n",
      "    self._target(*self._args, **self._kwargs)\n",
      "  File \"/scratch/dmoi/condaenvs/ML2/lib/python3.9/multiprocessing/pool.py\", line 109, in worker\n",
      "    initializer(*initargs)\n",
      "  File \"/tmp/4730631/ipykernel_631294/4073675763.py\", line 13, in create_data_updown\n",
      "    toss = scipy.stats.bernoulli.rvs(posi_percent, loc=0, size=1, random_state=random.randint())\n",
      "TypeError: randint() missing 2 required positional arguments: 'a' and 'b'\n"
     ]
    },
    {
     "name": "stdout",
     "output_type": "stream",
     "text": [
      "dataset size 97133\n",
      "dataset size"
     ]
    },
    {
     "name": "stderr",
     "output_type": "stream",
     "text": [
      "Process ForkPoolWorker-401:\n",
      "Traceback (most recent call last):\n"
     ]
    },
    {
     "name": "stdout",
     "output_type": "stream",
     "text": [
      " "
     ]
    },
    {
     "name": "stderr",
     "output_type": "stream",
     "text": [
      "  File \"/scratch/dmoi/condaenvs/ML2/lib/python3.9/multiprocessing/process.py\", line 315, in _bootstrap\n",
      "    self.run()\n"
     ]
    },
    {
     "name": "stdout",
     "output_type": "stream",
     "text": [
      "389499\n"
     ]
    },
    {
     "name": "stderr",
     "output_type": "stream",
     "text": [
      "  File \"/scratch/dmoi/condaenvs/ML2/lib/python3.9/multiprocessing/process.py\", line 108, in run\n",
      "    self._target(*self._args, **self._kwargs)\n"
     ]
    },
    {
     "name": "stdout",
     "output_type": "stream",
     "text": [
      "dataset size"
     ]
    },
    {
     "name": "stderr",
     "output_type": "stream",
     "text": [
      "  File \"/scratch/dmoi/condaenvs/ML2/lib/python3.9/multiprocessing/pool.py\", line 109, in worker\n",
      "    initializer(*initargs)\n",
      "Process ForkPoolWorker-403:\n"
     ]
    },
    {
     "name": "stdout",
     "output_type": "stream",
     "text": [
      " "
     ]
    },
    {
     "name": "stderr",
     "output_type": "stream",
     "text": [
      "  File \"/tmp/4730631/ipykernel_631294/4073675763.py\", line 13, in create_data_updown\n",
      "    toss = scipy.stats.bernoulli.rvs(posi_percent, loc=0, size=1, random_state=random.randint())\n",
      "Traceback (most recent call last):\n"
     ]
    },
    {
     "name": "stdout",
     "output_type": "stream",
     "text": [
      "97133"
     ]
    },
    {
     "name": "stderr",
     "output_type": "stream",
     "text": [
      "TypeError: randint() missing 2 required positional arguments: 'a' and 'b'\n",
      "  File \"/scratch/dmoi/condaenvs/ML2/lib/python3.9/multiprocessing/process.py\", line 315, in _bootstrap\n",
      "    self.run()\n"
     ]
    },
    {
     "name": "stdout",
     "output_type": "stream",
     "text": [
      "\n"
     ]
    },
    {
     "name": "stderr",
     "output_type": "stream",
     "text": [
      "  File \"/scratch/dmoi/condaenvs/ML2/lib/python3.9/multiprocessing/process.py\", line 108, in run\n",
      "    self._target(*self._args, **self._kwargs)\n"
     ]
    },
    {
     "name": "stdout",
     "output_type": "stream",
     "text": [
      "dataset size"
     ]
    },
    {
     "name": "stderr",
     "output_type": "stream",
     "text": [
      "Process ForkPoolWorker-402:\n",
      "  File \"/scratch/dmoi/condaenvs/ML2/lib/python3.9/multiprocessing/pool.py\", line 109, in worker\n",
      "    initializer(*initargs)\n"
     ]
    },
    {
     "name": "stdout",
     "output_type": "stream",
     "text": [
      " "
     ]
    },
    {
     "name": "stderr",
     "output_type": "stream",
     "text": [
      "Traceback (most recent call last):\n",
      "  File \"/tmp/4730631/ipykernel_631294/4073675763.py\", line 13, in create_data_updown\n",
      "    toss = scipy.stats.bernoulli.rvs(posi_percent, loc=0, size=1, random_state=random.randint())\n"
     ]
    },
    {
     "name": "stdout",
     "output_type": "stream",
     "text": [
      "389499"
     ]
    },
    {
     "name": "stderr",
     "output_type": "stream",
     "text": [
      "  File \"/scratch/dmoi/condaenvs/ML2/lib/python3.9/multiprocessing/process.py\", line 315, in _bootstrap\n",
      "    self.run()\n",
      "TypeError: randint() missing 2 required positional arguments: 'a' and 'b'\n"
     ]
    },
    {
     "name": "stdout",
     "output_type": "stream",
     "text": [
      "\n"
     ]
    },
    {
     "name": "stderr",
     "output_type": "stream",
     "text": [
      "  File \"/scratch/dmoi/condaenvs/ML2/lib/python3.9/multiprocessing/process.py\", line 108, in run\n",
      "    self._target(*self._args, **self._kwargs)\n"
     ]
    },
    {
     "name": "stdout",
     "output_type": "stream",
     "text": [
      "dataset size"
     ]
    },
    {
     "name": "stderr",
     "output_type": "stream",
     "text": [
      "  File \"/scratch/dmoi/condaenvs/ML2/lib/python3.9/multiprocessing/pool.py\", line 109, in worker\n",
      "    initializer(*initargs)\n",
      "Process ForkPoolWorker-404:\n"
     ]
    },
    {
     "name": "stdout",
     "output_type": "stream",
     "text": [
      " "
     ]
    },
    {
     "name": "stderr",
     "output_type": "stream",
     "text": [
      "  File \"/tmp/4730631/ipykernel_631294/4073675763.py\", line 13, in create_data_updown\n",
      "    toss = scipy.stats.bernoulli.rvs(posi_percent, loc=0, size=1, random_state=random.randint())\n",
      "Traceback (most recent call last):\n"
     ]
    },
    {
     "name": "stdout",
     "output_type": "stream",
     "text": [
      "97133"
     ]
    },
    {
     "name": "stderr",
     "output_type": "stream",
     "text": [
      "TypeError: randint() missing 2 required positional arguments: 'a' and 'b'\n",
      "  File \"/scratch/dmoi/condaenvs/ML2/lib/python3.9/multiprocessing/process.py\", line 315, in _bootstrap\n",
      "    self.run()\n",
      "  File \"/scratch/dmoi/condaenvs/ML2/lib/python3.9/multiprocessing/process.py\", line 108, in run\n",
      "    self._target(*self._args, **self._kwargs)\n"
     ]
    },
    {
     "name": "stdout",
     "output_type": "stream",
     "text": [
      "\n"
     ]
    },
    {
     "name": "stderr",
     "output_type": "stream",
     "text": [
      "  File \"/scratch/dmoi/condaenvs/ML2/lib/python3.9/multiprocessing/pool.py\", line 109, in worker\n",
      "    initializer(*initargs)\n"
     ]
    },
    {
     "name": "stdout",
     "output_type": "stream",
     "text": [
      "dataset size"
     ]
    },
    {
     "name": "stderr",
     "output_type": "stream",
     "text": [
      "Process ForkPoolWorker-405:\n",
      "  File \"/tmp/4730631/ipykernel_631294/4073675763.py\", line 13, in create_data_updown\n",
      "    toss = scipy.stats.bernoulli.rvs(posi_percent, loc=0, size=1, random_state=random.randint())\n"
     ]
    },
    {
     "name": "stdout",
     "output_type": "stream",
     "text": [
      " "
     ]
    },
    {
     "name": "stderr",
     "output_type": "stream",
     "text": [
      "Traceback (most recent call last):\n",
      "TypeError: randint() missing 2 required positional arguments: 'a' and 'b'\n"
     ]
    },
    {
     "name": "stdout",
     "output_type": "stream",
     "text": [
      "389499"
     ]
    },
    {
     "name": "stderr",
     "output_type": "stream",
     "text": [
      "  File \"/scratch/dmoi/condaenvs/ML2/lib/python3.9/multiprocessing/process.py\", line 315, in _bootstrap\n",
      "    self.run()\n"
     ]
    },
    {
     "name": "stdout",
     "output_type": "stream",
     "text": [
      "\n"
     ]
    },
    {
     "name": "stderr",
     "output_type": "stream",
     "text": [
      "  File \"/scratch/dmoi/condaenvs/ML2/lib/python3.9/multiprocessing/process.py\", line 108, in run\n",
      "    self._target(*self._args, **self._kwargs)\n"
     ]
    },
    {
     "name": "stdout",
     "output_type": "stream",
     "text": [
      "dataset size"
     ]
    },
    {
     "name": "stderr",
     "output_type": "stream",
     "text": [
      "Process ForkPoolWorker-406:\n",
      "  File \"/scratch/dmoi/condaenvs/ML2/lib/python3.9/multiprocessing/pool.py\", line 109, in worker\n",
      "    initializer(*initargs)\n"
     ]
    },
    {
     "name": "stdout",
     "output_type": "stream",
     "text": [
      " "
     ]
    },
    {
     "name": "stderr",
     "output_type": "stream",
     "text": [
      "  File \"/tmp/4730631/ipykernel_631294/4073675763.py\", line 13, in create_data_updown\n",
      "    toss = scipy.stats.bernoulli.rvs(posi_percent, loc=0, size=1, random_state=random.randint())\n",
      "Traceback (most recent call last):\n"
     ]
    },
    {
     "name": "stdout",
     "output_type": "stream",
     "text": [
      "97133"
     ]
    },
    {
     "name": "stderr",
     "output_type": "stream",
     "text": [
      "  File \"/scratch/dmoi/condaenvs/ML2/lib/python3.9/multiprocessing/process.py\", line 315, in _bootstrap\n",
      "    self.run()\n",
      "TypeError: randint() missing 2 required positional arguments: 'a' and 'b'\n"
     ]
    },
    {
     "name": "stdout",
     "output_type": "stream",
     "text": [
      "\n"
     ]
    },
    {
     "name": "stderr",
     "output_type": "stream",
     "text": [
      "  File \"/scratch/dmoi/condaenvs/ML2/lib/python3.9/multiprocessing/process.py\", line 108, in run\n",
      "    self._target(*self._args, **self._kwargs)\n"
     ]
    },
    {
     "name": "stdout",
     "output_type": "stream",
     "text": [
      "dataset size"
     ]
    },
    {
     "name": "stderr",
     "output_type": "stream",
     "text": [
      "Process ForkPoolWorker-407:\n",
      "  File \"/scratch/dmoi/condaenvs/ML2/lib/python3.9/multiprocessing/pool.py\", line 109, in worker\n",
      "    initializer(*initargs)\n"
     ]
    },
    {
     "name": "stdout",
     "output_type": "stream",
     "text": [
      " "
     ]
    },
    {
     "name": "stderr",
     "output_type": "stream",
     "text": [
      "  File \"/tmp/4730631/ipykernel_631294/4073675763.py\", line 13, in create_data_updown\n",
      "    toss = scipy.stats.bernoulli.rvs(posi_percent, loc=0, size=1, random_state=random.randint())\n",
      "Traceback (most recent call last):\n"
     ]
    },
    {
     "name": "stdout",
     "output_type": "stream",
     "text": [
      "389499"
     ]
    },
    {
     "name": "stderr",
     "output_type": "stream",
     "text": [
      "  File \"/scratch/dmoi/condaenvs/ML2/lib/python3.9/multiprocessing/process.py\", line 315, in _bootstrap\n",
      "    self.run()\n",
      "TypeError: randint() missing 2 required positional arguments: 'a' and 'b'\n"
     ]
    },
    {
     "name": "stdout",
     "output_type": "stream",
     "text": [
      "\n"
     ]
    },
    {
     "name": "stderr",
     "output_type": "stream",
     "text": [
      "  File \"/scratch/dmoi/condaenvs/ML2/lib/python3.9/multiprocessing/process.py\", line 108, in run\n",
      "    self._target(*self._args, **self._kwargs)\n",
      "  File \"/scratch/dmoi/condaenvs/ML2/lib/python3.9/multiprocessing/pool.py\", line 109, in worker\n",
      "    initializer(*initargs)\n",
      "Process ForkPoolWorker-408:\n",
      "  File \"/tmp/4730631/ipykernel_631294/4073675763.py\", line 13, in create_data_updown\n",
      "    toss = scipy.stats.bernoulli.rvs(posi_percent, loc=0, size=1, random_state=random.randint())\n",
      "Traceback (most recent call last):\n",
      "TypeError: randint() missing 2 required positional arguments: 'a' and 'b'\n",
      "  File \"/scratch/dmoi/condaenvs/ML2/lib/python3.9/multiprocessing/process.py\", line 315, in _bootstrap\n",
      "    self.run()\n",
      "  File \"/scratch/dmoi/condaenvs/ML2/lib/python3.9/multiprocessing/process.py\", line 108, in run\n",
      "    self._target(*self._args, **self._kwargs)\n",
      "  File \"/scratch/dmoi/condaenvs/ML2/lib/python3.9/multiprocessing/pool.py\", line 109, in worker\n",
      "    initializer(*initargs)\n",
      "  File \"/tmp/4730631/ipykernel_631294/4073675763.py\", line 13, in create_data_updown\n",
      "    toss = scipy.stats.bernoulli.rvs(posi_percent, loc=0, size=1, random_state=random.randint())\n",
      "TypeError: randint() missing 2 required positional arguments: 'a' and 'b'\n"
     ]
    },
    {
     "name": "stdout",
     "output_type": "stream",
     "text": [
      "dataset size 97133\n"
     ]
    },
    {
     "name": "stderr",
     "output_type": "stream",
     "text": [
      "Process ForkPoolWorker-409:\n"
     ]
    },
    {
     "name": "stdout",
     "output_type": "stream",
     "text": [
      "dataset size "
     ]
    },
    {
     "name": "stderr",
     "output_type": "stream",
     "text": [
      "Traceback (most recent call last):\n"
     ]
    },
    {
     "name": "stdout",
     "output_type": "stream",
     "text": [
      "389499"
     ]
    },
    {
     "name": "stderr",
     "output_type": "stream",
     "text": [
      "  File \"/scratch/dmoi/condaenvs/ML2/lib/python3.9/multiprocessing/process.py\", line 315, in _bootstrap\n",
      "    self.run()\n"
     ]
    },
    {
     "name": "stdout",
     "output_type": "stream",
     "text": [
      "\n"
     ]
    },
    {
     "name": "stderr",
     "output_type": "stream",
     "text": [
      "  File \"/scratch/dmoi/condaenvs/ML2/lib/python3.9/multiprocessing/process.py\", line 108, in run\n",
      "    self._target(*self._args, **self._kwargs)\n"
     ]
    },
    {
     "name": "stdout",
     "output_type": "stream",
     "text": [
      "dataset size"
     ]
    },
    {
     "name": "stderr",
     "output_type": "stream",
     "text": [
      "  File \"/scratch/dmoi/condaenvs/ML2/lib/python3.9/multiprocessing/pool.py\", line 109, in worker\n",
      "    initializer(*initargs)\n",
      "Process ForkPoolWorker-411:\n"
     ]
    },
    {
     "name": "stdout",
     "output_type": "stream",
     "text": [
      " "
     ]
    },
    {
     "name": "stderr",
     "output_type": "stream",
     "text": [
      "  File \"/tmp/4730631/ipykernel_631294/4073675763.py\", line 13, in create_data_updown\n",
      "    toss = scipy.stats.bernoulli.rvs(posi_percent, loc=0, size=1, random_state=random.randint())\n",
      "Traceback (most recent call last):\n"
     ]
    },
    {
     "name": "stdout",
     "output_type": "stream",
     "text": [
      "97133"
     ]
    },
    {
     "name": "stderr",
     "output_type": "stream",
     "text": [
      "TypeError: randint() missing 2 required positional arguments: 'a' and 'b'\n",
      "  File \"/scratch/dmoi/condaenvs/ML2/lib/python3.9/multiprocessing/process.py\", line 315, in _bootstrap\n",
      "    self.run()\n"
     ]
    },
    {
     "name": "stdout",
     "output_type": "stream",
     "text": [
      "\n"
     ]
    },
    {
     "name": "stderr",
     "output_type": "stream",
     "text": [
      "  File \"/scratch/dmoi/condaenvs/ML2/lib/python3.9/multiprocessing/process.py\", line 108, in run\n",
      "    self._target(*self._args, **self._kwargs)\n"
     ]
    },
    {
     "name": "stdout",
     "output_type": "stream",
     "text": [
      "dataset size"
     ]
    },
    {
     "name": "stderr",
     "output_type": "stream",
     "text": [
      "Process ForkPoolWorker-410:\n",
      "  File \"/scratch/dmoi/condaenvs/ML2/lib/python3.9/multiprocessing/pool.py\", line 109, in worker\n",
      "    initializer(*initargs)\n"
     ]
    },
    {
     "name": "stdout",
     "output_type": "stream",
     "text": [
      " "
     ]
    },
    {
     "name": "stderr",
     "output_type": "stream",
     "text": [
      "Traceback (most recent call last):\n",
      "  File \"/tmp/4730631/ipykernel_631294/4073675763.py\", line 13, in create_data_updown\n",
      "    toss = scipy.stats.bernoulli.rvs(posi_percent, loc=0, size=1, random_state=random.randint())\n"
     ]
    },
    {
     "name": "stdout",
     "output_type": "stream",
     "text": [
      "389499"
     ]
    },
    {
     "name": "stderr",
     "output_type": "stream",
     "text": [
      "  File \"/scratch/dmoi/condaenvs/ML2/lib/python3.9/multiprocessing/process.py\", line 315, in _bootstrap\n",
      "    self.run()\n",
      "TypeError: randint() missing 2 required positional arguments: 'a' and 'b'\n"
     ]
    },
    {
     "name": "stdout",
     "output_type": "stream",
     "text": [
      "\n"
     ]
    },
    {
     "name": "stderr",
     "output_type": "stream",
     "text": [
      "  File \"/scratch/dmoi/condaenvs/ML2/lib/python3.9/multiprocessing/process.py\", line 108, in run\n",
      "    self._target(*self._args, **self._kwargs)\n"
     ]
    },
    {
     "name": "stdout",
     "output_type": "stream",
     "text": [
      "dataset size"
     ]
    },
    {
     "name": "stderr",
     "output_type": "stream",
     "text": [
      "Process ForkPoolWorker-412:\n",
      "  File \"/scratch/dmoi/condaenvs/ML2/lib/python3.9/multiprocessing/pool.py\", line 109, in worker\n",
      "    initializer(*initargs)\n",
      "  File \"/tmp/4730631/ipykernel_631294/4073675763.py\", line 13, in create_data_updown\n",
      "    toss = scipy.stats.bernoulli.rvs(posi_percent, loc=0, size=1, random_state=random.randint())\n",
      "Traceback (most recent call last):\n"
     ]
    },
    {
     "name": "stdout",
     "output_type": "stream",
     "text": [
      " "
     ]
    },
    {
     "name": "stderr",
     "output_type": "stream",
     "text": [
      "  File \"/scratch/dmoi/condaenvs/ML2/lib/python3.9/multiprocessing/process.py\", line 315, in _bootstrap\n",
      "    self.run()\n",
      "TypeError: randint() missing 2 required positional arguments: 'a' and 'b'\n"
     ]
    },
    {
     "name": "stdout",
     "output_type": "stream",
     "text": [
      "97133\n"
     ]
    },
    {
     "name": "stderr",
     "output_type": "stream",
     "text": [
      "  File \"/scratch/dmoi/condaenvs/ML2/lib/python3.9/multiprocessing/process.py\", line 108, in run\n",
      "    self._target(*self._args, **self._kwargs)\n"
     ]
    },
    {
     "name": "stdout",
     "output_type": "stream",
     "text": [
      "dataset size"
     ]
    },
    {
     "name": "stderr",
     "output_type": "stream",
     "text": [
      "Process ForkPoolWorker-413:\n",
      "  File \"/scratch/dmoi/condaenvs/ML2/lib/python3.9/multiprocessing/pool.py\", line 109, in worker\n",
      "    initializer(*initargs)\n",
      "Traceback (most recent call last):\n"
     ]
    },
    {
     "name": "stdout",
     "output_type": "stream",
     "text": [
      " "
     ]
    },
    {
     "name": "stderr",
     "output_type": "stream",
     "text": [
      "  File \"/tmp/4730631/ipykernel_631294/4073675763.py\", line 13, in create_data_updown\n",
      "    toss = scipy.stats.bernoulli.rvs(posi_percent, loc=0, size=1, random_state=random.randint())\n",
      "  File \"/scratch/dmoi/condaenvs/ML2/lib/python3.9/multiprocessing/process.py\", line 315, in _bootstrap\n",
      "    self.run()\n"
     ]
    },
    {
     "name": "stdout",
     "output_type": "stream",
     "text": [
      "389499"
     ]
    },
    {
     "name": "stderr",
     "output_type": "stream",
     "text": [
      "TypeError: randint() missing 2 required positional arguments: 'a' and 'b'\n"
     ]
    },
    {
     "name": "stdout",
     "output_type": "stream",
     "text": [
      "\n"
     ]
    },
    {
     "name": "stderr",
     "output_type": "stream",
     "text": [
      "  File \"/scratch/dmoi/condaenvs/ML2/lib/python3.9/multiprocessing/process.py\", line 108, in run\n",
      "    self._target(*self._args, **self._kwargs)\n",
      "  File \"/scratch/dmoi/condaenvs/ML2/lib/python3.9/multiprocessing/pool.py\", line 109, in worker\n",
      "    initializer(*initargs)\n"
     ]
    },
    {
     "name": "stdout",
     "output_type": "stream",
     "text": [
      "dataset size"
     ]
    },
    {
     "name": "stderr",
     "output_type": "stream",
     "text": [
      "Process ForkPoolWorker-414:\n"
     ]
    },
    {
     "name": "stdout",
     "output_type": "stream",
     "text": [
      " "
     ]
    },
    {
     "name": "stderr",
     "output_type": "stream",
     "text": [
      "  File \"/tmp/4730631/ipykernel_631294/4073675763.py\", line 13, in create_data_updown\n",
      "    toss = scipy.stats.bernoulli.rvs(posi_percent, loc=0, size=1, random_state=random.randint())\n",
      "TypeError: randint() missing 2 required positional arguments: 'a' and 'b'\n"
     ]
    },
    {
     "name": "stdout",
     "output_type": "stream",
     "text": [
      "97133"
     ]
    },
    {
     "name": "stderr",
     "output_type": "stream",
     "text": [
      "Traceback (most recent call last):\n"
     ]
    },
    {
     "name": "stdout",
     "output_type": "stream",
     "text": [
      "\n"
     ]
    },
    {
     "name": "stderr",
     "output_type": "stream",
     "text": [
      "  File \"/scratch/dmoi/condaenvs/ML2/lib/python3.9/multiprocessing/process.py\", line 315, in _bootstrap\n",
      "    self.run()\n"
     ]
    },
    {
     "name": "stdout",
     "output_type": "stream",
     "text": [
      "dataset size"
     ]
    },
    {
     "name": "stderr",
     "output_type": "stream",
     "text": [
      "Process ForkPoolWorker-415:\n",
      "  File \"/scratch/dmoi/condaenvs/ML2/lib/python3.9/multiprocessing/process.py\", line 108, in run\n",
      "    self._target(*self._args, **self._kwargs)\n"
     ]
    },
    {
     "name": "stdout",
     "output_type": "stream",
     "text": [
      " "
     ]
    },
    {
     "name": "stderr",
     "output_type": "stream",
     "text": [
      "Traceback (most recent call last):\n",
      "  File \"/scratch/dmoi/condaenvs/ML2/lib/python3.9/multiprocessing/pool.py\", line 109, in worker\n",
      "    initializer(*initargs)\n"
     ]
    },
    {
     "name": "stdout",
     "output_type": "stream",
     "text": [
      "389499"
     ]
    },
    {
     "name": "stderr",
     "output_type": "stream",
     "text": [
      "  File \"/scratch/dmoi/condaenvs/ML2/lib/python3.9/multiprocessing/process.py\", line 315, in _bootstrap\n",
      "    self.run()\n",
      "  File \"/tmp/4730631/ipykernel_631294/4073675763.py\", line 13, in create_data_updown\n",
      "    toss = scipy.stats.bernoulli.rvs(posi_percent, loc=0, size=1, random_state=random.randint())\n"
     ]
    },
    {
     "name": "stdout",
     "output_type": "stream",
     "text": [
      "\n"
     ]
    },
    {
     "name": "stderr",
     "output_type": "stream",
     "text": [
      "  File \"/scratch/dmoi/condaenvs/ML2/lib/python3.9/multiprocessing/process.py\", line 108, in run\n",
      "    self._target(*self._args, **self._kwargs)\n",
      "  File \"/scratch/dmoi/condaenvs/ML2/lib/python3.9/multiprocessing/pool.py\", line 109, in worker\n",
      "    initializer(*initargs)\n",
      "TypeError: randint() missing 2 required positional arguments: 'a' and 'b'\n",
      "Process ForkPoolWorker-416:\n",
      "  File \"/tmp/4730631/ipykernel_631294/4073675763.py\", line 13, in create_data_updown\n",
      "    toss = scipy.stats.bernoulli.rvs(posi_percent, loc=0, size=1, random_state=random.randint())\n",
      "Traceback (most recent call last):\n",
      "TypeError: randint() missing 2 required positional arguments: 'a' and 'b'\n",
      "  File \"/scratch/dmoi/condaenvs/ML2/lib/python3.9/multiprocessing/process.py\", line 315, in _bootstrap\n",
      "    self.run()\n",
      "  File \"/scratch/dmoi/condaenvs/ML2/lib/python3.9/multiprocessing/process.py\", line 108, in run\n",
      "    self._target(*self._args, **self._kwargs)\n",
      "  File \"/scratch/dmoi/condaenvs/ML2/lib/python3.9/multiprocessing/pool.py\", line 109, in worker\n",
      "    initializer(*initargs)\n",
      "  File \"/tmp/4730631/ipykernel_631294/4073675763.py\", line 13, in create_data_updown\n",
      "    toss = scipy.stats.bernoulli.rvs(posi_percent, loc=0, size=1, random_state=random.randint())\n",
      "TypeError: randint() missing 2 required positional arguments: 'a' and 'b'\n"
     ]
    },
    {
     "name": "stdout",
     "output_type": "stream",
     "text": [
      "dataset size 97133\n",
      "dataset size"
     ]
    },
    {
     "name": "stderr",
     "output_type": "stream",
     "text": [
      "Process ForkPoolWorker-417:\n",
      "Traceback (most recent call last):\n"
     ]
    },
    {
     "name": "stdout",
     "output_type": "stream",
     "text": [
      " 389499"
     ]
    },
    {
     "name": "stderr",
     "output_type": "stream",
     "text": [
      "  File \"/scratch/dmoi/condaenvs/ML2/lib/python3.9/multiprocessing/process.py\", line 315, in _bootstrap\n",
      "    self.run()\n"
     ]
    },
    {
     "name": "stdout",
     "output_type": "stream",
     "text": [
      "\n"
     ]
    },
    {
     "name": "stderr",
     "output_type": "stream",
     "text": [
      "  File \"/scratch/dmoi/condaenvs/ML2/lib/python3.9/multiprocessing/process.py\", line 108, in run\n",
      "    self._target(*self._args, **self._kwargs)\n"
     ]
    },
    {
     "name": "stdout",
     "output_type": "stream",
     "text": [
      "dataset size"
     ]
    },
    {
     "name": "stderr",
     "output_type": "stream",
     "text": [
      "  File \"/scratch/dmoi/condaenvs/ML2/lib/python3.9/multiprocessing/pool.py\", line 109, in worker\n",
      "    initializer(*initargs)\n",
      "Process ForkPoolWorker-419:\n"
     ]
    },
    {
     "name": "stdout",
     "output_type": "stream",
     "text": [
      " "
     ]
    },
    {
     "name": "stderr",
     "output_type": "stream",
     "text": [
      "  File \"/tmp/4730631/ipykernel_631294/4073675763.py\", line 13, in create_data_updown\n",
      "    toss = scipy.stats.bernoulli.rvs(posi_percent, loc=0, size=1, random_state=random.randint())\n",
      "Traceback (most recent call last):\n"
     ]
    },
    {
     "name": "stdout",
     "output_type": "stream",
     "text": [
      "97133"
     ]
    },
    {
     "name": "stderr",
     "output_type": "stream",
     "text": [
      "TypeError: randint() missing 2 required positional arguments: 'a' and 'b'\n",
      "  File \"/scratch/dmoi/condaenvs/ML2/lib/python3.9/multiprocessing/process.py\", line 315, in _bootstrap\n",
      "    self.run()\n"
     ]
    },
    {
     "name": "stdout",
     "output_type": "stream",
     "text": [
      "\n"
     ]
    },
    {
     "name": "stderr",
     "output_type": "stream",
     "text": [
      "  File \"/scratch/dmoi/condaenvs/ML2/lib/python3.9/multiprocessing/process.py\", line 108, in run\n",
      "    self._target(*self._args, **self._kwargs)\n"
     ]
    },
    {
     "name": "stdout",
     "output_type": "stream",
     "text": [
      "dataset size"
     ]
    },
    {
     "name": "stderr",
     "output_type": "stream",
     "text": [
      "Process ForkPoolWorker-418:\n",
      "  File \"/scratch/dmoi/condaenvs/ML2/lib/python3.9/multiprocessing/pool.py\", line 109, in worker\n",
      "    initializer(*initargs)\n"
     ]
    },
    {
     "name": "stdout",
     "output_type": "stream",
     "text": [
      " "
     ]
    },
    {
     "name": "stderr",
     "output_type": "stream",
     "text": [
      "Traceback (most recent call last):\n",
      "  File \"/tmp/4730631/ipykernel_631294/4073675763.py\", line 13, in create_data_updown\n",
      "    toss = scipy.stats.bernoulli.rvs(posi_percent, loc=0, size=1, random_state=random.randint())\n"
     ]
    },
    {
     "name": "stdout",
     "output_type": "stream",
     "text": [
      "389499"
     ]
    },
    {
     "name": "stderr",
     "output_type": "stream",
     "text": [
      "  File \"/scratch/dmoi/condaenvs/ML2/lib/python3.9/multiprocessing/process.py\", line 315, in _bootstrap\n",
      "    self.run()\n",
      "TypeError: randint() missing 2 required positional arguments: 'a' and 'b'\n"
     ]
    },
    {
     "name": "stdout",
     "output_type": "stream",
     "text": [
      "\n"
     ]
    },
    {
     "name": "stderr",
     "output_type": "stream",
     "text": [
      "  File \"/scratch/dmoi/condaenvs/ML2/lib/python3.9/multiprocessing/process.py\", line 108, in run\n",
      "    self._target(*self._args, **self._kwargs)\n"
     ]
    },
    {
     "name": "stdout",
     "output_type": "stream",
     "text": [
      "dataset size"
     ]
    },
    {
     "name": "stderr",
     "output_type": "stream",
     "text": [
      "  File \"/scratch/dmoi/condaenvs/ML2/lib/python3.9/multiprocessing/pool.py\", line 109, in worker\n",
      "    initializer(*initargs)\n",
      "Process ForkPoolWorker-420:\n"
     ]
    },
    {
     "name": "stdout",
     "output_type": "stream",
     "text": [
      " "
     ]
    },
    {
     "name": "stderr",
     "output_type": "stream",
     "text": [
      "  File \"/tmp/4730631/ipykernel_631294/4073675763.py\", line 13, in create_data_updown\n",
      "    toss = scipy.stats.bernoulli.rvs(posi_percent, loc=0, size=1, random_state=random.randint())\n",
      "Traceback (most recent call last):\n"
     ]
    },
    {
     "name": "stdout",
     "output_type": "stream",
     "text": [
      "97133"
     ]
    },
    {
     "name": "stderr",
     "output_type": "stream",
     "text": [
      "TypeError: randint() missing 2 required positional arguments: 'a' and 'b'\n",
      "  File \"/scratch/dmoi/condaenvs/ML2/lib/python3.9/multiprocessing/process.py\", line 315, in _bootstrap\n",
      "    self.run()\n"
     ]
    },
    {
     "name": "stdout",
     "output_type": "stream",
     "text": [
      "\n"
     ]
    },
    {
     "name": "stderr",
     "output_type": "stream",
     "text": [
      "  File \"/scratch/dmoi/condaenvs/ML2/lib/python3.9/multiprocessing/process.py\", line 108, in run\n",
      "    self._target(*self._args, **self._kwargs)\n"
     ]
    },
    {
     "name": "stdout",
     "output_type": "stream",
     "text": [
      "dataset size"
     ]
    },
    {
     "name": "stderr",
     "output_type": "stream",
     "text": [
      "  File \"/scratch/dmoi/condaenvs/ML2/lib/python3.9/multiprocessing/pool.py\", line 109, in worker\n",
      "    initializer(*initargs)\n",
      "  File \"/tmp/4730631/ipykernel_631294/4073675763.py\", line 13, in create_data_updown\n",
      "    toss = scipy.stats.bernoulli.rvs(posi_percent, loc=0, size=1, random_state=random.randint())\n",
      "Process ForkPoolWorker-421:\n"
     ]
    },
    {
     "name": "stdout",
     "output_type": "stream",
     "text": [
      " "
     ]
    },
    {
     "name": "stderr",
     "output_type": "stream",
     "text": [
      "TypeError: randint() missing 2 required positional arguments: 'a' and 'b'\n",
      "Traceback (most recent call last):\n",
      "  File \"/scratch/dmoi/condaenvs/ML2/lib/python3.9/multiprocessing/process.py\", line 315, in _bootstrap\n",
      "    self.run()\n"
     ]
    },
    {
     "name": "stdout",
     "output_type": "stream",
     "text": [
      "389499"
     ]
    },
    {
     "name": "stderr",
     "output_type": "stream",
     "text": [
      "  File \"/scratch/dmoi/condaenvs/ML2/lib/python3.9/multiprocessing/process.py\", line 108, in run\n",
      "    self._target(*self._args, **self._kwargs)\n"
     ]
    },
    {
     "name": "stdout",
     "output_type": "stream",
     "text": [
      "\n"
     ]
    },
    {
     "name": "stderr",
     "output_type": "stream",
     "text": [
      "  File \"/scratch/dmoi/condaenvs/ML2/lib/python3.9/multiprocessing/pool.py\", line 109, in worker\n",
      "    initializer(*initargs)\n"
     ]
    },
    {
     "name": "stdout",
     "output_type": "stream",
     "text": [
      "dataset size"
     ]
    },
    {
     "name": "stderr",
     "output_type": "stream",
     "text": [
      "  File \"/tmp/4730631/ipykernel_631294/4073675763.py\", line 13, in create_data_updown\n",
      "    toss = scipy.stats.bernoulli.rvs(posi_percent, loc=0, size=1, random_state=random.randint())\n",
      "Process ForkPoolWorker-422:\n"
     ]
    },
    {
     "name": "stdout",
     "output_type": "stream",
     "text": [
      " "
     ]
    },
    {
     "name": "stderr",
     "output_type": "stream",
     "text": [
      "TypeError: randint() missing 2 required positional arguments: 'a' and 'b'\n",
      "Traceback (most recent call last):\n"
     ]
    },
    {
     "name": "stdout",
     "output_type": "stream",
     "text": [
      "97133"
     ]
    },
    {
     "name": "stderr",
     "output_type": "stream",
     "text": [
      "  File \"/scratch/dmoi/condaenvs/ML2/lib/python3.9/multiprocessing/process.py\", line 315, in _bootstrap\n",
      "    self.run()\n"
     ]
    },
    {
     "name": "stdout",
     "output_type": "stream",
     "text": [
      "\n"
     ]
    },
    {
     "name": "stderr",
     "output_type": "stream",
     "text": [
      "  File \"/scratch/dmoi/condaenvs/ML2/lib/python3.9/multiprocessing/process.py\", line 108, in run\n",
      "    self._target(*self._args, **self._kwargs)\n"
     ]
    },
    {
     "name": "stdout",
     "output_type": "stream",
     "text": [
      "dataset size"
     ]
    },
    {
     "name": "stderr",
     "output_type": "stream",
     "text": [
      "Process ForkPoolWorker-423:\n",
      "  File \"/scratch/dmoi/condaenvs/ML2/lib/python3.9/multiprocessing/pool.py\", line 109, in worker\n",
      "    initializer(*initargs)\n"
     ]
    },
    {
     "name": "stdout",
     "output_type": "stream",
     "text": [
      " "
     ]
    },
    {
     "name": "stderr",
     "output_type": "stream",
     "text": [
      "  File \"/tmp/4730631/ipykernel_631294/4073675763.py\", line 13, in create_data_updown\n",
      "    toss = scipy.stats.bernoulli.rvs(posi_percent, loc=0, size=1, random_state=random.randint())\n",
      "Traceback (most recent call last):\n"
     ]
    },
    {
     "name": "stdout",
     "output_type": "stream",
     "text": [
      "389499"
     ]
    },
    {
     "name": "stderr",
     "output_type": "stream",
     "text": [
      "  File \"/scratch/dmoi/condaenvs/ML2/lib/python3.9/multiprocessing/process.py\", line 315, in _bootstrap\n",
      "    self.run()\n",
      "TypeError: randint() missing 2 required positional arguments: 'a' and 'b'\n"
     ]
    },
    {
     "name": "stdout",
     "output_type": "stream",
     "text": [
      "\n"
     ]
    },
    {
     "name": "stderr",
     "output_type": "stream",
     "text": [
      "  File \"/scratch/dmoi/condaenvs/ML2/lib/python3.9/multiprocessing/process.py\", line 108, in run\n",
      "    self._target(*self._args, **self._kwargs)\n",
      "  File \"/scratch/dmoi/condaenvs/ML2/lib/python3.9/multiprocessing/pool.py\", line 109, in worker\n",
      "    initializer(*initargs)\n",
      "Process ForkPoolWorker-424:\n",
      "  File \"/tmp/4730631/ipykernel_631294/4073675763.py\", line 13, in create_data_updown\n",
      "    toss = scipy.stats.bernoulli.rvs(posi_percent, loc=0, size=1, random_state=random.randint())\n",
      "Traceback (most recent call last):\n",
      "TypeError: randint() missing 2 required positional arguments: 'a' and 'b'\n",
      "  File \"/scratch/dmoi/condaenvs/ML2/lib/python3.9/multiprocessing/process.py\", line 315, in _bootstrap\n",
      "    self.run()\n",
      "  File \"/scratch/dmoi/condaenvs/ML2/lib/python3.9/multiprocessing/process.py\", line 108, in run\n",
      "    self._target(*self._args, **self._kwargs)\n",
      "  File \"/scratch/dmoi/condaenvs/ML2/lib/python3.9/multiprocessing/pool.py\", line 109, in worker\n",
      "    initializer(*initargs)\n",
      "  File \"/tmp/4730631/ipykernel_631294/4073675763.py\", line 13, in create_data_updown\n",
      "    toss = scipy.stats.bernoulli.rvs(posi_percent, loc=0, size=1, random_state=random.randint())\n",
      "TypeError: randint() missing 2 required positional arguments: 'a' and 'b'\n"
     ]
    },
    {
     "name": "stdout",
     "output_type": "stream",
     "text": [
      "dataset size 97133\n",
      "dataset size"
     ]
    },
    {
     "name": "stderr",
     "output_type": "stream",
     "text": [
      "Process ForkPoolWorker-425:\n"
     ]
    },
    {
     "name": "stdout",
     "output_type": "stream",
     "text": [
      " "
     ]
    },
    {
     "name": "stderr",
     "output_type": "stream",
     "text": [
      "Traceback (most recent call last):\n",
      "  File \"/scratch/dmoi/condaenvs/ML2/lib/python3.9/multiprocessing/process.py\", line 315, in _bootstrap\n",
      "    self.run()\n"
     ]
    },
    {
     "name": "stdout",
     "output_type": "stream",
     "text": [
      "389499\n"
     ]
    },
    {
     "name": "stderr",
     "output_type": "stream",
     "text": [
      "  File \"/scratch/dmoi/condaenvs/ML2/lib/python3.9/multiprocessing/process.py\", line 108, in run\n",
      "    self._target(*self._args, **self._kwargs)\n"
     ]
    },
    {
     "name": "stdout",
     "output_type": "stream",
     "text": [
      "dataset size"
     ]
    },
    {
     "name": "stderr",
     "output_type": "stream",
     "text": [
      "  File \"/scratch/dmoi/condaenvs/ML2/lib/python3.9/multiprocessing/pool.py\", line 109, in worker\n",
      "    initializer(*initargs)\n",
      "Process ForkPoolWorker-427:\n"
     ]
    },
    {
     "name": "stdout",
     "output_type": "stream",
     "text": [
      " "
     ]
    },
    {
     "name": "stderr",
     "output_type": "stream",
     "text": [
      "  File \"/tmp/4730631/ipykernel_631294/4073675763.py\", line 13, in create_data_updown\n",
      "    toss = scipy.stats.bernoulli.rvs(posi_percent, loc=0, size=1, random_state=random.randint())\n",
      "Traceback (most recent call last):\n"
     ]
    },
    {
     "name": "stdout",
     "output_type": "stream",
     "text": [
      "97133"
     ]
    },
    {
     "name": "stderr",
     "output_type": "stream",
     "text": [
      "TypeError: randint() missing 2 required positional arguments: 'a' and 'b'\n",
      "  File \"/scratch/dmoi/condaenvs/ML2/lib/python3.9/multiprocessing/process.py\", line 315, in _bootstrap\n",
      "    self.run()\n"
     ]
    },
    {
     "name": "stdout",
     "output_type": "stream",
     "text": [
      "\n"
     ]
    },
    {
     "name": "stderr",
     "output_type": "stream",
     "text": [
      "  File \"/scratch/dmoi/condaenvs/ML2/lib/python3.9/multiprocessing/process.py\", line 108, in run\n",
      "    self._target(*self._args, **self._kwargs)\n"
     ]
    },
    {
     "name": "stdout",
     "output_type": "stream",
     "text": [
      "dataset size"
     ]
    },
    {
     "name": "stderr",
     "output_type": "stream",
     "text": [
      "  File \"/scratch/dmoi/condaenvs/ML2/lib/python3.9/multiprocessing/pool.py\", line 109, in worker\n",
      "    initializer(*initargs)\n",
      "Process ForkPoolWorker-426:\n"
     ]
    },
    {
     "name": "stdout",
     "output_type": "stream",
     "text": [
      " "
     ]
    },
    {
     "name": "stderr",
     "output_type": "stream",
     "text": [
      "Traceback (most recent call last):\n",
      "  File \"/tmp/4730631/ipykernel_631294/4073675763.py\", line 13, in create_data_updown\n",
      "    toss = scipy.stats.bernoulli.rvs(posi_percent, loc=0, size=1, random_state=random.randint())\n"
     ]
    },
    {
     "name": "stdout",
     "output_type": "stream",
     "text": [
      "389499"
     ]
    },
    {
     "name": "stderr",
     "output_type": "stream",
     "text": [
      "TypeError: randint() missing 2 required positional arguments: 'a' and 'b'\n",
      "  File \"/scratch/dmoi/condaenvs/ML2/lib/python3.9/multiprocessing/process.py\", line 315, in _bootstrap\n",
      "    self.run()\n"
     ]
    },
    {
     "name": "stdout",
     "output_type": "stream",
     "text": [
      "\n"
     ]
    },
    {
     "name": "stderr",
     "output_type": "stream",
     "text": [
      "  File \"/scratch/dmoi/condaenvs/ML2/lib/python3.9/multiprocessing/process.py\", line 108, in run\n",
      "    self._target(*self._args, **self._kwargs)\n"
     ]
    },
    {
     "name": "stdout",
     "output_type": "stream",
     "text": [
      "dataset size"
     ]
    },
    {
     "name": "stderr",
     "output_type": "stream",
     "text": [
      "Process ForkPoolWorker-428:\n",
      "  File \"/scratch/dmoi/condaenvs/ML2/lib/python3.9/multiprocessing/pool.py\", line 109, in worker\n",
      "    initializer(*initargs)\n"
     ]
    },
    {
     "name": "stdout",
     "output_type": "stream",
     "text": [
      " "
     ]
    },
    {
     "name": "stderr",
     "output_type": "stream",
     "text": [
      "Traceback (most recent call last):\n",
      "  File \"/tmp/4730631/ipykernel_631294/4073675763.py\", line 13, in create_data_updown\n",
      "    toss = scipy.stats.bernoulli.rvs(posi_percent, loc=0, size=1, random_state=random.randint())\n",
      "  File \"/scratch/dmoi/condaenvs/ML2/lib/python3.9/multiprocessing/process.py\", line 315, in _bootstrap\n",
      "    self.run()\n"
     ]
    },
    {
     "name": "stdout",
     "output_type": "stream",
     "text": [
      "97133"
     ]
    },
    {
     "name": "stderr",
     "output_type": "stream",
     "text": [
      "TypeError: randint() missing 2 required positional arguments: 'a' and 'b'\n"
     ]
    },
    {
     "name": "stdout",
     "output_type": "stream",
     "text": [
      "\n"
     ]
    },
    {
     "name": "stderr",
     "output_type": "stream",
     "text": [
      "  File \"/scratch/dmoi/condaenvs/ML2/lib/python3.9/multiprocessing/process.py\", line 108, in run\n",
      "    self._target(*self._args, **self._kwargs)\n"
     ]
    },
    {
     "name": "stdout",
     "output_type": "stream",
     "text": [
      "dataset size"
     ]
    },
    {
     "name": "stderr",
     "output_type": "stream",
     "text": [
      "  File \"/scratch/dmoi/condaenvs/ML2/lib/python3.9/multiprocessing/pool.py\", line 109, in worker\n",
      "    initializer(*initargs)\n",
      "Process ForkPoolWorker-429:\n",
      "  File \"/tmp/4730631/ipykernel_631294/4073675763.py\", line 13, in create_data_updown\n",
      "    toss = scipy.stats.bernoulli.rvs(posi_percent, loc=0, size=1, random_state=random.randint())\n"
     ]
    },
    {
     "name": "stdout",
     "output_type": "stream",
     "text": [
      " "
     ]
    },
    {
     "name": "stderr",
     "output_type": "stream",
     "text": [
      "Traceback (most recent call last):\n"
     ]
    },
    {
     "name": "stdout",
     "output_type": "stream",
     "text": [
      "389499"
     ]
    },
    {
     "name": "stderr",
     "output_type": "stream",
     "text": [
      "TypeError: randint() missing 2 required positional arguments: 'a' and 'b'\n"
     ]
    },
    {
     "name": "stdout",
     "output_type": "stream",
     "text": [
      "\n"
     ]
    },
    {
     "name": "stderr",
     "output_type": "stream",
     "text": [
      "  File \"/scratch/dmoi/condaenvs/ML2/lib/python3.9/multiprocessing/process.py\", line 315, in _bootstrap\n",
      "    self.run()\n"
     ]
    },
    {
     "name": "stdout",
     "output_type": "stream",
     "text": [
      "dataset size"
     ]
    },
    {
     "name": "stderr",
     "output_type": "stream",
     "text": [
      "  File \"/scratch/dmoi/condaenvs/ML2/lib/python3.9/multiprocessing/process.py\", line 108, in run\n",
      "    self._target(*self._args, **self._kwargs)\n",
      "Process ForkPoolWorker-430:\n"
     ]
    },
    {
     "name": "stdout",
     "output_type": "stream",
     "text": [
      " "
     ]
    },
    {
     "name": "stderr",
     "output_type": "stream",
     "text": [
      "  File \"/scratch/dmoi/condaenvs/ML2/lib/python3.9/multiprocessing/pool.py\", line 109, in worker\n",
      "    initializer(*initargs)\n",
      "Traceback (most recent call last):\n"
     ]
    },
    {
     "name": "stdout",
     "output_type": "stream",
     "text": [
      "97133"
     ]
    },
    {
     "name": "stderr",
     "output_type": "stream",
     "text": [
      "  File \"/tmp/4730631/ipykernel_631294/4073675763.py\", line 13, in create_data_updown\n",
      "    toss = scipy.stats.bernoulli.rvs(posi_percent, loc=0, size=1, random_state=random.randint())\n",
      "  File \"/scratch/dmoi/condaenvs/ML2/lib/python3.9/multiprocessing/process.py\", line 315, in _bootstrap\n",
      "    self.run()\n"
     ]
    },
    {
     "name": "stdout",
     "output_type": "stream",
     "text": [
      "\n"
     ]
    },
    {
     "name": "stderr",
     "output_type": "stream",
     "text": [
      "TypeError: randint() missing 2 required positional arguments: 'a' and 'b'\n",
      "  File \"/scratch/dmoi/condaenvs/ML2/lib/python3.9/multiprocessing/process.py\", line 108, in run\n",
      "    self._target(*self._args, **self._kwargs)\n"
     ]
    },
    {
     "name": "stdout",
     "output_type": "stream",
     "text": [
      "dataset size"
     ]
    },
    {
     "name": "stderr",
     "output_type": "stream",
     "text": [
      "Process ForkPoolWorker-431:\n",
      "  File \"/scratch/dmoi/condaenvs/ML2/lib/python3.9/multiprocessing/pool.py\", line 109, in worker\n",
      "    initializer(*initargs)\n"
     ]
    },
    {
     "name": "stdout",
     "output_type": "stream",
     "text": [
      " "
     ]
    },
    {
     "name": "stderr",
     "output_type": "stream",
     "text": [
      "Traceback (most recent call last):\n",
      "  File \"/tmp/4730631/ipykernel_631294/4073675763.py\", line 13, in create_data_updown\n",
      "    toss = scipy.stats.bernoulli.rvs(posi_percent, loc=0, size=1, random_state=random.randint())\n"
     ]
    },
    {
     "name": "stdout",
     "output_type": "stream",
     "text": [
      "389499"
     ]
    },
    {
     "name": "stderr",
     "output_type": "stream",
     "text": [
      "  File \"/scratch/dmoi/condaenvs/ML2/lib/python3.9/multiprocessing/process.py\", line 315, in _bootstrap\n",
      "    self.run()\n",
      "TypeError: randint() missing 2 required positional arguments: 'a' and 'b'\n"
     ]
    },
    {
     "name": "stdout",
     "output_type": "stream",
     "text": [
      "\n"
     ]
    },
    {
     "name": "stderr",
     "output_type": "stream",
     "text": [
      "  File \"/scratch/dmoi/condaenvs/ML2/lib/python3.9/multiprocessing/process.py\", line 108, in run\n",
      "    self._target(*self._args, **self._kwargs)\n",
      "Process ForkPoolWorker-432:\n",
      "  File \"/scratch/dmoi/condaenvs/ML2/lib/python3.9/multiprocessing/pool.py\", line 109, in worker\n",
      "    initializer(*initargs)\n",
      "Traceback (most recent call last):\n",
      "  File \"/tmp/4730631/ipykernel_631294/4073675763.py\", line 13, in create_data_updown\n",
      "    toss = scipy.stats.bernoulli.rvs(posi_percent, loc=0, size=1, random_state=random.randint())\n",
      "  File \"/scratch/dmoi/condaenvs/ML2/lib/python3.9/multiprocessing/process.py\", line 315, in _bootstrap\n",
      "    self.run()\n",
      "TypeError: randint() missing 2 required positional arguments: 'a' and 'b'\n",
      "  File \"/scratch/dmoi/condaenvs/ML2/lib/python3.9/multiprocessing/process.py\", line 108, in run\n",
      "    self._target(*self._args, **self._kwargs)\n",
      "  File \"/scratch/dmoi/condaenvs/ML2/lib/python3.9/multiprocessing/pool.py\", line 109, in worker\n",
      "    initializer(*initargs)\n",
      "  File \"/tmp/4730631/ipykernel_631294/4073675763.py\", line 13, in create_data_updown\n",
      "    toss = scipy.stats.bernoulli.rvs(posi_percent, loc=0, size=1, random_state=random.randint())\n",
      "TypeError: randint() missing 2 required positional arguments: 'a' and 'b'\n"
     ]
    },
    {
     "name": "stdout",
     "output_type": "stream",
     "text": [
      "dataset size 97133\n",
      "dataset size"
     ]
    },
    {
     "name": "stderr",
     "output_type": "stream",
     "text": [
      "Process ForkPoolWorker-433:\n"
     ]
    },
    {
     "name": "stdout",
     "output_type": "stream",
     "text": [
      " "
     ]
    },
    {
     "name": "stderr",
     "output_type": "stream",
     "text": [
      "Traceback (most recent call last):\n",
      "  File \"/scratch/dmoi/condaenvs/ML2/lib/python3.9/multiprocessing/process.py\", line 315, in _bootstrap\n",
      "    self.run()\n"
     ]
    },
    {
     "name": "stdout",
     "output_type": "stream",
     "text": [
      "389499"
     ]
    },
    {
     "name": "stderr",
     "output_type": "stream",
     "text": [
      "  File \"/scratch/dmoi/condaenvs/ML2/lib/python3.9/multiprocessing/process.py\", line 108, in run\n",
      "    self._target(*self._args, **self._kwargs)\n"
     ]
    },
    {
     "name": "stdout",
     "output_type": "stream",
     "text": [
      "\n",
      "dataset size"
     ]
    },
    {
     "name": "stderr",
     "output_type": "stream",
     "text": [
      "  File \"/scratch/dmoi/condaenvs/ML2/lib/python3.9/multiprocessing/pool.py\", line 109, in worker\n",
      "    initializer(*initargs)\n",
      "Process ForkPoolWorker-435:\n"
     ]
    },
    {
     "name": "stdout",
     "output_type": "stream",
     "text": [
      " "
     ]
    },
    {
     "name": "stderr",
     "output_type": "stream",
     "text": [
      "  File \"/tmp/4730631/ipykernel_631294/4073675763.py\", line 13, in create_data_updown\n",
      "    toss = scipy.stats.bernoulli.rvs(posi_percent, loc=0, size=1, random_state=random.randint())\n",
      "Traceback (most recent call last):\n",
      "TypeError: randint() missing 2 required positional arguments: 'a' and 'b'\n"
     ]
    },
    {
     "name": "stdout",
     "output_type": "stream",
     "text": [
      "97133"
     ]
    },
    {
     "name": "stderr",
     "output_type": "stream",
     "text": [
      "  File \"/scratch/dmoi/condaenvs/ML2/lib/python3.9/multiprocessing/process.py\", line 315, in _bootstrap\n",
      "    self.run()\n"
     ]
    },
    {
     "name": "stdout",
     "output_type": "stream",
     "text": [
      "\n"
     ]
    },
    {
     "name": "stderr",
     "output_type": "stream",
     "text": [
      "  File \"/scratch/dmoi/condaenvs/ML2/lib/python3.9/multiprocessing/process.py\", line 108, in run\n",
      "    self._target(*self._args, **self._kwargs)\n"
     ]
    },
    {
     "name": "stdout",
     "output_type": "stream",
     "text": [
      "dataset size"
     ]
    },
    {
     "name": "stderr",
     "output_type": "stream",
     "text": [
      "Process ForkPoolWorker-434:\n",
      "  File \"/scratch/dmoi/condaenvs/ML2/lib/python3.9/multiprocessing/pool.py\", line 109, in worker\n",
      "    initializer(*initargs)\n"
     ]
    },
    {
     "name": "stdout",
     "output_type": "stream",
     "text": [
      " "
     ]
    },
    {
     "name": "stderr",
     "output_type": "stream",
     "text": [
      "Traceback (most recent call last):\n"
     ]
    },
    {
     "name": "stdout",
     "output_type": "stream",
     "text": [
      "389499"
     ]
    },
    {
     "name": "stderr",
     "output_type": "stream",
     "text": [
      "  File \"/tmp/4730631/ipykernel_631294/4073675763.py\", line 13, in create_data_updown\n",
      "    toss = scipy.stats.bernoulli.rvs(posi_percent, loc=0, size=1, random_state=random.randint())\n",
      "  File \"/scratch/dmoi/condaenvs/ML2/lib/python3.9/multiprocessing/process.py\", line 315, in _bootstrap\n",
      "    self.run()\n",
      "TypeError: randint() missing 2 required positional arguments: 'a' and 'b'\n"
     ]
    },
    {
     "name": "stdout",
     "output_type": "stream",
     "text": [
      "\n"
     ]
    },
    {
     "name": "stderr",
     "output_type": "stream",
     "text": [
      "  File \"/scratch/dmoi/condaenvs/ML2/lib/python3.9/multiprocessing/process.py\", line 108, in run\n",
      "    self._target(*self._args, **self._kwargs)\n",
      "  File \"/scratch/dmoi/condaenvs/ML2/lib/python3.9/multiprocessing/pool.py\", line 109, in worker\n",
      "    initializer(*initargs)\n"
     ]
    },
    {
     "name": "stdout",
     "output_type": "stream",
     "text": [
      "dataset size "
     ]
    },
    {
     "name": "stderr",
     "output_type": "stream",
     "text": [
      "  File \"/tmp/4730631/ipykernel_631294/4073675763.py\", line 13, in create_data_updown\n",
      "    toss = scipy.stats.bernoulli.rvs(posi_percent, loc=0, size=1, random_state=random.randint())\n",
      "Process ForkPoolWorker-436:\n",
      "TypeError: randint() missing 2 required positional arguments: 'a' and 'b'\n"
     ]
    },
    {
     "name": "stdout",
     "output_type": "stream",
     "text": [
      "97133"
     ]
    },
    {
     "name": "stderr",
     "output_type": "stream",
     "text": [
      "Traceback (most recent call last):\n"
     ]
    },
    {
     "name": "stdout",
     "output_type": "stream",
     "text": [
      "\n"
     ]
    },
    {
     "name": "stderr",
     "output_type": "stream",
     "text": [
      "  File \"/scratch/dmoi/condaenvs/ML2/lib/python3.9/multiprocessing/process.py\", line 315, in _bootstrap\n",
      "    self.run()\n",
      "Process ForkPoolWorker-437:\n"
     ]
    },
    {
     "name": "stdout",
     "output_type": "stream",
     "text": [
      "dataset size"
     ]
    },
    {
     "name": "stderr",
     "output_type": "stream",
     "text": [
      "  File \"/scratch/dmoi/condaenvs/ML2/lib/python3.9/multiprocessing/process.py\", line 108, in run\n",
      "    self._target(*self._args, **self._kwargs)\n",
      "Traceback (most recent call last):\n"
     ]
    },
    {
     "name": "stdout",
     "output_type": "stream",
     "text": [
      " "
     ]
    },
    {
     "name": "stderr",
     "output_type": "stream",
     "text": [
      "  File \"/scratch/dmoi/condaenvs/ML2/lib/python3.9/multiprocessing/pool.py\", line 109, in worker\n",
      "    initializer(*initargs)\n",
      "  File \"/scratch/dmoi/condaenvs/ML2/lib/python3.9/multiprocessing/process.py\", line 315, in _bootstrap\n",
      "    self.run()\n"
     ]
    },
    {
     "name": "stdout",
     "output_type": "stream",
     "text": [
      "389499"
     ]
    },
    {
     "name": "stderr",
     "output_type": "stream",
     "text": [
      "  File \"/tmp/4730631/ipykernel_631294/4073675763.py\", line 13, in create_data_updown\n",
      "    toss = scipy.stats.bernoulli.rvs(posi_percent, loc=0, size=1, random_state=random.randint())\n",
      "  File \"/scratch/dmoi/condaenvs/ML2/lib/python3.9/multiprocessing/process.py\", line 108, in run\n",
      "    self._target(*self._args, **self._kwargs)\n"
     ]
    },
    {
     "name": "stdout",
     "output_type": "stream",
     "text": [
      "\n"
     ]
    },
    {
     "name": "stderr",
     "output_type": "stream",
     "text": [
      "TypeError: randint() missing 2 required positional arguments: 'a' and 'b'\n",
      "  File \"/scratch/dmoi/condaenvs/ML2/lib/python3.9/multiprocessing/pool.py\", line 109, in worker\n",
      "    initializer(*initargs)\n"
     ]
    },
    {
     "name": "stdout",
     "output_type": "stream",
     "text": [
      "dataset size"
     ]
    },
    {
     "name": "stderr",
     "output_type": "stream",
     "text": [
      "Process ForkPoolWorker-438:\n"
     ]
    },
    {
     "name": "stdout",
     "output_type": "stream",
     "text": [
      " "
     ]
    },
    {
     "name": "stderr",
     "output_type": "stream",
     "text": [
      "  File \"/tmp/4730631/ipykernel_631294/4073675763.py\", line 13, in create_data_updown\n",
      "    toss = scipy.stats.bernoulli.rvs(posi_percent, loc=0, size=1, random_state=random.randint())\n",
      "TypeError: randint() missing 2 required positional arguments: 'a' and 'b'\n"
     ]
    },
    {
     "name": "stdout",
     "output_type": "stream",
     "text": [
      "97133"
     ]
    },
    {
     "name": "stderr",
     "output_type": "stream",
     "text": [
      "Traceback (most recent call last):\n"
     ]
    },
    {
     "name": "stdout",
     "output_type": "stream",
     "text": [
      "\n"
     ]
    },
    {
     "name": "stderr",
     "output_type": "stream",
     "text": [
      "  File \"/scratch/dmoi/condaenvs/ML2/lib/python3.9/multiprocessing/process.py\", line 315, in _bootstrap\n",
      "    self.run()\n"
     ]
    },
    {
     "name": "stdout",
     "output_type": "stream",
     "text": [
      "dataset size"
     ]
    },
    {
     "name": "stderr",
     "output_type": "stream",
     "text": [
      "Process ForkPoolWorker-440:\n",
      "  File \"/scratch/dmoi/condaenvs/ML2/lib/python3.9/multiprocessing/process.py\", line 108, in run\n",
      "    self._target(*self._args, **self._kwargs)\n"
     ]
    },
    {
     "name": "stdout",
     "output_type": "stream",
     "text": [
      " "
     ]
    },
    {
     "name": "stderr",
     "output_type": "stream",
     "text": [
      "Traceback (most recent call last):\n",
      "  File \"/scratch/dmoi/condaenvs/ML2/lib/python3.9/multiprocessing/pool.py\", line 109, in worker\n",
      "    initializer(*initargs)\n"
     ]
    },
    {
     "name": "stdout",
     "output_type": "stream",
     "text": [
      "389499"
     ]
    },
    {
     "name": "stderr",
     "output_type": "stream",
     "text": [
      "  File \"/scratch/dmoi/condaenvs/ML2/lib/python3.9/multiprocessing/process.py\", line 315, in _bootstrap\n",
      "    self.run()\n",
      "  File \"/tmp/4730631/ipykernel_631294/4073675763.py\", line 13, in create_data_updown\n",
      "    toss = scipy.stats.bernoulli.rvs(posi_percent, loc=0, size=1, random_state=random.randint())\n"
     ]
    },
    {
     "name": "stdout",
     "output_type": "stream",
     "text": [
      "\n"
     ]
    },
    {
     "name": "stderr",
     "output_type": "stream",
     "text": [
      "  File \"/scratch/dmoi/condaenvs/ML2/lib/python3.9/multiprocessing/process.py\", line 108, in run\n",
      "    self._target(*self._args, **self._kwargs)\n",
      "TypeError: randint() missing 2 required positional arguments: 'a' and 'b'\n",
      "Process ForkPoolWorker-439:\n",
      "  File \"/scratch/dmoi/condaenvs/ML2/lib/python3.9/multiprocessing/pool.py\", line 109, in worker\n",
      "    initializer(*initargs)\n",
      "  File \"/tmp/4730631/ipykernel_631294/4073675763.py\", line 13, in create_data_updown\n",
      "    toss = scipy.stats.bernoulli.rvs(posi_percent, loc=0, size=1, random_state=random.randint())\n",
      "Traceback (most recent call last):\n",
      "  File \"/scratch/dmoi/condaenvs/ML2/lib/python3.9/multiprocessing/process.py\", line 315, in _bootstrap\n",
      "    self.run()\n",
      "TypeError: randint() missing 2 required positional arguments: 'a' and 'b'\n",
      "  File \"/scratch/dmoi/condaenvs/ML2/lib/python3.9/multiprocessing/process.py\", line 108, in run\n",
      "    self._target(*self._args, **self._kwargs)\n",
      "  File \"/scratch/dmoi/condaenvs/ML2/lib/python3.9/multiprocessing/pool.py\", line 109, in worker\n",
      "    initializer(*initargs)\n",
      "  File \"/tmp/4730631/ipykernel_631294/4073675763.py\", line 13, in create_data_updown\n",
      "    toss = scipy.stats.bernoulli.rvs(posi_percent, loc=0, size=1, random_state=random.randint())\n",
      "TypeError: randint() missing 2 required positional arguments: 'a' and 'b'\n"
     ]
    },
    {
     "name": "stdout",
     "output_type": "stream",
     "text": [
      "dataset size 97133\n",
      "dataset size"
     ]
    },
    {
     "name": "stderr",
     "output_type": "stream",
     "text": [
      "Process ForkPoolWorker-441:\n"
     ]
    },
    {
     "name": "stdout",
     "output_type": "stream",
     "text": [
      " "
     ]
    },
    {
     "name": "stderr",
     "output_type": "stream",
     "text": [
      "Traceback (most recent call last):\n"
     ]
    },
    {
     "name": "stdout",
     "output_type": "stream",
     "text": [
      "389499"
     ]
    },
    {
     "name": "stderr",
     "output_type": "stream",
     "text": [
      "  File \"/scratch/dmoi/condaenvs/ML2/lib/python3.9/multiprocessing/process.py\", line 315, in _bootstrap\n",
      "    self.run()\n",
      "  File \"/scratch/dmoi/condaenvs/ML2/lib/python3.9/multiprocessing/process.py\", line 108, in run\n",
      "    self._target(*self._args, **self._kwargs)\n"
     ]
    },
    {
     "name": "stdout",
     "output_type": "stream",
     "text": [
      "\n",
      "dataset size"
     ]
    },
    {
     "name": "stderr",
     "output_type": "stream",
     "text": [
      "  File \"/scratch/dmoi/condaenvs/ML2/lib/python3.9/multiprocessing/pool.py\", line 109, in worker\n",
      "    initializer(*initargs)\n",
      "Process ForkPoolWorker-443:\n",
      "  File \"/tmp/4730631/ipykernel_631294/4073675763.py\", line 13, in create_data_updown\n",
      "    toss = scipy.stats.bernoulli.rvs(posi_percent, loc=0, size=1, random_state=random.randint())\n"
     ]
    },
    {
     "name": "stdout",
     "output_type": "stream",
     "text": [
      " "
     ]
    },
    {
     "name": "stderr",
     "output_type": "stream",
     "text": [
      "Traceback (most recent call last):\n",
      "TypeError: randint() missing 2 required positional arguments: 'a' and 'b'\n"
     ]
    },
    {
     "name": "stdout",
     "output_type": "stream",
     "text": [
      "97133"
     ]
    },
    {
     "name": "stderr",
     "output_type": "stream",
     "text": [
      "  File \"/scratch/dmoi/condaenvs/ML2/lib/python3.9/multiprocessing/process.py\", line 315, in _bootstrap\n",
      "    self.run()\n"
     ]
    },
    {
     "name": "stdout",
     "output_type": "stream",
     "text": [
      "\n"
     ]
    },
    {
     "name": "stderr",
     "output_type": "stream",
     "text": [
      "  File \"/scratch/dmoi/condaenvs/ML2/lib/python3.9/multiprocessing/process.py\", line 108, in run\n",
      "    self._target(*self._args, **self._kwargs)\n"
     ]
    },
    {
     "name": "stdout",
     "output_type": "stream",
     "text": [
      "dataset size"
     ]
    },
    {
     "name": "stderr",
     "output_type": "stream",
     "text": [
      "Process ForkPoolWorker-442:\n",
      "  File \"/scratch/dmoi/condaenvs/ML2/lib/python3.9/multiprocessing/pool.py\", line 109, in worker\n",
      "    initializer(*initargs)\n"
     ]
    },
    {
     "name": "stdout",
     "output_type": "stream",
     "text": [
      " "
     ]
    },
    {
     "name": "stderr",
     "output_type": "stream",
     "text": [
      "Traceback (most recent call last):\n",
      "  File \"/tmp/4730631/ipykernel_631294/4073675763.py\", line 13, in create_data_updown\n",
      "    toss = scipy.stats.bernoulli.rvs(posi_percent, loc=0, size=1, random_state=random.randint())\n"
     ]
    },
    {
     "name": "stdout",
     "output_type": "stream",
     "text": [
      "389499"
     ]
    },
    {
     "name": "stderr",
     "output_type": "stream",
     "text": [
      "  File \"/scratch/dmoi/condaenvs/ML2/lib/python3.9/multiprocessing/process.py\", line 315, in _bootstrap\n",
      "    self.run()\n",
      "TypeError: randint() missing 2 required positional arguments: 'a' and 'b'\n"
     ]
    },
    {
     "name": "stdout",
     "output_type": "stream",
     "text": [
      "\n"
     ]
    },
    {
     "name": "stderr",
     "output_type": "stream",
     "text": [
      "  File \"/scratch/dmoi/condaenvs/ML2/lib/python3.9/multiprocessing/process.py\", line 108, in run\n",
      "    self._target(*self._args, **self._kwargs)\n"
     ]
    },
    {
     "name": "stdout",
     "output_type": "stream",
     "text": [
      "dataset size"
     ]
    },
    {
     "name": "stderr",
     "output_type": "stream",
     "text": [
      "  File \"/scratch/dmoi/condaenvs/ML2/lib/python3.9/multiprocessing/pool.py\", line 109, in worker\n",
      "    initializer(*initargs)\n",
      "Process ForkPoolWorker-444:\n"
     ]
    },
    {
     "name": "stdout",
     "output_type": "stream",
     "text": [
      " "
     ]
    },
    {
     "name": "stderr",
     "output_type": "stream",
     "text": [
      "  File \"/tmp/4730631/ipykernel_631294/4073675763.py\", line 13, in create_data_updown\n",
      "    toss = scipy.stats.bernoulli.rvs(posi_percent, loc=0, size=1, random_state=random.randint())\n",
      "Traceback (most recent call last):\n"
     ]
    },
    {
     "name": "stdout",
     "output_type": "stream",
     "text": [
      "97133"
     ]
    },
    {
     "name": "stderr",
     "output_type": "stream",
     "text": [
      "TypeError: randint() missing 2 required positional arguments: 'a' and 'b'\n",
      "  File \"/scratch/dmoi/condaenvs/ML2/lib/python3.9/multiprocessing/process.py\", line 315, in _bootstrap\n",
      "    self.run()\n",
      "  File \"/scratch/dmoi/condaenvs/ML2/lib/python3.9/multiprocessing/process.py\", line 108, in run\n",
      "    self._target(*self._args, **self._kwargs)\n"
     ]
    },
    {
     "name": "stdout",
     "output_type": "stream",
     "text": [
      "\n"
     ]
    },
    {
     "name": "stderr",
     "output_type": "stream",
     "text": [
      "  File \"/scratch/dmoi/condaenvs/ML2/lib/python3.9/multiprocessing/pool.py\", line 109, in worker\n",
      "    initializer(*initargs)\n"
     ]
    },
    {
     "name": "stdout",
     "output_type": "stream",
     "text": [
      "dataset size"
     ]
    },
    {
     "name": "stderr",
     "output_type": "stream",
     "text": [
      "Process ForkPoolWorker-446:\n",
      "Traceback (most recent call last):\n"
     ]
    },
    {
     "name": "stdout",
     "output_type": "stream",
     "text": [
      " "
     ]
    },
    {
     "name": "stderr",
     "output_type": "stream",
     "text": [
      "  File \"/tmp/4730631/ipykernel_631294/4073675763.py\", line 13, in create_data_updown\n",
      "    toss = scipy.stats.bernoulli.rvs(posi_percent, loc=0, size=1, random_state=random.randint())\n",
      "  File \"/scratch/dmoi/condaenvs/ML2/lib/python3.9/multiprocessing/process.py\", line 315, in _bootstrap\n",
      "    self.run()\n"
     ]
    },
    {
     "name": "stdout",
     "output_type": "stream",
     "text": [
      "389499"
     ]
    },
    {
     "name": "stderr",
     "output_type": "stream",
     "text": [
      "TypeError: randint() missing 2 required positional arguments: 'a' and 'b'\n"
     ]
    },
    {
     "name": "stdout",
     "output_type": "stream",
     "text": [
      "\n"
     ]
    },
    {
     "name": "stderr",
     "output_type": "stream",
     "text": [
      "  File \"/scratch/dmoi/condaenvs/ML2/lib/python3.9/multiprocessing/process.py\", line 108, in run\n",
      "    self._target(*self._args, **self._kwargs)\n",
      "  File \"/scratch/dmoi/condaenvs/ML2/lib/python3.9/multiprocessing/pool.py\", line 109, in worker\n",
      "    initializer(*initargs)\n"
     ]
    },
    {
     "name": "stdout",
     "output_type": "stream",
     "text": [
      "dataset size"
     ]
    },
    {
     "name": "stderr",
     "output_type": "stream",
     "text": [
      "Process ForkPoolWorker-445:\n",
      "  File \"/tmp/4730631/ipykernel_631294/4073675763.py\", line 13, in create_data_updown\n",
      "    toss = scipy.stats.bernoulli.rvs(posi_percent, loc=0, size=1, random_state=random.randint())\n"
     ]
    },
    {
     "name": "stdout",
     "output_type": "stream",
     "text": [
      " "
     ]
    },
    {
     "name": "stderr",
     "output_type": "stream",
     "text": [
      "Traceback (most recent call last):\n",
      "TypeError: randint() missing 2 required positional arguments: 'a' and 'b'\n"
     ]
    },
    {
     "name": "stdout",
     "output_type": "stream",
     "text": [
      "97133"
     ]
    },
    {
     "name": "stderr",
     "output_type": "stream",
     "text": [
      "  File \"/scratch/dmoi/condaenvs/ML2/lib/python3.9/multiprocessing/process.py\", line 315, in _bootstrap\n",
      "    self.run()\n"
     ]
    },
    {
     "name": "stdout",
     "output_type": "stream",
     "text": [
      "\n"
     ]
    },
    {
     "name": "stderr",
     "output_type": "stream",
     "text": [
      "  File \"/scratch/dmoi/condaenvs/ML2/lib/python3.9/multiprocessing/process.py\", line 108, in run\n",
      "    self._target(*self._args, **self._kwargs)\n"
     ]
    },
    {
     "name": "stdout",
     "output_type": "stream",
     "text": [
      "dataset size"
     ]
    },
    {
     "name": "stderr",
     "output_type": "stream",
     "text": [
      "Process ForkPoolWorker-447:\n",
      "  File \"/scratch/dmoi/condaenvs/ML2/lib/python3.9/multiprocessing/pool.py\", line 109, in worker\n",
      "    initializer(*initargs)\n"
     ]
    },
    {
     "name": "stdout",
     "output_type": "stream",
     "text": [
      " "
     ]
    },
    {
     "name": "stderr",
     "output_type": "stream",
     "text": [
      "Traceback (most recent call last):\n",
      "  File \"/tmp/4730631/ipykernel_631294/4073675763.py\", line 13, in create_data_updown\n",
      "    toss = scipy.stats.bernoulli.rvs(posi_percent, loc=0, size=1, random_state=random.randint())\n"
     ]
    },
    {
     "name": "stdout",
     "output_type": "stream",
     "text": [
      "389499"
     ]
    },
    {
     "name": "stderr",
     "output_type": "stream",
     "text": [
      "  File \"/scratch/dmoi/condaenvs/ML2/lib/python3.9/multiprocessing/process.py\", line 315, in _bootstrap\n",
      "    self.run()\n",
      "TypeError: randint() missing 2 required positional arguments: 'a' and 'b'\n"
     ]
    },
    {
     "name": "stdout",
     "output_type": "stream",
     "text": [
      "\n"
     ]
    },
    {
     "name": "stderr",
     "output_type": "stream",
     "text": [
      "  File \"/scratch/dmoi/condaenvs/ML2/lib/python3.9/multiprocessing/process.py\", line 108, in run\n",
      "    self._target(*self._args, **self._kwargs)\n",
      "  File \"/scratch/dmoi/condaenvs/ML2/lib/python3.9/multiprocessing/pool.py\", line 109, in worker\n",
      "    initializer(*initargs)\n",
      "Process ForkPoolWorker-448:\n",
      "  File \"/tmp/4730631/ipykernel_631294/4073675763.py\", line 13, in create_data_updown\n",
      "    toss = scipy.stats.bernoulli.rvs(posi_percent, loc=0, size=1, random_state=random.randint())\n",
      "Traceback (most recent call last):\n",
      "TypeError: randint() missing 2 required positional arguments: 'a' and 'b'\n",
      "  File \"/scratch/dmoi/condaenvs/ML2/lib/python3.9/multiprocessing/process.py\", line 315, in _bootstrap\n",
      "    self.run()\n",
      "  File \"/scratch/dmoi/condaenvs/ML2/lib/python3.9/multiprocessing/process.py\", line 108, in run\n",
      "    self._target(*self._args, **self._kwargs)\n",
      "  File \"/scratch/dmoi/condaenvs/ML2/lib/python3.9/multiprocessing/pool.py\", line 109, in worker\n",
      "    initializer(*initargs)\n",
      "  File \"/tmp/4730631/ipykernel_631294/4073675763.py\", line 13, in create_data_updown\n",
      "    toss = scipy.stats.bernoulli.rvs(posi_percent, loc=0, size=1, random_state=random.randint())\n",
      "TypeError: randint() missing 2 required positional arguments: 'a' and 'b'\n"
     ]
    },
    {
     "name": "stdout",
     "output_type": "stream",
     "text": [
      "dataset size 97133\n",
      "dataset size"
     ]
    },
    {
     "name": "stderr",
     "output_type": "stream",
     "text": [
      "Process ForkPoolWorker-449:\n"
     ]
    },
    {
     "name": "stdout",
     "output_type": "stream",
     "text": [
      " "
     ]
    },
    {
     "name": "stderr",
     "output_type": "stream",
     "text": [
      "Traceback (most recent call last):\n"
     ]
    },
    {
     "name": "stdout",
     "output_type": "stream",
     "text": [
      "389499"
     ]
    },
    {
     "name": "stderr",
     "output_type": "stream",
     "text": [
      "  File \"/scratch/dmoi/condaenvs/ML2/lib/python3.9/multiprocessing/process.py\", line 315, in _bootstrap\n",
      "    self.run()\n"
     ]
    },
    {
     "name": "stdout",
     "output_type": "stream",
     "text": [
      "\n"
     ]
    },
    {
     "name": "stderr",
     "output_type": "stream",
     "text": [
      "  File \"/scratch/dmoi/condaenvs/ML2/lib/python3.9/multiprocessing/process.py\", line 108, in run\n",
      "    self._target(*self._args, **self._kwargs)\n"
     ]
    },
    {
     "name": "stdout",
     "output_type": "stream",
     "text": [
      "dataset size"
     ]
    },
    {
     "name": "stderr",
     "output_type": "stream",
     "text": [
      "  File \"/scratch/dmoi/condaenvs/ML2/lib/python3.9/multiprocessing/pool.py\", line 109, in worker\n",
      "    initializer(*initargs)\n",
      "  File \"/tmp/4730631/ipykernel_631294/4073675763.py\", line 13, in create_data_updown\n",
      "    toss = scipy.stats.bernoulli.rvs(posi_percent, loc=0, size=1, random_state=random.randint())\n"
     ]
    },
    {
     "name": "stdout",
     "output_type": "stream",
     "text": [
      " "
     ]
    },
    {
     "name": "stderr",
     "output_type": "stream",
     "text": [
      "Process ForkPoolWorker-451:\n",
      "TypeError: randint() missing 2 required positional arguments: 'a' and 'b'\n"
     ]
    },
    {
     "name": "stdout",
     "output_type": "stream",
     "text": [
      "97133"
     ]
    },
    {
     "name": "stderr",
     "output_type": "stream",
     "text": [
      "Traceback (most recent call last):\n"
     ]
    },
    {
     "name": "stdout",
     "output_type": "stream",
     "text": [
      "\n"
     ]
    },
    {
     "name": "stderr",
     "output_type": "stream",
     "text": [
      "  File \"/scratch/dmoi/condaenvs/ML2/lib/python3.9/multiprocessing/process.py\", line 315, in _bootstrap\n",
      "    self.run()\n"
     ]
    },
    {
     "name": "stdout",
     "output_type": "stream",
     "text": [
      "dataset size"
     ]
    },
    {
     "name": "stderr",
     "output_type": "stream",
     "text": [
      "Process ForkPoolWorker-450:\n",
      "  File \"/scratch/dmoi/condaenvs/ML2/lib/python3.9/multiprocessing/process.py\", line 108, in run\n",
      "    self._target(*self._args, **self._kwargs)\n"
     ]
    },
    {
     "name": "stdout",
     "output_type": "stream",
     "text": [
      " "
     ]
    },
    {
     "name": "stderr",
     "output_type": "stream",
     "text": [
      "Traceback (most recent call last):\n",
      "  File \"/scratch/dmoi/condaenvs/ML2/lib/python3.9/multiprocessing/pool.py\", line 109, in worker\n",
      "    initializer(*initargs)\n"
     ]
    },
    {
     "name": "stdout",
     "output_type": "stream",
     "text": [
      "389499"
     ]
    },
    {
     "name": "stderr",
     "output_type": "stream",
     "text": [
      "  File \"/scratch/dmoi/condaenvs/ML2/lib/python3.9/multiprocessing/process.py\", line 315, in _bootstrap\n",
      "    self.run()\n",
      "  File \"/tmp/4730631/ipykernel_631294/4073675763.py\", line 13, in create_data_updown\n",
      "    toss = scipy.stats.bernoulli.rvs(posi_percent, loc=0, size=1, random_state=random.randint())\n"
     ]
    },
    {
     "name": "stdout",
     "output_type": "stream",
     "text": [
      "\n"
     ]
    },
    {
     "name": "stderr",
     "output_type": "stream",
     "text": [
      "  File \"/scratch/dmoi/condaenvs/ML2/lib/python3.9/multiprocessing/process.py\", line 108, in run\n",
      "    self._target(*self._args, **self._kwargs)\n",
      "TypeError: randint() missing 2 required positional arguments: 'a' and 'b'\n"
     ]
    },
    {
     "name": "stdout",
     "output_type": "stream",
     "text": [
      "dataset size "
     ]
    },
    {
     "name": "stderr",
     "output_type": "stream",
     "text": [
      "  File \"/scratch/dmoi/condaenvs/ML2/lib/python3.9/multiprocessing/pool.py\", line 109, in worker\n",
      "    initializer(*initargs)\n",
      "Process ForkPoolWorker-452:\n"
     ]
    },
    {
     "name": "stdout",
     "output_type": "stream",
     "text": [
      "97133"
     ]
    },
    {
     "name": "stderr",
     "output_type": "stream",
     "text": [
      "  File \"/tmp/4730631/ipykernel_631294/4073675763.py\", line 13, in create_data_updown\n",
      "    toss = scipy.stats.bernoulli.rvs(posi_percent, loc=0, size=1, random_state=random.randint())\n",
      "Traceback (most recent call last):\n"
     ]
    },
    {
     "name": "stdout",
     "output_type": "stream",
     "text": [
      "\n"
     ]
    },
    {
     "name": "stderr",
     "output_type": "stream",
     "text": [
      "TypeError: randint() missing 2 required positional arguments: 'a' and 'b'\n",
      "  File \"/scratch/dmoi/condaenvs/ML2/lib/python3.9/multiprocessing/process.py\", line 315, in _bootstrap\n",
      "    self.run()\n"
     ]
    },
    {
     "name": "stdout",
     "output_type": "stream",
     "text": [
      "dataset size"
     ]
    },
    {
     "name": "stderr",
     "output_type": "stream",
     "text": [
      "Process ForkPoolWorker-453:\n",
      "  File \"/scratch/dmoi/condaenvs/ML2/lib/python3.9/multiprocessing/process.py\", line 108, in run\n",
      "    self._target(*self._args, **self._kwargs)\n"
     ]
    },
    {
     "name": "stdout",
     "output_type": "stream",
     "text": [
      " "
     ]
    },
    {
     "name": "stderr",
     "output_type": "stream",
     "text": [
      "Traceback (most recent call last):\n",
      "  File \"/scratch/dmoi/condaenvs/ML2/lib/python3.9/multiprocessing/pool.py\", line 109, in worker\n",
      "    initializer(*initargs)\n"
     ]
    },
    {
     "name": "stdout",
     "output_type": "stream",
     "text": [
      "389499"
     ]
    },
    {
     "name": "stderr",
     "output_type": "stream",
     "text": [
      "  File \"/scratch/dmoi/condaenvs/ML2/lib/python3.9/multiprocessing/process.py\", line 315, in _bootstrap\n",
      "    self.run()\n",
      "  File \"/tmp/4730631/ipykernel_631294/4073675763.py\", line 13, in create_data_updown\n",
      "    toss = scipy.stats.bernoulli.rvs(posi_percent, loc=0, size=1, random_state=random.randint())\n"
     ]
    },
    {
     "name": "stdout",
     "output_type": "stream",
     "text": [
      "\n"
     ]
    },
    {
     "name": "stderr",
     "output_type": "stream",
     "text": [
      "  File \"/scratch/dmoi/condaenvs/ML2/lib/python3.9/multiprocessing/process.py\", line 108, in run\n",
      "    self._target(*self._args, **self._kwargs)\n",
      "TypeError: randint() missing 2 required positional arguments: 'a' and 'b'\n"
     ]
    },
    {
     "name": "stdout",
     "output_type": "stream",
     "text": [
      "dataset size "
     ]
    },
    {
     "name": "stderr",
     "output_type": "stream",
     "text": [
      "  File \"/scratch/dmoi/condaenvs/ML2/lib/python3.9/multiprocessing/pool.py\", line 109, in worker\n",
      "    initializer(*initargs)\n",
      "Process ForkPoolWorker-454:\n"
     ]
    },
    {
     "name": "stdout",
     "output_type": "stream",
     "text": [
      "97133"
     ]
    },
    {
     "name": "stderr",
     "output_type": "stream",
     "text": [
      "  File \"/tmp/4730631/ipykernel_631294/4073675763.py\", line 13, in create_data_updown\n",
      "    toss = scipy.stats.bernoulli.rvs(posi_percent, loc=0, size=1, random_state=random.randint())\n",
      "Traceback (most recent call last):\n",
      "TypeError: randint() missing 2 required positional arguments: 'a' and 'b'\n"
     ]
    },
    {
     "name": "stdout",
     "output_type": "stream",
     "text": [
      "\n"
     ]
    },
    {
     "name": "stderr",
     "output_type": "stream",
     "text": [
      "  File \"/scratch/dmoi/condaenvs/ML2/lib/python3.9/multiprocessing/process.py\", line 315, in _bootstrap\n",
      "    self.run()\n"
     ]
    },
    {
     "name": "stdout",
     "output_type": "stream",
     "text": [
      "dataset size"
     ]
    },
    {
     "name": "stderr",
     "output_type": "stream",
     "text": [
      "  File \"/scratch/dmoi/condaenvs/ML2/lib/python3.9/multiprocessing/process.py\", line 108, in run\n",
      "    self._target(*self._args, **self._kwargs)\n",
      "Process ForkPoolWorker-455:\n"
     ]
    },
    {
     "name": "stdout",
     "output_type": "stream",
     "text": [
      " "
     ]
    },
    {
     "name": "stderr",
     "output_type": "stream",
     "text": [
      "  File \"/scratch/dmoi/condaenvs/ML2/lib/python3.9/multiprocessing/pool.py\", line 109, in worker\n",
      "    initializer(*initargs)\n",
      "Traceback (most recent call last):\n"
     ]
    },
    {
     "name": "stdout",
     "output_type": "stream",
     "text": [
      "389499"
     ]
    },
    {
     "name": "stderr",
     "output_type": "stream",
     "text": [
      "  File \"/tmp/4730631/ipykernel_631294/4073675763.py\", line 13, in create_data_updown\n",
      "    toss = scipy.stats.bernoulli.rvs(posi_percent, loc=0, size=1, random_state=random.randint())\n",
      "  File \"/scratch/dmoi/condaenvs/ML2/lib/python3.9/multiprocessing/process.py\", line 315, in _bootstrap\n",
      "    self.run()\n"
     ]
    },
    {
     "name": "stdout",
     "output_type": "stream",
     "text": [
      "\n"
     ]
    },
    {
     "name": "stderr",
     "output_type": "stream",
     "text": [
      "TypeError: randint() missing 2 required positional arguments: 'a' and 'b'\n",
      "  File \"/scratch/dmoi/condaenvs/ML2/lib/python3.9/multiprocessing/process.py\", line 108, in run\n",
      "    self._target(*self._args, **self._kwargs)\n",
      "  File \"/scratch/dmoi/condaenvs/ML2/lib/python3.9/multiprocessing/pool.py\", line 109, in worker\n",
      "    initializer(*initargs)\n",
      "Process ForkPoolWorker-456:\n",
      "  File \"/tmp/4730631/ipykernel_631294/4073675763.py\", line 13, in create_data_updown\n",
      "    toss = scipy.stats.bernoulli.rvs(posi_percent, loc=0, size=1, random_state=random.randint())\n",
      "Traceback (most recent call last):\n",
      "TypeError: randint() missing 2 required positional arguments: 'a' and 'b'\n",
      "  File \"/scratch/dmoi/condaenvs/ML2/lib/python3.9/multiprocessing/process.py\", line 315, in _bootstrap\n",
      "    self.run()\n",
      "  File \"/scratch/dmoi/condaenvs/ML2/lib/python3.9/multiprocessing/process.py\", line 108, in run\n",
      "    self._target(*self._args, **self._kwargs)\n",
      "  File \"/scratch/dmoi/condaenvs/ML2/lib/python3.9/multiprocessing/pool.py\", line 109, in worker\n",
      "    initializer(*initargs)\n",
      "  File \"/tmp/4730631/ipykernel_631294/4073675763.py\", line 13, in create_data_updown\n",
      "    toss = scipy.stats.bernoulli.rvs(posi_percent, loc=0, size=1, random_state=random.randint())\n",
      "TypeError: randint() missing 2 required positional arguments: 'a' and 'b'\n"
     ]
    },
    {
     "name": "stdout",
     "output_type": "stream",
     "text": [
      "dataset size 97133\n",
      "dataset size"
     ]
    },
    {
     "name": "stderr",
     "output_type": "stream",
     "text": [
      "Process ForkPoolWorker-457:\n",
      "Traceback (most recent call last):\n"
     ]
    },
    {
     "name": "stdout",
     "output_type": "stream",
     "text": [
      " "
     ]
    },
    {
     "name": "stderr",
     "output_type": "stream",
     "text": [
      "  File \"/scratch/dmoi/condaenvs/ML2/lib/python3.9/multiprocessing/process.py\", line 315, in _bootstrap\n",
      "    self.run()\n"
     ]
    },
    {
     "name": "stdout",
     "output_type": "stream",
     "text": [
      "389499"
     ]
    },
    {
     "name": "stderr",
     "output_type": "stream",
     "text": [
      "  File \"/scratch/dmoi/condaenvs/ML2/lib/python3.9/multiprocessing/process.py\", line 108, in run\n",
      "    self._target(*self._args, **self._kwargs)\n"
     ]
    },
    {
     "name": "stdout",
     "output_type": "stream",
     "text": [
      "\n",
      "dataset size"
     ]
    },
    {
     "name": "stderr",
     "output_type": "stream",
     "text": [
      "  File \"/scratch/dmoi/condaenvs/ML2/lib/python3.9/multiprocessing/pool.py\", line 109, in worker\n",
      "    initializer(*initargs)\n",
      "  File \"/tmp/4730631/ipykernel_631294/4073675763.py\", line 13, in create_data_updown\n",
      "    toss = scipy.stats.bernoulli.rvs(posi_percent, loc=0, size=1, random_state=random.randint())\n"
     ]
    },
    {
     "name": "stdout",
     "output_type": "stream",
     "text": [
      " 97133"
     ]
    },
    {
     "name": "stderr",
     "output_type": "stream",
     "text": [
      "TypeError: randint() missing 2 required positional arguments: 'a' and 'b'\n",
      "Process ForkPoolWorker-459:\n",
      "Traceback (most recent call last):\n"
     ]
    },
    {
     "name": "stdout",
     "output_type": "stream",
     "text": [
      "\n"
     ]
    },
    {
     "name": "stderr",
     "output_type": "stream",
     "text": [
      "  File \"/scratch/dmoi/condaenvs/ML2/lib/python3.9/multiprocessing/process.py\", line 315, in _bootstrap\n",
      "    self.run()\n"
     ]
    },
    {
     "name": "stdout",
     "output_type": "stream",
     "text": [
      "dataset size"
     ]
    },
    {
     "name": "stderr",
     "output_type": "stream",
     "text": [
      "Process ForkPoolWorker-458:\n",
      "  File \"/scratch/dmoi/condaenvs/ML2/lib/python3.9/multiprocessing/process.py\", line 108, in run\n",
      "    self._target(*self._args, **self._kwargs)\n"
     ]
    },
    {
     "name": "stdout",
     "output_type": "stream",
     "text": [
      " "
     ]
    },
    {
     "name": "stderr",
     "output_type": "stream",
     "text": [
      "Traceback (most recent call last):\n",
      "  File \"/scratch/dmoi/condaenvs/ML2/lib/python3.9/multiprocessing/pool.py\", line 109, in worker\n",
      "    initializer(*initargs)\n"
     ]
    },
    {
     "name": "stdout",
     "output_type": "stream",
     "text": [
      "389499"
     ]
    },
    {
     "name": "stderr",
     "output_type": "stream",
     "text": [
      "  File \"/scratch/dmoi/condaenvs/ML2/lib/python3.9/multiprocessing/process.py\", line 315, in _bootstrap\n",
      "    self.run()\n",
      "  File \"/tmp/4730631/ipykernel_631294/4073675763.py\", line 13, in create_data_updown\n",
      "    toss = scipy.stats.bernoulli.rvs(posi_percent, loc=0, size=1, random_state=random.randint())\n"
     ]
    },
    {
     "name": "stdout",
     "output_type": "stream",
     "text": [
      "\n"
     ]
    },
    {
     "name": "stderr",
     "output_type": "stream",
     "text": [
      "  File \"/scratch/dmoi/condaenvs/ML2/lib/python3.9/multiprocessing/process.py\", line 108, in run\n",
      "    self._target(*self._args, **self._kwargs)\n",
      "TypeError: randint() missing 2 required positional arguments: 'a' and 'b'\n"
     ]
    },
    {
     "name": "stdout",
     "output_type": "stream",
     "text": [
      "dataset size"
     ]
    },
    {
     "name": "stderr",
     "output_type": "stream",
     "text": [
      "  File \"/scratch/dmoi/condaenvs/ML2/lib/python3.9/multiprocessing/pool.py\", line 109, in worker\n",
      "    initializer(*initargs)\n",
      "Process ForkPoolWorker-460:\n"
     ]
    },
    {
     "name": "stdout",
     "output_type": "stream",
     "text": [
      " "
     ]
    },
    {
     "name": "stderr",
     "output_type": "stream",
     "text": [
      "  File \"/tmp/4730631/ipykernel_631294/4073675763.py\", line 13, in create_data_updown\n",
      "    toss = scipy.stats.bernoulli.rvs(posi_percent, loc=0, size=1, random_state=random.randint())\n",
      "Traceback (most recent call last):\n"
     ]
    },
    {
     "name": "stdout",
     "output_type": "stream",
     "text": [
      "97133"
     ]
    },
    {
     "name": "stderr",
     "output_type": "stream",
     "text": [
      "TypeError: randint() missing 2 required positional arguments: 'a' and 'b'\n",
      "  File \"/scratch/dmoi/condaenvs/ML2/lib/python3.9/multiprocessing/process.py\", line 315, in _bootstrap\n",
      "    self.run()\n"
     ]
    },
    {
     "name": "stdout",
     "output_type": "stream",
     "text": [
      "\n"
     ]
    },
    {
     "name": "stderr",
     "output_type": "stream",
     "text": [
      "  File \"/scratch/dmoi/condaenvs/ML2/lib/python3.9/multiprocessing/process.py\", line 108, in run\n",
      "    self._target(*self._args, **self._kwargs)\n"
     ]
    },
    {
     "name": "stdout",
     "output_type": "stream",
     "text": [
      "dataset size"
     ]
    },
    {
     "name": "stderr",
     "output_type": "stream",
     "text": [
      "Process ForkPoolWorker-462:\n",
      "  File \"/scratch/dmoi/condaenvs/ML2/lib/python3.9/multiprocessing/pool.py\", line 109, in worker\n",
      "    initializer(*initargs)\n"
     ]
    },
    {
     "name": "stdout",
     "output_type": "stream",
     "text": [
      " "
     ]
    },
    {
     "name": "stderr",
     "output_type": "stream",
     "text": [
      "Traceback (most recent call last):\n",
      "  File \"/tmp/4730631/ipykernel_631294/4073675763.py\", line 13, in create_data_updown\n",
      "    toss = scipy.stats.bernoulli.rvs(posi_percent, loc=0, size=1, random_state=random.randint())\n"
     ]
    },
    {
     "name": "stdout",
     "output_type": "stream",
     "text": [
      "389499"
     ]
    },
    {
     "name": "stderr",
     "output_type": "stream",
     "text": [
      "  File \"/scratch/dmoi/condaenvs/ML2/lib/python3.9/multiprocessing/process.py\", line 315, in _bootstrap\n",
      "    self.run()\n",
      "TypeError: randint() missing 2 required positional arguments: 'a' and 'b'\n",
      "  File \"/scratch/dmoi/condaenvs/ML2/lib/python3.9/multiprocessing/process.py\", line 108, in run\n",
      "    self._target(*self._args, **self._kwargs)\n"
     ]
    },
    {
     "name": "stdout",
     "output_type": "stream",
     "text": [
      "\n"
     ]
    },
    {
     "name": "stderr",
     "output_type": "stream",
     "text": [
      "  File \"/scratch/dmoi/condaenvs/ML2/lib/python3.9/multiprocessing/pool.py\", line 109, in worker\n",
      "    initializer(*initargs)\n"
     ]
    },
    {
     "name": "stdout",
     "output_type": "stream",
     "text": [
      "dataset size"
     ]
    },
    {
     "name": "stderr",
     "output_type": "stream",
     "text": [
      "Process ForkPoolWorker-461:\n",
      "  File \"/tmp/4730631/ipykernel_631294/4073675763.py\", line 13, in create_data_updown\n",
      "    toss = scipy.stats.bernoulli.rvs(posi_percent, loc=0, size=1, random_state=random.randint())\n"
     ]
    },
    {
     "name": "stdout",
     "output_type": "stream",
     "text": [
      " "
     ]
    },
    {
     "name": "stderr",
     "output_type": "stream",
     "text": [
      "Traceback (most recent call last):\n",
      "TypeError: randint() missing 2 required positional arguments: 'a' and 'b'\n",
      "  File \"/scratch/dmoi/condaenvs/ML2/lib/python3.9/multiprocessing/process.py\", line 315, in _bootstrap\n",
      "    self.run()\n"
     ]
    },
    {
     "name": "stdout",
     "output_type": "stream",
     "text": [
      "97133"
     ]
    },
    {
     "name": "stderr",
     "output_type": "stream",
     "text": [
      "  File \"/scratch/dmoi/condaenvs/ML2/lib/python3.9/multiprocessing/process.py\", line 108, in run\n",
      "    self._target(*self._args, **self._kwargs)\n"
     ]
    },
    {
     "name": "stdout",
     "output_type": "stream",
     "text": [
      "\n",
      "dataset size"
     ]
    },
    {
     "name": "stderr",
     "output_type": "stream",
     "text": [
      "  File \"/scratch/dmoi/condaenvs/ML2/lib/python3.9/multiprocessing/pool.py\", line 109, in worker\n",
      "    initializer(*initargs)\n",
      "Process ForkPoolWorker-463:\n"
     ]
    },
    {
     "name": "stdout",
     "output_type": "stream",
     "text": [
      " "
     ]
    },
    {
     "name": "stderr",
     "output_type": "stream",
     "text": [
      "  File \"/tmp/4730631/ipykernel_631294/4073675763.py\", line 13, in create_data_updown\n",
      "    toss = scipy.stats.bernoulli.rvs(posi_percent, loc=0, size=1, random_state=random.randint())\n",
      "Traceback (most recent call last):\n",
      "TypeError: randint() missing 2 required positional arguments: 'a' and 'b'\n"
     ]
    },
    {
     "name": "stdout",
     "output_type": "stream",
     "text": [
      "389499"
     ]
    },
    {
     "name": "stderr",
     "output_type": "stream",
     "text": [
      "  File \"/scratch/dmoi/condaenvs/ML2/lib/python3.9/multiprocessing/process.py\", line 315, in _bootstrap\n",
      "    self.run()\n"
     ]
    },
    {
     "name": "stdout",
     "output_type": "stream",
     "text": [
      "\n"
     ]
    },
    {
     "name": "stderr",
     "output_type": "stream",
     "text": [
      "  File \"/scratch/dmoi/condaenvs/ML2/lib/python3.9/multiprocessing/process.py\", line 108, in run\n",
      "    self._target(*self._args, **self._kwargs)\n",
      "Process ForkPoolWorker-464:\n",
      "  File \"/scratch/dmoi/condaenvs/ML2/lib/python3.9/multiprocessing/pool.py\", line 109, in worker\n",
      "    initializer(*initargs)\n",
      "Traceback (most recent call last):\n",
      "  File \"/tmp/4730631/ipykernel_631294/4073675763.py\", line 13, in create_data_updown\n",
      "    toss = scipy.stats.bernoulli.rvs(posi_percent, loc=0, size=1, random_state=random.randint())\n",
      "  File \"/scratch/dmoi/condaenvs/ML2/lib/python3.9/multiprocessing/process.py\", line 315, in _bootstrap\n",
      "    self.run()\n",
      "TypeError: randint() missing 2 required positional arguments: 'a' and 'b'\n",
      "  File \"/scratch/dmoi/condaenvs/ML2/lib/python3.9/multiprocessing/process.py\", line 108, in run\n",
      "    self._target(*self._args, **self._kwargs)\n",
      "  File \"/scratch/dmoi/condaenvs/ML2/lib/python3.9/multiprocessing/pool.py\", line 109, in worker\n",
      "    initializer(*initargs)\n",
      "  File \"/tmp/4730631/ipykernel_631294/4073675763.py\", line 13, in create_data_updown\n",
      "    toss = scipy.stats.bernoulli.rvs(posi_percent, loc=0, size=1, random_state=random.randint())\n",
      "TypeError: randint() missing 2 required positional arguments: 'a' and 'b'\n"
     ]
    },
    {
     "name": "stdout",
     "output_type": "stream",
     "text": [
      "dataset size 97133\n"
     ]
    },
    {
     "name": "stderr",
     "output_type": "stream",
     "text": [
      "Process ForkPoolWorker-465:\n"
     ]
    },
    {
     "name": "stdout",
     "output_type": "stream",
     "text": [
      "dataset size "
     ]
    },
    {
     "name": "stderr",
     "output_type": "stream",
     "text": [
      "Traceback (most recent call last):\n",
      "  File \"/scratch/dmoi/condaenvs/ML2/lib/python3.9/multiprocessing/process.py\", line 315, in _bootstrap\n",
      "    self.run()\n"
     ]
    },
    {
     "name": "stdout",
     "output_type": "stream",
     "text": [
      "389499"
     ]
    },
    {
     "name": "stderr",
     "output_type": "stream",
     "text": [
      "  File \"/scratch/dmoi/condaenvs/ML2/lib/python3.9/multiprocessing/process.py\", line 108, in run\n",
      "    self._target(*self._args, **self._kwargs)\n"
     ]
    },
    {
     "name": "stdout",
     "output_type": "stream",
     "text": [
      "\n"
     ]
    },
    {
     "name": "stderr",
     "output_type": "stream",
     "text": [
      "  File \"/scratch/dmoi/condaenvs/ML2/lib/python3.9/multiprocessing/pool.py\", line 109, in worker\n",
      "    initializer(*initargs)\n"
     ]
    },
    {
     "name": "stdout",
     "output_type": "stream",
     "text": [
      "dataset size"
     ]
    },
    {
     "name": "stderr",
     "output_type": "stream",
     "text": [
      "Process ForkPoolWorker-466:\n",
      "  File \"/tmp/4730631/ipykernel_631294/4073675763.py\", line 13, in create_data_updown\n",
      "    toss = scipy.stats.bernoulli.rvs(posi_percent, loc=0, size=1, random_state=random.randint())\n"
     ]
    },
    {
     "name": "stdout",
     "output_type": "stream",
     "text": [
      " "
     ]
    },
    {
     "name": "stderr",
     "output_type": "stream",
     "text": [
      "Traceback (most recent call last):\n",
      "TypeError: randint() missing 2 required positional arguments: 'a' and 'b'\n"
     ]
    },
    {
     "name": "stdout",
     "output_type": "stream",
     "text": [
      "97133\n"
     ]
    },
    {
     "name": "stderr",
     "output_type": "stream",
     "text": [
      "  File \"/scratch/dmoi/condaenvs/ML2/lib/python3.9/multiprocessing/process.py\", line 315, in _bootstrap\n",
      "    self.run()\n"
     ]
    },
    {
     "name": "stdout",
     "output_type": "stream",
     "text": [
      "dataset size"
     ]
    },
    {
     "name": "stderr",
     "output_type": "stream",
     "text": [
      "  File \"/scratch/dmoi/condaenvs/ML2/lib/python3.9/multiprocessing/process.py\", line 108, in run\n",
      "    self._target(*self._args, **self._kwargs)\n",
      "Process ForkPoolWorker-467:\n"
     ]
    },
    {
     "name": "stdout",
     "output_type": "stream",
     "text": [
      " "
     ]
    },
    {
     "name": "stderr",
     "output_type": "stream",
     "text": [
      "  File \"/scratch/dmoi/condaenvs/ML2/lib/python3.9/multiprocessing/pool.py\", line 109, in worker\n",
      "    initializer(*initargs)\n",
      "Traceback (most recent call last):\n"
     ]
    },
    {
     "name": "stdout",
     "output_type": "stream",
     "text": [
      "389499"
     ]
    },
    {
     "name": "stderr",
     "output_type": "stream",
     "text": [
      "  File \"/tmp/4730631/ipykernel_631294/4073675763.py\", line 13, in create_data_updown\n",
      "    toss = scipy.stats.bernoulli.rvs(posi_percent, loc=0, size=1, random_state=random.randint())\n",
      "  File \"/scratch/dmoi/condaenvs/ML2/lib/python3.9/multiprocessing/process.py\", line 315, in _bootstrap\n",
      "    self.run()\n"
     ]
    },
    {
     "name": "stdout",
     "output_type": "stream",
     "text": [
      "\n"
     ]
    },
    {
     "name": "stderr",
     "output_type": "stream",
     "text": [
      "TypeError: randint() missing 2 required positional arguments: 'a' and 'b'\n",
      "  File \"/scratch/dmoi/condaenvs/ML2/lib/python3.9/multiprocessing/process.py\", line 108, in run\n",
      "    self._target(*self._args, **self._kwargs)\n",
      "  File \"/scratch/dmoi/condaenvs/ML2/lib/python3.9/multiprocessing/pool.py\", line 109, in worker\n",
      "    initializer(*initargs)\n"
     ]
    },
    {
     "name": "stdout",
     "output_type": "stream",
     "text": [
      "dataset size"
     ]
    },
    {
     "name": "stderr",
     "output_type": "stream",
     "text": [
      "Process ForkPoolWorker-468:\n",
      "  File \"/tmp/4730631/ipykernel_631294/4073675763.py\", line 13, in create_data_updown\n",
      "    toss = scipy.stats.bernoulli.rvs(posi_percent, loc=0, size=1, random_state=random.randint())\n"
     ]
    },
    {
     "name": "stdout",
     "output_type": "stream",
     "text": [
      " "
     ]
    },
    {
     "name": "stderr",
     "output_type": "stream",
     "text": [
      "Traceback (most recent call last):\n",
      "TypeError: randint() missing 2 required positional arguments: 'a' and 'b'\n"
     ]
    },
    {
     "name": "stdout",
     "output_type": "stream",
     "text": [
      "97133\n"
     ]
    },
    {
     "name": "stderr",
     "output_type": "stream",
     "text": [
      "  File \"/scratch/dmoi/condaenvs/ML2/lib/python3.9/multiprocessing/process.py\", line 315, in _bootstrap\n",
      "    self.run()\n"
     ]
    },
    {
     "name": "stdout",
     "output_type": "stream",
     "text": [
      "dataset size"
     ]
    },
    {
     "name": "stderr",
     "output_type": "stream",
     "text": [
      "Process ForkPoolWorker-469:\n",
      "  File \"/scratch/dmoi/condaenvs/ML2/lib/python3.9/multiprocessing/process.py\", line 108, in run\n",
      "    self._target(*self._args, **self._kwargs)\n"
     ]
    },
    {
     "name": "stdout",
     "output_type": "stream",
     "text": [
      " "
     ]
    },
    {
     "name": "stderr",
     "output_type": "stream",
     "text": [
      "Traceback (most recent call last):\n",
      "  File \"/scratch/dmoi/condaenvs/ML2/lib/python3.9/multiprocessing/pool.py\", line 109, in worker\n",
      "    initializer(*initargs)\n"
     ]
    },
    {
     "name": "stdout",
     "output_type": "stream",
     "text": [
      "389499"
     ]
    },
    {
     "name": "stderr",
     "output_type": "stream",
     "text": [
      "  File \"/scratch/dmoi/condaenvs/ML2/lib/python3.9/multiprocessing/process.py\", line 315, in _bootstrap\n",
      "    self.run()\n",
      "  File \"/tmp/4730631/ipykernel_631294/4073675763.py\", line 13, in create_data_updown\n",
      "    toss = scipy.stats.bernoulli.rvs(posi_percent, loc=0, size=1, random_state=random.randint())\n",
      "TypeError: randint() missing 2 required positional arguments: 'a' and 'b'\n"
     ]
    },
    {
     "name": "stdout",
     "output_type": "stream",
     "text": [
      "\n"
     ]
    },
    {
     "name": "stderr",
     "output_type": "stream",
     "text": [
      "  File \"/scratch/dmoi/condaenvs/ML2/lib/python3.9/multiprocessing/process.py\", line 108, in run\n",
      "    self._target(*self._args, **self._kwargs)\n"
     ]
    },
    {
     "name": "stdout",
     "output_type": "stream",
     "text": [
      "dataset size"
     ]
    },
    {
     "name": "stderr",
     "output_type": "stream",
     "text": [
      "  File \"/scratch/dmoi/condaenvs/ML2/lib/python3.9/multiprocessing/pool.py\", line 109, in worker\n",
      "    initializer(*initargs)\n",
      "Process ForkPoolWorker-470:\n"
     ]
    },
    {
     "name": "stdout",
     "output_type": "stream",
     "text": [
      " "
     ]
    },
    {
     "name": "stderr",
     "output_type": "stream",
     "text": [
      "  File \"/tmp/4730631/ipykernel_631294/4073675763.py\", line 13, in create_data_updown\n",
      "    toss = scipy.stats.bernoulli.rvs(posi_percent, loc=0, size=1, random_state=random.randint())\n",
      "Traceback (most recent call last):\n"
     ]
    },
    {
     "name": "stdout",
     "output_type": "stream",
     "text": [
      "97133"
     ]
    },
    {
     "name": "stderr",
     "output_type": "stream",
     "text": [
      "TypeError: randint() missing 2 required positional arguments: 'a' and 'b'\n",
      "  File \"/scratch/dmoi/condaenvs/ML2/lib/python3.9/multiprocessing/process.py\", line 315, in _bootstrap\n",
      "    self.run()\n"
     ]
    },
    {
     "name": "stdout",
     "output_type": "stream",
     "text": [
      "\n"
     ]
    },
    {
     "name": "stderr",
     "output_type": "stream",
     "text": [
      "  File \"/scratch/dmoi/condaenvs/ML2/lib/python3.9/multiprocessing/process.py\", line 108, in run\n",
      "    self._target(*self._args, **self._kwargs)\n"
     ]
    },
    {
     "name": "stdout",
     "output_type": "stream",
     "text": [
      "dataset size"
     ]
    },
    {
     "name": "stderr",
     "output_type": "stream",
     "text": [
      "  File \"/scratch/dmoi/condaenvs/ML2/lib/python3.9/multiprocessing/pool.py\", line 109, in worker\n",
      "    initializer(*initargs)\n",
      "Process ForkPoolWorker-471:\n"
     ]
    },
    {
     "name": "stdout",
     "output_type": "stream",
     "text": [
      " "
     ]
    },
    {
     "name": "stderr",
     "output_type": "stream",
     "text": [
      "  File \"/tmp/4730631/ipykernel_631294/4073675763.py\", line 13, in create_data_updown\n",
      "    toss = scipy.stats.bernoulli.rvs(posi_percent, loc=0, size=1, random_state=random.randint())\n",
      "Traceback (most recent call last):\n"
     ]
    },
    {
     "name": "stdout",
     "output_type": "stream",
     "text": [
      "389499"
     ]
    },
    {
     "name": "stderr",
     "output_type": "stream",
     "text": [
      "TypeError: randint() missing 2 required positional arguments: 'a' and 'b'\n",
      "  File \"/scratch/dmoi/condaenvs/ML2/lib/python3.9/multiprocessing/process.py\", line 315, in _bootstrap\n",
      "    self.run()\n",
      "  File \"/scratch/dmoi/condaenvs/ML2/lib/python3.9/multiprocessing/process.py\", line 108, in run\n",
      "    self._target(*self._args, **self._kwargs)\n"
     ]
    },
    {
     "name": "stdout",
     "output_type": "stream",
     "text": [
      "\n"
     ]
    },
    {
     "name": "stderr",
     "output_type": "stream",
     "text": [
      "  File \"/scratch/dmoi/condaenvs/ML2/lib/python3.9/multiprocessing/pool.py\", line 109, in worker\n",
      "    initializer(*initargs)\n",
      "Process ForkPoolWorker-472:\n",
      "  File \"/tmp/4730631/ipykernel_631294/4073675763.py\", line 13, in create_data_updown\n",
      "    toss = scipy.stats.bernoulli.rvs(posi_percent, loc=0, size=1, random_state=random.randint())\n",
      "Traceback (most recent call last):\n",
      "TypeError: randint() missing 2 required positional arguments: 'a' and 'b'\n",
      "  File \"/scratch/dmoi/condaenvs/ML2/lib/python3.9/multiprocessing/process.py\", line 315, in _bootstrap\n",
      "    self.run()\n",
      "  File \"/scratch/dmoi/condaenvs/ML2/lib/python3.9/multiprocessing/process.py\", line 108, in run\n",
      "    self._target(*self._args, **self._kwargs)\n",
      "  File \"/scratch/dmoi/condaenvs/ML2/lib/python3.9/multiprocessing/pool.py\", line 109, in worker\n",
      "    initializer(*initargs)\n",
      "  File \"/tmp/4730631/ipykernel_631294/4073675763.py\", line 13, in create_data_updown\n",
      "    toss = scipy.stats.bernoulli.rvs(posi_percent, loc=0, size=1, random_state=random.randint())\n",
      "TypeError: randint() missing 2 required positional arguments: 'a' and 'b'\n"
     ]
    },
    {
     "name": "stdout",
     "output_type": "stream",
     "text": [
      "dataset size 97133\n"
     ]
    },
    {
     "name": "stderr",
     "output_type": "stream",
     "text": [
      "Process ForkPoolWorker-473:\n"
     ]
    },
    {
     "name": "stdout",
     "output_type": "stream",
     "text": [
      "dataset size "
     ]
    },
    {
     "name": "stderr",
     "output_type": "stream",
     "text": [
      "Traceback (most recent call last):\n"
     ]
    },
    {
     "name": "stdout",
     "output_type": "stream",
     "text": [
      "389499"
     ]
    },
    {
     "name": "stderr",
     "output_type": "stream",
     "text": [
      "  File \"/scratch/dmoi/condaenvs/ML2/lib/python3.9/multiprocessing/process.py\", line 315, in _bootstrap\n",
      "    self.run()\n",
      "  File \"/scratch/dmoi/condaenvs/ML2/lib/python3.9/multiprocessing/process.py\", line 108, in run\n",
      "    self._target(*self._args, **self._kwargs)\n"
     ]
    },
    {
     "name": "stdout",
     "output_type": "stream",
     "text": [
      "\n"
     ]
    },
    {
     "name": "stderr",
     "output_type": "stream",
     "text": [
      "  File \"/scratch/dmoi/condaenvs/ML2/lib/python3.9/multiprocessing/pool.py\", line 109, in worker\n",
      "    initializer(*initargs)\n"
     ]
    },
    {
     "name": "stdout",
     "output_type": "stream",
     "text": [
      "dataset size"
     ]
    },
    {
     "name": "stderr",
     "output_type": "stream",
     "text": [
      "Process ForkPoolWorker-475:\n",
      "  File \"/tmp/4730631/ipykernel_631294/4073675763.py\", line 13, in create_data_updown\n",
      "    toss = scipy.stats.bernoulli.rvs(posi_percent, loc=0, size=1, random_state=random.randint())\n"
     ]
    },
    {
     "name": "stdout",
     "output_type": "stream",
     "text": [
      " "
     ]
    },
    {
     "name": "stderr",
     "output_type": "stream",
     "text": [
      "Traceback (most recent call last):\n",
      "TypeError: randint() missing 2 required positional arguments: 'a' and 'b'\n"
     ]
    },
    {
     "name": "stdout",
     "output_type": "stream",
     "text": [
      "97133\n"
     ]
    },
    {
     "name": "stderr",
     "output_type": "stream",
     "text": [
      "  File \"/scratch/dmoi/condaenvs/ML2/lib/python3.9/multiprocessing/process.py\", line 315, in _bootstrap\n",
      "    self.run()\n"
     ]
    },
    {
     "name": "stdout",
     "output_type": "stream",
     "text": [
      "dataset size"
     ]
    },
    {
     "name": "stderr",
     "output_type": "stream",
     "text": [
      "Process ForkPoolWorker-474:\n",
      "  File \"/scratch/dmoi/condaenvs/ML2/lib/python3.9/multiprocessing/process.py\", line 108, in run\n",
      "    self._target(*self._args, **self._kwargs)\n"
     ]
    },
    {
     "name": "stdout",
     "output_type": "stream",
     "text": [
      " "
     ]
    },
    {
     "name": "stderr",
     "output_type": "stream",
     "text": [
      "Traceback (most recent call last):\n",
      "  File \"/scratch/dmoi/condaenvs/ML2/lib/python3.9/multiprocessing/pool.py\", line 109, in worker\n",
      "    initializer(*initargs)\n"
     ]
    },
    {
     "name": "stdout",
     "output_type": "stream",
     "text": [
      "389499"
     ]
    },
    {
     "name": "stderr",
     "output_type": "stream",
     "text": [
      "  File \"/scratch/dmoi/condaenvs/ML2/lib/python3.9/multiprocessing/process.py\", line 315, in _bootstrap\n",
      "    self.run()\n",
      "  File \"/tmp/4730631/ipykernel_631294/4073675763.py\", line 13, in create_data_updown\n",
      "    toss = scipy.stats.bernoulli.rvs(posi_percent, loc=0, size=1, random_state=random.randint())\n"
     ]
    },
    {
     "name": "stdout",
     "output_type": "stream",
     "text": [
      "\n"
     ]
    },
    {
     "name": "stderr",
     "output_type": "stream",
     "text": [
      "  File \"/scratch/dmoi/condaenvs/ML2/lib/python3.9/multiprocessing/process.py\", line 108, in run\n",
      "    self._target(*self._args, **self._kwargs)\n",
      "TypeError: randint() missing 2 required positional arguments: 'a' and 'b'\n"
     ]
    },
    {
     "name": "stdout",
     "output_type": "stream",
     "text": [
      "dataset size"
     ]
    },
    {
     "name": "stderr",
     "output_type": "stream",
     "text": [
      "  File \"/scratch/dmoi/condaenvs/ML2/lib/python3.9/multiprocessing/pool.py\", line 109, in worker\n",
      "    initializer(*initargs)\n",
      "Process ForkPoolWorker-476:\n"
     ]
    },
    {
     "name": "stdout",
     "output_type": "stream",
     "text": [
      " "
     ]
    },
    {
     "name": "stderr",
     "output_type": "stream",
     "text": [
      "  File \"/tmp/4730631/ipykernel_631294/4073675763.py\", line 13, in create_data_updown\n",
      "    toss = scipy.stats.bernoulli.rvs(posi_percent, loc=0, size=1, random_state=random.randint())\n",
      "Traceback (most recent call last):\n"
     ]
    },
    {
     "name": "stdout",
     "output_type": "stream",
     "text": [
      "97133"
     ]
    },
    {
     "name": "stderr",
     "output_type": "stream",
     "text": [
      "TypeError: randint() missing 2 required positional arguments: 'a' and 'b'\n",
      "  File \"/scratch/dmoi/condaenvs/ML2/lib/python3.9/multiprocessing/process.py\", line 315, in _bootstrap\n",
      "    self.run()\n"
     ]
    },
    {
     "name": "stdout",
     "output_type": "stream",
     "text": [
      "\n"
     ]
    },
    {
     "name": "stderr",
     "output_type": "stream",
     "text": [
      "  File \"/scratch/dmoi/condaenvs/ML2/lib/python3.9/multiprocessing/process.py\", line 108, in run\n",
      "    self._target(*self._args, **self._kwargs)\n"
     ]
    },
    {
     "name": "stdout",
     "output_type": "stream",
     "text": [
      "dataset size"
     ]
    },
    {
     "name": "stderr",
     "output_type": "stream",
     "text": [
      "Process ForkPoolWorker-477:\n",
      "  File \"/scratch/dmoi/condaenvs/ML2/lib/python3.9/multiprocessing/pool.py\", line 109, in worker\n",
      "    initializer(*initargs)\n"
     ]
    },
    {
     "name": "stdout",
     "output_type": "stream",
     "text": [
      " "
     ]
    },
    {
     "name": "stderr",
     "output_type": "stream",
     "text": [
      "Traceback (most recent call last):\n",
      "  File \"/tmp/4730631/ipykernel_631294/4073675763.py\", line 13, in create_data_updown\n",
      "    toss = scipy.stats.bernoulli.rvs(posi_percent, loc=0, size=1, random_state=random.randint())\n"
     ]
    },
    {
     "name": "stdout",
     "output_type": "stream",
     "text": [
      "389499"
     ]
    },
    {
     "name": "stderr",
     "output_type": "stream",
     "text": [
      "  File \"/scratch/dmoi/condaenvs/ML2/lib/python3.9/multiprocessing/process.py\", line 315, in _bootstrap\n",
      "    self.run()\n",
      "TypeError: randint() missing 2 required positional arguments: 'a' and 'b'\n"
     ]
    },
    {
     "name": "stdout",
     "output_type": "stream",
     "text": [
      "\n"
     ]
    },
    {
     "name": "stderr",
     "output_type": "stream",
     "text": [
      "  File \"/scratch/dmoi/condaenvs/ML2/lib/python3.9/multiprocessing/process.py\", line 108, in run\n",
      "    self._target(*self._args, **self._kwargs)\n"
     ]
    },
    {
     "name": "stdout",
     "output_type": "stream",
     "text": [
      "dataset size"
     ]
    },
    {
     "name": "stderr",
     "output_type": "stream",
     "text": [
      "Process ForkPoolWorker-478:\n",
      "  File \"/scratch/dmoi/condaenvs/ML2/lib/python3.9/multiprocessing/pool.py\", line 109, in worker\n",
      "    initializer(*initargs)\n"
     ]
    },
    {
     "name": "stdout",
     "output_type": "stream",
     "text": [
      " "
     ]
    },
    {
     "name": "stderr",
     "output_type": "stream",
     "text": [
      "  File \"/tmp/4730631/ipykernel_631294/4073675763.py\", line 13, in create_data_updown\n",
      "    toss = scipy.stats.bernoulli.rvs(posi_percent, loc=0, size=1, random_state=random.randint())\n",
      "Traceback (most recent call last):\n"
     ]
    },
    {
     "name": "stdout",
     "output_type": "stream",
     "text": [
      "97133"
     ]
    },
    {
     "name": "stderr",
     "output_type": "stream",
     "text": [
      "  File \"/scratch/dmoi/condaenvs/ML2/lib/python3.9/multiprocessing/process.py\", line 315, in _bootstrap\n",
      "    self.run()\n",
      "TypeError: randint() missing 2 required positional arguments: 'a' and 'b'\n"
     ]
    },
    {
     "name": "stdout",
     "output_type": "stream",
     "text": [
      "\n"
     ]
    },
    {
     "name": "stderr",
     "output_type": "stream",
     "text": [
      "  File \"/scratch/dmoi/condaenvs/ML2/lib/python3.9/multiprocessing/process.py\", line 108, in run\n",
      "    self._target(*self._args, **self._kwargs)\n"
     ]
    },
    {
     "name": "stdout",
     "output_type": "stream",
     "text": [
      "dataset size"
     ]
    },
    {
     "name": "stderr",
     "output_type": "stream",
     "text": [
      "  File \"/scratch/dmoi/condaenvs/ML2/lib/python3.9/multiprocessing/pool.py\", line 109, in worker\n",
      "    initializer(*initargs)\n",
      "Process ForkPoolWorker-479:\n"
     ]
    },
    {
     "name": "stdout",
     "output_type": "stream",
     "text": [
      " "
     ]
    },
    {
     "name": "stderr",
     "output_type": "stream",
     "text": [
      "Traceback (most recent call last):\n",
      "  File \"/tmp/4730631/ipykernel_631294/4073675763.py\", line 13, in create_data_updown\n",
      "    toss = scipy.stats.bernoulli.rvs(posi_percent, loc=0, size=1, random_state=random.randint())\n"
     ]
    },
    {
     "name": "stdout",
     "output_type": "stream",
     "text": [
      "389499"
     ]
    },
    {
     "name": "stderr",
     "output_type": "stream",
     "text": [
      "TypeError: randint() missing 2 required positional arguments: 'a' and 'b'\n",
      "  File \"/scratch/dmoi/condaenvs/ML2/lib/python3.9/multiprocessing/process.py\", line 315, in _bootstrap\n",
      "    self.run()\n",
      "  File \"/scratch/dmoi/condaenvs/ML2/lib/python3.9/multiprocessing/process.py\", line 108, in run\n",
      "    self._target(*self._args, **self._kwargs)\n"
     ]
    },
    {
     "name": "stdout",
     "output_type": "stream",
     "text": [
      "\n"
     ]
    },
    {
     "name": "stderr",
     "output_type": "stream",
     "text": [
      "  File \"/scratch/dmoi/condaenvs/ML2/lib/python3.9/multiprocessing/pool.py\", line 109, in worker\n",
      "    initializer(*initargs)\n",
      "Process ForkPoolWorker-480:\n",
      "  File \"/tmp/4730631/ipykernel_631294/4073675763.py\", line 13, in create_data_updown\n",
      "    toss = scipy.stats.bernoulli.rvs(posi_percent, loc=0, size=1, random_state=random.randint())\n",
      "Traceback (most recent call last):\n",
      "TypeError: randint() missing 2 required positional arguments: 'a' and 'b'\n",
      "  File \"/scratch/dmoi/condaenvs/ML2/lib/python3.9/multiprocessing/process.py\", line 315, in _bootstrap\n",
      "    self.run()\n",
      "  File \"/scratch/dmoi/condaenvs/ML2/lib/python3.9/multiprocessing/process.py\", line 108, in run\n",
      "    self._target(*self._args, **self._kwargs)\n",
      "  File \"/scratch/dmoi/condaenvs/ML2/lib/python3.9/multiprocessing/pool.py\", line 109, in worker\n",
      "    initializer(*initargs)\n",
      "  File \"/tmp/4730631/ipykernel_631294/4073675763.py\", line 13, in create_data_updown\n",
      "    toss = scipy.stats.bernoulli.rvs(posi_percent, loc=0, size=1, random_state=random.randint())\n",
      "TypeError: randint() missing 2 required positional arguments: 'a' and 'b'\n"
     ]
    },
    {
     "name": "stdout",
     "output_type": "stream",
     "text": [
      "dataset size 97133\n",
      "dataset size"
     ]
    },
    {
     "name": "stderr",
     "output_type": "stream",
     "text": [
      "Process ForkPoolWorker-481:\n"
     ]
    },
    {
     "name": "stdout",
     "output_type": "stream",
     "text": [
      " "
     ]
    },
    {
     "name": "stderr",
     "output_type": "stream",
     "text": [
      "Traceback (most recent call last):\n",
      "  File \"/scratch/dmoi/condaenvs/ML2/lib/python3.9/multiprocessing/process.py\", line 315, in _bootstrap\n",
      "    self.run()\n"
     ]
    },
    {
     "name": "stdout",
     "output_type": "stream",
     "text": [
      "389499"
     ]
    },
    {
     "name": "stderr",
     "output_type": "stream",
     "text": [
      "  File \"/scratch/dmoi/condaenvs/ML2/lib/python3.9/multiprocessing/process.py\", line 108, in run\n",
      "    self._target(*self._args, **self._kwargs)\n"
     ]
    },
    {
     "name": "stdout",
     "output_type": "stream",
     "text": [
      "\n",
      "dataset size"
     ]
    },
    {
     "name": "stderr",
     "output_type": "stream",
     "text": [
      "  File \"/scratch/dmoi/condaenvs/ML2/lib/python3.9/multiprocessing/pool.py\", line 109, in worker\n",
      "    initializer(*initargs)\n",
      "  File \"/tmp/4730631/ipykernel_631294/4073675763.py\", line 13, in create_data_updown\n",
      "    toss = scipy.stats.bernoulli.rvs(posi_percent, loc=0, size=1, random_state=random.randint())\n"
     ]
    },
    {
     "name": "stdout",
     "output_type": "stream",
     "text": [
      " "
     ]
    },
    {
     "name": "stderr",
     "output_type": "stream",
     "text": [
      "Process ForkPoolWorker-483:\n",
      "TypeError: randint() missing 2 required positional arguments: 'a' and 'b'\n"
     ]
    },
    {
     "name": "stdout",
     "output_type": "stream",
     "text": [
      "97133\n"
     ]
    },
    {
     "name": "stderr",
     "output_type": "stream",
     "text": [
      "Traceback (most recent call last):\n"
     ]
    },
    {
     "name": "stdout",
     "output_type": "stream",
     "text": [
      "dataset size"
     ]
    },
    {
     "name": "stderr",
     "output_type": "stream",
     "text": [
      "  File \"/scratch/dmoi/condaenvs/ML2/lib/python3.9/multiprocessing/process.py\", line 315, in _bootstrap\n",
      "    self.run()\n",
      "Process ForkPoolWorker-482:\n"
     ]
    },
    {
     "name": "stdout",
     "output_type": "stream",
     "text": [
      " "
     ]
    },
    {
     "name": "stderr",
     "output_type": "stream",
     "text": [
      "  File \"/scratch/dmoi/condaenvs/ML2/lib/python3.9/multiprocessing/process.py\", line 108, in run\n",
      "    self._target(*self._args, **self._kwargs)\n",
      "Traceback (most recent call last):\n"
     ]
    },
    {
     "name": "stdout",
     "output_type": "stream",
     "text": [
      "389499"
     ]
    },
    {
     "name": "stderr",
     "output_type": "stream",
     "text": [
      "  File \"/scratch/dmoi/condaenvs/ML2/lib/python3.9/multiprocessing/pool.py\", line 109, in worker\n",
      "    initializer(*initargs)\n",
      "  File \"/scratch/dmoi/condaenvs/ML2/lib/python3.9/multiprocessing/process.py\", line 315, in _bootstrap\n",
      "    self.run()\n"
     ]
    },
    {
     "name": "stdout",
     "output_type": "stream",
     "text": [
      "\n"
     ]
    },
    {
     "name": "stderr",
     "output_type": "stream",
     "text": [
      "  File \"/tmp/4730631/ipykernel_631294/4073675763.py\", line 13, in create_data_updown\n",
      "    toss = scipy.stats.bernoulli.rvs(posi_percent, loc=0, size=1, random_state=random.randint())\n",
      "  File \"/scratch/dmoi/condaenvs/ML2/lib/python3.9/multiprocessing/process.py\", line 108, in run\n",
      "    self._target(*self._args, **self._kwargs)\n"
     ]
    },
    {
     "name": "stdout",
     "output_type": "stream",
     "text": [
      "dataset size"
     ]
    },
    {
     "name": "stderr",
     "output_type": "stream",
     "text": [
      "TypeError: randint() missing 2 required positional arguments: 'a' and 'b'\n",
      "  File \"/scratch/dmoi/condaenvs/ML2/lib/python3.9/multiprocessing/pool.py\", line 109, in worker\n",
      "    initializer(*initargs)\n",
      "Process ForkPoolWorker-484:\n"
     ]
    },
    {
     "name": "stdout",
     "output_type": "stream",
     "text": [
      " "
     ]
    },
    {
     "name": "stderr",
     "output_type": "stream",
     "text": [
      "  File \"/tmp/4730631/ipykernel_631294/4073675763.py\", line 13, in create_data_updown\n",
      "    toss = scipy.stats.bernoulli.rvs(posi_percent, loc=0, size=1, random_state=random.randint())\n",
      "Traceback (most recent call last):\n"
     ]
    },
    {
     "name": "stdout",
     "output_type": "stream",
     "text": [
      "97133"
     ]
    },
    {
     "name": "stderr",
     "output_type": "stream",
     "text": [
      "TypeError: randint() missing 2 required positional arguments: 'a' and 'b'\n",
      "  File \"/scratch/dmoi/condaenvs/ML2/lib/python3.9/multiprocessing/process.py\", line 315, in _bootstrap\n",
      "    self.run()\n",
      "  File \"/scratch/dmoi/condaenvs/ML2/lib/python3.9/multiprocessing/process.py\", line 108, in run\n",
      "    self._target(*self._args, **self._kwargs)\n"
     ]
    },
    {
     "name": "stdout",
     "output_type": "stream",
     "text": [
      "\n"
     ]
    },
    {
     "name": "stderr",
     "output_type": "stream",
     "text": [
      "  File \"/scratch/dmoi/condaenvs/ML2/lib/python3.9/multiprocessing/pool.py\", line 109, in worker\n",
      "    initializer(*initargs)\n"
     ]
    },
    {
     "name": "stdout",
     "output_type": "stream",
     "text": [
      "dataset size"
     ]
    },
    {
     "name": "stderr",
     "output_type": "stream",
     "text": [
      "Process ForkPoolWorker-485:\n",
      "  File \"/tmp/4730631/ipykernel_631294/4073675763.py\", line 13, in create_data_updown\n",
      "    toss = scipy.stats.bernoulli.rvs(posi_percent, loc=0, size=1, random_state=random.randint())\n"
     ]
    },
    {
     "name": "stdout",
     "output_type": "stream",
     "text": [
      " "
     ]
    },
    {
     "name": "stderr",
     "output_type": "stream",
     "text": [
      "Traceback (most recent call last):\n",
      "TypeError: randint() missing 2 required positional arguments: 'a' and 'b'\n"
     ]
    },
    {
     "name": "stdout",
     "output_type": "stream",
     "text": [
      "389499"
     ]
    },
    {
     "name": "stderr",
     "output_type": "stream",
     "text": [
      "  File \"/scratch/dmoi/condaenvs/ML2/lib/python3.9/multiprocessing/process.py\", line 315, in _bootstrap\n",
      "    self.run()\n"
     ]
    },
    {
     "name": "stdout",
     "output_type": "stream",
     "text": [
      "\n"
     ]
    },
    {
     "name": "stderr",
     "output_type": "stream",
     "text": [
      "  File \"/scratch/dmoi/condaenvs/ML2/lib/python3.9/multiprocessing/process.py\", line 108, in run\n",
      "    self._target(*self._args, **self._kwargs)\n",
      "Process ForkPoolWorker-486:\n"
     ]
    },
    {
     "name": "stdout",
     "output_type": "stream",
     "text": [
      "dataset size"
     ]
    },
    {
     "name": "stderr",
     "output_type": "stream",
     "text": [
      "  File \"/scratch/dmoi/condaenvs/ML2/lib/python3.9/multiprocessing/pool.py\", line 109, in worker\n",
      "    initializer(*initargs)\n",
      "Traceback (most recent call last):\n"
     ]
    },
    {
     "name": "stdout",
     "output_type": "stream",
     "text": [
      " "
     ]
    },
    {
     "name": "stderr",
     "output_type": "stream",
     "text": [
      "  File \"/tmp/4730631/ipykernel_631294/4073675763.py\", line 13, in create_data_updown\n",
      "    toss = scipy.stats.bernoulli.rvs(posi_percent, loc=0, size=1, random_state=random.randint())\n"
     ]
    },
    {
     "name": "stdout",
     "output_type": "stream",
     "text": [
      "97133"
     ]
    },
    {
     "name": "stderr",
     "output_type": "stream",
     "text": [
      "TypeError: randint() missing 2 required positional arguments: 'a' and 'b'\n",
      "  File \"/scratch/dmoi/condaenvs/ML2/lib/python3.9/multiprocessing/process.py\", line 315, in _bootstrap\n",
      "    self.run()\n",
      "  File \"/scratch/dmoi/condaenvs/ML2/lib/python3.9/multiprocessing/process.py\", line 108, in run\n",
      "    self._target(*self._args, **self._kwargs)\n"
     ]
    },
    {
     "name": "stdout",
     "output_type": "stream",
     "text": [
      "\n"
     ]
    },
    {
     "name": "stderr",
     "output_type": "stream",
     "text": [
      "  File \"/scratch/dmoi/condaenvs/ML2/lib/python3.9/multiprocessing/pool.py\", line 109, in worker\n",
      "    initializer(*initargs)\n"
     ]
    },
    {
     "name": "stdout",
     "output_type": "stream",
     "text": [
      "dataset size"
     ]
    },
    {
     "name": "stderr",
     "output_type": "stream",
     "text": [
      "Process ForkPoolWorker-488:\n",
      "  File \"/tmp/4730631/ipykernel_631294/4073675763.py\", line 13, in create_data_updown\n",
      "    toss = scipy.stats.bernoulli.rvs(posi_percent, loc=0, size=1, random_state=random.randint())\n"
     ]
    },
    {
     "name": "stdout",
     "output_type": "stream",
     "text": [
      " "
     ]
    },
    {
     "name": "stderr",
     "output_type": "stream",
     "text": [
      "Traceback (most recent call last):\n",
      "TypeError: randint() missing 2 required positional arguments: 'a' and 'b'\n"
     ]
    },
    {
     "name": "stdout",
     "output_type": "stream",
     "text": [
      "389499"
     ]
    },
    {
     "name": "stderr",
     "output_type": "stream",
     "text": [
      "  File \"/scratch/dmoi/condaenvs/ML2/lib/python3.9/multiprocessing/process.py\", line 315, in _bootstrap\n",
      "    self.run()\n"
     ]
    },
    {
     "name": "stdout",
     "output_type": "stream",
     "text": [
      "\n"
     ]
    },
    {
     "name": "stderr",
     "output_type": "stream",
     "text": [
      "  File \"/scratch/dmoi/condaenvs/ML2/lib/python3.9/multiprocessing/process.py\", line 108, in run\n",
      "    self._target(*self._args, **self._kwargs)\n",
      "Process ForkPoolWorker-487:\n",
      "  File \"/scratch/dmoi/condaenvs/ML2/lib/python3.9/multiprocessing/pool.py\", line 109, in worker\n",
      "    initializer(*initargs)\n",
      "  File \"/tmp/4730631/ipykernel_631294/4073675763.py\", line 13, in create_data_updown\n",
      "    toss = scipy.stats.bernoulli.rvs(posi_percent, loc=0, size=1, random_state=random.randint())\n",
      "Traceback (most recent call last):\n",
      "  File \"/scratch/dmoi/condaenvs/ML2/lib/python3.9/multiprocessing/process.py\", line 315, in _bootstrap\n",
      "    self.run()\n",
      "TypeError: randint() missing 2 required positional arguments: 'a' and 'b'\n",
      "  File \"/scratch/dmoi/condaenvs/ML2/lib/python3.9/multiprocessing/process.py\", line 108, in run\n",
      "    self._target(*self._args, **self._kwargs)\n",
      "  File \"/scratch/dmoi/condaenvs/ML2/lib/python3.9/multiprocessing/pool.py\", line 109, in worker\n",
      "    initializer(*initargs)\n",
      "  File \"/tmp/4730631/ipykernel_631294/4073675763.py\", line 13, in create_data_updown\n",
      "    toss = scipy.stats.bernoulli.rvs(posi_percent, loc=0, size=1, random_state=random.randint())\n",
      "TypeError: randint() missing 2 required positional arguments: 'a' and 'b'\n"
     ]
    },
    {
     "name": "stdout",
     "output_type": "stream",
     "text": [
      "dataset size 97133\n",
      "dataset size"
     ]
    },
    {
     "name": "stderr",
     "output_type": "stream",
     "text": [
      "Process ForkPoolWorker-489:\n"
     ]
    },
    {
     "name": "stdout",
     "output_type": "stream",
     "text": [
      " "
     ]
    },
    {
     "name": "stderr",
     "output_type": "stream",
     "text": [
      "Traceback (most recent call last):\n",
      "  File \"/scratch/dmoi/condaenvs/ML2/lib/python3.9/multiprocessing/process.py\", line 315, in _bootstrap\n",
      "    self.run()\n"
     ]
    },
    {
     "name": "stdout",
     "output_type": "stream",
     "text": [
      "389499"
     ]
    },
    {
     "name": "stderr",
     "output_type": "stream",
     "text": [
      "  File \"/scratch/dmoi/condaenvs/ML2/lib/python3.9/multiprocessing/process.py\", line 108, in run\n",
      "    self._target(*self._args, **self._kwargs)\n"
     ]
    },
    {
     "name": "stdout",
     "output_type": "stream",
     "text": [
      "\n",
      "dataset size"
     ]
    },
    {
     "name": "stderr",
     "output_type": "stream",
     "text": [
      "  File \"/scratch/dmoi/condaenvs/ML2/lib/python3.9/multiprocessing/pool.py\", line 109, in worker\n",
      "    initializer(*initargs)\n",
      "Process ForkPoolWorker-491:\n",
      "  File \"/tmp/4730631/ipykernel_631294/4073675763.py\", line 13, in create_data_updown\n",
      "    toss = scipy.stats.bernoulli.rvs(posi_percent, loc=0, size=1, random_state=random.randint())\n"
     ]
    },
    {
     "name": "stdout",
     "output_type": "stream",
     "text": [
      " "
     ]
    },
    {
     "name": "stderr",
     "output_type": "stream",
     "text": [
      "Traceback (most recent call last):\n",
      "TypeError: randint() missing 2 required positional arguments: 'a' and 'b'\n"
     ]
    },
    {
     "name": "stdout",
     "output_type": "stream",
     "text": [
      "97133\n"
     ]
    },
    {
     "name": "stderr",
     "output_type": "stream",
     "text": [
      "  File \"/scratch/dmoi/condaenvs/ML2/lib/python3.9/multiprocessing/process.py\", line 315, in _bootstrap\n",
      "    self.run()\n"
     ]
    },
    {
     "name": "stdout",
     "output_type": "stream",
     "text": [
      "dataset size"
     ]
    },
    {
     "name": "stderr",
     "output_type": "stream",
     "text": [
      "Process ForkPoolWorker-490:\n",
      "  File \"/scratch/dmoi/condaenvs/ML2/lib/python3.9/multiprocessing/process.py\", line 108, in run\n",
      "    self._target(*self._args, **self._kwargs)\n"
     ]
    },
    {
     "name": "stdout",
     "output_type": "stream",
     "text": [
      " "
     ]
    },
    {
     "name": "stderr",
     "output_type": "stream",
     "text": [
      "Traceback (most recent call last):\n",
      "  File \"/scratch/dmoi/condaenvs/ML2/lib/python3.9/multiprocessing/pool.py\", line 109, in worker\n",
      "    initializer(*initargs)\n"
     ]
    },
    {
     "name": "stdout",
     "output_type": "stream",
     "text": [
      "389499"
     ]
    },
    {
     "name": "stderr",
     "output_type": "stream",
     "text": [
      "  File \"/scratch/dmoi/condaenvs/ML2/lib/python3.9/multiprocessing/process.py\", line 315, in _bootstrap\n",
      "    self.run()\n",
      "  File \"/tmp/4730631/ipykernel_631294/4073675763.py\", line 13, in create_data_updown\n",
      "    toss = scipy.stats.bernoulli.rvs(posi_percent, loc=0, size=1, random_state=random.randint())\n"
     ]
    },
    {
     "name": "stdout",
     "output_type": "stream",
     "text": [
      "\n"
     ]
    },
    {
     "name": "stderr",
     "output_type": "stream",
     "text": [
      "  File \"/scratch/dmoi/condaenvs/ML2/lib/python3.9/multiprocessing/process.py\", line 108, in run\n",
      "    self._target(*self._args, **self._kwargs)\n",
      "TypeError: randint() missing 2 required positional arguments: 'a' and 'b'\n"
     ]
    },
    {
     "name": "stdout",
     "output_type": "stream",
     "text": [
      "dataset size"
     ]
    },
    {
     "name": "stderr",
     "output_type": "stream",
     "text": [
      "  File \"/scratch/dmoi/condaenvs/ML2/lib/python3.9/multiprocessing/pool.py\", line 109, in worker\n",
      "    initializer(*initargs)\n",
      "Process ForkPoolWorker-492:\n"
     ]
    },
    {
     "name": "stdout",
     "output_type": "stream",
     "text": [
      " "
     ]
    },
    {
     "name": "stderr",
     "output_type": "stream",
     "text": [
      "  File \"/tmp/4730631/ipykernel_631294/4073675763.py\", line 13, in create_data_updown\n",
      "    toss = scipy.stats.bernoulli.rvs(posi_percent, loc=0, size=1, random_state=random.randint())\n",
      "Traceback (most recent call last):\n"
     ]
    },
    {
     "name": "stdout",
     "output_type": "stream",
     "text": [
      "97133"
     ]
    },
    {
     "name": "stderr",
     "output_type": "stream",
     "text": [
      "TypeError: randint() missing 2 required positional arguments: 'a' and 'b'\n",
      "  File \"/scratch/dmoi/condaenvs/ML2/lib/python3.9/multiprocessing/process.py\", line 315, in _bootstrap\n",
      "    self.run()\n"
     ]
    },
    {
     "name": "stdout",
     "output_type": "stream",
     "text": [
      "\n"
     ]
    },
    {
     "name": "stderr",
     "output_type": "stream",
     "text": [
      "  File \"/scratch/dmoi/condaenvs/ML2/lib/python3.9/multiprocessing/process.py\", line 108, in run\n",
      "    self._target(*self._args, **self._kwargs)\n"
     ]
    },
    {
     "name": "stdout",
     "output_type": "stream",
     "text": [
      "dataset size"
     ]
    },
    {
     "name": "stderr",
     "output_type": "stream",
     "text": [
      "Process ForkPoolWorker-493:\n",
      "  File \"/scratch/dmoi/condaenvs/ML2/lib/python3.9/multiprocessing/pool.py\", line 109, in worker\n",
      "    initializer(*initargs)\n"
     ]
    },
    {
     "name": "stdout",
     "output_type": "stream",
     "text": [
      " "
     ]
    },
    {
     "name": "stderr",
     "output_type": "stream",
     "text": [
      "  File \"/tmp/4730631/ipykernel_631294/4073675763.py\", line 13, in create_data_updown\n",
      "    toss = scipy.stats.bernoulli.rvs(posi_percent, loc=0, size=1, random_state=random.randint())\n",
      "Traceback (most recent call last):\n",
      "  File \"/scratch/dmoi/condaenvs/ML2/lib/python3.9/multiprocessing/process.py\", line 315, in _bootstrap\n",
      "    self.run()\n",
      "TypeError: randint() missing 2 required positional arguments: 'a' and 'b'\n"
     ]
    },
    {
     "name": "stdout",
     "output_type": "stream",
     "text": [
      "389499\n"
     ]
    },
    {
     "name": "stderr",
     "output_type": "stream",
     "text": [
      "  File \"/scratch/dmoi/condaenvs/ML2/lib/python3.9/multiprocessing/process.py\", line 108, in run\n",
      "    self._target(*self._args, **self._kwargs)\n"
     ]
    },
    {
     "name": "stdout",
     "output_type": "stream",
     "text": [
      "dataset size"
     ]
    },
    {
     "name": "stderr",
     "output_type": "stream",
     "text": [
      "  File \"/scratch/dmoi/condaenvs/ML2/lib/python3.9/multiprocessing/pool.py\", line 109, in worker\n",
      "    initializer(*initargs)\n",
      "Process ForkPoolWorker-494:\n"
     ]
    },
    {
     "name": "stdout",
     "output_type": "stream",
     "text": [
      " "
     ]
    },
    {
     "name": "stderr",
     "output_type": "stream",
     "text": [
      "  File \"/tmp/4730631/ipykernel_631294/4073675763.py\", line 13, in create_data_updown\n",
      "    toss = scipy.stats.bernoulli.rvs(posi_percent, loc=0, size=1, random_state=random.randint())\n",
      "Traceback (most recent call last):\n"
     ]
    },
    {
     "name": "stdout",
     "output_type": "stream",
     "text": [
      "97133"
     ]
    },
    {
     "name": "stderr",
     "output_type": "stream",
     "text": [
      "TypeError: randint() missing 2 required positional arguments: 'a' and 'b'\n",
      "  File \"/scratch/dmoi/condaenvs/ML2/lib/python3.9/multiprocessing/process.py\", line 315, in _bootstrap\n",
      "    self.run()\n"
     ]
    },
    {
     "name": "stdout",
     "output_type": "stream",
     "text": [
      "\n"
     ]
    },
    {
     "name": "stderr",
     "output_type": "stream",
     "text": [
      "  File \"/scratch/dmoi/condaenvs/ML2/lib/python3.9/multiprocessing/process.py\", line 108, in run\n",
      "    self._target(*self._args, **self._kwargs)\n"
     ]
    },
    {
     "name": "stdout",
     "output_type": "stream",
     "text": [
      "dataset size"
     ]
    },
    {
     "name": "stderr",
     "output_type": "stream",
     "text": [
      "Process ForkPoolWorker-496:\n",
      "  File \"/scratch/dmoi/condaenvs/ML2/lib/python3.9/multiprocessing/pool.py\", line 109, in worker\n",
      "    initializer(*initargs)\n"
     ]
    },
    {
     "name": "stdout",
     "output_type": "stream",
     "text": [
      " "
     ]
    },
    {
     "name": "stderr",
     "output_type": "stream",
     "text": [
      "Traceback (most recent call last):\n",
      "  File \"/tmp/4730631/ipykernel_631294/4073675763.py\", line 13, in create_data_updown\n",
      "    toss = scipy.stats.bernoulli.rvs(posi_percent, loc=0, size=1, random_state=random.randint())\n"
     ]
    },
    {
     "name": "stdout",
     "output_type": "stream",
     "text": [
      "389499"
     ]
    },
    {
     "name": "stderr",
     "output_type": "stream",
     "text": [
      "  File \"/scratch/dmoi/condaenvs/ML2/lib/python3.9/multiprocessing/process.py\", line 315, in _bootstrap\n",
      "    self.run()\n",
      "TypeError: randint() missing 2 required positional arguments: 'a' and 'b'\n",
      "  File \"/scratch/dmoi/condaenvs/ML2/lib/python3.9/multiprocessing/process.py\", line 108, in run\n",
      "    self._target(*self._args, **self._kwargs)\n"
     ]
    },
    {
     "name": "stdout",
     "output_type": "stream",
     "text": [
      "\n"
     ]
    },
    {
     "name": "stderr",
     "output_type": "stream",
     "text": [
      "  File \"/scratch/dmoi/condaenvs/ML2/lib/python3.9/multiprocessing/pool.py\", line 109, in worker\n",
      "    initializer(*initargs)\n",
      "Process ForkPoolWorker-495:\n",
      "  File \"/tmp/4730631/ipykernel_631294/4073675763.py\", line 13, in create_data_updown\n",
      "    toss = scipy.stats.bernoulli.rvs(posi_percent, loc=0, size=1, random_state=random.randint())\n",
      "Traceback (most recent call last):\n",
      "TypeError: randint() missing 2 required positional arguments: 'a' and 'b'\n",
      "  File \"/scratch/dmoi/condaenvs/ML2/lib/python3.9/multiprocessing/process.py\", line 315, in _bootstrap\n",
      "    self.run()\n",
      "  File \"/scratch/dmoi/condaenvs/ML2/lib/python3.9/multiprocessing/process.py\", line 108, in run\n",
      "    self._target(*self._args, **self._kwargs)\n",
      "  File \"/scratch/dmoi/condaenvs/ML2/lib/python3.9/multiprocessing/pool.py\", line 109, in worker\n",
      "    initializer(*initargs)\n",
      "  File \"/tmp/4730631/ipykernel_631294/4073675763.py\", line 13, in create_data_updown\n",
      "    toss = scipy.stats.bernoulli.rvs(posi_percent, loc=0, size=1, random_state=random.randint())\n",
      "TypeError: randint() missing 2 required positional arguments: 'a' and 'b'\n"
     ]
    },
    {
     "name": "stdout",
     "output_type": "stream",
     "text": [
      "dataset size 97133\n"
     ]
    },
    {
     "name": "stderr",
     "output_type": "stream",
     "text": [
      "Process ForkPoolWorker-497:\n"
     ]
    },
    {
     "name": "stdout",
     "output_type": "stream",
     "text": [
      "dataset size "
     ]
    },
    {
     "name": "stderr",
     "output_type": "stream",
     "text": [
      "Traceback (most recent call last):\n",
      "  File \"/scratch/dmoi/condaenvs/ML2/lib/python3.9/multiprocessing/process.py\", line 315, in _bootstrap\n",
      "    self.run()\n"
     ]
    },
    {
     "name": "stdout",
     "output_type": "stream",
     "text": [
      "389499"
     ]
    },
    {
     "name": "stderr",
     "output_type": "stream",
     "text": [
      "  File \"/scratch/dmoi/condaenvs/ML2/lib/python3.9/multiprocessing/process.py\", line 108, in run\n",
      "    self._target(*self._args, **self._kwargs)\n"
     ]
    },
    {
     "name": "stdout",
     "output_type": "stream",
     "text": [
      "\n"
     ]
    },
    {
     "name": "stderr",
     "output_type": "stream",
     "text": [
      "  File \"/scratch/dmoi/condaenvs/ML2/lib/python3.9/multiprocessing/pool.py\", line 109, in worker\n",
      "    initializer(*initargs)\n"
     ]
    },
    {
     "name": "stdout",
     "output_type": "stream",
     "text": [
      "dataset size"
     ]
    },
    {
     "name": "stderr",
     "output_type": "stream",
     "text": [
      "Process ForkPoolWorker-499:\n",
      "  File \"/tmp/4730631/ipykernel_631294/4073675763.py\", line 13, in create_data_updown\n",
      "    toss = scipy.stats.bernoulli.rvs(posi_percent, loc=0, size=1, random_state=random.randint())\n"
     ]
    },
    {
     "name": "stdout",
     "output_type": "stream",
     "text": [
      " "
     ]
    },
    {
     "name": "stderr",
     "output_type": "stream",
     "text": [
      "Traceback (most recent call last):\n",
      "TypeError: randint() missing 2 required positional arguments: 'a' and 'b'\n"
     ]
    },
    {
     "name": "stdout",
     "output_type": "stream",
     "text": [
      "97133\n"
     ]
    },
    {
     "name": "stderr",
     "output_type": "stream",
     "text": [
      "  File \"/scratch/dmoi/condaenvs/ML2/lib/python3.9/multiprocessing/process.py\", line 315, in _bootstrap\n",
      "    self.run()\n"
     ]
    },
    {
     "name": "stdout",
     "output_type": "stream",
     "text": [
      "dataset size"
     ]
    },
    {
     "name": "stderr",
     "output_type": "stream",
     "text": [
      "Process ForkPoolWorker-498:\n",
      "  File \"/scratch/dmoi/condaenvs/ML2/lib/python3.9/multiprocessing/process.py\", line 108, in run\n",
      "    self._target(*self._args, **self._kwargs)\n"
     ]
    },
    {
     "name": "stdout",
     "output_type": "stream",
     "text": [
      " "
     ]
    },
    {
     "name": "stderr",
     "output_type": "stream",
     "text": [
      "Traceback (most recent call last):\n",
      "  File \"/scratch/dmoi/condaenvs/ML2/lib/python3.9/multiprocessing/pool.py\", line 109, in worker\n",
      "    initializer(*initargs)\n"
     ]
    },
    {
     "name": "stdout",
     "output_type": "stream",
     "text": [
      "389499"
     ]
    },
    {
     "name": "stderr",
     "output_type": "stream",
     "text": [
      "  File \"/scratch/dmoi/condaenvs/ML2/lib/python3.9/multiprocessing/process.py\", line 315, in _bootstrap\n",
      "    self.run()\n",
      "  File \"/tmp/4730631/ipykernel_631294/4073675763.py\", line 13, in create_data_updown\n",
      "    toss = scipy.stats.bernoulli.rvs(posi_percent, loc=0, size=1, random_state=random.randint())\n"
     ]
    },
    {
     "name": "stdout",
     "output_type": "stream",
     "text": [
      "\n"
     ]
    },
    {
     "name": "stderr",
     "output_type": "stream",
     "text": [
      "  File \"/scratch/dmoi/condaenvs/ML2/lib/python3.9/multiprocessing/process.py\", line 108, in run\n",
      "    self._target(*self._args, **self._kwargs)\n",
      "TypeError: randint() missing 2 required positional arguments: 'a' and 'b'\n",
      "Process ForkPoolWorker-500:\n",
      "  File \"/scratch/dmoi/condaenvs/ML2/lib/python3.9/multiprocessing/pool.py\", line 109, in worker\n",
      "    initializer(*initargs)\n"
     ]
    },
    {
     "name": "stdout",
     "output_type": "stream",
     "text": [
      "dataset size"
     ]
    },
    {
     "name": "stderr",
     "output_type": "stream",
     "text": [
      "  File \"/tmp/4730631/ipykernel_631294/4073675763.py\", line 13, in create_data_updown\n",
      "    toss = scipy.stats.bernoulli.rvs(posi_percent, loc=0, size=1, random_state=random.randint())\n",
      "Traceback (most recent call last):\n"
     ]
    },
    {
     "name": "stdout",
     "output_type": "stream",
     "text": [
      " 97133"
     ]
    },
    {
     "name": "stderr",
     "output_type": "stream",
     "text": [
      "  File \"/scratch/dmoi/condaenvs/ML2/lib/python3.9/multiprocessing/process.py\", line 315, in _bootstrap\n",
      "    self.run()\n",
      "TypeError: randint() missing 2 required positional arguments: 'a' and 'b'\n",
      "  File \"/scratch/dmoi/condaenvs/ML2/lib/python3.9/multiprocessing/process.py\", line 108, in run\n",
      "    self._target(*self._args, **self._kwargs)\n"
     ]
    },
    {
     "name": "stdout",
     "output_type": "stream",
     "text": [
      "\n"
     ]
    },
    {
     "name": "stderr",
     "output_type": "stream",
     "text": [
      "  File \"/scratch/dmoi/condaenvs/ML2/lib/python3.9/multiprocessing/pool.py\", line 109, in worker\n",
      "    initializer(*initargs)\n"
     ]
    },
    {
     "name": "stdout",
     "output_type": "stream",
     "text": [
      "dataset size"
     ]
    },
    {
     "name": "stderr",
     "output_type": "stream",
     "text": [
      "Process ForkPoolWorker-501:\n",
      "  File \"/tmp/4730631/ipykernel_631294/4073675763.py\", line 13, in create_data_updown\n",
      "    toss = scipy.stats.bernoulli.rvs(posi_percent, loc=0, size=1, random_state=random.randint())\n"
     ]
    },
    {
     "name": "stdout",
     "output_type": "stream",
     "text": [
      " "
     ]
    },
    {
     "name": "stderr",
     "output_type": "stream",
     "text": [
      "Traceback (most recent call last):\n",
      "TypeError: randint() missing 2 required positional arguments: 'a' and 'b'\n"
     ]
    },
    {
     "name": "stdout",
     "output_type": "stream",
     "text": [
      "389499\n"
     ]
    },
    {
     "name": "stderr",
     "output_type": "stream",
     "text": [
      "  File \"/scratch/dmoi/condaenvs/ML2/lib/python3.9/multiprocessing/process.py\", line 315, in _bootstrap\n",
      "    self.run()\n"
     ]
    },
    {
     "name": "stdout",
     "output_type": "stream",
     "text": [
      "dataset size"
     ]
    },
    {
     "name": "stderr",
     "output_type": "stream",
     "text": [
      "  File \"/scratch/dmoi/condaenvs/ML2/lib/python3.9/multiprocessing/process.py\", line 108, in run\n",
      "    self._target(*self._args, **self._kwargs)\n",
      "Process ForkPoolWorker-502:\n"
     ]
    },
    {
     "name": "stdout",
     "output_type": "stream",
     "text": [
      " "
     ]
    },
    {
     "name": "stderr",
     "output_type": "stream",
     "text": [
      "  File \"/scratch/dmoi/condaenvs/ML2/lib/python3.9/multiprocessing/pool.py\", line 109, in worker\n",
      "    initializer(*initargs)\n",
      "Traceback (most recent call last):\n"
     ]
    },
    {
     "name": "stdout",
     "output_type": "stream",
     "text": [
      "97133"
     ]
    },
    {
     "name": "stderr",
     "output_type": "stream",
     "text": [
      "  File \"/tmp/4730631/ipykernel_631294/4073675763.py\", line 13, in create_data_updown\n",
      "    toss = scipy.stats.bernoulli.rvs(posi_percent, loc=0, size=1, random_state=random.randint())\n",
      "  File \"/scratch/dmoi/condaenvs/ML2/lib/python3.9/multiprocessing/process.py\", line 315, in _bootstrap\n",
      "    self.run()\n"
     ]
    },
    {
     "name": "stdout",
     "output_type": "stream",
     "text": [
      "\n"
     ]
    },
    {
     "name": "stderr",
     "output_type": "stream",
     "text": [
      "TypeError: randint() missing 2 required positional arguments: 'a' and 'b'\n",
      "  File \"/scratch/dmoi/condaenvs/ML2/lib/python3.9/multiprocessing/process.py\", line 108, in run\n",
      "    self._target(*self._args, **self._kwargs)\n"
     ]
    },
    {
     "name": "stdout",
     "output_type": "stream",
     "text": [
      "dataset size"
     ]
    },
    {
     "name": "stderr",
     "output_type": "stream",
     "text": [
      "Process ForkPoolWorker-503:\n",
      "  File \"/scratch/dmoi/condaenvs/ML2/lib/python3.9/multiprocessing/pool.py\", line 109, in worker\n",
      "    initializer(*initargs)\n"
     ]
    },
    {
     "name": "stdout",
     "output_type": "stream",
     "text": [
      " "
     ]
    },
    {
     "name": "stderr",
     "output_type": "stream",
     "text": [
      "Traceback (most recent call last):\n",
      "  File \"/tmp/4730631/ipykernel_631294/4073675763.py\", line 13, in create_data_updown\n",
      "    toss = scipy.stats.bernoulli.rvs(posi_percent, loc=0, size=1, random_state=random.randint())\n"
     ]
    },
    {
     "name": "stdout",
     "output_type": "stream",
     "text": [
      "389499"
     ]
    },
    {
     "name": "stderr",
     "output_type": "stream",
     "text": [
      "  File \"/scratch/dmoi/condaenvs/ML2/lib/python3.9/multiprocessing/process.py\", line 315, in _bootstrap\n",
      "    self.run()\n"
     ]
    },
    {
     "name": "stdout",
     "output_type": "stream",
     "text": [
      "\n"
     ]
    },
    {
     "name": "stderr",
     "output_type": "stream",
     "text": [
      "TypeError: randint() missing 2 required positional arguments: 'a' and 'b'\n",
      "  File \"/scratch/dmoi/condaenvs/ML2/lib/python3.9/multiprocessing/process.py\", line 108, in run\n",
      "    self._target(*self._args, **self._kwargs)\n",
      "Process ForkPoolWorker-504:\n",
      "  File \"/scratch/dmoi/condaenvs/ML2/lib/python3.9/multiprocessing/pool.py\", line 109, in worker\n",
      "    initializer(*initargs)\n",
      "  File \"/tmp/4730631/ipykernel_631294/4073675763.py\", line 13, in create_data_updown\n",
      "    toss = scipy.stats.bernoulli.rvs(posi_percent, loc=0, size=1, random_state=random.randint())\n",
      "Traceback (most recent call last):\n",
      "  File \"/scratch/dmoi/condaenvs/ML2/lib/python3.9/multiprocessing/process.py\", line 315, in _bootstrap\n",
      "    self.run()\n",
      "TypeError: randint() missing 2 required positional arguments: 'a' and 'b'\n",
      "  File \"/scratch/dmoi/condaenvs/ML2/lib/python3.9/multiprocessing/process.py\", line 108, in run\n",
      "    self._target(*self._args, **self._kwargs)\n",
      "  File \"/scratch/dmoi/condaenvs/ML2/lib/python3.9/multiprocessing/pool.py\", line 109, in worker\n",
      "    initializer(*initargs)\n",
      "  File \"/tmp/4730631/ipykernel_631294/4073675763.py\", line 13, in create_data_updown\n",
      "    toss = scipy.stats.bernoulli.rvs(posi_percent, loc=0, size=1, random_state=random.randint())\n",
      "TypeError: randint() missing 2 required positional arguments: 'a' and 'b'\n"
     ]
    },
    {
     "name": "stdout",
     "output_type": "stream",
     "text": [
      "dataset size 97133\n"
     ]
    },
    {
     "name": "stderr",
     "output_type": "stream",
     "text": [
      "Process ForkPoolWorker-505:\n"
     ]
    },
    {
     "name": "stdout",
     "output_type": "stream",
     "text": [
      "dataset size "
     ]
    },
    {
     "name": "stderr",
     "output_type": "stream",
     "text": [
      "Traceback (most recent call last):\n"
     ]
    },
    {
     "name": "stdout",
     "output_type": "stream",
     "text": [
      "389499"
     ]
    },
    {
     "name": "stderr",
     "output_type": "stream",
     "text": [
      "  File \"/scratch/dmoi/condaenvs/ML2/lib/python3.9/multiprocessing/process.py\", line 315, in _bootstrap\n",
      "    self.run()\n",
      "  File \"/scratch/dmoi/condaenvs/ML2/lib/python3.9/multiprocessing/process.py\", line 108, in run\n",
      "    self._target(*self._args, **self._kwargs)\n"
     ]
    },
    {
     "name": "stdout",
     "output_type": "stream",
     "text": [
      "\n"
     ]
    },
    {
     "name": "stderr",
     "output_type": "stream",
     "text": [
      "  File \"/scratch/dmoi/condaenvs/ML2/lib/python3.9/multiprocessing/pool.py\", line 109, in worker\n",
      "    initializer(*initargs)\n"
     ]
    },
    {
     "name": "stdout",
     "output_type": "stream",
     "text": [
      "dataset size"
     ]
    },
    {
     "name": "stderr",
     "output_type": "stream",
     "text": [
      "  File \"/tmp/4730631/ipykernel_631294/4073675763.py\", line 13, in create_data_updown\n",
      "    toss = scipy.stats.bernoulli.rvs(posi_percent, loc=0, size=1, random_state=random.randint())\n"
     ]
    },
    {
     "name": "stdout",
     "output_type": "stream",
     "text": [
      " "
     ]
    },
    {
     "name": "stderr",
     "output_type": "stream",
     "text": [
      "Process ForkPoolWorker-506:\n",
      "TypeError: randint() missing 2 required positional arguments: 'a' and 'b'\n"
     ]
    },
    {
     "name": "stdout",
     "output_type": "stream",
     "text": [
      "97133"
     ]
    },
    {
     "name": "stderr",
     "output_type": "stream",
     "text": [
      "Traceback (most recent call last):\n"
     ]
    },
    {
     "name": "stdout",
     "output_type": "stream",
     "text": [
      "\n"
     ]
    },
    {
     "name": "stderr",
     "output_type": "stream",
     "text": [
      "  File \"/scratch/dmoi/condaenvs/ML2/lib/python3.9/multiprocessing/process.py\", line 315, in _bootstrap\n",
      "    self.run()\n"
     ]
    },
    {
     "name": "stdout",
     "output_type": "stream",
     "text": [
      "dataset size"
     ]
    },
    {
     "name": "stderr",
     "output_type": "stream",
     "text": [
      "Process ForkPoolWorker-507:\n",
      "  File \"/scratch/dmoi/condaenvs/ML2/lib/python3.9/multiprocessing/process.py\", line 108, in run\n",
      "    self._target(*self._args, **self._kwargs)\n"
     ]
    },
    {
     "name": "stdout",
     "output_type": "stream",
     "text": [
      " "
     ]
    },
    {
     "name": "stderr",
     "output_type": "stream",
     "text": [
      "Traceback (most recent call last):\n",
      "  File \"/scratch/dmoi/condaenvs/ML2/lib/python3.9/multiprocessing/pool.py\", line 109, in worker\n",
      "    initializer(*initargs)\n"
     ]
    },
    {
     "name": "stdout",
     "output_type": "stream",
     "text": [
      "389499"
     ]
    },
    {
     "name": "stderr",
     "output_type": "stream",
     "text": [
      "  File \"/scratch/dmoi/condaenvs/ML2/lib/python3.9/multiprocessing/process.py\", line 315, in _bootstrap\n",
      "    self.run()\n",
      "  File \"/tmp/4730631/ipykernel_631294/4073675763.py\", line 13, in create_data_updown\n",
      "    toss = scipy.stats.bernoulli.rvs(posi_percent, loc=0, size=1, random_state=random.randint())\n",
      "  File \"/scratch/dmoi/condaenvs/ML2/lib/python3.9/multiprocessing/process.py\", line 108, in run\n",
      "    self._target(*self._args, **self._kwargs)\n"
     ]
    },
    {
     "name": "stdout",
     "output_type": "stream",
     "text": [
      "\n"
     ]
    },
    {
     "name": "stderr",
     "output_type": "stream",
     "text": [
      "TypeError: randint() missing 2 required positional arguments: 'a' and 'b'\n"
     ]
    },
    {
     "name": "stdout",
     "output_type": "stream",
     "text": [
      "dataset size"
     ]
    },
    {
     "name": "stderr",
     "output_type": "stream",
     "text": [
      "  File \"/scratch/dmoi/condaenvs/ML2/lib/python3.9/multiprocessing/pool.py\", line 109, in worker\n",
      "    initializer(*initargs)\n"
     ]
    },
    {
     "name": "stdout",
     "output_type": "stream",
     "text": [
      " "
     ]
    },
    {
     "name": "stderr",
     "output_type": "stream",
     "text": [
      "  File \"/tmp/4730631/ipykernel_631294/4073675763.py\", line 13, in create_data_updown\n",
      "    toss = scipy.stats.bernoulli.rvs(posi_percent, loc=0, size=1, random_state=random.randint())\n",
      "Process ForkPoolWorker-508:\n"
     ]
    },
    {
     "name": "stdout",
     "output_type": "stream",
     "text": [
      "97133"
     ]
    },
    {
     "name": "stderr",
     "output_type": "stream",
     "text": [
      "TypeError: randint() missing 2 required positional arguments: 'a' and 'b'\n",
      "Traceback (most recent call last):\n"
     ]
    },
    {
     "name": "stdout",
     "output_type": "stream",
     "text": [
      "\n"
     ]
    },
    {
     "name": "stderr",
     "output_type": "stream",
     "text": [
      "  File \"/scratch/dmoi/condaenvs/ML2/lib/python3.9/multiprocessing/process.py\", line 315, in _bootstrap\n",
      "    self.run()\n"
     ]
    },
    {
     "name": "stdout",
     "output_type": "stream",
     "text": [
      "dataset size"
     ]
    },
    {
     "name": "stderr",
     "output_type": "stream",
     "text": [
      "Process ForkPoolWorker-509:\n",
      "  File \"/scratch/dmoi/condaenvs/ML2/lib/python3.9/multiprocessing/process.py\", line 108, in run\n",
      "    self._target(*self._args, **self._kwargs)\n"
     ]
    },
    {
     "name": "stdout",
     "output_type": "stream",
     "text": [
      " "
     ]
    },
    {
     "name": "stderr",
     "output_type": "stream",
     "text": [
      "Traceback (most recent call last):\n",
      "  File \"/scratch/dmoi/condaenvs/ML2/lib/python3.9/multiprocessing/pool.py\", line 109, in worker\n",
      "    initializer(*initargs)\n"
     ]
    },
    {
     "name": "stdout",
     "output_type": "stream",
     "text": [
      "389499"
     ]
    },
    {
     "name": "stderr",
     "output_type": "stream",
     "text": [
      "  File \"/scratch/dmoi/condaenvs/ML2/lib/python3.9/multiprocessing/process.py\", line 315, in _bootstrap\n",
      "    self.run()\n",
      "  File \"/tmp/4730631/ipykernel_631294/4073675763.py\", line 13, in create_data_updown\n",
      "    toss = scipy.stats.bernoulli.rvs(posi_percent, loc=0, size=1, random_state=random.randint())\n"
     ]
    },
    {
     "name": "stdout",
     "output_type": "stream",
     "text": [
      "\n"
     ]
    },
    {
     "name": "stderr",
     "output_type": "stream",
     "text": [
      "  File \"/scratch/dmoi/condaenvs/ML2/lib/python3.9/multiprocessing/process.py\", line 108, in run\n",
      "    self._target(*self._args, **self._kwargs)\n",
      "TypeError: randint() missing 2 required positional arguments: 'a' and 'b'\n"
     ]
    },
    {
     "name": "stdout",
     "output_type": "stream",
     "text": [
      "dataset size"
     ]
    },
    {
     "name": "stderr",
     "output_type": "stream",
     "text": [
      "  File \"/scratch/dmoi/condaenvs/ML2/lib/python3.9/multiprocessing/pool.py\", line 109, in worker\n",
      "    initializer(*initargs)\n",
      "Process ForkPoolWorker-510:\n"
     ]
    },
    {
     "name": "stdout",
     "output_type": "stream",
     "text": [
      " "
     ]
    },
    {
     "name": "stderr",
     "output_type": "stream",
     "text": [
      "  File \"/tmp/4730631/ipykernel_631294/4073675763.py\", line 13, in create_data_updown\n",
      "    toss = scipy.stats.bernoulli.rvs(posi_percent, loc=0, size=1, random_state=random.randint())\n",
      "Traceback (most recent call last):\n"
     ]
    },
    {
     "name": "stdout",
     "output_type": "stream",
     "text": [
      "97133"
     ]
    },
    {
     "name": "stderr",
     "output_type": "stream",
     "text": [
      "TypeError: randint() missing 2 required positional arguments: 'a' and 'b'\n",
      "  File \"/scratch/dmoi/condaenvs/ML2/lib/python3.9/multiprocessing/process.py\", line 315, in _bootstrap\n",
      "    self.run()\n",
      "  File \"/scratch/dmoi/condaenvs/ML2/lib/python3.9/multiprocessing/process.py\", line 108, in run\n",
      "    self._target(*self._args, **self._kwargs)\n"
     ]
    },
    {
     "name": "stdout",
     "output_type": "stream",
     "text": [
      "\n"
     ]
    },
    {
     "name": "stderr",
     "output_type": "stream",
     "text": [
      "  File \"/scratch/dmoi/condaenvs/ML2/lib/python3.9/multiprocessing/pool.py\", line 109, in worker\n",
      "    initializer(*initargs)\n"
     ]
    },
    {
     "name": "stdout",
     "output_type": "stream",
     "text": [
      "dataset size"
     ]
    },
    {
     "name": "stderr",
     "output_type": "stream",
     "text": [
      "Process ForkPoolWorker-511:\n",
      "  File \"/tmp/4730631/ipykernel_631294/4073675763.py\", line 13, in create_data_updown\n",
      "    toss = scipy.stats.bernoulli.rvs(posi_percent, loc=0, size=1, random_state=random.randint())\n"
     ]
    },
    {
     "name": "stdout",
     "output_type": "stream",
     "text": [
      " "
     ]
    },
    {
     "name": "stderr",
     "output_type": "stream",
     "text": [
      "Traceback (most recent call last):\n",
      "TypeError: randint() missing 2 required positional arguments: 'a' and 'b'\n"
     ]
    },
    {
     "name": "stdout",
     "output_type": "stream",
     "text": [
      "389499"
     ]
    },
    {
     "name": "stderr",
     "output_type": "stream",
     "text": [
      "  File \"/scratch/dmoi/condaenvs/ML2/lib/python3.9/multiprocessing/process.py\", line 315, in _bootstrap\n",
      "    self.run()\n"
     ]
    },
    {
     "name": "stdout",
     "output_type": "stream",
     "text": [
      "\n"
     ]
    },
    {
     "name": "stderr",
     "output_type": "stream",
     "text": [
      "  File \"/scratch/dmoi/condaenvs/ML2/lib/python3.9/multiprocessing/process.py\", line 108, in run\n",
      "    self._target(*self._args, **self._kwargs)\n",
      "Process ForkPoolWorker-512:\n",
      "  File \"/scratch/dmoi/condaenvs/ML2/lib/python3.9/multiprocessing/pool.py\", line 109, in worker\n",
      "    initializer(*initargs)\n",
      "Traceback (most recent call last):\n",
      "  File \"/tmp/4730631/ipykernel_631294/4073675763.py\", line 13, in create_data_updown\n",
      "    toss = scipy.stats.bernoulli.rvs(posi_percent, loc=0, size=1, random_state=random.randint())\n",
      "  File \"/scratch/dmoi/condaenvs/ML2/lib/python3.9/multiprocessing/process.py\", line 315, in _bootstrap\n",
      "    self.run()\n",
      "TypeError: randint() missing 2 required positional arguments: 'a' and 'b'\n",
      "  File \"/scratch/dmoi/condaenvs/ML2/lib/python3.9/multiprocessing/process.py\", line 108, in run\n",
      "    self._target(*self._args, **self._kwargs)\n",
      "  File \"/scratch/dmoi/condaenvs/ML2/lib/python3.9/multiprocessing/pool.py\", line 109, in worker\n",
      "    initializer(*initargs)\n",
      "  File \"/tmp/4730631/ipykernel_631294/4073675763.py\", line 13, in create_data_updown\n",
      "    toss = scipy.stats.bernoulli.rvs(posi_percent, loc=0, size=1, random_state=random.randint())\n",
      "TypeError: randint() missing 2 required positional arguments: 'a' and 'b'\n"
     ]
    },
    {
     "name": "stdout",
     "output_type": "stream",
     "text": [
      "dataset size 97133\n"
     ]
    },
    {
     "name": "stderr",
     "output_type": "stream",
     "text": [
      "Process ForkPoolWorker-513:\n"
     ]
    },
    {
     "name": "stdout",
     "output_type": "stream",
     "text": [
      "dataset size"
     ]
    },
    {
     "name": "stderr",
     "output_type": "stream",
     "text": [
      "Traceback (most recent call last):\n"
     ]
    },
    {
     "name": "stdout",
     "output_type": "stream",
     "text": [
      " "
     ]
    },
    {
     "name": "stderr",
     "output_type": "stream",
     "text": [
      "  File \"/scratch/dmoi/condaenvs/ML2/lib/python3.9/multiprocessing/process.py\", line 315, in _bootstrap\n",
      "    self.run()\n"
     ]
    },
    {
     "name": "stdout",
     "output_type": "stream",
     "text": [
      "389499\n"
     ]
    },
    {
     "name": "stderr",
     "output_type": "stream",
     "text": [
      "  File \"/scratch/dmoi/condaenvs/ML2/lib/python3.9/multiprocessing/process.py\", line 108, in run\n",
      "    self._target(*self._args, **self._kwargs)\n"
     ]
    },
    {
     "name": "stdout",
     "output_type": "stream",
     "text": [
      "dataset size"
     ]
    },
    {
     "name": "stderr",
     "output_type": "stream",
     "text": [
      "  File \"/scratch/dmoi/condaenvs/ML2/lib/python3.9/multiprocessing/pool.py\", line 109, in worker\n",
      "    initializer(*initargs)\n",
      "  File \"/tmp/4730631/ipykernel_631294/4073675763.py\", line 13, in create_data_updown\n",
      "    toss = scipy.stats.bernoulli.rvs(posi_percent, loc=0, size=1, random_state=random.randint())\n"
     ]
    },
    {
     "name": "stdout",
     "output_type": "stream",
     "text": [
      " "
     ]
    },
    {
     "name": "stderr",
     "output_type": "stream",
     "text": [
      "Process ForkPoolWorker-515:\n",
      "TypeError: randint() missing 2 required positional arguments: 'a' and 'b'\n"
     ]
    },
    {
     "name": "stdout",
     "output_type": "stream",
     "text": [
      "97133"
     ]
    },
    {
     "name": "stderr",
     "output_type": "stream",
     "text": [
      "Traceback (most recent call last):\n"
     ]
    },
    {
     "name": "stdout",
     "output_type": "stream",
     "text": [
      "\n"
     ]
    },
    {
     "name": "stderr",
     "output_type": "stream",
     "text": [
      "  File \"/scratch/dmoi/condaenvs/ML2/lib/python3.9/multiprocessing/process.py\", line 315, in _bootstrap\n",
      "    self.run()\n"
     ]
    },
    {
     "name": "stdout",
     "output_type": "stream",
     "text": [
      "dataset size"
     ]
    },
    {
     "name": "stderr",
     "output_type": "stream",
     "text": [
      "Process ForkPoolWorker-514:\n",
      "  File \"/scratch/dmoi/condaenvs/ML2/lib/python3.9/multiprocessing/process.py\", line 108, in run\n",
      "    self._target(*self._args, **self._kwargs)\n"
     ]
    },
    {
     "name": "stdout",
     "output_type": "stream",
     "text": [
      " "
     ]
    },
    {
     "name": "stderr",
     "output_type": "stream",
     "text": [
      "Traceback (most recent call last):\n",
      "  File \"/scratch/dmoi/condaenvs/ML2/lib/python3.9/multiprocessing/pool.py\", line 109, in worker\n",
      "    initializer(*initargs)\n"
     ]
    },
    {
     "name": "stdout",
     "output_type": "stream",
     "text": [
      "389499"
     ]
    },
    {
     "name": "stderr",
     "output_type": "stream",
     "text": [
      "  File \"/scratch/dmoi/condaenvs/ML2/lib/python3.9/multiprocessing/process.py\", line 315, in _bootstrap\n",
      "    self.run()\n",
      "  File \"/tmp/4730631/ipykernel_631294/4073675763.py\", line 13, in create_data_updown\n",
      "    toss = scipy.stats.bernoulli.rvs(posi_percent, loc=0, size=1, random_state=random.randint())\n"
     ]
    },
    {
     "name": "stdout",
     "output_type": "stream",
     "text": [
      "\n"
     ]
    },
    {
     "name": "stderr",
     "output_type": "stream",
     "text": [
      "  File \"/scratch/dmoi/condaenvs/ML2/lib/python3.9/multiprocessing/process.py\", line 108, in run\n",
      "    self._target(*self._args, **self._kwargs)\n",
      "TypeError: randint() missing 2 required positional arguments: 'a' and 'b'\n"
     ]
    },
    {
     "name": "stdout",
     "output_type": "stream",
     "text": [
      "dataset size"
     ]
    },
    {
     "name": "stderr",
     "output_type": "stream",
     "text": [
      "  File \"/scratch/dmoi/condaenvs/ML2/lib/python3.9/multiprocessing/pool.py\", line 109, in worker\n",
      "    initializer(*initargs)\n"
     ]
    },
    {
     "name": "stdout",
     "output_type": "stream",
     "text": [
      " "
     ]
    },
    {
     "name": "stderr",
     "output_type": "stream",
     "text": [
      "Process ForkPoolWorker-516:\n",
      "  File \"/tmp/4730631/ipykernel_631294/4073675763.py\", line 13, in create_data_updown\n",
      "    toss = scipy.stats.bernoulli.rvs(posi_percent, loc=0, size=1, random_state=random.randint())\n"
     ]
    },
    {
     "name": "stdout",
     "output_type": "stream",
     "text": [
      "97133"
     ]
    },
    {
     "name": "stderr",
     "output_type": "stream",
     "text": [
      "Traceback (most recent call last):\n",
      "TypeError: randint() missing 2 required positional arguments: 'a' and 'b'\n"
     ]
    },
    {
     "name": "stdout",
     "output_type": "stream",
     "text": [
      "\n"
     ]
    },
    {
     "name": "stderr",
     "output_type": "stream",
     "text": [
      "  File \"/scratch/dmoi/condaenvs/ML2/lib/python3.9/multiprocessing/process.py\", line 315, in _bootstrap\n",
      "    self.run()\n"
     ]
    },
    {
     "name": "stdout",
     "output_type": "stream",
     "text": [
      "dataset size"
     ]
    },
    {
     "name": "stderr",
     "output_type": "stream",
     "text": [
      "Process ForkPoolWorker-517:\n",
      "  File \"/scratch/dmoi/condaenvs/ML2/lib/python3.9/multiprocessing/process.py\", line 108, in run\n",
      "    self._target(*self._args, **self._kwargs)\n"
     ]
    },
    {
     "name": "stdout",
     "output_type": "stream",
     "text": [
      " "
     ]
    },
    {
     "name": "stderr",
     "output_type": "stream",
     "text": [
      "  File \"/scratch/dmoi/condaenvs/ML2/lib/python3.9/multiprocessing/pool.py\", line 109, in worker\n",
      "    initializer(*initargs)\n",
      "Traceback (most recent call last):\n"
     ]
    },
    {
     "name": "stdout",
     "output_type": "stream",
     "text": [
      "389499"
     ]
    },
    {
     "name": "stderr",
     "output_type": "stream",
     "text": [
      "  File \"/scratch/dmoi/condaenvs/ML2/lib/python3.9/multiprocessing/process.py\", line 315, in _bootstrap\n",
      "    self.run()\n",
      "  File \"/tmp/4730631/ipykernel_631294/4073675763.py\", line 13, in create_data_updown\n",
      "    toss = scipy.stats.bernoulli.rvs(posi_percent, loc=0, size=1, random_state=random.randint())\n",
      "  File \"/scratch/dmoi/condaenvs/ML2/lib/python3.9/multiprocessing/process.py\", line 108, in run\n",
      "    self._target(*self._args, **self._kwargs)\n",
      "TypeError: randint() missing 2 required positional arguments: 'a' and 'b'\n"
     ]
    },
    {
     "name": "stdout",
     "output_type": "stream",
     "text": [
      "\n"
     ]
    },
    {
     "name": "stderr",
     "output_type": "stream",
     "text": [
      "  File \"/scratch/dmoi/condaenvs/ML2/lib/python3.9/multiprocessing/pool.py\", line 109, in worker\n",
      "    initializer(*initargs)\n"
     ]
    },
    {
     "name": "stdout",
     "output_type": "stream",
     "text": [
      "dataset size"
     ]
    },
    {
     "name": "stderr",
     "output_type": "stream",
     "text": [
      "Process ForkPoolWorker-518:\n",
      "  File \"/tmp/4730631/ipykernel_631294/4073675763.py\", line 13, in create_data_updown\n",
      "    toss = scipy.stats.bernoulli.rvs(posi_percent, loc=0, size=1, random_state=random.randint())\n"
     ]
    },
    {
     "name": "stdout",
     "output_type": "stream",
     "text": [
      " "
     ]
    },
    {
     "name": "stderr",
     "output_type": "stream",
     "text": [
      "Traceback (most recent call last):\n",
      "TypeError: randint() missing 2 required positional arguments: 'a' and 'b'\n"
     ]
    },
    {
     "name": "stdout",
     "output_type": "stream",
     "text": [
      "97133\n"
     ]
    },
    {
     "name": "stderr",
     "output_type": "stream",
     "text": [
      "  File \"/scratch/dmoi/condaenvs/ML2/lib/python3.9/multiprocessing/process.py\", line 315, in _bootstrap\n",
      "    self.run()\n"
     ]
    },
    {
     "name": "stdout",
     "output_type": "stream",
     "text": [
      "dataset size"
     ]
    },
    {
     "name": "stderr",
     "output_type": "stream",
     "text": [
      "Process ForkPoolWorker-519:\n",
      "  File \"/scratch/dmoi/condaenvs/ML2/lib/python3.9/multiprocessing/process.py\", line 108, in run\n",
      "    self._target(*self._args, **self._kwargs)\n"
     ]
    },
    {
     "name": "stdout",
     "output_type": "stream",
     "text": [
      " "
     ]
    },
    {
     "name": "stderr",
     "output_type": "stream",
     "text": [
      "Traceback (most recent call last):\n",
      "  File \"/scratch/dmoi/condaenvs/ML2/lib/python3.9/multiprocessing/pool.py\", line 109, in worker\n",
      "    initializer(*initargs)\n"
     ]
    },
    {
     "name": "stdout",
     "output_type": "stream",
     "text": [
      "389499"
     ]
    },
    {
     "name": "stderr",
     "output_type": "stream",
     "text": [
      "  File \"/scratch/dmoi/condaenvs/ML2/lib/python3.9/multiprocessing/process.py\", line 315, in _bootstrap\n",
      "    self.run()\n",
      "  File \"/tmp/4730631/ipykernel_631294/4073675763.py\", line 13, in create_data_updown\n",
      "    toss = scipy.stats.bernoulli.rvs(posi_percent, loc=0, size=1, random_state=random.randint())\n"
     ]
    },
    {
     "name": "stdout",
     "output_type": "stream",
     "text": [
      "\n"
     ]
    },
    {
     "name": "stderr",
     "output_type": "stream",
     "text": [
      "  File \"/scratch/dmoi/condaenvs/ML2/lib/python3.9/multiprocessing/process.py\", line 108, in run\n",
      "    self._target(*self._args, **self._kwargs)\n",
      "TypeError: randint() missing 2 required positional arguments: 'a' and 'b'\n",
      "Process ForkPoolWorker-520:\n",
      "  File \"/scratch/dmoi/condaenvs/ML2/lib/python3.9/multiprocessing/pool.py\", line 109, in worker\n",
      "    initializer(*initargs)\n",
      "Traceback (most recent call last):\n",
      "  File \"/tmp/4730631/ipykernel_631294/4073675763.py\", line 13, in create_data_updown\n",
      "    toss = scipy.stats.bernoulli.rvs(posi_percent, loc=0, size=1, random_state=random.randint())\n",
      "  File \"/scratch/dmoi/condaenvs/ML2/lib/python3.9/multiprocessing/process.py\", line 315, in _bootstrap\n",
      "    self.run()\n",
      "TypeError: randint() missing 2 required positional arguments: 'a' and 'b'\n",
      "  File \"/scratch/dmoi/condaenvs/ML2/lib/python3.9/multiprocessing/process.py\", line 108, in run\n",
      "    self._target(*self._args, **self._kwargs)\n",
      "  File \"/scratch/dmoi/condaenvs/ML2/lib/python3.9/multiprocessing/pool.py\", line 109, in worker\n",
      "    initializer(*initargs)\n",
      "  File \"/tmp/4730631/ipykernel_631294/4073675763.py\", line 13, in create_data_updown\n",
      "    toss = scipy.stats.bernoulli.rvs(posi_percent, loc=0, size=1, random_state=random.randint())\n",
      "TypeError: randint() missing 2 required positional arguments: 'a' and 'b'\n"
     ]
    },
    {
     "name": "stdout",
     "output_type": "stream",
     "text": [
      "dataset size 97133\n"
     ]
    },
    {
     "name": "stderr",
     "output_type": "stream",
     "text": [
      "Process ForkPoolWorker-521:\n"
     ]
    },
    {
     "name": "stdout",
     "output_type": "stream",
     "text": [
      "dataset size "
     ]
    },
    {
     "name": "stderr",
     "output_type": "stream",
     "text": [
      "Traceback (most recent call last):\n"
     ]
    },
    {
     "name": "stdout",
     "output_type": "stream",
     "text": [
      "389499"
     ]
    },
    {
     "name": "stderr",
     "output_type": "stream",
     "text": [
      "  File \"/scratch/dmoi/condaenvs/ML2/lib/python3.9/multiprocessing/process.py\", line 315, in _bootstrap\n",
      "    self.run()\n"
     ]
    },
    {
     "name": "stdout",
     "output_type": "stream",
     "text": [
      "\n"
     ]
    },
    {
     "name": "stderr",
     "output_type": "stream",
     "text": [
      "  File \"/scratch/dmoi/condaenvs/ML2/lib/python3.9/multiprocessing/process.py\", line 108, in run\n",
      "    self._target(*self._args, **self._kwargs)\n"
     ]
    },
    {
     "name": "stdout",
     "output_type": "stream",
     "text": [
      "dataset size"
     ]
    },
    {
     "name": "stderr",
     "output_type": "stream",
     "text": [
      "  File \"/scratch/dmoi/condaenvs/ML2/lib/python3.9/multiprocessing/pool.py\", line 109, in worker\n",
      "    initializer(*initargs)\n",
      "Process ForkPoolWorker-523:\n",
      "  File \"/tmp/4730631/ipykernel_631294/4073675763.py\", line 13, in create_data_updown\n",
      "    toss = scipy.stats.bernoulli.rvs(posi_percent, loc=0, size=1, random_state=random.randint())\n"
     ]
    },
    {
     "name": "stdout",
     "output_type": "stream",
     "text": [
      " "
     ]
    },
    {
     "name": "stderr",
     "output_type": "stream",
     "text": [
      "Traceback (most recent call last):\n",
      "TypeError: randint() missing 2 required positional arguments: 'a' and 'b'\n"
     ]
    },
    {
     "name": "stdout",
     "output_type": "stream",
     "text": [
      "97133\n"
     ]
    },
    {
     "name": "stderr",
     "output_type": "stream",
     "text": [
      "  File \"/scratch/dmoi/condaenvs/ML2/lib/python3.9/multiprocessing/process.py\", line 315, in _bootstrap\n",
      "    self.run()\n"
     ]
    },
    {
     "name": "stdout",
     "output_type": "stream",
     "text": [
      "dataset size"
     ]
    },
    {
     "name": "stderr",
     "output_type": "stream",
     "text": [
      "Process ForkPoolWorker-522:\n",
      "  File \"/scratch/dmoi/condaenvs/ML2/lib/python3.9/multiprocessing/process.py\", line 108, in run\n",
      "    self._target(*self._args, **self._kwargs)\n"
     ]
    },
    {
     "name": "stdout",
     "output_type": "stream",
     "text": [
      " "
     ]
    },
    {
     "name": "stderr",
     "output_type": "stream",
     "text": [
      "Traceback (most recent call last):\n",
      "  File \"/scratch/dmoi/condaenvs/ML2/lib/python3.9/multiprocessing/pool.py\", line 109, in worker\n",
      "    initializer(*initargs)\n"
     ]
    },
    {
     "name": "stdout",
     "output_type": "stream",
     "text": [
      "389499"
     ]
    },
    {
     "name": "stderr",
     "output_type": "stream",
     "text": [
      "  File \"/scratch/dmoi/condaenvs/ML2/lib/python3.9/multiprocessing/process.py\", line 315, in _bootstrap\n",
      "    self.run()\n",
      "  File \"/tmp/4730631/ipykernel_631294/4073675763.py\", line 13, in create_data_updown\n",
      "    toss = scipy.stats.bernoulli.rvs(posi_percent, loc=0, size=1, random_state=random.randint())\n"
     ]
    },
    {
     "name": "stdout",
     "output_type": "stream",
     "text": [
      "\n"
     ]
    },
    {
     "name": "stderr",
     "output_type": "stream",
     "text": [
      "  File \"/scratch/dmoi/condaenvs/ML2/lib/python3.9/multiprocessing/process.py\", line 108, in run\n",
      "    self._target(*self._args, **self._kwargs)\n",
      "TypeError: randint() missing 2 required positional arguments: 'a' and 'b'\n",
      "  File \"/scratch/dmoi/condaenvs/ML2/lib/python3.9/multiprocessing/pool.py\", line 109, in worker\n",
      "    initializer(*initargs)\n"
     ]
    },
    {
     "name": "stdout",
     "output_type": "stream",
     "text": [
      "dataset size"
     ]
    },
    {
     "name": "stderr",
     "output_type": "stream",
     "text": [
      "Process ForkPoolWorker-524:\n"
     ]
    },
    {
     "name": "stdout",
     "output_type": "stream",
     "text": [
      " "
     ]
    },
    {
     "name": "stderr",
     "output_type": "stream",
     "text": [
      "  File \"/tmp/4730631/ipykernel_631294/4073675763.py\", line 13, in create_data_updown\n",
      "    toss = scipy.stats.bernoulli.rvs(posi_percent, loc=0, size=1, random_state=random.randint())\n",
      "Traceback (most recent call last):\n"
     ]
    },
    {
     "name": "stdout",
     "output_type": "stream",
     "text": [
      "97133"
     ]
    },
    {
     "name": "stderr",
     "output_type": "stream",
     "text": [
      "TypeError: randint() missing 2 required positional arguments: 'a' and 'b'\n",
      "  File \"/scratch/dmoi/condaenvs/ML2/lib/python3.9/multiprocessing/process.py\", line 315, in _bootstrap\n",
      "    self.run()\n"
     ]
    },
    {
     "name": "stdout",
     "output_type": "stream",
     "text": [
      "\n"
     ]
    },
    {
     "name": "stderr",
     "output_type": "stream",
     "text": [
      "  File \"/scratch/dmoi/condaenvs/ML2/lib/python3.9/multiprocessing/process.py\", line 108, in run\n",
      "    self._target(*self._args, **self._kwargs)\n"
     ]
    },
    {
     "name": "stdout",
     "output_type": "stream",
     "text": [
      "dataset size"
     ]
    },
    {
     "name": "stderr",
     "output_type": "stream",
     "text": [
      "  File \"/scratch/dmoi/condaenvs/ML2/lib/python3.9/multiprocessing/pool.py\", line 109, in worker\n",
      "    initializer(*initargs)\n",
      "Process ForkPoolWorker-525:\n"
     ]
    },
    {
     "name": "stdout",
     "output_type": "stream",
     "text": [
      " "
     ]
    },
    {
     "name": "stderr",
     "output_type": "stream",
     "text": [
      "Traceback (most recent call last):\n",
      "  File \"/tmp/4730631/ipykernel_631294/4073675763.py\", line 13, in create_data_updown\n",
      "    toss = scipy.stats.bernoulli.rvs(posi_percent, loc=0, size=1, random_state=random.randint())\n"
     ]
    },
    {
     "name": "stdout",
     "output_type": "stream",
     "text": [
      "389499"
     ]
    },
    {
     "name": "stderr",
     "output_type": "stream",
     "text": [
      "TypeError: randint() missing 2 required positional arguments: 'a' and 'b'\n",
      "  File \"/scratch/dmoi/condaenvs/ML2/lib/python3.9/multiprocessing/process.py\", line 315, in _bootstrap\n",
      "    self.run()\n",
      "  File \"/scratch/dmoi/condaenvs/ML2/lib/python3.9/multiprocessing/process.py\", line 108, in run\n",
      "    self._target(*self._args, **self._kwargs)\n"
     ]
    },
    {
     "name": "stdout",
     "output_type": "stream",
     "text": [
      "\n"
     ]
    },
    {
     "name": "stderr",
     "output_type": "stream",
     "text": [
      "  File \"/scratch/dmoi/condaenvs/ML2/lib/python3.9/multiprocessing/pool.py\", line 109, in worker\n",
      "    initializer(*initargs)\n"
     ]
    },
    {
     "name": "stdout",
     "output_type": "stream",
     "text": [
      "dataset size"
     ]
    },
    {
     "name": "stderr",
     "output_type": "stream",
     "text": [
      "  File \"/tmp/4730631/ipykernel_631294/4073675763.py\", line 13, in create_data_updown\n",
      "    toss = scipy.stats.bernoulli.rvs(posi_percent, loc=0, size=1, random_state=random.randint())\n",
      "Process ForkPoolWorker-526:\n"
     ]
    },
    {
     "name": "stdout",
     "output_type": "stream",
     "text": [
      " "
     ]
    },
    {
     "name": "stderr",
     "output_type": "stream",
     "text": [
      "TypeError: randint() missing 2 required positional arguments: 'a' and 'b'\n",
      "Traceback (most recent call last):\n"
     ]
    },
    {
     "name": "stdout",
     "output_type": "stream",
     "text": [
      "97133"
     ]
    },
    {
     "name": "stderr",
     "output_type": "stream",
     "text": [
      "  File \"/scratch/dmoi/condaenvs/ML2/lib/python3.9/multiprocessing/process.py\", line 315, in _bootstrap\n",
      "    self.run()\n"
     ]
    },
    {
     "name": "stdout",
     "output_type": "stream",
     "text": [
      "\n",
      "dataset size"
     ]
    },
    {
     "name": "stderr",
     "output_type": "stream",
     "text": [
      "  File \"/scratch/dmoi/condaenvs/ML2/lib/python3.9/multiprocessing/process.py\", line 108, in run\n",
      "    self._target(*self._args, **self._kwargs)\n",
      "Process ForkPoolWorker-527:\n"
     ]
    },
    {
     "name": "stdout",
     "output_type": "stream",
     "text": [
      " "
     ]
    },
    {
     "name": "stderr",
     "output_type": "stream",
     "text": [
      "  File \"/scratch/dmoi/condaenvs/ML2/lib/python3.9/multiprocessing/pool.py\", line 109, in worker\n",
      "    initializer(*initargs)\n",
      "Traceback (most recent call last):\n",
      "  File \"/tmp/4730631/ipykernel_631294/4073675763.py\", line 13, in create_data_updown\n",
      "    toss = scipy.stats.bernoulli.rvs(posi_percent, loc=0, size=1, random_state=random.randint())\n"
     ]
    },
    {
     "name": "stdout",
     "output_type": "stream",
     "text": [
      "389499"
     ]
    },
    {
     "name": "stderr",
     "output_type": "stream",
     "text": [
      "  File \"/scratch/dmoi/condaenvs/ML2/lib/python3.9/multiprocessing/process.py\", line 315, in _bootstrap\n",
      "    self.run()\n"
     ]
    },
    {
     "name": "stdout",
     "output_type": "stream",
     "text": [
      "\n"
     ]
    },
    {
     "name": "stderr",
     "output_type": "stream",
     "text": [
      "TypeError: randint() missing 2 required positional arguments: 'a' and 'b'\n",
      "  File \"/scratch/dmoi/condaenvs/ML2/lib/python3.9/multiprocessing/process.py\", line 108, in run\n",
      "    self._target(*self._args, **self._kwargs)\n",
      "  File \"/scratch/dmoi/condaenvs/ML2/lib/python3.9/multiprocessing/pool.py\", line 109, in worker\n",
      "    initializer(*initargs)\n",
      "Process ForkPoolWorker-528:\n",
      "  File \"/tmp/4730631/ipykernel_631294/4073675763.py\", line 13, in create_data_updown\n",
      "    toss = scipy.stats.bernoulli.rvs(posi_percent, loc=0, size=1, random_state=random.randint())\n",
      "Traceback (most recent call last):\n",
      "TypeError: randint() missing 2 required positional arguments: 'a' and 'b'\n",
      "  File \"/scratch/dmoi/condaenvs/ML2/lib/python3.9/multiprocessing/process.py\", line 315, in _bootstrap\n",
      "    self.run()\n",
      "  File \"/scratch/dmoi/condaenvs/ML2/lib/python3.9/multiprocessing/process.py\", line 108, in run\n",
      "    self._target(*self._args, **self._kwargs)\n",
      "  File \"/scratch/dmoi/condaenvs/ML2/lib/python3.9/multiprocessing/pool.py\", line 109, in worker\n",
      "    initializer(*initargs)\n",
      "  File \"/tmp/4730631/ipykernel_631294/4073675763.py\", line 13, in create_data_updown\n",
      "    toss = scipy.stats.bernoulli.rvs(posi_percent, loc=0, size=1, random_state=random.randint())\n",
      "TypeError: randint() missing 2 required positional arguments: 'a' and 'b'\n"
     ]
    },
    {
     "name": "stdout",
     "output_type": "stream",
     "text": [
      "dataset size 97133\n",
      "dataset size"
     ]
    },
    {
     "name": "stderr",
     "output_type": "stream",
     "text": [
      "Process ForkPoolWorker-529:\n"
     ]
    },
    {
     "name": "stdout",
     "output_type": "stream",
     "text": [
      " "
     ]
    },
    {
     "name": "stderr",
     "output_type": "stream",
     "text": [
      "Traceback (most recent call last):\n",
      "  File \"/scratch/dmoi/condaenvs/ML2/lib/python3.9/multiprocessing/process.py\", line 315, in _bootstrap\n",
      "    self.run()\n"
     ]
    },
    {
     "name": "stdout",
     "output_type": "stream",
     "text": [
      "389499"
     ]
    },
    {
     "name": "stderr",
     "output_type": "stream",
     "text": [
      "  File \"/scratch/dmoi/condaenvs/ML2/lib/python3.9/multiprocessing/process.py\", line 108, in run\n",
      "    self._target(*self._args, **self._kwargs)\n"
     ]
    },
    {
     "name": "stdout",
     "output_type": "stream",
     "text": [
      "\n"
     ]
    },
    {
     "name": "stderr",
     "output_type": "stream",
     "text": [
      "  File \"/scratch/dmoi/condaenvs/ML2/lib/python3.9/multiprocessing/pool.py\", line 109, in worker\n",
      "    initializer(*initargs)\n"
     ]
    },
    {
     "name": "stdout",
     "output_type": "stream",
     "text": [
      "dataset size"
     ]
    },
    {
     "name": "stderr",
     "output_type": "stream",
     "text": [
      "Process ForkPoolWorker-531:\n",
      "  File \"/tmp/4730631/ipykernel_631294/4073675763.py\", line 13, in create_data_updown\n",
      "    toss = scipy.stats.bernoulli.rvs(posi_percent, loc=0, size=1, random_state=random.randint())\n",
      "TypeError: randint() missing 2 required positional arguments: 'a' and 'b'\n",
      "Traceback (most recent call last):\n"
     ]
    },
    {
     "name": "stdout",
     "output_type": "stream",
     "text": [
      " "
     ]
    },
    {
     "name": "stderr",
     "output_type": "stream",
     "text": [
      "  File \"/scratch/dmoi/condaenvs/ML2/lib/python3.9/multiprocessing/process.py\", line 315, in _bootstrap\n",
      "    self.run()\n"
     ]
    },
    {
     "name": "stdout",
     "output_type": "stream",
     "text": [
      "97133"
     ]
    },
    {
     "name": "stderr",
     "output_type": "stream",
     "text": [
      "  File \"/scratch/dmoi/condaenvs/ML2/lib/python3.9/multiprocessing/process.py\", line 108, in run\n",
      "    self._target(*self._args, **self._kwargs)\n"
     ]
    },
    {
     "name": "stdout",
     "output_type": "stream",
     "text": [
      "\n"
     ]
    },
    {
     "name": "stderr",
     "output_type": "stream",
     "text": [
      "  File \"/scratch/dmoi/condaenvs/ML2/lib/python3.9/multiprocessing/pool.py\", line 109, in worker\n",
      "    initializer(*initargs)\n",
      "  File \"/tmp/4730631/ipykernel_631294/4073675763.py\", line 13, in create_data_updown\n",
      "    toss = scipy.stats.bernoulli.rvs(posi_percent, loc=0, size=1, random_state=random.randint())\n"
     ]
    },
    {
     "name": "stdout",
     "output_type": "stream",
     "text": [
      "dataset size"
     ]
    },
    {
     "name": "stderr",
     "output_type": "stream",
     "text": [
      "Process ForkPoolWorker-530:\n"
     ]
    },
    {
     "name": "stdout",
     "output_type": "stream",
     "text": [
      " "
     ]
    },
    {
     "name": "stderr",
     "output_type": "stream",
     "text": [
      "TypeError: randint() missing 2 required positional arguments: 'a' and 'b'\n",
      "Traceback (most recent call last):\n",
      "  File \"/scratch/dmoi/condaenvs/ML2/lib/python3.9/multiprocessing/process.py\", line 315, in _bootstrap\n",
      "    self.run()\n"
     ]
    },
    {
     "name": "stdout",
     "output_type": "stream",
     "text": [
      "389499"
     ]
    },
    {
     "name": "stderr",
     "output_type": "stream",
     "text": [
      "  File \"/scratch/dmoi/condaenvs/ML2/lib/python3.9/multiprocessing/process.py\", line 108, in run\n",
      "    self._target(*self._args, **self._kwargs)\n"
     ]
    },
    {
     "name": "stdout",
     "output_type": "stream",
     "text": [
      "\n"
     ]
    },
    {
     "name": "stderr",
     "output_type": "stream",
     "text": [
      "  File \"/scratch/dmoi/condaenvs/ML2/lib/python3.9/multiprocessing/pool.py\", line 109, in worker\n",
      "    initializer(*initargs)\n"
     ]
    },
    {
     "name": "stdout",
     "output_type": "stream",
     "text": [
      "dataset size"
     ]
    },
    {
     "name": "stderr",
     "output_type": "stream",
     "text": [
      "Process ForkPoolWorker-533:\n",
      "  File \"/tmp/4730631/ipykernel_631294/4073675763.py\", line 13, in create_data_updown\n",
      "    toss = scipy.stats.bernoulli.rvs(posi_percent, loc=0, size=1, random_state=random.randint())\n"
     ]
    },
    {
     "name": "stdout",
     "output_type": "stream",
     "text": [
      " "
     ]
    },
    {
     "name": "stderr",
     "output_type": "stream",
     "text": [
      "Traceback (most recent call last):\n",
      "TypeError: randint() missing 2 required positional arguments: 'a' and 'b'\n"
     ]
    },
    {
     "name": "stdout",
     "output_type": "stream",
     "text": [
      "97133\n"
     ]
    },
    {
     "name": "stderr",
     "output_type": "stream",
     "text": [
      "  File \"/scratch/dmoi/condaenvs/ML2/lib/python3.9/multiprocessing/process.py\", line 315, in _bootstrap\n",
      "    self.run()\n"
     ]
    },
    {
     "name": "stdout",
     "output_type": "stream",
     "text": [
      "dataset size"
     ]
    },
    {
     "name": "stderr",
     "output_type": "stream",
     "text": [
      "Process ForkPoolWorker-532:\n",
      "  File \"/scratch/dmoi/condaenvs/ML2/lib/python3.9/multiprocessing/process.py\", line 108, in run\n",
      "    self._target(*self._args, **self._kwargs)\n"
     ]
    },
    {
     "name": "stdout",
     "output_type": "stream",
     "text": [
      " "
     ]
    },
    {
     "name": "stderr",
     "output_type": "stream",
     "text": [
      "Traceback (most recent call last):\n",
      "  File \"/scratch/dmoi/condaenvs/ML2/lib/python3.9/multiprocessing/pool.py\", line 109, in worker\n",
      "    initializer(*initargs)\n"
     ]
    },
    {
     "name": "stdout",
     "output_type": "stream",
     "text": [
      "389499"
     ]
    },
    {
     "name": "stderr",
     "output_type": "stream",
     "text": [
      "  File \"/scratch/dmoi/condaenvs/ML2/lib/python3.9/multiprocessing/process.py\", line 315, in _bootstrap\n",
      "    self.run()\n",
      "  File \"/tmp/4730631/ipykernel_631294/4073675763.py\", line 13, in create_data_updown\n",
      "    toss = scipy.stats.bernoulli.rvs(posi_percent, loc=0, size=1, random_state=random.randint())\n"
     ]
    },
    {
     "name": "stdout",
     "output_type": "stream",
     "text": [
      "\n"
     ]
    },
    {
     "name": "stderr",
     "output_type": "stream",
     "text": [
      "  File \"/scratch/dmoi/condaenvs/ML2/lib/python3.9/multiprocessing/process.py\", line 108, in run\n",
      "    self._target(*self._args, **self._kwargs)\n",
      "TypeError: randint() missing 2 required positional arguments: 'a' and 'b'\n"
     ]
    },
    {
     "name": "stdout",
     "output_type": "stream",
     "text": [
      "dataset size"
     ]
    },
    {
     "name": "stderr",
     "output_type": "stream",
     "text": [
      "  File \"/scratch/dmoi/condaenvs/ML2/lib/python3.9/multiprocessing/pool.py\", line 109, in worker\n",
      "    initializer(*initargs)\n",
      "Process ForkPoolWorker-535:\n"
     ]
    },
    {
     "name": "stdout",
     "output_type": "stream",
     "text": [
      " "
     ]
    },
    {
     "name": "stderr",
     "output_type": "stream",
     "text": [
      "  File \"/tmp/4730631/ipykernel_631294/4073675763.py\", line 13, in create_data_updown\n",
      "    toss = scipy.stats.bernoulli.rvs(posi_percent, loc=0, size=1, random_state=random.randint())\n",
      "Traceback (most recent call last):\n"
     ]
    },
    {
     "name": "stdout",
     "output_type": "stream",
     "text": [
      "97133"
     ]
    },
    {
     "name": "stderr",
     "output_type": "stream",
     "text": [
      "TypeError: randint() missing 2 required positional arguments: 'a' and 'b'\n",
      "  File \"/scratch/dmoi/condaenvs/ML2/lib/python3.9/multiprocessing/process.py\", line 315, in _bootstrap\n",
      "    self.run()\n"
     ]
    },
    {
     "name": "stdout",
     "output_type": "stream",
     "text": [
      "\n"
     ]
    },
    {
     "name": "stderr",
     "output_type": "stream",
     "text": [
      "  File \"/scratch/dmoi/condaenvs/ML2/lib/python3.9/multiprocessing/process.py\", line 108, in run\n",
      "    self._target(*self._args, **self._kwargs)\n"
     ]
    },
    {
     "name": "stdout",
     "output_type": "stream",
     "text": [
      "dataset size"
     ]
    },
    {
     "name": "stderr",
     "output_type": "stream",
     "text": [
      "Process ForkPoolWorker-534:\n",
      "  File \"/scratch/dmoi/condaenvs/ML2/lib/python3.9/multiprocessing/pool.py\", line 109, in worker\n",
      "    initializer(*initargs)\n"
     ]
    },
    {
     "name": "stdout",
     "output_type": "stream",
     "text": [
      " "
     ]
    },
    {
     "name": "stderr",
     "output_type": "stream",
     "text": [
      "Traceback (most recent call last):\n",
      "  File \"/tmp/4730631/ipykernel_631294/4073675763.py\", line 13, in create_data_updown\n",
      "    toss = scipy.stats.bernoulli.rvs(posi_percent, loc=0, size=1, random_state=random.randint())\n"
     ]
    },
    {
     "name": "stdout",
     "output_type": "stream",
     "text": [
      "389499"
     ]
    },
    {
     "name": "stderr",
     "output_type": "stream",
     "text": [
      "  File \"/scratch/dmoi/condaenvs/ML2/lib/python3.9/multiprocessing/process.py\", line 315, in _bootstrap\n",
      "    self.run()\n",
      "TypeError: randint() missing 2 required positional arguments: 'a' and 'b'\n"
     ]
    },
    {
     "name": "stdout",
     "output_type": "stream",
     "text": [
      "\n"
     ]
    },
    {
     "name": "stderr",
     "output_type": "stream",
     "text": [
      "  File \"/scratch/dmoi/condaenvs/ML2/lib/python3.9/multiprocessing/process.py\", line 108, in run\n",
      "    self._target(*self._args, **self._kwargs)\n",
      "  File \"/scratch/dmoi/condaenvs/ML2/lib/python3.9/multiprocessing/pool.py\", line 109, in worker\n",
      "    initializer(*initargs)\n",
      "  File \"/tmp/4730631/ipykernel_631294/4073675763.py\", line 13, in create_data_updown\n",
      "    toss = scipy.stats.bernoulli.rvs(posi_percent, loc=0, size=1, random_state=random.randint())\n",
      "Process ForkPoolWorker-536:\n",
      "TypeError: randint() missing 2 required positional arguments: 'a' and 'b'\n",
      "Traceback (most recent call last):\n",
      "  File \"/scratch/dmoi/condaenvs/ML2/lib/python3.9/multiprocessing/process.py\", line 315, in _bootstrap\n",
      "    self.run()\n",
      "  File \"/scratch/dmoi/condaenvs/ML2/lib/python3.9/multiprocessing/process.py\", line 108, in run\n",
      "    self._target(*self._args, **self._kwargs)\n",
      "  File \"/scratch/dmoi/condaenvs/ML2/lib/python3.9/multiprocessing/pool.py\", line 109, in worker\n",
      "    initializer(*initargs)\n",
      "  File \"/tmp/4730631/ipykernel_631294/4073675763.py\", line 13, in create_data_updown\n",
      "    toss = scipy.stats.bernoulli.rvs(posi_percent, loc=0, size=1, random_state=random.randint())\n",
      "TypeError: randint() missing 2 required positional arguments: 'a' and 'b'\n"
     ]
    },
    {
     "name": "stdout",
     "output_type": "stream",
     "text": [
      "dataset size 97133\n",
      "dataset size"
     ]
    },
    {
     "name": "stderr",
     "output_type": "stream",
     "text": [
      "Process ForkPoolWorker-537:\n"
     ]
    },
    {
     "name": "stdout",
     "output_type": "stream",
     "text": [
      " "
     ]
    },
    {
     "name": "stderr",
     "output_type": "stream",
     "text": [
      "Traceback (most recent call last):\n"
     ]
    },
    {
     "name": "stdout",
     "output_type": "stream",
     "text": [
      "389499"
     ]
    },
    {
     "name": "stderr",
     "output_type": "stream",
     "text": [
      "  File \"/scratch/dmoi/condaenvs/ML2/lib/python3.9/multiprocessing/process.py\", line 315, in _bootstrap\n",
      "    self.run()\n"
     ]
    },
    {
     "name": "stdout",
     "output_type": "stream",
     "text": [
      "\n"
     ]
    },
    {
     "name": "stderr",
     "output_type": "stream",
     "text": [
      "  File \"/scratch/dmoi/condaenvs/ML2/lib/python3.9/multiprocessing/process.py\", line 108, in run\n",
      "    self._target(*self._args, **self._kwargs)\n"
     ]
    },
    {
     "name": "stdout",
     "output_type": "stream",
     "text": [
      "dataset size"
     ]
    },
    {
     "name": "stderr",
     "output_type": "stream",
     "text": [
      "  File \"/scratch/dmoi/condaenvs/ML2/lib/python3.9/multiprocessing/pool.py\", line 109, in worker\n",
      "    initializer(*initargs)\n",
      "Process ForkPoolWorker-539:\n"
     ]
    },
    {
     "name": "stdout",
     "output_type": "stream",
     "text": [
      " "
     ]
    },
    {
     "name": "stderr",
     "output_type": "stream",
     "text": [
      "  File \"/tmp/4730631/ipykernel_631294/4073675763.py\", line 13, in create_data_updown\n",
      "    toss = scipy.stats.bernoulli.rvs(posi_percent, loc=0, size=1, random_state=random.randint())\n",
      "Traceback (most recent call last):\n"
     ]
    },
    {
     "name": "stdout",
     "output_type": "stream",
     "text": [
      "97133"
     ]
    },
    {
     "name": "stderr",
     "output_type": "stream",
     "text": [
      "TypeError: randint() missing 2 required positional arguments: 'a' and 'b'\n",
      "  File \"/scratch/dmoi/condaenvs/ML2/lib/python3.9/multiprocessing/process.py\", line 315, in _bootstrap\n",
      "    self.run()\n"
     ]
    },
    {
     "name": "stdout",
     "output_type": "stream",
     "text": [
      "\n"
     ]
    },
    {
     "name": "stderr",
     "output_type": "stream",
     "text": [
      "  File \"/scratch/dmoi/condaenvs/ML2/lib/python3.9/multiprocessing/process.py\", line 108, in run\n",
      "    self._target(*self._args, **self._kwargs)\n"
     ]
    },
    {
     "name": "stdout",
     "output_type": "stream",
     "text": [
      "dataset size"
     ]
    },
    {
     "name": "stderr",
     "output_type": "stream",
     "text": [
      "  File \"/scratch/dmoi/condaenvs/ML2/lib/python3.9/multiprocessing/pool.py\", line 109, in worker\n",
      "    initializer(*initargs)\n",
      "Process ForkPoolWorker-538:\n"
     ]
    },
    {
     "name": "stdout",
     "output_type": "stream",
     "text": [
      " "
     ]
    },
    {
     "name": "stderr",
     "output_type": "stream",
     "text": [
      "Traceback (most recent call last):\n",
      "  File \"/tmp/4730631/ipykernel_631294/4073675763.py\", line 13, in create_data_updown\n",
      "    toss = scipy.stats.bernoulli.rvs(posi_percent, loc=0, size=1, random_state=random.randint())\n"
     ]
    },
    {
     "name": "stdout",
     "output_type": "stream",
     "text": [
      "389499"
     ]
    },
    {
     "name": "stderr",
     "output_type": "stream",
     "text": [
      "TypeError: randint() missing 2 required positional arguments: 'a' and 'b'\n",
      "  File \"/scratch/dmoi/condaenvs/ML2/lib/python3.9/multiprocessing/process.py\", line 315, in _bootstrap\n",
      "    self.run()\n",
      "  File \"/scratch/dmoi/condaenvs/ML2/lib/python3.9/multiprocessing/process.py\", line 108, in run\n",
      "    self._target(*self._args, **self._kwargs)\n"
     ]
    },
    {
     "name": "stdout",
     "output_type": "stream",
     "text": [
      "\n"
     ]
    },
    {
     "name": "stderr",
     "output_type": "stream",
     "text": [
      "  File \"/scratch/dmoi/condaenvs/ML2/lib/python3.9/multiprocessing/pool.py\", line 109, in worker\n",
      "    initializer(*initargs)\n"
     ]
    },
    {
     "name": "stdout",
     "output_type": "stream",
     "text": [
      "dataset size"
     ]
    },
    {
     "name": "stderr",
     "output_type": "stream",
     "text": [
      "Process ForkPoolWorker-540:\n",
      "  File \"/tmp/4730631/ipykernel_631294/4073675763.py\", line 13, in create_data_updown\n",
      "    toss = scipy.stats.bernoulli.rvs(posi_percent, loc=0, size=1, random_state=random.randint())\n"
     ]
    },
    {
     "name": "stdout",
     "output_type": "stream",
     "text": [
      " "
     ]
    },
    {
     "name": "stderr",
     "output_type": "stream",
     "text": [
      "Traceback (most recent call last):\n",
      "TypeError: randint() missing 2 required positional arguments: 'a' and 'b'\n"
     ]
    },
    {
     "name": "stdout",
     "output_type": "stream",
     "text": [
      "97133\n"
     ]
    },
    {
     "name": "stderr",
     "output_type": "stream",
     "text": [
      "  File \"/scratch/dmoi/condaenvs/ML2/lib/python3.9/multiprocessing/process.py\", line 315, in _bootstrap\n",
      "    self.run()\n"
     ]
    },
    {
     "name": "stdout",
     "output_type": "stream",
     "text": [
      "dataset size"
     ]
    },
    {
     "name": "stderr",
     "output_type": "stream",
     "text": [
      "Process ForkPoolWorker-541:\n",
      "  File \"/scratch/dmoi/condaenvs/ML2/lib/python3.9/multiprocessing/process.py\", line 108, in run\n",
      "    self._target(*self._args, **self._kwargs)\n"
     ]
    },
    {
     "name": "stdout",
     "output_type": "stream",
     "text": [
      " "
     ]
    },
    {
     "name": "stderr",
     "output_type": "stream",
     "text": [
      "Traceback (most recent call last):\n",
      "  File \"/scratch/dmoi/condaenvs/ML2/lib/python3.9/multiprocessing/pool.py\", line 109, in worker\n",
      "    initializer(*initargs)\n"
     ]
    },
    {
     "name": "stdout",
     "output_type": "stream",
     "text": [
      "389499"
     ]
    },
    {
     "name": "stderr",
     "output_type": "stream",
     "text": [
      "  File \"/scratch/dmoi/condaenvs/ML2/lib/python3.9/multiprocessing/process.py\", line 315, in _bootstrap\n",
      "    self.run()\n",
      "  File \"/tmp/4730631/ipykernel_631294/4073675763.py\", line 13, in create_data_updown\n",
      "    toss = scipy.stats.bernoulli.rvs(posi_percent, loc=0, size=1, random_state=random.randint())\n"
     ]
    },
    {
     "name": "stdout",
     "output_type": "stream",
     "text": [
      "\n"
     ]
    },
    {
     "name": "stderr",
     "output_type": "stream",
     "text": [
      "  File \"/scratch/dmoi/condaenvs/ML2/lib/python3.9/multiprocessing/process.py\", line 108, in run\n",
      "    self._target(*self._args, **self._kwargs)\n",
      "TypeError: randint() missing 2 required positional arguments: 'a' and 'b'\n"
     ]
    },
    {
     "name": "stdout",
     "output_type": "stream",
     "text": [
      "dataset size"
     ]
    },
    {
     "name": "stderr",
     "output_type": "stream",
     "text": [
      "  File \"/scratch/dmoi/condaenvs/ML2/lib/python3.9/multiprocessing/pool.py\", line 109, in worker\n",
      "    initializer(*initargs)\n",
      "Process ForkPoolWorker-542:\n"
     ]
    },
    {
     "name": "stdout",
     "output_type": "stream",
     "text": [
      " "
     ]
    },
    {
     "name": "stderr",
     "output_type": "stream",
     "text": [
      "  File \"/tmp/4730631/ipykernel_631294/4073675763.py\", line 13, in create_data_updown\n",
      "    toss = scipy.stats.bernoulli.rvs(posi_percent, loc=0, size=1, random_state=random.randint())\n",
      "Traceback (most recent call last):\n"
     ]
    },
    {
     "name": "stdout",
     "output_type": "stream",
     "text": [
      "97133"
     ]
    },
    {
     "name": "stderr",
     "output_type": "stream",
     "text": [
      "TypeError: randint() missing 2 required positional arguments: 'a' and 'b'\n",
      "  File \"/scratch/dmoi/condaenvs/ML2/lib/python3.9/multiprocessing/process.py\", line 315, in _bootstrap\n",
      "    self.run()\n"
     ]
    },
    {
     "name": "stdout",
     "output_type": "stream",
     "text": [
      "\n"
     ]
    },
    {
     "name": "stderr",
     "output_type": "stream",
     "text": [
      "  File \"/scratch/dmoi/condaenvs/ML2/lib/python3.9/multiprocessing/process.py\", line 108, in run\n",
      "    self._target(*self._args, **self._kwargs)\n"
     ]
    },
    {
     "name": "stdout",
     "output_type": "stream",
     "text": [
      "dataset size"
     ]
    },
    {
     "name": "stderr",
     "output_type": "stream",
     "text": [
      "Process ForkPoolWorker-543:\n",
      "  File \"/scratch/dmoi/condaenvs/ML2/lib/python3.9/multiprocessing/pool.py\", line 109, in worker\n",
      "    initializer(*initargs)\n"
     ]
    },
    {
     "name": "stdout",
     "output_type": "stream",
     "text": [
      " "
     ]
    },
    {
     "name": "stderr",
     "output_type": "stream",
     "text": [
      "  File \"/tmp/4730631/ipykernel_631294/4073675763.py\", line 13, in create_data_updown\n",
      "    toss = scipy.stats.bernoulli.rvs(posi_percent, loc=0, size=1, random_state=random.randint())\n",
      "Traceback (most recent call last):\n"
     ]
    },
    {
     "name": "stdout",
     "output_type": "stream",
     "text": [
      "389499"
     ]
    },
    {
     "name": "stderr",
     "output_type": "stream",
     "text": [
      "  File \"/scratch/dmoi/condaenvs/ML2/lib/python3.9/multiprocessing/process.py\", line 315, in _bootstrap\n",
      "    self.run()\n",
      "TypeError: randint() missing 2 required positional arguments: 'a' and 'b'\n"
     ]
    },
    {
     "name": "stdout",
     "output_type": "stream",
     "text": [
      "\n"
     ]
    },
    {
     "name": "stderr",
     "output_type": "stream",
     "text": [
      "  File \"/scratch/dmoi/condaenvs/ML2/lib/python3.9/multiprocessing/process.py\", line 108, in run\n",
      "    self._target(*self._args, **self._kwargs)\n",
      "Process ForkPoolWorker-544:\n",
      "  File \"/scratch/dmoi/condaenvs/ML2/lib/python3.9/multiprocessing/pool.py\", line 109, in worker\n",
      "    initializer(*initargs)\n",
      "Traceback (most recent call last):\n",
      "  File \"/tmp/4730631/ipykernel_631294/4073675763.py\", line 13, in create_data_updown\n",
      "    toss = scipy.stats.bernoulli.rvs(posi_percent, loc=0, size=1, random_state=random.randint())\n",
      "  File \"/scratch/dmoi/condaenvs/ML2/lib/python3.9/multiprocessing/process.py\", line 315, in _bootstrap\n",
      "    self.run()\n",
      "TypeError: randint() missing 2 required positional arguments: 'a' and 'b'\n",
      "  File \"/scratch/dmoi/condaenvs/ML2/lib/python3.9/multiprocessing/process.py\", line 108, in run\n",
      "    self._target(*self._args, **self._kwargs)\n",
      "  File \"/scratch/dmoi/condaenvs/ML2/lib/python3.9/multiprocessing/pool.py\", line 109, in worker\n",
      "    initializer(*initargs)\n",
      "  File \"/tmp/4730631/ipykernel_631294/4073675763.py\", line 13, in create_data_updown\n",
      "    toss = scipy.stats.bernoulli.rvs(posi_percent, loc=0, size=1, random_state=random.randint())\n",
      "TypeError: randint() missing 2 required positional arguments: 'a' and 'b'\n"
     ]
    },
    {
     "name": "stdout",
     "output_type": "stream",
     "text": [
      "dataset size 97133\n"
     ]
    },
    {
     "name": "stderr",
     "output_type": "stream",
     "text": [
      "Process ForkPoolWorker-545:\n"
     ]
    },
    {
     "name": "stdout",
     "output_type": "stream",
     "text": [
      "dataset size "
     ]
    },
    {
     "name": "stderr",
     "output_type": "stream",
     "text": [
      "Traceback (most recent call last):\n",
      "  File \"/scratch/dmoi/condaenvs/ML2/lib/python3.9/multiprocessing/process.py\", line 315, in _bootstrap\n",
      "    self.run()\n"
     ]
    },
    {
     "name": "stdout",
     "output_type": "stream",
     "text": [
      "97133\n"
     ]
    },
    {
     "name": "stderr",
     "output_type": "stream",
     "text": [
      "  File \"/scratch/dmoi/condaenvs/ML2/lib/python3.9/multiprocessing/process.py\", line 108, in run\n",
      "    self._target(*self._args, **self._kwargs)\n",
      "Process ForkPoolWorker-547:\n"
     ]
    },
    {
     "name": "stdout",
     "output_type": "stream",
     "text": [
      "dataset size"
     ]
    },
    {
     "name": "stderr",
     "output_type": "stream",
     "text": [
      "  File \"/scratch/dmoi/condaenvs/ML2/lib/python3.9/multiprocessing/pool.py\", line 109, in worker\n",
      "    initializer(*initargs)\n",
      "  File \"/tmp/4730631/ipykernel_631294/4073675763.py\", line 13, in create_data_updown\n",
      "    toss = scipy.stats.bernoulli.rvs(posi_percent, loc=0, size=1, random_state=random.randint())\n"
     ]
    },
    {
     "name": "stdout",
     "output_type": "stream",
     "text": [
      " "
     ]
    },
    {
     "name": "stderr",
     "output_type": "stream",
     "text": [
      "Traceback (most recent call last):\n",
      "TypeError: randint() missing 2 required positional arguments: 'a' and 'b'\n"
     ]
    },
    {
     "name": "stdout",
     "output_type": "stream",
     "text": [
      "389499"
     ]
    },
    {
     "name": "stderr",
     "output_type": "stream",
     "text": [
      "  File \"/scratch/dmoi/condaenvs/ML2/lib/python3.9/multiprocessing/process.py\", line 315, in _bootstrap\n",
      "    self.run()\n"
     ]
    },
    {
     "name": "stdout",
     "output_type": "stream",
     "text": [
      "\n"
     ]
    },
    {
     "name": "stderr",
     "output_type": "stream",
     "text": [
      "  File \"/scratch/dmoi/condaenvs/ML2/lib/python3.9/multiprocessing/process.py\", line 108, in run\n",
      "    self._target(*self._args, **self._kwargs)\n"
     ]
    },
    {
     "name": "stdout",
     "output_type": "stream",
     "text": [
      "dataset size"
     ]
    },
    {
     "name": "stderr",
     "output_type": "stream",
     "text": [
      "Process ForkPoolWorker-546:\n",
      "  File \"/scratch/dmoi/condaenvs/ML2/lib/python3.9/multiprocessing/pool.py\", line 109, in worker\n",
      "    initializer(*initargs)\n"
     ]
    },
    {
     "name": "stdout",
     "output_type": "stream",
     "text": [
      " "
     ]
    },
    {
     "name": "stderr",
     "output_type": "stream",
     "text": [
      "Traceback (most recent call last):\n",
      "  File \"/tmp/4730631/ipykernel_631294/4073675763.py\", line 13, in create_data_updown\n",
      "    toss = scipy.stats.bernoulli.rvs(posi_percent, loc=0, size=1, random_state=random.randint())\n"
     ]
    },
    {
     "name": "stdout",
     "output_type": "stream",
     "text": [
      "97133"
     ]
    },
    {
     "name": "stderr",
     "output_type": "stream",
     "text": [
      "  File \"/scratch/dmoi/condaenvs/ML2/lib/python3.9/multiprocessing/process.py\", line 315, in _bootstrap\n",
      "    self.run()\n",
      "TypeError: randint() missing 2 required positional arguments: 'a' and 'b'\n"
     ]
    },
    {
     "name": "stdout",
     "output_type": "stream",
     "text": [
      "\n"
     ]
    },
    {
     "name": "stderr",
     "output_type": "stream",
     "text": [
      "  File \"/scratch/dmoi/condaenvs/ML2/lib/python3.9/multiprocessing/process.py\", line 108, in run\n",
      "    self._target(*self._args, **self._kwargs)\n"
     ]
    },
    {
     "name": "stdout",
     "output_type": "stream",
     "text": [
      "dataset size"
     ]
    },
    {
     "name": "stderr",
     "output_type": "stream",
     "text": [
      "Process ForkPoolWorker-548:\n",
      "  File \"/scratch/dmoi/condaenvs/ML2/lib/python3.9/multiprocessing/pool.py\", line 109, in worker\n",
      "    initializer(*initargs)\n"
     ]
    },
    {
     "name": "stdout",
     "output_type": "stream",
     "text": [
      " "
     ]
    },
    {
     "name": "stderr",
     "output_type": "stream",
     "text": [
      "Traceback (most recent call last):\n",
      "  File \"/tmp/4730631/ipykernel_631294/4073675763.py\", line 13, in create_data_updown\n",
      "    toss = scipy.stats.bernoulli.rvs(posi_percent, loc=0, size=1, random_state=random.randint())\n"
     ]
    },
    {
     "name": "stdout",
     "output_type": "stream",
     "text": [
      "389499"
     ]
    },
    {
     "name": "stderr",
     "output_type": "stream",
     "text": [
      "  File \"/scratch/dmoi/condaenvs/ML2/lib/python3.9/multiprocessing/process.py\", line 315, in _bootstrap\n",
      "    self.run()\n",
      "TypeError: randint() missing 2 required positional arguments: 'a' and 'b'\n"
     ]
    },
    {
     "name": "stdout",
     "output_type": "stream",
     "text": [
      "\n"
     ]
    },
    {
     "name": "stderr",
     "output_type": "stream",
     "text": [
      "  File \"/scratch/dmoi/condaenvs/ML2/lib/python3.9/multiprocessing/process.py\", line 108, in run\n",
      "    self._target(*self._args, **self._kwargs)\n"
     ]
    },
    {
     "name": "stdout",
     "output_type": "stream",
     "text": [
      "dataset size"
     ]
    },
    {
     "name": "stderr",
     "output_type": "stream",
     "text": [
      "Process ForkPoolWorker-549:\n",
      "  File \"/scratch/dmoi/condaenvs/ML2/lib/python3.9/multiprocessing/pool.py\", line 109, in worker\n",
      "    initializer(*initargs)\n"
     ]
    },
    {
     "name": "stdout",
     "output_type": "stream",
     "text": [
      " "
     ]
    },
    {
     "name": "stderr",
     "output_type": "stream",
     "text": [
      "  File \"/tmp/4730631/ipykernel_631294/4073675763.py\", line 13, in create_data_updown\n",
      "    toss = scipy.stats.bernoulli.rvs(posi_percent, loc=0, size=1, random_state=random.randint())\n",
      "Traceback (most recent call last):\n"
     ]
    },
    {
     "name": "stdout",
     "output_type": "stream",
     "text": [
      "97133"
     ]
    },
    {
     "name": "stderr",
     "output_type": "stream",
     "text": [
      "  File \"/scratch/dmoi/condaenvs/ML2/lib/python3.9/multiprocessing/process.py\", line 315, in _bootstrap\n",
      "    self.run()\n",
      "TypeError: randint() missing 2 required positional arguments: 'a' and 'b'\n"
     ]
    },
    {
     "name": "stdout",
     "output_type": "stream",
     "text": [
      "\n"
     ]
    },
    {
     "name": "stderr",
     "output_type": "stream",
     "text": [
      "  File \"/scratch/dmoi/condaenvs/ML2/lib/python3.9/multiprocessing/process.py\", line 108, in run\n",
      "    self._target(*self._args, **self._kwargs)\n"
     ]
    },
    {
     "name": "stdout",
     "output_type": "stream",
     "text": [
      "dataset size"
     ]
    },
    {
     "name": "stderr",
     "output_type": "stream",
     "text": [
      "Process ForkPoolWorker-550:\n",
      "  File \"/scratch/dmoi/condaenvs/ML2/lib/python3.9/multiprocessing/pool.py\", line 109, in worker\n",
      "    initializer(*initargs)\n"
     ]
    },
    {
     "name": "stdout",
     "output_type": "stream",
     "text": [
      " "
     ]
    },
    {
     "name": "stderr",
     "output_type": "stream",
     "text": [
      "  File \"/tmp/4730631/ipykernel_631294/4073675763.py\", line 13, in create_data_updown\n",
      "    toss = scipy.stats.bernoulli.rvs(posi_percent, loc=0, size=1, random_state=random.randint())\n",
      "Traceback (most recent call last):\n"
     ]
    },
    {
     "name": "stdout",
     "output_type": "stream",
     "text": [
      "389499"
     ]
    },
    {
     "name": "stderr",
     "output_type": "stream",
     "text": [
      "  File \"/scratch/dmoi/condaenvs/ML2/lib/python3.9/multiprocessing/process.py\", line 315, in _bootstrap\n",
      "    self.run()\n",
      "TypeError: randint() missing 2 required positional arguments: 'a' and 'b'\n"
     ]
    },
    {
     "name": "stdout",
     "output_type": "stream",
     "text": [
      "\n"
     ]
    },
    {
     "name": "stderr",
     "output_type": "stream",
     "text": [
      "  File \"/scratch/dmoi/condaenvs/ML2/lib/python3.9/multiprocessing/process.py\", line 108, in run\n",
      "    self._target(*self._args, **self._kwargs)\n"
     ]
    },
    {
     "name": "stdout",
     "output_type": "stream",
     "text": [
      "dataset size"
     ]
    },
    {
     "name": "stderr",
     "output_type": "stream",
     "text": [
      "Process ForkPoolWorker-551:\n",
      "  File \"/scratch/dmoi/condaenvs/ML2/lib/python3.9/multiprocessing/pool.py\", line 109, in worker\n",
      "    initializer(*initargs)\n"
     ]
    },
    {
     "name": "stdout",
     "output_type": "stream",
     "text": [
      " "
     ]
    },
    {
     "name": "stderr",
     "output_type": "stream",
     "text": [
      "  File \"/tmp/4730631/ipykernel_631294/4073675763.py\", line 13, in create_data_updown\n",
      "    toss = scipy.stats.bernoulli.rvs(posi_percent, loc=0, size=1, random_state=random.randint())\n",
      "Traceback (most recent call last):\n",
      "  File \"/scratch/dmoi/condaenvs/ML2/lib/python3.9/multiprocessing/process.py\", line 315, in _bootstrap\n",
      "    self.run()\n",
      "TypeError: randint() missing 2 required positional arguments: 'a' and 'b'\n"
     ]
    },
    {
     "name": "stdout",
     "output_type": "stream",
     "text": [
      "389499\n"
     ]
    },
    {
     "name": "stderr",
     "output_type": "stream",
     "text": [
      "  File \"/scratch/dmoi/condaenvs/ML2/lib/python3.9/multiprocessing/process.py\", line 108, in run\n",
      "    self._target(*self._args, **self._kwargs)\n",
      "Process ForkPoolWorker-552:\n",
      "  File \"/scratch/dmoi/condaenvs/ML2/lib/python3.9/multiprocessing/pool.py\", line 109, in worker\n",
      "    initializer(*initargs)\n",
      "Traceback (most recent call last):\n",
      "  File \"/tmp/4730631/ipykernel_631294/4073675763.py\", line 13, in create_data_updown\n",
      "    toss = scipy.stats.bernoulli.rvs(posi_percent, loc=0, size=1, random_state=random.randint())\n",
      "  File \"/scratch/dmoi/condaenvs/ML2/lib/python3.9/multiprocessing/process.py\", line 315, in _bootstrap\n",
      "    self.run()\n",
      "TypeError: randint() missing 2 required positional arguments: 'a' and 'b'\n",
      "  File \"/scratch/dmoi/condaenvs/ML2/lib/python3.9/multiprocessing/process.py\", line 108, in run\n",
      "    self._target(*self._args, **self._kwargs)\n",
      "  File \"/scratch/dmoi/condaenvs/ML2/lib/python3.9/multiprocessing/pool.py\", line 109, in worker\n",
      "    initializer(*initargs)\n",
      "  File \"/tmp/4730631/ipykernel_631294/4073675763.py\", line 13, in create_data_updown\n",
      "    toss = scipy.stats.bernoulli.rvs(posi_percent, loc=0, size=1, random_state=random.randint())\n",
      "TypeError: randint() missing 2 required positional arguments: 'a' and 'b'\n"
     ]
    },
    {
     "name": "stdout",
     "output_type": "stream",
     "text": [
      "dataset size 97133\n",
      "dataset size"
     ]
    },
    {
     "name": "stderr",
     "output_type": "stream",
     "text": [
      "Process ForkPoolWorker-553:\n",
      "Traceback (most recent call last):\n"
     ]
    },
    {
     "name": "stdout",
     "output_type": "stream",
     "text": [
      " 389499"
     ]
    },
    {
     "name": "stderr",
     "output_type": "stream",
     "text": [
      "  File \"/scratch/dmoi/condaenvs/ML2/lib/python3.9/multiprocessing/process.py\", line 315, in _bootstrap\n",
      "    self.run()\n",
      "  File \"/scratch/dmoi/condaenvs/ML2/lib/python3.9/multiprocessing/process.py\", line 108, in run\n",
      "    self._target(*self._args, **self._kwargs)\n"
     ]
    },
    {
     "name": "stdout",
     "output_type": "stream",
     "text": [
      "\n"
     ]
    },
    {
     "name": "stderr",
     "output_type": "stream",
     "text": [
      "  File \"/scratch/dmoi/condaenvs/ML2/lib/python3.9/multiprocessing/pool.py\", line 109, in worker\n",
      "    initializer(*initargs)\n"
     ]
    },
    {
     "name": "stdout",
     "output_type": "stream",
     "text": [
      "dataset size"
     ]
    },
    {
     "name": "stderr",
     "output_type": "stream",
     "text": [
      "Process ForkPoolWorker-554:\n"
     ]
    },
    {
     "name": "stdout",
     "output_type": "stream",
     "text": [
      " "
     ]
    },
    {
     "name": "stderr",
     "output_type": "stream",
     "text": [
      "  File \"/tmp/4730631/ipykernel_631294/4073675763.py\", line 13, in create_data_updown\n",
      "    toss = scipy.stats.bernoulli.rvs(posi_percent, loc=0, size=1, random_state=random.randint())\n",
      "Traceback (most recent call last):\n"
     ]
    },
    {
     "name": "stdout",
     "output_type": "stream",
     "text": [
      "97133"
     ]
    },
    {
     "name": "stderr",
     "output_type": "stream",
     "text": [
      "TypeError: randint() missing 2 required positional arguments: 'a' and 'b'\n"
     ]
    },
    {
     "name": "stdout",
     "output_type": "stream",
     "text": [
      "\n"
     ]
    },
    {
     "name": "stderr",
     "output_type": "stream",
     "text": [
      "  File \"/scratch/dmoi/condaenvs/ML2/lib/python3.9/multiprocessing/process.py\", line 315, in _bootstrap\n",
      "    self.run()\n"
     ]
    },
    {
     "name": "stdout",
     "output_type": "stream",
     "text": [
      "dataset size"
     ]
    },
    {
     "name": "stderr",
     "output_type": "stream",
     "text": [
      "  File \"/scratch/dmoi/condaenvs/ML2/lib/python3.9/multiprocessing/process.py\", line 108, in run\n",
      "    self._target(*self._args, **self._kwargs)\n",
      "Process ForkPoolWorker-556:\n"
     ]
    },
    {
     "name": "stdout",
     "output_type": "stream",
     "text": [
      " "
     ]
    },
    {
     "name": "stderr",
     "output_type": "stream",
     "text": [
      "  File \"/scratch/dmoi/condaenvs/ML2/lib/python3.9/multiprocessing/pool.py\", line 109, in worker\n",
      "    initializer(*initargs)\n",
      "Traceback (most recent call last):\n"
     ]
    },
    {
     "name": "stdout",
     "output_type": "stream",
     "text": [
      "389499"
     ]
    },
    {
     "name": "stderr",
     "output_type": "stream",
     "text": [
      "  File \"/tmp/4730631/ipykernel_631294/4073675763.py\", line 13, in create_data_updown\n",
      "    toss = scipy.stats.bernoulli.rvs(posi_percent, loc=0, size=1, random_state=random.randint())\n",
      "  File \"/scratch/dmoi/condaenvs/ML2/lib/python3.9/multiprocessing/process.py\", line 315, in _bootstrap\n",
      "    self.run()\n"
     ]
    },
    {
     "name": "stdout",
     "output_type": "stream",
     "text": [
      "\n"
     ]
    },
    {
     "name": "stderr",
     "output_type": "stream",
     "text": [
      "TypeError: randint() missing 2 required positional arguments: 'a' and 'b'\n",
      "  File \"/scratch/dmoi/condaenvs/ML2/lib/python3.9/multiprocessing/process.py\", line 108, in run\n",
      "    self._target(*self._args, **self._kwargs)\n"
     ]
    },
    {
     "name": "stdout",
     "output_type": "stream",
     "text": [
      "dataset size"
     ]
    },
    {
     "name": "stderr",
     "output_type": "stream",
     "text": [
      "  File \"/scratch/dmoi/condaenvs/ML2/lib/python3.9/multiprocessing/pool.py\", line 109, in worker\n",
      "    initializer(*initargs)\n",
      "Process ForkPoolWorker-555:\n"
     ]
    },
    {
     "name": "stdout",
     "output_type": "stream",
     "text": [
      " "
     ]
    },
    {
     "name": "stderr",
     "output_type": "stream",
     "text": [
      "  File \"/tmp/4730631/ipykernel_631294/4073675763.py\", line 13, in create_data_updown\n",
      "    toss = scipy.stats.bernoulli.rvs(posi_percent, loc=0, size=1, random_state=random.randint())\n",
      "Traceback (most recent call last):\n"
     ]
    },
    {
     "name": "stdout",
     "output_type": "stream",
     "text": [
      "97133"
     ]
    },
    {
     "name": "stderr",
     "output_type": "stream",
     "text": [
      "TypeError: randint() missing 2 required positional arguments: 'a' and 'b'\n",
      "  File \"/scratch/dmoi/condaenvs/ML2/lib/python3.9/multiprocessing/process.py\", line 315, in _bootstrap\n",
      "    self.run()\n"
     ]
    },
    {
     "name": "stdout",
     "output_type": "stream",
     "text": [
      "\n"
     ]
    },
    {
     "name": "stderr",
     "output_type": "stream",
     "text": [
      "  File \"/scratch/dmoi/condaenvs/ML2/lib/python3.9/multiprocessing/process.py\", line 108, in run\n",
      "    self._target(*self._args, **self._kwargs)\n"
     ]
    },
    {
     "name": "stdout",
     "output_type": "stream",
     "text": [
      "dataset size"
     ]
    },
    {
     "name": "stderr",
     "output_type": "stream",
     "text": [
      "Process ForkPoolWorker-557:\n",
      "  File \"/scratch/dmoi/condaenvs/ML2/lib/python3.9/multiprocessing/pool.py\", line 109, in worker\n",
      "    initializer(*initargs)\n"
     ]
    },
    {
     "name": "stdout",
     "output_type": "stream",
     "text": [
      " "
     ]
    },
    {
     "name": "stderr",
     "output_type": "stream",
     "text": [
      "Traceback (most recent call last):\n",
      "  File \"/tmp/4730631/ipykernel_631294/4073675763.py\", line 13, in create_data_updown\n",
      "    toss = scipy.stats.bernoulli.rvs(posi_percent, loc=0, size=1, random_state=random.randint())\n"
     ]
    },
    {
     "name": "stdout",
     "output_type": "stream",
     "text": [
      "389499"
     ]
    },
    {
     "name": "stderr",
     "output_type": "stream",
     "text": [
      "  File \"/scratch/dmoi/condaenvs/ML2/lib/python3.9/multiprocessing/process.py\", line 315, in _bootstrap\n",
      "    self.run()\n",
      "TypeError: randint() missing 2 required positional arguments: 'a' and 'b'\n"
     ]
    },
    {
     "name": "stdout",
     "output_type": "stream",
     "text": [
      "\n"
     ]
    },
    {
     "name": "stderr",
     "output_type": "stream",
     "text": [
      "  File \"/scratch/dmoi/condaenvs/ML2/lib/python3.9/multiprocessing/process.py\", line 108, in run\n",
      "    self._target(*self._args, **self._kwargs)\n"
     ]
    },
    {
     "name": "stdout",
     "output_type": "stream",
     "text": [
      "dataset size"
     ]
    },
    {
     "name": "stderr",
     "output_type": "stream",
     "text": [
      "  File \"/scratch/dmoi/condaenvs/ML2/lib/python3.9/multiprocessing/pool.py\", line 109, in worker\n",
      "    initializer(*initargs)\n",
      "Process ForkPoolWorker-559:\n"
     ]
    },
    {
     "name": "stdout",
     "output_type": "stream",
     "text": [
      " "
     ]
    },
    {
     "name": "stderr",
     "output_type": "stream",
     "text": [
      "  File \"/tmp/4730631/ipykernel_631294/4073675763.py\", line 13, in create_data_updown\n",
      "    toss = scipy.stats.bernoulli.rvs(posi_percent, loc=0, size=1, random_state=random.randint())\n",
      "Traceback (most recent call last):\n"
     ]
    },
    {
     "name": "stdout",
     "output_type": "stream",
     "text": [
      "97133"
     ]
    },
    {
     "name": "stderr",
     "output_type": "stream",
     "text": [
      "TypeError: randint() missing 2 required positional arguments: 'a' and 'b'\n",
      "  File \"/scratch/dmoi/condaenvs/ML2/lib/python3.9/multiprocessing/process.py\", line 315, in _bootstrap\n",
      "    self.run()\n"
     ]
    },
    {
     "name": "stdout",
     "output_type": "stream",
     "text": [
      "\n"
     ]
    },
    {
     "name": "stderr",
     "output_type": "stream",
     "text": [
      "  File \"/scratch/dmoi/condaenvs/ML2/lib/python3.9/multiprocessing/process.py\", line 108, in run\n",
      "    self._target(*self._args, **self._kwargs)\n"
     ]
    },
    {
     "name": "stdout",
     "output_type": "stream",
     "text": [
      "dataset size"
     ]
    },
    {
     "name": "stderr",
     "output_type": "stream",
     "text": [
      "Process ForkPoolWorker-558:\n",
      "  File \"/scratch/dmoi/condaenvs/ML2/lib/python3.9/multiprocessing/pool.py\", line 109, in worker\n",
      "    initializer(*initargs)\n"
     ]
    },
    {
     "name": "stdout",
     "output_type": "stream",
     "text": [
      " "
     ]
    },
    {
     "name": "stderr",
     "output_type": "stream",
     "text": [
      "Traceback (most recent call last):\n",
      "  File \"/tmp/4730631/ipykernel_631294/4073675763.py\", line 13, in create_data_updown\n",
      "    toss = scipy.stats.bernoulli.rvs(posi_percent, loc=0, size=1, random_state=random.randint())\n"
     ]
    },
    {
     "name": "stdout",
     "output_type": "stream",
     "text": [
      "389499"
     ]
    },
    {
     "name": "stderr",
     "output_type": "stream",
     "text": [
      "  File \"/scratch/dmoi/condaenvs/ML2/lib/python3.9/multiprocessing/process.py\", line 315, in _bootstrap\n",
      "    self.run()\n",
      "TypeError: randint() missing 2 required positional arguments: 'a' and 'b'\n"
     ]
    },
    {
     "name": "stdout",
     "output_type": "stream",
     "text": [
      "\n"
     ]
    },
    {
     "name": "stderr",
     "output_type": "stream",
     "text": [
      "  File \"/scratch/dmoi/condaenvs/ML2/lib/python3.9/multiprocessing/process.py\", line 108, in run\n",
      "    self._target(*self._args, **self._kwargs)\n",
      "  File \"/scratch/dmoi/condaenvs/ML2/lib/python3.9/multiprocessing/pool.py\", line 109, in worker\n",
      "    initializer(*initargs)\n",
      "Process ForkPoolWorker-560:\n",
      "  File \"/tmp/4730631/ipykernel_631294/4073675763.py\", line 13, in create_data_updown\n",
      "    toss = scipy.stats.bernoulli.rvs(posi_percent, loc=0, size=1, random_state=random.randint())\n",
      "Traceback (most recent call last):\n",
      "TypeError: randint() missing 2 required positional arguments: 'a' and 'b'\n",
      "  File \"/scratch/dmoi/condaenvs/ML2/lib/python3.9/multiprocessing/process.py\", line 315, in _bootstrap\n",
      "    self.run()\n",
      "  File \"/scratch/dmoi/condaenvs/ML2/lib/python3.9/multiprocessing/process.py\", line 108, in run\n",
      "    self._target(*self._args, **self._kwargs)\n",
      "  File \"/scratch/dmoi/condaenvs/ML2/lib/python3.9/multiprocessing/pool.py\", line 109, in worker\n",
      "    initializer(*initargs)\n",
      "  File \"/tmp/4730631/ipykernel_631294/4073675763.py\", line 13, in create_data_updown\n",
      "    toss = scipy.stats.bernoulli.rvs(posi_percent, loc=0, size=1, random_state=random.randint())\n",
      "TypeError: randint() missing 2 required positional arguments: 'a' and 'b'\n"
     ]
    },
    {
     "name": "stdout",
     "output_type": "stream",
     "text": [
      "dataset size 97133\n"
     ]
    },
    {
     "name": "stderr",
     "output_type": "stream",
     "text": [
      "Process ForkPoolWorker-561:\n"
     ]
    },
    {
     "name": "stdout",
     "output_type": "stream",
     "text": [
      "dataset size"
     ]
    },
    {
     "name": "stderr",
     "output_type": "stream",
     "text": [
      "Traceback (most recent call last):\n"
     ]
    },
    {
     "name": "stdout",
     "output_type": "stream",
     "text": [
      " 389499"
     ]
    },
    {
     "name": "stderr",
     "output_type": "stream",
     "text": [
      "  File \"/scratch/dmoi/condaenvs/ML2/lib/python3.9/multiprocessing/process.py\", line 315, in _bootstrap\n",
      "    self.run()\n",
      "  File \"/scratch/dmoi/condaenvs/ML2/lib/python3.9/multiprocessing/process.py\", line 108, in run\n",
      "    self._target(*self._args, **self._kwargs)\n"
     ]
    },
    {
     "name": "stdout",
     "output_type": "stream",
     "text": [
      "\n"
     ]
    },
    {
     "name": "stderr",
     "output_type": "stream",
     "text": [
      "  File \"/scratch/dmoi/condaenvs/ML2/lib/python3.9/multiprocessing/pool.py\", line 109, in worker\n",
      "    initializer(*initargs)\n"
     ]
    },
    {
     "name": "stdout",
     "output_type": "stream",
     "text": [
      "dataset size "
     ]
    },
    {
     "name": "stderr",
     "output_type": "stream",
     "text": [
      "Process ForkPoolWorker-563:\n",
      "  File \"/tmp/4730631/ipykernel_631294/4073675763.py\", line 13, in create_data_updown\n",
      "    toss = scipy.stats.bernoulli.rvs(posi_percent, loc=0, size=1, random_state=random.randint())\n"
     ]
    },
    {
     "name": "stdout",
     "output_type": "stream",
     "text": [
      "97133"
     ]
    },
    {
     "name": "stderr",
     "output_type": "stream",
     "text": [
      "Traceback (most recent call last):\n",
      "TypeError: randint() missing 2 required positional arguments: 'a' and 'b'\n"
     ]
    },
    {
     "name": "stdout",
     "output_type": "stream",
     "text": [
      "\n"
     ]
    },
    {
     "name": "stderr",
     "output_type": "stream",
     "text": [
      "  File \"/scratch/dmoi/condaenvs/ML2/lib/python3.9/multiprocessing/process.py\", line 315, in _bootstrap\n",
      "    self.run()\n"
     ]
    },
    {
     "name": "stdout",
     "output_type": "stream",
     "text": [
      "dataset size"
     ]
    },
    {
     "name": "stderr",
     "output_type": "stream",
     "text": [
      "Process ForkPoolWorker-562:\n",
      "  File \"/scratch/dmoi/condaenvs/ML2/lib/python3.9/multiprocessing/process.py\", line 108, in run\n",
      "    self._target(*self._args, **self._kwargs)\n"
     ]
    },
    {
     "name": "stdout",
     "output_type": "stream",
     "text": [
      " "
     ]
    },
    {
     "name": "stderr",
     "output_type": "stream",
     "text": [
      "Traceback (most recent call last):\n",
      "  File \"/scratch/dmoi/condaenvs/ML2/lib/python3.9/multiprocessing/pool.py\", line 109, in worker\n",
      "    initializer(*initargs)\n"
     ]
    },
    {
     "name": "stdout",
     "output_type": "stream",
     "text": [
      "389499"
     ]
    },
    {
     "name": "stderr",
     "output_type": "stream",
     "text": [
      "  File \"/scratch/dmoi/condaenvs/ML2/lib/python3.9/multiprocessing/process.py\", line 315, in _bootstrap\n",
      "    self.run()\n",
      "  File \"/tmp/4730631/ipykernel_631294/4073675763.py\", line 13, in create_data_updown\n",
      "    toss = scipy.stats.bernoulli.rvs(posi_percent, loc=0, size=1, random_state=random.randint())\n"
     ]
    },
    {
     "name": "stdout",
     "output_type": "stream",
     "text": [
      "\n"
     ]
    },
    {
     "name": "stderr",
     "output_type": "stream",
     "text": [
      "  File \"/scratch/dmoi/condaenvs/ML2/lib/python3.9/multiprocessing/process.py\", line 108, in run\n",
      "    self._target(*self._args, **self._kwargs)\n",
      "TypeError: randint() missing 2 required positional arguments: 'a' and 'b'\n",
      "  File \"/scratch/dmoi/condaenvs/ML2/lib/python3.9/multiprocessing/pool.py\", line 109, in worker\n",
      "    initializer(*initargs)\n"
     ]
    },
    {
     "name": "stdout",
     "output_type": "stream",
     "text": [
      "dataset size"
     ]
    },
    {
     "name": "stderr",
     "output_type": "stream",
     "text": [
      "  File \"/tmp/4730631/ipykernel_631294/4073675763.py\", line 13, in create_data_updown\n",
      "    toss = scipy.stats.bernoulli.rvs(posi_percent, loc=0, size=1, random_state=random.randint())\n",
      "Process ForkPoolWorker-564:\n"
     ]
    },
    {
     "name": "stdout",
     "output_type": "stream",
     "text": [
      " "
     ]
    },
    {
     "name": "stderr",
     "output_type": "stream",
     "text": [
      "TypeError: randint() missing 2 required positional arguments: 'a' and 'b'\n",
      "Traceback (most recent call last):\n"
     ]
    },
    {
     "name": "stdout",
     "output_type": "stream",
     "text": [
      "97133"
     ]
    },
    {
     "name": "stderr",
     "output_type": "stream",
     "text": [
      "  File \"/scratch/dmoi/condaenvs/ML2/lib/python3.9/multiprocessing/process.py\", line 315, in _bootstrap\n",
      "    self.run()\n"
     ]
    },
    {
     "name": "stdout",
     "output_type": "stream",
     "text": [
      "\n"
     ]
    },
    {
     "name": "stderr",
     "output_type": "stream",
     "text": [
      "  File \"/scratch/dmoi/condaenvs/ML2/lib/python3.9/multiprocessing/process.py\", line 108, in run\n",
      "    self._target(*self._args, **self._kwargs)\n"
     ]
    },
    {
     "name": "stdout",
     "output_type": "stream",
     "text": [
      "dataset size"
     ]
    },
    {
     "name": "stderr",
     "output_type": "stream",
     "text": [
      "  File \"/scratch/dmoi/condaenvs/ML2/lib/python3.9/multiprocessing/pool.py\", line 109, in worker\n",
      "    initializer(*initargs)\n",
      "Process ForkPoolWorker-565:\n"
     ]
    },
    {
     "name": "stdout",
     "output_type": "stream",
     "text": [
      " "
     ]
    },
    {
     "name": "stderr",
     "output_type": "stream",
     "text": [
      "  File \"/tmp/4730631/ipykernel_631294/4073675763.py\", line 13, in create_data_updown\n",
      "    toss = scipy.stats.bernoulli.rvs(posi_percent, loc=0, size=1, random_state=random.randint())\n",
      "Traceback (most recent call last):\n"
     ]
    },
    {
     "name": "stdout",
     "output_type": "stream",
     "text": [
      "389499"
     ]
    },
    {
     "name": "stderr",
     "output_type": "stream",
     "text": [
      "TypeError: randint() missing 2 required positional arguments: 'a' and 'b'\n",
      "  File \"/scratch/dmoi/condaenvs/ML2/lib/python3.9/multiprocessing/process.py\", line 315, in _bootstrap\n",
      "    self.run()\n"
     ]
    },
    {
     "name": "stdout",
     "output_type": "stream",
     "text": [
      "\n"
     ]
    },
    {
     "name": "stderr",
     "output_type": "stream",
     "text": [
      "  File \"/scratch/dmoi/condaenvs/ML2/lib/python3.9/multiprocessing/process.py\", line 108, in run\n",
      "    self._target(*self._args, **self._kwargs)\n"
     ]
    },
    {
     "name": "stdout",
     "output_type": "stream",
     "text": [
      "dataset size"
     ]
    },
    {
     "name": "stderr",
     "output_type": "stream",
     "text": [
      "  File \"/scratch/dmoi/condaenvs/ML2/lib/python3.9/multiprocessing/pool.py\", line 109, in worker\n",
      "    initializer(*initargs)\n",
      "Process ForkPoolWorker-566:\n"
     ]
    },
    {
     "name": "stdout",
     "output_type": "stream",
     "text": [
      " "
     ]
    },
    {
     "name": "stderr",
     "output_type": "stream",
     "text": [
      "  File \"/tmp/4730631/ipykernel_631294/4073675763.py\", line 13, in create_data_updown\n",
      "    toss = scipy.stats.bernoulli.rvs(posi_percent, loc=0, size=1, random_state=random.randint())\n",
      "Traceback (most recent call last):\n"
     ]
    },
    {
     "name": "stdout",
     "output_type": "stream",
     "text": [
      "97133"
     ]
    },
    {
     "name": "stderr",
     "output_type": "stream",
     "text": [
      "TypeError: randint() missing 2 required positional arguments: 'a' and 'b'\n",
      "  File \"/scratch/dmoi/condaenvs/ML2/lib/python3.9/multiprocessing/process.py\", line 315, in _bootstrap\n",
      "    self.run()\n"
     ]
    },
    {
     "name": "stdout",
     "output_type": "stream",
     "text": [
      "\n"
     ]
    },
    {
     "name": "stderr",
     "output_type": "stream",
     "text": [
      "  File \"/scratch/dmoi/condaenvs/ML2/lib/python3.9/multiprocessing/process.py\", line 108, in run\n",
      "    self._target(*self._args, **self._kwargs)\n"
     ]
    },
    {
     "name": "stdout",
     "output_type": "stream",
     "text": [
      "dataset size"
     ]
    },
    {
     "name": "stderr",
     "output_type": "stream",
     "text": [
      "  File \"/scratch/dmoi/condaenvs/ML2/lib/python3.9/multiprocessing/pool.py\", line 109, in worker\n",
      "    initializer(*initargs)\n",
      "Process ForkPoolWorker-568:\n"
     ]
    },
    {
     "name": "stdout",
     "output_type": "stream",
     "text": [
      " "
     ]
    },
    {
     "name": "stderr",
     "output_type": "stream",
     "text": [
      "  File \"/tmp/4730631/ipykernel_631294/4073675763.py\", line 13, in create_data_updown\n",
      "    toss = scipy.stats.bernoulli.rvs(posi_percent, loc=0, size=1, random_state=random.randint())\n",
      "Traceback (most recent call last):\n"
     ]
    },
    {
     "name": "stdout",
     "output_type": "stream",
     "text": [
      "389499"
     ]
    },
    {
     "name": "stderr",
     "output_type": "stream",
     "text": [
      "TypeError: randint() missing 2 required positional arguments: 'a' and 'b'\n",
      "  File \"/scratch/dmoi/condaenvs/ML2/lib/python3.9/multiprocessing/process.py\", line 315, in _bootstrap\n",
      "    self.run()\n"
     ]
    },
    {
     "name": "stdout",
     "output_type": "stream",
     "text": [
      "\n"
     ]
    },
    {
     "name": "stderr",
     "output_type": "stream",
     "text": [
      "  File \"/scratch/dmoi/condaenvs/ML2/lib/python3.9/multiprocessing/process.py\", line 108, in run\n",
      "    self._target(*self._args, **self._kwargs)\n",
      "Process ForkPoolWorker-567:\n",
      "  File \"/scratch/dmoi/condaenvs/ML2/lib/python3.9/multiprocessing/pool.py\", line 109, in worker\n",
      "    initializer(*initargs)\n",
      "Traceback (most recent call last):\n",
      "  File \"/tmp/4730631/ipykernel_631294/4073675763.py\", line 13, in create_data_updown\n",
      "    toss = scipy.stats.bernoulli.rvs(posi_percent, loc=0, size=1, random_state=random.randint())\n",
      "TypeError: randint() missing 2 required positional arguments: 'a' and 'b'\n",
      "  File \"/scratch/dmoi/condaenvs/ML2/lib/python3.9/multiprocessing/process.py\", line 315, in _bootstrap\n",
      "    self.run()\n",
      "  File \"/scratch/dmoi/condaenvs/ML2/lib/python3.9/multiprocessing/process.py\", line 108, in run\n",
      "    self._target(*self._args, **self._kwargs)\n",
      "  File \"/scratch/dmoi/condaenvs/ML2/lib/python3.9/multiprocessing/pool.py\", line 109, in worker\n",
      "    initializer(*initargs)\n",
      "  File \"/tmp/4730631/ipykernel_631294/4073675763.py\", line 13, in create_data_updown\n",
      "    toss = scipy.stats.bernoulli.rvs(posi_percent, loc=0, size=1, random_state=random.randint())\n",
      "TypeError: randint() missing 2 required positional arguments: 'a' and 'b'\n"
     ]
    },
    {
     "name": "stdout",
     "output_type": "stream",
     "text": [
      "dataset size 97133\n"
     ]
    },
    {
     "name": "stderr",
     "output_type": "stream",
     "text": [
      "Process ForkPoolWorker-569:\n"
     ]
    },
    {
     "name": "stdout",
     "output_type": "stream",
     "text": [
      "dataset size"
     ]
    },
    {
     "name": "stderr",
     "output_type": "stream",
     "text": [
      "Traceback (most recent call last):\n"
     ]
    },
    {
     "name": "stdout",
     "output_type": "stream",
     "text": [
      " "
     ]
    },
    {
     "name": "stderr",
     "output_type": "stream",
     "text": [
      "  File \"/scratch/dmoi/condaenvs/ML2/lib/python3.9/multiprocessing/process.py\", line 315, in _bootstrap\n",
      "    self.run()\n"
     ]
    },
    {
     "name": "stdout",
     "output_type": "stream",
     "text": [
      "389499"
     ]
    },
    {
     "name": "stderr",
     "output_type": "stream",
     "text": [
      "  File \"/scratch/dmoi/condaenvs/ML2/lib/python3.9/multiprocessing/process.py\", line 108, in run\n",
      "    self._target(*self._args, **self._kwargs)\n"
     ]
    },
    {
     "name": "stdout",
     "output_type": "stream",
     "text": [
      "\n"
     ]
    },
    {
     "name": "stderr",
     "output_type": "stream",
     "text": [
      "  File \"/scratch/dmoi/condaenvs/ML2/lib/python3.9/multiprocessing/pool.py\", line 109, in worker\n",
      "    initializer(*initargs)\n"
     ]
    },
    {
     "name": "stdout",
     "output_type": "stream",
     "text": [
      "dataset size"
     ]
    },
    {
     "name": "stderr",
     "output_type": "stream",
     "text": [
      "  File \"/tmp/4730631/ipykernel_631294/4073675763.py\", line 13, in create_data_updown\n",
      "    toss = scipy.stats.bernoulli.rvs(posi_percent, loc=0, size=1, random_state=random.randint())\n"
     ]
    },
    {
     "name": "stdout",
     "output_type": "stream",
     "text": [
      " "
     ]
    },
    {
     "name": "stderr",
     "output_type": "stream",
     "text": [
      "Process ForkPoolWorker-570:\n",
      "TypeError: randint() missing 2 required positional arguments: 'a' and 'b'\n"
     ]
    },
    {
     "name": "stdout",
     "output_type": "stream",
     "text": [
      "97133"
     ]
    },
    {
     "name": "stderr",
     "output_type": "stream",
     "text": [
      "Traceback (most recent call last):\n"
     ]
    },
    {
     "name": "stdout",
     "output_type": "stream",
     "text": [
      "\n"
     ]
    },
    {
     "name": "stderr",
     "output_type": "stream",
     "text": [
      "  File \"/scratch/dmoi/condaenvs/ML2/lib/python3.9/multiprocessing/process.py\", line 315, in _bootstrap\n",
      "    self.run()\n"
     ]
    },
    {
     "name": "stdout",
     "output_type": "stream",
     "text": [
      "dataset size"
     ]
    },
    {
     "name": "stderr",
     "output_type": "stream",
     "text": [
      "Process ForkPoolWorker-572:\n",
      "  File \"/scratch/dmoi/condaenvs/ML2/lib/python3.9/multiprocessing/process.py\", line 108, in run\n",
      "    self._target(*self._args, **self._kwargs)\n"
     ]
    },
    {
     "name": "stdout",
     "output_type": "stream",
     "text": [
      " "
     ]
    },
    {
     "name": "stderr",
     "output_type": "stream",
     "text": [
      "Traceback (most recent call last):\n",
      "  File \"/scratch/dmoi/condaenvs/ML2/lib/python3.9/multiprocessing/pool.py\", line 109, in worker\n",
      "    initializer(*initargs)\n"
     ]
    },
    {
     "name": "stdout",
     "output_type": "stream",
     "text": [
      "389499"
     ]
    },
    {
     "name": "stderr",
     "output_type": "stream",
     "text": [
      "  File \"/scratch/dmoi/condaenvs/ML2/lib/python3.9/multiprocessing/process.py\", line 315, in _bootstrap\n",
      "    self.run()\n",
      "  File \"/tmp/4730631/ipykernel_631294/4073675763.py\", line 13, in create_data_updown\n",
      "    toss = scipy.stats.bernoulli.rvs(posi_percent, loc=0, size=1, random_state=random.randint())\n"
     ]
    },
    {
     "name": "stdout",
     "output_type": "stream",
     "text": [
      "\n"
     ]
    },
    {
     "name": "stderr",
     "output_type": "stream",
     "text": [
      "  File \"/scratch/dmoi/condaenvs/ML2/lib/python3.9/multiprocessing/process.py\", line 108, in run\n",
      "    self._target(*self._args, **self._kwargs)\n",
      "TypeError: randint() missing 2 required positional arguments: 'a' and 'b'\n"
     ]
    },
    {
     "name": "stdout",
     "output_type": "stream",
     "text": [
      "dataset size"
     ]
    },
    {
     "name": "stderr",
     "output_type": "stream",
     "text": [
      "  File \"/scratch/dmoi/condaenvs/ML2/lib/python3.9/multiprocessing/pool.py\", line 109, in worker\n",
      "    initializer(*initargs)\n"
     ]
    },
    {
     "name": "stdout",
     "output_type": "stream",
     "text": [
      " "
     ]
    },
    {
     "name": "stderr",
     "output_type": "stream",
     "text": [
      "  File \"/tmp/4730631/ipykernel_631294/4073675763.py\", line 13, in create_data_updown\n",
      "    toss = scipy.stats.bernoulli.rvs(posi_percent, loc=0, size=1, random_state=random.randint())\n",
      "Process ForkPoolWorker-571:\n"
     ]
    },
    {
     "name": "stdout",
     "output_type": "stream",
     "text": [
      "97133"
     ]
    },
    {
     "name": "stderr",
     "output_type": "stream",
     "text": [
      "TypeError: randint() missing 2 required positional arguments: 'a' and 'b'\n",
      "Traceback (most recent call last):\n",
      "  File \"/scratch/dmoi/condaenvs/ML2/lib/python3.9/multiprocessing/process.py\", line 315, in _bootstrap\n",
      "    self.run()\n"
     ]
    },
    {
     "name": "stdout",
     "output_type": "stream",
     "text": [
      "\n"
     ]
    },
    {
     "name": "stderr",
     "output_type": "stream",
     "text": [
      "  File \"/scratch/dmoi/condaenvs/ML2/lib/python3.9/multiprocessing/process.py\", line 108, in run\n",
      "    self._target(*self._args, **self._kwargs)\n"
     ]
    },
    {
     "name": "stdout",
     "output_type": "stream",
     "text": [
      "dataset size"
     ]
    },
    {
     "name": "stderr",
     "output_type": "stream",
     "text": [
      "Process ForkPoolWorker-573:\n",
      "  File \"/scratch/dmoi/condaenvs/ML2/lib/python3.9/multiprocessing/pool.py\", line 109, in worker\n",
      "    initializer(*initargs)\n"
     ]
    },
    {
     "name": "stdout",
     "output_type": "stream",
     "text": [
      " "
     ]
    },
    {
     "name": "stderr",
     "output_type": "stream",
     "text": [
      "Traceback (most recent call last):\n",
      "  File \"/tmp/4730631/ipykernel_631294/4073675763.py\", line 13, in create_data_updown\n",
      "    toss = scipy.stats.bernoulli.rvs(posi_percent, loc=0, size=1, random_state=random.randint())\n"
     ]
    },
    {
     "name": "stdout",
     "output_type": "stream",
     "text": [
      "389499"
     ]
    },
    {
     "name": "stderr",
     "output_type": "stream",
     "text": [
      "  File \"/scratch/dmoi/condaenvs/ML2/lib/python3.9/multiprocessing/process.py\", line 315, in _bootstrap\n",
      "    self.run()\n",
      "TypeError: randint() missing 2 required positional arguments: 'a' and 'b'\n"
     ]
    },
    {
     "name": "stdout",
     "output_type": "stream",
     "text": [
      "\n"
     ]
    },
    {
     "name": "stderr",
     "output_type": "stream",
     "text": [
      "  File \"/scratch/dmoi/condaenvs/ML2/lib/python3.9/multiprocessing/process.py\", line 108, in run\n",
      "    self._target(*self._args, **self._kwargs)\n"
     ]
    },
    {
     "name": "stdout",
     "output_type": "stream",
     "text": [
      "dataset size"
     ]
    },
    {
     "name": "stderr",
     "output_type": "stream",
     "text": [
      "  File \"/scratch/dmoi/condaenvs/ML2/lib/python3.9/multiprocessing/pool.py\", line 109, in worker\n",
      "    initializer(*initargs)\n",
      "Process ForkPoolWorker-574:\n"
     ]
    },
    {
     "name": "stdout",
     "output_type": "stream",
     "text": [
      " "
     ]
    },
    {
     "name": "stderr",
     "output_type": "stream",
     "text": [
      "  File \"/tmp/4730631/ipykernel_631294/4073675763.py\", line 13, in create_data_updown\n",
      "    toss = scipy.stats.bernoulli.rvs(posi_percent, loc=0, size=1, random_state=random.randint())\n",
      "Traceback (most recent call last):\n"
     ]
    },
    {
     "name": "stdout",
     "output_type": "stream",
     "text": [
      "97133"
     ]
    },
    {
     "name": "stderr",
     "output_type": "stream",
     "text": [
      "TypeError: randint() missing 2 required positional arguments: 'a' and 'b'\n",
      "  File \"/scratch/dmoi/condaenvs/ML2/lib/python3.9/multiprocessing/process.py\", line 315, in _bootstrap\n",
      "    self.run()\n"
     ]
    },
    {
     "name": "stdout",
     "output_type": "stream",
     "text": [
      "\n"
     ]
    },
    {
     "name": "stderr",
     "output_type": "stream",
     "text": [
      "  File \"/scratch/dmoi/condaenvs/ML2/lib/python3.9/multiprocessing/process.py\", line 108, in run\n",
      "    self._target(*self._args, **self._kwargs)\n"
     ]
    },
    {
     "name": "stdout",
     "output_type": "stream",
     "text": [
      "dataset size"
     ]
    },
    {
     "name": "stderr",
     "output_type": "stream",
     "text": [
      "Process ForkPoolWorker-575:\n",
      "  File \"/scratch/dmoi/condaenvs/ML2/lib/python3.9/multiprocessing/pool.py\", line 109, in worker\n",
      "    initializer(*initargs)\n"
     ]
    },
    {
     "name": "stdout",
     "output_type": "stream",
     "text": [
      " "
     ]
    },
    {
     "name": "stderr",
     "output_type": "stream",
     "text": [
      "Traceback (most recent call last):\n",
      "  File \"/tmp/4730631/ipykernel_631294/4073675763.py\", line 13, in create_data_updown\n",
      "    toss = scipy.stats.bernoulli.rvs(posi_percent, loc=0, size=1, random_state=random.randint())\n"
     ]
    },
    {
     "name": "stdout",
     "output_type": "stream",
     "text": [
      "389499"
     ]
    },
    {
     "name": "stderr",
     "output_type": "stream",
     "text": [
      "  File \"/scratch/dmoi/condaenvs/ML2/lib/python3.9/multiprocessing/process.py\", line 315, in _bootstrap\n",
      "    self.run()\n",
      "TypeError: randint() missing 2 required positional arguments: 'a' and 'b'\n"
     ]
    },
    {
     "name": "stdout",
     "output_type": "stream",
     "text": [
      "\n"
     ]
    },
    {
     "name": "stderr",
     "output_type": "stream",
     "text": [
      "  File \"/scratch/dmoi/condaenvs/ML2/lib/python3.9/multiprocessing/process.py\", line 108, in run\n",
      "    self._target(*self._args, **self._kwargs)\n",
      "  File \"/scratch/dmoi/condaenvs/ML2/lib/python3.9/multiprocessing/pool.py\", line 109, in worker\n",
      "    initializer(*initargs)\n",
      "Process ForkPoolWorker-576:\n",
      "  File \"/tmp/4730631/ipykernel_631294/4073675763.py\", line 13, in create_data_updown\n",
      "    toss = scipy.stats.bernoulli.rvs(posi_percent, loc=0, size=1, random_state=random.randint())\n",
      "Traceback (most recent call last):\n",
      "TypeError: randint() missing 2 required positional arguments: 'a' and 'b'\n",
      "  File \"/scratch/dmoi/condaenvs/ML2/lib/python3.9/multiprocessing/process.py\", line 315, in _bootstrap\n",
      "    self.run()\n",
      "  File \"/scratch/dmoi/condaenvs/ML2/lib/python3.9/multiprocessing/process.py\", line 108, in run\n",
      "    self._target(*self._args, **self._kwargs)\n",
      "  File \"/scratch/dmoi/condaenvs/ML2/lib/python3.9/multiprocessing/pool.py\", line 109, in worker\n",
      "    initializer(*initargs)\n",
      "  File \"/tmp/4730631/ipykernel_631294/4073675763.py\", line 13, in create_data_updown\n",
      "    toss = scipy.stats.bernoulli.rvs(posi_percent, loc=0, size=1, random_state=random.randint())\n",
      "TypeError: randint() missing 2 required positional arguments: 'a' and 'b'\n"
     ]
    },
    {
     "name": "stdout",
     "output_type": "stream",
     "text": [
      "dataset size 97133\n"
     ]
    },
    {
     "name": "stderr",
     "output_type": "stream",
     "text": [
      "Process ForkPoolWorker-577:\n"
     ]
    },
    {
     "name": "stdout",
     "output_type": "stream",
     "text": [
      "dataset size "
     ]
    },
    {
     "name": "stderr",
     "output_type": "stream",
     "text": [
      "Traceback (most recent call last):\n"
     ]
    },
    {
     "name": "stdout",
     "output_type": "stream",
     "text": [
      "389499"
     ]
    },
    {
     "name": "stderr",
     "output_type": "stream",
     "text": [
      "  File \"/scratch/dmoi/condaenvs/ML2/lib/python3.9/multiprocessing/process.py\", line 315, in _bootstrap\n",
      "    self.run()\n",
      "  File \"/scratch/dmoi/condaenvs/ML2/lib/python3.9/multiprocessing/process.py\", line 108, in run\n",
      "    self._target(*self._args, **self._kwargs)\n"
     ]
    },
    {
     "name": "stdout",
     "output_type": "stream",
     "text": [
      "\n",
      "dataset size"
     ]
    },
    {
     "name": "stderr",
     "output_type": "stream",
     "text": [
      "  File \"/scratch/dmoi/condaenvs/ML2/lib/python3.9/multiprocessing/pool.py\", line 109, in worker\n",
      "    initializer(*initargs)\n",
      "  File \"/tmp/4730631/ipykernel_631294/4073675763.py\", line 13, in create_data_updown\n",
      "    toss = scipy.stats.bernoulli.rvs(posi_percent, loc=0, size=1, random_state=random.randint())\n"
     ]
    },
    {
     "name": "stdout",
     "output_type": "stream",
     "text": [
      " "
     ]
    },
    {
     "name": "stderr",
     "output_type": "stream",
     "text": [
      "Process ForkPoolWorker-578:\n"
     ]
    },
    {
     "name": "stdout",
     "output_type": "stream",
     "text": [
      "97133"
     ]
    },
    {
     "name": "stderr",
     "output_type": "stream",
     "text": [
      "TypeError: randint() missing 2 required positional arguments: 'a' and 'b'\n",
      "Traceback (most recent call last):\n"
     ]
    },
    {
     "name": "stdout",
     "output_type": "stream",
     "text": [
      "\n"
     ]
    },
    {
     "name": "stderr",
     "output_type": "stream",
     "text": [
      "  File \"/scratch/dmoi/condaenvs/ML2/lib/python3.9/multiprocessing/process.py\", line 315, in _bootstrap\n",
      "    self.run()\n",
      "Process ForkPoolWorker-580:\n",
      "  File \"/scratch/dmoi/condaenvs/ML2/lib/python3.9/multiprocessing/process.py\", line 108, in run\n",
      "    self._target(*self._args, **self._kwargs)\n"
     ]
    },
    {
     "name": "stdout",
     "output_type": "stream",
     "text": [
      "dataset size"
     ]
    },
    {
     "name": "stderr",
     "output_type": "stream",
     "text": [
      "  File \"/scratch/dmoi/condaenvs/ML2/lib/python3.9/multiprocessing/pool.py\", line 109, in worker\n",
      "    initializer(*initargs)\n"
     ]
    },
    {
     "name": "stdout",
     "output_type": "stream",
     "text": [
      " "
     ]
    },
    {
     "name": "stderr",
     "output_type": "stream",
     "text": [
      "Traceback (most recent call last):\n"
     ]
    },
    {
     "name": "stdout",
     "output_type": "stream",
     "text": [
      "389499"
     ]
    },
    {
     "name": "stderr",
     "output_type": "stream",
     "text": [
      "  File \"/tmp/4730631/ipykernel_631294/4073675763.py\", line 13, in create_data_updown\n",
      "    toss = scipy.stats.bernoulli.rvs(posi_percent, loc=0, size=1, random_state=random.randint())\n",
      "  File \"/scratch/dmoi/condaenvs/ML2/lib/python3.9/multiprocessing/process.py\", line 315, in _bootstrap\n",
      "    self.run()\n"
     ]
    },
    {
     "name": "stdout",
     "output_type": "stream",
     "text": [
      "\n"
     ]
    },
    {
     "name": "stderr",
     "output_type": "stream",
     "text": [
      "TypeError: randint() missing 2 required positional arguments: 'a' and 'b'\n",
      "  File \"/scratch/dmoi/condaenvs/ML2/lib/python3.9/multiprocessing/process.py\", line 108, in run\n",
      "    self._target(*self._args, **self._kwargs)\n"
     ]
    },
    {
     "name": "stdout",
     "output_type": "stream",
     "text": [
      "dataset size"
     ]
    },
    {
     "name": "stderr",
     "output_type": "stream",
     "text": [
      "  File \"/scratch/dmoi/condaenvs/ML2/lib/python3.9/multiprocessing/pool.py\", line 109, in worker\n",
      "    initializer(*initargs)\n",
      "Process ForkPoolWorker-579:\n"
     ]
    },
    {
     "name": "stdout",
     "output_type": "stream",
     "text": [
      " "
     ]
    },
    {
     "name": "stderr",
     "output_type": "stream",
     "text": [
      "  File \"/tmp/4730631/ipykernel_631294/4073675763.py\", line 13, in create_data_updown\n",
      "    toss = scipy.stats.bernoulli.rvs(posi_percent, loc=0, size=1, random_state=random.randint())\n",
      "Traceback (most recent call last):\n"
     ]
    },
    {
     "name": "stdout",
     "output_type": "stream",
     "text": [
      "97133"
     ]
    },
    {
     "name": "stderr",
     "output_type": "stream",
     "text": [
      "TypeError: randint() missing 2 required positional arguments: 'a' and 'b'\n",
      "  File \"/scratch/dmoi/condaenvs/ML2/lib/python3.9/multiprocessing/process.py\", line 315, in _bootstrap\n",
      "    self.run()\n"
     ]
    },
    {
     "name": "stdout",
     "output_type": "stream",
     "text": [
      "\n"
     ]
    },
    {
     "name": "stderr",
     "output_type": "stream",
     "text": [
      "  File \"/scratch/dmoi/condaenvs/ML2/lib/python3.9/multiprocessing/process.py\", line 108, in run\n",
      "    self._target(*self._args, **self._kwargs)\n"
     ]
    },
    {
     "name": "stdout",
     "output_type": "stream",
     "text": [
      "dataset size"
     ]
    },
    {
     "name": "stderr",
     "output_type": "stream",
     "text": [
      "  File \"/scratch/dmoi/condaenvs/ML2/lib/python3.9/multiprocessing/pool.py\", line 109, in worker\n",
      "    initializer(*initargs)\n",
      "Process ForkPoolWorker-581:\n"
     ]
    },
    {
     "name": "stdout",
     "output_type": "stream",
     "text": [
      " "
     ]
    },
    {
     "name": "stderr",
     "output_type": "stream",
     "text": [
      "  File \"/tmp/4730631/ipykernel_631294/4073675763.py\", line 13, in create_data_updown\n",
      "    toss = scipy.stats.bernoulli.rvs(posi_percent, loc=0, size=1, random_state=random.randint())\n",
      "Traceback (most recent call last):\n"
     ]
    },
    {
     "name": "stdout",
     "output_type": "stream",
     "text": [
      "389499"
     ]
    },
    {
     "name": "stderr",
     "output_type": "stream",
     "text": [
      "TypeError: randint() missing 2 required positional arguments: 'a' and 'b'\n",
      "  File \"/scratch/dmoi/condaenvs/ML2/lib/python3.9/multiprocessing/process.py\", line 315, in _bootstrap\n",
      "    self.run()\n"
     ]
    },
    {
     "name": "stdout",
     "output_type": "stream",
     "text": [
      "\n"
     ]
    },
    {
     "name": "stderr",
     "output_type": "stream",
     "text": [
      "  File \"/scratch/dmoi/condaenvs/ML2/lib/python3.9/multiprocessing/process.py\", line 108, in run\n",
      "    self._target(*self._args, **self._kwargs)\n"
     ]
    },
    {
     "name": "stdout",
     "output_type": "stream",
     "text": [
      "dataset size"
     ]
    },
    {
     "name": "stderr",
     "output_type": "stream",
     "text": [
      "  File \"/scratch/dmoi/condaenvs/ML2/lib/python3.9/multiprocessing/pool.py\", line 109, in worker\n",
      "    initializer(*initargs)\n",
      "Process ForkPoolWorker-582:\n"
     ]
    },
    {
     "name": "stdout",
     "output_type": "stream",
     "text": [
      " "
     ]
    },
    {
     "name": "stderr",
     "output_type": "stream",
     "text": [
      "  File \"/tmp/4730631/ipykernel_631294/4073675763.py\", line 13, in create_data_updown\n",
      "    toss = scipy.stats.bernoulli.rvs(posi_percent, loc=0, size=1, random_state=random.randint())\n",
      "Traceback (most recent call last):\n"
     ]
    },
    {
     "name": "stdout",
     "output_type": "stream",
     "text": [
      "97133"
     ]
    },
    {
     "name": "stderr",
     "output_type": "stream",
     "text": [
      "TypeError: randint() missing 2 required positional arguments: 'a' and 'b'\n",
      "  File \"/scratch/dmoi/condaenvs/ML2/lib/python3.9/multiprocessing/process.py\", line 315, in _bootstrap\n",
      "    self.run()\n"
     ]
    },
    {
     "name": "stdout",
     "output_type": "stream",
     "text": [
      "\n"
     ]
    },
    {
     "name": "stderr",
     "output_type": "stream",
     "text": [
      "  File \"/scratch/dmoi/condaenvs/ML2/lib/python3.9/multiprocessing/process.py\", line 108, in run\n",
      "    self._target(*self._args, **self._kwargs)\n"
     ]
    },
    {
     "name": "stdout",
     "output_type": "stream",
     "text": [
      "dataset size"
     ]
    },
    {
     "name": "stderr",
     "output_type": "stream",
     "text": [
      "Process ForkPoolWorker-583:\n",
      "  File \"/scratch/dmoi/condaenvs/ML2/lib/python3.9/multiprocessing/pool.py\", line 109, in worker\n",
      "    initializer(*initargs)\n"
     ]
    },
    {
     "name": "stdout",
     "output_type": "stream",
     "text": [
      " "
     ]
    },
    {
     "name": "stderr",
     "output_type": "stream",
     "text": [
      "Traceback (most recent call last):\n",
      "  File \"/tmp/4730631/ipykernel_631294/4073675763.py\", line 13, in create_data_updown\n",
      "    toss = scipy.stats.bernoulli.rvs(posi_percent, loc=0, size=1, random_state=random.randint())\n"
     ]
    },
    {
     "name": "stdout",
     "output_type": "stream",
     "text": [
      "389499"
     ]
    },
    {
     "name": "stderr",
     "output_type": "stream",
     "text": [
      "  File \"/scratch/dmoi/condaenvs/ML2/lib/python3.9/multiprocessing/process.py\", line 315, in _bootstrap\n",
      "    self.run()\n",
      "TypeError: randint() missing 2 required positional arguments: 'a' and 'b'\n"
     ]
    },
    {
     "name": "stdout",
     "output_type": "stream",
     "text": [
      "\n"
     ]
    },
    {
     "name": "stderr",
     "output_type": "stream",
     "text": [
      "  File \"/scratch/dmoi/condaenvs/ML2/lib/python3.9/multiprocessing/process.py\", line 108, in run\n",
      "    self._target(*self._args, **self._kwargs)\n",
      "Process ForkPoolWorker-584:\n",
      "  File \"/scratch/dmoi/condaenvs/ML2/lib/python3.9/multiprocessing/pool.py\", line 109, in worker\n",
      "    initializer(*initargs)\n",
      "  File \"/tmp/4730631/ipykernel_631294/4073675763.py\", line 13, in create_data_updown\n",
      "    toss = scipy.stats.bernoulli.rvs(posi_percent, loc=0, size=1, random_state=random.randint())\n",
      "Traceback (most recent call last):\n",
      "  File \"/scratch/dmoi/condaenvs/ML2/lib/python3.9/multiprocessing/process.py\", line 315, in _bootstrap\n",
      "    self.run()\n",
      "TypeError: randint() missing 2 required positional arguments: 'a' and 'b'\n",
      "  File \"/scratch/dmoi/condaenvs/ML2/lib/python3.9/multiprocessing/process.py\", line 108, in run\n",
      "    self._target(*self._args, **self._kwargs)\n",
      "  File \"/scratch/dmoi/condaenvs/ML2/lib/python3.9/multiprocessing/pool.py\", line 109, in worker\n",
      "    initializer(*initargs)\n",
      "  File \"/tmp/4730631/ipykernel_631294/4073675763.py\", line 13, in create_data_updown\n",
      "    toss = scipy.stats.bernoulli.rvs(posi_percent, loc=0, size=1, random_state=random.randint())\n",
      "TypeError: randint() missing 2 required positional arguments: 'a' and 'b'\n"
     ]
    },
    {
     "name": "stdout",
     "output_type": "stream",
     "text": [
      "dataset size 97133\n",
      "dataset size"
     ]
    },
    {
     "name": "stderr",
     "output_type": "stream",
     "text": [
      "Process ForkPoolWorker-585:\n"
     ]
    },
    {
     "name": "stdout",
     "output_type": "stream",
     "text": [
      " "
     ]
    },
    {
     "name": "stderr",
     "output_type": "stream",
     "text": [
      "Traceback (most recent call last):\n",
      "  File \"/scratch/dmoi/condaenvs/ML2/lib/python3.9/multiprocessing/process.py\", line 315, in _bootstrap\n",
      "    self.run()\n"
     ]
    },
    {
     "name": "stdout",
     "output_type": "stream",
     "text": [
      "389499\n"
     ]
    },
    {
     "name": "stderr",
     "output_type": "stream",
     "text": [
      "  File \"/scratch/dmoi/condaenvs/ML2/lib/python3.9/multiprocessing/process.py\", line 108, in run\n",
      "    self._target(*self._args, **self._kwargs)\n"
     ]
    },
    {
     "name": "stdout",
     "output_type": "stream",
     "text": [
      "dataset size"
     ]
    },
    {
     "name": "stderr",
     "output_type": "stream",
     "text": [
      "  File \"/scratch/dmoi/condaenvs/ML2/lib/python3.9/multiprocessing/pool.py\", line 109, in worker\n",
      "    initializer(*initargs)\n",
      "Process ForkPoolWorker-587:\n"
     ]
    },
    {
     "name": "stdout",
     "output_type": "stream",
     "text": [
      " "
     ]
    },
    {
     "name": "stderr",
     "output_type": "stream",
     "text": [
      "  File \"/tmp/4730631/ipykernel_631294/4073675763.py\", line 13, in create_data_updown\n",
      "    toss = scipy.stats.bernoulli.rvs(posi_percent, loc=0, size=1, random_state=random.randint())\n",
      "Traceback (most recent call last):\n"
     ]
    },
    {
     "name": "stdout",
     "output_type": "stream",
     "text": [
      "97133"
     ]
    },
    {
     "name": "stderr",
     "output_type": "stream",
     "text": [
      "TypeError: randint() missing 2 required positional arguments: 'a' and 'b'\n",
      "  File \"/scratch/dmoi/condaenvs/ML2/lib/python3.9/multiprocessing/process.py\", line 315, in _bootstrap\n",
      "    self.run()\n"
     ]
    },
    {
     "name": "stdout",
     "output_type": "stream",
     "text": [
      "\n"
     ]
    },
    {
     "name": "stderr",
     "output_type": "stream",
     "text": [
      "  File \"/scratch/dmoi/condaenvs/ML2/lib/python3.9/multiprocessing/process.py\", line 108, in run\n",
      "    self._target(*self._args, **self._kwargs)\n"
     ]
    },
    {
     "name": "stdout",
     "output_type": "stream",
     "text": [
      "dataset size"
     ]
    },
    {
     "name": "stderr",
     "output_type": "stream",
     "text": [
      "  File \"/scratch/dmoi/condaenvs/ML2/lib/python3.9/multiprocessing/pool.py\", line 109, in worker\n",
      "    initializer(*initargs)\n",
      "Process ForkPoolWorker-586:\n"
     ]
    },
    {
     "name": "stdout",
     "output_type": "stream",
     "text": [
      " "
     ]
    },
    {
     "name": "stderr",
     "output_type": "stream",
     "text": [
      "Traceback (most recent call last):\n",
      "  File \"/tmp/4730631/ipykernel_631294/4073675763.py\", line 13, in create_data_updown\n",
      "    toss = scipy.stats.bernoulli.rvs(posi_percent, loc=0, size=1, random_state=random.randint())\n"
     ]
    },
    {
     "name": "stdout",
     "output_type": "stream",
     "text": [
      "389499"
     ]
    },
    {
     "name": "stderr",
     "output_type": "stream",
     "text": [
      "TypeError: randint() missing 2 required positional arguments: 'a' and 'b'\n",
      "  File \"/scratch/dmoi/condaenvs/ML2/lib/python3.9/multiprocessing/process.py\", line 315, in _bootstrap\n",
      "    self.run()\n",
      "  File \"/scratch/dmoi/condaenvs/ML2/lib/python3.9/multiprocessing/process.py\", line 108, in run\n",
      "    self._target(*self._args, **self._kwargs)\n"
     ]
    },
    {
     "name": "stdout",
     "output_type": "stream",
     "text": [
      "\n",
      "dataset size"
     ]
    },
    {
     "name": "stderr",
     "output_type": "stream",
     "text": [
      "  File \"/scratch/dmoi/condaenvs/ML2/lib/python3.9/multiprocessing/pool.py\", line 109, in worker\n",
      "    initializer(*initargs)\n",
      "  File \"/tmp/4730631/ipykernel_631294/4073675763.py\", line 13, in create_data_updown\n",
      "    toss = scipy.stats.bernoulli.rvs(posi_percent, loc=0, size=1, random_state=random.randint())\n"
     ]
    },
    {
     "name": "stdout",
     "output_type": "stream",
     "text": [
      " "
     ]
    },
    {
     "name": "stderr",
     "output_type": "stream",
     "text": [
      "Process ForkPoolWorker-588:\n"
     ]
    },
    {
     "name": "stdout",
     "output_type": "stream",
     "text": [
      "97133"
     ]
    },
    {
     "name": "stderr",
     "output_type": "stream",
     "text": [
      "TypeError: randint() missing 2 required positional arguments: 'a' and 'b'\n",
      "Traceback (most recent call last):\n",
      "  File \"/scratch/dmoi/condaenvs/ML2/lib/python3.9/multiprocessing/process.py\", line 315, in _bootstrap\n",
      "    self.run()\n"
     ]
    },
    {
     "name": "stdout",
     "output_type": "stream",
     "text": [
      "\n"
     ]
    },
    {
     "name": "stderr",
     "output_type": "stream",
     "text": [
      "  File \"/scratch/dmoi/condaenvs/ML2/lib/python3.9/multiprocessing/process.py\", line 108, in run\n",
      "    self._target(*self._args, **self._kwargs)\n"
     ]
    },
    {
     "name": "stdout",
     "output_type": "stream",
     "text": [
      "dataset size"
     ]
    },
    {
     "name": "stderr",
     "output_type": "stream",
     "text": [
      "Process ForkPoolWorker-589:\n",
      "  File \"/scratch/dmoi/condaenvs/ML2/lib/python3.9/multiprocessing/pool.py\", line 109, in worker\n",
      "    initializer(*initargs)\n"
     ]
    },
    {
     "name": "stdout",
     "output_type": "stream",
     "text": [
      " "
     ]
    },
    {
     "name": "stderr",
     "output_type": "stream",
     "text": [
      "Traceback (most recent call last):\n",
      "  File \"/tmp/4730631/ipykernel_631294/4073675763.py\", line 13, in create_data_updown\n",
      "    toss = scipy.stats.bernoulli.rvs(posi_percent, loc=0, size=1, random_state=random.randint())\n"
     ]
    },
    {
     "name": "stdout",
     "output_type": "stream",
     "text": [
      "389499"
     ]
    },
    {
     "name": "stderr",
     "output_type": "stream",
     "text": [
      "  File \"/scratch/dmoi/condaenvs/ML2/lib/python3.9/multiprocessing/process.py\", line 315, in _bootstrap\n",
      "    self.run()\n",
      "TypeError: randint() missing 2 required positional arguments: 'a' and 'b'\n"
     ]
    },
    {
     "name": "stdout",
     "output_type": "stream",
     "text": [
      "\n"
     ]
    },
    {
     "name": "stderr",
     "output_type": "stream",
     "text": [
      "  File \"/scratch/dmoi/condaenvs/ML2/lib/python3.9/multiprocessing/process.py\", line 108, in run\n",
      "    self._target(*self._args, **self._kwargs)\n"
     ]
    },
    {
     "name": "stdout",
     "output_type": "stream",
     "text": [
      "dataset size"
     ]
    },
    {
     "name": "stderr",
     "output_type": "stream",
     "text": [
      "  File \"/scratch/dmoi/condaenvs/ML2/lib/python3.9/multiprocessing/pool.py\", line 109, in worker\n",
      "    initializer(*initargs)\n",
      "Process ForkPoolWorker-590:\n",
      "  File \"/tmp/4730631/ipykernel_631294/4073675763.py\", line 13, in create_data_updown\n",
      "    toss = scipy.stats.bernoulli.rvs(posi_percent, loc=0, size=1, random_state=random.randint())\n"
     ]
    },
    {
     "name": "stdout",
     "output_type": "stream",
     "text": [
      " "
     ]
    },
    {
     "name": "stderr",
     "output_type": "stream",
     "text": [
      "Traceback (most recent call last):\n"
     ]
    },
    {
     "name": "stdout",
     "output_type": "stream",
     "text": [
      "97133"
     ]
    },
    {
     "name": "stderr",
     "output_type": "stream",
     "text": [
      "TypeError: randint() missing 2 required positional arguments: 'a' and 'b'\n",
      "  File \"/scratch/dmoi/condaenvs/ML2/lib/python3.9/multiprocessing/process.py\", line 315, in _bootstrap\n",
      "    self.run()\n"
     ]
    },
    {
     "name": "stdout",
     "output_type": "stream",
     "text": [
      "\n"
     ]
    },
    {
     "name": "stderr",
     "output_type": "stream",
     "text": [
      "  File \"/scratch/dmoi/condaenvs/ML2/lib/python3.9/multiprocessing/process.py\", line 108, in run\n",
      "    self._target(*self._args, **self._kwargs)\n"
     ]
    },
    {
     "name": "stdout",
     "output_type": "stream",
     "text": [
      "dataset size"
     ]
    },
    {
     "name": "stderr",
     "output_type": "stream",
     "text": [
      "Process ForkPoolWorker-591:\n",
      "  File \"/scratch/dmoi/condaenvs/ML2/lib/python3.9/multiprocessing/pool.py\", line 109, in worker\n",
      "    initializer(*initargs)\n"
     ]
    },
    {
     "name": "stdout",
     "output_type": "stream",
     "text": [
      " "
     ]
    },
    {
     "name": "stderr",
     "output_type": "stream",
     "text": [
      "Traceback (most recent call last):\n",
      "  File \"/tmp/4730631/ipykernel_631294/4073675763.py\", line 13, in create_data_updown\n",
      "    toss = scipy.stats.bernoulli.rvs(posi_percent, loc=0, size=1, random_state=random.randint())\n"
     ]
    },
    {
     "name": "stdout",
     "output_type": "stream",
     "text": [
      "389499"
     ]
    },
    {
     "name": "stderr",
     "output_type": "stream",
     "text": [
      "  File \"/scratch/dmoi/condaenvs/ML2/lib/python3.9/multiprocessing/process.py\", line 315, in _bootstrap\n",
      "    self.run()\n",
      "TypeError: randint() missing 2 required positional arguments: 'a' and 'b'\n"
     ]
    },
    {
     "name": "stdout",
     "output_type": "stream",
     "text": [
      "\n"
     ]
    },
    {
     "name": "stderr",
     "output_type": "stream",
     "text": [
      "  File \"/scratch/dmoi/condaenvs/ML2/lib/python3.9/multiprocessing/process.py\", line 108, in run\n",
      "    self._target(*self._args, **self._kwargs)\n",
      "  File \"/scratch/dmoi/condaenvs/ML2/lib/python3.9/multiprocessing/pool.py\", line 109, in worker\n",
      "    initializer(*initargs)\n",
      "Process ForkPoolWorker-592:\n",
      "  File \"/tmp/4730631/ipykernel_631294/4073675763.py\", line 13, in create_data_updown\n",
      "    toss = scipy.stats.bernoulli.rvs(posi_percent, loc=0, size=1, random_state=random.randint())\n",
      "Traceback (most recent call last):\n",
      "TypeError: randint() missing 2 required positional arguments: 'a' and 'b'\n",
      "  File \"/scratch/dmoi/condaenvs/ML2/lib/python3.9/multiprocessing/process.py\", line 315, in _bootstrap\n",
      "    self.run()\n",
      "  File \"/scratch/dmoi/condaenvs/ML2/lib/python3.9/multiprocessing/process.py\", line 108, in run\n",
      "    self._target(*self._args, **self._kwargs)\n",
      "  File \"/scratch/dmoi/condaenvs/ML2/lib/python3.9/multiprocessing/pool.py\", line 109, in worker\n",
      "    initializer(*initargs)\n",
      "  File \"/tmp/4730631/ipykernel_631294/4073675763.py\", line 13, in create_data_updown\n",
      "    toss = scipy.stats.bernoulli.rvs(posi_percent, loc=0, size=1, random_state=random.randint())\n",
      "TypeError: randint() missing 2 required positional arguments: 'a' and 'b'\n"
     ]
    },
    {
     "name": "stdout",
     "output_type": "stream",
     "text": [
      "dataset size 97133\n"
     ]
    },
    {
     "name": "stderr",
     "output_type": "stream",
     "text": [
      "Process ForkPoolWorker-593:\n"
     ]
    },
    {
     "name": "stdout",
     "output_type": "stream",
     "text": [
      "dataset size"
     ]
    },
    {
     "name": "stderr",
     "output_type": "stream",
     "text": [
      "Traceback (most recent call last):\n"
     ]
    },
    {
     "name": "stdout",
     "output_type": "stream",
     "text": [
      " "
     ]
    },
    {
     "name": "stderr",
     "output_type": "stream",
     "text": [
      "  File \"/scratch/dmoi/condaenvs/ML2/lib/python3.9/multiprocessing/process.py\", line 315, in _bootstrap\n",
      "    self.run()\n"
     ]
    },
    {
     "name": "stdout",
     "output_type": "stream",
     "text": [
      "389499"
     ]
    },
    {
     "name": "stderr",
     "output_type": "stream",
     "text": [
      "  File \"/scratch/dmoi/condaenvs/ML2/lib/python3.9/multiprocessing/process.py\", line 108, in run\n",
      "    self._target(*self._args, **self._kwargs)\n"
     ]
    },
    {
     "name": "stdout",
     "output_type": "stream",
     "text": [
      "\n"
     ]
    },
    {
     "name": "stderr",
     "output_type": "stream",
     "text": [
      "  File \"/scratch/dmoi/condaenvs/ML2/lib/python3.9/multiprocessing/pool.py\", line 109, in worker\n",
      "    initializer(*initargs)\n"
     ]
    },
    {
     "name": "stdout",
     "output_type": "stream",
     "text": [
      "dataset size"
     ]
    },
    {
     "name": "stderr",
     "output_type": "stream",
     "text": [
      "Process ForkPoolWorker-595:\n",
      "  File \"/tmp/4730631/ipykernel_631294/4073675763.py\", line 13, in create_data_updown\n",
      "    toss = scipy.stats.bernoulli.rvs(posi_percent, loc=0, size=1, random_state=random.randint())\n"
     ]
    },
    {
     "name": "stdout",
     "output_type": "stream",
     "text": [
      " "
     ]
    },
    {
     "name": "stderr",
     "output_type": "stream",
     "text": [
      "Traceback (most recent call last):\n",
      "TypeError: randint() missing 2 required positional arguments: 'a' and 'b'\n"
     ]
    },
    {
     "name": "stdout",
     "output_type": "stream",
     "text": [
      "97133\n"
     ]
    },
    {
     "name": "stderr",
     "output_type": "stream",
     "text": [
      "  File \"/scratch/dmoi/condaenvs/ML2/lib/python3.9/multiprocessing/process.py\", line 315, in _bootstrap\n",
      "    self.run()\n"
     ]
    },
    {
     "name": "stdout",
     "output_type": "stream",
     "text": [
      "dataset size"
     ]
    },
    {
     "name": "stderr",
     "output_type": "stream",
     "text": [
      "Process ForkPoolWorker-594:\n",
      "  File \"/scratch/dmoi/condaenvs/ML2/lib/python3.9/multiprocessing/process.py\", line 108, in run\n",
      "    self._target(*self._args, **self._kwargs)\n"
     ]
    },
    {
     "name": "stdout",
     "output_type": "stream",
     "text": [
      " "
     ]
    },
    {
     "name": "stderr",
     "output_type": "stream",
     "text": [
      "Traceback (most recent call last):\n",
      "  File \"/scratch/dmoi/condaenvs/ML2/lib/python3.9/multiprocessing/pool.py\", line 109, in worker\n",
      "    initializer(*initargs)\n"
     ]
    },
    {
     "name": "stdout",
     "output_type": "stream",
     "text": [
      "389499"
     ]
    },
    {
     "name": "stderr",
     "output_type": "stream",
     "text": [
      "  File \"/scratch/dmoi/condaenvs/ML2/lib/python3.9/multiprocessing/process.py\", line 315, in _bootstrap\n",
      "    self.run()\n",
      "  File \"/tmp/4730631/ipykernel_631294/4073675763.py\", line 13, in create_data_updown\n",
      "    toss = scipy.stats.bernoulli.rvs(posi_percent, loc=0, size=1, random_state=random.randint())\n"
     ]
    },
    {
     "name": "stdout",
     "output_type": "stream",
     "text": [
      "\n"
     ]
    },
    {
     "name": "stderr",
     "output_type": "stream",
     "text": [
      "  File \"/scratch/dmoi/condaenvs/ML2/lib/python3.9/multiprocessing/process.py\", line 108, in run\n",
      "    self._target(*self._args, **self._kwargs)\n",
      "TypeError: randint() missing 2 required positional arguments: 'a' and 'b'\n",
      "Process ForkPoolWorker-596:\n"
     ]
    },
    {
     "name": "stdout",
     "output_type": "stream",
     "text": [
      "dataset size"
     ]
    },
    {
     "name": "stderr",
     "output_type": "stream",
     "text": [
      "  File \"/scratch/dmoi/condaenvs/ML2/lib/python3.9/multiprocessing/pool.py\", line 109, in worker\n",
      "    initializer(*initargs)\n",
      "Traceback (most recent call last):\n"
     ]
    },
    {
     "name": "stdout",
     "output_type": "stream",
     "text": [
      " "
     ]
    },
    {
     "name": "stderr",
     "output_type": "stream",
     "text": [
      "  File \"/tmp/4730631/ipykernel_631294/4073675763.py\", line 13, in create_data_updown\n",
      "    toss = scipy.stats.bernoulli.rvs(posi_percent, loc=0, size=1, random_state=random.randint())\n",
      "  File \"/scratch/dmoi/condaenvs/ML2/lib/python3.9/multiprocessing/process.py\", line 315, in _bootstrap\n",
      "    self.run()\n"
     ]
    },
    {
     "name": "stdout",
     "output_type": "stream",
     "text": [
      "97133"
     ]
    },
    {
     "name": "stderr",
     "output_type": "stream",
     "text": [
      "TypeError: randint() missing 2 required positional arguments: 'a' and 'b'\n",
      "  File \"/scratch/dmoi/condaenvs/ML2/lib/python3.9/multiprocessing/process.py\", line 108, in run\n",
      "    self._target(*self._args, **self._kwargs)\n",
      "  File \"/scratch/dmoi/condaenvs/ML2/lib/python3.9/multiprocessing/pool.py\", line 109, in worker\n",
      "    initializer(*initargs)\n"
     ]
    },
    {
     "name": "stdout",
     "output_type": "stream",
     "text": [
      "\n"
     ]
    },
    {
     "name": "stderr",
     "output_type": "stream",
     "text": [
      "  File \"/tmp/4730631/ipykernel_631294/4073675763.py\", line 13, in create_data_updown\n",
      "    toss = scipy.stats.bernoulli.rvs(posi_percent, loc=0, size=1, random_state=random.randint())\n"
     ]
    },
    {
     "name": "stdout",
     "output_type": "stream",
     "text": [
      "dataset size"
     ]
    },
    {
     "name": "stderr",
     "output_type": "stream",
     "text": [
      "Process ForkPoolWorker-597:\n",
      "TypeError: randint() missing 2 required positional arguments: 'a' and 'b'\n"
     ]
    },
    {
     "name": "stdout",
     "output_type": "stream",
     "text": [
      " "
     ]
    },
    {
     "name": "stderr",
     "output_type": "stream",
     "text": [
      "Traceback (most recent call last):\n"
     ]
    },
    {
     "name": "stdout",
     "output_type": "stream",
     "text": [
      "389499"
     ]
    },
    {
     "name": "stderr",
     "output_type": "stream",
     "text": [
      "  File \"/scratch/dmoi/condaenvs/ML2/lib/python3.9/multiprocessing/process.py\", line 315, in _bootstrap\n",
      "    self.run()\n"
     ]
    },
    {
     "name": "stdout",
     "output_type": "stream",
     "text": [
      "\n"
     ]
    },
    {
     "name": "stderr",
     "output_type": "stream",
     "text": [
      "  File \"/scratch/dmoi/condaenvs/ML2/lib/python3.9/multiprocessing/process.py\", line 108, in run\n",
      "    self._target(*self._args, **self._kwargs)\n"
     ]
    },
    {
     "name": "stdout",
     "output_type": "stream",
     "text": [
      "dataset size"
     ]
    },
    {
     "name": "stderr",
     "output_type": "stream",
     "text": [
      "  File \"/scratch/dmoi/condaenvs/ML2/lib/python3.9/multiprocessing/pool.py\", line 109, in worker\n",
      "    initializer(*initargs)\n",
      "Process ForkPoolWorker-598:\n"
     ]
    },
    {
     "name": "stdout",
     "output_type": "stream",
     "text": [
      " "
     ]
    },
    {
     "name": "stderr",
     "output_type": "stream",
     "text": [
      "  File \"/tmp/4730631/ipykernel_631294/4073675763.py\", line 13, in create_data_updown\n",
      "    toss = scipy.stats.bernoulli.rvs(posi_percent, loc=0, size=1, random_state=random.randint())\n",
      "Traceback (most recent call last):\n"
     ]
    },
    {
     "name": "stdout",
     "output_type": "stream",
     "text": [
      "97133"
     ]
    },
    {
     "name": "stderr",
     "output_type": "stream",
     "text": [
      "TypeError: randint() missing 2 required positional arguments: 'a' and 'b'\n",
      "  File \"/scratch/dmoi/condaenvs/ML2/lib/python3.9/multiprocessing/process.py\", line 315, in _bootstrap\n",
      "    self.run()\n"
     ]
    },
    {
     "name": "stdout",
     "output_type": "stream",
     "text": [
      "\n"
     ]
    },
    {
     "name": "stderr",
     "output_type": "stream",
     "text": [
      "  File \"/scratch/dmoi/condaenvs/ML2/lib/python3.9/multiprocessing/process.py\", line 108, in run\n",
      "    self._target(*self._args, **self._kwargs)\n"
     ]
    },
    {
     "name": "stdout",
     "output_type": "stream",
     "text": [
      "dataset size"
     ]
    },
    {
     "name": "stderr",
     "output_type": "stream",
     "text": [
      "Process ForkPoolWorker-599:\n",
      "  File \"/scratch/dmoi/condaenvs/ML2/lib/python3.9/multiprocessing/pool.py\", line 109, in worker\n",
      "    initializer(*initargs)\n",
      "Traceback (most recent call last):\n",
      "  File \"/scratch/dmoi/condaenvs/ML2/lib/python3.9/multiprocessing/process.py\", line 315, in _bootstrap\n",
      "    self.run()\n"
     ]
    },
    {
     "name": "stdout",
     "output_type": "stream",
     "text": [
      " "
     ]
    },
    {
     "name": "stderr",
     "output_type": "stream",
     "text": [
      "  File \"/tmp/4730631/ipykernel_631294/4073675763.py\", line 13, in create_data_updown\n",
      "    toss = scipy.stats.bernoulli.rvs(posi_percent, loc=0, size=1, random_state=random.randint())\n",
      "  File \"/scratch/dmoi/condaenvs/ML2/lib/python3.9/multiprocessing/process.py\", line 108, in run\n",
      "    self._target(*self._args, **self._kwargs)\n"
     ]
    },
    {
     "name": "stdout",
     "output_type": "stream",
     "text": [
      "389499"
     ]
    },
    {
     "name": "stderr",
     "output_type": "stream",
     "text": [
      "TypeError: randint() missing 2 required positional arguments: 'a' and 'b'\n",
      "  File \"/scratch/dmoi/condaenvs/ML2/lib/python3.9/multiprocessing/pool.py\", line 109, in worker\n",
      "    initializer(*initargs)\n"
     ]
    },
    {
     "name": "stdout",
     "output_type": "stream",
     "text": [
      "\n"
     ]
    },
    {
     "name": "stderr",
     "output_type": "stream",
     "text": [
      "  File \"/tmp/4730631/ipykernel_631294/4073675763.py\", line 13, in create_data_updown\n",
      "    toss = scipy.stats.bernoulli.rvs(posi_percent, loc=0, size=1, random_state=random.randint())\n",
      "Process ForkPoolWorker-600:\n",
      "TypeError: randint() missing 2 required positional arguments: 'a' and 'b'\n",
      "Traceback (most recent call last):\n",
      "  File \"/scratch/dmoi/condaenvs/ML2/lib/python3.9/multiprocessing/process.py\", line 315, in _bootstrap\n",
      "    self.run()\n",
      "  File \"/scratch/dmoi/condaenvs/ML2/lib/python3.9/multiprocessing/process.py\", line 108, in run\n",
      "    self._target(*self._args, **self._kwargs)\n",
      "  File \"/scratch/dmoi/condaenvs/ML2/lib/python3.9/multiprocessing/pool.py\", line 109, in worker\n",
      "    initializer(*initargs)\n",
      "  File \"/tmp/4730631/ipykernel_631294/4073675763.py\", line 13, in create_data_updown\n",
      "    toss = scipy.stats.bernoulli.rvs(posi_percent, loc=0, size=1, random_state=random.randint())\n",
      "TypeError: randint() missing 2 required positional arguments: 'a' and 'b'\n"
     ]
    },
    {
     "name": "stdout",
     "output_type": "stream",
     "text": [
      "dataset size 97133\n",
      "dataset size"
     ]
    },
    {
     "name": "stderr",
     "output_type": "stream",
     "text": [
      "Process ForkPoolWorker-601:\n",
      "Traceback (most recent call last):\n"
     ]
    },
    {
     "name": "stdout",
     "output_type": "stream",
     "text": [
      " 389499"
     ]
    },
    {
     "name": "stderr",
     "output_type": "stream",
     "text": [
      "  File \"/scratch/dmoi/condaenvs/ML2/lib/python3.9/multiprocessing/process.py\", line 315, in _bootstrap\n",
      "    self.run()\n"
     ]
    },
    {
     "name": "stdout",
     "output_type": "stream",
     "text": [
      "\n"
     ]
    },
    {
     "name": "stderr",
     "output_type": "stream",
     "text": [
      "  File \"/scratch/dmoi/condaenvs/ML2/lib/python3.9/multiprocessing/process.py\", line 108, in run\n",
      "    self._target(*self._args, **self._kwargs)\n",
      "Process ForkPoolWorker-603:\n"
     ]
    },
    {
     "name": "stdout",
     "output_type": "stream",
     "text": [
      "dataset size"
     ]
    },
    {
     "name": "stderr",
     "output_type": "stream",
     "text": [
      "  File \"/scratch/dmoi/condaenvs/ML2/lib/python3.9/multiprocessing/pool.py\", line 109, in worker\n",
      "    initializer(*initargs)\n"
     ]
    },
    {
     "name": "stdout",
     "output_type": "stream",
     "text": [
      " "
     ]
    },
    {
     "name": "stderr",
     "output_type": "stream",
     "text": [
      "  File \"/tmp/4730631/ipykernel_631294/4073675763.py\", line 13, in create_data_updown\n",
      "    toss = scipy.stats.bernoulli.rvs(posi_percent, loc=0, size=1, random_state=random.randint())\n",
      "TypeError: randint() missing 2 required positional arguments: 'a' and 'b'\n"
     ]
    },
    {
     "name": "stdout",
     "output_type": "stream",
     "text": [
      "97133"
     ]
    },
    {
     "name": "stderr",
     "output_type": "stream",
     "text": [
      "Traceback (most recent call last):\n"
     ]
    },
    {
     "name": "stdout",
     "output_type": "stream",
     "text": [
      "\n"
     ]
    },
    {
     "name": "stderr",
     "output_type": "stream",
     "text": [
      "  File \"/scratch/dmoi/condaenvs/ML2/lib/python3.9/multiprocessing/process.py\", line 315, in _bootstrap\n",
      "    self.run()\n"
     ]
    },
    {
     "name": "stdout",
     "output_type": "stream",
     "text": [
      "dataset size"
     ]
    },
    {
     "name": "stderr",
     "output_type": "stream",
     "text": [
      "Process ForkPoolWorker-602:\n",
      "  File \"/scratch/dmoi/condaenvs/ML2/lib/python3.9/multiprocessing/process.py\", line 108, in run\n",
      "    self._target(*self._args, **self._kwargs)\n"
     ]
    },
    {
     "name": "stdout",
     "output_type": "stream",
     "text": [
      " "
     ]
    },
    {
     "name": "stderr",
     "output_type": "stream",
     "text": [
      "Traceback (most recent call last):\n",
      "  File \"/scratch/dmoi/condaenvs/ML2/lib/python3.9/multiprocessing/pool.py\", line 109, in worker\n",
      "    initializer(*initargs)\n"
     ]
    },
    {
     "name": "stdout",
     "output_type": "stream",
     "text": [
      "389499"
     ]
    },
    {
     "name": "stderr",
     "output_type": "stream",
     "text": [
      "  File \"/scratch/dmoi/condaenvs/ML2/lib/python3.9/multiprocessing/process.py\", line 315, in _bootstrap\n",
      "    self.run()\n",
      "  File \"/tmp/4730631/ipykernel_631294/4073675763.py\", line 13, in create_data_updown\n",
      "    toss = scipy.stats.bernoulli.rvs(posi_percent, loc=0, size=1, random_state=random.randint())\n"
     ]
    },
    {
     "name": "stdout",
     "output_type": "stream",
     "text": [
      "\n"
     ]
    },
    {
     "name": "stderr",
     "output_type": "stream",
     "text": [
      "  File \"/scratch/dmoi/condaenvs/ML2/lib/python3.9/multiprocessing/process.py\", line 108, in run\n",
      "    self._target(*self._args, **self._kwargs)\n"
     ]
    },
    {
     "name": "stdout",
     "output_type": "stream",
     "text": [
      "dataset size"
     ]
    },
    {
     "name": "stderr",
     "output_type": "stream",
     "text": [
      "TypeError: randint() missing 2 required positional arguments: 'a' and 'b'\n",
      "  File \"/scratch/dmoi/condaenvs/ML2/lib/python3.9/multiprocessing/pool.py\", line 109, in worker\n",
      "    initializer(*initargs)\n"
     ]
    },
    {
     "name": "stdout",
     "output_type": "stream",
     "text": [
      " "
     ]
    },
    {
     "name": "stderr",
     "output_type": "stream",
     "text": [
      "Process ForkPoolWorker-604:\n",
      "  File \"/tmp/4730631/ipykernel_631294/4073675763.py\", line 13, in create_data_updown\n",
      "    toss = scipy.stats.bernoulli.rvs(posi_percent, loc=0, size=1, random_state=random.randint())\n"
     ]
    },
    {
     "name": "stdout",
     "output_type": "stream",
     "text": [
      "97133"
     ]
    },
    {
     "name": "stderr",
     "output_type": "stream",
     "text": [
      "Traceback (most recent call last):\n",
      "TypeError: randint() missing 2 required positional arguments: 'a' and 'b'\n"
     ]
    },
    {
     "name": "stdout",
     "output_type": "stream",
     "text": [
      "\n"
     ]
    },
    {
     "name": "stderr",
     "output_type": "stream",
     "text": [
      "  File \"/scratch/dmoi/condaenvs/ML2/lib/python3.9/multiprocessing/process.py\", line 315, in _bootstrap\n",
      "    self.run()\n"
     ]
    },
    {
     "name": "stdout",
     "output_type": "stream",
     "text": [
      "dataset size"
     ]
    },
    {
     "name": "stderr",
     "output_type": "stream",
     "text": [
      "Process ForkPoolWorker-605:\n",
      "  File \"/scratch/dmoi/condaenvs/ML2/lib/python3.9/multiprocessing/process.py\", line 108, in run\n",
      "    self._target(*self._args, **self._kwargs)\n"
     ]
    },
    {
     "name": "stdout",
     "output_type": "stream",
     "text": [
      " "
     ]
    },
    {
     "name": "stderr",
     "output_type": "stream",
     "text": [
      "Traceback (most recent call last):\n",
      "  File \"/scratch/dmoi/condaenvs/ML2/lib/python3.9/multiprocessing/pool.py\", line 109, in worker\n",
      "    initializer(*initargs)\n"
     ]
    },
    {
     "name": "stdout",
     "output_type": "stream",
     "text": [
      "389499"
     ]
    },
    {
     "name": "stderr",
     "output_type": "stream",
     "text": [
      "  File \"/scratch/dmoi/condaenvs/ML2/lib/python3.9/multiprocessing/process.py\", line 315, in _bootstrap\n",
      "    self.run()\n",
      "  File \"/tmp/4730631/ipykernel_631294/4073675763.py\", line 13, in create_data_updown\n",
      "    toss = scipy.stats.bernoulli.rvs(posi_percent, loc=0, size=1, random_state=random.randint())\n"
     ]
    },
    {
     "name": "stdout",
     "output_type": "stream",
     "text": [
      "\n"
     ]
    },
    {
     "name": "stderr",
     "output_type": "stream",
     "text": [
      "  File \"/scratch/dmoi/condaenvs/ML2/lib/python3.9/multiprocessing/process.py\", line 108, in run\n",
      "    self._target(*self._args, **self._kwargs)\n",
      "TypeError: randint() missing 2 required positional arguments: 'a' and 'b'\n",
      "  File \"/scratch/dmoi/condaenvs/ML2/lib/python3.9/multiprocessing/pool.py\", line 109, in worker\n",
      "    initializer(*initargs)\n"
     ]
    },
    {
     "name": "stdout",
     "output_type": "stream",
     "text": [
      "dataset size"
     ]
    },
    {
     "name": "stderr",
     "output_type": "stream",
     "text": [
      "  File \"/tmp/4730631/ipykernel_631294/4073675763.py\", line 13, in create_data_updown\n",
      "    toss = scipy.stats.bernoulli.rvs(posi_percent, loc=0, size=1, random_state=random.randint())\n",
      "Process ForkPoolWorker-606:\n"
     ]
    },
    {
     "name": "stdout",
     "output_type": "stream",
     "text": [
      " "
     ]
    },
    {
     "name": "stderr",
     "output_type": "stream",
     "text": [
      "TypeError: randint() missing 2 required positional arguments: 'a' and 'b'\n",
      "Traceback (most recent call last):\n"
     ]
    },
    {
     "name": "stdout",
     "output_type": "stream",
     "text": [
      "97133"
     ]
    },
    {
     "name": "stderr",
     "output_type": "stream",
     "text": [
      "  File \"/scratch/dmoi/condaenvs/ML2/lib/python3.9/multiprocessing/process.py\", line 315, in _bootstrap\n",
      "    self.run()\n"
     ]
    },
    {
     "name": "stdout",
     "output_type": "stream",
     "text": [
      "\n"
     ]
    },
    {
     "name": "stderr",
     "output_type": "stream",
     "text": [
      "  File \"/scratch/dmoi/condaenvs/ML2/lib/python3.9/multiprocessing/process.py\", line 108, in run\n",
      "    self._target(*self._args, **self._kwargs)\n"
     ]
    },
    {
     "name": "stdout",
     "output_type": "stream",
     "text": [
      "dataset size"
     ]
    },
    {
     "name": "stderr",
     "output_type": "stream",
     "text": [
      "Process ForkPoolWorker-607:\n",
      "  File \"/scratch/dmoi/condaenvs/ML2/lib/python3.9/multiprocessing/pool.py\", line 109, in worker\n",
      "    initializer(*initargs)\n"
     ]
    },
    {
     "name": "stdout",
     "output_type": "stream",
     "text": [
      " "
     ]
    },
    {
     "name": "stderr",
     "output_type": "stream",
     "text": [
      "Traceback (most recent call last):\n",
      "  File \"/tmp/4730631/ipykernel_631294/4073675763.py\", line 13, in create_data_updown\n",
      "    toss = scipy.stats.bernoulli.rvs(posi_percent, loc=0, size=1, random_state=random.randint())\n"
     ]
    },
    {
     "name": "stdout",
     "output_type": "stream",
     "text": [
      "389499"
     ]
    },
    {
     "name": "stderr",
     "output_type": "stream",
     "text": [
      "TypeError: randint() missing 2 required positional arguments: 'a' and 'b'\n",
      "  File \"/scratch/dmoi/condaenvs/ML2/lib/python3.9/multiprocessing/process.py\", line 315, in _bootstrap\n",
      "    self.run()\n",
      "  File \"/scratch/dmoi/condaenvs/ML2/lib/python3.9/multiprocessing/process.py\", line 108, in run\n",
      "    self._target(*self._args, **self._kwargs)\n"
     ]
    },
    {
     "name": "stdout",
     "output_type": "stream",
     "text": [
      "\n"
     ]
    },
    {
     "name": "stderr",
     "output_type": "stream",
     "text": [
      "  File \"/scratch/dmoi/condaenvs/ML2/lib/python3.9/multiprocessing/pool.py\", line 109, in worker\n",
      "    initializer(*initargs)\n",
      "Process ForkPoolWorker-608:\n",
      "  File \"/tmp/4730631/ipykernel_631294/4073675763.py\", line 13, in create_data_updown\n",
      "    toss = scipy.stats.bernoulli.rvs(posi_percent, loc=0, size=1, random_state=random.randint())\n",
      "Traceback (most recent call last):\n",
      "TypeError: randint() missing 2 required positional arguments: 'a' and 'b'\n",
      "  File \"/scratch/dmoi/condaenvs/ML2/lib/python3.9/multiprocessing/process.py\", line 315, in _bootstrap\n",
      "    self.run()\n",
      "  File \"/scratch/dmoi/condaenvs/ML2/lib/python3.9/multiprocessing/process.py\", line 108, in run\n",
      "    self._target(*self._args, **self._kwargs)\n",
      "  File \"/scratch/dmoi/condaenvs/ML2/lib/python3.9/multiprocessing/pool.py\", line 109, in worker\n",
      "    initializer(*initargs)\n",
      "  File \"/tmp/4730631/ipykernel_631294/4073675763.py\", line 13, in create_data_updown\n",
      "    toss = scipy.stats.bernoulli.rvs(posi_percent, loc=0, size=1, random_state=random.randint())\n",
      "TypeError: randint() missing 2 required positional arguments: 'a' and 'b'\n"
     ]
    },
    {
     "name": "stdout",
     "output_type": "stream",
     "text": [
      "dataset size 97133\n",
      "dataset size"
     ]
    },
    {
     "name": "stderr",
     "output_type": "stream",
     "text": [
      "Process ForkPoolWorker-609:\n"
     ]
    },
    {
     "name": "stdout",
     "output_type": "stream",
     "text": [
      " "
     ]
    },
    {
     "name": "stderr",
     "output_type": "stream",
     "text": [
      "Traceback (most recent call last):\n",
      "  File \"/scratch/dmoi/condaenvs/ML2/lib/python3.9/multiprocessing/process.py\", line 315, in _bootstrap\n",
      "    self.run()\n"
     ]
    },
    {
     "name": "stdout",
     "output_type": "stream",
     "text": [
      "389499\n"
     ]
    },
    {
     "name": "stderr",
     "output_type": "stream",
     "text": [
      "  File \"/scratch/dmoi/condaenvs/ML2/lib/python3.9/multiprocessing/process.py\", line 108, in run\n",
      "    self._target(*self._args, **self._kwargs)\n"
     ]
    },
    {
     "name": "stdout",
     "output_type": "stream",
     "text": [
      "dataset size"
     ]
    },
    {
     "name": "stderr",
     "output_type": "stream",
     "text": [
      "  File \"/scratch/dmoi/condaenvs/ML2/lib/python3.9/multiprocessing/pool.py\", line 109, in worker\n",
      "    initializer(*initargs)\n",
      "Process ForkPoolWorker-611:\n"
     ]
    },
    {
     "name": "stdout",
     "output_type": "stream",
     "text": [
      " "
     ]
    },
    {
     "name": "stderr",
     "output_type": "stream",
     "text": [
      "  File \"/tmp/4730631/ipykernel_631294/4073675763.py\", line 13, in create_data_updown\n",
      "    toss = scipy.stats.bernoulli.rvs(posi_percent, loc=0, size=1, random_state=random.randint())\n",
      "Traceback (most recent call last):\n"
     ]
    },
    {
     "name": "stdout",
     "output_type": "stream",
     "text": [
      "97133"
     ]
    },
    {
     "name": "stderr",
     "output_type": "stream",
     "text": [
      "TypeError: randint() missing 2 required positional arguments: 'a' and 'b'\n",
      "  File \"/scratch/dmoi/condaenvs/ML2/lib/python3.9/multiprocessing/process.py\", line 315, in _bootstrap\n",
      "    self.run()\n"
     ]
    },
    {
     "name": "stdout",
     "output_type": "stream",
     "text": [
      "\n"
     ]
    },
    {
     "name": "stderr",
     "output_type": "stream",
     "text": [
      "  File \"/scratch/dmoi/condaenvs/ML2/lib/python3.9/multiprocessing/process.py\", line 108, in run\n",
      "    self._target(*self._args, **self._kwargs)\n"
     ]
    },
    {
     "name": "stdout",
     "output_type": "stream",
     "text": [
      "dataset size"
     ]
    },
    {
     "name": "stderr",
     "output_type": "stream",
     "text": [
      "Process ForkPoolWorker-610:\n",
      "  File \"/scratch/dmoi/condaenvs/ML2/lib/python3.9/multiprocessing/pool.py\", line 109, in worker\n",
      "    initializer(*initargs)\n"
     ]
    },
    {
     "name": "stdout",
     "output_type": "stream",
     "text": [
      " "
     ]
    },
    {
     "name": "stderr",
     "output_type": "stream",
     "text": [
      "Traceback (most recent call last):\n",
      "  File \"/tmp/4730631/ipykernel_631294/4073675763.py\", line 13, in create_data_updown\n",
      "    toss = scipy.stats.bernoulli.rvs(posi_percent, loc=0, size=1, random_state=random.randint())\n"
     ]
    },
    {
     "name": "stdout",
     "output_type": "stream",
     "text": [
      "389499"
     ]
    },
    {
     "name": "stderr",
     "output_type": "stream",
     "text": [
      "  File \"/scratch/dmoi/condaenvs/ML2/lib/python3.9/multiprocessing/process.py\", line 315, in _bootstrap\n",
      "    self.run()\n",
      "TypeError: randint() missing 2 required positional arguments: 'a' and 'b'\n"
     ]
    },
    {
     "name": "stdout",
     "output_type": "stream",
     "text": [
      "\n"
     ]
    },
    {
     "name": "stderr",
     "output_type": "stream",
     "text": [
      "  File \"/scratch/dmoi/condaenvs/ML2/lib/python3.9/multiprocessing/process.py\", line 108, in run\n",
      "    self._target(*self._args, **self._kwargs)\n"
     ]
    },
    {
     "name": "stdout",
     "output_type": "stream",
     "text": [
      "dataset size"
     ]
    },
    {
     "name": "stderr",
     "output_type": "stream",
     "text": [
      "Process ForkPoolWorker-612:\n",
      "  File \"/scratch/dmoi/condaenvs/ML2/lib/python3.9/multiprocessing/pool.py\", line 109, in worker\n",
      "    initializer(*initargs)\n",
      "Traceback (most recent call last):\n",
      "  File \"/tmp/4730631/ipykernel_631294/4073675763.py\", line 13, in create_data_updown\n",
      "    toss = scipy.stats.bernoulli.rvs(posi_percent, loc=0, size=1, random_state=random.randint())\n",
      "TypeError: randint() missing 2 required positional arguments: 'a' and 'b'\n",
      "  File \"/scratch/dmoi/condaenvs/ML2/lib/python3.9/multiprocessing/process.py\", line 315, in _bootstrap\n",
      "    self.run()\n"
     ]
    },
    {
     "name": "stdout",
     "output_type": "stream",
     "text": [
      " "
     ]
    },
    {
     "name": "stderr",
     "output_type": "stream",
     "text": [
      "  File \"/scratch/dmoi/condaenvs/ML2/lib/python3.9/multiprocessing/process.py\", line 108, in run\n",
      "    self._target(*self._args, **self._kwargs)\n"
     ]
    },
    {
     "name": "stdout",
     "output_type": "stream",
     "text": [
      "97133"
     ]
    },
    {
     "name": "stderr",
     "output_type": "stream",
     "text": [
      "  File \"/scratch/dmoi/condaenvs/ML2/lib/python3.9/multiprocessing/pool.py\", line 109, in worker\n",
      "    initializer(*initargs)\n"
     ]
    },
    {
     "name": "stdout",
     "output_type": "stream",
     "text": [
      "\n"
     ]
    },
    {
     "name": "stderr",
     "output_type": "stream",
     "text": [
      "  File \"/tmp/4730631/ipykernel_631294/4073675763.py\", line 13, in create_data_updown\n",
      "    toss = scipy.stats.bernoulli.rvs(posi_percent, loc=0, size=1, random_state=random.randint())\n"
     ]
    },
    {
     "name": "stdout",
     "output_type": "stream",
     "text": [
      "dataset size"
     ]
    },
    {
     "name": "stderr",
     "output_type": "stream",
     "text": [
      "Process ForkPoolWorker-613:\n",
      "TypeError: randint() missing 2 required positional arguments: 'a' and 'b'\n"
     ]
    },
    {
     "name": "stdout",
     "output_type": "stream",
     "text": [
      " "
     ]
    },
    {
     "name": "stderr",
     "output_type": "stream",
     "text": [
      "Traceback (most recent call last):\n"
     ]
    },
    {
     "name": "stdout",
     "output_type": "stream",
     "text": [
      "389499"
     ]
    },
    {
     "name": "stderr",
     "output_type": "stream",
     "text": [
      "  File \"/scratch/dmoi/condaenvs/ML2/lib/python3.9/multiprocessing/process.py\", line 315, in _bootstrap\n",
      "    self.run()\n"
     ]
    },
    {
     "name": "stdout",
     "output_type": "stream",
     "text": [
      "\n"
     ]
    },
    {
     "name": "stderr",
     "output_type": "stream",
     "text": [
      "  File \"/scratch/dmoi/condaenvs/ML2/lib/python3.9/multiprocessing/process.py\", line 108, in run\n",
      "    self._target(*self._args, **self._kwargs)\n"
     ]
    },
    {
     "name": "stdout",
     "output_type": "stream",
     "text": [
      "dataset size"
     ]
    },
    {
     "name": "stderr",
     "output_type": "stream",
     "text": [
      "Process ForkPoolWorker-614:\n",
      "  File \"/scratch/dmoi/condaenvs/ML2/lib/python3.9/multiprocessing/pool.py\", line 109, in worker\n",
      "    initializer(*initargs)\n"
     ]
    },
    {
     "name": "stdout",
     "output_type": "stream",
     "text": [
      " "
     ]
    },
    {
     "name": "stderr",
     "output_type": "stream",
     "text": [
      "Traceback (most recent call last):\n",
      "  File \"/tmp/4730631/ipykernel_631294/4073675763.py\", line 13, in create_data_updown\n",
      "    toss = scipy.stats.bernoulli.rvs(posi_percent, loc=0, size=1, random_state=random.randint())\n"
     ]
    },
    {
     "name": "stdout",
     "output_type": "stream",
     "text": [
      "97133"
     ]
    },
    {
     "name": "stderr",
     "output_type": "stream",
     "text": [
      "  File \"/scratch/dmoi/condaenvs/ML2/lib/python3.9/multiprocessing/process.py\", line 315, in _bootstrap\n",
      "    self.run()\n",
      "TypeError: randint() missing 2 required positional arguments: 'a' and 'b'\n"
     ]
    },
    {
     "name": "stdout",
     "output_type": "stream",
     "text": [
      "\n"
     ]
    },
    {
     "name": "stderr",
     "output_type": "stream",
     "text": [
      "  File \"/scratch/dmoi/condaenvs/ML2/lib/python3.9/multiprocessing/process.py\", line 108, in run\n",
      "    self._target(*self._args, **self._kwargs)\n"
     ]
    },
    {
     "name": "stdout",
     "output_type": "stream",
     "text": [
      "dataset size"
     ]
    },
    {
     "name": "stderr",
     "output_type": "stream",
     "text": [
      "  File \"/scratch/dmoi/condaenvs/ML2/lib/python3.9/multiprocessing/pool.py\", line 109, in worker\n",
      "    initializer(*initargs)\n",
      "Process ForkPoolWorker-615:\n"
     ]
    },
    {
     "name": "stdout",
     "output_type": "stream",
     "text": [
      " "
     ]
    },
    {
     "name": "stderr",
     "output_type": "stream",
     "text": [
      "  File \"/tmp/4730631/ipykernel_631294/4073675763.py\", line 13, in create_data_updown\n",
      "    toss = scipy.stats.bernoulli.rvs(posi_percent, loc=0, size=1, random_state=random.randint())\n",
      "Traceback (most recent call last):\n"
     ]
    },
    {
     "name": "stdout",
     "output_type": "stream",
     "text": [
      "389499"
     ]
    },
    {
     "name": "stderr",
     "output_type": "stream",
     "text": [
      "TypeError: randint() missing 2 required positional arguments: 'a' and 'b'\n",
      "  File \"/scratch/dmoi/condaenvs/ML2/lib/python3.9/multiprocessing/process.py\", line 315, in _bootstrap\n",
      "    self.run()\n",
      "  File \"/scratch/dmoi/condaenvs/ML2/lib/python3.9/multiprocessing/process.py\", line 108, in run\n",
      "    self._target(*self._args, **self._kwargs)\n"
     ]
    },
    {
     "name": "stdout",
     "output_type": "stream",
     "text": [
      "\n"
     ]
    },
    {
     "name": "stderr",
     "output_type": "stream",
     "text": [
      "  File \"/scratch/dmoi/condaenvs/ML2/lib/python3.9/multiprocessing/pool.py\", line 109, in worker\n",
      "    initializer(*initargs)\n",
      "Process ForkPoolWorker-616:\n",
      "  File \"/tmp/4730631/ipykernel_631294/4073675763.py\", line 13, in create_data_updown\n",
      "    toss = scipy.stats.bernoulli.rvs(posi_percent, loc=0, size=1, random_state=random.randint())\n",
      "Traceback (most recent call last):\n",
      "TypeError: randint() missing 2 required positional arguments: 'a' and 'b'\n",
      "  File \"/scratch/dmoi/condaenvs/ML2/lib/python3.9/multiprocessing/process.py\", line 315, in _bootstrap\n",
      "    self.run()\n",
      "  File \"/scratch/dmoi/condaenvs/ML2/lib/python3.9/multiprocessing/process.py\", line 108, in run\n",
      "    self._target(*self._args, **self._kwargs)\n",
      "  File \"/scratch/dmoi/condaenvs/ML2/lib/python3.9/multiprocessing/pool.py\", line 109, in worker\n",
      "    initializer(*initargs)\n",
      "  File \"/tmp/4730631/ipykernel_631294/4073675763.py\", line 13, in create_data_updown\n",
      "    toss = scipy.stats.bernoulli.rvs(posi_percent, loc=0, size=1, random_state=random.randint())\n",
      "TypeError: randint() missing 2 required positional arguments: 'a' and 'b'\n"
     ]
    },
    {
     "name": "stdout",
     "output_type": "stream",
     "text": [
      "dataset size 97133\n",
      "dataset size"
     ]
    },
    {
     "name": "stderr",
     "output_type": "stream",
     "text": [
      "Process ForkPoolWorker-617:\n",
      "Traceback (most recent call last):\n"
     ]
    },
    {
     "name": "stdout",
     "output_type": "stream",
     "text": [
      " "
     ]
    },
    {
     "name": "stderr",
     "output_type": "stream",
     "text": [
      "  File \"/scratch/dmoi/condaenvs/ML2/lib/python3.9/multiprocessing/process.py\", line 315, in _bootstrap\n",
      "    self.run()\n"
     ]
    },
    {
     "name": "stdout",
     "output_type": "stream",
     "text": [
      "389499"
     ]
    },
    {
     "name": "stderr",
     "output_type": "stream",
     "text": [
      "  File \"/scratch/dmoi/condaenvs/ML2/lib/python3.9/multiprocessing/process.py\", line 108, in run\n",
      "    self._target(*self._args, **self._kwargs)\n"
     ]
    },
    {
     "name": "stdout",
     "output_type": "stream",
     "text": [
      "\n",
      "dataset size"
     ]
    },
    {
     "name": "stderr",
     "output_type": "stream",
     "text": [
      "  File \"/scratch/dmoi/condaenvs/ML2/lib/python3.9/multiprocessing/pool.py\", line 109, in worker\n",
      "    initializer(*initargs)\n"
     ]
    },
    {
     "name": "stdout",
     "output_type": "stream",
     "text": [
      " "
     ]
    },
    {
     "name": "stderr",
     "output_type": "stream",
     "text": [
      "  File \"/tmp/4730631/ipykernel_631294/4073675763.py\", line 13, in create_data_updown\n",
      "    toss = scipy.stats.bernoulli.rvs(posi_percent, loc=0, size=1, random_state=random.randint())\n",
      "TypeError: randint() missing 2 required positional arguments: 'a' and 'b'\n"
     ]
    },
    {
     "name": "stdout",
     "output_type": "stream",
     "text": [
      "97133"
     ]
    },
    {
     "name": "stderr",
     "output_type": "stream",
     "text": [
      "Process ForkPoolWorker-619:\n"
     ]
    },
    {
     "name": "stdout",
     "output_type": "stream",
     "text": [
      "\n"
     ]
    },
    {
     "name": "stderr",
     "output_type": "stream",
     "text": [
      "Traceback (most recent call last):\n"
     ]
    },
    {
     "name": "stdout",
     "output_type": "stream",
     "text": [
      "dataset size"
     ]
    },
    {
     "name": "stderr",
     "output_type": "stream",
     "text": [
      "Process ForkPoolWorker-618:\n",
      "Traceback (most recent call last):\n",
      "  File \"/scratch/dmoi/condaenvs/ML2/lib/python3.9/multiprocessing/process.py\", line 315, in _bootstrap\n",
      "    self.run()\n"
     ]
    },
    {
     "name": "stdout",
     "output_type": "stream",
     "text": [
      " "
     ]
    },
    {
     "name": "stderr",
     "output_type": "stream",
     "text": [
      "  File \"/scratch/dmoi/condaenvs/ML2/lib/python3.9/multiprocessing/process.py\", line 315, in _bootstrap\n",
      "    self.run()\n",
      "  File \"/scratch/dmoi/condaenvs/ML2/lib/python3.9/multiprocessing/process.py\", line 108, in run\n",
      "    self._target(*self._args, **self._kwargs)\n"
     ]
    },
    {
     "name": "stdout",
     "output_type": "stream",
     "text": [
      "389499"
     ]
    },
    {
     "name": "stderr",
     "output_type": "stream",
     "text": [
      "  File \"/scratch/dmoi/condaenvs/ML2/lib/python3.9/multiprocessing/process.py\", line 108, in run\n",
      "    self._target(*self._args, **self._kwargs)\n",
      "  File \"/scratch/dmoi/condaenvs/ML2/lib/python3.9/multiprocessing/pool.py\", line 109, in worker\n",
      "    initializer(*initargs)\n"
     ]
    },
    {
     "name": "stdout",
     "output_type": "stream",
     "text": [
      "\n"
     ]
    },
    {
     "name": "stderr",
     "output_type": "stream",
     "text": [
      "  File \"/scratch/dmoi/condaenvs/ML2/lib/python3.9/multiprocessing/pool.py\", line 109, in worker\n",
      "    initializer(*initargs)\n",
      "  File \"/tmp/4730631/ipykernel_631294/4073675763.py\", line 13, in create_data_updown\n",
      "    toss = scipy.stats.bernoulli.rvs(posi_percent, loc=0, size=1, random_state=random.randint())\n"
     ]
    },
    {
     "name": "stdout",
     "output_type": "stream",
     "text": [
      "dataset size"
     ]
    },
    {
     "name": "stderr",
     "output_type": "stream",
     "text": [
      "Process ForkPoolWorker-620:\n",
      "  File \"/tmp/4730631/ipykernel_631294/4073675763.py\", line 13, in create_data_updown\n",
      "    toss = scipy.stats.bernoulli.rvs(posi_percent, loc=0, size=1, random_state=random.randint())\n",
      "TypeError: randint() missing 2 required positional arguments: 'a' and 'b'\n"
     ]
    },
    {
     "name": "stdout",
     "output_type": "stream",
     "text": [
      " 97133"
     ]
    },
    {
     "name": "stderr",
     "output_type": "stream",
     "text": [
      "Traceback (most recent call last):\n",
      "TypeError: randint() missing 2 required positional arguments: 'a' and 'b'\n"
     ]
    },
    {
     "name": "stdout",
     "output_type": "stream",
     "text": [
      "\n"
     ]
    },
    {
     "name": "stderr",
     "output_type": "stream",
     "text": [
      "  File \"/scratch/dmoi/condaenvs/ML2/lib/python3.9/multiprocessing/process.py\", line 315, in _bootstrap\n",
      "    self.run()\n"
     ]
    },
    {
     "name": "stdout",
     "output_type": "stream",
     "text": [
      "dataset size"
     ]
    },
    {
     "name": "stderr",
     "output_type": "stream",
     "text": [
      "  File \"/scratch/dmoi/condaenvs/ML2/lib/python3.9/multiprocessing/process.py\", line 108, in run\n",
      "    self._target(*self._args, **self._kwargs)\n",
      "Process ForkPoolWorker-621:\n"
     ]
    },
    {
     "name": "stdout",
     "output_type": "stream",
     "text": [
      " "
     ]
    },
    {
     "name": "stderr",
     "output_type": "stream",
     "text": [
      "  File \"/scratch/dmoi/condaenvs/ML2/lib/python3.9/multiprocessing/pool.py\", line 109, in worker\n",
      "    initializer(*initargs)\n",
      "Traceback (most recent call last):\n"
     ]
    },
    {
     "name": "stdout",
     "output_type": "stream",
     "text": [
      "389499"
     ]
    },
    {
     "name": "stderr",
     "output_type": "stream",
     "text": [
      "  File \"/tmp/4730631/ipykernel_631294/4073675763.py\", line 13, in create_data_updown\n",
      "    toss = scipy.stats.bernoulli.rvs(posi_percent, loc=0, size=1, random_state=random.randint())\n",
      "  File \"/scratch/dmoi/condaenvs/ML2/lib/python3.9/multiprocessing/process.py\", line 315, in _bootstrap\n",
      "    self.run()\n"
     ]
    },
    {
     "name": "stdout",
     "output_type": "stream",
     "text": [
      "\n"
     ]
    },
    {
     "name": "stderr",
     "output_type": "stream",
     "text": [
      "TypeError: randint() missing 2 required positional arguments: 'a' and 'b'\n",
      "  File \"/scratch/dmoi/condaenvs/ML2/lib/python3.9/multiprocessing/process.py\", line 108, in run\n",
      "    self._target(*self._args, **self._kwargs)\n",
      "  File \"/scratch/dmoi/condaenvs/ML2/lib/python3.9/multiprocessing/pool.py\", line 109, in worker\n",
      "    initializer(*initargs)\n"
     ]
    },
    {
     "name": "stdout",
     "output_type": "stream",
     "text": [
      "dataset size"
     ]
    },
    {
     "name": "stderr",
     "output_type": "stream",
     "text": [
      "  File \"/tmp/4730631/ipykernel_631294/4073675763.py\", line 13, in create_data_updown\n",
      "    toss = scipy.stats.bernoulli.rvs(posi_percent, loc=0, size=1, random_state=random.randint())\n",
      "Process ForkPoolWorker-622:\n"
     ]
    },
    {
     "name": "stdout",
     "output_type": "stream",
     "text": [
      " "
     ]
    },
    {
     "name": "stderr",
     "output_type": "stream",
     "text": [
      "TypeError: randint() missing 2 required positional arguments: 'a' and 'b'\n",
      "Traceback (most recent call last):\n"
     ]
    },
    {
     "name": "stdout",
     "output_type": "stream",
     "text": [
      "97133"
     ]
    },
    {
     "name": "stderr",
     "output_type": "stream",
     "text": [
      "  File \"/scratch/dmoi/condaenvs/ML2/lib/python3.9/multiprocessing/process.py\", line 315, in _bootstrap\n",
      "    self.run()\n"
     ]
    },
    {
     "name": "stdout",
     "output_type": "stream",
     "text": [
      "\n"
     ]
    },
    {
     "name": "stderr",
     "output_type": "stream",
     "text": [
      "  File \"/scratch/dmoi/condaenvs/ML2/lib/python3.9/multiprocessing/process.py\", line 108, in run\n",
      "    self._target(*self._args, **self._kwargs)\n",
      "Process ForkPoolWorker-623:\n"
     ]
    },
    {
     "name": "stdout",
     "output_type": "stream",
     "text": [
      "dataset size"
     ]
    },
    {
     "name": "stderr",
     "output_type": "stream",
     "text": [
      "  File \"/scratch/dmoi/condaenvs/ML2/lib/python3.9/multiprocessing/pool.py\", line 109, in worker\n",
      "    initializer(*initargs)\n",
      "Traceback (most recent call last):\n"
     ]
    },
    {
     "name": "stdout",
     "output_type": "stream",
     "text": [
      " "
     ]
    },
    {
     "name": "stderr",
     "output_type": "stream",
     "text": [
      "  File \"/tmp/4730631/ipykernel_631294/4073675763.py\", line 13, in create_data_updown\n",
      "    toss = scipy.stats.bernoulli.rvs(posi_percent, loc=0, size=1, random_state=random.randint())\n"
     ]
    },
    {
     "name": "stdout",
     "output_type": "stream",
     "text": [
      "389499"
     ]
    },
    {
     "name": "stderr",
     "output_type": "stream",
     "text": [
      "  File \"/scratch/dmoi/condaenvs/ML2/lib/python3.9/multiprocessing/process.py\", line 315, in _bootstrap\n",
      "    self.run()\n",
      "TypeError: randint() missing 2 required positional arguments: 'a' and 'b'\n",
      "  File \"/scratch/dmoi/condaenvs/ML2/lib/python3.9/multiprocessing/process.py\", line 108, in run\n",
      "    self._target(*self._args, **self._kwargs)\n"
     ]
    },
    {
     "name": "stdout",
     "output_type": "stream",
     "text": [
      "\n"
     ]
    },
    {
     "name": "stderr",
     "output_type": "stream",
     "text": [
      "  File \"/scratch/dmoi/condaenvs/ML2/lib/python3.9/multiprocessing/pool.py\", line 109, in worker\n",
      "    initializer(*initargs)\n",
      "Process ForkPoolWorker-624:\n",
      "  File \"/tmp/4730631/ipykernel_631294/4073675763.py\", line 13, in create_data_updown\n",
      "    toss = scipy.stats.bernoulli.rvs(posi_percent, loc=0, size=1, random_state=random.randint())\n",
      "Traceback (most recent call last):\n",
      "TypeError: randint() missing 2 required positional arguments: 'a' and 'b'\n",
      "  File \"/scratch/dmoi/condaenvs/ML2/lib/python3.9/multiprocessing/process.py\", line 315, in _bootstrap\n",
      "    self.run()\n",
      "  File \"/scratch/dmoi/condaenvs/ML2/lib/python3.9/multiprocessing/process.py\", line 108, in run\n",
      "    self._target(*self._args, **self._kwargs)\n",
      "  File \"/scratch/dmoi/condaenvs/ML2/lib/python3.9/multiprocessing/pool.py\", line 109, in worker\n",
      "    initializer(*initargs)\n",
      "  File \"/tmp/4730631/ipykernel_631294/4073675763.py\", line 13, in create_data_updown\n",
      "    toss = scipy.stats.bernoulli.rvs(posi_percent, loc=0, size=1, random_state=random.randint())\n",
      "TypeError: randint() missing 2 required positional arguments: 'a' and 'b'\n"
     ]
    },
    {
     "name": "stdout",
     "output_type": "stream",
     "text": [
      "dataset size 97133\n",
      "dataset size"
     ]
    },
    {
     "name": "stderr",
     "output_type": "stream",
     "text": [
      "Process ForkPoolWorker-625:\n",
      "Traceback (most recent call last):\n"
     ]
    },
    {
     "name": "stdout",
     "output_type": "stream",
     "text": [
      " "
     ]
    },
    {
     "name": "stderr",
     "output_type": "stream",
     "text": [
      "  File \"/scratch/dmoi/condaenvs/ML2/lib/python3.9/multiprocessing/process.py\", line 315, in _bootstrap\n",
      "    self.run()\n"
     ]
    },
    {
     "name": "stdout",
     "output_type": "stream",
     "text": [
      "389499"
     ]
    },
    {
     "name": "stderr",
     "output_type": "stream",
     "text": [
      "  File \"/scratch/dmoi/condaenvs/ML2/lib/python3.9/multiprocessing/process.py\", line 108, in run\n",
      "    self._target(*self._args, **self._kwargs)\n"
     ]
    },
    {
     "name": "stdout",
     "output_type": "stream",
     "text": [
      "\n"
     ]
    },
    {
     "name": "stderr",
     "output_type": "stream",
     "text": [
      "  File \"/scratch/dmoi/condaenvs/ML2/lib/python3.9/multiprocessing/pool.py\", line 109, in worker\n",
      "    initializer(*initargs)\n"
     ]
    },
    {
     "name": "stdout",
     "output_type": "stream",
     "text": [
      "dataset size "
     ]
    },
    {
     "name": "stderr",
     "output_type": "stream",
     "text": [
      "  File \"/tmp/4730631/ipykernel_631294/4073675763.py\", line 13, in create_data_updown\n",
      "    toss = scipy.stats.bernoulli.rvs(posi_percent, loc=0, size=1, random_state=random.randint())\n"
     ]
    },
    {
     "name": "stdout",
     "output_type": "stream",
     "text": [
      "97133"
     ]
    },
    {
     "name": "stderr",
     "output_type": "stream",
     "text": [
      "TypeError: randint() missing 2 required positional arguments: 'a' and 'b'\n",
      "Process ForkPoolWorker-627:\n"
     ]
    },
    {
     "name": "stdout",
     "output_type": "stream",
     "text": [
      "\n"
     ]
    },
    {
     "name": "stderr",
     "output_type": "stream",
     "text": [
      "Traceback (most recent call last):\n"
     ]
    },
    {
     "name": "stdout",
     "output_type": "stream",
     "text": [
      "dataset size"
     ]
    },
    {
     "name": "stderr",
     "output_type": "stream",
     "text": [
      "Process ForkPoolWorker-626:\n",
      "  File \"/scratch/dmoi/condaenvs/ML2/lib/python3.9/multiprocessing/process.py\", line 315, in _bootstrap\n",
      "    self.run()\n"
     ]
    },
    {
     "name": "stdout",
     "output_type": "stream",
     "text": [
      " "
     ]
    },
    {
     "name": "stderr",
     "output_type": "stream",
     "text": [
      "Traceback (most recent call last):\n",
      "  File \"/scratch/dmoi/condaenvs/ML2/lib/python3.9/multiprocessing/process.py\", line 108, in run\n",
      "    self._target(*self._args, **self._kwargs)\n"
     ]
    },
    {
     "name": "stdout",
     "output_type": "stream",
     "text": [
      "389499"
     ]
    },
    {
     "name": "stderr",
     "output_type": "stream",
     "text": [
      "  File \"/scratch/dmoi/condaenvs/ML2/lib/python3.9/multiprocessing/process.py\", line 315, in _bootstrap\n",
      "    self.run()\n",
      "  File \"/scratch/dmoi/condaenvs/ML2/lib/python3.9/multiprocessing/pool.py\", line 109, in worker\n",
      "    initializer(*initargs)\n"
     ]
    },
    {
     "name": "stdout",
     "output_type": "stream",
     "text": [
      "\n"
     ]
    },
    {
     "name": "stderr",
     "output_type": "stream",
     "text": [
      "  File \"/scratch/dmoi/condaenvs/ML2/lib/python3.9/multiprocessing/process.py\", line 108, in run\n",
      "    self._target(*self._args, **self._kwargs)\n",
      "  File \"/tmp/4730631/ipykernel_631294/4073675763.py\", line 13, in create_data_updown\n",
      "    toss = scipy.stats.bernoulli.rvs(posi_percent, loc=0, size=1, random_state=random.randint())\n"
     ]
    },
    {
     "name": "stdout",
     "output_type": "stream",
     "text": [
      "dataset size"
     ]
    },
    {
     "name": "stderr",
     "output_type": "stream",
     "text": [
      "  File \"/scratch/dmoi/condaenvs/ML2/lib/python3.9/multiprocessing/pool.py\", line 109, in worker\n",
      "    initializer(*initargs)\n",
      "TypeError: randint() missing 2 required positional arguments: 'a' and 'b'\n",
      "  File \"/tmp/4730631/ipykernel_631294/4073675763.py\", line 13, in create_data_updown\n",
      "    toss = scipy.stats.bernoulli.rvs(posi_percent, loc=0, size=1, random_state=random.randint())\n",
      "TypeError: randint() missing 2 required positional arguments: 'a' and 'b'\n",
      "Process ForkPoolWorker-628:\n"
     ]
    },
    {
     "name": "stdout",
     "output_type": "stream",
     "text": [
      " "
     ]
    },
    {
     "name": "stderr",
     "output_type": "stream",
     "text": [
      "Traceback (most recent call last):\n"
     ]
    },
    {
     "name": "stdout",
     "output_type": "stream",
     "text": [
      "97133"
     ]
    },
    {
     "name": "stderr",
     "output_type": "stream",
     "text": [
      "  File \"/scratch/dmoi/condaenvs/ML2/lib/python3.9/multiprocessing/process.py\", line 315, in _bootstrap\n",
      "    self.run()\n"
     ]
    },
    {
     "name": "stdout",
     "output_type": "stream",
     "text": [
      "\n"
     ]
    },
    {
     "name": "stderr",
     "output_type": "stream",
     "text": [
      "  File \"/scratch/dmoi/condaenvs/ML2/lib/python3.9/multiprocessing/process.py\", line 108, in run\n",
      "    self._target(*self._args, **self._kwargs)\n"
     ]
    },
    {
     "name": "stdout",
     "output_type": "stream",
     "text": [
      "dataset size"
     ]
    },
    {
     "name": "stderr",
     "output_type": "stream",
     "text": [
      "Process ForkPoolWorker-629:\n",
      "  File \"/scratch/dmoi/condaenvs/ML2/lib/python3.9/multiprocessing/pool.py\", line 109, in worker\n",
      "    initializer(*initargs)\n",
      "  File \"/tmp/4730631/ipykernel_631294/4073675763.py\", line 13, in create_data_updown\n",
      "    toss = scipy.stats.bernoulli.rvs(posi_percent, loc=0, size=1, random_state=random.randint())\n"
     ]
    },
    {
     "name": "stdout",
     "output_type": "stream",
     "text": [
      " "
     ]
    },
    {
     "name": "stderr",
     "output_type": "stream",
     "text": [
      "Traceback (most recent call last):\n",
      "TypeError: randint() missing 2 required positional arguments: 'a' and 'b'\n"
     ]
    },
    {
     "name": "stdout",
     "output_type": "stream",
     "text": [
      "389499"
     ]
    },
    {
     "name": "stderr",
     "output_type": "stream",
     "text": [
      "  File \"/scratch/dmoi/condaenvs/ML2/lib/python3.9/multiprocessing/process.py\", line 315, in _bootstrap\n",
      "    self.run()\n"
     ]
    },
    {
     "name": "stdout",
     "output_type": "stream",
     "text": [
      "\n"
     ]
    },
    {
     "name": "stderr",
     "output_type": "stream",
     "text": [
      "  File \"/scratch/dmoi/condaenvs/ML2/lib/python3.9/multiprocessing/process.py\", line 108, in run\n",
      "    self._target(*self._args, **self._kwargs)\n"
     ]
    },
    {
     "name": "stdout",
     "output_type": "stream",
     "text": [
      "dataset size"
     ]
    },
    {
     "name": "stderr",
     "output_type": "stream",
     "text": [
      "  File \"/scratch/dmoi/condaenvs/ML2/lib/python3.9/multiprocessing/pool.py\", line 109, in worker\n",
      "    initializer(*initargs)\n",
      "Process ForkPoolWorker-630:\n"
     ]
    },
    {
     "name": "stdout",
     "output_type": "stream",
     "text": [
      " "
     ]
    },
    {
     "name": "stderr",
     "output_type": "stream",
     "text": [
      "  File \"/tmp/4730631/ipykernel_631294/4073675763.py\", line 13, in create_data_updown\n",
      "    toss = scipy.stats.bernoulli.rvs(posi_percent, loc=0, size=1, random_state=random.randint())\n",
      "Traceback (most recent call last):\n"
     ]
    },
    {
     "name": "stdout",
     "output_type": "stream",
     "text": [
      "97133"
     ]
    },
    {
     "name": "stderr",
     "output_type": "stream",
     "text": [
      "TypeError: randint() missing 2 required positional arguments: 'a' and 'b'\n",
      "  File \"/scratch/dmoi/condaenvs/ML2/lib/python3.9/multiprocessing/process.py\", line 315, in _bootstrap\n",
      "    self.run()\n"
     ]
    },
    {
     "name": "stdout",
     "output_type": "stream",
     "text": [
      "\n"
     ]
    },
    {
     "name": "stderr",
     "output_type": "stream",
     "text": [
      "  File \"/scratch/dmoi/condaenvs/ML2/lib/python3.9/multiprocessing/process.py\", line 108, in run\n",
      "    self._target(*self._args, **self._kwargs)\n"
     ]
    },
    {
     "name": "stdout",
     "output_type": "stream",
     "text": [
      "dataset size"
     ]
    },
    {
     "name": "stderr",
     "output_type": "stream",
     "text": [
      "Process ForkPoolWorker-631:\n",
      "  File \"/scratch/dmoi/condaenvs/ML2/lib/python3.9/multiprocessing/pool.py\", line 109, in worker\n",
      "    initializer(*initargs)\n",
      "Traceback (most recent call last):\n"
     ]
    },
    {
     "name": "stdout",
     "output_type": "stream",
     "text": [
      " "
     ]
    },
    {
     "name": "stderr",
     "output_type": "stream",
     "text": [
      "  File \"/tmp/4730631/ipykernel_631294/4073675763.py\", line 13, in create_data_updown\n",
      "    toss = scipy.stats.bernoulli.rvs(posi_percent, loc=0, size=1, random_state=random.randint())\n",
      "  File \"/scratch/dmoi/condaenvs/ML2/lib/python3.9/multiprocessing/process.py\", line 315, in _bootstrap\n",
      "    self.run()\n"
     ]
    },
    {
     "name": "stdout",
     "output_type": "stream",
     "text": [
      "389499"
     ]
    },
    {
     "name": "stderr",
     "output_type": "stream",
     "text": [
      "TypeError: randint() missing 2 required positional arguments: 'a' and 'b'\n",
      "  File \"/scratch/dmoi/condaenvs/ML2/lib/python3.9/multiprocessing/process.py\", line 108, in run\n",
      "    self._target(*self._args, **self._kwargs)\n",
      "  File \"/scratch/dmoi/condaenvs/ML2/lib/python3.9/multiprocessing/pool.py\", line 109, in worker\n",
      "    initializer(*initargs)\n"
     ]
    },
    {
     "name": "stdout",
     "output_type": "stream",
     "text": [
      "\n"
     ]
    },
    {
     "name": "stderr",
     "output_type": "stream",
     "text": [
      "  File \"/tmp/4730631/ipykernel_631294/4073675763.py\", line 13, in create_data_updown\n",
      "    toss = scipy.stats.bernoulli.rvs(posi_percent, loc=0, size=1, random_state=random.randint())\n",
      "Process ForkPoolWorker-632:\n",
      "TypeError: randint() missing 2 required positional arguments: 'a' and 'b'\n",
      "Traceback (most recent call last):\n",
      "  File \"/scratch/dmoi/condaenvs/ML2/lib/python3.9/multiprocessing/process.py\", line 315, in _bootstrap\n",
      "    self.run()\n",
      "  File \"/scratch/dmoi/condaenvs/ML2/lib/python3.9/multiprocessing/process.py\", line 108, in run\n",
      "    self._target(*self._args, **self._kwargs)\n",
      "  File \"/scratch/dmoi/condaenvs/ML2/lib/python3.9/multiprocessing/pool.py\", line 109, in worker\n",
      "    initializer(*initargs)\n",
      "  File \"/tmp/4730631/ipykernel_631294/4073675763.py\", line 13, in create_data_updown\n",
      "    toss = scipy.stats.bernoulli.rvs(posi_percent, loc=0, size=1, random_state=random.randint())\n",
      "TypeError: randint() missing 2 required positional arguments: 'a' and 'b'\n"
     ]
    },
    {
     "name": "stdout",
     "output_type": "stream",
     "text": [
      "dataset size 97133\n"
     ]
    },
    {
     "name": "stderr",
     "output_type": "stream",
     "text": [
      "Process ForkPoolWorker-633:\n"
     ]
    },
    {
     "name": "stdout",
     "output_type": "stream",
     "text": [
      "dataset size "
     ]
    },
    {
     "name": "stderr",
     "output_type": "stream",
     "text": [
      "Traceback (most recent call last):\n",
      "  File \"/scratch/dmoi/condaenvs/ML2/lib/python3.9/multiprocessing/process.py\", line 315, in _bootstrap\n",
      "    self.run()\n"
     ]
    },
    {
     "name": "stdout",
     "output_type": "stream",
     "text": [
      "389499"
     ]
    },
    {
     "name": "stderr",
     "output_type": "stream",
     "text": [
      "  File \"/scratch/dmoi/condaenvs/ML2/lib/python3.9/multiprocessing/process.py\", line 108, in run\n",
      "    self._target(*self._args, **self._kwargs)\n"
     ]
    },
    {
     "name": "stdout",
     "output_type": "stream",
     "text": [
      "\n"
     ]
    },
    {
     "name": "stderr",
     "output_type": "stream",
     "text": [
      "  File \"/scratch/dmoi/condaenvs/ML2/lib/python3.9/multiprocessing/pool.py\", line 109, in worker\n",
      "    initializer(*initargs)\n",
      "  File \"/tmp/4730631/ipykernel_631294/4073675763.py\", line 13, in create_data_updown\n",
      "    toss = scipy.stats.bernoulli.rvs(posi_percent, loc=0, size=1, random_state=random.randint())\n"
     ]
    },
    {
     "name": "stdout",
     "output_type": "stream",
     "text": [
      "dataset size"
     ]
    },
    {
     "name": "stderr",
     "output_type": "stream",
     "text": [
      "TypeError: randint() missing 2 required positional arguments: 'a' and 'b'\n",
      "Process ForkPoolWorker-634:\n"
     ]
    },
    {
     "name": "stdout",
     "output_type": "stream",
     "text": [
      " "
     ]
    },
    {
     "name": "stderr",
     "output_type": "stream",
     "text": [
      "Traceback (most recent call last):\n"
     ]
    },
    {
     "name": "stdout",
     "output_type": "stream",
     "text": [
      "97133"
     ]
    },
    {
     "name": "stderr",
     "output_type": "stream",
     "text": [
      "  File \"/scratch/dmoi/condaenvs/ML2/lib/python3.9/multiprocessing/process.py\", line 315, in _bootstrap\n",
      "    self.run()\n"
     ]
    },
    {
     "name": "stdout",
     "output_type": "stream",
     "text": [
      "\n"
     ]
    },
    {
     "name": "stderr",
     "output_type": "stream",
     "text": [
      "  File \"/scratch/dmoi/condaenvs/ML2/lib/python3.9/multiprocessing/process.py\", line 108, in run\n",
      "    self._target(*self._args, **self._kwargs)\n"
     ]
    },
    {
     "name": "stdout",
     "output_type": "stream",
     "text": [
      "dataset size"
     ]
    },
    {
     "name": "stderr",
     "output_type": "stream",
     "text": [
      "Process ForkPoolWorker-635:\n",
      "  File \"/scratch/dmoi/condaenvs/ML2/lib/python3.9/multiprocessing/pool.py\", line 109, in worker\n",
      "    initializer(*initargs)\n"
     ]
    },
    {
     "name": "stdout",
     "output_type": "stream",
     "text": [
      " "
     ]
    },
    {
     "name": "stderr",
     "output_type": "stream",
     "text": [
      "Traceback (most recent call last):\n",
      "  File \"/tmp/4730631/ipykernel_631294/4073675763.py\", line 13, in create_data_updown\n",
      "    toss = scipy.stats.bernoulli.rvs(posi_percent, loc=0, size=1, random_state=random.randint())\n"
     ]
    },
    {
     "name": "stdout",
     "output_type": "stream",
     "text": [
      "389499"
     ]
    },
    {
     "name": "stderr",
     "output_type": "stream",
     "text": [
      "  File \"/scratch/dmoi/condaenvs/ML2/lib/python3.9/multiprocessing/process.py\", line 315, in _bootstrap\n",
      "    self.run()\n",
      "TypeError: randint() missing 2 required positional arguments: 'a' and 'b'\n",
      "  File \"/scratch/dmoi/condaenvs/ML2/lib/python3.9/multiprocessing/process.py\", line 108, in run\n",
      "    self._target(*self._args, **self._kwargs)\n"
     ]
    },
    {
     "name": "stdout",
     "output_type": "stream",
     "text": [
      "\n"
     ]
    },
    {
     "name": "stderr",
     "output_type": "stream",
     "text": [
      "  File \"/scratch/dmoi/condaenvs/ML2/lib/python3.9/multiprocessing/pool.py\", line 109, in worker\n",
      "    initializer(*initargs)\n"
     ]
    },
    {
     "name": "stdout",
     "output_type": "stream",
     "text": [
      "dataset size"
     ]
    },
    {
     "name": "stderr",
     "output_type": "stream",
     "text": [
      "Process ForkPoolWorker-636:\n",
      "  File \"/tmp/4730631/ipykernel_631294/4073675763.py\", line 13, in create_data_updown\n",
      "    toss = scipy.stats.bernoulli.rvs(posi_percent, loc=0, size=1, random_state=random.randint())\n"
     ]
    },
    {
     "name": "stdout",
     "output_type": "stream",
     "text": [
      " "
     ]
    },
    {
     "name": "stderr",
     "output_type": "stream",
     "text": [
      "TypeError: randint() missing 2 required positional arguments: 'a' and 'b'\n",
      "Traceback (most recent call last):\n",
      "  File \"/scratch/dmoi/condaenvs/ML2/lib/python3.9/multiprocessing/process.py\", line 315, in _bootstrap\n",
      "    self.run()\n"
     ]
    },
    {
     "name": "stdout",
     "output_type": "stream",
     "text": [
      "97133"
     ]
    },
    {
     "name": "stderr",
     "output_type": "stream",
     "text": [
      "  File \"/scratch/dmoi/condaenvs/ML2/lib/python3.9/multiprocessing/process.py\", line 108, in run\n",
      "    self._target(*self._args, **self._kwargs)\n"
     ]
    },
    {
     "name": "stdout",
     "output_type": "stream",
     "text": [
      "\n"
     ]
    },
    {
     "name": "stderr",
     "output_type": "stream",
     "text": [
      "  File \"/scratch/dmoi/condaenvs/ML2/lib/python3.9/multiprocessing/pool.py\", line 109, in worker\n",
      "    initializer(*initargs)\n"
     ]
    },
    {
     "name": "stdout",
     "output_type": "stream",
     "text": [
      "dataset size"
     ]
    },
    {
     "name": "stderr",
     "output_type": "stream",
     "text": [
      "Process ForkPoolWorker-638:\n",
      "  File \"/tmp/4730631/ipykernel_631294/4073675763.py\", line 13, in create_data_updown\n",
      "    toss = scipy.stats.bernoulli.rvs(posi_percent, loc=0, size=1, random_state=random.randint())\n"
     ]
    },
    {
     "name": "stdout",
     "output_type": "stream",
     "text": [
      " "
     ]
    },
    {
     "name": "stderr",
     "output_type": "stream",
     "text": [
      "Traceback (most recent call last):\n",
      "TypeError: randint() missing 2 required positional arguments: 'a' and 'b'\n"
     ]
    },
    {
     "name": "stdout",
     "output_type": "stream",
     "text": [
      "389499\n"
     ]
    },
    {
     "name": "stderr",
     "output_type": "stream",
     "text": [
      "  File \"/scratch/dmoi/condaenvs/ML2/lib/python3.9/multiprocessing/process.py\", line 315, in _bootstrap\n",
      "    self.run()\n"
     ]
    },
    {
     "name": "stdout",
     "output_type": "stream",
     "text": [
      "dataset size"
     ]
    },
    {
     "name": "stderr",
     "output_type": "stream",
     "text": [
      "  File \"/scratch/dmoi/condaenvs/ML2/lib/python3.9/multiprocessing/process.py\", line 108, in run\n",
      "    self._target(*self._args, **self._kwargs)\n",
      "Process ForkPoolWorker-637:\n"
     ]
    },
    {
     "name": "stdout",
     "output_type": "stream",
     "text": [
      " "
     ]
    },
    {
     "name": "stderr",
     "output_type": "stream",
     "text": [
      "  File \"/scratch/dmoi/condaenvs/ML2/lib/python3.9/multiprocessing/pool.py\", line 109, in worker\n",
      "    initializer(*initargs)\n",
      "Traceback (most recent call last):\n"
     ]
    },
    {
     "name": "stdout",
     "output_type": "stream",
     "text": [
      "97133"
     ]
    },
    {
     "name": "stderr",
     "output_type": "stream",
     "text": [
      "  File \"/tmp/4730631/ipykernel_631294/4073675763.py\", line 13, in create_data_updown\n",
      "    toss = scipy.stats.bernoulli.rvs(posi_percent, loc=0, size=1, random_state=random.randint())\n",
      "  File \"/scratch/dmoi/condaenvs/ML2/lib/python3.9/multiprocessing/process.py\", line 315, in _bootstrap\n",
      "    self.run()\n"
     ]
    },
    {
     "name": "stdout",
     "output_type": "stream",
     "text": [
      "\n"
     ]
    },
    {
     "name": "stderr",
     "output_type": "stream",
     "text": [
      "TypeError: randint() missing 2 required positional arguments: 'a' and 'b'\n",
      "  File \"/scratch/dmoi/condaenvs/ML2/lib/python3.9/multiprocessing/process.py\", line 108, in run\n",
      "    self._target(*self._args, **self._kwargs)\n"
     ]
    },
    {
     "name": "stdout",
     "output_type": "stream",
     "text": [
      "dataset size"
     ]
    },
    {
     "name": "stderr",
     "output_type": "stream",
     "text": [
      "Process ForkPoolWorker-639:\n",
      "  File \"/scratch/dmoi/condaenvs/ML2/lib/python3.9/multiprocessing/pool.py\", line 109, in worker\n",
      "    initializer(*initargs)\n"
     ]
    },
    {
     "name": "stdout",
     "output_type": "stream",
     "text": [
      " "
     ]
    },
    {
     "name": "stderr",
     "output_type": "stream",
     "text": [
      "Traceback (most recent call last):\n",
      "  File \"/tmp/4730631/ipykernel_631294/4073675763.py\", line 13, in create_data_updown\n",
      "    toss = scipy.stats.bernoulli.rvs(posi_percent, loc=0, size=1, random_state=random.randint())\n"
     ]
    },
    {
     "name": "stdout",
     "output_type": "stream",
     "text": [
      "389499"
     ]
    },
    {
     "name": "stderr",
     "output_type": "stream",
     "text": [
      "  File \"/scratch/dmoi/condaenvs/ML2/lib/python3.9/multiprocessing/process.py\", line 315, in _bootstrap\n",
      "    self.run()\n",
      "TypeError: randint() missing 2 required positional arguments: 'a' and 'b'\n"
     ]
    },
    {
     "name": "stdout",
     "output_type": "stream",
     "text": [
      "\n"
     ]
    },
    {
     "name": "stderr",
     "output_type": "stream",
     "text": [
      "  File \"/scratch/dmoi/condaenvs/ML2/lib/python3.9/multiprocessing/process.py\", line 108, in run\n",
      "    self._target(*self._args, **self._kwargs)\n",
      "  File \"/scratch/dmoi/condaenvs/ML2/lib/python3.9/multiprocessing/pool.py\", line 109, in worker\n",
      "    initializer(*initargs)\n",
      "Process ForkPoolWorker-640:\n",
      "  File \"/tmp/4730631/ipykernel_631294/4073675763.py\", line 13, in create_data_updown\n",
      "    toss = scipy.stats.bernoulli.rvs(posi_percent, loc=0, size=1, random_state=random.randint())\n",
      "Traceback (most recent call last):\n",
      "TypeError: randint() missing 2 required positional arguments: 'a' and 'b'\n",
      "  File \"/scratch/dmoi/condaenvs/ML2/lib/python3.9/multiprocessing/process.py\", line 315, in _bootstrap\n",
      "    self.run()\n",
      "  File \"/scratch/dmoi/condaenvs/ML2/lib/python3.9/multiprocessing/process.py\", line 108, in run\n",
      "    self._target(*self._args, **self._kwargs)\n",
      "  File \"/scratch/dmoi/condaenvs/ML2/lib/python3.9/multiprocessing/pool.py\", line 109, in worker\n",
      "    initializer(*initargs)\n",
      "  File \"/tmp/4730631/ipykernel_631294/4073675763.py\", line 13, in create_data_updown\n",
      "    toss = scipy.stats.bernoulli.rvs(posi_percent, loc=0, size=1, random_state=random.randint())\n",
      "TypeError: randint() missing 2 required positional arguments: 'a' and 'b'\n"
     ]
    },
    {
     "name": "stdout",
     "output_type": "stream",
     "text": [
      "dataset size 97133\n"
     ]
    },
    {
     "name": "stderr",
     "output_type": "stream",
     "text": [
      "Process ForkPoolWorker-641:\n"
     ]
    },
    {
     "name": "stdout",
     "output_type": "stream",
     "text": [
      "dataset size"
     ]
    },
    {
     "name": "stderr",
     "output_type": "stream",
     "text": [
      "Traceback (most recent call last):\n"
     ]
    },
    {
     "name": "stdout",
     "output_type": "stream",
     "text": [
      " "
     ]
    },
    {
     "name": "stderr",
     "output_type": "stream",
     "text": [
      "  File \"/scratch/dmoi/condaenvs/ML2/lib/python3.9/multiprocessing/process.py\", line 315, in _bootstrap\n",
      "    self.run()\n"
     ]
    },
    {
     "name": "stdout",
     "output_type": "stream",
     "text": [
      "389499\n"
     ]
    },
    {
     "name": "stderr",
     "output_type": "stream",
     "text": [
      "  File \"/scratch/dmoi/condaenvs/ML2/lib/python3.9/multiprocessing/process.py\", line 108, in run\n",
      "    self._target(*self._args, **self._kwargs)\n",
      "  File \"/scratch/dmoi/condaenvs/ML2/lib/python3.9/multiprocessing/pool.py\", line 109, in worker\n",
      "    initializer(*initargs)\n"
     ]
    },
    {
     "name": "stdout",
     "output_type": "stream",
     "text": [
      "dataset size"
     ]
    },
    {
     "name": "stderr",
     "output_type": "stream",
     "text": [
      "  File \"/tmp/4730631/ipykernel_631294/4073675763.py\", line 13, in create_data_updown\n",
      "    toss = scipy.stats.bernoulli.rvs(posi_percent, loc=0, size=1, random_state=random.randint())\n"
     ]
    },
    {
     "name": "stdout",
     "output_type": "stream",
     "text": [
      " 97133"
     ]
    },
    {
     "name": "stderr",
     "output_type": "stream",
     "text": [
      "TypeError: randint() missing 2 required positional arguments: 'a' and 'b'\n",
      "Process ForkPoolWorker-643:\n",
      "Traceback (most recent call last):\n"
     ]
    },
    {
     "name": "stdout",
     "output_type": "stream",
     "text": [
      "\n"
     ]
    },
    {
     "name": "stderr",
     "output_type": "stream",
     "text": [
      "  File \"/scratch/dmoi/condaenvs/ML2/lib/python3.9/multiprocessing/process.py\", line 315, in _bootstrap\n",
      "    self.run()\n"
     ]
    },
    {
     "name": "stdout",
     "output_type": "stream",
     "text": [
      "dataset size"
     ]
    },
    {
     "name": "stderr",
     "output_type": "stream",
     "text": [
      "Process ForkPoolWorker-642:\n",
      "  File \"/scratch/dmoi/condaenvs/ML2/lib/python3.9/multiprocessing/process.py\", line 108, in run\n",
      "    self._target(*self._args, **self._kwargs)\n"
     ]
    },
    {
     "name": "stdout",
     "output_type": "stream",
     "text": [
      " "
     ]
    },
    {
     "name": "stderr",
     "output_type": "stream",
     "text": [
      "Traceback (most recent call last):\n",
      "  File \"/scratch/dmoi/condaenvs/ML2/lib/python3.9/multiprocessing/pool.py\", line 109, in worker\n",
      "    initializer(*initargs)\n"
     ]
    },
    {
     "name": "stdout",
     "output_type": "stream",
     "text": [
      "389499"
     ]
    },
    {
     "name": "stderr",
     "output_type": "stream",
     "text": [
      "  File \"/scratch/dmoi/condaenvs/ML2/lib/python3.9/multiprocessing/process.py\", line 315, in _bootstrap\n",
      "    self.run()\n",
      "  File \"/tmp/4730631/ipykernel_631294/4073675763.py\", line 13, in create_data_updown\n",
      "    toss = scipy.stats.bernoulli.rvs(posi_percent, loc=0, size=1, random_state=random.randint())\n"
     ]
    },
    {
     "name": "stdout",
     "output_type": "stream",
     "text": [
      "\n"
     ]
    },
    {
     "name": "stderr",
     "output_type": "stream",
     "text": [
      "  File \"/scratch/dmoi/condaenvs/ML2/lib/python3.9/multiprocessing/process.py\", line 108, in run\n",
      "    self._target(*self._args, **self._kwargs)\n",
      "TypeError: randint() missing 2 required positional arguments: 'a' and 'b'\n"
     ]
    },
    {
     "name": "stdout",
     "output_type": "stream",
     "text": [
      "dataset size"
     ]
    },
    {
     "name": "stderr",
     "output_type": "stream",
     "text": [
      "  File \"/scratch/dmoi/condaenvs/ML2/lib/python3.9/multiprocessing/pool.py\", line 109, in worker\n",
      "    initializer(*initargs)\n",
      "Process ForkPoolWorker-644:\n"
     ]
    },
    {
     "name": "stdout",
     "output_type": "stream",
     "text": [
      " "
     ]
    },
    {
     "name": "stderr",
     "output_type": "stream",
     "text": [
      "  File \"/tmp/4730631/ipykernel_631294/4073675763.py\", line 13, in create_data_updown\n",
      "    toss = scipy.stats.bernoulli.rvs(posi_percent, loc=0, size=1, random_state=random.randint())\n",
      "Traceback (most recent call last):\n"
     ]
    },
    {
     "name": "stdout",
     "output_type": "stream",
     "text": [
      "97133"
     ]
    },
    {
     "name": "stderr",
     "output_type": "stream",
     "text": [
      "TypeError: randint() missing 2 required positional arguments: 'a' and 'b'\n",
      "  File \"/scratch/dmoi/condaenvs/ML2/lib/python3.9/multiprocessing/process.py\", line 315, in _bootstrap\n",
      "    self.run()\n"
     ]
    },
    {
     "name": "stdout",
     "output_type": "stream",
     "text": [
      "\n"
     ]
    },
    {
     "name": "stderr",
     "output_type": "stream",
     "text": [
      "  File \"/scratch/dmoi/condaenvs/ML2/lib/python3.9/multiprocessing/process.py\", line 108, in run\n",
      "    self._target(*self._args, **self._kwargs)\n"
     ]
    },
    {
     "name": "stdout",
     "output_type": "stream",
     "text": [
      "dataset size"
     ]
    },
    {
     "name": "stderr",
     "output_type": "stream",
     "text": [
      "Process ForkPoolWorker-645:\n",
      "  File \"/scratch/dmoi/condaenvs/ML2/lib/python3.9/multiprocessing/pool.py\", line 109, in worker\n",
      "    initializer(*initargs)\n"
     ]
    },
    {
     "name": "stdout",
     "output_type": "stream",
     "text": [
      " "
     ]
    },
    {
     "name": "stderr",
     "output_type": "stream",
     "text": [
      "  File \"/tmp/4730631/ipykernel_631294/4073675763.py\", line 13, in create_data_updown\n",
      "    toss = scipy.stats.bernoulli.rvs(posi_percent, loc=0, size=1, random_state=random.randint())\n",
      "Traceback (most recent call last):\n"
     ]
    },
    {
     "name": "stdout",
     "output_type": "stream",
     "text": [
      "389499"
     ]
    },
    {
     "name": "stderr",
     "output_type": "stream",
     "text": [
      "  File \"/scratch/dmoi/condaenvs/ML2/lib/python3.9/multiprocessing/process.py\", line 315, in _bootstrap\n",
      "    self.run()\n",
      "TypeError: randint() missing 2 required positional arguments: 'a' and 'b'\n"
     ]
    },
    {
     "name": "stdout",
     "output_type": "stream",
     "text": [
      "\n"
     ]
    },
    {
     "name": "stderr",
     "output_type": "stream",
     "text": [
      "  File \"/scratch/dmoi/condaenvs/ML2/lib/python3.9/multiprocessing/process.py\", line 108, in run\n",
      "    self._target(*self._args, **self._kwargs)\n"
     ]
    },
    {
     "name": "stdout",
     "output_type": "stream",
     "text": [
      "dataset size"
     ]
    },
    {
     "name": "stderr",
     "output_type": "stream",
     "text": [
      "Process ForkPoolWorker-646:\n",
      "  File \"/scratch/dmoi/condaenvs/ML2/lib/python3.9/multiprocessing/pool.py\", line 109, in worker\n",
      "    initializer(*initargs)\n"
     ]
    },
    {
     "name": "stdout",
     "output_type": "stream",
     "text": [
      " "
     ]
    },
    {
     "name": "stderr",
     "output_type": "stream",
     "text": [
      "  File \"/tmp/4730631/ipykernel_631294/4073675763.py\", line 13, in create_data_updown\n",
      "    toss = scipy.stats.bernoulli.rvs(posi_percent, loc=0, size=1, random_state=random.randint())\n",
      "Traceback (most recent call last):\n",
      "  File \"/scratch/dmoi/condaenvs/ML2/lib/python3.9/multiprocessing/process.py\", line 315, in _bootstrap\n",
      "    self.run()\n",
      "TypeError: randint() missing 2 required positional arguments: 'a' and 'b'\n"
     ]
    },
    {
     "name": "stdout",
     "output_type": "stream",
     "text": [
      "97133\n"
     ]
    },
    {
     "name": "stderr",
     "output_type": "stream",
     "text": [
      "  File \"/scratch/dmoi/condaenvs/ML2/lib/python3.9/multiprocessing/process.py\", line 108, in run\n",
      "    self._target(*self._args, **self._kwargs)\n"
     ]
    },
    {
     "name": "stdout",
     "output_type": "stream",
     "text": [
      "dataset size"
     ]
    },
    {
     "name": "stderr",
     "output_type": "stream",
     "text": [
      "Process ForkPoolWorker-647:\n",
      "  File \"/scratch/dmoi/condaenvs/ML2/lib/python3.9/multiprocessing/pool.py\", line 109, in worker\n",
      "    initializer(*initargs)\n"
     ]
    },
    {
     "name": "stdout",
     "output_type": "stream",
     "text": [
      " "
     ]
    },
    {
     "name": "stderr",
     "output_type": "stream",
     "text": [
      "Traceback (most recent call last):\n",
      "  File \"/tmp/4730631/ipykernel_631294/4073675763.py\", line 13, in create_data_updown\n",
      "    toss = scipy.stats.bernoulli.rvs(posi_percent, loc=0, size=1, random_state=random.randint())\n"
     ]
    },
    {
     "name": "stdout",
     "output_type": "stream",
     "text": [
      "389499"
     ]
    },
    {
     "name": "stderr",
     "output_type": "stream",
     "text": [
      "  File \"/scratch/dmoi/condaenvs/ML2/lib/python3.9/multiprocessing/process.py\", line 315, in _bootstrap\n",
      "    self.run()\n",
      "TypeError: randint() missing 2 required positional arguments: 'a' and 'b'\n"
     ]
    },
    {
     "name": "stdout",
     "output_type": "stream",
     "text": [
      "\n"
     ]
    },
    {
     "name": "stderr",
     "output_type": "stream",
     "text": [
      "  File \"/scratch/dmoi/condaenvs/ML2/lib/python3.9/multiprocessing/process.py\", line 108, in run\n",
      "    self._target(*self._args, **self._kwargs)\n",
      "  File \"/scratch/dmoi/condaenvs/ML2/lib/python3.9/multiprocessing/pool.py\", line 109, in worker\n",
      "    initializer(*initargs)\n",
      "Process ForkPoolWorker-648:\n",
      "  File \"/tmp/4730631/ipykernel_631294/4073675763.py\", line 13, in create_data_updown\n",
      "    toss = scipy.stats.bernoulli.rvs(posi_percent, loc=0, size=1, random_state=random.randint())\n",
      "Traceback (most recent call last):\n",
      "TypeError: randint() missing 2 required positional arguments: 'a' and 'b'\n",
      "  File \"/scratch/dmoi/condaenvs/ML2/lib/python3.9/multiprocessing/process.py\", line 315, in _bootstrap\n",
      "    self.run()\n",
      "  File \"/scratch/dmoi/condaenvs/ML2/lib/python3.9/multiprocessing/process.py\", line 108, in run\n",
      "    self._target(*self._args, **self._kwargs)\n",
      "  File \"/scratch/dmoi/condaenvs/ML2/lib/python3.9/multiprocessing/pool.py\", line 109, in worker\n",
      "    initializer(*initargs)\n",
      "  File \"/tmp/4730631/ipykernel_631294/4073675763.py\", line 13, in create_data_updown\n",
      "    toss = scipy.stats.bernoulli.rvs(posi_percent, loc=0, size=1, random_state=random.randint())\n",
      "TypeError: randint() missing 2 required positional arguments: 'a' and 'b'\n"
     ]
    },
    {
     "name": "stdout",
     "output_type": "stream",
     "text": [
      "dataset size 97133\n",
      "dataset size"
     ]
    },
    {
     "name": "stderr",
     "output_type": "stream",
     "text": [
      "Process ForkPoolWorker-649:\n",
      "Traceback (most recent call last):\n"
     ]
    },
    {
     "name": "stdout",
     "output_type": "stream",
     "text": [
      " 389499"
     ]
    },
    {
     "name": "stderr",
     "output_type": "stream",
     "text": [
      "  File \"/scratch/dmoi/condaenvs/ML2/lib/python3.9/multiprocessing/process.py\", line 315, in _bootstrap\n",
      "    self.run()\n"
     ]
    },
    {
     "name": "stdout",
     "output_type": "stream",
     "text": [
      "\n"
     ]
    },
    {
     "name": "stderr",
     "output_type": "stream",
     "text": [
      "  File \"/scratch/dmoi/condaenvs/ML2/lib/python3.9/multiprocessing/process.py\", line 108, in run\n",
      "    self._target(*self._args, **self._kwargs)\n"
     ]
    },
    {
     "name": "stdout",
     "output_type": "stream",
     "text": [
      "dataset size"
     ]
    },
    {
     "name": "stderr",
     "output_type": "stream",
     "text": [
      "  File \"/scratch/dmoi/condaenvs/ML2/lib/python3.9/multiprocessing/pool.py\", line 109, in worker\n",
      "    initializer(*initargs)\n"
     ]
    },
    {
     "name": "stdout",
     "output_type": "stream",
     "text": [
      " "
     ]
    },
    {
     "name": "stderr",
     "output_type": "stream",
     "text": [
      "  File \"/tmp/4730631/ipykernel_631294/4073675763.py\", line 13, in create_data_updown\n",
      "    toss = scipy.stats.bernoulli.rvs(posi_percent, loc=0, size=1, random_state=random.randint())\n",
      "TypeError: randint() missing 2 required positional arguments: 'a' and 'b'\n"
     ]
    },
    {
     "name": "stdout",
     "output_type": "stream",
     "text": [
      "97133"
     ]
    },
    {
     "name": "stderr",
     "output_type": "stream",
     "text": [
      "Process ForkPoolWorker-651:\n"
     ]
    },
    {
     "name": "stdout",
     "output_type": "stream",
     "text": [
      "\n"
     ]
    },
    {
     "name": "stderr",
     "output_type": "stream",
     "text": [
      "Traceback (most recent call last):\n"
     ]
    },
    {
     "name": "stdout",
     "output_type": "stream",
     "text": [
      "dataset size"
     ]
    },
    {
     "name": "stderr",
     "output_type": "stream",
     "text": [
      "Process ForkPoolWorker-650:\n",
      "  File \"/scratch/dmoi/condaenvs/ML2/lib/python3.9/multiprocessing/process.py\", line 315, in _bootstrap\n",
      "    self.run()\n"
     ]
    },
    {
     "name": "stdout",
     "output_type": "stream",
     "text": [
      " "
     ]
    },
    {
     "name": "stderr",
     "output_type": "stream",
     "text": [
      "Traceback (most recent call last):\n",
      "  File \"/scratch/dmoi/condaenvs/ML2/lib/python3.9/multiprocessing/process.py\", line 108, in run\n",
      "    self._target(*self._args, **self._kwargs)\n"
     ]
    },
    {
     "name": "stdout",
     "output_type": "stream",
     "text": [
      "389499"
     ]
    },
    {
     "name": "stderr",
     "output_type": "stream",
     "text": [
      "  File \"/scratch/dmoi/condaenvs/ML2/lib/python3.9/multiprocessing/process.py\", line 315, in _bootstrap\n",
      "    self.run()\n",
      "  File \"/scratch/dmoi/condaenvs/ML2/lib/python3.9/multiprocessing/pool.py\", line 109, in worker\n",
      "    initializer(*initargs)\n"
     ]
    },
    {
     "name": "stdout",
     "output_type": "stream",
     "text": [
      "\n"
     ]
    },
    {
     "name": "stderr",
     "output_type": "stream",
     "text": [
      "  File \"/scratch/dmoi/condaenvs/ML2/lib/python3.9/multiprocessing/process.py\", line 108, in run\n",
      "    self._target(*self._args, **self._kwargs)\n",
      "  File \"/tmp/4730631/ipykernel_631294/4073675763.py\", line 13, in create_data_updown\n",
      "    toss = scipy.stats.bernoulli.rvs(posi_percent, loc=0, size=1, random_state=random.randint())\n"
     ]
    },
    {
     "name": "stdout",
     "output_type": "stream",
     "text": [
      "dataset size"
     ]
    },
    {
     "name": "stderr",
     "output_type": "stream",
     "text": [
      "  File \"/scratch/dmoi/condaenvs/ML2/lib/python3.9/multiprocessing/pool.py\", line 109, in worker\n",
      "    initializer(*initargs)\n",
      "Process ForkPoolWorker-652:\n",
      "TypeError: randint() missing 2 required positional arguments: 'a' and 'b'\n"
     ]
    },
    {
     "name": "stdout",
     "output_type": "stream",
     "text": [
      " "
     ]
    },
    {
     "name": "stderr",
     "output_type": "stream",
     "text": [
      "  File \"/tmp/4730631/ipykernel_631294/4073675763.py\", line 13, in create_data_updown\n",
      "    toss = scipy.stats.bernoulli.rvs(posi_percent, loc=0, size=1, random_state=random.randint())\n"
     ]
    },
    {
     "name": "stdout",
     "output_type": "stream",
     "text": [
      "97133"
     ]
    },
    {
     "name": "stderr",
     "output_type": "stream",
     "text": [
      "Traceback (most recent call last):\n",
      "TypeError: randint() missing 2 required positional arguments: 'a' and 'b'\n"
     ]
    },
    {
     "name": "stdout",
     "output_type": "stream",
     "text": [
      "\n"
     ]
    },
    {
     "name": "stderr",
     "output_type": "stream",
     "text": [
      "  File \"/scratch/dmoi/condaenvs/ML2/lib/python3.9/multiprocessing/process.py\", line 315, in _bootstrap\n",
      "    self.run()\n"
     ]
    },
    {
     "name": "stdout",
     "output_type": "stream",
     "text": [
      "dataset size"
     ]
    },
    {
     "name": "stderr",
     "output_type": "stream",
     "text": [
      "Process ForkPoolWorker-653:\n",
      "  File \"/scratch/dmoi/condaenvs/ML2/lib/python3.9/multiprocessing/process.py\", line 108, in run\n",
      "    self._target(*self._args, **self._kwargs)\n"
     ]
    },
    {
     "name": "stdout",
     "output_type": "stream",
     "text": [
      " "
     ]
    },
    {
     "name": "stderr",
     "output_type": "stream",
     "text": [
      "Traceback (most recent call last):\n",
      "  File \"/scratch/dmoi/condaenvs/ML2/lib/python3.9/multiprocessing/pool.py\", line 109, in worker\n",
      "    initializer(*initargs)\n"
     ]
    },
    {
     "name": "stdout",
     "output_type": "stream",
     "text": [
      "389499"
     ]
    },
    {
     "name": "stderr",
     "output_type": "stream",
     "text": [
      "  File \"/scratch/dmoi/condaenvs/ML2/lib/python3.9/multiprocessing/process.py\", line 315, in _bootstrap\n",
      "    self.run()\n",
      "  File \"/tmp/4730631/ipykernel_631294/4073675763.py\", line 13, in create_data_updown\n",
      "    toss = scipy.stats.bernoulli.rvs(posi_percent, loc=0, size=1, random_state=random.randint())\n"
     ]
    },
    {
     "name": "stdout",
     "output_type": "stream",
     "text": [
      "\n"
     ]
    },
    {
     "name": "stderr",
     "output_type": "stream",
     "text": [
      "  File \"/scratch/dmoi/condaenvs/ML2/lib/python3.9/multiprocessing/process.py\", line 108, in run\n",
      "    self._target(*self._args, **self._kwargs)\n",
      "TypeError: randint() missing 2 required positional arguments: 'a' and 'b'\n"
     ]
    },
    {
     "name": "stdout",
     "output_type": "stream",
     "text": [
      "dataset size"
     ]
    },
    {
     "name": "stderr",
     "output_type": "stream",
     "text": [
      "  File \"/scratch/dmoi/condaenvs/ML2/lib/python3.9/multiprocessing/pool.py\", line 109, in worker\n",
      "    initializer(*initargs)\n",
      "Process ForkPoolWorker-654:\n"
     ]
    },
    {
     "name": "stdout",
     "output_type": "stream",
     "text": [
      " "
     ]
    },
    {
     "name": "stderr",
     "output_type": "stream",
     "text": [
      "  File \"/tmp/4730631/ipykernel_631294/4073675763.py\", line 13, in create_data_updown\n",
      "    toss = scipy.stats.bernoulli.rvs(posi_percent, loc=0, size=1, random_state=random.randint())\n",
      "Traceback (most recent call last):\n"
     ]
    },
    {
     "name": "stdout",
     "output_type": "stream",
     "text": [
      "97133"
     ]
    },
    {
     "name": "stderr",
     "output_type": "stream",
     "text": [
      "TypeError: randint() missing 2 required positional arguments: 'a' and 'b'\n",
      "  File \"/scratch/dmoi/condaenvs/ML2/lib/python3.9/multiprocessing/process.py\", line 315, in _bootstrap\n",
      "    self.run()\n"
     ]
    },
    {
     "name": "stdout",
     "output_type": "stream",
     "text": [
      "\n"
     ]
    },
    {
     "name": "stderr",
     "output_type": "stream",
     "text": [
      "  File \"/scratch/dmoi/condaenvs/ML2/lib/python3.9/multiprocessing/process.py\", line 108, in run\n",
      "    self._target(*self._args, **self._kwargs)\n"
     ]
    },
    {
     "name": "stdout",
     "output_type": "stream",
     "text": [
      "dataset size"
     ]
    },
    {
     "name": "stderr",
     "output_type": "stream",
     "text": [
      "Process ForkPoolWorker-656:\n",
      "  File \"/scratch/dmoi/condaenvs/ML2/lib/python3.9/multiprocessing/pool.py\", line 109, in worker\n",
      "    initializer(*initargs)\n"
     ]
    },
    {
     "name": "stdout",
     "output_type": "stream",
     "text": [
      " "
     ]
    },
    {
     "name": "stderr",
     "output_type": "stream",
     "text": [
      "  File \"/tmp/4730631/ipykernel_631294/4073675763.py\", line 13, in create_data_updown\n",
      "    toss = scipy.stats.bernoulli.rvs(posi_percent, loc=0, size=1, random_state=random.randint())\n",
      "Traceback (most recent call last):\n"
     ]
    },
    {
     "name": "stdout",
     "output_type": "stream",
     "text": [
      "389499"
     ]
    },
    {
     "name": "stderr",
     "output_type": "stream",
     "text": [
      "TypeError: randint() missing 2 required positional arguments: 'a' and 'b'\n",
      "  File \"/scratch/dmoi/condaenvs/ML2/lib/python3.9/multiprocessing/process.py\", line 315, in _bootstrap\n",
      "    self.run()\n",
      "  File \"/scratch/dmoi/condaenvs/ML2/lib/python3.9/multiprocessing/process.py\", line 108, in run\n",
      "    self._target(*self._args, **self._kwargs)\n"
     ]
    },
    {
     "name": "stdout",
     "output_type": "stream",
     "text": [
      "\n"
     ]
    },
    {
     "name": "stderr",
     "output_type": "stream",
     "text": [
      "  File \"/scratch/dmoi/condaenvs/ML2/lib/python3.9/multiprocessing/pool.py\", line 109, in worker\n",
      "    initializer(*initargs)\n",
      "Process ForkPoolWorker-655:\n",
      "  File \"/tmp/4730631/ipykernel_631294/4073675763.py\", line 13, in create_data_updown\n",
      "    toss = scipy.stats.bernoulli.rvs(posi_percent, loc=0, size=1, random_state=random.randint())\n",
      "Traceback (most recent call last):\n",
      "TypeError: randint() missing 2 required positional arguments: 'a' and 'b'\n",
      "  File \"/scratch/dmoi/condaenvs/ML2/lib/python3.9/multiprocessing/process.py\", line 315, in _bootstrap\n",
      "    self.run()\n",
      "  File \"/scratch/dmoi/condaenvs/ML2/lib/python3.9/multiprocessing/process.py\", line 108, in run\n",
      "    self._target(*self._args, **self._kwargs)\n",
      "  File \"/scratch/dmoi/condaenvs/ML2/lib/python3.9/multiprocessing/pool.py\", line 109, in worker\n",
      "    initializer(*initargs)\n",
      "  File \"/tmp/4730631/ipykernel_631294/4073675763.py\", line 13, in create_data_updown\n",
      "    toss = scipy.stats.bernoulli.rvs(posi_percent, loc=0, size=1, random_state=random.randint())\n",
      "TypeError: randint() missing 2 required positional arguments: 'a' and 'b'\n"
     ]
    },
    {
     "name": "stdout",
     "output_type": "stream",
     "text": [
      "dataset size 97133\n",
      "dataset size"
     ]
    },
    {
     "name": "stderr",
     "output_type": "stream",
     "text": [
      "Process ForkPoolWorker-657:\n"
     ]
    },
    {
     "name": "stdout",
     "output_type": "stream",
     "text": [
      " "
     ]
    },
    {
     "name": "stderr",
     "output_type": "stream",
     "text": [
      "Traceback (most recent call last):\n",
      "  File \"/scratch/dmoi/condaenvs/ML2/lib/python3.9/multiprocessing/process.py\", line 315, in _bootstrap\n",
      "    self.run()\n"
     ]
    },
    {
     "name": "stdout",
     "output_type": "stream",
     "text": [
      "389499"
     ]
    },
    {
     "name": "stderr",
     "output_type": "stream",
     "text": [
      "  File \"/scratch/dmoi/condaenvs/ML2/lib/python3.9/multiprocessing/process.py\", line 108, in run\n",
      "    self._target(*self._args, **self._kwargs)\n"
     ]
    },
    {
     "name": "stdout",
     "output_type": "stream",
     "text": [
      "\n",
      "dataset size"
     ]
    },
    {
     "name": "stderr",
     "output_type": "stream",
     "text": [
      "  File \"/scratch/dmoi/condaenvs/ML2/lib/python3.9/multiprocessing/pool.py\", line 109, in worker\n",
      "    initializer(*initargs)\n",
      "  File \"/tmp/4730631/ipykernel_631294/4073675763.py\", line 13, in create_data_updown\n",
      "    toss = scipy.stats.bernoulli.rvs(posi_percent, loc=0, size=1, random_state=random.randint())\n"
     ]
    },
    {
     "name": "stdout",
     "output_type": "stream",
     "text": [
      " "
     ]
    },
    {
     "name": "stderr",
     "output_type": "stream",
     "text": [
      "Process ForkPoolWorker-659:\n",
      "TypeError: randint() missing 2 required positional arguments: 'a' and 'b'\n"
     ]
    },
    {
     "name": "stdout",
     "output_type": "stream",
     "text": [
      "97133\n"
     ]
    },
    {
     "name": "stderr",
     "output_type": "stream",
     "text": [
      "Traceback (most recent call last):\n"
     ]
    },
    {
     "name": "stdout",
     "output_type": "stream",
     "text": [
      "dataset size"
     ]
    },
    {
     "name": "stderr",
     "output_type": "stream",
     "text": [
      "Process ForkPoolWorker-658:\n",
      "  File \"/scratch/dmoi/condaenvs/ML2/lib/python3.9/multiprocessing/process.py\", line 315, in _bootstrap\n",
      "    self.run()\n"
     ]
    },
    {
     "name": "stdout",
     "output_type": "stream",
     "text": [
      " "
     ]
    },
    {
     "name": "stderr",
     "output_type": "stream",
     "text": [
      "Traceback (most recent call last):\n",
      "  File \"/scratch/dmoi/condaenvs/ML2/lib/python3.9/multiprocessing/process.py\", line 108, in run\n",
      "    self._target(*self._args, **self._kwargs)\n"
     ]
    },
    {
     "name": "stdout",
     "output_type": "stream",
     "text": [
      "389499"
     ]
    },
    {
     "name": "stderr",
     "output_type": "stream",
     "text": [
      "  File \"/scratch/dmoi/condaenvs/ML2/lib/python3.9/multiprocessing/process.py\", line 315, in _bootstrap\n",
      "    self.run()\n",
      "  File \"/scratch/dmoi/condaenvs/ML2/lib/python3.9/multiprocessing/pool.py\", line 109, in worker\n",
      "    initializer(*initargs)\n",
      "  File \"/tmp/4730631/ipykernel_631294/4073675763.py\", line 13, in create_data_updown\n",
      "    toss = scipy.stats.bernoulli.rvs(posi_percent, loc=0, size=1, random_state=random.randint())\n",
      "  File \"/scratch/dmoi/condaenvs/ML2/lib/python3.9/multiprocessing/process.py\", line 108, in run\n",
      "    self._target(*self._args, **self._kwargs)\n"
     ]
    },
    {
     "name": "stdout",
     "output_type": "stream",
     "text": [
      "\n"
     ]
    },
    {
     "name": "stderr",
     "output_type": "stream",
     "text": [
      "  File \"/scratch/dmoi/condaenvs/ML2/lib/python3.9/multiprocessing/pool.py\", line 109, in worker\n",
      "    initializer(*initargs)\n",
      "TypeError: randint() missing 2 required positional arguments: 'a' and 'b'\n"
     ]
    },
    {
     "name": "stdout",
     "output_type": "stream",
     "text": [
      "dataset size"
     ]
    },
    {
     "name": "stderr",
     "output_type": "stream",
     "text": [
      "  File \"/tmp/4730631/ipykernel_631294/4073675763.py\", line 13, in create_data_updown\n",
      "    toss = scipy.stats.bernoulli.rvs(posi_percent, loc=0, size=1, random_state=random.randint())\n",
      "Process ForkPoolWorker-660:\n"
     ]
    },
    {
     "name": "stdout",
     "output_type": "stream",
     "text": [
      " "
     ]
    },
    {
     "name": "stderr",
     "output_type": "stream",
     "text": [
      "TypeError: randint() missing 2 required positional arguments: 'a' and 'b'\n",
      "Traceback (most recent call last):\n"
     ]
    },
    {
     "name": "stdout",
     "output_type": "stream",
     "text": [
      "97133\n"
     ]
    },
    {
     "name": "stderr",
     "output_type": "stream",
     "text": [
      "  File \"/scratch/dmoi/condaenvs/ML2/lib/python3.9/multiprocessing/process.py\", line 315, in _bootstrap\n",
      "    self.run()\n",
      "Process ForkPoolWorker-661:\n"
     ]
    },
    {
     "name": "stdout",
     "output_type": "stream",
     "text": [
      "dataset size"
     ]
    },
    {
     "name": "stderr",
     "output_type": "stream",
     "text": [
      "  File \"/scratch/dmoi/condaenvs/ML2/lib/python3.9/multiprocessing/process.py\", line 108, in run\n",
      "    self._target(*self._args, **self._kwargs)\n",
      "Traceback (most recent call last):\n"
     ]
    },
    {
     "name": "stdout",
     "output_type": "stream",
     "text": [
      " "
     ]
    },
    {
     "name": "stderr",
     "output_type": "stream",
     "text": [
      "  File \"/scratch/dmoi/condaenvs/ML2/lib/python3.9/multiprocessing/pool.py\", line 109, in worker\n",
      "    initializer(*initargs)\n",
      "  File \"/scratch/dmoi/condaenvs/ML2/lib/python3.9/multiprocessing/process.py\", line 315, in _bootstrap\n",
      "    self.run()\n"
     ]
    },
    {
     "name": "stdout",
     "output_type": "stream",
     "text": [
      "389499"
     ]
    },
    {
     "name": "stderr",
     "output_type": "stream",
     "text": [
      "  File \"/tmp/4730631/ipykernel_631294/4073675763.py\", line 13, in create_data_updown\n",
      "    toss = scipy.stats.bernoulli.rvs(posi_percent, loc=0, size=1, random_state=random.randint())\n",
      "  File \"/scratch/dmoi/condaenvs/ML2/lib/python3.9/multiprocessing/process.py\", line 108, in run\n",
      "    self._target(*self._args, **self._kwargs)\n",
      "TypeError: randint() missing 2 required positional arguments: 'a' and 'b'\n"
     ]
    },
    {
     "name": "stdout",
     "output_type": "stream",
     "text": [
      "\n"
     ]
    },
    {
     "name": "stderr",
     "output_type": "stream",
     "text": [
      "  File \"/scratch/dmoi/condaenvs/ML2/lib/python3.9/multiprocessing/pool.py\", line 109, in worker\n",
      "    initializer(*initargs)\n"
     ]
    },
    {
     "name": "stdout",
     "output_type": "stream",
     "text": [
      "dataset size"
     ]
    },
    {
     "name": "stderr",
     "output_type": "stream",
     "text": [
      "Process ForkPoolWorker-662:\n",
      "  File \"/tmp/4730631/ipykernel_631294/4073675763.py\", line 13, in create_data_updown\n",
      "    toss = scipy.stats.bernoulli.rvs(posi_percent, loc=0, size=1, random_state=random.randint())\n"
     ]
    },
    {
     "name": "stdout",
     "output_type": "stream",
     "text": [
      " "
     ]
    },
    {
     "name": "stderr",
     "output_type": "stream",
     "text": [
      "Traceback (most recent call last):\n",
      "TypeError: randint() missing 2 required positional arguments: 'a' and 'b'\n"
     ]
    },
    {
     "name": "stdout",
     "output_type": "stream",
     "text": [
      "97133"
     ]
    },
    {
     "name": "stderr",
     "output_type": "stream",
     "text": [
      "  File \"/scratch/dmoi/condaenvs/ML2/lib/python3.9/multiprocessing/process.py\", line 315, in _bootstrap\n",
      "    self.run()\n"
     ]
    },
    {
     "name": "stdout",
     "output_type": "stream",
     "text": [
      "\n"
     ]
    },
    {
     "name": "stderr",
     "output_type": "stream",
     "text": [
      "  File \"/scratch/dmoi/condaenvs/ML2/lib/python3.9/multiprocessing/process.py\", line 108, in run\n",
      "    self._target(*self._args, **self._kwargs)\n"
     ]
    },
    {
     "name": "stdout",
     "output_type": "stream",
     "text": [
      "dataset size"
     ]
    },
    {
     "name": "stderr",
     "output_type": "stream",
     "text": [
      "Process ForkPoolWorker-663:\n",
      "  File \"/scratch/dmoi/condaenvs/ML2/lib/python3.9/multiprocessing/pool.py\", line 109, in worker\n",
      "    initializer(*initargs)\n"
     ]
    },
    {
     "name": "stdout",
     "output_type": "stream",
     "text": [
      " "
     ]
    },
    {
     "name": "stderr",
     "output_type": "stream",
     "text": [
      "Traceback (most recent call last):\n",
      "  File \"/tmp/4730631/ipykernel_631294/4073675763.py\", line 13, in create_data_updown\n",
      "    toss = scipy.stats.bernoulli.rvs(posi_percent, loc=0, size=1, random_state=random.randint())\n",
      "  File \"/scratch/dmoi/condaenvs/ML2/lib/python3.9/multiprocessing/process.py\", line 315, in _bootstrap\n",
      "    self.run()\n"
     ]
    },
    {
     "name": "stdout",
     "output_type": "stream",
     "text": [
      "389499"
     ]
    },
    {
     "name": "stderr",
     "output_type": "stream",
     "text": [
      "TypeError: randint() missing 2 required positional arguments: 'a' and 'b'\n"
     ]
    },
    {
     "name": "stdout",
     "output_type": "stream",
     "text": [
      "\n"
     ]
    },
    {
     "name": "stderr",
     "output_type": "stream",
     "text": [
      "  File \"/scratch/dmoi/condaenvs/ML2/lib/python3.9/multiprocessing/process.py\", line 108, in run\n",
      "    self._target(*self._args, **self._kwargs)\n",
      "  File \"/scratch/dmoi/condaenvs/ML2/lib/python3.9/multiprocessing/pool.py\", line 109, in worker\n",
      "    initializer(*initargs)\n",
      "  File \"/tmp/4730631/ipykernel_631294/4073675763.py\", line 13, in create_data_updown\n",
      "    toss = scipy.stats.bernoulli.rvs(posi_percent, loc=0, size=1, random_state=random.randint())\n",
      "Process ForkPoolWorker-664:\n",
      "TypeError: randint() missing 2 required positional arguments: 'a' and 'b'\n",
      "Traceback (most recent call last):\n",
      "  File \"/scratch/dmoi/condaenvs/ML2/lib/python3.9/multiprocessing/process.py\", line 315, in _bootstrap\n",
      "    self.run()\n",
      "  File \"/scratch/dmoi/condaenvs/ML2/lib/python3.9/multiprocessing/process.py\", line 108, in run\n",
      "    self._target(*self._args, **self._kwargs)\n",
      "  File \"/scratch/dmoi/condaenvs/ML2/lib/python3.9/multiprocessing/pool.py\", line 109, in worker\n",
      "    initializer(*initargs)\n",
      "  File \"/tmp/4730631/ipykernel_631294/4073675763.py\", line 13, in create_data_updown\n",
      "    toss = scipy.stats.bernoulli.rvs(posi_percent, loc=0, size=1, random_state=random.randint())\n",
      "TypeError: randint() missing 2 required positional arguments: 'a' and 'b'\n"
     ]
    },
    {
     "name": "stdout",
     "output_type": "stream",
     "text": [
      "dataset size 97133\n"
     ]
    },
    {
     "name": "stderr",
     "output_type": "stream",
     "text": [
      "Process ForkPoolWorker-665:\n"
     ]
    },
    {
     "name": "stdout",
     "output_type": "stream",
     "text": [
      "dataset size"
     ]
    },
    {
     "name": "stderr",
     "output_type": "stream",
     "text": [
      "Traceback (most recent call last):\n"
     ]
    },
    {
     "name": "stdout",
     "output_type": "stream",
     "text": [
      " 389499"
     ]
    },
    {
     "name": "stderr",
     "output_type": "stream",
     "text": [
      "  File \"/scratch/dmoi/condaenvs/ML2/lib/python3.9/multiprocessing/process.py\", line 315, in _bootstrap\n",
      "    self.run()\n"
     ]
    },
    {
     "name": "stdout",
     "output_type": "stream",
     "text": [
      "\n"
     ]
    },
    {
     "name": "stderr",
     "output_type": "stream",
     "text": [
      "  File \"/scratch/dmoi/condaenvs/ML2/lib/python3.9/multiprocessing/process.py\", line 108, in run\n",
      "    self._target(*self._args, **self._kwargs)\n"
     ]
    },
    {
     "name": "stdout",
     "output_type": "stream",
     "text": [
      "dataset size"
     ]
    },
    {
     "name": "stderr",
     "output_type": "stream",
     "text": [
      "  File \"/scratch/dmoi/condaenvs/ML2/lib/python3.9/multiprocessing/pool.py\", line 109, in worker\n",
      "    initializer(*initargs)\n",
      "Process ForkPoolWorker-667:\n"
     ]
    },
    {
     "name": "stdout",
     "output_type": "stream",
     "text": [
      " "
     ]
    },
    {
     "name": "stderr",
     "output_type": "stream",
     "text": [
      "  File \"/tmp/4730631/ipykernel_631294/4073675763.py\", line 13, in create_data_updown\n",
      "    toss = scipy.stats.bernoulli.rvs(posi_percent, loc=0, size=1, random_state=random.randint())\n",
      "Traceback (most recent call last):\n"
     ]
    },
    {
     "name": "stdout",
     "output_type": "stream",
     "text": [
      "97133"
     ]
    },
    {
     "name": "stderr",
     "output_type": "stream",
     "text": [
      "TypeError: randint() missing 2 required positional arguments: 'a' and 'b'\n",
      "  File \"/scratch/dmoi/condaenvs/ML2/lib/python3.9/multiprocessing/process.py\", line 315, in _bootstrap\n",
      "    self.run()\n"
     ]
    },
    {
     "name": "stdout",
     "output_type": "stream",
     "text": [
      "\n"
     ]
    },
    {
     "name": "stderr",
     "output_type": "stream",
     "text": [
      "  File \"/scratch/dmoi/condaenvs/ML2/lib/python3.9/multiprocessing/process.py\", line 108, in run\n",
      "    self._target(*self._args, **self._kwargs)\n"
     ]
    },
    {
     "name": "stdout",
     "output_type": "stream",
     "text": [
      "dataset size"
     ]
    },
    {
     "name": "stderr",
     "output_type": "stream",
     "text": [
      "Process ForkPoolWorker-666:\n",
      "  File \"/scratch/dmoi/condaenvs/ML2/lib/python3.9/multiprocessing/pool.py\", line 109, in worker\n",
      "    initializer(*initargs)\n"
     ]
    },
    {
     "name": "stdout",
     "output_type": "stream",
     "text": [
      " "
     ]
    },
    {
     "name": "stderr",
     "output_type": "stream",
     "text": [
      "Traceback (most recent call last):\n",
      "  File \"/tmp/4730631/ipykernel_631294/4073675763.py\", line 13, in create_data_updown\n",
      "    toss = scipy.stats.bernoulli.rvs(posi_percent, loc=0, size=1, random_state=random.randint())\n"
     ]
    },
    {
     "name": "stdout",
     "output_type": "stream",
     "text": [
      "389499"
     ]
    },
    {
     "name": "stderr",
     "output_type": "stream",
     "text": [
      "  File \"/scratch/dmoi/condaenvs/ML2/lib/python3.9/multiprocessing/process.py\", line 315, in _bootstrap\n",
      "    self.run()\n",
      "TypeError: randint() missing 2 required positional arguments: 'a' and 'b'\n"
     ]
    },
    {
     "name": "stdout",
     "output_type": "stream",
     "text": [
      "\n"
     ]
    },
    {
     "name": "stderr",
     "output_type": "stream",
     "text": [
      "  File \"/scratch/dmoi/condaenvs/ML2/lib/python3.9/multiprocessing/process.py\", line 108, in run\n",
      "    self._target(*self._args, **self._kwargs)\n"
     ]
    },
    {
     "name": "stdout",
     "output_type": "stream",
     "text": [
      "dataset size"
     ]
    },
    {
     "name": "stderr",
     "output_type": "stream",
     "text": [
      "Process ForkPoolWorker-669:\n",
      "  File \"/scratch/dmoi/condaenvs/ML2/lib/python3.9/multiprocessing/pool.py\", line 109, in worker\n",
      "    initializer(*initargs)\n"
     ]
    },
    {
     "name": "stdout",
     "output_type": "stream",
     "text": [
      " "
     ]
    },
    {
     "name": "stderr",
     "output_type": "stream",
     "text": [
      "  File \"/tmp/4730631/ipykernel_631294/4073675763.py\", line 13, in create_data_updown\n",
      "    toss = scipy.stats.bernoulli.rvs(posi_percent, loc=0, size=1, random_state=random.randint())\n",
      "Traceback (most recent call last):\n"
     ]
    },
    {
     "name": "stdout",
     "output_type": "stream",
     "text": [
      "97133"
     ]
    },
    {
     "name": "stderr",
     "output_type": "stream",
     "text": [
      "  File \"/scratch/dmoi/condaenvs/ML2/lib/python3.9/multiprocessing/process.py\", line 315, in _bootstrap\n",
      "    self.run()\n",
      "TypeError: randint() missing 2 required positional arguments: 'a' and 'b'\n"
     ]
    },
    {
     "name": "stdout",
     "output_type": "stream",
     "text": [
      "\n"
     ]
    },
    {
     "name": "stderr",
     "output_type": "stream",
     "text": [
      "  File \"/scratch/dmoi/condaenvs/ML2/lib/python3.9/multiprocessing/process.py\", line 108, in run\n",
      "    self._target(*self._args, **self._kwargs)\n"
     ]
    },
    {
     "name": "stdout",
     "output_type": "stream",
     "text": [
      "dataset size"
     ]
    },
    {
     "name": "stderr",
     "output_type": "stream",
     "text": [
      "  File \"/scratch/dmoi/condaenvs/ML2/lib/python3.9/multiprocessing/pool.py\", line 109, in worker\n",
      "    initializer(*initargs)\n",
      "Process ForkPoolWorker-668:\n"
     ]
    },
    {
     "name": "stdout",
     "output_type": "stream",
     "text": [
      " "
     ]
    },
    {
     "name": "stderr",
     "output_type": "stream",
     "text": [
      "  File \"/tmp/4730631/ipykernel_631294/4073675763.py\", line 13, in create_data_updown\n",
      "    toss = scipy.stats.bernoulli.rvs(posi_percent, loc=0, size=1, random_state=random.randint())\n",
      "Traceback (most recent call last):\n"
     ]
    },
    {
     "name": "stdout",
     "output_type": "stream",
     "text": [
      "389499"
     ]
    },
    {
     "name": "stderr",
     "output_type": "stream",
     "text": [
      "TypeError: randint() missing 2 required positional arguments: 'a' and 'b'\n",
      "  File \"/scratch/dmoi/condaenvs/ML2/lib/python3.9/multiprocessing/process.py\", line 315, in _bootstrap\n",
      "    self.run()\n",
      "  File \"/scratch/dmoi/condaenvs/ML2/lib/python3.9/multiprocessing/process.py\", line 108, in run\n",
      "    self._target(*self._args, **self._kwargs)\n"
     ]
    },
    {
     "name": "stdout",
     "output_type": "stream",
     "text": [
      "\n"
     ]
    },
    {
     "name": "stderr",
     "output_type": "stream",
     "text": [
      "  File \"/scratch/dmoi/condaenvs/ML2/lib/python3.9/multiprocessing/pool.py\", line 109, in worker\n",
      "    initializer(*initargs)\n"
     ]
    },
    {
     "name": "stdout",
     "output_type": "stream",
     "text": [
      "dataset size"
     ]
    },
    {
     "name": "stderr",
     "output_type": "stream",
     "text": [
      "  File \"/tmp/4730631/ipykernel_631294/4073675763.py\", line 13, in create_data_updown\n",
      "    toss = scipy.stats.bernoulli.rvs(posi_percent, loc=0, size=1, random_state=random.randint())\n",
      "Process ForkPoolWorker-670:\n"
     ]
    },
    {
     "name": "stdout",
     "output_type": "stream",
     "text": [
      " "
     ]
    },
    {
     "name": "stderr",
     "output_type": "stream",
     "text": [
      "TypeError: randint() missing 2 required positional arguments: 'a' and 'b'\n",
      "Traceback (most recent call last):\n"
     ]
    },
    {
     "name": "stdout",
     "output_type": "stream",
     "text": [
      "97133"
     ]
    },
    {
     "name": "stderr",
     "output_type": "stream",
     "text": [
      "  File \"/scratch/dmoi/condaenvs/ML2/lib/python3.9/multiprocessing/process.py\", line 315, in _bootstrap\n",
      "    self.run()\n"
     ]
    },
    {
     "name": "stdout",
     "output_type": "stream",
     "text": [
      "\n"
     ]
    },
    {
     "name": "stderr",
     "output_type": "stream",
     "text": [
      "  File \"/scratch/dmoi/condaenvs/ML2/lib/python3.9/multiprocessing/process.py\", line 108, in run\n",
      "    self._target(*self._args, **self._kwargs)\n"
     ]
    },
    {
     "name": "stdout",
     "output_type": "stream",
     "text": [
      "dataset size"
     ]
    },
    {
     "name": "stderr",
     "output_type": "stream",
     "text": [
      "  File \"/scratch/dmoi/condaenvs/ML2/lib/python3.9/multiprocessing/pool.py\", line 109, in worker\n",
      "    initializer(*initargs)\n",
      "Process ForkPoolWorker-671:\n"
     ]
    },
    {
     "name": "stdout",
     "output_type": "stream",
     "text": [
      " "
     ]
    },
    {
     "name": "stderr",
     "output_type": "stream",
     "text": [
      "  File \"/tmp/4730631/ipykernel_631294/4073675763.py\", line 13, in create_data_updown\n",
      "    toss = scipy.stats.bernoulli.rvs(posi_percent, loc=0, size=1, random_state=random.randint())\n",
      "Traceback (most recent call last):\n"
     ]
    },
    {
     "name": "stdout",
     "output_type": "stream",
     "text": [
      "389499"
     ]
    },
    {
     "name": "stderr",
     "output_type": "stream",
     "text": [
      "TypeError: randint() missing 2 required positional arguments: 'a' and 'b'\n",
      "  File \"/scratch/dmoi/condaenvs/ML2/lib/python3.9/multiprocessing/process.py\", line 315, in _bootstrap\n",
      "    self.run()\n",
      "  File \"/scratch/dmoi/condaenvs/ML2/lib/python3.9/multiprocessing/process.py\", line 108, in run\n",
      "    self._target(*self._args, **self._kwargs)\n"
     ]
    },
    {
     "name": "stdout",
     "output_type": "stream",
     "text": [
      "\n"
     ]
    },
    {
     "name": "stderr",
     "output_type": "stream",
     "text": [
      "  File \"/scratch/dmoi/condaenvs/ML2/lib/python3.9/multiprocessing/pool.py\", line 109, in worker\n",
      "    initializer(*initargs)\n",
      "Process ForkPoolWorker-672:\n",
      "  File \"/tmp/4730631/ipykernel_631294/4073675763.py\", line 13, in create_data_updown\n",
      "    toss = scipy.stats.bernoulli.rvs(posi_percent, loc=0, size=1, random_state=random.randint())\n",
      "Traceback (most recent call last):\n",
      "TypeError: randint() missing 2 required positional arguments: 'a' and 'b'\n",
      "  File \"/scratch/dmoi/condaenvs/ML2/lib/python3.9/multiprocessing/process.py\", line 315, in _bootstrap\n",
      "    self.run()\n",
      "  File \"/scratch/dmoi/condaenvs/ML2/lib/python3.9/multiprocessing/process.py\", line 108, in run\n",
      "    self._target(*self._args, **self._kwargs)\n",
      "  File \"/scratch/dmoi/condaenvs/ML2/lib/python3.9/multiprocessing/pool.py\", line 109, in worker\n",
      "    initializer(*initargs)\n",
      "  File \"/tmp/4730631/ipykernel_631294/4073675763.py\", line 13, in create_data_updown\n",
      "    toss = scipy.stats.bernoulli.rvs(posi_percent, loc=0, size=1, random_state=random.randint())\n",
      "TypeError: randint() missing 2 required positional arguments: 'a' and 'b'\n"
     ]
    },
    {
     "name": "stdout",
     "output_type": "stream",
     "text": [
      "dataset size 97133\n"
     ]
    },
    {
     "name": "stderr",
     "output_type": "stream",
     "text": [
      "Process ForkPoolWorker-673:\n"
     ]
    },
    {
     "name": "stdout",
     "output_type": "stream",
     "text": [
      "dataset size"
     ]
    },
    {
     "name": "stderr",
     "output_type": "stream",
     "text": [
      "Traceback (most recent call last):\n"
     ]
    },
    {
     "name": "stdout",
     "output_type": "stream",
     "text": [
      " 389499"
     ]
    },
    {
     "name": "stderr",
     "output_type": "stream",
     "text": [
      "  File \"/scratch/dmoi/condaenvs/ML2/lib/python3.9/multiprocessing/process.py\", line 315, in _bootstrap\n",
      "    self.run()\n"
     ]
    },
    {
     "name": "stdout",
     "output_type": "stream",
     "text": [
      "\n"
     ]
    },
    {
     "name": "stderr",
     "output_type": "stream",
     "text": [
      "  File \"/scratch/dmoi/condaenvs/ML2/lib/python3.9/multiprocessing/process.py\", line 108, in run\n",
      "    self._target(*self._args, **self._kwargs)\n"
     ]
    },
    {
     "name": "stdout",
     "output_type": "stream",
     "text": [
      "dataset size"
     ]
    },
    {
     "name": "stderr",
     "output_type": "stream",
     "text": [
      "  File \"/scratch/dmoi/condaenvs/ML2/lib/python3.9/multiprocessing/pool.py\", line 109, in worker\n",
      "    initializer(*initargs)\n",
      "Process ForkPoolWorker-674:\n"
     ]
    },
    {
     "name": "stdout",
     "output_type": "stream",
     "text": [
      " "
     ]
    },
    {
     "name": "stderr",
     "output_type": "stream",
     "text": [
      "  File \"/tmp/4730631/ipykernel_631294/4073675763.py\", line 13, in create_data_updown\n",
      "    toss = scipy.stats.bernoulli.rvs(posi_percent, loc=0, size=1, random_state=random.randint())\n",
      "Traceback (most recent call last):\n"
     ]
    },
    {
     "name": "stdout",
     "output_type": "stream",
     "text": [
      "97133"
     ]
    },
    {
     "name": "stderr",
     "output_type": "stream",
     "text": [
      "TypeError: randint() missing 2 required positional arguments: 'a' and 'b'\n",
      "  File \"/scratch/dmoi/condaenvs/ML2/lib/python3.9/multiprocessing/process.py\", line 315, in _bootstrap\n",
      "    self.run()\n"
     ]
    },
    {
     "name": "stdout",
     "output_type": "stream",
     "text": [
      "\n"
     ]
    },
    {
     "name": "stderr",
     "output_type": "stream",
     "text": [
      "  File \"/scratch/dmoi/condaenvs/ML2/lib/python3.9/multiprocessing/process.py\", line 108, in run\n",
      "    self._target(*self._args, **self._kwargs)\n"
     ]
    },
    {
     "name": "stdout",
     "output_type": "stream",
     "text": [
      "dataset size"
     ]
    },
    {
     "name": "stderr",
     "output_type": "stream",
     "text": [
      "Process ForkPoolWorker-675:\n",
      "  File \"/scratch/dmoi/condaenvs/ML2/lib/python3.9/multiprocessing/pool.py\", line 109, in worker\n",
      "    initializer(*initargs)\n"
     ]
    },
    {
     "name": "stdout",
     "output_type": "stream",
     "text": [
      " "
     ]
    },
    {
     "name": "stderr",
     "output_type": "stream",
     "text": [
      "Traceback (most recent call last):\n",
      "  File \"/tmp/4730631/ipykernel_631294/4073675763.py\", line 13, in create_data_updown\n",
      "    toss = scipy.stats.bernoulli.rvs(posi_percent, loc=0, size=1, random_state=random.randint())\n"
     ]
    },
    {
     "name": "stdout",
     "output_type": "stream",
     "text": [
      "389499"
     ]
    },
    {
     "name": "stderr",
     "output_type": "stream",
     "text": [
      "  File \"/scratch/dmoi/condaenvs/ML2/lib/python3.9/multiprocessing/process.py\", line 315, in _bootstrap\n",
      "    self.run()\n",
      "TypeError: randint() missing 2 required positional arguments: 'a' and 'b'\n"
     ]
    },
    {
     "name": "stdout",
     "output_type": "stream",
     "text": [
      "\n"
     ]
    },
    {
     "name": "stderr",
     "output_type": "stream",
     "text": [
      "  File \"/scratch/dmoi/condaenvs/ML2/lib/python3.9/multiprocessing/process.py\", line 108, in run\n",
      "    self._target(*self._args, **self._kwargs)\n"
     ]
    },
    {
     "name": "stdout",
     "output_type": "stream",
     "text": [
      "dataset size"
     ]
    },
    {
     "name": "stderr",
     "output_type": "stream",
     "text": [
      "  File \"/scratch/dmoi/condaenvs/ML2/lib/python3.9/multiprocessing/pool.py\", line 109, in worker\n",
      "    initializer(*initargs)\n",
      "Process ForkPoolWorker-676:\n"
     ]
    },
    {
     "name": "stdout",
     "output_type": "stream",
     "text": [
      " "
     ]
    },
    {
     "name": "stderr",
     "output_type": "stream",
     "text": [
      "  File \"/tmp/4730631/ipykernel_631294/4073675763.py\", line 13, in create_data_updown\n",
      "    toss = scipy.stats.bernoulli.rvs(posi_percent, loc=0, size=1, random_state=random.randint())\n",
      "Traceback (most recent call last):\n"
     ]
    },
    {
     "name": "stdout",
     "output_type": "stream",
     "text": [
      "97133"
     ]
    },
    {
     "name": "stderr",
     "output_type": "stream",
     "text": [
      "TypeError: randint() missing 2 required positional arguments: 'a' and 'b'\n",
      "  File \"/scratch/dmoi/condaenvs/ML2/lib/python3.9/multiprocessing/process.py\", line 315, in _bootstrap\n",
      "    self.run()\n",
      "  File \"/scratch/dmoi/condaenvs/ML2/lib/python3.9/multiprocessing/process.py\", line 108, in run\n",
      "    self._target(*self._args, **self._kwargs)\n"
     ]
    },
    {
     "name": "stdout",
     "output_type": "stream",
     "text": [
      "\n"
     ]
    },
    {
     "name": "stderr",
     "output_type": "stream",
     "text": [
      "  File \"/scratch/dmoi/condaenvs/ML2/lib/python3.9/multiprocessing/pool.py\", line 109, in worker\n",
      "    initializer(*initargs)\n"
     ]
    },
    {
     "name": "stdout",
     "output_type": "stream",
     "text": [
      "dataset size"
     ]
    },
    {
     "name": "stderr",
     "output_type": "stream",
     "text": [
      "Process ForkPoolWorker-677:\n",
      "  File \"/tmp/4730631/ipykernel_631294/4073675763.py\", line 13, in create_data_updown\n",
      "    toss = scipy.stats.bernoulli.rvs(posi_percent, loc=0, size=1, random_state=random.randint())\n"
     ]
    },
    {
     "name": "stdout",
     "output_type": "stream",
     "text": [
      " "
     ]
    },
    {
     "name": "stderr",
     "output_type": "stream",
     "text": [
      "Traceback (most recent call last):\n",
      "TypeError: randint() missing 2 required positional arguments: 'a' and 'b'\n"
     ]
    },
    {
     "name": "stdout",
     "output_type": "stream",
     "text": [
      "389499\n"
     ]
    },
    {
     "name": "stderr",
     "output_type": "stream",
     "text": [
      "  File \"/scratch/dmoi/condaenvs/ML2/lib/python3.9/multiprocessing/process.py\", line 315, in _bootstrap\n",
      "    self.run()\n"
     ]
    },
    {
     "name": "stdout",
     "output_type": "stream",
     "text": [
      "dataset size"
     ]
    },
    {
     "name": "stderr",
     "output_type": "stream",
     "text": [
      "  File \"/scratch/dmoi/condaenvs/ML2/lib/python3.9/multiprocessing/process.py\", line 108, in run\n",
      "    self._target(*self._args, **self._kwargs)\n",
      "Process ForkPoolWorker-678:\n"
     ]
    },
    {
     "name": "stdout",
     "output_type": "stream",
     "text": [
      " "
     ]
    },
    {
     "name": "stderr",
     "output_type": "stream",
     "text": [
      "  File \"/scratch/dmoi/condaenvs/ML2/lib/python3.9/multiprocessing/pool.py\", line 109, in worker\n",
      "    initializer(*initargs)\n",
      "Traceback (most recent call last):\n"
     ]
    },
    {
     "name": "stdout",
     "output_type": "stream",
     "text": [
      "97133"
     ]
    },
    {
     "name": "stderr",
     "output_type": "stream",
     "text": [
      "  File \"/tmp/4730631/ipykernel_631294/4073675763.py\", line 13, in create_data_updown\n",
      "    toss = scipy.stats.bernoulli.rvs(posi_percent, loc=0, size=1, random_state=random.randint())\n"
     ]
    },
    {
     "name": "stdout",
     "output_type": "stream",
     "text": [
      "\n"
     ]
    },
    {
     "name": "stderr",
     "output_type": "stream",
     "text": [
      "  File \"/scratch/dmoi/condaenvs/ML2/lib/python3.9/multiprocessing/process.py\", line 315, in _bootstrap\n",
      "    self.run()\n",
      "TypeError: randint() missing 2 required positional arguments: 'a' and 'b'\n",
      "Process ForkPoolWorker-679:\n",
      "  File \"/scratch/dmoi/condaenvs/ML2/lib/python3.9/multiprocessing/process.py\", line 108, in run\n",
      "    self._target(*self._args, **self._kwargs)\n"
     ]
    },
    {
     "name": "stdout",
     "output_type": "stream",
     "text": [
      "dataset size"
     ]
    },
    {
     "name": "stderr",
     "output_type": "stream",
     "text": [
      "Traceback (most recent call last):\n"
     ]
    },
    {
     "name": "stdout",
     "output_type": "stream",
     "text": [
      " "
     ]
    },
    {
     "name": "stderr",
     "output_type": "stream",
     "text": [
      "  File \"/scratch/dmoi/condaenvs/ML2/lib/python3.9/multiprocessing/pool.py\", line 109, in worker\n",
      "    initializer(*initargs)\n",
      "  File \"/scratch/dmoi/condaenvs/ML2/lib/python3.9/multiprocessing/process.py\", line 315, in _bootstrap\n",
      "    self.run()\n",
      "  File \"/tmp/4730631/ipykernel_631294/4073675763.py\", line 13, in create_data_updown\n",
      "    toss = scipy.stats.bernoulli.rvs(posi_percent, loc=0, size=1, random_state=random.randint())\n"
     ]
    },
    {
     "name": "stdout",
     "output_type": "stream",
     "text": [
      "389499"
     ]
    },
    {
     "name": "stderr",
     "output_type": "stream",
     "text": [
      "  File \"/scratch/dmoi/condaenvs/ML2/lib/python3.9/multiprocessing/process.py\", line 108, in run\n",
      "    self._target(*self._args, **self._kwargs)\n",
      "TypeError: randint() missing 2 required positional arguments: 'a' and 'b'\n"
     ]
    },
    {
     "name": "stdout",
     "output_type": "stream",
     "text": [
      "\n"
     ]
    },
    {
     "name": "stderr",
     "output_type": "stream",
     "text": [
      "  File \"/scratch/dmoi/condaenvs/ML2/lib/python3.9/multiprocessing/pool.py\", line 109, in worker\n",
      "    initializer(*initargs)\n",
      "Process ForkPoolWorker-680:\n",
      "  File \"/tmp/4730631/ipykernel_631294/4073675763.py\", line 13, in create_data_updown\n",
      "    toss = scipy.stats.bernoulli.rvs(posi_percent, loc=0, size=1, random_state=random.randint())\n",
      "Traceback (most recent call last):\n",
      "TypeError: randint() missing 2 required positional arguments: 'a' and 'b'\n",
      "  File \"/scratch/dmoi/condaenvs/ML2/lib/python3.9/multiprocessing/process.py\", line 315, in _bootstrap\n",
      "    self.run()\n",
      "  File \"/scratch/dmoi/condaenvs/ML2/lib/python3.9/multiprocessing/process.py\", line 108, in run\n",
      "    self._target(*self._args, **self._kwargs)\n",
      "  File \"/scratch/dmoi/condaenvs/ML2/lib/python3.9/multiprocessing/pool.py\", line 109, in worker\n",
      "    initializer(*initargs)\n",
      "  File \"/tmp/4730631/ipykernel_631294/4073675763.py\", line 13, in create_data_updown\n",
      "    toss = scipy.stats.bernoulli.rvs(posi_percent, loc=0, size=1, random_state=random.randint())\n",
      "TypeError: randint() missing 2 required positional arguments: 'a' and 'b'\n"
     ]
    },
    {
     "name": "stdout",
     "output_type": "stream",
     "text": [
      "dataset size 97133\n",
      "dataset size"
     ]
    },
    {
     "name": "stderr",
     "output_type": "stream",
     "text": [
      "Process ForkPoolWorker-681:\n",
      "Traceback (most recent call last):\n"
     ]
    },
    {
     "name": "stdout",
     "output_type": "stream",
     "text": [
      " "
     ]
    },
    {
     "name": "stderr",
     "output_type": "stream",
     "text": [
      "  File \"/scratch/dmoi/condaenvs/ML2/lib/python3.9/multiprocessing/process.py\", line 315, in _bootstrap\n",
      "    self.run()\n"
     ]
    },
    {
     "name": "stdout",
     "output_type": "stream",
     "text": [
      "389499\n"
     ]
    },
    {
     "name": "stderr",
     "output_type": "stream",
     "text": [
      "  File \"/scratch/dmoi/condaenvs/ML2/lib/python3.9/multiprocessing/process.py\", line 108, in run\n",
      "    self._target(*self._args, **self._kwargs)\n",
      "  File \"/scratch/dmoi/condaenvs/ML2/lib/python3.9/multiprocessing/pool.py\", line 109, in worker\n",
      "    initializer(*initargs)\n"
     ]
    },
    {
     "name": "stdout",
     "output_type": "stream",
     "text": [
      "dataset size"
     ]
    },
    {
     "name": "stderr",
     "output_type": "stream",
     "text": [
      "Process ForkPoolWorker-683:\n",
      "  File \"/tmp/4730631/ipykernel_631294/4073675763.py\", line 13, in create_data_updown\n",
      "    toss = scipy.stats.bernoulli.rvs(posi_percent, loc=0, size=1, random_state=random.randint())\n"
     ]
    },
    {
     "name": "stdout",
     "output_type": "stream",
     "text": [
      " "
     ]
    },
    {
     "name": "stderr",
     "output_type": "stream",
     "text": [
      "TypeError: randint() missing 2 required positional arguments: 'a' and 'b'\n",
      "Traceback (most recent call last):\n",
      "  File \"/scratch/dmoi/condaenvs/ML2/lib/python3.9/multiprocessing/process.py\", line 315, in _bootstrap\n",
      "    self.run()\n"
     ]
    },
    {
     "name": "stdout",
     "output_type": "stream",
     "text": [
      "97133"
     ]
    },
    {
     "name": "stderr",
     "output_type": "stream",
     "text": [
      "  File \"/scratch/dmoi/condaenvs/ML2/lib/python3.9/multiprocessing/process.py\", line 108, in run\n",
      "    self._target(*self._args, **self._kwargs)\n"
     ]
    },
    {
     "name": "stdout",
     "output_type": "stream",
     "text": [
      "\n"
     ]
    },
    {
     "name": "stderr",
     "output_type": "stream",
     "text": [
      "  File \"/scratch/dmoi/condaenvs/ML2/lib/python3.9/multiprocessing/pool.py\", line 109, in worker\n",
      "    initializer(*initargs)\n"
     ]
    },
    {
     "name": "stdout",
     "output_type": "stream",
     "text": [
      "dataset size"
     ]
    },
    {
     "name": "stderr",
     "output_type": "stream",
     "text": [
      "Process ForkPoolWorker-682:\n",
      "  File \"/tmp/4730631/ipykernel_631294/4073675763.py\", line 13, in create_data_updown\n",
      "    toss = scipy.stats.bernoulli.rvs(posi_percent, loc=0, size=1, random_state=random.randint())\n"
     ]
    },
    {
     "name": "stdout",
     "output_type": "stream",
     "text": [
      " "
     ]
    },
    {
     "name": "stderr",
     "output_type": "stream",
     "text": [
      "Traceback (most recent call last):\n",
      "TypeError: randint() missing 2 required positional arguments: 'a' and 'b'\n"
     ]
    },
    {
     "name": "stdout",
     "output_type": "stream",
     "text": [
      "389499"
     ]
    },
    {
     "name": "stderr",
     "output_type": "stream",
     "text": [
      "  File \"/scratch/dmoi/condaenvs/ML2/lib/python3.9/multiprocessing/process.py\", line 315, in _bootstrap\n",
      "    self.run()\n"
     ]
    },
    {
     "name": "stdout",
     "output_type": "stream",
     "text": [
      "\n"
     ]
    },
    {
     "name": "stderr",
     "output_type": "stream",
     "text": [
      "  File \"/scratch/dmoi/condaenvs/ML2/lib/python3.9/multiprocessing/process.py\", line 108, in run\n",
      "    self._target(*self._args, **self._kwargs)\n"
     ]
    },
    {
     "name": "stdout",
     "output_type": "stream",
     "text": [
      "dataset size"
     ]
    },
    {
     "name": "stderr",
     "output_type": "stream",
     "text": [
      "  File \"/scratch/dmoi/condaenvs/ML2/lib/python3.9/multiprocessing/pool.py\", line 109, in worker\n",
      "    initializer(*initargs)\n",
      "Process ForkPoolWorker-684:\n"
     ]
    },
    {
     "name": "stdout",
     "output_type": "stream",
     "text": [
      " "
     ]
    },
    {
     "name": "stderr",
     "output_type": "stream",
     "text": [
      "  File \"/tmp/4730631/ipykernel_631294/4073675763.py\", line 13, in create_data_updown\n",
      "    toss = scipy.stats.bernoulli.rvs(posi_percent, loc=0, size=1, random_state=random.randint())\n",
      "Traceback (most recent call last):\n"
     ]
    },
    {
     "name": "stdout",
     "output_type": "stream",
     "text": [
      "97133"
     ]
    },
    {
     "name": "stderr",
     "output_type": "stream",
     "text": [
      "TypeError: randint() missing 2 required positional arguments: 'a' and 'b'\n",
      "  File \"/scratch/dmoi/condaenvs/ML2/lib/python3.9/multiprocessing/process.py\", line 315, in _bootstrap\n",
      "    self.run()\n"
     ]
    },
    {
     "name": "stdout",
     "output_type": "stream",
     "text": [
      "\n"
     ]
    },
    {
     "name": "stderr",
     "output_type": "stream",
     "text": [
      "  File \"/scratch/dmoi/condaenvs/ML2/lib/python3.9/multiprocessing/process.py\", line 108, in run\n",
      "    self._target(*self._args, **self._kwargs)\n"
     ]
    },
    {
     "name": "stdout",
     "output_type": "stream",
     "text": [
      "dataset size"
     ]
    },
    {
     "name": "stderr",
     "output_type": "stream",
     "text": [
      "Process ForkPoolWorker-685:\n",
      "  File \"/scratch/dmoi/condaenvs/ML2/lib/python3.9/multiprocessing/pool.py\", line 109, in worker\n",
      "    initializer(*initargs)\n"
     ]
    },
    {
     "name": "stdout",
     "output_type": "stream",
     "text": [
      " "
     ]
    },
    {
     "name": "stderr",
     "output_type": "stream",
     "text": [
      "Traceback (most recent call last):\n",
      "  File \"/tmp/4730631/ipykernel_631294/4073675763.py\", line 13, in create_data_updown\n",
      "    toss = scipy.stats.bernoulli.rvs(posi_percent, loc=0, size=1, random_state=random.randint())\n"
     ]
    },
    {
     "name": "stdout",
     "output_type": "stream",
     "text": [
      "389499"
     ]
    },
    {
     "name": "stderr",
     "output_type": "stream",
     "text": [
      "  File \"/scratch/dmoi/condaenvs/ML2/lib/python3.9/multiprocessing/process.py\", line 315, in _bootstrap\n",
      "    self.run()\n",
      "TypeError: randint() missing 2 required positional arguments: 'a' and 'b'\n"
     ]
    },
    {
     "name": "stdout",
     "output_type": "stream",
     "text": [
      "\n"
     ]
    },
    {
     "name": "stderr",
     "output_type": "stream",
     "text": [
      "  File \"/scratch/dmoi/condaenvs/ML2/lib/python3.9/multiprocessing/process.py\", line 108, in run\n",
      "    self._target(*self._args, **self._kwargs)\n"
     ]
    },
    {
     "name": "stdout",
     "output_type": "stream",
     "text": [
      "dataset size"
     ]
    },
    {
     "name": "stderr",
     "output_type": "stream",
     "text": [
      "Process ForkPoolWorker-686:\n",
      "  File \"/scratch/dmoi/condaenvs/ML2/lib/python3.9/multiprocessing/pool.py\", line 109, in worker\n",
      "    initializer(*initargs)\n"
     ]
    },
    {
     "name": "stdout",
     "output_type": "stream",
     "text": [
      " "
     ]
    },
    {
     "name": "stderr",
     "output_type": "stream",
     "text": [
      "  File \"/tmp/4730631/ipykernel_631294/4073675763.py\", line 13, in create_data_updown\n",
      "    toss = scipy.stats.bernoulli.rvs(posi_percent, loc=0, size=1, random_state=random.randint())\n",
      "Traceback (most recent call last):\n"
     ]
    },
    {
     "name": "stdout",
     "output_type": "stream",
     "text": [
      "97133"
     ]
    },
    {
     "name": "stderr",
     "output_type": "stream",
     "text": [
      "  File \"/scratch/dmoi/condaenvs/ML2/lib/python3.9/multiprocessing/process.py\", line 315, in _bootstrap\n",
      "    self.run()\n",
      "TypeError: randint() missing 2 required positional arguments: 'a' and 'b'\n"
     ]
    },
    {
     "name": "stdout",
     "output_type": "stream",
     "text": [
      "\n"
     ]
    },
    {
     "name": "stderr",
     "output_type": "stream",
     "text": [
      "  File \"/scratch/dmoi/condaenvs/ML2/lib/python3.9/multiprocessing/process.py\", line 108, in run\n",
      "    self._target(*self._args, **self._kwargs)\n"
     ]
    },
    {
     "name": "stdout",
     "output_type": "stream",
     "text": [
      "dataset size"
     ]
    },
    {
     "name": "stderr",
     "output_type": "stream",
     "text": [
      "  File \"/scratch/dmoi/condaenvs/ML2/lib/python3.9/multiprocessing/pool.py\", line 109, in worker\n",
      "    initializer(*initargs)\n",
      "Process ForkPoolWorker-687:\n"
     ]
    },
    {
     "name": "stdout",
     "output_type": "stream",
     "text": [
      " "
     ]
    },
    {
     "name": "stderr",
     "output_type": "stream",
     "text": [
      "  File \"/tmp/4730631/ipykernel_631294/4073675763.py\", line 13, in create_data_updown\n",
      "    toss = scipy.stats.bernoulli.rvs(posi_percent, loc=0, size=1, random_state=random.randint())\n",
      "Traceback (most recent call last):\n"
     ]
    },
    {
     "name": "stdout",
     "output_type": "stream",
     "text": [
      "389499"
     ]
    },
    {
     "name": "stderr",
     "output_type": "stream",
     "text": [
      "TypeError: randint() missing 2 required positional arguments: 'a' and 'b'\n",
      "  File \"/scratch/dmoi/condaenvs/ML2/lib/python3.9/multiprocessing/process.py\", line 315, in _bootstrap\n",
      "    self.run()\n",
      "  File \"/scratch/dmoi/condaenvs/ML2/lib/python3.9/multiprocessing/process.py\", line 108, in run\n",
      "    self._target(*self._args, **self._kwargs)\n"
     ]
    },
    {
     "name": "stdout",
     "output_type": "stream",
     "text": [
      "\n"
     ]
    },
    {
     "name": "stderr",
     "output_type": "stream",
     "text": [
      "  File \"/scratch/dmoi/condaenvs/ML2/lib/python3.9/multiprocessing/pool.py\", line 109, in worker\n",
      "    initializer(*initargs)\n",
      "Process ForkPoolWorker-688:\n",
      "  File \"/tmp/4730631/ipykernel_631294/4073675763.py\", line 13, in create_data_updown\n",
      "    toss = scipy.stats.bernoulli.rvs(posi_percent, loc=0, size=1, random_state=random.randint())\n",
      "TypeError: randint() missing 2 required positional arguments: 'a' and 'b'\n",
      "Traceback (most recent call last):\n",
      "  File \"/scratch/dmoi/condaenvs/ML2/lib/python3.9/multiprocessing/process.py\", line 315, in _bootstrap\n",
      "    self.run()\n",
      "  File \"/scratch/dmoi/condaenvs/ML2/lib/python3.9/multiprocessing/process.py\", line 108, in run\n",
      "    self._target(*self._args, **self._kwargs)\n",
      "  File \"/scratch/dmoi/condaenvs/ML2/lib/python3.9/multiprocessing/pool.py\", line 109, in worker\n",
      "    initializer(*initargs)\n",
      "  File \"/tmp/4730631/ipykernel_631294/4073675763.py\", line 13, in create_data_updown\n",
      "    toss = scipy.stats.bernoulli.rvs(posi_percent, loc=0, size=1, random_state=random.randint())\n",
      "TypeError: randint() missing 2 required positional arguments: 'a' and 'b'\n"
     ]
    },
    {
     "name": "stdout",
     "output_type": "stream",
     "text": [
      "dataset size 97133\n"
     ]
    },
    {
     "name": "stderr",
     "output_type": "stream",
     "text": [
      "Process ForkPoolWorker-689:\n"
     ]
    },
    {
     "name": "stdout",
     "output_type": "stream",
     "text": [
      "dataset size "
     ]
    },
    {
     "name": "stderr",
     "output_type": "stream",
     "text": [
      "Traceback (most recent call last):\n",
      "  File \"/scratch/dmoi/condaenvs/ML2/lib/python3.9/multiprocessing/process.py\", line 315, in _bootstrap\n",
      "    self.run()\n"
     ]
    },
    {
     "name": "stdout",
     "output_type": "stream",
     "text": [
      "389499\n"
     ]
    },
    {
     "name": "stderr",
     "output_type": "stream",
     "text": [
      "  File \"/scratch/dmoi/condaenvs/ML2/lib/python3.9/multiprocessing/process.py\", line 108, in run\n",
      "    self._target(*self._args, **self._kwargs)\n",
      "  File \"/scratch/dmoi/condaenvs/ML2/lib/python3.9/multiprocessing/pool.py\", line 109, in worker\n",
      "    initializer(*initargs)\n"
     ]
    },
    {
     "name": "stdout",
     "output_type": "stream",
     "text": [
      "dataset size "
     ]
    },
    {
     "name": "stderr",
     "output_type": "stream",
     "text": [
      "  File \"/tmp/4730631/ipykernel_631294/4073675763.py\", line 13, in create_data_updown\n",
      "    toss = scipy.stats.bernoulli.rvs(posi_percent, loc=0, size=1, random_state=random.randint())\n",
      "Process ForkPoolWorker-690:\n",
      "TypeError: randint() missing 2 required positional arguments: 'a' and 'b'\n"
     ]
    },
    {
     "name": "stdout",
     "output_type": "stream",
     "text": [
      "97133"
     ]
    },
    {
     "name": "stderr",
     "output_type": "stream",
     "text": [
      "Traceback (most recent call last):\n"
     ]
    },
    {
     "name": "stdout",
     "output_type": "stream",
     "text": [
      "\n"
     ]
    },
    {
     "name": "stderr",
     "output_type": "stream",
     "text": [
      "  File \"/scratch/dmoi/condaenvs/ML2/lib/python3.9/multiprocessing/process.py\", line 315, in _bootstrap\n",
      "    self.run()\n"
     ]
    },
    {
     "name": "stdout",
     "output_type": "stream",
     "text": [
      "dataset size"
     ]
    },
    {
     "name": "stderr",
     "output_type": "stream",
     "text": [
      "Process ForkPoolWorker-691:\n",
      "  File \"/scratch/dmoi/condaenvs/ML2/lib/python3.9/multiprocessing/process.py\", line 108, in run\n",
      "    self._target(*self._args, **self._kwargs)\n"
     ]
    },
    {
     "name": "stdout",
     "output_type": "stream",
     "text": [
      " "
     ]
    },
    {
     "name": "stderr",
     "output_type": "stream",
     "text": [
      "Traceback (most recent call last):\n",
      "  File \"/scratch/dmoi/condaenvs/ML2/lib/python3.9/multiprocessing/pool.py\", line 109, in worker\n",
      "    initializer(*initargs)\n"
     ]
    },
    {
     "name": "stdout",
     "output_type": "stream",
     "text": [
      "389499"
     ]
    },
    {
     "name": "stderr",
     "output_type": "stream",
     "text": [
      "  File \"/scratch/dmoi/condaenvs/ML2/lib/python3.9/multiprocessing/process.py\", line 315, in _bootstrap\n",
      "    self.run()\n",
      "  File \"/tmp/4730631/ipykernel_631294/4073675763.py\", line 13, in create_data_updown\n",
      "    toss = scipy.stats.bernoulli.rvs(posi_percent, loc=0, size=1, random_state=random.randint())\n"
     ]
    },
    {
     "name": "stdout",
     "output_type": "stream",
     "text": [
      "\n"
     ]
    },
    {
     "name": "stderr",
     "output_type": "stream",
     "text": [
      "  File \"/scratch/dmoi/condaenvs/ML2/lib/python3.9/multiprocessing/process.py\", line 108, in run\n",
      "    self._target(*self._args, **self._kwargs)\n"
     ]
    },
    {
     "name": "stdout",
     "output_type": "stream",
     "text": [
      "dataset size"
     ]
    },
    {
     "name": "stderr",
     "output_type": "stream",
     "text": [
      "TypeError: randint() missing 2 required positional arguments: 'a' and 'b'\n",
      "  File \"/scratch/dmoi/condaenvs/ML2/lib/python3.9/multiprocessing/pool.py\", line 109, in worker\n",
      "    initializer(*initargs)\n",
      "  File \"/tmp/4730631/ipykernel_631294/4073675763.py\", line 13, in create_data_updown\n",
      "    toss = scipy.stats.bernoulli.rvs(posi_percent, loc=0, size=1, random_state=random.randint())\n",
      "Process ForkPoolWorker-692:\n"
     ]
    },
    {
     "name": "stdout",
     "output_type": "stream",
     "text": [
      " "
     ]
    },
    {
     "name": "stderr",
     "output_type": "stream",
     "text": [
      "TypeError: randint() missing 2 required positional arguments: 'a' and 'b'\n",
      "Traceback (most recent call last):\n"
     ]
    },
    {
     "name": "stdout",
     "output_type": "stream",
     "text": [
      "97133"
     ]
    },
    {
     "name": "stderr",
     "output_type": "stream",
     "text": [
      "  File \"/scratch/dmoi/condaenvs/ML2/lib/python3.9/multiprocessing/process.py\", line 315, in _bootstrap\n",
      "    self.run()\n",
      "  File \"/scratch/dmoi/condaenvs/ML2/lib/python3.9/multiprocessing/process.py\", line 108, in run\n",
      "    self._target(*self._args, **self._kwargs)\n"
     ]
    },
    {
     "name": "stdout",
     "output_type": "stream",
     "text": [
      "\n"
     ]
    },
    {
     "name": "stderr",
     "output_type": "stream",
     "text": [
      "  File \"/scratch/dmoi/condaenvs/ML2/lib/python3.9/multiprocessing/pool.py\", line 109, in worker\n",
      "    initializer(*initargs)\n"
     ]
    },
    {
     "name": "stdout",
     "output_type": "stream",
     "text": [
      "dataset size"
     ]
    },
    {
     "name": "stderr",
     "output_type": "stream",
     "text": [
      "Process ForkPoolWorker-693:\n"
     ]
    },
    {
     "name": "stdout",
     "output_type": "stream",
     "text": [
      " "
     ]
    },
    {
     "name": "stderr",
     "output_type": "stream",
     "text": [
      "  File \"/tmp/4730631/ipykernel_631294/4073675763.py\", line 13, in create_data_updown\n",
      "    toss = scipy.stats.bernoulli.rvs(posi_percent, loc=0, size=1, random_state=random.randint())\n",
      "Traceback (most recent call last):\n",
      "TypeError: randint() missing 2 required positional arguments: 'a' and 'b'\n"
     ]
    },
    {
     "name": "stdout",
     "output_type": "stream",
     "text": [
      "389499"
     ]
    },
    {
     "name": "stderr",
     "output_type": "stream",
     "text": [
      "  File \"/scratch/dmoi/condaenvs/ML2/lib/python3.9/multiprocessing/process.py\", line 315, in _bootstrap\n",
      "    self.run()\n"
     ]
    },
    {
     "name": "stdout",
     "output_type": "stream",
     "text": [
      "\n"
     ]
    },
    {
     "name": "stderr",
     "output_type": "stream",
     "text": [
      "  File \"/scratch/dmoi/condaenvs/ML2/lib/python3.9/multiprocessing/process.py\", line 108, in run\n",
      "    self._target(*self._args, **self._kwargs)\n"
     ]
    },
    {
     "name": "stdout",
     "output_type": "stream",
     "text": [
      "dataset size"
     ]
    },
    {
     "name": "stderr",
     "output_type": "stream",
     "text": [
      "  File \"/scratch/dmoi/condaenvs/ML2/lib/python3.9/multiprocessing/pool.py\", line 109, in worker\n",
      "    initializer(*initargs)\n",
      "Process ForkPoolWorker-694:\n"
     ]
    },
    {
     "name": "stdout",
     "output_type": "stream",
     "text": [
      " "
     ]
    },
    {
     "name": "stderr",
     "output_type": "stream",
     "text": [
      "  File \"/tmp/4730631/ipykernel_631294/4073675763.py\", line 13, in create_data_updown\n",
      "    toss = scipy.stats.bernoulli.rvs(posi_percent, loc=0, size=1, random_state=random.randint())\n",
      "Traceback (most recent call last):\n"
     ]
    },
    {
     "name": "stdout",
     "output_type": "stream",
     "text": [
      "97133"
     ]
    },
    {
     "name": "stderr",
     "output_type": "stream",
     "text": [
      "TypeError: randint() missing 2 required positional arguments: 'a' and 'b'\n",
      "  File \"/scratch/dmoi/condaenvs/ML2/lib/python3.9/multiprocessing/process.py\", line 315, in _bootstrap\n",
      "    self.run()\n"
     ]
    },
    {
     "name": "stdout",
     "output_type": "stream",
     "text": [
      "\n"
     ]
    },
    {
     "name": "stderr",
     "output_type": "stream",
     "text": [
      "  File \"/scratch/dmoi/condaenvs/ML2/lib/python3.9/multiprocessing/process.py\", line 108, in run\n",
      "    self._target(*self._args, **self._kwargs)\n"
     ]
    },
    {
     "name": "stdout",
     "output_type": "stream",
     "text": [
      "dataset size"
     ]
    },
    {
     "name": "stderr",
     "output_type": "stream",
     "text": [
      "Process ForkPoolWorker-695:\n",
      "  File \"/scratch/dmoi/condaenvs/ML2/lib/python3.9/multiprocessing/pool.py\", line 109, in worker\n",
      "    initializer(*initargs)\n"
     ]
    },
    {
     "name": "stdout",
     "output_type": "stream",
     "text": [
      " "
     ]
    },
    {
     "name": "stderr",
     "output_type": "stream",
     "text": [
      "  File \"/tmp/4730631/ipykernel_631294/4073675763.py\", line 13, in create_data_updown\n",
      "    toss = scipy.stats.bernoulli.rvs(posi_percent, loc=0, size=1, random_state=random.randint())\n",
      "Traceback (most recent call last):\n",
      "  File \"/scratch/dmoi/condaenvs/ML2/lib/python3.9/multiprocessing/process.py\", line 315, in _bootstrap\n",
      "    self.run()\n",
      "TypeError: randint() missing 2 required positional arguments: 'a' and 'b'\n"
     ]
    },
    {
     "name": "stdout",
     "output_type": "stream",
     "text": [
      "389499\n"
     ]
    },
    {
     "name": "stderr",
     "output_type": "stream",
     "text": [
      "  File \"/scratch/dmoi/condaenvs/ML2/lib/python3.9/multiprocessing/process.py\", line 108, in run\n",
      "    self._target(*self._args, **self._kwargs)\n",
      "  File \"/scratch/dmoi/condaenvs/ML2/lib/python3.9/multiprocessing/pool.py\", line 109, in worker\n",
      "    initializer(*initargs)\n",
      "Process ForkPoolWorker-696:\n",
      "  File \"/tmp/4730631/ipykernel_631294/4073675763.py\", line 13, in create_data_updown\n",
      "    toss = scipy.stats.bernoulli.rvs(posi_percent, loc=0, size=1, random_state=random.randint())\n",
      "Traceback (most recent call last):\n",
      "TypeError: randint() missing 2 required positional arguments: 'a' and 'b'\n",
      "  File \"/scratch/dmoi/condaenvs/ML2/lib/python3.9/multiprocessing/process.py\", line 315, in _bootstrap\n",
      "    self.run()\n",
      "  File \"/scratch/dmoi/condaenvs/ML2/lib/python3.9/multiprocessing/process.py\", line 108, in run\n",
      "    self._target(*self._args, **self._kwargs)\n",
      "  File \"/scratch/dmoi/condaenvs/ML2/lib/python3.9/multiprocessing/pool.py\", line 109, in worker\n",
      "    initializer(*initargs)\n",
      "  File \"/tmp/4730631/ipykernel_631294/4073675763.py\", line 13, in create_data_updown\n",
      "    toss = scipy.stats.bernoulli.rvs(posi_percent, loc=0, size=1, random_state=random.randint())\n",
      "TypeError: randint() missing 2 required positional arguments: 'a' and 'b'\n"
     ]
    },
    {
     "name": "stdout",
     "output_type": "stream",
     "text": [
      "dataset size 97133\n",
      "dataset size"
     ]
    },
    {
     "name": "stderr",
     "output_type": "stream",
     "text": [
      "Process ForkPoolWorker-697:\n",
      "Traceback (most recent call last):\n"
     ]
    },
    {
     "name": "stdout",
     "output_type": "stream",
     "text": [
      " "
     ]
    },
    {
     "name": "stderr",
     "output_type": "stream",
     "text": [
      "  File \"/scratch/dmoi/condaenvs/ML2/lib/python3.9/multiprocessing/process.py\", line 315, in _bootstrap\n",
      "    self.run()\n"
     ]
    },
    {
     "name": "stdout",
     "output_type": "stream",
     "text": [
      "389499"
     ]
    },
    {
     "name": "stderr",
     "output_type": "stream",
     "text": [
      "  File \"/scratch/dmoi/condaenvs/ML2/lib/python3.9/multiprocessing/process.py\", line 108, in run\n",
      "    self._target(*self._args, **self._kwargs)\n"
     ]
    },
    {
     "name": "stdout",
     "output_type": "stream",
     "text": [
      "\n",
      "dataset size"
     ]
    },
    {
     "name": "stderr",
     "output_type": "stream",
     "text": [
      "  File \"/scratch/dmoi/condaenvs/ML2/lib/python3.9/multiprocessing/pool.py\", line 109, in worker\n",
      "    initializer(*initargs)\n",
      "  File \"/tmp/4730631/ipykernel_631294/4073675763.py\", line 13, in create_data_updown\n",
      "    toss = scipy.stats.bernoulli.rvs(posi_percent, loc=0, size=1, random_state=random.randint())\n"
     ]
    },
    {
     "name": "stdout",
     "output_type": "stream",
     "text": [
      " "
     ]
    },
    {
     "name": "stderr",
     "output_type": "stream",
     "text": [
      "Process ForkPoolWorker-699:\n",
      "TypeError: randint() missing 2 required positional arguments: 'a' and 'b'\n"
     ]
    },
    {
     "name": "stdout",
     "output_type": "stream",
     "text": [
      "97133"
     ]
    },
    {
     "name": "stderr",
     "output_type": "stream",
     "text": [
      "Traceback (most recent call last):\n"
     ]
    },
    {
     "name": "stdout",
     "output_type": "stream",
     "text": [
      "\n"
     ]
    },
    {
     "name": "stderr",
     "output_type": "stream",
     "text": [
      "  File \"/scratch/dmoi/condaenvs/ML2/lib/python3.9/multiprocessing/process.py\", line 315, in _bootstrap\n",
      "    self.run()\n"
     ]
    },
    {
     "name": "stdout",
     "output_type": "stream",
     "text": [
      "dataset size"
     ]
    },
    {
     "name": "stderr",
     "output_type": "stream",
     "text": [
      "Process ForkPoolWorker-698:\n",
      "  File \"/scratch/dmoi/condaenvs/ML2/lib/python3.9/multiprocessing/process.py\", line 108, in run\n",
      "    self._target(*self._args, **self._kwargs)\n"
     ]
    },
    {
     "name": "stdout",
     "output_type": "stream",
     "text": [
      " "
     ]
    },
    {
     "name": "stderr",
     "output_type": "stream",
     "text": [
      "Traceback (most recent call last):\n",
      "  File \"/scratch/dmoi/condaenvs/ML2/lib/python3.9/multiprocessing/pool.py\", line 109, in worker\n",
      "    initializer(*initargs)\n"
     ]
    },
    {
     "name": "stdout",
     "output_type": "stream",
     "text": [
      "389499"
     ]
    },
    {
     "name": "stderr",
     "output_type": "stream",
     "text": [
      "  File \"/scratch/dmoi/condaenvs/ML2/lib/python3.9/multiprocessing/process.py\", line 315, in _bootstrap\n",
      "    self.run()\n"
     ]
    },
    {
     "name": "stdout",
     "output_type": "stream",
     "text": [
      "\n"
     ]
    },
    {
     "name": "stderr",
     "output_type": "stream",
     "text": [
      "  File \"/tmp/4730631/ipykernel_631294/4073675763.py\", line 13, in create_data_updown\n",
      "    toss = scipy.stats.bernoulli.rvs(posi_percent, loc=0, size=1, random_state=random.randint())\n",
      "  File \"/scratch/dmoi/condaenvs/ML2/lib/python3.9/multiprocessing/process.py\", line 108, in run\n",
      "    self._target(*self._args, **self._kwargs)\n"
     ]
    },
    {
     "name": "stdout",
     "output_type": "stream",
     "text": [
      "dataset size"
     ]
    },
    {
     "name": "stderr",
     "output_type": "stream",
     "text": [
      "TypeError: randint() missing 2 required positional arguments: 'a' and 'b'\n",
      "  File \"/scratch/dmoi/condaenvs/ML2/lib/python3.9/multiprocessing/pool.py\", line 109, in worker\n",
      "    initializer(*initargs)\n",
      "Process ForkPoolWorker-700:\n",
      "  File \"/tmp/4730631/ipykernel_631294/4073675763.py\", line 13, in create_data_updown\n",
      "    toss = scipy.stats.bernoulli.rvs(posi_percent, loc=0, size=1, random_state=random.randint())\n"
     ]
    },
    {
     "name": "stdout",
     "output_type": "stream",
     "text": [
      " "
     ]
    },
    {
     "name": "stderr",
     "output_type": "stream",
     "text": [
      "Traceback (most recent call last):\n",
      "TypeError: randint() missing 2 required positional arguments: 'a' and 'b'\n"
     ]
    },
    {
     "name": "stdout",
     "output_type": "stream",
     "text": [
      "97133"
     ]
    },
    {
     "name": "stderr",
     "output_type": "stream",
     "text": [
      "  File \"/scratch/dmoi/condaenvs/ML2/lib/python3.9/multiprocessing/process.py\", line 315, in _bootstrap\n",
      "    self.run()\n"
     ]
    },
    {
     "name": "stdout",
     "output_type": "stream",
     "text": [
      "\n"
     ]
    },
    {
     "name": "stderr",
     "output_type": "stream",
     "text": [
      "  File \"/scratch/dmoi/condaenvs/ML2/lib/python3.9/multiprocessing/process.py\", line 108, in run\n",
      "    self._target(*self._args, **self._kwargs)\n"
     ]
    },
    {
     "name": "stdout",
     "output_type": "stream",
     "text": [
      "dataset size"
     ]
    },
    {
     "name": "stderr",
     "output_type": "stream",
     "text": [
      "Process ForkPoolWorker-701:\n",
      "  File \"/scratch/dmoi/condaenvs/ML2/lib/python3.9/multiprocessing/pool.py\", line 109, in worker\n",
      "    initializer(*initargs)\n"
     ]
    },
    {
     "name": "stdout",
     "output_type": "stream",
     "text": [
      " "
     ]
    },
    {
     "name": "stderr",
     "output_type": "stream",
     "text": [
      "Traceback (most recent call last):\n",
      "  File \"/tmp/4730631/ipykernel_631294/4073675763.py\", line 13, in create_data_updown\n",
      "    toss = scipy.stats.bernoulli.rvs(posi_percent, loc=0, size=1, random_state=random.randint())\n"
     ]
    },
    {
     "name": "stdout",
     "output_type": "stream",
     "text": [
      "389499"
     ]
    },
    {
     "name": "stderr",
     "output_type": "stream",
     "text": [
      "  File \"/scratch/dmoi/condaenvs/ML2/lib/python3.9/multiprocessing/process.py\", line 315, in _bootstrap\n",
      "    self.run()\n",
      "TypeError: randint() missing 2 required positional arguments: 'a' and 'b'\n"
     ]
    },
    {
     "name": "stdout",
     "output_type": "stream",
     "text": [
      "\n"
     ]
    },
    {
     "name": "stderr",
     "output_type": "stream",
     "text": [
      "  File \"/scratch/dmoi/condaenvs/ML2/lib/python3.9/multiprocessing/process.py\", line 108, in run\n",
      "    self._target(*self._args, **self._kwargs)\n"
     ]
    },
    {
     "name": "stdout",
     "output_type": "stream",
     "text": [
      "dataset size"
     ]
    },
    {
     "name": "stderr",
     "output_type": "stream",
     "text": [
      "  File \"/scratch/dmoi/condaenvs/ML2/lib/python3.9/multiprocessing/pool.py\", line 109, in worker\n",
      "    initializer(*initargs)\n",
      "Process ForkPoolWorker-702:\n"
     ]
    },
    {
     "name": "stdout",
     "output_type": "stream",
     "text": [
      " "
     ]
    },
    {
     "name": "stderr",
     "output_type": "stream",
     "text": [
      "  File \"/tmp/4730631/ipykernel_631294/4073675763.py\", line 13, in create_data_updown\n",
      "    toss = scipy.stats.bernoulli.rvs(posi_percent, loc=0, size=1, random_state=random.randint())\n",
      "Traceback (most recent call last):\n"
     ]
    },
    {
     "name": "stdout",
     "output_type": "stream",
     "text": [
      "97133"
     ]
    },
    {
     "name": "stderr",
     "output_type": "stream",
     "text": [
      "TypeError: randint() missing 2 required positional arguments: 'a' and 'b'\n",
      "  File \"/scratch/dmoi/condaenvs/ML2/lib/python3.9/multiprocessing/process.py\", line 315, in _bootstrap\n",
      "    self.run()\n"
     ]
    },
    {
     "name": "stdout",
     "output_type": "stream",
     "text": [
      "\n"
     ]
    },
    {
     "name": "stderr",
     "output_type": "stream",
     "text": [
      "  File \"/scratch/dmoi/condaenvs/ML2/lib/python3.9/multiprocessing/process.py\", line 108, in run\n",
      "    self._target(*self._args, **self._kwargs)\n",
      "Process ForkPoolWorker-703:\n"
     ]
    },
    {
     "name": "stdout",
     "output_type": "stream",
     "text": [
      "dataset size"
     ]
    },
    {
     "name": "stderr",
     "output_type": "stream",
     "text": [
      "  File \"/scratch/dmoi/condaenvs/ML2/lib/python3.9/multiprocessing/pool.py\", line 109, in worker\n",
      "    initializer(*initargs)\n"
     ]
    },
    {
     "name": "stdout",
     "output_type": "stream",
     "text": [
      " "
     ]
    },
    {
     "name": "stderr",
     "output_type": "stream",
     "text": [
      "Traceback (most recent call last):\n",
      "  File \"/tmp/4730631/ipykernel_631294/4073675763.py\", line 13, in create_data_updown\n",
      "    toss = scipy.stats.bernoulli.rvs(posi_percent, loc=0, size=1, random_state=random.randint())\n",
      "  File \"/scratch/dmoi/condaenvs/ML2/lib/python3.9/multiprocessing/process.py\", line 315, in _bootstrap\n",
      "    self.run()\n"
     ]
    },
    {
     "name": "stdout",
     "output_type": "stream",
     "text": [
      "389499"
     ]
    },
    {
     "name": "stderr",
     "output_type": "stream",
     "text": [
      "TypeError: randint() missing 2 required positional arguments: 'a' and 'b'\n"
     ]
    },
    {
     "name": "stdout",
     "output_type": "stream",
     "text": [
      "\n"
     ]
    },
    {
     "name": "stderr",
     "output_type": "stream",
     "text": [
      "  File \"/scratch/dmoi/condaenvs/ML2/lib/python3.9/multiprocessing/process.py\", line 108, in run\n",
      "    self._target(*self._args, **self._kwargs)\n",
      "  File \"/scratch/dmoi/condaenvs/ML2/lib/python3.9/multiprocessing/pool.py\", line 109, in worker\n",
      "    initializer(*initargs)\n",
      "Process ForkPoolWorker-704:\n",
      "  File \"/tmp/4730631/ipykernel_631294/4073675763.py\", line 13, in create_data_updown\n",
      "    toss = scipy.stats.bernoulli.rvs(posi_percent, loc=0, size=1, random_state=random.randint())\n",
      "TypeError: randint() missing 2 required positional arguments: 'a' and 'b'\n",
      "Traceback (most recent call last):\n",
      "  File \"/scratch/dmoi/condaenvs/ML2/lib/python3.9/multiprocessing/process.py\", line 315, in _bootstrap\n",
      "    self.run()\n",
      "  File \"/scratch/dmoi/condaenvs/ML2/lib/python3.9/multiprocessing/process.py\", line 108, in run\n",
      "    self._target(*self._args, **self._kwargs)\n",
      "  File \"/scratch/dmoi/condaenvs/ML2/lib/python3.9/multiprocessing/pool.py\", line 109, in worker\n",
      "    initializer(*initargs)\n",
      "  File \"/tmp/4730631/ipykernel_631294/4073675763.py\", line 13, in create_data_updown\n",
      "    toss = scipy.stats.bernoulli.rvs(posi_percent, loc=0, size=1, random_state=random.randint())\n",
      "TypeError: randint() missing 2 required positional arguments: 'a' and 'b'\n"
     ]
    },
    {
     "name": "stdout",
     "output_type": "stream",
     "text": [
      "dataset size 97133\n"
     ]
    },
    {
     "name": "stderr",
     "output_type": "stream",
     "text": [
      "Process ForkPoolWorker-705:\n"
     ]
    },
    {
     "name": "stdout",
     "output_type": "stream",
     "text": [
      "dataset size "
     ]
    },
    {
     "name": "stderr",
     "output_type": "stream",
     "text": [
      "Traceback (most recent call last):\n",
      "  File \"/scratch/dmoi/condaenvs/ML2/lib/python3.9/multiprocessing/process.py\", line 315, in _bootstrap\n",
      "    self.run()\n"
     ]
    },
    {
     "name": "stdout",
     "output_type": "stream",
     "text": [
      "389499"
     ]
    },
    {
     "name": "stderr",
     "output_type": "stream",
     "text": [
      "  File \"/scratch/dmoi/condaenvs/ML2/lib/python3.9/multiprocessing/process.py\", line 108, in run\n",
      "    self._target(*self._args, **self._kwargs)\n"
     ]
    },
    {
     "name": "stdout",
     "output_type": "stream",
     "text": [
      "\n"
     ]
    },
    {
     "name": "stderr",
     "output_type": "stream",
     "text": [
      "  File \"/scratch/dmoi/condaenvs/ML2/lib/python3.9/multiprocessing/pool.py\", line 109, in worker\n",
      "    initializer(*initargs)\n"
     ]
    },
    {
     "name": "stdout",
     "output_type": "stream",
     "text": [
      "dataset size"
     ]
    },
    {
     "name": "stderr",
     "output_type": "stream",
     "text": [
      "  File \"/tmp/4730631/ipykernel_631294/4073675763.py\", line 13, in create_data_updown\n",
      "    toss = scipy.stats.bernoulli.rvs(posi_percent, loc=0, size=1, random_state=random.randint())\n"
     ]
    },
    {
     "name": "stdout",
     "output_type": "stream",
     "text": [
      " "
     ]
    },
    {
     "name": "stderr",
     "output_type": "stream",
     "text": [
      "Process ForkPoolWorker-707:\n",
      "TypeError: randint() missing 2 required positional arguments: 'a' and 'b'\n"
     ]
    },
    {
     "name": "stdout",
     "output_type": "stream",
     "text": [
      "97133"
     ]
    },
    {
     "name": "stderr",
     "output_type": "stream",
     "text": [
      "Traceback (most recent call last):\n"
     ]
    },
    {
     "name": "stdout",
     "output_type": "stream",
     "text": [
      "\n"
     ]
    },
    {
     "name": "stderr",
     "output_type": "stream",
     "text": [
      "  File \"/scratch/dmoi/condaenvs/ML2/lib/python3.9/multiprocessing/process.py\", line 315, in _bootstrap\n",
      "    self.run()\n"
     ]
    },
    {
     "name": "stdout",
     "output_type": "stream",
     "text": [
      "dataset size"
     ]
    },
    {
     "name": "stderr",
     "output_type": "stream",
     "text": [
      "Process ForkPoolWorker-706:\n",
      "  File \"/scratch/dmoi/condaenvs/ML2/lib/python3.9/multiprocessing/process.py\", line 108, in run\n",
      "    self._target(*self._args, **self._kwargs)\n"
     ]
    },
    {
     "name": "stdout",
     "output_type": "stream",
     "text": [
      " "
     ]
    },
    {
     "name": "stderr",
     "output_type": "stream",
     "text": [
      "Traceback (most recent call last):\n",
      "  File \"/scratch/dmoi/condaenvs/ML2/lib/python3.9/multiprocessing/pool.py\", line 109, in worker\n",
      "    initializer(*initargs)\n"
     ]
    },
    {
     "name": "stdout",
     "output_type": "stream",
     "text": [
      "389499"
     ]
    },
    {
     "name": "stderr",
     "output_type": "stream",
     "text": [
      "  File \"/scratch/dmoi/condaenvs/ML2/lib/python3.9/multiprocessing/process.py\", line 315, in _bootstrap\n",
      "    self.run()\n",
      "  File \"/tmp/4730631/ipykernel_631294/4073675763.py\", line 13, in create_data_updown\n",
      "    toss = scipy.stats.bernoulli.rvs(posi_percent, loc=0, size=1, random_state=random.randint())\n"
     ]
    },
    {
     "name": "stdout",
     "output_type": "stream",
     "text": [
      "\n"
     ]
    },
    {
     "name": "stderr",
     "output_type": "stream",
     "text": [
      "  File \"/scratch/dmoi/condaenvs/ML2/lib/python3.9/multiprocessing/process.py\", line 108, in run\n",
      "    self._target(*self._args, **self._kwargs)\n",
      "TypeError: randint() missing 2 required positional arguments: 'a' and 'b'\n"
     ]
    },
    {
     "name": "stdout",
     "output_type": "stream",
     "text": [
      "dataset size"
     ]
    },
    {
     "name": "stderr",
     "output_type": "stream",
     "text": [
      "  File \"/scratch/dmoi/condaenvs/ML2/lib/python3.9/multiprocessing/pool.py\", line 109, in worker\n",
      "    initializer(*initargs)\n"
     ]
    },
    {
     "name": "stdout",
     "output_type": "stream",
     "text": [
      " "
     ]
    },
    {
     "name": "stderr",
     "output_type": "stream",
     "text": [
      "Process ForkPoolWorker-708:\n",
      "  File \"/tmp/4730631/ipykernel_631294/4073675763.py\", line 13, in create_data_updown\n",
      "    toss = scipy.stats.bernoulli.rvs(posi_percent, loc=0, size=1, random_state=random.randint())\n"
     ]
    },
    {
     "name": "stdout",
     "output_type": "stream",
     "text": [
      "97133"
     ]
    },
    {
     "name": "stderr",
     "output_type": "stream",
     "text": [
      "Traceback (most recent call last):\n",
      "TypeError: randint() missing 2 required positional arguments: 'a' and 'b'\n"
     ]
    },
    {
     "name": "stdout",
     "output_type": "stream",
     "text": [
      "\n"
     ]
    },
    {
     "name": "stderr",
     "output_type": "stream",
     "text": [
      "  File \"/scratch/dmoi/condaenvs/ML2/lib/python3.9/multiprocessing/process.py\", line 315, in _bootstrap\n",
      "    self.run()\n"
     ]
    },
    {
     "name": "stdout",
     "output_type": "stream",
     "text": [
      "dataset size"
     ]
    },
    {
     "name": "stderr",
     "output_type": "stream",
     "text": [
      "  File \"/scratch/dmoi/condaenvs/ML2/lib/python3.9/multiprocessing/process.py\", line 108, in run\n",
      "    self._target(*self._args, **self._kwargs)\n",
      "Process ForkPoolWorker-710:\n"
     ]
    },
    {
     "name": "stdout",
     "output_type": "stream",
     "text": [
      " "
     ]
    },
    {
     "name": "stderr",
     "output_type": "stream",
     "text": [
      "  File \"/scratch/dmoi/condaenvs/ML2/lib/python3.9/multiprocessing/pool.py\", line 109, in worker\n",
      "    initializer(*initargs)\n",
      "Traceback (most recent call last):\n"
     ]
    },
    {
     "name": "stdout",
     "output_type": "stream",
     "text": [
      "389499"
     ]
    },
    {
     "name": "stderr",
     "output_type": "stream",
     "text": [
      "  File \"/tmp/4730631/ipykernel_631294/4073675763.py\", line 13, in create_data_updown\n",
      "    toss = scipy.stats.bernoulli.rvs(posi_percent, loc=0, size=1, random_state=random.randint())\n",
      "  File \"/scratch/dmoi/condaenvs/ML2/lib/python3.9/multiprocessing/process.py\", line 315, in _bootstrap\n",
      "    self.run()\n"
     ]
    },
    {
     "name": "stdout",
     "output_type": "stream",
     "text": [
      "\n"
     ]
    },
    {
     "name": "stderr",
     "output_type": "stream",
     "text": [
      "TypeError: randint() missing 2 required positional arguments: 'a' and 'b'\n",
      "  File \"/scratch/dmoi/condaenvs/ML2/lib/python3.9/multiprocessing/process.py\", line 108, in run\n",
      "    self._target(*self._args, **self._kwargs)\n"
     ]
    },
    {
     "name": "stdout",
     "output_type": "stream",
     "text": [
      "dataset size"
     ]
    },
    {
     "name": "stderr",
     "output_type": "stream",
     "text": [
      "  File \"/scratch/dmoi/condaenvs/ML2/lib/python3.9/multiprocessing/pool.py\", line 109, in worker\n",
      "    initializer(*initargs)\n",
      "Process ForkPoolWorker-709:\n"
     ]
    },
    {
     "name": "stdout",
     "output_type": "stream",
     "text": [
      " "
     ]
    },
    {
     "name": "stderr",
     "output_type": "stream",
     "text": [
      "  File \"/tmp/4730631/ipykernel_631294/4073675763.py\", line 13, in create_data_updown\n",
      "    toss = scipy.stats.bernoulli.rvs(posi_percent, loc=0, size=1, random_state=random.randint())\n",
      "Traceback (most recent call last):\n"
     ]
    },
    {
     "name": "stdout",
     "output_type": "stream",
     "text": [
      "97133"
     ]
    },
    {
     "name": "stderr",
     "output_type": "stream",
     "text": [
      "TypeError: randint() missing 2 required positional arguments: 'a' and 'b'\n",
      "  File \"/scratch/dmoi/condaenvs/ML2/lib/python3.9/multiprocessing/process.py\", line 315, in _bootstrap\n",
      "    self.run()\n"
     ]
    },
    {
     "name": "stdout",
     "output_type": "stream",
     "text": [
      "\n"
     ]
    },
    {
     "name": "stderr",
     "output_type": "stream",
     "text": [
      "  File \"/scratch/dmoi/condaenvs/ML2/lib/python3.9/multiprocessing/process.py\", line 108, in run\n",
      "    self._target(*self._args, **self._kwargs)\n"
     ]
    },
    {
     "name": "stdout",
     "output_type": "stream",
     "text": [
      "dataset size"
     ]
    },
    {
     "name": "stderr",
     "output_type": "stream",
     "text": [
      "Process ForkPoolWorker-711:\n",
      "  File \"/scratch/dmoi/condaenvs/ML2/lib/python3.9/multiprocessing/pool.py\", line 109, in worker\n",
      "    initializer(*initargs)\n"
     ]
    },
    {
     "name": "stdout",
     "output_type": "stream",
     "text": [
      " "
     ]
    },
    {
     "name": "stderr",
     "output_type": "stream",
     "text": [
      "Traceback (most recent call last):\n",
      "  File \"/tmp/4730631/ipykernel_631294/4073675763.py\", line 13, in create_data_updown\n",
      "    toss = scipy.stats.bernoulli.rvs(posi_percent, loc=0, size=1, random_state=random.randint())\n"
     ]
    },
    {
     "name": "stdout",
     "output_type": "stream",
     "text": [
      "389499"
     ]
    },
    {
     "name": "stderr",
     "output_type": "stream",
     "text": [
      "  File \"/scratch/dmoi/condaenvs/ML2/lib/python3.9/multiprocessing/process.py\", line 315, in _bootstrap\n",
      "    self.run()\n",
      "TypeError: randint() missing 2 required positional arguments: 'a' and 'b'\n"
     ]
    },
    {
     "name": "stdout",
     "output_type": "stream",
     "text": [
      "\n"
     ]
    },
    {
     "name": "stderr",
     "output_type": "stream",
     "text": [
      "  File \"/scratch/dmoi/condaenvs/ML2/lib/python3.9/multiprocessing/process.py\", line 108, in run\n",
      "    self._target(*self._args, **self._kwargs)\n",
      "  File \"/scratch/dmoi/condaenvs/ML2/lib/python3.9/multiprocessing/pool.py\", line 109, in worker\n",
      "    initializer(*initargs)\n",
      "Process ForkPoolWorker-712:\n",
      "  File \"/tmp/4730631/ipykernel_631294/4073675763.py\", line 13, in create_data_updown\n",
      "    toss = scipy.stats.bernoulli.rvs(posi_percent, loc=0, size=1, random_state=random.randint())\n",
      "Traceback (most recent call last):\n",
      "TypeError: randint() missing 2 required positional arguments: 'a' and 'b'\n",
      "  File \"/scratch/dmoi/condaenvs/ML2/lib/python3.9/multiprocessing/process.py\", line 315, in _bootstrap\n",
      "    self.run()\n",
      "  File \"/scratch/dmoi/condaenvs/ML2/lib/python3.9/multiprocessing/process.py\", line 108, in run\n",
      "    self._target(*self._args, **self._kwargs)\n",
      "  File \"/scratch/dmoi/condaenvs/ML2/lib/python3.9/multiprocessing/pool.py\", line 109, in worker\n",
      "    initializer(*initargs)\n",
      "  File \"/tmp/4730631/ipykernel_631294/4073675763.py\", line 13, in create_data_updown\n",
      "    toss = scipy.stats.bernoulli.rvs(posi_percent, loc=0, size=1, random_state=random.randint())\n",
      "TypeError: randint() missing 2 required positional arguments: 'a' and 'b'\n"
     ]
    },
    {
     "name": "stdout",
     "output_type": "stream",
     "text": [
      "dataset size 97133\n",
      "dataset size"
     ]
    },
    {
     "name": "stderr",
     "output_type": "stream",
     "text": [
      "Process ForkPoolWorker-713:\n",
      "Traceback (most recent call last):\n"
     ]
    },
    {
     "name": "stdout",
     "output_type": "stream",
     "text": [
      " "
     ]
    },
    {
     "name": "stderr",
     "output_type": "stream",
     "text": [
      "  File \"/scratch/dmoi/condaenvs/ML2/lib/python3.9/multiprocessing/process.py\", line 315, in _bootstrap\n",
      "    self.run()\n",
      "  File \"/scratch/dmoi/condaenvs/ML2/lib/python3.9/multiprocessing/process.py\", line 108, in run\n",
      "    self._target(*self._args, **self._kwargs)\n"
     ]
    },
    {
     "name": "stdout",
     "output_type": "stream",
     "text": [
      "389499"
     ]
    },
    {
     "name": "stderr",
     "output_type": "stream",
     "text": [
      "  File \"/scratch/dmoi/condaenvs/ML2/lib/python3.9/multiprocessing/pool.py\", line 109, in worker\n",
      "    initializer(*initargs)\n"
     ]
    },
    {
     "name": "stdout",
     "output_type": "stream",
     "text": [
      "\n"
     ]
    },
    {
     "name": "stderr",
     "output_type": "stream",
     "text": [
      "  File \"/tmp/4730631/ipykernel_631294/4073675763.py\", line 13, in create_data_updown\n",
      "    toss = scipy.stats.bernoulli.rvs(posi_percent, loc=0, size=1, random_state=random.randint())\n"
     ]
    },
    {
     "name": "stdout",
     "output_type": "stream",
     "text": [
      "dataset size"
     ]
    },
    {
     "name": "stderr",
     "output_type": "stream",
     "text": [
      "Process ForkPoolWorker-715:\n",
      "TypeError: randint() missing 2 required positional arguments: 'a' and 'b'\n"
     ]
    },
    {
     "name": "stdout",
     "output_type": "stream",
     "text": [
      " 97133"
     ]
    },
    {
     "name": "stderr",
     "output_type": "stream",
     "text": [
      "Traceback (most recent call last):\n"
     ]
    },
    {
     "name": "stdout",
     "output_type": "stream",
     "text": [
      "\n"
     ]
    },
    {
     "name": "stderr",
     "output_type": "stream",
     "text": [
      "  File \"/scratch/dmoi/condaenvs/ML2/lib/python3.9/multiprocessing/process.py\", line 315, in _bootstrap\n",
      "    self.run()\n"
     ]
    },
    {
     "name": "stdout",
     "output_type": "stream",
     "text": [
      "dataset size"
     ]
    },
    {
     "name": "stderr",
     "output_type": "stream",
     "text": [
      "Process ForkPoolWorker-714:\n",
      "  File \"/scratch/dmoi/condaenvs/ML2/lib/python3.9/multiprocessing/process.py\", line 108, in run\n",
      "    self._target(*self._args, **self._kwargs)\n"
     ]
    },
    {
     "name": "stdout",
     "output_type": "stream",
     "text": [
      " "
     ]
    },
    {
     "name": "stderr",
     "output_type": "stream",
     "text": [
      "Traceback (most recent call last):\n",
      "  File \"/scratch/dmoi/condaenvs/ML2/lib/python3.9/multiprocessing/pool.py\", line 109, in worker\n",
      "    initializer(*initargs)\n"
     ]
    },
    {
     "name": "stdout",
     "output_type": "stream",
     "text": [
      "389499"
     ]
    },
    {
     "name": "stderr",
     "output_type": "stream",
     "text": [
      "  File \"/scratch/dmoi/condaenvs/ML2/lib/python3.9/multiprocessing/process.py\", line 315, in _bootstrap\n",
      "    self.run()\n",
      "  File \"/tmp/4730631/ipykernel_631294/4073675763.py\", line 13, in create_data_updown\n",
      "    toss = scipy.stats.bernoulli.rvs(posi_percent, loc=0, size=1, random_state=random.randint())\n"
     ]
    },
    {
     "name": "stdout",
     "output_type": "stream",
     "text": [
      "\n"
     ]
    },
    {
     "name": "stderr",
     "output_type": "stream",
     "text": [
      "  File \"/scratch/dmoi/condaenvs/ML2/lib/python3.9/multiprocessing/process.py\", line 108, in run\n",
      "    self._target(*self._args, **self._kwargs)\n",
      "TypeError: randint() missing 2 required positional arguments: 'a' and 'b'\n"
     ]
    },
    {
     "name": "stdout",
     "output_type": "stream",
     "text": [
      "dataset size"
     ]
    },
    {
     "name": "stderr",
     "output_type": "stream",
     "text": [
      "  File \"/scratch/dmoi/condaenvs/ML2/lib/python3.9/multiprocessing/pool.py\", line 109, in worker\n",
      "    initializer(*initargs)\n",
      "Process ForkPoolWorker-716:\n"
     ]
    },
    {
     "name": "stdout",
     "output_type": "stream",
     "text": [
      " "
     ]
    },
    {
     "name": "stderr",
     "output_type": "stream",
     "text": [
      "  File \"/tmp/4730631/ipykernel_631294/4073675763.py\", line 13, in create_data_updown\n",
      "    toss = scipy.stats.bernoulli.rvs(posi_percent, loc=0, size=1, random_state=random.randint())\n",
      "Traceback (most recent call last):\n"
     ]
    },
    {
     "name": "stdout",
     "output_type": "stream",
     "text": [
      "97133"
     ]
    },
    {
     "name": "stderr",
     "output_type": "stream",
     "text": [
      "TypeError: randint() missing 2 required positional arguments: 'a' and 'b'\n",
      "  File \"/scratch/dmoi/condaenvs/ML2/lib/python3.9/multiprocessing/process.py\", line 315, in _bootstrap\n",
      "    self.run()\n"
     ]
    },
    {
     "name": "stdout",
     "output_type": "stream",
     "text": [
      "\n"
     ]
    },
    {
     "name": "stderr",
     "output_type": "stream",
     "text": [
      "  File \"/scratch/dmoi/condaenvs/ML2/lib/python3.9/multiprocessing/process.py\", line 108, in run\n",
      "    self._target(*self._args, **self._kwargs)\n"
     ]
    },
    {
     "name": "stdout",
     "output_type": "stream",
     "text": [
      "dataset size"
     ]
    },
    {
     "name": "stderr",
     "output_type": "stream",
     "text": [
      "  File \"/scratch/dmoi/condaenvs/ML2/lib/python3.9/multiprocessing/pool.py\", line 109, in worker\n",
      "    initializer(*initargs)\n",
      "Process ForkPoolWorker-717:\n"
     ]
    },
    {
     "name": "stdout",
     "output_type": "stream",
     "text": [
      " "
     ]
    },
    {
     "name": "stderr",
     "output_type": "stream",
     "text": [
      "  File \"/tmp/4730631/ipykernel_631294/4073675763.py\", line 13, in create_data_updown\n",
      "    toss = scipy.stats.bernoulli.rvs(posi_percent, loc=0, size=1, random_state=random.randint())\n",
      "Traceback (most recent call last):\n"
     ]
    },
    {
     "name": "stdout",
     "output_type": "stream",
     "text": [
      "389499"
     ]
    },
    {
     "name": "stderr",
     "output_type": "stream",
     "text": [
      "TypeError: randint() missing 2 required positional arguments: 'a' and 'b'\n",
      "  File \"/scratch/dmoi/condaenvs/ML2/lib/python3.9/multiprocessing/process.py\", line 315, in _bootstrap\n",
      "    self.run()\n"
     ]
    },
    {
     "name": "stdout",
     "output_type": "stream",
     "text": [
      "\n"
     ]
    },
    {
     "name": "stderr",
     "output_type": "stream",
     "text": [
      "  File \"/scratch/dmoi/condaenvs/ML2/lib/python3.9/multiprocessing/process.py\", line 108, in run\n",
      "    self._target(*self._args, **self._kwargs)\n"
     ]
    },
    {
     "name": "stdout",
     "output_type": "stream",
     "text": [
      "dataset size"
     ]
    },
    {
     "name": "stderr",
     "output_type": "stream",
     "text": [
      "  File \"/scratch/dmoi/condaenvs/ML2/lib/python3.9/multiprocessing/pool.py\", line 109, in worker\n",
      "    initializer(*initargs)\n",
      "Process ForkPoolWorker-719:\n"
     ]
    },
    {
     "name": "stdout",
     "output_type": "stream",
     "text": [
      " "
     ]
    },
    {
     "name": "stderr",
     "output_type": "stream",
     "text": [
      "  File \"/tmp/4730631/ipykernel_631294/4073675763.py\", line 13, in create_data_updown\n",
      "    toss = scipy.stats.bernoulli.rvs(posi_percent, loc=0, size=1, random_state=random.randint())\n",
      "Traceback (most recent call last):\n"
     ]
    },
    {
     "name": "stdout",
     "output_type": "stream",
     "text": [
      "97133"
     ]
    },
    {
     "name": "stderr",
     "output_type": "stream",
     "text": [
      "TypeError: randint() missing 2 required positional arguments: 'a' and 'b'\n",
      "  File \"/scratch/dmoi/condaenvs/ML2/lib/python3.9/multiprocessing/process.py\", line 315, in _bootstrap\n",
      "    self.run()\n"
     ]
    },
    {
     "name": "stdout",
     "output_type": "stream",
     "text": [
      "\n"
     ]
    },
    {
     "name": "stderr",
     "output_type": "stream",
     "text": [
      "  File \"/scratch/dmoi/condaenvs/ML2/lib/python3.9/multiprocessing/process.py\", line 108, in run\n",
      "    self._target(*self._args, **self._kwargs)\n"
     ]
    },
    {
     "name": "stdout",
     "output_type": "stream",
     "text": [
      "dataset size"
     ]
    },
    {
     "name": "stderr",
     "output_type": "stream",
     "text": [
      "Process ForkPoolWorker-718:\n",
      "  File \"/scratch/dmoi/condaenvs/ML2/lib/python3.9/multiprocessing/pool.py\", line 109, in worker\n",
      "    initializer(*initargs)\n"
     ]
    },
    {
     "name": "stdout",
     "output_type": "stream",
     "text": [
      " "
     ]
    },
    {
     "name": "stderr",
     "output_type": "stream",
     "text": [
      "Traceback (most recent call last):\n",
      "  File \"/tmp/4730631/ipykernel_631294/4073675763.py\", line 13, in create_data_updown\n",
      "    toss = scipy.stats.bernoulli.rvs(posi_percent, loc=0, size=1, random_state=random.randint())\n"
     ]
    },
    {
     "name": "stdout",
     "output_type": "stream",
     "text": [
      "389499"
     ]
    },
    {
     "name": "stderr",
     "output_type": "stream",
     "text": [
      "  File \"/scratch/dmoi/condaenvs/ML2/lib/python3.9/multiprocessing/process.py\", line 315, in _bootstrap\n",
      "    self.run()\n",
      "TypeError: randint() missing 2 required positional arguments: 'a' and 'b'\n"
     ]
    },
    {
     "name": "stdout",
     "output_type": "stream",
     "text": [
      "\n"
     ]
    },
    {
     "name": "stderr",
     "output_type": "stream",
     "text": [
      "  File \"/scratch/dmoi/condaenvs/ML2/lib/python3.9/multiprocessing/process.py\", line 108, in run\n",
      "    self._target(*self._args, **self._kwargs)\n",
      "  File \"/scratch/dmoi/condaenvs/ML2/lib/python3.9/multiprocessing/pool.py\", line 109, in worker\n",
      "    initializer(*initargs)\n",
      "Process ForkPoolWorker-720:\n",
      "  File \"/tmp/4730631/ipykernel_631294/4073675763.py\", line 13, in create_data_updown\n",
      "    toss = scipy.stats.bernoulli.rvs(posi_percent, loc=0, size=1, random_state=random.randint())\n",
      "Traceback (most recent call last):\n",
      "TypeError: randint() missing 2 required positional arguments: 'a' and 'b'\n",
      "  File \"/scratch/dmoi/condaenvs/ML2/lib/python3.9/multiprocessing/process.py\", line 315, in _bootstrap\n",
      "    self.run()\n",
      "  File \"/scratch/dmoi/condaenvs/ML2/lib/python3.9/multiprocessing/process.py\", line 108, in run\n",
      "    self._target(*self._args, **self._kwargs)\n",
      "  File \"/scratch/dmoi/condaenvs/ML2/lib/python3.9/multiprocessing/pool.py\", line 109, in worker\n",
      "    initializer(*initargs)\n",
      "  File \"/tmp/4730631/ipykernel_631294/4073675763.py\", line 13, in create_data_updown\n",
      "    toss = scipy.stats.bernoulli.rvs(posi_percent, loc=0, size=1, random_state=random.randint())\n",
      "TypeError: randint() missing 2 required positional arguments: 'a' and 'b'\n"
     ]
    }
   ],
   "source": [
    "#Traindata = create_data_updown(dendrotree, Datasets['string']['Train'] ,cogfilter , stringprofiles ,   profile_mapper, posi_percent= .5  )\n",
    "#data = next(Traindata)\n",
    "#Testdata = create_data_updown(dendrotree, Datasets['string']['Test'] ,cogfilter , stringprofiles ,  profile_mapper , posi_percent= .5  )\n",
    "#testchunk = [next(Testdata) for i in range(100) ]\n",
    "#test_dataset = DataLoader(testchunk , batch_size = 1)\n",
    "\n",
    "import multiprocessing as mp\n",
    "NCORE = 4\n",
    "\n",
    "if __name__ == '__main__':\n",
    "    trainq = mp.Queue(maxsize= 150 * NCORE)\n",
    "    testq = mp.Queue(maxsize= 150 * NCORE)\n",
    "    iolock = mp.Lock()\n",
    "    pool_train = mp.Pool(NCORE, initializer=create_data_updown, initargs=(trainq, iolock  , \n",
    "                dendrotree, Datasets['string']['Train']  , stringprofiles ,  \n",
    "                 profile_mapper, .5  ) )\n",
    "    \n",
    "    pool_test = mp.Pool(NCORE, initializer=create_data_updown, initargs=(testq, iolock  , \n",
    "                dendrotree, Datasets['string']['Test']  , stringprofiles ,  \n",
    "                 profile_mapper, .5  ) )\n",
    "    data = trainq.get()"
   ]
  },
  {
   "cell_type": "code",
   "execution_count": null,
   "metadata": {},
   "outputs": [],
   "source": [
    "print(data)"
   ]
  },
  {
   "cell_type": "code",
   "execution_count": null,
   "metadata": {},
   "outputs": [],
   "source": [
    "print(trainq.get())"
   ]
  },
  {
   "cell_type": "code",
   "execution_count": null,
   "metadata": {},
   "outputs": [],
   "source": [
    "from torch_geometric.nn import HeteroConv, GCNConv, SAGEConv, GATConv, Linear\n",
    "import torch_geometric.transforms as T\n",
    "\n",
    "class HeteroGNN(torch.nn.Module):\n",
    "    def __init__(self, hidden_channels, out_channels, num_layers):\n",
    "        super().__init__()\n",
    "        self.convs = torch.nn.ModuleList()\n",
    "        for _ in range(num_layers):\n",
    "            conv = HeteroConv({\n",
    "                ('phylonodes_up', 'phylolink_up', 'phylonodes_up'):SAGEConv((-1,-1), hidden_channels ),\n",
    "                ('phylonodes_down', 'phylolink_down', 'phylonodes_down'):SAGEConv((-1,-1), hidden_channels ),\n",
    "                \n",
    "                ('phylonodes_down', 'phylolink_down_up', 'phylonodes_up'):SAGEConv((-1,-1), hidden_channels ),\n",
    "                ('phylonodes_up', 'phylolink_up_down', 'phylonodes_down'):SAGEConv((-1,-1), hidden_channels ),\n",
    "                \n",
    "                ('phylonodes_up', 'informs', 'godnode'):SAGEConv((-1, -1), hidden_channels),\n",
    "                ('phylonodes_down', 'informs', 'godnode'):SAGEConv((-1, -1), hidden_channels),\n",
    "            }, aggr='sum')\n",
    "            self.convs.append(conv)\n",
    "        self.lin = Linear(hidden_channels, out_channels)\n",
    "\n",
    "    def forward(self, x_dict, edge_index_dict):\n",
    "        for conv in self.convs:\n",
    "            \n",
    "            x_dict = conv(x_dict, edge_index_dict)\n",
    "            x_dict = {key: x.relu() for key, x in x_dict.items()}\n",
    "            \n",
    "            x_dict = {key: self.lin(x) for key, x in x_dict.items()}\n",
    "        #1d output for each node\n",
    "        return {key: F.log_softmax(x, dim=1) for key, x in x_dict.items()}\n",
    "\n",
    "model = HeteroGNN(hidden_channels=100, out_channels=20, num_layers=1)\n",
    "model = model.double()\n",
    "model = model.to(device)"
   ]
  },
  {
   "cell_type": "code",
   "execution_count": null,
   "metadata": {},
   "outputs": [],
   "source": [
    "data = data.to(device)\n",
    "with torch.no_grad():  # Initialize lazy modules.\n",
    "    out = model(data.x_dict ,data.edge_index_dict)\n",
    "optimizer = torch.optim.Adam(model.parameters(), lr=0.005, weight_decay=10**-4)\n",
    "#optimizer=torch.optim.RMSprop(model.parameters(), lr=0.01, alpha=0.99, eps=1e-08, weight_decay=10**-4, momentum=0.01, centered=False)\n",
    "scheduler = torch.optim.lr_scheduler.ReduceLROnPlateau(optimizer, 'min', patience=3)"
   ]
  },
  {
   "cell_type": "code",
   "execution_count": null,
   "metadata": {},
   "outputs": [],
   "source": [
    "#model.load_state_dict(torch.load('torch_chkpt.pt'))"
   ]
  },
  {
   "cell_type": "code",
   "execution_count": null,
   "metadata": {},
   "outputs": [],
   "source": [
    "loops = 50\n",
    "trainiter = 100\n",
    "testiter = 100\n",
    "import time\n",
    "\n",
    "for epoch in range(200):\n",
    "    \n",
    "    while trainq.qsize()<50:\n",
    "        time.sleep(10)\n",
    "    model.train()\n",
    "    losses1=[]\n",
    "    losses2 =[]\n",
    "    losses3 =[]    \n",
    "    for i in range(trainiter):\n",
    "        if i % 10 == 0:\n",
    "            print(i)\n",
    "        data = trainq.get()\n",
    "        data = data.to(device)\n",
    "        \n",
    "        for loop in range(loops):\n",
    "            optimizer.zero_grad()\n",
    "            out = model(data.x_dict ,data.edge_index_dict)\n",
    "            #loss = F.nll_loss(out, data.y)\n",
    "            loss1 =  F.nll_loss(out['phylonodes_up'], data['phylonodes_up'].y)\n",
    "            loss2 =  F.nll_loss(out['phylonodes_down'], data['phylonodes_down'].y)\n",
    "            loss3 =  F.nll_loss(out['godnode'], data['godnode'].y)\n",
    "            \n",
    "            loss = loss1 + loss2 + loss3\n",
    "            \n",
    "            losses3.append(float(loss3))\n",
    "            losses2.append(float(loss2))\n",
    "            losses1.append(float(loss1))\n",
    "            loss.backward()\n",
    "            optimizer.step()\n",
    "        scheduler.step(np.mean(losses2))\n",
    "    print(f'loss1: {np.mean(losses1):.4f}')\n",
    "    print(f'loss2: {np.mean(losses2):.4f}')\n",
    "    print(f'loss3: {np.mean(losses3):.4f}')\n",
    "\n",
    "    model.eval()\n",
    "    gncorrects=[]\n",
    "    ncorrects=[]\n",
    "    composition_gn = []\n",
    "    composition_n = []\n",
    "    while testq.qsize()<100:\n",
    "        time.sleep(10)\n",
    "    \n",
    "    for i in range(testiter):\n",
    "        testdata = testq.get()\n",
    "        testdata = testdata.to(device)\n",
    "        pred = model(testdata.x_dict ,testdata.edge_index_dict)\n",
    "        pred = {idx:x.to('cpu') for idx,x in pred.items()}\n",
    "        correct = (pred['godnode'].argmax(dim=1) == testdata['godnode'].y.cpu()).sum()\n",
    "        \n",
    "        composition_gn.append(testdata['godnode'].y.cpu().sum() / testdata['godnode'].y.cpu().shape[0] )\n",
    "        gncorrects.append(correct)\n",
    "        \n",
    "        correct = (pred['phylonodes_down'].argmax(dim=1) == testdata['phylonodes_down'].y.cpu()).sum()\n",
    "        ncorrects.append(correct)\n",
    "        composition_n.append(testdata['phylonodes_down'].y.cpu().sum() / testdata['phylonodes_down'].y.cpu().shape[0] )\n",
    "    '''torch.save({\n",
    "            'epoch': epoch,\n",
    "            'model_state_dict': model.state_dict(),\n",
    "            'optimizer_state_dict': optimizer.state_dict(),\n",
    "            'loss': loss,\n",
    "            }, 'torch_chkpt.pt')'''\n",
    "    \n",
    "    acc = np.mean(gncorrects) / int(pred['godnode'].cpu().shape[0])\n",
    "    print(f'gn Accuracy: {acc:.4f}', len(gncorrects), pred['godnode'].shape[0] )\n",
    "    print(f'gn composition: {np.mean(composition_gn) :.4f}', )\n",
    "    \n",
    "    acc = np.mean(ncorrects) / int(pred['phylonodes_down'].cpu().shape[0])\n",
    "    print(f'n Accuracy: {acc:.4f}', len(ncorrects) , pred['phylonodes_down'].shape[0] )\n",
    "    print(f'n composition: {np.mean(composition_n) :.4f}', )\n",
    "    \n",
    "pool.close()\n",
    "pool.join()\n"
   ]
  },
  {
   "cell_type": "code",
   "execution_count": null,
   "metadata": {},
   "outputs": [
    {
     "name": "stdout",
     "output_type": "stream",
     "text": [
      "dataset size 389499\n"
     ]
    },
    {
     "name": "stderr",
     "output_type": "stream",
     "text": [
      "Process ForkPoolWorker-352:\n"
     ]
    },
    {
     "name": "stdout",
     "output_type": "stream",
     "text": [
      "dataset size "
     ]
    },
    {
     "name": "stderr",
     "output_type": "stream",
     "text": [
      "Traceback (most recent call last):\n"
     ]
    },
    {
     "name": "stdout",
     "output_type": "stream",
     "text": [
      "97133"
     ]
    },
    {
     "name": "stderr",
     "output_type": "stream",
     "text": [
      "  File \"/scratch/dmoi/condaenvs/ML2/lib/python3.9/multiprocessing/process.py\", line 315, in _bootstrap\n",
      "    self.run()\n"
     ]
    },
    {
     "name": "stdout",
     "output_type": "stream",
     "text": [
      "\n"
     ]
    },
    {
     "name": "stderr",
     "output_type": "stream",
     "text": [
      "  File \"/scratch/dmoi/condaenvs/ML2/lib/python3.9/multiprocessing/process.py\", line 108, in run\n",
      "    self._target(*self._args, **self._kwargs)\n",
      "Process ForkPoolWorker-354:\n",
      "  File \"/scratch/dmoi/condaenvs/ML2/lib/python3.9/multiprocessing/pool.py\", line 109, in worker\n",
      "    initializer(*initargs)\n"
     ]
    },
    {
     "name": "stdout",
     "output_type": "stream",
     "text": [
      "dataset size"
     ]
    },
    {
     "name": "stderr",
     "output_type": "stream",
     "text": [
      "Traceback (most recent call last):\n",
      "  File \"/tmp/4730631/ipykernel_631294/2899797808.py\", line 24, in create_data_updown\n",
      "    dfline = coglinkdf.sample(n=1, random_state = time.localtime() ).iloc[0]\n"
     ]
    },
    {
     "name": "stdout",
     "output_type": "stream",
     "text": [
      " "
     ]
    },
    {
     "name": "stderr",
     "output_type": "stream",
     "text": [
      "  File \"/scratch/dmoi/condaenvs/ML2/lib/python3.9/site-packages/pandas/core/generic.py\", line 5284, in sample\n",
      "    rs = com.random_state(random_state)\n",
      "  File \"/scratch/dmoi/condaenvs/ML2/lib/python3.9/multiprocessing/process.py\", line 315, in _bootstrap\n",
      "    self.run()\n"
     ]
    },
    {
     "name": "stdout",
     "output_type": "stream",
     "text": [
      "389499"
     ]
    },
    {
     "name": "stderr",
     "output_type": "stream",
     "text": [
      "  File \"/scratch/dmoi/condaenvs/ML2/lib/python3.9/multiprocessing/process.py\", line 108, in run\n",
      "    self._target(*self._args, **self._kwargs)\n",
      "  File \"/scratch/dmoi/condaenvs/ML2/lib/python3.9/site-packages/pandas/core/common.py\", line 431, in random_state\n",
      "    raise ValueError(\n"
     ]
    },
    {
     "name": "stdout",
     "output_type": "stream",
     "text": [
      "\n"
     ]
    },
    {
     "name": "stderr",
     "output_type": "stream",
     "text": [
      "ValueError: random_state must be an integer, array-like, a BitGenerator, a numpy RandomState, or None\n",
      "  File \"/scratch/dmoi/condaenvs/ML2/lib/python3.9/multiprocessing/pool.py\", line 109, in worker\n",
      "    initializer(*initargs)\n"
     ]
    },
    {
     "name": "stdout",
     "output_type": "stream",
     "text": [
      "dataset size"
     ]
    },
    {
     "name": "stderr",
     "output_type": "stream",
     "text": [
      "  File \"/tmp/4730631/ipykernel_631294/2899797808.py\", line 24, in create_data_updown\n",
      "    dfline = coglinkdf.sample(n=1, random_state = time.localtime() ).iloc[0]\n",
      "Process ForkPoolWorker-353:\n"
     ]
    },
    {
     "name": "stdout",
     "output_type": "stream",
     "text": [
      " "
     ]
    },
    {
     "name": "stderr",
     "output_type": "stream",
     "text": [
      "  File \"/scratch/dmoi/condaenvs/ML2/lib/python3.9/site-packages/pandas/core/generic.py\", line 5284, in sample\n",
      "    rs = com.random_state(random_state)\n"
     ]
    },
    {
     "name": "stdout",
     "output_type": "stream",
     "text": [
      "97133"
     ]
    },
    {
     "name": "stderr",
     "output_type": "stream",
     "text": [
      "Traceback (most recent call last):\n",
      "  File \"/scratch/dmoi/condaenvs/ML2/lib/python3.9/site-packages/pandas/core/common.py\", line 431, in random_state\n",
      "    raise ValueError(\n"
     ]
    },
    {
     "name": "stdout",
     "output_type": "stream",
     "text": [
      "\n"
     ]
    },
    {
     "name": "stderr",
     "output_type": "stream",
     "text": [
      "  File \"/scratch/dmoi/condaenvs/ML2/lib/python3.9/multiprocessing/process.py\", line 315, in _bootstrap\n",
      "    self.run()\n",
      "ValueError: random_state must be an integer, array-like, a BitGenerator, a numpy RandomState, or None\n",
      "  File \"/scratch/dmoi/condaenvs/ML2/lib/python3.9/multiprocessing/process.py\", line 108, in run\n",
      "    self._target(*self._args, **self._kwargs)\n"
     ]
    },
    {
     "name": "stdout",
     "output_type": "stream",
     "text": [
      "dataset size"
     ]
    },
    {
     "name": "stderr",
     "output_type": "stream",
     "text": [
      "Process ForkPoolWorker-355:\n",
      "  File \"/scratch/dmoi/condaenvs/ML2/lib/python3.9/multiprocessing/pool.py\", line 109, in worker\n",
      "    initializer(*initargs)\n"
     ]
    },
    {
     "name": "stdout",
     "output_type": "stream",
     "text": [
      " "
     ]
    },
    {
     "name": "stderr",
     "output_type": "stream",
     "text": [
      "  File \"/tmp/4730631/ipykernel_631294/2899797808.py\", line 24, in create_data_updown\n",
      "    dfline = coglinkdf.sample(n=1, random_state = time.localtime() ).iloc[0]\n",
      "Traceback (most recent call last):\n"
     ]
    },
    {
     "name": "stdout",
     "output_type": "stream",
     "text": [
      "389499"
     ]
    },
    {
     "name": "stderr",
     "output_type": "stream",
     "text": [
      "  File \"/scratch/dmoi/condaenvs/ML2/lib/python3.9/multiprocessing/process.py\", line 315, in _bootstrap\n",
      "    self.run()\n"
     ]
    },
    {
     "name": "stdout",
     "output_type": "stream",
     "text": [
      "\n"
     ]
    },
    {
     "name": "stderr",
     "output_type": "stream",
     "text": [
      "  File \"/scratch/dmoi/condaenvs/ML2/lib/python3.9/site-packages/pandas/core/generic.py\", line 5284, in sample\n",
      "    rs = com.random_state(random_state)\n"
     ]
    },
    {
     "name": "stdout",
     "output_type": "stream",
     "text": [
      "dataset size"
     ]
    },
    {
     "name": "stderr",
     "output_type": "stream",
     "text": [
      "  File \"/scratch/dmoi/condaenvs/ML2/lib/python3.9/multiprocessing/process.py\", line 108, in run\n",
      "    self._target(*self._args, **self._kwargs)\n",
      "  File \"/scratch/dmoi/condaenvs/ML2/lib/python3.9/site-packages/pandas/core/common.py\", line 431, in random_state\n",
      "    raise ValueError(\n",
      "  File \"/scratch/dmoi/condaenvs/ML2/lib/python3.9/multiprocessing/pool.py\", line 109, in worker\n",
      "    initializer(*initargs)\n"
     ]
    },
    {
     "name": "stdout",
     "output_type": "stream",
     "text": [
      " "
     ]
    },
    {
     "name": "stderr",
     "output_type": "stream",
     "text": [
      "ValueError: random_state must be an integer, array-like, a BitGenerator, a numpy RandomState, or None\n",
      "Process ForkPoolWorker-356:\n",
      "Traceback (most recent call last):\n",
      "  File \"/tmp/4730631/ipykernel_631294/2899797808.py\", line 24, in create_data_updown\n",
      "    dfline = coglinkdf.sample(n=1, random_state = time.localtime() ).iloc[0]\n"
     ]
    },
    {
     "name": "stdout",
     "output_type": "stream",
     "text": [
      "97133"
     ]
    },
    {
     "name": "stderr",
     "output_type": "stream",
     "text": [
      "  File \"/scratch/dmoi/condaenvs/ML2/lib/python3.9/multiprocessing/process.py\", line 315, in _bootstrap\n",
      "    self.run()\n",
      "  File \"/scratch/dmoi/condaenvs/ML2/lib/python3.9/site-packages/pandas/core/generic.py\", line 5284, in sample\n",
      "    rs = com.random_state(random_state)\n"
     ]
    },
    {
     "name": "stdout",
     "output_type": "stream",
     "text": [
      "\n"
     ]
    },
    {
     "name": "stderr",
     "output_type": "stream",
     "text": [
      "  File \"/scratch/dmoi/condaenvs/ML2/lib/python3.9/multiprocessing/process.py\", line 108, in run\n",
      "    self._target(*self._args, **self._kwargs)\n",
      "  File \"/scratch/dmoi/condaenvs/ML2/lib/python3.9/site-packages/pandas/core/common.py\", line 431, in random_state\n",
      "    raise ValueError(\n"
     ]
    },
    {
     "name": "stdout",
     "output_type": "stream",
     "text": [
      "dataset size"
     ]
    },
    {
     "name": "stderr",
     "output_type": "stream",
     "text": [
      "ValueError: random_state must be an integer, array-like, a BitGenerator, a numpy RandomState, or None\n",
      "  File \"/scratch/dmoi/condaenvs/ML2/lib/python3.9/multiprocessing/pool.py\", line 109, in worker\n",
      "    initializer(*initargs)\n",
      "Process ForkPoolWorker-357:\n"
     ]
    },
    {
     "name": "stdout",
     "output_type": "stream",
     "text": [
      " "
     ]
    },
    {
     "name": "stderr",
     "output_type": "stream",
     "text": [
      "  File \"/tmp/4730631/ipykernel_631294/2899797808.py\", line 24, in create_data_updown\n",
      "    dfline = coglinkdf.sample(n=1, random_state = time.localtime() ).iloc[0]\n",
      "Traceback (most recent call last):\n"
     ]
    },
    {
     "name": "stdout",
     "output_type": "stream",
     "text": [
      "389499"
     ]
    },
    {
     "name": "stderr",
     "output_type": "stream",
     "text": [
      "  File \"/scratch/dmoi/condaenvs/ML2/lib/python3.9/site-packages/pandas/core/generic.py\", line 5284, in sample\n",
      "    rs = com.random_state(random_state)\n",
      "  File \"/scratch/dmoi/condaenvs/ML2/lib/python3.9/multiprocessing/process.py\", line 315, in _bootstrap\n",
      "    self.run()\n"
     ]
    },
    {
     "name": "stdout",
     "output_type": "stream",
     "text": [
      "\n"
     ]
    },
    {
     "name": "stderr",
     "output_type": "stream",
     "text": [
      "  File \"/scratch/dmoi/condaenvs/ML2/lib/python3.9/site-packages/pandas/core/common.py\", line 431, in random_state\n",
      "    raise ValueError(\n",
      "  File \"/scratch/dmoi/condaenvs/ML2/lib/python3.9/multiprocessing/process.py\", line 108, in run\n",
      "    self._target(*self._args, **self._kwargs)\n"
     ]
    },
    {
     "name": "stdout",
     "output_type": "stream",
     "text": [
      "dataset size"
     ]
    },
    {
     "name": "stderr",
     "output_type": "stream",
     "text": [
      "ValueError: random_state must be an integer, array-like, a BitGenerator, a numpy RandomState, or None\n"
     ]
    },
    {
     "name": "stdout",
     "output_type": "stream",
     "text": [
      " "
     ]
    },
    {
     "name": "stderr",
     "output_type": "stream",
     "text": [
      "  File \"/scratch/dmoi/condaenvs/ML2/lib/python3.9/multiprocessing/pool.py\", line 109, in worker\n",
      "    initializer(*initargs)\n",
      "Process ForkPoolWorker-358:\n"
     ]
    },
    {
     "name": "stdout",
     "output_type": "stream",
     "text": [
      "97133"
     ]
    },
    {
     "name": "stderr",
     "output_type": "stream",
     "text": [
      "  File \"/tmp/4730631/ipykernel_631294/2899797808.py\", line 24, in create_data_updown\n",
      "    dfline = coglinkdf.sample(n=1, random_state = time.localtime() ).iloc[0]\n",
      "Traceback (most recent call last):\n"
     ]
    },
    {
     "name": "stdout",
     "output_type": "stream",
     "text": [
      "\n"
     ]
    },
    {
     "name": "stderr",
     "output_type": "stream",
     "text": [
      "  File \"/scratch/dmoi/condaenvs/ML2/lib/python3.9/multiprocessing/process.py\", line 315, in _bootstrap\n",
      "    self.run()\n",
      "  File \"/scratch/dmoi/condaenvs/ML2/lib/python3.9/site-packages/pandas/core/generic.py\", line 5284, in sample\n",
      "    rs = com.random_state(random_state)\n",
      "Process ForkPoolWorker-359:\n",
      "  File \"/scratch/dmoi/condaenvs/ML2/lib/python3.9/multiprocessing/process.py\", line 108, in run\n",
      "    self._target(*self._args, **self._kwargs)\n",
      "  File \"/scratch/dmoi/condaenvs/ML2/lib/python3.9/site-packages/pandas/core/common.py\", line 431, in random_state\n",
      "    raise ValueError(\n",
      "  File \"/scratch/dmoi/condaenvs/ML2/lib/python3.9/multiprocessing/pool.py\", line 109, in worker\n",
      "    initializer(*initargs)\n",
      "Traceback (most recent call last):\n",
      "ValueError: random_state must be an integer, array-like, a BitGenerator, a numpy RandomState, or None\n",
      "  File \"/scratch/dmoi/condaenvs/ML2/lib/python3.9/multiprocessing/process.py\", line 315, in _bootstrap\n",
      "    self.run()\n",
      "  File \"/tmp/4730631/ipykernel_631294/2899797808.py\", line 24, in create_data_updown\n",
      "    dfline = coglinkdf.sample(n=1, random_state = time.localtime() ).iloc[0]\n",
      "  File \"/scratch/dmoi/condaenvs/ML2/lib/python3.9/multiprocessing/process.py\", line 108, in run\n",
      "    self._target(*self._args, **self._kwargs)\n",
      "  File \"/scratch/dmoi/condaenvs/ML2/lib/python3.9/site-packages/pandas/core/generic.py\", line 5284, in sample\n",
      "    rs = com.random_state(random_state)\n",
      "  File \"/scratch/dmoi/condaenvs/ML2/lib/python3.9/multiprocessing/pool.py\", line 109, in worker\n",
      "    initializer(*initargs)\n",
      "  File \"/scratch/dmoi/condaenvs/ML2/lib/python3.9/site-packages/pandas/core/common.py\", line 431, in random_state\n",
      "    raise ValueError(\n",
      "  File \"/tmp/4730631/ipykernel_631294/2899797808.py\", line 24, in create_data_updown\n",
      "    dfline = coglinkdf.sample(n=1, random_state = time.localtime() ).iloc[0]\n",
      "ValueError: random_state must be an integer, array-like, a BitGenerator, a numpy RandomState, or None\n",
      "  File \"/scratch/dmoi/condaenvs/ML2/lib/python3.9/site-packages/pandas/core/generic.py\", line 5284, in sample\n",
      "    rs = com.random_state(random_state)\n",
      "  File \"/scratch/dmoi/condaenvs/ML2/lib/python3.9/site-packages/pandas/core/common.py\", line 431, in random_state\n",
      "    raise ValueError(\n",
      "ValueError: random_state must be an integer, array-like, a BitGenerator, a numpy RandomState, or None\n"
     ]
    },
    {
     "name": "stdout",
     "output_type": "stream",
     "text": [
      "dataset size 389499\n",
      "dataset size"
     ]
    },
    {
     "name": "stderr",
     "output_type": "stream",
     "text": [
      "Process ForkPoolWorker-360:\n"
     ]
    },
    {
     "name": "stdout",
     "output_type": "stream",
     "text": [
      " "
     ]
    },
    {
     "name": "stderr",
     "output_type": "stream",
     "text": [
      "Traceback (most recent call last):\n",
      "  File \"/scratch/dmoi/condaenvs/ML2/lib/python3.9/multiprocessing/process.py\", line 315, in _bootstrap\n",
      "    self.run()\n"
     ]
    },
    {
     "name": "stdout",
     "output_type": "stream",
     "text": [
      "97133"
     ]
    },
    {
     "name": "stderr",
     "output_type": "stream",
     "text": [
      "  File \"/scratch/dmoi/condaenvs/ML2/lib/python3.9/multiprocessing/process.py\", line 108, in run\n",
      "    self._target(*self._args, **self._kwargs)\n"
     ]
    },
    {
     "name": "stdout",
     "output_type": "stream",
     "text": [
      "\n"
     ]
    },
    {
     "name": "stderr",
     "output_type": "stream",
     "text": [
      "  File \"/scratch/dmoi/condaenvs/ML2/lib/python3.9/multiprocessing/pool.py\", line 109, in worker\n",
      "    initializer(*initargs)\n"
     ]
    },
    {
     "name": "stdout",
     "output_type": "stream",
     "text": [
      "dataset size"
     ]
    },
    {
     "name": "stderr",
     "output_type": "stream",
     "text": [
      "  File \"/tmp/4730631/ipykernel_631294/2899797808.py\", line 24, in create_data_updown\n",
      "    dfline = coglinkdf.sample(n=1, random_state = time.localtime() ).iloc[0]\n"
     ]
    },
    {
     "name": "stdout",
     "output_type": "stream",
     "text": [
      " "
     ]
    },
    {
     "name": "stderr",
     "output_type": "stream",
     "text": [
      "Process ForkPoolWorker-361:\n"
     ]
    },
    {
     "name": "stdout",
     "output_type": "stream",
     "text": [
      "389499"
     ]
    },
    {
     "name": "stderr",
     "output_type": "stream",
     "text": [
      "  File \"/scratch/dmoi/condaenvs/ML2/lib/python3.9/site-packages/pandas/core/generic.py\", line 5284, in sample\n",
      "    rs = com.random_state(random_state)\n",
      "Traceback (most recent call last):\n",
      "  File \"/scratch/dmoi/condaenvs/ML2/lib/python3.9/site-packages/pandas/core/common.py\", line 431, in random_state\n",
      "    raise ValueError(\n"
     ]
    },
    {
     "name": "stdout",
     "output_type": "stream",
     "text": [
      "\n"
     ]
    },
    {
     "name": "stderr",
     "output_type": "stream",
     "text": [
      "  File \"/scratch/dmoi/condaenvs/ML2/lib/python3.9/multiprocessing/process.py\", line 315, in _bootstrap\n",
      "    self.run()\n",
      "ValueError: random_state must be an integer, array-like, a BitGenerator, a numpy RandomState, or None\n"
     ]
    },
    {
     "name": "stdout",
     "output_type": "stream",
     "text": [
      "dataset size"
     ]
    },
    {
     "name": "stderr",
     "output_type": "stream",
     "text": [
      "  File \"/scratch/dmoi/condaenvs/ML2/lib/python3.9/multiprocessing/process.py\", line 108, in run\n",
      "    self._target(*self._args, **self._kwargs)\n"
     ]
    },
    {
     "name": "stdout",
     "output_type": "stream",
     "text": [
      " "
     ]
    },
    {
     "name": "stderr",
     "output_type": "stream",
     "text": [
      "Process ForkPoolWorker-362:\n",
      "  File \"/scratch/dmoi/condaenvs/ML2/lib/python3.9/multiprocessing/pool.py\", line 109, in worker\n",
      "    initializer(*initargs)\n"
     ]
    },
    {
     "name": "stdout",
     "output_type": "stream",
     "text": [
      "97133"
     ]
    },
    {
     "name": "stderr",
     "output_type": "stream",
     "text": [
      "Traceback (most recent call last):\n",
      "  File \"/tmp/4730631/ipykernel_631294/2899797808.py\", line 24, in create_data_updown\n",
      "    dfline = coglinkdf.sample(n=1, random_state = time.localtime() ).iloc[0]\n"
     ]
    },
    {
     "name": "stdout",
     "output_type": "stream",
     "text": [
      "\n"
     ]
    },
    {
     "name": "stderr",
     "output_type": "stream",
     "text": [
      "  File \"/scratch/dmoi/condaenvs/ML2/lib/python3.9/multiprocessing/process.py\", line 315, in _bootstrap\n",
      "    self.run()\n",
      "  File \"/scratch/dmoi/condaenvs/ML2/lib/python3.9/site-packages/pandas/core/generic.py\", line 5284, in sample\n",
      "    rs = com.random_state(random_state)\n"
     ]
    },
    {
     "name": "stdout",
     "output_type": "stream",
     "text": [
      "dataset size"
     ]
    },
    {
     "name": "stderr",
     "output_type": "stream",
     "text": [
      "Process ForkPoolWorker-363:\n",
      "  File \"/scratch/dmoi/condaenvs/ML2/lib/python3.9/multiprocessing/process.py\", line 108, in run\n",
      "    self._target(*self._args, **self._kwargs)\n",
      "  File \"/scratch/dmoi/condaenvs/ML2/lib/python3.9/site-packages/pandas/core/common.py\", line 431, in random_state\n",
      "    raise ValueError(\n"
     ]
    },
    {
     "name": "stdout",
     "output_type": "stream",
     "text": [
      " "
     ]
    },
    {
     "name": "stderr",
     "output_type": "stream",
     "text": [
      "Traceback (most recent call last):\n",
      "  File \"/scratch/dmoi/condaenvs/ML2/lib/python3.9/multiprocessing/pool.py\", line 109, in worker\n",
      "    initializer(*initargs)\n",
      "ValueError: random_state must be an integer, array-like, a BitGenerator, a numpy RandomState, or None\n"
     ]
    },
    {
     "name": "stdout",
     "output_type": "stream",
     "text": [
      "389499"
     ]
    },
    {
     "name": "stderr",
     "output_type": "stream",
     "text": [
      "  File \"/scratch/dmoi/condaenvs/ML2/lib/python3.9/multiprocessing/process.py\", line 315, in _bootstrap\n",
      "    self.run()\n",
      "  File \"/tmp/4730631/ipykernel_631294/2899797808.py\", line 24, in create_data_updown\n",
      "    dfline = coglinkdf.sample(n=1, random_state = time.localtime() ).iloc[0]\n"
     ]
    },
    {
     "name": "stdout",
     "output_type": "stream",
     "text": [
      "\n"
     ]
    },
    {
     "name": "stderr",
     "output_type": "stream",
     "text": [
      "  File \"/scratch/dmoi/condaenvs/ML2/lib/python3.9/multiprocessing/process.py\", line 108, in run\n",
      "    self._target(*self._args, **self._kwargs)\n",
      "  File \"/scratch/dmoi/condaenvs/ML2/lib/python3.9/site-packages/pandas/core/generic.py\", line 5284, in sample\n",
      "    rs = com.random_state(random_state)\n"
     ]
    },
    {
     "name": "stdout",
     "output_type": "stream",
     "text": [
      "dataset size"
     ]
    },
    {
     "name": "stderr",
     "output_type": "stream",
     "text": [
      "  File \"/scratch/dmoi/condaenvs/ML2/lib/python3.9/site-packages/pandas/core/common.py\", line 431, in random_state\n",
      "    raise ValueError(\n",
      "  File \"/scratch/dmoi/condaenvs/ML2/lib/python3.9/multiprocessing/pool.py\", line 109, in worker\n",
      "    initializer(*initargs)\n",
      "Process ForkPoolWorker-364:\n"
     ]
    },
    {
     "name": "stdout",
     "output_type": "stream",
     "text": [
      " "
     ]
    },
    {
     "name": "stderr",
     "output_type": "stream",
     "text": [
      "  File \"/tmp/4730631/ipykernel_631294/2899797808.py\", line 24, in create_data_updown\n",
      "    dfline = coglinkdf.sample(n=1, random_state = time.localtime() ).iloc[0]\n",
      "ValueError: random_state must be an integer, array-like, a BitGenerator, a numpy RandomState, or None\n",
      "Traceback (most recent call last):\n"
     ]
    },
    {
     "name": "stdout",
     "output_type": "stream",
     "text": [
      "97133"
     ]
    },
    {
     "name": "stderr",
     "output_type": "stream",
     "text": [
      "  File \"/scratch/dmoi/condaenvs/ML2/lib/python3.9/site-packages/pandas/core/generic.py\", line 5284, in sample\n",
      "    rs = com.random_state(random_state)\n"
     ]
    },
    {
     "name": "stdout",
     "output_type": "stream",
     "text": [
      "\n"
     ]
    },
    {
     "name": "stderr",
     "output_type": "stream",
     "text": [
      "  File \"/scratch/dmoi/condaenvs/ML2/lib/python3.9/multiprocessing/process.py\", line 315, in _bootstrap\n",
      "    self.run()\n",
      "  File \"/scratch/dmoi/condaenvs/ML2/lib/python3.9/site-packages/pandas/core/common.py\", line 431, in random_state\n",
      "    raise ValueError(\n",
      "Process ForkPoolWorker-365:\n"
     ]
    },
    {
     "name": "stdout",
     "output_type": "stream",
     "text": [
      "dataset size"
     ]
    },
    {
     "name": "stderr",
     "output_type": "stream",
     "text": [
      "  File \"/scratch/dmoi/condaenvs/ML2/lib/python3.9/multiprocessing/process.py\", line 108, in run\n",
      "    self._target(*self._args, **self._kwargs)\n",
      "ValueError: random_state must be an integer, array-like, a BitGenerator, a numpy RandomState, or None\n",
      "Traceback (most recent call last):\n",
      "  File \"/scratch/dmoi/condaenvs/ML2/lib/python3.9/multiprocessing/pool.py\", line 109, in worker\n",
      "    initializer(*initargs)\n"
     ]
    },
    {
     "name": "stdout",
     "output_type": "stream",
     "text": [
      " "
     ]
    },
    {
     "name": "stderr",
     "output_type": "stream",
     "text": [
      "  File \"/tmp/4730631/ipykernel_631294/2899797808.py\", line 24, in create_data_updown\n",
      "    dfline = coglinkdf.sample(n=1, random_state = time.localtime() ).iloc[0]\n"
     ]
    },
    {
     "name": "stdout",
     "output_type": "stream",
     "text": [
      "389499"
     ]
    },
    {
     "name": "stderr",
     "output_type": "stream",
     "text": [
      "  File \"/scratch/dmoi/condaenvs/ML2/lib/python3.9/multiprocessing/process.py\", line 315, in _bootstrap\n",
      "    self.run()\n"
     ]
    },
    {
     "name": "stdout",
     "output_type": "stream",
     "text": [
      "\n"
     ]
    },
    {
     "name": "stderr",
     "output_type": "stream",
     "text": [
      "  File \"/scratch/dmoi/condaenvs/ML2/lib/python3.9/site-packages/pandas/core/generic.py\", line 5284, in sample\n",
      "    rs = com.random_state(random_state)\n",
      "  File \"/scratch/dmoi/condaenvs/ML2/lib/python3.9/multiprocessing/process.py\", line 108, in run\n",
      "    self._target(*self._args, **self._kwargs)\n",
      "  File \"/scratch/dmoi/condaenvs/ML2/lib/python3.9/site-packages/pandas/core/common.py\", line 431, in random_state\n",
      "    raise ValueError(\n",
      "  File \"/scratch/dmoi/condaenvs/ML2/lib/python3.9/multiprocessing/pool.py\", line 109, in worker\n",
      "    initializer(*initargs)\n"
     ]
    },
    {
     "name": "stdout",
     "output_type": "stream",
     "text": [
      "dataset size"
     ]
    },
    {
     "name": "stderr",
     "output_type": "stream",
     "text": [
      "ValueError: random_state must be an integer, array-like, a BitGenerator, a numpy RandomState, or None\n",
      "  File \"/tmp/4730631/ipykernel_631294/2899797808.py\", line 24, in create_data_updown\n",
      "    dfline = coglinkdf.sample(n=1, random_state = time.localtime() ).iloc[0]\n",
      "  File \"/scratch/dmoi/condaenvs/ML2/lib/python3.9/site-packages/pandas/core/generic.py\", line 5284, in sample\n",
      "    rs = com.random_state(random_state)\n",
      "Process ForkPoolWorker-366:\n"
     ]
    },
    {
     "name": "stdout",
     "output_type": "stream",
     "text": [
      " "
     ]
    },
    {
     "name": "stderr",
     "output_type": "stream",
     "text": [
      "  File \"/scratch/dmoi/condaenvs/ML2/lib/python3.9/site-packages/pandas/core/common.py\", line 431, in random_state\n",
      "    raise ValueError(\n",
      "Traceback (most recent call last):\n"
     ]
    },
    {
     "name": "stdout",
     "output_type": "stream",
     "text": [
      "97133"
     ]
    },
    {
     "name": "stderr",
     "output_type": "stream",
     "text": [
      "ValueError: random_state must be an integer, array-like, a BitGenerator, a numpy RandomState, or None\n",
      "  File \"/scratch/dmoi/condaenvs/ML2/lib/python3.9/multiprocessing/process.py\", line 315, in _bootstrap\n",
      "    self.run()\n"
     ]
    },
    {
     "name": "stdout",
     "output_type": "stream",
     "text": [
      "\n"
     ]
    },
    {
     "name": "stderr",
     "output_type": "stream",
     "text": [
      "  File \"/scratch/dmoi/condaenvs/ML2/lib/python3.9/multiprocessing/process.py\", line 108, in run\n",
      "    self._target(*self._args, **self._kwargs)\n",
      "Process ForkPoolWorker-367:\n",
      "  File \"/scratch/dmoi/condaenvs/ML2/lib/python3.9/multiprocessing/pool.py\", line 109, in worker\n",
      "    initializer(*initargs)\n",
      "Traceback (most recent call last):\n",
      "  File \"/tmp/4730631/ipykernel_631294/2899797808.py\", line 24, in create_data_updown\n",
      "    dfline = coglinkdf.sample(n=1, random_state = time.localtime() ).iloc[0]\n",
      "  File \"/scratch/dmoi/condaenvs/ML2/lib/python3.9/multiprocessing/process.py\", line 315, in _bootstrap\n",
      "    self.run()\n",
      "  File \"/scratch/dmoi/condaenvs/ML2/lib/python3.9/site-packages/pandas/core/generic.py\", line 5284, in sample\n",
      "    rs = com.random_state(random_state)\n",
      "  File \"/scratch/dmoi/condaenvs/ML2/lib/python3.9/multiprocessing/process.py\", line 108, in run\n",
      "    self._target(*self._args, **self._kwargs)\n",
      "  File \"/scratch/dmoi/condaenvs/ML2/lib/python3.9/site-packages/pandas/core/common.py\", line 431, in random_state\n",
      "    raise ValueError(\n",
      "ValueError: random_state must be an integer, array-like, a BitGenerator, a numpy RandomState, or None\n",
      "  File \"/scratch/dmoi/condaenvs/ML2/lib/python3.9/multiprocessing/pool.py\", line 109, in worker\n",
      "    initializer(*initargs)\n",
      "  File \"/tmp/4730631/ipykernel_631294/2899797808.py\", line 24, in create_data_updown\n",
      "    dfline = coglinkdf.sample(n=1, random_state = time.localtime() ).iloc[0]\n",
      "  File \"/scratch/dmoi/condaenvs/ML2/lib/python3.9/site-packages/pandas/core/generic.py\", line 5284, in sample\n",
      "    rs = com.random_state(random_state)\n",
      "  File \"/scratch/dmoi/condaenvs/ML2/lib/python3.9/site-packages/pandas/core/common.py\", line 431, in random_state\n",
      "    raise ValueError(\n",
      "ValueError: random_state must be an integer, array-like, a BitGenerator, a numpy RandomState, or None\n"
     ]
    },
    {
     "name": "stdout",
     "output_type": "stream",
     "text": [
      "dataset size 389499\n"
     ]
    },
    {
     "name": "stderr",
     "output_type": "stream",
     "text": [
      "Process ForkPoolWorker-368:\n"
     ]
    },
    {
     "name": "stdout",
     "output_type": "stream",
     "text": [
      "dataset size "
     ]
    },
    {
     "name": "stderr",
     "output_type": "stream",
     "text": [
      "Traceback (most recent call last):\n",
      "  File \"/scratch/dmoi/condaenvs/ML2/lib/python3.9/multiprocessing/process.py\", line 315, in _bootstrap\n",
      "    self.run()\n"
     ]
    },
    {
     "name": "stdout",
     "output_type": "stream",
     "text": [
      "97133"
     ]
    },
    {
     "name": "stderr",
     "output_type": "stream",
     "text": [
      "  File \"/scratch/dmoi/condaenvs/ML2/lib/python3.9/multiprocessing/process.py\", line 108, in run\n",
      "    self._target(*self._args, **self._kwargs)\n"
     ]
    },
    {
     "name": "stdout",
     "output_type": "stream",
     "text": [
      "\n"
     ]
    },
    {
     "name": "stderr",
     "output_type": "stream",
     "text": [
      "  File \"/scratch/dmoi/condaenvs/ML2/lib/python3.9/multiprocessing/pool.py\", line 109, in worker\n",
      "    initializer(*initargs)\n",
      "Process ForkPoolWorker-369:\n"
     ]
    },
    {
     "name": "stdout",
     "output_type": "stream",
     "text": [
      "dataset size"
     ]
    },
    {
     "name": "stderr",
     "output_type": "stream",
     "text": [
      "  File \"/tmp/4730631/ipykernel_631294/2899797808.py\", line 24, in create_data_updown\n",
      "    dfline = coglinkdf.sample(n=1, random_state = time.localtime() ).iloc[0]\n",
      "  File \"/scratch/dmoi/condaenvs/ML2/lib/python3.9/site-packages/pandas/core/generic.py\", line 5284, in sample\n",
      "    rs = com.random_state(random_state)\n",
      "Traceback (most recent call last):\n"
     ]
    },
    {
     "name": "stdout",
     "output_type": "stream",
     "text": [
      " 389499"
     ]
    },
    {
     "name": "stderr",
     "output_type": "stream",
     "text": [
      "  File \"/scratch/dmoi/condaenvs/ML2/lib/python3.9/multiprocessing/process.py\", line 315, in _bootstrap\n",
      "    self.run()\n",
      "  File \"/scratch/dmoi/condaenvs/ML2/lib/python3.9/site-packages/pandas/core/common.py\", line 431, in random_state\n",
      "    raise ValueError(\n",
      "ValueError: random_state must be an integer, array-like, a BitGenerator, a numpy RandomState, or None\n"
     ]
    },
    {
     "name": "stdout",
     "output_type": "stream",
     "text": [
      "\n"
     ]
    },
    {
     "name": "stderr",
     "output_type": "stream",
     "text": [
      "  File \"/scratch/dmoi/condaenvs/ML2/lib/python3.9/multiprocessing/process.py\", line 108, in run\n",
      "    self._target(*self._args, **self._kwargs)\n",
      "  File \"/scratch/dmoi/condaenvs/ML2/lib/python3.9/multiprocessing/pool.py\", line 109, in worker\n",
      "    initializer(*initargs)\n"
     ]
    },
    {
     "name": "stdout",
     "output_type": "stream",
     "text": [
      "dataset size"
     ]
    },
    {
     "name": "stderr",
     "output_type": "stream",
     "text": [
      "Process ForkPoolWorker-371:\n",
      "  File \"/tmp/4730631/ipykernel_631294/2899797808.py\", line 24, in create_data_updown\n",
      "    dfline = coglinkdf.sample(n=1, random_state = time.localtime() ).iloc[0]\n"
     ]
    },
    {
     "name": "stdout",
     "output_type": "stream",
     "text": [
      " "
     ]
    },
    {
     "name": "stderr",
     "output_type": "stream",
     "text": [
      "  File \"/scratch/dmoi/condaenvs/ML2/lib/python3.9/site-packages/pandas/core/generic.py\", line 5284, in sample\n",
      "    rs = com.random_state(random_state)\n",
      "Traceback (most recent call last):\n"
     ]
    },
    {
     "name": "stdout",
     "output_type": "stream",
     "text": [
      "97133"
     ]
    },
    {
     "name": "stderr",
     "output_type": "stream",
     "text": [
      "  File \"/scratch/dmoi/condaenvs/ML2/lib/python3.9/site-packages/pandas/core/common.py\", line 431, in random_state\n",
      "    raise ValueError(\n",
      "ValueError: random_state must be an integer, array-like, a BitGenerator, a numpy RandomState, or None\n"
     ]
    },
    {
     "name": "stdout",
     "output_type": "stream",
     "text": [
      "\n",
      "dataset size"
     ]
    },
    {
     "name": "stderr",
     "output_type": "stream",
     "text": [
      "Process ForkPoolWorker-370:\n"
     ]
    },
    {
     "name": "stdout",
     "output_type": "stream",
     "text": [
      " "
     ]
    },
    {
     "name": "stderr",
     "output_type": "stream",
     "text": [
      "Traceback (most recent call last):\n"
     ]
    },
    {
     "name": "stdout",
     "output_type": "stream",
     "text": [
      "97133"
     ]
    },
    {
     "name": "stderr",
     "output_type": "stream",
     "text": [
      "  File \"/scratch/dmoi/condaenvs/ML2/lib/python3.9/multiprocessing/process.py\", line 315, in _bootstrap\n",
      "    self.run()\n"
     ]
    },
    {
     "name": "stdout",
     "output_type": "stream",
     "text": [
      "\n"
     ]
    },
    {
     "name": "stderr",
     "output_type": "stream",
     "text": [
      "  File \"/scratch/dmoi/condaenvs/ML2/lib/python3.9/multiprocessing/process.py\", line 108, in run\n",
      "    self._target(*self._args, **self._kwargs)\n"
     ]
    },
    {
     "name": "stdout",
     "output_type": "stream",
     "text": [
      "dataset size"
     ]
    },
    {
     "name": "stderr",
     "output_type": "stream",
     "text": [
      "Process ForkPoolWorker-372:\n",
      "Traceback (most recent call last):\n"
     ]
    },
    {
     "name": "stdout",
     "output_type": "stream",
     "text": [
      " "
     ]
    },
    {
     "name": "stderr",
     "output_type": "stream",
     "text": [
      "  File \"/scratch/dmoi/condaenvs/ML2/lib/python3.9/multiprocessing/pool.py\", line 109, in worker\n",
      "    initializer(*initargs)\n",
      "  File \"/scratch/dmoi/condaenvs/ML2/lib/python3.9/multiprocessing/process.py\", line 315, in _bootstrap\n",
      "    self.run()\n"
     ]
    },
    {
     "name": "stdout",
     "output_type": "stream",
     "text": [
      "97133"
     ]
    },
    {
     "name": "stderr",
     "output_type": "stream",
     "text": [
      "  File \"/tmp/4730631/ipykernel_631294/2899797808.py\", line 24, in create_data_updown\n",
      "    dfline = coglinkdf.sample(n=1, random_state = time.localtime() ).iloc[0]\n"
     ]
    },
    {
     "name": "stdout",
     "output_type": "stream",
     "text": [
      "\n"
     ]
    },
    {
     "name": "stderr",
     "output_type": "stream",
     "text": [
      "  File \"/scratch/dmoi/condaenvs/ML2/lib/python3.9/multiprocessing/process.py\", line 108, in run\n",
      "    self._target(*self._args, **self._kwargs)\n",
      "  File \"/scratch/dmoi/condaenvs/ML2/lib/python3.9/multiprocessing/pool.py\", line 109, in worker\n",
      "    initializer(*initargs)\n",
      "  File \"/scratch/dmoi/condaenvs/ML2/lib/python3.9/site-packages/pandas/core/generic.py\", line 5284, in sample\n",
      "    rs = com.random_state(random_state)\n",
      "Process ForkPoolWorker-375:\n",
      "  File \"/tmp/4730631/ipykernel_631294/2899797808.py\", line 24, in create_data_updown\n",
      "    dfline = coglinkdf.sample(n=1, random_state = time.localtime() ).iloc[0]\n",
      "  File \"/scratch/dmoi/condaenvs/ML2/lib/python3.9/site-packages/pandas/core/common.py\", line 431, in random_state\n",
      "    raise ValueError(\n",
      "Traceback (most recent call last):\n",
      "  File \"/scratch/dmoi/condaenvs/ML2/lib/python3.9/site-packages/pandas/core/generic.py\", line 5284, in sample\n",
      "    rs = com.random_state(random_state)\n",
      "ValueError: random_state must be an integer, array-like, a BitGenerator, a numpy RandomState, or None\n",
      "  File \"/scratch/dmoi/condaenvs/ML2/lib/python3.9/multiprocessing/process.py\", line 315, in _bootstrap\n",
      "    self.run()\n",
      "  File \"/scratch/dmoi/condaenvs/ML2/lib/python3.9/site-packages/pandas/core/common.py\", line 431, in random_state\n",
      "    raise ValueError(\n",
      "  File \"/scratch/dmoi/condaenvs/ML2/lib/python3.9/multiprocessing/process.py\", line 108, in run\n",
      "    self._target(*self._args, **self._kwargs)\n",
      "ValueError: random_state must be an integer, array-like, a BitGenerator, a numpy RandomState, or None\n",
      "  File \"/scratch/dmoi/condaenvs/ML2/lib/python3.9/multiprocessing/pool.py\", line 109, in worker\n",
      "    initializer(*initargs)\n",
      "  File \"/tmp/4730631/ipykernel_631294/2899797808.py\", line 24, in create_data_updown\n",
      "    dfline = coglinkdf.sample(n=1, random_state = time.localtime() ).iloc[0]\n",
      "  File \"/scratch/dmoi/condaenvs/ML2/lib/python3.9/site-packages/pandas/core/generic.py\", line 5284, in sample\n",
      "    rs = com.random_state(random_state)\n",
      "  File \"/scratch/dmoi/condaenvs/ML2/lib/python3.9/site-packages/pandas/core/common.py\", line 431, in random_state\n",
      "    raise ValueError(\n",
      "ValueError: random_state must be an integer, array-like, a BitGenerator, a numpy RandomState, or None\n"
     ]
    }
   ],
   "source": [
    "model.eval()\n",
    "\n",
    "preds = []\n",
    "truths = []\n",
    "for testdata in test_dataset:\n",
    "    pred = model(testdata.x_dict ,testdata.edge_index_dict)\n",
    "    pred = {idx:x.to('cpu') for idx,x in pred.items()}\n",
    "    \n",
    "    preds.append(np.array(pred['godnode'] ))\n",
    "    truths.append(np.array(testdata['godnode'].y.cpu() ))\n",
    "\n",
    "ROC_curve_single(preds, truths)\n",
    "    "
   ]
  },
  {
   "cell_type": "code",
   "execution_count": null,
   "metadata": {},
   "outputs": [],
   "source": []
  },
  {
   "cell_type": "code",
   "execution_count": null,
   "metadata": {},
   "outputs": [],
   "source": []
  },
  {
   "cell_type": "code",
   "execution_count": null,
   "metadata": {},
   "outputs": [],
   "source": []
  },
  {
   "cell_type": "code",
   "execution_count": null,
   "metadata": {},
   "outputs": [],
   "source": []
  },
  {
   "cell_type": "code",
   "execution_count": null,
   "metadata": {},
   "outputs": [],
   "source": []
  },
  {
   "cell_type": "code",
   "execution_count": null,
   "metadata": {},
   "outputs": [],
   "source": []
  },
  {
   "cell_type": "code",
   "execution_count": null,
   "metadata": {},
   "outputs": [],
   "source": []
  }
 ],
 "metadata": {
  "kernelspec": {
   "display_name": "Python 3 (ipykernel)",
   "language": "python",
   "name": "python3"
  },
  "language_info": {
   "codemirror_mode": {
    "name": "ipython",
    "version": 3
   },
   "file_extension": ".py",
   "mimetype": "text/x-python",
   "name": "python",
   "nbconvert_exporter": "python",
   "pygments_lexer": "ipython3",
   "version": "3.9.7"
  }
 },
 "nbformat": 4,
 "nbformat_minor": 4
}
