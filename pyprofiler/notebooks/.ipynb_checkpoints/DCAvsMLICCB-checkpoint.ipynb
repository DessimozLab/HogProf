{
 "cells": [
  {
   "cell_type": "code",
   "execution_count": 1,
   "metadata": {},
   "outputs": [
    {
     "name": "stdout",
     "output_type": "stream",
     "text": [
      "['/scratch/dmoi/projects/HogProf/pyprofiler/notebooks', '/scratch/dmoi/condaenvs/ML2/lib/python39.zip', '/scratch/dmoi/condaenvs/ML2/lib/python3.9', '/scratch/dmoi/condaenvs/ML2/lib/python3.9/lib-dynload', '', '/scratch/dmoi/condaenvs/ML2/lib/python3.9/site-packages', '/scratch/dmoi/software/pyham', '/scratch/dmoi/condaenvs/ML2/lib/python3.9/site-packages/IPython/extensions', '/users/dmoi/.ipython', '../..']\n"
     ]
    }
   ],
   "source": [
    "%load_ext autoreload\n",
    "%autoreload 2\n",
    "import sys\n",
    "sys.path.append('../..')\n",
    "\n",
    "#sys.path.append( '/home/cactuskid13/miniconda3/pkgs/')\n",
    "print(sys.path)"
   ]
  },
  {
   "cell_type": "code",
   "execution_count": 157,
   "metadata": {},
   "outputs": [],
   "source": [
    "#using the profiler. It's easy!\n",
    "#lets import the profiler, configuration file and some tools for GO analysis to look at our returned results\n",
    "from pyprofiler.utils import hashutils\n",
    "import ete3\n",
    "import random\n",
    "from pyprofiler.utils import config_utils\n",
    "import pyprofiler.utils.goatools_utils as goa\n",
    "import pyprofiler.utils.hashutils as hashutils\n",
    "import seaborn as sns\n",
    "from matplotlib import pyplot as plt\n",
    "import numpy as np\n",
    "import pyprofiler.profiler as profiler\n",
    "import pandas as pd\n",
    "import itertools\n",
    "import redis\n",
    "##to get the mapping of oma hogs to cogs to interactions in specific species I used dask distributed and a redis server\n",
    "#you may need to get these up and running for you own cluster configuration before this notebook will work for you\n",
    "\n",
    "import dask\n",
    "import scipy\n",
    "from dask import dataframe as dd\n",
    "import pickle\n",
    "from bloom_filter2 import BloomFilter\n",
    "from sklearn.model_selection import train_test_split\n"
   ]
  },
  {
   "cell_type": "code",
   "execution_count": 3,
   "metadata": {},
   "outputs": [
    {
     "name": "stdout",
     "output_type": "stream",
     "text": [
      "loading lsh\n",
      "indexing lsh\n"
     ]
    },
    {
     "name": "stderr",
     "output_type": "stream",
     "text": [
      "/scratch/dmoi/condaenvs/ML2/lib/python3.9/site-packages/tables/leaf.py:367: PerformanceWarning: The Leaf ``/Protein/_i_Entries/OmaHOG/sorted`` is exceeding the maximum recommended rowsize (104857600 bytes);\n",
      "be ready to see PyTables asking for *lots* of memory and possibly slow\n",
      "I/O.  You may want to reduce the rowsize by trimming the value of\n",
      "dimensions that are orthogonal (and preferably close) to the *main*\n",
      "dimension of this leave.  Alternatively, in case you have specified a\n",
      "very small/large chunksize, you may want to increase/decrease it.\n",
      "  warnings.warn(\"\"\"\\\n"
     ]
    },
    {
     "name": "stdout",
     "output_type": "stream",
     "text": [
      "3508\n",
      "DONE\n"
     ]
    }
   ],
   "source": [
    "#lets load a compiled db containing the OMA root HOGs into a profiler oject \n",
    "p = profiler.Profiler(lshforestpath = '/scratch/dmoi/datasets/all/newlshforest.pkl' , hashes_h5='/scratch/dmoi/datasets/birds/all/hashes.h5' , mat_path= None, oma = '/scratch/dmoi/datasets/OMA/apr2021/OmaServer.h5', tar= None , nsamples = 256 , mastertree = '/scratch/dmoi/datasets/birds/all_test_master_tree.pkl')"
   ]
  },
  {
   "cell_type": "code",
   "execution_count": 4,
   "metadata": {},
   "outputs": [],
   "source": [
    "def grabHog(ID, verbose = True):\n",
    "    try:\n",
    "        entry = p.db_obj.entry_by_entry_nr(p.db_obj.id_resolver.resolve(ID))\n",
    "        return entry[4].decode() , entry\n",
    "    except:\n",
    "        return np.nan,np.nan\n",
    "#map to OMA HOGs"
   ]
  },
  {
   "cell_type": "code",
   "execution_count": 5,
   "metadata": {},
   "outputs": [
    {
     "name": "stdout",
     "output_type": "stream",
     "text": [
      "                  0                1             2\n",
      "0            P46926           Q8TDQ7  1.000000e+00\n",
      "1            P43631           Q14954  1.000000e+00\n",
      "2            P43631           Q14953  1.000000e+00\n",
      "3            P43631           P43629  1.000000e+00\n",
      "4         100287045           Q86YD7  1.000000e+00\n",
      "...             ...              ...           ...\n",
      "17526306     Q9H6Z4           Q7L1Q6  3.000000e-14\n",
      "17526307     Q9Y265           P54578  3.000000e-14\n",
      "17526308     P16152           P04406  3.000000e-14\n",
      "17526309     Q96AE4           P78417  3.000000e-14\n",
      "17526310     P20042  ENSG00000180574  3.000000e-14\n",
      "\n",
      "[17526311 rows x 3 columns]\n"
     ]
    }
   ],
   "source": [
    "#load humap data\n",
    "humap = '/scratch/dmoi/datasets/humap_PPI/humap2_ppis_ACC_20200821.pairsWprob'\n",
    "humap_df = pd.read_table(humap, header = None)\n",
    "print(humap_df)"
   ]
  },
  {
   "cell_type": "code",
   "execution_count": 6,
   "metadata": {},
   "outputs": [
    {
     "name": "stdout",
     "output_type": "stream",
     "text": [
      "8981\n"
     ]
    },
    {
     "name": "stderr",
     "output_type": "stream",
     "text": [
      "/scratch/dmoi/condaenvs/ML2/lib/python3.9/site-packages/tables/leaf.py:367: PerformanceWarning: The Leaf ``/_i_XRef/XRefId/sorted`` is exceeding the maximum recommended rowsize (104857600 bytes);\n",
      "be ready to see PyTables asking for *lots* of memory and possibly slow\n",
      "I/O.  You may want to reduce the rowsize by trimming the value of\n",
      "dimensions that are orthogonal (and preferably close) to the *main*\n",
      "dimension of this leave.  Alternatively, in case you have specified a\n",
      "very small/large chunksize, you may want to increase/decrease it.\n",
      "  warnings.warn(\"\"\"\\\n"
     ]
    }
   ],
   "source": [
    "#filter to 90%proba\n",
    "humap_df = humap_df[humap_df[2] > .75 ]\n",
    "print(len(humap_df))\n",
    "mapper = set( list(humap_df[1]) + list(humap_df[0]) )\n",
    "mapper = { protid: grabHog(protid) for protid in mapper }\n",
    "humap_df['hog1'] = humap_df[1].map(mapper)\n",
    "humap_df['hog2'] = humap_df[0].map(mapper)"
   ]
  },
  {
   "cell_type": "code",
   "execution_count": 7,
   "metadata": {},
   "outputs": [
    {
     "name": "stdout",
     "output_type": "stream",
     "text": [
      "8576\n"
     ]
    }
   ],
   "source": [
    "humap_df['hogid_1'] = humap_df['hog1'].map(lambda x:x[0])\n",
    "humap_df['hogid_2'] = humap_df['hog2'].map(lambda x:x[0])\n",
    "humap_df = humap_df.dropna()\n",
    "print(len(humap_df))"
   ]
  },
  {
   "cell_type": "code",
   "execution_count": 8,
   "metadata": {},
   "outputs": [
    {
     "name": "stdout",
     "output_type": "stream",
     "text": [
      "8360\n"
     ]
    }
   ],
   "source": [
    "humap_df['fam1'] = humap_df['hog1'].map( lambda x :   p.hogid2fam(x[1]) )\n",
    "humap_df['fam2'] = humap_df['hog2'].map( lambda x :   p.hogid2fam(x[1]) ) \n",
    "humap_df = humap_df.dropna()\n",
    "humap_df.fam1 = humap_df.fam1.map(int)\n",
    "humap_df.fam2 = humap_df.fam2.map(int)\n",
    "print(len(humap_df))"
   ]
  },
  {
   "cell_type": "code",
   "execution_count": 9,
   "metadata": {},
   "outputs": [],
   "source": [
    "humap_df.to_csv(humap+'hogmapped.csv')"
   ]
  },
  {
   "cell_type": "code",
   "execution_count": 10,
   "metadata": {},
   "outputs": [],
   "source": [
    "humap_pairs = humap_df"
   ]
  },
  {
   "cell_type": "code",
   "execution_count": 11,
   "metadata": {},
   "outputs": [
    {
     "name": "stdout",
     "output_type": "stream",
     "text": [
      "3168\n"
     ]
    }
   ],
   "source": [
    "allhogs = set([])\n",
    "allhogs = allhogs.union( set(humap_df.fam1.unique() ) )\n",
    "allhogs = allhogs.union( set(humap_df.fam2.unique() ) )\n",
    "print(len(allhogs))"
   ]
  },
  {
   "cell_type": "code",
   "execution_count": 12,
   "metadata": {
    "scrolled": true,
    "tags": []
   },
   "outputs": [],
   "source": [
    "profiles = {}\n",
    "calc_hogs_humap = False\n",
    "if calc_hogs_humap == True:\n",
    "    for fam in allhogs:\n",
    "        print(fam)\n",
    "        try:\n",
    "            prof = p.return_profile_OTF(fam)\n",
    "        except:\n",
    "            print('err', fam)\n",
    "        print(prof)\n",
    "        profiles.update(prof)"
   ]
  },
  {
   "cell_type": "code",
   "execution_count": 13,
   "metadata": {},
   "outputs": [],
   "source": [
    "import pickle\n",
    "save_Hogs_humap = False\n",
    "if save_Hogs_humap == True:\n",
    "    with open(humap + 'gold_standard_profiles.pkl' , 'wb') as profiles_out:\n",
    "        profiles_out.write(pickle.dumps(profiles))"
   ]
  },
  {
   "cell_type": "code",
   "execution_count": 14,
   "metadata": {},
   "outputs": [],
   "source": [
    "import pickle\n",
    "with open(humap + 'gold_standard_profiles.pkl' , 'rb') as profiles_out:\n",
    "    humap_profiles = pickle.loads(profiles_out.read())"
   ]
  },
  {
   "cell_type": "code",
   "execution_count": 15,
   "metadata": {},
   "outputs": [
    {
     "name": "stdout",
     "output_type": "stream",
     "text": [
      "                                                      mat  \\\n",
      "524288  [[0.0, 0.0, 0.0, 0.0, 0.0, 0.0, 0.0, 0.0, 0.0,...   \n",
      "516097  [[0.0, 0.0, 0.0, 0.0, 0.0, 0.0, 0.0, 0.0, 0.0,...   \n",
      "516099  [[0.0, 0.0, 0.0, 0.0, 0.0, 0.0, 0.0, 0.0, 0.0,...   \n",
      "786438  [[1.0, 1.0, 1.0, 0.0, 0.0, 1.0, 1.0, 1.0, 1.0,...   \n",
      "573452  [[0.0, 0.0, 1.0, 0.0, 0.0, 0.0, 0.0, 0.0, 0.0,...   \n",
      "\n",
      "                                                     tree  \n",
      "524288  (((\\n--7757)), ((\\n--7764)), ((\\n--9597)), ((\\...  \n",
      "516097  (((\\n--9597)), ((\\n--9598)), ((\\n--9606)), ((\\...  \n",
      "516099  (((\\n--9597)), ((\\n--9598)), ((\\n--9606)), ((\\...  \n",
      "786438  (((\\n--868595)), ((\\n--349161)), ((\\n--696281)...  \n",
      "573452  (((\\n--120017)), ((\\n--237631)), ((\\n--1230383...  \n"
     ]
    }
   ],
   "source": [
    "humap_df = pd.DataFrame.from_dict(humap_profiles , orient = 'index')\n",
    "print(humap_df.head())"
   ]
  },
  {
   "cell_type": "code",
   "execution_count": 16,
   "metadata": {},
   "outputs": [],
   "source": [
    "\n",
    "coglink_df = dd.read_csv('/scratch/dmoi/datasets/STRING/COG.links.detailed.v11.5.txt', blocksize=25e6 , header = 0, sep = ' ')"
   ]
  },
  {
   "cell_type": "code",
   "execution_count": 17,
   "metadata": {},
   "outputs": [
    {
     "name": "stdout",
     "output_type": "stream",
     "text": [
      "Dask DataFrame Structure:\n",
      "                 group1  group2 neighborhood fusion cooccurence coexpression experimental database textmining combined_score\n",
      "npartitions=195                                                                                                             \n",
      "                 object  object        int64  int64       int64        int64        int64    int64      int64          int64\n",
      "                    ...     ...          ...    ...         ...          ...          ...      ...        ...            ...\n",
      "...                 ...     ...          ...    ...         ...          ...          ...      ...        ...            ...\n",
      "                    ...     ...          ...    ...         ...          ...          ...      ...        ...            ...\n",
      "                    ...     ...          ...    ...         ...          ...          ...      ...        ...            ...\n",
      "Dask Name: read-csv, 195 tasks\n",
      "Index(['group1', 'group2', 'neighborhood', 'fusion', 'cooccurence',\n",
      "       'coexpression', 'experimental', 'database', 'textmining',\n",
      "       'combined_score'],\n",
      "      dtype='object')\n"
     ]
    }
   ],
   "source": [
    "print(coglink_df)\n",
    "print(coglink_df.columns)"
   ]
  },
  {
   "cell_type": "code",
   "execution_count": 18,
   "metadata": {},
   "outputs": [],
   "source": [
    "dropcols = ['neighborhood', 'fusion', 'cooccurence', 'combined_score' ]\n",
    "coglink_df = coglink_df.drop(columns = dropcols)\n",
    "coglink_df['score'] = coglink_df.coexpression + coglink_df.experimental +coglink_df.database+ coglink_df.textmining"
   ]
  },
  {
   "cell_type": "code",
   "execution_count": 19,
   "metadata": {},
   "outputs": [
    {
     "name": "stdout",
     "output_type": "stream",
     "text": [
      "500428\n"
     ]
    }
   ],
   "source": [
    "coglink_df= coglink_df[coglink_df.score>1000]\n",
    "print(len(coglink_df))\n",
    "coglink_df = coglink_df.compute()"
   ]
  },
  {
   "cell_type": "code",
   "execution_count": 20,
   "metadata": {},
   "outputs": [
    {
     "name": "stdout",
     "output_type": "stream",
     "text": [
      "      group1   group2  coexpression  experimental  database  textmining  score\n",
      "0    COG0001  COG0002            79             0       741         361   1181\n",
      "4    COG0001  COG0007           105           424         0         529   1058\n",
      "76   COG0001  COG0113           355             0       741         822   1918\n",
      "130  COG0001  COG0181           213             0       741         822   1776\n",
      "305  COG0001  COG0549             0             0       741         263   1004\n"
     ]
    }
   ],
   "source": [
    "print(coglink_df.head())"
   ]
  },
  {
   "cell_type": "code",
   "execution_count": 21,
   "metadata": {},
   "outputs": [],
   "source": [
    "grabcogs = set( list(coglink_df.group1.unique()) + list(coglink_df.group2.unique()) )"
   ]
  },
  {
   "cell_type": "code",
   "execution_count": 22,
   "metadata": {},
   "outputs": [],
   "source": [
    "grabcogs= list(grabcogs)"
   ]
  },
  {
   "cell_type": "code",
   "execution_count": 23,
   "metadata": {},
   "outputs": [
    {
     "name": "stdout",
     "output_type": "stream",
     "text": [
      "13067 ['NOG05525', 'NOG07083', 'NOG49459', 'COG0530', 'NOG259259', 'COG5498', 'NOG21495', 'NOG233604', 'KOG2122', 'NOG20741', 'COG0161', 'NOG29147', 'NOG13900', 'COG1798', 'COG3522', 'COG1825', 'COG0116', 'NOG33296', 'NOG05051', 'COG0136', 'COG1260', 'COG1272', 'NOG07369', 'NOG258865', 'NOG91697', 'NOG36849', 'COG1400', 'KOG1042', 'KOG2501', 'NOG244415', 'NOG248591', 'NOG96140', 'COG0310', 'NOG238447', 'COG0308', 'NOG78272', 'COG1734', 'COG1027', 'COG5026', 'COG5563', 'NOG10705', 'NOG08472', 'NOG98530', 'NOG95764', 'NOG254095', 'KOG4034', 'NOG270884', 'NOG273358', 'COG1566', 'NOG269599', 'COG0718', 'NOG274454', 'NOG230231', 'NOG01079', 'KOG4833', 'COG1286', 'COG1912', 'NOG01446', 'KOG2242', 'KOG3770', 'NOG73461', 'NOG87680', 'NOG07806', 'NOG35762', 'NOG86122', 'KOG3856', 'NOG15496', 'COG2123', 'NOG05625', 'NOG257558', 'KOG4790', 'NOG71599', 'NOG02609', 'NOG10824', 'NOG86268', 'COG0699', 'COG0503', 'NOG231436', 'COG3230', 'COG3082', 'NOG234937', 'NOG02509', 'NOG255019', 'NOG23942', 'COG4458', 'COG1112', 'COG5200', 'NOG02565', 'COG0389', 'NOG251690', 'NOG03175', 'NOG22238', 'COG3969', 'COG3697', 'KOG2659', 'NOG254051', 'KOG3616', 'NOG132228', 'KOG3922', 'KOG1045']\n"
     ]
    }
   ],
   "source": [
    "print(len(grabcogs), grabcogs[0:100])"
   ]
  },
  {
   "cell_type": "code",
   "execution_count": 24,
   "metadata": {},
   "outputs": [
    {
     "name": "stdout",
     "output_type": "stream",
     "text": [
      "                                       ##protein  start_position  \\\n",
      "orthologous_group                                                  \n",
      "COG0003            1116232.AHBF01000005_gene1599               1   \n",
      "COG0003            1116232.AHBF01000010_gene1374               1   \n",
      "COG0003            1116232.AHBF01000010_gene1375               1   \n",
      "COG0003                  1077974.GOEFS_081_00530               1   \n",
      "COG0003                        1078020.KEK_06232               1   \n",
      "\n",
      "                   end_position                     protein_annotation  \\\n",
      "orthologous_group                                                        \n",
      "COG0003                     380               annotation not available   \n",
      "COG0003                     486               annotation not available   \n",
      "COG0003                     325               annotation not available   \n",
      "COG0003                     383               annotation not available   \n",
      "COG0003                     392  COG0003 Oxyanion-translocating ATPase   \n",
      "\n",
      "                   species      COG  \n",
      "orthologous_group                    \n",
      "COG0003            1116232  COG0003  \n",
      "COG0003            1116232  COG0003  \n",
      "COG0003            1116232  COG0003  \n",
      "COG0003            1077974  COG0003  \n",
      "COG0003            1078020  COG0003  \n"
     ]
    }
   ],
   "source": [
    "#map the interacting cogs to the proteins\n",
    "COGmapings_df = dd.read_csv('/scratch/dmoi/datasets/STRING/COG.mappings.v11.5.txt', blocksize=25e6 , header = 0, sep = '\\t')\n",
    "COGmapings_df = COGmapings_df.set_index('orthologous_group')\n",
    "COGmapings_df.astype(str)\n",
    "COGmapings_df['##protein'].map( lambda x : x.strip() )\n",
    "COGmapings_df['species'] = COGmapings_df['##protein'].map( lambda x : x.split('.')[0] )\n",
    "\n",
    "COGmapings_df['COG'] = COGmapings_df.index\n",
    "COGmapings_df = COGmapings_df.loc[grabcogs]\n",
    "\n",
    "print(COGmapings_df.head())\n",
    "COGmapings_df = COGmapings_df.compute()"
   ]
  },
  {
   "cell_type": "code",
   "execution_count": 25,
   "metadata": {},
   "outputs": [],
   "source": [
    "#only take the proteins in our cogs of interest\n",
    "compute_grabcogs = False\n",
    "if compute_grabcogs == True:\n",
    "    grabprots =list(COGmapings_df['##protein'].unique())\n",
    "    print(len(grabprots))\n",
    "    with open('/scratch/dmoi/datasets/STRING/COG.links.detailed.v11.5.txt' + '.grabcogs.txt', 'w') as protsout:\n",
    "        protsout.write(''.join([ p + '\\n' for p in grabcogs ]) )\n",
    "    with open('/scratch/dmoi/datasets/STRING/COG.mappings.v11.5.txt' + '.grabprots.txt' , 'w') as protsout:\n",
    "        protsout.write(''.join([ p + '\\n' for p in grabprots ]) )\n",
    "else:\n",
    "    with open('/scratch/dmoi/datasets/STRING/COG.links.detailed.v11.5.txt' + '.grabcogs.txt', 'r') as protsout:\n",
    "        grabcogs = [ cog for cog in protsout.readlines()]\n",
    "    with open('/scratch/dmoi/datasets/STRING/COG.mappings.v11.5.txt' + '.grabprots.txt' , 'r') as protsout:\n",
    "        grabprots = [ prot for prot in protsout.readlines()]\n"
   ]
  },
  {
   "cell_type": "code",
   "execution_count": 26,
   "metadata": {},
   "outputs": [
    {
     "name": "stdout",
     "output_type": "stream",
     "text": [
      "BloomFilter(ideal_num_elements_n=100000000, error_rate_p=0.001000, num_bits_m=1437758757)\n"
     ]
    }
   ],
   "source": [
    "save_protlist = False\n",
    "if save_protlist == True:\n",
    "    print('establishng bloom filter for the proteins we want to keep from cogs of interest')\n",
    "    #establish a filter for the prots\n",
    "    protlist =  BloomFilter(max_elements=10**8, error_rate=0.001 ,start_fresh = True)\n",
    "    #df['pair']= df.protein1.astype(str) + '_' + df.protein2.astype(str)\n",
    "    for i,prot in enumerate(grabprots):\n",
    "        if i % 100000 == 0:\n",
    "            print(i/len(grabprots))\n",
    "        protlist.add(prot.strip())\n",
    "    print(protlist)\n",
    "    with open('protbloom.pkl' , 'wb' ) as bloomout:\n",
    "        bloomout.write(pickle.dumps(protlist))\n",
    "    print('done')\n",
    "else:\n",
    "    with open('protbloom.pkl' , 'rb' ) as bloomout:\n",
    "        protlist = pickle.loads(bloomout.read())\n",
    "    print(protlist)\n",
    "    "
   ]
  },
  {
   "cell_type": "code",
   "execution_count": 27,
   "metadata": {},
   "outputs": [
    {
     "name": "stdout",
     "output_type": "stream",
     "text": [
      "1000565.METUNv1_01990 True\n",
      "crap False\n"
     ]
    }
   ],
   "source": [
    "print(grabprots[0].strip() ,grabprots[0].strip() in protlist )\n",
    "print('crap','crap' in protlist)"
   ]
  },
  {
   "cell_type": "code",
   "execution_count": 28,
   "metadata": {},
   "outputs": [
    {
     "name": "stdout",
     "output_type": "stream",
     "text": [
      "17064691\n"
     ]
    }
   ],
   "source": [
    "#establish cog2hog mapping\n",
    "print(len(grabprots))"
   ]
  },
  {
   "cell_type": "code",
   "execution_count": 29,
   "metadata": {},
   "outputs": [],
   "source": [
    "calc_mappers = False\n",
    "rdb = redis.Redis(host='10.202.12.174', port=6379, db=0)\n",
    "if calc_mappers == True:\n",
    "    count = 0 \n",
    "    for i,r in COGmapings_df.iterrows():\n",
    "        rdb.set(r['##protein'], i)\n",
    "        count+=1\n",
    "        if count < 10:\n",
    "            print(i+'\\n',r)\n",
    "        if count%1000000==0:\n",
    "            print(count/len(COGmapings_df))\n",
    "    #protmapper[r['##protein']] = i    \n",
    "    #protmapper = dict( zip(COGmapings_df['##protein'] , COGmapings_df.index ) )\n",
    "    #cogexample = dict( zip( COGmapings_df.index ,  COGmapings_df['##protein']   ) )\n",
    "    \n",
    "    #with open('cogmappers.pkl' , 'wb')as cogmappers_out:\n",
    "    #    cogmappers_out.write(pickle.dumps((protmapper, cogexample)) )\n",
    "#else:\n",
    "#    with open('cogmappers.pkl' , 'rb')as cogmappers_out:\n",
    "#        protmapper, cogexample = pickle.loads(cogmappers_out.read())"
   ]
  },
  {
   "cell_type": "code",
   "execution_count": 30,
   "metadata": {},
   "outputs": [
    {
     "name": "stdout",
     "output_type": "stream",
     "text": [
      "17681656\n"
     ]
    }
   ],
   "source": [
    "#print(len(grabcogs))\n",
    "print(len(COGmapings_df))"
   ]
  },
  {
   "cell_type": "code",
   "execution_count": 31,
   "metadata": {},
   "outputs": [],
   "source": [
    "maphogs = False\n",
    "if maphogs == True:\n",
    "    rdb = redis.Redis(host='10.202.12.174', port=6379, db=0)\n",
    "    hogmap = {}\n",
    "    for i,prot in enumerate(grabprots):\n",
    "        if i % 100000 == 0 :\n",
    "            print(i/len(grabprots))\n",
    "        cog = rdb.get(prot)\n",
    "        if cog not in hogmap:\n",
    "            mapped =  grabHog(prot)\n",
    "            #retry until something maps\n",
    "            if mapped[0] != np.nan and type(mapped[0]) == str :\n",
    "                if len(mapped[0])>1 :\n",
    "                    hogmap[cog] = mapped\n",
    "    with open('stringhogmap.pkl' , 'wb')as hogmapout:\n",
    "        hogmapout.write(pickle.dumps(hogmap))\n",
    "else:\n",
    "    with open('stringhogmap.pkl' , 'rb')as hogmapout:\n",
    "        hogmap = pickle.loads(hogmapout.read())\n"
   ]
  },
  {
   "cell_type": "code",
   "execution_count": 32,
   "metadata": {},
   "outputs": [
    {
     "name": "stdout",
     "output_type": "stream",
     "text": [
      "12761\n",
      "b'COG0022' ('HOG:A0772469', (1134780, 359776777, 338, 36877, b'HOG:A0772469', b'A', 136963, 137976, -1, 0, b'Q9K3H1', 1080465110, 1015, b'6161cbb7b6aed10547b7c95555c1c63a', 60128051, 322, b'', -1, -1))\n",
      "b'COG1071' ('HOG:A0780700.10b.7b', (3753108, 1179251817, 734, 598427, b'HOG:A0780700.10b.7b', b'A', 2952449, 2954650, -1, 0, b'F4GWD5', 3541508558, 2203, b'0eaa8538e27a234812d4b19c67f1f560', 234217123, 43, b'', -1, -1))\n",
      "b'COG0508' ('HOG:A0757171.22b.54b.29a', (3288989, 1034223672, 469, 598421, b'HOG:A0757171.22b.54b.29a', b'A', 1363913, 1365319, 1, 0, b'G4R8Y9', 3105960004, 1408, b'3b9ecc15f5881cc16928ba7e6a656fe6', 205095449, 48, b'', -1, -1))\n",
      "b'COG0462' ('HOG:A0780700', (14151364, 5935651032, 846, 598427, b'HOG:A0780700', b'supercontig_To_g48347', 2246, 4990, -1, 0, b'K0RIS8', 17821104459, 2539, b'8f2ac7bfb36b9ffe82ad5d8dc2410bae', 696068665, 22, b'', -1, -1))\n",
      "b'COG4886' ('HOG:A0779810.2c.30a.12a.2a', (16107232, 6695185680, 411, 598444, b'HOG:A0779810.2c.30a.12a.2a', b'1', 16009478, 16013321, 1, 0, b'A0A0A0LUF3', 20101664271, 1234, b'5ef6b97572ab9b6e5b14a390dee7e0b0', 775353403, 22, b'', -1, -1))\n",
      "b'KOG0836' ('HOG:A0340147', (7186393, 2441445398, 730, 232423, b'HOG:A0340147', b'supercontig_CCM_S00003', 3237807, 3240958, -1, 0, b'G3JGC8', 7331522586, 2191, b'0ec2bdd82de40b4a83db93dc6e49531c', 404397013, 22, b'', -1, -1))\n",
      "b'COG0025' ('HOG:A0645179.17f', (1135340, 359947462, 529, 807503, b'HOG:A0645179.17f', b'A', 120051, 121637, -1, 0, b'Q9S2Y0', 1080977725, 1588, b'8ae35ad6b3503cb02fe7286519489d30', 60305019, 797, b'', -1, -1))\n",
      "b'COG2905' ('HOG:A0792471', (3753076, 1179241622, 870, 810460, b'HOG:A0792471', b'A', 2919860, 2922469, -1, 0, b'F4GWA3', 3541477941, 2611, b'628cfc8860369d797b5b145e312368fd', 234216107, 40, b'', -1, -1))\n",
      "b'COG0569' ('HOG:A0743626.16j', (4647593, 1466328081, 602, 808080, b'HOG:A0743626.16j', b'A', 62922, 64727, -1, 0, b'A0A0H3FI71', 4403631835, 1807, b'306b5f8eb255c80fd14d7df21f3f257d', 286428690, 72, b'', -1, -1))\n",
      "b'COG0589' ('HOG:A0757574.22l', (1750695, 568860072, 544, 808054, b'HOG:A0757574.22l', b'Chromosome', 2723405, 2725036, 1, 0, b'Q8YUS0', 1708330910, 1633, b'4e54ac253f4a82b2e6da32dd095c5be2', 111675212, 25, b'', -1, -1))\n"
     ]
    }
   ],
   "source": [
    "print(len(hogmap))\n",
    "for i, key in enumerate(hogmap):\n",
    "    if i < 10:\n",
    "        print(key, hogmap[key])"
   ]
  },
  {
   "cell_type": "code",
   "execution_count": 33,
   "metadata": {},
   "outputs": [
    {
     "name": "stdout",
     "output_type": "stream",
     "text": [
      "500428\n",
      "495684\n",
      "         group1      group2  coexpression  experimental  database  textmining  \\\n",
      "0    b'COG0001'  b'COG0002'            79             0       741         361   \n",
      "4    b'COG0001'  b'COG0007'           105           424         0         529   \n",
      "76   b'COG0001'  b'COG0113'           355             0       741         822   \n",
      "130  b'COG0001'  b'COG0181'           213             0       741         822   \n",
      "305  b'COG0001'  b'COG0549'             0             0       741         263   \n",
      "\n",
      "     score                                               hog1  \\\n",
      "0     1181  (HOG:A0644867.20h, [1140353, 361560390, 442, 9...   \n",
      "4     1058  (HOG:A0644867.20h, [1140353, 361560390, 442, 9...   \n",
      "76    1918  (HOG:A0644867.20h, [1140353, 361560390, 442, 9...   \n",
      "130   1776  (HOG:A0644867.20h, [1140353, 361560390, 442, 9...   \n",
      "305   1004  (HOG:A0644867.20h, [1140353, 361560390, 442, 9...   \n",
      "\n",
      "                                                  hog2  \n",
      "0    (HOG:A0780127.8b, [1141676, 362003752, 343, 10...  \n",
      "4    (HOG:A0758549.18f.24b, [2305083, 732402241, 26...  \n",
      "76   (HOG:A0780440.7a, [1140807, 361710173, 331, 10...  \n",
      "130  (HOG:A0784633.2a.2b, [2775543, 871944101, 799,...  \n",
      "305  (HOG:A0779888.12b, [4650156, 1467137083, 317, ...  \n"
     ]
    }
   ],
   "source": [
    "#add the HOGs to the COGdf\n",
    "#grab the corresponding profiles\n",
    "print(len(coglink_df))\n",
    "try:\n",
    "    coglink_df.group1  = coglink_df.group1.map( lambda x : x.encode())\n",
    "    coglink_df.group2  = coglink_df.group2.map( lambda x : x.encode())\n",
    "except:\n",
    "    pass\n",
    "\n",
    "coglink_df['hog1'] = coglink_df.group1.map(hogmap)\n",
    "coglink_df['hog2'] = coglink_df.group2.map(hogmap)\n",
    "coglink_df=coglink_df.dropna()\n",
    "print(len(coglink_df))\n",
    "print(coglink_df.head())"
   ]
  },
  {
   "cell_type": "code",
   "execution_count": 34,
   "metadata": {},
   "outputs": [],
   "source": [
    "coglink_df['hogid_1'] = coglink_df['hog1'].map(lambda x:x[0])\n",
    "coglink_df['hogid_2'] = coglink_df['hog2'].map(lambda x:x[0])"
   ]
  },
  {
   "cell_type": "code",
   "execution_count": 35,
   "metadata": {},
   "outputs": [],
   "source": [
    "coglink_df['fam1'] = coglink_df['hog1'].map( lambda x :   p.hogid2fam(x[1]) )\n",
    "coglink_df['fam2'] = coglink_df['hog2'].map( lambda x :   p.hogid2fam(x[1]) ) \n",
    "\n",
    "coglink_df.fam1 = coglink_df.fam1.map(int)\n",
    "coglink_df.fam2 = coglink_df.fam2.map(int)\n"
   ]
  },
  {
   "cell_type": "code",
   "execution_count": 36,
   "metadata": {},
   "outputs": [
    {
     "name": "stdout",
     "output_type": "stream",
     "text": [
      "               group1       group2  coexpression  experimental  database  \\\n",
      "0          b'COG0001'   b'COG0002'            79             0       741   \n",
      "4          b'COG0001'   b'COG0007'           105           424         0   \n",
      "76         b'COG0001'   b'COG0113'           355             0       741   \n",
      "130        b'COG0001'   b'COG0181'           213             0       741   \n",
      "305        b'COG0001'   b'COG0549'             0             0       741   \n",
      "...               ...          ...           ...           ...       ...   \n",
      "530407  b'arCOG09486'  b'NOG24221'           263             0       899   \n",
      "530662  b'arCOG09486'  b'NOG49907'            65             0         0   \n",
      "530951  b'arCOG09486'   b'COG3338'           568             0         0   \n",
      "531432  b'arCOG09486'  b'NOG24221'           263             0       899   \n",
      "531687  b'arCOG09486'  b'NOG49907'            65             0         0   \n",
      "\n",
      "        textmining  score                                               hog1  \\\n",
      "0              361   1181  (HOG:A0644867.20h, [1140353, 361560390, 442, 9...   \n",
      "4              529   1058  (HOG:A0644867.20h, [1140353, 361560390, 442, 9...   \n",
      "76             822   1918  (HOG:A0644867.20h, [1140353, 361560390, 442, 9...   \n",
      "130            822   1776  (HOG:A0644867.20h, [1140353, 361560390, 442, 9...   \n",
      "305            263   1004  (HOG:A0644867.20h, [1140353, 361560390, 442, 9...   \n",
      "...            ...    ...                                                ...   \n",
      "530407         780   1942  (HOG:A0501521, [9936761, 3823478900, 320, 6798...   \n",
      "530662         936   1001  (HOG:A0501521, [9936761, 3823478900, 320, 6798...   \n",
      "530951         573   1141  (HOG:A0501521, [9936761, 3823478900, 320, 6798...   \n",
      "531432         780   1942  (HOG:A0501521, [9936761, 3823478900, 320, 6798...   \n",
      "531687         936   1001  (HOG:A0501521, [9936761, 3823478900, 320, 6798...   \n",
      "\n",
      "                                                     hog2           hogid_1  \\\n",
      "0       (HOG:A0780127.8b, [1141676, 362003752, 343, 10...  HOG:A0644867.20h   \n",
      "4       (HOG:A0758549.18f.24b, [2305083, 732402241, 26...  HOG:A0644867.20h   \n",
      "76      (HOG:A0780440.7a, [1140807, 361710173, 331, 10...  HOG:A0644867.20h   \n",
      "130     (HOG:A0784633.2a.2b, [2775543, 871944101, 799,...  HOG:A0644867.20h   \n",
      "305     (HOG:A0779888.12b, [4650156, 1467137083, 317, ...  HOG:A0644867.20h   \n",
      "...                                                   ...               ...   \n",
      "530407  (HOG:A0535303.3a.2a, [9958311, 3832750683, 378...      HOG:A0501521   \n",
      "530662  (HOG:A0508791.2b.8a, [10264626, 3993649035, 33...      HOG:A0501521   \n",
      "530951  (HOG:A0779781.3c.8a.3a.1b, [16517551, 68517483...      HOG:A0501521   \n",
      "531432  (HOG:A0535303.3a.2a, [9958311, 3832750683, 378...      HOG:A0501521   \n",
      "531687  (HOG:A0508791.2b.8a, [10264626, 3993649035, 33...      HOG:A0501521   \n",
      "\n",
      "                         hogid_2    fam1    fam2  \n",
      "0                HOG:A0780127.8b  644867  780127  \n",
      "4           HOG:A0758549.18f.24b  644867  758549  \n",
      "76               HOG:A0780440.7a  644867  780440  \n",
      "130           HOG:A0784633.2a.2b  644867  784633  \n",
      "305             HOG:A0779888.12b  644867  779888  \n",
      "...                          ...     ...     ...  \n",
      "530407        HOG:A0535303.3a.2a  501521  535303  \n",
      "530662        HOG:A0508791.2b.8a  501521  508791  \n",
      "530951  HOG:A0779781.3c.8a.3a.1b  501521  779781  \n",
      "531432        HOG:A0535303.3a.2a  501521  535303  \n",
      "531687        HOG:A0508791.2b.8a  501521  508791  \n",
      "\n",
      "[495684 rows x 13 columns]\n"
     ]
    }
   ],
   "source": [
    "print(coglink_df)"
   ]
  },
  {
   "cell_type": "code",
   "execution_count": 37,
   "metadata": {},
   "outputs": [],
   "source": [
    "stringHOGs = set(coglink_df.fam1.unique()).union(set(coglink_df.fam2.unique()))"
   ]
  },
  {
   "cell_type": "code",
   "execution_count": 38,
   "metadata": {},
   "outputs": [
    {
     "name": "stdout",
     "output_type": "stream",
     "text": [
      "11890\n"
     ]
    }
   ],
   "source": [
    "print(len(stringHOGs))"
   ]
  },
  {
   "cell_type": "code",
   "execution_count": 39,
   "metadata": {},
   "outputs": [],
   "source": [
    "#coglink_df.to_csv('STRINGCOGS2OMAHOGS.csv')\n",
    "stringPairs = coglink_df"
   ]
  },
  {
   "cell_type": "code",
   "execution_count": 40,
   "metadata": {},
   "outputs": [],
   "source": [
    "#derive explicit profiles for our hogs of interest in string\n",
    "calc_hogs_string = False\n",
    "stringprofiles = {}\n",
    "if calc_hogs_string == True:\n",
    "    print('profiles to calclulate',len(stringHOGs))\n",
    "    for i,fam in enumerate(stringHOGs):\n",
    "        if i % 100 ==0:\n",
    "            print(i)\n",
    "        try:\n",
    "            prof = p.return_profile_OTF(fam)\n",
    "            stringprofiles.update(prof)\n",
    "        except:\n",
    "            print('err',fam)"
   ]
  },
  {
   "cell_type": "code",
   "execution_count": 41,
   "metadata": {},
   "outputs": [],
   "source": [
    "if calc_hogs_string == True:\n",
    "    with open('/scratch/dmoi/datasets/STRING/' + 'gold_standard_profiles.pkl' , 'wb') as profiles_out:\n",
    "        profiles_out.write(pickle.dumps(stringprofiles))"
   ]
  },
  {
   "cell_type": "code",
   "execution_count": 42,
   "metadata": {},
   "outputs": [],
   "source": [
    "with open('/scratch/dmoi/datasets/STRING/' + 'gold_standard_profiles.pkl' , 'rb' )as profiles_out:\n",
    "    stringprofiles = pickle.loads(profiles_out.read())"
   ]
  },
  {
   "cell_type": "code",
   "execution_count": 43,
   "metadata": {},
   "outputs": [],
   "source": [
    "string_df = pd.DataFrame.from_dict(stringprofiles , orient='index')"
   ]
  },
  {
   "cell_type": "code",
   "execution_count": 44,
   "metadata": {},
   "outputs": [
    {
     "name": "stdout",
     "output_type": "stream",
     "text": [
      "786432 {'mat': array([[1., 1., 1., ..., 0., 0., 0.]]), 'tree': Tree node '131567' (0x7ff4d2adb46)}\n",
      "786433 {'mat': array([[1., 1., 1., ..., 0., 0., 0.]]), 'tree': Tree node '131567' (0x7ff4d2f0db5)}\n",
      "524294 {'mat': array([[0., 0., 0., ..., 0., 0., 0.]]), 'tree': Tree node '7742' (0x7ff4d43ec07)}\n",
      "786440 {'mat': array([[1., 1., 1., ..., 0., 0., 0.]]), 'tree': Tree node '131567' (0x7ff4d44d3f1)}\n",
      "524299 {'mat': array([[0., 0., 0., ..., 0., 0., 0.]]), 'tree': Tree node '7742' (0x7ff4d219d6d)}\n",
      "786448 {'mat': array([[1., 1., 1., ..., 0., 0., 0.]]), 'tree': Tree node '131567' (0x7ff4d2141f7)}\n",
      "786449 {'mat': array([[1., 1., 1., ..., 0., 0., 0.]]), 'tree': Tree node '131567' (0x7ff4d1e61bb)}\n",
      "786450 {'mat': array([[1., 1., 1., ..., 0., 0., 0.]]), 'tree': Tree node '131567' (0x7ff4d1b017f)}\n",
      "131092 {'mat': array([[0., 0., 0., ..., 0., 0., 0.]]), 'tree': Tree node '1648030' (0x7ff4d182043)}\n",
      "524309 {'mat': array([[0., 0., 0., ..., 0., 0., 0.]]), 'tree': Tree node '7742' (0x7ff4d182055)}\n"
     ]
    }
   ],
   "source": [
    "#make the profiles for this small set of HOGs\n",
    "for i, key in enumerate(stringprofiles):\n",
    "    if i < 10:\n",
    "        print(key,stringprofiles[key])"
   ]
  },
  {
   "cell_type": "code",
   "execution_count": 45,
   "metadata": {},
   "outputs": [],
   "source": [
    "#now we have profiles for all HUMAP and COG interactions\n",
    "#String has interactions from each COG in different species.\n",
    "#We need a way to check for the presence of interaction within a species for a COG\n",
    "#for this we will create a bloom filter with all the interactions between our cogs\n",
    "\n",
    "calc_filter = False"
   ]
  },
  {
   "cell_type": "code",
   "execution_count": 46,
   "metadata": {},
   "outputs": [],
   "source": [
    "if calc_filter == True:\n",
    "    from dask.distributed import fire_and_forget\n",
    "    from dask.distributed import Client, Variable , Queue , Lock ,LocalCluster\n",
    "    from dask_jobqueue import SLURMCluster\n",
    "    from dask.distributed import  utils_perf\n",
    "    from dask.distributed import Client, LocalCluster\n",
    "    import dask\n",
    "    import redis\n",
    "    from bloom_filter2 import BloomFilter\n",
    "    import lzma\n",
    "    from dask import dataframe as dd\n",
    "    distributed = True"
   ]
  },
  {
   "cell_type": "code",
   "execution_count": 47,
   "metadata": {},
   "outputs": [],
   "source": [
    "if calc_filter == True:\n",
    "    if distributed == True:\n",
    "        NCORE = 5\n",
    "        print('deploying cluster')\n",
    "        cluster = SLURMCluster(\n",
    "            walltime='4:00:00',\n",
    "            n_workers = NCORE,\n",
    "            cores=NCORE,\n",
    "            processes = NCORE,\n",
    "            interface='ib0',\n",
    "            memory=\"80GB\",\n",
    "            env_extra=[\n",
    "            'source /scratch/dmoi/miniconda/etc/profile.d/conda.sh',\n",
    "            'conda activate ML2'\n",
    "            ],\n",
    "            scheduler_options={'interface': 'ens2f0' },\n",
    "            #extra=[\"--lifetime\", \"3h55m\", \"--lifetime-stagger\", \"4m\"]\n",
    "        )\n",
    "        print(cluster.job_script())\n",
    "\n",
    "    else:\n",
    "        cluster = LocalCluster()\n",
    "        client = Client(cluster)"
   ]
  },
  {
   "cell_type": "code",
   "execution_count": 48,
   "metadata": {},
   "outputs": [],
   "source": [
    "if calc_filter == True:\n",
    "    if distributed == True:\n",
    "        print(cluster)\n",
    "        cluster.scale(jobs = 100)\n",
    "        print(cluster.dashboard_link)\n",
    "        client = Client(cluster , timeout='450s' , set_as_default=True )"
   ]
  },
  {
   "cell_type": "code",
   "execution_count": 49,
   "metadata": {},
   "outputs": [],
   "source": [
    "#find which species each of the cogs has an interaction in\n",
    "if calc_filter == True:\n",
    "    link_df = dd.read_csv('/scratch/dmoi/datasets/STRING/protein.physical.links.detailed.v11.5.txt', blocksize=100e6 , header = 0, sep = ' ')\n",
    "    print(link_df)"
   ]
  },
  {
   "cell_type": "code",
   "execution_count": 50,
   "metadata": {},
   "outputs": [],
   "source": [
    "#compute bloom filters for protein pairs\n",
    "@dask.delayed\n",
    "def mapcogs(df ):\n",
    "    rdb = redis.Redis(host='10.202.12.174', port=6379, db=0)\n",
    "    if type( df ) == tuple:\n",
    "        df = df[0]\n",
    "    protlist1 = list(df.protein1.map(lambda x:str(x).strip()))\n",
    "    protlist2 = list(df.protein2.map(lambda x:str(x).strip()))\n",
    "    protlist = list(set(protlist1+protlist2))\n",
    "    data = rdb.mget(protlist)\n",
    "    mapper = dict(zip(protlist, data) )\n",
    "    df['COG1'] = df.protein1.map(mapper)\n",
    "    df['COG2'] = df.protein2.map(mapper)\n",
    "    df = df.dropna()\n",
    "    df['COG1'] = df.COG1.map(lambda x:str(x).replace(\"b\",'').replace(\"'\",'').strip() )\n",
    "    df['COG2'] = df.COG2.map(lambda x:str(x).replace(\"b\",'').replace(\"'\",'').strip() )\n",
    "    df['species'] = df.protein1.map(lambda x:x.split('.')[0])\n",
    "    df['coglinks'] = df.COG1 + '_' + df.COG2 + '_' + df.species\n",
    "    return  list(df.coglinks.unique())\n",
    "\n",
    "@dask.delayed\n",
    "def return_filter(coglinks, verbose = True):\n",
    "    if type( coglinks ) == tuple:\n",
    "        coglinks = coglinks[0]\n",
    "    #prots can only interact in one species...\n",
    "    b=BloomFilter(max_elements=10**8, error_rate=0.001 ,start_fresh = True)\n",
    "    for p in coglinks:\n",
    "        b.add( p )\n",
    "    #b.close()\n",
    "    #b = lzma.compress( pickle.dumps(b) )\n",
    "    return   b , len(coglinks)\n",
    "\n",
    "@dask.delayed\n",
    "def sumfilter(f1,f2, total ):\n",
    "    if type( f1 ) == tuple:\n",
    "        f1 = f1[0]\n",
    "    if type( f2 ) == tuple:\n",
    "        f2 = f2[0]\n",
    "    #f1 = pickle.loads(lzma.decompress( f1) )\n",
    "    #f2 = pickle.loads(lzma.decompress( f2 ) )\n",
    "    f3 = f1.__ior__(f2)\n",
    "    #f3 = lzma.compress( pickle.dumps(f3) )\n",
    "    return f3 , total"
   ]
  },
  {
   "cell_type": "code",
   "execution_count": 51,
   "metadata": {},
   "outputs": [],
   "source": [
    "if calc_filter == True:\n",
    "    partitions  = link_df.to_delayed()\n",
    "    #print('reduce partitions')\n",
    "    #res = [ reduce(p,remote_list) for p in partitions ] \n",
    "    #print('done')\n",
    "    print('map cogs')\n",
    "    res1 = [ mapcogs(p) for p in partitions ] \n",
    "    print('done')\n",
    "    print('make filters')\n",
    "    res2 = [ return_filter(p) for p in res1 ] \n",
    "\n",
    "    totalfilter = res2\n",
    "    print(len(totalfilter))\n",
    "    while len(totalfilter)>1:\n",
    "        next_round= []\n",
    "\n",
    "        for i in range(0,len(totalfilter),2):\n",
    "            if i+1 < len(totalfilter):\n",
    "                next_round.append( sumfilter( totalfilter[i][0] , totalfilter[i+1][0] , totalfilter[i][1]+totalfilter[i+1][1]  ) )\n",
    "\n",
    "        if len(totalfilter) % 2 !=0:\n",
    "            next_round.append(totalfilter[-1])\n",
    "        totalfilter = next_round\n",
    "        print(len(totalfilter))\n",
    "\n",
    "    #resfinal = dask.compute(totalfilter)\n",
    "\n",
    "    print('done')"
   ]
  },
  {
   "cell_type": "code",
   "execution_count": 52,
   "metadata": {},
   "outputs": [],
   "source": [
    "if calc_filter == True:\n",
    "    resfinal = dask.compute(totalfilter)"
   ]
  },
  {
   "cell_type": "code",
   "execution_count": 53,
   "metadata": {},
   "outputs": [],
   "source": [
    "#client.cancel(resfinal)"
   ]
  },
  {
   "cell_type": "code",
   "execution_count": 54,
   "metadata": {},
   "outputs": [],
   "source": [
    "if calc_filter == True:\n",
    "    with open('bloomfinal.pkl' , 'wb' ) as finalout:\n",
    "        finalout.write(pickle.dumps(resfinal))"
   ]
  },
  {
   "cell_type": "code",
   "execution_count": 55,
   "metadata": {},
   "outputs": [],
   "source": [
    "with open('bloomfinal.pkl' , 'rb' ) as finalout:\n",
    "    resfinal = pickle.loads(finalout.read()) \n",
    "cogfilter =  resfinal[0][0][0]"
   ]
  },
  {
   "cell_type": "code",
   "execution_count": 56,
   "metadata": {},
   "outputs": [
    {
     "name": "stdout",
     "output_type": "stream",
     "text": [
      "True\n"
     ]
    }
   ],
   "source": [
    "print('COG1756_COG0088_4113' in cogfilter )"
   ]
  },
  {
   "cell_type": "code",
   "execution_count": 57,
   "metadata": {},
   "outputs": [],
   "source": [
    "#lets try it out. we should be able to find in which species two cogs interact with the bloom filter\n",
    "cog1='COG0088'\n",
    "cog2 ='COG1756'\n",
    "coglink = cog1 + '_' + cog2 + '_'"
   ]
  },
  {
   "cell_type": "code",
   "execution_count": 58,
   "metadata": {},
   "outputs": [
    {
     "name": "stdout",
     "output_type": "stream",
     "text": [
      "['COG0088_COG1756_768706', 'COG0088_COG1756_282458', 'COG0088_COG1756_367830', 'COG0088_COG1756_655816', 'COG0088_COG1756_481743', 'COG0088_COG1756_370552', 'COG0088_COG1756_891391', 'COG0088_COG1756_479436', 'COG0088_COG1756_443150', 'COG0088_COG1756_1768', 'COG0088_COG1756_1790', 'COG0088_COG1756_504474', 'COG0088_COG1756_1032480', 'COG0088_COG1756_1214101', 'COG0088_COG1756_2064', 'COG0088_COG1756_471855', 'COG0088_COG1756_292563', 'COG0088_COG1756_502801', 'COG0088_COG1756_585035', 'COG0088_COG1756_439855', 'COG0088_COG1756_481805', 'COG0088_COG1756_272620', 'COG0088_COG1756_561230', 'COG0088_COG1756_1905730', 'COG0088_COG1756_243265', 'COG0088_COG1756_529507', 'COG0088_COG1756_718251', 'COG0088_COG1756_382245', 'COG0088_COG1756_1167006', 'COG0088_COG1756_592205', 'COG0088_COG1756_235279', 'COG0088_COG1756_582899', 'COG0088_COG1756_288000', 'COG0088_COG1756_316057', 'COG0088_COG1756_696125', 'COG0088_COG1756_1082931', 'COG0088_COG1756_955', 'COG0088_COG1756_205920', 'COG0088_COG1756_357244', 'COG0088_COG1756_696127', 'COG0088_COG1756_634452', 'COG0088_COG1756_626418', 'COG0088_COG1756_375286', 'COG0088_COG1756_860228', 'COG0088_COG1756_688270', 'COG0088_COG1756_983548', 'COG0088_COG1756_444179', 'COG0088_COG1756_331104', 'COG0088_COG1756_672161', 'COG0088_COG1756_608538', 'COG0088_COG1756_1173701', 'COG0088_COG1756_148305', 'COG0088_COG1756_665079', 'COG0088_COG1756_436907', 'COG0088_COG1756_4829', 'COG0088_COG1756_9371', 'COG0088_COG1756_105023', 'COG0088_COG1756_80972', 'COG0088_COG1756_7263', 'COG0088_COG1756_7460', 'COG0088_COG1756_3871', 'COG0088_COG1756_3352', 'COG0088_COG1756_3197', 'COG0088_COG1756_44056', 'COG0088_COG1756_1093141', 'COG0088_COG1756_5857', 'COG0088_COG1756_312017', 'COG0088_COG1756_857967', 'COG0088_COG1756_353153', 'COG0088_COG1756_666510', 'COG0088_COG1756_439386', 'COG0088_COG1756_877455', 'COG0088_COG1756_523846', 'COG0088_COG1756_593750', 'COG0088_COG1756_224325', 'COG0088_COG1756_673860']\n",
      "['768706', '282458', '367830', '655816', '481743', '370552', '891391', '479436', '443150', '1768', '1790', '504474', '1032480', '1214101', '2064', '471855', '292563', '502801', '585035', '439855', '481805', '272620', '561230', '1905730', '243265', '529507', '718251', '382245', '1167006', '592205', '235279', '582899', '288000', '316057', '696125', '1082931', '955', '205920', '357244', '696127', '634452', '626418', '375286', '860228', '688270', '983548', '444179', '331104', '672161', '608538', '1173701', '148305', '665079', '436907', '4829', '9371', '105023', '80972', '7263', '7460', '3871', '3352', '3197', '44056', '1093141', '5857', '312017', '857967', '353153', '666510', '439386', '877455', '523846', '593750', '224325', '673860']\n"
     ]
    }
   ],
   "source": [
    "#test out to find the species for a cog pair\n",
    "coglinks_species = [ coglink+spec.name  for spec in p.tree.get_leaves()]\n",
    "species = [ spec.name  for spec in p.tree.get_leaves()]\n",
    "checklinks = [ coglink+spec in cogfilter for spec in coglinks_species ]\n",
    "\n",
    "species_set = [s for s in species]\n",
    "links = [ l for l,c in list(zip(coglinks_species,checklinks))  if c== True  ]\n",
    "species_set = [ s for s,c in list(zip(species_set,checklinks))  if c== True  ]\n",
    "\n",
    "print(links)\n",
    "print(species_set)"
   ]
  },
  {
   "cell_type": "code",
   "execution_count": 59,
   "metadata": {},
   "outputs": [
    {
     "name": "stdout",
     "output_type": "stream",
     "text": [
      "(3145, 10524)\n",
      "(11788, 10524)\n",
      "string\n",
      "train 389500\n",
      "test 97132\n",
      "humap\n",
      "train 6591\n",
      "test 1702\n"
     ]
    }
   ],
   "source": [
    "#mapfam to matrow\n",
    "humap_fam_map= { f:i for i,f in enumerate(humap_df.index)}\n",
    "humap_profilemat = np.vstack(humap_df.mat)\n",
    "print(humap_profilemat.shape)\n",
    "string_fam_map = { f:i for i,f in enumerate(string_df.index)}\n",
    "string_mat = np.vstack(string_df.mat)\n",
    "print(string_mat.shape)\n",
    "#train test split\n",
    "Datasets = {}\n",
    "for label,df,mapping,profilemat in [  ('string', stringPairs, string_fam_map ,string_mat ) , ('humap',humap_pairs, humap_fam_map , humap_profilemat) ]: \n",
    "    keys = set(mapping.keys())\n",
    "    entry1 = [ f in keys for f in df.fam1]\n",
    "    df = df.iloc[entry1]\n",
    "    entry2 = [ f in keys for f in df.fam2]\n",
    "    df = df.iloc[entry2]\n",
    "    msk = np.random.rand(len(df)) < 0.8\n",
    "    df_train = df.iloc[msk]\n",
    "    df_test = df.iloc[~msk]\n",
    "    Datasets[label]={'Train':df_train,'Test':df_test , 'mapping': mapping , 'mat':profilemat }\n",
    "    print(label)\n",
    "    print('train',len(df_train))\n",
    "    print('test',len(df_test))"
   ]
  },
  {
   "cell_type": "code",
   "execution_count": 60,
   "metadata": {},
   "outputs": [],
   "source": [
    "\n",
    "def chunks(df, n):\n",
    "    for i in range(0, len(df), n):\n",
    "        yield df.iloc[i:i + n]\n",
    "def generateXYchunk(explicit_profiles, goldstandardDF,fam_map,  nsamples=100, posi_percent = .5):\n",
    "    #shuffle\n",
    "    goldstandardDF = goldstandardDF.sample(frac=1)\n",
    "    for chunkdf in chunks(goldstandardDF , int( nsamples*posi_percent)):\n",
    "        #negatives drawn from the overall dataset\n",
    "        X = np.hstack([ np.vstack([profilemat[fam_map[f]] for f in chunkdf.fam1]) , np.vstack([profilemat[fam_map[f]] for f in chunkdf.fam2]) ] )\n",
    "        Y = [1]* X.shape[0]\n",
    "        neg1 = list(goldstandardDF.sample(n = int(nsamples*(1-posi_percent))).fam1)\n",
    "        neg2 = list(goldstandardDF.sample(n = int(nsamples*(1-posi_percent))).fam2)\n",
    "        \n",
    "        if len(neg1)>0:\n",
    "            mixchunk = np.hstack([np.vstack([profilemat[fam_map[f]] for f in neg1]),np.vstack([profilemat[fam_map[f]] for f in neg2])])\n",
    "            Y =np.hstack([[0]* mixchunk.shape[0] , Y])\n",
    "            X= np.vstack([mixchunk,X])    \n",
    "        #positive samples\n",
    "        yield X, Y"
   ]
  },
  {
   "cell_type": "code",
   "execution_count": 61,
   "metadata": {},
   "outputs": [],
   "source": [
    "from sklearn.metrics import precision_recall_curve\n",
    "import matplotlib.pyplot as plt\n",
    "from sklearn.metrics import roc_curve\n",
    "from sklearn.metrics import auc\n",
    "\n",
    "def ROC_curve(y_data, label = None):\n",
    "    plt.figure(figsize=(10,10))\n",
    "    plt.plot([0, 1], [0, 1], 'k--')\n",
    "    for l in y_data:\n",
    "        print(l)\n",
    "        y_pred_grd = y_data[l]['Ytrue']\n",
    "        y_test = y_data[l]['Ypred']\n",
    "        fpr, tpr, _ = roc_curve(   y_pred_grd ,y_test)\n",
    "        plt.plot(fpr, tpr, label=l + 'auc'+ str(auc(fpr, tpr) ))\n",
    "        plt.xlabel('False positive rate')\n",
    "        plt.ylabel('True positive rate')\n",
    "    plt.title('ROC curve')\n",
    "    plt.legend(loc='best')\n",
    "    if label:\n",
    "        plt.savefig( label +'_ROC.svg' )\n",
    "    plt.show()\n",
    "    \n",
    "    \n",
    "    plt.figure(figsize=(10,10))\n",
    "    for l in y_data:\n",
    "        y_pred_grd = y_data[l]['Ytrue']\n",
    "        y_test = y_data[l]['Ypred']\n",
    "        precision, recall, thresholds = precision_recall_curve( y_pred_grd, y_test)\n",
    "        plt.plot( recall, precision , label= l )\n",
    "        plt.ylabel('Precision')\n",
    "        plt.xlabel('Recall')\n",
    "    \n",
    "    plt.title('PR curve')\n",
    "    plt.legend(loc='best')\n",
    "    if label:\n",
    "        plt.savefig( label +'_PR.svg' )\n",
    "    plt.show()\n",
    "    \n",
    "def ROC_curve_single(y_test, y_pred_grd):\n",
    "    fpr_grd, tpr_grd, _ = roc_curve(y_test, y_pred_grd)\n",
    "\n",
    "    plt.plot([0, 1], [0, 1], 'k--')\n",
    "\n",
    "    fpr, tpr, _ = roc_curve(y_test, y_pred_grd)\n",
    "    plt.plot(fpr, tpr, label='single')\n",
    "    plt.xlabel('False positive rate')\n",
    "    plt.ylabel('True positive rate')\n",
    "\n",
    "    plt.title('ROC curve')\n",
    "    plt.legend(loc='best')\n",
    "    plt.show()\n",
    "\n",
    "    precision, recall, thresholds = precision_recall_curve(  y_test , y_pred_grd)\n",
    "    plt.plot(precision, recall , label='single')\n",
    "    plt.xlabel('Precision')\n",
    "    plt.ylabel('Recall')\n",
    "\n",
    "    plt.title('PR curve')\n",
    "    plt.legend(loc='best')\n",
    "    plt.show()\n"
   ]
  },
  {
   "cell_type": "code",
   "execution_count": 62,
   "metadata": {},
   "outputs": [
    {
     "name": "stderr",
     "output_type": "stream",
     "text": [
      "2022-02-13 17:32:38.875596: W tensorflow/stream_executor/platform/default/dso_loader.cc:64] Could not load dynamic library 'libcudart.so.11.0'; dlerror: libcudart.so.11.0: cannot open shared object file: No such file or directory\n",
      "2022-02-13 17:32:38.875618: I tensorflow/stream_executor/cuda/cudart_stub.cc:29] Ignore above cudart dlerror if you do not have a GPU set up on your machine.\n"
     ]
    },
    {
     "name": "stdout",
     "output_type": "stream",
     "text": [
      "string\n"
     ]
    },
    {
     "name": "stderr",
     "output_type": "stream",
     "text": [
      "2022-02-13 17:33:08.441079: W tensorflow/stream_executor/platform/default/dso_loader.cc:64] Could not load dynamic library 'libcuda.so.1'; dlerror: libcuda.so.1: cannot open shared object file: No such file or directory\n",
      "2022-02-13 17:33:08.441510: W tensorflow/stream_executor/cuda/cuda_driver.cc:269] failed call to cuInit: UNKNOWN ERROR (303)\n",
      "2022-02-13 17:33:08.441533: I tensorflow/stream_executor/cuda/cuda_diagnostics.cc:156] kernel driver does not appear to be running on this host (dna002.curnagl): /proc/driver/nvidia/version does not exist\n",
      "2022-02-13 17:33:08.441875: I tensorflow/core/platform/cpu_feature_guard.cc:151] This TensorFlow binary is optimized with oneAPI Deep Neural Network Library (oneDNN) to use the following CPU instructions in performance-critical operations:  AVX2 FMA\n",
      "To enable them in other operations, rebuild TensorFlow with the appropriate compiler flags.\n"
     ]
    },
    {
     "name": "stdout",
     "output_type": "stream",
     "text": [
      "Epoch 1/50\n",
      "300/300 [==============================] - 7s 20ms/step - loss: 0.6458 - accuracy: 0.6332\n",
      "Epoch 2/50\n",
      "300/300 [==============================] - 5s 16ms/step - loss: 0.5875 - accuracy: 0.6876\n",
      "Epoch 3/50\n",
      "300/300 [==============================] - 5s 16ms/step - loss: 0.5531 - accuracy: 0.7163\n",
      "Epoch 4/50\n",
      "300/300 [==============================] - 5s 16ms/step - loss: 0.5437 - accuracy: 0.7194\n",
      "Epoch 5/50\n",
      "300/300 [==============================] - 5s 16ms/step - loss: 0.5320 - accuracy: 0.7281\n",
      "Epoch 6/50\n",
      "300/300 [==============================] - 5s 16ms/step - loss: 0.5155 - accuracy: 0.7372\n",
      "Epoch 7/50\n",
      "300/300 [==============================] - 5s 16ms/step - loss: 0.4984 - accuracy: 0.7566\n",
      "Epoch 8/50\n",
      "300/300 [==============================] - 5s 17ms/step - loss: 0.4925 - accuracy: 0.7623\n",
      "Epoch 9/50\n",
      "300/300 [==============================] - 5s 16ms/step - loss: 0.4864 - accuracy: 0.7674\n",
      "Epoch 10/50\n",
      "300/300 [==============================] - 5s 16ms/step - loss: 0.4662 - accuracy: 0.7802\n",
      "Epoch 11/50\n",
      "300/300 [==============================] - 5s 16ms/step - loss: 0.4610 - accuracy: 0.7832\n",
      "Epoch 12/50\n",
      "300/300 [==============================] - 5s 16ms/step - loss: 0.4439 - accuracy: 0.7935\n",
      "Epoch 13/50\n",
      "300/300 [==============================] - 5s 16ms/step - loss: 0.4328 - accuracy: 0.8025\n",
      "Epoch 14/50\n",
      "300/300 [==============================] - 5s 16ms/step - loss: 0.4229 - accuracy: 0.8077\n",
      "Epoch 15/50\n",
      "300/300 [==============================] - 5s 16ms/step - loss: 0.4126 - accuracy: 0.8118\n",
      "Epoch 16/50\n",
      "300/300 [==============================] - 5s 16ms/step - loss: 0.3995 - accuracy: 0.8200\n",
      "Epoch 17/50\n",
      "300/300 [==============================] - 5s 16ms/step - loss: 0.3889 - accuracy: 0.8244\n",
      "Epoch 18/50\n",
      "300/300 [==============================] - 5s 16ms/step - loss: 0.3825 - accuracy: 0.8292\n",
      "Epoch 19/50\n",
      "300/300 [==============================] - 5s 16ms/step - loss: 0.3707 - accuracy: 0.8336\n",
      "Epoch 20/50\n",
      "300/300 [==============================] - 5s 16ms/step - loss: 0.3692 - accuracy: 0.8371\n",
      "Epoch 21/50\n",
      "300/300 [==============================] - 5s 16ms/step - loss: 0.3571 - accuracy: 0.8448\n",
      "Epoch 22/50\n",
      "300/300 [==============================] - 5s 16ms/step - loss: 0.3493 - accuracy: 0.8478\n",
      "Epoch 23/50\n",
      "300/300 [==============================] - 5s 16ms/step - loss: 0.3480 - accuracy: 0.8494\n",
      "Epoch 24/50\n",
      "300/300 [==============================] - 5s 16ms/step - loss: 0.3299 - accuracy: 0.8572\n",
      "Epoch 25/50\n",
      "300/300 [==============================] - 5s 16ms/step - loss: 0.3339 - accuracy: 0.8560\n",
      "Epoch 26/50\n",
      "300/300 [==============================] - 5s 16ms/step - loss: 0.3240 - accuracy: 0.8622\n",
      "Epoch 27/50\n",
      "300/300 [==============================] - 5s 16ms/step - loss: 0.3275 - accuracy: 0.8603\n",
      "Epoch 28/50\n",
      "300/300 [==============================] - 5s 16ms/step - loss: 0.3138 - accuracy: 0.8652\n",
      "Epoch 29/50\n",
      "300/300 [==============================] - 5s 16ms/step - loss: 0.3143 - accuracy: 0.8674\n",
      "Epoch 30/50\n",
      "300/300 [==============================] - 5s 16ms/step - loss: 0.3079 - accuracy: 0.8691\n",
      "Epoch 31/50\n",
      "300/300 [==============================] - 5s 16ms/step - loss: 0.2982 - accuracy: 0.8741\n",
      "Epoch 32/50\n",
      "300/300 [==============================] - 5s 16ms/step - loss: 0.2917 - accuracy: 0.8775\n",
      "Epoch 33/50\n",
      "300/300 [==============================] - 5s 17ms/step - loss: 0.2892 - accuracy: 0.8806\n",
      "Epoch 34/50\n",
      "300/300 [==============================] - 5s 16ms/step - loss: 0.2873 - accuracy: 0.8782\n",
      "Epoch 35/50\n",
      "300/300 [==============================] - 5s 16ms/step - loss: 0.2853 - accuracy: 0.8799\n",
      "Epoch 36/50\n",
      "300/300 [==============================] - 5s 16ms/step - loss: 0.2861 - accuracy: 0.8821\n",
      "Epoch 37/50\n",
      "300/300 [==============================] - 5s 16ms/step - loss: 0.2856 - accuracy: 0.8783\n",
      "Epoch 38/50\n",
      "300/300 [==============================] - 5s 16ms/step - loss: 0.2702 - accuracy: 0.8863\n",
      "Epoch 39/50\n",
      "300/300 [==============================] - 5s 16ms/step - loss: 0.2650 - accuracy: 0.8881\n",
      "Epoch 40/50\n",
      "300/300 [==============================] - 5s 16ms/step - loss: 0.2685 - accuracy: 0.8886\n",
      "Epoch 41/50\n",
      "300/300 [==============================] - 5s 16ms/step - loss: 0.2640 - accuracy: 0.8897\n",
      "Epoch 42/50\n",
      "300/300 [==============================] - 5s 16ms/step - loss: 0.2589 - accuracy: 0.8939\n",
      "Epoch 43/50\n",
      "300/300 [==============================] - 5s 16ms/step - loss: 0.2537 - accuracy: 0.8952\n",
      "Epoch 44/50\n",
      "300/300 [==============================] - 5s 16ms/step - loss: 0.2486 - accuracy: 0.8966\n",
      "Epoch 45/50\n",
      "300/300 [==============================] - 5s 16ms/step - loss: 0.2441 - accuracy: 0.8992\n",
      "Epoch 46/50\n",
      "300/300 [==============================] - 5s 16ms/step - loss: 0.2401 - accuracy: 0.8999\n",
      "Epoch 47/50\n",
      "300/300 [==============================] - 5s 16ms/step - loss: 0.2342 - accuracy: 0.9040\n",
      "Epoch 48/50\n",
      "300/300 [==============================] - 5s 16ms/step - loss: 0.2322 - accuracy: 0.9033\n",
      "Epoch 49/50\n",
      "300/300 [==============================] - 5s 16ms/step - loss: 0.2386 - accuracy: 0.9028\n",
      "Epoch 50/50\n",
      "300/300 [==============================] - 5s 16ms/step - loss: 0.2319 - accuracy: 0.9056\n",
      "humap\n",
      "Epoch 1/50\n",
      "300/300 [==============================] - 7s 21ms/step - loss: 0.6375 - accuracy: 0.6393\n",
      "Epoch 2/50\n",
      "300/300 [==============================] - 5s 17ms/step - loss: 0.5818 - accuracy: 0.6892\n",
      "Epoch 3/50\n",
      "300/300 [==============================] - 5s 18ms/step - loss: 0.5507 - accuracy: 0.7129\n",
      "Epoch 4/50\n",
      "300/300 [==============================] - 5s 17ms/step - loss: 0.5324 - accuracy: 0.7290\n",
      "Epoch 5/50\n",
      "300/300 [==============================] - 5s 17ms/step - loss: 0.5181 - accuracy: 0.7373\n",
      "Epoch 6/50\n",
      "300/300 [==============================] - 5s 17ms/step - loss: 0.5099 - accuracy: 0.7470\n",
      "Epoch 7/50\n",
      "300/300 [==============================] - 5s 18ms/step - loss: 0.4943 - accuracy: 0.7587\n",
      "Epoch 8/50\n",
      "300/300 [==============================] - 5s 17ms/step - loss: 0.4825 - accuracy: 0.7667\n",
      "Epoch 9/50\n",
      "300/300 [==============================] - 5s 17ms/step - loss: 0.4698 - accuracy: 0.7761\n",
      "Epoch 10/50\n",
      "300/300 [==============================] - 5s 17ms/step - loss: 0.4634 - accuracy: 0.7765\n",
      "Epoch 11/50\n",
      "300/300 [==============================] - 5s 17ms/step - loss: 0.4466 - accuracy: 0.7913\n",
      "Epoch 12/50\n",
      "300/300 [==============================] - 5s 17ms/step - loss: 0.4359 - accuracy: 0.7971\n",
      "Epoch 13/50\n",
      "300/300 [==============================] - 5s 17ms/step - loss: 0.4323 - accuracy: 0.7983\n",
      "Epoch 14/50\n",
      "300/300 [==============================] - 5s 17ms/step - loss: 0.4183 - accuracy: 0.8110\n",
      "Epoch 15/50\n",
      "300/300 [==============================] - 5s 17ms/step - loss: 0.4132 - accuracy: 0.8120\n",
      "Epoch 16/50\n",
      "300/300 [==============================] - 5s 17ms/step - loss: 0.4003 - accuracy: 0.8226\n",
      "Epoch 17/50\n",
      "300/300 [==============================] - 5s 17ms/step - loss: 0.3886 - accuracy: 0.8258\n",
      "Epoch 18/50\n",
      "300/300 [==============================] - 5s 17ms/step - loss: 0.3789 - accuracy: 0.8326\n",
      "Epoch 19/50\n",
      "300/300 [==============================] - 5s 17ms/step - loss: 0.3717 - accuracy: 0.8384\n",
      "Epoch 20/50\n",
      "300/300 [==============================] - 5s 17ms/step - loss: 0.3658 - accuracy: 0.8423\n",
      "Epoch 21/50\n",
      "300/300 [==============================] - 5s 17ms/step - loss: 0.3529 - accuracy: 0.8462\n",
      "Epoch 22/50\n",
      "300/300 [==============================] - 5s 17ms/step - loss: 0.3499 - accuracy: 0.8516\n",
      "Epoch 23/50\n",
      "300/300 [==============================] - 5s 17ms/step - loss: 0.3407 - accuracy: 0.8525\n",
      "Epoch 24/50\n",
      "300/300 [==============================] - 5s 17ms/step - loss: 0.3363 - accuracy: 0.8564\n",
      "Epoch 25/50\n",
      "300/300 [==============================] - 5s 17ms/step - loss: 0.3345 - accuracy: 0.8570\n",
      "Epoch 26/50\n",
      "300/300 [==============================] - 5s 17ms/step - loss: 0.3226 - accuracy: 0.8643\n",
      "Epoch 27/50\n",
      "300/300 [==============================] - 5s 17ms/step - loss: 0.3278 - accuracy: 0.8585\n",
      "Epoch 28/50\n",
      "300/300 [==============================] - 5s 17ms/step - loss: 0.3182 - accuracy: 0.8655\n",
      "Epoch 29/50\n",
      "300/300 [==============================] - 5s 17ms/step - loss: 0.3108 - accuracy: 0.8692\n",
      "Epoch 30/50\n",
      "300/300 [==============================] - 5s 17ms/step - loss: 0.3120 - accuracy: 0.8671\n",
      "Epoch 31/50\n",
      "300/300 [==============================] - 5s 18ms/step - loss: 0.3025 - accuracy: 0.8719\n",
      "Epoch 32/50\n",
      "300/300 [==============================] - 5s 17ms/step - loss: 0.3036 - accuracy: 0.8723\n",
      "Epoch 33/50\n",
      "300/300 [==============================] - 5s 17ms/step - loss: 0.2883 - accuracy: 0.8793\n",
      "Epoch 34/50\n",
      "300/300 [==============================] - 5s 17ms/step - loss: 0.2876 - accuracy: 0.8790\n",
      "Epoch 35/50\n",
      "300/300 [==============================] - 5s 17ms/step - loss: 0.2884 - accuracy: 0.8779\n",
      "Epoch 36/50\n",
      "300/300 [==============================] - 5s 17ms/step - loss: 0.2780 - accuracy: 0.8832\n",
      "Epoch 37/50\n",
      "300/300 [==============================] - 5s 17ms/step - loss: 0.2757 - accuracy: 0.8861\n",
      "Epoch 38/50\n",
      "300/300 [==============================] - 5s 17ms/step - loss: 0.2748 - accuracy: 0.8865\n",
      "Epoch 39/50\n",
      "300/300 [==============================] - 5s 17ms/step - loss: 0.2690 - accuracy: 0.8893\n",
      "Epoch 40/50\n",
      "300/300 [==============================] - 5s 17ms/step - loss: 0.2623 - accuracy: 0.8901\n",
      "Epoch 41/50\n",
      "300/300 [==============================] - 5s 17ms/step - loss: 0.2675 - accuracy: 0.8905\n",
      "Epoch 42/50\n",
      "300/300 [==============================] - 5s 17ms/step - loss: 0.2661 - accuracy: 0.8871\n",
      "Epoch 43/50\n",
      "300/300 [==============================] - 5s 17ms/step - loss: 0.2542 - accuracy: 0.8955\n",
      "Epoch 44/50\n",
      "300/300 [==============================] - 5s 17ms/step - loss: 0.2532 - accuracy: 0.8969\n",
      "Epoch 45/50\n",
      "300/300 [==============================] - 5s 17ms/step - loss: 0.2502 - accuracy: 0.8986\n",
      "Epoch 46/50\n",
      "300/300 [==============================] - 5s 17ms/step - loss: 0.2484 - accuracy: 0.9003\n",
      "Epoch 47/50\n",
      "300/300 [==============================] - 5s 17ms/step - loss: 0.2415 - accuracy: 0.9023\n",
      "Epoch 48/50\n",
      "300/300 [==============================] - 5s 17ms/step - loss: 0.2445 - accuracy: 0.9013\n",
      "Epoch 49/50\n",
      "300/300 [==============================] - 5s 17ms/step - loss: 0.2399 - accuracy: 0.9016\n",
      "Epoch 50/50\n",
      "300/300 [==============================] - 5s 17ms/step - loss: 0.2322 - accuracy: 0.9071\n"
     ]
    }
   ],
   "source": [
    "#try a vanilla deep NN\n",
    "from keras.layers import Dense, Input\n",
    "from keras.models import Sequential\n",
    "import os\n",
    "import tensorflow as tf\n",
    "from keras.models import load_model\n",
    "\n",
    "overwrite = True\n",
    "train_dnn = False\n",
    "\n",
    "if train_dnn == True:\n",
    "    for dataset in Datasets:\n",
    "        modelpath = './'+dataset+'_dropout_DNN.h5'\n",
    "        callbacks = [\n",
    "        tf.keras.callbacks.TensorBoard(log_dir= modelpath+'.logs'),\n",
    "        tf.keras.callbacks.ModelCheckpoint(filepath=modelpath)\n",
    "        ]\n",
    "        print(dataset)\n",
    "        df_train = Datasets[label]['Train']\n",
    "        fam_map = Datasets[label]['mapping']\n",
    "        profilemat = Datasets[label]['mat']\n",
    "        if os.path.exists(modelpath) and overwrite == False:\n",
    "            model = load_model(modelpath)\n",
    "        else:\n",
    "            model = Sequential()\n",
    "            model.add(Dense(units=100, activation='sigmoid', input_dim=profilemat.shape[1]*2))\n",
    "            model.add(tf.keras.layers.Dropout( .2 , seed=42 ))\n",
    "            model.add(Dense(units=30, activation='sigmoid' ) )\n",
    "            model.add(Dense(units=1, activation='sigmoid' ) )\n",
    "        model.compile(loss='binary_crossentropy', optimizer='rmsprop', metrics=['accuracy'])\n",
    "        generator = generateXYchunk(profilemat, df_train, fam_map , posi_percent= .5 , nsamples = 50 )\n",
    "        sample = next(generator)\n",
    "        model.fit(itertools.cycle(generator) , steps_per_epoch = 300 , epochs = 50, callbacks=callbacks)\n",
    "        # Save the model\n",
    "        model.save(modelpath)\n",
    "\n"
   ]
  },
  {
   "cell_type": "code",
   "execution_count": 63,
   "metadata": {},
   "outputs": [
    {
     "name": "stdout",
     "output_type": "stream",
     "text": [
      "string\n",
      "Euclidean\n",
      "Hamming\n",
      "Jaccard\n",
      "Pearson\n",
      "DNN\n",
      "{'Euclidean': {'Ypred': array([-42.3083916 , -20.4450483 , -36.        , ..., -32.12475681,\n",
      "       -35.11409973, -20.95232684]), 'Ytrue': array([0, 0, 0, ..., 1, 1, 1])}, 'Hamming': {'Ypred': array([-0.06071836, -0.06195363, -0.01900418, ..., -0.0290764 ,\n",
      "       -0.1072786 , -0.10689852]), 'Ytrue': array([0, 0, 0, ..., 1, 1, 1])}, 'Jaccard': {'Ypred': array([-1.        , -1.        , -0.927705  , ..., -1.        ,\n",
      "       -1.        , -0.95019157]), 'Ytrue': array([0, 0, 0, ..., 1, 1, 1])}, 'Pearson': {'Ypred': array([-0.19414567,  0.29222654, -0.15375752, ...,  0.16193078,\n",
      "       -0.01144439,  0.3259488 ]), 'Ytrue': array([0, 0, 0, ..., 1, 1, 1])}, 'DNN': {'Ypred': array([[0.75365824],\n",
      "       [0.78882265],\n",
      "       [0.9995232 ],\n",
      "       ...,\n",
      "       [0.9988222 ],\n",
      "       [0.2185409 ],\n",
      "       [0.92482585]], dtype=float32), 'Ytrue': array([0, 0, 0, ..., 1, 1, 1])}}\n",
      "Euclidean\n",
      "Hamming\n",
      "Jaccard\n",
      "Pearson\n",
      "DNN\n"
     ]
    },
    {
     "data": {
      "image/png": "[encoded data removed]",
      "text/plain": [
       "<Figure size 720x720 with 1 Axes>"
      ]
     },
     "metadata": {
      "needs_background": "light"
     },
     "output_type": "display_data"
    },
    {
     "data": {
      "image/png": "[encoded data removed]",
      "text/plain": [
       "<Figure size 720x720 with 1 Axes>"
      ]
     },
     "metadata": {
      "needs_background": "light"
     },
     "output_type": "display_data"
    },
    {
     "name": "stdout",
     "output_type": "stream",
     "text": [
      "humap\n",
      "Euclidean\n",
      "Hamming\n",
      "Jaccard\n",
      "Pearson\n",
      "DNN\n",
      "{'Euclidean': {'Ypred': array([-15.5241747 , -37.17526059, -30.8058436 , ..., -22.69361144,\n",
      "       -16.82260384, -13.49073756]), 'Ytrue': array([0, 0, 0, ..., 0, 1, 1])}, 'Hamming': {'Ypred': array([-0.01947929, -0.09977195, -0.03601292, ..., -0.04922083,\n",
      "       -0.0290764 , -0.        ]), 'Ytrue': array([0, 0, 0, ..., 0, 1, 1])}, 'Jaccard': {'Ypred': array([-0.74957155, -0.37731849, -0.7425686 , ..., -0.81891496,\n",
      "       -0.52772809, -0.44343675]), 'Ytrue': array([0, 0, 0, ..., 0, 1, 1])}, 'Pearson': {'Ypred': array([0.38187675, 0.80028944, 0.55500112, ..., 0.4791039 , 0.84102759,\n",
      "       0.42213021]), 'Ytrue': array([0, 0, 0, ..., 0, 1, 1])}, 'DNN': {'Ypred': array([[0.00337863],\n",
      "       [0.11950114],\n",
      "       [0.00116023],\n",
      "       ...,\n",
      "       [0.9736501 ],\n",
      "       [0.85069454],\n",
      "       [0.4219874 ]], dtype=float32), 'Ytrue': array([0, 0, 0, ..., 0, 1, 1])}}\n",
      "Euclidean\n",
      "Hamming\n",
      "Jaccard\n",
      "Pearson\n",
      "DNN\n"
     ]
    },
    {
     "data": {
      "image/png": "[encoded data removed]",
      "text/plain": [
       "<Figure size 720x720 with 1 Axes>"
      ]
     },
     "metadata": {
      "needs_background": "light"
     },
     "output_type": "display_data"
    },
    {
     "data": {
      "image/png": "[encoded data removed]",
      "text/plain": [
       "<Figure size 720x720 with 1 Axes>"
      ]
     },
     "metadata": {
      "needs_background": "light"
     },
     "output_type": "display_data"
    }
   ],
   "source": [
    "#normal distance metrics to try\n",
    "\n",
    "from scipy.spatial.distance import euclidean , hamming, jaccard\n",
    "from sklearn.covariance import empirical_covariance\n",
    "from scipy.stats import pearsonr\n",
    "from keract import get_activations\n",
    "def pearsonR(v1,v2):\n",
    "        return -pearsonr(v1,v2)[0]\n",
    "\n",
    "for label in Datasets:\n",
    "    print(label)\n",
    "    df_test = Datasets[label]['Test']\n",
    "    fam_map = Datasets[label]['mapping']\n",
    "    profilemat = Datasets[label]['mat']\n",
    "    ydata =  {}\n",
    "\n",
    "    for func, name in [ (euclidean, 'Euclidean' ), (hamming,'Hamming') , (jaccard,'Jaccard') , (pearsonR,'Pearson') ]:\n",
    "        print(name)\n",
    "        generator = generateXYchunk(profilemat, df_test, fam_map , posi_percent= .5 , nsamples = 50 )\n",
    "        #test all the easy metrics\n",
    "        ypreds = []\n",
    "        ytruth = []\n",
    "        for X,y in generator:\n",
    "            #distances\n",
    "            x1 = X[:,0:int(X.shape[1]/2)]\n",
    "            x2 = X[:,int(X.shape[1]/2):]\n",
    "            predictions = np.array([ -func(x1[r,:],x2[r,:] ) for r in range(x1.shape[0]) ])\n",
    "            ypreds.append(predictions)\n",
    "            ytruth.append(y)\n",
    "        ytest= np.hstack(ytruth)\n",
    "        ypred = np.hstack(ypreds)\n",
    "        ydata[name] = { 'Ypred': ypred , 'Ytrue':ytest} \n",
    "    #get DNN values\n",
    "    print('DNN')\n",
    "    generator = generateXYchunk(profilemat, df_test, fam_map , posi_percent= .5 , nsamples = 50 )\n",
    "    mats = [(x,y) for x,y in generator ]\n",
    "    y_test = np.hstack([y for x,y in mats])\n",
    "    modelpath = './'+label+'_dropout_DNN.h5'\n",
    "    if os.path.exists(modelpath):\n",
    "        model = load_model(modelpath)\n",
    "        \n",
    "        \n",
    "    ypred = np.vstack([ model.predict(x) for x,y in mats])\n",
    "    \n",
    "    \n",
    "    #activations = [ get_activations(model, x , auto_compile=True) for x,y in mats] \n",
    "    #activations = activations[list(activations.keys())[0]]\n",
    "    #print( activations.shape)\n",
    "    #n_samples = activations.shape[0]\n",
    "    #activations = np.sum(activations,axis =0)/n_samples\n",
    "    #representations = np.sum(X_test, axis = 0)\n",
    "    \n",
    "    #print(activations.shape)\n",
    "    \n",
    "    #np.save(modelpath + 'activation.np' , activations)\n",
    "    #np.save(modelpath + 'representation.np', representations)\n",
    "    \n",
    "    ydata['DNN'] ={ 'Ypred': ypred , 'Ytrue':ytest}\n",
    "    #plot ROC\n",
    "    print(ydata)\n",
    "    ROC_curve(ydata , label = label)\n",
    "    plt.show()\n"
   ]
  },
  {
   "cell_type": "code",
   "execution_count": 64,
   "metadata": {},
   "outputs": [],
   "source": [
    "#######################being the graph NN part of the paper #####################################"
   ]
  },
  {
   "cell_type": "code",
   "execution_count": 65,
   "metadata": {},
   "outputs": [],
   "source": [
    "import dendropy\n",
    "taxnwk = '/scratch/dmoi/datasets/birds/all_test_master_tree.nwk'\n",
    "\n",
    "with open( 'taxtree.nwk' , 'w') as treeout:\n",
    "    treeout.write(p.tree.write())\n",
    "dendrotree = dendropy.Tree.get(\n",
    "        data=p.tree.write(),\n",
    "        schema='newick')\n"
   ]
  },
  {
   "cell_type": "code",
   "execution_count": 212,
   "metadata": {},
   "outputs": [
    {
     "name": "stdout",
     "output_type": "stream",
     "text": [
      "2429\n",
      "2429\n"
     ]
    }
   ],
   "source": [
    "import ete3\n",
    "taxonomy = p.tree\n",
    "taxmap ={ n.name :i for i,n in enumerate(taxonomy.traverse())}\n",
    "reverse_taxmap = dict(zip(taxmap.values(), taxmap.keys()))\n",
    "#im going to implement the graph net with dendropy\n",
    "#we need to map the profile vectors from ete3 traversal to dendropy\n",
    "tax = [n.taxon.label for n in dendrotree.nodes() if n.taxon ]\n",
    "dendropy2ete3_index = np.array([ taxmap[n]  if str(n) in taxmap else taxmap['-1']  for n in tax ])\n",
    "\n",
    "\n",
    "\n",
    "print(len(dendropy2ete3_index))\n",
    "print(len(p.tree))"
   ]
  },
  {
   "cell_type": "code",
   "execution_count": 88,
   "metadata": {},
   "outputs": [],
   "source": [
    "#setup the internal nodes for the fitch algo\n",
    "for i,l in enumerate(dendrotree.nodes()):\n",
    "    l.event = {}\n",
    "    l.scores = {}\n",
    "    l.symbols = None\n",
    "    l.char= None\n",
    "    l.matrow = i"
   ]
  },
  {
   "cell_type": "code",
   "execution_count": 89,
   "metadata": {},
   "outputs": [
    {
     "name": "stdout",
     "output_type": "stream",
     "text": [
      "dict_keys(['Train', 'Test', 'mapping', 'mat'])\n"
     ]
    }
   ],
   "source": [
    "print(Datasets['string'].keys())"
   ]
  },
  {
   "cell_type": "code",
   "execution_count": 68,
   "metadata": {},
   "outputs": [
    {
     "name": "stdout",
     "output_type": "stream",
     "text": [
      "The autoreload extension is already loaded. To reload it, use:\n",
      "  %reload_ext autoreload\n"
     ]
    }
   ],
   "source": [
    "%load_ext autoreload\n",
    "%autoreload 2"
   ]
  },
  {
   "cell_type": "code",
   "execution_count": 213,
   "metadata": {},
   "outputs": [],
   "source": [
    "import smallpars\n",
    "#we're checking for interaction in a subset of species and propagating up\n",
    "allowed_symbols =set([0,1])\n",
    "transition_dict = { (c[0],c[1]):i for i,c in enumerate(itertools.permutations(allowed_symbols,2) ) }\n",
    "\n",
    "def calc_interaction_on_taxonomy(cog1,cog2,tree, bloom , verbose = False):\n",
    "    #set interaction states\n",
    "    #look for interactions in bloom\n",
    "    for i,l in enumerate(tree.leaf_nodes()):\n",
    "        l.event = {}\n",
    "        l.scores = {}\n",
    "        l.symbols = {}\n",
    "        l.scores = { c:10**10 for c in allowed_symbols }\n",
    "        if cog1+'_'+cog2+'_'+l.taxon.label in bloom:\n",
    "            if verbose == True:\n",
    "                print(l.taxon.label)\n",
    "            l.char= 1\n",
    "            l.symbols = {1}\n",
    "        else:\n",
    "            l.char= 0\n",
    "            l.symbols = {0}\n",
    "        l.scores[l.char] = 0\n",
    "    t = smallpars.calculate_small_parsimony(tree ,allowed_symbols, transition_dict)\n",
    "    return  t"
   ]
  },
  {
   "cell_type": "code",
   "execution_count": 214,
   "metadata": {},
   "outputs": [],
   "source": [
    "def tree2Single_sparse_graph(tree):\n",
    "    N = len(tree.nodes())\n",
    "    index = np.array([ [n.matrow, c.matrow ] for n in tree.nodes() for c in n.child_nodes()])\n",
    "    #features that apply to every node\n",
    "    lengths = np.array([ c.edge_length for n in tree.nodes() for c in n.child_nodes()])\n",
    "    lengths /= np.amax(lengths)\n",
    "    ntime = np.array([ n.distance_from_root() for n in tree.nodes()])\n",
    "    mtime = np.amax(ntime)\n",
    "    ntime/=mtime\n",
    "    levels = np.array([ n.level() for n in tree.nodes() ] , dtype='float')\n",
    "    levels /= np.amax(levels)\n",
    "    #totalnodes = len(tree.nodes())\n",
    "    #Norm_ndescendant = np.array([ n./totalnodes for n in tree.nodes() ])\n",
    "    Norm_nchild= np.array( [ len(n.child_nodes()) for n in tree.nodes() ] ,dtype='float' )\n",
    "    mchild =np.amax(Norm_nchild)\n",
    "    Norm_nchild/=mchild \n",
    "    template_features = np.stack([ntime ,  Norm_nchild  ]).T\n",
    "    connectmat = scipy.sparse.lil_matrix(( N ,  N ) )\n",
    "    connectmat[index[:,0],index[:,1]] = 1\n",
    "    diag = np.array([ i for i in range(connectmat.shape[0]) ] )\n",
    "    connectmat = scipy.sparse.find(connectmat)\n",
    "    print(connectmat)\n",
    "    connectmat = np.hstack([connectmat[0],connectmat[1]])\n",
    "    #get adjacency and node IDs\n",
    "    return connectmat, template_features"
   ]
  },
  {
   "cell_type": "code",
   "execution_count": 215,
   "metadata": {},
   "outputs": [],
   "source": [
    "from torch_geometric.data import Data\n",
    "from torch_geometric.loader import DataLoader\n",
    "from torch_geometric.data import HeteroData\n",
    "\n",
    "\n",
    "def create_data( tree, coglinkdf, bloom, profilemat ,  fam_map , taxindex , posi_percent= .5 , loop= True):\n",
    "        #select lines from coglinks\n",
    "        connectmat, template_features = tree2Single_sparse_graph(tree)\n",
    "        num_total_nodes = template_features.shape[0]\n",
    "        lineiterator = coglinkdf.iterrows()\n",
    "        if loop == True:\n",
    "            lineiterator = itertools.cycle(lineiterator)\n",
    "        allfams = list(set(coglinkdf.fam1.unique()).union( set(coglinkdf.fam2.unique() ) ))\n",
    "        #for each pair in the dataset / non-coev pair\n",
    "        #coin toss to decide whether the sample is positive or negative\n",
    "        while True:\n",
    "            #toss = scipy.stats.bernoulli.rvs(posi_percent, loc=0, size=1, random_state=None)\n",
    "            toss = 1\n",
    "            if toss == 0:\n",
    "                fam1 = random.choice(allfams)\n",
    "                fam2 = fam1\n",
    "                #make sure they arent the same\n",
    "                while fam1 ==fam2:\n",
    "                    fam2 = random.choice(allfams)\n",
    "                #profile features\n",
    "                labels = np.zeros((template_features.shape[0],))\n",
    "            else:\n",
    "                #positive sample\n",
    "                idx,dfline = next(lineiterator)\n",
    "                cog1= str(dfline.group1).replace(\"b\",'').replace(\"'\",'').strip()\n",
    "                cog2= str(dfline.group2).replace(\"b\",'').replace(\"'\",'').strip()\n",
    "                fam1 = dfline.fam1\n",
    "                fam2 = dfline.fam2\n",
    "                #get the features from fitch and profile\n",
    "                t = calc_interaction_on_taxonomy(cog1,cog2,tree, bloom)\n",
    "                labels = [ n.char for n in t.nodes() ]\n",
    "            profile1 = profilemat[fam_map[fam1]]\n",
    "            profile2 = profilemat[fam_map[fam2]]\n",
    "            nodefeatures = np.zeros((template_features.shape[0],2) )\n",
    "            print(taxindex, taxindex.shape)\n",
    "            nodefeatures[taxindex,0] = profile1\n",
    "            nodefeatures[taxindex,1] = profile2\n",
    "            print(template_features)\n",
    "            print(nodefeatures)\n",
    "            \n",
    "            nodefeatures = np.hstack([nodefeatures,template_features])    \n",
    "            \n",
    "\n",
    "            #data = HeteroData()\n",
    "            #data['godnode', 'lords_over', 'phyloleaves'].edge_index = edge_index_author_paper\n",
    "            \n",
    "            \n",
    "            data = Data(x = nodefeatures , edge_index= connectmat , y = labels )\n",
    "            \n",
    "            yield data\n",
    "\n",
    "Traindata = create_data(dendrotree, Datasets['string']['Train'] ,cogfilter , Datasets['string']['mat'] ,  Datasets['string']['mapping'] , dendropy2ete3_index, posi_percent= .5  )\n",
    "loader = DataLoader(Traindata, batch_size=32)\n"
   ]
  },
  {
   "cell_type": "code",
   "execution_count": null,
   "metadata": {},
   "outputs": [],
   "source": [
    " print(next(Traindata))"
   ]
  },
  {
   "cell_type": "code",
   "execution_count": null,
   "metadata": {},
   "outputs": [],
   "source": [
    "#using a small graph toy network\n",
    "\n",
    "import torch\n",
    "import torch.nn.functional as F\n",
    "from torch_geometric.nn import GCNConv\n",
    "\n",
    "class GCN(torch.nn.Module):\n",
    "    def __init__(self):\n",
    "        super().__init__()\n",
    "        self.conv1 = GCNConv(dataset.num_node_features, 16)\n",
    "        self.conv2 = GCNConv(16, dataset.num_classes)\n",
    "\n",
    "    def forward(self, data):\n",
    "        x, edge_index = data.x, data.edge_index\n",
    "\n",
    "        x = self.conv1(x, edge_index)\n",
    "        x = F.relu(x)\n",
    "        x = F.dropout(x, training=self.training)\n",
    "        x = self.conv2(x, edge_index)\n",
    "\n",
    "        return F.log_softmax(x, dim=1)"
   ]
  },
  {
   "cell_type": "code",
   "execution_count": null,
   "metadata": {},
   "outputs": [],
   "source": []
  },
  {
   "cell_type": "code",
   "execution_count": 86,
   "metadata": {},
   "outputs": [
    {
     "name": "stdout",
     "output_type": "stream",
     "text": [
      "<class '__main__.GCN'>\n"
     ]
    }
   ],
   "source": [
    "print(GCN)"
   ]
  },
  {
   "cell_type": "code",
   "execution_count": 84,
   "metadata": {},
   "outputs": [],
   "source": [
    "device = torch.device('cuda' if torch.cuda.is_available() else 'cpu')"
   ]
  },
  {
   "cell_type": "code",
   "execution_count": 85,
   "metadata": {},
   "outputs": [
    {
     "ename": "AttributeError",
     "evalue": "'str' object has no attribute 'num_node_features'",
     "output_type": "error",
     "traceback": [
      "\u001b[0;31m---------------------------------------------------------------------------\u001b[0m",
      "\u001b[0;31mAttributeError\u001b[0m                            Traceback (most recent call last)",
      "\u001b[0;32m/tmp/4573285/ipykernel_1794795/2533138595.py\u001b[0m in \u001b[0;36m<module>\u001b[0;34m\u001b[0m\n\u001b[0;32m----> 1\u001b[0;31m \u001b[0mmodel\u001b[0m \u001b[0;34m=\u001b[0m \u001b[0mGCN\u001b[0m\u001b[0;34m(\u001b[0m\u001b[0;34m)\u001b[0m\u001b[0;34m.\u001b[0m\u001b[0mto\u001b[0m\u001b[0;34m(\u001b[0m\u001b[0mdevice\u001b[0m\u001b[0;34m)\u001b[0m\u001b[0;34m\u001b[0m\u001b[0;34m\u001b[0m\u001b[0m\n\u001b[0m\u001b[1;32m      2\u001b[0m \u001b[0moptimizer\u001b[0m \u001b[0;34m=\u001b[0m \u001b[0mtorch\u001b[0m\u001b[0;34m.\u001b[0m\u001b[0moptim\u001b[0m\u001b[0;34m.\u001b[0m\u001b[0mAdam\u001b[0m\u001b[0;34m(\u001b[0m\u001b[0mmodel\u001b[0m\u001b[0;34m.\u001b[0m\u001b[0mparameters\u001b[0m\u001b[0;34m(\u001b[0m\u001b[0;34m)\u001b[0m\u001b[0;34m,\u001b[0m \u001b[0mlr\u001b[0m\u001b[0;34m=\u001b[0m\u001b[0;36m0.01\u001b[0m\u001b[0;34m,\u001b[0m \u001b[0mweight_decay\u001b[0m\u001b[0;34m=\u001b[0m\u001b[0;36m5e-4\u001b[0m\u001b[0;34m)\u001b[0m\u001b[0;34m\u001b[0m\u001b[0;34m\u001b[0m\u001b[0m\n",
      "\u001b[0;32m/tmp/4573285/ipykernel_1794795/3927822984.py\u001b[0m in \u001b[0;36m__init__\u001b[0;34m(self)\u001b[0m\n\u001b[1;32m      8\u001b[0m     \u001b[0;32mdef\u001b[0m \u001b[0m__init__\u001b[0m\u001b[0;34m(\u001b[0m\u001b[0mself\u001b[0m\u001b[0;34m)\u001b[0m\u001b[0;34m:\u001b[0m\u001b[0;34m\u001b[0m\u001b[0;34m\u001b[0m\u001b[0m\n\u001b[1;32m      9\u001b[0m         \u001b[0msuper\u001b[0m\u001b[0;34m(\u001b[0m\u001b[0;34m)\u001b[0m\u001b[0;34m.\u001b[0m\u001b[0m__init__\u001b[0m\u001b[0;34m(\u001b[0m\u001b[0;34m)\u001b[0m\u001b[0;34m\u001b[0m\u001b[0;34m\u001b[0m\u001b[0m\n\u001b[0;32m---> 10\u001b[0;31m         \u001b[0mself\u001b[0m\u001b[0;34m.\u001b[0m\u001b[0mconv1\u001b[0m \u001b[0;34m=\u001b[0m \u001b[0mGCNConv\u001b[0m\u001b[0;34m(\u001b[0m\u001b[0mdataset\u001b[0m\u001b[0;34m.\u001b[0m\u001b[0mnum_node_features\u001b[0m\u001b[0;34m,\u001b[0m \u001b[0;36m16\u001b[0m\u001b[0;34m)\u001b[0m\u001b[0;34m\u001b[0m\u001b[0;34m\u001b[0m\u001b[0m\n\u001b[0m\u001b[1;32m     11\u001b[0m         \u001b[0mself\u001b[0m\u001b[0;34m.\u001b[0m\u001b[0mconv2\u001b[0m \u001b[0;34m=\u001b[0m \u001b[0mGCNConv\u001b[0m\u001b[0;34m(\u001b[0m\u001b[0;36m16\u001b[0m\u001b[0;34m,\u001b[0m \u001b[0mdataset\u001b[0m\u001b[0;34m.\u001b[0m\u001b[0mnum_classes\u001b[0m\u001b[0;34m)\u001b[0m\u001b[0;34m\u001b[0m\u001b[0;34m\u001b[0m\u001b[0m\n\u001b[1;32m     12\u001b[0m \u001b[0;34m\u001b[0m\u001b[0m\n",
      "\u001b[0;31mAttributeError\u001b[0m: 'str' object has no attribute 'num_node_features'"
     ]
    }
   ],
   "source": [
    "model = GCN().to(device)\n",
    "optimizer = torch.optim.Adam(model.parameters(), lr=0.01, weight_decay=5e-4)"
   ]
  },
  {
   "cell_type": "code",
   "execution_count": null,
   "metadata": {},
   "outputs": [],
   "source": [
    "model.train()\n",
    "for epoch in range(200):\n",
    "    data = dataset[0].to(device)\n",
    "    optimizer.zero_grad()\n",
    "    out = model(data)\n",
    "    loss = F.nll_loss(out[data.train_mask], data.y[data.train_mask])\n",
    "    loss.backward()\n",
    "    optimizer.step()"
   ]
  },
  {
   "cell_type": "code",
   "execution_count": null,
   "metadata": {},
   "outputs": [],
   "source": [
    "\n",
    "model.eval()\n",
    "pred = model(data).argmax(dim=1)\n",
    "correct = (pred[data.test_mask] == data.y[data.test_mask]).sum()\n",
    "acc = int(correct) / int(data.test_mask.sum())\n",
    "print(f'Accuracy: {acc:.4f}')\n"
   ]
  },
  {
   "cell_type": "code",
   "execution_count": 81,
   "metadata": {},
   "outputs": [],
   "source": [
    "data_list = [Data(...), ..., Data(...)]\n",
    "loader = DataLoader(data_list, batch_size=32)"
   ]
  },
  {
   "cell_type": "code",
   "execution_count": null,
   "metadata": {},
   "outputs": [],
   "source": []
  },
  {
   "cell_type": "code",
   "execution_count": null,
   "metadata": {},
   "outputs": [],
   "source": []
  },
  {
   "cell_type": "code",
   "execution_count": null,
   "metadata": {},
   "outputs": [],
   "source": [
    "#bonus graph neural networks\"!\n",
    "\n",
    "#encode phylogenies as graphs\n",
    "\n",
    "#make sandwhich layer\n",
    "\n",
    "\n",
    "#train graph nn receptive field\n",
    "\n",
    "\n",
    "#predict on human node\n",
    "\n",
    "#predict on several nodes\n",
    "#use string data and get all interaction interlogs\n",
    "\n",
    "#propagate the feature of interaction using fitch in sandwhich layer\n",
    "\n",
    "#compare AUC in different branches\n",
    "\n"
   ]
  },
  {
   "cell_type": "code",
   "execution_count": null,
   "metadata": {},
   "outputs": [],
   "source": []
  }
 ],
 "metadata": {
  "kernelspec": {
   "display_name": "Python 3 (ipykernel)",
   "language": "python",
   "name": "python3"
  },
  "language_info": {
   "codemirror_mode": {
    "name": "ipython",
    "version": 3
   },
   "file_extension": ".py",
   "mimetype": "text/x-python",
   "name": "python",
   "nbconvert_exporter": "python",
   "pygments_lexer": "ipython3",
   "version": "3.9.7"
  }
 },
 "nbformat": 4,
 "nbformat_minor": 4
}
