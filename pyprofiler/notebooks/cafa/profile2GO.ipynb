{
 "cells": [
  {
   "cell_type": "code",
   "execution_count": 1,
   "metadata": {},
   "outputs": [
    {
     "name": "stdout",
     "output_type": "stream",
     "text": [
      "{'dir': {'datadir': '/home/cactuskid13/pyprofiler/pyprofiler/all/all/', 'omadir': '/home/cactuskid13/mntpt/OMA/latest/'}, 'orthoxmltar': '', 'email': 'dmoi@unil.ch'}\n"
     ]
    }
   ],
   "source": [
    "#profiler load \n",
    "%load_ext autoreload\n",
    "%autoreload 2\n",
    "import sys\n",
    "sys.path.append('../../..')\n",
    "from pyprofiler.utils import config_utils\n",
    "import pyprofiler.utils.goatools_utils as goa\n",
    "import pyprofiler.profiler as profiler\n",
    "from qtlsearch.OBOParser import OBO\n",
    "import pandas as pd\n",
    "import numpy as np\n",
    "from matplotlib import pyplot as plt\n",
    "#select rand profile w annotations\n",
    "#mask annotations\n",
    "#pull in coevolving Hogs\n",
    "#feed profile vectors and GO to NN\n",
    "#Try to recover annotations"
   ]
  },
  {
   "cell_type": "code",
   "execution_count": 2,
   "metadata": {},
   "outputs": [],
   "source": [
    "#lets also create a go annotation enrichment study object to describe functional enrichment in our profiling results\n",
    "\n",
    "gaf = goa.buildGAF( '/home/cactuskid13/mntpt/OMA/latest/oma-go.txt' )"
   ]
  },
  {
   "cell_type": "code",
   "execution_count": 3,
   "metadata": {},
   "outputs": [
    {
     "name": "stdout",
     "output_type": "stream",
     "text": [
      "[1, 2, 3, 4, 5, 6, 7, 8, 9, 10]\n"
     ]
    }
   ],
   "source": [
    "#load oma hogs to prot sequence mapping\n",
    "\n",
    "import gzip\n",
    "import pickle\n",
    "with gzip.open('oma-hogs-Jun2019.p.gz', 'rb') as fp:\n",
    "    hogs = pickle.load(fp)\n",
    "print(list(hogs.keys())[0:10])"
   ]
  },
  {
   "cell_type": "code",
   "execution_count": 4,
   "metadata": {},
   "outputs": [
    {
     "name": "stdout",
     "output_type": "stream",
     "text": [
      "./go.obo: fmt(1.2) rel(2019-12-09) 47,311 GO Terms\n"
     ]
    }
   ],
   "source": [
    "from goatools import obo_parser\n",
    "obo = './go.obo'\n",
    "obo = obo_parser.GODag(obo)"
   ]
  },
  {
   "cell_type": "code",
   "execution_count": 5,
   "metadata": {},
   "outputs": [
    {
     "name": "stdout",
     "output_type": "stream",
     "text": [
      "loading lsh\n",
      "indexing lsh\n"
     ]
    },
    {
     "name": "stderr",
     "output_type": "stream",
     "text": [
      "Cannot load SequenceSearch. Any future call to seq_search will fail!\n",
      "Traceback (most recent call last):\n",
      "  File \"../../../pyprofiler/pyoma/browser/db.py\", line 879, in __init__\n",
      "    self.seq_idx = self.seq_idx()\n",
      "  File \"/home/cactuskid13/miniconda3/envs/pyprofiler3/lib/python3.7/site-packages/tables/link.py\", line 397, in __call__\n",
      "    self.extfile = tables.open_file(filename, **kwargs)\n",
      "  File \"/home/cactuskid13/miniconda3/envs/pyprofiler3/lib/python3.7/site-packages/tables/file.py\", line 320, in open_file\n",
      "    return File(filename, mode, title, root_uep, filters, **kwargs)\n",
      "  File \"/home/cactuskid13/miniconda3/envs/pyprofiler3/lib/python3.7/site-packages/tables/file.py\", line 784, in __init__\n",
      "    self._g_new(filename, mode, **params)\n",
      "  File \"tables/hdf5extension.pyx\", line 374, in tables.hdf5extension.File._g_new\n",
      "  File \"/home/cactuskid13/miniconda3/envs/pyprofiler3/lib/python3.7/site-packages/tables/utils.py\", line 157, in check_file_access\n",
      "    raise IOError(\"``%s`` does not exist\" % (filename,))\n",
      "OSError: ``/home/cactuskid13/mntpt/OMA/latest/OmaServer.h5.idx`` does not exist\n",
      "\n",
      "During handling of the above exception, another exception occurred:\n",
      "\n",
      "Traceback (most recent call last):\n",
      "  File \"../../../pyprofiler/pyoma/browser/db.py\", line 87, in __init__\n",
      "    self.seq_search = SequenceSearch(self)\n",
      "  File \"../../../pyprofiler/pyoma/browser/db.py\", line 884, in __init__\n",
      "    raise DBConsistencyError(\"Suffix index for protein sequences is not available: \"+str(e))\n",
      "pyprofiler.pyoma.browser.db.DBConsistencyError: Suffix index for protein sequences is not available: ``/home/cactuskid13/mntpt/OMA/latest/OmaServer.h5.idx`` does not exist\n",
      "/home/cactuskid13/miniconda3/envs/pyprofiler3/lib/python3.7/site-packages/tables/leaf.py:414: PerformanceWarning: The Leaf ``/Protein/_i_Entries/OmaHOG/sorted`` is exceeding the maximum recommended rowsize (104857600 bytes);\n",
      "be ready to see PyTables asking for *lots* of memory and possibly slow\n",
      "I/O.  You may want to reduce the rowsize by trimming the value of\n",
      "dimensions that are orthogonal (and preferably close) to the *main*\n",
      "dimension of this leave.  Alternatively, in case you have specified a\n",
      "very small/large chunksize, you may want to increase/decrease it.\n",
      "  PerformanceWarning)\n"
     ]
    },
    {
     "name": "stdout",
     "output_type": "stream",
     "text": [
      "3278\n",
      "DONE\n"
     ]
    }
   ],
   "source": [
    "p = profiler.Profiler(lshforestpath = config_utils.datadir + '/latest_all_256/newlshforest.pkl'  , hashes_h5=config_utils.datadir+ 'latest_all_256/hashes.h5'  , mat_path= None, oma = '/home/cactuskid13/mntpt/OMA/latest/OmaServer.h5', tar= None , mastertree =config_utils.datadir + 'latest_all_256_master_tree.pkl' , nsamples = 256)"
   ]
  },
  {
   "cell_type": "code",
   "execution_count": 6,
   "metadata": {},
   "outputs": [
    {
     "name": "stderr",
     "output_type": "stream",
     "text": [
      "/home/cactuskid13/miniconda3/envs/pyprofiler3/lib/python3.7/site-packages/ipykernel_launcher.py:4: FutureWarning: read_table is deprecated, use read_csv instead.\n",
      "  after removing the cwd from sys.path.\n"
     ]
    }
   ],
   "source": [
    "import time\n",
    "import itertools\n",
    "\n",
    "species = pd.read_table( './oma-species.txt' , sep = '\\t' , comment = '#', header = None)\n",
    "specdict = dict( zip(species[0] , species[1]) )\n",
    "\n",
    "def yeild_annot_hogs( hogs, specdict, chunksize = 10 , verbose = False):\n",
    "    datachunkdict = {}\n",
    "    datadf = None\n",
    "    for h in itertools.cycle(hogs):\n",
    "        if h> 0:\n",
    "            if datadf is not None and len(datadf) > 0 and len(datadf.hog.unique())> chunksize:\n",
    "                datadf['taxcode'] = datadf.genome.map(specdict)\n",
    "                yield datadf\n",
    "                datachunkdict = {}\n",
    "                datadf = None\n",
    "            if verbose :\n",
    "                print(h)\n",
    "            \n",
    "            datachunkdict= { m:{ 'genome':m[0:5],  'annot': gaf[m] , 'hog':h } for m in hogs[h] if m in gaf }\n",
    "            if len(datachunkdict)>10:\n",
    "                if datadf is None:\n",
    "                    datadf = pd.DataFrame.from_dict( datachunkdict , orient = 'index' )\n",
    "                else:\n",
    "                    datadf = pd.concat([datadf , pd.DataFrame.from_dict( datachunkdict , orient = 'index' ) ])\n",
    "\n",
    "hogiterator = yeild_annot_hogs( hogs , specdict )"
   ]
  },
  {
   "cell_type": "code",
   "execution_count": 7,
   "metadata": {},
   "outputs": [
    {
     "name": "stdout",
     "output_type": "stream",
     "text": [
      "0.22692537307739258\n",
      "0.05514073371887207\n",
      "0.1800556182861328\n",
      "0.04569244384765625\n",
      "0.05126619338989258\n",
      "           genome                                 annot   hog  taxcode\n",
      "CALMQ00997  CALMQ  {GO:0003677, GO:0000150, GO:0006310}  3223   397948\n",
      "PYRAE02475  PYRAE  {GO:0003677, GO:0000150, GO:0006310}  3223   178306\n",
      "PYRAR01890  PYRAR  {GO:0003677, GO:0000150, GO:0006310}  3223   340102\n",
      "PYRCJ01941  PYRCJ  {GO:0003677, GO:0000150, GO:0006310}  3223   410359\n",
      "PYRIL00788  PYRIL  {GO:0003677, GO:0000150, GO:0006310}  3223   384616\n"
     ]
    }
   ],
   "source": [
    "\n",
    "for i in range(5):\n",
    "    t0 = time.time()\n",
    "    next(hogiterator)\n",
    "    print( time.time()-t0)\n",
    "\n",
    "print( next(hogiterator).head() )"
   ]
  },
  {
   "cell_type": "code",
   "execution_count": 8,
   "metadata": {},
   "outputs": [
    {
     "name": "stderr",
     "output_type": "stream",
     "text": [
      "/home/cactuskid13/miniconda3/envs/pyprofiler3/lib/python3.7/site-packages/ipykernel_launcher.py:1: FutureWarning: read_table is deprecated, use read_csv instead, passing sep='\\t'.\n",
      "  \"\"\"Entry point for launching an IPython kernel.\n"
     ]
    },
    {
     "name": "stdout",
     "output_type": "stream",
     "text": [
      "            cafa_id      oma_id     fam species\n",
      "57070  T37020001074  ARATH00006  472976   ARATH\n",
      "69814  T37020003425  ARATH00010  483443   ARATH\n",
      "70000  T37020007063  ARATH00011  483592   ARATH\n",
      "3798   T37020007582  ARATH00013  182502   ARATH\n",
      "3236   T37020015139  ARATH00015  177269   ARATH\n",
      "            cafa_id      oma_id     fam species  taxcode\n",
      "57070  T37020001074  ARATH00006  472976   ARATH     3702\n",
      "69814  T37020003425  ARATH00010  483443   ARATH     3702\n",
      "70000  T37020007063  ARATH00011  483592   ARATH     3702\n",
      "3798   T37020007582  ARATH00013  182502   ARATH     3702\n",
      "3236   T37020015139  ARATH00015  177269   ARATH     3702\n"
     ]
    }
   ],
   "source": [
    "targets = pd.read_table( './out_map_by_hog.tsv')\n",
    "targets = targets.sort_values( by= 'oma_id')\n",
    "targets['species'] = targets.oma_id.map( lambda x : x[0:5])\n",
    "print(targets.head())\n",
    "targets['taxcode'] = targets.species.map(specdict)\n",
    "print(targets.head())\n"
   ]
  },
  {
   "cell_type": "code",
   "execution_count": 9,
   "metadata": {},
   "outputs": [],
   "source": [
    "def fam2hogid(fam_id):\n",
    "    \"\"\"\n",
    "    For use with OMA HOGs\n",
    "    Get hog id given fam\n",
    "    :param fam_id: fam\n",
    "    :return: hog id\n",
    "    \"\"\"\n",
    "    hog_id = \"HOG:\" + (7-len(str(fam_id))) * '0' + str(fam_id)\n",
    "    return hog_id\n",
    "\n",
    "def hogid2fam(hog_id):\n",
    "    \"\"\"\n",
    "    For use with OMA HOGs\n",
    "    Get hog id given fam\n",
    "    :param fam_id: fam\n",
    "    :return: hog id\n",
    "    \"\"\"\n",
    "    fam_id = int(hog_id.split(':')[1])\n",
    "    return fam_id\n",
    "\n",
    "def id2GO(intID):\n",
    "    return 'GO:{:07d}'.format(intID)\n",
    "\n",
    "\n",
    "def id2GO(intID):\n",
    "    return 'GO:{:07d}'.format(intID)\n",
    "\n",
    "def go2id(strID):\n",
    "    if type( strID) is int:\n",
    "        return strID\n",
    "    return int(strID.split(':')[1])\n",
    "\n",
    "\n",
    "\n",
    "def get_ancestors( golist , obo,  levels = 4 ):\n",
    "    ancestors = []\n",
    "    \n",
    "    for l in range( levels):\n",
    "        try:\n",
    "            if l == 0 :\n",
    "                a = [ obo[p.id].id for g in golist for p in obo[g].parents if g in obo and p.id in obo ]\n",
    "            else:\n",
    "                a = [ obo[p.id].id for g in a for p in obo[g].parents if g in obo and p.id in obo ]\n",
    "            ancestors += a\n",
    "        except:\n",
    "            pass\n",
    "    ancestors += golist\n",
    "    return [goa.goterm2id(goterm) for goterm in set(ancestors)]\n",
    "\n",
    "def get_ancestors_all( golist , obo):\n",
    "    ancestors = []\n",
    "    lastlen = -1\n",
    "    l = 0\n",
    "    while len(ancestors)>lastlen:\n",
    "        if l == 0 :\n",
    "            a = [ obo[p.id].id for g in golist for p in obo[g].parents if g in obo and p.id in obo]\n",
    "            \n",
    "        else:\n",
    "            a = [ obo[p.id].id for g in a for p in obo[g].parents if g in obo and p.id in obo ]\n",
    "        lastlen = len(ancestors)\n",
    "        ancestors += a\n",
    "        l+=1\n",
    "    \n",
    "    ancestors += golist\n",
    "    return [goa.goterm2id(goterm) for goterm in set(ancestors)]"
   ]
  },
  {
   "cell_type": "code",
   "execution_count": 16,
   "metadata": {},
   "outputs": [
    {
     "name": "stdout",
     "output_type": "stream",
     "text": [
      "{'ICHMG07310': {'GO:0016021', 'GO:0016020'}, 'ORYPU32013': {'GO:0016021'}, 'DICDI03960': {'GO:0003674', 'GO:0008150', 'GO:0005575', 'GO:0016021'}, 'GOSRA46123': {'GO:0008289', 'GO:0016020', 'GO:0009567', 'GO:0048235', 'GO:0005886', 'GO:0061936', 'GO:0007338', 'GO:0016021', 'GO:0005783', 'GO:0005887', 'GO:0045026'}, 'POPTR27565': {'GO:0008289', 'GO:0007338', 'GO:0016020', 'GO:0005886', 'GO:0016021', 'GO:0005783'}, 'ORYLO14359': {'GO:0016021'}, 'ORYSJ22678': {'GO:0008289', 'GO:0007338', 'GO:0016020', 'GO:0005886', 'GO:0016021', 'GO:0005783', 'GO:0005789'}, 'LUPAN02887': {'GO:0016021'}, 'ARALY23192': {'GO:0008289', 'GO:0007338', 'GO:0005886', 'GO:0016021', 'GO:0005783'}, 'TRYCC07250': {'GO:0016021', 'GO:0016020'}, 'ARATH26614': {'GO:0008289', 'GO:0007338', 'GO:0009567', 'GO:0016020', 'GO:0005886', 'GO:0048235', 'GO:0061936', 'GO:0016021', 'GO:0005783', 'GO:0005887', 'GO:0005789', 'GO:0045026'}, 'SOYBN21949': {'GO:0016021', 'GO:0016020'}, 'ORYSI37165': {'GO:0016021'}, 'WHEAT87894': {'GO:0008289', 'GO:0007338', 'GO:0016020', 'GO:0005886', 'GO:0016021', 'GO:0005783'}, 'ORYNI24757': {'GO:0008289', 'GO:0016020', 'GO:0009567', 'GO:0048235', 'GO:0005886', 'GO:0061936', 'GO:0007338', 'GO:0016021', 'GO:0005783', 'GO:0005887', 'GO:0045026'}, 'BRAOL50779': {'GO:0008289', 'GO:0016020', 'GO:0009567', 'GO:0048235', 'GO:0005886', 'GO:0061936', 'GO:0007338', 'GO:0016021', 'GO:0005783', 'GO:0005887', 'GO:0045026'}, 'CYAM104693': {'GO:0016021', 'GO:0016020'}, 'LEIDB00763': {'GO:0016021', 'GO:0016020'}, 'MARPO19716': {'GO:0016021', 'GO:0016020'}, 'SORBI14018': {'GO:0008289', 'GO:0016020', 'GO:0009567', 'GO:0048235', 'GO:0005886', 'GO:0061936', 'GO:0007338', 'GO:0016021', 'GO:0005783', 'GO:0005887', 'GO:0045026'}, 'SOLLC30910': {'GO:0016021'}, 'ORYSI24865': {'GO:0016020', 'GO:0009567', 'GO:0048235', 'GO:0005886', 'GO:0061936', 'GO:0016021', 'GO:0005783', 'GO:0005887', 'GO:0045026'}, 'CHEQI16567': {'GO:0016021'}, 'HORVV126779': {'GO:0008289', 'GO:0016020', 'GO:0009567', 'GO:0048235', 'GO:0005886', 'GO:0061936', 'GO:0007338', 'GO:0016021', 'GO:0005783', 'GO:0005887', 'GO:0045026'}, 'ORYRU38002': {'GO:0016021'}, 'WHEAT95040': {'GO:0016021', 'GO:0016020'}, 'GOSHI53031': {'GO:0016021'}, 'ORYLO07186': {'GO:0016021'}, 'PARTE06261': {'GO:0016021', 'GO:0016020'}, 'TRYB200995': {'GO:0005783'}, 'CUCSA14784': {'GO:0008289', 'GO:0016020', 'GO:0009567', 'GO:0048235', 'GO:0005886', 'GO:0061936', 'GO:0007338', 'GO:0016021', 'GO:0005783', 'GO:0005887', 'GO:0045026'}, 'NICAT17634': {'GO:0008289', 'GO:0016020', 'GO:0009567', 'GO:0048235', 'GO:0005886', 'GO:0061936', 'GO:0007338', 'GO:0016021', 'GO:0005783', 'GO:0005887', 'GO:0045026'}, 'LEIBR00777': {'GO:0016021', 'GO:0016020'}, 'LEIIN00285': {'GO:0016021', 'GO:0016020'}, 'SOYBN02660': {'GO:0016021'}, 'ORYPU21343': {'GO:0008289', 'GO:0007338', 'GO:0016020', 'GO:0005886', 'GO:0016021', 'GO:0005783'}, 'THECC12418': {'GO:0008289', 'GO:0007338', 'GO:0016020', 'GO:0005886', 'GO:0016021', 'GO:0005783'}, 'LEPSE03601': {'GO:0016021', 'GO:0016020'}, 'ORYNI37447': {'GO:0016021'}, 'MANES08056': {'GO:0008289', 'GO:0007338', 'GO:0005886', 'GO:0016021', 'GO:0005783'}, 'MEDTR24375': {'GO:0008289', 'GO:0016020', 'GO:0009567', 'GO:0048235', 'GO:0005886', 'GO:0061936', 'GO:0007338', 'GO:0016021', 'GO:0005783', 'GO:0005887', 'GO:0045026'}, 'ARALY23176': {'GO:0016021'}, 'ORYGL19355': {'GO:0008289', 'GO:0007338', 'GO:0016020', 'GO:0005886', 'GO:0016021', 'GO:0005783'}, 'ORYBR20353': {'GO:0016021', 'GO:0016020'}, 'LEPSE07083': {'GO:0016021', 'GO:0016020'}, 'SETIT04466': {'GO:0008289', 'GO:0016020', 'GO:0009567', 'GO:0048235', 'GO:0005886', 'GO:0061936', 'GO:0007338', 'GO:0016021', 'GO:0005783', 'GO:0005887', 'GO:0045026'}, 'SOYBN21946': {'GO:0016021', 'GO:0016020'}, 'ORYBR30285': {'GO:0016021'}, 'BRADI23061': {'GO:0016021'}, 'AEGTA16793': {'GO:0016020', 'GO:0009567', 'GO:0048235', 'GO:0005886', 'GO:0061936', 'GO:0016021', 'GO:0005783', 'GO:0005887', 'GO:0045026'}, 'ORYSJ33871': {'GO:0008289', 'GO:0007338', 'GO:0009567', 'GO:0016020', 'GO:0005886', 'GO:0048235', 'GO:0061936', 'GO:0016021', 'GO:0005783', 'GO:0005887', 'GO:0005789', 'GO:0045026'}, 'PHAAN05400': {'GO:0008289', 'GO:0007338', 'GO:0016020', 'GO:0005886', 'GO:0016021', 'GO:0005783'}, 'PHAVU09099': {'GO:0008289', 'GO:0016020', 'GO:0009567', 'GO:0048235', 'GO:0005886', 'GO:0061936', 'GO:0007338', 'GO:0016021', 'GO:0005783', 'GO:0005887', 'GO:0045026'}, 'BRANA93064': {'GO:0008289', 'GO:0007338', 'GO:0016020', 'GO:0005886', 'GO:0016021', 'GO:0005783'}, 'BODSA09965': {'GO:0016021', 'GO:0016020'}, 'LEIMU06358': {'GO:0016021', 'GO:0016020'}, 'PARTE05201': {'GO:0016021', 'GO:0016020'}, 'GOSAR31066': {'GO:0008289', 'GO:0007338', 'GO:0005886', 'GO:0016021', 'GO:0005783'}, 'DICPU08696': {'GO:0008289', 'GO:0016020', 'GO:0005886', 'GO:0019953', 'GO:0016021', 'GO:0005783'}, 'ARAAL13164': {'GO:0008289', 'GO:0007338', 'GO:0016020', 'GO:0005886', 'GO:0016021', 'GO:0005783'}, 'WHEAT81028': {'GO:0016021', 'GO:0016020'}, 'LEIIN00747': {'GO:0016021', 'GO:0016020'}, 'GOSHI21416': {'GO:0008289', 'GO:0007338', 'GO:0005886', 'GO:0016021', 'GO:0005783'}, 'PRUPE01558': {'GO:0008289', 'GO:0007338', 'GO:0016020', 'GO:0005886', 'GO:0016021', 'GO:0005783'}, 'ORYRU25304': {'GO:0008289', 'GO:0016020', 'GO:0009567', 'GO:0048235', 'GO:0005886', 'GO:0061936', 'GO:0007338', 'GO:0016021', 'GO:0005783', 'GO:0005887', 'GO:0045026'}, 'CHEQI32809': {'GO:0016021'}, 'WHEAT87896': {'GO:0016021', 'GO:0016020'}, 'MAIZE29959': {'GO:0008289', 'GO:0007338', 'GO:0016020', 'GO:0005886', 'GO:0016021', 'GO:0005783'}, 'WHEAT81026': {'GO:0016021', 'GO:0016020'}, 'ERATE23368': {'GO:0016021'}, 'LEIDB00394': {'GO:0016021', 'GO:0016020'}, 'SELML21516': {'GO:0008289', 'GO:0007338', 'GO:0005886', 'GO:0016021', 'GO:0005783'}, 'VITBC02306': {'GO:0016021', 'GO:0016020'}, 'BRARP40741': {'GO:0008289', 'GO:0007338', 'GO:0016020', 'GO:0005886', 'GO:0016021', 'GO:0005783'}, 'VITVI23490': {'GO:0016021'}, 'COCAP18490': {'GO:0008289', 'GO:0016020', 'GO:0009567', 'GO:0048235', 'GO:0005886', 'GO:0061936', 'GO:0007338', 'GO:0016021', 'GO:0005783', 'GO:0005887', 'GO:0045026'}, 'SOYBN42891': {'GO:0008289', 'GO:0007338', 'GO:0005886', 'GO:0016021', 'GO:0005783'}, 'MANES16598': {'GO:0016021'}}\n"
     ]
    }
   ],
   "source": [
    "qhog = '479378'\n",
    "res = p.hog_query(fam_id=int(qhog) , k = 100)\n",
    "res +=['479378']\n",
    "\n",
    "#res =[ \"HOG:\" + (7-len(str(fam_id))) * '0' + str(fam_id) for fam_id in res ]\n",
    "godict = { r:  { m:gaf[m]  for m in hogs[int(r)] if m in gaf} for r in res}\n",
    "print(godict['479378'])\n",
    "godict = { r: get_ancestors ( set([ g  for go in godict[r].values() for g in go] ) , obo ) for r in godict }\n",
    "hashes =  p.pull_hashes(res)\n",
    "jaccards = { r:hashes[r].jaccard(hashes[qhog]) for r in hashes }\n"
   ]
  },
  {
   "cell_type": "code",
   "execution_count": 17,
   "metadata": {},
   "outputs": [
    {
     "name": "stdout",
     "output_type": "stream",
     "text": [
      "[0.21875, 0.234375, 0.23828125, 0.2421875, 0.25390625, 0.26171875, 0.28125, 0.29296875, 0.296875, 0.30078125, 0.3046875, 0.3046875, 0.30859375, 0.3203125, 0.3203125, 0.328125, 0.328125, 0.34375, 0.34375, 0.34765625, 0.35546875, 0.35546875, 0.35546875, 0.35546875, 0.359375, 0.359375, 0.36328125, 0.36328125, 0.36328125, 0.37109375, 0.37890625, 0.3828125, 0.3828125, 0.3828125, 0.3828125, 0.38671875, 0.38671875, 0.38671875, 0.38671875, 0.390625, 0.390625, 0.39453125, 0.39453125, 0.39453125, 0.39453125, 0.40234375, 0.40234375, 0.40234375, 0.40234375, 0.40234375, 0.40234375, 0.40625, 0.41015625, 0.41015625, 0.4140625, 0.4140625, 0.41796875, 0.41796875, 0.41796875, 0.421875, 0.421875, 0.421875, 0.42578125, 0.42578125, 0.4296875, 0.4296875, 0.4296875, 0.43359375, 0.43359375, 0.4375, 0.4375, 0.4375, 0.4375, 0.44140625, 0.44140625, 0.4453125, 0.4453125, 0.4453125, 0.44921875, 0.44921875, 0.4609375, 0.4609375, 0.46484375, 0.46484375, 0.46484375, 0.46875, 0.46875, 0.47265625, 0.47265625, 0.4765625, 0.484375, 0.484375, 0.48828125, 0.4921875, 0.5078125, 0.5078125, 0.51953125, 0.51953125, 0.52734375, 1.0]\n"
     ]
    },
    {
     "data": {
      "image/png": "[encoded data removed]",
      "text/plain": [
       "<Figure size 432x288 with 1 Axes>"
      ]
     },
     "metadata": {
      "needs_background": "light"
     },
     "output_type": "display_data"
    }
   ],
   "source": [
    "plt.hist(jaccards.values(), 20)\n",
    "print(sorted(jaccards.values()))\n",
    "#each annotation set has a weight with jaccard...\n",
    "\n"
   ]
  },
  {
   "cell_type": "code",
   "execution_count": 73,
   "metadata": {},
   "outputs": [
    {
     "name": "stdout",
     "output_type": "stream",
     "text": [
      "Load the model..\n"
     ]
    }
   ],
   "source": [
    "#load go2vec\n",
    "import numpy as np\n",
    "from keras.models import *\n",
    "from keras.optimizers import *\n",
    "from keras.layers import *\n",
    "from keras.metrics import *\n",
    "model = print('Load the model..')\n",
    "modelfile = '../models/GO2vec01_30_2020_17_03_04_069745.h5'\n",
    "model = load_model(modelfile)\n"
   ]
  },
  {
   "cell_type": "code",
   "execution_count": 74,
   "metadata": {},
   "outputs": [
    {
     "name": "stdout",
     "output_type": "stream",
     "text": [
      "[<keras.engine.input_layer.InputLayer object at 0x7ef83d5042e8>, <keras.engine.input_layer.InputLayer object at 0x7ef83d5043c8>, <keras.layers.embeddings.Embedding object at 0x7ef83d5046a0>, <keras.layers.core.Reshape object at 0x7ef83d504e48>, <keras.layers.core.Reshape object at 0x7ef83d5044a8>, <keras.layers.merge.Dot object at 0x7ef83d5048d0>, <keras.layers.core.Reshape object at 0x7ef83d504710>, <keras.layers.core.Dense object at 0x7ef83d5045c0>]\n",
      "_________________________________________________________________\n",
      "Layer (type)                 Output Shape              Param #   \n",
      "=================================================================\n",
      "target_in (InputLayer)       (None, 1)                 0         \n",
      "_________________________________________________________________\n",
      "embedding (Embedding)        (None, 1, 5)              108150    \n",
      "=================================================================\n",
      "Total params: 108,150\n",
      "Trainable params: 108,150\n",
      "Non-trainable params: 0\n",
      "_________________________________________________________________\n",
      "None\n"
     ]
    }
   ],
   "source": [
    "print(model.layers)\n",
    "inputlayer = Input((1,) , name='target_in')\n",
    "layer = model.get_layer('embedding')\n",
    "x = layer(inputlayer)\n",
    "embedder = Model( inputs=[inputlayer] , outputs =[x]  )\n",
    "embedder.build( input_shape = (1,) )\n",
    "print(embedder.summary())"
   ]
  },
  {
   "cell_type": "code",
   "execution_count": 75,
   "metadata": {},
   "outputs": [
    {
     "name": "stdout",
     "output_type": "stream",
     "text": [
      "136560693\n",
      "31426\n",
      "31426\n",
      "[[ 2.1462216 -7.753376   8.858745  -2.7340767 -7.9189086]\n",
      " [ 5.9735484 -6.6516705  4.9599805  1.9656091 -6.6397195]\n",
      " [ 6.00853   -9.517537   7.9835486 -0.6046661 -9.110369 ]\n",
      " ...\n",
      " [ 0.         0.         0.         0.         0.       ]\n",
      " [ 0.         0.         0.         0.         0.       ]\n",
      " [ 0.         0.         0.         0.         0.       ]]\n",
      "(31426, 5)\n",
      "<sklearn.neighbors.kd_tree.KDTree object at 0x556b36706ec8>\n"
     ]
    }
   ],
   "source": [
    "import pickle\n",
    "with open( '../models/gafobects.pkl' , 'rb' ) as gafstats:\n",
    "    nterms , c , index , reverse_index , sampling = pickle.loads(gafstats.read())\n",
    "print(sum(c.values()))\n",
    "print(len(index))\n",
    "min_annot= 50\n",
    "#index = { t:index[t] for t in index if c[t] > min_annot }\n",
    "c = { t:c[t] for t in index }\n",
    "#nterms = len(index)\n",
    "print(len(index))\n",
    "embedmat = embedder.predict( [np.array(list(index.values()) ) ] )\n",
    "embedmat = embedmat.reshape(len(index),-1)\n",
    "\n",
    "print(embedmat)\n",
    "print(embedmat.shape)\n",
    "from sklearn.neighbors import KDTree as KD\n",
    "tree = KD( embedmat )\n",
    "print(tree)"
   ]
  },
  {
   "cell_type": "code",
   "execution_count": 76,
   "metadata": {},
   "outputs": [],
   "source": [
    "#use the embedder on sets of go terms\n",
    "govecs ={ r : embedder.predict( np.asarray([ index[go] for go in godict[r] if go in index ]) ) for r in godict }\n",
    "\n"
   ]
  },
  {
   "cell_type": "code",
   "execution_count": 77,
   "metadata": {},
   "outputs": [
    {
     "data": {
      "image/png": "[encoded data removed]",
      "text/plain": [
       "<Figure size 432x288 with 1 Axes>"
      ]
     },
     "metadata": {
      "needs_background": "light"
     },
     "output_type": "display_data"
    },
    {
     "name": "stdout",
     "output_type": "stream",
     "text": [
      "catalytic activity, acting on a tRNA\n",
      "['trans-hexaprenyltranstransferase activity', 'lipoprotein particle receptor activity', 'regulation of digestive system process', 'nuclear membrane fusion involved in karyogamy', 'negative regulation by organism of entry into cell of other organism via phagocytosis involved in symbiotic interaction', 'response to vitamin K', 'positive regulation of steroid biosynthetic process', 'ferredoxin-nitrate reductase activity', 'intrinsic component of organelle membrane', 'mitotic telomere tethering at nuclear periphery', 'histone H4-R3 demethylation', 'positive regulation of neuron differentiation', 'guanylate cyclase regulator activity', 'L-methionine salvage from methionine sulphoxide', 'N-(5-amino-5-carboxypentanoyl)-L-cysteinyl-D-valine synthase activity', 'Set3 complex', 'positive regulation of RNA interference', 'regulation of Wnt signaling pathway involved in dorsal/ventral axis specification', 'regulation of purine nucleotide biosynthetic process', 'microtubule polymerization', 'peptidyl-lysine 3-dioxygenase activity', 'negative regulation of synaptic transmission, GABAergic', 'electron transporter, transferring electrons from CoQH2-cytochrome c reductase complex and cytochrome c oxidase complex activity', 'dehydrogluconokinase activity', 'negative regulation of Kit signaling pathway', 'neurofilament', 'negative regulation of T-helper cell differentiation', 'positive regulation of nucleotide biosynthetic process', 'regulation of cellular pH reduction', 'NAD+-dinitrogen-reductase ADP-D-ribosyltransferase activity', 'myeloid dendritic cell activation', 'negative regulation of protein localization to centrosome', 'O-glycan processing, core 1', 'regulation of cellular amine catabolic process', 'negative regulation of transcription from RNA polymerase II promoter involved in meiotic cell cycle', 'DNA damage response, detection of DNA damage', 'cell adhesion molecule binding', '4-chlorobenzoate dehalogenase activity', 'positive regulation of blood vessel endothelial cell proliferation involved in sprouting angiogenesis', 'visual behavior', 'forebrain dorsal/ventral pattern formation', 'dimethylmaleate hydratase activity', 'cellular response to acetate', 'phosphorylation of RNA polymerase II C-terminal domain serine 2 residues', 'male germ cell proliferation', 'cardiac muscle contraction', 'regulation of locomotor rhythm', 'endothelial cell proliferation', 'rhombomere formation', 'mitotic spindle pole body duplication', 'Arp2/3 complex binding', 'neuropeptide catabolic process', 'cellular response to prostaglandin E stimulus', 'regulation of T cell tolerance induction', 'positive regulation of corticotropin secretion', 'regulation of adipose tissue development', 'adenosine receptor signaling pathway', 'uridine biosynthetic process', 'protein localization to vacuolar membrane', \"mRNA (nucleoside-2'-O-)-methyltransferase activity\", 'RSF complex', 'I-kappaB kinase/NF-kappaB signaling', 'central nervous system myelin formation', 'regulation of steroid biosynthetic process', 'trans-feruloyl-CoA hydratase activity', 'induction by symbiont of host innate immune response', 'innate immune response in mucosa', 'muscle cell fate specification', 'proline-rich region binding', 'protein kinase A catalytic subunit binding', 'regulation of complement activation, classical pathway', 'long-chain fatty acid import into peroxisome', 'spinal cord motor neuron migration', 'muscle adaptation', 'regulation of exit from mitosis', 'forebrain anterior/posterior pattern specification', 'cartilage development', 'positive regulation of non-canonical Wnt signaling pathway', 'positive regulation of L-glutamate import across plasma membrane', 'regulation of release of sequestered calcium ion into cytosol', 'negative regulation of extrachromosomal rDNA circle accumulation involved in replicative cell aging', 'cellobiose transmembrane transporter activity', 'androgen receptor signaling pathway', 'meiotic sister chromatid cohesion', 'endoplasmic reticulum calcium ion homeostasis', 'Schwann cell migration', '4,6-pyruvylated galactose residue biosynthetic process', 'L-cysteine:2-oxoglutarate aminotransferase activity', 'gap junction hemi-channel activity', 'regulation of epiboly involved in gastrulation with mouth forming second', 'regulation of fatty acid oxidation', 'Golgi calcium ion transmembrane transport', 'regulation of receptor-mediated endocytosis', 'axon regeneration', 'antigen processing and presentation of peptide or polysaccharide antigen via MHC class II', 'chitobiosyldiphosphodolichol beta-mannosyltransferase activity', 'frontonasal suture morphogenesis', 'negative regulation of Golgi to plasma membrane CFTR protein transport', 'intracellular signal transduction involved in G1 DNA damage checkpoint', 'lncRNA catabolic process']\n"
     ]
    }
   ],
   "source": [
    "\n",
    "dist, ind = tree.query(  embedmat[ index[go2id('GO:0000010')] ].reshape(1,-1) , k=100)\n",
    "\n",
    "plt.hist(dist.ravel())\n",
    "plt.show()\n",
    "\n",
    "print( obo[ id2GO(int(reverse_index[go2id('GO:0000010')]))].name  )\n",
    "print([ obo[ id2GO(int(reverse_index[Id]))].name for Id in list(ind[0])  if  id2GO(int(reverse_index[Id])) in obo] )\n"
   ]
  },
  {
   "cell_type": "code",
   "execution_count": 78,
   "metadata": {},
   "outputs": [
    {
     "name": "stdout",
     "output_type": "stream",
     "text": [
      "mitochondrial genome maintenance\n",
      "[6996, 7005, 9987, 71840, 2, 16043]\n"
     ]
    }
   ],
   "source": [
    "print(obo['GO:0000002'].name)\n",
    "go = obo['GO:0000002']\n",
    "print( get_ancestors([go.id] , obo ) )"
   ]
  },
  {
   "cell_type": "code",
   "execution_count": 79,
   "metadata": {},
   "outputs": [
    {
     "name": "stdout",
     "output_type": "stream",
     "text": [
      "GO:0048235\tlevel-03\tdepth-04\tpollen sperm cell differentiation [biological_process]\n",
      "returned terms\n",
      "[[22198 21644 21642 21643 21640 21641 21638 21633 21639 21632 21636 31414\n",
      "  31413 21635 31422 31412 21634 21637 31417 21630 21631 31415 31419 31423\n",
      "  24181 31424 31418 31425 22865 22869 24178 31420 24184 31421 24185 24179\n",
      "  22195 24183 22867 21728 31416 22868 22866 22870 24180 22197 22196 24182\n",
      "  21852 22871]]\n"
     ]
    },
    {
     "data": {
      "image/png": "[encoded data removed]",
      "text/plain": [
       "<Figure size 432x288 with 1 Axes>"
      ]
     },
     "metadata": {
      "needs_background": "light"
     },
     "output_type": "display_data"
    },
    {
     "name": "stdout",
     "output_type": "stream",
     "text": [
      "['complement-mediated synapse pruning', '1-alkylglycerophosphocholine O-acyltransferase activity', 'prepulse inhibition', '1-alkenylglycerophosphocholine O-acyltransferase activity', 'regulation of catecholamine metabolic process', 'flotillin complex', 'TERT-RMRP complex', 'double-stranded RNA biosynthetic process', 'regulation of dopamine metabolic process', 'negative regulation of production of siRNA involved in RNA interference', 'negative regulation of RNA interference', 'seed trichome elongation', 'seed trichome initiation', 'positive regulation of nitric-oxide synthase activity', 'cyanidin 3-O-glucoside biosynthetic process', 'negative regulation of vernalization response', 'replicative senescence', 'template-free RNA nucleotidyltransferase', 'middle lamella', 'neural plate mediolateral regionalization', 'positive regulation of monooxygenase activity', 'secondary cell wall biogenesis involved in seed trichome differentiation', 'trihydroxystilbene synthase activity', '(13E)-labda-7,13-dien-15-ol synthase activity', 'regulation of type IV hypersensitivity', \"5-O-(4-coumaroyl)-D-quinate 3'-monooxygenase activity\", 'L-idonate 5-dehydrogenase activity (NAD-dependent)', 'multiradiene synthase activity', 'negative regulation of neurofibrillary tangle assembly', 'membrane repolarization during atrial cardiac muscle cell action potential', 'positive regulation of ovarian follicle development', 'quercetin O-glucoside biosynthetic process', 'blastocyst formation', 'kaempferol O-glucoside biosynthetic process', 'positive regulation of hypersensitivity', 'regulation of antral ovarian follicle growth', 'positive regulation of apoptotic cell clearance', 'positive regulation of type IV hypersensitivity', 'atrial cardiac muscle cell membrane repolarization', 'ensheathment of neurons', 'seed trichome differentiation', 'voltage-gated potassium channel activity involved in atrial cardiac muscle cell action potential repolarization', 'PML body organization', 'regulation of sequestering of triglyceride', 'positive regulation of antral ovarian follicle growth', 'positive regulation of activation of membrane attack complex', 'vertebrate eye-specific patterning', 'humoral immune response mediated by circulating immunoglobulin', 'positive regulation of skeletal muscle tissue regeneration', 'sequestering of triglyceride']\n",
      "GO:0009567\tlevel-03\tdepth-03\tdouble fertilization forming a zygote and endosperm [biological_process]\n",
      "returned terms\n",
      "[[22198 21644 21642 21643 21640 21641 21638 21633 21639 21632 21636 31414\n",
      "  31413 21635 31422 31412 21634 21637 31417 21630 21631 31415 31419 31423\n",
      "  24181 31424 31418 31425 22865 22869 24178 31420 24184 31421 24185 24179\n",
      "  22195 24183 22867 21728 31416 22868 22866 22870 24180 22197 22196 24182\n",
      "  21852 22871]]\n"
     ]
    },
    {
     "data": {
      "image/png": "[encoded data removed]",
      "text/plain": [
       "<Figure size 432x288 with 1 Axes>"
      ]
     },
     "metadata": {
      "needs_background": "light"
     },
     "output_type": "display_data"
    },
    {
     "name": "stdout",
     "output_type": "stream",
     "text": [
      "['complement-mediated synapse pruning', '1-alkylglycerophosphocholine O-acyltransferase activity', 'prepulse inhibition', '1-alkenylglycerophosphocholine O-acyltransferase activity', 'regulation of catecholamine metabolic process', 'flotillin complex', 'TERT-RMRP complex', 'double-stranded RNA biosynthetic process', 'regulation of dopamine metabolic process', 'negative regulation of production of siRNA involved in RNA interference', 'negative regulation of RNA interference', 'seed trichome elongation', 'seed trichome initiation', 'positive regulation of nitric-oxide synthase activity', 'cyanidin 3-O-glucoside biosynthetic process', 'negative regulation of vernalization response', 'replicative senescence', 'template-free RNA nucleotidyltransferase', 'middle lamella', 'neural plate mediolateral regionalization', 'positive regulation of monooxygenase activity', 'secondary cell wall biogenesis involved in seed trichome differentiation', 'trihydroxystilbene synthase activity', '(13E)-labda-7,13-dien-15-ol synthase activity', 'regulation of type IV hypersensitivity', \"5-O-(4-coumaroyl)-D-quinate 3'-monooxygenase activity\", 'L-idonate 5-dehydrogenase activity (NAD-dependent)', 'multiradiene synthase activity', 'negative regulation of neurofibrillary tangle assembly', 'membrane repolarization during atrial cardiac muscle cell action potential', 'positive regulation of ovarian follicle development', 'quercetin O-glucoside biosynthetic process', 'blastocyst formation', 'kaempferol O-glucoside biosynthetic process', 'positive regulation of hypersensitivity', 'regulation of antral ovarian follicle growth', 'positive regulation of apoptotic cell clearance', 'positive regulation of type IV hypersensitivity', 'atrial cardiac muscle cell membrane repolarization', 'ensheathment of neurons', 'seed trichome differentiation', 'voltage-gated potassium channel activity involved in atrial cardiac muscle cell action potential repolarization', 'PML body organization', 'regulation of sequestering of triglyceride', 'positive regulation of antral ovarian follicle growth', 'positive regulation of activation of membrane attack complex', 'vertebrate eye-specific patterning', 'humoral immune response mediated by circulating immunoglobulin', 'positive regulation of skeletal muscle tissue regeneration', 'sequestering of triglyceride']\n",
      "GO:0005488\tlevel-01\tdepth-01\tbinding [molecular_function]\n",
      "returned terms\n",
      "[[  53  106   50   65   68  602  294   12 4758  732  396  546  155    9\n",
      "   143  126  190 1645  443 1081 4679  218   78  397  332 1166   86  646\n",
      "   220  123  105 1859 1409   96   59   51  415   42   41  536  311  649\n",
      "   416  202  193  603  512 1404  549   18]]\n"
     ]
    },
    {
     "data": {
      "image/png": "[encoded data removed]",
      "text/plain": [
       "<Figure size 432x288 with 1 Axes>"
      ]
     },
     "metadata": {
      "needs_background": "light"
     },
     "output_type": "display_data"
    },
    {
     "name": "stdout",
     "output_type": "stream",
     "text": [
      "['binding', 'identical protein binding', 'protein binding', 'proteolysis', 'protein metabolic process', 'phosphatase activity', 'metal cluster binding', 'zinc ion binding', 'cell death', 'nitrogen compound metabolic process', 'hydrolase activity, acting on carbon-nitrogen (but not peptide) bonds', 'oxidoreductase activity, acting on the aldehyde or oxo group of donors', 'hydrolase activity, acting on ester bonds', 'transition metal ion binding', 'carboxylic acid biosynthetic process', 'FAD binding', 'pyrophosphatase activity', 'interspecies interaction between organisms', 'glucose metabolic process', 'extracellular region', 'photosynthetic membrane', 'cellular protein modification process', 'nucleoside-triphosphatase activity', 'hydrolase activity, acting on carbon-nitrogen (but not peptide) bonds, in linear amides', '4 iron, 4 sulfur cluster binding', 'alditol metabolic process', 'ion transport', 'sulfur amino acid biosynthetic process', 'catalytic activity, acting on a protein', 'flavin adenine dinucleotide binding', 'oxoacid metabolic process', 'lysine metabolic process', 'lysine biosynthetic process', 'inorganic cation transmembrane transport', 'cellular protein metabolic process', 'cellular metabolic process', 'alpha-amino acid metabolic process', 'protein-containing complex', 'catalytic complex', 'glutamine family amino acid metabolic process', 'vitamin binding', 'methionine biosynthetic process', 'carboxylic acid binding', 'regulation of gene expression', 'integral component of plasma membrane', 'dephosphorylation', 'NAD binding', 'lysine biosynthetic process via diaminopimelate', 'electron transport chain', 'ligase activity']\n",
      "GO:0005886\tlevel-03\tdepth-03\tplasma membrane [cellular_component]\n",
      "returned terms\n",
      "[[  70   27  793   26   35   17    2    8   25   15    5   21  332  293\n",
      "    40   82  292    6   36 1063   13  732  539 1791  397  192  157  193\n",
      "   245  295   53   51   92  427   14   85  143  372  513  396 1238  213\n",
      "     9  261   68   56   65  546   50   18]]\n"
     ]
    },
    {
     "data": {
      "image/png": "[encoded data removed]",
      "text/plain": [
       "<Figure size 432x288 with 1 Axes>"
      ]
     },
     "metadata": {
      "needs_background": "light"
     },
     "output_type": "display_data"
    },
    {
     "name": "stdout",
     "output_type": "stream",
     "text": [
      "['plasma membrane', 'integral component of membrane', 'cytosol', 'membrane', 'cation binding', 'cytoplasm', 'ATP binding', 'purine ribonucleoside triphosphate binding', 'intrinsic component of membrane', 'cellular anatomical entity', 'nucleotide binding', 'small molecule binding', '4 iron, 4 sulfur cluster binding', 'iron-sulfur cluster binding', 'metal ion binding', 'hydrolase activity', 'cofactor binding', 'adenyl ribonucleotide binding', 'transferase activity', 'quinone biosynthetic process', 'drug binding', 'nitrogen compound metabolic process', 'anion binding', 'response to chemical', 'hydrolase activity, acting on carbon-nitrogen (but not peptide) bonds, in linear amides', 'intrinsic component of plasma membrane', 'lyase activity', 'integral component of plasma membrane', 'isomerase activity', 'molecular_function', 'binding', 'cellular metabolic process', 'metabolic process', 'transmembrane transport', 'nucleoside phosphate binding', 'transport', 'carboxylic acid biosynthetic process', 'carboxy-lyase activity', 'coenzyme binding', 'hydrolase activity, acting on carbon-nitrogen (but not peptide) bonds', 'aromatic compound catabolic process', 'transferase activity, transferring acyl groups', 'transition metal ion binding', 'oxidoreductase activity, acting on CH-OH group of donors', 'protein metabolic process', 'nucleic acid binding', 'proteolysis', 'oxidoreductase activity, acting on the aldehyde or oxo group of donors', 'protein binding', 'ligase activity']\n",
      "GO:0019953\tlevel-02\tdepth-03\tsexual reproduction [biological_process]\n",
      "returned terms\n",
      "[[11956 15133 14026 17670 12558 16396 15356 11040 10003 15222 12601 21563\n",
      "  17651 20749 13261 20839  9828 17911 20521 12139  8636 16200 13370 17432\n",
      "  10854 11827 21430  8058 10076 12393 16333 15659 17194  8632 12349 19623\n",
      "  14478 21415 11053 19705 21171 15320 20656  7806 12532 21156 12977 17931\n",
      "  11315 10146]]\n"
     ]
    },
    {
     "data": {
      "image/png": "[encoded data removed]",
      "text/plain": [
       "<Figure size 432x288 with 1 Axes>"
      ]
     },
     "metadata": {
      "needs_background": "light"
     },
     "output_type": "display_data"
    },
    {
     "name": "stdout",
     "output_type": "stream",
     "text": [
      "['sexual reproduction', 'Golgi lumen', 'actomyosin contractile ring maintenance', 'melatonin receptor activity', 'negative regulation of transferase activity', 'G protein-coupled serotonin receptor activity', 'positive regulation of cytokinesis, actomyosin contractile ring assembly', 'RNA import into nucleus', 'calcium-dependent protein serine/threonine kinase activity', 'steryl deacetylase activity', 'regulation of mitochondrial depolarization', 'positive regulation of lung ciliated cell differentiation', 'negative regulation of SMAD protein complex assembly', 'mammary gland epithelial cell differentiation', 'cortical microtubule cytoskeleton', 'lung alveolus development', 'eukaryotic 48S preinitiation complex', 'pronephric distal tubule development', 'secondary neural tube formation', 'positive regulation of mitotic spindle organization', 'anaerobic respiration, using ammonium as electron donor', 'positive regulation of protein deacetylation', 'growing cell tip', 'embryonic retina morphogenesis in camera-type eye', 'RNA localization', 'Rad6-Rad18 complex', 'negative regulation of insulin secretion involved in cellular response to glucose stimulus', 'modulation of blood coagulation in other organism', 'pyrimidine nucleotide-sugar transmembrane transporter activity', 'cAMP response element binding', 'neuron differentiation', 'brevianamide F biosynthetic process', 'insulin-responsive compartment', 'protein K48-linked deubiquitination', 'AMP-activated protein kinase activity', 'positive regulation of oogenesis', 'positive regulation of chromosome organization', 'cellular response to hepatocyte growth factor stimulus', 'protein transport to vacuole involved in ubiquitin-dependent protein catabolic process via the multivesicular body sorting pathway', 'motor neuron migration', 'morphogenesis of a branching epithelium', 'regulation of lipid transport', 'neuroinflammatory response', 'deoxyribonuclease (pyrimidine dimer) activity', 'bisphosphoglycerate 3-phosphatase activity', 'cross-receptor inhibition within G protein-coupled receptor heterodimer', 'nucleosome-dependent ATPase activity', 'leukocyte chemotaxis involved in immune response', 'cytoskeleton-dependent cytokinesis', 'phagophore assembly site']\n",
      "GO:0031090\tlevel-03\tdepth-03\torganelle membrane [cellular_component]\n",
      "returned terms\n",
      "[[3807 7553 7551 5922 2746 5718 2747 3113 5763 5648 2745 3806 7251 1065\n",
      "  5603  553 2340 1315 3610 5596 6286 6094 3135 7855 5966 6297 6818 5435\n",
      "  4241 6351 7854 5612 5487 6412 3609 3028 1891 6092 6352 7707 5571 4543\n",
      "  7319 3767 2395 2895 2129 2960 6279 5615]]\n"
     ]
    },
    {
     "data": {
      "image/png": "[encoded data removed]",
      "text/plain": [
       "<Figure size 432x288 with 1 Axes>"
      ]
     },
     "metadata": {
      "needs_background": "light"
     },
     "output_type": "display_data"
    },
    {
     "name": "stdout",
     "output_type": "stream",
     "text": [
      "['organelle membrane', 'stress response to metal ion', 'stress response to copper ion', 'beta-alanine biosynthetic process', 'mannosylglycerate metabolic process', '5-carboxymethyl-2-hydroxymuconic-semialdehyde dehydrogenase activity', 'mannosylglycerate biosynthetic process', 'maleylacetate reductase activity', 'positive regulation of oxidoreductase activity', 'regulation of lipid metabolic process', 'mannosyl-3-phosphoglycerate phosphatase activity', 'vacuole', 'response to herbicide', 'glycerate 2-kinase activity', 'pyridoxal 4-dehydrogenase activity', 'CAAX-box protein processing', 'isocitrate dehydrogenase (NAD+) activity', 'indolepyruvate ferredoxin oxidoreductase activity', 'cytochrome-c3 hydrogenase activity', '2-deoxyglucose-6-phosphatase activity', 'response to hydroperoxide', '6-sulfoquinovose(1-) catabolic process to glycerone phosphate and 3-sulfolactaldehyde', 'L-iditol 2-dehydrogenase activity', 'regulation of purine nucleobase metabolic process', 'cellular response to nitrate', 'mannitol catabolic process', 'regulation of peptide secretion', 'toxin-antitoxin pair type II binding', 'FMN reductase (NADPH) activity', '4-hydroxyphenylacetate metabolic process', 'negative regulation of purine nucleobase metabolic process', 'negative regulation of phosphorylation', 'glucose import', 'sterol 14-demethylase activity', 'oxidoreductase activity, acting on hydrogen as donor, cytochrome as acceptor', 'formamidase activity', 'hydroxymethylglutaryl-CoA synthase activity', 'sulfoquinovose isomerase activity', '4-hydroxyphenylacetate catabolic process', 'heterocyst differentiation', 'glycol metabolic process', '2-deoxy-D-gluconate 3-dehydrogenase activity', 'tRNA 2-selenouridine synthase activity', 'exo-alpha-(2->8)-sialidase activity', 'carbon dioxide binding', '(R)-citramalate synthase activity', 'protein tyrosine/serine/threonine phosphatase activity', 'regulation of peptidase activity', 'protein-phosphocysteine-N-acetylmuramate phosphotransferase system transporter activity', 'negative regulation of cell growth']\n",
      "GO:0016021\tlevel-03\tdepth-03\tintegral component of membrane [cellular_component]\n",
      "returned terms\n",
      "[[  27  793   26   70   35   25    5    8    2   17   21   40  539   13\n",
      "    15  157  295    6   82  292   36  513  245 1791  293   14  732  332\n",
      "    92   51  397  114  168  124  125  261  372  143    9  213  260 1238\n",
      "   123  424   18 1063  104  420  594   68]]\n"
     ]
    },
    {
     "data": {
      "image/png": "[encoded data removed]",
      "text/plain": [
       "<Figure size 432x288 with 1 Axes>"
      ]
     },
     "metadata": {
      "needs_background": "light"
     },
     "output_type": "display_data"
    },
    {
     "name": "stdout",
     "output_type": "stream",
     "text": [
      "['integral component of membrane', 'cytosol', 'membrane', 'plasma membrane', 'cation binding', 'intrinsic component of membrane', 'nucleotide binding', 'purine ribonucleoside triphosphate binding', 'ATP binding', 'cytoplasm', 'small molecule binding', 'metal ion binding', 'anion binding', 'drug binding', 'cellular anatomical entity', 'lyase activity', 'molecular_function', 'adenyl ribonucleotide binding', 'hydrolase activity', 'cofactor binding', 'transferase activity', 'coenzyme binding', 'isomerase activity', 'response to chemical', 'iron-sulfur cluster binding', 'nucleoside phosphate binding', 'nitrogen compound metabolic process', '4 iron, 4 sulfur cluster binding', 'metabolic process', 'cellular metabolic process', 'hydrolase activity, acting on carbon-nitrogen (but not peptide) bonds, in linear amides', 'transferase activity, transferring phosphorus-containing groups', 'phosphate-containing compound metabolic process', 'oxidation-reduction process', 'oxidoreductase activity', 'oxidoreductase activity, acting on CH-OH group of donors', 'carboxy-lyase activity', 'carboxylic acid biosynthetic process', 'transition metal ion binding', 'transferase activity, transferring acyl groups', 'oxidoreductase activity, acting on the CH-OH group of donors, NAD or NADP as acceptor', 'aromatic compound catabolic process', 'flavin adenine dinucleotide binding', 'cellular amino acid metabolic process', 'ligase activity', 'quinone biosynthetic process', 'carboxylic acid metabolic process', 'primary metabolic process', 'organonitrogen compound biosynthetic process', 'protein metabolic process']\n",
      "GO:0005887\tlevel-04\tdepth-04\tintegral component of plasma membrane [cellular_component]\n",
      "returned terms\n",
      "[[ 193  192  100   42   78  985   63  220   55   59 1647  332   85  718\n",
      "    49  536 1645 1604  121   58   65   60  427  910 1063   68  262  600\n",
      "    86  202  203  106 3013  173  227   66  186  138  576 2285  947 1859\n",
      "   155   53  293 1370  422 1366  218 4247]]\n"
     ]
    },
    {
     "data": {
      "image/png": "[encoded data removed]",
      "text/plain": [
       "<Figure size 432x288 with 1 Axes>"
      ]
     },
     "metadata": {
      "needs_background": "light"
     },
     "output_type": "display_data"
    },
    {
     "name": "stdout",
     "output_type": "stream",
     "text": [
      "['integral component of plasma membrane', 'intrinsic component of plasma membrane', 'ATPase activity', 'protein-containing complex', 'nucleoside-triphosphatase activity', 'acid-thiol ligase activity', 'cellular macromolecule biosynthetic process', 'catalytic activity, acting on a protein', 'heterocyclic compound binding', 'cellular protein metabolic process', 'pathogenesis', '4 iron, 4 sulfur cluster binding', 'transport', 'arginine metabolic process', 'organic cyclic compound binding', 'glutamine family amino acid metabolic process', 'interspecies interaction between organisms', 'arginine biosynthetic process', 'DNA binding', 'peptide biosynthetic process', 'proteolysis', 'translation', 'transmembrane transport', 'membrane protein complex', 'quinone biosynthetic process', 'protein metabolic process', 'ATPase-coupled transmembrane transporter activity', 'transmembrane transporter activity', 'ion transport', 'regulation of gene expression', 'regulation of cellular macromolecule biosynthetic process', 'identical protein binding', 'sterol biosynthetic process', 'endonuclease activity', 'manganese ion binding', 'endopeptidase activity', 'primary active transmembrane transporter activity', 'cellular process', 'ion transmembrane transport', 'response to drug', 'transferase activity, transferring aldehyde or ketonic groups', 'lysine metabolic process', 'hydrolase activity, acting on ester bonds', 'binding', 'iron-sulfur cluster binding', 'carbohydrate transport', 'carboxyl- or carbamoyltransferase activity', 'glutamine family amino acid catabolic process', 'cellular protein modification process', 'succinyldiaminopimelate transaminase activity']\n",
      "GO:0031224\tlevel-02\tdepth-02\tintrinsic component of membrane [cellular_component]\n",
      "returned terms\n",
      "[[  25   27   13   26  793    5   35   40   21    8    2  539  245  292\n",
      "    70  157  293   17  124    6   82 1791  125  397   15  513   14  261\n",
      "   260   92  332  732   36   51  372  295  143  123  307 1063  114  137\n",
      "   128  168    9  172  546  104  420  816]]\n"
     ]
    },
    {
     "data": {
      "image/png": "[encoded data removed]",
      "text/plain": [
       "<Figure size 432x288 with 1 Axes>"
      ]
     },
     "metadata": {
      "needs_background": "light"
     },
     "output_type": "display_data"
    },
    {
     "name": "stdout",
     "output_type": "stream",
     "text": [
      "['intrinsic component of membrane', 'integral component of membrane', 'drug binding', 'membrane', 'cytosol', 'nucleotide binding', 'cation binding', 'metal ion binding', 'small molecule binding', 'purine ribonucleoside triphosphate binding', 'ATP binding', 'anion binding', 'isomerase activity', 'cofactor binding', 'plasma membrane', 'lyase activity', 'iron-sulfur cluster binding', 'cytoplasm', 'oxidation-reduction process', 'adenyl ribonucleotide binding', 'hydrolase activity', 'response to chemical', 'oxidoreductase activity', 'hydrolase activity, acting on carbon-nitrogen (but not peptide) bonds, in linear amides', 'cellular anatomical entity', 'coenzyme binding', 'nucleoside phosphate binding', 'oxidoreductase activity, acting on CH-OH group of donors', 'oxidoreductase activity, acting on the CH-OH group of donors, NAD or NADP as acceptor', 'metabolic process', '4 iron, 4 sulfur cluster binding', 'nitrogen compound metabolic process', 'transferase activity', 'cellular metabolic process', 'carboxy-lyase activity', 'molecular_function', 'carboxylic acid biosynthetic process', 'flavin adenine dinucleotide binding', 'sulfur compound biosynthetic process', 'quinone biosynthetic process', 'transferase activity, transferring phosphorus-containing groups', 'cofactor biosynthetic process', 'oxidoreductase activity, acting on the CH-CH group of donors', 'phosphate-containing compound metabolic process', 'transition metal ion binding', 'magnesium ion binding', 'oxidoreductase activity, acting on the aldehyde or oxo group of donors', 'carboxylic acid metabolic process', 'primary metabolic process', 'water-soluble vitamin biosynthetic process']\n",
      "GO:0043227\tlevel-03\tdepth-03\tmembrane-bounded organelle [cellular_component]\n",
      "returned terms\n",
      "[[ 968 5522 5488 5450 6544 7312 5349 3591 2571 7107 5485 7358 2137 4080\n",
      "  7363 7540 7539 5489 1283 2146  678 2568 3622 2569 3359 6028 5348 6629\n",
      "  6149 3543 1850 5817 6485 5356 5694 6997 6569 4445 7268 3083 7687 2570\n",
      "  3089 2297 6262 2420 2461 6157 6197 3450]]\n"
     ]
    },
    {
     "data": {
      "image/png": "[encoded data removed]",
      "text/plain": [
       "<Figure size 432x288 with 1 Axes>"
      ]
     },
     "metadata": {
      "needs_background": "light"
     },
     "output_type": "display_data"
    },
    {
     "name": "stdout",
     "output_type": "stream",
     "text": [
      "['membrane-bounded organelle', 'disruption by virus of host cell', 'estradiol 17-beta-dehydrogenase activity', 'protein N-acetylglucosaminyltransferase complex', 'positive regulation of growth', 'sulfur oxidation', 'microtubule binding', 'archaetidylserine synthase activity', 'box H/ACA snoRNP complex', '2-hydroxychromene-2-carboxylate isomerase activity', 'mannitol dehydrogenase activity', 'bacteriocin transmembrane transporter activity', 'mitochondrion', 'pyrrolysine biosynthetic process', 'decarboxylation-driven active transmembrane transporter activity', 'NEDD8-specific protease activity', 'host cell', 'formate catabolic process', 'protein modification by small protein conjugation or removal', 'cytosolic tRNA wobble base thiouridylase complex', 'oligosaccharyl transferase activity', 'snRNA pseudouridine synthesis', 'retinal metabolic process', 'box H/ACA snoRNA processing', 'phenol 2-monooxygenase activity', 'N-acetylglucosamine-6-sulfatase activity', 'tubulin binding', 'long-chain fatty acid transporter activity', 'proteasome accessory complex', '7,8-didemethyl-8-hydroxy-5-deazariboflavin synthase activity', 'formylmethanofuran dehydrogenase activity', 'positive regulation of multi-organism process', 'host intracellular membrane-bounded organelle', 'import into nucleus', 'fimbrial usher porin activity', 'negative regulation of oxidoreductase activity', 'modulation by symbiont of host innate immune response', 'myo-inositol hexakisphosphate biosynthetic process', 'purine deoxyribonucleotide biosynthetic process', 'aryldialkylphosphatase activity', 'sedoheptulose-bisphosphatase activity', 'mRNA modification', '4-coumarate-CoA ligase activity', 'glutaminase complex', 'regulation of cell migration', 'nonfunctional rRNA decay', 'sequence-specific mRNA binding', 'NAD(P)+-protein-arginine ADP-ribosyltransferase activity', 'creatine biosynthetic process', 'NADH binding']\n",
      "GO:0000003\tlevel-01\tdepth-01\treproduction [biological_process]\n",
      "returned terms\n",
      "[[11416 12047  8471 20880  3482 17806 13406  7556  1035 17603 17498 11686\n",
      "  13187 15023 12485 12612  8303 14469 13647 10147 20345 11215 16711  7497\n",
      "  18718 12496 18415 11370 20584 13125 20845 20294 15518 13080 11046 14667\n",
      "  20854  9334 18776 16950 11490 17997 10878 13064 15861  9702 13506 11892\n",
      "   7962 20978]]\n"
     ]
    },
    {
     "data": {
      "image/png": "[encoded data removed]",
      "text/plain": [
       "<Figure size 432x288 with 1 Axes>"
      ]
     },
     "metadata": {
      "needs_background": "light"
     },
     "output_type": "display_data"
    },
    {
     "name": "stdout",
     "output_type": "stream",
     "text": [
      "['reproduction', \"mRNA 3'-UTR AU-rich region binding\", 'carnitine metabolic process, CoA-linked', 'in utero embryonic development', 'nucleus organization', 'pancreas development', 'cell wall beta-glucan biosynthetic process', 'mitochondrial RNA catabolic process', 'cytosolic transport', 'delamination', 'type B pancreatic cell development', 'phagosome reneutralization', 'negative regulation of septation initiation signaling', 'dehydro-D-arabinono-1,4-lactone metabolic process', 'negative regulation of protein localization to membrane', 'negative regulation of sphingolipid biosynthetic process', 'positive regulation of fatty acid oxidation', 'regulation of DNA strand resection involved in replication fork processing', 'regulation of mitotic division septum assembly', 'piecemeal microautophagy of the nucleus', 'P granule organization', 'negative regulation of cytoskeleton organization', 'acid sphingomyelin phosphodiesterase activity', 'GDP-4-dehydro-D-rhamnose reductase activity', 'type I interferon receptor binding', 'positive regulation of peptide hormone secretion', 'response to glucagon', 'regulation of endocytosis', 'positive regulation of cold-induced thermogenesis', 'synaptic vesicle', 'negative regulation of viral genome replication', 'integral component of postsynaptic density membrane', 'negative regulation of iron ion transport', 'regulation of transcription involved in G1/S transition of mitotic cell cycle', 'RNA uridylyltransferase activity', 'cellular bud tip', 'regulation of toll-like receptor 9 signaling pathway', 'vinculin binding', 'delta-catenin binding', 'cadherin binding', 'RNA polymerase II activating transcription factor binding', 'nephric duct morphogenesis', 'positive regulation of mitotic metaphase/anaphase transition', 'histone H2A monoubiquitination', 'negative regulation of meiotic DNA double-strand break formation', 'chromosome, telomeric region', 'ascospore formation', 'response to diuretic', 'peroxisomal transport', 'positive regulation of cell-cell adhesion mediated by cadherin']\n",
      "GO:0061025\tlevel-04\tdepth-04\tmembrane fusion [biological_process]\n",
      "returned terms\n",
      "[[ 8675  8903 10121 10171  6283  6688 15386  9933  9194  2270  8686 15961\n",
      "   9723  7065 14904  8010 15565 17099  8813 15226 10591 16610 16127  8725\n",
      "  17153  8934  3279  8677 19320 18962 10454  6478  9825  8863  8787 10972\n",
      "   8361  3860  9026 15790  4422 18339  8939 10734 19566  6550 10603 10624\n",
      "  10812 16180]]\n"
     ]
    },
    {
     "data": {
      "image/png": "[encoded data removed]",
      "text/plain": [
       "<Figure size 432x288 with 1 Axes>"
      ]
     },
     "metadata": {
      "needs_background": "light"
     },
     "output_type": "display_data"
    },
    {
     "name": "stdout",
     "output_type": "stream",
     "text": [
      "['membrane fusion', 'regulation of RNA helicase activity', 'inner mitochondrial membrane organization', 'Golgi-associated vesicle', 'polyhedral organelle', 'bacterial-type RNA polymerase holo enzyme binding', 'vitamin B6 transport', 'intrinsic component of mitochondrial membrane', 'transcription elongation from bacterial-type RNA polymerase promoter', 'positive regulation of nitric oxide biosynthetic process', 'guanine transmembrane transport', 'negative regulation of mitochondrial translation', 'metabolism by symbiont of host protein', 'positive regulation of filopodium assembly', 'pyridine nucleoside metabolic process', 'protein-disulfide reductase (glutathione) activity', 'filamentous growth of a population of unicellular organisms', 'leukocyte adhesion to vascular endothelial cell', 'cellular response to cell envelope stress', 'glucose:proton symporter activity', 'nuclear chromosome segregation', 'apical plasma membrane', 'Pip2-Oaf1 complex', 'anchored component of cell outer membrane', 'transforming growth factor beta receptor activity, type II', 'aliphatic-amine oxidase activity', 'glycosylceramide biosynthetic process', 'protein-lysine lysylation', 'myoblast differentiation involved in skeletal muscle regeneration', 'T cell proliferation', 'interphase microtubule organizing center', 'mycolic acid metabolic process', 'dynein intermediate chain binding', 'cysteine-type exopeptidase activity', 'lipopeptide binding', 'peptide-O-fucosyltransferase activity', \"4,4'-diapophytoene desaturase activity\", 'diaminobutyrate decarboxylase activity', 'regulation of cellular amine metabolic process', 'D-arabitol catabolic process', 'undecaprenol kinase activity', 'positive regulation of myeloid progenitor cell differentiation', 'regulation of glucan biosynthetic process', 'microtubule plus-end binding', 'outer dense plaque of desmosome', 'positive regulation of plasminogen activation', 'TRAPPII protein complex', 'snoRNA processing', 'integral component of plastid membrane', 'regulation of (1->6)-beta-D-glucan biosynthetic process']\n",
      "GO:0031226\tlevel-03\tdepth-03\tintrinsic component of plasma membrane [cellular_component]\n",
      "returned terms\n",
      "[[ 192  193  100   85 1647   49   55  332  427  220   63 1063  121 1645\n",
      "    78  985  718   59  173  600   58   60   65   42  262  536  293  614\n",
      "   612 1604   86 1370   56  155   68 3013  203  910  202  395  106  952\n",
      "   611  947 1409  186   66  218 2285  613]]\n"
     ]
    },
    {
     "data": {
      "image/png": "[encoded data removed]",
      "text/plain": [
       "<Figure size 432x288 with 1 Axes>"
      ]
     },
     "metadata": {
      "needs_background": "light"
     },
     "output_type": "display_data"
    },
    {
     "name": "stdout",
     "output_type": "stream",
     "text": [
      "['intrinsic component of plasma membrane', 'integral component of plasma membrane', 'ATPase activity', 'transport', 'pathogenesis', 'organic cyclic compound binding', 'heterocyclic compound binding', '4 iron, 4 sulfur cluster binding', 'transmembrane transport', 'catalytic activity, acting on a protein', 'cellular macromolecule biosynthetic process', 'quinone biosynthetic process', 'DNA binding', 'interspecies interaction between organisms', 'nucleoside-triphosphatase activity', 'acid-thiol ligase activity', 'arginine metabolic process', 'cellular protein metabolic process', 'endonuclease activity', 'transmembrane transporter activity', 'peptide biosynthetic process', 'translation', 'proteolysis', 'protein-containing complex', 'ATPase-coupled transmembrane transporter activity', 'glutamine family amino acid metabolic process', 'iron-sulfur cluster binding', 'nitrogen compound transport', 'organic substance transport', 'arginine biosynthetic process', 'ion transport', 'carbohydrate transport', 'nucleic acid binding', 'hydrolase activity, acting on ester bonds', 'protein metabolic process', 'sterol biosynthetic process', 'regulation of cellular macromolecule biosynthetic process', 'membrane protein complex', 'regulation of gene expression', 'protein modification process', 'identical protein binding', 'secondary active transmembrane transporter activity', 'drug transport', 'transferase activity, transferring aldehyde or ketonic groups', 'lysine biosynthetic process', 'primary active transmembrane transporter activity', 'endopeptidase activity', 'cellular protein modification process', 'response to drug', 'sulfur compound transport']\n",
      "GO:0016020\tlevel-02\tdepth-02\tmembrane [cellular_component]\n",
      "returned terms\n",
      "[[  26   35   27  793    5    8   70  292   40   25  539   82    2   21\n",
      "   513   17   13  732  293  245 1791    6  397   15   51  157    9   14\n",
      "   332  261  143  124  396  295  125  123  260  546   53  294  168   50\n",
      "  4758   68  114 1063  594  128   18   65]]\n"
     ]
    },
    {
     "data": {
      "image/png": "[encoded data removed]",
      "text/plain": [
       "<Figure size 432x288 with 1 Axes>"
      ]
     },
     "metadata": {
      "needs_background": "light"
     },
     "output_type": "display_data"
    },
    {
     "name": "stdout",
     "output_type": "stream",
     "text": [
      "['membrane', 'cation binding', 'integral component of membrane', 'cytosol', 'nucleotide binding', 'purine ribonucleoside triphosphate binding', 'plasma membrane', 'cofactor binding', 'metal ion binding', 'intrinsic component of membrane', 'anion binding', 'hydrolase activity', 'ATP binding', 'small molecule binding', 'coenzyme binding', 'cytoplasm', 'drug binding', 'nitrogen compound metabolic process', 'iron-sulfur cluster binding', 'isomerase activity', 'response to chemical', 'adenyl ribonucleotide binding', 'hydrolase activity, acting on carbon-nitrogen (but not peptide) bonds, in linear amides', 'cellular anatomical entity', 'cellular metabolic process', 'lyase activity', 'transition metal ion binding', 'nucleoside phosphate binding', '4 iron, 4 sulfur cluster binding', 'oxidoreductase activity, acting on CH-OH group of donors', 'carboxylic acid biosynthetic process', 'oxidation-reduction process', 'hydrolase activity, acting on carbon-nitrogen (but not peptide) bonds', 'molecular_function', 'oxidoreductase activity', 'flavin adenine dinucleotide binding', 'oxidoreductase activity, acting on the CH-OH group of donors, NAD or NADP as acceptor', 'oxidoreductase activity, acting on the aldehyde or oxo group of donors', 'binding', 'metal cluster binding', 'phosphate-containing compound metabolic process', 'protein binding', 'cell death', 'protein metabolic process', 'transferase activity, transferring phosphorus-containing groups', 'quinone biosynthetic process', 'organonitrogen compound biosynthetic process', 'oxidoreductase activity, acting on the CH-CH group of donors', 'ligase activity', 'proteolysis']\n",
      "GO:0061024\tlevel-03\tdepth-03\tmembrane organization [biological_process]\n",
      "returned terms\n",
      "[[4736 6020 6288 6050  966 6265 1990 3700 6287 7313 5978 5292 1989 5989\n",
      "  5674 5623 6270 7682 2236 3093 1571 6511 4871 2733 5837  925 5494 5624\n",
      "  7888 2384 3280 3042 4658 3477 4326 5871 2878 3479 5951 4867 3812 3122\n",
      "  3691 2355 1880 5909 6096 5495 6832 2237]]\n"
     ]
    },
    {
     "data": {
      "image/png": "[encoded data removed]",
      "text/plain": [
       "<Figure size 432x288 with 1 Axes>"
      ]
     },
     "metadata": {
      "needs_background": "light"
     },
     "output_type": "display_data"
    },
    {
     "name": "stdout",
     "output_type": "stream",
     "text": [
      "['membrane organization', 'erythritol kinase activity', 'D-alanyl carrier activity', '3-oxoadipate CoA-transferase activity', 'acryloyl-CoA reductase activity', 'beta-N-acetylglucosaminidase activity', 'catalytic activity, acting on a glycoprotein', 'levansucrase activity', 'teichoic acid D-alanylation', 'Gram-negative-bacterium-type cell wall biogenesis', 'positive regulation of protein transport', '3-hydroxyanthranilate 3,4-dioxygenase activity', 'glycopeptide alpha-N-acetylgalactosaminidase activity', '5-dehydro-2-deoxygluconokinase activity', 'lipopolysaccharide glucosyltransferase I activity', 'brassicasterol glucosyltransferase activity', 'collagen binding', 'phycocyanobilin:ferredoxin oxidoreductase activity', 'heparan sulfate proteoglycan biosynthetic process', 'catechol 2,3-dioxygenase activity', 'beta-1,4-mannosyltransferase activity', 'peptidoglycan-protein cross-linking', 'exo-1,4-beta-D-glucosaminidase activity', 'dihydroorotate dehydrogenase (fumarate) activity', 'aldehyde decarbonylase activity', 'citrate CoA-transferase activity', 'phosphonoacetaldehyde hydrolase activity', 'cholesterol alpha-glucosyltransferase activity', 'D-alanine [D-alanyl carrier protein] ligase activity', 'molybdopterin synthase activity', 'glucosylceramide metabolic process', 'acetyl-CoA hydrolase activity', 'phosphogluconate dehydratase activity', 'septin ring', 'glucan endo-1,6-beta-glucosidase activity', 'adenine nucleotide transport', 'gamma-glutamylaminecyclotransferase activity', 'septin cytoskeleton', 'galactose-6-phosphate isomerase activity', 'phenylpropanoid catabolic process', 'alpha-D-ribose 1-methylphosphonate 5-phosphate C-P-lyase activity', 'isoamylase activity', 'DNA-7-methylguanine glycosylase activity', 'response to tetrahydrofolate', 'methylmalonyl-CoA epimerase activity', 'developmental cell growth', 'ureidoglycolate hydrolase activity', 'hydrolase activity, acting on acid carbon-phosphorus bonds', 'mandelate racemase activity', 'heparosan-N-sulfate-glucuronate 5-epimerase activity']\n",
      "GO:0043226\tlevel-02\tdepth-02\torganelle [cellular_component]\n",
      "returned terms\n",
      "[[ 8749  7780 10786 10651  7388  7387  7880  7383  9759  7778 10947  6192\n",
      "   6871  7958  7963  7850  7731  9348 17769  7699  9655  8491 13642 10084\n",
      "   9928 19703 13263 12714  8060  7068 12311 17141 11220 14458 11485 17256\n",
      "  14402  7964 14185 11830 10057 13371 10055 20782 13973  7695 18638 12053\n",
      "   9819 20199]]\n"
     ]
    },
    {
     "data": {
      "image/png": "[encoded data removed]",
      "text/plain": [
       "<Figure size 432x288 with 1 Axes>"
      ]
     },
     "metadata": {
      "needs_background": "light"
     },
     "output_type": "display_data"
    },
    {
     "name": "stdout",
     "output_type": "stream",
     "text": [
      "['organelle', 'vitamin E biosynthetic process', 'positive regulation of intracellular protein transport', 'nuclear localization sequence binding', 'response to disaccharide', 'ketohexokinase activity', 'DNA replication termination', 'response to fructose', 'cell cortex', 'inclusion body', 'positive regulation of DNA biosynthetic process', 'trans-2-enoyl-CoA reductase (NADPH) activity', 'regulation of blood pressure', 'microbody membrane', 'protein transmembrane import into intracellular organelle', 'regulation of cytoskeleton organization', 'cinnamic acid metabolic process', 'cGMP catabolic process', 'positive regulation of neuron migration', 'plasma membrane bounded cell projection', 'IgE binding', 'glutathione oxidoreductase activity', 'negative regulation of calcium ion transport into cytosol', 'peptidyl-L-cysteine S-palmitoylation', 'homologous recombination', 'carbon dioxide transmembrane transport', 'nucleus leading edge', 'digestion', 'single-species submerged biofilm formation', '[heparan sulfate]-glucosamine N-sulfotransferase activity', 'regulation of response to biotic stimulus', 'wound healing', 'G2 DNA damage checkpoint', 'positive regulation of hydroxymethylglutaryl-CoA reductase (NADPH) activity', 'positive regulation of macroautophagy', 'paranodal junction assembly', 'negative regulation of protein localization to nucleus', 'establishment of protein localization to peroxisome', 'regulation of centromere complex assembly', 'positive regulation of intracellular transport', 'coated vesicle membrane', 'regulation of clathrin-dependent endocytosis', 'transport vesicle membrane', 'response to macrophage colony-stimulating factor', 'microtubule bundle', 'sodium channel activity', 'embryonic caudal fin morphogenesis', 'positive regulation of protein import', 'catalytic step 2 spliceosome', 'negative regulation of T-helper 17 cell lineage commitment']\n",
      "GO:0003674\tlevel-00\tdepth-00\tmolecular_function [molecular_function]\n",
      "returned terms\n",
      "[[ 295  157    5  539  168  114    8   27  513  793  435    6   21   26\n",
      "   213  420  424   13   14 1791    2   35  131   82  375   51  177  732\n",
      "   594   25   40 1238   70  176  244  292  260    9   18  123  245   36\n",
      "    15  409  104  136  397   17  415  147]]\n"
     ]
    },
    {
     "data": {
      "image/png": "[encoded data removed]",
      "text/plain": [
       "<Figure size 432x288 with 1 Axes>"
      ]
     },
     "metadata": {
      "needs_background": "light"
     },
     "output_type": "display_data"
    },
    {
     "name": "stdout",
     "output_type": "stream",
     "text": [
      "['molecular_function', 'lyase activity', 'nucleotide binding', 'anion binding', 'phosphate-containing compound metabolic process', 'transferase activity, transferring phosphorus-containing groups', 'purine ribonucleoside triphosphate binding', 'integral component of membrane', 'coenzyme binding', 'cytosol', 'carbohydrate metabolic process', 'adenyl ribonucleotide binding', 'small molecule binding', 'membrane', 'transferase activity, transferring acyl groups', 'primary metabolic process', 'cellular amino acid metabolic process', 'drug binding', 'nucleoside phosphate binding', 'response to chemical', 'ATP binding', 'cation binding', 'cellular biosynthetic process', 'hydrolase activity', 'organic substance metabolic process', 'cellular metabolic process', 'phosphorylation', 'nitrogen compound metabolic process', 'organonitrogen compound biosynthetic process', 'intrinsic component of membrane', 'metal ion binding', 'aromatic compound catabolic process', 'plasma membrane', 'kinase activity', 'hydro-lyase activity', 'cofactor binding', 'oxidoreductase activity, acting on the CH-OH group of donors, NAD or NADP as acceptor', 'transition metal ion binding', 'ligase activity', 'flavin adenine dinucleotide binding', 'isomerase activity', 'transferase activity', 'cellular anatomical entity', 'carboxylic ester hydrolase activity', 'carboxylic acid metabolic process', 'coenzyme biosynthetic process', 'hydrolase activity, acting on carbon-nitrogen (but not peptide) bonds, in linear amides', 'cytoplasm', 'alpha-amino acid metabolic process', 'cellular aromatic compound metabolic process']\n",
      "GO:0009566\tlevel-02\tdepth-02\tfertilization [biological_process]\n",
      "returned terms\n",
      "[[16524 21598 21348 14594  7085 21601 19631 11939 12099 17858 14470  7649\n",
      "  19110 20118 20902 17801  7976 18598 12879 15219 15311 11876 20141 14683\n",
      "  16457  8931 17942 20785 11262 18426 10213 17641 12701 11390 17577  8805\n",
      "   7770 11143 10365 15231 13533 19393 10450 18744 18788 21172 21288 10330\n",
      "  18575 17963]]\n"
     ]
    },
    {
     "data": {
      "image/png": "[encoded data removed]",
      "text/plain": [
       "<Figure size 432x288 with 1 Axes>"
      ]
     },
     "metadata": {
      "needs_background": "light"
     },
     "output_type": "display_data"
    },
    {
     "name": "stdout",
     "output_type": "stream",
     "text": [
      "['fertilization', 'positive regulation of miRNA metabolic process', '3M complex', 'histone acetyltransferase activity (H4-K8 specific)', 'deoxyhypusine monooxygenase activity', 'positive regulation of acute inflammatory response to non-antigenic stimulus', 'regulation of microvillus organization', 'programmed cell death in response to reactive oxygen species', 'lysosome localization', 'detection of light stimulus involved in visual perception', 'negative regulation of DNA strand resection involved in replication fork processing', 'blasticidin-S deaminase activity', 'positive regulation of osteoblast differentiation', 'negative regulation of collateral sprouting of intact axon in response to injury', 'negative regulation of protein catabolic process in the vacuole', 'muscle cell development', 'negative regulation of core promoter binding', 'glial cell activation', 'nuclear rDNA heterochromatin', 'positive regulation of flocculation via cell wall protein-carbohydrate interaction by positive regulation of transcription from RNA polymerase II promoter', 'detection of hexose stimulus', 'negative regulation of exit from mitosis', 'cellular response to lectin', 'histone acetyltransferase activity (H3-K56 specific)', 'death-inducing signaling complex', '4-nitrophenol catabolic process', 'tubulin-glycine ligase activity', 'regulation of macrophage fusion', 'luciferin monooxygenase activity', 'neural crest formation', 'integral component of mitochondrial inner membrane', 'endothelial cell development', 'positive regulation of phosphatidylinositol 3-kinase activity', 'sodium:potassium-exchanging ATPase activity', 'intestinal cholesterol absorption', 'cellular response to sulfate starvation', 'negative regulation of glutamate-ammonia ligase activity', 'intracellularly ATP-gated ion channel activity', 'positive regulation of DNA topoisomerase (ATP-hydrolyzing) activity', 'gamma-tubulin large complex, equatorial microtubule organizing center', 'positive regulation of establishment or maintenance of cell polarity regulating cell shape', 'axial mesoderm structural organization', 'regulation of cell cycle process', 'prolactin secretion', 'luteinizing hormone signaling pathway', 'regulation of lipopolysaccharide-mediated signaling pathway', 'regulation of tumor necrosis factor secretion', 'mRNA cleavage and polyadenylation specificity factor complex', 'negative regulation of interferon-gamma-mediated signaling pathway', 'branching involved in blood vessel morphogenesis']\n",
      "GO:0003006\tlevel-02\tdepth-02\tdevelopmental process involved in reproduction [biological_process]\n",
      "returned terms\n",
      "[[ 9387 17215 19936 15537 19616 13186 18365 13672 12767 18269 14961 17788\n",
      "  16606 21450 14218 20650 21050 17657 11182 10930 14586 12024 16293 12338\n",
      "  18810 11372 12497 13878 11313 20454 20591 12451 16943 16187 15076 17236\n",
      "  17998 11492 11711 10437 14079 11052 17517 14875 16609 13023 19718 12063\n",
      "  15863 11446]]\n"
     ]
    },
    {
     "data": {
      "image/png": "[encoded data removed]",
      "text/plain": [
       "<Figure size 432x288 with 1 Axes>"
      ]
     },
     "metadata": {
      "needs_background": "light"
     },
     "output_type": "display_data"
    },
    {
     "name": "stdout",
     "output_type": "stream",
     "text": [
      "['developmental process involved in reproduction', 'inner ear morphogenesis', 'auditory receptor cell fate specification', 'glycogen binding', 'melanin-concentrating hormone activity', 'regulation of septation initiation signaling', 'positive regulation of sprouting angiogenesis', 'meiotic sister chromatid segregation', 'lymphocyte activation', 'artery development', 'protein phosphatase 2B binding', 'cerebellum morphogenesis', 'positive regulation of vasculature development', 'propanoate transport', 'regulation of protein localization to spindle pole body', 'positive regulation of androgen receptor activity', 'positive regulation of T cell mediated cytotoxicity', 'regulation of heart morphogenesis', 'regulation of spindle organization', 'NuA3 histone acetyltransferase complex', 'positive regulation of protein localization to kinetochore', 'cell trailing edge', 'positive regulation of cysteine-type endopeptidase activity', 'positive regulation of protein tyrosine phosphatase activity', 'forebrain ventricular zone progenitor cell division', 'methylation-dependent protein binding', 'positive regulation of regulated secretory pathway', 'alpha-glucan catabolic process involved in ascospore release from ascus', 'mRNA destabilization', 'histone H3-R2 demethylation', 'negative regulation of epidermal cell differentiation', 'actin modification', 'cognition', 'vesicle targeting, trans-Golgi to endosome', 'heteroduplex formation', 'regulation of blood vessel endothelial cell migration', 'regulation of endodermal cell fate specification', 'DNA ligase IV complex', 'signal release from synapse', 'nuclear-transcribed mRNA catabolic process, nonsense-mediated decay', 'N-terminal peptidyl-proline methylation', 'box H/ACA snoRNP assembly', 'thigmotaxis', 'positive regulation of transcription from RNA polymerase II promoter in response to maltose', 'thioesterase binding', 'protein localization to ciliary membrane', 'regulation of platelet-derived growth factor receptor signaling pathway', 'extrinsic component of endoplasmic reticulum membrane', 'negative regulation of RNA helicase activity', 'establishment of chromosome localization']\n",
      "GO:0032502\tlevel-01\tdepth-01\tdevelopmental process [biological_process]\n",
      "returned terms\n",
      "[[5647 6066 1966 2152 2756 3332 2754 1967 2153 4800 4495 5797 4940 2788\n",
      "  2789 2758 5796 6102 3982 3331 3699 6101 5994 5795 4941 4348 5365 3399\n",
      "  5764 6382 4506 2762 4508 4745 4118 1847  764 3817 4990 5160 2771 4968\n",
      "   761  759 3022 4117 6386 2980 3021 5619]]\n"
     ]
    },
    {
     "data": {
      "image/png": "[encoded data removed]",
      "text/plain": [
       "<Figure size 432x288 with 1 Axes>"
      ]
     },
     "metadata": {
      "needs_background": "light"
     },
     "output_type": "display_data"
    },
    {
     "name": "stdout",
     "output_type": "stream",
     "text": [
      "['developmental process', 'spore germination', 'bacillithiol metabolic process', 'arsenate ion transmembrane transporter activity', 'voltage-gated potassium channel complex', 'oxidoreductase activity, acting on a sulfur group of donors, iron-sulfur protein as acceptor', 'voltage-gated potassium channel activity', 'bacillithiol biosynthetic process', 'ATPase-coupled arsenite transmembrane transporter activity', 'nucleoside-triphosphatase regulator activity', 'GTPase regulator activity', \"3',5'-cyclic-nucleotide phosphodiesterase activity\", 'regulation of DNA metabolic process', 'heme a biosynthetic process', 'heme a metabolic process', 'potassium channel complex', \"3',5'-cyclic-AMP phosphodiesterase activity\", 'positive regulation of ion transmembrane transport', 'oxidoreductase activity, acting on the CH-NH group of donors, flavin as acceptor', 'sulfite reductase (ferredoxin) activity', 'molybdate ion transmembrane transporter activity', 'positive regulation of ion transmembrane transporter activity', 'molybdate ion binding', 'phycobilisome', 'regulation of response to DNA damage stimulus', 'methanol metabolic process', 'light-harvesting complex', 'oxidoreductase activity, acting on X-H and Y-H to form an X-Y bond', 'positive regulation of transporter activity', 'sarcosine metabolic process', 'urea transport', 'voltage-gated cation channel activity', 'urea transmembrane transport', 'lipopolysaccharide floppase activity', 'D-glycero-D-manno-heptose 7-phosphate biosynthetic process', 'molybdate ion transport', 'energy derivation by oxidation of reduced inorganic compounds', 'detoxification of arsenic-containing substance', 'methyl-CpG binding', 'sulfite reductase complex (NADPH)', 'single-stranded DNA exodeoxyribonuclease activity', 'cellular response to light stimulus', 'methane metabolic process', 'alkane biosynthetic process', 'hydrolase activity, acting on carbon-sulfur bonds', 'D-glycero-D-manno-heptose 7-phosphate metabolic process', 'thiosulfate transport', 'S-formylglutathione hydrolase activity', 'UDPsulfoquinovose synthase activity', 'negative regulation of purine nucleotide metabolic process']\n",
      "GO:0008150\tlevel-00\tdepth-00\tbiological_process [biological_process]\n",
      "returned terms\n",
      "[[ 792 1184  770 1499  775 1754 2214 3825  399  135  701  854  223  709\n",
      "   385  855  387  566 1506 1558  769 1232  436  127  229 2666  538    1\n",
      "   141  713  379  727  781  380  654  722 1234  772 1534  214 1552 1056\n",
      "  2889 1335 3117 1317 3446  851  101  171]]\n"
     ]
    },
    {
     "data": {
      "image/png": "[encoded data removed]",
      "text/plain": [
       "<Figure size 432x288 with 1 Axes>"
      ]
     },
     "metadata": {
      "needs_background": "light"
     },
     "output_type": "display_data"
    },
    {
     "name": "stdout",
     "output_type": "stream",
     "text": [
      "['biological_process', 'aromatic amino acid family metabolic process', 'intramolecular oxidoreductase activity', 'oxo-acid-lyase activity', 'racemase and epimerase activity, acting on carbohydrates and derivatives', 'purine nucleobase metabolic process', 'cellular amino acid catabolic process', 'purine-containing compound metabolic process', 'biosynthetic process', 'acid-amino acid ligase activity', 'protein transmembrane transport', 'organic cyclic compound biosynthetic process', 'phosphotransferase activity, alcohol group as acceptor', 'transferase activity, transferring hexosyl groups', 'division septum assembly', 'heterocycle biosynthetic process', 'cell septum assembly', 'drug catabolic process', 'UDP-glucosyltransferase activity', 'amidine-lyase activity', 'monosaccharide metabolic process', 'tryptophan metabolic process', 'phosphotransferase activity, carboxyl group as acceptor', 'phospholipid biosynthetic process', 'isoprenoid biosynthetic process', 'hexokinase activity', '2-oxoglutarate metabolic process', 'tRNA aminoacylation for protein translation', 'organic cyclic compound metabolic process', 'aminopeptidase activity', 'macromolecule catabolic process', 'oxidoreductase activity, acting on the CH-CH group of donors, quinone or related compound as acceptor', 'polysaccharide metabolic process', 'organonitrogen compound catabolic process', 'porphyrin-containing compound biosynthetic process', 'transferase activity, transferring pentosyl groups', 'organic cyclic compound catabolic process', 'phosphorus metabolic process', 'oxidoreductase activity, acting on single donors with incorporation of molecular oxygen, incorporation of two atoms of oxygen', 'transferase activity, transferring acyl groups other than amino-acyl groups', 'purine nucleotide metabolic process', 'purine ribonucleotide metabolic process', 'disaccharide metabolic process', 'nucleobase metabolic process', 'oxidoreductase activity, acting on the CH-OH group of donors, oxygen as acceptor', 'dicarboxylic acid biosynthetic process', 'O-acyltransferase activity', 'sulfurtransferase activity', 'drug metabolic process', 'nucleotide metabolic process']\n",
      "GO:0043231\tlevel-04\tdepth-04\tintracellular membrane-bounded organelle [cellular_component]\n",
      "returned terms\n",
      "[[ 970 5420 3070 2203 5630 4272 5620 5449  757 4288 5599 5340 7709 2572\n",
      "  3536 5486 3535 2529 3534 7687 6440 3560 3163 5707 4231 3452 7713 3090\n",
      "  4023 3633 6039 7665 2409 5792 6485 5691 6457 1266 7358 7340 2941 7678\n",
      "   678 6028 4101 3745 5473 3164 1283 6087]]\n"
     ]
    },
    {
     "data": {
      "image/png": "[encoded data removed]",
      "text/plain": [
       "<Figure size 432x288 with 1 Axes>"
      ]
     },
     "metadata": {
      "needs_background": "light"
     },
     "output_type": "display_data"
    },
    {
     "name": "stdout",
     "output_type": "stream",
     "text": [
      "['intracellular membrane-bounded organelle', 'acyl-[acyl-carrier-protein]-phospholipid O-acyltransferase activity', 'serine-glyoxylate transaminase activity', 'retinoid metabolic process', 'translation regulator activity', 'polyphosphate:AMP phosphotransferase activity', 'transcription antitermination factor activity, RNA binding', 'regulation of nucleotide biosynthetic process', 'mitochondrial electron transport, NADH to ubiquinone', 'phosphonopyruvate decarboxylase activity', 'reductive iron assimilation', 'isoquinoline 1-oxidoreductase activity', 'thylakoid lumen', 'mRNA pseudouridine synthesis', 'purine nucleoside bisphosphate catabolic process', 'hexitol dehydrogenase activity', 'ribonucleoside bisphosphate catabolic process', 'positive regulation of phosphorylation', 'acetyl-CoA catabolic process', 'sedoheptulose-bisphosphatase activity', 'positive regulation of cell adhesion', 'acetylene hydratase activity', 'nitrate reductase (NADH) activity', 'negative regulation of multi-organism process', '4-phytase activity', 'nitrous-oxide reductase activity', 'circadian rhythm', 'alditol:NADP+ 1-oxidoreductase activity', 'methanogenesis, from carbon dioxide', 'cellular component organization', 'L-gulonolactone oxidase activity', 'photosynthetic electron transport in photosystem I', 'glutaminyl-tRNAGln biosynthesis via transamidation', 'magnesium protoporphyrin IX methyltransferase activity', 'host intracellular membrane-bounded organelle', 'alcohol dehydrogenase (acceptor) activity', 'host cell cytoplasm', 'nucleocytoplasmic transport', 'bacteriocin transmembrane transporter activity', 'tripartite ATP-independent periplasmic transporter complex', 'muconate cycloisomerase activity', 'photorespiration', 'oligosaccharyl transferase activity', 'N-acetylglucosamine-6-sulfatase activity', '6-carboxyhexanoate-CoA ligase activity', 'phototransduction', 'cellular response to phosphate starvation', 'nitrate reductase [NAD(P)H] activity', 'protein modification by small protein conjugation or removal', 'N-acetylglucosamine transmembrane transporter activity']\n",
      "GO:0016043\tlevel-02\tdepth-02\tcellular component organization [biological_process]\n",
      "returned terms\n",
      "[[3633 7665 2529 5630 5420 3070 7709 7687 4272  970 3536 2941 3452 3535\n",
      "   757 5620 5449 4288 7358 1276 5599 7713 3534 5486 5340 4231  847 2203\n",
      "  3359 3163 5489 5792 2572 3560 6485 3498 6440 3543 6401 6028  678 4578\n",
      "  5707 4101 5473 1283 3164 1850 7267 2409]]\n"
     ]
    },
    {
     "data": {
      "image/png": "[encoded data removed]",
      "text/plain": [
       "<Figure size 432x288 with 1 Axes>"
      ]
     },
     "metadata": {
      "needs_background": "light"
     },
     "output_type": "display_data"
    },
    {
     "name": "stdout",
     "output_type": "stream",
     "text": [
      "['cellular component organization', 'photosynthetic electron transport in photosystem I', 'positive regulation of phosphorylation', 'translation regulator activity', 'acyl-[acyl-carrier-protein]-phospholipid O-acyltransferase activity', 'serine-glyoxylate transaminase activity', 'thylakoid lumen', 'sedoheptulose-bisphosphatase activity', 'polyphosphate:AMP phosphotransferase activity', 'intracellular membrane-bounded organelle', 'purine nucleoside bisphosphate catabolic process', 'muconate cycloisomerase activity', 'nitrous-oxide reductase activity', 'ribonucleoside bisphosphate catabolic process', 'mitochondrial electron transport, NADH to ubiquinone', 'transcription antitermination factor activity, RNA binding', 'regulation of nucleotide biosynthetic process', 'phosphonopyruvate decarboxylase activity', 'bacteriocin transmembrane transporter activity', 'actin filament binding', 'reductive iron assimilation', 'circadian rhythm', 'acetyl-CoA catabolic process', 'hexitol dehydrogenase activity', 'isoquinoline 1-oxidoreductase activity', '4-phytase activity', 'glycerol-1-phosphate dehydrogenase [NAD(P)+] activity', 'retinoid metabolic process', 'phenol 2-monooxygenase activity', 'nitrate reductase (NADH) activity', 'formate catabolic process', 'magnesium protoporphyrin IX methyltransferase activity', 'mRNA pseudouridine synthesis', 'acetylene hydratase activity', 'host intracellular membrane-bounded organelle', 'geranylgeranyl reductase activity', 'positive regulation of cell adhesion', '7,8-didemethyl-8-hydroxy-5-deazariboflavin synthase activity', 'chitin deacetylase activity', 'N-acetylglucosamine-6-sulfatase activity', 'oligosaccharyl transferase activity', 'phosphatidylcholine metabolic process', 'negative regulation of multi-organism process', '6-carboxyhexanoate-CoA ligase activity', 'cellular response to phosphate starvation', 'protein modification by small protein conjugation or removal', 'nitrate reductase [NAD(P)H] activity', 'formylmethanofuran dehydrogenase activity', 'deoxyadenosine kinase activity', 'glutaminyl-tRNAGln biosynthesis via transamidation']\n",
      "GO:0045026\tlevel-05\tdepth-05\tplasma membrane fusion [biological_process]\n",
      "returned terms\n",
      "[[13316 14761 20418 11074 21162 13018 11115  9848 21597 19112 19250  8680\n",
      "  12943 10490 14774 19675 11157 20386 12728 13866 12826 13256 13060 17368\n",
      "  15999 12212  8629 19656  9285 15001 17424 18050 18760 18215 12934 18775\n",
      "  17802 21315  6944 18287 20535 12160 18390 20422 21552 20344 16704 20462\n",
      "  20751 12229]]\n"
     ]
    },
    {
     "data": {
      "image/png": "[encoded data removed]",
      "text/plain": [
       "<Figure size 432x288 with 1 Axes>"
      ]
     },
     "metadata": {
      "needs_background": "light"
     },
     "output_type": "display_data"
    },
    {
     "name": "stdout",
     "output_type": "stream",
     "text": [
      "['plasma membrane fusion', 'microtubule plus end polymerase', 'hepatocyte growth factor receptor signaling pathway', 'MSL complex', 'amylin receptor signaling pathway', 'male meiosis chromosome separation', 'intraciliary transport involved in cilium assembly', 'endoplasmic reticulum tubular network', 'regulation of miRNA metabolic process', 'positive regulation of osteoblast proliferation', 'cyclase inhibitor activity', 'mitigation of host immune response by virus', 'cardiac muscle tissue development', 'KDEL sequence binding', 'regulation of proteasome assembly', 'positive regulation of natural killer cell mediated cytotoxicity directed against tumor cell target', '2-acylglycerol O-acyltransferase activity', 'regulation of postsynaptic specialization assembly', 'regulation of protein sumoylation', 'negative regulation of error-prone translesion synthesis', 'CMG complex', 'regulation of protein localization to cell tip', 'high voltage-gated calcium channel activity', 'nerve development', 'nucleoplasmic THO complex', 'regulation of positive chemotaxis to cAMP by DIF-2', 'external side of cell outer membrane', 'regulation of Wnt signaling pathway, calcium modulating pathway', 'regulation of neutrophil activation', 'neutral lipid catabolic process', 'structural constituent of egg coat', 'lens fiber cell differentiation', 'gliogenesis', 'leukocyte migration', 'protein depalmitoleylation', 'lateral semicircular canal development', 'cardiocyte differentiation', 'interleukin-10 receptor activity', 'atrazine chlorohydrolase activity', 'peripheral nervous system axon ensheathment', 'tumor necrosis factor superfamily cytokine production', 'receptor inhibitor activity', 'positive regulation of cardiocyte differentiation', 'all-trans-retinyl-palmitate hydrolase, 11-cis retinol forming activity', 'detection of wounding', 'cardiolipin hydrolase activity', 'calcium-dependent phospholipase A2 activity', 'chorionic trophoblast cell differentiation', 'mammary gland alveolus development', 'protein localization to cell cortex']\n",
      "GO:0008289\tlevel-02\tdepth-02\tlipid binding [molecular_function]\n",
      "returned terms\n",
      "[[3072 1869 1500 1273 1490 3303 1502 3618 1879 5684 3213 2823  849  282\n",
      "  4546 4267 3302 2148 3617 1598 3033 2358  606  681 1720  605 1816 3520\n",
      "  4173 1074 2954  729 2115 3154 1711 4707 3034  219 2907 4962 2966 5664\n",
      "  2158 1600  280 1828 1524 2908 4718 2593]]\n"
     ]
    },
    {
     "data": {
      "image/png": "[encoded data removed]",
      "text/plain": [
       "<Figure size 432x288 with 1 Axes>"
      ]
     },
     "metadata": {
      "needs_background": "light"
     },
     "output_type": "display_data"
    },
    {
     "name": "stdout",
     "output_type": "stream",
     "text": [
      "['lipid binding', 'ferric iron binding', 'propionate catabolic process, 2-methylcitrate cycle', 'aerobic electron transport chain', 'phosphoglucosamine mutase activity', 'NADH oxidation', 'propionate catabolic process', 'carotenoid dioxygenase activity', 'class I DNA-(apurinic or apyrimidinic site) endonuclease activity', 'FMN reductase activity', 'acylglycerol catabolic process', 'phosphoribosylglycinamide formyltransferase activity', 'phosphomannomutase activity', 'asparagine synthase (glutamine-hydrolyzing) activity', 'glutamate racemase activity', \"guanosine-5'-triphosphate,3'-diphosphate diphosphatase activity\", 'NADH metabolic process', 'zinc ion transmembrane transporter activity', 'terpene catabolic process', 'dTDP-rhamnose biosynthetic process', 'sulfate assimilation, phosphoadenylyl sulfate reduction by phosphoadenylyl-sulfate reductase (thioredoxin)', 'cellular response to organic cyclic compound', 'lysine-tRNA ligase activity', 'protein glycosylation', 'GMP biosynthetic process', 'lysyl-tRNA aminoacylation', 'cytidylate kinase activity', 'cell wall macromolecule catabolic process', 'tRNA seleno-modification', 'alpha-glucan metabolic process', 'phosphoglucomutase activity', 'transferase complex', 'dihydroorotase activity', '1-deoxy-D-xylulose-5-phosphate synthase activity', 'L-serine biosynthetic process', 'translation regulator activity, nucleic acid binding', 'sulfate reduction', 'protein kinase activity', 'oxidoreductase activity, oxidizing metal ions, oxygen as acceptor', 'response to peptide', 'cyclic-di-GMP binding', 'fermentation', 'fatty acid beta-oxidation using acyl-CoA dehydrogenase', 'dTDP-rhamnose metabolic process', 'asparagine metabolic process', 'organic hydroxy compound metabolic process', 'AMP salvage', 'ferroxidase activity', 'negative regulation of protein kinase activity', 'sulfate assimilation']\n",
      "GO:0009987\tlevel-01\tdepth-01\tcellular process [biological_process]\n",
      "returned terms\n",
      "[[ 138  391  609  428  910  373 1059 1121 1060   68  790   59  985 1120\n",
      "   816   18  220  652  134  150 4679   42   41  307 1195  723 4758   58\n",
      "    65 1604  104 1994  536   96  102  332  227 1190   60 3082  439  269\n",
      "   100  143  193 5194  455 1404  226  619]]\n"
     ]
    },
    {
     "data": {
      "image/png": "[encoded data removed]",
      "text/plain": [
       "<Figure size 432x288 with 1 Axes>"
      ]
     },
     "metadata": {
      "needs_background": "light"
     },
     "output_type": "display_data"
    },
    {
     "name": "stdout",
     "output_type": "stream",
     "text": [
      "['cellular process', 'cell division', 'sulfur compound binding', 'carbon-carbon lyase activity', 'membrane protein complex', 'carbohydrate derivative metabolic process', 'menaquinone metabolic process', 'cobalamin biosynthetic process', 'menaquinone biosynthetic process', 'protein metabolic process', 'hexose metabolic process', 'cellular protein metabolic process', 'acid-thiol ligase activity', 'cobalamin metabolic process', 'water-soluble vitamin biosynthetic process', 'ligase activity', 'catalytic activity, acting on a protein', 'tetrapyrrole biosynthetic process', 'ligase activity, forming carbon-nitrogen bonds', 'organonitrogen compound metabolic process', 'photosynthetic membrane', 'protein-containing complex', 'catalytic complex', 'sulfur compound biosynthetic process', 'terpenoid biosynthetic process', 'hydrolase activity, acting on carbon-nitrogen (but not peptide) bonds, in cyclic amides', 'cell death', 'peptide biosynthetic process', 'proteolysis', 'arginine biosynthetic process', 'carboxylic acid metabolic process', 'transferase activity, transferring amino-acyl groups', 'glutamine family amino acid metabolic process', 'inorganic cation transmembrane transport', 'protein dimerization activity', '4 iron, 4 sulfur cluster binding', 'manganese ion binding', 'glutamine family amino acid biosynthetic process', 'translation', 'catabolic process', 'pyruvate metabolic process', 'intramolecular transferase activity', 'ATPase activity', 'carboxylic acid biosynthetic process', 'integral component of plasma membrane', 'cytolysis in other organism', 'transferase activity, transferring nitrogenous groups', 'lysine biosynthetic process via diaminopimelate', 'isoprenoid metabolic process', 'nucleobase-containing compound metabolic process']\n",
      "GO:0022412\tlevel-02\tdepth-02\tcellular process involved in reproduction in multicellular organism [biological_process]\n",
      "returned terms\n",
      "[[10012 18695 11509 10128 11743 10783  6770  6800 13094 12360 11563 13466\n",
      "   9491 12402 11806 10428 13764 19440 10246 16385 19342 17885 21198 12057\n",
      "  17809 12846 17642 12802  8598 18547 19606 14240  9684 20467 12286 16265\n",
      "  11995 17165 16105 11635 19340 16013 18238 13905 20069 21307 18829  7116\n",
      "  13874 20995]]\n"
     ]
    },
    {
     "data": {
      "image/png": "[encoded data removed]",
      "text/plain": [
       "<Figure size 432x288 with 1 Axes>"
      ]
     },
     "metadata": {
      "needs_background": "light"
     },
     "output_type": "display_data"
    },
    {
     "name": "stdout",
     "output_type": "stream",
     "text": [
      "['cellular process involved in reproduction in multicellular organism', 'negative regulation of ossification', 'ADP-ribose pyrophosphohydrolase activity', 'eukaryotic translation elongation factor 1 complex', 'positive regulation of pyruvate dehydrogenase activity', '5S rDNA binding', 'phosphoglycerate phosphatase activity', 'N-alpha,N-alpha,N-alpha-trimethyl-L-histidine metabolic process', 'positive regulation of apoptotic signaling pathway', 'calcium-independent phospholipase A2 activity', 'positive regulation of mRNA splicing, via spliceosome', 'positive regulation of DNA-directed DNA polymerase activity', 'host cell endoplasmic reticulum membrane', 'long-chain fatty acid import into peroxisome', 'regulation of receptor-mediated endocytosis', 'phosphatidic acid transfer activity', 'negative regulation of spindle checkpoint', 'regulation of synaptic activity', 'eukaryotic translation initiation factor 3 complex, eIF3e', 'presynaptic membrane', 'positive regulation of myeloid leukocyte cytokine production involved in immune response', 'B cell differentiation', 'thrombopoietin-mediated signaling pathway', 'regulation of protein ubiquitination', 'caudal fin morphogenesis', 'regulation of steroid biosynthetic process', 'regulation of neural crest formation', 'mitochondrial DNA inheritance', 'ethylene biosynthetic process', 'laminin receptor activity', 'dendritic spine neck', 'positive regulation of mitotic cell cycle spindle assembly checkpoint', 'regulation of T cell proliferation', 'ectoplasm', 'regulation of cell fate specification', 'hydroxymethylfurfural reductase (NADPH) activity', 'regulation of sorocarp spore cell differentiation', 'negative regulation of Golgi to plasma membrane CFTR protein transport', 'regulation of glycerol transport', 'regulation of gene silencing by RNA', 'regulation of transcription involved in venous endothelial cell fate commitment', 'CENP-A containing nucleosome binding', 'negative regulation of interleukin-13 production', 'Mei2 nuclear dot complex', 'regulation of chronic inflammatory response', 'voltage-gated potassium channel activity involved in ventricular cardiac muscle cell action potential repolarization', 'membrane repolarization during action potential', 'threo-3-hydroxyaspartate ammonia-lyase activity', 'positive regulation of initiation of premeiotic DNA replication', 'negative regulation of smooth muscle cell-matrix adhesion']\n",
      "GO:0051704\tlevel-01\tdepth-01\tmulti-organism process [biological_process]\n",
      "returned terms\n",
      "[[ 6659 10295  9125  3414  8797  8738 16024 18941 15111 16618  3419  6975\n",
      "   7100  7365  6971 16463 16137 19448 10994  8926  6761 10561 19277 15605\n",
      "   6013  9627 16677 19572 15750 10112  4140  8120  3986 15616  3407  2081\n",
      "   7567  9743 14819 20033 15038 19346  3231 15932 15265  6942 15514 10874\n",
      "  15227  8089]]\n"
     ]
    },
    {
     "data": {
      "image/png": "[encoded data removed]",
      "text/plain": [
       "<Figure size 432x288 with 1 Axes>"
      ]
     },
     "metadata": {
      "needs_background": "light"
     },
     "output_type": "display_data"
    },
    {
     "name": "stdout",
     "output_type": "stream",
     "text": [
      "['multi-organism process', 'snoRNA polyadenylation', 'negative regulation of mRNA catabolic process', 'protein deglycation, glyoxal removal', 'DNA insertion or deletion binding', '(R)-carnitine:4-(trimethylammonio)butanoate antiporter activity', 'mammillary body development', 'regulation of mating-type specific transcription, DNA-templated', 'neurotransmitter receptor transport, postsynaptic endosome to lysosome', 'nucleoplasm', 'asexual sporulation resulting in formation of a cellular spore', 'phosphatidylinositol-4,5-bisphosphate phosphatase activity', 'decaprenyl-N-acetyl-alpha-D-glucosaminyl-pyrophosphate:dTDP-alpha-L-rhamnose rhamnosyltransferase activity', 'positive regulation of proteolysis', 'positive regulation of extrinsic apoptotic signaling pathway', 'SUMO polymer binding', 'mesenchyme migration', 'dGDP phosphorylation', 'positive regulation of single-species biofilm formation on inanimate substrate', 'mannoprotein biosynthetic process', 'histone deacetylase binding', 'vitamin D3 metabolic process', 'histone methyltransferase activity (H4-R3 specific)', 'positive regulation of protein phosphorylation', 'Rac GTPase binding', 'sodium-independent organic anion transport', 'interleukin-13-mediated signaling pathway', 'regulation of phenotypic switching', 'intraciliary transport particle B', 'entry into host cell', 'negative regulation by symbiont of entry into host', 'chloromuconate cycloisomerase activity', \"N',N'',N'''-triacetylfusarinine C biosynthetic process\", 'peptidase regulator activity', 'cell cycle checkpoint', 'regulation of Rho protein signal transduction', 'apicoplast', 'positive regulation of calcium ion import', 'neurohypophysis morphogenesis', 'nicotinamide riboside hydrolase activity', 'glucocorticoid biosynthetic process', 'calcium, potassium:sodium antiporter activity', 'negative regulation of phospholipid transport', 'negative regulation of oxidative phosphorylation', 'isopenicillin-N N-acyltransferase activity', 'positive regulation of phialide development', 'positive regulation of meiotic cell cycle', 'high-affinity glucose:proton symporter activity', 'raffinose-raffinose alpha-galactotransferase activity']\n",
      "GO:0044703\tlevel-02\tdepth-02\tmulti-organism reproductive process [biological_process]\n",
      "returned terms\n",
      "[[11957 14810 12675  9963 18226 17485 10670 17959 18487 12173 21382 10437\n",
      "  10194 12354 14530 20881 21135 10599 19527 12063 11970 20953 12153 12966\n",
      "   9430 13927 17861 18458 13990 12019 17617 11036 19138 15076 11052 20186\n",
      "   7532  8323 11662 14875 20655 13878 12469 11767 20649 13939 12767 19726\n",
      "  11711 12146]]\n"
     ]
    },
    {
     "data": {
      "image/png": "[encoded data removed]",
      "text/plain": [
       "<Figure size 432x288 with 1 Axes>"
      ]
     },
     "metadata": {
      "needs_background": "light"
     },
     "output_type": "display_data"
    },
    {
     "name": "stdout",
     "output_type": "stream",
     "text": [
      "['multi-organism reproductive process', 'negative regulation of protein import into nucleus during spindle assembly checkpoint', 'mitochondrial membrane organization', 'ubiquitin-like protein conjugating enzyme activity', 'regulation of T cell differentiation', 'embryonic hemopoiesis', 'Atg8 ligase activity', 'regulation of glial cell proliferation', 'regulation of circadian sleep/wake cycle, sleep', 'response to fluid shear stress', 'positive regulation of insulin-like growth factor receptor signaling pathway', 'nuclear-transcribed mRNA catabolic process, nonsense-mediated decay', 'microfilament motor activity', 'myo-inositol transmembrane transporter activity', 'isocitrate dehydrogenase complex (NAD+)', 'negative regulation of cold-induced thermogenesis', 'negative regulation of dendrite extension', 'outward rectifier potassium channel activity', 'negative regulation of posttranscriptional gene silencing', 'extrinsic component of endoplasmic reticulum membrane', 'negative regulation of cellular component organization', 'cell fate determination involved in pattern specification', 'AMP transmembrane transporter activity', 'tRNA (cytosine-3-)-methyltransferase activity', 'regulation of cellular response to heat', 'ribitol-5-phosphatase activity', 'regulation of peptide hormone secretion', 'lateral line development', 'regulation of tRNA C5-cytosine methylation', 'myosin II binding', 'detection of mechanical stimulus involved in sensory perception', '5-diphosphoinositol pentakisphosphate 3-kinase activity', 'slit diaphragm assembly', 'heteroduplex formation', 'box H/ACA snoRNP assembly', 'cholesterol 25-hydroxylase activity', 'actin cytoskeleton organization', 'modulation by virus of host molecular function', 'regulation of G protein-coupled receptor signaling pathway', 'positive regulation of transcription from RNA polymerase II promoter in response to maltose', 'membrane hyperpolarization', 'alpha-glucan catabolic process involved in ascospore release from ascus', 'Elg1 RFC-like complex', 'glutamatergic synapse', 'atrial septum morphogenesis', '1,3-beta-glucanosyltransferase activity', 'lymphocyte activation', 'regulation of hematopoietic stem cell migration', 'signal release from synapse', 'protein localization to cell leading edge']\n",
      "GO:0110165\tlevel-01\tdepth-01\tcellular anatomical entity [cellular_component]\n",
      "returned terms\n",
      "[[  15   17   35   40   92   27   82   70   26  793   25  125  124   36\n",
      "    20    5  539    8    2  513  295  292   21   13  157  245    6  293\n",
      "    51    9  732 1791   14  396  332  397  143 1063  261  168  114   53\n",
      "   260  546  123  213  294  192 1238  372]]\n"
     ]
    },
    {
     "data": {
      "image/png": "[encoded data removed]",
      "text/plain": [
       "<Figure size 432x288 with 1 Axes>"
      ]
     },
     "metadata": {
      "needs_background": "light"
     },
     "output_type": "display_data"
    },
    {
     "name": "stdout",
     "output_type": "stream",
     "text": [
      "['cellular anatomical entity', 'cytoplasm', 'cation binding', 'metal ion binding', 'metabolic process', 'integral component of membrane', 'hydrolase activity', 'plasma membrane', 'membrane', 'cytosol', 'intrinsic component of membrane', 'oxidoreductase activity', 'oxidation-reduction process', 'transferase activity', 'catalytic activity', 'nucleotide binding', 'anion binding', 'purine ribonucleoside triphosphate binding', 'ATP binding', 'coenzyme binding', 'molecular_function', 'cofactor binding', 'small molecule binding', 'drug binding', 'lyase activity', 'isomerase activity', 'adenyl ribonucleotide binding', 'iron-sulfur cluster binding', 'cellular metabolic process', 'transition metal ion binding', 'nitrogen compound metabolic process', 'response to chemical', 'nucleoside phosphate binding', 'hydrolase activity, acting on carbon-nitrogen (but not peptide) bonds', '4 iron, 4 sulfur cluster binding', 'hydrolase activity, acting on carbon-nitrogen (but not peptide) bonds, in linear amides', 'carboxylic acid biosynthetic process', 'quinone biosynthetic process', 'oxidoreductase activity, acting on CH-OH group of donors', 'phosphate-containing compound metabolic process', 'transferase activity, transferring phosphorus-containing groups', 'binding', 'oxidoreductase activity, acting on the CH-OH group of donors, NAD or NADP as acceptor', 'oxidoreductase activity, acting on the aldehyde or oxo group of donors', 'flavin adenine dinucleotide binding', 'transferase activity, transferring acyl groups', 'metal cluster binding', 'intrinsic component of plasma membrane', 'aromatic compound catabolic process', 'carboxy-lyase activity']\n",
      "GO:0048869\tlevel-02\tdepth-02\tcellular developmental process [biological_process]\n",
      "returned terms\n",
      "[[ 7762  7441  7383 12007  7101  7900  8729  6976  1029  7547  7192  6870\n",
      "   7732  7831  7850 10240  7702  7366  7693 10007  6745  7278 13217  8369\n",
      "   3343  4426  7903  7728  8571  7692  7481 10622  7068  6456  7388  8317\n",
      "  17550 13590 18927 11830  8054  8755 11549 10786 10086  7109  4302  8533\n",
      "   8041 17554]]\n"
     ]
    },
    {
     "data": {
      "image/png": "[encoded data removed]",
      "text/plain": [
       "<Figure size 432x288 with 1 Axes>"
      ]
     },
     "metadata": {
      "needs_background": "light"
     },
     "output_type": "display_data"
    },
    {
     "name": "stdout",
     "output_type": "stream",
     "text": [
      "['cellular developmental process', 'acetylserotonin O-methyltransferase activity', 'response to fructose', 'exocytic vesicle', 'phosphatidylinositol phosphate 5-phosphatase activity', 'multi-organism metabolic process', 'positive regulation of potassium ion transport', 'cellular component assembly involved in morphogenesis', 'phagosome maturation', 'extracellular membrane-bounded organelle', 'oligoxyloglucan reducing-end-specific cellobiohydrolase activity', 'prostanoid biosynthetic process', 'phosphatidylcholine-sterol O-acyltransferase activity', 'actin cortical patch', 'regulation of cytoskeleton organization', 'double-strand break repair via break-induced replication', 'mitochondrial proton-transporting ATP synthase complex, catalytic core F(1)', '4-amino-4-deoxy-L-arabinose transferase activity', 'negative regulation of reductive pentose-phosphate cycle', 'spliceosomal snRNP assembly', 'supercoiled DNA binding', 'positive regulation of asexual reproduction', 'mating projection tip', 'carnitine biosynthetic process', 'lysosome', 'base conversion or substitution editing', 'regulation of endothelial cell development', 'nitrate import', 'regulation of inflammatory response', 'regulation of reductive pentose-phosphate cycle', 'cell migration', 'meiotic cell cycle', '[heparan sulfate]-glucosamine N-sulfotransferase activity', 'cis-regulatory region binding', 'response to disaccharide', 'regulation of vesicle fusion', 'regulation of myeloid cell differentiation', \"positive regulation of phosphodiesterase activity, acting on 3'-phosphoglycolate-terminated DNA strands\", 'positive regulation of endothelial cell migration', 'positive regulation of intracellular transport', 'aggregation of unicellular organisms', 'pyrimidine nucleotide transmembrane transporter activity', 'NAD transmembrane transporter activity', 'positive regulation of intracellular protein transport', 'protein-cysteine S-palmitoyltransferase activity', 'regulation of gene expression, epigenetic', 'supramolecular complex', 'lipooligosaccharide metabolic process', 'choline-phosphate cytidylyltransferase activity', 'erythrocyte maturation']\n",
      "GO:0007338\tlevel-03\tdepth-03\tsingle fertilization [biological_process]\n",
      "returned terms\n",
      "[[16625  8525  6783 10383  3214  8300  6593 10509 10091  3997 19919  5927\n",
      "   9432  8260  6363 16743  7094  7399 19203  8825 19531 10675 18444 16132\n",
      "  10883  4511  9803  7488 18171 15909 16051  7120 15855 16538 14015 14823\n",
      "   9840  6651 19380  9020 16320  8444  9637  8117  8733  9085  7424  9109\n",
      "  18578  8523]]\n"
     ]
    },
    {
     "data": {
      "image/png": "[encoded data removed]",
      "text/plain": [
       "<Figure size 432x288 with 1 Axes>"
      ]
     },
     "metadata": {
      "needs_background": "light"
     },
     "output_type": "display_data"
    },
    {
     "name": "stdout",
     "output_type": "stream",
     "text": [
      "['single fertilization', 'regulation of carbohydrate biosynthetic process', 'sulfonate dioxygenase activity', 'mitochondrial proton-transporting ATP synthase, catalytic core', 'acylglycerone-phosphate reductase activity', 'sphingoid catabolic process', 'cholesterol import', 'polynucleotide phosphatase activity', 'regulation of organelle organization', 'gluconate 2-dehydrogenase (acceptor) activity', 'planar cell polarity pathway involved in gastrula mediolateral intercalation', 'mitigation of host defenses by symbiont', 'regulation of cell adhesion involved in single-species biofilm formation', 'ATPase-coupled organic acid transmembrane transporter activity', 'regulation of cellular ketone metabolic process', 'octopamine biosynthetic process', 'phthalyl amidase activity', 'cytidine transport', 'cortisol metabolic process', 'ferric-enterobactin transmembrane transporter activity', 'intermediate filament cytoskeleton', 'mitochondrial ribosome', 'death receptor activity', 'pyruvate secondary active transmembrane transporter activity', 'Derlin-1 retrotranslocation complex', 'glyceraldehyde dehydrogenase (NADP) activity', 'chromatin assembly', 'kappa-carrageenase activity', 'mesenchyme development', 'regulation of lipid transport by negative regulation of transcription from RNA polymerase II promoter', 'myosin V binding', 'fructose-2,6-bisphosphate 2-phosphatase activity', 'pyridoxal phosphate transport', 'cell maturation', 'histone H2B ubiquitination', 'mitochondrial ATP transmembrane transport', 'tubulin-tyrosine ligase activity', 'chalcone biosynthetic process', 'glossopharyngeal nerve development', 'deoxycytidine catabolic process', 'positive regulation of substrate adhesion-dependent cell spreading', 'ADP-ribosylarginine hydrolase activity', 'oxidoreductase activity, acting on CH or CH2 groups, quinone or similar compound as acceptor', 'negative regulation of phagocytosis, engulfment', '(R)-carnitine transmembrane transporter activity', 'sorbitol catabolic process', 'mitigation of host defenses by symbiont', 'cellular response to chloramphenicol', 'regulation of renal system process', 'acyloxyacyl hydrolase activity']\n",
      "GO:0061936\tlevel-03\tdepth-06\tfusion of sperm to egg plasma membrane involved in double fertilization forming a zygote and endosperm [biological_process]\n",
      "returned terms\n",
      "[[22198 21644 21642 21643 21640 21641 21638 21633 21639 21632 21636 31414\n",
      "  31413 21635 31422 31412 21634 21637 31417 21630 21631 31415 31419 31423\n",
      "  24181 31424 31418 31425 22865 22869 24178 31420 24184 31421 24185 24179\n",
      "  22195 24183 22867 21728 31416 22868 22866 22870 24180 22197 22196 24182\n",
      "  21852 22871]]\n"
     ]
    },
    {
     "data": {
      "image/png": "[encoded data removed]",
      "text/plain": [
       "<Figure size 432x288 with 1 Axes>"
      ]
     },
     "metadata": {
      "needs_background": "light"
     },
     "output_type": "display_data"
    },
    {
     "name": "stdout",
     "output_type": "stream",
     "text": [
      "['complement-mediated synapse pruning', '1-alkylglycerophosphocholine O-acyltransferase activity', 'prepulse inhibition', '1-alkenylglycerophosphocholine O-acyltransferase activity', 'regulation of catecholamine metabolic process', 'flotillin complex', 'TERT-RMRP complex', 'double-stranded RNA biosynthetic process', 'regulation of dopamine metabolic process', 'negative regulation of production of siRNA involved in RNA interference', 'negative regulation of RNA interference', 'seed trichome elongation', 'seed trichome initiation', 'positive regulation of nitric-oxide synthase activity', 'cyanidin 3-O-glucoside biosynthetic process', 'negative regulation of vernalization response', 'replicative senescence', 'template-free RNA nucleotidyltransferase', 'middle lamella', 'neural plate mediolateral regionalization', 'positive regulation of monooxygenase activity', 'secondary cell wall biogenesis involved in seed trichome differentiation', 'trihydroxystilbene synthase activity', '(13E)-labda-7,13-dien-15-ol synthase activity', 'regulation of type IV hypersensitivity', \"5-O-(4-coumaroyl)-D-quinate 3'-monooxygenase activity\", 'L-idonate 5-dehydrogenase activity (NAD-dependent)', 'multiradiene synthase activity', 'negative regulation of neurofibrillary tangle assembly', 'membrane repolarization during atrial cardiac muscle cell action potential', 'positive regulation of ovarian follicle development', 'quercetin O-glucoside biosynthetic process', 'blastocyst formation', 'kaempferol O-glucoside biosynthetic process', 'positive regulation of hypersensitivity', 'regulation of antral ovarian follicle growth', 'positive regulation of apoptotic cell clearance', 'positive regulation of type IV hypersensitivity', 'atrial cardiac muscle cell membrane repolarization', 'ensheathment of neurons', 'seed trichome differentiation', 'voltage-gated potassium channel activity involved in atrial cardiac muscle cell action potential repolarization', 'PML body organization', 'regulation of sequestering of triglyceride', 'positive regulation of antral ovarian follicle growth', 'positive regulation of activation of membrane attack complex', 'vertebrate eye-specific patterning', 'humoral immune response mediated by circulating immunoglobulin', 'positive regulation of skeletal muscle tissue regeneration', 'sequestering of triglyceride']\n",
      "GO:0043229\tlevel-03\tdepth-03\tintracellular organelle [cellular_component]\n",
      "returned terms\n",
      "[[ 969 5792 1276 4863 6917 3001  847 5440 3498 1450 7665 3452 6918 6816\n",
      "  3355 5926 7709 5473 4064 3070 7570 5538 4858 3657  757 4101 5630  970\n",
      "  2529 5717 6285 5872 6838 6091 2125 3978 5806 5873 5877 3620 6674 4272\n",
      "  5519 7687 2883 3633 6179 3017 5420 3802]]\n"
     ]
    },
    {
     "data": {
      "image/png": "[encoded data removed]",
      "text/plain": [
       "<Figure size 432x288 with 1 Axes>"
      ]
     },
     "metadata": {
      "needs_background": "light"
     },
     "output_type": "display_data"
    },
    {
     "name": "stdout",
     "output_type": "stream",
     "text": [
      "['intracellular organelle', 'magnesium protoporphyrin IX methyltransferase activity', 'actin filament binding', 'phenylalanine racemase (ATP-hydrolyzing) activity', '2-hydroxy-3-keto-5-methylthiopentenyl-1-phosphate phosphatase activity', 'L-methylmalonyl-CoA metabolic process', 'glycerol-1-phosphate dehydrogenase [NAD(P)+] activity', 'actin filament organization', 'geranylgeranyl reductase activity', 'glucose binding', 'photosynthetic electron transport in photosystem I', 'nitrous-oxide reductase activity', 'acireductone synthase activity', 'L-phenylalanine biosynthetic process from chorismate via phenylpyruvate', 'methyl indole-3-acetate esterase activity', 'mitigation of host immune response', 'thylakoid lumen', 'cellular response to phosphate starvation', 'chloramphenicol O-acetyltransferase activity', 'serine-glyoxylate transaminase activity', 'cytochrome o ubiquinol oxidase activity', 'cellulose biosynthetic process', 'glucose-6-phosphate 1-epimerase activity', 'dihydropyrimidine dehydrogenase (NADP+) activity', 'mitochondrial electron transport, NADH to ubiquinone', '6-carboxyhexanoate-CoA ligase activity', 'translation regulator activity', 'intracellular membrane-bounded organelle', 'positive regulation of phosphorylation', 'glucan endo-1,3-beta-D-glucosidase activity', 'butyrate kinase activity', 'nucleotide transport', \"bis(5'-nucleosyl)-tetraphosphatase (symmetrical) activity\", 'mannosyl-glycoprotein endo-beta-N-acetylglucosaminidase activity', 'urea cycle', 'bilirubin oxidase activity', 'chlorophyll synthetase activity', 'ATP:ADP antiporter activity', 'ATP transport', 'carotene catabolic process', 'regulation of generation of precursor metabolites and energy', 'polyphosphate:AMP phosphotransferase activity', 'precorrin-6A synthase (deacetylating) activity', 'sedoheptulose-bisphosphatase activity', 'aspartate dehydrogenase activity', 'cellular component organization', 'regulation of cell cycle', 'selenium binding', 'acyl-[acyl-carrier-protein]-phospholipid O-acyltransferase activity', 'lactate 2-monooxygenase activity']\n",
      "GO:0030154\tlevel-03\tdepth-03\tcell differentiation [biological_process]\n",
      "returned terms\n",
      "[[3578 5931 5259 1625  799 5358 5359 5632 5649 4152 1375 5268 3411 5431\n",
      "  1630 5786 5285 2393 2188 5266 5284 3594 5945 5681 5491 5249 4009 7859\n",
      "  5962 5257 4224 6385 5759 5455 6347 5961 6344 1631 6345 1585 6088 5380\n",
      "  5643 1244 6045 5240 5680 6980 5678 4434]]\n"
     ]
    },
    {
     "data": {
      "image/png": "[encoded data removed]",
      "text/plain": [
       "<Figure size 432x288 with 1 Axes>"
      ]
     },
     "metadata": {
      "needs_background": "light"
     },
     "output_type": "display_data"
    },
    {
     "name": "stdout",
     "output_type": "stream",
     "text": [
      "['cell differentiation', 'sulfide oxidation', 'cellular response to hypoxia', 'protein dealkylation', 'asparagine-tRNA ligase activity', 'formate dehydrogenase (cytochrome-c-553) activity', 'oxidoreductase activity, acting on the aldehyde or oxo group of donors, cytochrome as acceptor', 'ethanolamine ammonia-lyase complex', 'regulation of protein transport', 'fructose 6-phosphate aldolase activity', 'galactitol transport', 'cellular response to decreased oxygen levels', 'trehalose metabolism in response to stress', 'cellular monovalent inorganic cation homeostasis', 'protein demethylation', 'methylamine metabolic process', 'crotonobetaine-CoA ligase activity', 'protein ADP-ribosylation', 'antimonite transport', 'response to cAMP', 'carnitine-CoA ligase activity', 'protein-glutamate O-methyltransferase activity', 'cysteine export across plasma membrane', 'L-arabinose transmembrane transporter activity', 'oxidoreductase activity, acting on a heme group of donors', 'response to acid chemical', 'malate dehydrogenase (menaquinone) activity', 'asexual reproduction', 'bile acid and bile salt transport', 'response to water', 'cell communication', 'thiosulfate transmembrane transporter activity', 'regulation of oxidoreductase activity', 'amino-acid betaine transmembrane transporter activity', 'regulation of DNA-templated transcription in response to stress', 'glutamate-putrescine ligase activity', 'porphyrin-containing compound catabolic process', 'protein deamination', 'heme catabolic process', 'RNA-dependent DNA biosynthetic process', 'L-ascorbic acid transmembrane transport', 'fructuronate reductase activity', 'ribonuclease inhibitor activity', 'queuosine salvage', 'inosine nucleosidase activity', 'acetaldehyde metabolic process', 'arabinose transmembrane transporter activity', 'asexual sporulation', 'L-arabinose transmembrane transport', 'L-threonine catabolic process to glycine']\n",
      "GO:0005783\tlevel-05\tdepth-05\tendoplasmic reticulum [cellular_component]\n",
      "returned terms\n",
      "[[ 2557 10680 17957 11674  9189  9876 11152 10388  8648 10170 13045 11760\n",
      "   7972  8027 17988 17125 16364 12469  7092 13241 16637  7410 11959  9049\n",
      "  20244 16362 20067 10396 11647 18530 18649  7790 20683 14210 19131  8434\n",
      "  11663 15161 21386  7820 21494 12287  9780 11478 10300 18645 17611 17468\n",
      "  21112 21299]]\n"
     ]
    },
    {
     "data": {
      "image/png": "[encoded data removed]",
      "text/plain": [
       "<Figure size 432x288 with 1 Axes>"
      ]
     },
     "metadata": {
      "needs_background": "light"
     },
     "output_type": "display_data"
    },
    {
     "name": "stdout",
     "output_type": "stream",
     "text": [
      "['endoplasmic reticulum', 'stress-activated protein kinase signaling cascade', 'positive regulation of gliogenesis', 'cell-cell junction', 'cell cycle DNA replication', 'RNA polymerase II CTD heptapeptide repeat kinase activity', 'positive regulation of G2/M transition of mitotic cell cycle', 'mitochondrial respirasome', 'guanosine-containing compound catabolic process', 'Golgi membrane', 'RNA polymerase II transcription factor binding', 'transmembrane receptor protein tyrosine kinase signaling pathway', 'cellular response to peptidoglycan', 'mitotic recombination', 'embryonic eye morphogenesis', 'striated muscle cell differentiation', 'steroid hormone receptor activity', 'Elg1 RFC-like complex', '15-oxoprostaglandin 13-oxidase activity', 'intracellular', 'antigen receptor-mediated signaling pathway', 'positive regulation of cell communication', 'lamellipodium', 'DNA excision', 'tumor necrosis factor binding', 'postsynaptic specialization', 'associative learning', 'telomere maintenance via telomere lengthening', 'cell tip', 'myoblast proliferation', 'monocyte chemotaxis', 'folic acid transmembrane transporter activity', 'embryonic digit morphogenesis', 'rRNA export from nucleus', 'cell migration involved in mesendoderm migration', 'sterol desaturase activity', 'regulation of adenylate cyclase-activating G protein-coupled receptor signaling pathway', 'maintenance of vacuolar location', 'insulin-like growth factor ternary complex', 'glycylpeptide N-tetradecanoyltransferase activity', 'response to fibroblast growth factor', 'cell fate specification', 'centriole replication', 'RNA polymerase III cis-regulatory region sequence-specific DNA binding', 'negative regulation of cell cycle', 'cellular response to interferon-gamma', 'striated muscle cell development', 'anterior/posterior axon guidance', 'positive regulation of memory T cell activation', 'regulation of brood size']\n",
      "GO:0071840\tlevel-01\tdepth-01\tcellular component organization or biogenesis [biological_process]\n",
      "returned terms\n",
      "[[11669 12414 20356 21000 20518 15678 19080 21038  7244 19051 14169 18581\n",
      "  21026 11800 11355 16086 12644 14892 10291  6881 11422 20810 18833 13936\n",
      "  12545  9323  6969 16189 15432 19031 10805 12898 18001 20365 13695 13436\n",
      "  13302 11125 17494 13387 10655 19786 18942 13421 16518 20139 16820 15164\n",
      "  16555 20308]]\n"
     ]
    },
    {
     "data": {
      "image/png": "[encoded data removed]",
      "text/plain": [
       "<Figure size 432x288 with 1 Axes>"
      ]
     },
     "metadata": {
      "needs_background": "light"
     },
     "output_type": "display_data"
    },
    {
     "name": "stdout",
     "output_type": "stream",
     "text": [
      "['cellular component organization or biogenesis', 'mitotic spindle midzone assembly', 'enone reductase activity', 'DH domain binding', 'heparin biosynthetic process', 'cellobiose dehydrogenase (acceptor) activity', 'intrinsic component of postsynaptic membrane', 'positive regulation of natural killer cell activation', 'hexuronate transmembrane transport', 'interleukin-11-mediated signaling pathway', 'D-leucyl-tRNA(Leu) deacylase activity', 'hemoglobin complex', 'N-box binding', 'snRNA transcription by RNA polymerase III', 'protein poly-ADP-ribosylation', 'transcription coactivator binding', 'volume-sensitive chloride channel activity', 'negative regulation of sister chromatid cohesion', 'phosphatidylinositol 3-kinase complex, class III', '2,4-diaminopentanoate dehydrogenase activity', 'regulation of telomere maintenance', 'regulation of cardiac muscle cell action potential involved in regulation of contraction', 'neural tube development', 'spliceosomal conformational changes to generate catalytic conformation', 'uropod organization', 'host cell late endosome', 'pyranose oxidase activity', 'negative regulation of cellular hyperosmotic salinity response by negative regulation of transcription from RNA polymerase II promoter', 'regulation of gliotoxin biosynthetic process', 'negative regulation of hh target transcription factor activity', 'nucleotide-sugar transmembrane transporter activity', 'regulation of reactive oxygen species biosynthetic process', 'phospholipase inhibitor activity', 'myeloid dendritic cell differentiation', 'establishment of bipolar cell polarity', 'regulation of extent of heterochromatin assembly', 'telomeric repeat-containing RNA transcription', 'BBSome', 'gap junction channel activity', 'cell cortex of growing cell tip', 'integral component of cytoplasmic side of endoplasmic reticulum membrane', 'nephron development', 'social behavior', 'mitotic spindle elongation', 'AMPA glutamate receptor activity', 'cellular response to external biotic stimulus', 'tachykinin receptor activity', 'galactosylxylosylprotein 3-beta-galactosyltransferase activity', 'feeding behavior', 'response to chemokine']\n",
      "GO:0005575\tlevel-00\tdepth-00\tcellular_component [cellular_component]\n",
      "returned terms\n",
      "[[  38  554 1710  598 2112  544 2113  421  431  139 1870 1443  215  682\n",
      "   298 1114 1322 1348 1084  312 1777 1189 1105 3170 1441 3687 1407 1426\n",
      "  1695 3120 5045 3819 4771 1954 1107 1579 1696  739 3182 2653  756  782\n",
      "   374 1468 2234 1867  882 4684 1955 3686]]\n"
     ]
    },
    {
     "data": {
      "image/png": "[encoded data removed]",
      "text/plain": [
       "<Figure size 432x288 with 1 Axes>"
      ]
     },
     "metadata": {
      "needs_background": "light"
     },
     "output_type": "display_data"
    },
    {
     "name": "stdout",
     "output_type": "stream",
     "text": [
      "['cellular_component', 'protein processing', 'L-methionine salvage from methylthioadenosine', 'leucine metabolic process', 'energy coupled proton transmembrane transport, against electrochemical gradient', 'threonine metabolic process', 'electron transport coupled proton transport', 'amino acid binding', 'monosaccharide binding', 'heterocycle metabolic process', 'cellular iron ion homeostasis', 'cellular response to starvation', 'peptidase activity, acting on L-amino acid peptides', 'DNA-(apurinic or apyrimidinic site) endonuclease activity', 'mismatched DNA binding', 'C-acetyltransferase activity', 'sulfur compound catabolic process', 'cofactor transport', 'phosphotransferase activity, paired acceptors', 'cobalamin binding', 'aldehyde biosynthetic process', 'ammonia ligase activity', 'nucleoside salvage', 'outer membrane', 'transition metal ion transport', 'biotin metabolic process', 'diaminopimelate metabolic process', 'sugar-phosphatase activity', 'racemase activity, acting on amino acids and derivatives', 'exopolyphosphatase activity', 'regulation of intracellular pH', 'arsenate reductase activity', 'negative regulation of programmed cell death', 'queuosine metabolic process', 'purine-containing compound salvage', 'cytochrome-c oxidase activity', 'amino-acid racemase activity', 'oxidoreductase activity, acting on the CH-OH group of donors, quinone or similar compound as acceptor', 'symbiotic process', 'trehalose metabolic process', 'ATP synthesis coupled electron transport', 'phosphorelay signal transduction system', 'carbohydrate derivative binding', 'monocarboxylic acid transport', 'serine family amino acid metabolic process', 'iron ion homeostasis', 'organic acid metabolic process', 'interaction with host', 'ribonucleoside biosynthetic process', 'biotin biosynthetic process']\n",
      "GO:0005789\tlevel-04\tdepth-04\tendoplasmic reticulum membrane [cellular_component]\n",
      "returned terms\n",
      "[[ 9822  7458  6512  6143  7544  8259  6773  6153  8132  6606  6764  7776\n",
      "   7456  6961  7801  7083  6861  6594  7345  6981  8044  4388  7101  7669\n",
      "   6142  6763  6317  7779  7209  7994  8256  6609  6191  9382  6318  7800\n",
      "   7397  7642  6234  6640  7673  7674  7819 10378  6738  5693  6762  6669\n",
      "   7951 14212]]\n"
     ]
    },
    {
     "data": {
      "image/png": "[encoded data removed]",
      "text/plain": [
       "<Figure size 432x288 with 1 Axes>"
      ]
     },
     "metadata": {
      "needs_background": "light"
     },
     "output_type": "display_data"
    },
    {
     "name": "stdout",
     "output_type": "stream",
     "text": [
      "['endoplasmic reticulum membrane', 'peptidyl-proline 4-dioxygenase activity', 'fatty acid alpha-oxidation', 'glycerophosphoinositol glycerophosphodiesterase activity', 'symbiont-containing vacuole', 'cellular response to calcium ion', 'uridine metabolic process', \"bis(5'-adenosyl)-triphosphatase activity\", 'regulation of neurotransmitter secretion', 'inorganic cation import across plasma membrane', 'cellular response to nitrogen starvation', 'organellar large ribosomal subunit', 'procollagen-proline dioxygenase activity', 'galactose oxidase activity', 'type V protein secretion system complex', 'multicellular organism development', 'negative regulation of cellular response to drug', 'sterol import', 'deoxycytidine kinase activity', 'filamentous growth', 'cysteine-type endopeptidase inhibitor activity', 'D-serine biosynthetic process', 'phosphatidylinositol phosphate 5-phosphatase activity', 'plastid envelope', 'phenylpyruvate tautomerase activity', 'cellular response to nitrogen levels', 'regulation of cell killing', 'vitamin E metabolic process', 'cyclosporin A binding', 'pheromone activity', 'ubiquinone biosynthetic process from chorismate', 'regulation of ligase activity', 'UDP-xylosyltransferase activity', 'protein localization to nucleus', 'negative regulation of cell killing', 'protein secretion by the type V secretion system', 'mannosyl-inositol phosphorylceramide metabolic process', 'response to symbiont', 'semaphorin receptor activity', 'termination of RNA polymerase I transcription', 'photoinhibition', 'cellular protein catabolic process', 'myristoyltransferase activity', \"m7G(5')pppN diphosphatase activity\", 'regulation of trehalose metabolic process', '4-hydroxybenzoate nonaprenyltransferase activity', 'response to anoxia', 'regulation of glucose transmembrane transport', 'negative regulation of DNA-templated transcription, termination', 'regulation of spindle assembly']\n",
      "GO:0022414\tlevel-01\tdepth-01\treproductive process [biological_process]\n",
      "returned terms\n",
      "[[ 384 2132 4778 1805 1806 3723 2680 3320 4942 3820 3821 3743 4866 2710\n",
      "  3386 3539 5179 2906 5021 1053 4776 1527 1080 5053 1877 3286 1834 1267\n",
      "  3552 4779 3304 2390 4752 2387 4842 3389  562 3901  745 4106 3656 4607\n",
      "  1249 2984 5967 3288 3499 4263 5029 1122]]\n"
     ]
    },
    {
     "data": {
      "image/png": "[encoded data removed]",
      "text/plain": [
       "<Figure size 432x288 with 1 Axes>"
      ]
     },
     "metadata": {
      "needs_background": "light"
     },
     "output_type": "display_data"
    },
    {
     "name": "stdout",
     "output_type": "stream",
     "text": [
      "['reproductive process', 'maintenance of location in cell', 'fatty alcohol metabolic process', 'ceramide metabolic process', 'imidazoleglycerol-phosphate synthase activity', 'diaminobutyrate-2-oxoglutarate transaminase activity', 'linear malto-oligosaccharide phosphorylase activity', 'copper ion transmembrane transport', 'glycine oxidase activity', 'oxidoreductase activity, acting on phosphorus or arsenic in donors, disulfide as acceptor', 'arsenate reductase (glutaredoxin) activity', 'carbamoyl-phosphate synthase (ammonia) activity', 'copper ion export', 'malate synthase activity', 'starch binding', '6-carboxy-5,6,7,8-tetrahydropterin synthase activity', 'oxidoreductase activity, acting on the aldehyde or oxo group of donors, with a quinone or similar compound as acceptor', 'L-isoleucine transaminase activity', 'short-chain carboxylesterase activity', 'hydroxymethylglutaryl-CoA reductase (NADPH) activity', 'phytol metabolic process', 'aspartate oxidase activity', 'phosphopyruvate hydratase activity', 'cytochrome o ubiquinol oxidase complex', 'indole-3-glycerol-phosphate synthase activity', 'fatty-acyl-CoA binding', 'amidophosphoribosyltransferase activity', 'pyruvate kinase activity', 'glycerol-3-phosphate biosynthetic process', 'melanin biosynthetic process', 'glycerol-3-phosphate dehydrogenase [NAD+] activity', 'shikimate kinase activity', 'cellular copper ion homeostasis', '3-phosphoshikimate 1-carboxyvinyltransferase activity', 'UDP-2,3-diacylglucosamine hydrolase activity', 'glycosaminoglycan binding', 'glycolytic process through fructose-6-phosphate', 'histidine phosphotransfer kinase activity', 'sn-glycerol-3-phosphate:ubiquinone-8 oxidoreductase activity', 'UDP-N-acetylmuramoylalanyl-D-glutamate-2,6-diaminopimelate ligase activity', 'methylmalonyl-CoA decarboxylase activity', 'fumarate reductase complex', 'heme o metabolic process', '5-(carboxyamino)imidazole ribonucleotide synthase activity', 'ATPase-coupled glycerol-3-phosphate transmembrane transporter activity', 'fatty acid derivative binding', 'membrane lipid metabolic process', '1,4-alpha-glucan branching enzyme activity (using a glucosylated glycogenin as primer for glycogen synthesis)', 'regulation of proteasomal protein catabolic process', 'sirohydrochlorin cobaltochelatase activity']\n"
     ]
    }
   ],
   "source": [
    "import random\n",
    "\n",
    "\n",
    "#print( get_ancestors( [ id2GO(g) for g in godict['479378']], obo) )\n",
    "\n",
    "\n",
    "for i in range(govecs['479378'].shape[0]):\n",
    "    print( obo[goa.id2goterm( godict['479378'][i] )])\n",
    "    dist, ind = tree.query( govecs['479378'][i] , k=50)    \n",
    "    print('returned terms')\n",
    "    #print(obo[list(godict['HOG:0479378'])[i]].name)\n",
    "    print(ind)\n",
    "    plt.hist(dist.ravel())\n",
    "    plt.show()\n",
    "    print([ obo[ id2GO(int(reverse_index[Id]))].name for Id in list(ind[0]) if  id2GO(int(reverse_index[Id])) in obo]  )\n",
    "\n",
    "    "
   ]
  },
  {
   "cell_type": "code",
   "execution_count": 72,
   "metadata": {},
   "outputs": [],
   "source": [
    "#free up the gpu\n",
    "del embedder"
   ]
  },
  {
   "cell_type": "code",
   "execution_count": 33,
   "metadata": {},
   "outputs": [
    {
     "name": "stdout",
     "output_type": "stream",
     "text": [
      "2290\n",
      "159.10817542394003\n"
     ]
    },
    {
     "data": {
      "image/png": "[encoded data removed]",
      "text/plain": [
       "<Figure size 432x288 with 1 Axes>"
      ]
     },
     "metadata": {
      "needs_background": "light"
     },
     "output_type": "display_data"
    }
   ],
   "source": [
    "#create a normalized taxonomy embedding for a species aware classifier\n",
    "print( len ( [ l for l in p.tree.get_leaves() ]))\n",
    "import time\n",
    "leaves = [ l for l in p.tree.get_leaves() ]\n",
    "import random\n",
    "\n",
    "times =[]\n",
    "for i in range(100):\n",
    "    t = time.time()\n",
    "    p.tree.get_distance(random.choice(leaves).name,random.choice(leaves).name, topology_only=True)\n",
    "    times.append(time.time()-t)\n",
    "plt.hist(times)\n",
    "print( np.mean(times)*(2290**2 / 2 - 2290) / 60 )\n",
    "\n"
   ]
  },
  {
   "cell_type": "code",
   "execution_count": 34,
   "metadata": {},
   "outputs": [
    {
     "name": "stderr",
     "output_type": "stream",
     "text": [
      "Process ForkPoolWorker-5:\n",
      "Process ForkPoolWorker-4:\n",
      "Process ForkPoolWorker-3:\n",
      "Process ForkPoolWorker-6:\n",
      "Process ForkPoolWorker-8:\n",
      "Process ForkPoolWorker-7:\n",
      "Process ForkPoolWorker-2:\n",
      "Process ForkPoolWorker-1:\n",
      "Traceback (most recent call last):\n",
      "Traceback (most recent call last):\n",
      "Traceback (most recent call last):\n",
      "Traceback (most recent call last):\n",
      "Traceback (most recent call last):\n",
      "Traceback (most recent call last):\n",
      "Traceback (most recent call last):\n",
      "  File \"/home/cactuskid13/miniconda3/envs/pyprofiler3/lib/python3.7/multiprocessing/process.py\", line 297, in _bootstrap\n",
      "    self.run()\n",
      "  File \"/home/cactuskid13/miniconda3/envs/pyprofiler3/lib/python3.7/multiprocessing/process.py\", line 297, in _bootstrap\n",
      "    self.run()\n",
      "  File \"/home/cactuskid13/miniconda3/envs/pyprofiler3/lib/python3.7/multiprocessing/process.py\", line 297, in _bootstrap\n",
      "    self.run()\n",
      "  File \"/home/cactuskid13/miniconda3/envs/pyprofiler3/lib/python3.7/multiprocessing/process.py\", line 297, in _bootstrap\n",
      "    self.run()\n",
      "  File \"/home/cactuskid13/miniconda3/envs/pyprofiler3/lib/python3.7/multiprocessing/process.py\", line 297, in _bootstrap\n",
      "    self.run()\n",
      "  File \"/home/cactuskid13/miniconda3/envs/pyprofiler3/lib/python3.7/multiprocessing/process.py\", line 297, in _bootstrap\n",
      "    self.run()\n",
      "  File \"/home/cactuskid13/miniconda3/envs/pyprofiler3/lib/python3.7/multiprocessing/process.py\", line 99, in run\n",
      "    self._target(*self._args, **self._kwargs)\n",
      "  File \"/home/cactuskid13/miniconda3/envs/pyprofiler3/lib/python3.7/multiprocessing/process.py\", line 99, in run\n",
      "    self._target(*self._args, **self._kwargs)\n",
      "  File \"/home/cactuskid13/miniconda3/envs/pyprofiler3/lib/python3.7/multiprocessing/process.py\", line 297, in _bootstrap\n",
      "    self.run()\n",
      "  File \"/home/cactuskid13/miniconda3/envs/pyprofiler3/lib/python3.7/multiprocessing/process.py\", line 99, in run\n",
      "    self._target(*self._args, **self._kwargs)\n",
      "  File \"/home/cactuskid13/miniconda3/envs/pyprofiler3/lib/python3.7/multiprocessing/process.py\", line 99, in run\n",
      "    self._target(*self._args, **self._kwargs)\n",
      "  File \"/home/cactuskid13/miniconda3/envs/pyprofiler3/lib/python3.7/multiprocessing/process.py\", line 99, in run\n",
      "    self._target(*self._args, **self._kwargs)\n",
      "  File \"/home/cactuskid13/miniconda3/envs/pyprofiler3/lib/python3.7/multiprocessing/process.py\", line 99, in run\n",
      "    self._target(*self._args, **self._kwargs)\n",
      "  File \"/home/cactuskid13/miniconda3/envs/pyprofiler3/lib/python3.7/multiprocessing/pool.py\", line 110, in worker\n",
      "    task = get()\n",
      "  File \"/home/cactuskid13/miniconda3/envs/pyprofiler3/lib/python3.7/multiprocessing/process.py\", line 99, in run\n",
      "    self._target(*self._args, **self._kwargs)\n",
      "  File \"/home/cactuskid13/miniconda3/envs/pyprofiler3/lib/python3.7/multiprocessing/pool.py\", line 110, in worker\n",
      "    task = get()\n",
      "  File \"/home/cactuskid13/miniconda3/envs/pyprofiler3/lib/python3.7/multiprocessing/pool.py\", line 110, in worker\n",
      "    task = get()\n",
      "  File \"/home/cactuskid13/miniconda3/envs/pyprofiler3/lib/python3.7/multiprocessing/pool.py\", line 110, in worker\n",
      "    task = get()\n",
      "  File \"/home/cactuskid13/miniconda3/envs/pyprofiler3/lib/python3.7/multiprocessing/pool.py\", line 110, in worker\n",
      "    task = get()\n",
      "  File \"/home/cactuskid13/miniconda3/envs/pyprofiler3/lib/python3.7/multiprocessing/queues.py\", line 351, in get\n",
      "    with self._rlock:\n",
      "  File \"/home/cactuskid13/miniconda3/envs/pyprofiler3/lib/python3.7/multiprocessing/pool.py\", line 110, in worker\n",
      "    task = get()\n",
      "  File \"/home/cactuskid13/miniconda3/envs/pyprofiler3/lib/python3.7/multiprocessing/pool.py\", line 110, in worker\n",
      "    task = get()\n",
      "  File \"/home/cactuskid13/miniconda3/envs/pyprofiler3/lib/python3.7/multiprocessing/queues.py\", line 351, in get\n",
      "    with self._rlock:\n",
      "  File \"/home/cactuskid13/miniconda3/envs/pyprofiler3/lib/python3.7/multiprocessing/queues.py\", line 351, in get\n",
      "    with self._rlock:\n",
      "  File \"/home/cactuskid13/miniconda3/envs/pyprofiler3/lib/python3.7/multiprocessing/queues.py\", line 351, in get\n",
      "    with self._rlock:\n",
      "  File \"/home/cactuskid13/miniconda3/envs/pyprofiler3/lib/python3.7/multiprocessing/queues.py\", line 351, in get\n",
      "    with self._rlock:\n",
      "  File \"/home/cactuskid13/miniconda3/envs/pyprofiler3/lib/python3.7/multiprocessing/synchronize.py\", line 95, in __enter__\n",
      "    return self._semlock.__enter__()\n",
      "  File \"/home/cactuskid13/miniconda3/envs/pyprofiler3/lib/python3.7/multiprocessing/queues.py\", line 351, in get\n",
      "    with self._rlock:\n",
      "  File \"/home/cactuskid13/miniconda3/envs/pyprofiler3/lib/python3.7/multiprocessing/queues.py\", line 351, in get\n",
      "    with self._rlock:\n",
      "  File \"/home/cactuskid13/miniconda3/envs/pyprofiler3/lib/python3.7/multiprocessing/synchronize.py\", line 95, in __enter__\n",
      "    return self._semlock.__enter__()\n",
      "  File \"/home/cactuskid13/miniconda3/envs/pyprofiler3/lib/python3.7/multiprocessing/synchronize.py\", line 95, in __enter__\n",
      "    return self._semlock.__enter__()\n",
      "  File \"/home/cactuskid13/miniconda3/envs/pyprofiler3/lib/python3.7/multiprocessing/synchronize.py\", line 95, in __enter__\n",
      "    return self._semlock.__enter__()\n",
      "  File \"/home/cactuskid13/miniconda3/envs/pyprofiler3/lib/python3.7/multiprocessing/synchronize.py\", line 95, in __enter__\n",
      "    return self._semlock.__enter__()\n",
      "  File \"/home/cactuskid13/miniconda3/envs/pyprofiler3/lib/python3.7/multiprocessing/synchronize.py\", line 95, in __enter__\n",
      "    return self._semlock.__enter__()\n",
      "KeyboardInterrupt\n",
      "  File \"/home/cactuskid13/miniconda3/envs/pyprofiler3/lib/python3.7/multiprocessing/synchronize.py\", line 95, in __enter__\n",
      "    return self._semlock.__enter__()\n",
      "KeyboardInterrupt\n",
      "KeyboardInterrupt\n",
      "KeyboardInterrupt\n",
      "KeyboardInterrupt\n",
      "KeyboardInterrupt\n",
      "KeyboardInterrupt\n",
      "Traceback (most recent call last):\n",
      "  File \"/home/cactuskid13/miniconda3/envs/pyprofiler3/lib/python3.7/multiprocessing/process.py\", line 297, in _bootstrap\n",
      "    self.run()\n",
      "  File \"/home/cactuskid13/miniconda3/envs/pyprofiler3/lib/python3.7/multiprocessing/process.py\", line 99, in run\n",
      "    self._target(*self._args, **self._kwargs)\n",
      "  File \"/home/cactuskid13/miniconda3/envs/pyprofiler3/lib/python3.7/multiprocessing/pool.py\", line 110, in worker\n",
      "    task = get()\n",
      "  File \"/home/cactuskid13/miniconda3/envs/pyprofiler3/lib/python3.7/multiprocessing/queues.py\", line 352, in get\n",
      "    res = self._reader.recv_bytes()\n"
     ]
    },
    {
     "ename": "KeyboardInterrupt",
     "evalue": "",
     "output_type": "error",
     "traceback": [
      "\u001b[0;31m--------------------------------------------------------------------\u001b[0m",
      "\u001b[0;31mKeyboardInterrupt\u001b[0m                  Traceback (most recent call last)",
      "\u001b[0;32m<ipython-input-34-0ced3f1c2a49>\u001b[0m in \u001b[0;36m<module>\u001b[0;34m\u001b[0m\n\u001b[1;32m      3\u001b[0m \u001b[0;34m\u001b[0m\u001b[0m\n\u001b[1;32m      4\u001b[0m \u001b[0mpool\u001b[0m \u001b[0;34m=\u001b[0m \u001b[0mmp\u001b[0m\u001b[0;34m.\u001b[0m\u001b[0mPool\u001b[0m\u001b[0;34m(\u001b[0m\u001b[0;34m)\u001b[0m\u001b[0;34m\u001b[0m\u001b[0;34m\u001b[0m\u001b[0m\n\u001b[0;32m----> 5\u001b[0;31m \u001b[0mdistances\u001b[0m \u001b[0;34m=\u001b[0m \u001b[0;34m[\u001b[0m \u001b[0;34m(\u001b[0m\u001b[0ml1\u001b[0m\u001b[0;34m.\u001b[0m\u001b[0mname\u001b[0m\u001b[0;34m,\u001b[0m\u001b[0ml2\u001b[0m\u001b[0;34m.\u001b[0m\u001b[0mname\u001b[0m \u001b[0;34m)\u001b[0m \u001b[0;32mfor\u001b[0m \u001b[0mi\u001b[0m\u001b[0;34m,\u001b[0m\u001b[0ml1\u001b[0m \u001b[0;32min\u001b[0m \u001b[0menumerate\u001b[0m\u001b[0;34m(\u001b[0m\u001b[0mp\u001b[0m\u001b[0;34m.\u001b[0m\u001b[0mtree\u001b[0m\u001b[0;34m.\u001b[0m\u001b[0mget_leaves\u001b[0m\u001b[0;34m(\u001b[0m\u001b[0;34m)\u001b[0m\u001b[0;34m)\u001b[0m \u001b[0;32mfor\u001b[0m \u001b[0mj\u001b[0m\u001b[0;34m,\u001b[0m\u001b[0ml2\u001b[0m \u001b[0;32min\u001b[0m \u001b[0menumerate\u001b[0m\u001b[0;34m(\u001b[0m\u001b[0mp\u001b[0m\u001b[0;34m.\u001b[0m\u001b[0mtree\u001b[0m\u001b[0;34m.\u001b[0m\u001b[0mget_leaves\u001b[0m\u001b[0;34m(\u001b[0m\u001b[0;34m)\u001b[0m\u001b[0;34m)\u001b[0m \u001b[0;32mif\u001b[0m \u001b[0mi\u001b[0m \u001b[0;34m<\u001b[0m \u001b[0mj\u001b[0m  \u001b[0;34m]\u001b[0m\u001b[0;34m\u001b[0m\u001b[0;34m\u001b[0m\u001b[0m\n\u001b[0m\u001b[1;32m      6\u001b[0m \u001b[0mindices\u001b[0m \u001b[0;34m=\u001b[0m \u001b[0;34m[\u001b[0m \u001b[0;34m(\u001b[0m\u001b[0mi\u001b[0m\u001b[0;34m,\u001b[0m\u001b[0mj\u001b[0m \u001b[0;34m)\u001b[0m   \u001b[0;32mfor\u001b[0m \u001b[0mi\u001b[0m\u001b[0;34m,\u001b[0m\u001b[0ml1\u001b[0m \u001b[0;32min\u001b[0m \u001b[0menumerate\u001b[0m\u001b[0;34m(\u001b[0m\u001b[0mp\u001b[0m\u001b[0;34m.\u001b[0m\u001b[0mtree\u001b[0m\u001b[0;34m.\u001b[0m\u001b[0mget_leaves\u001b[0m\u001b[0;34m(\u001b[0m\u001b[0;34m)\u001b[0m\u001b[0;34m)\u001b[0m \u001b[0;32mfor\u001b[0m \u001b[0mj\u001b[0m\u001b[0;34m,\u001b[0m\u001b[0ml2\u001b[0m \u001b[0;32min\u001b[0m \u001b[0menumerate\u001b[0m\u001b[0;34m(\u001b[0m\u001b[0mp\u001b[0m\u001b[0;34m.\u001b[0m\u001b[0mtree\u001b[0m\u001b[0;34m.\u001b[0m\u001b[0mget_leaves\u001b[0m\u001b[0;34m(\u001b[0m\u001b[0;34m)\u001b[0m\u001b[0;34m)\u001b[0m \u001b[0;32mif\u001b[0m \u001b[0mi\u001b[0m \u001b[0;34m<\u001b[0m \u001b[0mj\u001b[0m  \u001b[0;34m]\u001b[0m\u001b[0;34m\u001b[0m\u001b[0;34m\u001b[0m\u001b[0m\n\u001b[1;32m      7\u001b[0m \u001b[0;34m\u001b[0m\u001b[0m\n",
      "\u001b[0;32m<ipython-input-34-0ced3f1c2a49>\u001b[0m in \u001b[0;36m<listcomp>\u001b[0;34m(.0)\u001b[0m\n\u001b[1;32m      3\u001b[0m \u001b[0;34m\u001b[0m\u001b[0m\n\u001b[1;32m      4\u001b[0m \u001b[0mpool\u001b[0m \u001b[0;34m=\u001b[0m \u001b[0mmp\u001b[0m\u001b[0;34m.\u001b[0m\u001b[0mPool\u001b[0m\u001b[0;34m(\u001b[0m\u001b[0;34m)\u001b[0m\u001b[0;34m\u001b[0m\u001b[0;34m\u001b[0m\u001b[0m\n\u001b[0;32m----> 5\u001b[0;31m \u001b[0mdistances\u001b[0m \u001b[0;34m=\u001b[0m \u001b[0;34m[\u001b[0m \u001b[0;34m(\u001b[0m\u001b[0ml1\u001b[0m\u001b[0;34m.\u001b[0m\u001b[0mname\u001b[0m\u001b[0;34m,\u001b[0m\u001b[0ml2\u001b[0m\u001b[0;34m.\u001b[0m\u001b[0mname\u001b[0m \u001b[0;34m)\u001b[0m \u001b[0;32mfor\u001b[0m \u001b[0mi\u001b[0m\u001b[0;34m,\u001b[0m\u001b[0ml1\u001b[0m \u001b[0;32min\u001b[0m \u001b[0menumerate\u001b[0m\u001b[0;34m(\u001b[0m\u001b[0mp\u001b[0m\u001b[0;34m.\u001b[0m\u001b[0mtree\u001b[0m\u001b[0;34m.\u001b[0m\u001b[0mget_leaves\u001b[0m\u001b[0;34m(\u001b[0m\u001b[0;34m)\u001b[0m\u001b[0;34m)\u001b[0m \u001b[0;32mfor\u001b[0m \u001b[0mj\u001b[0m\u001b[0;34m,\u001b[0m\u001b[0ml2\u001b[0m \u001b[0;32min\u001b[0m \u001b[0menumerate\u001b[0m\u001b[0;34m(\u001b[0m\u001b[0mp\u001b[0m\u001b[0;34m.\u001b[0m\u001b[0mtree\u001b[0m\u001b[0;34m.\u001b[0m\u001b[0mget_leaves\u001b[0m\u001b[0;34m(\u001b[0m\u001b[0;34m)\u001b[0m\u001b[0;34m)\u001b[0m \u001b[0;32mif\u001b[0m \u001b[0mi\u001b[0m \u001b[0;34m<\u001b[0m \u001b[0mj\u001b[0m  \u001b[0;34m]\u001b[0m\u001b[0;34m\u001b[0m\u001b[0;34m\u001b[0m\u001b[0m\n\u001b[0m\u001b[1;32m      6\u001b[0m \u001b[0mindices\u001b[0m \u001b[0;34m=\u001b[0m \u001b[0;34m[\u001b[0m \u001b[0;34m(\u001b[0m\u001b[0mi\u001b[0m\u001b[0;34m,\u001b[0m\u001b[0mj\u001b[0m \u001b[0;34m)\u001b[0m   \u001b[0;32mfor\u001b[0m \u001b[0mi\u001b[0m\u001b[0;34m,\u001b[0m\u001b[0ml1\u001b[0m \u001b[0;32min\u001b[0m \u001b[0menumerate\u001b[0m\u001b[0;34m(\u001b[0m\u001b[0mp\u001b[0m\u001b[0;34m.\u001b[0m\u001b[0mtree\u001b[0m\u001b[0;34m.\u001b[0m\u001b[0mget_leaves\u001b[0m\u001b[0;34m(\u001b[0m\u001b[0;34m)\u001b[0m\u001b[0;34m)\u001b[0m \u001b[0;32mfor\u001b[0m \u001b[0mj\u001b[0m\u001b[0;34m,\u001b[0m\u001b[0ml2\u001b[0m \u001b[0;32min\u001b[0m \u001b[0menumerate\u001b[0m\u001b[0;34m(\u001b[0m\u001b[0mp\u001b[0m\u001b[0;34m.\u001b[0m\u001b[0mtree\u001b[0m\u001b[0;34m.\u001b[0m\u001b[0mget_leaves\u001b[0m\u001b[0;34m(\u001b[0m\u001b[0;34m)\u001b[0m\u001b[0;34m)\u001b[0m \u001b[0;32mif\u001b[0m \u001b[0mi\u001b[0m \u001b[0;34m<\u001b[0m \u001b[0mj\u001b[0m  \u001b[0;34m]\u001b[0m\u001b[0;34m\u001b[0m\u001b[0;34m\u001b[0m\u001b[0m\n\u001b[1;32m      7\u001b[0m \u001b[0;34m\u001b[0m\u001b[0m\n",
      "\u001b[0;32m~/.local/lib/python3.7/site-packages/ete3/coretype/tree.py\u001b[0m in \u001b[0;36mget_leaves\u001b[0;34m(self, is_leaf_fn)\u001b[0m\n\u001b[1;32m    618\u001b[0m           \u001b[0mdocumentation\u001b[0m\u001b[0;34m.\u001b[0m\u001b[0;34m\u001b[0m\u001b[0;34m\u001b[0m\u001b[0m\n\u001b[1;32m    619\u001b[0m         \"\"\"\n\u001b[0;32m--> 620\u001b[0;31m         \u001b[0;32mreturn\u001b[0m \u001b[0;34m[\u001b[0m\u001b[0mn\u001b[0m \u001b[0;32mfor\u001b[0m \u001b[0mn\u001b[0m \u001b[0;32min\u001b[0m \u001b[0mself\u001b[0m\u001b[0;34m.\u001b[0m\u001b[0miter_leaves\u001b[0m\u001b[0;34m(\u001b[0m\u001b[0mis_leaf_fn\u001b[0m\u001b[0;34m=\u001b[0m\u001b[0mis_leaf_fn\u001b[0m\u001b[0;34m)\u001b[0m\u001b[0;34m]\u001b[0m\u001b[0;34m\u001b[0m\u001b[0;34m\u001b[0m\u001b[0m\n\u001b[0m\u001b[1;32m    621\u001b[0m \u001b[0;34m\u001b[0m\u001b[0m\n\u001b[1;32m    622\u001b[0m     \u001b[0;32mdef\u001b[0m \u001b[0miter_leaf_names\u001b[0m\u001b[0;34m(\u001b[0m\u001b[0mself\u001b[0m\u001b[0;34m,\u001b[0m \u001b[0mis_leaf_fn\u001b[0m\u001b[0;34m=\u001b[0m\u001b[0;32mNone\u001b[0m\u001b[0;34m)\u001b[0m\u001b[0;34m:\u001b[0m\u001b[0;34m\u001b[0m\u001b[0;34m\u001b[0m\u001b[0m\n",
      "\u001b[0;32m~/.local/lib/python3.7/site-packages/ete3/coretype/tree.py\u001b[0m in \u001b[0;36m<listcomp>\u001b[0;34m(.0)\u001b[0m\n\u001b[1;32m    618\u001b[0m           \u001b[0mdocumentation\u001b[0m\u001b[0;34m.\u001b[0m\u001b[0;34m\u001b[0m\u001b[0;34m\u001b[0m\u001b[0m\n\u001b[1;32m    619\u001b[0m         \"\"\"\n\u001b[0;32m--> 620\u001b[0;31m         \u001b[0;32mreturn\u001b[0m \u001b[0;34m[\u001b[0m\u001b[0mn\u001b[0m \u001b[0;32mfor\u001b[0m \u001b[0mn\u001b[0m \u001b[0;32min\u001b[0m \u001b[0mself\u001b[0m\u001b[0;34m.\u001b[0m\u001b[0miter_leaves\u001b[0m\u001b[0;34m(\u001b[0m\u001b[0mis_leaf_fn\u001b[0m\u001b[0;34m=\u001b[0m\u001b[0mis_leaf_fn\u001b[0m\u001b[0;34m)\u001b[0m\u001b[0;34m]\u001b[0m\u001b[0;34m\u001b[0m\u001b[0;34m\u001b[0m\u001b[0m\n\u001b[0m\u001b[1;32m    621\u001b[0m \u001b[0;34m\u001b[0m\u001b[0m\n\u001b[1;32m    622\u001b[0m     \u001b[0;32mdef\u001b[0m \u001b[0miter_leaf_names\u001b[0m\u001b[0;34m(\u001b[0m\u001b[0mself\u001b[0m\u001b[0;34m,\u001b[0m \u001b[0mis_leaf_fn\u001b[0m\u001b[0;34m=\u001b[0m\u001b[0;32mNone\u001b[0m\u001b[0;34m)\u001b[0m\u001b[0;34m:\u001b[0m\u001b[0;34m\u001b[0m\u001b[0;34m\u001b[0m\u001b[0m\n",
      "\u001b[0;32m~/.local/lib/python3.7/site-packages/ete3/coretype/tree.py\u001b[0m in \u001b[0;36miter_leaves\u001b[0;34m(self, is_leaf_fn)\u001b[0m\n\u001b[1;32m    603\u001b[0m           \u001b[0mdocumentation\u001b[0m\u001b[0;34m.\u001b[0m\u001b[0;34m\u001b[0m\u001b[0;34m\u001b[0m\u001b[0m\n\u001b[1;32m    604\u001b[0m         \"\"\"\n\u001b[0;32m--> 605\u001b[0;31m         \u001b[0;32mfor\u001b[0m \u001b[0mn\u001b[0m \u001b[0;32min\u001b[0m \u001b[0mself\u001b[0m\u001b[0;34m.\u001b[0m\u001b[0mtraverse\u001b[0m\u001b[0;34m(\u001b[0m\u001b[0mstrategy\u001b[0m\u001b[0;34m=\u001b[0m\u001b[0;34m\"preorder\"\u001b[0m\u001b[0;34m,\u001b[0m \u001b[0mis_leaf_fn\u001b[0m\u001b[0;34m=\u001b[0m\u001b[0mis_leaf_fn\u001b[0m\u001b[0;34m)\u001b[0m\u001b[0;34m:\u001b[0m\u001b[0;34m\u001b[0m\u001b[0;34m\u001b[0m\u001b[0m\n\u001b[0m\u001b[1;32m    606\u001b[0m             \u001b[0;32mif\u001b[0m \u001b[0;32mnot\u001b[0m \u001b[0mis_leaf_fn\u001b[0m\u001b[0;34m:\u001b[0m\u001b[0;34m\u001b[0m\u001b[0;34m\u001b[0m\u001b[0m\n\u001b[1;32m    607\u001b[0m                 \u001b[0;32mif\u001b[0m \u001b[0mn\u001b[0m\u001b[0;34m.\u001b[0m\u001b[0mis_leaf\u001b[0m\u001b[0;34m(\u001b[0m\u001b[0;34m)\u001b[0m\u001b[0;34m:\u001b[0m\u001b[0;34m\u001b[0m\u001b[0;34m\u001b[0m\u001b[0m\n",
      "\u001b[0;32m~/.local/lib/python3.7/site-packages/ete3/coretype/tree.py\u001b[0m in \u001b[0;36m_iter_descendants_preorder\u001b[0;34m(self, is_leaf_fn)\u001b[0m\n\u001b[1;32m    756\u001b[0m             \u001b[0;32myield\u001b[0m \u001b[0mnode\u001b[0m\u001b[0;34m\u001b[0m\u001b[0;34m\u001b[0m\u001b[0m\n\u001b[1;32m    757\u001b[0m             \u001b[0;32mif\u001b[0m \u001b[0;32mnot\u001b[0m \u001b[0mis_leaf_fn\u001b[0m \u001b[0;32mor\u001b[0m \u001b[0;32mnot\u001b[0m \u001b[0mis_leaf_fn\u001b[0m\u001b[0;34m(\u001b[0m\u001b[0mnode\u001b[0m\u001b[0;34m)\u001b[0m\u001b[0;34m:\u001b[0m\u001b[0;34m\u001b[0m\u001b[0;34m\u001b[0m\u001b[0m\n\u001b[0;32m--> 758\u001b[0;31m                 \u001b[0mto_visit\u001b[0m\u001b[0;34m.\u001b[0m\u001b[0mextendleft\u001b[0m\u001b[0;34m(\u001b[0m\u001b[0mreversed\u001b[0m\u001b[0;34m(\u001b[0m\u001b[0mnode\u001b[0m\u001b[0;34m.\u001b[0m\u001b[0mchildren\u001b[0m\u001b[0;34m)\u001b[0m\u001b[0;34m)\u001b[0m\u001b[0;34m\u001b[0m\u001b[0;34m\u001b[0m\u001b[0m\n\u001b[0m\u001b[1;32m    759\u001b[0m             \u001b[0;32mtry\u001b[0m\u001b[0;34m:\u001b[0m\u001b[0;34m\u001b[0m\u001b[0;34m\u001b[0m\u001b[0m\n\u001b[1;32m    760\u001b[0m                 \u001b[0mnode\u001b[0m \u001b[0;34m=\u001b[0m \u001b[0mto_visit\u001b[0m\u001b[0;34m.\u001b[0m\u001b[0mpopleft\u001b[0m\u001b[0;34m(\u001b[0m\u001b[0;34m)\u001b[0m\u001b[0;34m\u001b[0m\u001b[0;34m\u001b[0m\u001b[0m\n",
      "\u001b[0;31mKeyboardInterrupt\u001b[0m: "
     ]
    },
    {
     "name": "stderr",
     "output_type": "stream",
     "text": [
      "  File \"/home/cactuskid13/miniconda3/envs/pyprofiler3/lib/python3.7/multiprocessing/connection.py\", line 216, in recv_bytes\n",
      "    buf = self._recv_bytes(maxlength)\n",
      "  File \"/home/cactuskid13/miniconda3/envs/pyprofiler3/lib/python3.7/multiprocessing/connection.py\", line 407, in _recv_bytes\n",
      "    buf = self._recv(4)\n",
      "  File \"/home/cactuskid13/miniconda3/envs/pyprofiler3/lib/python3.7/multiprocessing/connection.py\", line 379, in _recv\n",
      "    chunk = read(handle, remaining)\n",
      "KeyboardInterrupt\n"
     ]
    }
   ],
   "source": [
    "\n",
    "import multiprocessing as mp\n",
    "from functools import partial\n",
    "\n",
    "pool = mp.Pool()\n",
    "distances = [ (l1.name,l2.name ) for i,l1 in enumerate(p.tree.get_leaves()) for j,l2 in enumerate(p.tree.get_leaves()) if i < j  ]\n",
    "indices = [ (i,j )   for i,l1 in enumerate(p.tree.get_leaves()) for j,l2 in enumerate(p.tree.get_leaves()) if i < j  ]\n",
    "\n",
    "def treedist( ltuple , tree):\n",
    "    return tree.get_distance( ltuple[0] , ltuple[1], topology_only = True)\n",
    "\n",
    "nleaves = len([ l for l in p.tree.get_leaves() ] )\n",
    "treedist_load = partial( treedist , tree= p.tree )\n",
    "res = pool.map_async(   treedist_load , distances ).get()\n",
    "\n",
    "del pool"
   ]
  },
  {
   "cell_type": "code",
   "execution_count": null,
   "metadata": {},
   "outputs": [],
   "source": [
    "taxmat = np.zeros( (nleaves, nleaves) )\n",
    "for i,index in enumerate(indices):\n",
    "    taxmat[index] = res[i]\n",
    "taxmat+=taxmat.T\n",
    "\n",
    "print(taxmat)\n",
    "plt.hist(taxmat.ravel())\n",
    "plt.show()\n",
    "with open( 'taxkernel.pkl' ,'wb')as taxkernelout:\n",
    "    taxkernelout.write(pickle.dumps(distances))\n",
    "#project down with mds"
   ]
  },
  {
   "cell_type": "code",
   "execution_count": null,
   "metadata": {},
   "outputs": [],
   "source": [
    "from sklearn.manifold import MDS\n",
    "#create taxonomy projection\n",
    "mds = MDS( n_components = 2 )\n",
    "taxembed = mds.fit_transform(taxmat)\n",
    "with open( 'taxproj.pkl' , 'wb') as taxprojout:\n",
    "    taxprojout.write( pickle.dumps(taxembed))"
   ]
  },
  {
   "cell_type": "code",
   "execution_count": 35,
   "metadata": {},
   "outputs": [
    {
     "data": {
      "image/png": "[encoded data removed]",
      "text/plain": [
       "<Figure size 432x288 with 1 Axes>"
      ]
     },
     "metadata": {
      "needs_background": "light"
     },
     "output_type": "display_data"
    }
   ],
   "source": [
    "with open( 'taxproj.pkl' , 'rb' ) as taxprojin :\n",
    "    taxembed = pickle.loads( taxprojin.read())\n",
    "    \n",
    "#use the profiler trimmed ncbi tree to generate an index \n",
    "taxindex = {int( n.name ) : i for i,n in enumerate( p.tree.get_leaves() ) }\n",
    "\n",
    "plt.scatter( taxembed[:,0], taxembed[:,1]  )\n",
    "#where is arabidopsis\n",
    "plt.scatter( taxembed[taxindex[3702],0] , taxembed[taxindex[3702],1])\n",
    "#where is human\n",
    "plt.scatter( taxembed[taxindex[9606],0] , taxembed[taxindex[9606],1])\n",
    "#where is chimp\n",
    "plt.scatter( taxembed[taxindex[9606],0] , taxembed[taxindex[9598],1])\n",
    "plt.show()\n",
    "#ok... this more or less works\n"
   ]
  },
  {
   "cell_type": "code",
   "execution_count": 36,
   "metadata": {},
   "outputs": [
    {
     "data": {
      "image/png": "[encoded data removed]",
      "text/plain": [
       "<Figure size 432x288 with 1 Axes>"
      ]
     },
     "metadata": {
      "needs_background": "light"
     },
     "output_type": "display_data"
    }
   ],
   "source": [
    "from sklearn.preprocessing import RobustScaler , MinMaxScaler\n",
    "rs = MinMaxScaler()\n",
    "taxembedscaled = rs.fit_transform( taxembed )\n",
    "plt.scatter( taxembedscaled[:,0], taxembedscaled[:,1]  )\n",
    "plt.show()"
   ]
  },
  {
   "cell_type": "code",
   "execution_count": 37,
   "metadata": {},
   "outputs": [],
   "source": [
    "embedmat_scaled = rs.fit_transform( embedmat )"
   ]
  },
  {
   "cell_type": "code",
   "execution_count": 90,
   "metadata": {},
   "outputs": [],
   "source": [
    "from sklearn.cluster import AffinityPropagation\n",
    "def profiler_naive( qhog , p , gaf , c , nannot , hogs,  k = 10 , verbose = True , ignoreqhog = True ):\n",
    "    \n",
    "    #use jaccard and IC to weigh all returned GO terms\n",
    "    \n",
    "    res = p.hog_query(fam_id = qhog , k = k )\n",
    "    \n",
    "    if len(res) == 0 :\n",
    "        return None\n",
    "    \n",
    "    #grab entries from hogs\n",
    "    hashes =  p.pull_hashes(res+[qhog])\n",
    "    jaccards = { r:hashes[r].jaccard(hashes[qhog]) for r in res }\n",
    "    members =  { r : [m for m in hogs[int(r)] if m in gaf ] for r in res  }\n",
    "    godict = {  m + '_' + str(go) :{ 'fam':r , 'GO':go , 'Jaccard': jaccards[r] } for r in members for m in members[r] for go in get_ancestors( gaf[m] , obo )  }\n",
    "    godf = pd.DataFrame.from_dict( godict , orient = 'index')\n",
    "    ICs = { go:-np.log( c[go] / nannot ) for go in godf.GO.unique() if go in c }\n",
    "    ICs.update( { go:max(ICs.values()) for go in godf.GO.unique() if go not in ICs }  )\n",
    "    godf['IC'] = godf.GO.map(ICs)\n",
    "    if ignoreqhog == True:\n",
    "        godf = godf[ godf.fam != str(qhog) ]\n",
    "        godf = godf[ godf.fam != qhog ]\n",
    "    #calculate the jaccards relative to the query\n",
    "    godf['jaccard'] = godf.fam.map(jaccards)\n",
    "    #max jaccard * IC\n",
    "    preddict = { go:{'max_jaccard':godf[godf.GO == go].jaccard.max() , 'IC':ICs[go] , 'coverage' : len( godf[godf.GO == go ]) / len(godf)  } for go in godf.GO.unique() if go in ICs }\n",
    "    predDF = pd.DataFrame.from_dict( preddict , orient = 'index')\n",
    "    #awesome master super scoring function goes here\n",
    "    predDF['score'] =   (predDF.max_jaccard /  predDF.max_jaccard.max() )  * ( predDF.IC.min() /  predDF.IC ) * (predDF.coverage / predDF.coverage.max())\n",
    "    \n",
    "    #consequences be damned...\n",
    "    return predDF\n",
    "\n",
    "\n",
    "def embedding_kd_ap(qhog,  p, kdtree, embedmat , index , reverse_index , nannot, c , k  , nsuggestions , hogs , ignoreqhog = True):\n",
    "    \n",
    "    #use kdtree of go term embedding and profiler to grab suggestions\n",
    "    #centroids of annotation clusters of all hogs returned are used to suggest k terms each\n",
    "    #each cluster gets a jaccard score.\n",
    "    #each annotation suggested gets distance from centroid. jaccard and IC\n",
    "    res = p.hog_query(fam_id = qhog , k = k )\n",
    "    \n",
    "    if len(res) == 0 :\n",
    "        return None\n",
    "    #grab entries from hogs leaving qhog in there\n",
    "    members =  { r : [m for m in hogs[int(r)] if m in gaf ] for r in res  }\n",
    "    \n",
    "    godict = {  m + '_' + str(go) :{ 'fam':r , 'GO':go } for r in members for m in members[r] for go in get_ancestors( gaf[m] , obo )  }\n",
    "    godf = pd.DataFrame.from_dict( godict , orient = 'index')\n",
    "    \n",
    "    \n",
    "    if len(godict) == 0:\n",
    "        return None\n",
    "    \n",
    "    hashes =  p.pull_hashes(res + [qhog])\n",
    "    jaccards = { r:hashes[r].jaccard(hashes[qhog]) for r in members }\n",
    "    godf['jaccard'] = godf.fam.map(jaccards)\n",
    "    if ignoreqhog == True:\n",
    "        try:\n",
    "            godf = godf[ godf.fam != qhog ]\n",
    "            godf = godf[ godf.fam != str(qhog) ]\n",
    "        except:\n",
    "            return None\n",
    "    \n",
    "    \n",
    "    #get the terms in embedding space    \n",
    "    GO_embedding = [ index[go] for go in godf.GO.unique() if go in index]\n",
    "    terms = np.array( godf.GO.unique() )\n",
    "    #print(list( GO_embedding.values()))\n",
    "    #calculate the jaccards relative to the query\n",
    "    #AP into clusters\n",
    "    \n",
    "    \n",
    "    govecs = embedmat[GO_embedding,:]\n",
    "    af = AffinityPropagation().fit(np.vstack( govecs ) )\n",
    "    #take cluster centroids\n",
    "    #k suggestions per cluster centroid\n",
    "    suggestions ={}\n",
    "    for i,clustercenter in enumerate(af.cluster_centers_):\n",
    "        \n",
    "        subterms = terms[ np.where(af.labels_ == af.labels_[i] ) ]\n",
    "        subdf = godf[godf.GO.isin(subterms)]\n",
    "        \n",
    "        dis,idx = tree.query( clustercenter.reshape(1, -1) , k=nsuggestions)\n",
    "        #add distance to cluster center for suggestions\n",
    "        #add small delta in case dist = 0\n",
    "        \n",
    "        suggestions.update( { reverse_index[matrow] : { 'distance': dis[0][j] +  10**-3 , 'cluster':i, 'jaccard':0 , 'nterms':len(subdf)  }  for j,matrow in enumerate(list(idx[0])) } )\n",
    "    predDF = pd.DataFrame.from_dict(suggestions , orient = 'index')\n",
    "    #precomput a numpy array and set the series in one go.\n",
    "    jaccards = np.zeros( (len(predDF),1))\n",
    "    nterms = np.zeros( (len(predDF),1))\n",
    "    labels = np.array( predDF.cluster )\n",
    "\n",
    "    subdfs = []\n",
    "    \n",
    "    \n",
    "    for l in np.unique(af.labels_):\n",
    "        #each label corresponds to a set of annotations in coevolving profiles        \n",
    "        subterms = terms[ np.where(af.labels_ == l ) ]\n",
    "        subdf = godf[godf.GO.isin(subterms)]\n",
    "        jaccards[ np.where(labels == l ) ] = subdf.jaccard.max()\n",
    "        nterms[np.where(labels == l )] = len(subdf)\n",
    "        #mix in initial results\n",
    "        subPred = pd.DataFrame.from_dict( { term : { 'distance': 10**-3  , 'cluster':i, 'jaccard':subdf.jaccard.max() , 'nterms':len(subdf)  }  for  term in list(subterms) }  , orient = 'index' ) \n",
    "        subdfs.append(subPred)\n",
    "    \n",
    "    predDF.jaccard = jaccards\n",
    "    predDF.nterms = nterms\n",
    "    subs = pd.concat(  subdfs ) \n",
    "    predDF = pd.concat( [ predDF, subs ])\n",
    "    ICs = { go: -np.log( c[go] / nannot ) for go in predDF.index.unique() if go in c }\n",
    "    ICs.update( { go:max(ICs.values()) for go in predDF.index.unique() if go not in ICs }  )\n",
    "    \n",
    "    \n",
    "    predDF['IC'] = predDF.index.map(ICs)\n",
    "    \n",
    "    #awesome super scoring function goes here. maybe give the suggestions a bit less weight\n",
    "    #predictions farther from the centroid get less weight\n",
    "    #coev score influences the pred as well\n",
    "    \n",
    "    \n",
    "    predDF.distance = predDF.distance - predDF.distance.min() + 1.1  \n",
    "    predDF.distance = predDF.distance.map(lambda x : np.log(x))\n",
    " \n",
    "    predDF['score'] =  (predDF.jaccard / predDF.jaccard.max()) * (  predDF.IC.min() / predDF.IC ) * ( predDF.distance.min() / predDF.distance )   *  ( predDF.nterms / predDF.nterms.max() ) \n",
    "    #predDF['name'] = predDF.index.map(lambda go : obo[ id2GO(go)].name )\n",
    "    \n",
    "    predDF = predDF[~predDF.score.isna()]\n",
    "\n",
    "    #consequences be damned...\n",
    "    \n",
    "    return predDF\n",
    "\n",
    "\n"
   ]
  },
  {
   "cell_type": "code",
   "execution_count": 91,
   "metadata": {},
   "outputs": [],
   "source": [
    "from sklearn.metrics import roc_curve , precision_recall_curve\n",
    "from functools import partial\n",
    "import random\n",
    "\n",
    "nannot = sum(c.values())\n",
    "nsamples = 2000\n",
    "randoHogs =[ random.choice(list(hogs.keys())) for i in range( nsamples ) ]"
   ]
  },
  {
   "cell_type": "code",
   "execution_count": null,
   "metadata": {},
   "outputs": [
    {
     "name": "stdout",
     "output_type": "stream",
     "text": [
      "0\n",
      "0.004229307174682617\n",
      "100\n",
      "11.310845375061035\n",
      "200\n",
      "24.927695512771606\n",
      "300\n",
      "9.73534631729126\n",
      "400\n",
      "39.12387561798096\n",
      "500\n",
      "52.937161445617676\n",
      "600\n",
      "8.876962900161743\n",
      "700\n",
      "16.327547073364258\n",
      "800\n",
      "43.5253963470459\n",
      "900\n",
      "30.169965028762817\n",
      "1000\n",
      "13.269120216369629\n",
      "1100\n",
      "3.73168683052063\n",
      "1200\n",
      "45.207335472106934\n",
      "1300\n",
      "7.535656452178955\n",
      "1400\n",
      "9.899853944778442\n",
      "1500\n",
      "34.42212748527527\n",
      "1600\n",
      "35.55073165893555\n",
      "1700\n",
      "5.531958341598511\n",
      "1800\n",
      "12.701022148132324\n",
      "1900\n",
      "13.789937019348145\n"
     ]
    }
   ],
   "source": [
    "def prec_recall( randoHogs, profilerfun_partial , gaf , obo ):\n",
    "    dfs = []\n",
    "    t0 = time.time()\n",
    "    \n",
    "    for i,h in enumerate(randoHogs):\n",
    "        predDF = profilerfun_partial(h)\n",
    "        if i % 100 == 0 :\n",
    "            print(i)\n",
    "            print( time.time() -t0 )\n",
    "            t0 = time.time()\n",
    "        \n",
    "        if predDF is not None:\n",
    "            goset =  { go   for m in { m for m in hogs[int(h)]  if m in gaf } for go in get_ancestors( gaf[m] , obo )  }\n",
    "            remainder = goset.difference( set(predDF.index ))\n",
    "            remainderDF = pd.DataFrame.from_dict({ r : { c:0 for c in predDF.columns } for r in remainder} , orient = 'index')\n",
    "            predDF = pd.concat([remainderDF,predDF])\n",
    "            predDF['ytrue'] = predDF.index.map( lambda x : 1 if x in goset else 0 )\n",
    "            dfs.append(predDF)\n",
    "    \n",
    "    finaldf = pd.concat(dfs)\n",
    "    print(finaldf)\n",
    "    precision, recall, thresholds = precision_recall_curve(finaldf.ytrue, finaldf.score)\n",
    "    \n",
    "    plt.figure( figsize = (20,20))\n",
    "    plt.plot( recall , precision )\n",
    "    plt.show()\n",
    "    \n",
    "    fpr, tpr, thresholds = roc_curve( finaldf.ytrue, finaldf.score )\n",
    "    plt.figure( figsize = (20,20))\n",
    "    plt.plot(fpr, tpr)\n",
    "    plt.plot([0, 1], [0, 1], color='navy',  linestyle='--')\n",
    "    plt.show()\n",
    "    \n",
    "    plt.hist( finaldf.score[finaldf.ytrue == 1] , alpha = .5)\n",
    "    plt.hist( finaldf.score[finaldf.ytrue == 0] , alpha = .5)\n",
    "    plt.show()\n",
    "         \n",
    "    plt.hist( finaldf.score[finaldf.ytrue == 1] )\n",
    "    plt.show()\n",
    "    \n",
    "    return finaldf\n",
    "\n",
    "\n",
    "#profiler_naive_conf = partial(profiler_naive ,  p=p , gaf=gaf , c=c , nannot=nannot , hogs=hogs,  k = 20 , verbose = True , ignoreqhog = True  )\n",
    "embedder_profiler = partial(embedding_kd_ap ,  p=p , kdtree=tree, embedmat=embedmat , index=index , reverse_index=reverse_index , nannot=nannot, c=c , k=20  , nsuggestions=15 , hogs=hogs , ignoreqhog = True)\n",
    "#finaldf_naive = prec_recall( randoHogs , profiler_naive_conf , gaf , obo )\n",
    "finaldf_embedder = prec_recall( randoHogs , embedder_profiler , gaf , obo )\n",
    "\n"
   ]
  },
  {
   "cell_type": "code",
   "execution_count": null,
   "metadata": {},
   "outputs": [],
   "source": []
  },
  {
   "cell_type": "code",
   "execution_count": 43,
   "metadata": {},
   "outputs": [
    {
     "name": "stdout",
     "output_type": "stream",
     "text": [
      "0.47902028810965436\n",
      "0.18576953943146718\n"
     ]
    },
    {
     "name": "stderr",
     "output_type": "stream",
     "text": [
      "/home/cactuskid13/miniconda3/envs/pyprofiler3/lib/python3.7/site-packages/ipykernel_launcher.py:15: SettingWithCopyWarning: \n",
      "A value is trying to be set on a copy of a slice from a DataFrame\n",
      "\n",
      "See the caveats in the documentation: http://pandas.pydata.org/pandas-docs/stable/indexing.html#indexing-view-versus-copy\n",
      "  from ipykernel import kernelapp as app\n"
     ]
    },
    {
     "name": "stdout",
     "output_type": "stream",
     "text": [
      "0.32674061741079874\n",
      "0.1189688176116085\n"
     ]
    },
    {
     "name": "stderr",
     "output_type": "stream",
     "text": [
      "/home/cactuskid13/miniconda3/envs/pyprofiler3/lib/python3.7/site-packages/ipykernel_launcher.py:25: SettingWithCopyWarning: \n",
      "A value is trying to be set on a copy of a slice from a DataFrame\n",
      "\n",
      "See the caveats in the documentation: http://pandas.pydata.org/pandas-docs/stable/indexing.html#indexing-view-versus-copy\n"
     ]
    },
    {
     "data": {
      "image/png": "[encoded data removed]",
      "text/plain": [
       "<Figure size 432x288 with 1 Axes>"
      ]
     },
     "metadata": {
      "needs_background": "light"
     },
     "output_type": "display_data"
    },
    {
     "data": {
      "image/png": "[encoded data removed]",
      "text/plain": [
       "<Figure size 432x288 with 1 Axes>"
      ]
     },
     "metadata": {
      "needs_background": "light"
     },
     "output_type": "display_data"
    },
    {
     "data": {
      "image/png": "[encoded data removed]",
      "text/plain": [
       "<Figure size 432x288 with 1 Axes>"
      ]
     },
     "metadata": {
      "needs_background": "light"
     },
     "output_type": "display_data"
    },
    {
     "data": {
      "image/png": "[encoded data removed]",
      "text/plain": [
       "<Figure size 432x288 with 1 Axes>"
      ]
     },
     "metadata": {
      "needs_background": "light"
     },
     "output_type": "display_data"
    }
   ],
   "source": [
    "#todo. fit distribution to positive scores\n",
    "from scipy.stats import norm\n",
    "from scipy.stats import chi2\n",
    "\n",
    "\n",
    "\n",
    "#just model the stupid things as multivariat gaussians and get a pval for each pred\n",
    "filterfinal_naive = finaldf_naive[finaldf_naive.score > 0]\n",
    "filterfinal_naive =  filterfinal_naive[ filterfinal_naive.ytrue == 1 ]\n",
    "mean1 = filterfinal_naive.score.mean()\n",
    "std1 = filterfinal_naive.score.std()\n",
    "print(mean1)\n",
    "print(std1)\n",
    "finaldf_naive['proba_posi'] =  norm.cdf( finaldf_naive.score , loc=mean1, scale= std1 )\n",
    "finaldf_naive['proba_posi'][finaldf_naive.score == 0 ] = 0 \n",
    "\n",
    "filterfinal_naive = finaldf_naive[finaldf_naive.score > 0]\n",
    "filterfinal_naive =  filterfinal_naive[ filterfinal_naive.ytrue == 0  ]\n",
    "mean1 = filterfinal_naive.score.mean()\n",
    "std1 = filterfinal_naive.score.std()\n",
    "print(mean1)\n",
    "print(std1)\n",
    "\n",
    "finaldf_naive['proba_nega'] =  norm.cdf( finaldf_naive.score , loc=mean1, scale= std1 )\n",
    "finaldf_naive['proba_nega'][finaldf_naive.score == 0 ] = 0 \n",
    "\n",
    "finaldf_naive['likelihoodratio'] =  finaldf_naive.proba_posi / finaldf_naive.proba_nega\n",
    "\n",
    "finaldf_naive['likelihoodratio'] =  finaldf_naive['likelihoodratio'].map( lambda x :-2* np.log(x) if x > 0 else 0 )\n",
    "\n",
    "\n",
    "\n",
    "filterfinal_embedder= finaldf_embedder[finaldf_embedder.score > 0]\n",
    "filterfinal_embedder=filterfinal_embedder[ filterfinal_embedder.ytrue == 1  ]\n",
    "mean1 = filterfinal_embedder.score.mean()\n",
    "std1 = filterfinal_embedder.score.std()\n",
    "finaldf_embedder['proba_posi'] =  norm.cdf( finaldf_embedder.score , loc=mean1, scale= std1 )\n",
    "\n",
    "filterfinal_embedder= finaldf_embedder[finaldf_embedder.score > 0]\n",
    "filterfinal_embedder=filterfinal_embedder[ filterfinal_embedder.ytrue == 0  ]\n",
    "mean1 = filterfinal_embedder.score.mean()\n",
    "std1 = filterfinal_embedder.score.std()\n",
    "\n",
    "finaldf_embedder['proba_nega'] =  norm.cdf( finaldf_embedder.score , loc=mean1, scale= std1 )\n",
    "\n",
    "finaldf_embedder['likelihoodratio'] =  finaldf_embedder.proba_posi / finaldf_embedder.proba_nega\n",
    "\n",
    "finaldf_embedder['x2'] = chi2.cdf(finaldf_embedder['likelihoodratio'], 2 , loc=0, scale=1)\n",
    "\n",
    "\n",
    "finaldf_naive['likelihoodratio'] =  finaldf_naive['likelihoodratio'].map( lambda x : -2* np.log(x) if x > 0 else 0 )\n",
    "\n",
    "finaldf_naive['x2'] = chi2.cdf(finaldf_naive['likelihoodratio'], 2 , loc=0, scale=1)\n",
    "\n",
    "\n",
    "\n",
    "plt.hist( finaldf_embedder.score[finaldf_embedder.ytrue == 1] , alpha =.5 )\n",
    "plt.hist( finaldf_embedder.score[finaldf_embedder.ytrue == 0]  , alpha =.5)\n",
    "plt.show()\n",
    "\n",
    "plt.hist( finaldf_embedder.x2[finaldf_embedder.ytrue == 1] , alpha =.5 )\n",
    "plt.hist( finaldf_embedder.x2[finaldf_embedder.ytrue == 0]  , alpha =.5)\n",
    "plt.show()\n",
    "\n",
    "\n",
    "\n",
    "\n",
    "plt.hist( finaldf_naive.proba_posi[(finaldf_naive.ytrue == 1) & (finaldf_naive.score > 0) ] , alpha =.5 )\n",
    "plt.hist( finaldf_naive.proba_nega[(finaldf_naive.ytrue == 0 )& (finaldf_naive.score > 0 )]  , alpha =.5)\n",
    "plt.show()\n",
    "\n",
    "\n",
    "plt.hist( finaldf_naive.x2[(finaldf_naive.ytrue == 1) & (finaldf_naive.score > 0) ] , alpha =.5 )\n",
    "plt.hist( finaldf_naive.x2[(finaldf_naive.ytrue == 0 )& (finaldf_naive.score > 0 )]  , alpha =.5)\n",
    "plt.show()\n",
    "\n",
    "\n",
    "\n"
   ]
  },
  {
   "cell_type": "code",
   "execution_count": 44,
   "metadata": {},
   "outputs": [
    {
     "name": "stdout",
     "output_type": "stream",
     "text": [
      "         distance  cluster   jaccard  nterms         IC     score  ytrue  \\\n",
      "322      0.000000        0  0.000000     0.0   0.000000  0.000000      1   \n",
      "324      0.000000        0  0.000000     0.0   0.000000  0.000000      1   \n",
      "328      0.000000        0  0.000000     0.0   0.000000  0.000000      1   \n",
      "5615     0.000000        0  0.000000     0.0   0.000000  0.000000      1   \n",
      "5775     0.000000        0  0.000000     0.0   0.000000  0.000000      1   \n",
      "7039     0.000000        0  0.000000     0.0   0.000000  0.000000      1   \n",
      "9057     0.000000        0  0.000000     0.0   0.000000  0.000000      1   \n",
      "9405     0.000000        0  0.000000     0.0   0.000000  0.000000      1   \n",
      "19863    0.000000        0  0.000000     0.0   0.000000  0.000000      1   \n",
      "19865    0.000000        0  0.000000     0.0   0.000000  0.000000      1   \n",
      "31974    0.000000        0  0.000000     0.0   0.000000  0.000000      1   \n",
      "43233    0.000000        0  0.000000     0.0   0.000000  0.000000      1   \n",
      "44257    0.000000        0  0.000000     0.0   0.000000  0.000000      1   \n",
      "44265    0.000000        0  0.000000     0.0   0.000000  0.000000      1   \n",
      "44419    0.000000        0  0.000000     0.0   0.000000  0.000000      1   \n",
      "44877    0.000000        0  0.000000     0.0   0.000000  0.000000      1   \n",
      "51704    0.000000        0  0.000000     0.0   0.000000  0.000000      1   \n",
      "70013    0.000000        0  0.000000     0.0   0.000000  0.000000      1   \n",
      "26       1.168050       30  0.480469    29.0  11.603784  0.021816      0   \n",
      "104      1.557508       34  0.519531   177.0   9.503314  0.021601      0   \n",
      "154      1.439702        3  0.343750   159.0   9.146178  0.016066      0   \n",
      "185      0.393819       59  0.519531   427.0  11.962638  0.067867      0   \n",
      "196      0.406959       56  0.519531   488.0  14.948090  0.052559      0   \n",
      "217      1.475363       53  0.296875     2.0  10.640346  0.011638      0   \n",
      "272      1.480463       27  0.359375    97.0   8.956455  0.016679      0   \n",
      "406      1.491949       53  0.296875     2.0  13.320634  0.009193      0   \n",
      "737      0.712640        1  0.363281   199.0  10.829792  0.028968      0   \n",
      "794      1.449533       53  0.296875     2.0  10.308738  0.012227      0   \n",
      "906      1.606476       25  0.359375    72.0  11.199656  0.012292      0   \n",
      "908      1.443274       36  0.359375    11.0  12.117554  0.012646      0   \n",
      "...           ...      ...       ...     ...        ...       ...    ...   \n",
      "19439    0.095310       21  0.281250   469.0   8.710965  0.233002      0   \n",
      "34067    0.095310       21  0.281250   469.0  10.995973  0.184583      0   \n",
      "42995    0.095310       21  0.281250   469.0   8.174542  0.248292      0   \n",
      "44237    0.095310       21  0.281250   469.0   6.221141  0.326254      0   \n",
      "44238    0.095310       21  0.281250   469.0   5.846203  0.347178      0   \n",
      "44248    0.095310       21  0.281250   469.0   7.624050  0.266220      0   \n",
      "44260    0.095310       21  0.281250   469.0   8.379821  0.242210      0   \n",
      "51716    0.095310       21  0.281250   469.0  10.846950  0.187119      0   \n",
      "71702    0.095310       21  0.281250   469.0   6.803266  0.298338      0   \n",
      "8236     0.095310       21  0.250000    53.0   7.353537  0.245345      0   \n",
      "10035    0.095310       21  0.250000    53.0   9.137153  0.197453      0   \n",
      "19867    0.095310       21  0.250000    53.0   7.710998  0.233972      0   \n",
      "22829    0.095310       21  0.250000    53.0   9.659594  0.186773      0   \n",
      "42802    0.095310       21  0.250000    53.0   6.737496  0.267778      0   \n",
      "44128    0.095310       21  0.250000    53.0  15.094694  0.119523      0   \n",
      "45203    0.095310       21  0.250000    53.0  11.978842  0.150612      0   \n",
      "50789    0.095310       21  0.250000    53.0   7.628857  0.236491      0   \n",
      "50896    0.095310       21  0.250000    53.0   7.874069  0.229126      0   \n",
      "51704    0.095310       21  0.250000    53.0  10.843570  0.166380      0   \n",
      "1902679  0.095310       21  0.250000    53.0  10.543591  0.171114      0   \n",
      "1903827  0.095310       21  0.250000    53.0   9.996594  0.180477      0   \n",
      "55085    0.095310       21  0.152344    16.0   5.479694  0.200633      0   \n",
      "70011    0.095310       21  0.152344    16.0   6.836067  0.160825      0   \n",
      "1901265  0.095310       21  0.152344    16.0   5.220499  0.210594      0   \n",
      "6304     0.095310       21  0.226562    47.0   9.772711  0.167304      0   \n",
      "30554    0.095310       21  0.226562    47.0  10.098727  0.161903      0   \n",
      "46930    0.095310       21  0.226562    47.0   9.903493  0.165095      0   \n",
      "51234    0.095310       21  0.226562    47.0   9.566937  0.170903      0   \n",
      "61984    0.095310       21  0.226562    47.0  13.755546  0.118862      0   \n",
      "65007    0.095310       21  0.226562    47.0  18.039133  0.090637      0   \n",
      "\n",
      "         proba_posi  proba_nega  likelihoodratio        x2  \n",
      "322        0.015362    0.133394         0.115163  0.055955  \n",
      "324        0.015362    0.133394         0.115163  0.055955  \n",
      "328        0.015362    0.133394         0.115163  0.055955  \n",
      "5615       0.015362    0.133394         0.115163  0.055955  \n",
      "5775       0.015362    0.133394         0.115163  0.055955  \n",
      "7039       0.015362    0.133394         0.115163  0.055955  \n",
      "9057       0.015362    0.133394         0.115163  0.055955  \n",
      "9405       0.015362    0.133394         0.115163  0.055955  \n",
      "19863      0.015362    0.133394         0.115163  0.055955  \n",
      "19865      0.015362    0.133394         0.115163  0.055955  \n",
      "31974      0.015362    0.133394         0.115163  0.055955  \n",
      "43233      0.015362    0.133394         0.115163  0.055955  \n",
      "44257      0.015362    0.133394         0.115163  0.055955  \n",
      "44265      0.015362    0.133394         0.115163  0.055955  \n",
      "44419      0.015362    0.133394         0.115163  0.055955  \n",
      "44877      0.015362    0.133394         0.115163  0.055955  \n",
      "51704      0.015362    0.133394         0.115163  0.055955  \n",
      "70013      0.015362    0.133394         0.115163  0.055955  \n",
      "26         0.019697    0.162672         0.121083  0.058745  \n",
      "104        0.019649    0.162364         0.121021  0.058716  \n",
      "154        0.018464    0.154577         0.119447  0.057975  \n",
      "185        0.032319    0.237132         0.136291  0.065876  \n",
      "196        0.027535    0.210514         0.130798  0.063307  \n",
      "217        0.017560    0.148529         0.118225  0.057399  \n",
      "272        0.018592    0.155428         0.119619  0.058056  \n",
      "406        0.017077    0.145258         0.117564  0.057088  \n",
      "737        0.021327    0.173118         0.123194  0.059738  \n",
      "794        0.017678    0.149324         0.118386  0.057475  \n",
      "906        0.017691    0.149413         0.118404  0.057484  \n",
      "908        0.017762    0.149892         0.118501  0.057529  \n",
      "...             ...         ...              ...       ...  \n",
      "19439      0.138639    0.596926         0.232255  0.109638  \n",
      "34067      0.095153    0.485498         0.195992  0.093347  \n",
      "42995      0.154823    0.630952         0.245380  0.115462  \n",
      "44237      0.255736    0.784667         0.325916  0.150373  \n",
      "44238      0.287710    0.818539         0.351492  0.161169  \n",
      "44248      0.175329    0.669561         0.261856  0.122719  \n",
      "44260      0.148241    0.617522         0.240058  0.113105  \n",
      "51716      0.097147    0.491383         0.197701  0.094122  \n",
      "71702      0.216155    0.734212         0.294404  0.136880  \n",
      "8236       0.151610    0.624464         0.242785  0.114314  \n",
      "10035      0.105587    0.515367         0.204878  0.097367  \n",
      "19867      0.139630    0.599109         0.233062  0.109998  \n",
      "22829      0.096873    0.490580         0.197467  0.094016  \n",
      "42802      0.177189    0.672840         0.263345  0.123372  \n",
      "44128      0.053741    0.339085         0.158489  0.076186  \n",
      "45203      0.071285    0.407474         0.174944  0.083756  \n",
      "50789      0.142226    0.604765         0.235176  0.110938  \n",
      "50896      0.134726    0.588171         0.229060  0.108215  \n",
      "51704      0.081721    0.443426         0.184293  0.088029  \n",
      "1902679    0.085068    0.454325         0.187240  0.089371  \n",
      "1903827    0.091990    0.475976         0.193265  0.092110  \n",
      "55085      0.108289    0.522742         0.207155  0.098394  \n",
      "70011      0.077920    0.430690         0.180919  0.086488  \n",
      "1901265    0.117071    0.545779         0.214502  0.101700  \n",
      "6304       0.082366    0.445551         0.184863  0.088289  \n",
      "30554      0.078647    0.433158         0.181567  0.086784  \n",
      "46930      0.080829    0.440474         0.183505  0.087669  \n",
      "51234      0.084916    0.453838         0.187107  0.089311  \n",
      "61984      0.053410    0.337680         0.158167  0.076037  \n",
      "65007      0.040686    0.279929         0.145345  0.070095  \n",
      "\n",
      "[363001 rows x 11 columns]\n"
     ]
    }
   ],
   "source": [
    "print(finaldf_embedder)"
   ]
  },
  {
   "cell_type": "code",
   "execution_count": 45,
   "metadata": {},
   "outputs": [
    {
     "name": "stderr",
     "output_type": "stream",
     "text": [
      "/home/cactuskid13/miniconda3/envs/pyprofiler3/lib/python3.7/site-packages/ipykernel_launcher.py:1: SettingWithCopyWarning: \n",
      "A value is trying to be set on a copy of a slice from a DataFrame\n",
      "\n",
      "See the caveats in the documentation: http://pandas.pydata.org/pandas-docs/stable/indexing.html#indexing-view-versus-copy\n",
      "  \"\"\"Entry point for launching an IPython kernel.\n",
      "/home/cactuskid13/miniconda3/envs/pyprofiler3/lib/python3.7/site-packages/ipykernel_launcher.py:3: SettingWithCopyWarning: \n",
      "A value is trying to be set on a copy of a slice from a DataFrame\n",
      "\n",
      "See the caveats in the documentation: http://pandas.pydata.org/pandas-docs/stable/indexing.html#indexing-view-versus-copy\n",
      "  This is separate from the ipykernel package so we can avoid doing imports until\n"
     ]
    },
    {
     "data": {
      "image/png": "[encoded data removed]",
      "text/plain": [
       "<Figure size 720x720 with 1 Axes>"
      ]
     },
     "metadata": {
      "needs_background": "light"
     },
     "output_type": "display_data"
    },
    {
     "data": {
      "image/png": "[encoded data removed]",
      "text/plain": [
       "<Figure size 720x720 with 1 Axes>"
      ]
     },
     "metadata": {
      "needs_background": "light"
     },
     "output_type": "display_data"
    }
   ],
   "source": [
    "finaldf_naive.x2[finaldf_naive.score == 0 ] = 0\n",
    "\n",
    "finaldf_embedder.x2[finaldf_embedder.score == 0 ] = 0\n",
    "\n",
    "\n",
    "plt.figure( figsize = (10,10))\n",
    "precision, recall, thresholds = precision_recall_curve(finaldf_naive.ytrue, finaldf_naive.proba_posi)\n",
    "plt.plot(   recall , precision )\n",
    "\n",
    "precision, recall, thresholds = precision_recall_curve(finaldf_embedder.ytrue, finaldf_embedder.x2)\n",
    "plt.plot(   recall , precision )\n",
    "plt.show()\n",
    "\n",
    "\n",
    "plt.figure( figsize = (10,10))\n",
    "fpr, tpr, thresholds = roc_curve( finaldf_naive.ytrue, finaldf_naive.proba_posi )\n",
    "plt.plot(fpr ,tpr)\n",
    "fpr, tpr, thresholds = roc_curve( finaldf_embedder.ytrue, finaldf_embedder.x2 )\n",
    "plt.plot(fpr ,tpr)\n",
    "plt.plot([0, 1], [0, 1], color='navy',  linestyle='--')\n",
    "plt.show()\n",
    "\n"
   ]
  },
  {
   "cell_type": "code",
   "execution_count": 42,
   "metadata": {},
   "outputs": [
    {
     "name": "stdout",
     "output_type": "stream",
     "text": [
      "27235\n"
     ]
    }
   ],
   "source": [
    "print(len(targets.fam.unique()) )"
   ]
  },
  {
   "cell_type": "code",
   "execution_count": 128,
   "metadata": {},
   "outputs": [
    {
     "name": "stdout",
     "output_type": "stream",
     "text": [
      "              cafa_id      oma_id     fam species  taxcode\n",
      "57070    T37020001074  ARATH00006  472976   ARATH     3702\n",
      "69814    T37020003425  ARATH00010  483443   ARATH     3702\n",
      "70000    T37020007063  ARATH00011  483592   ARATH     3702\n",
      "3798     T37020007582  ARATH00013  182502   ARATH     3702\n",
      "3236     T37020015139  ARATH00015  177269   ARATH     3702\n",
      "82542    T37020009232  ARATH00020  684175   ARATH     3702\n",
      "57872    T37020012135  ARATH00021  473862   ARATH     3702\n",
      "67542    T37020007239  ARATH00025  481745   ARATH     3702\n",
      "61295    T37020002614  ARATH00029  476412   ARATH     3702\n",
      "4952     T37020005999  ARATH00033  187249   ARATH     3702\n",
      "54778    T37020011574  ARATH00039  470677   ARATH     3702\n",
      "56816    T37020005453  ARATH00043  472532   ARATH     3702\n",
      "2966     T37020004465  ARATH00048  175633   ARATH     3702\n",
      "5250     T37020001625  ARATH00049  188152   ARATH     3702\n",
      "67246    T37020001981  ARATH00050  481665   ARATH     3702\n",
      "83281    T37020002865  ARATH00051  685410   ARATH     3702\n",
      "6809     T37020000888  ARATH00052  192769   ARATH     3702\n",
      "1602     T37020002836  ARATH00060  166369   ARATH     3702\n",
      "8019     T37020001923  ARATH00061  196344   ARATH     3702\n",
      "5775     T37020011470  ARATH00065  189708   ARATH     3702\n",
      "2183     T37020006807  ARATH00066  171372   ARATH     3702\n",
      "429      T37020004559  ARATH00068  160617   ARATH     3702\n",
      "4386     T37020014451  ARATH00071  185691   ARATH     3702\n",
      "4387     T37020014452  ARATH00074  185691   ARATH     3702\n",
      "5903     T37020013861  ARATH00076  190229   ARATH     3702\n",
      "1499     T37020010045  ARATH00081  165355   ARATH     3702\n",
      "6476     T37020007519  ARATH00082  191941   ARATH     3702\n",
      "54476    T37020000017  ARATH00083  470541   ARATH     3702\n",
      "3367     T37020006627  ARATH00087  178455   ARATH     3702\n",
      "7616     T37020015264  ARATH00088  194840   ARATH     3702\n",
      "...               ...         ...     ...     ...      ...\n",
      "9322   T5592920001839  YEAST06309  249072   YEAST   559292\n",
      "54885  T5592920003407  YEAST06311  470677   YEAST   559292\n",
      "70959  T5592920003788  YEAST06312  484769   YEAST   559292\n",
      "80819  T5592920002284  YEAST06313  681538   YEAST   559292\n",
      "10603  T5592920002254  YEAST06314  296333   YEAST   559292\n",
      "58651  T5592920001973  YEAST06315  474443   YEAST   559292\n",
      "10219  T5592920006602  YEAST06318  293971   YEAST   559292\n",
      "9881   T5592920002902  YEAST06321  292344   YEAST   559292\n",
      "65141  T5592920004923  YEAST06322  479509   YEAST   559292\n",
      "10035  T5592920001023  YEAST06324  292636   YEAST   559292\n",
      "66981  T5592920002971  YEAST06325  481277   YEAST   559292\n",
      "57055  T5592920003148  YEAST06326  472938   YEAST   559292\n",
      "9014   T5592920001657  YEAST06327  248393   YEAST   559292\n",
      "56969  T5592920003405  YEAST06328  472788   YEAST   559292\n",
      "56668  T5592920003947  YEAST06329  472349   YEAST   559292\n",
      "52724  T5592920003847  YEAST06330  468885   YEAST   559292\n",
      "82759  T5592920001033  YEAST06331  684535   YEAST   559292\n",
      "51250  T5592920001468  YEAST06332  467489   YEAST   559292\n",
      "9534   T5592920000315  YEAST06333  249481   YEAST   559292\n",
      "42781  T5592920003612  YEAST06335  458112   YEAST   559292\n",
      "10766  T5592920004064  YEAST06337  296812   YEAST   559292\n",
      "9781   T5592920003628  YEAST06338  292176   YEAST   559292\n",
      "57692  T5592920003282  YEAST06339  473613   YEAST   559292\n",
      "66110  T5592920000220  YEAST06340  480375   YEAST   559292\n",
      "52154  T5592920001727  YEAST06341  468357   YEAST   559292\n",
      "9442   T5592920002765  YEAST06342  249307   YEAST   559292\n",
      "9619   T5592920006607  YEAST06344  291792   YEAST   559292\n",
      "8861   T5592920004009  YEAST06346  248103   YEAST   559292\n",
      "8476   T5592920000269  YEAST06348  247306   YEAST   559292\n",
      "83036  T5592920000270  YEAST06349  684987   YEAST   559292\n",
      "\n",
      "[83525 rows x 5 columns]\n"
     ]
    }
   ],
   "source": [
    "print(targets)\n",
    "import math\n",
    "import logging\n",
    "logging.basicConfig(filename='chunklog.log',level=logging.DEBUG)\n",
    "\n",
    "header1 = \n",
    "\"\"\"\n",
    "AUTHOR David Moi\n",
    "MODEL 1 \n",
    "KEYWORDS Coevolution , IC\n",
    "\n",
    "\"\"\"\n",
    "\n",
    "\n",
    "header2 = \n",
    "\"\"\"\n",
    "AUTHOR David Moi\n",
    "MODEL 2 \n",
    "KEYWORDS Coevolution, IC , GO embedding\n",
    "\n",
    "\"\"\"\n",
    "chunksize = 1000\n",
    "chunks = math.ceiling ( len(targets.fam.unique())/1000 ) \n",
    "hogs = list(targets.fam.unique())\n",
    "\n",
    "\n",
    "stamp = datetime.datetime.now().strftime('%m_%d_%Y_%H_%M_%S_%f')\n",
    "\n",
    "\n",
    "with open( stamp + 'model1.txt' , 'w')as pred1 :\n",
    "    with open(stamp + 'model2.txt'  , 'w') pred2:\n",
    "        for i in range(chunks):\n",
    "            if i == 0 :\n",
    "                pred1.write(header1)\n",
    "                pred2.write(header2)\n",
    "            print(i / chunks)\n",
    "            \n",
    "            #predict for chunk of hogs\n",
    "            chunk =  hogs[i*chunksize: i*chunksize + chunksize]\n",
    "            for qhog in chunk:\n",
    "                predchunk_naive = profiler_naive( qhog , p , gaf , c , nannot , hogs,  k = 10 , verbose = True , ignoreqhog = False )\n",
    "                predchunk_embed =  embedding_kd_ap(qhog,  p, kdtree, embedmat , index , reverse_index , nannot, c , k  , nsuggestions , hogs , ignoreqhog = True)\n",
    "            \n",
    "            logging.info('chunk:' + str(i))\n",
    "\n",
    "            #grab all targets for each hog\n",
    "\n",
    "            for h in hogs:\n",
    "                subtarget = targets[targets.fam == h ]\n",
    "\n",
    "            #output csv for all targets in chunk\n",
    "\n",
    "\n",
    "#chunk target rows and save outputs\n",
    "\n",
    "#create csv "
   ]
  },
  {
   "cell_type": "code",
   "execution_count": 40,
   "metadata": {
    "collapsed": true,
    "jupyter": {
     "outputs_hidden": true
    }
   },
   "outputs": [
    {
     "name": "stdout",
     "output_type": "stream",
     "text": [
      "83525\n",
      "11603854834\n",
      "query:472976\n",
      "           distance  cluster   jaccard   nterms         IC  score  \\\n",
      "41        28.460133       19  0.523438    500.0        NaN    NaN   \n",
      "149        9.326344       28  1.000000    413.0        NaN    NaN   \n",
      "226       10.925283       16  0.539062   1922.0        NaN    NaN   \n",
      "1653      19.840259        9  0.515625    419.0        NaN    NaN   \n",
      "1778      31.944899       22  0.527344     27.0        NaN    NaN   \n",
      "1818      10.103156       26  1.000000    537.0        NaN    NaN   \n",
      "1958      99.445250        6  0.539062    120.0        NaN    NaN   \n",
      "2253       2.906660       23  1.000000   2081.0        NaN    NaN   \n",
      "2262      52.794251       17  0.523438    129.0        NaN    NaN   \n",
      "2440      35.341349       22  0.527344     27.0        NaN    NaN   \n",
      "3407      16.332218       22  0.527344     27.0        NaN    NaN   \n",
      "3674     178.610037        8  0.531250    316.0   3.700490    0.0   \n",
      "3724      59.983533       17  0.523438    129.0        NaN    NaN   \n",
      "3774      10.292656       14  1.000000   1514.0  10.681958    0.0   \n",
      "3824       0.000000        8  0.531250    316.0   4.146338    NaN   \n",
      "3841      15.436251       30  0.539062    164.0        NaN    NaN   \n",
      "4067      10.109702       28  1.000000    413.0        NaN    NaN   \n",
      "4111      14.469034       30  0.539062    164.0        NaN    NaN   \n",
      "4156      87.917989        6  0.539062    120.0        NaN    NaN   \n",
      "4311      10.816621       14  1.000000   1514.0        NaN    NaN   \n",
      "4477      10.048307       28  1.000000    413.0        NaN    NaN   \n",
      "4823       7.408144       26  1.000000    537.0        NaN    NaN   \n",
      "4869     105.908392        6  0.539062    120.0        NaN    NaN   \n",
      "4875      17.678229       21  0.539062     37.0        NaN    NaN   \n",
      "4888       5.536988        0  1.000000   6207.0        NaN    NaN   \n",
      "4980       2.268343       23  1.000000   2081.0        NaN    NaN   \n",
      "5096       8.480483       12  1.000000   2082.0  11.580743    0.0   \n",
      "5215       9.652100        5  1.000000   6039.0   5.857609    0.0   \n",
      "5245       2.305757       23  1.000000   2081.0        NaN    NaN   \n",
      "5310      11.981274       18  1.000000   1357.0        NaN    NaN   \n",
      "...             ...      ...       ...      ...        ...    ...   \n",
      "98662     10.668375       15  0.539062   2410.0   5.914649    0.0   \n",
      "98771     26.610056       29  0.523438      5.0  10.140743    0.0   \n",
      "98794      8.882936       12  1.000000   2082.0        NaN    NaN   \n",
      "99024      6.352728       26  1.000000    537.0        NaN    NaN   \n",
      "99512      8.977459       16  0.539062   1922.0  10.477420    0.0   \n",
      "102487     0.043008       25  1.000000   4818.0        NaN    NaN   \n",
      "102953     8.588770       28  1.000000    413.0        NaN    NaN   \n",
      "103068     8.622305       28  1.000000    413.0        NaN    NaN   \n",
      "140030     7.563305       26  1.000000    537.0        NaN    NaN   \n",
      "1901264   23.198911       19  0.523438    500.0        NaN    NaN   \n",
      "1901360  185.129128        8  0.531250    316.0   4.772986    0.0   \n",
      "1901505   30.265080       19  0.523438    500.0        NaN    NaN   \n",
      "1901564  185.153402        8  0.531250    316.0   4.674508    0.0   \n",
      "1901566   10.889022        3  1.000000  11234.0   4.965424    0.0   \n",
      "1901607    4.954393        1  1.000000   4617.0        NaN    NaN   \n",
      "1901617   13.971218        7  1.000000   3646.0        NaN    NaN   \n",
      "1901657    8.824491       15  0.539062   2410.0        NaN    NaN   \n",
      "1901701    7.058440       27  1.000000   2415.0        NaN    NaN   \n",
      "1902476    0.000000       16  0.539062   1922.0  11.642042    NaN   \n",
      "1902679    0.000000       14  1.000000   1514.0   9.925974    NaN   \n",
      "1903363    0.000000       20  1.000000    262.0  16.905507    NaN   \n",
      "1903825   20.347450       29  0.523438      5.0   9.868388    0.0   \n",
      "1904064   10.167012       20  1.000000    262.0        NaN    NaN   \n",
      "1905039   17.412099       29  0.523438      5.0   9.868388    0.0   \n",
      "1905515    7.860252       28  1.000000    413.0        NaN    NaN   \n",
      "1905897    0.000000       21  0.539062     37.0  16.593964    NaN   \n",
      "1990138    8.441020       20  1.000000    262.0        NaN    NaN   \n",
      "1990204    9.559611       15  0.539062   2410.0        NaN    NaN   \n",
      "1990782   18.380369       21  0.539062     37.0        NaN    NaN   \n",
      "1990830   22.063708       22  0.527344     27.0        NaN    NaN   \n",
      "\n",
      "                                                      name  \n",
      "41                          transition metal ion transport  \n",
      "149                                          SNARE binding  \n",
      "226                  microtubule cytoskeleton organization  \n",
      "1653                             peptide receptor activity  \n",
      "1778                                plasma membrane repair  \n",
      "1818            negative regulation of cytokine production  \n",
      "1958                             endochondral ossification  \n",
      "2253                         activation of immune response  \n",
      "2262                              myeloid cell homeostasis  \n",
      "2440     production of molecular mediator of immune res...  \n",
      "3407                             neural retina development  \n",
      "3674                                    molecular_function  \n",
      "3724                                 RNA helicase activity  \n",
      "3774                                        motor activity  \n",
      "3824                                    catalytic activity  \n",
      "3841     1-acylglycerol-3-phosphate O-acyltransferase a...  \n",
      "4067                                 asparaginase activity  \n",
      "4111                              creatine kinase activity  \n",
      "4156                     dihydropteroate synthase activity  \n",
      "4311                     farnesyltranstransferase activity  \n",
      "4477      methenyltetrahydrofolate cyclohydrolase activity  \n",
      "4823                          leucine-tRNA ligase activity  \n",
      "4869        cysteine-type endopeptidase inhibitor activity  \n",
      "4875                          complement receptor activity  \n",
      "4888             transmembrane signaling receptor activity  \n",
      "4980      melanocyte-stimulating hormone receptor activity  \n",
      "5096                             GTPase activator activity  \n",
      "5215                                  transporter activity  \n",
      "5245                voltage-gated calcium channel activity  \n",
      "5310     dicarboxylic acid transmembrane transporter ac...  \n",
      "...                                                    ...  \n",
      "98662             inorganic cation transmembrane transport  \n",
      "98771                            inorganic ion homeostasis  \n",
      "98794                                          postsynapse  \n",
      "99024                         plasma membrane invagination  \n",
      "99512                                 supramolecular fiber  \n",
      "102487                      dUTP phosphohydrolase activity  \n",
      "102953   hypoglycin A gamma-glutamyl transpeptidase act...  \n",
      "103068   leukotriene C4 gamma-glutamyl transferase acti...  \n",
      "140030              modification-dependent protein binding  \n",
      "1901264                  carbohydrate derivative transport  \n",
      "1901360          organic cyclic compound metabolic process  \n",
      "1901505  carbohydrate derivative transmembrane transpor...  \n",
      "1901564          organonitrogen compound metabolic process  \n",
      "1901566       organonitrogen compound biosynthetic process  \n",
      "1901607              alpha-amino acid biosynthetic process  \n",
      "1901617      organic hydroxy compound biosynthetic process  \n",
      "1901657                glycosyl compound metabolic process  \n",
      "1901701    cellular response to oxygen-containing compound  \n",
      "1902476                   chloride transmembrane transport  \n",
      "1902679    negative regulation of RNA biosynthetic process  \n",
      "1903363  negative regulation of cellular protein catabo...  \n",
      "1903825               organic acid transmembrane transport  \n",
      "1904064  positive regulation of cation transmembrane tr...  \n",
      "1905039            carboxylic acid transmembrane transport  \n",
      "1905515                         non-motile cilium assembly  \n",
      "1905897  regulation of response to endoplasmic reticulu...  \n",
      "1990138                        neuron projection extension  \n",
      "1990204                             oxidoreductase complex  \n",
      "1990782                    protein tyrosine kinase binding  \n",
      "1990830    cellular response to leukemia inhibitory factor  \n",
      "\n",
      "[304 rows x 7 columns]\n",
      "query:483443\n",
      "           distance  cluster   jaccard   nterms         IC  score  \\\n",
      "152        5.635252       24  1.000000   1338.0        NaN    NaN   \n",
      "398        0.000000       12  1.000000   1236.0  11.409519    NaN   \n",
      "793        5.492712       16  1.000000   2164.0        NaN    NaN   \n",
      "1510       6.467146        7  1.000000   2597.0        NaN    NaN   \n",
      "1654      24.103067       23  0.433594      1.0        NaN    NaN   \n",
      "1958      55.203142       10  1.000000    107.0        NaN    NaN   \n",
      "2682      16.198919       12  1.000000   1236.0  10.924107    0.0   \n",
      "2697       0.000000       10  1.000000    107.0  14.292628    NaN   \n",
      "2822      42.113147       14  1.000000     25.0        NaN    NaN   \n",
      "2929       0.699670        8  1.000000   3167.0        NaN    NaN   \n",
      "3674     178.610037        4  1.000000   1346.0   3.700490    0.0   \n",
      "3677       0.000000        3  1.000000   4710.0   6.458851    NaN   \n",
      "3824       0.000000        4  1.000000   1346.0   4.146338    NaN   \n",
      "4047       2.539214       11  1.000000   1289.0        NaN    NaN   \n",
      "4084      36.560283       23  0.433594      1.0        NaN    NaN   \n",
      "4100       2.893704       11  1.000000   1289.0        NaN    NaN   \n",
      "4488       1.437731        8  1.000000   3167.0        NaN    NaN   \n",
      "4824      32.179912       23  0.433594      1.0        NaN    NaN   \n",
      "4875      70.957194       10  1.000000    107.0        NaN    NaN   \n",
      "5198       9.008240       17  1.000000   2384.0        NaN    NaN   \n",
      "5215       9.652100        9  1.000000   4721.0        NaN    NaN   \n",
      "5254      27.014219       23  0.433594      1.0        NaN    NaN   \n",
      "5488      12.638406        2  1.000000  13205.0   4.716660    0.0   \n",
      "5524       8.564631        0  1.000000   9367.0   6.384854    0.0   \n",
      "5543       8.929977       18  1.000000   1194.0        NaN    NaN   \n",
      "5575     185.695356        4  1.000000   1346.0   4.242032    0.0   \n",
      "5654      11.992029       22  1.000000   1137.0        NaN    NaN   \n",
      "5680       5.163201       24  1.000000   1338.0        NaN    NaN   \n",
      "5758       0.000000       11  1.000000   1289.0  13.336561    NaN   \n",
      "5887      12.092403        9  1.000000   4721.0        NaN    NaN   \n",
      "...             ...      ...       ...      ...        ...    ...   \n",
      "72522      4.974005       17  1.000000   2384.0        NaN    NaN   \n",
      "72523      7.435703       21  1.000000   6638.0   5.348239    0.0   \n",
      "75109    109.638066       15  1.000000    445.0        NaN    NaN   \n",
      "86004     35.070809       10  1.000000    107.0        NaN    NaN   \n",
      "90068      2.907805       11  1.000000   1289.0        NaN    NaN   \n",
      "90304      7.699765        0  1.000000   9367.0   6.064622    0.0   \n",
      "90305      3.338226       18  1.000000   1194.0   7.818182    0.0   \n",
      "98552     47.818186       14  1.000000     25.0        NaN    NaN   \n",
      "98927     54.594359       10  1.000000    107.0        NaN    NaN   \n",
      "99081      5.858389        7  1.000000   2597.0        NaN    NaN   \n",
      "120025     8.263818        7  1.000000   2597.0        NaN    NaN   \n",
      "120114     7.615505       16  1.000000   2164.0        NaN    NaN   \n",
      "140096     7.787747        0  1.000000   9367.0        NaN    NaN   \n",
      "140097     6.706314        3  1.000000   4710.0   6.218837    0.0   \n",
      "140098    53.159161       15  1.000000    445.0   7.331577    0.0   \n",
      "140104     3.999553        3  1.000000   4710.0        NaN    NaN   \n",
      "1901137    7.588150       21  1.000000   6638.0        NaN    NaN   \n",
      "1901360  185.129128        4  1.000000   1346.0   4.772986    0.0   \n",
      "1901362    7.580720        5  1.000000   7819.0   5.070270    0.0   \n",
      "1901564  185.153402        4  1.000000   1346.0   4.674508    0.0   \n",
      "1901565    8.758861        5  1.000000   7819.0   5.312111    0.0   \n",
      "1901575    5.062837       21  1.000000   6638.0   5.270367    0.0   \n",
      "1901605    6.933444       21  1.000000   6638.0   5.217310    0.0   \n",
      "1901606   14.583099        1  1.000000   2418.0   9.767273    0.0   \n",
      "1901607    7.003179        5  1.000000   7819.0   5.279596    0.0   \n",
      "1901617   12.036535        1  1.000000   2418.0  10.317149    0.0   \n",
      "1901701    7.058440       18  1.000000   1194.0        NaN    NaN   \n",
      "1902742  115.594640       15  1.000000    445.0        NaN    NaN   \n",
      "2000026    0.000000       16  1.000000   2164.0  12.196677    NaN   \n",
      "2000113   13.333899       22  1.000000   1137.0        NaN    NaN   \n",
      "\n",
      "                                                      name  \n",
      "152                       nuclear ubiquitin ligase complex  \n",
      "398                         mRNA splicing, via spliceosome  \n",
      "793                                   condensed chromosome  \n",
      "1510                                       RNA methylation  \n",
      "1654                                       eye development  \n",
      "1958                             endochondral ossification  \n",
      "2682                   regulation of immune system process  \n",
      "2697                 regulation of immune effector process  \n",
      "2822     regulation of adaptive immune response based o...  \n",
      "2929                                          MECO complex  \n",
      "3674                                    molecular_function  \n",
      "3677                                           DNA binding  \n",
      "3824                                    catalytic activity  \n",
      "4047                       aminomethyltransferase activity  \n",
      "4084       branched-chain-amino-acid transaminase activity  \n",
      "4100                              chitin synthase activity  \n",
      "4488     methylenetetrahydrofolate dehydrogenase (NADP+...  \n",
      "4824                           lysine-tRNA ligase activity  \n",
      "4875                          complement receptor activity  \n",
      "5198                          structural molecule activity  \n",
      "5215                                  transporter activity  \n",
      "5254                             chloride channel activity  \n",
      "5488                                               binding  \n",
      "5524                                           ATP binding  \n",
      "5543                                  phospholipid binding  \n",
      "5575                                    cellular_component  \n",
      "5654                                           nucleoplasm  \n",
      "5680                            anaphase-promoting complex  \n",
      "5758                     mitochondrial intermembrane space  \n",
      "5887                 integral component of plasma membrane  \n",
      "...                                                    ...  \n",
      "72522      purine-containing compound biosynthetic process  \n",
      "72523         purine-containing compound catabolic process  \n",
      "75109    modulation by symbiont of host receptor-mediat...  \n",
      "86004        regulation of cardiac muscle cell contraction  \n",
      "90068            positive regulation of cell cycle process  \n",
      "90304                       nucleic acid metabolic process  \n",
      "90305          nucleic acid phosphodiester bond hydrolysis  \n",
      "98552                                     side of membrane  \n",
      "98927    vesicle-mediated transport between endosomal c...  \n",
      "99081                               supramolecular polymer  \n",
      "120025             plasma membrane bounded cell projection  \n",
      "120114                      Sm-like protein family complex  \n",
      "140096             catalytic activity, acting on a protein  \n",
      "140097                   catalytic activity, acting on DNA  \n",
      "140098                   catalytic activity, acting on RNA  \n",
      "140104                          molecular carrier activity  \n",
      "1901137       carbohydrate derivative biosynthetic process  \n",
      "1901360          organic cyclic compound metabolic process  \n",
      "1901362       organic cyclic compound biosynthetic process  \n",
      "1901564          organonitrogen compound metabolic process  \n",
      "1901565          organonitrogen compound catabolic process  \n",
      "1901575                organic substance catabolic process  \n",
      "1901605                 alpha-amino acid metabolic process  \n",
      "1901606                 alpha-amino acid catabolic process  \n",
      "1901607              alpha-amino acid biosynthetic process  \n",
      "1901617      organic hydroxy compound biosynthetic process  \n",
      "1901701    cellular response to oxygen-containing compound  \n",
      "1902742          apoptotic process involved in development  \n",
      "2000026  regulation of multicellular organismal develop...  \n",
      "2000113  negative regulation of cellular macromolecule ...  \n",
      "\n",
      "[247 rows x 7 columns]\n",
      "query:483592\n",
      "           distance  cluster   jaccard   nterms         IC  score  \\\n",
      "41        24.371502        6  0.761719  11607.0        NaN    NaN   \n",
      "96         7.803212        8  1.000000  12836.0        NaN    NaN   \n",
      "103        9.758820       26  1.000000   3146.0  12.272637    0.0   \n",
      "162        3.540603       25  1.000000   5134.0        NaN    NaN   \n",
      "226        8.782448       39  1.000000   2924.0        NaN    NaN   \n",
      "287       31.042961        7  1.000000   2424.0   9.372554    0.0   \n",
      "398        0.000000       36  1.000000   1071.0  11.409519    NaN   \n",
      "1514       1.169185       13  1.000000  13961.0        NaN    NaN   \n",
      "1659       0.040043       33  1.000000  19501.0        NaN    NaN   \n",
      "1702      23.242594       49  0.761719    332.0        NaN    NaN   \n",
      "1778      23.433838       17  0.699219    386.0        NaN    NaN   \n",
      "1958      55.203142       40  0.679688     11.0        NaN    NaN   \n",
      "2065       5.446282       47  1.000000    488.0        NaN    NaN   \n",
      "2262      52.794251       41  0.699219      5.0        NaN    NaN   \n",
      "2428       9.007068       38  0.699219      3.0        NaN    NaN   \n",
      "2573       0.041811       33  1.000000  19501.0        NaN    NaN   \n",
      "2583       5.729177       46  1.000000   1177.0        NaN    NaN   \n",
      "2682      16.198919       36  1.000000   1071.0  10.924107    0.0   \n",
      "2696       0.000000       49  0.761719    332.0  14.582303    NaN   \n",
      "2697       0.000000       40  0.679688     11.0  14.292628    NaN   \n",
      "2831      56.985153       29  0.699219     31.0  11.578192    0.0   \n",
      "2888       0.242163       45  0.761719    627.0        NaN    NaN   \n",
      "3231       5.868551       47  1.000000    488.0        NaN    NaN   \n",
      "3417      19.297397       30  0.761719    119.0        NaN    NaN   \n",
      "3674     178.610037        0  1.000000   2948.0   3.700490    0.0   \n",
      "3724      59.983533       41  0.699219      5.0        NaN    NaN   \n",
      "3730      18.099789       49  0.761719    332.0        NaN    NaN   \n",
      "3824       0.000000        0  1.000000   2948.0   4.146338    NaN   \n",
      "3857       4.026794       25  1.000000   5134.0        NaN    NaN   \n",
      "3880       1.177353       13  1.000000  13961.0        NaN    NaN   \n",
      "...             ...      ...       ...      ...        ...    ...   \n",
      "1901607    7.003179       37  1.000000  30799.0   5.279596    0.0   \n",
      "1901657    8.824491        5  1.000000  22524.0   9.160043    0.0   \n",
      "1901699    4.848531        3  1.000000   6787.0  12.467121    0.0   \n",
      "1902004    9.306844       44  0.761719    157.0        NaN    NaN   \n",
      "1902476    4.475213       39  1.000000   2924.0  11.642042    0.0   \n",
      "1902903    8.392508       42  1.000000   5069.0        NaN    NaN   \n",
      "1903509    7.641593       48  1.000000  19124.0   9.985415    0.0   \n",
      "1903561    0.000000       33  1.000000  19501.0  16.328723    NaN   \n",
      "1903727    5.799358       47  1.000000    488.0        NaN    NaN   \n",
      "1903825   80.609793       27  0.582031    147.0   9.868388    0.0   \n",
      "1903827    0.000000       44  0.761719    157.0  14.429637    NaN   \n",
      "1904082    1.142992       13  1.000000  13961.0        NaN    NaN   \n",
      "1904680   11.519333        1  1.000000   4765.0        NaN    NaN   \n",
      "1904688   26.546853       14  0.699219    863.0        NaN    NaN   \n",
      "1905039   79.919534       27  0.582031    147.0   9.868388    0.0   \n",
      "1905144   11.714312       19  0.761719    689.0        NaN    NaN   \n",
      "1905153    0.000000       45  0.761719    627.0  18.218776    NaN   \n",
      "1905354    4.546807       52  1.000000   6885.0        NaN    NaN   \n",
      "1905898   17.248412       17  0.699219    386.0        NaN    NaN   \n",
      "1990169    0.037996       33  1.000000  19501.0        NaN    NaN   \n",
      "1990204    9.559611        5  1.000000  22524.0        NaN    NaN   \n",
      "1990391    6.056482        3  1.000000   6787.0        NaN    NaN   \n",
      "1990782   16.755433       50  0.761719     51.0        NaN    NaN   \n",
      "1990822    3.778415       15  0.699219   1127.0        NaN    NaN   \n",
      "2000106    2.796747       45  0.761719    627.0        NaN    NaN   \n",
      "2000117    6.550203       44  0.761719    157.0        NaN    NaN   \n",
      "2000242    9.884870       24  0.761719    201.0        NaN    NaN   \n",
      "2000379   11.047058       19  0.761719    689.0        NaN    NaN   \n",
      "2000659    0.041644       33  1.000000  19501.0        NaN    NaN   \n",
      "2001237   59.480270       29  0.699219     31.0        NaN    NaN   \n",
      "\n",
      "                                                      name  \n",
      "41                          transition metal ion transport  \n",
      "96                     sulfur amino acid metabolic process  \n",
      "103                                   sulfate assimilation  \n",
      "162                        tryptophan biosynthetic process  \n",
      "226                  microtubule cytoskeleton organization  \n",
      "287                                  magnesium ion binding  \n",
      "398                         mRNA splicing, via spliceosome  \n",
      "1514                          selenocysteine incorporation  \n",
      "1659                               temperature homeostasis  \n",
      "1702                gastrulation with mouth forming second  \n",
      "1778                                plasma membrane repair  \n",
      "1958                             endochondral ossification  \n",
      "2065     columnar/cuboidal epithelial cell differentiation  \n",
      "2262                              myeloid cell homeostasis  \n",
      "2428     antigen processing and presentation of peptide...  \n",
      "2573                     myeloid leukocyte differentiation  \n",
      "2583     regulation of antigen processing and presentat...  \n",
      "2682                   regulation of immune system process  \n",
      "2696           positive regulation of leukocyte activation  \n",
      "2697                 regulation of immune effector process  \n",
      "2831             regulation of response to biotic stimulus  \n",
      "2888     positive regulation of myeloid leukocyte media...  \n",
      "3231                         cardiac ventricle development  \n",
      "3417                    growth plate cartilage development  \n",
      "3674                                    molecular_function  \n",
      "3724                                 RNA helicase activity  \n",
      "3730                                   mRNA 3'-UTR binding  \n",
      "3824                                    catalytic activity  \n",
      "3857              3-hydroxyacyl-CoA dehydrogenase activity  \n",
      "3880     protein C-terminal carboxyl O-methyltransferas...  \n",
      "...                                                    ...  \n",
      "1901607              alpha-amino acid biosynthetic process  \n",
      "1901657                glycosyl compound metabolic process  \n",
      "1901699             cellular response to nitrogen compound  \n",
      "1902004      positive regulation of amyloid-beta formation  \n",
      "1902476                   chloride transmembrane transport  \n",
      "1902903    regulation of supramolecular fiber organization  \n",
      "1903509                   liposaccharide metabolic process  \n",
      "1903561                              extracellular vesicle  \n",
      "1903727  positive regulation of phospholipid metabolic ...  \n",
      "1903825               organic acid transmembrane transport  \n",
      "1903827        regulation of cellular protein localization  \n",
      "1904082      pyrimidine nucleobase transmembrane transport  \n",
      "1904680         peptide transmembrane transporter activity  \n",
      "1904688  regulation of cytoplasmic translational initia...  \n",
      "1905039            carboxylic acid transmembrane transport  \n",
      "1905144                          response to acetylcholine  \n",
      "1905153                regulation of membrane invagination  \n",
      "1905354                            exoribonuclease complex  \n",
      "1905898  positive regulation of response to endoplasmic...  \n",
      "1990169                      stress response to copper ion  \n",
      "1990204                             oxidoreductase complex  \n",
      "1990391                                 DNA repair complex  \n",
      "1990782                    protein tyrosine kinase binding  \n",
      "1990822           basic amino acid transmembrane transport  \n",
      "2000106          regulation of leukocyte apoptotic process  \n",
      "2000117  negative regulation of cysteine-type endopepti...  \n",
      "2000242        negative regulation of reproductive process  \n",
      "2000379  positive regulation of reactive oxygen species...  \n",
      "2000659  regulation of interleukin-1-mediated signaling...  \n",
      "2001237  negative regulation of extrinsic apoptotic sig...  \n",
      "\n",
      "[524 rows x 7 columns]\n",
      "query:182502\n",
      "           distance  cluster   jaccard  nterms         IC  score  \\\n",
      "1763       4.985721       10  0.718750    40.0        NaN    NaN   \n",
      "1958      99.445250        6  1.000000   119.0        NaN    NaN   \n",
      "2250       6.611624       20  1.000000   948.0        NaN    NaN   \n",
      "2438       9.623553       10  0.718750    40.0        NaN    NaN   \n",
      "3674     178.610037        0  0.757812   362.0   3.700490    0.0   \n",
      "3824       0.000000        0  0.757812   362.0   4.146338    NaN   \n",
      "4067       8.298666       12  0.718750   184.0        NaN    NaN   \n",
      "4156      87.917989        6  1.000000   119.0        NaN    NaN   \n",
      "4402       7.813789        5  1.000000   943.0  12.559687    0.0   \n",
      "4618       2.177208       21  1.000000   229.0        NaN    NaN   \n",
      "4869     105.908392        6  1.000000   119.0        NaN    NaN   \n",
      "4888       0.000000        1  1.000000  3249.0   5.681825    NaN   \n",
      "5135       8.752929       10  0.718750    40.0        NaN    NaN   \n",
      "5253       7.023060        5  1.000000   943.0        NaN    NaN   \n",
      "5501       2.332543       21  1.000000   229.0        NaN    NaN   \n",
      "5575     185.695356        0  0.757812   362.0   4.242032    0.0   \n",
      "5634      14.401140        7  1.000000  1028.0   7.883658    0.0   \n",
      "5764      21.229387       17  0.660156   156.0        NaN    NaN   \n",
      "5773       5.896412       20  1.000000   948.0        NaN    NaN   \n",
      "5856       0.000000       22  1.000000   985.0   9.629123    NaN   \n",
      "5886       0.000000        2  1.000000  1299.0   6.708530    NaN   \n",
      "6091       6.026112       11  1.000000  2093.0        NaN    NaN   \n",
      "6207       6.711458       22  1.000000   985.0        NaN    NaN   \n",
      "6259      10.418986        4  1.000000  1036.0   6.909792    0.0   \n",
      "6271       4.349716       18  1.000000   490.0        NaN    NaN   \n",
      "6273       4.460118       18  1.000000   490.0        NaN    NaN   \n",
      "6310       9.720841        4  1.000000  1036.0        NaN    NaN   \n",
      "6400       7.413408       22  1.000000   985.0        NaN    NaN   \n",
      "6475       1.605225        5  1.000000   943.0  11.956787    0.0   \n",
      "6522       8.303398       14  1.000000   164.0        NaN    NaN   \n",
      "...             ...      ...       ...     ...        ...    ...   \n",
      "65007    185.700730        0  0.757812   362.0   5.396191    0.0   \n",
      "70138     12.237215       16  0.660156    37.0        NaN    NaN   \n",
      "70230    104.464404        6  1.000000   119.0        NaN    NaN   \n",
      "70232    105.130150        6  1.000000   119.0        NaN    NaN   \n",
      "70568      4.576459       22  1.000000   985.0        NaN    NaN   \n",
      "71466     14.326612       17  0.660156   156.0        NaN    NaN   \n",
      "71704      0.000000        3  1.000000  3562.0   4.361394    NaN   \n",
      "71840     11.689721        7  1.000000  1028.0   7.218531    0.0   \n",
      "71934      2.255744       21  1.000000   229.0        NaN    NaN   \n",
      "72017     10.923011       16  0.660156    37.0        NaN    NaN   \n",
      "72583      6.744793       20  1.000000   948.0        NaN    NaN   \n",
      "72594      5.910454       11  1.000000  2093.0        NaN    NaN   \n",
      "72599      6.645263       22  1.000000   985.0        NaN    NaN   \n",
      "72657      7.664619       22  1.000000   985.0        NaN    NaN   \n",
      "97159     11.159379        8  1.000000  3244.0   5.051384    0.0   \n",
      "97282     93.892537        6  1.000000   119.0        NaN    NaN   \n",
      "97305      0.000000       21  1.000000   229.0  14.355825    NaN   \n",
      "98771     15.490515       15  0.660156    37.0        NaN    NaN   \n",
      "102953    11.175479       12  0.718750   184.0        NaN    NaN   \n",
      "1901068    6.025487       18  1.000000   490.0        NaN    NaN   \n",
      "1901360    7.895233        3  1.000000  3562.0        NaN    NaN   \n",
      "1901564    9.443443        3  1.000000  3562.0   4.674508    0.0   \n",
      "1901565   10.243502        8  1.000000  3244.0        NaN    NaN   \n",
      "1901566   10.889022        3  1.000000  3562.0   4.965424    0.0   \n",
      "1901576    8.479689        8  1.000000  3244.0   4.829191    0.0   \n",
      "1901617   13.971218        7  1.000000  1028.0        NaN    NaN   \n",
      "1901657    8.759882        2  1.000000  1299.0        NaN    NaN   \n",
      "1901661   10.293777        4  1.000000  1036.0        NaN    NaN   \n",
      "1902358    3.661928       18  1.000000   490.0        NaN    NaN   \n",
      "2000113    8.079059        4  1.000000  1036.0   9.891591    0.0   \n",
      "\n",
      "                                                      name  \n",
      "1763                morphogenesis of a branching structure  \n",
      "1958                             endochondral ossification  \n",
      "2250                              adaptive immune response  \n",
      "2438     acute inflammatory response to antigenic stimulus  \n",
      "3674                                    molecular_function  \n",
      "3824                                    catalytic activity  \n",
      "4067                                 asparaginase activity  \n",
      "4156                     dihydropteroate synthase activity  \n",
      "4402                    histone acetyltransferase activity  \n",
      "4618                      phosphoglycerate kinase activity  \n",
      "4869        cysteine-type endopeptidase inhibitor activity  \n",
      "4888             transmembrane signaling receptor activity  \n",
      "5135                        interleukin-3 receptor binding  \n",
      "5253                                anion channel activity  \n",
      "5501                                      retinoid binding  \n",
      "5575                                    cellular_component  \n",
      "5634                                               nucleus  \n",
      "5764                                              lysosome  \n",
      "5773                                               vacuole  \n",
      "5856                                          cytoskeleton  \n",
      "5886                                       plasma membrane  \n",
      "6091        generation of precursor metabolites and energy  \n",
      "6207     'de novo' pyrimidine nucleobase biosynthetic p...  \n",
      "6259                                 DNA metabolic process  \n",
      "6271     DNA strand elongation involved in DNA replication  \n",
      "6273                             lagging strand elongation  \n",
      "6310                                     DNA recombination  \n",
      "6400                                     tRNA modification  \n",
      "6475               internal protein amino acid acetylation  \n",
      "6522                             alanine metabolic process  \n",
      "...                                                    ...  \n",
      "65007                                biological regulation  \n",
      "70138    ubiquitin-like protein-specific isopeptidase a...  \n",
      "70230    positive regulation of lymphocyte apoptotic pr...  \n",
      "70232               regulation of T cell apoptotic process  \n",
      "70568                         guanylyltransferase activity  \n",
      "71466             cellular response to xenobiotic stimulus  \n",
      "71704                  organic substance metabolic process  \n",
      "71840        cellular component organization or biogenesis  \n",
      "71934                     thiamine transmembrane transport  \n",
      "72017                            distal tubule development  \n",
      "72583                       clathrin-dependent endocytosis  \n",
      "72594    establishment of protein localization to organ...  \n",
      "72599    establishment of protein localization to endop...  \n",
      "72657                     protein localization to membrane  \n",
      "97159                      organic cyclic compound binding  \n",
      "97282               immunoglobulin-mediated neutralization  \n",
      "97305                                  response to alcohol  \n",
      "98771                            inorganic ion homeostasis  \n",
      "102953   hypoglycin A gamma-glutamyl transpeptidase act...  \n",
      "1901068    guanosine-containing compound metabolic process  \n",
      "1901360          organic cyclic compound metabolic process  \n",
      "1901564          organonitrogen compound metabolic process  \n",
      "1901565          organonitrogen compound catabolic process  \n",
      "1901566       organonitrogen compound biosynthetic process  \n",
      "1901576             organic substance biosynthetic process  \n",
      "1901617      organic hydroxy compound biosynthetic process  \n",
      "1901657                glycosyl compound metabolic process  \n",
      "1901661                          quinone metabolic process  \n",
      "1902358                    sulfate transmembrane transport  \n",
      "2000113  negative regulation of cellular macromolecule ...  \n",
      "\n",
      "[227 rows x 7 columns]\n",
      "query:177269\n",
      "           distance  cluster   jaccard  nterms         IC  score  \\\n",
      "96         7.215095        3  1.000000  1443.0        NaN    NaN   \n",
      "910        5.294572       11  1.000000   172.0        NaN    NaN   \n",
      "942        3.480328       12  1.000000    66.0        NaN    NaN   \n",
      "1653      51.730839       13  0.687500     1.0        NaN    NaN   \n",
      "1882       0.000000        2  0.699219  1842.0   8.509849    NaN   \n",
      "1883       4.496414        2  0.699219  1842.0   8.560504    0.0   \n",
      "1958      99.445250        6  0.699219   181.0        NaN    NaN   \n",
      "2532      51.323184       13  0.687500     1.0        NaN    NaN   \n",
      "2584       1.999856       12  1.000000    66.0        NaN    NaN   \n",
      "3674     178.610037       15  0.687500     1.0   3.700490    0.0   \n",
      "3677       7.287113        5  1.000000  1767.0   6.458851    0.0   \n",
      "3824       0.000000       15  0.687500     1.0   4.146338    NaN   \n",
      "4156      87.917989        6  0.699219   181.0        NaN    NaN   \n",
      "4315       5.790894       11  1.000000   172.0        NaN    NaN   \n",
      "4869     105.908392        6  0.699219   181.0        NaN    NaN   \n",
      "5102       7.846677        3  1.000000  1443.0        NaN    NaN   \n",
      "5215       9.652100        0  1.000000  2962.0   5.857609    0.0   \n",
      "5338       3.349555       12  1.000000    66.0        NaN    NaN   \n",
      "5342      14.724767        9  1.000000     9.0  10.361843    0.0   \n",
      "5344       3.429934       12  1.000000    66.0        NaN    NaN   \n",
      "5575     185.695356       15  0.687500     1.0   4.242032    0.0   \n",
      "5887      12.092403        0  1.000000  2962.0        NaN    NaN   \n",
      "5976       9.196890        3  1.000000  1443.0        NaN    NaN   \n",
      "5978       4.468027        2  0.699219  1842.0        NaN    NaN   \n",
      "6112       4.769200        2  0.699219  1842.0        NaN    NaN   \n",
      "6396       8.746312        1  0.699219   790.0   7.627451    0.0   \n",
      "6464       9.222840        3  1.000000  1443.0        NaN    NaN   \n",
      "6605      10.419961        1  0.699219   790.0        NaN    NaN   \n",
      "6623       8.956794        1  0.699219   790.0        NaN    NaN   \n",
      "6629      10.010347        4  1.000000  3484.0        NaN    NaN   \n",
      "...             ...      ...       ...     ...        ...    ...   \n",
      "62023      4.536701       11  1.000000   172.0        NaN    NaN   \n",
      "65007    185.700730       15  0.687500     1.0   5.396191    0.0   \n",
      "70230    104.464404        6  0.699219   181.0        NaN    NaN   \n",
      "70232    105.130150        6  0.699219   181.0        NaN    NaN   \n",
      "71384      0.044257       10  1.000000    52.0        NaN    NaN   \n",
      "71478      2.493302       12  1.000000    66.0        NaN    NaN   \n",
      "71554      7.664519        5  1.000000  1767.0        NaN    NaN   \n",
      "71677      0.049732       10  1.000000    52.0        NaN    NaN   \n",
      "71704     10.118365        4  1.000000  3484.0   4.361394    0.0   \n",
      "71944      9.533204        0  1.000000  2962.0        NaN    NaN   \n",
      "72523      9.309957       14  0.699219   676.0        NaN    NaN   \n",
      "72531      4.924347       11  1.000000   172.0        NaN    NaN   \n",
      "72686      3.275075       12  1.000000    66.0        NaN    NaN   \n",
      "90150      4.995571        2  0.699219  1842.0        NaN    NaN   \n",
      "90161      0.041473       10  1.000000    52.0        NaN    NaN   \n",
      "97282     93.892537        6  0.699219   181.0        NaN    NaN   \n",
      "98771     26.610056        9  1.000000     9.0        NaN    NaN   \n",
      "98857      3.432518       12  1.000000    66.0        NaN    NaN   \n",
      "102043     0.050219       10  1.000000    52.0        NaN    NaN   \n",
      "140104     6.324687        5  1.000000  1767.0        NaN    NaN   \n",
      "1901259    0.000000       10  1.000000    52.0  17.576181    NaN   \n",
      "1901293    8.558954        1  0.699219   790.0        NaN    NaN   \n",
      "1901360  185.129128       15  0.687500     1.0   4.772986    0.0   \n",
      "1901564  185.153402       15  0.687500     1.0   4.674508    0.0   \n",
      "1901566   10.477024        4  1.000000  3484.0        NaN    NaN   \n",
      "1901575    8.367243       14  0.699219   676.0        NaN    NaN   \n",
      "1901576    4.201754        4  1.000000  3484.0   4.829191    0.0   \n",
      "1901607    9.030202       14  0.699219   676.0        NaN    NaN   \n",
      "1903825   20.347450        9  1.000000     9.0        NaN    NaN   \n",
      "1905039   17.412099        9  1.000000     9.0        NaN    NaN   \n",
      "\n",
      "                                                      name  \n",
      "96                     sulfur amino acid metabolic process  \n",
      "910                                            cytokinesis  \n",
      "942         condensed nuclear chromosome outer kinetochore  \n",
      "1653                             peptide receptor activity  \n",
      "1882                                    nucleoside binding  \n",
      "1883                             purine nucleoside binding  \n",
      "1958                             endochondral ossification  \n",
      "2532     production of molecular mediator involved in i...  \n",
      "2584     negative regulation of antigen processing and ...  \n",
      "3674                                    molecular_function  \n",
      "3677                                           DNA binding  \n",
      "3824                                    catalytic activity  \n",
      "4156                     dihydropteroate synthase activity  \n",
      "4315     3-oxoacyl-[acyl-carrier-protein] synthase acti...  \n",
      "4869        cysteine-type endopeptidase inhibitor activity  \n",
      "5102                            signaling receptor binding  \n",
      "5215                                  transporter activity  \n",
      "5338     nucleotide-sugar transmembrane transporter act...  \n",
      "5342       organic acid transmembrane transporter activity  \n",
      "5344                               oxygen carrier activity  \n",
      "5575                                    cellular_component  \n",
      "5887                 integral component of plasma membrane  \n",
      "5976                      polysaccharide metabolic process  \n",
      "5978                         glycogen biosynthetic process  \n",
      "6112                      energy reserve metabolic process  \n",
      "6396                                        RNA processing  \n",
      "6464                 cellular protein modification process  \n",
      "6605                                     protein targeting  \n",
      "6623                          protein targeting to vacuole  \n",
      "6629                               lipid metabolic process  \n",
      "...                                                    ...  \n",
      "62023             collagen-containing extracellular matrix  \n",
      "65007                                biological regulation  \n",
      "70230    positive regulation of lymphocyte apoptotic pr...  \n",
      "70232               regulation of T cell apoptotic process  \n",
      "71384         cellular response to corticosteroid stimulus  \n",
      "71478                       cellular response to radiation  \n",
      "71554                 cell wall organization or biogenesis  \n",
      "71677    positive regulation of mononuclear cell migration  \n",
      "71704                  organic substance metabolic process  \n",
      "71944                                       cell periphery  \n",
      "72523         purine-containing compound catabolic process  \n",
      "72531    pyrimidine-containing compound transmembrane t...  \n",
      "72686                                      mitotic spindle  \n",
      "90150    establishment of protein localization to membrane  \n",
      "90161                               Golgi ribbon formation  \n",
      "97282               immunoglobulin-mediated neutralization  \n",
      "98771                            inorganic ion homeostasis  \n",
      "98857                                 membrane microdomain  \n",
      "102043               isopentenyl phosphate kinase activity  \n",
      "140104                          molecular carrier activity  \n",
      "1901259                        chloroplast rRNA processing  \n",
      "1901293          nucleoside phosphate biosynthetic process  \n",
      "1901360          organic cyclic compound metabolic process  \n",
      "1901564          organonitrogen compound metabolic process  \n",
      "1901566       organonitrogen compound biosynthetic process  \n",
      "1901575                organic substance catabolic process  \n",
      "1901576             organic substance biosynthetic process  \n",
      "1901607              alpha-amino acid biosynthetic process  \n",
      "1903825               organic acid transmembrane transport  \n",
      "1905039            carboxylic acid transmembrane transport  \n",
      "\n",
      "[160 rows x 7 columns]\n",
      "query:684175\n",
      "           distance  cluster   jaccard   nterms         IC  score  \\\n",
      "22        36.311534       43  0.726562      3.0        NaN    NaN   \n",
      "34         8.710502       25  1.000000   1269.0        NaN    NaN   \n",
      "270        2.960472       29  1.000000   8268.0        NaN    NaN   \n",
      "723       85.000670       32  0.714844     15.0        NaN    NaN   \n",
      "1505      10.491172       19  1.000000   1829.0  10.671196    0.0   \n",
      "1525       1.509890       20  1.000000   4489.0        NaN    NaN   \n",
      "1539       2.496432       13  1.000000   6327.0        NaN    NaN   \n",
      "1653      51.730839       18  0.734375      9.0        NaN    NaN   \n",
      "1731      82.425287       32  0.714844     15.0        NaN    NaN   \n",
      "1778      13.656646       21  0.683594     20.0        NaN    NaN   \n",
      "1786       7.102336       45  0.726562     36.0        NaN    NaN   \n",
      "1958      99.445250       37  0.664062      1.0        NaN    NaN   \n",
      "2068       7.941992       45  0.726562     36.0        NaN    NaN   \n",
      "2076      23.417473       43  0.726562      3.0        NaN    NaN   \n",
      "2262      52.794251        9  0.726562    968.0        NaN    NaN   \n",
      "2376       7.146183       22  1.000000  19183.0        NaN    NaN   \n",
      "2532      51.323184       18  0.734375      9.0        NaN    NaN   \n",
      "2696      47.257586       15  0.726562     52.0        NaN    NaN   \n",
      "2929       1.591383       44  1.000000   4307.0        NaN    NaN   \n",
      "3143      22.077640       38  0.691406      2.0        NaN    NaN   \n",
      "3407      27.681586       21  0.683594     20.0        NaN    NaN   \n",
      "3674     178.610037        2  1.000000   2742.0   3.700490    0.0   \n",
      "3677       4.997017       29  1.000000   8268.0   6.458851    0.0   \n",
      "3684       7.229852       27  0.726562    706.0        NaN    NaN   \n",
      "3697       9.771944       27  0.726562    706.0        NaN    NaN   \n",
      "3723      11.721862        5  1.000000   4992.0   7.095713    0.0   \n",
      "3724      59.983533        9  0.726562    968.0        NaN    NaN   \n",
      "3730      45.447926       15  0.726562     52.0        NaN    NaN   \n",
      "3824       0.000000        2  1.000000   2742.0   4.146338    NaN   \n",
      "3864       2.479808       20  1.000000   4489.0        NaN    NaN   \n",
      "...             ...      ...       ...      ...        ...    ...   \n",
      "1901271   17.592116        6  0.714844    916.0        NaN    NaN   \n",
      "1901293    2.850143       12  1.000000  14952.0   7.873007    0.0   \n",
      "1901360  185.129128        2  1.000000   2742.0   4.772986    0.0   \n",
      "1901363    0.000000        0  1.000000  18673.0   5.051583    NaN   \n",
      "1901381    8.098273       45  0.726562     36.0        NaN    NaN   \n",
      "1901385   13.255060       46  1.000000    225.0        NaN    NaN   \n",
      "1901564  185.153402        2  1.000000   2742.0   4.674508    0.0   \n",
      "1901566   10.889022        1  1.000000  49701.0   4.965424    0.0   \n",
      "1901575    1.340209        3  1.000000  25619.0   5.270367    0.0   \n",
      "1901607    6.933397        3  1.000000  25619.0        NaN    NaN   \n",
      "1901657    8.824491        8  1.000000  11175.0        NaN    NaN   \n",
      "1901701    6.190794        4  1.000000  13056.0  10.801792    0.0   \n",
      "1901990    0.000000       25  1.000000   1269.0  12.903629    NaN   \n",
      "1902099    7.257008       25  1.000000   1269.0  13.383165    0.0   \n",
      "1902100    7.556867       25  1.000000   1269.0  13.968673    0.0   \n",
      "1902107   12.918660       38  0.691406      2.0        NaN    NaN   \n",
      "1902668    0.036951       41  1.000000   7621.0        NaN    NaN   \n",
      "1902742    0.000000       17  0.664062     18.0  17.277449    NaN   \n",
      "1902850   37.908070       36  0.664062      1.0        NaN    NaN   \n",
      "1903050   11.514292       28  1.000000   1097.0        NaN    NaN   \n",
      "1903649    0.025386       41  1.000000   7621.0        NaN    NaN   \n",
      "1904753    6.425048       45  0.726562     36.0        NaN    NaN   \n",
      "1904892    0.000000       36  0.664062      1.0  15.624468    NaN   \n",
      "1905819    4.789941       26  0.726562    409.0  13.965464    0.0   \n",
      "1990204    9.559611        8  1.000000  11175.0  10.351363    0.0   \n",
      "1990830    0.000000       21  0.683594     20.0  16.984288    NaN   \n",
      "2000177   51.120108       15  0.726562     52.0        NaN    NaN   \n",
      "2000816    0.000000       26  0.726562    409.0  13.982529    NaN   \n",
      "2001021    8.002759       46  1.000000    225.0        NaN    NaN   \n",
      "2001259    8.258302       45  0.726562     36.0        NaN    NaN   \n",
      "\n",
      "                                                      name  \n",
      "22                              mitotic spindle elongation  \n",
      "34                              adenine deaminase activity  \n",
      "270                        peptidoglycan metabolic process  \n",
      "723                                   telomere maintenance  \n",
      "1505                 regulation of neurotransmitter levels  \n",
      "1525                                          angiogenesis  \n",
      "1539           cilium or flagellum-dependent cell motility  \n",
      "1653                             peptide receptor activity  \n",
      "1731        formation of translation preinitiation complex  \n",
      "1778                                plasma membrane repair  \n",
      "1786                            phosphatidylserine binding  \n",
      "1958                             endochondral ossification  \n",
      "2068                 glandular epithelial cell development  \n",
      "2076                                osteoblast development  \n",
      "2262                              myeloid cell homeostasis  \n",
      "2376                                 immune system process  \n",
      "2532     production of molecular mediator involved in i...  \n",
      "2696           positive regulation of leukocyte activation  \n",
      "2929                                          MECO complex  \n",
      "3143                    embryonic heart tube morphogenesis  \n",
      "3407                             neural retina development  \n",
      "3674                                    molecular_function  \n",
      "3677                                           DNA binding  \n",
      "3684                                   damaged DNA binding  \n",
      "3697                           single-stranded DNA binding  \n",
      "3723                                           RNA binding  \n",
      "3724                                 RNA helicase activity  \n",
      "3730                                   mRNA 3'-UTR binding  \n",
      "3824                                    catalytic activity  \n",
      "3864     3-methyl-2-oxobutanoate hydroxymethyltransfera...  \n",
      "...                                                    ...  \n",
      "1901271           lipooligosaccharide biosynthetic process  \n",
      "1901293          nucleoside phosphate biosynthetic process  \n",
      "1901360          organic cyclic compound metabolic process  \n",
      "1901363                      heterocyclic compound binding  \n",
      "1901381  positive regulation of potassium ion transmemb...  \n",
      "1901385  regulation of voltage-gated calcium channel ac...  \n",
      "1901564          organonitrogen compound metabolic process  \n",
      "1901566       organonitrogen compound biosynthetic process  \n",
      "1901575                organic substance catabolic process  \n",
      "1901607              alpha-amino acid biosynthetic process  \n",
      "1901657                glycosyl compound metabolic process  \n",
      "1901701    cellular response to oxygen-containing compound  \n",
      "1901990  regulation of mitotic cell cycle phase transition  \n",
      "1902099  regulation of metaphase/anaphase transition of...  \n",
      "1902100  negative regulation of metaphase/anaphase tran...  \n",
      "1902107   positive regulation of leukocyte differentiation  \n",
      "1902668               negative regulation of axon guidance  \n",
      "1902742          apoptotic process involved in development  \n",
      "1902850  microtubule cytoskeleton organization involved...  \n",
      "1903050  regulation of proteolysis involved in cellular...  \n",
      "1903649                regulation of cytoplasmic transport  \n",
      "1904753  negative regulation of vascular associated smo...  \n",
      "1904892  regulation of receptor signaling pathway via STAT  \n",
      "1905819       negative regulation of chromosome separation  \n",
      "1990204                             oxidoreductase complex  \n",
      "1990830    cellular response to leukemia inhibitory factor  \n",
      "2000177  regulation of neural precursor cell proliferation  \n",
      "2000816  negative regulation of mitotic sister chromati...  \n",
      "2001021  negative regulation of response to DNA damage ...  \n",
      "2001259     positive regulation of cation channel activity  \n",
      "\n",
      "[464 rows x 7 columns]\n",
      "query:473862\n",
      "           distance  cluster   jaccard   nterms         IC  score  \\\n",
      "79        10.634007        0  1.000000   2665.0        NaN    NaN   \n",
      "97         9.030849        1  1.000000  11819.0        NaN    NaN   \n",
      "226        8.782448       21  0.773438   1117.0        NaN    NaN   \n",
      "1539       4.987694       31  1.000000   5679.0        NaN    NaN   \n",
      "1653      19.840259       18  1.000000    499.0  11.665917    0.0   \n",
      "1654       0.000000       28  0.738281      6.0  14.044281    NaN   \n",
      "1732       0.051557       14  1.000000   9452.0        NaN    NaN   \n",
      "1909       1.923188       26  0.796875     49.0        NaN    NaN   \n",
      "1958      99.445250       32  0.773438      1.0        NaN    NaN   \n",
      "2100       0.929016       19  1.000000   7066.0        NaN    NaN   \n",
      "2696      47.257586       23  0.773438      9.0        NaN    NaN   \n",
      "2757       6.560113       25  1.000000    183.0        NaN    NaN   \n",
      "3179       4.621053       12  1.000000    416.0        NaN    NaN   \n",
      "3674     178.610037        6  0.773438    930.0   3.700490    0.0   \n",
      "3678      10.011333       15  1.000000   1054.0        NaN    NaN   \n",
      "3730      45.447926       23  0.773438      9.0        NaN    NaN   \n",
      "3824       0.000000        6  0.773438    930.0   4.146338    NaN   \n",
      "3871       0.953627       19  1.000000   7066.0        NaN    NaN   \n",
      "3905      10.117888       25  1.000000    183.0        NaN    NaN   \n",
      "4066       9.400470       33  0.773438    221.0        NaN    NaN   \n",
      "4084      39.579891       28  0.738281      6.0        NaN    NaN   \n",
      "4137       0.030122       14  1.000000   9452.0        NaN    NaN   \n",
      "4156      87.917989       32  0.773438      1.0        NaN    NaN   \n",
      "4359       7.721586       11  1.000000   6833.0        NaN    NaN   \n",
      "4418       0.918774       19  1.000000   7066.0        NaN    NaN   \n",
      "4551       6.018528       31  1.000000   5679.0        NaN    NaN   \n",
      "4553      10.769703       20  1.000000  19822.0        NaN    NaN   \n",
      "4824      36.472467       28  0.738281      6.0        NaN    NaN   \n",
      "4869     105.908392       32  0.773438      1.0        NaN    NaN   \n",
      "4888       5.710464       16  1.000000  20931.0        NaN    NaN   \n",
      "...             ...      ...       ...      ...        ...    ...   \n",
      "97596      8.061399       21  0.773438   1117.0        NaN    NaN   \n",
      "97597      7.732149       21  0.773438   1117.0        NaN    NaN   \n",
      "98590      0.000000       23  0.773438      9.0  11.954493    NaN   \n",
      "98794      0.000000       24  1.000000   6352.0  11.630984    NaN   \n",
      "98813     15.306087        5  0.796875   2246.0  10.963856    0.0   \n",
      "98852      6.997099       25  1.000000    183.0  13.828160    0.0   \n",
      "120114     6.745780       11  1.000000   6833.0  12.654877    0.0   \n",
      "140110     0.000000       31  1.000000   5679.0   7.746482    NaN   \n",
      "140115    12.563675       29  1.000000   1353.0        NaN    NaN   \n",
      "1901136   52.695827       23  0.773438      9.0        NaN    NaN   \n",
      "1901342    2.372065       17  1.000000   5566.0        NaN    NaN   \n",
      "1901360  185.129128        6  0.773438    930.0   4.772986    0.0   \n",
      "1901385    3.933182       12  1.000000    416.0        NaN    NaN   \n",
      "1901386    3.260315       12  1.000000    416.0        NaN    NaN   \n",
      "1901564  185.153402        6  0.773438    930.0   4.674508    0.0   \n",
      "1901566   10.889022        3  1.000000  38449.0   4.965424    0.0   \n",
      "1901605   13.711590       20  1.000000  19822.0   5.217310    0.0   \n",
      "1901607    4.954393        2  1.000000  23805.0        NaN    NaN   \n",
      "1901617    0.000000       20  1.000000  19822.0  10.317149    NaN   \n",
      "1901657    8.759882       13  1.000000   7127.0        NaN    NaN   \n",
      "1901699    5.479175       31  1.000000   5679.0  12.467121    0.0   \n",
      "1901987   11.559477       33  0.773438    221.0  12.793640    0.0   \n",
      "1901990    9.474768       33  0.773438    221.0  12.903629    0.0   \n",
      "1902099    9.759072       33  0.773438    221.0  13.383165    0.0   \n",
      "1902476    4.475213       21  0.773438   1117.0        NaN    NaN   \n",
      "1902652    8.616005        9  1.000000   2135.0        NaN    NaN   \n",
      "1902776    5.455511       30  1.000000   2528.0        NaN    NaN   \n",
      "1904688   36.768718       28  0.738281      6.0        NaN    NaN   \n",
      "1905209    0.045485       14  1.000000   9452.0        NaN    NaN   \n",
      "2000177   51.120108       23  0.773438      9.0        NaN    NaN   \n",
      "\n",
      "                                                      name  \n",
      "79       regulation of cyclin-dependent protein serine/...  \n",
      "97                  sulfur amino acid biosynthetic process  \n",
      "226                  microtubule cytoskeleton organization  \n",
      "1539           cilium or flagellum-dependent cell motility  \n",
      "1653                             peptide receptor activity  \n",
      "1654                                       eye development  \n",
      "1732     formation of cytoplasmic translation initiatio...  \n",
      "1909                       leukocyte mediated cytotoxicity  \n",
      "1958                             endochondral ossification  \n",
      "2100              tRNA wobble adenosine to inosine editing  \n",
      "2696           positive regulation of leukocyte activation  \n",
      "2757        immune response-activating signal transduction  \n",
      "3179                             heart valve morphogenesis  \n",
      "3674                                    molecular_function  \n",
      "3678                                 DNA helicase activity  \n",
      "3730                                   mRNA 3'-UTR binding  \n",
      "3824                                    catalytic activity  \n",
      "3871     5-methyltetrahydropteroyltriglutamate-homocyst...  \n",
      "3905                  alkylbase DNA N-glycosylase activity  \n",
      "4066     asparagine synthase (glutamine-hydrolyzing) ac...  \n",
      "4084       branched-chain-amino-acid transaminase activity  \n",
      "4137                         deoxycytidine kinase activity  \n",
      "4156                     dihydropteroate synthase activity  \n",
      "4359                                  glutaminase activity  \n",
      "4418                 hydroxymethylbilane synthase activity  \n",
      "4551                     nucleotide diphosphatase activity  \n",
      "4553     hydrolase activity, hydrolyzing O-glycosyl com...  \n",
      "4824                           lysine-tRNA ligase activity  \n",
      "4869        cysteine-type endopeptidase inhibitor activity  \n",
      "4888             transmembrane signaling receptor activity  \n",
      "...                                                    ...  \n",
      "97596         ventral disc supernumerary microtubule array  \n",
      "97597                                         ventral disc  \n",
      "98590                               plasma membrane region  \n",
      "98794                                          postsynapse  \n",
      "98813                       nuclear chromosome segregation  \n",
      "98852                               lytic vacuole membrane  \n",
      "120114                      Sm-like protein family complex  \n",
      "140110                    transcription regulator activity  \n",
      "140115                       export across plasma membrane  \n",
      "1901136          carbohydrate derivative catabolic process  \n",
      "1901342              regulation of vasculature development  \n",
      "1901360          organic cyclic compound metabolic process  \n",
      "1901385  regulation of voltage-gated calcium channel ac...  \n",
      "1901386  negative regulation of voltage-gated calcium c...  \n",
      "1901564          organonitrogen compound metabolic process  \n",
      "1901566       organonitrogen compound biosynthetic process  \n",
      "1901605                 alpha-amino acid metabolic process  \n",
      "1901607              alpha-amino acid biosynthetic process  \n",
      "1901617      organic hydroxy compound biosynthetic process  \n",
      "1901657                glycosyl compound metabolic process  \n",
      "1901699             cellular response to nitrogen compound  \n",
      "1901987          regulation of cell cycle phase transition  \n",
      "1901990  regulation of mitotic cell cycle phase transition  \n",
      "1902099  regulation of metaphase/anaphase transition of...  \n",
      "1902476                   chloride transmembrane transport  \n",
      "1902652                secondary alcohol metabolic process  \n",
      "1902776             6-sulfoquinovose(1-) metabolic process  \n",
      "1904688  regulation of cytoplasmic translational initia...  \n",
      "1905209  positive regulation of cardiocyte differentiation  \n",
      "2000177  regulation of neural precursor cell proliferation  \n",
      "\n",
      "[347 rows x 7 columns]\n",
      "query:481745\n",
      "           distance  cluster   jaccard   nterms         IC  score  \\\n",
      "41        24.371502       17  0.523438    132.0        NaN    NaN   \n",
      "96         5.701073        6  1.000000   3353.0        NaN    NaN   \n",
      "118        3.774858       20  1.000000    690.0        NaN    NaN   \n",
      "793        5.492712       22  1.000000    113.0        NaN    NaN   \n",
      "1505      10.491172       10  1.000000   1060.0        NaN    NaN   \n",
      "1882       4.625848        8  1.000000    817.0   8.509849    0.0   \n",
      "1883       5.428923        8  1.000000    817.0   8.560504    0.0   \n",
      "2262      52.794251       14  0.523438     14.0        NaN    NaN   \n",
      "3674     178.610037        0  1.000000   3095.0   3.700490    0.0   \n",
      "3724      59.983533       14  0.523438     14.0        NaN    NaN   \n",
      "3824       0.000000        0  1.000000   3095.0   4.146338    NaN   \n",
      "4368       2.093942        9  1.000000    195.0        NaN    NaN   \n",
      "4450       1.973935        9  1.000000    195.0        NaN    NaN   \n",
      "4521       9.436817        5  1.000000   1571.0   9.988570    0.0   \n",
      "4526       1.772177        9  1.000000    195.0        NaN    NaN   \n",
      "4738       8.383977        4  1.000000    137.0        NaN    NaN   \n",
      "4822       1.968140        9  1.000000    195.0        NaN    NaN   \n",
      "4978       4.345620       20  1.000000    690.0        NaN    NaN   \n",
      "5215      25.492890       17  0.523438    132.0   5.857609    0.0   \n",
      "5310      11.981274       18  1.000000     52.0        NaN    NaN   \n",
      "5525       5.432716        8  1.000000    817.0   8.561076    0.0   \n",
      "5575     185.695356        0  1.000000   3095.0   4.242032    0.0   \n",
      "5765       0.000000       20  1.000000    690.0  13.991120    NaN   \n",
      "5773       0.000000       19  1.000000    601.0  11.740645    NaN   \n",
      "5886      10.229188       16  1.000000   7786.0   6.708530    0.0   \n",
      "5978       6.630997        8  1.000000    817.0        NaN    NaN   \n",
      "6091       7.762385        2  1.000000   5550.0        NaN    NaN   \n",
      "6170       0.062549       12  1.000000   2255.0        NaN    NaN   \n",
      "6379       9.521355        5  1.000000   1571.0        NaN    NaN   \n",
      "6508       6.122229       22  1.000000    113.0   6.775633    0.0   \n",
      "...             ...      ...       ...      ...        ...    ...   \n",
      "72523      6.337186       21  1.000000  14419.0        NaN    NaN   \n",
      "72657      7.724509        5  1.000000   1571.0        NaN    NaN   \n",
      "75114     19.515826       15  0.523438    157.0        NaN    NaN   \n",
      "90305      0.000000        4  1.000000    137.0   7.818182    NaN   \n",
      "90502      9.724088        5  1.000000   1571.0   9.984258    0.0   \n",
      "97708      7.448083        2  1.000000   5550.0  10.844593    0.0   \n",
      "98655      9.103434       16  1.000000   7786.0   5.923165    0.0   \n",
      "98656     16.895831       17  0.523438    132.0   9.153775    0.0   \n",
      "98789      8.529387        5  1.000000   1571.0        NaN    NaN   \n",
      "98805      7.325073        2  1.000000   5550.0  10.787710    0.0   \n",
      "120031     7.663863       19  1.000000    601.0        NaN    NaN   \n",
      "120114     7.615505       22  1.000000    113.0        NaN    NaN   \n",
      "140098     0.000000        3  0.363281      1.0   7.331577    NaN   \n",
      "1901264   12.808867       17  0.523438    132.0        NaN    NaN   \n",
      "1901360    7.895233        1  1.000000  31581.0   4.772986    0.0   \n",
      "1901505   25.914045       17  0.523438    132.0        NaN    NaN   \n",
      "1901564    9.443443        1  1.000000  31581.0   4.674508    0.0   \n",
      "1901566   10.889022        1  1.000000  31581.0   4.965424    0.0   \n",
      "1901575    5.127033       21  1.000000  14419.0   5.270367    0.0   \n",
      "1901605    5.258090       21  1.000000  14419.0        NaN    NaN   \n",
      "1901657    4.671977       23  1.000000   2744.0        NaN    NaN   \n",
      "1901700    0.000000        5  1.000000   1571.0  10.647241    NaN   \n",
      "1901701    6.280171        4  1.000000    137.0  10.801792    0.0   \n",
      "1903363    5.231886       11  1.000000      9.0        NaN    NaN   \n",
      "1903827   13.393691       11  1.000000      9.0        NaN    NaN   \n",
      "1904064    6.705935       11  1.000000      9.0        NaN    NaN   \n",
      "1990204    9.130538       23  1.000000   2744.0  10.351363    0.0   \n",
      "1990748    6.405364        8  1.000000    817.0        NaN    NaN   \n",
      "2000026    0.000000       22  1.000000    113.0  12.196677    NaN   \n",
      "2000117    9.662955       11  1.000000      9.0        NaN    NaN   \n",
      "\n",
      "                                                      name  \n",
      "41                          transition metal ion transport  \n",
      "96                     sulfur amino acid metabolic process  \n",
      "118                            histone deacetylase complex  \n",
      "793                                   condensed chromosome  \n",
      "1505                 regulation of neurotransmitter levels  \n",
      "1882                                    nucleoside binding  \n",
      "1883                             purine nucleoside binding  \n",
      "2262                              myeloid cell homeostasis  \n",
      "3674                                    molecular_function  \n",
      "3724                                 RNA helicase activity  \n",
      "3824                                    catalytic activity  \n",
      "4368     glycerol-3-phosphate dehydrogenase (quinone) a...  \n",
      "4450             isocitrate dehydrogenase (NADP+) activity  \n",
      "4521                             endoribonuclease activity  \n",
      "4526                               ribonuclease P activity  \n",
      "4738                       pyruvate dehydrogenase activity  \n",
      "4822                       isoleucine-tRNA ligase activity  \n",
      "4978                       corticotropin receptor activity  \n",
      "5215                                  transporter activity  \n",
      "5310     dicarboxylic acid transmembrane transporter ac...  \n",
      "5525                                           GTP binding  \n",
      "5575                                    cellular_component  \n",
      "5765                                    lysosomal membrane  \n",
      "5773                                               vacuole  \n",
      "5886                                       plasma membrane  \n",
      "5978                         glycogen biosynthetic process  \n",
      "6091        generation of precursor metabolites and energy  \n",
      "6170                             dAMP biosynthetic process  \n",
      "6379                                         mRNA cleavage  \n",
      "6508                                           proteolysis  \n",
      "...                                                    ...  \n",
      "72523         purine-containing compound catabolic process  \n",
      "72657                     protein localization to membrane  \n",
      "75114    suppression by symbiont of host transmembrane ...  \n",
      "90305          nucleic acid phosphodiester bond hydrolysis  \n",
      "90502    RNA phosphodiester bond hydrolysis, endonucleo...  \n",
      "97708                                intracellular vesicle  \n",
      "98655                       cation transmembrane transport  \n",
      "98656                        anion transmembrane transport  \n",
      "98789       pre-mRNA cleavage required for polyadenylation  \n",
      "98805                                       whole membrane  \n",
      "120031    plasma membrane bounded cell projection assembly  \n",
      "120114                      Sm-like protein family complex  \n",
      "140098                   catalytic activity, acting on RNA  \n",
      "1901264                  carbohydrate derivative transport  \n",
      "1901360          organic cyclic compound metabolic process  \n",
      "1901505  carbohydrate derivative transmembrane transpor...  \n",
      "1901564          organonitrogen compound metabolic process  \n",
      "1901566       organonitrogen compound biosynthetic process  \n",
      "1901575                organic substance catabolic process  \n",
      "1901605                 alpha-amino acid metabolic process  \n",
      "1901657                glycosyl compound metabolic process  \n",
      "1901700             response to oxygen-containing compound  \n",
      "1901701    cellular response to oxygen-containing compound  \n",
      "1903363  negative regulation of cellular protein catabo...  \n",
      "1903827        regulation of cellular protein localization  \n",
      "1904064  positive regulation of cation transmembrane tr...  \n",
      "1990204                             oxidoreductase complex  \n",
      "1990748                            cellular detoxification  \n",
      "2000026  regulation of multicellular organismal develop...  \n",
      "2000117  negative regulation of cysteine-type endopepti...  \n",
      "\n",
      "[236 rows x 7 columns]\n",
      "query:476412\n"
     ]
    },
    {
     "name": "stderr",
     "output_type": "stream",
     "text": [
      "E0117 11:43:35.760529 139650216625536 ultratb.py:155] Internal Python error in the inspect module.\n",
      "Below is the traceback from this internal error.\n",
      "\n"
     ]
    },
    {
     "name": "stdout",
     "output_type": "stream",
     "text": [
      "Traceback (most recent call last):\n",
      "  File \"/home/cactuskid13/miniconda3/envs/pyprofiler3/lib/python3.7/site-packages/IPython/core/interactiveshell.py\", line 3325, in run_code\n",
      "    exec(code_obj, self.user_global_ns, self.user_ns)\n",
      "  File \"<ipython-input-40-48a401521f46>\", line 13, in <module>\n",
      "    print(embedding_kd_ap( h ,  p, tree, embedmat , index , reverse_index , nannot, c,  10   , 10  , hogs))\n",
      "  File \"<ipython-input-39-358d61903e8e>\", line 45, in embedding_kd_ap\n",
      "    godf = pd.DataFrame.from_dict( godict , orient = 'index')\n",
      "  File \"/home/cactuskid13/miniconda3/envs/pyprofiler3/lib/python3.7/site-packages/pandas/core/frame.py\", line 1138, in from_dict\n",
      "    return cls(data, index=index, columns=columns, dtype=dtype)\n",
      "  File \"/home/cactuskid13/miniconda3/envs/pyprofiler3/lib/python3.7/site-packages/pandas/core/frame.py\", line 392, in __init__\n",
      "    mgr = init_dict(data, index, columns, dtype=dtype)\n",
      "  File \"/home/cactuskid13/miniconda3/envs/pyprofiler3/lib/python3.7/site-packages/pandas/core/internals/construction.py\", line 212, in init_dict\n",
      "    return arrays_to_mgr(arrays, data_names, index, columns, dtype=dtype)\n",
      "  File \"/home/cactuskid13/miniconda3/envs/pyprofiler3/lib/python3.7/site-packages/pandas/core/internals/construction.py\", line 56, in arrays_to_mgr\n",
      "    arrays = _homogenize(arrays, index, dtype)\n",
      "  File \"/home/cactuskid13/miniconda3/envs/pyprofiler3/lib/python3.7/site-packages/pandas/core/internals/construction.py\", line 275, in _homogenize\n",
      "    val = lib.fast_multiget(val, oindex.values, default=np.nan)\n",
      "KeyboardInterrupt\n",
      "\n",
      "During handling of the above exception, another exception occurred:\n",
      "\n",
      "Traceback (most recent call last):\n",
      "  File \"/home/cactuskid13/miniconda3/envs/pyprofiler3/lib/python3.7/site-packages/IPython/core/interactiveshell.py\", line 2039, in showtraceback\n",
      "    stb = value._render_traceback_()\n",
      "AttributeError: 'KeyboardInterrupt' object has no attribute '_render_traceback_'\n",
      "\n",
      "During handling of the above exception, another exception occurred:\n",
      "\n",
      "Traceback (most recent call last):\n",
      "  File \"/home/cactuskid13/miniconda3/envs/pyprofiler3/lib/python3.7/site-packages/IPython/core/ultratb.py\", line 1101, in get_records\n",
      "    return _fixed_getinnerframes(etb, number_of_lines_of_context, tb_offset)\n",
      "  File \"/home/cactuskid13/miniconda3/envs/pyprofiler3/lib/python3.7/site-packages/IPython/core/ultratb.py\", line 319, in wrapped\n",
      "    return f(*args, **kwargs)\n",
      "  File \"/home/cactuskid13/miniconda3/envs/pyprofiler3/lib/python3.7/site-packages/IPython/core/ultratb.py\", line 353, in _fixed_getinnerframes\n",
      "    records = fix_frame_records_filenames(inspect.getinnerframes(etb, context))\n",
      "  File \"/home/cactuskid13/miniconda3/envs/pyprofiler3/lib/python3.7/inspect.py\", line 1502, in getinnerframes\n",
      "    frameinfo = (tb.tb_frame,) + getframeinfo(tb, context)\n",
      "  File \"/home/cactuskid13/miniconda3/envs/pyprofiler3/lib/python3.7/inspect.py\", line 1460, in getframeinfo\n",
      "    filename = getsourcefile(frame) or getfile(frame)\n",
      "  File \"/home/cactuskid13/miniconda3/envs/pyprofiler3/lib/python3.7/inspect.py\", line 696, in getsourcefile\n",
      "    if getattr(getmodule(object, filename), '__loader__', None) is not None:\n",
      "  File \"/home/cactuskid13/miniconda3/envs/pyprofiler3/lib/python3.7/inspect.py\", line 732, in getmodule\n",
      "    for modname, module in list(sys.modules.items()):\n",
      "KeyboardInterrupt\n"
     ]
    },
    {
     "ename": "KeyboardInterrupt",
     "evalue": "",
     "output_type": "error",
     "traceback": [
      "\u001b[0;31m---------------------------------------------------------------------------\u001b[0m"
     ]
    }
   ],
   "source": [
    "#chunk predicition and save as you go along\n",
    "\n",
    "\n",
    "for \n"
   ]
  },
  {
   "cell_type": "code",
   "execution_count": 165,
   "metadata": {},
   "outputs": [],
   "source": [
    "###### start machine learning profiler based function prediction here #####\n",
    "#fit distribution params to jaccards and annot vecs?\n",
    "#pull in terms in the embedding and use them as suggestions\n",
    "\n",
    "def train_gengovec( qseqdfs , p ,  gaf , c , taxembed , embedmat , index  , taxindex , specdict , hogs, visdist  , k , obo,  batchsize ):\n",
    "    #this is to generate the training data... some info on each go term relative to the profiles pulled in \n",
    "    #classifier decides y or n\n",
    "    nannot = sum(c.values())\n",
    "    #prob a good idea to generate a bunch of these and fit a normalizer on the data.\n",
    "    #qseqdata is a generator of dataframes with columns = [ qseq , qhog ]\n",
    "    #sequences are ordered by Hog number to avoid splitting them up\n",
    "    govecs =[]\n",
    "    ys=[]\n",
    "    for qseqdata in qseqdfs:\n",
    "        for hog in qseqdata.hog.unique():\n",
    "            #proceed by hog\n",
    "            #use the profiler to get all coev HOGs\n",
    "            res = p.hog_query(hog_id = hog , k = k )\n",
    "            res+= [str(hog)]\n",
    "            hashes =  p.pull_hashes(res)\n",
    "            #get all hog members and annotations\n",
    "            members =  { r : [ m for m in hogs[int(r)] if m in gaf ] for r in res  }\n",
    "            globalgodict = {  m + '_' + str(go) :{ 'fam':r , 'omaid':m ,  'GO':go , 'Tax':taxindex[specdict[m[0:5]]] , 'omaid':m } for r in res for m in members[r] for go in get_ancestors( gaf[m] , obo )  }\n",
    "            if len(globalgodict)>0:\n",
    "                #embed go and tax\n",
    "                ggodf = pd.DataFrame.from_dict( globalgodict , orient = 'index')\n",
    "                ggodf['name'] = ggodf.GO.map(lambda go : obo[ id2GO(go)].name )\n",
    "                GO_embedding = { go:embedmat[ index[go], : ] for go in ggodf.GO.unique()  if go in index }\n",
    "                Tax_embedding = { genome:taxembed[genome,:] for genome in ggodf.Tax.unique() }\n",
    "                ICs = { go:np.log( nannot/c[go]) for go in ggodf.GO.unique()  if go in c }\n",
    "                ICs.update( { go:max(ICs.values()) for go in ggodf.GO.unique() if go not in ICs }  )\n",
    "\n",
    "                ggodf['GOembed'] = ggodf.GO.map(GO_embedding)\n",
    "                ggodf['TaxEmbed'] = ggodf.Tax.map( Tax_embedding )\n",
    "                ggodf['IC'] = ggodf.GO.map(ICs)\n",
    "                \n",
    "                for qhog in ggodf.fam.unique():\n",
    "                    t0 = time.time()\n",
    "                    godf = ggodf[ggodf.fam != qhog].copy()\n",
    "                    godf = godf[ godf.fam != str(qhog) ]\n",
    "                    \n",
    "                    \n",
    "                    if len(godf)>0:\n",
    "                        #jaccard relative to qhog\n",
    "                        qHOGgo =  [ embedmat[ index[go] ,:]  for m in ggodf[ggodf.fam == qhog].omaid for go in gaf[m] if go in index]\n",
    "                        \n",
    "                        if len(qHOGgo) == 0 :\n",
    "                            #if no annotations then just use 'biological process' as annotation\n",
    "                            qHOGavg = embedmat[ index[8150] ,: ]\n",
    "                            qHOGstdv = [0,0,0]\n",
    "                        else:\n",
    "                            qHOGavg = np.mean( np.vstack(qHOGgo))\n",
    "                            qHOGstdv = np.std( np.vstack(qHOGgo))\n",
    "                        \n",
    "                        counts = { go:len(godf[godf.GO==go]) for go in godf.GO.unique() }\n",
    "                        Freqs = { go:counts[go]/len(godf) for go in godf.GO.unique() }\n",
    "                        jaccards = { r:hashes[r].jaccard(hashes[qhog]) for r in godf.fam.unique() }\n",
    "                        godf['jaccard'] = godf.fam.map(jaccards)\n",
    "                        embedmat_matches = np.vstack(godf.GOembed[ ~godf.GOembed.isna() ])                        \n",
    "                        GOembedavg = np.mean( embedmat_matches )\n",
    "                        GOembedstd = np.std( embedmat_matches )\n",
    "                        ICavg = np.mean( godf.IC )\n",
    "                        ICstdv = np.std( godf.IC )\n",
    "                        \n",
    "                        if visdist:\n",
    "                            plt.title('Jaccard')\n",
    "                            plt.hist(godf.jaccard)\n",
    "                            plt.show()\n",
    "                            plt.title('IC')\n",
    "                            plt.hist(list(ICs.values()))\n",
    "                            plt.show()\n",
    "                        \n",
    "                        for go in godf.GO.unique():\n",
    "                            sub = godf[ godf.GO == go ]\n",
    "                            taxspread = np.std(np.vstack(sub.Tax))\n",
    "                            taxcentroid = np.mean(np.vstack(sub.Tax))\n",
    "                            if visdist:\n",
    "                                plt.title( 'taxspread:'+  id2GO(go))\n",
    "                                plt.scatter( taxembed[:,0], taxembed[:,1]  , alpha = .25 )\n",
    "                                taxa = np.vstack(sub.TaxEmbed)\n",
    "                                plt.scatter( taxa[:,0], taxa[:,1]  , alpha = 0.25)\n",
    "                                plt.show()\n",
    "                            \n",
    "                            for seq in list(ggodf[ggodf.fam == qhog ].omaid.unique())[0:1000]:\n",
    "                                #for each go for each qseq in qhog\n",
    "                                seqTaxEmbed = taxembed[ taxindex[specdict[seq[0:5]]] , :  ]\n",
    "                                #min taxonomic distance at which the annotation being tested is found\n",
    "                                taxdists = np.vstack(sub.TaxEmbed.map( lambda x: np.linalg.norm(x-seqTaxEmbed)))\n",
    "                                if visdist:\n",
    "                                    plt.title('taxdist')\n",
    "                                    plt.hist(taxdists)\n",
    "                                    plt.show()\n",
    "                                \n",
    "                                taxdifference = np.vstack(sub.TaxEmbed.map( lambda x: x-seqTaxEmbed) )\n",
    "                                taxdifferencespread = np.std(np.vstack(taxdifference))\n",
    "                                taxdifferencecentroid = np.mean(np.vstack(taxdifference))\n",
    "                                \n",
    "                                if go in GO_embedding:\n",
    "                                    govec = np.array( [ sub.IC.max() ,  ICavg , ICstdv , len(godf) , len(sub) ,  \n",
    "                                                       sub.jaccard.max(),  sub.jaccard.mean() , \n",
    "                                                       sub.jaccard.std(), sub.jaccard.max(), sub.jaccard.min() , \n",
    "                                                       godf.jaccard.mean() , godf.jaccard.std(), godf.jaccard.max(), \n",
    "                                                       godf.jaccard.min(), np.amin(taxdists)  \n",
    "                                                       ])\n",
    "\n",
    "                                    govec = np.hstack([govec, seqTaxEmbed , GOembedavg , GOembedstd , GO_embedding[go] , qHOGavg, qHOGstdv , taxspread, taxcentroid , taxdifferencespread , taxdifferencecentroid])\n",
    "\n",
    "                                    #does the prot have this annotation?\n",
    "                                    \n",
    "                                    if go in list(ggodf.GO[ ggodf.fam == str(qhog) ] ):\n",
    "\n",
    "                                        y = [1]\n",
    "                                    else:\n",
    "                                        y =[0]\n",
    "                                    govecs.append(govec)\n",
    "                                    ys.append(y)\n",
    "\n",
    "                                    if len(govecs)>batchsize:\n",
    "                                        yield ( {'govec':np.vstack(govecs)} , {'y':np.vstack(ys)} )\n",
    "                                        govecs = []\n",
    "                                        ys=[]\n",
    "\n",
    "                                    \n",
    "#todo write a vec generator for targets and testing\n",
    "def predict_targets( qhogs , p ,  gaf , c , taxembed , embedmat , index  , taxindex , specdict , hogs, k = 10 ,   visdist = False , obo = obo, batchsize = 100 ):\n",
    "    nannot = sum(c.values())\n",
    "    #prob a good idea to generate a bunch of these and fit a normalizer on the data.\n",
    "    #qseqdata is a generator of dataframes with columns = [ qseq , qhog ]\n",
    "    #sequences are ordered by Hog number to avoid splitting them up\n",
    "    govecs =[]\n",
    "    \n",
    "    \n",
    "    for qseqdata in qseqdfs:\n",
    "        for hog in qseqdata.hog.unique():\n",
    "            #proceed by hog\n",
    "            #use the profiler to get all coev HOGs\n",
    "            res = p.hog_query(hog_id = hog , k = k )\n",
    "            res+= [str(hog)]\n",
    "            hashes =  p.pull_hashes(res)\n",
    "            #get all hog members and annotations\n",
    "            members =  { r : [ m for m in hogs[int(r)] if m in gaf ] for r in res  }\n",
    "            globalgodict = {  m + '_' + str(go) :{ 'fam':r , 'omaid':m ,  'GO':go , 'Tax':taxindex[specdict[m[0:5]]] , 'omaid':m } for r in res for m in members[r] for go in get_ancestors( gaf[m] , obo )  }\n",
    "            if len(globalgodict)>0:\n",
    "                #embed go and tax\n",
    "                ggodf = pd.DataFrame.from_dict( globalgodict , orient = 'index')\n",
    "                ggodf['name'] = ggodf.GO.map(lambda go : obo[ id2GO(go)].name )\n",
    "                GO_embedding = { go:embedmat[ index[go], : ] for go in ggodf.GO.unique()  if go in index }\n",
    "                Tax_embedding = { genome:taxembed[genome,:] for genome in ggodf.Tax.unique() }\n",
    "                ICs = { go:np.log(c[go]/nannot) for go in ggodf.GO.unique()  if go in c }\n",
    "                \n",
    "                ggodf['GOembed'] = ggodf.GO.map(GO_embedding)\n",
    "                ggodf['TaxEmbed'] = ggodf.Tax.map( Tax_embedding )\n",
    "                ggodf['IC'] = ggodf.GO.map(ICs)\n",
    "                if len(godf)>0:\n",
    "                    #jaccard relative to qhog\n",
    "                    qHOGgo =  [ embedmat[ index[go] ,:]  for m in ggodf[ggodf.fam == qhog].omaid for go in gaf[m] if go in index]\n",
    "\n",
    "                    if len(qHOGgo) == 0 :\n",
    "                        #if no annotations then just use 'biological process' as annotation\n",
    "                        qHOGavg = embedmat[ index[8150] ,: ]\n",
    "                        qHOGstdv = [0,0,0]\n",
    "                    else:\n",
    "                        qHOGavg = np.mean( np.vstack(qHOGgo))\n",
    "                        qHOGstdv = np.std( np.vstack(qHOGgo))\n",
    "\n",
    "                    counts = { go:len(godf[godf.GO==go]) for go in godf.GO.unique() }\n",
    "                    Freqs = { go:counts[go]/len(godf) for go in godf.GO.unique() }\n",
    "                    jaccards = { r:hashes[r].jaccard(hashes[qhog]) for r in godf.fam.unique() }\n",
    "                    godf['jaccard'] = godf.fam.map(jaccards)\n",
    "                    embedmat_matches = np.vstack(godf.GOembed[ ~godf.GOembed.isna() ])                        \n",
    "                    GOembedavg = np.mean( embedmat_matches )\n",
    "                    GOembedstd = np.std( embedmat_matches )\n",
    "                    ICavg = np.mean( godf.IC )\n",
    "                    ICstdv = np.std( godf.IC )\n",
    "\n",
    "                    if visdist:\n",
    "                        plt.title('Jaccard')\n",
    "                        plt.hist(godf.jaccard)\n",
    "                        plt.show()\n",
    "                        plt.title('IC')\n",
    "                        plt.hist(list(ICs.values()))\n",
    "                        plt.show()\n",
    "\n",
    "                    for go in godf.GO.unique():\n",
    "                        sub = godf[ godf.GO == go ]\n",
    "                        taxspread = np.std(np.vstack(sub.Tax))\n",
    "                        taxcentroid = np.mean(np.vstack(sub.Tax))\n",
    "                        if visdist:\n",
    "                            plt.title( 'taxspread:'+  id2GO(go))\n",
    "                            plt.scatter( taxembed[:,0], taxembed[:,1]  , alpha = .25 )\n",
    "                            taxa = np.vstack(sub.TaxEmbed)\n",
    "                            plt.scatter( taxa[:,0], taxa[:,1]  , alpha = 0.25)\n",
    "                            plt.show()\n",
    "                        for seq in godf[godf.fam == str(qhog) ].omaid.unique():\n",
    "                            #for each go for each qseq in qhog\n",
    "                            seqTaxEmbed = taxembed[ taxindex[specdict[seq[0:5]]] , :  ]\n",
    "                            #min taxonomic distance at which the annotation being tested is found\n",
    "                            taxdists = np.vstack(sub.TaxEmbed.map( lambda x: np.linalg.norm(x-seqTaxEmbed)))\n",
    "                            if visdist:\n",
    "                                plt.title('taxdist')\n",
    "                                plt.hist(taxdists)\n",
    "                                plt.show()\n",
    "                            taxdifference = np.vstack(sub.TaxEmbed.map( lambda x: x-seqTaxEmbed) )\n",
    "                            taxdifferencespread = np.std(np.vstack(taxdifference))\n",
    "                            taxdifferencecentroid = np.mean(np.vstack(taxdifference))\n",
    "                            if go in GO_embedding:\n",
    "                                govec = np.array( [ sub.IC.max() ,  ICavg , ICstdv , len(godf) , len(sub) ,  \n",
    "                                                   sub.jaccard.max(),  sub.jaccard.mean() , \n",
    "                                                   sub.jaccard.std(), sub.jaccard.max(), sub.jaccard.min() , \n",
    "                                                   godf.jaccard.mean() , godf.jaccard.std(), godf.jaccard.max(), \n",
    "                                                   godf.jaccard.min(), np.amin(taxdists)  \n",
    "                                                   ])\n",
    "\n",
    "                                govec = np.hstack([govec, seqTaxEmbed , GOembedavg , GOembedstd , GO_embedding[go] , qHOGavg, qHOGstdv , taxspread, taxcentroid , taxdifferencespread , taxdifferencecentroid])\n",
    "                                govecs.append(govec)\n",
    "\n",
    "                                if len(govecs)>batchsize:\n",
    "                                    #return vec of GO term\n",
    "                                    yield ( {'govec':np.vstack(govecs)}  )\n",
    "                                    \n",
    "\n",
    "                    "
   ]
  },
  {
   "cell_type": "code",
   "execution_count": 166,
   "metadata": {},
   "outputs": [],
   "source": [
    "\n",
    "train_govecs = train_gengovec( hogiterator,  p ,  gaf , c , taxembedscaled , embedmat_scaled , index  , taxindex , specdict , hogs, k = 20 ,   visdist = False , obo = obo, batchsize = 100  )"
   ]
  },
  {
   "cell_type": "code",
   "execution_count": 183,
   "metadata": {},
   "outputs": [
    {
     "name": "stdout",
     "output_type": "stream",
     "text": [
      "({'govec': array([[ 8.56623560e+00,  6.69238542e+00,  2.82083895e+00, ...,\n",
      "         2.17407143e+03,  5.28861847e-02, -5.94220393e-03],\n",
      "       [ 7.40622614e+00,  6.69238542e+00,  2.82083895e+00, ...,\n",
      "         2.17407143e+03,  5.28917166e-02, -5.92735091e-03],\n",
      "       [ 7.40622614e+00,  6.69238542e+00,  2.82083895e+00, ...,\n",
      "         2.17407143e+03,  2.73025128e-02, -3.64634723e-03],\n",
      "       ...,\n",
      "       [ 5.31832043e+00,  6.69238542e+00,  2.82083895e+00, ...,\n",
      "         2.17443750e+03,  5.08229333e-02, -5.45536337e-03],\n",
      "       [ 4.44678677e+00,  6.69238542e+00,  2.82083895e+00, ...,\n",
      "         2.17346154e+03,  5.48618092e-02, -6.38330098e-03],\n",
      "       [ 4.44678677e+00,  6.69238542e+00,  2.82083895e+00, ...,\n",
      "         2.17346154e+03,  2.67460069e-02, -4.10229730e-03]])}, {'y': array([[0],\n",
      "       [0],\n",
      "       [0],\n",
      "       [0],\n",
      "       [0],\n",
      "       [0],\n",
      "       [0],\n",
      "       [0],\n",
      "       [0],\n",
      "       [0],\n",
      "       [0],\n",
      "       [0],\n",
      "       [0],\n",
      "       [0],\n",
      "       [0],\n",
      "       [0],\n",
      "       [0],\n",
      "       [0],\n",
      "       [0],\n",
      "       [0],\n",
      "       [0],\n",
      "       [0],\n",
      "       [0],\n",
      "       [0],\n",
      "       [0],\n",
      "       [0],\n",
      "       [0],\n",
      "       [0],\n",
      "       [0],\n",
      "       [0],\n",
      "       [0],\n",
      "       [0],\n",
      "       [0],\n",
      "       [0],\n",
      "       [0],\n",
      "       [0],\n",
      "       [0],\n",
      "       [0],\n",
      "       [0],\n",
      "       [0],\n",
      "       [0],\n",
      "       [0],\n",
      "       [0],\n",
      "       [0],\n",
      "       [0],\n",
      "       [0],\n",
      "       [0],\n",
      "       [0],\n",
      "       [0],\n",
      "       [0],\n",
      "       [0],\n",
      "       [0],\n",
      "       [0],\n",
      "       [0],\n",
      "       [0],\n",
      "       [0],\n",
      "       [0],\n",
      "       [0],\n",
      "       [0],\n",
      "       [0],\n",
      "       [0],\n",
      "       [0],\n",
      "       [0],\n",
      "       [0],\n",
      "       [0],\n",
      "       [0],\n",
      "       [0],\n",
      "       [0],\n",
      "       [0],\n",
      "       [0],\n",
      "       [0],\n",
      "       [0],\n",
      "       [0],\n",
      "       [0],\n",
      "       [0],\n",
      "       [0],\n",
      "       [0],\n",
      "       [0],\n",
      "       [0],\n",
      "       [0],\n",
      "       [0],\n",
      "       [0],\n",
      "       [0],\n",
      "       [0],\n",
      "       [0],\n",
      "       [0],\n",
      "       [0],\n",
      "       [0],\n",
      "       [0],\n",
      "       [0],\n",
      "       [0],\n",
      "       [0],\n",
      "       [0],\n",
      "       [0],\n",
      "       [0],\n",
      "       [0],\n",
      "       [0],\n",
      "       [0],\n",
      "       [0],\n",
      "       [0],\n",
      "       [0]])})\n"
     ]
    }
   ],
   "source": [
    "#use this net for predicting binary yes or no for each go term in a set given a set of inputs\n",
    "import numpy as np\n",
    "from keras.optimizers import *\n",
    "from keras.layers import *\n",
    "from keras.callbacks import *\n",
    "from keras.models import load_model\n",
    "import datetime\n",
    "import keras\n",
    "global max_epochs\n",
    "from keras.models import Model\n",
    "from keras.layers import Flatten, Input, Dense\n",
    "\n",
    "from keras.backend import tensorflow_backend as K\n",
    "epsilon = K.epsilon()\n",
    "stamp = datetime.datetime.now().strftime('%m_%d_%Y_%H_%M_%S_%f')\n",
    "\n",
    "import tensorflow as tf\n",
    "\n",
    "################################################################################\n",
    "dirlocal = './'\n",
    "dataset = 'full' # 'sample' or 'full'\n",
    "\n",
    "modelfile = 'model-' + str(stamp) + '.h5'\n",
    "\n",
    "densedim = 10\n",
    "layers = 2\n",
    "\n",
    "govec_test = next( train_govecs )\n",
    "print( govec_test)"
   ]
  },
  {
   "cell_type": "code",
   "execution_count": null,
   "metadata": {},
   "outputs": [],
   "source": [
    "\n",
    "a = Input(shape= ( govec_test[0]['govec'].shape[1] , )   , name='govec' ) \n",
    "#perceptron...\n",
    "for i in range( layers):\n",
    "    if i == 0:\n",
    "        b = Dense(densedim  )(a)\n",
    "        #layer = BatchNormalization(axis=-1, momentum=0.99, epsilon=0.001, center=True, scale=True, beta_initializer='zeros', gamma_initializer='ones')\n",
    "        #b = layer(b)\n",
    "    else:\n",
    "        \n",
    "        b = Dense(densedim )(b)\n",
    "        layer = BatchNormalization(axis=0, momentum=0.99, epsilon=0.001, center=True, scale=True, beta_initializer='zeros', gamma_initializer='ones')\n",
    "        #b = layer(b)\n",
    "\n",
    "#layer = BatchNormalization(axis=-1, momentum=0.99, epsilon=0.001, center=True, scale=True, beta_initializer='zeros', gamma_initializer='ones')\n",
    "#final softmax\n",
    "layer = Dense( 1, activation = 'sigmoid' , name = 'y')\n",
    "final = layer(b)\n",
    "\n",
    "#layer = Dense(1,activation = 'sigmoid' , name = 'y')\n",
    "#final = layer(b)\n",
    "\n",
    "model = Model(inputs=a, outputs=final)\n",
    "\n",
    "o = keras.optimizers.RMSprop(lr=.0000001, rho=0.09)\n",
    "#o = keras.optimizers.Adadelta(lr=.050, rho=0.95)\n",
    "#o =  keras.optimizers.SGD(lr=0.1, momentum=0.001, nesterov=False)\n",
    "\n",
    "model.compile( optimizer=o, loss= 'mean_squared_error' , metrics=['accuracy'])\n",
    "max_len = 3000\n",
    "mc = ModelCheckpoint(modelfile, monitor = 'loss', mode = 'auto', verbose = 1, save_best_only = False)\n",
    "lr = ReduceLROnPlateau(monitor='loss', factor=0.5, patience= 10 , min_lr=0.00001)\n",
    "es = EarlyStopping(monitor = 'loss', mode = 'min', verbose = 2, patience = 100)\n",
    "####change this\n",
    "history = model.fit_generator( train_govecs  ,verbose = 1 , steps_per_epoch= 1000 , epochs = 100000 , callbacks=[es, lr])"
   ]
  },
  {
   "cell_type": "code",
   "execution_count": null,
   "metadata": {},
   "outputs": [],
   "source": []
  }
 ],
 "metadata": {
  "kernelspec": {
   "display_name": "Python 3",
   "language": "python",
   "name": "python3"
  },
  "language_info": {
   "codemirror_mode": {
    "name": "ipython",
    "version": 3
   },
   "file_extension": ".py",
   "mimetype": "text/x-python",
   "name": "python",
   "nbconvert_exporter": "python",
   "pygments_lexer": "ipython3",
   "version": "3.7.3"
  }
 },
 "nbformat": 4,
 "nbformat_minor": 4
}
