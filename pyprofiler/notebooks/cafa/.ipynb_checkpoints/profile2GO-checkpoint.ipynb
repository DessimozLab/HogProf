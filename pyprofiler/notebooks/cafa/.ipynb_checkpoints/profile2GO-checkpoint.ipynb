{
 "cells": [
  {
   "cell_type": "code",
   "execution_count": 6,
   "metadata": {},
   "outputs": [
    {
     "name": "stdout",
     "output_type": "stream",
     "text": [
      "The autoreload extension is already loaded. To reload it, use:\n",
      "  %reload_ext autoreload\n"
     ]
    }
   ],
   "source": [
    "#profiler load \n",
    "%load_ext autoreload\n",
    "%autoreload 2\n",
    "import sys\n",
    "sys.path.append('../../..')\n",
    "from pyprofiler.utils import config_utils\n",
    "import pyprofiler.utils.goatools_utils as goa\n",
    "import pyprofiler.profiler as profiler\n",
    "from qtlsearch.OBOParser import OBO\n",
    "import pandas as pd\n",
    "import numpy as np\n",
    "from matplotlib import pyplot as plt\n",
    "#select rand profile w annotations\n",
    "#mask annotations\n",
    "#pull in coevolving Hogs\n",
    "#feed profile vectors and GO to NN\n",
    "#Try to recover annotations"
   ]
  },
  {
   "cell_type": "code",
   "execution_count": 22,
   "metadata": {},
   "outputs": [],
   "source": [
    "#lets also create a go annotation enrichment study object to describe functional enrichment in our profiling results\n",
    "\n",
    "gaf = goa.buildGAF( '/home/cactuskid13/mntpt/OMA/latest/oma-go.txt' )"
   ]
  },
  {
   "cell_type": "code",
   "execution_count": 54,
   "metadata": {},
   "outputs": [
    {
     "name": "stdout",
     "output_type": "stream",
     "text": [
      "[1, 2, 3, 4, 5, 6, 7, 8, 9, 10]\n"
     ]
    }
   ],
   "source": [
    "#load oma hogs to prot sequence mapping\n",
    "\n",
    "import gzip\n",
    "import pickle\n",
    "with gzip.open('oma-hogs-Jun2019.p.gz', 'rb') as fp:\n",
    "    hogs = pickle.load(fp)\n",
    "print(list(hogs.keys())[0:10])"
   ]
  },
  {
   "cell_type": "code",
   "execution_count": 24,
   "metadata": {},
   "outputs": [
    {
     "name": "stdout",
     "output_type": "stream",
     "text": [
      "./go.obo: fmt(1.2) rel(2019-12-09) 47,311 GO Terms\n"
     ]
    }
   ],
   "source": [
    "from goatools import obo_parser\n",
    "obo = './go.obo'\n",
    "obo = obo_parser.GODag(obo)"
   ]
  },
  {
   "cell_type": "code",
   "execution_count": null,
   "metadata": {},
   "outputs": [],
   "source": [
    "p = profiler.Profiler(lshforestpath = config_utils.datadir + '/latest_all_256/newlshforest.pkl'  , hashes_h5=config_utils.datadir+ 'latest_all_256/hashes.h5'  , mat_path= None, oma = '/home/cactuskid13/mntpt/OMA/latest/OmaServer.h5', tar= None , mastertree =config_utils.datadir + 'latest_all_256_master_tree.pkl' , nsamples = 256)"
   ]
  },
  {
   "cell_type": "code",
   "execution_count": 1,
   "metadata": {},
   "outputs": [
    {
     "name": "stdout",
     "output_type": "stream",
     "text": [
      "errors.txt                           \u001b[0m\u001b[01;34mlatest_fungi_256\u001b[0m/\n",
      "\u001b[01;34mlatest_all_256\u001b[0m/                      latest_fungi_256_master_tree.nwk\n",
      "latest_all_256_master_tree.nwk       latest_fungi_256_master_tree.pkl\n",
      "latest_all_256_master_tree.pkl       \u001b[01;34mlatest_metazoa_256\u001b[0m/\n",
      "\u001b[01;34mlatest_archaea_256\u001b[0m/                  latest_metazoa_256_master_tree.nwk\n",
      "latest_archaea_256_master_tree.nwk   latest_metazoa_256_master_tree.pkl\n",
      "latest_archaea_256_master_tree.pkl   \u001b[01;34mlatest_plants_256\u001b[0m/\n",
      "\u001b[01;34mlatest_bacteria_256\u001b[0m/                 latest_plants_256_master_tree.nwk\n",
      "latest_bacteria_256_master_tree.nwk  latest_plants_256_master_tree.pkl\n",
      "latest_bacteria_256_master_tree.pkl  \u001b[01;34mlatest_vertebrates_256\u001b[0m/\n",
      "\u001b[01;34mlatest_eukarya_256\u001b[0m/                  latest_vertebrates_256_master_tree.nwk\n",
      "latest_eukarya_256_master_tree.nwk   latest_vertebrates_256_master_tree.pkl\n",
      "latest_eukarya_256_master_tree.pkl   taxaIndex.pkl\n"
     ]
    }
   ],
   "source": [
    "ls ../../all/all/\n",
    "\n"
   ]
  },
  {
   "cell_type": "code",
   "execution_count": 14,
   "metadata": {},
   "outputs": [
    {
     "name": "stdout",
     "output_type": "stream",
     "text": [
      "[('../../all/all/latest_fungi_256/newlshforest.pkl', '../../all/all/latest_fungi_256/hashes.h5'), ('../../all/all/latest_vertebrates_256/newlshforest.pkl', '../../all/all/latest_vertebrates_256/hashes.h5'), ('../../all/all/latest_all_256/newlshforest.pkl', '../../all/all/latest_all_256/hashes.h5'), ('../../all/all/latest_plants_256/newlshforest.pkl', '../../all/all/latest_plants_256/hashes.h5'), ('../../all/all/latest_bacteria_256/newlshforest.pkl', '../../all/all/latest_bacteria_256/hashes.h5'), ('../../all/all/latest_eukarya_256/newlshforest.pkl', '../../all/all/latest_eukarya_256/hashes.h5'), ('../../all/all/latest_archaea_256/newlshforest.pkl', '../../all/all/latest_archaea_256/hashes.h5'), ('../../all/all/latest_metazoa_256/newlshforest.pkl', '../../all/all/latest_metazoa_256/hashes.h5')]\n",
      "fungi\n",
      "loading lsh\n",
      "indexing lsh\n"
     ]
    },
    {
     "name": "stderr",
     "output_type": "stream",
     "text": [
      "Cannot load SequenceSearch. Any future call to seq_search will fail!\n",
      "Traceback (most recent call last):\n",
      "  File \"../../../pyprofiler/pyoma/browser/db.py\", line 879, in __init__\n",
      "    self.seq_idx = self.seq_idx()\n",
      "  File \"/home/cactuskid13/miniconda3/envs/pyprofiler3/lib/python3.7/site-packages/tables/link.py\", line 397, in __call__\n",
      "    self.extfile = tables.open_file(filename, **kwargs)\n",
      "  File \"/home/cactuskid13/miniconda3/envs/pyprofiler3/lib/python3.7/site-packages/tables/file.py\", line 320, in open_file\n",
      "    return File(filename, mode, title, root_uep, filters, **kwargs)\n",
      "  File \"/home/cactuskid13/miniconda3/envs/pyprofiler3/lib/python3.7/site-packages/tables/file.py\", line 784, in __init__\n",
      "    self._g_new(filename, mode, **params)\n",
      "  File \"tables/hdf5extension.pyx\", line 374, in tables.hdf5extension.File._g_new\n",
      "  File \"/home/cactuskid13/miniconda3/envs/pyprofiler3/lib/python3.7/site-packages/tables/utils.py\", line 157, in check_file_access\n",
      "    raise IOError(\"``%s`` does not exist\" % (filename,))\n",
      "OSError: ``/home/cactuskid13/mntpt/OMA/latest/OmaServer.h5.idx`` does not exist\n",
      "\n",
      "During handling of the above exception, another exception occurred:\n",
      "\n",
      "Traceback (most recent call last):\n",
      "  File \"../../../pyprofiler/pyoma/browser/db.py\", line 87, in __init__\n",
      "    self.seq_search = SequenceSearch(self)\n",
      "  File \"../../../pyprofiler/pyoma/browser/db.py\", line 884, in __init__\n",
      "    raise DBConsistencyError(\"Suffix index for protein sequences is not available: \"+str(e))\n",
      "pyprofiler.pyoma.browser.db.DBConsistencyError: Suffix index for protein sequences is not available: ``/home/cactuskid13/mntpt/OMA/latest/OmaServer.h5.idx`` does not exist\n"
     ]
    },
    {
     "name": "stdout",
     "output_type": "stream",
     "text": [
      "3278\n",
      "DONE\n",
      "vertebrates\n",
      "loading lsh\n",
      "indexing lsh\n"
     ]
    },
    {
     "name": "stderr",
     "output_type": "stream",
     "text": [
      "Cannot load SequenceSearch. Any future call to seq_search will fail!\n",
      "Traceback (most recent call last):\n",
      "  File \"../../../pyprofiler/pyoma/browser/db.py\", line 879, in __init__\n",
      "    self.seq_idx = self.seq_idx()\n",
      "  File \"/home/cactuskid13/miniconda3/envs/pyprofiler3/lib/python3.7/site-packages/tables/link.py\", line 397, in __call__\n",
      "    self.extfile = tables.open_file(filename, **kwargs)\n",
      "  File \"/home/cactuskid13/miniconda3/envs/pyprofiler3/lib/python3.7/site-packages/tables/file.py\", line 320, in open_file\n",
      "    return File(filename, mode, title, root_uep, filters, **kwargs)\n",
      "  File \"/home/cactuskid13/miniconda3/envs/pyprofiler3/lib/python3.7/site-packages/tables/file.py\", line 784, in __init__\n",
      "    self._g_new(filename, mode, **params)\n",
      "  File \"tables/hdf5extension.pyx\", line 374, in tables.hdf5extension.File._g_new\n",
      "  File \"/home/cactuskid13/miniconda3/envs/pyprofiler3/lib/python3.7/site-packages/tables/utils.py\", line 157, in check_file_access\n",
      "    raise IOError(\"``%s`` does not exist\" % (filename,))\n",
      "OSError: ``/home/cactuskid13/mntpt/OMA/latest/OmaServer.h5.idx`` does not exist\n",
      "\n",
      "During handling of the above exception, another exception occurred:\n",
      "\n",
      "Traceback (most recent call last):\n",
      "  File \"../../../pyprofiler/pyoma/browser/db.py\", line 87, in __init__\n",
      "    self.seq_search = SequenceSearch(self)\n",
      "  File \"../../../pyprofiler/pyoma/browser/db.py\", line 884, in __init__\n",
      "    raise DBConsistencyError(\"Suffix index for protein sequences is not available: \"+str(e))\n",
      "pyprofiler.pyoma.browser.db.DBConsistencyError: Suffix index for protein sequences is not available: ``/home/cactuskid13/mntpt/OMA/latest/OmaServer.h5.idx`` does not exist\n"
     ]
    },
    {
     "name": "stdout",
     "output_type": "stream",
     "text": [
      "3278\n",
      "DONE\n",
      "all\n",
      "loading lsh\n",
      "indexing lsh\n"
     ]
    },
    {
     "name": "stderr",
     "output_type": "stream",
     "text": [
      "Cannot load SequenceSearch. Any future call to seq_search will fail!\n",
      "Traceback (most recent call last):\n",
      "  File \"../../../pyprofiler/pyoma/browser/db.py\", line 879, in __init__\n",
      "    self.seq_idx = self.seq_idx()\n",
      "  File \"/home/cactuskid13/miniconda3/envs/pyprofiler3/lib/python3.7/site-packages/tables/link.py\", line 397, in __call__\n",
      "    self.extfile = tables.open_file(filename, **kwargs)\n",
      "  File \"/home/cactuskid13/miniconda3/envs/pyprofiler3/lib/python3.7/site-packages/tables/file.py\", line 320, in open_file\n",
      "    return File(filename, mode, title, root_uep, filters, **kwargs)\n",
      "  File \"/home/cactuskid13/miniconda3/envs/pyprofiler3/lib/python3.7/site-packages/tables/file.py\", line 784, in __init__\n",
      "    self._g_new(filename, mode, **params)\n",
      "  File \"tables/hdf5extension.pyx\", line 374, in tables.hdf5extension.File._g_new\n",
      "  File \"/home/cactuskid13/miniconda3/envs/pyprofiler3/lib/python3.7/site-packages/tables/utils.py\", line 157, in check_file_access\n",
      "    raise IOError(\"``%s`` does not exist\" % (filename,))\n",
      "OSError: ``/home/cactuskid13/mntpt/OMA/latest/OmaServer.h5.idx`` does not exist\n",
      "\n",
      "During handling of the above exception, another exception occurred:\n",
      "\n",
      "Traceback (most recent call last):\n",
      "  File \"../../../pyprofiler/pyoma/browser/db.py\", line 87, in __init__\n",
      "    self.seq_search = SequenceSearch(self)\n",
      "  File \"../../../pyprofiler/pyoma/browser/db.py\", line 884, in __init__\n",
      "    raise DBConsistencyError(\"Suffix index for protein sequences is not available: \"+str(e))\n",
      "pyprofiler.pyoma.browser.db.DBConsistencyError: Suffix index for protein sequences is not available: ``/home/cactuskid13/mntpt/OMA/latest/OmaServer.h5.idx`` does not exist\n"
     ]
    },
    {
     "name": "stdout",
     "output_type": "stream",
     "text": [
      "3278\n",
      "DONE\n",
      "plants\n",
      "loading lsh\n",
      "indexing lsh\n"
     ]
    },
    {
     "name": "stderr",
     "output_type": "stream",
     "text": [
      "Cannot load SequenceSearch. Any future call to seq_search will fail!\n",
      "Traceback (most recent call last):\n",
      "  File \"../../../pyprofiler/pyoma/browser/db.py\", line 879, in __init__\n",
      "    self.seq_idx = self.seq_idx()\n",
      "  File \"/home/cactuskid13/miniconda3/envs/pyprofiler3/lib/python3.7/site-packages/tables/link.py\", line 397, in __call__\n",
      "    self.extfile = tables.open_file(filename, **kwargs)\n",
      "  File \"/home/cactuskid13/miniconda3/envs/pyprofiler3/lib/python3.7/site-packages/tables/file.py\", line 320, in open_file\n",
      "    return File(filename, mode, title, root_uep, filters, **kwargs)\n",
      "  File \"/home/cactuskid13/miniconda3/envs/pyprofiler3/lib/python3.7/site-packages/tables/file.py\", line 784, in __init__\n",
      "    self._g_new(filename, mode, **params)\n",
      "  File \"tables/hdf5extension.pyx\", line 374, in tables.hdf5extension.File._g_new\n",
      "  File \"/home/cactuskid13/miniconda3/envs/pyprofiler3/lib/python3.7/site-packages/tables/utils.py\", line 157, in check_file_access\n",
      "    raise IOError(\"``%s`` does not exist\" % (filename,))\n",
      "OSError: ``/home/cactuskid13/mntpt/OMA/latest/OmaServer.h5.idx`` does not exist\n",
      "\n",
      "During handling of the above exception, another exception occurred:\n",
      "\n",
      "Traceback (most recent call last):\n",
      "  File \"../../../pyprofiler/pyoma/browser/db.py\", line 87, in __init__\n",
      "    self.seq_search = SequenceSearch(self)\n",
      "  File \"../../../pyprofiler/pyoma/browser/db.py\", line 884, in __init__\n",
      "    raise DBConsistencyError(\"Suffix index for protein sequences is not available: \"+str(e))\n",
      "pyprofiler.pyoma.browser.db.DBConsistencyError: Suffix index for protein sequences is not available: ``/home/cactuskid13/mntpt/OMA/latest/OmaServer.h5.idx`` does not exist\n"
     ]
    },
    {
     "name": "stdout",
     "output_type": "stream",
     "text": [
      "3278\n",
      "DONE\n",
      "bacteria\n",
      "loading lsh\n",
      "indexing lsh\n"
     ]
    },
    {
     "name": "stderr",
     "output_type": "stream",
     "text": [
      "Cannot load SequenceSearch. Any future call to seq_search will fail!\n",
      "Traceback (most recent call last):\n",
      "  File \"../../../pyprofiler/pyoma/browser/db.py\", line 879, in __init__\n",
      "    self.seq_idx = self.seq_idx()\n",
      "  File \"/home/cactuskid13/miniconda3/envs/pyprofiler3/lib/python3.7/site-packages/tables/link.py\", line 397, in __call__\n",
      "    self.extfile = tables.open_file(filename, **kwargs)\n",
      "  File \"/home/cactuskid13/miniconda3/envs/pyprofiler3/lib/python3.7/site-packages/tables/file.py\", line 320, in open_file\n",
      "    return File(filename, mode, title, root_uep, filters, **kwargs)\n",
      "  File \"/home/cactuskid13/miniconda3/envs/pyprofiler3/lib/python3.7/site-packages/tables/file.py\", line 784, in __init__\n",
      "    self._g_new(filename, mode, **params)\n",
      "  File \"tables/hdf5extension.pyx\", line 374, in tables.hdf5extension.File._g_new\n",
      "  File \"/home/cactuskid13/miniconda3/envs/pyprofiler3/lib/python3.7/site-packages/tables/utils.py\", line 157, in check_file_access\n",
      "    raise IOError(\"``%s`` does not exist\" % (filename,))\n",
      "OSError: ``/home/cactuskid13/mntpt/OMA/latest/OmaServer.h5.idx`` does not exist\n",
      "\n",
      "During handling of the above exception, another exception occurred:\n",
      "\n",
      "Traceback (most recent call last):\n",
      "  File \"../../../pyprofiler/pyoma/browser/db.py\", line 87, in __init__\n",
      "    self.seq_search = SequenceSearch(self)\n",
      "  File \"../../../pyprofiler/pyoma/browser/db.py\", line 884, in __init__\n",
      "    raise DBConsistencyError(\"Suffix index for protein sequences is not available: \"+str(e))\n",
      "pyprofiler.pyoma.browser.db.DBConsistencyError: Suffix index for protein sequences is not available: ``/home/cactuskid13/mntpt/OMA/latest/OmaServer.h5.idx`` does not exist\n"
     ]
    },
    {
     "name": "stdout",
     "output_type": "stream",
     "text": [
      "3278\n",
      "DONE\n",
      "eukarya\n",
      "loading lsh\n",
      "indexing lsh\n"
     ]
    },
    {
     "name": "stderr",
     "output_type": "stream",
     "text": [
      "Cannot load SequenceSearch. Any future call to seq_search will fail!\n",
      "Traceback (most recent call last):\n",
      "  File \"../../../pyprofiler/pyoma/browser/db.py\", line 879, in __init__\n",
      "    self.seq_idx = self.seq_idx()\n",
      "  File \"/home/cactuskid13/miniconda3/envs/pyprofiler3/lib/python3.7/site-packages/tables/link.py\", line 397, in __call__\n",
      "    self.extfile = tables.open_file(filename, **kwargs)\n",
      "  File \"/home/cactuskid13/miniconda3/envs/pyprofiler3/lib/python3.7/site-packages/tables/file.py\", line 320, in open_file\n",
      "    return File(filename, mode, title, root_uep, filters, **kwargs)\n",
      "  File \"/home/cactuskid13/miniconda3/envs/pyprofiler3/lib/python3.7/site-packages/tables/file.py\", line 784, in __init__\n",
      "    self._g_new(filename, mode, **params)\n",
      "  File \"tables/hdf5extension.pyx\", line 374, in tables.hdf5extension.File._g_new\n",
      "  File \"/home/cactuskid13/miniconda3/envs/pyprofiler3/lib/python3.7/site-packages/tables/utils.py\", line 157, in check_file_access\n",
      "    raise IOError(\"``%s`` does not exist\" % (filename,))\n",
      "OSError: ``/home/cactuskid13/mntpt/OMA/latest/OmaServer.h5.idx`` does not exist\n",
      "\n",
      "During handling of the above exception, another exception occurred:\n",
      "\n",
      "Traceback (most recent call last):\n",
      "  File \"../../../pyprofiler/pyoma/browser/db.py\", line 87, in __init__\n",
      "    self.seq_search = SequenceSearch(self)\n",
      "  File \"../../../pyprofiler/pyoma/browser/db.py\", line 884, in __init__\n",
      "    raise DBConsistencyError(\"Suffix index for protein sequences is not available: \"+str(e))\n",
      "pyprofiler.pyoma.browser.db.DBConsistencyError: Suffix index for protein sequences is not available: ``/home/cactuskid13/mntpt/OMA/latest/OmaServer.h5.idx`` does not exist\n"
     ]
    },
    {
     "name": "stdout",
     "output_type": "stream",
     "text": [
      "3278\n",
      "DONE\n",
      "metazoa\n",
      "loading lsh\n",
      "indexing lsh\n"
     ]
    },
    {
     "name": "stderr",
     "output_type": "stream",
     "text": [
      "Cannot load SequenceSearch. Any future call to seq_search will fail!\n",
      "Traceback (most recent call last):\n",
      "  File \"../../../pyprofiler/pyoma/browser/db.py\", line 879, in __init__\n",
      "    self.seq_idx = self.seq_idx()\n",
      "  File \"/home/cactuskid13/miniconda3/envs/pyprofiler3/lib/python3.7/site-packages/tables/link.py\", line 397, in __call__\n",
      "    self.extfile = tables.open_file(filename, **kwargs)\n",
      "  File \"/home/cactuskid13/miniconda3/envs/pyprofiler3/lib/python3.7/site-packages/tables/file.py\", line 320, in open_file\n",
      "    return File(filename, mode, title, root_uep, filters, **kwargs)\n",
      "  File \"/home/cactuskid13/miniconda3/envs/pyprofiler3/lib/python3.7/site-packages/tables/file.py\", line 784, in __init__\n",
      "    self._g_new(filename, mode, **params)\n",
      "  File \"tables/hdf5extension.pyx\", line 374, in tables.hdf5extension.File._g_new\n",
      "  File \"/home/cactuskid13/miniconda3/envs/pyprofiler3/lib/python3.7/site-packages/tables/utils.py\", line 157, in check_file_access\n",
      "    raise IOError(\"``%s`` does not exist\" % (filename,))\n",
      "OSError: ``/home/cactuskid13/mntpt/OMA/latest/OmaServer.h5.idx`` does not exist\n",
      "\n",
      "During handling of the above exception, another exception occurred:\n",
      "\n",
      "Traceback (most recent call last):\n",
      "  File \"../../../pyprofiler/pyoma/browser/db.py\", line 87, in __init__\n",
      "    self.seq_search = SequenceSearch(self)\n",
      "  File \"../../../pyprofiler/pyoma/browser/db.py\", line 884, in __init__\n",
      "    raise DBConsistencyError(\"Suffix index for protein sequences is not available: \"+str(e))\n",
      "pyprofiler.pyoma.browser.db.DBConsistencyError: Suffix index for protein sequences is not available: ``/home/cactuskid13/mntpt/OMA/latest/OmaServer.h5.idx`` does not exist\n"
     ]
    },
    {
     "name": "stdout",
     "output_type": "stream",
     "text": [
      "3278\n",
      "DONE\n"
     ]
    }
   ],
   "source": [
    "import glob\n",
    "profilers = glob.glob('../../all/all/*/*forest.pkl')\n",
    "hashes = glob.glob('../../all/all/*/*h5')\n",
    "\n",
    "dbs = list(zip (profilers,hashes))\n",
    "print(dbs)\n",
    "exclude = ['archaea']\n",
    "profilers = {}\n",
    "for p,h in dbs:\n",
    "    ptype = p.split('/')[4].split('_')[1]\n",
    "    if ptype not in exclude:\n",
    "        print(ptype)\n",
    "\n",
    "        profilers[ptype] = profiler.Profiler(lshforestpath = p  , hashes_h5= h  , mat_path= None,\n",
    "            oma = '/home/cactuskid13/mntpt/OMA/latest/OmaServer.h5', tar= None , mastertree =config_utils.datadir + 'latest_all_256_master_tree.pkl' , nsamples = 256)\n",
    "        "
   ]
  },
  {
   "cell_type": "code",
   "execution_count": 21,
   "metadata": {},
   "outputs": [
    {
     "name": "stdout",
     "output_type": "stream",
     "text": [
      "fungi\n",
      "136\n",
      "vertebrates\n",
      "100\n",
      "all\n",
      "2290\n",
      "plants\n",
      "57\n",
      "bacteria\n",
      "1674\n",
      "eukarya\n",
      "463\n",
      "metazoa\n",
      "188\n"
     ]
    }
   ],
   "source": [
    "#generate tx filters\n",
    "\n",
    "def clip_tree(newtree , taxfilter , taxmask):\n",
    "    for n in newtree.traverse():\n",
    "            if taxmask:\n",
    "                if str(n.name) == str(taxmask):\n",
    "                    newtree = n\n",
    "                    break\n",
    "            if taxfilter:\n",
    "                if n.name in taxfilter:\n",
    "                    n.delete()\n",
    "    return {n.name for n in newtree.get_leaves()}\n",
    "\n",
    "dbdict = {\n",
    "    'all': { 'taxfilter': None , 'taxmask': None },\n",
    "    'plants': { 'taxfilter': None , 'taxmask': 33090 },\n",
    "    'archaea':{ 'taxfilter': None , 'taxmask': 2157 },\n",
    "    'bacteria':{ 'taxfilter': None , 'taxmask': 2 },\n",
    "    'eukarya':{ 'taxfilter': None , 'taxmask': 2759 },\n",
    "    'protists':{ 'taxfilter': [2 , 2157 , 33090 , 4751, 33208] , 'taxmask':None },\n",
    "    'fungi':{ 'taxfilter': None , 'taxmask': 4751 },\n",
    "    'metazoa':{ 'taxfilter': None , 'taxmask': 33208 },\n",
    "    'vertebrates':{ 'taxfilter': None , 'taxmask': 7742 },\n",
    "    }\n",
    "\n",
    "#only keep leaves as extant genomes allowed for each profiler\n",
    "\n",
    "taxfilters ={}\n",
    "import pickle\n",
    "for ptype in profilers:\n",
    "    print(ptype)\n",
    "    taxfilters[ptype] = clip_tree( profilers[ptype].tree , dbdict[ptype][ 'taxfilter'],  dbdict[ptype][ 'taxmask'] )\n",
    "    print(len(taxfilters[ptype]))\n",
    "\n",
    "with open('taxfilters.pkl' , 'wb' ) as filterout:\n",
    "    filterout.write(pickle.dumps(taxfilters))"
   ]
  },
  {
   "cell_type": "code",
   "execution_count": 95,
   "metadata": {},
   "outputs": [
    {
     "name": "stderr",
     "output_type": "stream",
     "text": [
      "/home/cactuskid13/miniconda3/envs/pyprofiler3/lib/python3.7/site-packages/ipykernel_launcher.py:1: FutureWarning: read_table is deprecated, use read_csv instead.\n",
      "  \"\"\"Entry point for launching an IPython kernel.\n"
     ]
    }
   ],
   "source": [
    "\n",
    "species = pd.read_table( './oma-species.txt' , sep = '\\t' , comment = '#', header = None)\n",
    "specdict = dict( zip(species[0] , species[1]) )\n"
   ]
  },
  {
   "cell_type": "code",
   "execution_count": 7,
   "metadata": {},
   "outputs": [
    {
     "name": "stdout",
     "output_type": "stream",
     "text": [
      "0.3011929988861084\n",
      "0.05627608299255371\n",
      "0.29827451705932617\n",
      "0.05711483955383301\n",
      "0.0658414363861084\n",
      "           genome                                 annot   hog  taxcode\n",
      "CALMQ00997  CALMQ  {GO:0000150, GO:0006310, GO:0003677}  3223   397948\n",
      "PYRAE02475  PYRAE  {GO:0000150, GO:0006310, GO:0003677}  3223   178306\n",
      "PYRAR01890  PYRAR  {GO:0000150, GO:0006310, GO:0003677}  3223   340102\n",
      "PYRCJ01941  PYRCJ  {GO:0000150, GO:0006310, GO:0003677}  3223   410359\n",
      "PYRIL00788  PYRIL  {GO:0000150, GO:0006310, GO:0003677}  3223   384616\n"
     ]
    }
   ],
   "source": [
    "\n",
    "for i in range(5):\n",
    "    t0 = time.time()\n",
    "    next(hogiterator)\n",
    "    print( time.time()-t0)\n",
    "\n",
    "print( next(hogiterator).head() )"
   ]
  },
  {
   "cell_type": "code",
   "execution_count": 7,
   "metadata": {},
   "outputs": [
    {
     "name": "stderr",
     "output_type": "stream",
     "text": [
      "/home/cactuskid13/miniconda3/envs/pyprofiler3/lib/python3.7/site-packages/ipykernel_launcher.py:1: FutureWarning: read_table is deprecated, use read_csv instead, passing sep='\\t'.\n",
      "  \"\"\"Entry point for launching an IPython kernel.\n"
     ]
    },
    {
     "name": "stdout",
     "output_type": "stream",
     "text": [
      "            cafa_id      oma_id     fam species\n",
      "57070  T37020001074  ARATH00006  472976   ARATH\n",
      "69814  T37020003425  ARATH00010  483443   ARATH\n",
      "70000  T37020007063  ARATH00011  483592   ARATH\n",
      "3798   T37020007582  ARATH00013  182502   ARATH\n",
      "3236   T37020015139  ARATH00015  177269   ARATH\n",
      "            cafa_id      oma_id     fam species  taxcode\n",
      "57070  T37020001074  ARATH00006  472976   ARATH     3702\n",
      "69814  T37020003425  ARATH00010  483443   ARATH     3702\n",
      "70000  T37020007063  ARATH00011  483592   ARATH     3702\n",
      "3798   T37020007582  ARATH00013  182502   ARATH     3702\n",
      "3236   T37020015139  ARATH00015  177269   ARATH     3702\n"
     ]
    }
   ],
   "source": [
    "targets = pd.read_table( './out_map_by_hog.tsv')\n",
    "targets = targets.sort_values( by= 'oma_id')\n",
    "targets['species'] = targets.oma_id.map( lambda x : x[0:5])\n",
    "print(targets.head())\n",
    "targets['taxcode'] = targets.species.map(specdict)\n",
    "print(targets.head())\n"
   ]
  },
  {
   "cell_type": "code",
   "execution_count": 46,
   "metadata": {},
   "outputs": [],
   "source": [
    "def fam2hogid(fam_id):\n",
    "    \"\"\"\n",
    "    For use with OMA HOGs\n",
    "    Get hog id given fam\n",
    "    :param fam_id: fam\n",
    "    :return: hog id\n",
    "    \"\"\"\n",
    "    hog_id = \"HOG:\" + (7-len(str(fam_id))) * '0' + str(fam_id)\n",
    "    return hog_id\n",
    "\n",
    "def hogid2fam(hog_id):\n",
    "    \"\"\"\n",
    "    For use with OMA HOGs\n",
    "    Get hog id given fam\n",
    "    :param fam_id: fam\n",
    "    :return: hog id\n",
    "    \"\"\"\n",
    "    fam_id = int(hog_id.split(':')[1])\n",
    "    return fam_id\n",
    "\n",
    "def id2GO(intID):\n",
    "    return 'GO:{:07d}'.format(intID)\n",
    "\n",
    "\n",
    "def id2GO(intID):\n",
    "    return 'GO:{:07d}'.format(intID)\n",
    "\n",
    "def go2id(strID):\n",
    "    if type( strID) is int:\n",
    "        return strID\n",
    "    return int(strID.split(':')[1])\n",
    "\n",
    "\n",
    "\n",
    "def get_ancestors( golist , obo,  levels = 4 ):\n",
    "    ancestors = []\n",
    "    \n",
    "    for l in range( levels):\n",
    "        try:\n",
    "            if l == 0 :\n",
    "                a = [ obo[p.id].id for g in golist for p in obo[g].parents if g in obo and p.id in obo ]\n",
    "            else:\n",
    "                a = [ obo[p.id].id for g in a for p in obo[g].parents if g in obo and p.id in obo ]\n",
    "            ancestors += a\n",
    "        except:\n",
    "            pass\n",
    "    ancestors += golist\n",
    "    return [goa.goterm2id(goterm) for goterm in set(ancestors)]\n",
    "\n",
    "def get_ancestors_all( golist , obo):\n",
    "    ancestors = []\n",
    "    lastlen = -1\n",
    "    l = 0\n",
    "    while len(ancestors)>lastlen:\n",
    "        if l == 0 :\n",
    "            a = [ obo[p.id].id for g in golist for p in obo[g].parents if g in obo and p.id in obo]\n",
    "            \n",
    "        else:\n",
    "            a = [ obo[p.id].id for g in a for p in obo[g].parents if g in obo and p.id in obo ]\n",
    "        lastlen = len(ancestors)\n",
    "        ancestors += a\n",
    "        l+=1\n",
    "    \n",
    "    ancestors += golist\n",
    "    return [goa.goterm2id(goterm) for goterm in set(ancestors)]"
   ]
  },
  {
   "cell_type": "code",
   "execution_count": 11,
   "metadata": {},
   "outputs": [
    {
     "name": "stdout",
     "output_type": "stream",
     "text": [
      "{'PHAAN05400': {'GO:0007338', 'GO:0005783', 'GO:0005886', 'GO:0016021', 'GO:0016020', 'GO:0008289'}, 'WHEAT81026': {'GO:0016020', 'GO:0016021'}, 'ARALY23176': {'GO:0016021'}, 'WHEAT87894': {'GO:0007338', 'GO:0005783', 'GO:0005886', 'GO:0016021', 'GO:0016020', 'GO:0008289'}, 'SOYBN42891': {'GO:0007338', 'GO:0005783', 'GO:0005886', 'GO:0016021', 'GO:0008289'}, 'LEIIN00285': {'GO:0016020', 'GO:0016021'}, 'ORYNI37447': {'GO:0016021'}, 'GOSRA46123': {'GO:0048235', 'GO:0007338', 'GO:0005783', 'GO:0061936', 'GO:0005886', 'GO:0016021', 'GO:0005887', 'GO:0016020', 'GO:0008289', 'GO:0045026', 'GO:0009567'}, 'ORYLO07186': {'GO:0016021'}, 'ERATE23368': {'GO:0016021'}, 'LEIDB00763': {'GO:0016020', 'GO:0016021'}, 'GOSHI21416': {'GO:0007338', 'GO:0005783', 'GO:0005886', 'GO:0016021', 'GO:0008289'}, 'ARALY23192': {'GO:0007338', 'GO:0005783', 'GO:0005886', 'GO:0016021', 'GO:0008289'}, 'ARAAL13164': {'GO:0007338', 'GO:0005783', 'GO:0005886', 'GO:0016021', 'GO:0016020', 'GO:0008289'}, 'BRADI23061': {'GO:0016021'}, 'MARPO19716': {'GO:0016020', 'GO:0016021'}, 'SOYBN21949': {'GO:0016020', 'GO:0016021'}, 'MEDTR24375': {'GO:0048235', 'GO:0007338', 'GO:0005783', 'GO:0061936', 'GO:0005886', 'GO:0016021', 'GO:0005887', 'GO:0016020', 'GO:0008289', 'GO:0045026', 'GO:0009567'}, 'ORYGL19355': {'GO:0007338', 'GO:0005783', 'GO:0005886', 'GO:0016021', 'GO:0016020', 'GO:0008289'}, 'PRUPE01558': {'GO:0007338', 'GO:0005783', 'GO:0005886', 'GO:0016021', 'GO:0016020', 'GO:0008289'}, 'LEIBR00777': {'GO:0016020', 'GO:0016021'}, 'TRYB200995': {'GO:0005783'}, 'GOSHI53031': {'GO:0016021'}, 'ORYLO14359': {'GO:0016021'}, 'ORYNI24757': {'GO:0048235', 'GO:0007338', 'GO:0005783', 'GO:0061936', 'GO:0005886', 'GO:0016021', 'GO:0005887', 'GO:0016020', 'GO:0008289', 'GO:0045026', 'GO:0009567'}, 'VITVI23490': {'GO:0016021'}, 'ORYSJ22678': {'GO:0007338', 'GO:0005783', 'GO:0005789', 'GO:0005886', 'GO:0016021', 'GO:0016020', 'GO:0008289'}, 'ORYSJ33871': {'GO:0048235', 'GO:0007338', 'GO:0005783', 'GO:0005789', 'GO:0061936', 'GO:0005886', 'GO:0016021', 'GO:0005887', 'GO:0016020', 'GO:0008289', 'GO:0045026', 'GO:0009567'}, 'LEIIN00747': {'GO:0016020', 'GO:0016021'}, 'CHEQI32809': {'GO:0016021'}, 'SOYBN02660': {'GO:0016021'}, 'BRAOL50779': {'GO:0048235', 'GO:0007338', 'GO:0005783', 'GO:0061936', 'GO:0005886', 'GO:0016021', 'GO:0005887', 'GO:0016020', 'GO:0008289', 'GO:0045026', 'GO:0009567'}, 'ORYRU25304': {'GO:0048235', 'GO:0007338', 'GO:0005783', 'GO:0061936', 'GO:0005886', 'GO:0016021', 'GO:0005887', 'GO:0016020', 'GO:0008289', 'GO:0045026', 'GO:0009567'}, 'MANES16598': {'GO:0016021'}, 'LEPSE03601': {'GO:0016020', 'GO:0016021'}, 'DICPU08696': {'GO:0005783', 'GO:0005886', 'GO:0016021', 'GO:0016020', 'GO:0008289', 'GO:0019953'}, 'ORYSI24865': {'GO:0048235', 'GO:0005783', 'GO:0061936', 'GO:0005886', 'GO:0016021', 'GO:0005887', 'GO:0016020', 'GO:0045026', 'GO:0009567'}, 'SORBI14018': {'GO:0048235', 'GO:0007338', 'GO:0005783', 'GO:0061936', 'GO:0005886', 'GO:0016021', 'GO:0005887', 'GO:0016020', 'GO:0008289', 'GO:0045026', 'GO:0009567'}, 'MANES08056': {'GO:0007338', 'GO:0005783', 'GO:0005886', 'GO:0016021', 'GO:0008289'}, 'THECC12418': {'GO:0007338', 'GO:0005783', 'GO:0005886', 'GO:0016021', 'GO:0016020', 'GO:0008289'}, 'ORYPU32013': {'GO:0016021'}, 'LUPAN02887': {'GO:0016021'}, 'SETIT04466': {'GO:0048235', 'GO:0007338', 'GO:0005783', 'GO:0061936', 'GO:0005886', 'GO:0016021', 'GO:0005887', 'GO:0016020', 'GO:0008289', 'GO:0045026', 'GO:0009567'}, 'ORYSI37165': {'GO:0016021'}, 'CHEQI16567': {'GO:0016021'}, 'POPTR27565': {'GO:0007338', 'GO:0005783', 'GO:0005886', 'GO:0016021', 'GO:0016020', 'GO:0008289'}, 'CYAM104693': {'GO:0016020', 'GO:0016021'}, 'ORYPU21343': {'GO:0007338', 'GO:0005783', 'GO:0005886', 'GO:0016021', 'GO:0016020', 'GO:0008289'}, 'BRANA93064': {'GO:0007338', 'GO:0005783', 'GO:0005886', 'GO:0016021', 'GO:0016020', 'GO:0008289'}, 'SOYBN21946': {'GO:0016020', 'GO:0016021'}, 'ORYBR20353': {'GO:0016020', 'GO:0016021'}, 'DICDI03960': {'GO:0003674', 'GO:0005575', 'GO:0008150', 'GO:0016021'}, 'ORYBR30285': {'GO:0016021'}, 'PARTE05201': {'GO:0016020', 'GO:0016021'}, 'TRYCC07250': {'GO:0016020', 'GO:0016021'}, 'SOLLC30910': {'GO:0016021'}, 'PARTE06261': {'GO:0016020', 'GO:0016021'}, 'VITBC02306': {'GO:0016020', 'GO:0016021'}, 'LEIMU06358': {'GO:0016020', 'GO:0016021'}, 'ICHMG07310': {'GO:0016020', 'GO:0016021'}, 'AEGTA16793': {'GO:0048235', 'GO:0005783', 'GO:0061936', 'GO:0005886', 'GO:0016021', 'GO:0005887', 'GO:0016020', 'GO:0045026', 'GO:0009567'}, 'WHEAT87896': {'GO:0016020', 'GO:0016021'}, 'ORYRU38002': {'GO:0016021'}, 'NICAT17634': {'GO:0048235', 'GO:0007338', 'GO:0005783', 'GO:0061936', 'GO:0005886', 'GO:0016021', 'GO:0005887', 'GO:0016020', 'GO:0008289', 'GO:0045026', 'GO:0009567'}, 'CUCSA14784': {'GO:0048235', 'GO:0007338', 'GO:0005783', 'GO:0061936', 'GO:0005886', 'GO:0016021', 'GO:0005887', 'GO:0016020', 'GO:0008289', 'GO:0045026', 'GO:0009567'}, 'MAIZE29959': {'GO:0007338', 'GO:0005783', 'GO:0005886', 'GO:0016021', 'GO:0016020', 'GO:0008289'}, 'SELML21516': {'GO:0007338', 'GO:0005783', 'GO:0005886', 'GO:0016021', 'GO:0008289'}, 'COCAP18490': {'GO:0048235', 'GO:0007338', 'GO:0005783', 'GO:0061936', 'GO:0005886', 'GO:0016021', 'GO:0005887', 'GO:0016020', 'GO:0008289', 'GO:0045026', 'GO:0009567'}, 'BRARP40741': {'GO:0007338', 'GO:0005783', 'GO:0005886', 'GO:0016021', 'GO:0016020', 'GO:0008289'}, 'LEPSE07083': {'GO:0016020', 'GO:0016021'}, 'BODSA09965': {'GO:0016020', 'GO:0016021'}, 'WHEAT81028': {'GO:0016020', 'GO:0016021'}, 'PHAVU09099': {'GO:0048235', 'GO:0007338', 'GO:0005783', 'GO:0061936', 'GO:0005886', 'GO:0016021', 'GO:0005887', 'GO:0016020', 'GO:0008289', 'GO:0045026', 'GO:0009567'}, 'HORVV126779': {'GO:0048235', 'GO:0007338', 'GO:0005783', 'GO:0061936', 'GO:0005886', 'GO:0016021', 'GO:0005887', 'GO:0016020', 'GO:0008289', 'GO:0045026', 'GO:0009567'}, 'WHEAT95040': {'GO:0016020', 'GO:0016021'}, 'LEIDB00394': {'GO:0016020', 'GO:0016021'}, 'ARATH26614': {'GO:0048235', 'GO:0007338', 'GO:0005783', 'GO:0005789', 'GO:0061936', 'GO:0005886', 'GO:0016021', 'GO:0005887', 'GO:0016020', 'GO:0008289', 'GO:0045026', 'GO:0009567'}, 'GOSAR31066': {'GO:0007338', 'GO:0005783', 'GO:0005886', 'GO:0016021', 'GO:0008289'}}\n"
     ]
    }
   ],
   "source": [
    "qhog = '479378'\n",
    "res = p.hog_query(fam_id=int(qhog) , k = 100)\n",
    "res +=['479378']\n",
    "\n",
    "#res =[ \"HOG:\" + (7-len(str(fam_id))) * '0' + str(fam_id) for fam_id in res ]\n",
    "godict = { r:  { m:gaf[m]  for m in hogs[int(r)] if m in gaf} for r in res}\n",
    "print(godict['479378'])\n",
    "godict = { r: get_ancestors ( set([ g  for go in godict[r].values() for g in go] ) , obo ) for r in godict }\n",
    "hashes =  p.pull_hashes(res)\n",
    "jaccards = { r:hashes[r].jaccard(hashes[qhog]) for r in hashes }\n"
   ]
  },
  {
   "cell_type": "code",
   "execution_count": 12,
   "metadata": {},
   "outputs": [
    {
     "name": "stdout",
     "output_type": "stream",
     "text": [
      "[0.21875, 0.234375, 0.23828125, 0.2421875, 0.25390625, 0.26171875, 0.28125, 0.29296875, 0.296875, 0.30078125, 0.3046875, 0.3046875, 0.30859375, 0.3203125, 0.3203125, 0.328125, 0.328125, 0.34375, 0.34375, 0.34765625, 0.35546875, 0.35546875, 0.35546875, 0.35546875, 0.359375, 0.359375, 0.36328125, 0.36328125, 0.36328125, 0.37109375, 0.37890625, 0.3828125, 0.3828125, 0.3828125, 0.3828125, 0.38671875, 0.38671875, 0.38671875, 0.38671875, 0.390625, 0.390625, 0.39453125, 0.39453125, 0.39453125, 0.39453125, 0.40234375, 0.40234375, 0.40234375, 0.40234375, 0.40234375, 0.40234375, 0.40625, 0.41015625, 0.41015625, 0.4140625, 0.4140625, 0.41796875, 0.41796875, 0.41796875, 0.421875, 0.421875, 0.421875, 0.42578125, 0.42578125, 0.4296875, 0.4296875, 0.4296875, 0.43359375, 0.43359375, 0.4375, 0.4375, 0.4375, 0.4375, 0.44140625, 0.44140625, 0.4453125, 0.4453125, 0.4453125, 0.44921875, 0.44921875, 0.4609375, 0.4609375, 0.46484375, 0.46484375, 0.46484375, 0.46875, 0.46875, 0.47265625, 0.47265625, 0.4765625, 0.484375, 0.484375, 0.48828125, 0.4921875, 0.5078125, 0.5078125, 0.51953125, 0.51953125, 0.52734375, 1.0]\n"
     ]
    },
    {
     "data": {
      "image/png": "[encoded data removed]",
      "text/plain": [
       "<Figure size 432x288 with 1 Axes>"
      ]
     },
     "metadata": {
      "needs_background": "light"
     },
     "output_type": "display_data"
    }
   ],
   "source": [
    "plt.hist(jaccards.values(), 20)\n",
    "print(sorted(jaccards.values()))\n",
    "#each annotation set has a weight with jaccard...\n",
    "\n"
   ]
  },
  {
   "cell_type": "code",
   "execution_count": 1,
   "metadata": {},
   "outputs": [
    {
     "name": "stderr",
     "output_type": "stream",
     "text": [
      "Using TensorFlow backend.\n",
      "/home/cactuskid13/miniconda3/envs/pyprofiler3/lib/python3.7/site-packages/tensorflow/python/framework/dtypes.py:516: FutureWarning: Passing (type, 1) or '1type' as a synonym of type is deprecated; in a future version of numpy, it will be understood as (type, (1,)) / '(1,)type'.\n",
      "  _np_qint8 = np.dtype([(\"qint8\", np.int8, 1)])\n",
      "/home/cactuskid13/miniconda3/envs/pyprofiler3/lib/python3.7/site-packages/tensorflow/python/framework/dtypes.py:517: FutureWarning: Passing (type, 1) or '1type' as a synonym of type is deprecated; in a future version of numpy, it will be understood as (type, (1,)) / '(1,)type'.\n",
      "  _np_quint8 = np.dtype([(\"quint8\", np.uint8, 1)])\n",
      "/home/cactuskid13/miniconda3/envs/pyprofiler3/lib/python3.7/site-packages/tensorflow/python/framework/dtypes.py:518: FutureWarning: Passing (type, 1) or '1type' as a synonym of type is deprecated; in a future version of numpy, it will be understood as (type, (1,)) / '(1,)type'.\n",
      "  _np_qint16 = np.dtype([(\"qint16\", np.int16, 1)])\n",
      "/home/cactuskid13/miniconda3/envs/pyprofiler3/lib/python3.7/site-packages/tensorflow/python/framework/dtypes.py:519: FutureWarning: Passing (type, 1) or '1type' as a synonym of type is deprecated; in a future version of numpy, it will be understood as (type, (1,)) / '(1,)type'.\n",
      "  _np_quint16 = np.dtype([(\"quint16\", np.uint16, 1)])\n",
      "/home/cactuskid13/miniconda3/envs/pyprofiler3/lib/python3.7/site-packages/tensorflow/python/framework/dtypes.py:520: FutureWarning: Passing (type, 1) or '1type' as a synonym of type is deprecated; in a future version of numpy, it will be understood as (type, (1,)) / '(1,)type'.\n",
      "  _np_qint32 = np.dtype([(\"qint32\", np.int32, 1)])\n",
      "/home/cactuskid13/miniconda3/envs/pyprofiler3/lib/python3.7/site-packages/tensorflow/python/framework/dtypes.py:525: FutureWarning: Passing (type, 1) or '1type' as a synonym of type is deprecated; in a future version of numpy, it will be understood as (type, (1,)) / '(1,)type'.\n",
      "  np_resource = np.dtype([(\"resource\", np.ubyte, 1)])\n",
      "/home/cactuskid13/miniconda3/envs/pyprofiler3/lib/python3.7/site-packages/tensorboard/compat/tensorflow_stub/dtypes.py:541: FutureWarning: Passing (type, 1) or '1type' as a synonym of type is deprecated; in a future version of numpy, it will be understood as (type, (1,)) / '(1,)type'.\n",
      "  _np_qint8 = np.dtype([(\"qint8\", np.int8, 1)])\n",
      "/home/cactuskid13/miniconda3/envs/pyprofiler3/lib/python3.7/site-packages/tensorboard/compat/tensorflow_stub/dtypes.py:542: FutureWarning: Passing (type, 1) or '1type' as a synonym of type is deprecated; in a future version of numpy, it will be understood as (type, (1,)) / '(1,)type'.\n",
      "  _np_quint8 = np.dtype([(\"quint8\", np.uint8, 1)])\n",
      "/home/cactuskid13/miniconda3/envs/pyprofiler3/lib/python3.7/site-packages/tensorboard/compat/tensorflow_stub/dtypes.py:543: FutureWarning: Passing (type, 1) or '1type' as a synonym of type is deprecated; in a future version of numpy, it will be understood as (type, (1,)) / '(1,)type'.\n",
      "  _np_qint16 = np.dtype([(\"qint16\", np.int16, 1)])\n",
      "/home/cactuskid13/miniconda3/envs/pyprofiler3/lib/python3.7/site-packages/tensorboard/compat/tensorflow_stub/dtypes.py:544: FutureWarning: Passing (type, 1) or '1type' as a synonym of type is deprecated; in a future version of numpy, it will be understood as (type, (1,)) / '(1,)type'.\n",
      "  _np_quint16 = np.dtype([(\"quint16\", np.uint16, 1)])\n",
      "/home/cactuskid13/miniconda3/envs/pyprofiler3/lib/python3.7/site-packages/tensorboard/compat/tensorflow_stub/dtypes.py:545: FutureWarning: Passing (type, 1) or '1type' as a synonym of type is deprecated; in a future version of numpy, it will be understood as (type, (1,)) / '(1,)type'.\n",
      "  _np_qint32 = np.dtype([(\"qint32\", np.int32, 1)])\n",
      "/home/cactuskid13/miniconda3/envs/pyprofiler3/lib/python3.7/site-packages/tensorboard/compat/tensorflow_stub/dtypes.py:550: FutureWarning: Passing (type, 1) or '1type' as a synonym of type is deprecated; in a future version of numpy, it will be understood as (type, (1,)) / '(1,)type'.\n",
      "  np_resource = np.dtype([(\"resource\", np.ubyte, 1)])\n",
      "WARNING: Logging before flag parsing goes to stderr.\n",
      "W0209 23:41:53.529004 140416902350208 deprecation_wrapper.py:119] From /home/cactuskid13/miniconda3/envs/pyprofiler3/lib/python3.7/site-packages/keras/backend/tensorflow_backend.py:517: The name tf.placeholder is deprecated. Please use tf.compat.v1.placeholder instead.\n",
      "\n"
     ]
    },
    {
     "name": "stdout",
     "output_type": "stream",
     "text": [
      "Load the model..\n"
     ]
    },
    {
     "name": "stderr",
     "output_type": "stream",
     "text": [
      "W0209 23:41:53.756806 140416902350208 deprecation_wrapper.py:119] From /home/cactuskid13/miniconda3/envs/pyprofiler3/lib/python3.7/site-packages/keras/backend/tensorflow_backend.py:4138: The name tf.random_uniform is deprecated. Please use tf.random.uniform instead.\n",
      "\n",
      "W0209 23:41:54.046002 140416902350208 deprecation_wrapper.py:119] From /home/cactuskid13/miniconda3/envs/pyprofiler3/lib/python3.7/site-packages/keras/backend/tensorflow_backend.py:174: The name tf.get_default_session is deprecated. Please use tf.compat.v1.get_default_session instead.\n",
      "\n",
      "W0209 23:41:54.046983 140416902350208 deprecation_wrapper.py:119] From /home/cactuskid13/miniconda3/envs/pyprofiler3/lib/python3.7/site-packages/keras/backend/tensorflow_backend.py:181: The name tf.ConfigProto is deprecated. Please use tf.compat.v1.ConfigProto instead.\n",
      "\n",
      "W0209 23:41:54.047813 140416902350208 deprecation_wrapper.py:119] From /home/cactuskid13/miniconda3/envs/pyprofiler3/lib/python3.7/site-packages/keras/backend/tensorflow_backend.py:186: The name tf.Session is deprecated. Please use tf.compat.v1.Session instead.\n",
      "\n",
      "W0209 23:42:23.269599 140416902350208 deprecation_wrapper.py:119] From /home/cactuskid13/miniconda3/envs/pyprofiler3/lib/python3.7/site-packages/keras/optimizers.py:790: The name tf.train.Optimizer is deprecated. Please use tf.compat.v1.train.Optimizer instead.\n",
      "\n",
      "W0209 23:42:23.280690 140416902350208 deprecation.py:323] From /home/cactuskid13/miniconda3/envs/pyprofiler3/lib/python3.7/site-packages/tensorflow/python/ops/nn_impl.py:180: add_dispatch_support.<locals>.wrapper (from tensorflow.python.ops.array_ops) is deprecated and will be removed in a future version.\n",
      "Instructions for updating:\n",
      "Use tf.where in 2.0, which has the same broadcast rule as np.where\n"
     ]
    }
   ],
   "source": [
    "#load go2vec\n",
    "import numpy as np\n",
    "from keras.models import *\n",
    "from keras.optimizers import *\n",
    "from keras.layers import *\n",
    "from keras.metrics import *\n",
    "model = print('Load the model..')\n",
    "modelfile = '../models/GO2vec01_30_2020_17_03_04_069745.h5'\n",
    "model = load_model(modelfile)\n"
   ]
  },
  {
   "cell_type": "code",
   "execution_count": 2,
   "metadata": {},
   "outputs": [
    {
     "name": "stdout",
     "output_type": "stream",
     "text": [
      "[<keras.engine.input_layer.InputLayer object at 0x7fb4d8f01780>, <keras.engine.input_layer.InputLayer object at 0x7fb4d8f017f0>, <keras.layers.embeddings.Embedding object at 0x7fb4d8f01c50>, <keras.layers.core.Reshape object at 0x7fb4d8f01dd8>, <keras.layers.core.Reshape object at 0x7fb4d8f01a58>, <keras.layers.merge.Dot object at 0x7fb4d8f01ac8>, <keras.layers.core.Reshape object at 0x7fb4d8f01ba8>, <keras.layers.core.Dense object at 0x7fb4d8f01b00>]\n",
      "_________________________________________________________________\n",
      "Layer (type)                 Output Shape              Param #   \n",
      "=================================================================\n",
      "target_in (InputLayer)       (None, 1)                 0         \n",
      "_________________________________________________________________\n",
      "embedding (Embedding)        (None, 1, 5)              108150    \n",
      "=================================================================\n",
      "Total params: 108,150\n",
      "Trainable params: 108,150\n",
      "Non-trainable params: 0\n",
      "_________________________________________________________________\n",
      "None\n"
     ]
    }
   ],
   "source": [
    "print(model.layers)\n",
    "inputlayer = Input((1,) , name='target_in')\n",
    "layer = model.get_layer('embedding')\n",
    "x = layer(inputlayer)\n",
    "embedder = Model( inputs=[inputlayer] , outputs =[x]  )\n",
    "embedder.build( input_shape = (1,) )\n",
    "print(embedder.summary())"
   ]
  },
  {
   "cell_type": "code",
   "execution_count": 34,
   "metadata": {},
   "outputs": [],
   "source": [
    "import pickle\n",
    "with open( '../models/gafobects.pkl' , 'rb' ) as gafstats:\n",
    "    nterms , c , index , reverse_index , sampling = pickle.loads(gafstats.read())\n",
    "    nannot = sum( c.values())\n",
    "    "
   ]
  },
  {
   "cell_type": "code",
   "execution_count": 32,
   "metadata": {},
   "outputs": [
    {
     "name": "stdout",
     "output_type": "stream",
     "text": [
      "136560693\n",
      "31426\n",
      "31426\n"
     ]
    },
    {
     "ename": "NameError",
     "evalue": "name 'embedder' is not defined",
     "output_type": "error",
     "traceback": [
      "\u001b[0;31m---------------------------------------\u001b[0m",
      "\u001b[0;31mNameError\u001b[0mTraceback (most recent call last)",
      "\u001b[0;32m<ipython-input-32-91875bcada5a>\u001b[0m in \u001b[0;36m<module>\u001b[0;34m\u001b[0m\n\u001b[1;32m     10\u001b[0m \u001b[0;31m#nterms = len(index)\u001b[0m\u001b[0;34m\u001b[0m\u001b[0;34m\u001b[0m\u001b[0;34m\u001b[0m\u001b[0m\n\u001b[1;32m     11\u001b[0m \u001b[0mprint\u001b[0m\u001b[0;34m(\u001b[0m\u001b[0mlen\u001b[0m\u001b[0;34m(\u001b[0m\u001b[0mindex\u001b[0m\u001b[0;34m)\u001b[0m\u001b[0;34m)\u001b[0m\u001b[0;34m\u001b[0m\u001b[0;34m\u001b[0m\u001b[0m\n\u001b[0;32m---> 12\u001b[0;31m \u001b[0membedmat\u001b[0m \u001b[0;34m=\u001b[0m \u001b[0membedder\u001b[0m\u001b[0;34m.\u001b[0m\u001b[0mpredict\u001b[0m\u001b[0;34m(\u001b[0m \u001b[0;34m[\u001b[0m\u001b[0mnp\u001b[0m\u001b[0;34m.\u001b[0m\u001b[0marray\u001b[0m\u001b[0;34m(\u001b[0m\u001b[0mlist\u001b[0m\u001b[0;34m(\u001b[0m\u001b[0mindex\u001b[0m\u001b[0;34m.\u001b[0m\u001b[0mvalues\u001b[0m\u001b[0;34m(\u001b[0m\u001b[0;34m)\u001b[0m\u001b[0;34m)\u001b[0m \u001b[0;34m)\u001b[0m \u001b[0;34m]\u001b[0m \u001b[0;34m)\u001b[0m\u001b[0;34m\u001b[0m\u001b[0;34m\u001b[0m\u001b[0m\n\u001b[0m\u001b[1;32m     13\u001b[0m \u001b[0membedmat\u001b[0m \u001b[0;34m=\u001b[0m \u001b[0membedmat\u001b[0m\u001b[0;34m.\u001b[0m\u001b[0mreshape\u001b[0m\u001b[0;34m(\u001b[0m\u001b[0mlen\u001b[0m\u001b[0;34m(\u001b[0m\u001b[0mindex\u001b[0m\u001b[0;34m)\u001b[0m\u001b[0;34m,\u001b[0m\u001b[0;34m-\u001b[0m\u001b[0;36m1\u001b[0m\u001b[0;34m)\u001b[0m\u001b[0;34m\u001b[0m\u001b[0;34m\u001b[0m\u001b[0m\n\u001b[1;32m     14\u001b[0m \u001b[0;34m\u001b[0m\u001b[0m\n",
      "\u001b[0;31mNameError\u001b[0m: name 'embedder' is not defined"
     ]
    }
   ],
   "source": [
    "print(sum(c.values()))\n",
    "print(len(index))\n",
    "min_annot= 50\n",
    "#index = { t:index[t] for t in index if c[t] > min_annot }\n",
    "#c = { t:c[t] for t in index }\n",
    "\n",
    "#nterms = len(index)\n",
    "print(len(index))\n",
    "embedmat = embedder.predict( [np.array(list(index.values()) ) ] )\n",
    "embedmat = embedmat.reshape(len(index),-1)\n",
    "\n",
    "print(embedmat)\n",
    "print(embedmat.shape)\n",
    "from sklearn.neighbors import KDTree as KD\n",
    "tree = KD( embedmat )\n",
    "print(tree)\n",
    "\n",
    "with open('kdtree.pkl' , 'wb') as treeout:\n",
    "    treeout.write( pickle.dumps(tree))\n",
    "with open('embedmat.pkl' , 'wb') as treeout:\n",
    "    treeout.write( pickle.dumps(embedmat))"
   ]
  },
  {
   "cell_type": "code",
   "execution_count": 26,
   "metadata": {},
   "outputs": [],
   "source": [
    "\n",
    "with open('kdtree.pkl' , 'rb') as treeout:\n",
    "    tree= pickle.loads(treeout.read())\n",
    "with open('embedmat.pkl' , 'rb') as treeout:\n",
    "    embedmat = pickle.loads(treeout.read())\n"
   ]
  },
  {
   "cell_type": "code",
   "execution_count": null,
   "metadata": {},
   "outputs": [],
   "source": [
    "#use the embedder on sets of go terms\n",
    "govecs ={ r : embedder.predict( np.asarray([ index[go] for go in godict[r] if go in index ]) ) for r in godict }\n",
    "\n"
   ]
  },
  {
   "cell_type": "code",
   "execution_count": 16,
   "metadata": {},
   "outputs": [
    {
     "data": {
      "image/png": "[encoded data removed]",
      "text/plain": [
       "<Figure size 432x288 with 1 Axes>"
      ]
     },
     "metadata": {
      "needs_background": "light"
     },
     "output_type": "display_data"
    },
    {
     "name": "stdout",
     "output_type": "stream",
     "text": [
      "catalytic activity, acting on a tRNA\n",
      "['trans-hexaprenyltranstransferase activity', 'lipoprotein particle receptor activity', 'regulation of digestive system process', 'nuclear membrane fusion involved in karyogamy', 'negative regulation by organism of entry into cell of other organism via phagocytosis involved in symbiotic interaction', 'response to vitamin K', 'positive regulation of steroid biosynthetic process', 'ferredoxin-nitrate reductase activity', 'intrinsic component of organelle membrane', 'mitotic telomere tethering at nuclear periphery', 'histone H4-R3 demethylation', 'positive regulation of neuron differentiation', 'guanylate cyclase regulator activity', 'L-methionine salvage from methionine sulphoxide', 'N-(5-amino-5-carboxypentanoyl)-L-cysteinyl-D-valine synthase activity', 'Set3 complex', 'positive regulation of RNA interference', 'regulation of Wnt signaling pathway involved in dorsal/ventral axis specification', 'regulation of purine nucleotide biosynthetic process', 'microtubule polymerization', 'peptidyl-lysine 3-dioxygenase activity', 'negative regulation of synaptic transmission, GABAergic', 'electron transporter, transferring electrons from CoQH2-cytochrome c reductase complex and cytochrome c oxidase complex activity', 'dehydrogluconokinase activity', 'negative regulation of Kit signaling pathway', 'neurofilament', 'negative regulation of T-helper cell differentiation', 'positive regulation of nucleotide biosynthetic process', 'regulation of cellular pH reduction', 'NAD+-dinitrogen-reductase ADP-D-ribosyltransferase activity', 'myeloid dendritic cell activation', 'negative regulation of protein localization to centrosome', 'O-glycan processing, core 1', 'regulation of cellular amine catabolic process', 'negative regulation of transcription from RNA polymerase II promoter involved in meiotic cell cycle', 'DNA damage response, detection of DNA damage', 'cell adhesion molecule binding', '4-chlorobenzoate dehalogenase activity', 'positive regulation of blood vessel endothelial cell proliferation involved in sprouting angiogenesis', 'visual behavior', 'forebrain dorsal/ventral pattern formation', 'dimethylmaleate hydratase activity', 'cellular response to acetate', 'phosphorylation of RNA polymerase II C-terminal domain serine 2 residues', 'male germ cell proliferation', 'cardiac muscle contraction', 'regulation of locomotor rhythm', 'endothelial cell proliferation', 'rhombomere formation', 'mitotic spindle pole body duplication', 'Arp2/3 complex binding', 'neuropeptide catabolic process', 'cellular response to prostaglandin E stimulus', 'regulation of T cell tolerance induction', 'positive regulation of corticotropin secretion', 'regulation of adipose tissue development', 'adenosine receptor signaling pathway', 'uridine biosynthetic process', 'protein localization to vacuolar membrane', \"mRNA (nucleoside-2'-O-)-methyltransferase activity\", 'RSF complex', 'I-kappaB kinase/NF-kappaB signaling', 'central nervous system myelin formation', 'regulation of steroid biosynthetic process', 'trans-feruloyl-CoA hydratase activity', 'induction by symbiont of host innate immune response', 'innate immune response in mucosa', 'muscle cell fate specification', 'proline-rich region binding', 'protein kinase A catalytic subunit binding', 'regulation of complement activation, classical pathway', 'long-chain fatty acid import into peroxisome', 'spinal cord motor neuron migration', 'muscle adaptation', 'regulation of exit from mitosis', 'forebrain anterior/posterior pattern specification', 'cartilage development', 'positive regulation of non-canonical Wnt signaling pathway', 'positive regulation of L-glutamate import across plasma membrane', 'regulation of release of sequestered calcium ion into cytosol', 'negative regulation of extrachromosomal rDNA circle accumulation involved in replicative cell aging', 'cellobiose transmembrane transporter activity', 'androgen receptor signaling pathway', 'meiotic sister chromatid cohesion', 'endoplasmic reticulum calcium ion homeostasis', 'Schwann cell migration', '4,6-pyruvylated galactose residue biosynthetic process', 'L-cysteine:2-oxoglutarate aminotransferase activity', 'gap junction hemi-channel activity', 'regulation of epiboly involved in gastrulation with mouth forming second', 'regulation of fatty acid oxidation', 'Golgi calcium ion transmembrane transport', 'regulation of receptor-mediated endocytosis', 'axon regeneration', 'antigen processing and presentation of peptide or polysaccharide antigen via MHC class II', 'chitobiosyldiphosphodolichol beta-mannosyltransferase activity', 'frontonasal suture morphogenesis', 'negative regulation of Golgi to plasma membrane CFTR protein transport', 'intracellular signal transduction involved in G1 DNA damage checkpoint', 'lncRNA catabolic process']\n"
     ]
    }
   ],
   "source": [
    "\n",
    "dist, ind = tree.query(  embedmat[ index[go2id('GO:0000010')] ].reshape(1,-1) , k=100)\n",
    "\n",
    "plt.hist(dist.ravel())\n",
    "plt.show()\n",
    "\n",
    "print( obo[ id2GO(int(reverse_index[go2id('GO:0000010')]))].name  )\n",
    "print([ obo[ id2GO(int(reverse_index[Id]))].name for Id in list(ind[0])  if  id2GO(int(reverse_index[Id])) in obo] )\n"
   ]
  },
  {
   "cell_type": "code",
   "execution_count": 17,
   "metadata": {},
   "outputs": [
    {
     "name": "stdout",
     "output_type": "stream",
     "text": [
      "mitochondrial genome maintenance\n",
      "[7005, 16043, 2, 6996, 9987, 71840]\n"
     ]
    }
   ],
   "source": [
    "print(obo['GO:0000002'].name)\n",
    "go = obo['GO:0000002']\n",
    "print( get_ancestors([go.id] , obo ) )"
   ]
  },
  {
   "cell_type": "code",
   "execution_count": null,
   "metadata": {},
   "outputs": [],
   "source": [
    "import random\n",
    "\n",
    "\n",
    "#print( get_ancestors( [ id2GO(g) for g in godict['479378']], obo) )\n",
    "\n",
    "\n",
    "for i in range(govecs['479378'].shape[0]):\n",
    "    print( obo[goa.id2goterm( godict['479378'][i] )])\n",
    "    dist, ind = tree.query( govecs['479378'][i] , k=50)    \n",
    "    print('returned terms')\n",
    "    #print(obo[list(godict['HOG:0479378'])[i]].name)\n",
    "    print(ind)\n",
    "    plt.hist(dist.ravel())\n",
    "    plt.show()\n",
    "    print([ obo[ id2GO(int(reverse_index[Id]))].name for Id in list(ind[0]) if  id2GO(int(reverse_index[Id])) in obo]  )\n",
    "\n",
    "    "
   ]
  },
  {
   "cell_type": "code",
   "execution_count": 72,
   "metadata": {},
   "outputs": [],
   "source": [
    "#free up the gpu\n",
    "del embedder"
   ]
  },
  {
   "cell_type": "code",
   "execution_count": null,
   "metadata": {},
   "outputs": [],
   "source": [
    "#create a normalized taxonomy embedding for a species aware classifier\n",
    "print( len ( [ l for l in p.tree.get_leaves() ]))\n",
    "import time\n",
    "leaves = [ l for l in p.tree.get_leaves() ]\n",
    "import random\n",
    "\n",
    "times =[]\n",
    "for i in range(100):\n",
    "    t = time.time()\n",
    "    p.tree.get_distance(random.choice(leaves).name,random.choice(leaves).name, topology_only=True)\n",
    "    times.append(time.time()-t)\n",
    "plt.hist(times)\n",
    "print( np.mean(times)*(2290**2 / 2 - 2290) / 60 )\n",
    "\n"
   ]
  },
  {
   "cell_type": "code",
   "execution_count": 34,
   "metadata": {},
   "outputs": [
    {
     "name": "stderr",
     "output_type": "stream",
     "text": [
      "Process ForkPoolWorker-5:\n",
      "Process ForkPoolWorker-4:\n",
      "Process ForkPoolWorker-3:\n",
      "Process ForkPoolWorker-6:\n",
      "Process ForkPoolWorker-8:\n",
      "Process ForkPoolWorker-7:\n",
      "Process ForkPoolWorker-2:\n",
      "Process ForkPoolWorker-1:\n",
      "Traceback (most recent call last):\n",
      "Traceback (most recent call last):\n",
      "Traceback (most recent call last):\n",
      "Traceback (most recent call last):\n",
      "Traceback (most recent call last):\n",
      "Traceback (most recent call last):\n",
      "Traceback (most recent call last):\n",
      "  File \"/home/cactuskid13/miniconda3/envs/pyprofiler3/lib/python3.7/multiprocessing/process.py\", line 297, in _bootstrap\n",
      "    self.run()\n",
      "  File \"/home/cactuskid13/miniconda3/envs/pyprofiler3/lib/python3.7/multiprocessing/process.py\", line 297, in _bootstrap\n",
      "    self.run()\n",
      "  File \"/home/cactuskid13/miniconda3/envs/pyprofiler3/lib/python3.7/multiprocessing/process.py\", line 297, in _bootstrap\n",
      "    self.run()\n",
      "  File \"/home/cactuskid13/miniconda3/envs/pyprofiler3/lib/python3.7/multiprocessing/process.py\", line 297, in _bootstrap\n",
      "    self.run()\n",
      "  File \"/home/cactuskid13/miniconda3/envs/pyprofiler3/lib/python3.7/multiprocessing/process.py\", line 297, in _bootstrap\n",
      "    self.run()\n",
      "  File \"/home/cactuskid13/miniconda3/envs/pyprofiler3/lib/python3.7/multiprocessing/process.py\", line 297, in _bootstrap\n",
      "    self.run()\n",
      "  File \"/home/cactuskid13/miniconda3/envs/pyprofiler3/lib/python3.7/multiprocessing/process.py\", line 99, in run\n",
      "    self._target(*self._args, **self._kwargs)\n",
      "  File \"/home/cactuskid13/miniconda3/envs/pyprofiler3/lib/python3.7/multiprocessing/process.py\", line 99, in run\n",
      "    self._target(*self._args, **self._kwargs)\n",
      "  File \"/home/cactuskid13/miniconda3/envs/pyprofiler3/lib/python3.7/multiprocessing/process.py\", line 297, in _bootstrap\n",
      "    self.run()\n",
      "  File \"/home/cactuskid13/miniconda3/envs/pyprofiler3/lib/python3.7/multiprocessing/process.py\", line 99, in run\n",
      "    self._target(*self._args, **self._kwargs)\n",
      "  File \"/home/cactuskid13/miniconda3/envs/pyprofiler3/lib/python3.7/multiprocessing/process.py\", line 99, in run\n",
      "    self._target(*self._args, **self._kwargs)\n",
      "  File \"/home/cactuskid13/miniconda3/envs/pyprofiler3/lib/python3.7/multiprocessing/process.py\", line 99, in run\n",
      "    self._target(*self._args, **self._kwargs)\n",
      "  File \"/home/cactuskid13/miniconda3/envs/pyprofiler3/lib/python3.7/multiprocessing/process.py\", line 99, in run\n",
      "    self._target(*self._args, **self._kwargs)\n",
      "  File \"/home/cactuskid13/miniconda3/envs/pyprofiler3/lib/python3.7/multiprocessing/pool.py\", line 110, in worker\n",
      "    task = get()\n",
      "  File \"/home/cactuskid13/miniconda3/envs/pyprofiler3/lib/python3.7/multiprocessing/process.py\", line 99, in run\n",
      "    self._target(*self._args, **self._kwargs)\n",
      "  File \"/home/cactuskid13/miniconda3/envs/pyprofiler3/lib/python3.7/multiprocessing/pool.py\", line 110, in worker\n",
      "    task = get()\n",
      "  File \"/home/cactuskid13/miniconda3/envs/pyprofiler3/lib/python3.7/multiprocessing/pool.py\", line 110, in worker\n",
      "    task = get()\n",
      "  File \"/home/cactuskid13/miniconda3/envs/pyprofiler3/lib/python3.7/multiprocessing/pool.py\", line 110, in worker\n",
      "    task = get()\n",
      "  File \"/home/cactuskid13/miniconda3/envs/pyprofiler3/lib/python3.7/multiprocessing/pool.py\", line 110, in worker\n",
      "    task = get()\n",
      "  File \"/home/cactuskid13/miniconda3/envs/pyprofiler3/lib/python3.7/multiprocessing/queues.py\", line 351, in get\n",
      "    with self._rlock:\n",
      "  File \"/home/cactuskid13/miniconda3/envs/pyprofiler3/lib/python3.7/multiprocessing/pool.py\", line 110, in worker\n",
      "    task = get()\n",
      "  File \"/home/cactuskid13/miniconda3/envs/pyprofiler3/lib/python3.7/multiprocessing/pool.py\", line 110, in worker\n",
      "    task = get()\n",
      "  File \"/home/cactuskid13/miniconda3/envs/pyprofiler3/lib/python3.7/multiprocessing/queues.py\", line 351, in get\n",
      "    with self._rlock:\n",
      "  File \"/home/cactuskid13/miniconda3/envs/pyprofiler3/lib/python3.7/multiprocessing/queues.py\", line 351, in get\n",
      "    with self._rlock:\n",
      "  File \"/home/cactuskid13/miniconda3/envs/pyprofiler3/lib/python3.7/multiprocessing/queues.py\", line 351, in get\n",
      "    with self._rlock:\n",
      "  File \"/home/cactuskid13/miniconda3/envs/pyprofiler3/lib/python3.7/multiprocessing/queues.py\", line 351, in get\n",
      "    with self._rlock:\n",
      "  File \"/home/cactuskid13/miniconda3/envs/pyprofiler3/lib/python3.7/multiprocessing/synchronize.py\", line 95, in __enter__\n",
      "    return self._semlock.__enter__()\n",
      "  File \"/home/cactuskid13/miniconda3/envs/pyprofiler3/lib/python3.7/multiprocessing/queues.py\", line 351, in get\n",
      "    with self._rlock:\n",
      "  File \"/home/cactuskid13/miniconda3/envs/pyprofiler3/lib/python3.7/multiprocessing/queues.py\", line 351, in get\n",
      "    with self._rlock:\n",
      "  File \"/home/cactuskid13/miniconda3/envs/pyprofiler3/lib/python3.7/multiprocessing/synchronize.py\", line 95, in __enter__\n",
      "    return self._semlock.__enter__()\n",
      "  File \"/home/cactuskid13/miniconda3/envs/pyprofiler3/lib/python3.7/multiprocessing/synchronize.py\", line 95, in __enter__\n",
      "    return self._semlock.__enter__()\n",
      "  File \"/home/cactuskid13/miniconda3/envs/pyprofiler3/lib/python3.7/multiprocessing/synchronize.py\", line 95, in __enter__\n",
      "    return self._semlock.__enter__()\n",
      "  File \"/home/cactuskid13/miniconda3/envs/pyprofiler3/lib/python3.7/multiprocessing/synchronize.py\", line 95, in __enter__\n",
      "    return self._semlock.__enter__()\n",
      "  File \"/home/cactuskid13/miniconda3/envs/pyprofiler3/lib/python3.7/multiprocessing/synchronize.py\", line 95, in __enter__\n",
      "    return self._semlock.__enter__()\n",
      "KeyboardInterrupt\n",
      "  File \"/home/cactuskid13/miniconda3/envs/pyprofiler3/lib/python3.7/multiprocessing/synchronize.py\", line 95, in __enter__\n",
      "    return self._semlock.__enter__()\n",
      "KeyboardInterrupt\n",
      "KeyboardInterrupt\n",
      "KeyboardInterrupt\n",
      "KeyboardInterrupt\n",
      "KeyboardInterrupt\n",
      "KeyboardInterrupt\n",
      "Traceback (most recent call last):\n",
      "  File \"/home/cactuskid13/miniconda3/envs/pyprofiler3/lib/python3.7/multiprocessing/process.py\", line 297, in _bootstrap\n",
      "    self.run()\n",
      "  File \"/home/cactuskid13/miniconda3/envs/pyprofiler3/lib/python3.7/multiprocessing/process.py\", line 99, in run\n",
      "    self._target(*self._args, **self._kwargs)\n",
      "  File \"/home/cactuskid13/miniconda3/envs/pyprofiler3/lib/python3.7/multiprocessing/pool.py\", line 110, in worker\n",
      "    task = get()\n",
      "  File \"/home/cactuskid13/miniconda3/envs/pyprofiler3/lib/python3.7/multiprocessing/queues.py\", line 352, in get\n",
      "    res = self._reader.recv_bytes()\n"
     ]
    },
    {
     "ename": "KeyboardInterrupt",
     "evalue": "",
     "output_type": "error",
     "traceback": [
      "\u001b[0;31m--------------------------------------------------------------------\u001b[0m",
      "\u001b[0;31mKeyboardInterrupt\u001b[0m                  Traceback (most recent call last)",
      "\u001b[0;32m<ipython-input-34-0ced3f1c2a49>\u001b[0m in \u001b[0;36m<module>\u001b[0;34m\u001b[0m\n\u001b[1;32m      3\u001b[0m \u001b[0;34m\u001b[0m\u001b[0m\n\u001b[1;32m      4\u001b[0m \u001b[0mpool\u001b[0m \u001b[0;34m=\u001b[0m \u001b[0mmp\u001b[0m\u001b[0;34m.\u001b[0m\u001b[0mPool\u001b[0m\u001b[0;34m(\u001b[0m\u001b[0;34m)\u001b[0m\u001b[0;34m\u001b[0m\u001b[0;34m\u001b[0m\u001b[0m\n\u001b[0;32m----> 5\u001b[0;31m \u001b[0mdistances\u001b[0m \u001b[0;34m=\u001b[0m \u001b[0;34m[\u001b[0m \u001b[0;34m(\u001b[0m\u001b[0ml1\u001b[0m\u001b[0;34m.\u001b[0m\u001b[0mname\u001b[0m\u001b[0;34m,\u001b[0m\u001b[0ml2\u001b[0m\u001b[0;34m.\u001b[0m\u001b[0mname\u001b[0m \u001b[0;34m)\u001b[0m \u001b[0;32mfor\u001b[0m \u001b[0mi\u001b[0m\u001b[0;34m,\u001b[0m\u001b[0ml1\u001b[0m \u001b[0;32min\u001b[0m \u001b[0menumerate\u001b[0m\u001b[0;34m(\u001b[0m\u001b[0mp\u001b[0m\u001b[0;34m.\u001b[0m\u001b[0mtree\u001b[0m\u001b[0;34m.\u001b[0m\u001b[0mget_leaves\u001b[0m\u001b[0;34m(\u001b[0m\u001b[0;34m)\u001b[0m\u001b[0;34m)\u001b[0m \u001b[0;32mfor\u001b[0m \u001b[0mj\u001b[0m\u001b[0;34m,\u001b[0m\u001b[0ml2\u001b[0m \u001b[0;32min\u001b[0m \u001b[0menumerate\u001b[0m\u001b[0;34m(\u001b[0m\u001b[0mp\u001b[0m\u001b[0;34m.\u001b[0m\u001b[0mtree\u001b[0m\u001b[0;34m.\u001b[0m\u001b[0mget_leaves\u001b[0m\u001b[0;34m(\u001b[0m\u001b[0;34m)\u001b[0m\u001b[0;34m)\u001b[0m \u001b[0;32mif\u001b[0m \u001b[0mi\u001b[0m \u001b[0;34m<\u001b[0m \u001b[0mj\u001b[0m  \u001b[0;34m]\u001b[0m\u001b[0;34m\u001b[0m\u001b[0;34m\u001b[0m\u001b[0m\n\u001b[0m\u001b[1;32m      6\u001b[0m \u001b[0mindices\u001b[0m \u001b[0;34m=\u001b[0m \u001b[0;34m[\u001b[0m \u001b[0;34m(\u001b[0m\u001b[0mi\u001b[0m\u001b[0;34m,\u001b[0m\u001b[0mj\u001b[0m \u001b[0;34m)\u001b[0m   \u001b[0;32mfor\u001b[0m \u001b[0mi\u001b[0m\u001b[0;34m,\u001b[0m\u001b[0ml1\u001b[0m \u001b[0;32min\u001b[0m \u001b[0menumerate\u001b[0m\u001b[0;34m(\u001b[0m\u001b[0mp\u001b[0m\u001b[0;34m.\u001b[0m\u001b[0mtree\u001b[0m\u001b[0;34m.\u001b[0m\u001b[0mget_leaves\u001b[0m\u001b[0;34m(\u001b[0m\u001b[0;34m)\u001b[0m\u001b[0;34m)\u001b[0m \u001b[0;32mfor\u001b[0m \u001b[0mj\u001b[0m\u001b[0;34m,\u001b[0m\u001b[0ml2\u001b[0m \u001b[0;32min\u001b[0m \u001b[0menumerate\u001b[0m\u001b[0;34m(\u001b[0m\u001b[0mp\u001b[0m\u001b[0;34m.\u001b[0m\u001b[0mtree\u001b[0m\u001b[0;34m.\u001b[0m\u001b[0mget_leaves\u001b[0m\u001b[0;34m(\u001b[0m\u001b[0;34m)\u001b[0m\u001b[0;34m)\u001b[0m \u001b[0;32mif\u001b[0m \u001b[0mi\u001b[0m \u001b[0;34m<\u001b[0m \u001b[0mj\u001b[0m  \u001b[0;34m]\u001b[0m\u001b[0;34m\u001b[0m\u001b[0;34m\u001b[0m\u001b[0m\n\u001b[1;32m      7\u001b[0m \u001b[0;34m\u001b[0m\u001b[0m\n",
      "\u001b[0;32m<ipython-input-34-0ced3f1c2a49>\u001b[0m in \u001b[0;36m<listcomp>\u001b[0;34m(.0)\u001b[0m\n\u001b[1;32m      3\u001b[0m \u001b[0;34m\u001b[0m\u001b[0m\n\u001b[1;32m      4\u001b[0m \u001b[0mpool\u001b[0m \u001b[0;34m=\u001b[0m \u001b[0mmp\u001b[0m\u001b[0;34m.\u001b[0m\u001b[0mPool\u001b[0m\u001b[0;34m(\u001b[0m\u001b[0;34m)\u001b[0m\u001b[0;34m\u001b[0m\u001b[0;34m\u001b[0m\u001b[0m\n\u001b[0;32m----> 5\u001b[0;31m \u001b[0mdistances\u001b[0m \u001b[0;34m=\u001b[0m \u001b[0;34m[\u001b[0m \u001b[0;34m(\u001b[0m\u001b[0ml1\u001b[0m\u001b[0;34m.\u001b[0m\u001b[0mname\u001b[0m\u001b[0;34m,\u001b[0m\u001b[0ml2\u001b[0m\u001b[0;34m.\u001b[0m\u001b[0mname\u001b[0m \u001b[0;34m)\u001b[0m \u001b[0;32mfor\u001b[0m \u001b[0mi\u001b[0m\u001b[0;34m,\u001b[0m\u001b[0ml1\u001b[0m \u001b[0;32min\u001b[0m \u001b[0menumerate\u001b[0m\u001b[0;34m(\u001b[0m\u001b[0mp\u001b[0m\u001b[0;34m.\u001b[0m\u001b[0mtree\u001b[0m\u001b[0;34m.\u001b[0m\u001b[0mget_leaves\u001b[0m\u001b[0;34m(\u001b[0m\u001b[0;34m)\u001b[0m\u001b[0;34m)\u001b[0m \u001b[0;32mfor\u001b[0m \u001b[0mj\u001b[0m\u001b[0;34m,\u001b[0m\u001b[0ml2\u001b[0m \u001b[0;32min\u001b[0m \u001b[0menumerate\u001b[0m\u001b[0;34m(\u001b[0m\u001b[0mp\u001b[0m\u001b[0;34m.\u001b[0m\u001b[0mtree\u001b[0m\u001b[0;34m.\u001b[0m\u001b[0mget_leaves\u001b[0m\u001b[0;34m(\u001b[0m\u001b[0;34m)\u001b[0m\u001b[0;34m)\u001b[0m \u001b[0;32mif\u001b[0m \u001b[0mi\u001b[0m \u001b[0;34m<\u001b[0m \u001b[0mj\u001b[0m  \u001b[0;34m]\u001b[0m\u001b[0;34m\u001b[0m\u001b[0;34m\u001b[0m\u001b[0m\n\u001b[0m\u001b[1;32m      6\u001b[0m \u001b[0mindices\u001b[0m \u001b[0;34m=\u001b[0m \u001b[0;34m[\u001b[0m \u001b[0;34m(\u001b[0m\u001b[0mi\u001b[0m\u001b[0;34m,\u001b[0m\u001b[0mj\u001b[0m \u001b[0;34m)\u001b[0m   \u001b[0;32mfor\u001b[0m \u001b[0mi\u001b[0m\u001b[0;34m,\u001b[0m\u001b[0ml1\u001b[0m \u001b[0;32min\u001b[0m \u001b[0menumerate\u001b[0m\u001b[0;34m(\u001b[0m\u001b[0mp\u001b[0m\u001b[0;34m.\u001b[0m\u001b[0mtree\u001b[0m\u001b[0;34m.\u001b[0m\u001b[0mget_leaves\u001b[0m\u001b[0;34m(\u001b[0m\u001b[0;34m)\u001b[0m\u001b[0;34m)\u001b[0m \u001b[0;32mfor\u001b[0m \u001b[0mj\u001b[0m\u001b[0;34m,\u001b[0m\u001b[0ml2\u001b[0m \u001b[0;32min\u001b[0m \u001b[0menumerate\u001b[0m\u001b[0;34m(\u001b[0m\u001b[0mp\u001b[0m\u001b[0;34m.\u001b[0m\u001b[0mtree\u001b[0m\u001b[0;34m.\u001b[0m\u001b[0mget_leaves\u001b[0m\u001b[0;34m(\u001b[0m\u001b[0;34m)\u001b[0m\u001b[0;34m)\u001b[0m \u001b[0;32mif\u001b[0m \u001b[0mi\u001b[0m \u001b[0;34m<\u001b[0m \u001b[0mj\u001b[0m  \u001b[0;34m]\u001b[0m\u001b[0;34m\u001b[0m\u001b[0;34m\u001b[0m\u001b[0m\n\u001b[1;32m      7\u001b[0m \u001b[0;34m\u001b[0m\u001b[0m\n",
      "\u001b[0;32m~/.local/lib/python3.7/site-packages/ete3/coretype/tree.py\u001b[0m in \u001b[0;36mget_leaves\u001b[0;34m(self, is_leaf_fn)\u001b[0m\n\u001b[1;32m    618\u001b[0m           \u001b[0mdocumentation\u001b[0m\u001b[0;34m.\u001b[0m\u001b[0;34m\u001b[0m\u001b[0;34m\u001b[0m\u001b[0m\n\u001b[1;32m    619\u001b[0m         \"\"\"\n\u001b[0;32m--> 620\u001b[0;31m         \u001b[0;32mreturn\u001b[0m \u001b[0;34m[\u001b[0m\u001b[0mn\u001b[0m \u001b[0;32mfor\u001b[0m \u001b[0mn\u001b[0m \u001b[0;32min\u001b[0m \u001b[0mself\u001b[0m\u001b[0;34m.\u001b[0m\u001b[0miter_leaves\u001b[0m\u001b[0;34m(\u001b[0m\u001b[0mis_leaf_fn\u001b[0m\u001b[0;34m=\u001b[0m\u001b[0mis_leaf_fn\u001b[0m\u001b[0;34m)\u001b[0m\u001b[0;34m]\u001b[0m\u001b[0;34m\u001b[0m\u001b[0;34m\u001b[0m\u001b[0m\n\u001b[0m\u001b[1;32m    621\u001b[0m \u001b[0;34m\u001b[0m\u001b[0m\n\u001b[1;32m    622\u001b[0m     \u001b[0;32mdef\u001b[0m \u001b[0miter_leaf_names\u001b[0m\u001b[0;34m(\u001b[0m\u001b[0mself\u001b[0m\u001b[0;34m,\u001b[0m \u001b[0mis_leaf_fn\u001b[0m\u001b[0;34m=\u001b[0m\u001b[0;32mNone\u001b[0m\u001b[0;34m)\u001b[0m\u001b[0;34m:\u001b[0m\u001b[0;34m\u001b[0m\u001b[0;34m\u001b[0m\u001b[0m\n",
      "\u001b[0;32m~/.local/lib/python3.7/site-packages/ete3/coretype/tree.py\u001b[0m in \u001b[0;36m<listcomp>\u001b[0;34m(.0)\u001b[0m\n\u001b[1;32m    618\u001b[0m           \u001b[0mdocumentation\u001b[0m\u001b[0;34m.\u001b[0m\u001b[0;34m\u001b[0m\u001b[0;34m\u001b[0m\u001b[0m\n\u001b[1;32m    619\u001b[0m         \"\"\"\n\u001b[0;32m--> 620\u001b[0;31m         \u001b[0;32mreturn\u001b[0m \u001b[0;34m[\u001b[0m\u001b[0mn\u001b[0m \u001b[0;32mfor\u001b[0m \u001b[0mn\u001b[0m \u001b[0;32min\u001b[0m \u001b[0mself\u001b[0m\u001b[0;34m.\u001b[0m\u001b[0miter_leaves\u001b[0m\u001b[0;34m(\u001b[0m\u001b[0mis_leaf_fn\u001b[0m\u001b[0;34m=\u001b[0m\u001b[0mis_leaf_fn\u001b[0m\u001b[0;34m)\u001b[0m\u001b[0;34m]\u001b[0m\u001b[0;34m\u001b[0m\u001b[0;34m\u001b[0m\u001b[0m\n\u001b[0m\u001b[1;32m    621\u001b[0m \u001b[0;34m\u001b[0m\u001b[0m\n\u001b[1;32m    622\u001b[0m     \u001b[0;32mdef\u001b[0m \u001b[0miter_leaf_names\u001b[0m\u001b[0;34m(\u001b[0m\u001b[0mself\u001b[0m\u001b[0;34m,\u001b[0m \u001b[0mis_leaf_fn\u001b[0m\u001b[0;34m=\u001b[0m\u001b[0;32mNone\u001b[0m\u001b[0;34m)\u001b[0m\u001b[0;34m:\u001b[0m\u001b[0;34m\u001b[0m\u001b[0;34m\u001b[0m\u001b[0m\n",
      "\u001b[0;32m~/.local/lib/python3.7/site-packages/ete3/coretype/tree.py\u001b[0m in \u001b[0;36miter_leaves\u001b[0;34m(self, is_leaf_fn)\u001b[0m\n\u001b[1;32m    603\u001b[0m           \u001b[0mdocumentation\u001b[0m\u001b[0;34m.\u001b[0m\u001b[0;34m\u001b[0m\u001b[0;34m\u001b[0m\u001b[0m\n\u001b[1;32m    604\u001b[0m         \"\"\"\n\u001b[0;32m--> 605\u001b[0;31m         \u001b[0;32mfor\u001b[0m \u001b[0mn\u001b[0m \u001b[0;32min\u001b[0m \u001b[0mself\u001b[0m\u001b[0;34m.\u001b[0m\u001b[0mtraverse\u001b[0m\u001b[0;34m(\u001b[0m\u001b[0mstrategy\u001b[0m\u001b[0;34m=\u001b[0m\u001b[0;34m\"preorder\"\u001b[0m\u001b[0;34m,\u001b[0m \u001b[0mis_leaf_fn\u001b[0m\u001b[0;34m=\u001b[0m\u001b[0mis_leaf_fn\u001b[0m\u001b[0;34m)\u001b[0m\u001b[0;34m:\u001b[0m\u001b[0;34m\u001b[0m\u001b[0;34m\u001b[0m\u001b[0m\n\u001b[0m\u001b[1;32m    606\u001b[0m             \u001b[0;32mif\u001b[0m \u001b[0;32mnot\u001b[0m \u001b[0mis_leaf_fn\u001b[0m\u001b[0;34m:\u001b[0m\u001b[0;34m\u001b[0m\u001b[0;34m\u001b[0m\u001b[0m\n\u001b[1;32m    607\u001b[0m                 \u001b[0;32mif\u001b[0m \u001b[0mn\u001b[0m\u001b[0;34m.\u001b[0m\u001b[0mis_leaf\u001b[0m\u001b[0;34m(\u001b[0m\u001b[0;34m)\u001b[0m\u001b[0;34m:\u001b[0m\u001b[0;34m\u001b[0m\u001b[0;34m\u001b[0m\u001b[0m\n",
      "\u001b[0;32m~/.local/lib/python3.7/site-packages/ete3/coretype/tree.py\u001b[0m in \u001b[0;36m_iter_descendants_preorder\u001b[0;34m(self, is_leaf_fn)\u001b[0m\n\u001b[1;32m    756\u001b[0m             \u001b[0;32myield\u001b[0m \u001b[0mnode\u001b[0m\u001b[0;34m\u001b[0m\u001b[0;34m\u001b[0m\u001b[0m\n\u001b[1;32m    757\u001b[0m             \u001b[0;32mif\u001b[0m \u001b[0;32mnot\u001b[0m \u001b[0mis_leaf_fn\u001b[0m \u001b[0;32mor\u001b[0m \u001b[0;32mnot\u001b[0m \u001b[0mis_leaf_fn\u001b[0m\u001b[0;34m(\u001b[0m\u001b[0mnode\u001b[0m\u001b[0;34m)\u001b[0m\u001b[0;34m:\u001b[0m\u001b[0;34m\u001b[0m\u001b[0;34m\u001b[0m\u001b[0m\n\u001b[0;32m--> 758\u001b[0;31m                 \u001b[0mto_visit\u001b[0m\u001b[0;34m.\u001b[0m\u001b[0mextendleft\u001b[0m\u001b[0;34m(\u001b[0m\u001b[0mreversed\u001b[0m\u001b[0;34m(\u001b[0m\u001b[0mnode\u001b[0m\u001b[0;34m.\u001b[0m\u001b[0mchildren\u001b[0m\u001b[0;34m)\u001b[0m\u001b[0;34m)\u001b[0m\u001b[0;34m\u001b[0m\u001b[0;34m\u001b[0m\u001b[0m\n\u001b[0m\u001b[1;32m    759\u001b[0m             \u001b[0;32mtry\u001b[0m\u001b[0;34m:\u001b[0m\u001b[0;34m\u001b[0m\u001b[0;34m\u001b[0m\u001b[0m\n\u001b[1;32m    760\u001b[0m                 \u001b[0mnode\u001b[0m \u001b[0;34m=\u001b[0m \u001b[0mto_visit\u001b[0m\u001b[0;34m.\u001b[0m\u001b[0mpopleft\u001b[0m\u001b[0;34m(\u001b[0m\u001b[0;34m)\u001b[0m\u001b[0;34m\u001b[0m\u001b[0;34m\u001b[0m\u001b[0m\n",
      "\u001b[0;31mKeyboardInterrupt\u001b[0m: "
     ]
    },
    {
     "name": "stderr",
     "output_type": "stream",
     "text": [
      "  File \"/home/cactuskid13/miniconda3/envs/pyprofiler3/lib/python3.7/multiprocessing/connection.py\", line 216, in recv_bytes\n",
      "    buf = self._recv_bytes(maxlength)\n",
      "  File \"/home/cactuskid13/miniconda3/envs/pyprofiler3/lib/python3.7/multiprocessing/connection.py\", line 407, in _recv_bytes\n",
      "    buf = self._recv(4)\n",
      "  File \"/home/cactuskid13/miniconda3/envs/pyprofiler3/lib/python3.7/multiprocessing/connection.py\", line 379, in _recv\n",
      "    chunk = read(handle, remaining)\n",
      "KeyboardInterrupt\n"
     ]
    }
   ],
   "source": [
    "\n",
    "import multiprocessing as mp\n",
    "from functools import partial\n",
    "\n",
    "pool = mp.Pool()\n",
    "distances = [ (l1.name,l2.name ) for i,l1 in enumerate(p.tree.get_leaves()) for j,l2 in enumerate(p.tree.get_leaves()) if i < j  ]\n",
    "indices = [ (i,j )   for i,l1 in enumerate(p.tree.get_leaves()) for j,l2 in enumerate(p.tree.get_leaves()) if i < j  ]\n",
    "\n",
    "def treedist( ltuple , tree):\n",
    "    return tree.get_distance( ltuple[0] , ltuple[1], topology_only = True)\n",
    "\n",
    "nleaves = len([ l for l in p.tree.get_leaves() ] )\n",
    "treedist_load = partial( treedist , tree= p.tree )\n",
    "res = pool.map_async(   treedist_load , distances ).get()\n",
    "\n",
    "del pool"
   ]
  },
  {
   "cell_type": "code",
   "execution_count": null,
   "metadata": {},
   "outputs": [],
   "source": [
    "taxmat = np.zeros( (nleaves, nleaves) )\n",
    "for i,index in enumerate(indices):\n",
    "    taxmat[index] = res[i]\n",
    "taxmat+=taxmat.T\n",
    "\n",
    "print(taxmat)\n",
    "plt.hist(taxmat.ravel())\n",
    "plt.show()\n",
    "with open( 'taxkernel.pkl' ,'wb')as taxkernelout:\n",
    "    taxkernelout.write(pickle.dumps(distances))\n",
    "#project down with mds"
   ]
  },
  {
   "cell_type": "code",
   "execution_count": null,
   "metadata": {},
   "outputs": [],
   "source": [
    "from sklearn.manifold import MDS\n",
    "#create taxonomy projection\n",
    "mds = MDS( n_components = 2 )\n",
    "taxembed = mds.fit_transform(taxmat)\n",
    "with open( 'taxproj.pkl' , 'wb') as taxprojout:\n",
    "    taxprojout.write( pickle.dumps(taxembed))"
   ]
  },
  {
   "cell_type": "code",
   "execution_count": 35,
   "metadata": {},
   "outputs": [
    {
     "data": {
      "image/png": "[encoded data removed]",
      "text/plain": [
       "<Figure size 432x288 with 1 Axes>"
      ]
     },
     "metadata": {
      "needs_background": "light"
     },
     "output_type": "display_data"
    }
   ],
   "source": [
    "with open( 'taxproj.pkl' , 'rb' ) as taxprojin :\n",
    "    taxembed = pickle.loads( taxprojin.read())\n",
    "    \n",
    "#use the profiler trimmed ncbi tree to generate an index \n",
    "taxindex = {int( n.name ) : i for i,n in enumerate( p.tree.get_leaves() ) }\n",
    "\n",
    "plt.scatter( taxembed[:,0], taxembed[:,1]  )\n",
    "#where is arabidopsis\n",
    "plt.scatter( taxembed[taxindex[3702],0] , taxembed[taxindex[3702],1])\n",
    "#where is human\n",
    "plt.scatter( taxembed[taxindex[9606],0] , taxembed[taxindex[9606],1])\n",
    "#where is chimp\n",
    "plt.scatter( taxembed[taxindex[9606],0] , taxembed[taxindex[9598],1])\n",
    "plt.show()\n",
    "#ok... this more or less works\n"
   ]
  },
  {
   "cell_type": "code",
   "execution_count": 36,
   "metadata": {},
   "outputs": [
    {
     "data": {
      "image/png": "[encoded data removed]",
      "text/plain": [
       "<Figure size 432x288 with 1 Axes>"
      ]
     },
     "metadata": {
      "needs_background": "light"
     },
     "output_type": "display_data"
    }
   ],
   "source": [
    "from sklearn.preprocessing import RobustScaler , MinMaxScaler\n",
    "rs = MinMaxScaler()\n",
    "taxembedscaled = rs.fit_transform( taxembed )\n",
    "plt.scatter( taxembedscaled[:,0], taxembedscaled[:,1]  )\n",
    "plt.show()"
   ]
  },
  {
   "cell_type": "code",
   "execution_count": 37,
   "metadata": {},
   "outputs": [],
   "source": [
    "embedmat_scaled = rs.fit_transform( embedmat )"
   ]
  },
  {
   "cell_type": "code",
   "execution_count": 160,
   "metadata": {},
   "outputs": [],
   "source": [
    "from sklearn.cluster import AffinityPropagation\n",
    "from scipy.stats import rankdata\n",
    "def profiler_naive( qhog ,  p , gaf , c , nannot , hogs,  k , verbose  , obo , ignoreqhog):\n",
    "    #use jaccard and IC to weigh all returned GO terms\n",
    "    res = p.hog_query(fam_id = qhog , k = k )\n",
    "    if len(res) == 0 :\n",
    "        return None\n",
    "    #grab entries from hogs\n",
    "    hashes =  p.pull_hashes(res+[qhog])\n",
    "    jaccards = { r:hashes[r].jaccard(hashes[qhog]) for r in res }\n",
    "    members =  { r : [m for m in hogs[int(r)] if m in gaf ] for r in res  }\n",
    "    godict = {  m + '_' + str(go) :{ 'fam':r , 'GO':go , 'Jaccard': jaccards[r] } for r in members for m in members[r] for go in get_ancestors( gaf[m] , obo )  }\n",
    "    godf = pd.DataFrame.from_dict( godict , orient = 'index')\n",
    "    ICs = { go:-np.log( c[go] / nannot ) for go in godf.GO.unique() if go in c }\n",
    "    ICs.update( { go:max(ICs.values()) for go in godf.GO.unique() if go not in ICs }  )\n",
    "    godf['IC'] = godf.GO.map(ICs)\n",
    "    if ignoreqhog == True:\n",
    "        godf = godf[ godf.fam != str(qhog) ]\n",
    "        godf = godf[ godf.fam != qhog ]\n",
    "    #calculate the jaccards relative to the query\n",
    "    godf['jaccard'] = godf.fam.map(jaccards)\n",
    "    #max jaccard * IC\n",
    "    preddict = {}\n",
    "    \n",
    "    preddict= { go:{'max_jaccard':godf[godf.GO == go].jaccard.max() , 'IC':ICs[go] , 'coverage' : len( godf[godf.GO == go ]) / len(godf)  } \n",
    "                      for go in godf.GO.unique() if go in ICs and go not in preddict}\n",
    "    \n",
    "    if ignoreqhog == False:\n",
    "            preddict.update( { go:{'max_jaccard':1 , 'IC':10**-3 , 'coverage' : 1  } for go in godf.GO[godf.fam == qhog ].unique() if go in ICs } )\n",
    "    predDF = pd.DataFrame.from_dict( preddict , orient = 'index')\n",
    "    #awesome master super scoring function goes here\n",
    "    predDF['score'] =   (predDF.max_jaccard /  predDF.max_jaccard.max() )  * ( predDF.IC.min() /  predDF.IC ) * (predDF.coverage / predDF.coverage.max())        \n",
    "    #consequences be damned...\n",
    "    return predDF\n",
    "\n",
    "def embedding_kd_ap(qhog,  p, kdtree, embedmat , index , reverse_index , nannot, c , k  , nsuggestions , hogs , obo, ignoreqhog):\n",
    "    #use kdtree of go term embedding and profiler to grab suggestions\n",
    "    #centroids of annotation clusters of all hogs returned are used to suggest k terms each\n",
    "    #each cluster gets a jaccard score.\n",
    "    #each annotation suggested gets distance from centroid. jaccard and IC\n",
    "    res = p.hog_query(fam_id = qhog , k = k )\n",
    "    \n",
    "    if len(res) == 0 :\n",
    "        return None\n",
    "    \n",
    "    \n",
    "    #grab entries from hogs leaving qhog in there\n",
    "    members =  { r : [m for m in hogs[int(r)] if m in gaf ] for r in res  }\n",
    "    \n",
    "    godict = {  m + '_' + str(go) :{ 'fam':r , 'GO':go } for r in members for m in members[r] for go in get_ancestors( gaf[m] , obo )  }\n",
    "    godf = pd.DataFrame.from_dict( godict , orient = 'index')\n",
    "    \n",
    "    \n",
    "    if len(godict) == 0:\n",
    "        return None\n",
    "    \n",
    "    hashes =  p.pull_hashes(res + [qhog])\n",
    "    jaccards = { r:hashes[r].jaccard(hashes[qhog]) for r in members }\n",
    "    \n",
    "    godf['jaccard'] = godf.fam.map(jaccards)\n",
    "    \n",
    "    \n",
    "    if ignoreqhog == True:\n",
    "        try:\n",
    "            godf = godf[ godf.fam != qhog ]\n",
    "            godf = godf[ godf.fam != str(qhog) ]\n",
    "        except:\n",
    "            return None\n",
    "    \n",
    "    \n",
    "    #get the terms in embedding space    \n",
    "    GO_embedding = [ index[go] for go in godf.GO.unique() if go in index ]\n",
    "    terms = np.array( godf.GO.unique() )\n",
    "    coverage={  go : len( godf[godf.GO == go ]) / len(godf) for go in godf.GO.unique() }\n",
    "    godf['coverage'] = godf.GO.map( coverage ) \n",
    "    \n",
    "    govecs = embedmat[GO_embedding,:]\n",
    "    af = AffinityPropagation().fit(np.vstack( govecs ) )\n",
    "    #take cluster centroids\n",
    "    #k suggestions per cluster centroid\n",
    "    Preds = []\n",
    "    godf['clusters'] =  godf.GO.map( dict ( zip (godf.GO.unique() ,af.labels_ )) ) \n",
    "    #add queries cluster size is a s standin for coverage\n",
    "    for i, l in enumerate(list(np.unique(af.labels_) )):\n",
    "        #each label corresponds to a set of annotations in coevolving profiles\n",
    "        subdf = godf.loc[godf.clusters == l ]\n",
    "        maxjaccard = subdf.jaccard.mean()\n",
    "        maxcoverage = subdf.coverage.mean()    \n",
    "        #mix in initial results\n",
    "        dis,idx = tree.query( af.cluster_centers_[i].reshape(1, -1) , k= nsuggestions )\n",
    "        \n",
    "        Preds.append( { reverse_index[matrow] : {  'jaccard':maxjaccard , 'coverage': maxcoverage , 'distance':max(dis[0][j] , 10**-4) }  for j,matrow in enumerate(list(idx[0])) } )\n",
    "        #original terms are at distance delta... \n",
    "        Preds.append( { term : { 'jaccard':godf[godf.GO == term].jaccard.max() , 'coverage': coverage[term] ,  'distance': 10**-4 }  for  term in list(subdf.GO.unique() ) if term in index }  )\n",
    "    \n",
    "    predDF = pd.concat([ pd.DataFrame.from_dict( Pred , orient = 'index' ) for Pred in Preds ])\n",
    "    \n",
    "    #del Preds\n",
    "    \n",
    "    ICs = { go: -np.log( c[go] / nannot ) for go in predDF.index.unique() if go in c }\n",
    "    ICs.update( { go:max(ICs.values()) for go in predDF.index.unique() if go not in ICs }  )\n",
    "    predDF['IC'] = predDF.index.map(ICs)\n",
    "    \n",
    "    #awesome super scoring function goes here. maybe give the suggestions a bit less weight\n",
    "    #predictions farther from the centroid get less weight\n",
    "    #coev score influences the pred as well\n",
    "    \n",
    "    predDF['score'] =  (predDF.jaccard / predDF.jaccard.max()) * (  predDF.IC.min() / predDF.IC )   *  ( predDF.coverage / predDF.coverage.max() ) * ( predDF.distance.min() / predDF.distance ) \n",
    "    #predDF['name'] = predDF.index.map(lambda go : obo[ id2GO(go)].name )\n",
    "    \n",
    "    predDF = predDF[~predDF.score.isna()]\n",
    "    \n",
    "    #consequences be damned...\n",
    "    \n",
    "    return predDF\n",
    "\n",
    "def multiprofiler_embedding_kd_ap(qhog, profilers , kdtree, embedmat , index , reverse_index , nannot, c , k  , nsuggestions , hogs , obo, taxfilters,specdict, ignoreqhog , verbose = True ):\n",
    "    \n",
    "    #use kdtree of go term embedding and profiler to grab suggestions\n",
    "    #centroids of annotation clusters of all hogs returned are used to suggest k terms each\n",
    "    #each cluster gets a jaccard score.\n",
    "    #each annotation suggested gets distance from centroid. jaccard and IC\n",
    "        \n",
    "    jaccards = {}\n",
    "    resulthogs = {}\n",
    "    for ptype in profilers:\n",
    "        res = profilers[ptype].hog_query(fam_id = qhog , k = k )\n",
    "        if len( res ) > 0:\n",
    "            if ignoreqhog == True:\n",
    "                try:\n",
    "                    res.remove(str(qhog))\n",
    "                except:\n",
    "                    pass\n",
    "            resulthogs[ptype] = res\n",
    "            hashes =  profilers[ptype].pull_hashes(res + [qhog])\n",
    "            jaccards[ptype] = { r:hashes[r].jaccard(hashes[qhog]) for r in res }\n",
    "\n",
    "    ###begin mp here    \n",
    "    if len(jaccards) == 0 :\n",
    "        return None\n",
    "    #grab k best jaccards over all profilers\n",
    "    scores = np.hstack([ list(jaccards[ptype].values()) for ptype in jaccards] )\n",
    "    ranking = np.argsort(-scores )\n",
    "    counter = 0\n",
    "    topscores = {}\n",
    "    for ptype in jaccards.keys():\n",
    "        for r in jaccards[ptype]:\n",
    "            if ranking[counter] < k:\n",
    "                if ptype in topscores:\n",
    "                    topscores[ptype].append(r)\n",
    "                else:\n",
    "                    topscores[ptype]=[r]\n",
    "            counter +=1\n",
    "    \n",
    "    \n",
    "    members =  { r : [ m for m in hogs[int(r)] if  str(specdict[ m[0:5] ]) in taxfilters[ptype] and m in gaf ] for ptype in topscores for r in topscores[ptype] }\n",
    "    godict = {  m + '_' + str(go) :{ 'fam':r , 'GO':go } for r in members for m in members[r] for go in get_ancestors( gaf[m] , obo )  }    \n",
    "    jaccard =  { r :jaccards[ptype][r] for ptype in jaccards for r in jaccards[ptype] }\n",
    "    godf = pd.DataFrame.from_dict( godict , orient = 'index')\n",
    "    \n",
    "    if len(godict) == 0:\n",
    "        return None\n",
    "    godf['jaccard'] = godf.fam.map(jaccard)\n",
    "    if ignoreqhog == True:\n",
    "        try:\n",
    "            godf = godf[ godf.fam != qhog ]\n",
    "            godf = godf[ godf.fam != str(qhog) ]\n",
    "        except:\n",
    "            print(\"err qhog\")\n",
    "    \n",
    "    #get the terms in embedding space    \n",
    "    GO_embedding = [ index[go] for go in godf.GO.unique() if go in index ]\n",
    "    terms = np.array( godf.GO.unique() )\n",
    "    coverage={  go : len( godf[godf.GO == go ]) / len(godf) for go in godf.GO.unique() }\n",
    "    godf['coverage'] = godf.GO.map( coverage ) \n",
    "    \n",
    "    govecs = embedmat[GO_embedding,:]\n",
    "    af = AffinityPropagation().fit(np.vstack( govecs ) )\n",
    "    #take cluster centroids\n",
    "    #k suggestions per cluster centroid\n",
    "    Preds = []\n",
    "    godf['clusters'] =  godf.GO.map( dict ( zip (godf.GO.unique() ,af.labels_ )) ) \n",
    "    #add queries cluster size is a s standin for coverage\n",
    "    for i, l in enumerate(list(np.unique(af.labels_) )):\n",
    "        #each label corresponds to a set of annotations in coevolving profiles\n",
    "        subdf = godf[godf.clusters == l ]\n",
    "        \n",
    "        maxjaccard = subdf.jaccard.mean()\n",
    "        maxcoverage = subdf.coverage.mean()    \n",
    "        #mix in initial results\n",
    "        dis,idx = tree.query( af.cluster_centers_[i].reshape(1, -1) , k= nsuggestions )\n",
    "        Preds.append( { reverse_index[matrow] : {  'jaccard':maxjaccard , 'coverage': maxcoverage , 'distance':max(dis[0][j] , 10**-4) }  for j,matrow in enumerate(list(idx[0])) } )\n",
    "        #original terms are at distance delta... \n",
    "        Preds.append( { term : { 'jaccard':godf[godf.GO == term].jaccard.max() , 'coverage': coverage[term] , 'distance': 10**-4  }  for  term in list(subdf.GO.unique() ) if term in index }  )\n",
    "    \n",
    "    \n",
    "    \n",
    "    predDF = pd.concat([ pd.DataFrame.from_dict( Pred , orient = 'index' ) for Pred in Preds ])\n",
    "    \n",
    "    ICs = { go: -np.log( c[go] / nannot ) for go in predDF.index.unique() if go in c }\n",
    "    ICs.update( { go:max(ICs.values()) for go in predDF.index.unique() if go not in ICs }  )\n",
    "    predDF['IC'] = predDF.index.map(ICs)\n",
    "    \n",
    "    #awesome super scoring function goes here. maybe give the suggestions a bit less weight\n",
    "    #predictions farther from the centroid get less weight\n",
    "    #coev score influences the pred as well\n",
    "    \n",
    "    predDF['score'] =  (predDF.jaccard / predDF.jaccard.max()) * (  predDF.IC.min() / predDF.IC )   *  ( predDF.coverage / predDF.coverage.max() ) * ( predDF.distance.min() / predDF.distance ) \n",
    "    #predDF['name'] = predDF.index.map(lambda go : obo[ id2GO(go)].name )\n",
    "    \n",
    "    predDF = predDF[~predDF.score.isna()]\n",
    "    \n",
    "    #consequences be damned...\n",
    "    \n",
    "    return predDF\n",
    "\n",
    "\n"
   ]
  },
  {
   "cell_type": "code",
   "execution_count": 162,
   "metadata": {},
   "outputs": [],
   "source": [
    "from sklearn.metrics import roc_curve , precision_recall_curve\n",
    "from functools import partial\n",
    "import random\n",
    "\n",
    "nannot = sum(c.values())\n",
    "nsamples = 100\n",
    "randoHogs =[ random.choice(list(hogs.keys())) for i in range( nsamples ) ]"
   ]
  },
  {
   "cell_type": "code",
   "execution_count": null,
   "metadata": {},
   "outputs": [
    {
     "name": "stdout",
     "output_type": "stream",
     "text": [
      "         max_jaccard         IC  coverage     score  ytrue\n",
      "41          0.375000   8.271236  0.000433  0.001521      0\n",
      "272         0.558594   8.956455  0.003465  0.016743      0\n",
      "786         0.578125   9.061923  0.000433  0.002141      0\n",
      "3674        0.613281   5.156561  0.070593  0.650550      0\n",
      "3676        0.578125   4.558577  0.028584  0.280886      0\n",
      "3677        0.578125   4.970424  0.028584  0.257612      0\n",
      "3824        0.605469   3.846636  0.040710  0.496515      0\n",
      "4180        0.519531   8.415987  0.002599  0.012429      0\n",
      "4181        0.519531   9.882335  0.000866  0.003528      0\n",
      "4185        0.472656   8.954525  0.001732  0.007085      0\n",
      "4553        0.472656   7.294994  0.000866  0.004349      0\n",
      "5215        0.375000   6.598235  0.000433  0.001907      0\n",
      "5488        0.613281   5.318320  0.035080  0.313447      0\n",
      "5575        0.613281   5.938015  0.053703  0.429768      0\n",
      "5615        0.519531   7.102060  0.000866  0.004910      0\n",
      "5886        0.375000   4.972630  0.000433  0.002531      0\n",
      "5975        0.558594   6.455916  0.012993  0.087107      0\n",
      "5976        0.558594   8.566236  0.003465  0.017506      0\n",
      "6323        0.578125   9.508628  0.000433  0.002040      0\n",
      "6325        0.578125   8.260556  0.000433  0.002349      0\n",
      "6334        0.578125   9.305216  0.000433  0.002085      0\n",
      "6508        0.519531   5.956460  0.001299  0.008781      0\n",
      "6518        0.519531   8.338098  0.000866  0.004182      0\n",
      "6807        0.519531   7.370084  0.001299  0.007097      0\n",
      "6810        0.375000   5.312720  0.006929  0.037899      0\n",
      "6812        0.375000   7.253066  0.000433  0.001735      0\n",
      "6826        0.375000   9.052061  0.000433  0.001390      0\n",
      "6996        0.578125   7.321775  0.000433  0.002650      0\n",
      "8104        0.375000   8.287748  0.000433  0.001518      0\n",
      "8150        0.605469   6.190074  0.043309  0.328239      0\n",
      "...              ...        ...       ...       ...    ...\n",
      "99587       0.871094  14.589145  0.000343  0.001696      0\n",
      "110165      0.871094   3.354602  0.040508  0.870172      0\n",
      "120025      0.835938   7.920856  0.000343  0.002997      0\n",
      "140110      0.871094   6.094366  0.006522  0.077124      0\n",
      "140115      0.871094  10.170496  0.000343  0.002432      0\n",
      "140352      0.871094  11.774782  0.000343  0.002101      0\n",
      "1901135     0.843750   7.501253  0.001030  0.009583      0\n",
      "1901137     0.843750   8.004244  0.001030  0.008981      0\n",
      "1901354     0.835938  15.596785  0.003776  0.016743      0\n",
      "1901363     0.871094   5.785115  0.010642  0.132560      0\n",
      "1901564     0.835938   7.248423  0.003776  0.036027      0\n",
      "1901566     0.835938   6.735460  0.000687  0.007049      0\n",
      "1901576     0.843750   8.072694  0.001030  0.008905      0\n",
      "1901698     0.835938  10.060822  0.003776  0.025956      0\n",
      "1901700     0.835938   8.691730  0.003776  0.030044      0\n",
      "1902494     0.843750   7.257253  0.000343  0.003302      0\n",
      "1902495     0.871094   9.637575  0.004806  0.035936      0\n",
      "1902679     0.871094  10.543591  0.000687  0.004693      0\n",
      "1902680     0.847656  10.237741  0.004119  0.028216      0\n",
      "1903506     0.871094   5.534664  0.004806  0.062575      0\n",
      "1903507     0.871094   7.677429  0.000687  0.006444      0\n",
      "1903508     0.847656   7.850316  0.004119  0.036797      0\n",
      "1903509     0.843750  11.826526  0.000687  0.004052      0\n",
      "1990234     0.843750   8.366033  0.000343  0.002864      0\n",
      "1990351     0.871094  10.306544  0.004806  0.033603      0\n",
      "1990573     0.871094  10.460731  0.000343  0.002365      0\n",
      "1990837     0.847656   8.045599  0.000343  0.002992      0\n",
      "2000112     0.871094   5.488472  0.004806  0.063102      0\n",
      "2000113     0.871094   7.506037  0.000687  0.006591      0\n",
      "2001141     0.871094  11.085448  0.004806  0.031242      0\n",
      "\n",
      "[97438 rows x 5 columns]\n"
     ]
    },
    {
     "data": {
      "image/png": "[encoded data removed]",
      "text/plain": [
       "<Figure size 1440x1440 with 1 Axes>"
      ]
     },
     "metadata": {
      "needs_background": "light"
     },
     "output_type": "display_data"
    },
    {
     "data": {
      "image/png": "[encoded data removed]",
      "text/plain": [
       "<Figure size 1440x1440 with 1 Axes>"
      ]
     },
     "metadata": {
      "needs_background": "light"
     },
     "output_type": "display_data"
    },
    {
     "data": {
      "image/png": "[encoded data removed]",
      "text/plain": [
       "<Figure size 432x288 with 1 Axes>"
      ]
     },
     "metadata": {
      "needs_background": "light"
     },
     "output_type": "display_data"
    },
    {
     "data": {
      "image/png": "[encoded data removed]",
      "text/plain": [
       "<Figure size 432x288 with 1 Axes>"
      ]
     },
     "metadata": {
      "needs_background": "light"
     },
     "output_type": "display_data"
    }
   ],
   "source": [
    "from multiprocessing import Manager\n",
    "import multiprocessing as mp\n",
    "import time\n",
    "\n",
    "def prec_recall( randoHogs, profilerfun_partial , gaf , obo ):\n",
    "    dfs = []\n",
    "    t0 = time.time()    \n",
    "    for h in randoHogs:\n",
    "        predDF = profilerfun_partial(h)\n",
    "        \n",
    "        if predDF is not None:\n",
    "            goset =  { go   for m in { m for m in hogs[int(h)]  if m in gaf } for go in get_ancestors( gaf[m] , obo )  }\n",
    "            remainder = goset.difference( set(predDF.index ))\n",
    "            remainderDF = pd.DataFrame.from_dict({ r : { c:0 for c in predDF.columns } for r in remainder} , orient = 'index')\n",
    "            predDF = pd.concat([remainderDF,predDF])\n",
    "            predDF['ytrue'] = predDF.index.map( lambda x : 1 if x in goset else 0 )\n",
    "            dfs.append(predDF)\n",
    "    finaldf = pd.concat(dfs)\n",
    "    print(finaldf)\n",
    "    precision, recall, thresholds = precision_recall_curve(finaldf.ytrue, finaldf.score)\n",
    "    \n",
    "    plt.figure( figsize = (20,20))\n",
    "    plt.plot( recall , precision )\n",
    "    plt.show()\n",
    "    \n",
    "    fpr, tpr, thresholds = roc_curve( finaldf.ytrue, finaldf.score )\n",
    "    plt.figure( figsize = (20,20))\n",
    "    plt.plot(fpr, tpr)\n",
    "    plt.plot([0, 1], [0, 1], color='navy',  linestyle='--')\n",
    "    plt.show()\n",
    "    \n",
    "    plt.hist( finaldf.score[finaldf.ytrue == 1] , alpha = .5)\n",
    "    plt.hist( finaldf.score[finaldf.ytrue == 0] , alpha = .5)\n",
    "    plt.show()\n",
    "    plt.hist( finaldf.score[finaldf.ytrue == 1] )\n",
    "    plt.show()\n",
    "    \n",
    "    return finaldf\n",
    "\n",
    "\n",
    "k = 20\n",
    "nsuggestions = 15\n",
    "ignoreqhog = True\n",
    "verbose = True\n",
    "profiler_naive_conf = partial(profiler_naive ,   p=profilers['all'] , gaf=gaf , c=c , nannot=nannot , hogs=hogs ,  k=30  , verbose=False  , obo = obo, ignoreqhog=True )\n",
    "embedder_profiler = partial(embedding_kd_ap  ,  p=profilers['all'] , kdtree = tree, embedmat=embedmat , index=index , reverse_index=reverse_index , nannot=nannot, c=c , k=30  , nsuggestions=15 , hogs=hogs , obo= obo,  ignoreqhog= True )\n",
    "multiprof_conf = partial(multiprofiler_embedding_kd_ap  , profilers = profilers , kdtree = tree, embedmat=embedmat , index=index , reverse_index=reverse_index , nannot=nannot, c=c , k=30  , nsuggestions=15 , hogs=hogs , obo = obo, taxfilters = taxfilters, specdict = specdict, ignoreqhog= True )\n",
    "\n",
    "finaldf_naive = prec_recall( randoHogs , profiler_naive_conf , gaf , obo )\n",
    "#\n",
    "finaldf_embedder = prec_recall( randoHogs , embedder_profiler , gaf , obo )\n",
    "finaldf_multi = prec_recall( randoHogs , multiprof_conf , gaf , obo )        "
   ]
  },
  {
   "cell_type": "code",
   "execution_count": 92,
   "metadata": {},
   "outputs": [
    {
     "name": "stdout",
     "output_type": "stream",
     "text": [
      "0.1486807237661268\n",
      "0.20593355442443592\n"
     ]
    },
    {
     "name": "stderr",
     "output_type": "stream",
     "text": [
      "/home/cactuskid13/miniconda3/envs/pyprofiler3/lib/python3.7/site-packages/ipykernel_launcher.py:11: SettingWithCopyWarning: \n",
      "A value is trying to be set on a copy of a slice from a DataFrame\n",
      "\n",
      "See the caveats in the documentation: http://pandas.pydata.org/pandas-docs/stable/indexing.html#indexing-view-versus-copy\n",
      "  # This is added back by InteractiveShellApp.init_path()\n"
     ]
    },
    {
     "data": {
      "image/png": "[encoded data removed]",
      "text/plain": [
       "<Figure size 432x288 with 1 Axes>"
      ]
     },
     "metadata": {
      "needs_background": "light"
     },
     "output_type": "display_data"
    }
   ],
   "source": [
    "#todo. fit distribution to positive scores\n",
    "from scipy.stats import norm\n",
    "#just model the stupid things as multivariat gaussians and get a pval for each pred\n",
    "filterfinal_naive = finaldf_naive[finaldf_naive.score > 0]\n",
    "filterfinal_naive =  filterfinal_naive[ filterfinal_naive.ytrue == 1 ]\n",
    "naive_mean_posi = filterfinal_naive.score.mean()\n",
    "naive_std_posi = filterfinal_naive.score.std()\n",
    "print(naive_mean_posi)\n",
    "print(naive_std_posi)\n",
    "finaldf_naive['proba_posi'] =  norm.cdf( finaldf_naive.score , loc=naive_mean_posi, scale= naive_std_posi )\n",
    "finaldf_naive['proba_posi'][finaldf_naive.score == 0 ] = 0 \n",
    "\n",
    "filterfinal_embedder= finaldf_embedder[finaldf_embedder.score > 0]\n",
    "filterfinal_embedder=filterfinal_embedder[ filterfinal_embedder.ytrue == 1  ]\n",
    "embedder_mean_posi = filterfinal_embedder.score.mean()\n",
    "embedder_std_posi = filterfinal_embedder.score.std()\n",
    "finaldf_embedder['proba_posi'] =  norm.cdf( finaldf_embedder.score , loc=embedder_mean_posi, scale= embedder_std_posi )\n",
    "\n",
    "filterfinal_multi= finaldf_multi[finaldf_multi.score > 0]\n",
    "filterfinal_multi=filterfinal_embedder[ filterfinal_embedder.ytrue == 1  ]\n",
    "multi_mean_posi = filterfinal_embedder.score.mean()\n",
    "multi_std_posi = filterfinal_embedder.score.std()\n",
    "finaldf_multi['proba_posi'] =  norm.cdf( finaldf_embedder.score , loc=embedder_mean_posi, scale= embedder_std_posi )\n",
    "\n",
    "plt.hist( finaldf_embedder.score[finaldf_embedder.ytrue == 1] , alpha =.5 )\n",
    "plt.hist( finaldf_embedder.score[finaldf_embedder.ytrue == 0]  , alpha =.5)\n",
    "plt.show()"
   ]
  },
  {
   "cell_type": "code",
   "execution_count": 93,
   "metadata": {},
   "outputs": [
    {
     "name": "stderr",
     "output_type": "stream",
     "text": [
      "/home/cactuskid13/miniconda3/envs/pyprofiler3/lib/python3.7/site-packages/ipykernel_launcher.py:1: SettingWithCopyWarning: \n",
      "A value is trying to be set on a copy of a slice from a DataFrame\n",
      "\n",
      "See the caveats in the documentation: http://pandas.pydata.org/pandas-docs/stable/indexing.html#indexing-view-versus-copy\n",
      "  \"\"\"Entry point for launching an IPython kernel.\n",
      "/home/cactuskid13/miniconda3/envs/pyprofiler3/lib/python3.7/site-packages/ipykernel_launcher.py:2: SettingWithCopyWarning: \n",
      "A value is trying to be set on a copy of a slice from a DataFrame\n",
      "\n",
      "See the caveats in the documentation: http://pandas.pydata.org/pandas-docs/stable/indexing.html#indexing-view-versus-copy\n",
      "  \n"
     ]
    },
    {
     "data": {
      "image/png": "[encoded data removed]",
      "text/plain": [
       "<Figure size 720x720 with 1 Axes>"
      ]
     },
     "metadata": {
      "needs_background": "light"
     },
     "output_type": "display_data"
    },
    {
     "data": {
      "image/png": "[encoded data removed]",
      "text/plain": [
       "<Figure size 720x720 with 1 Axes>"
      ]
     },
     "metadata": {
      "needs_background": "light"
     },
     "output_type": "display_data"
    }
   ],
   "source": [
    "finaldf_naive.proba_posi[finaldf_naive.score == 0 ] = 0\n",
    "finaldf_embedder.proba_posi[finaldf_embedder.score == 0 ] = 0\n",
    "plt.figure( figsize = (10,10))\n",
    "precision, recall, thresholds = precision_recall_curve(finaldf_naive.ytrue, finaldf_naive.proba_posi)\n",
    "plt.plot(   recall , precision )\n",
    "\n",
    "precision, recall, thresholds = precision_recall_curve(finaldf_embedder.ytrue, finaldf_embedder.proba_posi)\n",
    "plt.plot(   recall , precision )\n",
    "\n",
    "\n",
    "precision, recall, thresholds = precision_recall_curve(finaldf_multi.ytrue, finaldf_multi.proba_posi)\n",
    "plt.plot(   recall , precision )\n",
    "\n",
    "plt.show()\n",
    "\n",
    "plt.figure( figsize = (10,10))\n",
    "fpr, tpr, thresholds = roc_curve( finaldf_naive.ytrue, finaldf_naive.proba_posi )\n",
    "plt.plot(fpr ,tpr)\n",
    "fpr, tpr, thresholds = roc_curve( finaldf_embedder.ytrue, finaldf_embedder.proba_posi)\n",
    "plt.plot(fpr ,tpr)\n",
    "\n",
    "fpr, tpr, thresholds = roc_curve( finaldf_multi.ytrue, finaldf_multi.proba_posi)\n",
    "plt.plot(fpr ,tpr)\n",
    "\n",
    "\n",
    "\n",
    "plt.plot([0, 1], [0, 1], color='navy',  linestyle='--')\n",
    "plt.show()"
   ]
  },
  {
   "cell_type": "code",
   "execution_count": 87,
   "metadata": {},
   "outputs": [
    {
     "name": "stdout",
     "output_type": "stream",
     "text": [
      "27235\n"
     ]
    }
   ],
   "source": [
    "print(len(targets.fam.unique()) )"
   ]
  },
  {
   "cell_type": "code",
   "execution_count": 127,
   "metadata": {},
   "outputs": [
    {
     "name": "stdout",
     "output_type": "stream",
     "text": [
      "Collecting progress\n",
      "  Downloading https://files.pythonhosted.org/packages/38/ef/2e887b3d2b248916fc2121889ce68af8a16aaddbe82f9ae6533c24ff0d2b/progress-1.5.tar.gz\n",
      "Building wheels for collected packages: progress\n",
      "  Building wheel for progress (setup.py) ... \u001b[?25ldone\n",
      "\u001b[?25h  Stored in directory: /home/cactuskid13/.cache/pip/wheels/6c/c8/80/32a294e3041f006c661838c05a411c7b7ffc60ff939d14e116\n",
      "Successfully built progress\n",
      "Installing collected packages: progress\n",
      "Successfully installed progress-1.5\n",
      "Note: you may need to restart the kernel to use updated packages.\n"
     ]
    }
   ],
   "source": [
    "pip install progress"
   ]
  },
  {
   "cell_type": "code",
   "execution_count": null,
   "metadata": {},
   "outputs": [
    {
     "name": "stdout",
     "output_type": "stream",
     "text": [
      "chunk\n",
      "0.0\n",
      "0\n",
      "1\n",
      "2\n",
      "3\n",
      "4\n",
      "5\n",
      "6\n",
      "7\n",
      "8\n"
     ]
    }
   ],
   "source": [
    "#print(targets)\n",
    "import math\n",
    "import datetime\n",
    "import logging\n",
    "logging.basicConfig(filename='chunklog.log',level=logging.DEBUG)\n",
    "from progress.bar import Bar\n",
    "\n",
    "header1 = \"\"\"\n",
    "AUTHOR David Moi\n",
    "MODEL 1 \n",
    "KEYWORDS Coevolution , IC\n",
    "\n",
    "\"\"\"\n",
    "\n",
    "header2 = \"\"\"\n",
    "AUTHOR David Moi\n",
    "MODEL 2 \n",
    "KEYWORDS Coevolution, IC , GO embedding\n",
    "\n",
    "\"\"\"\n",
    "\n",
    "chunksize = 1000\n",
    "chunks =  int( math.ceil( len(targets.fam.unique())/1000 ) )\n",
    "stamp = datetime.datetime.now().strftime('%m_%d_%Y_%H_%M_%S_%f')\n",
    "queries = list( targets.fam.unique() )\n",
    "\n",
    "with open( stamp + 'model1.txt' , 'w')as pred1 :\n",
    "    #with open(stamp + 'model2.txt'  , 'w') as pred2:\n",
    "    for i in range(chunks):\n",
    "        if i == 0 :\n",
    "            pred1.write(header1)\n",
    "            #pred2.write(header2)\n",
    "        print('chunk')\n",
    "        print(i / chunks)\n",
    "        #predict for chunk of hogs\n",
    "        chunk =  queries[i*chunksize: i*chunksize + chunksize]\n",
    "        for j,qhog in enumerate(chunk):\n",
    "            predchunk_naive = profiler_naive( qhog , p= p , gaf=gaf , c=c , nannot=nannot , hogs=hogs,  k = 20 , verbose = False , ignoreqhog = False )\n",
    "            #predchunk_embed =  embedding_kd_ap(qhog,  p = p , kdtree  =tree, embedmat=embedmat , index=index , reverse_index=reverse_index , nannot=nannot, c=c , k = 20  , nsuggestions=15 , hogs=hogs , ignoreqhog = False)\n",
    "            #predchunk_embed['termstring'] = predchunk_embed.index.map(id2GO)\n",
    "            predchunk_naive['termstring'] = predchunk_naive.index.map(id2GO)\n",
    "            \n",
    "            #finish output pred\n",
    "            predchunk_naive['proba_posi'] =  norm.cdf( predchunk_naive.score , loc=naive_mean_posi ,  scale=naive_std_posi  )\n",
    "            print(j)\n",
    "            \n",
    "            #predchunk_embed.round(2)\n",
    "            predchunk_naive.round(2)\n",
    "            if predchunk_naive is not None:\n",
    "                #grab all targets for each hog\n",
    "                subtarget = targets[targets.fam == qhog ]\n",
    "\n",
    "                for cafa_id in subtarget.cafa_id.unique():\n",
    "                    #output csv for all targets in chunk\n",
    "                    for ix,row in predchunk_naive.iterrows():\n",
    "                        pred1.write( cafa_id + '\\t' + row.termstring + '\\t' + str(row.proba_posi) + '\\n')\n",
    "                #for row in predchunk_embed.iter_rows():\n",
    "                    #pred2.write( cafa_id + '/t' +row.termstring + '/t' +  + row.proba_posi )\n",
    "        logging.info('chunk:' + str(i))\n",
    "\n",
    "\n",
    "#chunk target rows and save outputs\n",
    "\n",
    "#create csv "
   ]
  },
  {
   "cell_type": "code",
   "execution_count": 165,
   "metadata": {},
   "outputs": [],
   "source": [
    "###### start machine learning profiler based function prediction here #####\n",
    "#fit distribution params to jaccards and annot vecs?\n",
    "#pull in terms in the embedding and use them as suggestions\n",
    "\n",
    "def train_gengovec( qseqdfs , p ,  gaf , c , taxembed , embedmat , index  , taxindex , specdict , hogs, visdist  , k , obo,  batchsize ):\n",
    "    #this is to generate the training data... some info on each go term relative to the profiles pulled in \n",
    "    #classifier decides y or n\n",
    "    nannot = sum(c.values())\n",
    "    #prob a good idea to generate a bunch of these and fit a normalizer on the data.\n",
    "    #qseqdata is a generator of dataframes with columns = [ qseq , qhog ]\n",
    "    #sequences are ordered by Hog number to avoid splitting them up\n",
    "    govecs =[]\n",
    "    ys=[]\n",
    "    for qseqdata in qseqdfs:\n",
    "        for hog in qseqdata.hog.unique():\n",
    "            #proceed by hog\n",
    "            #use the profiler to get all coev HOGs\n",
    "            res = p.hog_query(hog_id = hog , k = k )\n",
    "            res+= [str(hog)]\n",
    "            hashes =  p.pull_hashes(res)\n",
    "            #get all hog members and annotations\n",
    "            members =  { r : [ m for m in hogs[int(r)] if m in gaf ] for r in res  }\n",
    "            globalgodict = {  m + '_' + str(go) :{ 'fam':r , 'omaid':m ,  'GO':go , 'Tax':taxindex[specdict[m[0:5]]] , 'omaid':m } for r in res for m in members[r] for go in get_ancestors( gaf[m] , obo )  }\n",
    "            if len(globalgodict)>0:\n",
    "                #embed go and tax\n",
    "                ggodf = pd.DataFrame.from_dict( globalgodict , orient = 'index')\n",
    "                ggodf['name'] = ggodf.GO.map(lambda go : obo[ id2GO(go)].name )\n",
    "                GO_embedding = { go:embedmat[ index[go], : ] for go in ggodf.GO.unique()  if go in index }\n",
    "                Tax_embedding = { genome:taxembed[genome,:] for genome in ggodf.Tax.unique() }\n",
    "                ICs = { go:np.log( nannot/c[go]) for go in ggodf.GO.unique()  if go in c }\n",
    "                ICs.update( { go:max(ICs.values()) for go in ggodf.GO.unique() if go not in ICs }  )\n",
    "\n",
    "                ggodf['GOembed'] = ggodf.GO.map(GO_embedding)\n",
    "                ggodf['TaxEmbed'] = ggodf.Tax.map( Tax_embedding )\n",
    "                ggodf['IC'] = ggodf.GO.map(ICs)\n",
    "                \n",
    "                for qhog in ggodf.fam.unique():\n",
    "                    t0 = time.time()\n",
    "                    godf = ggodf[ggodf.fam != qhog].copy()\n",
    "                    godf = godf[ godf.fam != str(qhog) ]\n",
    "                    \n",
    "                    \n",
    "                    if len(godf)>0:\n",
    "                        #jaccard relative to qhog\n",
    "                        qHOGgo =  [ embedmat[ index[go] ,:]  for m in ggodf[ggodf.fam == qhog].omaid for go in gaf[m] if go in index]\n",
    "                        \n",
    "                        if len(qHOGgo) == 0 :\n",
    "                            #if no annotations then just use 'biological process' as annotation\n",
    "                            qHOGavg = embedmat[ index[8150] ,: ]\n",
    "                            qHOGstdv = [0,0,0]\n",
    "                        else:\n",
    "                            qHOGavg = np.mean( np.vstack(qHOGgo))\n",
    "                            qHOGstdv = np.std( np.vstack(qHOGgo))\n",
    "                        \n",
    "                        counts = { go:len(godf[godf.GO==go]) for go in godf.GO.unique() }\n",
    "                        Freqs = { go:counts[go]/len(godf) for go in godf.GO.unique() }\n",
    "                        jaccards = { r:hashes[r].jaccard(hashes[qhog]) for r in godf.fam.unique() }\n",
    "                        godf['jaccard'] = godf.fam.map(jaccards)\n",
    "                        embedmat_matches = np.vstack(godf.GOembed[ ~godf.GOembed.isna() ])                        \n",
    "                        GOembedavg = np.mean( embedmat_matches )\n",
    "                        GOembedstd = np.std( embedmat_matches )\n",
    "                        ICavg = np.mean( godf.IC )\n",
    "                        ICstdv = np.std( godf.IC )\n",
    "                        \n",
    "                        if visdist:\n",
    "                            plt.title('Jaccard')\n",
    "                            plt.hist(godf.jaccard)\n",
    "                            plt.show()\n",
    "                            plt.title('IC')\n",
    "                            plt.hist(list(ICs.values()))\n",
    "                            plt.show()\n",
    "                        \n",
    "                        for go in godf.GO.unique():\n",
    "                            sub = godf[ godf.GO == go ]\n",
    "                            taxspread = np.std(np.vstack(sub.Tax))\n",
    "                            taxcentroid = np.mean(np.vstack(sub.Tax))\n",
    "                            if visdist:\n",
    "                                plt.title( 'taxspread:'+  id2GO(go))\n",
    "                                plt.scatter( taxembed[:,0], taxembed[:,1]  , alpha = .25 )\n",
    "                                taxa = np.vstack(sub.TaxEmbed)\n",
    "                                plt.scatter( taxa[:,0], taxa[:,1]  , alpha = 0.25)\n",
    "                                plt.show()\n",
    "                            \n",
    "                            for seq in list(ggodf[ggodf.fam == qhog ].omaid.unique())[0:1000]:\n",
    "                                #for each go for each qseq in qhog\n",
    "                                seqTaxEmbed = taxembed[ taxindex[specdict[seq[0:5]]] , :  ]\n",
    "                                #min taxonomic distance at which the annotation being tested is found\n",
    "                                taxdists = np.vstack(sub.TaxEmbed.map( lambda x: np.linalg.norm(x-seqTaxEmbed)))\n",
    "                                if visdist:\n",
    "                                    plt.title('taxdist')\n",
    "                                    plt.hist(taxdists)\n",
    "                                    plt.show()\n",
    "                                \n",
    "                                taxdifference = np.vstack(sub.TaxEmbed.map( lambda x: x-seqTaxEmbed) )\n",
    "                                taxdifferencespread = np.std(np.vstack(taxdifference))\n",
    "                                taxdifferencecentroid = np.mean(np.vstack(taxdifference))\n",
    "                                \n",
    "                                if go in GO_embedding:\n",
    "                                    govec = np.array( [ sub.IC.max() ,  ICavg , ICstdv , len(godf) , len(sub) ,  \n",
    "                                                       sub.jaccard.max(),  sub.jaccard.mean() , \n",
    "                                                       sub.jaccard.std(), sub.jaccard.max(), sub.jaccard.min() , \n",
    "                                                       godf.jaccard.mean() , godf.jaccard.std(), godf.jaccard.max(), \n",
    "                                                       godf.jaccard.min(), np.amin(taxdists)  \n",
    "                                                       ])\n",
    "\n",
    "                                    govec = np.hstack([govec, seqTaxEmbed , GOembedavg , GOembedstd , GO_embedding[go] , qHOGavg, qHOGstdv , taxspread, taxcentroid , taxdifferencespread , taxdifferencecentroid])\n",
    "\n",
    "                                    #does the prot have this annotation?\n",
    "                                    \n",
    "                                    if go in list(ggodf.GO[ ggodf.fam == str(qhog) ] ):\n",
    "\n",
    "                                        y = [1]\n",
    "                                    else:\n",
    "                                        y =[0]\n",
    "                                    govecs.append(govec)\n",
    "                                    ys.append(y)\n",
    "\n",
    "                                    if len(govecs)>batchsize:\n",
    "                                        yield ( {'govec':np.vstack(govecs)} , {'y':np.vstack(ys)} )\n",
    "                                        govecs = []\n",
    "                                        ys=[]\n",
    "\n",
    "                                    \n",
    "#todo write a vec generator for targets and testing\n",
    "def predict_targets( qhogs , p ,  gaf , c , taxembed , embedmat , index  , taxindex , specdict , hogs, k = 10 ,   visdist = False , obo = obo, batchsize = 100 ):\n",
    "    nannot = sum(c.values())\n",
    "    #prob a good idea to generate a bunch of these and fit a normalizer on the data.\n",
    "    #qseqdata is a generator of dataframes with columns = [ qseq , qhog ]\n",
    "    #sequences are ordered by Hog number to avoid splitting them up\n",
    "    govecs =[]\n",
    "    \n",
    "    \n",
    "    for qseqdata in qseqdfs:\n",
    "        for hog in qseqdata.hog.unique():\n",
    "            #proceed by hog\n",
    "            #use the profiler to get all coev HOGs\n",
    "            res = p.hog_query(hog_id = hog , k = k )\n",
    "            res+= [str(hog)]\n",
    "            hashes =  p.pull_hashes(res)\n",
    "            #get all hog members and annotations\n",
    "            members =  { r : [ m for m in hogs[int(r)] if m in gaf ] for r in res  }\n",
    "            globalgodict = {  m + '_' + str(go) :{ 'fam':r , 'omaid':m ,  'GO':go , 'Tax':taxindex[specdict[m[0:5]]] , 'omaid':m } for r in res for m in members[r] for go in get_ancestors( gaf[m] , obo )  }\n",
    "            if len(globalgodict)>0:\n",
    "                #embed go and tax\n",
    "                ggodf = pd.DataFrame.from_dict( globalgodict , orient = 'index')\n",
    "                ggodf['name'] = ggodf.GO.map(lambda go : obo[ id2GO(go)].name )\n",
    "                GO_embedding = { go:embedmat[ index[go], : ] for go in ggodf.GO.unique()  if go in index }\n",
    "                Tax_embedding = { genome:taxembed[genome,:] for genome in ggodf.Tax.unique() }\n",
    "                ICs = { go:np.log(c[go]/nannot) for go in ggodf.GO.unique()  if go in c }\n",
    "                \n",
    "                ggodf['GOembed'] = ggodf.GO.map(GO_embedding)\n",
    "                ggodf['TaxEmbed'] = ggodf.Tax.map( Tax_embedding )\n",
    "                ggodf['IC'] = ggodf.GO.map(ICs)\n",
    "                if len(godf)>0:\n",
    "                    #jaccard relative to qhog\n",
    "                    qHOGgo =  [ embedmat[ index[go] ,:]  for m in ggodf[ggodf.fam == qhog].omaid for go in gaf[m] if go in index]\n",
    "\n",
    "                    if len(qHOGgo) == 0 :\n",
    "                        #if no annotations then just use 'biological process' as annotation\n",
    "                        qHOGavg = embedmat[ index[8150] ,: ]\n",
    "                        qHOGstdv = [0,0,0]\n",
    "                    else:\n",
    "                        qHOGavg = np.mean( np.vstack(qHOGgo))\n",
    "                        qHOGstdv = np.std( np.vstack(qHOGgo))\n",
    "\n",
    "                    counts = { go:len(godf[godf.GO==go]) for go in godf.GO.unique() }\n",
    "                    Freqs = { go:counts[go]/len(godf) for go in godf.GO.unique() }\n",
    "                    jaccards = { r:hashes[r].jaccard(hashes[qhog]) for r in godf.fam.unique() }\n",
    "                    godf['jaccard'] = godf.fam.map(jaccards)\n",
    "                    embedmat_matches = np.vstack(godf.GOembed[ ~godf.GOembed.isna() ])                        \n",
    "                    GOembedavg = np.mean( embedmat_matches )\n",
    "                    GOembedstd = np.std( embedmat_matches )\n",
    "                    ICavg = np.mean( godf.IC )\n",
    "                    ICstdv = np.std( godf.IC )\n",
    "\n",
    "                    if visdist:\n",
    "                        plt.title('Jaccard')\n",
    "                        plt.hist(godf.jaccard)\n",
    "                        plt.show()\n",
    "                        plt.title('IC')\n",
    "                        plt.hist(list(ICs.values()))\n",
    "                        plt.show()\n",
    "\n",
    "                    for go in godf.GO.unique():\n",
    "                        sub = godf[ godf.GO == go ]\n",
    "                        taxspread = np.std(np.vstack(sub.Tax))\n",
    "                        taxcentroid = np.mean(np.vstack(sub.Tax))\n",
    "                        if visdist:\n",
    "                            plt.title( 'taxspread:'+  id2GO(go))\n",
    "                            plt.scatter( taxembed[:,0], taxembed[:,1]  , alpha = .25 )\n",
    "                            taxa = np.vstack(sub.TaxEmbed)\n",
    "                            plt.scatter( taxa[:,0], taxa[:,1]  , alpha = 0.25)\n",
    "                            plt.show()\n",
    "                        for seq in godf[godf.fam == str(qhog) ].omaid.unique():\n",
    "                            #for each go for each qseq in qhog\n",
    "                            seqTaxEmbed = taxembed[ taxindex[specdict[seq[0:5]]] , :  ]\n",
    "                            #min taxonomic distance at which the annotation being tested is found\n",
    "                            taxdists = np.vstack(sub.TaxEmbed.map( lambda x: np.linalg.norm(x-seqTaxEmbed)))\n",
    "                            if visdist:\n",
    "                                plt.title('taxdist')\n",
    "                                plt.hist(taxdists)\n",
    "                                plt.show()\n",
    "                            taxdifference = np.vstack(sub.TaxEmbed.map( lambda x: x-seqTaxEmbed) )\n",
    "                            taxdifferencespread = np.std(np.vstack(taxdifference))\n",
    "                            taxdifferencecentroid = np.mean(np.vstack(taxdifference))\n",
    "                            if go in GO_embedding:\n",
    "                                govec = np.array( [ sub.IC.max() ,  ICavg , ICstdv , len(godf) , len(sub) ,  \n",
    "                                                   sub.jaccard.max(),  sub.jaccard.mean() , \n",
    "                                                   sub.jaccard.std(), sub.jaccard.max(), sub.jaccard.min() , \n",
    "                                                   godf.jaccard.mean() , godf.jaccard.std(), godf.jaccard.max(), \n",
    "                                                   godf.jaccard.min(), np.amin(taxdists)  \n",
    "                                                   ])\n",
    "\n",
    "                                govec = np.hstack([govec, seqTaxEmbed , GOembedavg , GOembedstd , GO_embedding[go] , qHOGavg, qHOGstdv , taxspread, taxcentroid , taxdifferencespread , taxdifferencecentroid])\n",
    "                                govecs.append(govec)\n",
    "\n",
    "                                if len(govecs)>batchsize:\n",
    "                                    #return vec of GO term\n",
    "                                    yield ( {'govec':np.vstack(govecs)}  )\n",
    "                                    \n",
    "\n",
    "                    "
   ]
  },
  {
   "cell_type": "code",
   "execution_count": 166,
   "metadata": {},
   "outputs": [],
   "source": [
    "\n",
    "train_govecs = train_gengovec( hogiterator,  p ,  gaf , c , taxembedscaled , embedmat_scaled , index  , taxindex , specdict , hogs, k = 20 ,   visdist = False , obo = obo, batchsize = 100  )"
   ]
  },
  {
   "cell_type": "code",
   "execution_count": 183,
   "metadata": {},
   "outputs": [
    {
     "name": "stdout",
     "output_type": "stream",
     "text": [
      "({'govec': array([[ 8.56623560e+00,  6.69238542e+00,  2.82083895e+00, ...,\n",
      "         2.17407143e+03,  5.28861847e-02, -5.94220393e-03],\n",
      "       [ 7.40622614e+00,  6.69238542e+00,  2.82083895e+00, ...,\n",
      "         2.17407143e+03,  5.28917166e-02, -5.92735091e-03],\n",
      "       [ 7.40622614e+00,  6.69238542e+00,  2.82083895e+00, ...,\n",
      "         2.17407143e+03,  2.73025128e-02, -3.64634723e-03],\n",
      "       ...,\n",
      "       [ 5.31832043e+00,  6.69238542e+00,  2.82083895e+00, ...,\n",
      "         2.17443750e+03,  5.08229333e-02, -5.45536337e-03],\n",
      "       [ 4.44678677e+00,  6.69238542e+00,  2.82083895e+00, ...,\n",
      "         2.17346154e+03,  5.48618092e-02, -6.38330098e-03],\n",
      "       [ 4.44678677e+00,  6.69238542e+00,  2.82083895e+00, ...,\n",
      "         2.17346154e+03,  2.67460069e-02, -4.10229730e-03]])}, {'y': array([[0],\n",
      "       [0],\n",
      "       [0],\n",
      "       [0],\n",
      "       [0],\n",
      "       [0],\n",
      "       [0],\n",
      "       [0],\n",
      "       [0],\n",
      "       [0],\n",
      "       [0],\n",
      "       [0],\n",
      "       [0],\n",
      "       [0],\n",
      "       [0],\n",
      "       [0],\n",
      "       [0],\n",
      "       [0],\n",
      "       [0],\n",
      "       [0],\n",
      "       [0],\n",
      "       [0],\n",
      "       [0],\n",
      "       [0],\n",
      "       [0],\n",
      "       [0],\n",
      "       [0],\n",
      "       [0],\n",
      "       [0],\n",
      "       [0],\n",
      "       [0],\n",
      "       [0],\n",
      "       [0],\n",
      "       [0],\n",
      "       [0],\n",
      "       [0],\n",
      "       [0],\n",
      "       [0],\n",
      "       [0],\n",
      "       [0],\n",
      "       [0],\n",
      "       [0],\n",
      "       [0],\n",
      "       [0],\n",
      "       [0],\n",
      "       [0],\n",
      "       [0],\n",
      "       [0],\n",
      "       [0],\n",
      "       [0],\n",
      "       [0],\n",
      "       [0],\n",
      "       [0],\n",
      "       [0],\n",
      "       [0],\n",
      "       [0],\n",
      "       [0],\n",
      "       [0],\n",
      "       [0],\n",
      "       [0],\n",
      "       [0],\n",
      "       [0],\n",
      "       [0],\n",
      "       [0],\n",
      "       [0],\n",
      "       [0],\n",
      "       [0],\n",
      "       [0],\n",
      "       [0],\n",
      "       [0],\n",
      "       [0],\n",
      "       [0],\n",
      "       [0],\n",
      "       [0],\n",
      "       [0],\n",
      "       [0],\n",
      "       [0],\n",
      "       [0],\n",
      "       [0],\n",
      "       [0],\n",
      "       [0],\n",
      "       [0],\n",
      "       [0],\n",
      "       [0],\n",
      "       [0],\n",
      "       [0],\n",
      "       [0],\n",
      "       [0],\n",
      "       [0],\n",
      "       [0],\n",
      "       [0],\n",
      "       [0],\n",
      "       [0],\n",
      "       [0],\n",
      "       [0],\n",
      "       [0],\n",
      "       [0],\n",
      "       [0],\n",
      "       [0],\n",
      "       [0],\n",
      "       [0]])})\n"
     ]
    }
   ],
   "source": [
    "#use this net for predicting binary yes or no for each go term in a set given a set of inputs\n",
    "import numpy as np\n",
    "from keras.optimizers import *\n",
    "from keras.layers import *\n",
    "from keras.callbacks import *\n",
    "from keras.models import load_model\n",
    "import datetime\n",
    "import keras\n",
    "global max_epochs\n",
    "from keras.models import Model\n",
    "from keras.layers import Flatten, Input, Dense\n",
    "\n",
    "from keras.backend import tensorflow_backend as K\n",
    "epsilon = K.epsilon()\n",
    "stamp = datetime.datetime.now().strftime('%m_%d_%Y_%H_%M_%S_%f')\n",
    "\n",
    "import tensorflow as tf\n",
    "\n",
    "################################################################################\n",
    "dirlocal = './'\n",
    "dataset = 'full' # 'sample' or 'full'\n",
    "\n",
    "modelfile = 'model-' + str(stamp) + '.h5'\n",
    "\n",
    "densedim = 10\n",
    "layers = 2\n",
    "\n",
    "govec_test = next( train_govecs )\n",
    "print( govec_test)"
   ]
  },
  {
   "cell_type": "code",
   "execution_count": null,
   "metadata": {},
   "outputs": [],
   "source": [
    "\n",
    "a = Input(shape= ( govec_test[0]['govec'].shape[1] , )   , name='govec' ) \n",
    "#perceptron...\n",
    "for i in range( layers):\n",
    "    if i == 0:\n",
    "        b = Dense(densedim  )(a)\n",
    "        #layer = BatchNormalization(axis=-1, momentum=0.99, epsilon=0.001, center=True, scale=True, beta_initializer='zeros', gamma_initializer='ones')\n",
    "        #b = layer(b)\n",
    "    else:\n",
    "        \n",
    "        b = Dense(densedim )(b)\n",
    "        layer = BatchNormalization(axis=0, momentum=0.99, epsilon=0.001, center=True, scale=True, beta_initializer='zeros', gamma_initializer='ones')\n",
    "        #b = layer(b)\n",
    "\n",
    "#layer = BatchNormalization(axis=-1, momentum=0.99, epsilon=0.001, center=True, scale=True, beta_initializer='zeros', gamma_initializer='ones')\n",
    "#final softmax\n",
    "layer = Dense( 1, activation = 'sigmoid' , name = 'y')\n",
    "final = layer(b)\n",
    "\n",
    "#layer = Dense(1,activation = 'sigmoid' , name = 'y')\n",
    "#final = layer(b)\n",
    "\n",
    "model = Model(inputs=a, outputs=final)\n",
    "\n",
    "o = keras.optimizers.RMSprop(lr=.0000001, rho=0.09)\n",
    "#o = keras.optimizers.Adadelta(lr=.050, rho=0.95)\n",
    "#o =  keras.optimizers.SGD(lr=0.1, momentum=0.001, nesterov=False)\n",
    "\n",
    "model.compile( optimizer=o, loss= 'mean_squared_error' , metrics=['accuracy'])\n",
    "max_len = 3000\n",
    "mc = ModelCheckpoint(modelfile, monitor = 'loss', mode = 'auto', verbose = 1, save_best_only = False)\n",
    "lr = ReduceLROnPlateau(monitor='loss', factor=0.5, patience= 10 , min_lr=0.00001)\n",
    "es = EarlyStopping(monitor = 'loss', mode = 'min', verbose = 2, patience = 100)\n",
    "####change this\n",
    "history = model.fit_generator( train_govecs  ,verbose = 1 , steps_per_epoch= 1000 , epochs = 100000 , callbacks=[es, lr])"
   ]
  },
  {
   "cell_type": "code",
   "execution_count": null,
   "metadata": {},
   "outputs": [],
   "source": []
  }
 ],
 "metadata": {
  "kernelspec": {
   "display_name": "Python 3",
   "language": "python",
   "name": "python3"
  },
  "language_info": {
   "codemirror_mode": {
    "name": "ipython",
    "version": 3
   },
   "file_extension": ".py",
   "mimetype": "text/x-python",
   "name": "python",
   "nbconvert_exporter": "python",
   "pygments_lexer": "ipython3",
   "version": "3.7.3"
  }
 },
 "nbformat": 4,
 "nbformat_minor": 4
}
