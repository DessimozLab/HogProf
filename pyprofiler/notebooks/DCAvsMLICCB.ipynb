{
 "cells": [
  {
   "cell_type": "code",
   "execution_count": 2,
   "metadata": {},
   "outputs": [
    {
     "name": "stdout",
     "output_type": "stream",
     "text": [
      "['/scratch/dmoi/projects/HogProf/pyprofiler/notebooks', '/scratch/dmoi/condaenvs/ML2/lib/python39.zip', '/scratch/dmoi/condaenvs/ML2/lib/python3.9', '/scratch/dmoi/condaenvs/ML2/lib/python3.9/lib-dynload', '', '/scratch/dmoi/condaenvs/ML2/lib/python3.9/site-packages', '/scratch/dmoi/software/pyham', '/scratch/dmoi/condaenvs/ML2/lib/python3.9/site-packages/IPython/extensions', '/users/dmoi/.ipython', '../..']\n"
     ]
    }
   ],
   "source": [
    "%load_ext autoreload\n",
    "%autoreload 2\n",
    "import sys\n",
    "sys.path.append('../..')\n",
    "\n",
    "#sys.path.append( '/home/cactuskid13/miniconda3/pkgs/')\n",
    "print(sys.path)"
   ]
  },
  {
   "cell_type": "code",
   "execution_count": 3,
   "metadata": {},
   "outputs": [
    {
     "name": "stdout",
     "output_type": "stream",
     "text": [
      "{'dir': {'datadir': '/scratch/dmoi/datasets/birds/', 'omadir': '/scratch/dmoi/datasets/birds/'}, 'orthoxmltar': '', 'email': 'dmoi@unil.ch'}\n"
     ]
    }
   ],
   "source": [
    "#using the profiler. It's easy!\n",
    "#lets import the profiler, configuration file and some tools for GO analysis to look at our returned results\n",
    "from pyprofiler.utils import hashutils\n",
    "import ete3\n",
    "from pyprofiler.utils import config_utils\n",
    "import pyprofiler.utils.goatools_utils as goa\n",
    "import pyprofiler.utils.hashutils as hashutils\n",
    "import seaborn as sns\n",
    "from matplotlib import pyplot as plt\n",
    "import numpy as np\n",
    "import pyprofiler.profiler as profiler\n",
    "import pandas as pd\n",
    "import itertools\n",
    "import pickle\n",
    "from bloom_filter2 import BloomFilter\n",
    "\n",
    "from sklearn.model_selection import train_test_split\n"
   ]
  },
  {
   "cell_type": "code",
   "execution_count": 4,
   "metadata": {},
   "outputs": [
    {
     "name": "stdout",
     "output_type": "stream",
     "text": [
      "loading lsh\n",
      "indexing lsh\n"
     ]
    },
    {
     "name": "stderr",
     "output_type": "stream",
     "text": [
      "/scratch/dmoi/condaenvs/ML2/lib/python3.9/site-packages/tables/leaf.py:367: PerformanceWarning: The Leaf ``/Protein/_i_Entries/OmaHOG/sorted`` is exceeding the maximum recommended rowsize (104857600 bytes);\n",
      "be ready to see PyTables asking for *lots* of memory and possibly slow\n",
      "I/O.  You may want to reduce the rowsize by trimming the value of\n",
      "dimensions that are orthogonal (and preferably close) to the *main*\n",
      "dimension of this leave.  Alternatively, in case you have specified a\n",
      "very small/large chunksize, you may want to increase/decrease it.\n",
      "  warnings.warn(\"\"\"\\\n"
     ]
    },
    {
     "name": "stdout",
     "output_type": "stream",
     "text": [
      "3508\n",
      "DONE\n"
     ]
    }
   ],
   "source": [
    "#lets load a compiled db containing the OMA root HOGs into a profiler oject \n",
    "p = profiler.Profiler(lshforestpath = '/scratch/dmoi/datasets/all/newlshforest.pkl' , hashes_h5='/scratch/dmoi/datasets/birds/all/hashes.h5' , mat_path= None, oma = '/scratch/dmoi/datasets/OMA/apr2021/OmaServer.h5', tar= None , nsamples = 256 , mastertree = '/scratch/dmoi/datasets/birds/all_test_master_tree.pkl')"
   ]
  },
  {
   "cell_type": "code",
   "execution_count": 5,
   "metadata": {},
   "outputs": [],
   "source": [
    "def grabHog(ID, verbose = True):\n",
    "    try:\n",
    "        entry = p.db_obj.entry_by_entry_nr(p.db_obj.id_resolver.resolve(ID))\n",
    "        return entry[4].decode() , entry\n",
    "    except:\n",
    "        return np.nan,np.nan\n",
    "#map to OMA HOGs"
   ]
  },
  {
   "cell_type": "code",
   "execution_count": 6,
   "metadata": {},
   "outputs": [
    {
     "name": "stdout",
     "output_type": "stream",
     "text": [
      "                  0                1             2\n",
      "0            P46926           Q8TDQ7  1.000000e+00\n",
      "1            P43631           Q14954  1.000000e+00\n",
      "2            P43631           Q14953  1.000000e+00\n",
      "3            P43631           P43629  1.000000e+00\n",
      "4         100287045           Q86YD7  1.000000e+00\n",
      "...             ...              ...           ...\n",
      "17526306     Q9H6Z4           Q7L1Q6  3.000000e-14\n",
      "17526307     Q9Y265           P54578  3.000000e-14\n",
      "17526308     P16152           P04406  3.000000e-14\n",
      "17526309     Q96AE4           P78417  3.000000e-14\n",
      "17526310     P20042  ENSG00000180574  3.000000e-14\n",
      "\n",
      "[17526311 rows x 3 columns]\n"
     ]
    }
   ],
   "source": [
    "#load humap data\n",
    "humap = '/scratch/dmoi/datasets/humap_PPI/humap2_ppis_ACC_20200821.pairsWprob'\n",
    "humap_df = pd.read_table(humap, header = None)\n",
    "print(humap_df)"
   ]
  },
  {
   "cell_type": "code",
   "execution_count": 7,
   "metadata": {},
   "outputs": [
    {
     "name": "stdout",
     "output_type": "stream",
     "text": [
      "8981\n"
     ]
    },
    {
     "name": "stderr",
     "output_type": "stream",
     "text": [
      "/scratch/dmoi/condaenvs/ML2/lib/python3.9/site-packages/tables/leaf.py:367: PerformanceWarning: The Leaf ``/_i_XRef/XRefId/sorted`` is exceeding the maximum recommended rowsize (104857600 bytes);\n",
      "be ready to see PyTables asking for *lots* of memory and possibly slow\n",
      "I/O.  You may want to reduce the rowsize by trimming the value of\n",
      "dimensions that are orthogonal (and preferably close) to the *main*\n",
      "dimension of this leave.  Alternatively, in case you have specified a\n",
      "very small/large chunksize, you may want to increase/decrease it.\n",
      "  warnings.warn(\"\"\"\\\n"
     ]
    }
   ],
   "source": [
    "#filter to 90%proba\n",
    "humap_df = humap_df[humap_df[2] > .75 ]\n",
    "print(len(humap_df))\n",
    "mapper = set( list(humap_df[1]) + list(humap_df[0]) )\n",
    "mapper = { protid: grabHog(protid) for protid in mapper }\n",
    "humap_df['hog1'] = humap_df[1].map(mapper)\n",
    "humap_df['hog2'] = humap_df[0].map(mapper)"
   ]
  },
  {
   "cell_type": "code",
   "execution_count": 8,
   "metadata": {},
   "outputs": [
    {
     "name": "stdout",
     "output_type": "stream",
     "text": [
      "8576\n"
     ]
    }
   ],
   "source": [
    "humap_df['hogid_1'] = humap_df['hog1'].map(lambda x:x[0])\n",
    "humap_df['hogid_2'] = humap_df['hog2'].map(lambda x:x[0])\n",
    "humap_df = humap_df.dropna()\n",
    "print(len(humap_df))"
   ]
  },
  {
   "cell_type": "code",
   "execution_count": 9,
   "metadata": {},
   "outputs": [
    {
     "name": "stdout",
     "output_type": "stream",
     "text": [
      "8360\n"
     ]
    }
   ],
   "source": [
    "humap_df['fam1'] = humap_df['hog1'].map( lambda x :   p.hogid2fam(x[1]) )\n",
    "humap_df['fam2'] = humap_df['hog2'].map( lambda x :   p.hogid2fam(x[1]) ) \n",
    "humap_df = humap_df.dropna()\n",
    "humap_df.fam1 = humap_df.fam1.map(int)\n",
    "humap_df.fam2 = humap_df.fam2.map(int)\n",
    "print(len(humap_df))"
   ]
  },
  {
   "cell_type": "code",
   "execution_count": 10,
   "metadata": {},
   "outputs": [],
   "source": [
    "humap_df.to_csv(humap+'hogmapped.csv')"
   ]
  },
  {
   "cell_type": "code",
   "execution_count": 11,
   "metadata": {},
   "outputs": [],
   "source": [
    "humap_pairs = humap_df"
   ]
  },
  {
   "cell_type": "code",
   "execution_count": 12,
   "metadata": {},
   "outputs": [
    {
     "name": "stdout",
     "output_type": "stream",
     "text": [
      "3168\n"
     ]
    }
   ],
   "source": [
    "allhogs = set([])\n",
    "allhogs = allhogs.union( set(humap_df.fam1.unique() ) )\n",
    "allhogs = allhogs.union( set(humap_df.fam2.unique() ) )\n",
    "print(len(allhogs))"
   ]
  },
  {
   "cell_type": "code",
   "execution_count": 13,
   "metadata": {
    "scrolled": true,
    "tags": []
   },
   "outputs": [],
   "source": [
    "profiles = {}\n",
    "calc_hogs_humap = False\n",
    "if calc_hogs_humap == True:\n",
    "    for fam in allhogs:\n",
    "        print(fam)\n",
    "        try:\n",
    "            prof = p.return_profile_OTF(fam)\n",
    "        except:\n",
    "            print('err', fam)\n",
    "        print(prof)\n",
    "        profiles.update(prof)"
   ]
  },
  {
   "cell_type": "code",
   "execution_count": 14,
   "metadata": {},
   "outputs": [],
   "source": [
    "import pickle\n",
    "save_Hogs_humap = False\n",
    "if save_Hogs_humap == True:\n",
    "    with open(humap + 'gold_standard_profiles.pkl' , 'wb') as profiles_out:\n",
    "        profiles_out.write(pickle.dumps(profiles))"
   ]
  },
  {
   "cell_type": "code",
   "execution_count": 15,
   "metadata": {},
   "outputs": [],
   "source": [
    "import pickle\n",
    "with open(humap + 'gold_standard_profiles.pkl' , 'rb') as profiles_out:\n",
    "    humap_profiles = pickle.loads(profiles_out.read())"
   ]
  },
  {
   "cell_type": "code",
   "execution_count": 15,
   "metadata": {},
   "outputs": [
    {
     "name": "stdout",
     "output_type": "stream",
     "text": [
      "                                                      mat  \\\n",
      "524288  [[0.0, 0.0, 0.0, 0.0, 0.0, 0.0, 0.0, 0.0, 0.0,...   \n",
      "516097  [[0.0, 0.0, 0.0, 0.0, 0.0, 0.0, 0.0, 0.0, 0.0,...   \n",
      "516099  [[0.0, 0.0, 0.0, 0.0, 0.0, 0.0, 0.0, 0.0, 0.0,...   \n",
      "786438  [[1.0, 1.0, 1.0, 0.0, 0.0, 1.0, 1.0, 1.0, 1.0,...   \n",
      "573452  [[0.0, 0.0, 1.0, 0.0, 0.0, 0.0, 0.0, 0.0, 0.0,...   \n",
      "\n",
      "                                                     tree  \n",
      "524288  (((\\n--7757)), ((\\n--7764)), ((\\n--9597)), ((\\...  \n",
      "516097  (((\\n--9597)), ((\\n--9598)), ((\\n--9606)), ((\\...  \n",
      "516099  (((\\n--9597)), ((\\n--9598)), ((\\n--9606)), ((\\...  \n",
      "786438  (((\\n--868595)), ((\\n--349161)), ((\\n--696281)...  \n",
      "573452  (((\\n--120017)), ((\\n--237631)), ((\\n--1230383...  \n"
     ]
    }
   ],
   "source": [
    "humap_df = pd.DataFrame.from_dict(humap_profiles , orient = 'index')\n",
    "print(humap_df.head())"
   ]
  },
  {
   "cell_type": "code",
   "execution_count": 37,
   "metadata": {},
   "outputs": [],
   "source": [
    "import dask\n",
    "from dask import dataframe as dd\n",
    "coglink_df = dd.read_csv('/scratch/dmoi/datasets/STRING/COG.links.detailed.v11.5.txt', blocksize=25e6 , header = 0, sep = ' ')"
   ]
  },
  {
   "cell_type": "code",
   "execution_count": 38,
   "metadata": {},
   "outputs": [
    {
     "name": "stdout",
     "output_type": "stream",
     "text": [
      "Dask DataFrame Structure:\n",
      "                 group1  group2 neighborhood fusion cooccurence coexpression experimental database textmining combined_score\n",
      "npartitions=195                                                                                                             \n",
      "                 object  object        int64  int64       int64        int64        int64    int64      int64          int64\n",
      "                    ...     ...          ...    ...         ...          ...          ...      ...        ...            ...\n",
      "...                 ...     ...          ...    ...         ...          ...          ...      ...        ...            ...\n",
      "                    ...     ...          ...    ...         ...          ...          ...      ...        ...            ...\n",
      "                    ...     ...          ...    ...         ...          ...          ...      ...        ...            ...\n",
      "Dask Name: read-csv, 195 tasks\n",
      "Index(['group1', 'group2', 'neighborhood', 'fusion', 'cooccurence',\n",
      "       'coexpression', 'experimental', 'database', 'textmining',\n",
      "       'combined_score'],\n",
      "      dtype='object')\n"
     ]
    }
   ],
   "source": [
    "print(coglink_df)\n",
    "print(coglink_df.columns)"
   ]
  },
  {
   "cell_type": "code",
   "execution_count": 39,
   "metadata": {},
   "outputs": [],
   "source": [
    "dropcols = ['neighborhood', 'fusion', 'cooccurence', 'combined_score' ]\n",
    "coglink_df = coglink_df.drop(columns = dropcols)\n",
    "coglink_df['score'] = coglink_df.coexpression + coglink_df.experimental +coglink_df.database+ coglink_df.textmining"
   ]
  },
  {
   "cell_type": "code",
   "execution_count": 40,
   "metadata": {},
   "outputs": [
    {
     "name": "stdout",
     "output_type": "stream",
     "text": [
      "500428\n"
     ]
    }
   ],
   "source": [
    "coglink_df= coglink_df[coglink_df.score>1000]\n",
    "print(len(coglink_df))\n",
    "coglink_df = coglink_df.compute()"
   ]
  },
  {
   "cell_type": "code",
   "execution_count": 41,
   "metadata": {},
   "outputs": [
    {
     "name": "stdout",
     "output_type": "stream",
     "text": [
      "      group1   group2  coexpression  experimental  database  textmining  score\n",
      "0    COG0001  COG0002            79             0       741         361   1181\n",
      "4    COG0001  COG0007           105           424         0         529   1058\n",
      "76   COG0001  COG0113           355             0       741         822   1918\n",
      "130  COG0001  COG0181           213             0       741         822   1776\n",
      "305  COG0001  COG0549             0             0       741         263   1004\n"
     ]
    }
   ],
   "source": [
    "print(coglink_df.head())"
   ]
  },
  {
   "cell_type": "code",
   "execution_count": 20,
   "metadata": {},
   "outputs": [],
   "source": [
    "grabcogs = set( list(coglink_df.group1.unique()) + list(coglink_df.group2.unique()) )"
   ]
  },
  {
   "cell_type": "code",
   "execution_count": 21,
   "metadata": {},
   "outputs": [],
   "source": [
    "grabcogs= list(grabcogs)"
   ]
  },
  {
   "cell_type": "code",
   "execution_count": 22,
   "metadata": {},
   "outputs": [
    {
     "name": "stdout",
     "output_type": "stream",
     "text": [
      "13067 ['NOG44845', 'KOG1922', 'NOG16100', 'NOG92000', 'KOG1990', 'COG5279', 'KOG3607', 'COG1310', 'NOG21851', 'NOG235396', 'NOG257797', 'NOG282766', 'NOG299870', 'COG0427', 'NOG43138', 'COG1167', 'COG2320', 'NOG20668', 'COG5038', 'KOG3530', 'NOG07466', 'NOG17097', 'NOG10955', 'KOG2612', 'NOG16976', 'KOG1452', 'COG1437', 'NOG03133', 'COG1394', 'NOG238267', 'NOG26389', 'COG5623', 'NOG273125', 'COG0721', 'NOG25743', 'COG0431', 'NOG04099', 'KOG0485', 'NOG18778', 'NOG71914', 'NOG12371', 'NOG254860', 'NOG235201', 'NOG254203', 'COG5197', 'KOG1517', 'NOG07543', 'NOG08833', 'NOG45310', 'COG0347', 'COG3555', 'KOG3145', 'KOG3638', 'NOG243276', 'COG3080', 'NOG37164', 'NOG48643', 'NOG16527', 'NOG15856', 'KOG2065', 'NOG269759', 'NOG06771', 'NOG06845', 'COG1240', 'NOG16738', 'COG0291', 'NOG270176', 'NOG01373', 'NOG23682', 'NOG02331', 'KOG0006', 'NOG08315', 'KOG2469', 'NOG271014', 'COG4115', 'KOG4704', 'NOG258245', 'COG3424', 'NOG15305', 'KOG4151', 'NOG237096', 'NOG218278', 'COG1260', 'KOG0845', 'KOG2246', 'NOG01437', 'NOG03647', 'COG4970', 'COG5227', 'NOG20608', 'NOG275357', 'NOG21483', 'COG2873', 'KOG1042', 'COG1036', 'COG2887', 'COG1995', 'NOG14890', 'NOG27899', 'NOG250359']\n"
     ]
    }
   ],
   "source": [
    "print(len(grabcogs), grabcogs[0:100])"
   ]
  },
  {
   "cell_type": "code",
   "execution_count": 23,
   "metadata": {},
   "outputs": [
    {
     "name": "stdout",
     "output_type": "stream",
     "text": [
      "                                       ##protein  start_position  \\\n",
      "orthologous_group                                                  \n",
      "COG0006             1002340.AFCF01000062_gene798               1   \n",
      "COG0006             1002340.AFCF01000067_gene239               1   \n",
      "COG0006                    1028800.RG540_PA00120               1   \n",
      "COG0006                    1028800.RG540_PA03140               1   \n",
      "COG0006            1002340.AFCF01000054_gene1922               1   \n",
      "\n",
      "                   end_position        protein_annotation  species      COG  \n",
      "orthologous_group                                                            \n",
      "COG0006                     390  annotation not available  1002340  COG0006  \n",
      "COG0006                     596  annotation not available  1002340  COG0006  \n",
      "COG0006                     410  annotation not available  1028800  COG0006  \n",
      "COG0006                     380  annotation not available  1028800  COG0006  \n",
      "COG0006                     396  annotation not available  1002340  COG0006  \n"
     ]
    }
   ],
   "source": [
    "#map the interacting cogs to the proteins\n",
    "COGmapings_df = dd.read_csv('/scratch/dmoi/datasets/STRING/COG.mappings.v11.5.txt', blocksize=25e6 , header = 0, sep = '\\t')\n",
    "COGmapings_df = COGmapings_df.set_index('orthologous_group')\n",
    "COGmapings_df.astype(str)\n",
    "COGmapings_df['##protein'].map( lambda x : x.strip() )\n",
    "COGmapings_df['species'] = COGmapings_df['##protein'].map( lambda x : x.split('.')[0] )\n",
    "\n",
    "COGmapings_df['COG'] = COGmapings_df.index\n",
    "COGmapings_df = COGmapings_df.loc[grabcogs]\n",
    "\n",
    "print(COGmapings_df.head())\n",
    "COGmapings_df = COGmapings_df.compute()"
   ]
  },
  {
   "cell_type": "code",
   "execution_count": 25,
   "metadata": {},
   "outputs": [],
   "source": [
    "#only take the proteins in our cogs of interest\n",
    "compute_grabcogs = False\n",
    "if compute_grabcogs == True:\n",
    "    grabprots =list(COGmapings_df['##protein'].unique())\n",
    "    print(len(grabprots))\n",
    "    with open('/scratch/dmoi/datasets/STRING/COG.links.detailed.v11.5.txt' + '.grabcogs.txt', 'w') as protsout:\n",
    "        protsout.write(''.join([ p + '\\n' for p in grabcogs ]) )\n",
    "    with open('/scratch/dmoi/datasets/STRING/COG.mappings.v11.5.txt' + '.grabprots.txt' , 'w') as protsout:\n",
    "        protsout.write(''.join([ p + '\\n' for p in grabprots ]) )\n",
    "else:\n",
    "    with open('/scratch/dmoi/datasets/STRING/COG.links.detailed.v11.5.txt' + '.grabcogs.txt', 'r') as protsout:\n",
    "        grabcogs = [ cog for cog in protsout.readlines()]\n",
    "    with open('/scratch/dmoi/datasets/STRING/COG.mappings.v11.5.txt' + '.grabprots.txt' , 'r') as protsout:\n",
    "        grabprots = [ prot for prot in protsout.readlines()]\n"
   ]
  },
  {
   "cell_type": "code",
   "execution_count": 27,
   "metadata": {},
   "outputs": [
    {
     "name": "stdout",
     "output_type": "stream",
     "text": [
      "BloomFilter(ideal_num_elements_n=100000000, error_rate_p=0.001000, num_bits_m=1437758757)\n"
     ]
    }
   ],
   "source": [
    "import pickle\n",
    "save_protlist = False\n",
    "\n",
    "if save_protlist == True:\n",
    "    print('establishng bloom filter for the proteins we want to keep from cogs of interest')\n",
    "    #establish a filter for the prots\n",
    "    protlist =  BloomFilter(max_elements=10**8, error_rate=0.001 ,start_fresh = True)\n",
    "    #df['pair']= df.protein1.astype(str) + '_' + df.protein2.astype(str)\n",
    "    \n",
    "    for i,prot in enumerate(grabprots):\n",
    "        if i % 100000 == 0:\n",
    "            print(i/len(grabprots))\n",
    "        protlist.add(prot.strip())\n",
    "    print(protlist)\n",
    "    with open('protbloom.pkl' , 'wb' ) as bloomout:\n",
    "        bloomout.write(pickle.dumps(protlist))\n",
    "    print('done')\n",
    "else:\n",
    "    with open('protbloom.pkl' , 'rb' ) as bloomout:\n",
    "        protlist = pickle.loads(bloomout.read())\n",
    "    print(protlist)\n",
    "    "
   ]
  },
  {
   "cell_type": "code",
   "execution_count": 28,
   "metadata": {},
   "outputs": [
    {
     "name": "stdout",
     "output_type": "stream",
     "text": [
      "1000565.METUNv1_01990 True\n",
      "crap False\n"
     ]
    }
   ],
   "source": [
    "print(grabprots[0].strip() ,grabprots[0].strip() in protlist )\n",
    "print('crap','crap' in protlist)"
   ]
  },
  {
   "cell_type": "code",
   "execution_count": 29,
   "metadata": {},
   "outputs": [
    {
     "name": "stdout",
     "output_type": "stream",
     "text": [
      "17064691\n"
     ]
    }
   ],
   "source": [
    "#establish cog2hog mapping\n",
    "print(len(grabprots))"
   ]
  },
  {
   "cell_type": "code",
   "execution_count": 30,
   "metadata": {},
   "outputs": [],
   "source": [
    "calc_mappers = False\n",
    "import redis\n",
    "rdb = redis.Redis(host='10.202.12.174', port=6379, db=0)\n",
    "if calc_mappers == True:\n",
    "    count = 0 \n",
    "    for i,r in COGmapings_df.iterrows():\n",
    "        rdb.set(r['##protein'], i)\n",
    "        count+=1\n",
    "        if count < 10:\n",
    "            print(i+'\\n',r)\n",
    "        if count%1000000==0:\n",
    "            print(count/len(COGmapings_df))\n",
    "    #protmapper[r['##protein']] = i    \n",
    "    #protmapper = dict( zip(COGmapings_df['##protein'] , COGmapings_df.index ) )\n",
    "    #cogexample = dict( zip( COGmapings_df.index ,  COGmapings_df['##protein']   ) )\n",
    "    \n",
    "    #with open('cogmappers.pkl' , 'wb')as cogmappers_out:\n",
    "    #    cogmappers_out.write(pickle.dumps((protmapper, cogexample)) )\n",
    "#else:\n",
    "#    with open('cogmappers.pkl' , 'rb')as cogmappers_out:\n",
    "#        protmapper, cogexample = pickle.loads(cogmappers_out.read())"
   ]
  },
  {
   "cell_type": "code",
   "execution_count": 31,
   "metadata": {},
   "outputs": [
    {
     "name": "stdout",
     "output_type": "stream",
     "text": [
      "17681656\n"
     ]
    }
   ],
   "source": [
    "#print(len(grabcogs))\n",
    "print(len(COGmapings_df))"
   ]
  },
  {
   "cell_type": "code",
   "execution_count": 32,
   "metadata": {},
   "outputs": [],
   "source": [
    "maphogs = False\n",
    "if maphogs == True:\n",
    "    rdb = redis.Redis(host='10.202.12.174', port=6379, db=0)\n",
    "    hogmap = {}\n",
    "    for i,prot in enumerate(grabprots):\n",
    "        if i % 100000 == 0 :\n",
    "            print(i/len(grabprots))\n",
    "        cog = rdb.get(prot)\n",
    "        if cog not in hogmap:\n",
    "            mapped =  grabHog(prot)\n",
    "            #retry until something maps\n",
    "            if mapped[0] != np.nan and type(mapped[0]) == str :\n",
    "                if len(mapped[0])>1 :\n",
    "                    hogmap[cog] = mapped\n",
    "    with open('stringhogmap.pkl' , 'wb')as hogmapout:\n",
    "        hogmapout.write(pickle.dumps(hogmap))\n",
    "else:\n",
    "    with open('stringhogmap.pkl' , 'rb')as hogmapout:\n",
    "        hogmap = pickle.loads(hogmapout.read())\n"
   ]
  },
  {
   "cell_type": "code",
   "execution_count": 33,
   "metadata": {},
   "outputs": [
    {
     "name": "stdout",
     "output_type": "stream",
     "text": [
      "12761\n",
      "b'COG0022' ('HOG:A0772469', (1134780, 359776777, 338, 36877, b'HOG:A0772469', b'A', 136963, 137976, -1, 0, b'Q9K3H1', 1080465110, 1015, b'6161cbb7b6aed10547b7c95555c1c63a', 60128051, 322, b'', -1, -1))\n",
      "b'COG1071' ('HOG:A0780700.10b.7b', (3753108, 1179251817, 734, 598427, b'HOG:A0780700.10b.7b', b'A', 2952449, 2954650, -1, 0, b'F4GWD5', 3541508558, 2203, b'0eaa8538e27a234812d4b19c67f1f560', 234217123, 43, b'', -1, -1))\n",
      "b'COG0508' ('HOG:A0757171.22b.54b.29a', (3288989, 1034223672, 469, 598421, b'HOG:A0757171.22b.54b.29a', b'A', 1363913, 1365319, 1, 0, b'G4R8Y9', 3105960004, 1408, b'3b9ecc15f5881cc16928ba7e6a656fe6', 205095449, 48, b'', -1, -1))\n",
      "b'COG0462' ('HOG:A0780700', (14151364, 5935651032, 846, 598427, b'HOG:A0780700', b'supercontig_To_g48347', 2246, 4990, -1, 0, b'K0RIS8', 17821104459, 2539, b'8f2ac7bfb36b9ffe82ad5d8dc2410bae', 696068665, 22, b'', -1, -1))\n",
      "b'COG4886' ('HOG:A0779810.2c.30a.12a.2a', (16107232, 6695185680, 411, 598444, b'HOG:A0779810.2c.30a.12a.2a', b'1', 16009478, 16013321, 1, 0, b'A0A0A0LUF3', 20101664271, 1234, b'5ef6b97572ab9b6e5b14a390dee7e0b0', 775353403, 22, b'', -1, -1))\n",
      "b'KOG0836' ('HOG:A0340147', (7186393, 2441445398, 730, 232423, b'HOG:A0340147', b'supercontig_CCM_S00003', 3237807, 3240958, -1, 0, b'G3JGC8', 7331522586, 2191, b'0ec2bdd82de40b4a83db93dc6e49531c', 404397013, 22, b'', -1, -1))\n",
      "b'COG0025' ('HOG:A0645179.17f', (1135340, 359947462, 529, 807503, b'HOG:A0645179.17f', b'A', 120051, 121637, -1, 0, b'Q9S2Y0', 1080977725, 1588, b'8ae35ad6b3503cb02fe7286519489d30', 60305019, 797, b'', -1, -1))\n",
      "b'COG2905' ('HOG:A0792471', (3753076, 1179241622, 870, 810460, b'HOG:A0792471', b'A', 2919860, 2922469, -1, 0, b'F4GWA3', 3541477941, 2611, b'628cfc8860369d797b5b145e312368fd', 234216107, 40, b'', -1, -1))\n",
      "b'COG0569' ('HOG:A0743626.16j', (4647593, 1466328081, 602, 808080, b'HOG:A0743626.16j', b'A', 62922, 64727, -1, 0, b'A0A0H3FI71', 4403631835, 1807, b'306b5f8eb255c80fd14d7df21f3f257d', 286428690, 72, b'', -1, -1))\n",
      "b'COG0589' ('HOG:A0757574.22l', (1750695, 568860072, 544, 808054, b'HOG:A0757574.22l', b'Chromosome', 2723405, 2725036, 1, 0, b'Q8YUS0', 1708330910, 1633, b'4e54ac253f4a82b2e6da32dd095c5be2', 111675212, 25, b'', -1, -1))\n"
     ]
    }
   ],
   "source": [
    "print(len(hogmap))\n",
    "for i, key in enumerate(hogmap):\n",
    "    if i < 10:\n",
    "        print(key, hogmap[key])"
   ]
  },
  {
   "cell_type": "code",
   "execution_count": 34,
   "metadata": {},
   "outputs": [
    {
     "name": "stdout",
     "output_type": "stream",
     "text": [
      "500428\n",
      "495684\n",
      "         group1      group2  coexpression  experimental  database  textmining  \\\n",
      "0    b'COG0001'  b'COG0002'            79             0       741         361   \n",
      "4    b'COG0001'  b'COG0007'           105           424         0         529   \n",
      "76   b'COG0001'  b'COG0113'           355             0       741         822   \n",
      "130  b'COG0001'  b'COG0181'           213             0       741         822   \n",
      "305  b'COG0001'  b'COG0549'             0             0       741         263   \n",
      "\n",
      "     score                                               hog1  \\\n",
      "0     1181  (HOG:A0644867.20h, [1140353, 361560390, 442, 9...   \n",
      "4     1058  (HOG:A0644867.20h, [1140353, 361560390, 442, 9...   \n",
      "76    1918  (HOG:A0644867.20h, [1140353, 361560390, 442, 9...   \n",
      "130   1776  (HOG:A0644867.20h, [1140353, 361560390, 442, 9...   \n",
      "305   1004  (HOG:A0644867.20h, [1140353, 361560390, 442, 9...   \n",
      "\n",
      "                                                  hog2  \n",
      "0    (HOG:A0780127.8b, [1141676, 362003752, 343, 10...  \n",
      "4    (HOG:A0758549.18f.24b, [2305083, 732402241, 26...  \n",
      "76   (HOG:A0780440.7a, [1140807, 361710173, 331, 10...  \n",
      "130  (HOG:A0784633.2a.2b, [2775543, 871944101, 799,...  \n",
      "305  (HOG:A0779888.12b, [4650156, 1467137083, 317, ...  \n"
     ]
    }
   ],
   "source": [
    "#add the HOGs to the COGdf\n",
    "#grab the corresponding profiles\n",
    "print(len(coglink_df))\n",
    "try:\n",
    "    coglink_df.group1  = coglink_df.group1.map( lambda x : x.encode())\n",
    "    coglink_df.group2  = coglink_df.group2.map( lambda x : x.encode())\n",
    "except:\n",
    "    pass\n",
    "\n",
    "coglink_df['hog1'] = coglink_df.group1.map(hogmap)\n",
    "coglink_df['hog2'] = coglink_df.group2.map(hogmap)\n",
    "coglink_df=coglink_df.dropna()\n",
    "print(len(coglink_df))\n",
    "print(coglink_df.head())"
   ]
  },
  {
   "cell_type": "code",
   "execution_count": 35,
   "metadata": {},
   "outputs": [],
   "source": [
    "coglink_df['hogid_1'] = coglink_df['hog1'].map(lambda x:x[0])\n",
    "coglink_df['hogid_2'] = coglink_df['hog2'].map(lambda x:x[0])"
   ]
  },
  {
   "cell_type": "code",
   "execution_count": 36,
   "metadata": {},
   "outputs": [],
   "source": [
    "coglink_df['fam1'] = coglink_df['hog1'].map( lambda x :   p.hogid2fam(x[1]) )\n",
    "coglink_df['fam2'] = coglink_df['hog2'].map( lambda x :   p.hogid2fam(x[1]) ) \n",
    "\n",
    "coglink_df.fam1 = coglink_df.fam1.map(int)\n",
    "coglink_df.fam2 = coglink_df.fam2.map(int)\n"
   ]
  },
  {
   "cell_type": "code",
   "execution_count": 37,
   "metadata": {},
   "outputs": [
    {
     "name": "stdout",
     "output_type": "stream",
     "text": [
      "               group1       group2  coexpression  experimental  database  \\\n",
      "0          b'COG0001'   b'COG0002'            79             0       741   \n",
      "4          b'COG0001'   b'COG0007'           105           424         0   \n",
      "76         b'COG0001'   b'COG0113'           355             0       741   \n",
      "130        b'COG0001'   b'COG0181'           213             0       741   \n",
      "305        b'COG0001'   b'COG0549'             0             0       741   \n",
      "...               ...          ...           ...           ...       ...   \n",
      "530407  b'arCOG09486'  b'NOG24221'           263             0       899   \n",
      "530662  b'arCOG09486'  b'NOG49907'            65             0         0   \n",
      "530951  b'arCOG09486'   b'COG3338'           568             0         0   \n",
      "531432  b'arCOG09486'  b'NOG24221'           263             0       899   \n",
      "531687  b'arCOG09486'  b'NOG49907'            65             0         0   \n",
      "\n",
      "        textmining  score                                               hog1  \\\n",
      "0              361   1181  (HOG:A0644867.20h, [1140353, 361560390, 442, 9...   \n",
      "4              529   1058  (HOG:A0644867.20h, [1140353, 361560390, 442, 9...   \n",
      "76             822   1918  (HOG:A0644867.20h, [1140353, 361560390, 442, 9...   \n",
      "130            822   1776  (HOG:A0644867.20h, [1140353, 361560390, 442, 9...   \n",
      "305            263   1004  (HOG:A0644867.20h, [1140353, 361560390, 442, 9...   \n",
      "...            ...    ...                                                ...   \n",
      "530407         780   1942  (HOG:A0501521, [9936761, 3823478900, 320, 6798...   \n",
      "530662         936   1001  (HOG:A0501521, [9936761, 3823478900, 320, 6798...   \n",
      "530951         573   1141  (HOG:A0501521, [9936761, 3823478900, 320, 6798...   \n",
      "531432         780   1942  (HOG:A0501521, [9936761, 3823478900, 320, 6798...   \n",
      "531687         936   1001  (HOG:A0501521, [9936761, 3823478900, 320, 6798...   \n",
      "\n",
      "                                                     hog2           hogid_1  \\\n",
      "0       (HOG:A0780127.8b, [1141676, 362003752, 343, 10...  HOG:A0644867.20h   \n",
      "4       (HOG:A0758549.18f.24b, [2305083, 732402241, 26...  HOG:A0644867.20h   \n",
      "76      (HOG:A0780440.7a, [1140807, 361710173, 331, 10...  HOG:A0644867.20h   \n",
      "130     (HOG:A0784633.2a.2b, [2775543, 871944101, 799,...  HOG:A0644867.20h   \n",
      "305     (HOG:A0779888.12b, [4650156, 1467137083, 317, ...  HOG:A0644867.20h   \n",
      "...                                                   ...               ...   \n",
      "530407  (HOG:A0535303.3a.2a, [9958311, 3832750683, 378...      HOG:A0501521   \n",
      "530662  (HOG:A0508791.2b.8a, [10264626, 3993649035, 33...      HOG:A0501521   \n",
      "530951  (HOG:A0779781.3c.8a.3a.1b, [16517551, 68517483...      HOG:A0501521   \n",
      "531432  (HOG:A0535303.3a.2a, [9958311, 3832750683, 378...      HOG:A0501521   \n",
      "531687  (HOG:A0508791.2b.8a, [10264626, 3993649035, 33...      HOG:A0501521   \n",
      "\n",
      "                         hogid_2    fam1    fam2  \n",
      "0                HOG:A0780127.8b  644867  780127  \n",
      "4           HOG:A0758549.18f.24b  644867  758549  \n",
      "76               HOG:A0780440.7a  644867  780440  \n",
      "130           HOG:A0784633.2a.2b  644867  784633  \n",
      "305             HOG:A0779888.12b  644867  779888  \n",
      "...                          ...     ...     ...  \n",
      "530407        HOG:A0535303.3a.2a  501521  535303  \n",
      "530662        HOG:A0508791.2b.8a  501521  508791  \n",
      "530951  HOG:A0779781.3c.8a.3a.1b  501521  779781  \n",
      "531432        HOG:A0535303.3a.2a  501521  535303  \n",
      "531687        HOG:A0508791.2b.8a  501521  508791  \n",
      "\n",
      "[495684 rows x 13 columns]\n"
     ]
    }
   ],
   "source": [
    "print(coglink_df)"
   ]
  },
  {
   "cell_type": "code",
   "execution_count": 38,
   "metadata": {},
   "outputs": [],
   "source": [
    "stringHOGs = set(coglink_df.fam1.unique()).union(set(coglink_df.fam2.unique()))"
   ]
  },
  {
   "cell_type": "code",
   "execution_count": 39,
   "metadata": {},
   "outputs": [
    {
     "name": "stdout",
     "output_type": "stream",
     "text": [
      "11890\n"
     ]
    }
   ],
   "source": [
    "print(len(stringHOGs))"
   ]
  },
  {
   "cell_type": "code",
   "execution_count": 40,
   "metadata": {},
   "outputs": [],
   "source": [
    "coglink_df.to_csv('STRINGCOGS2OMAHOGS.csv')\n",
    "stringPairs = coglink_df"
   ]
  },
  {
   "cell_type": "code",
   "execution_count": 41,
   "metadata": {},
   "outputs": [
    {
     "name": "stdout",
     "output_type": "stream",
     "text": [
      "profiles to calclulate 11890\n"
     ]
    }
   ],
   "source": [
    "#derive explicit profiles for our hogs of interest in string\n",
    "calc_hogs_string = False\n",
    "stringprofiles = {}\n",
    "print('profiles to calclulate',len(stringHOGs))\n",
    "if calc_hogs_string == True:\n",
    "    for i,fam in enumerate(stringHOGs):\n",
    "        if i % 100 ==0:\n",
    "            print(i)\n",
    "        try:\n",
    "            prof = p.return_profile_OTF(fam)\n",
    "            stringprofiles.update(prof)\n",
    "        except:\n",
    "            print('err',fam)"
   ]
  },
  {
   "cell_type": "code",
   "execution_count": 42,
   "metadata": {},
   "outputs": [],
   "source": [
    "if calc_hogs_string == True:\n",
    "    with open('/scratch/dmoi/datasets/STRING/' + 'gold_standard_profiles.pkl' , 'wb') as profiles_out:\n",
    "        profiles_out.write(pickle.dumps(stringprofiles))"
   ]
  },
  {
   "cell_type": "code",
   "execution_count": 43,
   "metadata": {},
   "outputs": [],
   "source": [
    "with open('/scratch/dmoi/datasets/STRING/' + 'gold_standard_profiles.pkl' , 'rb' )as profiles_out:\n",
    "    stringprofiles = pickle.loads(profiles_out.read())"
   ]
  },
  {
   "cell_type": "code",
   "execution_count": 44,
   "metadata": {},
   "outputs": [],
   "source": [
    "string_df = pd.DataFrame.from_dict(stringprofiles , orient='index')"
   ]
  },
  {
   "cell_type": "code",
   "execution_count": 45,
   "metadata": {},
   "outputs": [
    {
     "name": "stdout",
     "output_type": "stream",
     "text": [
      "786432 {'mat': array([[1., 1., 1., ..., 0., 0., 0.]]), 'tree': Tree node '131567' (0x7f70e1826d3)}\n",
      "786433 {'mat': array([[1., 1., 1., ..., 0., 0., 0.]]), 'tree': Tree node '131567' (0x7f70e3000f4)}\n",
      "524294 {'mat': array([[0., 0., 0., ..., 0., 0., 0.]]), 'tree': Tree node '7742' (0x7f70e52f3b5)}\n",
      "786440 {'mat': array([[1., 1., 1., ..., 0., 0., 0.]]), 'tree': Tree node '131567' (0x7f70e2ea17f)}\n",
      "524299 {'mat': array([[0., 0., 0., ..., 0., 0., 0.]]), 'tree': Tree node '7742' (0x7f71a7a7222)}\n",
      "786448 {'mat': array([[1., 1., 1., ..., 0., 0., 0.]]), 'tree': Tree node '131567' (0x7f71a7a18ac)}\n",
      "786449 {'mat': array([[1., 1., 1., ..., 0., 0., 0.]]), 'tree': Tree node '131567' (0x7f71a773670)}\n",
      "786450 {'mat': array([[1., 1., 1., ..., 0., 0., 0.]]), 'tree': Tree node '131567' (0x7f71a73d434)}\n",
      "131092 {'mat': array([[0., 0., 0., ..., 0., 0., 0.]]), 'tree': Tree node '1648030' (0x7f71a70ddf4)}\n",
      "524309 {'mat': array([[0., 0., 0., ..., 0., 0., 0.]]), 'tree': Tree node '7742' (0x7f71a70f20a)}\n"
     ]
    }
   ],
   "source": [
    "#make the profiles for this small set of HOGs\n",
    "for i, key in enumerate(stringprofiles):\n",
    "    if i < 10:\n",
    "        print(key,stringprofiles[key])"
   ]
  },
  {
   "cell_type": "code",
   "execution_count": null,
   "metadata": {},
   "outputs": [],
   "source": [
    "#now we have profiles for all HUMAP and COG interactions\n",
    "#String has interactions from each COG in different species.\n",
    "#We need a way to check for the presence of interaction within a species for a COG\n",
    "#for this we will create a bloom filter with all the interactions between our cogs"
   ]
  },
  {
   "cell_type": "code",
   "execution_count": 17,
   "metadata": {},
   "outputs": [
    {
     "name": "stderr",
     "output_type": "stream",
     "text": [
      "/scratch/dmoi/condaenvs/ML2/lib/python3.9/site-packages/dask_jobqueue/core.py:20: FutureWarning: tmpfile is deprecated and will be removed in a future release. Please use dask.utils.tmpfile instead.\n",
      "  from distributed.utils import tmpfile\n"
     ]
    }
   ],
   "source": [
    "from dask.distributed import fire_and_forget\n",
    "from dask.distributed import Client, Variable , Queue , Lock ,LocalCluster\n",
    "from dask_jobqueue import SLURMCluster\n",
    "from dask.distributed import  utils_perf\n",
    "from dask.distributed import Client, LocalCluster\n",
    "import dask\n",
    "import redis\n",
    "from bloom_filter2 import BloomFilter\n",
    "import lzma\n",
    "from dask import dataframe as dd\n",
    "distributed = True"
   ]
  },
  {
   "cell_type": "code",
   "execution_count": 18,
   "metadata": {},
   "outputs": [
    {
     "name": "stdout",
     "output_type": "stream",
     "text": [
      "deploying cluster\n",
      "#!/usr/bin/env bash\n",
      "\n",
      "#SBATCH -J dask-worker\n",
      "#SBATCH -n 1\n",
      "#SBATCH --cpus-per-task=5\n",
      "#SBATCH --mem=75G\n",
      "#SBATCH -t 4:00:00\n",
      "source /scratch/dmoi/miniconda/etc/profile.d/conda.sh\n",
      "conda activate ML2\n",
      "/scratch/dmoi/condaenvs/ML2/bin/python -m distributed.cli.dask_worker tcp://10.203.100.103:36139 --nthreads 1 --nprocs 5 --memory-limit 14.90GiB --name dummy-name --nanny --death-timeout 60 --interface ib0 --protocol tcp://\n",
      "\n"
     ]
    }
   ],
   "source": [
    "if distributed == True:\n",
    "    NCORE = 5\n",
    "    print('deploying cluster')\n",
    "    cluster = SLURMCluster(\n",
    "        walltime='4:00:00',\n",
    "        n_workers = NCORE,\n",
    "        cores=NCORE,\n",
    "        processes = NCORE,\n",
    "        interface='ib0',\n",
    "        memory=\"80GB\",\n",
    "        env_extra=[\n",
    "        'source /scratch/dmoi/miniconda/etc/profile.d/conda.sh',\n",
    "        'conda activate ML2'\n",
    "        ],\n",
    "        scheduler_options={'interface': 'ens2f0' },\n",
    "        #extra=[\"--lifetime\", \"3h55m\", \"--lifetime-stagger\", \"4m\"]\n",
    "    )\n",
    "    print(cluster.job_script())\n",
    "    \n",
    "else:\n",
    "    cluster = LocalCluster()\n",
    "    client = Client(cluster)"
   ]
  },
  {
   "cell_type": "code",
   "execution_count": 19,
   "metadata": {},
   "outputs": [
    {
     "name": "stdout",
     "output_type": "stream",
     "text": [
      "SLURMCluster(af0360d8, 'tcp://10.203.100.103:36139', workers=0, threads=0, memory=0 B)\n",
      "http://10.203.100.103:8787/status\n"
     ]
    }
   ],
   "source": [
    "if distributed == True:\n",
    "    print(cluster)\n",
    "    cluster.scale(jobs = 100)\n",
    "    print(cluster.dashboard_link)\n",
    "    client = Client(cluster , timeout='450s' , set_as_default=True )"
   ]
  },
  {
   "cell_type": "code",
   "execution_count": 20,
   "metadata": {},
   "outputs": [
    {
     "name": "stdout",
     "output_type": "stream",
     "text": [
      "Dask DataFrame Structure:\n",
      "                 protein1 protein2 experimental database textmining combined_score\n",
      "npartitions=1560                                                                  \n",
      "                   object   object        int64    int64      int64          int64\n",
      "                      ...      ...          ...      ...        ...            ...\n",
      "...                   ...      ...          ...      ...        ...            ...\n",
      "                      ...      ...          ...      ...        ...            ...\n",
      "                      ...      ...          ...      ...        ...            ...\n",
      "Dask Name: read-csv, 1560 tasks\n"
     ]
    }
   ],
   "source": [
    "#find which species each of the cogs has an interaction in\n",
    "link_df = dd.read_csv('/scratch/dmoi/datasets/STRING/protein.physical.links.detailed.v11.5.txt', blocksize=100e6 , header = 0, sep = ' ')\n",
    "print(link_df)"
   ]
  },
  {
   "cell_type": "code",
   "execution_count": 54,
   "metadata": {},
   "outputs": [],
   "source": [
    "#compute bloom filters for protein pairs\n",
    "\n",
    "@dask.delayed\n",
    "def mapcogs(df ):\n",
    "    rdb = redis.Redis(host='10.202.12.174', port=6379, db=0)\n",
    "    if type( df ) == tuple:\n",
    "        df = df[0]\n",
    "    protlist1 = list(df.protein1.map(lambda x:str(x).strip()))\n",
    "    protlist2 = list(df.protein2.map(lambda x:str(x).strip()))\n",
    "    protlist = list(set(protlist1+protlist2))\n",
    "    data = rdb.mget(protlist)\n",
    "    mapper = dict(zip(protlist, data) )\n",
    "    df['COG1'] = df.protein1.map(mapper)\n",
    "    df['COG2'] = df.protein2.map(mapper)\n",
    "    df = df.dropna()\n",
    "    df['COG1'] = df.COG1.map(lambda x:str(x).replace(\"b\",'').replace(\"'\",'').strip() )\n",
    "    df['COG2'] = df.COG2.map(lambda x:str(x).replace(\"b\",'').replace(\"'\",'').strip() )\n",
    "    df['species'] = df.protein1.map(lambda x:x.split('.')[0])\n",
    "    df['coglinks'] = df.COG1 + '_' + df.COG2 + '_' + df.species\n",
    "    return  list(df.coglinks.unique())\n",
    "\n",
    "@dask.delayed\n",
    "def return_filter(coglinks, verbose = True):\n",
    "    if type( coglinks ) == tuple:\n",
    "        coglinks = coglinks[0]\n",
    "    #prots can only interact in one species...\n",
    "    b=BloomFilter(max_elements=10**8, error_rate=0.001 ,start_fresh = True)\n",
    "    for p in coglinks:\n",
    "        b.add( p )\n",
    "    #b.close()\n",
    "    #b = lzma.compress( pickle.dumps(b) )\n",
    "    return   b , len(coglinks)\n",
    "\n",
    "@dask.delayed\n",
    "def sumfilter(f1,f2, total ):\n",
    "    if type( f1 ) == tuple:\n",
    "        f1 = f1[0]\n",
    "    if type( f2 ) == tuple:\n",
    "        f2 = f2[0]\n",
    "    #f1 = pickle.loads(lzma.decompress( f1) )\n",
    "    #f2 = pickle.loads(lzma.decompress( f2 ) )\n",
    "    f3 = f1.__ior__(f2)\n",
    "    #f3 = lzma.compress( pickle.dumps(f3) )\n",
    "    return f3 , total"
   ]
  },
  {
   "cell_type": "code",
   "execution_count": 55,
   "metadata": {},
   "outputs": [
    {
     "name": "stdout",
     "output_type": "stream",
     "text": [
      "['COG1756_COG0088_4113', 'COG1756_COG1358_4113', 'COG1756_COG1889_4113', 'COG1756_COG2125_4113', 'COG1756_COG0612_4113', 'COG1756_COG5272_4113', 'COG1756_KOG1823_4113', 'COG1756_COG0098_4113', 'COG1756_COG0334_4113', 'COG1756_COG0048_4113', 'COG1756_COG1890_4113', 'COG1756_COG0539_4113', 'COG1756_COG1643_4113', 'COG1756_KOG1812_4113', 'COG1756_COG2051_4113', 'COG1756_COG0557_4113', 'COG1756_KOG2147_4113', 'COG1756_KOG0319_4113', 'COG1756_COG0096_4113', 'COG1756_KOG1332_4113', 'COG1756_COG4901_4113', 'COG1756_KOG4547_4113', 'COG1756_COG0049_4113', 'COG1756_COG2007_4113', 'COG1756_KOG2048_4113', 'COG1756_KOG0580_4113', 'COG1756_KOG3100_4113', 'COG1756_COG0100_4113', 'COG1756_COG0099_4113', 'COG1756_COG1498_4113', 'COG1756_KOG3320_4113', 'COG1756_COG2053_4113', 'COG1756_KOG1837_4113', 'KOG0800_COG5078_4113', 'KOG0800_COG5272_4113', 'KOG0800_KOG1872_4113', 'KOG0800_KOG0908_4113', 'KOG0800_COG1552_4113', 'KOG0800_KOG4248_4113', 'KOG0800_KOG2381_4113', 'KOG0800_KOG2827_4113', 'COG0484_COG0443_4113', 'COG0484_KOG4548_4113', 'COG0484_COG0318_4113', 'COG0484_COG0526_4113', 'COG0484_COG0652_4113', 'COG0484_COG0484_4113', 'COG0484_COG5143_4113', 'COG0484_COG0486_4113', 'COG0484_COG1958_4113', 'COG0484_COG5169_4113', 'COG0484_KOG2171_4113', 'COG0484_COG0236_4113', 'COG0484_COG1012_4113', 'COG0484_COG1736_4113', 'COG0484_COG0326_4113', 'COG0484_COG1161_4113', 'COG0484_COG0564_4113', 'COG0484_COG0576_4113', 'COG0484_COG5256_4113', 'COG0484_COG0218_4113', 'COG0484_COG0087_4113', 'COG0484_COG0457_4113', 'COG0484_KOG4604_4113', 'COG0484_COG0200_4113', 'COG0484_KOG3065_4113', 'COG0484_COG0102_4113', 'COG0484_COG5178_4113', 'COG0484_COG0666_4113', 'COG0484_COG0510_4113', 'COG0484_COG0080_4113', 'COG0484_KOG4642_4113', 'COG0484_COG1842_4113', 'COG0484_COG0566_4113', 'COG0484_COG0261_4113', 'COG0484_KOG0717_4113', 'COG0484_KOG0285_4113', 'COG0484_COG5091_4113', 'COG0484_KOG3331_4113', 'COG0484_COG5158_4113', 'COG0484_COG1905_4113', 'COG0484_COG1928_4113', 'COG0484_COG0488_4113', 'COG0484_KOG2449_4113', 'COG0484_COG1076_4113', 'NOG04155_KOG4646_4113', 'KOG1634_COG1095_4113', 'KOG1634_COG0202_4113', 'KOG1634_COG1761_4113', 'KOG1634_COG1996_4113', 'KOG1634_COG2036_4113', 'KOG1634_COG0086_4113', 'KOG1634_COG1594_4113', 'KOG1634_COG0085_4113', 'KOG1634_COG2012_4113', 'KOG1634_KOG4674_4113', 'KOG1634_COG1758_4113', 'KOG1634_KOG0667_4113', 'KOG1634_NOG257869_4113', 'KOG1634_KOG3400_4113']\n"
     ]
    },
    {
     "ename": "TypeError",
     "evalue": "a bytes-like object is required, not 'BloomFilter'",
     "output_type": "error",
     "traceback": [
      "\u001b[0;31m---------------------------------------------------------------------------\u001b[0m",
      "\u001b[0;31mTypeError\u001b[0m                                 Traceback (most recent call last)",
      "\u001b[0;32m/tmp/4502552/ipykernel_3091465/123142688.py\u001b[0m in \u001b[0;36m<module>\u001b[0;34m\u001b[0m\n\u001b[1;32m      7\u001b[0m \u001b[0;34m\u001b[0m\u001b[0m\n\u001b[1;32m      8\u001b[0m \u001b[0mf1\u001b[0m \u001b[0;34m=\u001b[0m\u001b[0mdask\u001b[0m\u001b[0;34m.\u001b[0m\u001b[0mcompute\u001b[0m\u001b[0;34m(\u001b[0m \u001b[0mreturn_filter\u001b[0m\u001b[0;34m(\u001b[0m\u001b[0md02\u001b[0m\u001b[0;34m)\u001b[0m\u001b[0;34m)\u001b[0m\u001b[0;34m[\u001b[0m\u001b[0;36m0\u001b[0m\u001b[0;34m]\u001b[0m\u001b[0;34m\u001b[0m\u001b[0;34m\u001b[0m\u001b[0m\n\u001b[0;32m----> 9\u001b[0;31m \u001b[0mf_1\u001b[0m \u001b[0;34m=\u001b[0m \u001b[0mpickle\u001b[0m\u001b[0;34m.\u001b[0m\u001b[0mloads\u001b[0m\u001b[0;34m(\u001b[0m\u001b[0mlzma\u001b[0m\u001b[0;34m.\u001b[0m\u001b[0mdecompress\u001b[0m\u001b[0;34m(\u001b[0m \u001b[0mf1\u001b[0m\u001b[0;34m[\u001b[0m\u001b[0;36m0\u001b[0m\u001b[0;34m]\u001b[0m  \u001b[0;34m)\u001b[0m \u001b[0;34m)\u001b[0m\u001b[0;34m\u001b[0m\u001b[0;34m\u001b[0m\u001b[0m\n\u001b[0m\u001b[1;32m     10\u001b[0m \u001b[0;34m\u001b[0m\u001b[0m\n\u001b[1;32m     11\u001b[0m \u001b[0mprint\u001b[0m\u001b[0;34m(\u001b[0m\u001b[0;34m'COG1756_COG0088_4113'\u001b[0m \u001b[0;32min\u001b[0m \u001b[0md02\u001b[0m\u001b[0;34m[\u001b[0m\u001b[0;36m0\u001b[0m\u001b[0;34m]\u001b[0m \u001b[0;34m)\u001b[0m\u001b[0;34m\u001b[0m\u001b[0;34m\u001b[0m\u001b[0m\n",
      "\u001b[0;32m/scratch/dmoi/condaenvs/ML2/lib/python3.9/lzma.py\u001b[0m in \u001b[0;36mdecompress\u001b[0;34m(data, format, memlimit, filters)\u001b[0m\n\u001b[1;32m    340\u001b[0m         \u001b[0mdecomp\u001b[0m \u001b[0;34m=\u001b[0m \u001b[0mLZMADecompressor\u001b[0m\u001b[0;34m(\u001b[0m\u001b[0mformat\u001b[0m\u001b[0;34m,\u001b[0m \u001b[0mmemlimit\u001b[0m\u001b[0;34m,\u001b[0m \u001b[0mfilters\u001b[0m\u001b[0;34m)\u001b[0m\u001b[0;34m\u001b[0m\u001b[0;34m\u001b[0m\u001b[0m\n\u001b[1;32m    341\u001b[0m         \u001b[0;32mtry\u001b[0m\u001b[0;34m:\u001b[0m\u001b[0;34m\u001b[0m\u001b[0;34m\u001b[0m\u001b[0m\n\u001b[0;32m--> 342\u001b[0;31m             \u001b[0mres\u001b[0m \u001b[0;34m=\u001b[0m \u001b[0mdecomp\u001b[0m\u001b[0;34m.\u001b[0m\u001b[0mdecompress\u001b[0m\u001b[0;34m(\u001b[0m\u001b[0mdata\u001b[0m\u001b[0;34m)\u001b[0m\u001b[0;34m\u001b[0m\u001b[0;34m\u001b[0m\u001b[0m\n\u001b[0m\u001b[1;32m    343\u001b[0m         \u001b[0;32mexcept\u001b[0m \u001b[0mLZMAError\u001b[0m\u001b[0;34m:\u001b[0m\u001b[0;34m\u001b[0m\u001b[0;34m\u001b[0m\u001b[0m\n\u001b[1;32m    344\u001b[0m             \u001b[0;32mif\u001b[0m \u001b[0mresults\u001b[0m\u001b[0;34m:\u001b[0m\u001b[0;34m\u001b[0m\u001b[0;34m\u001b[0m\u001b[0m\n",
      "\u001b[0;31mTypeError\u001b[0m: a bytes-like object is required, not 'BloomFilter'"
     ]
    }
   ],
   "source": [
    "partitions  = link_df.to_delayed()\n",
    "\n",
    "d00 = dask.compute( partitions[100])\n",
    "#d1 = dask.compute(reduce(partitions[1],remote_list))\n",
    "d02 = dask.compute( mapcogs(d00) )\n",
    "print(d02[0][0:100])\n",
    "\n",
    "f1 =dask.compute( return_filter(d02))[0]\n",
    "f_1 = pickle.loads(lzma.decompress( f1[0]  ) ) \n",
    "\n",
    "print('COG1756_COG0088_4113' in d02[0] )\n",
    "print('COG1756_COG0088_4113' in f_1 )\n",
    "\n",
    "d10 = dask.compute( partitions[500])\n",
    "#d1 = dask.compute(reduce(partitions[1],remote_list))\n",
    "d12 = dask.compute( mapcogs(d10) )\n",
    "print(d12[0][0:100])\n",
    "\n",
    "f2 = dask.compute( return_filter(d12))[0]\n",
    "f_2 = pickle.loads(lzma.decompress( f2[0] ) )\n",
    "print(type(f_2))"
   ]
  },
  {
   "cell_type": "code",
   "execution_count": null,
   "metadata": {},
   "outputs": [],
   "source": [
    "print('COG1756_COG0088_4113' in d12[0]  )\n",
    "print('COG1756_COG0088_4113' in f_2 )\n",
    "print('COG0642_COG5641_4565' in d12[0]  )\n",
    "print('COG0642_COG5641_4565' in f_2 )\n",
    "\n",
    "f3 = dask.compute(sumfilter(f1,f2 , 0 ) )[0]\n",
    "f_3 = pickle.loads(lzma.decompress( f3[0] ) )\n",
    "\n",
    "print('COG1756_COG0088_4113' in f_3 )\n",
    "print('COG4886_COG0480_29730' in f_3 )\n"
   ]
  },
  {
   "cell_type": "code",
   "execution_count": 56,
   "metadata": {},
   "outputs": [
    {
     "name": "stdout",
     "output_type": "stream",
     "text": [
      "map cogs\n",
      "done\n",
      "make filters\n",
      "1560\n",
      "780\n",
      "390\n",
      "195\n",
      "98\n",
      "49\n",
      "25\n",
      "13\n",
      "7\n",
      "4\n",
      "2\n",
      "1\n",
      "done\n"
     ]
    }
   ],
   "source": [
    "partitions  = link_df.to_delayed()\n",
    "#print('reduce partitions')\n",
    "#res = [ reduce(p,remote_list) for p in partitions ] \n",
    "#print('done')\n",
    "print('map cogs')\n",
    "res1 = [ mapcogs(p) for p in partitions ] \n",
    "print('done')\n",
    "print('make filters')\n",
    "res2 = [ return_filter(p) for p in res1 ] \n",
    "\n",
    "totalfilter = res2\n",
    "print(len(totalfilter))\n",
    "while len(totalfilter)>1:\n",
    "    next_round= []\n",
    "    \n",
    "    for i in range(0,len(totalfilter),2):\n",
    "        if i+1 < len(totalfilter):\n",
    "            next_round.append( sumfilter( totalfilter[i][0] , totalfilter[i+1][0] , totalfilter[i][1]+totalfilter[i+1][1]  ) )\n",
    "    \n",
    "    if len(totalfilter) % 2 !=0:\n",
    "        next_round.append(totalfilter[-1])\n",
    "    totalfilter = next_round\n",
    "    print(len(totalfilter))\n",
    "\n",
    "#resfinal = dask.compute(totalfilter)\n",
    "\n",
    "print('done')"
   ]
  },
  {
   "cell_type": "code",
   "execution_count": 57,
   "metadata": {},
   "outputs": [],
   "source": [
    "resfinal = dask.compute(totalfilter)"
   ]
  },
  {
   "cell_type": "code",
   "execution_count": 53,
   "metadata": {},
   "outputs": [
    {
     "ename": "NameError",
     "evalue": "name 'resfinal' is not defined",
     "output_type": "error",
     "traceback": [
      "\u001b[0;31m---------------------------------------------------------------------------\u001b[0m",
      "\u001b[0;31mNameError\u001b[0m                                 Traceback (most recent call last)",
      "\u001b[0;32m/tmp/4502552/ipykernel_3091465/254234771.py\u001b[0m in \u001b[0;36m<module>\u001b[0;34m\u001b[0m\n\u001b[0;32m----> 1\u001b[0;31m \u001b[0mclient\u001b[0m\u001b[0;34m.\u001b[0m\u001b[0mcancel\u001b[0m\u001b[0;34m(\u001b[0m\u001b[0mresfinal\u001b[0m\u001b[0;34m)\u001b[0m\u001b[0;34m\u001b[0m\u001b[0;34m\u001b[0m\u001b[0m\n\u001b[0m",
      "\u001b[0;31mNameError\u001b[0m: name 'resfinal' is not defined"
     ]
    }
   ],
   "source": [
    "client.cancel(resfinal)"
   ]
  },
  {
   "cell_type": "code",
   "execution_count": 58,
   "metadata": {},
   "outputs": [],
   "source": [
    "import pickle \n",
    "with open('bloomfinal.pkl' , 'wb' ) as finalout:\n",
    "    finalout.write(pickle.dumps(resfinal))"
   ]
  },
  {
   "cell_type": "code",
   "execution_count": 59,
   "metadata": {},
   "outputs": [],
   "source": [
    "\n",
    "with open('bloomfinal.pkl' , 'rb' ) as finalout:\n",
    "    resfinal = pickle.loads(finalout.read())"
   ]
  },
  {
   "cell_type": "code",
   "execution_count": 66,
   "metadata": {},
   "outputs": [
    {
     "name": "stdout",
     "output_type": "stream",
     "text": [
      "True\n"
     ]
    }
   ],
   "source": [
    "print('COG1756_COG0088_4113' in resfinal[0][0][0])"
   ]
  },
  {
   "cell_type": "code",
   "execution_count": 13,
   "metadata": {},
   "outputs": [
    {
     "name": "stdout",
     "output_type": "stream",
     "text": [
      "([(BloomFilter(ideal_num_elements_n=100000000, error_rate_p=0.001000, num_bits_m=1437758757), 246221112)],)\n"
     ]
    }
   ],
   "source": [
    "print(resfinal)\n",
    "\n",
    "resfinal = resfinal[0][0]"
   ]
  },
  {
   "cell_type": "code",
   "execution_count": 18,
   "metadata": {},
   "outputs": [],
   "source": [
    "#lets try it out. we should be able to find in which species two cogs interact with the bloom filter\n",
    "print(resfinal)\n",
    "cog1='COG0088'\n",
    "cog2 ='COG1756'\n",
    "coglink = cog1 + '_' + cog2 + '_'"
   ]
  },
  {
   "cell_type": "code",
   "execution_count": 18,
   "metadata": {},
   "outputs": [
    {
     "name": "stdout",
     "output_type": "stream",
     "text": [
      "(BloomFilter(ideal_num_elements_n=100000000, error_rate_p=0.001000, num_bits_m=1437758757), 246221112)\n",
      "[]\n"
     ]
    }
   ],
   "source": [
    "coglinks_species = [ coglink+spec.name  for spec in p.tree.get_leaves()]\n",
    "checklinks = [ coglink+spec in resfinal for spec in coglinks_species ]\n",
    "links = [ l for l,c in list(zip(coglinks_species,checklinks))  if c== True  ]\n",
    "print(links)"
   ]
  },
  {
   "cell_type": "code",
   "execution_count": null,
   "metadata": {},
   "outputs": [],
   "source": [
    "with open('filters.pkl' , 'wb' ) as filters:\n",
    "    filters.write(pickle.dumps(res))"
   ]
  },
  {
   "cell_type": "code",
   "execution_count": 63,
   "metadata": {},
   "outputs": [],
   "source": [
    "link_df['species'] = link_df['protein1'].map( lambda x : str(x).split('.')[0] )\n",
    "#eliminate prots not in set with the first filter... proba of double false positive is .001^2\n",
    "\n",
    "link_df['COG1'] = link_df.protein1.map(protmapper)\n",
    "#dropna on COG1\n",
    "link_df = link_df[~link_df['COG1'].isna()]\n",
    "link_df['COG2'] = link_df.protein2.map(protmapper)\n",
    "#dropna on COG2\n",
    "link_df = link_df[~link_df['COG2'].isna()]\n",
    "link_df=link_df.dropna()"
   ]
  },
  {
   "cell_type": "code",
   "execution_count": null,
   "metadata": {},
   "outputs": [],
   "source": [
    "link_df = dask.persist(link_df)"
   ]
  },
  {
   "cell_type": "code",
   "execution_count": null,
   "metadata": {},
   "outputs": [],
   "source": [
    "print(len(link_df))"
   ]
  },
  {
   "cell_type": "code",
   "execution_count": null,
   "metadata": {},
   "outputs": [],
   "source": [
    "#write out subdf \n",
    "link_df.to_csv('filtered_links.csv')"
   ]
  },
  {
   "cell_type": "code",
   "execution_count": null,
   "metadata": {},
   "outputs": [],
   "source": [
    "print(link_df.columns)"
   ]
  },
  {
   "cell_type": "code",
   "execution_count": null,
   "metadata": {},
   "outputs": [],
   "source": [
    "#encdoe COG interactions as COG1_COG2_taxcode\n",
    "link_df['coglinks'] = link_df.COG_x+'_'+link_df.COG_y+'_'+link_df.species"
   ]
  },
  {
   "cell_type": "code",
   "execution_count": null,
   "metadata": {},
   "outputs": [],
   "source": [
    "from bloom_filter2 import BloomFilter\n",
    "@dask.delayed\n",
    "def return_filter(df):\n",
    "    if type( df ) == tuple:\n",
    "        df = df[0]\n",
    "    b =  BloomFilter(max_elements=10**9, error_rate=0.001 ,start_fresh = True)\n",
    "    #df['pair']= df.protein1.astype(str) + '_' + df.protein2.astype(str)\n",
    "    pairs = [ p for p in list(df.coglinks)]\n",
    "    for p in pairs:\n",
    "        b.add( p )    \n",
    "    return  b\n"
   ]
  },
  {
   "cell_type": "code",
   "execution_count": null,
   "metadata": {},
   "outputs": [],
   "source": [
    "#compute bloom filters for protein pairs\n",
    "partitions  = link_df.to_delayed()  \n",
    "res = [ return_filter(p) for p in partitions ] \n",
    "print(len(res))"
   ]
  },
  {
   "cell_type": "code",
   "execution_count": null,
   "metadata": {},
   "outputs": [],
   "source": [
    "res = dask.compute(*res)"
   ]
  },
  {
   "cell_type": "code",
   "execution_count": null,
   "metadata": {},
   "outputs": [],
   "source": [
    "#treesum\n",
    "@dask.delayed\n",
    "def sumfilter(f1,f2):\n",
    "    return f1.__ior__(f2)\n",
    "totalfilter = res\n",
    "print(len(totalfilter))\n",
    "while len(totalfilter)>1:\n",
    "    next_round= []\n",
    "    for i in range(0,len(totalfilter),2):\n",
    "        if i+1 < len(totalfilter):\n",
    "            next_round.append( sumfilter( totalfilter[i],totalfilter[i+1]) )\n",
    "    if len(totalfilter) % 2 !=0:\n",
    "        next_round.append(totalfilter[-1])\n",
    "    totalfilter = next_round\n",
    "    print(len(totalfilter))"
   ]
  },
  {
   "cell_type": "code",
   "execution_count": null,
   "metadata": {},
   "outputs": [],
   "source": [
    "print(totalfilter)"
   ]
  },
  {
   "cell_type": "code",
   "execution_count": null,
   "metadata": {},
   "outputs": [],
   "source": [
    "final = dask.compute(totalfilter[0])"
   ]
  },
  {
   "cell_type": "code",
   "execution_count": null,
   "metadata": {},
   "outputs": [],
   "source": [
    "#save the precious precious filter\n",
    "with open('filtersig.pkl' , 'wb' ) as sigout:\n",
    "    sigout.write(pickle.dumps(bloom))"
   ]
  },
  {
   "cell_type": "code",
   "execution_count": 49,
   "metadata": {},
   "outputs": [
    {
     "name": "stdout",
     "output_type": "stream",
     "text": [
      "6238\n"
     ]
    }
   ],
   "source": [
    "print(len(res))"
   ]
  },
  {
   "cell_type": "code",
   "execution_count": 50,
   "metadata": {},
   "outputs": [
    {
     "name": "stdout",
     "output_type": "stream",
     "text": [
      "True\n"
     ]
    }
   ],
   "source": [
    "print(res[0]== res[1])"
   ]
  },
  {
   "cell_type": "code",
   "execution_count": 12,
   "metadata": {},
   "outputs": [
    {
     "name": "stdout",
     "output_type": "stream",
     "text": [
      "False\n",
      "False\n"
     ]
    }
   ],
   "source": [
    "#test bloom\n",
    "print( '23.BEL05_11670_23.BEL05_00025' in bloom )\n",
    "print( 'crap' in bloom )"
   ]
  },
  {
   "cell_type": "code",
   "execution_count": null,
   "metadata": {},
   "outputs": [],
   "source": [
    "#defining ground truth for interaction emergence"
   ]
  },
  {
   "cell_type": "code",
   "execution_count": null,
   "metadata": {},
   "outputs": [],
   "source": [
    "#prepare template tree\n",
    "import dendropy\n",
    "#find interactions between two orthgroups across the tree\n",
    "tree = dendropy.Tree.get(path = treefile, schema=\"newick\")\n",
    "for i,l in enumerate(tree.leaf_nodes()):\n",
    "        l.aln_row = i\n",
    "for i,l in enumerate(tree.nodes()):\n",
    "    l.event = {}\n",
    "    l.scores = {}\n",
    "    l.symbols = None\n",
    "    l.char= None\n",
    "\n",
    "#t is a delayed obj...\n",
    "def calc_interaction_on_taxonomy(tree, leafstates):\n",
    "    #set interaction states\n",
    "    for i,l in enumerate(tree.leaf_nodes()):\n",
    "        l.char = leafstates[l.aln_row]\n",
    "    print(interactions,interactions.shape)\n",
    "    t = calculate_small_parsimony(tree, interactions)\n",
    "    return t\n",
    "t= t.compute()   "
   ]
  },
  {
   "cell_type": "code",
   "execution_count": null,
   "metadata": {},
   "outputs": [],
   "source": [
    "#proceed by COG pairs\n",
    "#find all prots in both COGS\n",
    "#proceed by protpairs\n",
    "#if protpair in bloom then the interaction exists\n",
    "def iter_species(cogmap_df,COG1,COG2,bloom_filter):\n",
    "    sub1 = cogmap_df[ cogmap_df.orthologous_group == COG1 ].compute()\n",
    "    sub2 = cogmap_df[ cogmap_df.orthologous_group == COG2 ].compute()\n",
    "    #join by species\n",
    "    sub1['species']= \n",
    "    sub2['species']=\n",
    "    #discard prots where no species is shared\n",
    "    joined_df = sub1.merge(sub1 , left_on = 'species', right_on = 'species', how = '' )\n",
    "    #check if protpairs are in bloom filter\n",
    "    protpairs = joined_df[] + joined_df[]\n",
    "    species_found = {}\n",
    "    for pair in protpairs:\n",
    "        if pair in bloom_filter:\n",
    "            species_found.add(pair.split('.')[0])\n",
    "    return species_found\n",
    "#init the species tree with 0s other than where the cogs are interacting"
   ]
  },
  {
   "cell_type": "code",
   "execution_count": null,
   "metadata": {},
   "outputs": [],
   "source": [
    "#fitch the ancestral states\n",
    "#when one is absent the state in 0\n",
    "import itertools\n",
    "import sys\n",
    "import dask\n",
    "\n",
    "#the interaction either exists or it doesnt within a species\n",
    "allowed_symbols =set([0,1])\n",
    "transition_dict = { (c[0],c[1]):i for i,c in enumerate(itertools.permutations(allowed_symbols,2) ) }\n",
    "print(allowed_symbols, transition_dict)\n",
    "####small parsimony functions ##########\n",
    "def process_node_smallpars_1(node):\n",
    "    #go from leaves up and generate character sets\n",
    "    if node.symbols is None:\n",
    "        for child in node.child_nodes():\n",
    "            if child.symbols is None:\n",
    "                process_node_smallpars_1(child)\n",
    "        node.symbols = { }\n",
    "        node.scores = { }\n",
    "        symbols = set.intersection( * [ child.symbols for child in node.child_nodes( ) ] )\n",
    "        if len(symbols) == 0:\n",
    "            symbols = set.union( * [ child.symbols for child in node.child_nodes( ) ] )\n",
    "        node.symbols = symbols\n",
    "        for c in allowed_symbols:\n",
    "            if c not in node.symbols:\n",
    "                #add trnasition mat here if needed\n",
    "                score = min(  [ child.scores[c] for child in node.child_nodes()])+1\n",
    "            else:\n",
    "                score = min(  [ child.scores[c] for child in node.child_nodes() ] )\n",
    "            node.scores[c] = score\n",
    "\n",
    "def process_node_smallpars_2(node , verbose = False):\n",
    "    #assign the most parsimonious char from children\n",
    "    if node.char is None:\n",
    "        if node.parent_node:\n",
    "            #node has parent\n",
    "            node.char = {}\n",
    "            node.event = {}\n",
    "            node.eventype= {}\n",
    "            node.char = min(node.scores, key=node.scores.get)\n",
    "            if node.parent_node.char == node.char:\n",
    "                node.event = 0\n",
    "            else:\n",
    "                if node.scores[node.parent_node.char] == node.scores[node.char] :\n",
    "                    node.char = node.parent_node.char\n",
    "                    node.event = 0\n",
    "                else:\n",
    "                    node.event = 1\n",
    "                    node.eventype = transition_dict[(node.parent_node.char,node.char)]\n",
    "        else:\n",
    "            #root node\n",
    "            node.char = {}\n",
    "            node.event= {}\n",
    "            node.eventype = {}\n",
    "            node.char = min(node.scores, key=node.scores.get)\n",
    "            node.event = 0\n",
    "        #down one level\n",
    "        for child in node.child_nodes():\n",
    "            if child.char is None:\n",
    "                process_node_smallpars_2(child)\n",
    "\n",
    "@dask.delayed(pure=False)\n",
    "def calculate_small_parsimony(t , alncol  ,  bootstrap = None , position = 0 ):\n",
    "    #df is 3 columns of a codons\n",
    "    #setup the tree and matrix for each worker\n",
    "    #assign leaf values\n",
    "    #repeat here for bootstrap\n",
    "    #change a subset of leaves to ambiguous characters\n",
    "    for l in t.leaf_nodes():\n",
    "        #setup for small_pars1\n",
    "        l.event = 0\n",
    "        l.scores = { c:10**10 for c in allowed_symbols }\n",
    "        l.symbols =  allowed_symbols\n",
    "        char = alncol[ l.aln_row ]\n",
    "        if char in allowed_symbols:\n",
    "            l.symbols = { char }\n",
    "            l.scores[char] = 0\n",
    "        else:\n",
    "            char = None\n",
    "            l.symbols =  allowed_symbols\n",
    "        l.char = min(l.scores, key=l.scores.get)\n",
    "    #upq\n",
    "    process_node_smallpars_1(t.seed_node)\n",
    "    #down\n",
    "    process_node_smallpars_2(t.seed_node)\n",
    "    #collect events\n",
    "    eventdict = {}\n",
    "\n",
    "    return t"
   ]
  },
  {
   "cell_type": "code",
   "execution_count": 75,
   "metadata": {},
   "outputs": [
    {
     "name": "stdout",
     "output_type": "stream",
     "text": [
      "(3145, 10524)\n",
      "(3583, 10524)\n",
      "string\n",
      "train 10975\n",
      "test 2709\n",
      "humap\n",
      "train 6638\n",
      "test 1655\n"
     ]
    }
   ],
   "source": [
    "#mapfam to matrow\n",
    "humap_fam_map= { f:i for i,f in enumerate(humap_df.index)}\n",
    "humap_profilemat = np.vstack(humap_df.mat)\n",
    "print(humap_profilemat.shape)\n",
    "string_fam_map = { f:i for i,f in enumerate(string_df.index)}\n",
    "string_mat = np.vstack(string_df.mat)\n",
    "print(string_mat.shape)\n",
    "#train test split\n",
    "Datasets = {}\n",
    "for label,df,mapping,profilemat in [  ('string', stringPairs, string_fam_map ,string_mat ) , ('humap',humap_pairs, humap_fam_map , humap_profilemat) ]:\n",
    "    \n",
    "    keys = set(mapping.keys())\n",
    "    entry1 = [ f in keys for f in df.fam1]\n",
    "    df = df.iloc[entry1]\n",
    "    entry2 = [ f in keys for f in df.fam2]\n",
    "\n",
    "    df = df.iloc[entry2]\n",
    "    msk = np.random.rand(len(df)) < 0.8\n",
    "    df_train = df.iloc[msk]\n",
    "    df_test = df.iloc[~msk]\n",
    "    \n",
    "    \n",
    "    Datasets[label]={'Train':df_train,'Test':df_test , 'mapping': mapping , 'mat':profilemat }\n",
    "    print(label)\n",
    "    print('train',len(df_train))\n",
    "    print('test',len(df_test))\n"
   ]
  },
  {
   "cell_type": "code",
   "execution_count": 76,
   "metadata": {},
   "outputs": [],
   "source": [
    "\n",
    "def chunks(df, n):\n",
    "    for i in range(0, len(df), n):\n",
    "        yield df.iloc[i:i + n]\n",
    "def generateXYchunk(explicit_profiles, goldstandardDF,fam_map,  nsamples=100, posi_percent = .5):\n",
    "    #shuffle\n",
    "    goldstandardDF = goldstandardDF.sample(frac=1)\n",
    "    for chunkdf in chunks(goldstandardDF , int( nsamples*posi_percent)):\n",
    "        #negatives drawn from the overall dataset\n",
    "        X = np.hstack([ np.vstack([profilemat[fam_map[f]] for f in chunkdf.fam1]) , np.vstack([profilemat[fam_map[f]] for f in chunkdf.fam2]) ] )\n",
    "        Y = [1]* X.shape[0]\n",
    "        neg1 = list(goldstandardDF.sample(n = int(nsamples*(1-posi_percent))).fam1)\n",
    "        neg2 = list(goldstandardDF.sample(n = int(nsamples*(1-posi_percent))).fam2)\n",
    "        \n",
    "        if len(neg1)>0:\n",
    "            mixchunk = np.hstack([np.vstack([profilemat[fam_map[f]] for f in neg1]),np.vstack([profilemat[fam_map[f]] for f in neg2])])\n",
    "            Y =np.hstack([[0]* mixchunk.shape[0] , Y])\n",
    "            X= np.vstack([mixchunk,X])    \n",
    "        #positive samples\n",
    "        yield X, Y"
   ]
  },
  {
   "cell_type": "code",
   "execution_count": 77,
   "metadata": {},
   "outputs": [
    {
     "name": "stdout",
     "output_type": "stream",
     "text": [
      "3508\n",
      "nodes\n"
     ]
    },
    {
     "data": {
      "image/png": "[encoded data removed]",
      "text/plain": [
       "<Figure size 720x720 with 1 Axes>"
      ]
     },
     "metadata": {
      "needs_background": "light"
     },
     "output_type": "display_data"
    }
   ],
   "source": [
    "#save with mapped ids\n",
    "import scipy\n",
    "import dendropy\n",
    "from matplotlib import pyplot as plt\n",
    "species_tree = p.tree\n",
    "with open('species_tree.nwk', 'w')as treeout:\n",
    "    treeout.write( species_tree.write())\n",
    "tree = dendropy.Tree.get( path='species_tree.nwk', schema='newick')\n",
    "for i,n in enumerate(tree.nodes()):\n",
    "    n.matrow = i\n",
    "    n.symbols = None\n",
    "    n.scores = None\n",
    "    n.event = None\n",
    "    n.char = None\n",
    "\n",
    "matsize = len(tree.nodes())\n",
    "print(matsize)\n",
    "print('nodes')\n",
    "#blur w connectivity mat\n",
    "blurfactor =  .25\n",
    "connectmat = scipy.sparse.lil_matrix((len(tree.nodes()), len(tree.nodes() ) ) )\n",
    "index = np.array([ [n.matrow, c.matrow ] for n in tree.nodes() for c in n.child_nodes()])\n",
    "connectmat[index[:,0],index[:,1]] = 1\n",
    "connectmat[index[:,1],index[:,0]] = 1\n",
    "sumlengths = connectmat.sum(axis=1)\n",
    "#diag= scipy.sparse.diags(1,[0])\n",
    "#connectmat += diag\n",
    "connectmat = scipy.sparse.coo_matrix(connectmat)\n",
    "plt.figure( figsize=(10,10))\n",
    "plt.title( 'NCBI taxonomic tree connectivity matrix ' )\n",
    "plt.spy(connectmat, markersize= 1)\n",
    "plt.show()"
   ]
  },
  {
   "cell_type": "code",
   "execution_count": 78,
   "metadata": {},
   "outputs": [],
   "source": [
    "import ete3\n",
    "taxonomy = p.tree\n",
    "taxmap ={ n:i for i,n in enumerate(taxonomy.traverse())}\n",
    "reverse_taxmap = dict(zip(taxmap.values(), taxmap.keys()))"
   ]
  },
  {
   "cell_type": "code",
   "execution_count": 52,
   "metadata": {},
   "outputs": [],
   "source": [
    "def generateXYchunk_blurred(explicit_profiles, goldstandardDF,fam_map,  connectmat, nsamples=100, posi_percent = .5 , nblurs = 10 ):\n",
    "    #shuffle\n",
    "    goldstandardDF = goldstandardDF.sample(frac=1)\n",
    "    for chunkdf in chunks(goldstandardDF , int( nsamples*posi_percent)):\n",
    "        #negatives drawn from the overall dataset\n",
    "        \n",
    "        for blur in range(nblurs):\n",
    "\n",
    "            profiles1 = np.vstack([profilemat[fam_map[f]] for f in chunkdf.fam1])\n",
    "            profiles2= np.vstack([profilemat[fam_map[f]] for f in chunkdf.fam2] )\n",
    "            #divide into three categories\n",
    "            \n",
    "            #diffusion w const boundary conditions\n",
    "            \n",
    "            #separate the pair of \n",
    "            X= connectmat.dot(X)\n",
    "        \n",
    "        Y = [1]* X.shape[0]\n",
    "        neg1 = list(goldstandardDF.sample(n = int(nsamples*(1-posi_percent))).fam1)\n",
    "        neg2 = list(goldstandardDF.sample(n = int(nsamples*(1-posi_percent))).fam2)\n",
    "        \n",
    "        if len(neg1)>0:\n",
    "            mixchunk = np.hstack([np.vstack([profilemat[fam_map[f]] for f in neg1]),np.vstack([profilemat[fam_map[f]] for f in neg2])])\n",
    "            Y =np.hstack([[0]* mixchunk.shape[0] , Y])\n",
    "            X= np.vstack([mixchunk,X])    \n",
    "        #positive samples\n",
    "        yield X, Y\n",
    "    "
   ]
  },
  {
   "cell_type": "code",
   "execution_count": 98,
   "metadata": {},
   "outputs": [],
   "source": [
    "\n",
    "from sklearn.metrics import precision_recall_curve\n",
    "import matplotlib.pyplot as plt\n",
    "\n",
    "from sklearn.metrics import roc_curve\n",
    "from sklearn.metrics import auc\n",
    "from cycler import cycler\n",
    "\n",
    "def ROC_curve(y_data, label = None):\n",
    "    plt.figure(figsize=(10,10))\n",
    "    plt.plot([0, 1], [0, 1], 'k--')\n",
    "    for l in y_data:\n",
    "        print(l)\n",
    "        y_pred_grd = y_data[l]['Ytrue']\n",
    "        y_test = y_data[l]['Ypred']\n",
    "        fpr, tpr, _ = roc_curve(   y_pred_grd ,y_test)\n",
    "        plt.plot(fpr, tpr, label=l + 'auc'+ str(auc(fpr, tpr) ))\n",
    "        plt.xlabel('False positive rate')\n",
    "        plt.ylabel('True positive rate')\n",
    "    plt.title('ROC curve')\n",
    "    plt.legend(loc='best')\n",
    "    if label:\n",
    "        plt.savefig( label +'_ROC.svg' )\n",
    "    plt.show()\n",
    "    \n",
    "    \n",
    "    plt.figure(figsize=(10,10))\n",
    "    for l in y_data:\n",
    "        y_pred_grd = y_data[l]['Ytrue']\n",
    "        y_test = y_data[l]['Ypred']\n",
    "        precision, recall, thresholds = precision_recall_curve( y_pred_grd, y_test)\n",
    "        plt.plot( recall, precision , label= l )\n",
    "        plt.ylabel('Precision')\n",
    "        plt.xlabel('Recall')\n",
    "    \n",
    "    plt.title('PR curve')\n",
    "    plt.legend(loc='best')\n",
    "    if label:\n",
    "        plt.savefig( label +'_PR.svg' )\n",
    "    plt.show()\n",
    "    \n",
    "def ROC_curve_single(y_test, y_pred_grd):\n",
    "    fpr_grd, tpr_grd, _ = roc_curve(y_test, y_pred_grd)\n",
    "\n",
    "    plt.plot([0, 1], [0, 1], 'k--')\n",
    "\n",
    "    fpr, tpr, _ = roc_curve(y_test, y_pred_grd)\n",
    "    plt.plot(fpr, tpr, label='single')\n",
    "    plt.xlabel('False positive rate')\n",
    "    plt.ylabel('True positive rate')\n",
    "\n",
    "    plt.title('ROC curve')\n",
    "    plt.legend(loc='best')\n",
    "    plt.show()\n",
    "\n",
    "    precision, recall, thresholds = precision_recall_curve(  y_test , y_pred_grd)\n",
    "    plt.plot(precision, recall , label='single')\n",
    "    plt.xlabel('Precision')\n",
    "    plt.ylabel('Recall')\n",
    "\n",
    "    plt.title('PR curve')\n",
    "    plt.legend(loc='best')\n",
    "    plt.show()\n"
   ]
  },
  {
   "cell_type": "code",
   "execution_count": 87,
   "metadata": {},
   "outputs": [
    {
     "name": "stdout",
     "output_type": "stream",
     "text": [
      "string\n",
      "Epoch 1/50\n",
      "300/300 [==============================] - 7s 21ms/step - loss: 0.6486 - accuracy: 0.6312\n",
      "Epoch 2/50\n",
      "300/300 [==============================] - 5s 18ms/step - loss: 0.5900 - accuracy: 0.6902\n",
      "Epoch 3/50\n",
      "300/300 [==============================] - 5s 18ms/step - loss: 0.5593 - accuracy: 0.7118\n",
      "Epoch 4/50\n",
      "300/300 [==============================] - 5s 18ms/step - loss: 0.5415 - accuracy: 0.7266\n",
      "Epoch 5/50\n",
      "300/300 [==============================] - 5s 18ms/step - loss: 0.5297 - accuracy: 0.7299\n",
      "Epoch 6/50\n",
      "300/300 [==============================] - 5s 18ms/step - loss: 0.5118 - accuracy: 0.7441\n",
      "Epoch 7/50\n",
      "300/300 [==============================] - 5s 18ms/step - loss: 0.4962 - accuracy: 0.7563\n",
      "Epoch 8/50\n",
      "300/300 [==============================] - 5s 18ms/step - loss: 0.4865 - accuracy: 0.7645\n",
      "Epoch 9/50\n",
      "300/300 [==============================] - 5s 18ms/step - loss: 0.4742 - accuracy: 0.7758\n",
      "Epoch 10/50\n",
      "300/300 [==============================] - 5s 18ms/step - loss: 0.4617 - accuracy: 0.7755\n",
      "Epoch 11/50\n",
      "300/300 [==============================] - 6s 19ms/step - loss: 0.4523 - accuracy: 0.7881\n",
      "Epoch 12/50\n",
      "300/300 [==============================] - 5s 18ms/step - loss: 0.4435 - accuracy: 0.7932\n",
      "Epoch 13/50\n",
      "300/300 [==============================] - 5s 17ms/step - loss: 0.4309 - accuracy: 0.8019\n",
      "Epoch 14/50\n",
      "300/300 [==============================] - 5s 17ms/step - loss: 0.4175 - accuracy: 0.8107\n",
      "Epoch 15/50\n",
      "300/300 [==============================] - 5s 17ms/step - loss: 0.4071 - accuracy: 0.8163\n",
      "Epoch 16/50\n",
      "300/300 [==============================] - 5s 17ms/step - loss: 0.3986 - accuracy: 0.8194\n",
      "Epoch 17/50\n",
      "300/300 [==============================] - 5s 17ms/step - loss: 0.3936 - accuracy: 0.8210\n",
      "Epoch 18/50\n",
      "300/300 [==============================] - 5s 18ms/step - loss: 0.3820 - accuracy: 0.8264\n",
      "Epoch 19/50\n",
      "300/300 [==============================] - 6s 19ms/step - loss: 0.3831 - accuracy: 0.8293\n",
      "Epoch 20/50\n",
      "300/300 [==============================] - 5s 17ms/step - loss: 0.3689 - accuracy: 0.8369\n",
      "Epoch 21/50\n",
      "300/300 [==============================] - 5s 17ms/step - loss: 0.3653 - accuracy: 0.8363\n",
      "Epoch 22/50\n",
      "300/300 [==============================] - 5s 17ms/step - loss: 0.3531 - accuracy: 0.8412\n",
      "Epoch 23/50\n",
      "300/300 [==============================] - 5s 17ms/step - loss: 0.3476 - accuracy: 0.8498\n",
      "Epoch 24/50\n",
      "300/300 [==============================] - 6s 19ms/step - loss: 0.3353 - accuracy: 0.8568\n",
      "Epoch 25/50\n",
      "300/300 [==============================] - 5s 18ms/step - loss: 0.3267 - accuracy: 0.8582\n",
      "Epoch 26/50\n",
      "300/300 [==============================] - 5s 18ms/step - loss: 0.3239 - accuracy: 0.8595\n",
      "Epoch 27/50\n",
      "300/300 [==============================] - 5s 18ms/step - loss: 0.3266 - accuracy: 0.8598\n",
      "Epoch 28/50\n",
      "300/300 [==============================] - 5s 18ms/step - loss: 0.3130 - accuracy: 0.8646\n",
      "Epoch 29/50\n",
      "300/300 [==============================] - 5s 18ms/step - loss: 0.3074 - accuracy: 0.8676\n",
      "Epoch 30/50\n",
      "300/300 [==============================] - 5s 18ms/step - loss: 0.2973 - accuracy: 0.8738\n",
      "Epoch 31/50\n",
      "300/300 [==============================] - 5s 17ms/step - loss: 0.2892 - accuracy: 0.8783\n",
      "Epoch 32/50\n",
      "300/300 [==============================] - 5s 18ms/step - loss: 0.2885 - accuracy: 0.8767\n",
      "Epoch 33/50\n",
      "300/300 [==============================] - 5s 18ms/step - loss: 0.2834 - accuracy: 0.8814\n",
      "Epoch 34/50\n",
      "300/300 [==============================] - 6s 18ms/step - loss: 0.2823 - accuracy: 0.8798\n",
      "Epoch 35/50\n",
      "300/300 [==============================] - 5s 17ms/step - loss: 0.2794 - accuracy: 0.8832\n",
      "Epoch 36/50\n",
      "300/300 [==============================] - 5s 17ms/step - loss: 0.2707 - accuracy: 0.8874\n",
      "Epoch 37/50\n",
      "300/300 [==============================] - 5s 18ms/step - loss: 0.2628 - accuracy: 0.8896\n",
      "Epoch 38/50\n",
      "300/300 [==============================] - 6s 18ms/step - loss: 0.2626 - accuracy: 0.8906\n",
      "Epoch 39/50\n",
      "300/300 [==============================] - 5s 18ms/step - loss: 0.2555 - accuracy: 0.8964\n",
      "Epoch 40/50\n",
      "300/300 [==============================] - 5s 18ms/step - loss: 0.2552 - accuracy: 0.8923\n",
      "Epoch 41/50\n",
      "300/300 [==============================] - 5s 18ms/step - loss: 0.2499 - accuracy: 0.8949\n",
      "Epoch 42/50\n",
      "300/300 [==============================] - 5s 17ms/step - loss: 0.2505 - accuracy: 0.8950\n",
      "Epoch 43/50\n",
      "300/300 [==============================] - 5s 18ms/step - loss: 0.2444 - accuracy: 0.9007\n",
      "Epoch 44/50\n",
      "300/300 [==============================] - 5s 18ms/step - loss: 0.2418 - accuracy: 0.9023\n",
      "Epoch 45/50\n",
      "300/300 [==============================] - 5s 17ms/step - loss: 0.2404 - accuracy: 0.9021\n",
      "Epoch 46/50\n",
      "300/300 [==============================] - 5s 17ms/step - loss: 0.2317 - accuracy: 0.9073\n",
      "Epoch 47/50\n",
      "300/300 [==============================] - 5s 17ms/step - loss: 0.2282 - accuracy: 0.9072\n",
      "Epoch 48/50\n",
      "300/300 [==============================] - 5s 18ms/step - loss: 0.2269 - accuracy: 0.9044\n",
      "Epoch 49/50\n",
      "300/300 [==============================] - 5s 18ms/step - loss: 0.2220 - accuracy: 0.9084\n",
      "Epoch 50/50\n",
      "300/300 [==============================] - 5s 17ms/step - loss: 0.2202 - accuracy: 0.9101\n",
      "humap\n",
      "Epoch 1/50\n",
      "300/300 [==============================] - 7s 23ms/step - loss: 0.6447 - accuracy: 0.6307\n",
      "Epoch 2/50\n",
      "300/300 [==============================] - 5s 18ms/step - loss: 0.5905 - accuracy: 0.6859\n",
      "Epoch 3/50\n",
      "300/300 [==============================] - 6s 18ms/step - loss: 0.5606 - accuracy: 0.7074\n",
      "Epoch 4/50\n",
      "300/300 [==============================] - 5s 18ms/step - loss: 0.5446 - accuracy: 0.7205\n",
      "Epoch 5/50\n",
      "300/300 [==============================] - 5s 18ms/step - loss: 0.5327 - accuracy: 0.7274\n",
      "Epoch 6/50\n",
      "300/300 [==============================] - 6s 18ms/step - loss: 0.5147 - accuracy: 0.7393\n",
      "Epoch 7/50\n",
      "300/300 [==============================] - 6s 19ms/step - loss: 0.5099 - accuracy: 0.7453\n",
      "Epoch 8/50\n",
      "300/300 [==============================] - 5s 18ms/step - loss: 0.5028 - accuracy: 0.7525\n",
      "Epoch 9/50\n",
      "300/300 [==============================] - 5s 18ms/step - loss: 0.4869 - accuracy: 0.7634\n",
      "Epoch 10/50\n",
      "300/300 [==============================] - 5s 18ms/step - loss: 0.4806 - accuracy: 0.7690\n",
      "Epoch 11/50\n",
      "300/300 [==============================] - 5s 18ms/step - loss: 0.4619 - accuracy: 0.7839\n",
      "Epoch 12/50\n",
      "300/300 [==============================] - 5s 18ms/step - loss: 0.4587 - accuracy: 0.7815\n",
      "Epoch 13/50\n",
      "300/300 [==============================] - 5s 18ms/step - loss: 0.4462 - accuracy: 0.7926\n",
      "Epoch 14/50\n",
      "300/300 [==============================] - 6s 19ms/step - loss: 0.4381 - accuracy: 0.7952\n",
      "Epoch 15/50\n",
      "300/300 [==============================] - 6s 18ms/step - loss: 0.4287 - accuracy: 0.7986\n",
      "Epoch 16/50\n",
      "300/300 [==============================] - 6s 19ms/step - loss: 0.4189 - accuracy: 0.8098\n",
      "Epoch 17/50\n",
      "300/300 [==============================] - 5s 18ms/step - loss: 0.4122 - accuracy: 0.8107\n",
      "Epoch 18/50\n",
      "300/300 [==============================] - 5s 18ms/step - loss: 0.3987 - accuracy: 0.8208\n",
      "Epoch 19/50\n",
      "300/300 [==============================] - 6s 18ms/step - loss: 0.3917 - accuracy: 0.8240\n",
      "Epoch 20/50\n",
      "300/300 [==============================] - 5s 18ms/step - loss: 0.3886 - accuracy: 0.8257\n",
      "Epoch 21/50\n",
      "300/300 [==============================] - 5s 18ms/step - loss: 0.3878 - accuracy: 0.8280\n",
      "Epoch 22/50\n",
      "300/300 [==============================] - 5s 18ms/step - loss: 0.3747 - accuracy: 0.8327\n",
      "Epoch 23/50\n",
      "300/300 [==============================] - 6s 18ms/step - loss: 0.3637 - accuracy: 0.8385\n",
      "Epoch 24/50\n",
      "300/300 [==============================] - 5s 18ms/step - loss: 0.3591 - accuracy: 0.8447\n",
      "Epoch 25/50\n",
      "300/300 [==============================] - 5s 18ms/step - loss: 0.3461 - accuracy: 0.8486\n",
      "Epoch 26/50\n",
      "300/300 [==============================] - 5s 18ms/step - loss: 0.3432 - accuracy: 0.8492\n",
      "Epoch 27/50\n",
      "300/300 [==============================] - 6s 19ms/step - loss: 0.3399 - accuracy: 0.8521\n",
      "Epoch 28/50\n",
      "300/300 [==============================] - 5s 18ms/step - loss: 0.3268 - accuracy: 0.8599\n",
      "Epoch 29/50\n",
      "300/300 [==============================] - 5s 18ms/step - loss: 0.3254 - accuracy: 0.8593\n",
      "Epoch 30/50\n",
      "300/300 [==============================] - 6s 19ms/step - loss: 0.3234 - accuracy: 0.8627\n",
      "Epoch 31/50\n",
      "300/300 [==============================] - 5s 18ms/step - loss: 0.3173 - accuracy: 0.8630\n",
      "Epoch 32/50\n",
      "300/300 [==============================] - 6s 18ms/step - loss: 0.3158 - accuracy: 0.8644\n",
      "Epoch 33/50\n",
      "300/300 [==============================] - 5s 18ms/step - loss: 0.3092 - accuracy: 0.8672\n",
      "Epoch 34/50\n",
      "300/300 [==============================] - 5s 18ms/step - loss: 0.3131 - accuracy: 0.8681\n",
      "Epoch 35/50\n",
      "300/300 [==============================] - 5s 18ms/step - loss: 0.3044 - accuracy: 0.8685\n",
      "Epoch 36/50\n",
      "300/300 [==============================] - 5s 18ms/step - loss: 0.2980 - accuracy: 0.8750\n",
      "Epoch 37/50\n",
      "300/300 [==============================] - 5s 18ms/step - loss: 0.2962 - accuracy: 0.8754\n",
      "Epoch 38/50\n",
      "300/300 [==============================] - 6s 18ms/step - loss: 0.2859 - accuracy: 0.8791\n",
      "Epoch 39/50\n",
      "300/300 [==============================] - 6s 18ms/step - loss: 0.2838 - accuracy: 0.8842\n",
      "Epoch 40/50\n",
      "300/300 [==============================] - 6s 19ms/step - loss: 0.2832 - accuracy: 0.8825\n",
      "Epoch 41/50\n",
      "300/300 [==============================] - 5s 18ms/step - loss: 0.2876 - accuracy: 0.8818\n",
      "Epoch 42/50\n",
      "300/300 [==============================] - 5s 18ms/step - loss: 0.2761 - accuracy: 0.8836\n",
      "Epoch 43/50\n",
      "300/300 [==============================] - 5s 18ms/step - loss: 0.2754 - accuracy: 0.8862\n",
      "Epoch 44/50\n",
      "300/300 [==============================] - 5s 18ms/step - loss: 0.2751 - accuracy: 0.8867\n",
      "Epoch 45/50\n",
      "300/300 [==============================] - 6s 18ms/step - loss: 0.2706 - accuracy: 0.8881\n",
      "Epoch 46/50\n",
      "300/300 [==============================] - 5s 18ms/step - loss: 0.2728 - accuracy: 0.8920\n",
      "Epoch 47/50\n",
      "300/300 [==============================] - 5s 18ms/step - loss: 0.2654 - accuracy: 0.8907\n",
      "Epoch 48/50\n",
      "300/300 [==============================] - 5s 18ms/step - loss: 0.2595 - accuracy: 0.8940\n",
      "Epoch 49/50\n",
      "300/300 [==============================] - 5s 18ms/step - loss: 0.2594 - accuracy: 0.8961\n",
      "Epoch 50/50\n",
      "300/300 [==============================] - 5s 18ms/step - loss: 0.2576 - accuracy: 0.8969\n"
     ]
    }
   ],
   "source": [
    "#try a vanilla deep NN\n",
    "from keras.layers import Dense, Input\n",
    "from keras.models import Sequential\n",
    "import os\n",
    "import tensorflow as tf\n",
    "from keras.models import load_model\n",
    "\n",
    "overwrite = True\n",
    "\n",
    "for dataset in Datasets:\n",
    "    modelpath = './'+label+'_dropout_DNN.h5'\n",
    "    callbacks = [\n",
    "    tf.keras.callbacks.TensorBoard(log_dir= modelpath+'.logs'),\n",
    "    tf.keras.callbacks.ModelCheckpoint(filepath=modelpath)\n",
    "    ]\n",
    "    print(dataset)\n",
    "    df_train = Datasets[label]['Train']\n",
    "    fam_map = Datasets[label]['mapping']\n",
    "    profilemat = Datasets[label]['mat']\n",
    "    if os.path.exists(modelpath) and overwrite == False:\n",
    "        model = load_model(modelpath)\n",
    "    else:\n",
    "        model = Sequential()\n",
    "        model.add(Dense(units=100, activation='sigmoid', input_dim=profilemat.shape[1]*2))\n",
    "        model.add(tf.keras.layers.Dropout( .2 , seed=42 ))\n",
    "        model.add(Dense(units=30, activation='sigmoid' ) )\n",
    "        model.add(Dense(units=1, activation='sigmoid' ) )\n",
    "    model.compile(loss='binary_crossentropy', optimizer='rmsprop', metrics=['accuracy'])\n",
    "    generator = generateXYchunk(profilemat, df_train, fam_map , posi_percent= .5 , nsamples = 50 )\n",
    "    sample = next(generator)\n",
    "\n",
    "\n",
    "    model.fit(itertools.cycle(generator) , steps_per_epoch = 300 , epochs = 50, callbacks=callbacks)\n",
    "    # Save the model\n",
    "    model.save(modelpath)\n",
    "\n"
   ]
  },
  {
   "cell_type": "code",
   "execution_count": 87,
   "metadata": {},
   "outputs": [
    {
     "name": "stdout",
     "output_type": "stream",
     "text": [
      "string\n"
     ]
    },
    {
     "ename": "NameError",
     "evalue": "name 'explicit_profiles' is not defined",
     "output_type": "error",
     "traceback": [
      "\u001b[0;31m---------------------------------------------------------------------------\u001b[0m",
      "\u001b[0;31mNameError\u001b[0m                                 Traceback (most recent call last)",
      "\u001b[0;32m/tmp/4227886/ipykernel_628023/1505418092.py\u001b[0m in \u001b[0;36m<module>\u001b[0;34m\u001b[0m\n\u001b[1;32m     21\u001b[0m         \u001b[0mmodel\u001b[0m\u001b[0;34m.\u001b[0m\u001b[0madd\u001b[0m\u001b[0;34m(\u001b[0m\u001b[0mDense\u001b[0m\u001b[0;34m(\u001b[0m\u001b[0munits\u001b[0m\u001b[0;34m=\u001b[0m\u001b[0;36m1\u001b[0m\u001b[0;34m,\u001b[0m \u001b[0mactivation\u001b[0m\u001b[0;34m=\u001b[0m\u001b[0;34m'sigmoid'\u001b[0m \u001b[0;34m)\u001b[0m \u001b[0;34m)\u001b[0m\u001b[0;34m\u001b[0m\u001b[0;34m\u001b[0m\u001b[0m\n\u001b[1;32m     22\u001b[0m     \u001b[0mmodel\u001b[0m\u001b[0;34m.\u001b[0m\u001b[0mcompile\u001b[0m\u001b[0;34m(\u001b[0m\u001b[0mloss\u001b[0m\u001b[0;34m=\u001b[0m\u001b[0;34m'binary_crossentropy'\u001b[0m\u001b[0;34m,\u001b[0m \u001b[0moptimizer\u001b[0m\u001b[0;34m=\u001b[0m\u001b[0;34m'ADAGRAD'\u001b[0m\u001b[0;34m,\u001b[0m \u001b[0mmetrics\u001b[0m\u001b[0;34m=\u001b[0m\u001b[0;34m[\u001b[0m\u001b[0;34m'accuracy'\u001b[0m\u001b[0;34m]\u001b[0m\u001b[0;34m)\u001b[0m\u001b[0;34m\u001b[0m\u001b[0;34m\u001b[0m\u001b[0m\n\u001b[0;32m---> 23\u001b[0;31m     \u001b[0mgenerator\u001b[0m \u001b[0;34m=\u001b[0m \u001b[0mgenerateXYchunk_blurred\u001b[0m\u001b[0;34m(\u001b[0m\u001b[0mexplicit_profiles\u001b[0m\u001b[0;34m,\u001b[0m \u001b[0mgoldstandardDF\u001b[0m\u001b[0;34m,\u001b[0m\u001b[0mfam_map\u001b[0m\u001b[0;34m,\u001b[0m  \u001b[0mconnectmat\u001b[0m\u001b[0;34m,\u001b[0m \u001b[0mnsamples\u001b[0m\u001b[0;34m=\u001b[0m\u001b[0;36m100\u001b[0m\u001b[0;34m,\u001b[0m \u001b[0mposi_percent\u001b[0m \u001b[0;34m=\u001b[0m \u001b[0;36m.5\u001b[0m \u001b[0;34m,\u001b[0m \u001b[0mnblurs\u001b[0m \u001b[0;34m=\u001b[0m \u001b[0;36m10\u001b[0m \u001b[0;34m)\u001b[0m\u001b[0;34m\u001b[0m\u001b[0;34m\u001b[0m\u001b[0m\n\u001b[0m\u001b[1;32m     24\u001b[0m     \u001b[0msample\u001b[0m \u001b[0;34m=\u001b[0m \u001b[0mnext\u001b[0m\u001b[0;34m(\u001b[0m\u001b[0mgenerator\u001b[0m\u001b[0;34m)\u001b[0m\u001b[0;34m\u001b[0m\u001b[0;34m\u001b[0m\u001b[0m\n\u001b[1;32m     25\u001b[0m     \u001b[0mmodel\u001b[0m\u001b[0;34m.\u001b[0m\u001b[0mfit_generator\u001b[0m\u001b[0;34m(\u001b[0m\u001b[0mitertools\u001b[0m\u001b[0;34m.\u001b[0m\u001b[0mcycle\u001b[0m\u001b[0;34m(\u001b[0m\u001b[0mgenerator\u001b[0m\u001b[0;34m)\u001b[0m \u001b[0;34m,\u001b[0m \u001b[0msteps_per_epoch\u001b[0m \u001b[0;34m=\u001b[0m \u001b[0;36m3000\u001b[0m \u001b[0;34m,\u001b[0m \u001b[0mepochs\u001b[0m \u001b[0;34m=\u001b[0m \u001b[0;36m100\u001b[0m\u001b[0;34m,\u001b[0m  \u001b[0mcallbacks\u001b[0m\u001b[0;34m=\u001b[0m\u001b[0mcallbacks\u001b[0m\u001b[0;34m)\u001b[0m\u001b[0;34m\u001b[0m\u001b[0;34m\u001b[0m\u001b[0m\n",
      "\u001b[0;31mNameError\u001b[0m: name 'explicit_profiles' is not defined"
     ]
    }
   ],
   "source": [
    "#fit a model on blurred datasets\n",
    "for dataset in Datasets:\n",
    "    print(dataset)\n",
    "    df_train = Datasets[label]['Train']\n",
    "    fam_map = Datasets[label]['mapping']\n",
    "    profilemat = Datasets[label]['mat']\n",
    "    \n",
    "    callbacks = [\n",
    "    tf.keras.callbacks.EarlyStopping(patience=2),\n",
    "    tf.keras.callbacks.TensorBoard(log_dir= modelpath+'.logs'),\n",
    "    ]\n",
    "        \n",
    "    modelpath = './'+label+'_blurred_dropout_DNN.h5'\n",
    "    if os.path.exists(modelpath):\n",
    "        model = load_model(modelpath)\n",
    "    else:\n",
    "        model = Sequential()\n",
    "        model.add(Dense(units=100, activation='sigmoid', input_dim=profilemat.shape[1]*2))\n",
    "        model.add(tf.keras.layers.Dropout( .1 , seed=42 ))\n",
    "        model.add(Dense(units=20, activation='sigmoid' ) )\n",
    "        model.add(Dense(units=1, activation='sigmoid' ) )\n",
    "    model.compile(loss='binary_crossentropy', optimizer='ADAGRAD', metrics=['accuracy'])\n",
    "    generator = generateXYchunk_blurred(explicit_profiles, goldstandardDF,fam_map,  connectmat, nsamples=100, posi_percent = .5 , nblurs = 10 )\n",
    "    sample = next(generator)\n",
    "    model.fit_generator(itertools.cycle(generator) , steps_per_epoch = 3000 , epochs = 100,  callbacks=callbacks)\n",
    "    # Save the model\n",
    "    model.save(modelpath)"
   ]
  },
  {
   "cell_type": "code",
   "execution_count": 101,
   "metadata": {},
   "outputs": [
    {
     "name": "stdout",
     "output_type": "stream",
     "text": [
      "string\n",
      "Euclidean\n",
      "Hamming\n",
      "Jaccard\n",
      "Pearson\n",
      "DNN\n",
      "(5434, 21048)\n",
      "(21048,)\n",
      "{'Euclidean': {'Ypred': array([-38.20994635, -16.46207763, -23.3023604 , ..., -12.4498996 ,\n",
      "       -14.14213562, -16.97056275]), 'Ytrue': array([0, 0, 0, ..., 1, 1, 1])}, 'Hamming': {'Ypred': array([-0.13616496, -0.06347396, -0.06812999, ..., -0.06071836,\n",
      "       -0.03705815, -0.13207906]), 'Ytrue': array([0, 0, 0, ..., 1, 1, 1])}, 'Jaccard': {'Ypred': array([-0.96355775, -0.7011041 , -0.71235195, ..., -0.95955591,\n",
      "       -0.46938776, -1.        ]), 'Ytrue': array([0, 0, 0, ..., 1, 1, 1])}, 'Pearson': {'Ypred': array([-0.0449238 , -0.02620872, -0.00338594, ...,  0.24178361,\n",
      "        0.90457148,  0.50403868]), 'Ytrue': array([0, 0, 0, ..., 1, 1, 1])}, 'DNN': {'Ypred': array([[0.26558483],\n",
      "       [0.4927609 ],\n",
      "       [0.15584156],\n",
      "       ...,\n",
      "       [0.99916923],\n",
      "       [0.99540293],\n",
      "       [0.9996957 ]], dtype=float32), 'Ytrue': array([0, 0, 0, ..., 1, 1, 1])}}\n",
      "Euclidean\n",
      "Hamming\n",
      "Jaccard\n",
      "Pearson\n",
      "DNN\n"
     ]
    },
    {
     "data": {
      "image/png": "[encoded data removed]",
      "text/plain": [
       "<Figure size 720x720 with 1 Axes>"
      ]
     },
     "metadata": {
      "needs_background": "light"
     },
     "output_type": "display_data"
    },
    {
     "data": {
      "image/png": "[encoded data removed]",
      "text/plain": [
       "<Figure size 720x720 with 1 Axes>"
      ]
     },
     "metadata": {
      "needs_background": "light"
     },
     "output_type": "display_data"
    },
    {
     "name": "stdout",
     "output_type": "stream",
     "text": [
      "humap\n",
      "Euclidean\n",
      "Hamming\n",
      "Jaccard\n",
      "Pearson\n",
      "DNN\n",
      "(3330, 21048)\n",
      "(21048,)\n",
      "{'Euclidean': {'Ypred': array([-66.30233782, -23.        , -65.58200973, ..., -65.03076195,\n",
      "       -14.76482306, -33.98529094]), 'Ytrue': array([0, 0, 0, ..., 1, 1, 1])}, 'Hamming': {'Ypred': array([-0.08105283, -0.03420753, -0.03933865, ..., -0.05368681,\n",
      "       -0.0336374 , -0.02974154]), 'Ytrue': array([0, 0, 0, ..., 1, 1, 1])}, 'Jaccard': {'Ypred': array([-0.8990755 , -0.89202091, -0.83560545, ..., -0.80756686,\n",
      "       -0.88903366, -0.53139357]), 'Ytrue': array([0, 0, 0, ..., 1, 1, 1])}, 'Pearson': {'Ypred': array([0.26235699, 0.86068834, 0.18111379, ..., 0.43812432, 0.76407524,\n",
      "       0.1041981 ]), 'Ytrue': array([0, 0, 0, ..., 1, 1, 1])}, 'DNN': {'Ypred': array([[0.04479706],\n",
      "       [0.00482899],\n",
      "       [0.00224611],\n",
      "       ...,\n",
      "       [0.9528651 ],\n",
      "       [0.9207498 ],\n",
      "       [0.9565439 ]], dtype=float32), 'Ytrue': array([0, 0, 0, ..., 1, 1, 1])}}\n",
      "Euclidean\n",
      "Hamming\n",
      "Jaccard\n",
      "Pearson\n",
      "DNN\n"
     ]
    },
    {
     "data": {
      "image/png": "[encoded data removed]",
      "text/plain": [
       "<Figure size 720x720 with 1 Axes>"
      ]
     },
     "metadata": {
      "needs_background": "light"
     },
     "output_type": "display_data"
    },
    {
     "data": {
      "image/png": "[encoded data removed]",
      "text/plain": [
       "<Figure size 720x720 with 1 Axes>"
      ]
     },
     "metadata": {
      "needs_background": "light"
     },
     "output_type": "display_data"
    }
   ],
   "source": [
    "#normal distance metrics to try\n",
    "\n",
    "from scipy.spatial.distance import euclidean , hamming, jaccard\n",
    "from sklearn.covariance import empirical_covariance\n",
    "from scipy.stats import pearsonr\n",
    "from keract import get_activations\n",
    "def pearsonR(v1,v2):\n",
    "        return -pearsonr(v1,v2)[0]\n",
    "\n",
    "for label in Datasets:\n",
    "    print(label)\n",
    "    df_test = Datasets[label]['Test']\n",
    "    fam_map = Datasets[label]['mapping']\n",
    "    profilemat = Datasets[label]['mat']\n",
    "    ydata =  {}\n",
    "\n",
    "    for func, name in [ (euclidean, 'Euclidean' ), (hamming,'Hamming') , (jaccard,'Jaccard') , (pearsonR,'Pearson') ]:\n",
    "        print(name)\n",
    "        generator = generateXYchunk(profilemat, df_test, fam_map , posi_percent= .5 , nsamples = 50 )\n",
    "        #test all the easy metrics\n",
    "        ypreds = []\n",
    "        ytruth = []\n",
    "        for X,y in generator:\n",
    "            #distances\n",
    "            x1 = X[:,0:int(X.shape[1]/2)]\n",
    "            x2 = X[:,int(X.shape[1]/2):]\n",
    "            predictions = np.array([ -func(x1[r,:],x2[r,:] ) for r in range(x1.shape[0]) ])\n",
    "            ypreds.append(predictions)\n",
    "            ytruth.append(y)\n",
    "        ytest= np.hstack(ytruth)\n",
    "        ypred = np.hstack(ypreds)\n",
    "        ydata[name] = { 'Ypred': ypred , 'Ytrue':ytest} \n",
    "    #get DNN values\n",
    "    print('DNN')\n",
    "    generator = generateXYchunk(profilemat, df_test, fam_map , posi_percent= .5 , nsamples = 50 )\n",
    "    mats = [(x,y) for x,y in generator ]\n",
    "    X_test = np.vstack([x for x,y in mats])\n",
    "    y_test = np.hstack([y for x,y in mats])\n",
    "    \n",
    "    \n",
    "    modelpath = './'+label+'_dropout_DNN.h5'\n",
    "    if os.path.exists(modelpath):\n",
    "        model = load_model(modelpath)\n",
    "    ypred = model.predict(X_test)\n",
    "    \n",
    "    activations = get_activations(model, X_test , auto_compile=True)\n",
    "    activations = activations[list(activations.keys())[0]]\n",
    "    print( activations.shape)\n",
    "    n_samples = activations.shape[0]\n",
    "    activations = np.sum(activations,axis =0)/n_samples\n",
    "    representations = np.sum(X_test, axis = 0)\n",
    "    \n",
    "    print(activations.shape)\n",
    "    \n",
    "    np.save(modelpath + 'activation.np' , activations)\n",
    "    np.save(modelpath + 'representation.np', representations)\n",
    "    \n",
    "    ydata['DNN'] ={ 'Ypred': ypred , 'Ytrue':ytest}\n",
    "    #plot ROC\n",
    "    print(ydata)\n",
    "    ROC_curve(ydata , label = label)\n",
    "    plt.show()\n"
   ]
  },
  {
   "cell_type": "code",
   "execution_count": null,
   "metadata": {},
   "outputs": [],
   "source": []
  },
  {
   "cell_type": "code",
   "execution_count": null,
   "metadata": {},
   "outputs": [],
   "source": [
    "#retrain the DNN for blurred dataset\n"
   ]
  },
  {
   "cell_type": "code",
   "execution_count": null,
   "metadata": {},
   "outputs": [],
   "source": [
    "#try with blurring using the connectivity map / graph laplacian\n",
    "\n",
    "\n",
    "generator = generateXYchunk(explicit_profiles, gold_standard , posi_percent= .5 , nsamples = 50 )\n",
    "#test all the easy metrics\n",
    "for X,y in generator:\n",
    "    #distances\n",
    "    \n",
    "    #DNN\n",
    "    \n",
    "\n"
   ]
  },
  {
   "cell_type": "code",
   "execution_count": null,
   "metadata": {},
   "outputs": [],
   "source": [
    "#see the model activation!\n",
    "#load models\n",
    "\n",
    "#which taxa are the most informative for human\n",
    "for label in Datasets:\n",
    "    gen = generateXYchunk(explicit_profiles, gold_standard , posi_percent= .5 , nsamples = 50 )\n",
    "    activations = np.vstack([ get_activations(model, x, auto_compile=True) for x,y in gen])\n",
    "    n_samples = activations.shape[0]\n",
    "    activations = np.sum(activations,axis =0)/n_samples\n",
    "    #paint activations to each node of the species tree\n",
    "    \n",
    "    #visualize\n"
   ]
  },
  {
   "cell_type": "code",
   "execution_count": null,
   "metadata": {},
   "outputs": [],
   "source": [
    "#test the interaction detection power of just the jkern first\n",
    "\n",
    "import multiprocessing as mp\n",
    "#generate submatrices for inversion\n",
    "\n",
    "hashes = p.pull_hashes(fams)\n",
    "\n",
    "\n",
    "def yieldpairs(hashes):\n",
    "    for i,h1 in enumerate(hashes):\n",
    "        for j,h2 in enumerate(hashes):\n",
    "            if i < j:\n",
    "                yield [i,j,h1,h2]\n",
    "def distance(work):\n",
    "    i,j,h1,h2 = work\n",
    "    return [i,j,h1.jaccard(h2)]\n",
    "\n",
    "pool = mp.Pool()\n",
    "hashes = list(hashes.values())\n",
    "res = pool.map_async( distance , yieldpairs(hashes)).get()\n",
    "i,j, dist = zip(*res)\n",
    "jkern = np.zeros( (len(hashes),len(hashes)))\n",
    "jkern[i,j]=dist\n",
    "jkern += jkern.T\n",
    "np.fill_diagonal(jkern, 1)\n",
    "\n",
    "pool.close()"
   ]
  },
  {
   "cell_type": "code",
   "execution_count": null,
   "metadata": {},
   "outputs": [],
   "source": [
    "\n",
    "sns.heatmap(jkern)\n",
    "plt.show()\n",
    "\n",
    "sns.heatmap(connectmat_binary)\n",
    "plt.show()\n",
    "\n",
    "\n",
    "\n",
    "ROC_curve_single( connectmat_binary.ravel()  , jkern.ravel() )\n",
    "\n",
    "#ROC_curve_single(connectmat_binary.ravel() , predmat.ravel() )\n"
   ]
  },
  {
   "cell_type": "code",
   "execution_count": null,
   "metadata": {},
   "outputs": [],
   "source": []
  },
  {
   "cell_type": "code",
   "execution_count": null,
   "metadata": {},
   "outputs": [],
   "source": [
    "pip install tf2_gnn"
   ]
  },
  {
   "cell_type": "code",
   "execution_count": null,
   "metadata": {},
   "outputs": [],
   "source": [
    "#bonus graph neural networks\n",
    "\n",
    "#encode phylogenies as graphs\n",
    "\n",
    "#make sandwhich layer\n",
    "\n",
    "\n",
    "#train graph nn receptive field\n",
    "\n",
    "\n",
    "#predict on human node\n",
    "\n",
    "#predict on several nodes\n",
    "#use string data and get all interaction interlogs\n",
    "\n",
    "#propagate the feature of interaction using fitch in sandwhich layer\n",
    "\n",
    "#compare AUC in different branches\n",
    "\n"
   ]
  },
  {
   "cell_type": "code",
   "execution_count": null,
   "metadata": {},
   "outputs": [],
   "source": []
  }
 ],
 "metadata": {
  "kernelspec": {
   "display_name": "Python 3 (ipykernel)",
   "language": "python",
   "name": "python3"
  },
  "language_info": {
   "codemirror_mode": {
    "name": "ipython",
    "version": 3
   },
   "file_extension": ".py",
   "mimetype": "text/x-python",
   "name": "python",
   "nbconvert_exporter": "python",
   "pygments_lexer": "ipython3",
   "version": "3.9.7"
  }
 },
 "nbformat": 4,
 "nbformat_minor": 4
}
