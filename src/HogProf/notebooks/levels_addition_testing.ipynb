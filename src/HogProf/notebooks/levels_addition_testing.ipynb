{
 "cells": [
  {
   "cell_type": "markdown",
   "metadata": {},
   "source": [
    "### imports"
   ]
  },
  {
   "cell_type": "code",
   "execution_count": 1,
   "metadata": {},
   "outputs": [
    {
     "name": "stdout",
     "output_type": "stream",
     "text": [
      "Current working directory: /work/FAC/FBM/DBC/cdessim2/default/agavriilidou\n",
      "Successfully imported lshbuilder.\n",
      "Successfully imported pyhamutils and hashutils.\n"
     ]
    }
   ],
   "source": [
    "import sys\n",
    "import os\n",
    "import time\n",
    "from tables import *\n",
    "from datetime import datetime\n",
    "\n",
    "\n",
    "# Get the current working directory\n",
    "current_directory = os.getcwd()\n",
    "print(f\"Current working directory: {current_directory}\")\n",
    "\n",
    "# Add the parent directory 'HogProf/src/HogProf' to sys.path (for importing lshbuilder)\n",
    "sys.path.append(os.path.abspath('HogProf/src/HogProf'))\n",
    "\n",
    "# Import lshbuilder module from the parent directory\n",
    "try:\n",
    "    import lshbuilder\n",
    "    print(\"Successfully imported lshbuilder.\")\n",
    "except ImportError as e:\n",
    "    print(f\"Error importing lshbuilder: {e}\")\n",
    "\n",
    "# Add the utils directory 'HogProf/src/HogProf/utils' to sys.path (for importing phyhamutils and hashutils)\n",
    "sys.path.append(os.path.abspath('HogProf/src/HogProf/utils'))\n",
    "\n",
    "# Import phyhamutils and hashutils from the utils directory\n",
    "try:\n",
    "    import pyhamutils\n",
    "    import hashutils\n",
    "    print(\"Successfully imported pyhamutils and hashutils.\")\n",
    "except ImportError as e:\n",
    "    print(f\"Error importing pyhamutils or hashutils: {e}\")\n"
   ]
  },
  {
   "cell_type": "markdown",
   "metadata": {},
   "source": [
    "### lshbuilder main function"
   ]
  },
  {
   "cell_type": "code",
   "execution_count": 2,
   "metadata": {},
   "outputs": [],
   "source": [
    "def lshbuilder_main(dbname, orthoglob=None, nperm=256, omafile=None, taxfilter=None, taxmask=None, weights=None, \n",
    "mastertree=None, lossonly=False, duplonly=False, taxcodes=False, verbose=False, reformat_names=False, threads=4,\n",
    "dbtype=None):\n",
    "    '''\n",
    "    parser = argparse.ArgumentParser()\n",
    "    parser.add_argument('--taxweights', help='load optimised weights from keras model',type = str)\n",
    "    parser.add_argument('--taxmask', help='consider only one branch',type = str)\n",
    "    parser.add_argument('--taxfilter', help='remove these taxa' , type = str)\n",
    "    parser.add_argument('--outpath', help='name of the db', type = str)\n",
    "    parser.add_argument('--dbtype', help='preconfigured taxonomic ranges' , type = str)\n",
    "    parser.add_argument('--OMA', help='use oma data ' , type = str)\n",
    "    parser.add_argument('--OrthoGlob', help='a glob expression for orthoxml files ' , type = str)\n",
    "    parser.add_argument('--tarfile', help='use tarfile with orthoxml data ' , type = str)\n",
    "    parser.add_argument('--nperm', help='number of hash functions to use when constructing profiles' , type = int)\n",
    "    parser.add_argument('--mastertree', help='master taxonomic tree. nodes should correspond to orthoxml' , type = str)\n",
    "    \n",
    "    parser.add_argument('--nthreads', help='nthreads for multiprocessing' , type = int)\n",
    "    parser.add_argument('--lossonly', help='only compile loss events' , type = bool)\n",
    "    parser.add_argument('--duplonly', help='only compile duplication events' , type = bool)\n",
    "    parser.add_argument('--taxcodes', help='use taxid info in HOGs' , type = str)\n",
    "    parser.add_argument('--verbose', help='print verbose output' , type = bool)\n",
    "    parser.add_argument('--reformat_names', help='try to correct broken species trees by replacing all names with numbers.' , type = bool)\n",
    "    '''\n",
    "    ### the following dictionary may be outdated or does not work with reformat_names (14.10.2024)\n",
    "    dbdict = {\n",
    "        'all': { 'taxfilter': None , 'taxmask': None },\n",
    "        'plants': { 'taxfilter': None , 'taxmask': 33090 },\n",
    "        'archaea':{ 'taxfilter': None , 'taxmask': 2157 },\n",
    "        'bacteria':{ 'taxfilter': None , 'taxmask': 2 },\n",
    "        'eukarya':{ 'taxfilter': None , 'taxmask': 2759 },\n",
    "        'protists':{ 'taxfilter': [2 , 2157 , 33090 , 4751, 33208] , 'taxmask':None },\n",
    "        'fungi':{ 'taxfilter': None , 'taxmask': 4751 },\n",
    "        'metazoa':{ 'taxfilter': None , 'taxmask': 33208 },\n",
    "        'vertebrates':{ 'taxfilter': None , 'taxmask': 7742 },\n",
    "    }\n",
    "\n",
    "    if dbtype:\n",
    "        taxfilter = dbdict[dbtype]['taxfilter']\n",
    "        taxmask = dbdict[dbtype]['taxmask']\n",
    "        print('using dbtype', dbtype, 'with taxfilter', taxfilter, 'and taxmask', taxmask)\n",
    "\n",
    "    if weights:\n",
    "        from keras.models import model_from_json\n",
    "        json_file = open(  args['taxweights']+ '.json', 'r')\n",
    "        loaded_model_json = json_file.read()\n",
    "        json_file.close()\n",
    "        model = model_from_json(loaded_model_json)\n",
    "        # load weights into new model\n",
    "        model.load_weights(  args['taxweights']+\".h5\")\n",
    "        print(\"Loaded model from disk\")\n",
    "        weights = model.get_weights()[0]\n",
    "        weights += 10 ** -10\n",
    "\n",
    "    start = time.time()\n",
    "    if omafile:\n",
    "        with open_file( omafile , mode=\"r\") as h5_oma:\n",
    "            lsh_builder = lshbuilder.LSHBuilder(h5_oma = h5_oma,  fileglob=orthoglob ,saving_name=dbname , numperm = nperm ,\n",
    "            treeweights= weights , taxfilter = taxfilter, taxmask=taxmask , masterTree =mastertree , \n",
    "            lossonly = lossonly , duplonly = duplonly , use_taxcodes = taxcodes , reformat_names=reformat_names, verbose=verbose )\n",
    "            #### maybe here is where load_one and saver are needed instaed of the run_pipeline!!!!!!!!!!!!!!!!!!!!!!!!!!!!!!\n",
    "            lsh_builder.run_pipeline(threads)\n",
    "    else:\n",
    "        lsh_builder = lshbuilder.LSHBuilder(h5_oma = None,  fileglob=orthoglob ,saving_name=dbname , numperm = nperm ,\n",
    "        treeweights= weights , taxfilter = taxfilter, taxmask=taxmask ,\n",
    "          masterTree =mastertree , lossonly = lossonly , duplonly = duplonly , use_taxcodes = taxcodes , reformat_names=reformat_names, verbose=verbose)\n",
    "        lsh_builder.run_pipeline(threads)\n",
    "    print(time.time() - start)\n",
    "    print('DONE')"
   ]
  },
  {
   "cell_type": "markdown",
   "metadata": {},
   "source": [
    "### testing"
   ]
  },
  {
   "cell_type": "code",
   "execution_count": null,
   "metadata": {},
   "outputs": [
    {
     "name": "stdout",
     "output_type": "stream",
     "text": [
      "initializing LSHBuilder\n",
      "reformatted tree\n",
      "taxmask Toxicofera\n",
      "changed tree string (3844:1,(3904:1,3905:1)3845:1,(((4005:1,4006:1)3956:1,(4007:1,4008:1)3957:1,(4009:1,4010:1)3958:1)3906:1,3907:1)3846:1)3778:1;\n",
      "Number of nodes before change: 4115\n",
      "making tree weights w n taxa = : 17\n",
      "\n",
      "configuring pyham functions\n",
      "swap ids False\n",
      "reformat names True\n",
      "use phyloxml False\n",
      "use taxcodes False\n",
      "reading oma hdf5 with n groups: 1040435\n",
      "done\n",
      "\n",
      "run w n threads: 1\n",
      "start workers\n"
     ]
    },
    {
     "name": "stderr",
     "output_type": "stream",
     "text": [
      "0it [00:00, ?it/s]"
     ]
    },
    {
     "name": "stdout",
     "output_type": "stream",
     "text": [
      "worker init 0creating dataset\n",
      "\n",
      "filtered at taxonomic level: NoFilter_Mask3778\n",
      "{}\n",
      "saver init 0\n",
      "generating dataframes\n"
     ]
    },
    {
     "name": "stderr",
     "output_type": "stream",
     "text": [
      "1it [00:00,  1.37it/s]"
     ]
    },
    {
     "name": "stdout",
     "output_type": "stream",
     "text": [
      "No top level hogs found\n",
      "No top level hogs found\n",
      "No top level hogs found\n",
      "No top level hogs found\n",
      "No top level hogs found\n",
      "No top level hogs found\n",
      "No top level hogs found\n",
      "No top level hogs found\n",
      "No top level hogs found\n",
      "No top level hogs found\n",
      "No top level hogs found\n",
      "No top level hogs found\n",
      "No top level hogs found\n",
      "No top level hogs found\n",
      "No top level hogs found\n",
      "No top level hogs found\n",
      "No top level hogs found\n",
      "No top level hogs found\n",
      "No top level hogs found\n",
      "No top level hogs found\n",
      "No top level hogs found\n",
      "No top level hogs found\n",
      "No top level hogs found\n",
      "No top level hogs found\n",
      "No top level hogs found\n",
      "No top level hogs found\n"
     ]
    },
    {
     "name": "stderr",
     "output_type": "stream",
     "text": [
      "2it [00:01,  1.42it/s]"
     ]
    },
    {
     "name": "stdout",
     "output_type": "stream",
     "text": [
      "No top level hogs found\n",
      "No top level hogs found\n",
      "No top level hogs found\n",
      "No top level hogs found\n",
      "No top level hogs found\n",
      "No top level hogs found\n",
      "No top level hogs found\n",
      "No top level hogs found\n",
      "No top level hogs found\n",
      "No top level hogs found\n",
      "No top level hogs found\n",
      "No top level hogs found\n",
      "No top level hogs found\n",
      "No top level hogs found\n",
      "No top level hogs found\n",
      "No top level hogs found\n",
      "No top level hogs found\n",
      "No top level hogs found\n",
      "No top level hogs found\n",
      "No top level hogs found\n",
      "No top level hogs found\n",
      "No top level hogs found\n",
      "No top level hogs found\n",
      "No top level hogs found\n",
      "No top level hogs found\n",
      "No top level hogs found\n",
      "No top level hogs found"
     ]
    },
    {
     "name": "stderr",
     "output_type": "stream",
     "text": [
      "3it [00:02,  1.41it/s]"
     ]
    },
    {
     "name": "stdout",
     "output_type": "stream",
     "text": [
      "\n",
      "No top level hogs found\n",
      "No top level hogs found\n",
      "No top level hogs found\n",
      "No top level hogs found\n",
      "No top level hogs found\n",
      "No top level hogs found\n",
      "No top level hogs found\n",
      "No top level hogs found\n",
      "No top level hogs found\n",
      "No top level hogs found\n",
      "No top level hogs found\n",
      "No top level hogs found\n",
      "No top level hogs found\n",
      "No top level hogs found\n",
      "No top level hogs found\n",
      "No top level hogs found\n",
      "No top level hogs found\n",
      "No top level hogs found\n",
      "No top level hogs found\n",
      "No top level hogs found\n",
      "No top level hogs found\n",
      "No top level hogs found\n",
      "No top level hogs found\n",
      "No top level hogs found\n",
      "No top level hogs found\n",
      "No top level hogs found"
     ]
    },
    {
     "name": "stderr",
     "output_type": "stream",
     "text": [
      "4it [00:02,  1.51it/s]"
     ]
    },
    {
     "name": "stdout",
     "output_type": "stream",
     "text": [
      "\n",
      "No top level hogs found\n",
      "No top level hogs found\n",
      "No top level hogs found\n",
      "No top level hogs found\n",
      "No top level hogs found\n",
      "No top level hogs found\n",
      "No top level hogs found\n",
      "No top level hogs found\n",
      "No top level hogs found\n",
      "No top level hogs found\n",
      "No top level hogs found\n",
      "No top level hogs found\n",
      "No top level hogs found\n",
      "No top level hogs found\n",
      "No top level hogs found\n",
      "No top level hogs found\n",
      "No top level hogs found\n",
      "No top level hogs found\n",
      "No top level hogs found\n",
      "No top level hogs found\n",
      "No top level hogs found\n",
      "No top level hogs found\n",
      "No top level hogs found\n"
     ]
    },
    {
     "name": "stderr",
     "output_type": "stream",
     "text": [
      "5it [00:03,  1.47it/s]"
     ]
    },
    {
     "name": "stdout",
     "output_type": "stream",
     "text": [
      "No top level hogs found\n",
      "No top level hogs found\n",
      "No top level hogs found\n",
      "No top level hogs found\n",
      "No top level hogs found\n",
      "No top level hogs found\n",
      "No top level hogs found\n",
      "No top level hogs found\n",
      "No top level hogs found\n",
      "No top level hogs found\n",
      "No top level hogs found\n",
      "No top level hogs found\n",
      "No top level hogs found\n",
      "No top level hogs found\n",
      "No top level hogs found\n",
      "No top level hogs found\n",
      "No top level hogs found\n",
      "No top level hogs found\n",
      "No top level hogs found\n",
      "No top level hogs found\n",
      "No top level hogs found\n",
      "No top level hogs found\n",
      "No top level hogs found\n",
      "No top level hogs found\n",
      "No top level hogs found\n",
      "No top level hogs found\n",
      "No top level hogs found\n"
     ]
    },
    {
     "name": "stderr",
     "output_type": "stream",
     "text": [
      "6it [00:04,  1.52it/s]"
     ]
    },
    {
     "name": "stdout",
     "output_type": "stream",
     "text": [
      "No top level hogs found\n",
      "No top level hogs found\n",
      "No top level hogs found\n",
      "No top level hogs found\n",
      "No top level hogs found\n",
      "No top level hogs found\n",
      "No top level hogs found\n",
      "No top level hogs found\n",
      "No top level hogs found\n",
      "No top level hogs found\n",
      "No top level hogs found\n",
      "No top level hogs found\n",
      "No top level hogs found\n",
      "No top level hogs found\n",
      "No top level hogs found\n",
      "No top level hogs found\n",
      "No top level hogs found\n",
      "No top level hogs found\n",
      "No top level hogs found\n",
      "No top level hogs found\n",
      "No top level hogs found\n",
      "No top level hogs found\n",
      "No top level hogs found\n",
      "No top level hogs found\n",
      "No top level hogs found"
     ]
    },
    {
     "name": "stderr",
     "output_type": "stream",
     "text": [
      "7it [00:04,  1.52it/s]"
     ]
    },
    {
     "name": "stdout",
     "output_type": "stream",
     "text": [
      "\n",
      "No top level hogs found\n",
      "No top level hogs found\n",
      "No top level hogs found\n",
      "No top level hogs found\n",
      "No top level hogs found\n",
      "No top level hogs found\n",
      "No top level hogs found\n",
      "No top level hogs found\n",
      "No top level hogs found\n",
      "No top level hogs found\n",
      "No top level hogs found\n",
      "No top level hogs found\n",
      "No top level hogs found\n",
      "No top level hogs found\n",
      "No top level hogs found\n",
      "No top level hogs found\n",
      "No top level hogs found\n",
      "No top level hogs found\n",
      "No top level hogs found\n",
      "No top level hogs found\n",
      "No top level hogs found\n",
      "No top level hogs found\n",
      "No top level hogs found\n",
      "No top level hogs found\n",
      "No top level hogs found\n"
     ]
    },
    {
     "name": "stderr",
     "output_type": "stream",
     "text": [
      "8it [00:05,  1.51it/s]"
     ]
    },
    {
     "name": "stdout",
     "output_type": "stream",
     "text": [
      "No top level hogs found\n",
      "No top level hogs found\n",
      "No top level hogs found\n",
      "No top level hogs found\n",
      "No top level hogs found\n",
      "No top level hogs found\n",
      "No top level hogs found\n",
      "No top level hogs found\n",
      "No top level hogs found\n",
      "No top level hogs found\n",
      "No top level hogs found\n",
      "No top level hogs found\n",
      "No top level hogs found\n",
      "No top level hogs found\n",
      "No top level hogs found\n",
      "No top level hogs found\n",
      "No top level hogs found\n",
      "No top level hogs found\n",
      "No top level hogs found\n",
      "No top level hogs found\n",
      "No top level hogs found\n",
      "No top level hogs found\n",
      "No top level hogs found\n",
      "No top level hogs found\n"
     ]
    },
    {
     "name": "stderr",
     "output_type": "stream",
     "text": [
      "9it [00:05,  1.57it/s]"
     ]
    },
    {
     "name": "stdout",
     "output_type": "stream",
     "text": [
      "No top level hogs found\n",
      "No top level hogs found\n",
      "No top level hogs found\n",
      "No top level hogs found\n",
      "No top level hogs found\n",
      "No top level hogs found\n",
      "No top level hogs found\n",
      "No top level hogs found\n",
      "No top level hogs found\n",
      "No top level hogs found\n",
      "No top level hogs found\n",
      "No top level hogs found\n",
      "No top level hogs found\n",
      "No top level hogs found\n",
      "No top level hogs found\n",
      "No top level hogs found\n",
      "No top level hogs found\n",
      "No top level hogs found\n",
      "No top level hogs found\n",
      "No top level hogs found\n",
      "No top level hogs found\n",
      "No top level hogs found\n"
     ]
    },
    {
     "name": "stderr",
     "output_type": "stream",
     "text": [
      "10it [00:06,  1.61it/s]"
     ]
    },
    {
     "name": "stdout",
     "output_type": "stream",
     "text": [
      "No top level hogs found\n",
      "No top level hogs found\n",
      "No top level hogs found\n",
      "No top level hogs found\n",
      "No top level hogs found\n",
      "No top level hogs found\n",
      "No top level hogs found\n",
      "No top level hogs found\n",
      "No top level hogs found\n",
      "No top level hogs found\n",
      "No top level hogs found\n",
      "No top level hogs found\n",
      "No top level hogs found\n",
      "No top level hogs found\n",
      "No top level hogs found\n",
      "No top level hogs found\n",
      "No top level hogs found\n",
      "No top level hogs found\n",
      "No top level hogs found\n",
      "No top level hogs found\n",
      "No top level hogs found\n",
      "No top level hogs found\n",
      "No top level hogs found\n",
      "No top level hogs found\n",
      "No top level hogs found\n",
      "No top level hogs found\n"
     ]
    },
    {
     "name": "stderr",
     "output_type": "stream",
     "text": [
      "11it [00:07,  1.51it/s]"
     ]
    },
    {
     "name": "stdout",
     "output_type": "stream",
     "text": [
      "No top level hogs found\n",
      "No top level hogs found\n",
      "No top level hogs found\n",
      "No top level hogs found\n",
      "No top level hogs found\n",
      "No top level hogs found\n",
      "No top level hogs found\n",
      "No top level hogs found\n",
      "No top level hogs found\n",
      "No top level hogs found\n",
      "No top level hogs found\n",
      "No top level hogs found\n",
      "\n",
      "No top level hogs foundNo top level hogs found\n",
      "No top level hogs found\n",
      "No top level hogs found\n",
      "No top level hogs found\n",
      "No top level hogs found\n",
      "No top level hogs found\n",
      "No top level hogs found\n",
      "No top level hogs found\n",
      "No top level hogs found\n",
      "No top level hogs found\n",
      "No top level hogs found\n",
      "No top level hogs found\n",
      "No top level hogs found\n",
      "No top level hogs found\n",
      "No top level hogs found\n",
      "No top level hogs found\n",
      "No top level hogs found\n",
      "No top level hogs found"
     ]
    },
    {
     "name": "stderr",
     "output_type": "stream",
     "text": [
      "12it [00:08,  1.43it/s]"
     ]
    },
    {
     "name": "stdout",
     "output_type": "stream",
     "text": [
      "\n",
      "No top level hogs found\n",
      "No top level hogs found\n",
      "No top level hogs found\n",
      "No top level hogs found\n",
      "No top level hogs found\n",
      "No top level hogs found\n",
      "No top level hogs found\n",
      "No top level hogs found\n",
      "No top level hogs found\n",
      "No top level hogs found\n",
      "No top level hogs found\n",
      "No top level hogs found\n",
      "No top level hogs found\n",
      "No top level hogs found\n",
      "No top level hogs found\n",
      "No top level hogs found\n",
      "No top level hogs found\n",
      "No top level hogs found\n",
      "No top level hogs found\n",
      "No top level hogs found\n",
      "No top level hogs found\n",
      "No top level hogs found\n",
      "No top level hogs found\n",
      "No top level hogs found\n",
      "No top level hogs found\n"
     ]
    },
    {
     "name": "stderr",
     "output_type": "stream",
     "text": [
      "13it [00:08,  1.47it/s]"
     ]
    },
    {
     "name": "stdout",
     "output_type": "stream",
     "text": [
      "No top level hogs found\n",
      "No top level hogs found\n",
      "No top level hogs found\n",
      "No top level hogs found\n",
      "No top level hogs found\n",
      "No top level hogs found\n",
      "No top level hogs found\n",
      "No top level hogs found\n",
      "No top level hogs found\n",
      "No top level hogs found\n",
      "No top level hogs found\n",
      "No top level hogs found\n",
      "No top level hogs found\n",
      "No top level hogs found\n",
      "No top level hogs found\n",
      "No top level hogs found\n",
      "No top level hogs found\n",
      "No top level hogs found\n",
      "No top level hogs found\n",
      "No top level hogs found\n",
      "No top level hogs found\n"
     ]
    },
    {
     "name": "stderr",
     "output_type": "stream",
     "text": [
      "14it [00:09,  1.49it/s]"
     ]
    },
    {
     "name": "stdout",
     "output_type": "stream",
     "text": [
      "No top level hogs found\n",
      "No top level hogs found\n",
      "No top level hogs found\n",
      "No top level hogs found\n",
      "No top level hogs found\n",
      "No top level hogs found\n",
      "No top level hogs found\n",
      "No top level hogs found\n",
      "No top level hogs found\n",
      "No top level hogs found\n",
      "No top level hogs found\n",
      "No top level hogs found\n",
      "No top level hogs found\n",
      "No top level hogs found\n",
      "No top level hogs found\n",
      "No top level hogs found\n",
      "No top level hogs found\n",
      "No top level hogs found\n",
      "No top level hogs found\n",
      "No top level hogs found\n",
      "No top level hogs found\n",
      "No top level hogs found\n",
      "No top level hogs found\n",
      "No top level hogs found\n",
      "No top level hogs found\n",
      "No top level hogs found\n",
      "No top level hogs found\n",
      "No top level hogs found\n",
      "No top level hogs found"
     ]
    },
    {
     "name": "stderr",
     "output_type": "stream",
     "text": [
      "15it [00:10,  1.49it/s]"
     ]
    },
    {
     "name": "stdout",
     "output_type": "stream",
     "text": [
      "\n",
      "No top level hogs found\n",
      "No top level hogs found\n",
      "No top level hogs found\n",
      "No top level hogs found\n",
      "No top level hogs found\n",
      "No top level hogs found\n",
      "No top level hogs found\n",
      "No top level hogs found\n",
      "No top level hogs found\n",
      "No top level hogs found\n",
      "No top level hogs found\n",
      "No top level hogs found\n",
      "No top level hogs found\n",
      "No top level hogs found\n",
      "No top level hogs found\n",
      "No top level hogs found\n",
      "No top level hogs found\n",
      "No top level hogs found\n",
      "No top level hogs found\n",
      "No top level hogs found\n",
      "No top level hogs found\n",
      "No top level hogs found\n",
      "No top level hogs found\n",
      "No top level hogs found\n"
     ]
    },
    {
     "name": "stderr",
     "output_type": "stream",
     "text": [
      "16it [00:10,  1.52it/s]"
     ]
    },
    {
     "name": "stdout",
     "output_type": "stream",
     "text": [
      "No top level hogs found\n",
      "No top level hogs found\n",
      "No top level hogs found\n",
      "No top level hogs found\n",
      "No top level hogs found\n",
      "No top level hogs found\n",
      "No top level hogs found\n",
      "No top level hogs found\n",
      "No top level hogs found\n",
      "No top level hogs found\n",
      "No top level hogs found\n",
      "No top level hogs found\n",
      "No top level hogs found\n",
      "No top level hogs found\n",
      "No top level hogs found\n",
      "No top level hogs found\n",
      "No top level hogs found\n",
      "No top level hogs found\n",
      "No top level hogs found\n",
      "No top level hogs found\n",
      "No top level hogs found\n",
      "No top level hogs found\n",
      "No top level hogs found\n",
      "No top level hogs found\n",
      "No top level hogs found\n",
      "No top level hogs found"
     ]
    },
    {
     "name": "stderr",
     "output_type": "stream",
     "text": [
      "17it [00:11,  1.50it/s]"
     ]
    },
    {
     "name": "stdout",
     "output_type": "stream",
     "text": [
      "\n",
      "No top level hogs found\n",
      "No top level hogs found\n",
      "No top level hogs found\n",
      "No top level hogs found\n",
      "No top level hogs found\n",
      "No top level hogs found\n",
      "No top level hogs found\n",
      "No top level hogs found\n",
      "No top level hogs found\n",
      "No top level hogs found\n",
      "No top level hogs found\n",
      "No top level hogs found\n",
      "No top level hogs found\n",
      "No top level hogs found\n",
      "No top level hogs found\n",
      "No top level hogs found\n",
      "No top level hogs found\n",
      "No top level hogs found\n",
      "No top level hogs found\n",
      "No top level hogs found\n",
      "No top level hogs found\n",
      "No top level hogs found\n",
      "No top level hogs found\n",
      "No top level hogs found\n",
      "No top level hogs found"
     ]
    },
    {
     "name": "stderr",
     "output_type": "stream",
     "text": [
      "18it [00:12,  1.51it/s]"
     ]
    },
    {
     "name": "stdout",
     "output_type": "stream",
     "text": [
      "\n",
      "No top level hogs found\n",
      "No top level hogs found\n",
      "No top level hogs found\n",
      "No top level hogs found\n",
      "No top level hogs found\n",
      "No top level hogs found\n",
      "No top level hogs found\n",
      "No top level hogs found\n",
      "No top level hogs found\n",
      "No top level hogs found\n",
      "No top level hogs found\n"
     ]
    },
    {
     "name": "stderr",
     "output_type": "stream",
     "text": [
      "19it [00:12,  1.37it/s]"
     ]
    },
    {
     "name": "stdout",
     "output_type": "stream",
     "text": [
      "No top level hogs found\n",
      "No top level hogs found\n",
      "No top level hogs found\n",
      "No top level hogs found\n",
      "No top level hogs found\n",
      "No top level hogs found\n",
      "No top level hogs found\n",
      "No top level hogs found\n",
      "No top level hogs found\n",
      "No top level hogs found\n",
      "No top level hogs found\n",
      "No top level hogs found\n",
      "No top level hogs found\n",
      "No top level hogs found\n",
      "No top level hogs found\n",
      "No top level hogs found\n",
      "No top level hogs found\n",
      "No top level hogs found\n",
      "No top level hogs found\n",
      "No top level hogs found\n",
      "No top level hogs found\n",
      "No top level hogs found\n",
      "No top level hogs found"
     ]
    },
    {
     "name": "stderr",
     "output_type": "stream",
     "text": [
      "20it [00:13,  1.45it/s]"
     ]
    },
    {
     "name": "stdout",
     "output_type": "stream",
     "text": [
      "\n",
      "No top level hogs found\n",
      "No top level hogs found\n",
      "No top level hogs found\n",
      "No top level hogs found\n",
      "No top level hogs found\n",
      "No top level hogs found\n",
      "No top level hogs found\n",
      "No top level hogs found\n",
      "No top level hogs found\n",
      "No top level hogs found\n",
      "No top level hogs found\n",
      "No top level hogs found\n",
      "No top level hogs found\n",
      "No top level hogs found\n",
      "No top level hogs found\n",
      "No top level hogs found\n",
      "No top level hogs found\n",
      "No top level hogs found\n",
      "No top level hogs found\n",
      "No top level hogs found\n",
      "No top level hogs found\n",
      "No top level hogs found\n"
     ]
    },
    {
     "name": "stderr",
     "output_type": "stream",
     "text": [
      "21it [00:14,  1.50it/s]"
     ]
    },
    {
     "name": "stdout",
     "output_type": "stream",
     "text": [
      "No top level hogs found\n",
      "No top level hogs found\n",
      "No top level hogs found\n",
      "No top level hogs found\n",
      "No top level hogs found\n",
      "No top level hogs found\n",
      "No top level hogs found\n",
      "No top level hogs found\n",
      "No top level hogs found\n",
      "No top level hogs found\n",
      "No top level hogs found\n",
      "No top level hogs found\n",
      "No top level hogs found\n",
      "No top level hogs found\n",
      "No top level hogs found\n",
      "No top level hogs found\n",
      "No top level hogs found\n",
      "No top level hogs found\n",
      "No top level hogs found\n"
     ]
    },
    {
     "name": "stderr",
     "output_type": "stream",
     "text": [
      "22it [00:14,  1.59it/s]"
     ]
    },
    {
     "name": "stdout",
     "output_type": "stream",
     "text": [
      "No top level hogs found\n",
      "No top level hogs found\n",
      "No top level hogs found\n",
      "No top level hogs found\n",
      "No top level hogs found\n",
      "No top level hogs found\n",
      "No top level hogs found\n",
      "No top level hogs found\n",
      "No top level hogs found\n",
      "No top level hogs found\n",
      "No top level hogs found\n",
      "No top level hogs found\n",
      "No top level hogs found\n",
      "No top level hogs found\n",
      "No top level hogs found\n",
      "No top level hogs found\n",
      "No top level hogs found\n",
      "No top level hogs found\n",
      "No top level hogs found\n",
      "No top level hogs found\n",
      "No top level hogs found\n",
      "No top level hogs found\n",
      "No top level hogs found\n",
      "No top level hogs found\n",
      "No top level hogs found\n",
      "No top level hogs found\n",
      "No top level hogs found\n",
      "No top level hogs found\n",
      "No top level hogs found\n",
      "No top level hogs found\n",
      "No top level hogs found"
     ]
    },
    {
     "name": "stderr",
     "output_type": "stream",
     "text": [
      "23it [00:15,  1.49it/s]"
     ]
    },
    {
     "name": "stdout",
     "output_type": "stream",
     "text": [
      "\n",
      "No top level hogs found\n",
      "No top level hogs found\n",
      "No top level hogs found\n",
      "No top level hogs found\n",
      "No top level hogs found\n",
      "No top level hogs found\n",
      "No top level hogs found\n",
      "No top level hogs found\n",
      "No top level hogs found\n",
      "No top level hogs found\n",
      "No top level hogs found\n",
      "No top level hogs found\n",
      "No top level hogs found\n",
      "No top level hogs found\n",
      "No top level hogs found\n",
      "No top level hogs found\n",
      "No top level hogs found\n",
      "No top level hogs found\n",
      "No top level hogs found\n",
      "No top level hogs found\n",
      "No top level hogs found\n",
      "No top level hogs found\n",
      "No top level hogs found\n",
      "No top level hogs found\n",
      "No top level hogs found\n",
      "No top level hogs found\n",
      "No top level hogs found\n"
     ]
    },
    {
     "name": "stderr",
     "output_type": "stream",
     "text": [
      "24it [00:16,  1.48it/s]"
     ]
    },
    {
     "name": "stdout",
     "output_type": "stream",
     "text": [
      "No top level hogs found\n",
      "No top level hogs found\n",
      "No top level hogs found\n",
      "No top level hogs found\n",
      "No top level hogs found\n",
      "No top level hogs found\n",
      "No top level hogs found\n",
      "No top level hogs found\n",
      "No top level hogs found\n",
      "No top level hogs found\n",
      "No top level hogs found\n",
      "No top level hogs found\n",
      "No top level hogs found\n",
      "No top level hogs found\n",
      "No top level hogs found\n",
      "No top level hogs found\n",
      "No top level hogs found\n",
      "No top level hogs found\n",
      "No top level hogs found\n",
      "No top level hogs found\n",
      "No top level hogs found\n",
      "No top level hogs found\n"
     ]
    },
    {
     "name": "stderr",
     "output_type": "stream",
     "text": [
      "25it [00:16,  1.55it/s]"
     ]
    },
    {
     "name": "stdout",
     "output_type": "stream",
     "text": [
      "No top level hogs found\n",
      "No top level hogs found\n",
      "No top level hogs found\n",
      "No top level hogs found\n",
      "No top level hogs found\n",
      "No top level hogs found\n",
      "No top level hogs found\n",
      "No top level hogs found\n",
      "No top level hogs found\n",
      "No top level hogs found\n",
      "No top level hogs found\n",
      "No top level hogs found\n",
      "No top level hogs found\n",
      "No top level hogs found\n",
      "No top level hogs found\n",
      "No top level hogs found\n",
      "No top level hogs found\n",
      "No top level hogs found\n",
      "No top level hogs found\n",
      "No top level hogs found\n",
      "No top level hogs found\n",
      "No top level hogs found\n",
      "No top level hogs found\n",
      "No top level hogs found\n",
      "No top level hogs found\n",
      "No top level hogs found\n",
      "No top level hogs found\n",
      "No top level hogs found\n",
      "No top level hogs found\n",
      "No top level hogs found"
     ]
    },
    {
     "name": "stderr",
     "output_type": "stream",
     "text": [
      "26it [00:17,  1.49it/s]"
     ]
    },
    {
     "name": "stdout",
     "output_type": "stream",
     "text": [
      "\n",
      "No top level hogs found\n",
      "No top level hogs found\n",
      "No top level hogs found\n",
      "No top level hogs found\n",
      "No top level hogs found\n",
      "No top level hogs found\n",
      "No top level hogs found\n",
      "No top level hogs found\n",
      "No top level hogs found\n",
      "No top level hogs found\n",
      "No top level hogs found\n",
      "No top level hogs found\n",
      "No top level hogs found\n",
      "No top level hogs found\n",
      "No top level hogs found\n",
      "No top level hogs found\n",
      "No top level hogs found\n"
     ]
    },
    {
     "name": "stderr",
     "output_type": "stream",
     "text": [
      "27it [00:18,  1.45it/s]"
     ]
    },
    {
     "name": "stdout",
     "output_type": "stream",
     "text": [
      "No top level hogs found\n",
      "No top level hogs found\n",
      "No top level hogs found\n",
      "No top level hogs found\n",
      "No top level hogs found\n",
      "No top level hogs found\n",
      "No top level hogs found\n",
      "No top level hogs found\n",
      "No top level hogs found\n",
      "No top level hogs found\n",
      "No top level hogs found\n",
      "No top level hogs found\n",
      "No top level hogs found\n",
      "No top level hogs found\n",
      "No top level hogs found\n",
      "No top level hogs found\n",
      "No top level hogs found\n",
      "No top level hogs found\n",
      "No top level hogs found\n",
      "No top level hogs found\n",
      "No top level hogs found\n",
      "No top level hogs found\n"
     ]
    },
    {
     "name": "stderr",
     "output_type": "stream",
     "text": [
      "28it [00:18,  1.45it/s]"
     ]
    },
    {
     "name": "stdout",
     "output_type": "stream",
     "text": [
      "No top level hogs found\n",
      "No top level hogs found\n",
      "No top level hogs found\n",
      "No top level hogs found\n",
      "No top level hogs found\n",
      "No top level hogs found\n",
      "No top level hogs found\n",
      "No top level hogs found\n",
      "No top level hogs found\n",
      "No top level hogs found\n",
      "No top level hogs found\n",
      "No top level hogs found\n",
      "No top level hogs found\n",
      "No top level hogs found\n",
      "No top level hogs found\n",
      "No top level hogs found\n",
      "No top level hogs found\n",
      "No top level hogs found\n",
      "No top level hogs found\n",
      "No top level hogs found\n",
      "No top level hogs found\n",
      "No top level hogs found\n",
      "No top level hogs found\n",
      "No top level hogs found\n",
      "No top level hogs found"
     ]
    },
    {
     "name": "stderr",
     "output_type": "stream",
     "text": [
      "29it [00:19,  1.46it/s]"
     ]
    },
    {
     "name": "stdout",
     "output_type": "stream",
     "text": [
      "\n",
      "No top level hogs found\n",
      "No top level hogs found\n",
      "No top level hogs found\n",
      "No top level hogs found\n",
      "No top level hogs found\n",
      "No top level hogs found\n",
      "No top level hogs found\n",
      "No top level hogs found\n",
      "No top level hogs found\n",
      "No top level hogs found\n",
      "No top level hogs found\n",
      "No top level hogs found\n",
      "No top level hogs found\n",
      "No top level hogs found\n",
      "No top level hogs found\n",
      "No top level hogs found\n",
      "No top level hogs found\n",
      "No top level hogs found\n",
      "No top level hogs found\n",
      "No top level hogs found\n",
      "No top level hogs found\n",
      "No top level hogs found\n"
     ]
    },
    {
     "name": "stderr",
     "output_type": "stream",
     "text": [
      "30it [00:20,  1.47it/s]"
     ]
    },
    {
     "name": "stdout",
     "output_type": "stream",
     "text": [
      "No top level hogs found\n",
      "No top level hogs found\n",
      "No top level hogs found\n",
      "No top level hogs found\n",
      "No top level hogs found\n",
      "No top level hogs found\n",
      "No top level hogs found\n",
      "No top level hogs found\n",
      "No top level hogs found\n",
      "No top level hogs found\n",
      "No top level hogs found\n",
      "No top level hogs found\n",
      "No top level hogs found\n",
      "No top level hogs found\n",
      "No top level hogs found\n",
      "No top level hogs found\n",
      "No top level hogs found\n",
      "No top level hogs found\n",
      "No top level hogs found\n",
      "No top level hogs found\n",
      "No top level hogs found\n",
      "No top level hogs found\n",
      "No top level hogs found\n",
      "No top level hogs found\n",
      "No top level hogs found\n"
     ]
    },
    {
     "name": "stderr",
     "output_type": "stream",
     "text": [
      "31it [00:20,  1.48it/s]"
     ]
    },
    {
     "name": "stdout",
     "output_type": "stream",
     "text": [
      "No top level hogs found\n",
      "No top level hogs found\n",
      "No top level hogs found\n",
      "No top level hogs found\n",
      "No top level hogs found\n",
      "No top level hogs found\n",
      "No top level hogs found\n",
      "No top level hogs found\n",
      "No top level hogs found\n",
      "No top level hogs found\n",
      "No top level hogs found\n",
      "No top level hogs found\n",
      "No top level hogs found\n",
      "No top level hogs found\n",
      "No top level hogs found\n",
      "No top level hogs found\n",
      "No top level hogs found\n",
      "No top level hogs found\n",
      "No top level hogs found\n",
      "No top level hogs found\n",
      "No top level hogs found\n",
      "No top level hogs found\n",
      "No top level hogs found\n",
      "No top level hogs found\n",
      "No top level hogs found\n",
      "No top level hogs found\n",
      "No top level hogs found\n",
      "No top level hogs found\n",
      "No top level hogs found\n",
      "No top level hogs found\n",
      "No top level hogs found\n",
      "No top level hogs found\n",
      "No top level hogs found\n"
     ]
    },
    {
     "name": "stderr",
     "output_type": "stream",
     "text": [
      "32it [00:21,  1.41it/s]"
     ]
    },
    {
     "name": "stdout",
     "output_type": "stream",
     "text": [
      "No top level hogs found\n",
      "No top level hogs found\n",
      "No top level hogs found\n",
      "No top level hogs found\n",
      "No top level hogs found\n",
      "No top level hogs found\n",
      "No top level hogs found\n",
      "No top level hogs found\n",
      "No top level hogs found\n",
      "No top level hogs found\n",
      "No top level hogs found\n",
      "No top level hogs found\n",
      "No top level hogs found\n",
      "No top level hogs found\n",
      "No top level hogs found\n",
      "No top level hogs found\n",
      "No top level hogs found\n",
      "No top level hogs found\n",
      "No top level hogs found\n",
      "No top level hogs found\n",
      "No top level hogs found\n",
      "No top level hogs found\n"
     ]
    },
    {
     "name": "stderr",
     "output_type": "stream",
     "text": [
      "33it [00:22,  1.49it/s]"
     ]
    },
    {
     "name": "stdout",
     "output_type": "stream",
     "text": [
      "No top level hogs found\n",
      "No top level hogs found\n",
      "No top level hogs found\n",
      "No top level hogs found\n",
      "No top level hogs found\n",
      "No top level hogs found\n",
      "No top level hogs found\n",
      "No top level hogs found\n",
      "No top level hogs found\n",
      "No top level hogs found\n",
      "No top level hogs found\n",
      "No top level hogs found\n",
      "No top level hogs found\n",
      "No top level hogs found\n",
      "No top level hogs found\n",
      "No top level hogs found\n",
      "No top level hogs found\n",
      "No top level hogs found\n",
      "No top level hogs found\n",
      "No top level hogs found\n",
      "No top level hogs found\n",
      "No top level hogs found\n",
      "No top level hogs found\n",
      "No top level hogs found\n",
      "No top level hogs found\n",
      "No top level hogs found\n",
      "No top level hogs found\n",
      "No top level hogs found\n"
     ]
    },
    {
     "name": "stderr",
     "output_type": "stream",
     "text": [
      "34it [00:23,  1.40it/s]"
     ]
    },
    {
     "name": "stdout",
     "output_type": "stream",
     "text": [
      "No top level hogs found\n",
      "No top level hogs found\n",
      "No top level hogs found\n",
      "No top level hogs found\n",
      "No top level hogs found\n",
      "No top level hogs found\n",
      "No top level hogs found\n",
      "No top level hogs found\n",
      "No top level hogs found\n",
      "No top level hogs found\n",
      "No top level hogs found\n",
      "No top level hogs found\n",
      "No top level hogs found\n",
      "No top level hogs found\n",
      "No top level hogs found\n",
      "No top level hogs found\n",
      "No top level hogs found\n",
      "No top level hogs found\n",
      "No top level hogs found\n",
      "No top level hogs found\n",
      "No top level hogs found\n",
      "No top level hogs found\n",
      "No top level hogs found\n",
      "No top level hogs found"
     ]
    },
    {
     "name": "stderr",
     "output_type": "stream",
     "text": [
      "35it [00:23,  1.49it/s]"
     ]
    },
    {
     "name": "stdout",
     "output_type": "stream",
     "text": [
      "\n",
      "No top level hogs found\n",
      "No top level hogs found\n",
      "No top level hogs found\n",
      "No top level hogs found\n",
      "No top level hogs found\n",
      "No top level hogs found\n",
      "No top level hogs found\n",
      "No top level hogs found\n",
      "No top level hogs found\n",
      "No top level hogs found\n",
      "No top level hogs found\n",
      "No top level hogs found\n",
      "No top level hogs found\n",
      "No top level hogs found\n",
      "No top level hogs found\n",
      "No top level hogs found\n",
      "No top level hogs found\n",
      "No top level hogs found\n",
      "No top level hogs found\n",
      "No top level hogs found\n",
      "No top level hogs found\n",
      "No top level hogs found\n"
     ]
    },
    {
     "name": "stderr",
     "output_type": "stream",
     "text": [
      "36it [00:24,  1.49it/s]"
     ]
    },
    {
     "name": "stdout",
     "output_type": "stream",
     "text": [
      "No top level hogs found\n",
      "No top level hogs found\n",
      "No top level hogs found\n",
      "No top level hogs found\n",
      "No top level hogs found\n",
      "No top level hogs found\n",
      "No top level hogs found\n",
      "No top level hogs found\n",
      "No top level hogs found\n",
      "No top level hogs found\n",
      "No top level hogs found\n",
      "No top level hogs found\n",
      "No top level hogs found\n",
      "No top level hogs found\n",
      "No top level hogs found\n"
     ]
    },
    {
     "name": "stderr",
     "output_type": "stream",
     "text": [
      "37it [00:24,  1.53it/s]"
     ]
    },
    {
     "name": "stdout",
     "output_type": "stream",
     "text": [
      "No top level hogs found\n",
      "No top level hogs found\n",
      "No top level hogs found\n",
      "No top level hogs found\n",
      "No top level hogs found\n",
      "No top level hogs found\n",
      "No top level hogs found\n",
      "No top level hogs found\n",
      "No top level hogs found\n",
      "No top level hogs found\n",
      "No top level hogs found\n",
      "No top level hogs found\n",
      "No top level hogs found\n",
      "No top level hogs found\n",
      "No top level hogs found\n",
      "No top level hogs found\n",
      "No top level hogs found\n",
      "No top level hogs found\n",
      "No top level hogs found\n",
      "No top level hogs found\n",
      "No top level hogs found\n",
      "No top level hogs found\n",
      "No top level hogs found\n",
      "No top level hogs found\n",
      "No top level hogs found\n",
      "No top level hogs found\n",
      "No top level hogs found\n",
      "No top level hogs found"
     ]
    },
    {
     "name": "stderr",
     "output_type": "stream",
     "text": [
      "38it [00:25,  1.61it/s]"
     ]
    },
    {
     "name": "stdout",
     "output_type": "stream",
     "text": [
      "\n",
      "No top level hogs found\n",
      "No top level hogs found\n",
      "No top level hogs found\n",
      "No top level hogs found\n",
      "No top level hogs found\n",
      "No top level hogs found\n",
      "No top level hogs found\n",
      "No top level hogs found\n",
      "No top level hogs found\n",
      "No top level hogs found\n",
      "No top level hogs found\n",
      "No top level hogs found\n",
      "No top level hogs found\n",
      "No top level hogs found\n",
      "No top level hogs found\n",
      "No top level hogs found\n",
      "No top level hogs found\n",
      "No top level hogs found\n",
      "No top level hogs found\n",
      "No top level hogs found\n",
      "No top level hogs found\n"
     ]
    },
    {
     "name": "stderr",
     "output_type": "stream",
     "text": [
      "39it [00:25,  1.64it/s]"
     ]
    },
    {
     "name": "stdout",
     "output_type": "stream",
     "text": [
      "No top level hogs found\n",
      "No top level hogs found\n",
      "No top level hogs found\n",
      "No top level hogs found\n",
      "No top level hogs found\n",
      "No top level hogs found\n",
      "No top level hogs found\n",
      "No top level hogs found\n",
      "No top level hogs found\n",
      "No top level hogs found\n",
      "No top level hogs found\n",
      "No top level hogs found\n",
      "No top level hogs found\n",
      "No top level hogs found\n",
      "No top level hogs found\n",
      "No top level hogs found\n",
      "No top level hogs found\n",
      "No top level hogs found\n",
      "No top level hogs found\n",
      "No top level hogs found\n"
     ]
    },
    {
     "name": "stderr",
     "output_type": "stream",
     "text": [
      "40it [00:26,  1.61it/s]"
     ]
    },
    {
     "name": "stdout",
     "output_type": "stream",
     "text": [
      "No top level hogs found\n",
      "No top level hogs found\n",
      "No top level hogs found\n",
      "No top level hogs found\n",
      "No top level hogs found\n",
      "No top level hogs found\n",
      "No top level hogs found\n",
      "No top level hogs found\n",
      "No top level hogs found\n",
      "No top level hogs found\n",
      "No top level hogs found\n",
      "No top level hogs found\n",
      "No top level hogs found\n",
      "No top level hogs found\n",
      "No top level hogs found\n",
      "No top level hogs found\n",
      "No top level hogs found\n",
      "No top level hogs found\n",
      "No top level hogs found\n",
      "No top level hogs found\n",
      "No top level hogs found\n",
      "No top level hogs found\n"
     ]
    },
    {
     "name": "stderr",
     "output_type": "stream",
     "text": [
      "41it [00:27,  1.67it/s]"
     ]
    },
    {
     "name": "stdout",
     "output_type": "stream",
     "text": [
      "No top level hogs found\n",
      "No top level hogs found\n",
      "No top level hogs found\n",
      "No top level hogs found\n",
      "No top level hogs found\n",
      "No top level hogs found\n",
      "No top level hogs found\n",
      "No top level hogs found\n",
      "No top level hogs found\n",
      "No top level hogs found\n",
      "No top level hogs found\n",
      "No top level hogs found\n",
      "No top level hogs found\n",
      "No top level hogs found\n",
      "No top level hogs found\n",
      "No top level hogs found\n",
      "No top level hogs found\n",
      "No top level hogs found\n",
      "No top level hogs found\n",
      "No top level hogs found\n",
      "No top level hogs found\n",
      "No top level hogs found\n",
      "No top level hogs found\n",
      "No top level hogs found\n",
      "No top level hogs found\n",
      "No top level hogs found\n",
      "No top level hogs found\n",
      "No top level hogs found"
     ]
    },
    {
     "name": "stderr",
     "output_type": "stream",
     "text": [
      "42it [00:27,  1.55it/s]"
     ]
    },
    {
     "name": "stdout",
     "output_type": "stream",
     "text": [
      "\n",
      "No top level hogs found\n",
      "No top level hogs found\n",
      "No top level hogs found\n",
      "No top level hogs found\n",
      "No top level hogs found\n",
      "No top level hogs found\n",
      "No top level hogs found\n",
      "No top level hogs found\n",
      "No top level hogs found\n",
      "No top level hogs found\n",
      "No top level hogs found\n",
      "No top level hogs found\n",
      "No top level hogs found\n",
      "No top level hogs found\n",
      "No top level hogs found\n",
      "No top level hogs found\n",
      "No top level hogs found\n",
      "No top level hogs found\n",
      "No top level hogs found\n",
      "No top level hogs found\n"
     ]
    },
    {
     "name": "stderr",
     "output_type": "stream",
     "text": [
      "43it [00:28,  1.49it/s]"
     ]
    },
    {
     "name": "stdout",
     "output_type": "stream",
     "text": [
      "No top level hogs found\n",
      "No top level hogs found\n",
      "No top level hogs found\n",
      "No top level hogs found\n",
      "No top level hogs found\n",
      "No top level hogs found\n",
      "No top level hogs found\n",
      "No top level hogs found\n",
      "No top level hogs found\n",
      "No top level hogs found\n",
      "No top level hogs found\n",
      "No top level hogs found\n",
      "No top level hogs found\n",
      "No top level hogs found\n",
      "No top level hogs found\n",
      "No top level hogs found\n",
      "No top level hogs found\n",
      "No top level hogs found\n",
      "No top level hogs found\n",
      "No top level hogs found\n",
      "No top level hogs found\n",
      "No top level hogs found\n",
      "No top level hogs found\n",
      "No top level hogs found\n",
      "No top level hogs found\n",
      "No top level hogs found\n"
     ]
    },
    {
     "name": "stderr",
     "output_type": "stream",
     "text": [
      "44it [00:29,  1.56it/s]"
     ]
    },
    {
     "name": "stdout",
     "output_type": "stream",
     "text": [
      "No top level hogs found\n",
      "No top level hogs found\n",
      "No top level hogs found\n",
      "No top level hogs found\n",
      "No top level hogs found\n",
      "No top level hogs found\n",
      "No top level hogs found\n",
      "No top level hogs found\n",
      "No top level hogs found\n",
      "No top level hogs found\n",
      "No top level hogs found\n",
      "No top level hogs found\n",
      "No top level hogs found\n",
      "No top level hogs found\n",
      "No top level hogs found\n",
      "No top level hogs found\n",
      "No top level hogs found\n",
      "No top level hogs found\n",
      "No top level hogs found\n",
      "No top level hogs found\n",
      "No top level hogs found\n",
      "No top level hogs found\n",
      "No top level hogs found\n",
      "No top level hogs found\n"
     ]
    },
    {
     "name": "stderr",
     "output_type": "stream",
     "text": [
      "45it [00:29,  1.58it/s]"
     ]
    },
    {
     "name": "stdout",
     "output_type": "stream",
     "text": [
      "No top level hogs found\n",
      "No top level hogs found\n",
      "No top level hogs found\n",
      "No top level hogs found\n",
      "No top level hogs found\n",
      "No top level hogs found\n",
      "No top level hogs found\n",
      "No top level hogs found\n",
      "No top level hogs found\n",
      "No top level hogs found\n",
      "No top level hogs found\n",
      "No top level hogs found\n",
      "No top level hogs found\n",
      "No top level hogs found\n",
      "No top level hogs found\n",
      "No top level hogs found\n",
      "No top level hogs found\n",
      "No top level hogs found\n",
      "No top level hogs found\n",
      "No top level hogs found\n",
      "No top level hogs found\n",
      "No top level hogs found\n",
      "No top level hogs found\n",
      "No top level hogs found\n",
      "No top level hogs found\n",
      "No top level hogs found"
     ]
    },
    {
     "name": "stderr",
     "output_type": "stream",
     "text": [
      "46it [00:30,  1.56it/s]"
     ]
    },
    {
     "name": "stdout",
     "output_type": "stream",
     "text": [
      "\n",
      "No top level hogs found\n",
      "No top level hogs found\n",
      "No top level hogs found\n",
      "No top level hogs found\n",
      "No top level hogs found\n",
      "No top level hogs found\n",
      "No top level hogs found\n",
      "No top level hogs found\n",
      "No top level hogs found\n",
      "No top level hogs found\n",
      "No top level hogs found\n",
      "No top level hogs found\n",
      "No top level hogs found\n",
      "No top level hogs found\n",
      "No top level hogs found\n",
      "No top level hogs found\n",
      "No top level hogs found\n",
      "No top level hogs found\n",
      "No top level hogs found\n",
      "No top level hogs found\n",
      "No top level hogs found\n",
      "No top level hogs found\n",
      "No top level hogs found\n"
     ]
    },
    {
     "name": "stderr",
     "output_type": "stream",
     "text": [
      "47it [00:31,  1.56it/s]"
     ]
    },
    {
     "name": "stdout",
     "output_type": "stream",
     "text": [
      "No top level hogs found\n",
      "No top level hogs found\n",
      "No top level hogs found\n",
      "No top level hogs found\n",
      "No top level hogs found\n",
      "No top level hogs found\n",
      "No top level hogs found\n",
      "No top level hogs found\n",
      "No top level hogs found\n",
      "No top level hogs found\n",
      "No top level hogs found\n",
      "No top level hogs found\n",
      "No top level hogs found\n",
      "No top level hogs found\n",
      "No top level hogs found\n",
      "No top level hogs found\n",
      "No top level hogs found\n",
      "No top level hogs found\n",
      "No top level hogs found\n",
      "No top level hogs found\n",
      "No top level hogs found\n",
      "No top level hogs found\n",
      "No top level hogs found\n",
      "No top level hogs found\n",
      "No top level hogs found\n",
      "No top level hogs found\n",
      "No top level hogs found\n"
     ]
    },
    {
     "name": "stderr",
     "output_type": "stream",
     "text": [
      "48it [00:31,  1.48it/s]"
     ]
    },
    {
     "name": "stdout",
     "output_type": "stream",
     "text": [
      "No top level hogs found\n",
      "No top level hogs found\n",
      "No top level hogs found\n",
      "No top level hogs found\n",
      "No top level hogs found\n",
      "No top level hogs found\n",
      "No top level hogs found\n",
      "No top level hogs found\n",
      "No top level hogs found\n",
      "No top level hogs found\n",
      "No top level hogs found\n",
      "No top level hogs found\n",
      "No top level hogs found\n",
      "No top level hogs found\n",
      "No top level hogs found\n",
      "\n",
      "No top level hogs found\n",
      "No top level hogs found\n",
      "No top level hogs foundNo top level hogs found\n",
      "No top level hogs found\n",
      "No top level hogs found\n",
      "No top level hogs found\n",
      "No top level hogs found\n",
      "No top level hogs found\n",
      "No top level hogs found\n"
     ]
    },
    {
     "name": "stderr",
     "output_type": "stream",
     "text": [
      "49it [00:32,  1.50it/s]"
     ]
    },
    {
     "name": "stdout",
     "output_type": "stream",
     "text": [
      "No top level hogs found\n",
      "No top level hogs found\n",
      "No top level hogs found\n",
      "No top level hogs found\n",
      "No top level hogs found\n",
      "No top level hogs found\n",
      "No top level hogs found\n",
      "No top level hogs found\n",
      "No top level hogs found\n",
      "No top level hogs found\n",
      "No top level hogs found\n",
      "No top level hogs found\n",
      "No top level hogs found\n",
      "No top level hogs found\n",
      "No top level hogs found\n",
      "No top level hogs found\n",
      "No top level hogs found\n",
      "No top level hogs found\n",
      "No top level hogs found\n",
      "No top level hogs found\n",
      "No top level hogs found\n",
      "No top level hogs found\n",
      "No top level hogs found\n",
      "No top level hogs found\n"
     ]
    },
    {
     "name": "stderr",
     "output_type": "stream",
     "text": [
      "50it [00:33,  1.48it/s]"
     ]
    },
    {
     "name": "stdout",
     "output_type": "stream",
     "text": [
      "No top level hogs found\n",
      "No top level hogs found\n",
      "No top level hogs found\n",
      "No top level hogs found\n",
      "No top level hogs found\n",
      "No top level hogs found\n",
      "No top level hogs found\n",
      "No top level hogs found\n",
      "No top level hogs found\n",
      "No top level hogs found\n",
      "No top level hogs found\n",
      "No top level hogs found\n",
      "No top level hogs found\n",
      "No top level hogs found\n",
      "No top level hogs found\n",
      "No top level hogs found\n",
      "No top level hogs found\n",
      "No top level hogs found\n"
     ]
    },
    {
     "name": "stderr",
     "output_type": "stream",
     "text": [
      "51it [00:33,  1.44it/s]"
     ]
    },
    {
     "name": "stdout",
     "output_type": "stream",
     "text": [
      "No top level hogs found\n",
      "No top level hogs found\n",
      "No top level hogs found\n",
      "No top level hogs found\n",
      "No top level hogs found\n",
      "No top level hogs found\n",
      "No top level hogs found\n",
      "No top level hogs found\n",
      "No top level hogs found\n",
      "No top level hogs found\n",
      "No top level hogs found\n",
      "No top level hogs found\n",
      "No top level hogs found\n",
      "No top level hogs found\n",
      "No top level hogs found\n",
      "No top level hogs found\n",
      "No top level hogs found\n",
      "No top level hogs found\n",
      "No top level hogs found\n",
      "No top level hogs found\n",
      "No top level hogs found\n",
      "No top level hogs found\n",
      "No top level hogs found\n",
      "No top level hogs found\n",
      "No top level hogs found\n",
      "No top level hogs found\n"
     ]
    },
    {
     "name": "stderr",
     "output_type": "stream",
     "text": [
      "52it [00:34,  1.41it/s]"
     ]
    },
    {
     "name": "stdout",
     "output_type": "stream",
     "text": [
      "No top level hogs found\n",
      "No top level hogs found\n",
      "No top level hogs found\n",
      "No top level hogs found\n",
      "No top level hogs found\n",
      "No top level hogs found\n",
      "No top level hogs found\n",
      "No top level hogs found\n",
      "No top level hogs found\n",
      "No top level hogs found\n",
      "No top level hogs found\n",
      "No top level hogs found\n",
      "No top level hogs found\n",
      "No top level hogs found\n",
      "No top level hogs found\n",
      "No top level hogs found\n",
      "No top level hogs found\n",
      "No top level hogs found\n",
      "No top level hogs found\n",
      "No top level hogs found\n",
      "No top level hogs found\n",
      "No top level hogs found\n",
      "No top level hogs found\n",
      "No top level hogs found\n",
      "No top level hogs found\n",
      "No top level hogs found\n"
     ]
    },
    {
     "name": "stderr",
     "output_type": "stream",
     "text": [
      "53it [00:35,  1.46it/s]"
     ]
    },
    {
     "name": "stdout",
     "output_type": "stream",
     "text": [
      "No top level hogs found\n",
      "No top level hogs found\n",
      "No top level hogs found\n",
      "No top level hogs found\n",
      "No top level hogs found\n",
      "No top level hogs found\n",
      "No top level hogs found\n",
      "No top level hogs found\n",
      "No top level hogs found\n",
      "No top level hogs found\n",
      "No top level hogs found\n",
      "No top level hogs found\n",
      "No top level hogs found\n",
      "No top level hogs found\n",
      "No top level hogs found\n",
      "No top level hogs found\n",
      "No top level hogs found\n",
      "No top level hogs found\n",
      "No top level hogs found\n",
      "No top level hogs found\n",
      "No top level hogs found\n",
      "No top level hogs found\n",
      "No top level hogs found\n",
      "No top level hogs found\n",
      "No top level hogs found"
     ]
    },
    {
     "name": "stderr",
     "output_type": "stream",
     "text": [
      "54it [00:36,  1.48it/s]"
     ]
    },
    {
     "name": "stdout",
     "output_type": "stream",
     "text": [
      "\n",
      "No top level hogs found\n",
      "No top level hogs found\n",
      "No top level hogs found\n",
      "No top level hogs found\n",
      "No top level hogs found\n",
      "No top level hogs found\n",
      "No top level hogs found\n",
      "No top level hogs found\n",
      "No top level hogs found\n",
      "No top level hogs found\n",
      "No top level hogs found\n",
      "No top level hogs found\n",
      "No top level hogs found\n",
      "No top level hogs found\n",
      "No top level hogs found\n",
      "No top level hogs found\n",
      "No top level hogs found\n",
      "No top level hogs found\n",
      "No top level hogs found\n",
      "No top level hogs found\n",
      "No top level hogs found\n",
      "No top level hogs found\n",
      "No top level hogs found\n",
      "No top level hogs found\n",
      "No top level hogs found\n",
      "No top level hogs found\n",
      "No top level hogs found\n",
      "No top level hogs found\n",
      "No top level hogs found\n",
      "No top level hogs found\n",
      "No top level hogs found"
     ]
    },
    {
     "name": "stderr",
     "output_type": "stream",
     "text": [
      "55it [00:36,  1.45it/s]"
     ]
    },
    {
     "name": "stdout",
     "output_type": "stream",
     "text": [
      "\n",
      "No top level hogs found\n",
      "No top level hogs found\n",
      "No top level hogs found\n",
      "No top level hogs found\n",
      "No top level hogs found\n",
      "No top level hogs found\n",
      "No top level hogs found\n",
      "No top level hogs found\n",
      "No top level hogs found\n",
      "No top level hogs found\n",
      "No top level hogs found\n",
      "No top level hogs found\n",
      "No top level hogs found\n",
      "No top level hogs found\n",
      "No top level hogs found\n",
      "No top level hogs found\n",
      "No top level hogs found\n",
      "No top level hogs found\n",
      "No top level hogs found\n",
      "No top level hogs found\n",
      "No top level hogs found\n",
      "No top level hogs found\n"
     ]
    },
    {
     "name": "stderr",
     "output_type": "stream",
     "text": [
      "56it [00:37,  1.42it/s]"
     ]
    },
    {
     "name": "stdout",
     "output_type": "stream",
     "text": [
      "No top level hogs found\n",
      "No top level hogs found\n",
      "No top level hogs found\n",
      "No top level hogs found\n",
      "No top level hogs found\n",
      "No top level hogs found\n",
      "No top level hogs found\n",
      "No top level hogs found\n",
      "No top level hogs found\n",
      "No top level hogs found\n",
      "No top level hogs found\n",
      "No top level hogs found\n",
      "No top level hogs found\n",
      "No top level hogs found\n",
      "No top level hogs found\n",
      "No top level hogs found\n",
      "No top level hogs found\n",
      "No top level hogs found\n",
      "No top level hogs found\n",
      "No top level hogs found\n",
      "No top level hogs found\n",
      "No top level hogs found\n",
      "No top level hogs found\n",
      "No top level hogs found\n",
      "No top level hogs found\n",
      "No top level hogs found\n",
      "No top level hogs found\n",
      "\n",
      "No top level hogs foundNo top level hogs found\n"
     ]
    },
    {
     "name": "stderr",
     "output_type": "stream",
     "text": [
      "57it [00:38,  1.37it/s]"
     ]
    },
    {
     "name": "stdout",
     "output_type": "stream",
     "text": [
      "No top level hogs found\n",
      "No top level hogs found\n",
      "No top level hogs found\n",
      "No top level hogs found\n",
      "No top level hogs found\n",
      "No top level hogs found\n",
      "No top level hogs found\n",
      "No top level hogs found\n",
      "No top level hogs found\n",
      "No top level hogs found\n",
      "No top level hogs found\n",
      "No top level hogs found\n",
      "No top level hogs found\n",
      "No top level hogs found\n",
      "No top level hogs found\n",
      "No top level hogs found\n",
      "No top level hogs found\n",
      "No top level hogs found\n",
      "No top level hogs found\n",
      "No top level hogs found\n",
      "No top level hogs found\n",
      "No top level hogs found\n",
      "No top level hogs found\n",
      "No top level hogs found\n",
      "No top level hogs found"
     ]
    },
    {
     "name": "stderr",
     "output_type": "stream",
     "text": [
      "58it [00:38,  1.43it/s]"
     ]
    },
    {
     "name": "stdout",
     "output_type": "stream",
     "text": [
      "\n",
      "No top level hogs found\n",
      "No top level hogs found\n",
      "No top level hogs found\n",
      "No top level hogs found\n",
      "No top level hogs found\n",
      "No top level hogs found\n",
      "No top level hogs found\n",
      "No top level hogs found\n",
      "No top level hogs found\n",
      "No top level hogs found\n",
      "No top level hogs found\n",
      "No top level hogs found\n",
      "No top level hogs found\n",
      "No top level hogs found\n",
      "No top level hogs found\n",
      "No top level hogs found\n",
      "No top level hogs found\n",
      "No top level hogs found\n",
      "No top level hogs found\n",
      "No top level hogs found\n",
      "No top level hogs found\n",
      "No top level hogs found\n",
      "No top level hogs found\n"
     ]
    },
    {
     "name": "stderr",
     "output_type": "stream",
     "text": [
      "59it [00:39,  1.50it/s]"
     ]
    },
    {
     "name": "stdout",
     "output_type": "stream",
     "text": [
      "No top level hogs found\n",
      "No top level hogs found\n",
      "No top level hogs found\n",
      "No top level hogs found\n",
      "No top level hogs found\n",
      "No top level hogs found\n",
      "No top level hogs found\n"
     ]
    },
    {
     "name": "stderr",
     "output_type": "stream",
     "text": [
      "60it [00:40,  1.57it/s]"
     ]
    },
    {
     "name": "stdout",
     "output_type": "stream",
     "text": [
      "No top level hogs found\n",
      "No top level hogs found\n",
      "No top level hogs found\n",
      "No top level hogs found\n",
      "No top level hogs found\n",
      "No top level hogs found\n",
      "No top level hogs found\n",
      "No top level hogs found\n",
      "No top level hogs found\n",
      "No top level hogs found\n",
      "No top level hogs found\n",
      "No top level hogs found\n",
      "No top level hogs found\n",
      "No top level hogs found\n",
      "No top level hogs found\n",
      "No top level hogs found\n",
      "No top level hogs found\n",
      "No top level hogs found\n",
      "No top level hogs found\n",
      "No top level hogs found\n",
      "No top level hogs found\n",
      "No top level hogs found\n",
      "No top level hogs found\n",
      "No top level hogs found\n",
      "No top level hogs found\n",
      "No top level hogs found\n",
      "No top level hogs found\n",
      "No top level hogs found\n",
      "No top level hogs found\n",
      "No top level hogs found\n",
      "No top level hogs found\n",
      "No top level hogs found\n",
      "No top level hogs found\n",
      "No top level hogs found\n",
      "No top level hogs found\n",
      "No top level hogs found\n",
      "No top level hogs found\n",
      "No top level hogs found\n",
      "No top level hogs found\n",
      "No top level hogs found\n",
      "No top level hogs found\n",
      "No top level hogs found\n",
      "No top level hogs found\n",
      "No top level hogs found\n"
     ]
    },
    {
     "name": "stderr",
     "output_type": "stream",
     "text": [
      "61it [00:40,  1.49it/s]"
     ]
    },
    {
     "name": "stdout",
     "output_type": "stream",
     "text": [
      "No top level hogs found\n",
      "No top level hogs found\n",
      "No top level hogs found\n",
      "No top level hogs found\n",
      "No top level hogs found\n",
      "No top level hogs found\n",
      "No top level hogs found\n",
      "No top level hogs found\n",
      "No top level hogs found\n",
      "No top level hogs found\n",
      "No top level hogs found\n",
      "No top level hogs found\n",
      "No top level hogs found\n",
      "No top level hogs found\n",
      "No top level hogs found\n",
      "No top level hogs found\n",
      "No top level hogs found\n"
     ]
    },
    {
     "name": "stderr",
     "output_type": "stream",
     "text": [
      "62it [00:41,  1.57it/s]"
     ]
    },
    {
     "name": "stdout",
     "output_type": "stream",
     "text": [
      "No top level hogs found\n",
      "No top level hogs found\n",
      "No top level hogs found\n",
      "No top level hogs found\n",
      "No top level hogs found\n",
      "No top level hogs found\n",
      "No top level hogs found\n",
      "No top level hogs found\n",
      "No top level hogs found\n",
      "No top level hogs found\n",
      "No top level hogs found\n",
      "No top level hogs found\n",
      "No top level hogs found\n",
      "No top level hogs found\n",
      "No top level hogs found\n",
      "No top level hogs found\n",
      "No top level hogs found\n",
      "No top level hogs found\n",
      "No top level hogs found\n",
      "No top level hogs found\n",
      "No top level hogs found\n",
      "No top level hogs found\n",
      "No top level hogs found\n",
      "No top level hogs found\n",
      "No top level hogs found\n",
      "No top level hogs found\n",
      "No top level hogs found"
     ]
    },
    {
     "name": "stderr",
     "output_type": "stream",
     "text": [
      "63it [00:42,  1.51it/s]"
     ]
    },
    {
     "name": "stdout",
     "output_type": "stream",
     "text": [
      "\n",
      "No top level hogs found\n",
      "No top level hogs found\n",
      "No top level hogs found\n",
      "No top level hogs found\n",
      "No top level hogs found\n",
      "No top level hogs found\n",
      "No top level hogs found\n",
      "No top level hogs found\n",
      "No top level hogs found\n",
      "No top level hogs found\n",
      "No top level hogs found\n",
      "No top level hogs found\n",
      "No top level hogs found\n",
      "No top level hogs found\n",
      "No top level hogs found\n",
      "No top level hogs found\n",
      "No top level hogs found\n",
      "No top level hogs found\n",
      "No top level hogs found\n",
      "No top level hogs found\n",
      "No top level hogs found\n",
      "No top level hogs found\n",
      "No top level hogs found\n",
      "No top level hogs found\n",
      "No top level hogs found\n",
      "No top level hogs found\n",
      "No top level hogs found\n"
     ]
    },
    {
     "name": "stderr",
     "output_type": "stream",
     "text": [
      "64it [00:42,  1.52it/s]"
     ]
    },
    {
     "name": "stdout",
     "output_type": "stream",
     "text": [
      "No top level hogs found\n",
      "No top level hogs found\n",
      "No top level hogs found\n",
      "No top level hogs found\n",
      "No top level hogs found\n",
      "No top level hogs found\n",
      "No top level hogs found\n",
      "No top level hogs found\n",
      "No top level hogs found\n",
      "No top level hogs found\n",
      "No top level hogs found\n",
      "No top level hogs found\n",
      "No top level hogs found\n",
      "No top level hogs found\n",
      "No top level hogs found\n",
      "No top level hogs found\n",
      "No top level hogs found\n",
      "No top level hogs found\n",
      "No top level hogs found\n",
      "No top level hogs found\n",
      "No top level hogs found\n",
      "No top level hogs found\n",
      "No top level hogs found\n",
      "No top level hogs found\n",
      "No top level hogs found\n",
      "No top level hogs found\n"
     ]
    },
    {
     "name": "stderr",
     "output_type": "stream",
     "text": [
      "65it [00:43,  1.46it/s]"
     ]
    },
    {
     "name": "stdout",
     "output_type": "stream",
     "text": [
      "No top level hogs found\n",
      "No top level hogs found\n",
      "No top level hogs found\n",
      "No top level hogs found\n",
      "No top level hogs found\n",
      "No top level hogs found\n",
      "No top level hogs found\n",
      "No top level hogs found\n",
      "No top level hogs found\n",
      "No top level hogs found\n",
      "No top level hogs found\n",
      "No top level hogs found\n",
      "No top level hogs found\n",
      "No top level hogs found\n",
      "No top level hogs found\n",
      "No top level hogs found\n",
      "No top level hogs found\n",
      "No top level hogs found\n",
      "No top level hogs found\n",
      "No top level hogs found\n",
      "No top level hogs found\n"
     ]
    },
    {
     "name": "stderr",
     "output_type": "stream",
     "text": [
      "66it [00:44,  1.53it/s]"
     ]
    },
    {
     "name": "stdout",
     "output_type": "stream",
     "text": [
      "No top level hogs found\n",
      "No top level hogs found\n",
      "No top level hogs found\n",
      "No top level hogs found\n",
      "No top level hogs found\n",
      "No top level hogs found\n",
      "No top level hogs found\n",
      "No top level hogs found\n",
      "No top level hogs found\n",
      "No top level hogs found\n",
      "No top level hogs found\n",
      "No top level hogs found\n",
      "No top level hogs found\n",
      "No top level hogs found\n",
      "No top level hogs found\n",
      "No top level hogs found\n",
      "No top level hogs found\n",
      "No top level hogs found\n",
      "No top level hogs found\n",
      "No top level hogs found\n",
      "No top level hogs found\n",
      "No top level hogs found\n",
      "No top level hogs found\n"
     ]
    },
    {
     "name": "stderr",
     "output_type": "stream",
     "text": [
      "67it [00:44,  1.54it/s]"
     ]
    },
    {
     "name": "stdout",
     "output_type": "stream",
     "text": [
      "No top level hogs found\n",
      "No top level hogs found\n",
      "No top level hogs found\n",
      "No top level hogs found\n",
      "No top level hogs found\n",
      "No top level hogs found\n",
      "No top level hogs found\n",
      "No top level hogs found\n",
      "No top level hogs found\n",
      "No top level hogs found\n",
      "No top level hogs found\n",
      "No top level hogs found\n",
      "No top level hogs found\n",
      "No top level hogs found\n",
      "No top level hogs found\n",
      "No top level hogs found\n",
      "No top level hogs found\n",
      "No top level hogs found\n",
      "No top level hogs found\n",
      "No top level hogs found\n",
      "No top level hogs found\n",
      "No top level hogs found\n",
      "No top level hogs found\n",
      "No top level hogs found\n",
      "No top level hogs found\n",
      "No top level hogs found\n",
      "No top level hogs found\n",
      "No top level hogs found"
     ]
    },
    {
     "name": "stderr",
     "output_type": "stream",
     "text": [
      "68it [00:45,  1.51it/s]"
     ]
    },
    {
     "name": "stdout",
     "output_type": "stream",
     "text": [
      "\n",
      "No top level hogs found\n",
      "No top level hogs found\n",
      "No top level hogs found\n",
      "No top level hogs found\n",
      "No top level hogs found\n",
      "No top level hogs found\n",
      "No top level hogs found\n",
      "No top level hogs found\n",
      "No top level hogs found\n",
      "No top level hogs found\n",
      "No top level hogs found\n",
      "No top level hogs found\n",
      "No top level hogs found\n",
      "No top level hogs found\n",
      "No top level hogs found\n",
      "No top level hogs found\n",
      "No top level hogs found\n",
      "No top level hogs found\n",
      "No top level hogs found\n",
      "No top level hogs found\n",
      "No top level hogs found\n",
      "No top level hogs found\n",
      "No top level hogs found\n",
      "No top level hogs found\n",
      "No top level hogs found\n",
      "No top level hogs found\n"
     ]
    },
    {
     "name": "stderr",
     "output_type": "stream",
     "text": [
      "69it [00:46,  1.48it/s]"
     ]
    },
    {
     "name": "stdout",
     "output_type": "stream",
     "text": [
      "No top level hogs found\n",
      "No top level hogs found\n",
      "No top level hogs found\n",
      "No top level hogs found\n",
      "No top level hogs found\n",
      "No top level hogs found\n",
      "No top level hogs found\n",
      "No top level hogs found\n",
      "No top level hogs found\n",
      "No top level hogs found\n",
      "No top level hogs found\n",
      "No top level hogs found\n",
      "No top level hogs found\n",
      "No top level hogs found\n",
      "No top level hogs found\n",
      "No top level hogs found\n",
      "No top level hogs found\n",
      "No top level hogs found\n",
      "No top level hogs found\n",
      "No top level hogs found\n",
      "No top level hogs found\n",
      "No top level hogs found\n",
      "No top level hogs found\n",
      "No top level hogs found\n"
     ]
    },
    {
     "name": "stderr",
     "output_type": "stream",
     "text": [
      "70it [00:46,  1.35it/s]"
     ]
    },
    {
     "name": "stdout",
     "output_type": "stream",
     "text": [
      "No top level hogs found\n",
      "No top level hogs found\n",
      "No top level hogs found\n",
      "No top level hogs found\n",
      "No top level hogs found\n",
      "No top level hogs found\n",
      "No top level hogs found\n",
      "No top level hogs found\n",
      "No top level hogs found\n",
      "No top level hogs found\n",
      "No top level hogs found\n",
      "No top level hogs found\n",
      "No top level hogs found\n",
      "No top level hogs found\n",
      "No top level hogs found\n",
      "No top level hogs found\n",
      "No top level hogs found\n",
      "No top level hogs found\n",
      "No top level hogs found\n",
      "No top level hogs found\n",
      "No top level hogs found\n",
      "No top level hogs found\n",
      "No top level hogs found\n"
     ]
    },
    {
     "name": "stderr",
     "output_type": "stream",
     "text": [
      "71it [00:47,  1.39it/s]"
     ]
    },
    {
     "name": "stdout",
     "output_type": "stream",
     "text": [
      "No top level hogs found\n",
      "No top level hogs found\n",
      "No top level hogs found\n",
      "No top level hogs found\n",
      "No top level hogs found\n",
      "No top level hogs found\n",
      "No top level hogs found\n",
      "No top level hogs found\n",
      "No top level hogs found\n",
      "No top level hogs found\n",
      "No top level hogs found\n",
      "No top level hogs found\n",
      "No top level hogs found\n",
      "No top level hogs found\n",
      "No top level hogs found\n",
      "No top level hogs found\n",
      "No top level hogs found\n",
      "No top level hogs found\n",
      "No top level hogs found\n",
      "No top level hogs found\n",
      "No top level hogs found\n",
      "No top level hogs found\n",
      "No top level hogs found\n",
      "No top level hogs found\n"
     ]
    },
    {
     "name": "stderr",
     "output_type": "stream",
     "text": [
      "72it [00:48,  1.41it/s]"
     ]
    },
    {
     "name": "stdout",
     "output_type": "stream",
     "text": [
      "No top level hogs found\n",
      "No top level hogs found\n",
      "No top level hogs found\n",
      "No top level hogs found\n",
      "No top level hogs found\n",
      "No top level hogs found\n",
      "No top level hogs found\n",
      "No top level hogs found\n",
      "No top level hogs found\n",
      "No top level hogs found\n",
      "No top level hogs found\n",
      "No top level hogs found\n",
      "No top level hogs found\n",
      "No top level hogs found\n",
      "No top level hogs found\n",
      "No top level hogs found\n",
      "No top level hogs found\n",
      "No top level hogs found\n",
      "No top level hogs found\n",
      "No top level hogs found\n",
      "No top level hogs found\n",
      "No top level hogs found\n",
      "No top level hogs found\n"
     ]
    },
    {
     "name": "stderr",
     "output_type": "stream",
     "text": [
      "73it [00:48,  1.46it/s]"
     ]
    },
    {
     "name": "stdout",
     "output_type": "stream",
     "text": [
      "No top level hogs found\n",
      "No top level hogs found\n",
      "No top level hogs found\n",
      "No top level hogs found\n",
      "No top level hogs found\n",
      "No top level hogs found\n",
      "No top level hogs found\n",
      "No top level hogs found\n",
      "No top level hogs found\n",
      "No top level hogs found\n",
      "No top level hogs found\n",
      "No top level hogs found\n",
      "No top level hogs found\n",
      "No top level hogs found\n",
      "No top level hogs found\n",
      "No top level hogs found\n",
      "No top level hogs found\n",
      "No top level hogs found\n",
      "No top level hogs found\n",
      "No top level hogs found\n",
      "No top level hogs found\n",
      "No top level hogs found\n",
      "No top level hogs found\n"
     ]
    },
    {
     "name": "stderr",
     "output_type": "stream",
     "text": [
      "74it [00:49,  1.47it/s]"
     ]
    },
    {
     "name": "stdout",
     "output_type": "stream",
     "text": [
      "No top level hogs found\n",
      "No top level hogs found\n",
      "No top level hogs found\n",
      "No top level hogs found\n",
      "No top level hogs found\n",
      "No top level hogs found\n",
      "No top level hogs found\n",
      "No top level hogs found\n",
      "No top level hogs found\n",
      "No top level hogs found\n",
      "No top level hogs found\n",
      "No top level hogs found\n",
      "No top level hogs found\n",
      "No top level hogs found\n",
      "No top level hogs found\n",
      "No top level hogs found\n"
     ]
    },
    {
     "name": "stderr",
     "output_type": "stream",
     "text": [
      "75it [00:50,  1.55it/s]"
     ]
    },
    {
     "name": "stdout",
     "output_type": "stream",
     "text": [
      "No top level hogs found\n",
      "No top level hogs found\n",
      "No top level hogs found\n",
      "No top level hogs found\n",
      "No top level hogs found\n",
      "No top level hogs found\n",
      "No top level hogs found\n",
      "No top level hogs found\n",
      "No top level hogs found\n",
      "No top level hogs found\n",
      "No top level hogs found\n",
      "No top level hogs found\n",
      "No top level hogs found\n",
      "No top level hogs found\n",
      "No top level hogs found\n",
      "No top level hogs found\n",
      "No top level hogs found\n",
      "No top level hogs found\n",
      "No top level hogs found\n",
      "No top level hogs found\n",
      "No top level hogs found\n",
      "No top level hogs found\n",
      "No top level hogs found\n",
      "No top level hogs found\n",
      "No top level hogs found\n",
      "No top level hogs found\n",
      "No top level hogs found\n",
      "No top level hogs found\n",
      "No top level hogs found"
     ]
    },
    {
     "name": "stderr",
     "output_type": "stream",
     "text": [
      "76it [00:50,  1.54it/s]"
     ]
    },
    {
     "name": "stdout",
     "output_type": "stream",
     "text": [
      "\n",
      "No top level hogs found\n",
      "No top level hogs found\n",
      "No top level hogs found\n",
      "No top level hogs found\n",
      "No top level hogs found\n",
      "No top level hogs found\n",
      "No top level hogs found\n",
      "No top level hogs found\n",
      "No top level hogs found\n",
      "No top level hogs found\n",
      "No top level hogs found\n",
      "No top level hogs found\n",
      "No top level hogs found\n",
      "No top level hogs found\n",
      "No top level hogs found\n",
      "No top level hogs found\n",
      "No top level hogs found\n",
      "No top level hogs found\n",
      "No top level hogs found\n",
      "No top level hogs found\n",
      "No top level hogs found\n",
      "No top level hogs found\n",
      "No top level hogs found\n",
      "No top level hogs found\n"
     ]
    },
    {
     "name": "stderr",
     "output_type": "stream",
     "text": [
      "77it [00:51,  1.45it/s]"
     ]
    },
    {
     "name": "stdout",
     "output_type": "stream",
     "text": [
      "No top level hogs found\n",
      "No top level hogs found\n",
      "No top level hogs found\n",
      "No top level hogs found\n",
      "No top level hogs found\n",
      "No top level hogs found\n",
      "No top level hogs found\n",
      "No top level hogs found\n",
      "No top level hogs found\n",
      "No top level hogs found\n",
      "No top level hogs found\n",
      "No top level hogs found\n",
      "No top level hogs found\n",
      "No top level hogs found\n",
      "No top level hogs found\n",
      "No top level hogs found\n",
      "No top level hogs found\n",
      "No top level hogs found\n",
      "No top level hogs found\n",
      "No top level hogs found\n",
      "No top level hogs found\n",
      "No top level hogs found\n",
      "No top level hogs found"
     ]
    },
    {
     "name": "stderr",
     "output_type": "stream",
     "text": [
      "78it [00:52,  1.37it/s]"
     ]
    },
    {
     "name": "stdout",
     "output_type": "stream",
     "text": [
      "\n",
      "No top level hogs found\n",
      "No top level hogs found\n",
      "No top level hogs found\n",
      "No top level hogs found\n",
      "No top level hogs found\n",
      "No top level hogs found\n",
      "No top level hogs found\n",
      "No top level hogs found\n",
      "No top level hogs found\n",
      "No top level hogs found\n",
      "No top level hogs found\n",
      "No top level hogs found\n",
      "No top level hogs found\n",
      "No top level hogs found\n",
      "No top level hogs found\n",
      "No top level hogs found\n",
      "No top level hogs found\n",
      "No top level hogs found\n",
      "No top level hogs found\n",
      "No top level hogs found\n"
     ]
    },
    {
     "name": "stderr",
     "output_type": "stream",
     "text": [
      "79it [00:53,  1.41it/s]"
     ]
    },
    {
     "name": "stdout",
     "output_type": "stream",
     "text": [
      "No top level hogs found\n",
      "No top level hogs found\n",
      "No top level hogs found\n",
      "No top level hogs found\n",
      "No top level hogs found\n",
      "No top level hogs found\n",
      "No top level hogs found\n",
      "No top level hogs found\n",
      "No top level hogs found\n",
      "No top level hogs found\n",
      "No top level hogs found\n",
      "No top level hogs found\n",
      "No top level hogs found\n",
      "No top level hogs found\n",
      "No top level hogs found\n",
      "No top level hogs found\n",
      "No top level hogs found\n",
      "No top level hogs found\n",
      "No top level hogs found\n",
      "No top level hogs found\n",
      "No top level hogs found\n",
      "No top level hogs found\n",
      "No top level hogs found\n",
      "No top level hogs found\n",
      "No top level hogs found\n",
      "No top level hogs found\n",
      "No top level hogs found"
     ]
    },
    {
     "name": "stderr",
     "output_type": "stream",
     "text": [
      "80it [00:53,  1.42it/s]"
     ]
    },
    {
     "name": "stdout",
     "output_type": "stream",
     "text": [
      "\n",
      "No top level hogs found\n",
      "No top level hogs found\n",
      "No top level hogs found\n",
      "No top level hogs found\n",
      "No top level hogs found\n",
      "No top level hogs found\n",
      "No top level hogs found\n",
      "No top level hogs found\n",
      "No top level hogs found\n",
      "No top level hogs found\n",
      "No top level hogs found\n",
      "No top level hogs found\n"
     ]
    },
    {
     "name": "stderr",
     "output_type": "stream",
     "text": [
      "81it [00:54,  1.56it/s]"
     ]
    },
    {
     "name": "stdout",
     "output_type": "stream",
     "text": [
      "No top level hogs found\n",
      "No top level hogs found\n",
      "No top level hogs found\n",
      "No top level hogs found\n",
      "No top level hogs found\n",
      "No top level hogs found\n",
      "No top level hogs found\n",
      "No top level hogs found\n",
      "No top level hogs found\n",
      "No top level hogs found\n",
      "No top level hogs found\n",
      "No top level hogs found\n",
      "No top level hogs found\n",
      "No top level hogs found\n",
      "No top level hogs found\n",
      "No top level hogs found\n",
      "No top level hogs found\n",
      "No top level hogs found\n",
      "No top level hogs found\n",
      "No top level hogs found\n",
      "No top level hogs found\n",
      "No top level hogs found\n",
      "No top level hogs found\n",
      "No top level hogs found\n",
      "No top level hogs found\n",
      "No top level hogs found\n",
      "No top level hogs found\n",
      "No top level hogs found\n",
      "No top level hogs found\n",
      "No top level hogs found\n",
      "No top level hogs found\n"
     ]
    },
    {
     "name": "stderr",
     "output_type": "stream",
     "text": [
      "82it [00:55,  1.52it/s]"
     ]
    },
    {
     "name": "stdout",
     "output_type": "stream",
     "text": [
      "No top level hogs found\n",
      "No top level hogs found\n",
      "No top level hogs found\n",
      "No top level hogs found\n",
      "No top level hogs found\n",
      "No top level hogs found\n",
      "No top level hogs found\n",
      "No top level hogs found\n",
      "No top level hogs found\n",
      "No top level hogs found\n",
      "No top level hogs found\n",
      "No top level hogs found\n",
      "No top level hogs found\n",
      "No top level hogs found\n",
      "No top level hogs found\n",
      "No top level hogs found\n",
      "No top level hogs found\n",
      "No top level hogs found\n",
      "No top level hogs found\n",
      "No top level hogs found\n",
      "No top level hogs found\n",
      "No top level hogs found"
     ]
    },
    {
     "name": "stderr",
     "output_type": "stream",
     "text": [
      "83it [00:55,  1.56it/s]"
     ]
    },
    {
     "name": "stdout",
     "output_type": "stream",
     "text": [
      "\n",
      "No top level hogs found\n",
      "No top level hogs found\n",
      "No top level hogs found\n",
      "No top level hogs found\n",
      "No top level hogs found\n",
      "No top level hogs found\n",
      "No top level hogs found\n",
      "No top level hogs found\n",
      "No top level hogs found\n",
      "No top level hogs found\n",
      "No top level hogs found\n",
      "No top level hogs found\n",
      "No top level hogs found\n",
      "No top level hogs found\n",
      "No top level hogs found\n",
      "No top level hogs found\n",
      "No top level hogs found\n",
      "No top level hogs found\n",
      "No top level hogs found\n",
      "No top level hogs found\n",
      "No top level hogs found\n",
      "No top level hogs found\n",
      "No top level hogs found\n"
     ]
    },
    {
     "name": "stderr",
     "output_type": "stream",
     "text": [
      "84it [00:56,  1.66it/s]"
     ]
    },
    {
     "name": "stdout",
     "output_type": "stream",
     "text": [
      "No top level hogs found\n",
      "No top level hogs found\n",
      "No top level hogs found\n",
      "No top level hogs found\n",
      "No top level hogs found\n",
      "No top level hogs found\n",
      "No top level hogs found\n",
      "No top level hogs found\n",
      "No top level hogs found\n",
      "No top level hogs found\n",
      "No top level hogs found\n",
      "No top level hogs found\n",
      "No top level hogs found\n",
      "No top level hogs found\n",
      "No top level hogs found\n",
      "No top level hogs found\n",
      "No top level hogs found\n",
      "No top level hogs found\n",
      "No top level hogs found\n",
      "No top level hogs found\n",
      "No top level hogs found\n",
      "No top level hogs found\n",
      "No top level hogs found\n"
     ]
    },
    {
     "name": "stderr",
     "output_type": "stream",
     "text": [
      "85it [00:56,  1.63it/s]"
     ]
    },
    {
     "name": "stdout",
     "output_type": "stream",
     "text": [
      "No top level hogs found\n",
      "No top level hogs found\n",
      "No top level hogs found\n",
      "No top level hogs found\n",
      "No top level hogs found\n",
      "No top level hogs found\n",
      "No top level hogs found\n",
      "No top level hogs found\n",
      "No top level hogs found\n",
      "No top level hogs found\n",
      "No top level hogs found\n",
      "No top level hogs found\n",
      "No top level hogs found\n",
      "No top level hogs found\n",
      "No top level hogs found\n",
      "No top level hogs found\n",
      "No top level hogs found\n",
      "No top level hogs found\n",
      "No top level hogs found\n",
      "No top level hogs found\n",
      "No top level hogs found\n",
      "No top level hogs found\n",
      "No top level hogs found"
     ]
    },
    {
     "name": "stderr",
     "output_type": "stream",
     "text": [
      "86it [00:57,  1.63it/s]"
     ]
    },
    {
     "name": "stdout",
     "output_type": "stream",
     "text": [
      "\n",
      "No top level hogs found\n",
      "No top level hogs found\n",
      "No top level hogs found\n",
      "No top level hogs found\n",
      "No top level hogs found\n",
      "No top level hogs found\n",
      "No top level hogs found\n",
      "No top level hogs found\n",
      "No top level hogs found\n",
      "No top level hogs found\n",
      "No top level hogs found\n",
      "No top level hogs found\n",
      "No top level hogs found\n",
      "No top level hogs found\n",
      "No top level hogs found\n",
      "No top level hogs found\n",
      "No top level hogs found\n",
      "No top level hogs found\n",
      "No top level hogs found\n",
      "No top level hogs found\n",
      "No top level hogs found\n"
     ]
    },
    {
     "name": "stderr",
     "output_type": "stream",
     "text": [
      "87it [00:58,  1.53it/s]"
     ]
    },
    {
     "name": "stdout",
     "output_type": "stream",
     "text": [
      "No top level hogs found\n",
      "No top level hogs found\n",
      "No top level hogs found\n",
      "No top level hogs found\n",
      "No top level hogs found\n",
      "No top level hogs found\n",
      "No top level hogs found\n",
      "No top level hogs found\n",
      "No top level hogs found\n",
      "No top level hogs found\n",
      "No top level hogs found\n",
      "No top level hogs found\n",
      "No top level hogs found\n",
      "No top level hogs found\n",
      "No top level hogs found\n",
      "No top level hogs found\n",
      "No top level hogs found\n",
      "No top level hogs found\n",
      "No top level hogs found\n",
      "No top level hogs found\n",
      "No top level hogs found\n",
      "No top level hogs found\n",
      "No top level hogs found\n",
      "No top level hogs found\n",
      "No top level hogs found\n",
      "No top level hogs found\n",
      "No top level hogs found\n",
      "No top level hogs found\n",
      "No top level hogs found\n",
      "No top level hogs found\n"
     ]
    },
    {
     "name": "stderr",
     "output_type": "stream",
     "text": [
      "88it [00:58,  1.56it/s]"
     ]
    },
    {
     "name": "stdout",
     "output_type": "stream",
     "text": [
      "No top level hogs found\n",
      "No top level hogs found\n",
      "No top level hogs found\n",
      "No top level hogs found\n",
      "No top level hogs found\n",
      "No top level hogs found\n",
      "No top level hogs found\n",
      "No top level hogs found\n",
      "No top level hogs found\n",
      "No top level hogs found\n",
      "No top level hogs found\n",
      "No top level hogs found\n",
      "No top level hogs found\n",
      "No top level hogs found\n",
      "No top level hogs found\n",
      "No top level hogs found\n",
      "No top level hogs found\n",
      "No top level hogs found\n",
      "No top level hogs found\n",
      "No top level hogs found\n",
      "No top level hogs found\n",
      "No top level hogs found\n",
      "No top level hogs found\n",
      "No top level hogs found\n",
      "No top level hogs found"
     ]
    },
    {
     "name": "stderr",
     "output_type": "stream",
     "text": [
      "89it [00:59,  1.48it/s]"
     ]
    },
    {
     "name": "stdout",
     "output_type": "stream",
     "text": [
      "\n",
      "No top level hogs found\n",
      "No top level hogs found\n",
      "No top level hogs found\n",
      "No top level hogs found\n",
      "No top level hogs found\n",
      "No top level hogs found\n",
      "No top level hogs found\n",
      "No top level hogs found\n",
      "No top level hogs found\n",
      "No top level hogs found\n",
      "No top level hogs found\n",
      "No top level hogs found\n",
      "No top level hogs found\n",
      "No top level hogs found\n",
      "No top level hogs found\n",
      "No top level hogs found\n",
      "No top level hogs found\n",
      "No top level hogs found\n",
      "No top level hogs found\n",
      "No top level hogs found\n",
      "No top level hogs found\n",
      "No top level hogs found\n",
      "No top level hogs found\n",
      "No top level hogs found\n",
      "No top level hogs found\n"
     ]
    },
    {
     "name": "stderr",
     "output_type": "stream",
     "text": [
      "90it [01:00,  1.53it/s]"
     ]
    },
    {
     "name": "stdout",
     "output_type": "stream",
     "text": [
      "No top level hogs found\n",
      "No top level hogs found\n",
      "No top level hogs found\n",
      "No top level hogs found\n",
      "No top level hogs found\n",
      "No top level hogs found\n",
      "No top level hogs found\n",
      "No top level hogs found\n",
      "No top level hogs found\n",
      "No top level hogs found\n",
      "No top level hogs found\n",
      "No top level hogs found\n",
      "No top level hogs found\n",
      "No top level hogs found\n",
      "No top level hogs found\n",
      "No top level hogs found\n",
      "No top level hogs found\n",
      "No top level hogs found\n"
     ]
    },
    {
     "name": "stderr",
     "output_type": "stream",
     "text": [
      "91it [01:00,  1.41it/s]"
     ]
    },
    {
     "name": "stdout",
     "output_type": "stream",
     "text": [
      "No top level hogs found\n",
      "No top level hogs found\n",
      "No top level hogs found\n",
      "No top level hogs found\n",
      "No top level hogs found\n",
      "No top level hogs found\n",
      "No top level hogs found\n",
      "No top level hogs found\n",
      "No top level hogs found\n",
      "No top level hogs found\n",
      "No top level hogs found\n",
      "No top level hogs found\n",
      "No top level hogs found\n",
      "No top level hogs found\n",
      "No top level hogs found\n",
      "No top level hogs found\n",
      "No top level hogs found\n",
      "No top level hogs found\n",
      "No top level hogs found"
     ]
    },
    {
     "name": "stderr",
     "output_type": "stream",
     "text": [
      "92it [01:01,  1.48it/s]"
     ]
    },
    {
     "name": "stdout",
     "output_type": "stream",
     "text": [
      "\n",
      "No top level hogs found\n",
      "No top level hogs found\n",
      "No top level hogs found\n",
      "No top level hogs found\n",
      "No top level hogs found\n",
      "No top level hogs found\n",
      "No top level hogs found\n",
      "No top level hogs found\n",
      "No top level hogs found\n",
      "No top level hogs found\n",
      "No top level hogs found\n",
      "No top level hogs found\n",
      "No top level hogs found\n",
      "No top level hogs found\n",
      "No top level hogs found\n",
      "No top level hogs found\n",
      "No top level hogs found\n",
      "No top level hogs found\n",
      "No top level hogs found\n",
      "No top level hogs found\n",
      "No top level hogs found\n",
      "No top level hogs found\n",
      "No top level hogs found\n",
      "No top level hogs found\n",
      "No top level hogs found\n"
     ]
    },
    {
     "name": "stderr",
     "output_type": "stream",
     "text": [
      "93it [01:02,  1.44it/s]"
     ]
    },
    {
     "name": "stdout",
     "output_type": "stream",
     "text": [
      "No top level hogs found\n",
      "No top level hogs found\n",
      "No top level hogs found\n",
      "No top level hogs found\n",
      "No top level hogs found\n",
      "No top level hogs found\n",
      "No top level hogs found\n",
      "No top level hogs found\n",
      "No top level hogs found\n",
      "No top level hogs found\n",
      "No top level hogs found\n",
      "No top level hogs found\n",
      "No top level hogs found\n",
      "No top level hogs found\n"
     ]
    },
    {
     "name": "stderr",
     "output_type": "stream",
     "text": [
      "94it [01:02,  1.56it/s]"
     ]
    },
    {
     "name": "stdout",
     "output_type": "stream",
     "text": [
      "No top level hogs found\n",
      "No top level hogs found\n",
      "No top level hogs found\n",
      "No top level hogs found\n",
      "No top level hogs found\n",
      "No top level hogs found\n",
      "No top level hogs found\n",
      "No top level hogs found\n",
      "No top level hogs found\n",
      "No top level hogs found\n",
      "No top level hogs found\n",
      "No top level hogs found\n",
      "No top level hogs found\n",
      "No top level hogs found\n",
      "No top level hogs found\n",
      "No top level hogs found\n",
      "No top level hogs found\n",
      "No top level hogs found\n",
      "No top level hogs found\n",
      "No top level hogs found\n",
      "No top level hogs found\n",
      "No top level hogs found\n",
      "No top level hogs found\n",
      "No top level hogs found\n",
      "No top level hogs found\n",
      "No top level hogs found\n",
      "No top level hogs found\n",
      "No top level hogs found\n",
      "No top level hogs found\n"
     ]
    },
    {
     "name": "stderr",
     "output_type": "stream",
     "text": [
      "95it [01:03,  1.57it/s]"
     ]
    },
    {
     "name": "stdout",
     "output_type": "stream",
     "text": [
      "No top level hogs found\n",
      "No top level hogs found\n",
      "No top level hogs found\n",
      "No top level hogs found\n",
      "No top level hogs found\n",
      "No top level hogs found\n",
      "No top level hogs found\n",
      "No top level hogs found\n",
      "No top level hogs found\n",
      "No top level hogs found\n",
      "No top level hogs found\n",
      "No top level hogs found\n",
      "No top level hogs found\n",
      "No top level hogs found\n",
      "No top level hogs found\n",
      "No top level hogs found\n",
      "No top level hogs found\n",
      "No top level hogs found\n",
      "No top level hogs found\n",
      "No top level hogs found\n",
      "No top level hogs found\n",
      "No top level hogs found\n",
      "No top level hogs found\n",
      "No top level hogs found\n",
      "No top level hogs found"
     ]
    },
    {
     "name": "stderr",
     "output_type": "stream",
     "text": [
      "96it [01:04,  1.53it/s]"
     ]
    },
    {
     "name": "stdout",
     "output_type": "stream",
     "text": [
      "\n",
      "No top level hogs found\n",
      "No top level hogs found\n",
      "No top level hogs found\n",
      "No top level hogs found\n",
      "No top level hogs found\n",
      "No top level hogs found\n",
      "No top level hogs found\n",
      "No top level hogs found\n",
      "No top level hogs found\n",
      "No top level hogs found\n",
      "No top level hogs found\n",
      "No top level hogs found\n",
      "No top level hogs found\n",
      "No top level hogs found\n",
      "No top level hogs found\n",
      "No top level hogs found\n",
      "No top level hogs found\n",
      "No top level hogs found\n",
      "No top level hogs found\n",
      "No top level hogs found\n",
      "No top level hogs found\n",
      "No top level hogs found\n",
      "No top level hogs found\n"
     ]
    },
    {
     "name": "stderr",
     "output_type": "stream",
     "text": [
      "97it [01:04,  1.54it/s]"
     ]
    },
    {
     "name": "stdout",
     "output_type": "stream",
     "text": [
      "No top level hogs found\n",
      "No top level hogs found\n",
      "No top level hogs found\n",
      "No top level hogs found\n",
      "No top level hogs found\n",
      "No top level hogs found\n",
      "No top level hogs found\n",
      "No top level hogs found\n",
      "No top level hogs found\n",
      "No top level hogs found\n",
      "No top level hogs found\n",
      "No top level hogs found\n",
      "No top level hogs found\n",
      "No top level hogs found\n",
      "No top level hogs found\n",
      "No top level hogs found\n",
      "No top level hogs found\n",
      "No top level hogs found\n",
      "No top level hogs found\n",
      "No top level hogs found\n",
      "No top level hogs found\n",
      "No top level hogs found\n",
      "No top level hogs found\n",
      "No top level hogs found\n",
      "No top level hogs found"
     ]
    },
    {
     "name": "stderr",
     "output_type": "stream",
     "text": [
      "98it [01:05,  1.56it/s]"
     ]
    },
    {
     "name": "stdout",
     "output_type": "stream",
     "text": [
      "\n",
      "No top level hogs found\n",
      "No top level hogs found\n",
      "No top level hogs found\n",
      "No top level hogs found\n",
      "No top level hogs found\n",
      "No top level hogs found\n",
      "No top level hogs found\n",
      "No top level hogs found\n",
      "No top level hogs found\n",
      "No top level hogs found\n",
      "No top level hogs found\n",
      "No top level hogs found\n",
      "No top level hogs found\n",
      "No top level hogs found\n",
      "No top level hogs found\n",
      "No top level hogs found\n",
      "No top level hogs found\n",
      "No top level hogs found\n",
      "No top level hogs found\n",
      "No top level hogs found\n",
      "No top level hogs found\n",
      "No top level hogs found\n",
      "No top level hogs found\n",
      "No top level hogs found\n",
      "No top level hogs found\n"
     ]
    },
    {
     "name": "stderr",
     "output_type": "stream",
     "text": [
      "99it [01:06,  1.56it/s]"
     ]
    },
    {
     "name": "stdout",
     "output_type": "stream",
     "text": [
      "No top level hogs found\n",
      "No top level hogs found\n",
      "No top level hogs found\n",
      "No top level hogs found\n",
      "No top level hogs found\n",
      "No top level hogs found\n",
      "No top level hogs found\n",
      "No top level hogs found\n",
      "No top level hogs found\n",
      "No top level hogs found\n",
      "No top level hogs found\n",
      "No top level hogs found\n",
      "No top level hogs found\n",
      "No top level hogs found\n",
      "No top level hogs found\n",
      "No top level hogs found\n",
      "No top level hogs found\n",
      "No top level hogs found\n",
      "No top level hogs found\n",
      "No top level hogs found\n",
      "No top level hogs found\n",
      "No top level hogs found\n",
      "No top level hogs found"
     ]
    },
    {
     "name": "stderr",
     "output_type": "stream",
     "text": [
      "100it [01:06,  1.53it/s]"
     ]
    },
    {
     "name": "stdout",
     "output_type": "stream",
     "text": [
      "\n",
      "No top level hogs found\n",
      "No top level hogs found\n",
      "No top level hogs found\n",
      "No top level hogs found\n",
      "No top level hogs found\n",
      "No top level hogs found\n",
      "No top level hogs found\n",
      "No top level hogs found\n",
      "No top level hogs found\n",
      "No top level hogs found\n",
      "No top level hogs found\n",
      "No top level hogs found\n",
      "No top level hogs found\n",
      "No top level hogs found\n",
      "No top level hogs found\n",
      "No top level hogs found\n",
      "No top level hogs found\n",
      "No top level hogs found\n",
      "No top level hogs found\n",
      "No top level hogs found\n",
      "No top level hogs found\n",
      "No top level hogs found\n",
      "No top level hogs found\n",
      "No top level hogs found\n",
      "No top level hogs found"
     ]
    },
    {
     "name": "stderr",
     "output_type": "stream",
     "text": [
      "101it [01:07,  1.53it/s]"
     ]
    },
    {
     "name": "stdout",
     "output_type": "stream",
     "text": [
      "\n",
      "No top level hogs found\n",
      "No top level hogs found\n",
      "No top level hogs found\n",
      "No top level hogs found\n",
      "No top level hogs found\n",
      "No top level hogs found\n",
      "No top level hogs found\n",
      "No top level hogs found\n",
      "No top level hogs found\n",
      "No top level hogs found\n",
      "No top level hogs found\n",
      "No top level hogs found\n",
      "No top level hogs found\n",
      "No top level hogs found\n",
      "No top level hogs found\n",
      "No top level hogs found\n",
      "No top level hogs found\n",
      "No top level hogs found\n",
      "No top level hogs found\n",
      "No top level hogs found\n"
     ]
    },
    {
     "name": "stderr",
     "output_type": "stream",
     "text": [
      "102it [01:07,  1.59it/s]"
     ]
    },
    {
     "name": "stdout",
     "output_type": "stream",
     "text": [
      "No top level hogs found\n",
      "No top level hogs found\n",
      "No top level hogs found\n",
      "No top level hogs found\n",
      "No top level hogs found\n",
      "No top level hogs found\n",
      "No top level hogs found\n",
      "No top level hogs found\n",
      "No top level hogs found\n",
      "No top level hogs found\n",
      "No top level hogs found\n",
      "No top level hogs found\n",
      "No top level hogs found\n",
      "No top level hogs found\n",
      "No top level hogs found\n",
      "No top level hogs found\n",
      "No top level hogs found\n",
      "No top level hogs found\n",
      "No top level hogs found\n"
     ]
    },
    {
     "name": "stderr",
     "output_type": "stream",
     "text": [
      "103it [01:08,  1.65it/s]"
     ]
    },
    {
     "name": "stdout",
     "output_type": "stream",
     "text": [
      "No top level hogs found\n",
      "No top level hogs found\n",
      "No top level hogs found\n",
      "No top level hogs found\n",
      "No top level hogs found\n",
      "No top level hogs found\n",
      "No top level hogs found\n",
      "No top level hogs found\n",
      "No top level hogs found\n",
      "No top level hogs found\n",
      "No top level hogs found\n",
      "No top level hogs found\n",
      "No top level hogs found\n",
      "No top level hogs found\n",
      "No top level hogs found\n",
      "No top level hogs found\n",
      "No top level hogs found\n",
      "No top level hogs found\n",
      "No top level hogs found\n",
      "No top level hogs found\n",
      "No top level hogs found\n",
      "No top level hogs found\n",
      "No top level hogs found\n",
      "No top level hogs found\n",
      "No top level hogs found\n",
      "No top level hogs found\n",
      "No top level hogs found\n",
      "No top level hogs found\n",
      "No top level hogs found\n",
      "No top level hogs found\n",
      "No top level hogs found"
     ]
    },
    {
     "name": "stderr",
     "output_type": "stream",
     "text": [
      "104it [01:09,  1.58it/s]"
     ]
    },
    {
     "name": "stdout",
     "output_type": "stream",
     "text": [
      "\n",
      "No top level hogs found\n",
      "No top level hogs found\n",
      "No top level hogs found\n",
      "No top level hogs found\n",
      "No top level hogs found\n",
      "No top level hogs found\n",
      "No top level hogs found\n",
      "No top level hogs found\n",
      "No top level hogs found\n",
      "No top level hogs found\n",
      "No top level hogs found\n",
      "No top level hogs found\n",
      "No top level hogs found\n",
      "No top level hogs found\n",
      "No top level hogs found\n",
      "No top level hogs found\n",
      "No top level hogs found\n",
      "No top level hogs found\n",
      "No top level hogs found\n",
      "No top level hogs found\n",
      "No top level hogs found\n",
      "No top level hogs found\n",
      "No top level hogs found\n",
      "No top level hogs found\n",
      "No top level hogs found\n",
      "No top level hogs found\n",
      "No top level hogs found\n",
      "No top level hogs found\n",
      "No top level hogs found\n",
      "No top level hogs found\n",
      "No top level hogs found"
     ]
    },
    {
     "name": "stderr",
     "output_type": "stream",
     "text": [
      "105it [01:09,  1.52it/s]"
     ]
    },
    {
     "name": "stdout",
     "output_type": "stream",
     "text": [
      "\n",
      "No top level hogs found\n",
      "No top level hogs found\n",
      "No top level hogs found\n",
      "No top level hogs found\n",
      "No top level hogs found\n",
      "No top level hogs found\n",
      "No top level hogs found\n",
      "No top level hogs found\n",
      "No top level hogs found\n",
      "No top level hogs found\n",
      "No top level hogs found\n",
      "No top level hogs found\n",
      "No top level hogs found\n",
      "No top level hogs found\n",
      "No top level hogs found\n",
      "No top level hogs found\n",
      "No top level hogs found\n",
      "No top level hogs found\n",
      "No top level hogs found\n",
      "No top level hogs found\n",
      "No top level hogs found\n",
      "No top level hogs found\n",
      "No top level hogs found\n",
      "No top level hogs found\n",
      "No top level hogs found\n",
      "No top level hogs found"
     ]
    },
    {
     "name": "stderr",
     "output_type": "stream",
     "text": [
      "106it [01:10,  1.50it/s]"
     ]
    },
    {
     "name": "stdout",
     "output_type": "stream",
     "text": [
      "\n",
      "No top level hogs found\n",
      "No top level hogs found\n",
      "No top level hogs found\n",
      "No top level hogs found\n",
      "No top level hogs found\n",
      "No top level hogs found\n",
      "No top level hogs found\n",
      "No top level hogs found\n",
      "No top level hogs found\n",
      "No top level hogs found\n",
      "No top level hogs found\n",
      "No top level hogs found\n",
      "No top level hogs found\n",
      "No top level hogs found\n",
      "No top level hogs found\n",
      "No top level hogs found\n",
      "No top level hogs found\n",
      "No top level hogs found\n",
      "No top level hogs found\n",
      "No top level hogs found\n",
      "No top level hogs found\n"
     ]
    },
    {
     "name": "stderr",
     "output_type": "stream",
     "text": [
      "107it [01:11,  1.50it/s]"
     ]
    },
    {
     "name": "stdout",
     "output_type": "stream",
     "text": [
      "No top level hogs found\n",
      "No top level hogs found\n",
      "No top level hogs found\n",
      "No top level hogs found\n",
      "No top level hogs found\n",
      "No top level hogs found\n",
      "No top level hogs found\n",
      "No top level hogs found\n",
      "No top level hogs found\n",
      "No top level hogs found\n",
      "No top level hogs found\n",
      "No top level hogs found\n",
      "No top level hogs found\n",
      "No top level hogs found\n"
     ]
    },
    {
     "name": "stderr",
     "output_type": "stream",
     "text": [
      "108it [01:11,  1.46it/s]"
     ]
    },
    {
     "name": "stdout",
     "output_type": "stream",
     "text": [
      "No top level hogs found\n",
      "No top level hogs found\n",
      "No top level hogs found\n",
      "No top level hogs found\n",
      "No top level hogs found\n",
      "No top level hogs found\n",
      "No top level hogs found\n",
      "No top level hogs found\n",
      "No top level hogs found\n",
      "No top level hogs found\n",
      "No top level hogs found\n",
      "No top level hogs found\n",
      "No top level hogs found\n",
      "No top level hogs found\n",
      "No top level hogs found\n",
      "No top level hogs found\n",
      "No top level hogs found\n",
      "No top level hogs found\n",
      "No top level hogs found\n",
      "No top level hogs found\n",
      "No top level hogs found\n",
      "No top level hogs found\n",
      "No top level hogs found\n",
      "No top level hogs found\n",
      "No top level hogs found"
     ]
    },
    {
     "name": "stderr",
     "output_type": "stream",
     "text": [
      "109it [01:12,  1.53it/s]"
     ]
    },
    {
     "name": "stdout",
     "output_type": "stream",
     "text": [
      "\n",
      "No top level hogs found\n",
      "No top level hogs found\n",
      "No top level hogs found\n",
      "No top level hogs found\n",
      "No top level hogs found\n",
      "No top level hogs found\n",
      "No top level hogs found\n",
      "No top level hogs found\n",
      "No top level hogs found\n",
      "No top level hogs found\n",
      "No top level hogs found\n",
      "No top level hogs found\n",
      "No top level hogs found\n",
      "No top level hogs found\n",
      "No top level hogs found\n",
      "No top level hogs found\n",
      "No top level hogs found\n",
      "No top level hogs found\n",
      "No top level hogs found\n",
      "No top level hogs found\n",
      "No top level hogs found\n",
      "No top level hogs found\n",
      "No top level hogs found"
     ]
    },
    {
     "name": "stderr",
     "output_type": "stream",
     "text": [
      "110it [01:13,  1.57it/s]"
     ]
    },
    {
     "name": "stdout",
     "output_type": "stream",
     "text": [
      "\n",
      "No top level hogs found\n",
      "No top level hogs found\n",
      "No top level hogs found\n",
      "No top level hogs found\n",
      "No top level hogs found\n",
      "No top level hogs found\n",
      "No top level hogs found\n",
      "No top level hogs found\n",
      "No top level hogs found\n",
      "No top level hogs found\n",
      "No top level hogs found\n",
      "No top level hogs found\n",
      "No top level hogs found\n",
      "No top level hogs found\n",
      "No top level hogs found\n",
      "No top level hogs found\n",
      "No top level hogs found\n",
      "No top level hogs found\n",
      "No top level hogs found\n",
      "No top level hogs found\n",
      "No top level hogs found\n",
      "No top level hogs found\n",
      "No top level hogs found\n",
      "No top level hogs found\n",
      "No top level hogs found\n",
      "No top level hogs found\n",
      "No top level hogs found\n",
      "No top level hogs found"
     ]
    },
    {
     "name": "stderr",
     "output_type": "stream",
     "text": [
      "111it [01:13,  1.52it/s]"
     ]
    },
    {
     "name": "stdout",
     "output_type": "stream",
     "text": [
      "\n",
      "No top level hogs found\n",
      "No top level hogs found\n",
      "No top level hogs found\n",
      "No top level hogs found\n",
      "No top level hogs found\n",
      "No top level hogs found\n",
      "No top level hogs found\n",
      "No top level hogs found\n",
      "No top level hogs found\n",
      "No top level hogs found\n",
      "No top level hogs found\n",
      "No top level hogs found\n",
      "No top level hogs found\n",
      "No top level hogs found\n",
      "No top level hogs found\n",
      "No top level hogs found\n",
      "No top level hogs found\n",
      "No top level hogs found\n",
      "No top level hogs found\n",
      "No top level hogs found\n",
      "No top level hogs found\n",
      "No top level hogs found\n",
      "No top level hogs found\n"
     ]
    },
    {
     "name": "stderr",
     "output_type": "stream",
     "text": [
      "112it [01:14,  1.50it/s]"
     ]
    },
    {
     "name": "stdout",
     "output_type": "stream",
     "text": [
      "No top level hogs found\n",
      "No top level hogs found\n",
      "No top level hogs found\n",
      "No top level hogs found\n",
      "No top level hogs found\n",
      "No top level hogs found\n",
      "No top level hogs found\n",
      "No top level hogs found\n",
      "No top level hogs found\n",
      "No top level hogs found\n",
      "No top level hogs found\n",
      "No top level hogs found\n",
      "No top level hogs found\n",
      "No top level hogs found\n",
      "No top level hogs found\n",
      "No top level hogs found\n",
      "No top level hogs found\n",
      "No top level hogs found\n",
      "No top level hogs found\n",
      "No top level hogs found\n",
      "No top level hogs found\n",
      "No top level hogs found\n",
      "No top level hogs found"
     ]
    },
    {
     "name": "stderr",
     "output_type": "stream",
     "text": [
      "113it [01:15,  1.54it/s]"
     ]
    },
    {
     "name": "stdout",
     "output_type": "stream",
     "text": [
      "\n",
      "No top level hogs found\n",
      "No top level hogs found\n",
      "No top level hogs found\n",
      "No top level hogs found\n",
      "No top level hogs found\n",
      "No top level hogs found\n",
      "No top level hogs found\n",
      "No top level hogs found\n",
      "No top level hogs found\n",
      "No top level hogs found\n",
      "No top level hogs found\n",
      "No top level hogs found\n",
      "No top level hogs found\n",
      "No top level hogs found\n",
      "No top level hogs found\n",
      "No top level hogs found\n",
      "No top level hogs found\n",
      "No top level hogs found\n",
      "No top level hogs found\n",
      "No top level hogs found\n",
      "No top level hogs found\n",
      "No top level hogs found\n",
      "No top level hogs found\n",
      "No top level hogs found\n",
      "No top level hogs found\n",
      "No top level hogs found\n",
      "No top level hogs found\n"
     ]
    },
    {
     "name": "stderr",
     "output_type": "stream",
     "text": [
      "114it [01:15,  1.54it/s]"
     ]
    },
    {
     "name": "stdout",
     "output_type": "stream",
     "text": [
      "No top level hogs found\n",
      "No top level hogs found\n",
      "No top level hogs found\n",
      "No top level hogs found\n",
      "No top level hogs found\n",
      "No top level hogs found\n",
      "No top level hogs found\n",
      "No top level hogs found\n",
      "No top level hogs found\n",
      "No top level hogs found\n",
      "No top level hogs found\n",
      "No top level hogs found\n",
      "No top level hogs found\n",
      "No top level hogs found\n",
      "No top level hogs found\n",
      "No top level hogs found\n",
      "No top level hogs found\n",
      "No top level hogs found\n",
      "No top level hogs found\n",
      "No top level hogs found\n",
      "No top level hogs found\n",
      "No top level hogs found\n",
      "No top level hogs found\n",
      "No top level hogs found\n",
      "No top level hogs found\n",
      "No top level hogs found\n"
     ]
    },
    {
     "name": "stderr",
     "output_type": "stream",
     "text": [
      "115it [01:16,  1.50it/s]"
     ]
    },
    {
     "name": "stdout",
     "output_type": "stream",
     "text": [
      "No top level hogs found\n",
      "No top level hogs found\n",
      "No top level hogs found\n",
      "No top level hogs found\n",
      "No top level hogs found\n",
      "No top level hogs found\n",
      "No top level hogs found\n",
      "No top level hogs found\n",
      "No top level hogs found\n",
      "No top level hogs found\n",
      "No top level hogs found\n",
      "No top level hogs found\n",
      "No top level hogs found\n",
      "No top level hogs found\n",
      "No top level hogs found\n",
      "No top level hogs found\n",
      "No top level hogs found\n",
      "No top level hogs found\n",
      "No top level hogs found\n",
      "No top level hogs found\n",
      "No top level hogs found\n",
      "No top level hogs found\n",
      "No top level hogs found\n"
     ]
    },
    {
     "name": "stderr",
     "output_type": "stream",
     "text": [
      "116it [01:17,  1.48it/s]"
     ]
    },
    {
     "name": "stdout",
     "output_type": "stream",
     "text": [
      "No top level hogs found\n",
      "No top level hogs found\n",
      "No top level hogs found\n",
      "No top level hogs found\n",
      "No top level hogs found\n",
      "No top level hogs found\n",
      "No top level hogs found\n",
      "No top level hogs found\n",
      "No top level hogs found\n",
      "No top level hogs found\n",
      "No top level hogs found\n",
      "No top level hogs found\n",
      "No top level hogs found\n",
      "No top level hogs found\n",
      "No top level hogs found\n",
      "No top level hogs found\n",
      "No top level hogs found\n",
      "No top level hogs found\n",
      "No top level hogs found\n"
     ]
    },
    {
     "name": "stderr",
     "output_type": "stream",
     "text": [
      "117it [01:17,  1.53it/s]"
     ]
    },
    {
     "name": "stdout",
     "output_type": "stream",
     "text": [
      "No top level hogs found\n",
      "No top level hogs found\n",
      "No top level hogs found\n",
      "No top level hogs found\n",
      "No top level hogs found\n",
      "No top level hogs found\n",
      "No top level hogs found\n",
      "No top level hogs found\n",
      "No top level hogs found\n",
      "No top level hogs found\n",
      "No top level hogs found\n",
      "No top level hogs found\n",
      "No top level hogs found\n",
      "No top level hogs found\n",
      "No top level hogs found\n",
      "No top level hogs found\n",
      "No top level hogs found\n",
      "No top level hogs found\n",
      "No top level hogs found\n",
      "No top level hogs found\n",
      "No top level hogs found\n",
      "No top level hogs found\n"
     ]
    },
    {
     "name": "stderr",
     "output_type": "stream",
     "text": [
      "118it [01:18,  1.55it/s]"
     ]
    },
    {
     "name": "stdout",
     "output_type": "stream",
     "text": [
      "No top level hogs found\n",
      "No top level hogs found\n",
      "No top level hogs found\n",
      "No top level hogs found\n",
      "No top level hogs found\n",
      "No top level hogs found\n",
      "No top level hogs found\n",
      "No top level hogs found\n",
      "No top level hogs found\n",
      "No top level hogs found\n",
      "No top level hogs found\n",
      "No top level hogs found\n",
      "No top level hogs found\n",
      "No top level hogs found\n",
      "No top level hogs found\n",
      "No top level hogs found\n",
      "No top level hogs found\n",
      "No top level hogs found\n",
      "No top level hogs found\n",
      "No top level hogs found\n",
      "No top level hogs found\n",
      "No top level hogs found\n",
      "No top level hogs found\n",
      "No top level hogs found\n",
      "No top level hogs found\n"
     ]
    },
    {
     "name": "stderr",
     "output_type": "stream",
     "text": [
      "119it [01:19,  1.50it/s]"
     ]
    },
    {
     "name": "stdout",
     "output_type": "stream",
     "text": [
      "No top level hogs found\n",
      "No top level hogs found\n",
      "No top level hogs found\n",
      "No top level hogs found\n",
      "No top level hogs found\n",
      "No top level hogs found\n",
      "No top level hogs found\n",
      "No top level hogs found\n",
      "No top level hogs found\n",
      "No top level hogs found\n",
      "No top level hogs found\n",
      "No top level hogs found\n",
      "No top level hogs found\n",
      "No top level hogs found"
     ]
    },
    {
     "name": "stderr",
     "output_type": "stream",
     "text": [
      "120it [01:20,  1.35it/s]"
     ]
    },
    {
     "name": "stdout",
     "output_type": "stream",
     "text": [
      "\n",
      "No top level hogs found\n",
      "No top level hogs found\n",
      "No top level hogs found\n",
      "No top level hogs found\n",
      "No top level hogs found\n",
      "No top level hogs found\n",
      "No top level hogs found\n",
      "No top level hogs found\n",
      "No top level hogs found\n",
      "No top level hogs found\n",
      "No top level hogs found\n",
      "No top level hogs found\n",
      "No top level hogs found\n",
      "No top level hogs found\n",
      "No top level hogs found\n",
      "No top level hogs found\n",
      "No top level hogs found\n",
      "No top level hogs found\n",
      "No top level hogs found\n",
      "No top level hogs found\n",
      "No top level hogs found\n",
      "No top level hogs found"
     ]
    },
    {
     "name": "stderr",
     "output_type": "stream",
     "text": [
      "121it [01:20,  1.47it/s]"
     ]
    },
    {
     "name": "stdout",
     "output_type": "stream",
     "text": [
      "\n",
      "No top level hogs found\n",
      "No top level hogs found\n",
      "No top level hogs found\n",
      "No top level hogs found\n",
      "No top level hogs found\n",
      "No top level hogs found\n",
      "No top level hogs found\n",
      "No top level hogs found\n",
      "No top level hogs found\n",
      "No top level hogs found\n",
      "No top level hogs found\n",
      "No top level hogs found\n",
      "No top level hogs found\n",
      "No top level hogs found\n",
      "No top level hogs found\n",
      "No top level hogs found\n",
      "No top level hogs found\n",
      "No top level hogs found\n",
      "No top level hogs found\n",
      "No top level hogs found\n",
      "No top level hogs found\n",
      "No top level hogs found\n",
      "No top level hogs found\n",
      "No top level hogs found\n",
      "No top level hogs found\n",
      "No top level hogs found\n",
      "No top level hogs found\n",
      "No top level hogs found\n",
      "No top level hogs found\n",
      "No top level hogs found\n",
      "No top level hogs found\n"
     ]
    },
    {
     "name": "stderr",
     "output_type": "stream",
     "text": [
      "122it [01:21,  1.35it/s]"
     ]
    },
    {
     "name": "stdout",
     "output_type": "stream",
     "text": [
      "No top level hogs found\n",
      "No top level hogs found\n",
      "No top level hogs found\n",
      "No top level hogs found\n",
      "No top level hogs found\n",
      "No top level hogs found\n",
      "No top level hogs found\n",
      "No top level hogs found\n",
      "No top level hogs found\n",
      "No top level hogs found\n",
      "No top level hogs found\n",
      "No top level hogs found\n",
      "No top level hogs found\n",
      "No top level hogs found\n",
      "No top level hogs found\n",
      "No top level hogs found\n",
      "No top level hogs found\n",
      "No top level hogs found\n",
      "No top level hogs found\n",
      "No top level hogs found\n",
      "No top level hogs found\n",
      "No top level hogs found\n",
      "No top level hogs found\n",
      "No top level hogs found\n",
      "No top level hogs found\n",
      "No top level hogs found\n",
      "No top level hogs found"
     ]
    },
    {
     "name": "stderr",
     "output_type": "stream",
     "text": [
      "123it [01:22,  1.40it/s]"
     ]
    },
    {
     "name": "stdout",
     "output_type": "stream",
     "text": [
      "\n",
      "No top level hogs found\n",
      "No top level hogs found\n",
      "No top level hogs found\n",
      "No top level hogs found\n",
      "No top level hogs found\n",
      "No top level hogs found\n",
      "No top level hogs found\n",
      "No top level hogs found\n",
      "No top level hogs found\n",
      "No top level hogs found\n",
      "No top level hogs found\n",
      "No top level hogs found\n",
      "No top level hogs found\n",
      "No top level hogs found\n",
      "No top level hogs found\n",
      "No top level hogs found\n",
      "No top level hogs found\n",
      "No top level hogs found\n",
      "No top level hogs found\n",
      "No top level hogs found\n",
      "No top level hogs found\n",
      "No top level hogs found\n",
      "No top level hogs found\n",
      "No top level hogs found\n",
      "No top level hogs found\n",
      "No top level hogs found\n",
      "No top level hogs found\n"
     ]
    },
    {
     "name": "stderr",
     "output_type": "stream",
     "text": [
      "124it [01:22,  1.40it/s]"
     ]
    },
    {
     "name": "stdout",
     "output_type": "stream",
     "text": [
      "No top level hogs found\n",
      "No top level hogs found\n",
      "No top level hogs found\n",
      "No top level hogs found\n",
      "No top level hogs found\n",
      "No top level hogs found\n",
      "No top level hogs found\n",
      "No top level hogs found\n",
      "No top level hogs found\n",
      "No top level hogs found\n",
      "No top level hogs found\n",
      "No top level hogs found\n",
      "No top level hogs found\n",
      "No top level hogs found\n",
      "No top level hogs found\n",
      "No top level hogs found\n",
      "No top level hogs found\n",
      "No top level hogs found\n",
      "No top level hogs found\n",
      "No top level hogs found\n",
      "No top level hogs found\n",
      "No top level hogs found\n",
      "No top level hogs found\n"
     ]
    },
    {
     "name": "stderr",
     "output_type": "stream",
     "text": [
      "125it [01:23,  1.45it/s]"
     ]
    },
    {
     "name": "stdout",
     "output_type": "stream",
     "text": [
      "No top level hogs found\n",
      "No top level hogs found\n",
      "No top level hogs found\n",
      "No top level hogs found\n",
      "No top level hogs found\n",
      "No top level hogs found\n",
      "No top level hogs found\n",
      "No top level hogs found\n",
      "No top level hogs found\n",
      "No top level hogs found\n",
      "No top level hogs found\n",
      "No top level hogs found\n",
      "No top level hogs found\n",
      "No top level hogs found\n",
      "No top level hogs found\n",
      "No top level hogs found\n",
      "No top level hogs found\n",
      "No top level hogs found\n",
      "No top level hogs found\n",
      "No top level hogs found\n",
      "No top level hogs found\n",
      "No top level hogs found\n",
      "No top level hogs found\n",
      "No top level hogs found\n",
      "No top level hogs found\n",
      "No top level hogs found\n",
      "No top level hogs found\n",
      "No top level hogs found"
     ]
    },
    {
     "name": "stderr",
     "output_type": "stream",
     "text": [
      "126it [01:24,  1.50it/s]"
     ]
    },
    {
     "name": "stdout",
     "output_type": "stream",
     "text": [
      "\n",
      "No top level hogs found\n",
      "No top level hogs found\n",
      "No top level hogs found\n",
      "No top level hogs found\n",
      "No top level hogs found\n",
      "No top level hogs found\n",
      "No top level hogs found\n",
      "No top level hogs found\n",
      "No top level hogs found\n",
      "No top level hogs found\n",
      "No top level hogs found\n",
      "No top level hogs found\n",
      "No top level hogs found\n",
      "No top level hogs found\n"
     ]
    },
    {
     "name": "stderr",
     "output_type": "stream",
     "text": [
      "127it [01:24,  1.36it/s]"
     ]
    },
    {
     "name": "stdout",
     "output_type": "stream",
     "text": [
      "No top level hogs found\n",
      "No top level hogs found\n",
      "No top level hogs found\n",
      "No top level hogs found\n",
      "No top level hogs found\n",
      "No top level hogs found\n",
      "No top level hogs found\n",
      "No top level hogs found\n",
      "No top level hogs found\n",
      "No top level hogs found\n",
      "No top level hogs found\n",
      "No top level hogs found\n",
      "No top level hogs found\n",
      "No top level hogs found\n",
      "No top level hogs found\n",
      "No top level hogs found\n",
      "No top level hogs found\n",
      "No top level hogs found\n",
      "No top level hogs found\n",
      "No top level hogs found\n",
      "No top level hogs found\n",
      "No top level hogs found\n",
      "No top level hogs found\n",
      "No top level hogs found\n",
      "No top level hogs found\n",
      "No top level hogs found\n",
      "No top level hogs found\n"
     ]
    },
    {
     "name": "stderr",
     "output_type": "stream",
     "text": [
      "128it [01:25,  1.35it/s]"
     ]
    },
    {
     "name": "stdout",
     "output_type": "stream",
     "text": [
      "No top level hogs found\n",
      "No top level hogs found\n",
      "No top level hogs found\n",
      "No top level hogs found\n",
      "No top level hogs found\n",
      "No top level hogs found\n",
      "No top level hogs found\n",
      "No top level hogs found\n",
      "No top level hogs found\n",
      "No top level hogs found\n",
      "No top level hogs found\n",
      "No top level hogs found\n",
      "No top level hogs found\n",
      "No top level hogs found\n",
      "No top level hogs found\n",
      "No top level hogs found\n",
      "No top level hogs found\n",
      "No top level hogs found\n",
      "No top level hogs found\n",
      "No top level hogs found\n",
      "No top level hogs found\n",
      "No top level hogs found\n",
      "No top level hogs found\n",
      "No top level hogs found\n",
      "No top level hogs found\n"
     ]
    },
    {
     "name": "stderr",
     "output_type": "stream",
     "text": [
      "129it [01:26,  1.40it/s]"
     ]
    },
    {
     "name": "stdout",
     "output_type": "stream",
     "text": [
      "No top level hogs found\n",
      "No top level hogs found\n",
      "No top level hogs found\n",
      "No top level hogs found\n",
      "No top level hogs found\n",
      "No top level hogs found\n",
      "No top level hogs found\n",
      "No top level hogs found\n",
      "No top level hogs found\n",
      "No top level hogs found\n",
      "No top level hogs found\n",
      "No top level hogs found\n",
      "No top level hogs found\n",
      "No top level hogs found\n",
      "No top level hogs found\n",
      "No top level hogs found\n",
      "No top level hogs found\n",
      "No top level hogs found\n",
      "No top level hogs found\n",
      "No top level hogs found"
     ]
    },
    {
     "name": "stderr",
     "output_type": "stream",
     "text": [
      "130it [01:27,  1.44it/s]"
     ]
    },
    {
     "name": "stdout",
     "output_type": "stream",
     "text": [
      "\n",
      "No top level hogs found\n",
      "No top level hogs found\n",
      "No top level hogs found\n",
      "No top level hogs found\n",
      "No top level hogs found\n",
      "No top level hogs found\n",
      "No top level hogs found\n",
      "No top level hogs found\n",
      "No top level hogs found\n",
      "No top level hogs found\n",
      "No top level hogs found\n",
      "No top level hogs found\n",
      "No top level hogs found\n",
      "No top level hogs found\n",
      "No top level hogs found\n",
      "No top level hogs found\n",
      "No top level hogs found\n"
     ]
    },
    {
     "name": "stderr",
     "output_type": "stream",
     "text": [
      "131it [01:27,  1.40it/s]"
     ]
    },
    {
     "name": "stdout",
     "output_type": "stream",
     "text": [
      "No top level hogs found\n",
      "No top level hogs found\n",
      "No top level hogs found\n",
      "No top level hogs found\n",
      "No top level hogs found\n",
      "No top level hogs found\n",
      "No top level hogs found\n",
      "No top level hogs found\n",
      "No top level hogs found\n",
      "No top level hogs found\n",
      "No top level hogs found\n",
      "No top level hogs found\n",
      "No top level hogs found\n",
      "No top level hogs found\n",
      "No top level hogs found\n",
      "No top level hogs found\n",
      "No top level hogs found\n",
      "No top level hogs found\n",
      "No top level hogs found\n",
      "No top level hogs found\n",
      "No top level hogs found\n",
      "No top level hogs found\n",
      "No top level hogs found\n",
      "No top level hogs found\n",
      "No top level hogs found"
     ]
    },
    {
     "name": "stderr",
     "output_type": "stream",
     "text": [
      "132it [01:28,  1.38it/s]"
     ]
    },
    {
     "name": "stdout",
     "output_type": "stream",
     "text": [
      "\n",
      "No top level hogs found\n",
      "No top level hogs found\n",
      "No top level hogs found\n",
      "No top level hogs found\n",
      "No top level hogs found\n",
      "No top level hogs found\n",
      "No top level hogs found\n",
      "No top level hogs found\n",
      "No top level hogs found\n",
      "No top level hogs found\n",
      "No top level hogs found\n",
      "No top level hogs found\n",
      "No top level hogs found\n",
      "No top level hogs found\n",
      "No top level hogs found\n",
      "No top level hogs found\n",
      "No top level hogs found\n",
      "No top level hogs found\n",
      "No top level hogs found\n",
      "No top level hogs found\n",
      "No top level hogs found\n",
      "No top level hogs found\n",
      "No top level hogs found\n"
     ]
    },
    {
     "name": "stderr",
     "output_type": "stream",
     "text": [
      "133it [01:29,  1.40it/s]"
     ]
    },
    {
     "name": "stdout",
     "output_type": "stream",
     "text": [
      "No top level hogs found\n",
      "No top level hogs found\n",
      "No top level hogs found\n",
      "No top level hogs found\n",
      "No top level hogs found\n",
      "No top level hogs found\n",
      "No top level hogs found\n",
      "No top level hogs found\n",
      "No top level hogs found\n",
      "No top level hogs found\n",
      "No top level hogs found\n",
      "No top level hogs found\n",
      "No top level hogs found\n",
      "No top level hogs found\n",
      "No top level hogs found\n",
      "No top level hogs found\n",
      "No top level hogs found\n",
      "No top level hogs found\n",
      "No top level hogs found\n",
      "No top level hogs found\n",
      "No top level hogs found\n",
      "No top level hogs found\n",
      "No top level hogs found\n",
      "No top level hogs found\n",
      "No top level hogs found\n",
      "No top level hogs found\n",
      "No top level hogs found\n"
     ]
    },
    {
     "name": "stderr",
     "output_type": "stream",
     "text": [
      "134it [01:29,  1.45it/s]"
     ]
    },
    {
     "name": "stdout",
     "output_type": "stream",
     "text": [
      "No top level hogs found\n",
      "No top level hogs found\n",
      "No top level hogs found\n",
      "No top level hogs found\n",
      "No top level hogs found\n",
      "No top level hogs found\n",
      "No top level hogs found\n",
      "No top level hogs found\n",
      "No top level hogs found\n",
      "No top level hogs found\n",
      "No top level hogs found\n",
      "No top level hogs found\n",
      "No top level hogs found\n",
      "No top level hogs found\n",
      "No top level hogs found\n",
      "No top level hogs found\n",
      "No top level hogs found\n",
      "No top level hogs found\n",
      "No top level hogs found\n",
      "No top level hogs found\n",
      "No top level hogs found\n"
     ]
    },
    {
     "name": "stderr",
     "output_type": "stream",
     "text": [
      "135it [01:30,  1.39it/s]"
     ]
    },
    {
     "name": "stdout",
     "output_type": "stream",
     "text": [
      "No top level hogs found\n",
      "No top level hogs found\n",
      "No top level hogs found\n",
      "No top level hogs found\n",
      "No top level hogs found\n",
      "No top level hogs found\n",
      "No top level hogs found\n",
      "No top level hogs found\n",
      "No top level hogs found\n",
      "No top level hogs found\n",
      "No top level hogs found\n",
      "No top level hogs found\n",
      "No top level hogs found\n",
      "No top level hogs found\n",
      "No top level hogs found\n",
      "No top level hogs found\n",
      "No top level hogs found\n",
      "No top level hogs found\n",
      "No top level hogs found\n"
     ]
    },
    {
     "name": "stderr",
     "output_type": "stream",
     "text": [
      "136it [01:31,  1.39it/s]"
     ]
    },
    {
     "name": "stdout",
     "output_type": "stream",
     "text": [
      "No top level hogs found\n",
      "No top level hogs found\n",
      "No top level hogs found\n",
      "No top level hogs found\n",
      "No top level hogs found\n",
      "No top level hogs found\n",
      "No top level hogs found\n",
      "No top level hogs found\n",
      "No top level hogs found\n",
      "No top level hogs found\n",
      "No top level hogs found\n",
      "No top level hogs found\n",
      "No top level hogs found\n",
      "No top level hogs found\n",
      "No top level hogs found\n",
      "No top level hogs found\n",
      "No top level hogs found\n",
      "No top level hogs found\n",
      "No top level hogs found\n",
      "No top level hogs found\n",
      "No top level hogs found\n",
      "No top level hogs found\n",
      "No top level hogs found"
     ]
    },
    {
     "name": "stderr",
     "output_type": "stream",
     "text": [
      "137it [01:32,  1.35it/s]"
     ]
    },
    {
     "name": "stdout",
     "output_type": "stream",
     "text": [
      "\n",
      "No top level hogs found\n",
      "No top level hogs found\n",
      "No top level hogs found\n",
      "No top level hogs found\n",
      "No top level hogs found\n",
      "No top level hogs found\n",
      "No top level hogs found\n",
      "No top level hogs found\n",
      "No top level hogs found\n",
      "No top level hogs found\n",
      "No top level hogs found\n",
      "No top level hogs found\n",
      "No top level hogs found\n",
      "No top level hogs found\n",
      "No top level hogs found\n",
      "No top level hogs found\n",
      "No top level hogs found\n",
      "No top level hogs found\n",
      "No top level hogs found"
     ]
    },
    {
     "name": "stderr",
     "output_type": "stream",
     "text": [
      "138it [01:32,  1.42it/s]"
     ]
    },
    {
     "name": "stdout",
     "output_type": "stream",
     "text": [
      "\n",
      "No top level hogs found\n",
      "No top level hogs found\n",
      "No top level hogs found\n",
      "No top level hogs found\n",
      "No top level hogs found\n",
      "No top level hogs found\n",
      "No top level hogs found\n",
      "No top level hogs found\n",
      "No top level hogs found\n",
      "No top level hogs found\n",
      "No top level hogs found\n",
      "No top level hogs found\n",
      "No top level hogs found\n",
      "No top level hogs found\n",
      "No top level hogs found\n",
      "No top level hogs found\n",
      "No top level hogs found\n",
      "No top level hogs found\n",
      "No top level hogs found\n",
      "No top level hogs found\n",
      "No top level hogs found\n",
      "No top level hogs found\n",
      "No top level hogs found\n",
      "No top level hogs found\n",
      "No top level hogs found"
     ]
    },
    {
     "name": "stderr",
     "output_type": "stream",
     "text": [
      "139it [01:33,  1.40it/s]"
     ]
    },
    {
     "name": "stdout",
     "output_type": "stream",
     "text": [
      "\n",
      "No top level hogs found\n",
      "No top level hogs found\n",
      "No top level hogs found\n",
      "No top level hogs found\n",
      "No top level hogs found\n",
      "No top level hogs found\n",
      "No top level hogs found\n",
      "No top level hogs found\n",
      "No top level hogs found\n",
      "No top level hogs found\n",
      "No top level hogs found\n",
      "No top level hogs found\n",
      "No top level hogs found\n",
      "No top level hogs found\n",
      "No top level hogs found\n",
      "No top level hogs found\n",
      "No top level hogs found\n",
      "No top level hogs found\n",
      "No top level hogs found\n",
      "No top level hogs found\n",
      "No top level hogs found\n",
      "No top level hogs found"
     ]
    },
    {
     "name": "stderr",
     "output_type": "stream",
     "text": [
      "140it [01:34,  1.46it/s]"
     ]
    },
    {
     "name": "stdout",
     "output_type": "stream",
     "text": [
      "\n",
      "No top level hogs found\n",
      "No top level hogs found\n",
      "No top level hogs found\n",
      "No top level hogs found\n",
      "No top level hogs found\n",
      "No top level hogs found\n",
      "No top level hogs found\n",
      "No top level hogs found\n",
      "No top level hogs found\n",
      "No top level hogs found\n",
      "No top level hogs found\n",
      "No top level hogs found\n",
      "No top level hogs found\n",
      "No top level hogs found\n",
      "No top level hogs found\n",
      "No top level hogs found\n",
      "No top level hogs found\n",
      "No top level hogs found\n",
      "No top level hogs found\n"
     ]
    },
    {
     "name": "stderr",
     "output_type": "stream",
     "text": [
      "141it [01:34,  1.51it/s]"
     ]
    },
    {
     "name": "stdout",
     "output_type": "stream",
     "text": [
      "No top level hogs found\n",
      "No top level hogs found\n",
      "No top level hogs found\n",
      "No top level hogs found\n",
      "No top level hogs found\n",
      "No top level hogs found\n",
      "No top level hogs found\n",
      "No top level hogs found\n",
      "No top level hogs found\n",
      "No top level hogs found\n",
      "No top level hogs found\n",
      "No top level hogs found\n",
      "No top level hogs found\n",
      "No top level hogs found\n",
      "No top level hogs found\n",
      "No top level hogs found\n",
      "No top level hogs found\n",
      "No top level hogs found\n",
      "No top level hogs found\n",
      "No top level hogs found\n",
      "No top level hogs found\n",
      "No top level hogs found\n",
      "No top level hogs found\n",
      "No top level hogs found\n",
      "No top level hogs found\n",
      "No top level hogs found\n"
     ]
    },
    {
     "name": "stderr",
     "output_type": "stream",
     "text": [
      "142it [01:35,  1.49it/s]"
     ]
    },
    {
     "name": "stdout",
     "output_type": "stream",
     "text": [
      "No top level hogs found\n",
      "No top level hogs found\n",
      "No top level hogs found\n",
      "No top level hogs found\n",
      "No top level hogs found\n",
      "No top level hogs found\n",
      "No top level hogs found\n",
      "No top level hogs found\n",
      "No top level hogs found\n",
      "No top level hogs found\n",
      "No top level hogs found\n",
      "No top level hogs found\n",
      "No top level hogs found\n",
      "No top level hogs found\n",
      "No top level hogs found\n",
      "No top level hogs found\n",
      "No top level hogs found\n",
      "No top level hogs found\n",
      "No top level hogs found\n",
      "No top level hogs found\n",
      "No top level hogs found\n",
      "No top level hogs found\n",
      "No top level hogs found\n",
      "No top level hogs found\n",
      "No top level hogs found\n",
      "No top level hogs found\n",
      "No top level hogs found\n",
      "No top level hogs found\n",
      "No top level hogs found\n"
     ]
    },
    {
     "name": "stderr",
     "output_type": "stream",
     "text": [
      "143it [01:36,  1.49it/s]"
     ]
    },
    {
     "name": "stdout",
     "output_type": "stream",
     "text": [
      "No top level hogs found\n",
      "No top level hogs found\n",
      "No top level hogs found\n",
      "No top level hogs found\n",
      "No top level hogs found\n",
      "No top level hogs found\n",
      "No top level hogs found\n",
      "No top level hogs found\n",
      "No top level hogs found\n",
      "No top level hogs found\n",
      "No top level hogs found\n",
      "No top level hogs found\n",
      "No top level hogs found\n",
      "No top level hogs found\n",
      "No top level hogs found\n",
      "No top level hogs found\n",
      "No top level hogs found\n",
      "No top level hogs found\n",
      "No top level hogs found\n",
      "No top level hogs found\n",
      "No top level hogs found\n",
      "No top level hogs found\n",
      "No top level hogs found"
     ]
    },
    {
     "name": "stderr",
     "output_type": "stream",
     "text": [
      "144it [01:36,  1.56it/s]"
     ]
    },
    {
     "name": "stdout",
     "output_type": "stream",
     "text": [
      "\n",
      "No top level hogs found\n",
      "No top level hogs found\n",
      "No top level hogs found\n",
      "No top level hogs found\n",
      "No top level hogs found\n",
      "No top level hogs found\n",
      "No top level hogs found\n",
      "No top level hogs found\n",
      "No top level hogs found\n",
      "No top level hogs found\n",
      "No top level hogs found\n",
      "No top level hogs found\n",
      "No top level hogs found\n",
      "No top level hogs found\n",
      "No top level hogs found\n",
      "No top level hogs found\n",
      "No top level hogs found\n",
      "No top level hogs found\n",
      "No top level hogs found\n",
      "No top level hogs found\n",
      "No top level hogs found\n",
      "No top level hogs found\n",
      "No top level hogs found\n",
      "No top level hogs found\n"
     ]
    },
    {
     "name": "stderr",
     "output_type": "stream",
     "text": [
      "145it [01:37,  1.58it/s]"
     ]
    },
    {
     "name": "stdout",
     "output_type": "stream",
     "text": [
      "No top level hogs found\n",
      "No top level hogs found\n",
      "No top level hogs found\n",
      "No top level hogs found\n",
      "No top level hogs found\n",
      "No top level hogs found\n",
      "No top level hogs found\n",
      "No top level hogs found\n",
      "No top level hogs found\n",
      "No top level hogs found\n",
      "No top level hogs found\n",
      "No top level hogs found\n",
      "No top level hogs found\n",
      "No top level hogs found\n",
      "No top level hogs found\n",
      "No top level hogs found\n",
      "No top level hogs found\n",
      "No top level hogs found\n",
      "No top level hogs found\n",
      "No top level hogs found\n",
      "No top level hogs found\n",
      "No top level hogs found\n"
     ]
    },
    {
     "name": "stderr",
     "output_type": "stream",
     "text": [
      "146it [01:37,  1.55it/s]"
     ]
    },
    {
     "name": "stdout",
     "output_type": "stream",
     "text": [
      "No top level hogs found\n",
      "No top level hogs found\n",
      "No top level hogs found\n",
      "No top level hogs found\n",
      "No top level hogs found\n",
      "No top level hogs found\n",
      "No top level hogs found\n",
      "No top level hogs found\n",
      "No top level hogs found\n",
      "No top level hogs found\n",
      "No top level hogs found\n",
      "No top level hogs found\n",
      "No top level hogs found\n",
      "No top level hogs found\n",
      "No top level hogs found\n",
      "No top level hogs found\n",
      "No top level hogs found\n",
      "No top level hogs found\n"
     ]
    },
    {
     "name": "stderr",
     "output_type": "stream",
     "text": [
      "147it [01:38,  1.55it/s]"
     ]
    },
    {
     "name": "stdout",
     "output_type": "stream",
     "text": [
      "No top level hogs found\n",
      "No top level hogs found\n",
      "No top level hogs found\n",
      "No top level hogs found\n",
      "No top level hogs found\n",
      "No top level hogs found\n",
      "No top level hogs found\n",
      "No top level hogs found\n",
      "No top level hogs found\n",
      "No top level hogs found\n",
      "No top level hogs found\n",
      "No top level hogs found\n",
      "No top level hogs found\n",
      "No top level hogs found\n",
      "No top level hogs found\n",
      "No top level hogs found\n",
      "No top level hogs found\n",
      "No top level hogs found\n",
      "No top level hogs found\n",
      "No top level hogs found\n",
      "No top level hogs found\n",
      "No top level hogs found\n",
      "No top level hogs found\n",
      "No top level hogs found\n",
      "No top level hogs found\n",
      "No top level hogs found\n"
     ]
    },
    {
     "name": "stderr",
     "output_type": "stream",
     "text": [
      "148it [01:39,  1.60it/s]"
     ]
    },
    {
     "name": "stdout",
     "output_type": "stream",
     "text": [
      "No top level hogs found\n",
      "No top level hogs found\n",
      "No top level hogs found\n",
      "No top level hogs found\n",
      "No top level hogs found\n",
      "No top level hogs found\n",
      "No top level hogs found\n",
      "No top level hogs found\n",
      "No top level hogs found\n",
      "No top level hogs found\n",
      "No top level hogs found\n",
      "No top level hogs found\n",
      "No top level hogs found\n",
      "No top level hogs found\n",
      "No top level hogs found\n",
      "No top level hogs found\n",
      "No top level hogs found\n",
      "No top level hogs found\n",
      "No top level hogs found\n",
      "No top level hogs found\n",
      "No top level hogs found\n",
      "No top level hogs found\n",
      "No top level hogs found\n",
      "No top level hogs found\n",
      "No top level hogs found\n",
      "No top level hogs found\n",
      "No top level hogs found\n",
      "No top level hogs found\n"
     ]
    },
    {
     "name": "stderr",
     "output_type": "stream",
     "text": [
      "149it [01:39,  1.54it/s]"
     ]
    },
    {
     "name": "stdout",
     "output_type": "stream",
     "text": [
      "No top level hogs found\n",
      "No top level hogs found\n",
      "No top level hogs found\n",
      "No top level hogs found\n",
      "No top level hogs found\n",
      "No top level hogs found\n",
      "No top level hogs found\n",
      "No top level hogs found\n",
      "No top level hogs found\n",
      "No top level hogs found\n",
      "No top level hogs found\n",
      "No top level hogs found\n",
      "No top level hogs found\n",
      "No top level hogs found\n",
      "No top level hogs found\n",
      "No top level hogs found\n",
      "No top level hogs found\n",
      "No top level hogs found\n",
      "No top level hogs found\n",
      "No top level hogs found\n",
      "No top level hogs found\n",
      "No top level hogs found\n"
     ]
    },
    {
     "name": "stderr",
     "output_type": "stream",
     "text": [
      "150it [01:40,  1.49it/s]"
     ]
    },
    {
     "name": "stdout",
     "output_type": "stream",
     "text": [
      "No top level hogs found\n",
      "No top level hogs found\n",
      "No top level hogs found\n",
      "No top level hogs found\n",
      "No top level hogs found\n",
      "No top level hogs found\n",
      "No top level hogs found\n",
      "No top level hogs found\n",
      "No top level hogs found\n",
      "No top level hogs found\n",
      "No top level hogs found\n",
      "No top level hogs found\n",
      "No top level hogs found\n",
      "No top level hogs found\n",
      "No top level hogs found\n",
      "No top level hogs found\n",
      "No top level hogs found\n",
      "No top level hogs found\n",
      "No top level hogs found\n",
      "No top level hogs found\n",
      "No top level hogs found\n",
      "No top level hogs found\n",
      "No top level hogs found\n",
      "No top level hogs found\n",
      "No top level hogs found\n",
      "No top level hogs found\n",
      "No top level hogs found\n",
      "No top level hogs found\n",
      "No top level hogs found\n",
      "No top level hogs found\n",
      "No top level hogs found\n",
      "No top level hogs found\n"
     ]
    },
    {
     "name": "stderr",
     "output_type": "stream",
     "text": [
      "151it [01:41,  1.43it/s]"
     ]
    },
    {
     "name": "stdout",
     "output_type": "stream",
     "text": [
      "No top level hogs found\n",
      "No top level hogs found\n",
      "No top level hogs found\n",
      "No top level hogs found\n",
      "No top level hogs found\n",
      "No top level hogs found\n",
      "No top level hogs found\n",
      "No top level hogs found\n",
      "No top level hogs found\n",
      "No top level hogs found\n",
      "No top level hogs found\n",
      "No top level hogs found\n",
      "No top level hogs found\n",
      "No top level hogs found\n",
      "No top level hogs found\n",
      "No top level hogs found\n",
      "No top level hogs found\n",
      "No top level hogs found\n",
      "No top level hogs found\n",
      "No top level hogs found\n",
      "No top level hogs found"
     ]
    },
    {
     "name": "stderr",
     "output_type": "stream",
     "text": [
      "152it [01:42,  1.47it/s]"
     ]
    },
    {
     "name": "stdout",
     "output_type": "stream",
     "text": [
      "\n",
      "No top level hogs found\n",
      "No top level hogs found\n",
      "No top level hogs found\n",
      "No top level hogs found\n",
      "No top level hogs found\n",
      "No top level hogs found\n",
      "No top level hogs found\n",
      "No top level hogs found\n",
      "No top level hogs found\n",
      "No top level hogs found\n",
      "No top level hogs found\n",
      "No top level hogs found\n",
      "No top level hogs found\n",
      "No top level hogs found\n",
      "No top level hogs found\n",
      "No top level hogs found\n",
      "No top level hogs found\n",
      "No top level hogs found\n",
      "No top level hogs found\n",
      "No top level hogs found\n",
      "No top level hogs found\n",
      "No top level hogs found\n",
      "No top level hogs found\n",
      "No top level hogs found\n",
      "No top level hogs found\n",
      "No top level hogs found\n"
     ]
    },
    {
     "name": "stderr",
     "output_type": "stream",
     "text": [
      "153it [01:42,  1.49it/s]"
     ]
    },
    {
     "name": "stdout",
     "output_type": "stream",
     "text": [
      "No top level hogs found\n",
      "No top level hogs found\n",
      "No top level hogs found\n",
      "No top level hogs found\n",
      "No top level hogs found\n",
      "No top level hogs found\n",
      "No top level hogs found\n",
      "No top level hogs found\n",
      "No top level hogs found\n",
      "No top level hogs found\n",
      "No top level hogs found\n",
      "No top level hogs found\n",
      "No top level hogs found\n",
      "No top level hogs found\n",
      "No top level hogs found\n",
      "No top level hogs found\n",
      "No top level hogs found\n",
      "No top level hogs found\n",
      "No top level hogs found\n",
      "No top level hogs found\n",
      "No top level hogs found\n",
      "No top level hogs found\n",
      "No top level hogs found\n",
      "No top level hogs found\n",
      "No top level hogs found\n",
      "No top level hogs found\n",
      "No top level hogs found\n",
      "No top level hogs found\n",
      "No top level hogs found"
     ]
    },
    {
     "name": "stderr",
     "output_type": "stream",
     "text": [
      "154it [01:43,  1.42it/s]"
     ]
    },
    {
     "name": "stdout",
     "output_type": "stream",
     "text": [
      "\n",
      "No top level hogs found\n",
      "No top level hogs found\n",
      "No top level hogs found\n",
      "No top level hogs found\n",
      "No top level hogs found\n",
      "No top level hogs found\n",
      "No top level hogs found\n",
      "No top level hogs found\n",
      "No top level hogs found\n",
      "No top level hogs found\n",
      "No top level hogs found\n",
      "No top level hogs found\n",
      "No top level hogs found\n",
      "No top level hogs found\n",
      "No top level hogs found\n",
      "No top level hogs found\n",
      "No top level hogs found\n",
      "No top level hogs found\n",
      "No top level hogs found\n"
     ]
    },
    {
     "name": "stderr",
     "output_type": "stream",
     "text": [
      "155it [01:43,  1.56it/s]"
     ]
    },
    {
     "name": "stdout",
     "output_type": "stream",
     "text": [
      "No top level hogs found\n",
      "No top level hogs found\n",
      "No top level hogs found\n",
      "No top level hogs found\n",
      "No top level hogs found\n",
      "No top level hogs found\n",
      "No top level hogs found\n",
      "No top level hogs found\n",
      "No top level hogs found\n",
      "No top level hogs found\n",
      "No top level hogs found\n",
      "No top level hogs found\n",
      "No top level hogs found\n",
      "No top level hogs found\n",
      "No top level hogs found\n",
      "No top level hogs found\n",
      "No top level hogs found\n",
      "No top level hogs found\n",
      "No top level hogs found\n",
      "No top level hogs found\n",
      "No top level hogs found\n",
      "No top level hogs found\n",
      "No top level hogs found"
     ]
    },
    {
     "name": "stderr",
     "output_type": "stream",
     "text": [
      "156it [01:44,  1.59it/s]"
     ]
    },
    {
     "name": "stdout",
     "output_type": "stream",
     "text": [
      "\n",
      "No top level hogs found\n",
      "No top level hogs found\n",
      "No top level hogs found\n",
      "No top level hogs found\n",
      "No top level hogs found\n",
      "No top level hogs found\n",
      "No top level hogs found\n",
      "No top level hogs found\n",
      "No top level hogs found\n",
      "No top level hogs found\n",
      "No top level hogs found\n",
      "No top level hogs found\n",
      "No top level hogs found\n",
      "No top level hogs found\n",
      "No top level hogs found\n",
      "No top level hogs found\n",
      "No top level hogs found\n"
     ]
    },
    {
     "name": "stderr",
     "output_type": "stream",
     "text": [
      "157it [01:45,  1.56it/s]"
     ]
    },
    {
     "name": "stdout",
     "output_type": "stream",
     "text": [
      "No top level hogs found\n",
      "No top level hogs found\n",
      "No top level hogs found\n",
      "No top level hogs found\n",
      "No top level hogs found\n",
      "No top level hogs found\n",
      "No top level hogs found\n",
      "No top level hogs found\n",
      "No top level hogs found\n",
      "No top level hogs found\n",
      "No top level hogs found\n",
      "No top level hogs found\n",
      "No top level hogs found\n",
      "No top level hogs found\n",
      "No top level hogs found\n",
      "No top level hogs found\n",
      "No top level hogs found\n",
      "No top level hogs found\n",
      "No top level hogs found\n",
      "No top level hogs found\n",
      "No top level hogs found\n",
      "No top level hogs found\n",
      "No top level hogs found\n",
      "No top level hogs found\n",
      "No top level hogs found\n",
      "No top level hogs found\n",
      "No top level hogs found\n",
      "No top level hogs found"
     ]
    },
    {
     "name": "stderr",
     "output_type": "stream",
     "text": [
      "158it [01:45,  1.48it/s]"
     ]
    },
    {
     "name": "stdout",
     "output_type": "stream",
     "text": [
      "\n",
      "No top level hogs found\n",
      "No top level hogs found\n",
      "No top level hogs found\n",
      "No top level hogs found\n",
      "No top level hogs found\n",
      "No top level hogs found\n",
      "No top level hogs found\n",
      "No top level hogs found\n",
      "No top level hogs found\n",
      "No top level hogs found\n",
      "No top level hogs found\n",
      "No top level hogs found\n",
      "No top level hogs found\n",
      "No top level hogs found\n",
      "No top level hogs found\n",
      "No top level hogs found\n",
      "No top level hogs found\n",
      "No top level hogs found\n",
      "No top level hogs found\n",
      "No top level hogs found\n",
      "No top level hogs found\n",
      "No top level hogs found\n",
      "No top level hogs found\n",
      "No top level hogs found\n",
      "No top level hogs found"
     ]
    },
    {
     "name": "stderr",
     "output_type": "stream",
     "text": [
      "159it [01:46,  1.48it/s]"
     ]
    },
    {
     "name": "stdout",
     "output_type": "stream",
     "text": [
      "\n",
      "No top level hogs found\n",
      "No top level hogs found\n",
      "No top level hogs found\n",
      "No top level hogs found\n",
      "No top level hogs found\n",
      "No top level hogs found\n",
      "No top level hogs found\n",
      "No top level hogs found\n",
      "No top level hogs found\n",
      "No top level hogs found\n",
      "No top level hogs found\n",
      "No top level hogs found\n",
      "No top level hogs found\n",
      "No top level hogs found\n",
      "No top level hogs found\n",
      "No top level hogs found\n",
      "No top level hogs found\n",
      "No top level hogs found\n",
      "No top level hogs found\n",
      "No top level hogs found\n",
      "No top level hogs found\n",
      "No top level hogs found\n",
      "No top level hogs found\n",
      "No top level hogs found\n",
      "No top level hogs found\n",
      "No top level hogs found\n"
     ]
    },
    {
     "name": "stderr",
     "output_type": "stream",
     "text": [
      "160it [01:47,  1.49it/s]"
     ]
    },
    {
     "name": "stdout",
     "output_type": "stream",
     "text": [
      "No top level hogs found\n",
      "No top level hogs found\n",
      "No top level hogs found\n",
      "No top level hogs found\n",
      "No top level hogs found\n",
      "No top level hogs found\n",
      "No top level hogs found\n",
      "No top level hogs found\n",
      "No top level hogs found\n",
      "No top level hogs found\n",
      "No top level hogs found\n",
      "No top level hogs found\n",
      "No top level hogs found\n",
      "No top level hogs found\n",
      "No top level hogs found\n",
      "No top level hogs found\n",
      "No top level hogs found\n",
      "No top level hogs found\n",
      "No top level hogs found\n",
      "No top level hogs found\n",
      "No top level hogs found\n",
      "No top level hogs found\n",
      "No top level hogs found\n",
      "No top level hogs found\n",
      "No top level hogs found\n"
     ]
    },
    {
     "name": "stderr",
     "output_type": "stream",
     "text": [
      "161it [01:47,  1.49it/s]"
     ]
    },
    {
     "name": "stdout",
     "output_type": "stream",
     "text": [
      "No top level hogs found\n",
      "No top level hogs found\n",
      "No top level hogs found\n",
      "No top level hogs found\n",
      "No top level hogs found\n",
      "No top level hogs found\n",
      "No top level hogs found\n",
      "No top level hogs found\n",
      "No top level hogs found\n",
      "No top level hogs found\n",
      "No top level hogs found\n",
      "No top level hogs found\n",
      "No top level hogs found\n",
      "No top level hogs found\n",
      "No top level hogs found\n",
      "No top level hogs found\n",
      "No top level hogs found\n",
      "No top level hogs found\n",
      "No top level hogs found\n",
      "No top level hogs found\n",
      "No top level hogs found\n",
      "No top level hogs found\n",
      "No top level hogs found\n",
      "No top level hogs found\n",
      "No top level hogs found\n"
     ]
    },
    {
     "name": "stderr",
     "output_type": "stream",
     "text": [
      "162it [01:48,  1.47it/s]"
     ]
    },
    {
     "name": "stdout",
     "output_type": "stream",
     "text": [
      "No top level hogs found\n",
      "No top level hogs found\n",
      "No top level hogs found\n",
      "No top level hogs found\n",
      "No top level hogs found\n",
      "No top level hogs found\n",
      "No top level hogs found\n",
      "No top level hogs found\n",
      "No top level hogs found\n",
      "No top level hogs found\n",
      "No top level hogs found\n",
      "No top level hogs found\n",
      "No top level hogs found\n",
      "No top level hogs found\n",
      "No top level hogs found\n",
      "No top level hogs found\n",
      "No top level hogs found\n",
      "No top level hogs found\n",
      "No top level hogs found\n",
      "No top level hogs found\n",
      "No top level hogs found\n",
      "No top level hogs found\n"
     ]
    },
    {
     "name": "stderr",
     "output_type": "stream",
     "text": [
      "163it [01:49,  1.53it/s]"
     ]
    },
    {
     "name": "stdout",
     "output_type": "stream",
     "text": [
      "No top level hogs found\n",
      "No top level hogs found\n",
      "No top level hogs found\n",
      "No top level hogs found\n",
      "No top level hogs found\n",
      "No top level hogs found\n",
      "No top level hogs found\n",
      "No top level hogs found\n",
      "No top level hogs found\n",
      "No top level hogs found\n",
      "No top level hogs found\n",
      "No top level hogs found\n",
      "No top level hogs found\n",
      "No top level hogs found\n",
      "No top level hogs found\n",
      "No top level hogs found\n",
      "No top level hogs found\n",
      "No top level hogs found\n",
      "No top level hogs found\n",
      "No top level hogs found\n",
      "No top level hogs found\n",
      "No top level hogs found\n",
      "No top level hogs found\n",
      "No top level hogs found\n",
      "No top level hogs found\n"
     ]
    },
    {
     "name": "stderr",
     "output_type": "stream",
     "text": [
      "164it [01:50,  1.47it/s]"
     ]
    },
    {
     "name": "stdout",
     "output_type": "stream",
     "text": [
      "No top level hogs found\n",
      "No top level hogs found\n",
      "No top level hogs found\n",
      "No top level hogs found\n",
      "No top level hogs found\n",
      "No top level hogs found\n",
      "No top level hogs found\n",
      "No top level hogs found\n",
      "No top level hogs found\n",
      "No top level hogs found\n",
      "No top level hogs found\n",
      "No top level hogs found\n",
      "No top level hogs found\n",
      "No top level hogs found\n",
      "No top level hogs found\n",
      "No top level hogs found\n",
      "No top level hogs found\n",
      "No top level hogs found\n",
      "No top level hogs found\n",
      "No top level hogs found\n",
      "No top level hogs found\n",
      "No top level hogs found\n",
      "No top level hogs found\n",
      "No top level hogs found\n",
      "No top level hogs found\n",
      "No top level hogs found\n",
      "No top level hogs found\n"
     ]
    },
    {
     "name": "stderr",
     "output_type": "stream",
     "text": [
      "165it [01:50,  1.38it/s]"
     ]
    },
    {
     "name": "stdout",
     "output_type": "stream",
     "text": [
      "No top level hogs found\n",
      "No top level hogs found\n",
      "No top level hogs found\n",
      "No top level hogs found\n",
      "No top level hogs found\n",
      "No top level hogs found\n",
      "No top level hogs found\n",
      "No top level hogs found\n",
      "No top level hogs found\n",
      "No top level hogs found\n",
      "No top level hogs found\n",
      "No top level hogs found\n",
      "No top level hogs found\n",
      "No top level hogs found\n",
      "No top level hogs found\n",
      "No top level hogs found\n",
      "No top level hogs found\n",
      "No top level hogs found\n",
      "No top level hogs found\n",
      "No top level hogs found\n",
      "No top level hogs found"
     ]
    },
    {
     "name": "stderr",
     "output_type": "stream",
     "text": [
      "166it [01:51,  1.37it/s]"
     ]
    },
    {
     "name": "stdout",
     "output_type": "stream",
     "text": [
      "\n",
      "No top level hogs found\n",
      "No top level hogs found\n",
      "No top level hogs found\n",
      "No top level hogs found\n",
      "No top level hogs found\n",
      "No top level hogs found\n",
      "No top level hogs found\n",
      "No top level hogs found\n",
      "No top level hogs found\n",
      "No top level hogs found\n",
      "No top level hogs found\n",
      "No top level hogs found\n",
      "No top level hogs found\n",
      "No top level hogs found\n",
      "No top level hogs found\n",
      "No top level hogs found\n",
      "No top level hogs found\n",
      "No top level hogs found\n",
      "No top level hogs found\n",
      "No top level hogs found\n",
      "No top level hogs found\n",
      "No top level hogs found\n",
      "No top level hogs found\n",
      "No top level hogs found\n",
      "No top level hogs found\n",
      "No top level hogs found\n",
      "No top level hogs found\n",
      "No top level hogs found\n",
      "No top level hogs found"
     ]
    },
    {
     "name": "stderr",
     "output_type": "stream",
     "text": [
      "167it [01:52,  1.38it/s]"
     ]
    },
    {
     "name": "stdout",
     "output_type": "stream",
     "text": [
      "\n",
      "No top level hogs found\n",
      "No top level hogs found\n",
      "No top level hogs found\n",
      "No top level hogs found\n",
      "No top level hogs found\n",
      "No top level hogs found\n",
      "No top level hogs found\n",
      "No top level hogs found\n",
      "No top level hogs found\n",
      "No top level hogs found\n",
      "No top level hogs found\n",
      "\n",
      "No top level hogs found\n",
      "No top level hogs foundNo top level hogs found\n",
      "No top level hogs found\n",
      "No top level hogs found\n",
      "No top level hogs found\n",
      "No top level hogs found\n",
      "No top level hogs found\n",
      "No top level hogs found\n",
      "No top level hogs found\n"
     ]
    },
    {
     "name": "stderr",
     "output_type": "stream",
     "text": [
      "168it [01:52,  1.43it/s]"
     ]
    },
    {
     "name": "stdout",
     "output_type": "stream",
     "text": [
      "No top level hogs found\n",
      "No top level hogs found\n",
      "No top level hogs found\n",
      "No top level hogs found\n",
      "No top level hogs found\n",
      "No top level hogs found\n",
      "No top level hogs found\n",
      "No top level hogs found\n",
      "No top level hogs found\n",
      "No top level hogs found\n",
      "No top level hogs found\n",
      "No top level hogs found\n",
      "No top level hogs found\n",
      "No top level hogs found\n",
      "No top level hogs found\n",
      "No top level hogs found\n",
      "No top level hogs found\n",
      "No top level hogs found\n",
      "No top level hogs found\n",
      "No top level hogs found\n",
      "No top level hogs found\n",
      "No top level hogs found\n",
      "No top level hogs found\n",
      "No top level hogs found\n",
      "No top level hogs found\n",
      "No top level hogs found\n",
      "No top level hogs found\n",
      "No top level hogs found\n",
      "No top level hogs found\n"
     ]
    },
    {
     "name": "stderr",
     "output_type": "stream",
     "text": [
      "169it [01:53,  1.46it/s]"
     ]
    },
    {
     "name": "stdout",
     "output_type": "stream",
     "text": [
      "No top level hogs found\n",
      "No top level hogs found\n",
      "No top level hogs found\n",
      "No top level hogs found\n",
      "No top level hogs found\n",
      "No top level hogs found\n",
      "No top level hogs found\n",
      "No top level hogs found\n",
      "No top level hogs found\n",
      "No top level hogs found\n",
      "No top level hogs found\n",
      "No top level hogs found\n",
      "No top level hogs found\n",
      "No top level hogs found\n",
      "No top level hogs found\n",
      "No top level hogs found\n",
      "No top level hogs found\n",
      "No top level hogs found\n",
      "No top level hogs found\n",
      "No top level hogs found\n",
      "No top level hogs found\n",
      "No top level hogs found\n",
      "No top level hogs found\n",
      "No top level hogs found\n",
      "No top level hogs found\n",
      "No top level hogs found\n",
      "No top level hogs found\n",
      "No top level hogs found\n"
     ]
    },
    {
     "name": "stderr",
     "output_type": "stream",
     "text": [
      "170it [01:54,  1.46it/s]"
     ]
    },
    {
     "name": "stdout",
     "output_type": "stream",
     "text": [
      "No top level hogs found\n",
      "No top level hogs found\n",
      "No top level hogs found\n",
      "No top level hogs found\n",
      "No top level hogs found\n",
      "No top level hogs found\n",
      "No top level hogs found\n",
      "No top level hogs found\n",
      "No top level hogs found\n",
      "No top level hogs found\n",
      "No top level hogs found\n",
      "No top level hogs found\n",
      "No top level hogs found\n",
      "No top level hogs found\n",
      "No top level hogs found\n",
      "No top level hogs found\n",
      "No top level hogs found\n",
      "No top level hogs found\n",
      "No top level hogs found\n",
      "No top level hogs found\n",
      "No top level hogs found\n",
      "No top level hogs found\n",
      "No top level hogs found"
     ]
    },
    {
     "name": "stderr",
     "output_type": "stream",
     "text": [
      "171it [01:54,  1.52it/s]"
     ]
    },
    {
     "name": "stdout",
     "output_type": "stream",
     "text": [
      "\n",
      "No top level hogs found\n",
      "No top level hogs found\n",
      "No top level hogs found\n",
      "No top level hogs found\n",
      "No top level hogs found\n",
      "No top level hogs found\n",
      "No top level hogs found\n",
      "No top level hogs found\n",
      "No top level hogs found\n",
      "No top level hogs found\n",
      "No top level hogs found\n",
      "No top level hogs found\n",
      "No top level hogs found\n",
      "No top level hogs found\n",
      "No top level hogs found\n",
      "No top level hogs found\n",
      "No top level hogs found\n",
      "No top level hogs found\n",
      "No top level hogs found\n",
      "No top level hogs found\n",
      "No top level hogs found\n",
      "No top level hogs found\n",
      "No top level hogs found\n",
      "No top level hogs found\n"
     ]
    },
    {
     "name": "stderr",
     "output_type": "stream",
     "text": [
      "172it [01:55,  1.49it/s]"
     ]
    },
    {
     "name": "stdout",
     "output_type": "stream",
     "text": [
      "No top level hogs found\n",
      "No top level hogs found\n",
      "No top level hogs found\n",
      "No top level hogs found\n",
      "No top level hogs found\n",
      "No top level hogs found\n",
      "No top level hogs found\n",
      "No top level hogs found\n",
      "No top level hogs found\n",
      "No top level hogs found\n",
      "No top level hogs found\n",
      "No top level hogs found\n",
      "No top level hogs found\n",
      "No top level hogs found\n",
      "No top level hogs found\n",
      "No top level hogs found\n",
      "No top level hogs found\n",
      "No top level hogs found\n",
      "No top level hogs found\n",
      "No top level hogs found\n",
      "No top level hogs found\n",
      "No top level hogs found\n",
      "No top level hogs found\n",
      "No top level hogs found\n",
      "No top level hogs found"
     ]
    },
    {
     "name": "stderr",
     "output_type": "stream",
     "text": [
      "173it [01:56,  1.52it/s]"
     ]
    },
    {
     "name": "stdout",
     "output_type": "stream",
     "text": [
      "\n",
      "No top level hogs found\n",
      "No top level hogs found\n",
      "No top level hogs found\n",
      "No top level hogs found\n",
      "No top level hogs found\n",
      "No top level hogs found\n",
      "No top level hogs found\n",
      "No top level hogs found\n",
      "No top level hogs found\n",
      "No top level hogs found\n",
      "No top level hogs found\n",
      "No top level hogs found\n",
      "No top level hogs found\n",
      "No top level hogs found\n",
      "No top level hogs found\n",
      "No top level hogs found\n",
      "No top level hogs found\n",
      "No top level hogs found\n",
      "No top level hogs found\n",
      "No top level hogs found\n",
      "No top level hogs found"
     ]
    },
    {
     "name": "stderr",
     "output_type": "stream",
     "text": [
      "174it [01:56,  1.45it/s]"
     ]
    },
    {
     "name": "stdout",
     "output_type": "stream",
     "text": [
      "\n",
      "No top level hogs found\n",
      "No top level hogs found\n",
      "No top level hogs found\n",
      "No top level hogs found\n",
      "No top level hogs found\n",
      "No top level hogs found\n",
      "No top level hogs found\n",
      "No top level hogs found\n",
      "No top level hogs found\n",
      "No top level hogs found\n",
      "No top level hogs found\n",
      "No top level hogs found\n",
      "No top level hogs found\n",
      "No top level hogs found\n",
      "No top level hogs found\n",
      "No top level hogs found\n",
      "No top level hogs found\n"
     ]
    },
    {
     "name": "stderr",
     "output_type": "stream",
     "text": [
      "175it [01:57,  1.45it/s]"
     ]
    },
    {
     "name": "stdout",
     "output_type": "stream",
     "text": [
      "No top level hogs found\n",
      "No top level hogs found\n",
      "No top level hogs found\n",
      "No top level hogs found\n",
      "No top level hogs found\n",
      "No top level hogs found\n",
      "No top level hogs found\n",
      "No top level hogs found\n",
      "No top level hogs found\n",
      "No top level hogs found\n",
      "No top level hogs found\n",
      "No top level hogs found\n",
      "No top level hogs found\n",
      "No top level hogs found\n",
      "No top level hogs found\n",
      "No top level hogs found\n",
      "No top level hogs found\n",
      "No top level hogs found\n",
      "No top level hogs found\n",
      "No top level hogs found\n",
      "No top level hogs found\n",
      "No top level hogs found\n",
      "No top level hogs found\n",
      "No top level hogs found\n",
      "No top level hogs found"
     ]
    },
    {
     "name": "stderr",
     "output_type": "stream",
     "text": [
      "176it [01:58,  1.47it/s]"
     ]
    },
    {
     "name": "stdout",
     "output_type": "stream",
     "text": [
      "\n",
      "No top level hogs found\n",
      "No top level hogs found\n",
      "No top level hogs found\n",
      "No top level hogs found\n",
      "No top level hogs found\n",
      "No top level hogs found\n",
      "No top level hogs found\n",
      "No top level hogs found\n",
      "No top level hogs found\n",
      "No top level hogs found\n",
      "No top level hogs found\n",
      "No top level hogs found\n",
      "No top level hogs found\n",
      "No top level hogs found\n",
      "No top level hogs found\n",
      "No top level hogs found\n",
      "No top level hogs found\n",
      "No top level hogs found\n",
      "No top level hogs found\n",
      "No top level hogs found\n",
      "No top level hogs found\n",
      "No top level hogs found\n",
      "No top level hogs found\n",
      "No top level hogs found\n",
      "No top level hogs found\n",
      "No top level hogs found\n"
     ]
    },
    {
     "name": "stderr",
     "output_type": "stream",
     "text": [
      "177it [01:59,  1.42it/s]"
     ]
    },
    {
     "name": "stdout",
     "output_type": "stream",
     "text": [
      "No top level hogs found\n",
      "No top level hogs found\n",
      "No top level hogs found\n",
      "No top level hogs found\n",
      "No top level hogs found\n",
      "No top level hogs found\n",
      "No top level hogs found\n",
      "No top level hogs found\n",
      "No top level hogs found\n",
      "No top level hogs found\n",
      "No top level hogs found\n",
      "No top level hogs found\n",
      "No top level hogs found\n",
      "No top level hogs found\n",
      "No top level hogs found\n",
      "No top level hogs found\n",
      "No top level hogs found\n",
      "No top level hogs found\n",
      "No top level hogs found\n",
      "No top level hogs found\n",
      "No top level hogs found\n",
      "No top level hogs found\n",
      "No top level hogs found\n",
      "No top level hogs found\n"
     ]
    },
    {
     "name": "stderr",
     "output_type": "stream",
     "text": [
      "178it [01:59,  1.47it/s]"
     ]
    },
    {
     "name": "stdout",
     "output_type": "stream",
     "text": [
      "No top level hogs found\n",
      "No top level hogs found\n",
      "No top level hogs found\n",
      "No top level hogs found\n",
      "No top level hogs found\n",
      "No top level hogs found\n",
      "No top level hogs found\n",
      "No top level hogs found\n",
      "No top level hogs found\n",
      "No top level hogs found\n",
      "No top level hogs found\n",
      "No top level hogs found\n",
      "No top level hogs found\n",
      "No top level hogs found\n",
      "No top level hogs found\n",
      "No top level hogs found\n",
      "No top level hogs found\n",
      "No top level hogs found\n",
      "No top level hogs found\n"
     ]
    },
    {
     "name": "stderr",
     "output_type": "stream",
     "text": [
      "179it [02:00,  1.58it/s]"
     ]
    },
    {
     "name": "stdout",
     "output_type": "stream",
     "text": [
      "No top level hogs found\n",
      "No top level hogs found\n",
      "No top level hogs found\n",
      "No top level hogs found\n",
      "No top level hogs found\n",
      "No top level hogs found\n",
      "No top level hogs found\n",
      "No top level hogs found\n",
      "No top level hogs found\n",
      "No top level hogs found\n",
      "No top level hogs found\n",
      "No top level hogs found\n",
      "\n",
      "No top level hogs found\n",
      "No top level hogs found\n",
      "No top level hogs found\n",
      "No top level hogs foundNo top level hogs found\n",
      "No top level hogs found\n",
      "No top level hogs found\n",
      "No top level hogs found\n",
      "No top level hogs found\n",
      "No top level hogs found\n",
      "No top level hogs found\n",
      "No top level hogs found\n",
      "No top level hogs found\n",
      "No top level hogs found\n",
      "No top level hogs found\n"
     ]
    },
    {
     "name": "stderr",
     "output_type": "stream",
     "text": [
      "180it [02:00,  1.58it/s]"
     ]
    },
    {
     "name": "stdout",
     "output_type": "stream",
     "text": [
      "No top level hogs found\n",
      "No top level hogs found\n",
      "No top level hogs found\n",
      "No top level hogs found\n",
      "No top level hogs found\n",
      "No top level hogs found\n",
      "No top level hogs found\n",
      "No top level hogs found\n",
      "No top level hogs found\n",
      "No top level hogs found\n",
      "No top level hogs found\n",
      "No top level hogs found\n",
      "No top level hogs found\n",
      "No top level hogs found\n",
      "No top level hogs found\n",
      "No top level hogs found\n",
      "No top level hogs found\n",
      "No top level hogs found\n",
      "No top level hogs found\n",
      "No top level hogs found\n",
      "No top level hogs found\n",
      "No top level hogs found\n",
      "No top level hogs found"
     ]
    },
    {
     "name": "stderr",
     "output_type": "stream",
     "text": [
      "181it [02:01,  1.61it/s]"
     ]
    },
    {
     "name": "stdout",
     "output_type": "stream",
     "text": [
      "\n",
      "No top level hogs found\n",
      "No top level hogs found\n",
      "No top level hogs found\n",
      "No top level hogs found\n",
      "No top level hogs found\n",
      "No top level hogs found\n",
      "No top level hogs found\n",
      "No top level hogs found\n",
      "No top level hogs found\n",
      "No top level hogs found\n",
      "No top level hogs found\n",
      "No top level hogs found\n",
      "No top level hogs found\n",
      "No top level hogs found\n",
      "No top level hogs found\n",
      "No top level hogs found\n",
      "No top level hogs found\n",
      "No top level hogs found\n",
      "No top level hogs found\n",
      "No top level hogs found\n",
      "No top level hogs found\n",
      "No top level hogs found\n"
     ]
    },
    {
     "name": "stderr",
     "output_type": "stream",
     "text": [
      "182it [02:02,  1.52it/s]"
     ]
    },
    {
     "name": "stdout",
     "output_type": "stream",
     "text": [
      "No top level hogs found\n",
      "No top level hogs found\n",
      "No top level hogs found\n",
      "No top level hogs found\n",
      "No top level hogs found\n",
      "No top level hogs found\n",
      "No top level hogs found\n",
      "No top level hogs found\n",
      "No top level hogs found\n",
      "No top level hogs found\n",
      "No top level hogs found\n",
      "No top level hogs found\n",
      "No top level hogs found\n",
      "No top level hogs found\n",
      "No top level hogs found\n",
      "No top level hogs found\n",
      "No top level hogs found\n",
      "No top level hogs found\n",
      "No top level hogs found\n",
      "No top level hogs found\n",
      "No top level hogs found\n"
     ]
    },
    {
     "name": "stderr",
     "output_type": "stream",
     "text": [
      "183it [02:02,  1.53it/s]"
     ]
    },
    {
     "name": "stdout",
     "output_type": "stream",
     "text": [
      "No top level hogs found\n",
      "No top level hogs found\n",
      "No top level hogs found\n",
      "No top level hogs found\n",
      "No top level hogs found\n",
      "No top level hogs found\n",
      "No top level hogs found\n",
      "No top level hogs found\n",
      "No top level hogs found\n",
      "No top level hogs found\n",
      "No top level hogs found\n",
      "No top level hogs found\n",
      "No top level hogs found\n",
      "No top level hogs found\n",
      "No top level hogs found\n",
      "No top level hogs found\n",
      "No top level hogs found\n",
      "No top level hogs found\n",
      "No top level hogs found\n",
      "No top level hogs found\n",
      "No top level hogs found\n",
      "No top level hogs found\n",
      "No top level hogs found\n",
      "No top level hogs found\n",
      "No top level hogs found\n",
      "No top level hogs found\n",
      "No top level hogs found"
     ]
    },
    {
     "name": "stderr",
     "output_type": "stream",
     "text": [
      "184it [02:03,  1.57it/s]"
     ]
    },
    {
     "name": "stdout",
     "output_type": "stream",
     "text": [
      "\n",
      "No top level hogs found\n",
      "No top level hogs found\n",
      "No top level hogs found\n",
      "No top level hogs found\n",
      "No top level hogs found\n",
      "No top level hogs found\n",
      "No top level hogs found\n",
      "No top level hogs found\n",
      "No top level hogs found\n",
      "No top level hogs found\n",
      "No top level hogs found\n",
      "No top level hogs found\n",
      "No top level hogs found\n",
      "No top level hogs found\n",
      "No top level hogs found\n",
      "No top level hogs found\n",
      "No top level hogs found\n",
      "No top level hogs found\n",
      "No top level hogs found\n",
      "No top level hogs found\n",
      "No top level hogs found\n"
     ]
    },
    {
     "name": "stderr",
     "output_type": "stream",
     "text": [
      "185it [02:04,  1.61it/s]"
     ]
    },
    {
     "name": "stdout",
     "output_type": "stream",
     "text": [
      "No top level hogs found\n",
      "No top level hogs found\n",
      "No top level hogs found\n",
      "No top level hogs found\n",
      "No top level hogs found\n",
      "No top level hogs found\n",
      "No top level hogs found\n",
      "No top level hogs found\n",
      "No top level hogs found\n",
      "No top level hogs found\n",
      "No top level hogs found\n",
      "No top level hogs found\n",
      "No top level hogs found\n",
      "No top level hogs found\n",
      "No top level hogs found\n",
      "No top level hogs found\n",
      "No top level hogs found\n",
      "No top level hogs found\n",
      "No top level hogs found\n",
      "No top level hogs found\n",
      "No top level hogs found\n",
      "No top level hogs found\n",
      "No top level hogs found"
     ]
    },
    {
     "name": "stderr",
     "output_type": "stream",
     "text": [
      "186it [02:04,  1.55it/s]"
     ]
    },
    {
     "name": "stdout",
     "output_type": "stream",
     "text": [
      "\n",
      "No top level hogs found\n",
      "No top level hogs found\n",
      "No top level hogs found\n",
      "No top level hogs found\n",
      "No top level hogs found\n",
      "No top level hogs found\n",
      "No top level hogs found\n",
      "No top level hogs found\n",
      "No top level hogs found\n",
      "No top level hogs found\n",
      "No top level hogs found\n",
      "No top level hogs found\n",
      "No top level hogs found\n",
      "No top level hogs found\n",
      "No top level hogs found\n",
      "No top level hogs found\n",
      "No top level hogs found\n",
      "No top level hogs found\n",
      "No top level hogs found\n",
      "No top level hogs found\n",
      "No top level hogs found\n",
      "No top level hogs found\n"
     ]
    },
    {
     "name": "stderr",
     "output_type": "stream",
     "text": [
      "187it [02:05,  1.58it/s]"
     ]
    },
    {
     "name": "stdout",
     "output_type": "stream",
     "text": [
      "No top level hogs found\n",
      "No top level hogs found\n",
      "No top level hogs found\n",
      "No top level hogs found\n",
      "No top level hogs found\n",
      "No top level hogs found\n",
      "No top level hogs found\n",
      "No top level hogs found\n",
      "No top level hogs found\n",
      "No top level hogs found\n",
      "No top level hogs found\n",
      "No top level hogs found\n",
      "No top level hogs found\n",
      "No top level hogs found\n",
      "No top level hogs found\n",
      "No top level hogs found\n",
      "No top level hogs found\n",
      "No top level hogs found\n",
      "No top level hogs found\n",
      "No top level hogs found\n",
      "No top level hogs found\n",
      "No top level hogs found\n",
      "No top level hogs found\n",
      "No top level hogs found\n",
      "No top level hogs found\n",
      "No top level hogs found\n",
      "No top level hogs found\n",
      "No top level hogs found\n",
      "No top level hogs found\n",
      "No top level hogs found\n",
      "No top level hogs found\n",
      "No top level hogs found\n",
      "No top level hogs found\n",
      "No top level hogs found"
     ]
    },
    {
     "name": "stderr",
     "output_type": "stream",
     "text": [
      "188it [02:06,  1.52it/s]"
     ]
    },
    {
     "name": "stdout",
     "output_type": "stream",
     "text": [
      "\n",
      "No top level hogs found\n",
      "No top level hogs found\n",
      "No top level hogs found\n",
      "No top level hogs found\n",
      "No top level hogs found\n",
      "No top level hogs found\n",
      "No top level hogs found\n",
      "No top level hogs found\n",
      "No top level hogs found\n",
      "No top level hogs found\n",
      "No top level hogs found\n",
      "No top level hogs found\n",
      "No top level hogs found\n",
      "No top level hogs found\n",
      "No top level hogs found\n",
      "No top level hogs found\n",
      "No top level hogs found\n",
      "No top level hogs found\n",
      "No top level hogs found\n",
      "No top level hogs found\n"
     ]
    },
    {
     "name": "stderr",
     "output_type": "stream",
     "text": [
      "189it [02:06,  1.52it/s]"
     ]
    },
    {
     "name": "stdout",
     "output_type": "stream",
     "text": [
      "No top level hogs found\n",
      "No top level hogs found\n",
      "No top level hogs found\n",
      "No top level hogs found\n",
      "No top level hogs found\n",
      "No top level hogs found\n",
      "No top level hogs found\n",
      "No top level hogs found\n",
      "No top level hogs found\n",
      "No top level hogs found\n",
      "No top level hogs found\n",
      "No top level hogs found\n",
      "No top level hogs found\n",
      "No top level hogs found\n",
      "No top level hogs found\n",
      "No top level hogs found\n"
     ]
    },
    {
     "name": "stderr",
     "output_type": "stream",
     "text": [
      "190it [02:07,  1.45it/s]"
     ]
    },
    {
     "name": "stdout",
     "output_type": "stream",
     "text": [
      "No top level hogs found\n",
      "No top level hogs found\n",
      "No top level hogs found\n",
      "No top level hogs found\n",
      "No top level hogs found\n",
      "No top level hogs found\n",
      "No top level hogs found\n",
      "No top level hogs found\n",
      "No top level hogs found\n",
      "No top level hogs found\n",
      "No top level hogs found\n",
      "No top level hogs found\n",
      "No top level hogs found\n",
      "No top level hogs found\n",
      "No top level hogs found\n",
      "No top level hogs found\n",
      "No top level hogs found\n",
      "No top level hogs found\n",
      "No top level hogs found\n",
      "No top level hogs found\n",
      "No top level hogs found\n",
      "No top level hogs found\n",
      "No top level hogs found\n",
      "No top level hogs found\n",
      "No top level hogs found\n",
      "No top level hogs found\n",
      "No top level hogs found\n",
      "No top level hogs found"
     ]
    },
    {
     "name": "stderr",
     "output_type": "stream",
     "text": [
      "191it [02:08,  1.48it/s]"
     ]
    },
    {
     "name": "stdout",
     "output_type": "stream",
     "text": [
      "\n",
      "No top level hogs found\n",
      "No top level hogs found\n",
      "No top level hogs found\n",
      "No top level hogs found\n",
      "No top level hogs found\n",
      "No top level hogs found\n",
      "No top level hogs found\n",
      "No top level hogs found\n",
      "No top level hogs found\n",
      "No top level hogs found\n",
      "No top level hogs found\n",
      "No top level hogs found\n",
      "No top level hogs found\n",
      "No top level hogs found\n",
      "No top level hogs found\n",
      "No top level hogs found\n",
      "No top level hogs found\n",
      "No top level hogs found\n",
      "No top level hogs found\n"
     ]
    },
    {
     "name": "stderr",
     "output_type": "stream",
     "text": [
      "192it [02:08,  1.55it/s]"
     ]
    },
    {
     "name": "stdout",
     "output_type": "stream",
     "text": [
      "No top level hogs found\n",
      "No top level hogs found\n",
      "No top level hogs found\n",
      "No top level hogs found\n",
      "No top level hogs found\n",
      "No top level hogs found\n",
      "No top level hogs found\n",
      "No top level hogs found\n",
      "No top level hogs found\n",
      "No top level hogs found\n",
      "No top level hogs found\n",
      "No top level hogs found\n",
      "No top level hogs found\n",
      "No top level hogs found\n",
      "No top level hogs found\n",
      "No top level hogs found\n",
      "No top level hogs found\n",
      "No top level hogs found\n",
      "No top level hogs found\n",
      "No top level hogs found\n",
      "No top level hogs found\n",
      "No top level hogs found\n"
     ]
    },
    {
     "name": "stderr",
     "output_type": "stream",
     "text": [
      "193it [02:09,  1.58it/s]"
     ]
    },
    {
     "name": "stdout",
     "output_type": "stream",
     "text": [
      "No top level hogs found\n",
      "No top level hogs found\n",
      "No top level hogs found\n",
      "No top level hogs found\n",
      "No top level hogs found\n",
      "No top level hogs found\n",
      "No top level hogs found\n",
      "No top level hogs found\n",
      "No top level hogs found\n",
      "No top level hogs found\n",
      "No top level hogs found\n",
      "No top level hogs found\n",
      "No top level hogs found\n",
      "No top level hogs found\n",
      "No top level hogs found\n",
      "No top level hogs found\n",
      "No top level hogs found\n",
      "No top level hogs found\n",
      "No top level hogs found\n",
      "No top level hogs found\n",
      "No top level hogs found\n",
      "No top level hogs found\n",
      "No top level hogs found\n",
      "No top level hogs found\n",
      "No top level hogs found\n"
     ]
    },
    {
     "name": "stderr",
     "output_type": "stream",
     "text": [
      "194it [02:09,  1.60it/s]"
     ]
    },
    {
     "name": "stdout",
     "output_type": "stream",
     "text": [
      "No top level hogs found\n",
      "No top level hogs found\n",
      "No top level hogs found\n",
      "No top level hogs found\n",
      "No top level hogs found\n",
      "No top level hogs found\n",
      "No top level hogs found\n",
      "No top level hogs found\n",
      "No top level hogs found\n",
      "No top level hogs found\n",
      "No top level hogs found\n",
      "No top level hogs found\n",
      "No top level hogs found\n",
      "No top level hogs found\n",
      "No top level hogs found\n",
      "No top level hogs found\n",
      "No top level hogs found\n",
      "No top level hogs found\n",
      "No top level hogs found\n",
      "No top level hogs found\n",
      "No top level hogs found\n",
      "No top level hogs found\n",
      "No top level hogs found\n",
      "No top level hogs found\n",
      "No top level hogs found\n",
      "No top level hogs found\n"
     ]
    },
    {
     "name": "stderr",
     "output_type": "stream",
     "text": [
      "195it [02:10,  1.56it/s]"
     ]
    },
    {
     "name": "stdout",
     "output_type": "stream",
     "text": [
      "No top level hogs found\n",
      "No top level hogs found\n",
      "No top level hogs found\n",
      "No top level hogs found\n",
      "No top level hogs found\n",
      "No top level hogs found\n",
      "No top level hogs found\n",
      "No top level hogs found\n",
      "No top level hogs found\n",
      "No top level hogs found\n",
      "No top level hogs found\n",
      "No top level hogs found\n",
      "No top level hogs found\n",
      "No top level hogs found\n",
      "No top level hogs found\n",
      "No top level hogs found\n",
      "No top level hogs found\n",
      "No top level hogs found\n",
      "No top level hogs found\n",
      "No top level hogs found\n",
      "No top level hogs found\n",
      "No top level hogs found\n",
      "No top level hogs found\n"
     ]
    },
    {
     "name": "stderr",
     "output_type": "stream",
     "text": [
      "196it [02:11,  1.51it/s]"
     ]
    },
    {
     "name": "stdout",
     "output_type": "stream",
     "text": [
      "No top level hogs found\n",
      "No top level hogs found\n",
      "No top level hogs found\n",
      "No top level hogs found\n",
      "No top level hogs found\n",
      "No top level hogs found\n",
      "No top level hogs found\n",
      "No top level hogs found\n",
      "No top level hogs found\n",
      "No top level hogs found\n",
      "No top level hogs found\n",
      "No top level hogs found\n",
      "No top level hogs found\n",
      "No top level hogs found\n",
      "No top level hogs found\n",
      "No top level hogs found\n",
      "No top level hogs found\n",
      "No top level hogs found\n",
      "No top level hogs found\n",
      "No top level hogs found\n",
      "No top level hogs found\n",
      "No top level hogs found\n",
      "No top level hogs found\n"
     ]
    },
    {
     "name": "stderr",
     "output_type": "stream",
     "text": [
      "197it [02:11,  1.50it/s]"
     ]
    },
    {
     "name": "stdout",
     "output_type": "stream",
     "text": [
      "No top level hogs found\n",
      "No top level hogs found\n",
      "No top level hogs found\n",
      "No top level hogs found\n",
      "No top level hogs found\n",
      "No top level hogs found\n",
      "No top level hogs found\n",
      "No top level hogs found\n",
      "No top level hogs found\n",
      "No top level hogs found\n",
      "No top level hogs found\n",
      "No top level hogs found\n",
      "No top level hogs found\n",
      "No top level hogs found\n",
      "No top level hogs found\n",
      "No top level hogs found\n",
      "No top level hogs found\n",
      "No top level hogs found\n",
      "No top level hogs found\n",
      "No top level hogs found\n",
      "No top level hogs found\n",
      "No top level hogs found\n",
      "No top level hogs found\n",
      "No top level hogs found\n",
      "No top level hogs found\n",
      "No top level hogs found\n",
      "No top level hogs found\n",
      "No top level hogs found\n"
     ]
    },
    {
     "name": "stderr",
     "output_type": "stream",
     "text": [
      "198it [02:12,  1.52it/s]"
     ]
    },
    {
     "name": "stdout",
     "output_type": "stream",
     "text": [
      "No top level hogs found\n",
      "No top level hogs found\n",
      "No top level hogs found\n",
      "No top level hogs found\n",
      "No top level hogs found\n",
      "No top level hogs found\n",
      "No top level hogs found\n",
      "No top level hogs found\n",
      "No top level hogs found\n",
      "No top level hogs found\n",
      "No top level hogs found\n",
      "No top level hogs found\n",
      "No top level hogs found\n",
      "No top level hogs found\n",
      "No top level hogs found\n",
      "No top level hogs found\n",
      "No top level hogs found\n",
      "No top level hogs found\n",
      "No top level hogs found\n",
      "No top level hogs found\n",
      "No top level hogs found\n",
      "No top level hogs found\n",
      "No top level hogs found\n",
      "No top level hogs found\n",
      "No top level hogs found\n",
      "No top level hogs found\n",
      "No top level hogs found\n",
      "No top level hogs found\n"
     ]
    },
    {
     "name": "stderr",
     "output_type": "stream",
     "text": [
      "199it [02:13,  1.50it/s]"
     ]
    },
    {
     "name": "stdout",
     "output_type": "stream",
     "text": [
      "No top level hogs found\n",
      "No top level hogs found\n",
      "No top level hogs found\n",
      "No top level hogs found\n",
      "No top level hogs found\n",
      "No top level hogs found\n",
      "No top level hogs found\n",
      "No top level hogs found\n",
      "No top level hogs found\n",
      "No top level hogs found\n",
      "No top level hogs found\n",
      "No top level hogs found\n",
      "No top level hogs found\n",
      "No top level hogs found\n",
      "No top level hogs found\n",
      "No top level hogs found\n",
      "No top level hogs found\n",
      "No top level hogs found\n",
      "No top level hogs found\n",
      "No top level hogs found\n",
      "No top level hogs found\n",
      "No top level hogs found\n",
      "No top level hogs found\n",
      "No top level hogs found\n",
      "No top level hogs found\n",
      "No top level hogs found\n",
      "No top level hogs found\n"
     ]
    },
    {
     "name": "stderr",
     "output_type": "stream",
     "text": [
      "200it [02:13,  1.48it/s]"
     ]
    },
    {
     "name": "stdout",
     "output_type": "stream",
     "text": [
      "No top level hogs found\n",
      "No top level hogs found\n",
      "No top level hogs found\n",
      "No top level hogs found\n",
      "No top level hogs found\n",
      "No top level hogs found\n",
      "No top level hogs found\n",
      "No top level hogs found\n",
      "No top level hogs found\n",
      "No top level hogs found\n",
      "No top level hogs found\n",
      "No top level hogs found\n",
      "No top level hogs found\n",
      "No top level hogs found\n",
      "No top level hogs found\n",
      "No top level hogs found\n",
      "No top level hogs found\n",
      "No top level hogs found\n",
      "No top level hogs found\n",
      "No top level hogs found\n",
      "No top level hogs found\n"
     ]
    },
    {
     "name": "stderr",
     "output_type": "stream",
     "text": [
      "201it [02:14,  1.50it/s]"
     ]
    },
    {
     "name": "stdout",
     "output_type": "stream",
     "text": [
      "No top level hogs found\n",
      "No top level hogs found\n",
      "No top level hogs found\n",
      "No top level hogs found\n",
      "No top level hogs found\n",
      "No top level hogs found\n",
      "No top level hogs found\n",
      "No top level hogs found\n",
      "No top level hogs found\n",
      "No top level hogs found\n",
      "No top level hogs found\n",
      "No top level hogs found\n",
      "No top level hogs found\n",
      "No top level hogs found\n",
      "No top level hogs found\n",
      "No top level hogs found\n",
      "No top level hogs found\n",
      "No top level hogs found\n",
      "No top level hogs found\n",
      "No top level hogs found\n",
      "No top level hogs found\n",
      "No top level hogs found\n",
      "No top level hogs found\n",
      "No top level hogs found\n",
      "No top level hogs found\n",
      "No top level hogs found\n",
      "No top level hogs found\n"
     ]
    },
    {
     "name": "stderr",
     "output_type": "stream",
     "text": [
      "202it [02:15,  1.48it/s]"
     ]
    },
    {
     "name": "stdout",
     "output_type": "stream",
     "text": [
      "No top level hogs found\n",
      "No top level hogs found\n",
      "No top level hogs found\n",
      "No top level hogs found\n",
      "No top level hogs found\n",
      "No top level hogs found\n",
      "No top level hogs found\n",
      "No top level hogs found\n",
      "No top level hogs found\n",
      "No top level hogs found\n",
      "No top level hogs found\n",
      "No top level hogs found\n",
      "No top level hogs found\n",
      "No top level hogs found\n",
      "No top level hogs found\n",
      "No top level hogs found\n",
      "No top level hogs found\n",
      "No top level hogs found\n",
      "No top level hogs found\n",
      "No top level hogs found\n",
      "No top level hogs found\n",
      "No top level hogs found\n",
      "No top level hogs found\n",
      "No top level hogs found\n"
     ]
    },
    {
     "name": "stderr",
     "output_type": "stream",
     "text": [
      "203it [02:15,  1.54it/s]"
     ]
    },
    {
     "name": "stdout",
     "output_type": "stream",
     "text": [
      "No top level hogs found\n",
      "No top level hogs found\n",
      "No top level hogs found\n",
      "No top level hogs found\n",
      "No top level hogs found\n",
      "No top level hogs found\n",
      "No top level hogs found\n",
      "No top level hogs found\n",
      "No top level hogs found\n",
      "No top level hogs found\n",
      "No top level hogs found\n",
      "No top level hogs found\n",
      "No top level hogs found\n",
      "No top level hogs found\n",
      "No top level hogs found\n",
      "No top level hogs found\n",
      "No top level hogs found\n",
      "No top level hogs found\n",
      "No top level hogs found\n",
      "No top level hogs found\n",
      "No top level hogs found\n",
      "No top level hogs found\n",
      "No top level hogs found"
     ]
    },
    {
     "name": "stderr",
     "output_type": "stream",
     "text": [
      "204it [02:16,  1.54it/s]"
     ]
    },
    {
     "name": "stdout",
     "output_type": "stream",
     "text": [
      "\n",
      "No top level hogs found\n",
      "No top level hogs found\n",
      "No top level hogs found\n",
      "No top level hogs found\n",
      "No top level hogs found\n",
      "No top level hogs found\n",
      "No top level hogs found\n",
      "No top level hogs found\n",
      "No top level hogs found\n",
      "No top level hogs found\n",
      "No top level hogs found\n",
      "No top level hogs found\n",
      "No top level hogs found\n",
      "No top level hogs found\n",
      "No top level hogs found\n",
      "No top level hogs found\n",
      "No top level hogs found\n",
      "No top level hogs found\n",
      "No top level hogs found\n",
      "No top level hogs found\n",
      "No top level hogs found\n",
      "No top level hogs found\n",
      "No top level hogs found\n",
      "No top level hogs found\n",
      "No top level hogs found\n",
      "No top level hogs found\n",
      "No top level hogs found\n",
      "No top level hogs found\n",
      "No top level hogs found\n",
      "No top level hogs found\n",
      "No top level hogs found\n",
      "No top level hogs found\n",
      "No top level hogs found\n",
      "No top level hogs found\n",
      "No top level hogs found"
     ]
    },
    {
     "name": "stderr",
     "output_type": "stream",
     "text": [
      "205it [02:17,  1.51it/s]"
     ]
    },
    {
     "name": "stdout",
     "output_type": "stream",
     "text": [
      "\n",
      "No top level hogs found\n",
      "No top level hogs found\n",
      "No top level hogs found\n",
      "No top level hogs found\n",
      "No top level hogs found\n",
      "No top level hogs found\n",
      "No top level hogs found\n",
      "No top level hogs found\n",
      "No top level hogs found\n",
      "No top level hogs found\n",
      "No top level hogs found\n",
      "No top level hogs found\n",
      "No top level hogs found\n",
      "No top level hogs found\n",
      "No top level hogs found\n",
      "No top level hogs found\n",
      "No top level hogs found\n",
      "No top level hogs found\n",
      "No top level hogs found\n",
      "No top level hogs found\n",
      "No top level hogs found\n",
      "No top level hogs found\n",
      "No top level hogs found\n"
     ]
    },
    {
     "name": "stderr",
     "output_type": "stream",
     "text": [
      "206it [02:17,  1.55it/s]"
     ]
    },
    {
     "name": "stdout",
     "output_type": "stream",
     "text": [
      "No top level hogs found\n",
      "No top level hogs found\n",
      "No top level hogs found\n",
      "No top level hogs found\n",
      "No top level hogs found\n",
      "No top level hogs found\n",
      "No top level hogs found\n",
      "No top level hogs found\n",
      "No top level hogs found\n",
      "No top level hogs found\n",
      "No top level hogs found\n",
      "No top level hogs found\n",
      "No top level hogs found\n",
      "No top level hogs found\n",
      "No top level hogs found\n",
      "No top level hogs found\n",
      "No top level hogs found\n"
     ]
    },
    {
     "name": "stderr",
     "output_type": "stream",
     "text": [
      "207it [02:18,  1.54it/s]"
     ]
    },
    {
     "name": "stdout",
     "output_type": "stream",
     "text": [
      "No top level hogs found\n",
      "No top level hogs found\n",
      "No top level hogs found\n",
      "No top level hogs found\n",
      "No top level hogs found\n",
      "No top level hogs found\n",
      "No top level hogs found\n",
      "No top level hogs found\n",
      "No top level hogs found\n",
      "No top level hogs found\n",
      "No top level hogs found\n",
      "No top level hogs found\n",
      "No top level hogs found\n",
      "No top level hogs found\n",
      "No top level hogs found\n",
      "No top level hogs found\n",
      "No top level hogs found\n",
      "No top level hogs found\n",
      "No top level hogs found\n",
      "No top level hogs found\n",
      "No top level hogs found\n",
      "No top level hogs found\n",
      "No top level hogs found\n",
      "No top level hogs found\n",
      "No top level hogs found\n",
      "No top level hogs found\n",
      "No top level hogs found\n",
      "No top level hogs found\n"
     ]
    },
    {
     "name": "stderr",
     "output_type": "stream",
     "text": [
      "208it [02:19,  1.47it/s]"
     ]
    },
    {
     "name": "stdout",
     "output_type": "stream",
     "text": [
      "No top level hogs found\n",
      "No top level hogs found\n",
      "No top level hogs found\n",
      "No top level hogs found\n",
      "No top level hogs found\n",
      "No top level hogs found\n",
      "No top level hogs found\n",
      "No top level hogs found\n",
      "No top level hogs found\n",
      "No top level hogs found\n",
      "No top level hogs found\n",
      "No top level hogs found\n",
      "No top level hogs found\n",
      "No top level hogs found\n",
      "No top level hogs found\n",
      "No top level hogs found\n",
      "No top level hogs found\n",
      "No top level hogs found\n",
      "No top level hogs found\n",
      "No top level hogs found\n",
      "No top level hogs found\n",
      "No top level hogs found\n",
      "No top level hogs found\n",
      "No top level hogs found\n",
      "No top level hogs found\n",
      "No top level hogs found\n",
      "No top level hogs found\n"
     ]
    },
    {
     "name": "stderr",
     "output_type": "stream",
     "text": [
      "209it [02:19,  1.45it/s]"
     ]
    },
    {
     "name": "stdout",
     "output_type": "stream",
     "text": [
      "No top level hogs found\n",
      "No top level hogs found\n",
      "No top level hogs found\n",
      "No top level hogs found\n",
      "No top level hogs found\n",
      "No top level hogs found\n",
      "No top level hogs found\n"
     ]
    },
    {
     "name": "stderr",
     "output_type": "stream",
     "text": [
      "210it [02:20,  1.32it/s]"
     ]
    },
    {
     "name": "stdout",
     "output_type": "stream",
     "text": [
      "No top level hogs found\n",
      "No top level hogs found\n",
      "No top level hogs found\n",
      "No top level hogs found\n",
      "No top level hogs found\n",
      "No top level hogs found\n",
      "No top level hogs found\n",
      "No top level hogs found\n",
      "No top level hogs found\n",
      "No top level hogs found\n",
      "No top level hogs found\n",
      "No top level hogs found\n",
      "No top level hogs found\n",
      "No top level hogs found\n",
      "No top level hogs found\n",
      "No top level hogs found\n",
      "No top level hogs found\n",
      "No top level hogs found\n",
      "No top level hogs found\n",
      "No top level hogs found\n",
      "No top level hogs found\n",
      "No top level hogs found\n",
      "No top level hogs found\n"
     ]
    },
    {
     "name": "stderr",
     "output_type": "stream",
     "text": [
      "211it [02:21,  1.42it/s]"
     ]
    },
    {
     "name": "stdout",
     "output_type": "stream",
     "text": [
      "No top level hogs found\n",
      "No top level hogs found\n",
      "No top level hogs found\n",
      "No top level hogs found\n",
      "No top level hogs found\n",
      "No top level hogs found\n",
      "No top level hogs found\n",
      "No top level hogs found\n",
      "No top level hogs found\n",
      "No top level hogs found\n",
      "No top level hogs found\n",
      "No top level hogs found\n",
      "No top level hogs found\n",
      "No top level hogs found\n",
      "No top level hogs found\n",
      "No top level hogs found\n",
      "No top level hogs found\n",
      "No top level hogs found\n",
      "No top level hogs found\n",
      "No top level hogs found\n",
      "No top level hogs found\n",
      "No top level hogs found\n",
      "No top level hogs found\n",
      "No top level hogs found"
     ]
    },
    {
     "name": "stderr",
     "output_type": "stream",
     "text": [
      "212it [02:22,  1.49it/s]"
     ]
    },
    {
     "name": "stdout",
     "output_type": "stream",
     "text": [
      "\n",
      "No top level hogs found\n",
      "No top level hogs found\n",
      "No top level hogs found\n",
      "No top level hogs found\n",
      "No top level hogs found\n",
      "No top level hogs found\n",
      "No top level hogs found\n",
      "No top level hogs found\n",
      "No top level hogs found\n",
      "No top level hogs found\n",
      "No top level hogs found\n",
      "No top level hogs found\n",
      "No top level hogs found\n",
      "No top level hogs found\n",
      "No top level hogs found\n",
      "No top level hogs found\n",
      "No top level hogs found\n",
      "No top level hogs found\n",
      "No top level hogs found\n",
      "No top level hogs found\n",
      "No top level hogs found\n",
      "No top level hogs found\n",
      "No top level hogs found\n"
     ]
    },
    {
     "name": "stderr",
     "output_type": "stream",
     "text": [
      "213it [02:22,  1.42it/s]"
     ]
    },
    {
     "name": "stdout",
     "output_type": "stream",
     "text": [
      "No top level hogs found\n",
      "No top level hogs found\n",
      "No top level hogs found\n",
      "No top level hogs found\n",
      "No top level hogs found\n",
      "No top level hogs found\n",
      "No top level hogs found\n",
      "No top level hogs found\n",
      "No top level hogs found\n",
      "No top level hogs found\n",
      "No top level hogs found\n",
      "No top level hogs found\n",
      "No top level hogs found\n",
      "No top level hogs found\n",
      "No top level hogs found\n",
      "No top level hogs found\n",
      "No top level hogs found\n",
      "No top level hogs found\n",
      "No top level hogs found\n",
      "No top level hogs found\n",
      "No top level hogs found\n",
      "No top level hogs found\n",
      "No top level hogs found\n",
      "No top level hogs found\n",
      "No top level hogs found\n"
     ]
    },
    {
     "name": "stderr",
     "output_type": "stream",
     "text": [
      "214it [02:23,  1.39it/s]"
     ]
    },
    {
     "name": "stdout",
     "output_type": "stream",
     "text": [
      "No top level hogs found\n",
      "No top level hogs found\n",
      "No top level hogs found\n",
      "No top level hogs found\n",
      "No top level hogs found\n",
      "No top level hogs found\n",
      "No top level hogs found\n",
      "No top level hogs found\n",
      "No top level hogs found\n",
      "No top level hogs found\n",
      "No top level hogs found\n",
      "No top level hogs found\n",
      "No top level hogs found\n",
      "No top level hogs found\n",
      "No top level hogs found\n",
      "No top level hogs found\n",
      "No top level hogs found\n",
      "No top level hogs found\n",
      "No top level hogs found\n",
      "No top level hogs found\n",
      "No top level hogs found\n",
      "No top level hogs found\n",
      "No top level hogs found\n",
      "No top level hogs found\n",
      "No top level hogs found\n"
     ]
    },
    {
     "name": "stderr",
     "output_type": "stream",
     "text": [
      "215it [02:24,  1.35it/s]"
     ]
    },
    {
     "name": "stdout",
     "output_type": "stream",
     "text": [
      "No top level hogs found\n",
      "No top level hogs found\n",
      "No top level hogs found\n",
      "No top level hogs found\n",
      "No top level hogs found\n",
      "No top level hogs found\n",
      "No top level hogs found\n",
      "No top level hogs found\n",
      "No top level hogs found\n",
      "No top level hogs found\n",
      "No top level hogs found\n",
      "No top level hogs found\n",
      "No top level hogs found\n",
      "No top level hogs found\n",
      "No top level hogs found\n",
      "No top level hogs found\n",
      "No top level hogs found\n",
      "No top level hogs found\n",
      "No top level hogs found\n",
      "No top level hogs found\n",
      "No top level hogs found\n",
      "No top level hogs found\n",
      "No top level hogs found\n",
      "No top level hogs found\n",
      "No top level hogs found\n",
      "No top level hogs found\n",
      "No top level hogs found\n",
      "No top level hogs found\n",
      "No top level hogs found\n",
      "No top level hogs found\n",
      "No top level hogs found\n",
      "No top level hogs found\n",
      "No top level hogs found\n",
      "No top level hogs found\n",
      "No top level hogs found\n",
      "No top level hogs found\n",
      "No top level hogs found\n",
      "No top level hogs found\n",
      "No top level hogs found\n",
      "No top level hogs found\n",
      "No top level hogs found\n",
      "No top level hogs found\n",
      "No top level hogs found\n",
      "No top level hogs found\n",
      "No top level hogs found\n",
      "No top level hogs found\n",
      "No top level hogs found\n",
      "No top level hogs found\n",
      "No top level hogs found\n",
      "No top level hogs found\n",
      "No top level hogs found\n",
      "No top level hogs found\n",
      "No top level hogs found"
     ]
    },
    {
     "name": "stderr",
     "output_type": "stream",
     "text": [
      "216it [02:25,  1.23it/s]"
     ]
    },
    {
     "name": "stdout",
     "output_type": "stream",
     "text": [
      "\n",
      "No top level hogs found\n",
      "No top level hogs found\n",
      "No top level hogs found\n",
      "No top level hogs found\n",
      "No top level hogs found\n",
      "No top level hogs found\n",
      "No top level hogs found\n",
      "No top level hogs found\n",
      "No top level hogs found\n",
      "No top level hogs found\n",
      "No top level hogs found\n",
      "No top level hogs found\n",
      "No top level hogs found\n",
      "No top level hogs found\n",
      "No top level hogs found\n",
      "No top level hogs found\n",
      "No top level hogs found\n",
      "No top level hogs found\n",
      "No top level hogs found\n",
      "No top level hogs found\n",
      "No top level hogs found\n",
      "No top level hogs found\n",
      "No top level hogs found\n",
      "No top level hogs found"
     ]
    },
    {
     "name": "stderr",
     "output_type": "stream",
     "text": [
      "217it [02:25,  1.34it/s]"
     ]
    },
    {
     "name": "stdout",
     "output_type": "stream",
     "text": [
      "\n",
      "No top level hogs found\n",
      "No top level hogs found\n",
      "No top level hogs found\n",
      "No top level hogs found\n",
      "No top level hogs found\n",
      "No top level hogs found\n",
      "No top level hogs found\n",
      "No top level hogs found\n",
      "No top level hogs found\n",
      "No top level hogs found\n",
      "No top level hogs found\n",
      "No top level hogs found\n",
      "No top level hogs found\n",
      "No top level hogs found\n",
      "No top level hogs found\n",
      "No top level hogs found\n",
      "No top level hogs found\n",
      "No top level hogs found\n",
      "No top level hogs found\n",
      "No top level hogs found\n",
      "No top level hogs found\n",
      "No top level hogs found\n",
      "No top level hogs found"
     ]
    },
    {
     "name": "stderr",
     "output_type": "stream",
     "text": [
      "218it [02:26,  1.37it/s]"
     ]
    },
    {
     "name": "stdout",
     "output_type": "stream",
     "text": [
      "\n",
      "No top level hogs found\n",
      "No top level hogs found\n",
      "No top level hogs found\n",
      "No top level hogs found\n",
      "No top level hogs found\n",
      "No top level hogs found\n",
      "No top level hogs found\n",
      "No top level hogs found\n",
      "No top level hogs found\n",
      "No top level hogs found\n",
      "No top level hogs found\n",
      "No top level hogs found\n",
      "No top level hogs found\n",
      "No top level hogs found\n",
      "No top level hogs found\n",
      "No top level hogs found\n",
      "No top level hogs found\n",
      "No top level hogs found\n",
      "No top level hogs found\n",
      "No top level hogs found\n",
      "No top level hogs found\n",
      "No top level hogs found\n",
      "No top level hogs found\n",
      "No top level hogs found\n",
      "No top level hogs found\n"
     ]
    },
    {
     "name": "stderr",
     "output_type": "stream",
     "text": [
      "219it [02:27,  1.40it/s]"
     ]
    },
    {
     "name": "stdout",
     "output_type": "stream",
     "text": [
      "No top level hogs found\n",
      "No top level hogs found\n",
      "No top level hogs found\n",
      "No top level hogs found\n",
      "No top level hogs found\n",
      "No top level hogs found\n",
      "No top level hogs found\n",
      "No top level hogs found\n",
      "No top level hogs found\n",
      "No top level hogs found\n",
      "No top level hogs found\n",
      "No top level hogs found\n",
      "No top level hogs found\n",
      "No top level hogs found\n",
      "No top level hogs found\n",
      "No top level hogs found\n",
      "No top level hogs found\n",
      "No top level hogs found\n",
      "No top level hogs found\n",
      "No top level hogs found\n",
      "No top level hogs found\n",
      "No top level hogs found\n"
     ]
    },
    {
     "name": "stderr",
     "output_type": "stream",
     "text": [
      "220it [02:27,  1.49it/s]"
     ]
    },
    {
     "name": "stdout",
     "output_type": "stream",
     "text": [
      "No top level hogs found\n",
      "No top level hogs found\n",
      "No top level hogs found\n",
      "No top level hogs found\n",
      "No top level hogs found\n",
      "No top level hogs found\n",
      "No top level hogs found\n",
      "No top level hogs found\n",
      "No top level hogs found\n",
      "No top level hogs found\n",
      "No top level hogs found\n",
      "No top level hogs found\n",
      "No top level hogs found\n",
      "No top level hogs found\n",
      "No top level hogs found\n",
      "No top level hogs found\n",
      "No top level hogs found\n",
      "No top level hogs found\n",
      "No top level hogs found\n",
      "No top level hogs found\n",
      "No top level hogs found\n"
     ]
    },
    {
     "name": "stderr",
     "output_type": "stream",
     "text": [
      "221it [02:28,  1.59it/s]"
     ]
    },
    {
     "name": "stdout",
     "output_type": "stream",
     "text": [
      "No top level hogs found\n",
      "No top level hogs found\n",
      "No top level hogs found\n",
      "No top level hogs found\n",
      "No top level hogs found\n",
      "No top level hogs found\n",
      "No top level hogs found\n",
      "No top level hogs found\n",
      "No top level hogs found\n",
      "No top level hogs found\n",
      "No top level hogs found\n",
      "No top level hogs found\n",
      "No top level hogs found\n",
      "No top level hogs found\n",
      "No top level hogs found\n",
      "No top level hogs found\n",
      "No top level hogs found\n",
      "No top level hogs found\n",
      "No top level hogs found\n",
      "No top level hogs found\n",
      "No top level hogs found\n",
      "No top level hogs found\n",
      "No top level hogs found\n",
      "No top level hogs found\n",
      "No top level hogs found\n",
      "No top level hogs found\n",
      "No top level hogs found\n",
      "No top level hogs found"
     ]
    },
    {
     "name": "stderr",
     "output_type": "stream",
     "text": [
      "222it [02:29,  1.55it/s]"
     ]
    },
    {
     "name": "stdout",
     "output_type": "stream",
     "text": [
      "\n",
      "No top level hogs found\n",
      "No top level hogs found\n",
      "No top level hogs found\n",
      "No top level hogs found\n",
      "No top level hogs found\n",
      "No top level hogs found\n",
      "No top level hogs found\n",
      "No top level hogs found\n",
      "No top level hogs found\n",
      "No top level hogs found\n",
      "No top level hogs found\n",
      "No top level hogs found\n",
      "No top level hogs found\n",
      "No top level hogs found\n",
      "No top level hogs found\n",
      "No top level hogs found\n",
      "No top level hogs found\n",
      "No top level hogs found\n"
     ]
    },
    {
     "name": "stderr",
     "output_type": "stream",
     "text": [
      "223it [02:29,  1.50it/s]"
     ]
    },
    {
     "name": "stdout",
     "output_type": "stream",
     "text": [
      "No top level hogs found\n",
      "No top level hogs found\n",
      "No top level hogs found\n",
      "No top level hogs found\n",
      "No top level hogs found\n",
      "No top level hogs found\n",
      "No top level hogs found\n",
      "No top level hogs found\n",
      "No top level hogs found\n",
      "No top level hogs found\n",
      "No top level hogs found\n",
      "No top level hogs found\n",
      "No top level hogs found\n",
      "No top level hogs found\n",
      "No top level hogs found\n",
      "No top level hogs found\n",
      "No top level hogs found\n",
      "No top level hogs found\n",
      "No top level hogs found\n",
      "No top level hogs found\n",
      "No top level hogs found\n",
      "No top level hogs found\n",
      "No top level hogs found\n",
      "No top level hogs found\n",
      "No top level hogs found"
     ]
    },
    {
     "name": "stderr",
     "output_type": "stream",
     "text": [
      "224it [02:30,  1.50it/s]"
     ]
    },
    {
     "name": "stdout",
     "output_type": "stream",
     "text": [
      "\n",
      "No top level hogs found\n",
      "No top level hogs found\n",
      "No top level hogs found\n",
      "No top level hogs found\n",
      "No top level hogs found\n",
      "No top level hogs found\n",
      "No top level hogs found\n",
      "No top level hogs found\n",
      "No top level hogs found\n",
      "No top level hogs found\n",
      "No top level hogs found\n",
      "No top level hogs found\n",
      "No top level hogs found\n",
      "No top level hogs found\n",
      "No top level hogs found\n",
      "No top level hogs found\n",
      "No top level hogs found\n",
      "No top level hogs found\n",
      "No top level hogs found\n",
      "No top level hogs found\n",
      "No top level hogs found\n",
      "No top level hogs found\n",
      "No top level hogs found\n",
      "No top level hogs found"
     ]
    },
    {
     "name": "stderr",
     "output_type": "stream",
     "text": [
      "225it [02:31,  1.54it/s]"
     ]
    },
    {
     "name": "stdout",
     "output_type": "stream",
     "text": [
      "\n",
      "No top level hogs found\n",
      "No top level hogs found\n",
      "No top level hogs found\n",
      "No top level hogs found\n",
      "No top level hogs found\n",
      "No top level hogs found\n",
      "No top level hogs found\n",
      "No top level hogs found\n",
      "No top level hogs found\n",
      "No top level hogs found\n",
      "No top level hogs found\n",
      "No top level hogs found\n",
      "No top level hogs found\n",
      "No top level hogs found\n",
      "No top level hogs found\n",
      "No top level hogs found\n",
      "No top level hogs found\n",
      "No top level hogs found\n",
      "No top level hogs found\n",
      "No top level hogs found\n",
      "No top level hogs found\n",
      "No top level hogs found\n",
      "No top level hogs found\n",
      "No top level hogs found\n",
      "No top level hogs found\n"
     ]
    },
    {
     "name": "stderr",
     "output_type": "stream",
     "text": [
      "226it [02:31,  1.53it/s]"
     ]
    },
    {
     "name": "stdout",
     "output_type": "stream",
     "text": [
      "No top level hogs found\n",
      "No top level hogs found\n",
      "No top level hogs found\n",
      "No top level hogs found\n",
      "No top level hogs found\n",
      "No top level hogs found\n",
      "No top level hogs found\n",
      "No top level hogs found\n",
      "No top level hogs found\n",
      "No top level hogs found\n",
      "No top level hogs found\n",
      "No top level hogs found\n",
      "No top level hogs found\n",
      "No top level hogs found\n",
      "No top level hogs found\n",
      "No top level hogs found\n",
      "No top level hogs found\n",
      "No top level hogs found\n",
      "No top level hogs found\n",
      "No top level hogs found\n",
      "No top level hogs found\n",
      "No top level hogs found\n",
      "No top level hogs found"
     ]
    },
    {
     "name": "stderr",
     "output_type": "stream",
     "text": [
      "227it [02:32,  1.56it/s]"
     ]
    },
    {
     "name": "stdout",
     "output_type": "stream",
     "text": [
      "\n",
      "No top level hogs found\n",
      "No top level hogs found\n",
      "No top level hogs found\n",
      "No top level hogs found\n",
      "No top level hogs found\n",
      "No top level hogs found\n",
      "No top level hogs found\n",
      "No top level hogs found\n",
      "No top level hogs found\n",
      "No top level hogs found\n",
      "No top level hogs found\n",
      "No top level hogs found\n",
      "No top level hogs found\n",
      "No top level hogs found\n",
      "No top level hogs found\n",
      "No top level hogs found\n",
      "No top level hogs found\n",
      "No top level hogs found\n",
      "No top level hogs found\n",
      "No top level hogs found\n",
      "No top level hogs found\n",
      "No top level hogs found\n",
      "No top level hogs found\n",
      "No top level hogs found\n",
      "No top level hogs found\n",
      "No top level hogs found"
     ]
    },
    {
     "name": "stderr",
     "output_type": "stream",
     "text": [
      "228it [02:33,  1.59it/s]"
     ]
    },
    {
     "name": "stdout",
     "output_type": "stream",
     "text": [
      "\n",
      "No top level hogs found\n",
      "No top level hogs found\n",
      "No top level hogs found\n",
      "No top level hogs found\n",
      "No top level hogs found\n",
      "No top level hogs found\n",
      "No top level hogs found\n",
      "No top level hogs found\n",
      "No top level hogs found\n",
      "No top level hogs found\n",
      "No top level hogs found\n",
      "No top level hogs found\n",
      "No top level hogs found\n",
      "No top level hogs found\n",
      "No top level hogs found\n",
      "No top level hogs found\n",
      "No top level hogs found\n",
      "No top level hogs found\n",
      "No top level hogs found\n"
     ]
    },
    {
     "name": "stderr",
     "output_type": "stream",
     "text": [
      "229it [02:33,  1.63it/s]"
     ]
    },
    {
     "name": "stdout",
     "output_type": "stream",
     "text": [
      "No top level hogs found\n",
      "No top level hogs found\n",
      "No top level hogs found\n",
      "No top level hogs found\n",
      "No top level hogs found\n",
      "No top level hogs found\n",
      "No top level hogs found\n",
      "No top level hogs found\n",
      "No top level hogs found\n",
      "No top level hogs found\n",
      "No top level hogs found\n",
      "No top level hogs found\n",
      "No top level hogs found\n",
      "No top level hogs found\n",
      "No top level hogs found\n",
      "No top level hogs found\n",
      "No top level hogs found\n",
      "No top level hogs found\n"
     ]
    },
    {
     "name": "stderr",
     "output_type": "stream",
     "text": [
      "230it [02:34,  1.68it/s]"
     ]
    },
    {
     "name": "stdout",
     "output_type": "stream",
     "text": [
      "No top level hogs found\n",
      "No top level hogs found\n",
      "No top level hogs found\n",
      "No top level hogs found\n",
      "No top level hogs found\n",
      "No top level hogs found\n",
      "No top level hogs found\n",
      "No top level hogs found\n",
      "No top level hogs found\n",
      "No top level hogs found\n",
      "No top level hogs found\n",
      "No top level hogs found\n",
      "No top level hogs found\n",
      "No top level hogs found\n",
      "No top level hogs found\n",
      "No top level hogs found\n",
      "No top level hogs found\n",
      "No top level hogs found\n",
      "No top level hogs found\n",
      "No top level hogs found\n",
      "No top level hogs found\n",
      "No top level hogs found\n",
      "No top level hogs found\n",
      "No top level hogs found\n",
      "No top level hogs found\n",
      "No top level hogs found\n",
      "No top level hogs found\n",
      "No top level hogs found\n",
      "No top level hogs found\n",
      "No top level hogs found\n",
      "No top level hogs found\n",
      "No top level hogs found\n",
      "No top level hogs found\n"
     ]
    },
    {
     "name": "stderr",
     "output_type": "stream",
     "text": [
      "231it [02:34,  1.53it/s]"
     ]
    },
    {
     "name": "stdout",
     "output_type": "stream",
     "text": [
      "No top level hogs found\n",
      "No top level hogs found\n",
      "No top level hogs found\n",
      "No top level hogs found\n",
      "No top level hogs found\n",
      "No top level hogs found\n",
      "No top level hogs found\n",
      "No top level hogs found\n",
      "No top level hogs found\n",
      "No top level hogs found\n",
      "No top level hogs found\n",
      "No top level hogs found\n",
      "No top level hogs found\n",
      "No top level hogs found\n",
      "No top level hogs found\n",
      "No top level hogs found\n",
      "No top level hogs found\n",
      "No top level hogs found\n",
      "No top level hogs found\n",
      "No top level hogs found\n",
      "No top level hogs found\n",
      "No top level hogs found\n",
      "No top level hogs found\n",
      "No top level hogs found\n",
      "No top level hogs found\n",
      "No top level hogs found\n",
      "No top level hogs found\n"
     ]
    },
    {
     "name": "stderr",
     "output_type": "stream",
     "text": [
      "232it [02:35,  1.49it/s]"
     ]
    },
    {
     "name": "stdout",
     "output_type": "stream",
     "text": [
      "No top level hogs found\n",
      "No top level hogs found\n",
      "No top level hogs found\n",
      "No top level hogs found\n",
      "No top level hogs found\n",
      "No top level hogs found\n",
      "No top level hogs found\n",
      "No top level hogs found\n",
      "No top level hogs found\n",
      "No top level hogs found\n",
      "No top level hogs found\n",
      "No top level hogs found\n",
      "No top level hogs found\n",
      "No top level hogs found\n",
      "No top level hogs found\n",
      "No top level hogs found\n",
      "No top level hogs found\n",
      "No top level hogs found\n",
      "No top level hogs found\n",
      "No top level hogs found\n",
      "No top level hogs found\n",
      "No top level hogs found\n",
      "No top level hogs found\n",
      "No top level hogs found\n",
      "No top level hogs found\n",
      "No top level hogs found\n",
      "No top level hogs found\n"
     ]
    },
    {
     "name": "stderr",
     "output_type": "stream",
     "text": [
      "233it [02:36,  1.42it/s]"
     ]
    },
    {
     "name": "stdout",
     "output_type": "stream",
     "text": [
      "No top level hogs found\n",
      "No top level hogs found\n",
      "No top level hogs found\n",
      "No top level hogs found\n",
      "No top level hogs found\n",
      "No top level hogs found\n",
      "No top level hogs found\n",
      "No top level hogs found\n",
      "No top level hogs found\n",
      "No top level hogs found\n",
      "No top level hogs found\n",
      "No top level hogs found\n",
      "No top level hogs found\n",
      "No top level hogs found\n",
      "No top level hogs found\n",
      "No top level hogs found\n",
      "No top level hogs found\n",
      "No top level hogs found\n",
      "No top level hogs found\n",
      "No top level hogs found\n",
      "No top level hogs found\n",
      "No top level hogs found\n",
      "No top level hogs found\n",
      "No top level hogs found\n",
      "No top level hogs found\n",
      "No top level hogs found\n",
      "No top level hogs found\n",
      "No top level hogs found\n"
     ]
    },
    {
     "name": "stderr",
     "output_type": "stream",
     "text": [
      "234it [02:37,  1.40it/s]"
     ]
    },
    {
     "name": "stdout",
     "output_type": "stream",
     "text": [
      "No top level hogs found\n",
      "No top level hogs found\n",
      "No top level hogs found\n",
      "No top level hogs found\n",
      "No top level hogs found\n",
      "No top level hogs found\n",
      "No top level hogs found\n",
      "No top level hogs found\n",
      "No top level hogs found\n",
      "No top level hogs found\n",
      "No top level hogs found\n",
      "No top level hogs found\n",
      "No top level hogs found\n",
      "No top level hogs found\n",
      "No top level hogs found\n",
      "No top level hogs found\n",
      "No top level hogs found\n",
      "No top level hogs found\n",
      "No top level hogs found\n",
      "No top level hogs found\n",
      "No top level hogs found\n",
      "No top level hogs found\n",
      "No top level hogs found\n",
      "No top level hogs found\n",
      "No top level hogs found\n",
      "No top level hogs found\n"
     ]
    },
    {
     "name": "stderr",
     "output_type": "stream",
     "text": [
      "235it [02:37,  1.41it/s]"
     ]
    },
    {
     "name": "stdout",
     "output_type": "stream",
     "text": [
      "No top level hogs found\n",
      "No top level hogs found\n",
      "No top level hogs found\n",
      "No top level hogs found\n",
      "No top level hogs found\n",
      "No top level hogs found\n",
      "No top level hogs found\n",
      "No top level hogs found\n",
      "No top level hogs found\n",
      "No top level hogs found\n",
      "No top level hogs found\n",
      "No top level hogs found\n",
      "No top level hogs found\n",
      "No top level hogs found\n",
      "No top level hogs found\n",
      "No top level hogs found\n",
      "No top level hogs found\n",
      "No top level hogs found\n",
      "No top level hogs found\n",
      "No top level hogs found\n",
      "No top level hogs found\n",
      "No top level hogs found\n",
      "No top level hogs found\n",
      "No top level hogs found\n",
      "No top level hogs found\n"
     ]
    },
    {
     "name": "stderr",
     "output_type": "stream",
     "text": [
      "236it [02:38,  1.34it/s]"
     ]
    },
    {
     "name": "stdout",
     "output_type": "stream",
     "text": [
      "No top level hogs found\n",
      "No top level hogs found\n",
      "No top level hogs found\n",
      "No top level hogs found\n",
      "No top level hogs found\n",
      "No top level hogs found\n",
      "No top level hogs found\n",
      "No top level hogs found\n",
      "No top level hogs found\n",
      "No top level hogs found\n",
      "No top level hogs found\n",
      "No top level hogs found\n",
      "No top level hogs found\n",
      "No top level hogs found\n",
      "No top level hogs found\n",
      "No top level hogs found\n",
      "No top level hogs found\n",
      "No top level hogs found\n",
      "No top level hogs found\n",
      "No top level hogs found\n",
      "No top level hogs found\n",
      "No top level hogs found\n"
     ]
    },
    {
     "name": "stderr",
     "output_type": "stream",
     "text": [
      "237it [02:39,  1.41it/s]"
     ]
    },
    {
     "name": "stdout",
     "output_type": "stream",
     "text": [
      "No top level hogs found\n",
      "No top level hogs found\n",
      "No top level hogs found\n",
      "No top level hogs found\n",
      "No top level hogs found\n",
      "No top level hogs found\n",
      "No top level hogs found\n",
      "No top level hogs found\n",
      "No top level hogs found\n",
      "No top level hogs found\n",
      "No top level hogs found\n",
      "No top level hogs found\n",
      "No top level hogs found\n",
      "No top level hogs found\n",
      "No top level hogs found\n",
      "No top level hogs found\n",
      "No top level hogs found\n",
      "No top level hogs found\n",
      "No top level hogs found\n",
      "No top level hogs found\n",
      "No top level hogs found\n",
      "No top level hogs found\n",
      "No top level hogs found\n",
      "No top level hogs found\n",
      "No top level hogs found\n",
      "No top level hogs found\n",
      "No top level hogs found\n",
      "No top level hogs found\n",
      "No top level hogs found\n",
      "No top level hogs found\n"
     ]
    },
    {
     "name": "stderr",
     "output_type": "stream",
     "text": [
      "238it [02:40,  1.39it/s]"
     ]
    },
    {
     "name": "stdout",
     "output_type": "stream",
     "text": [
      "No top level hogs found\n",
      "No top level hogs found\n",
      "No top level hogs found\n",
      "No top level hogs found\n",
      "No top level hogs found\n",
      "No top level hogs found\n",
      "No top level hogs found\n",
      "No top level hogs found\n",
      "No top level hogs found\n",
      "No top level hogs found\n"
     ]
    },
    {
     "name": "stderr",
     "output_type": "stream",
     "text": [
      "239it [02:40,  1.48it/s]"
     ]
    },
    {
     "name": "stdout",
     "output_type": "stream",
     "text": [
      "No top level hogs found\n",
      "No top level hogs found\n",
      "No top level hogs found\n",
      "No top level hogs found\n",
      "No top level hogs found\n",
      "No top level hogs found\n",
      "No top level hogs found\n",
      "No top level hogs found\n",
      "No top level hogs found\n",
      "No top level hogs found\n",
      "No top level hogs found\n",
      "No top level hogs found\n",
      "No top level hogs found\n",
      "No top level hogs found\n",
      "No top level hogs found\n",
      "No top level hogs found\n",
      "No top level hogs found\n",
      "No top level hogs found\n",
      "No top level hogs found\n",
      "No top level hogs found\n",
      "No top level hogs found\n",
      "No top level hogs found\n",
      "No top level hogs found\n",
      "No top level hogs found\n",
      "No top level hogs found\n",
      "No top level hogs found\n",
      "No top level hogs found\n",
      "No top level hogs found\n",
      "No top level hogs found\n",
      "No top level hogs found\n",
      "No top level hogs found\n",
      "No top level hogs found\n",
      "No top level hogs found\n",
      "No top level hogs found\n",
      "No top level hogs found\n",
      "No top level hogs found\n",
      "No top level hogs found\n",
      "No top level hogs found\n",
      "No top level hogs found\n",
      "No top level hogs found\n"
     ]
    },
    {
     "name": "stderr",
     "output_type": "stream",
     "text": [
      "240it [02:41,  1.38it/s]"
     ]
    },
    {
     "name": "stdout",
     "output_type": "stream",
     "text": [
      "No top level hogs found\n",
      "No top level hogs found\n",
      "No top level hogs found\n",
      "No top level hogs found\n",
      "No top level hogs found\n",
      "No top level hogs found\n",
      "No top level hogs found\n",
      "No top level hogs found\n",
      "No top level hogs found\n",
      "No top level hogs found\n",
      "No top level hogs found\n",
      "No top level hogs found\n",
      "No top level hogs found\n",
      "No top level hogs found\n",
      "No top level hogs found\n",
      "No top level hogs found\n",
      "No top level hogs found\n",
      "No top level hogs found\n",
      "No top level hogs found\n",
      "No top level hogs found\n",
      "No top level hogs found\n",
      "No top level hogs found\n",
      "No top level hogs found\n",
      "No top level hogs found\n"
     ]
    },
    {
     "name": "stderr",
     "output_type": "stream",
     "text": [
      "241it [02:42,  1.39it/s]"
     ]
    },
    {
     "name": "stdout",
     "output_type": "stream",
     "text": [
      "No top level hogs found\n",
      "No top level hogs found\n",
      "No top level hogs found\n",
      "No top level hogs found\n",
      "No top level hogs found\n",
      "No top level hogs found\n",
      "No top level hogs found\n",
      "No top level hogs found\n",
      "No top level hogs found\n",
      "No top level hogs found\n",
      "No top level hogs found\n",
      "No top level hogs found\n",
      "No top level hogs found\n",
      "No top level hogs found\n",
      "No top level hogs found\n",
      "No top level hogs found\n",
      "No top level hogs found\n",
      "No top level hogs found\n",
      "No top level hogs found\n",
      "No top level hogs found\n",
      "No top level hogs found\n",
      "No top level hogs found\n",
      "No top level hogs found\n",
      "No top level hogs found\n"
     ]
    },
    {
     "name": "stderr",
     "output_type": "stream",
     "text": [
      "242it [02:42,  1.38it/s]"
     ]
    },
    {
     "name": "stdout",
     "output_type": "stream",
     "text": [
      "No top level hogs found\n",
      "No top level hogs found\n",
      "No top level hogs found\n",
      "No top level hogs found\n",
      "No top level hogs found\n",
      "No top level hogs found\n",
      "No top level hogs found\n",
      "No top level hogs found\n",
      "No top level hogs found\n",
      "No top level hogs found\n",
      "No top level hogs found\n",
      "No top level hogs found\n",
      "No top level hogs found\n",
      "No top level hogs found\n",
      "No top level hogs found\n",
      "No top level hogs found\n",
      "No top level hogs found\n",
      "No top level hogs found\n"
     ]
    },
    {
     "name": "stderr",
     "output_type": "stream",
     "text": [
      "243it [02:43,  1.50it/s]"
     ]
    },
    {
     "name": "stdout",
     "output_type": "stream",
     "text": [
      "No top level hogs found\n",
      "No top level hogs found\n",
      "No top level hogs found\n",
      "No top level hogs found\n",
      "No top level hogs found\n",
      "No top level hogs found\n",
      "No top level hogs found\n",
      "No top level hogs found\n",
      "No top level hogs found\n",
      "No top level hogs found\n",
      "No top level hogs found\n",
      "No top level hogs found\n",
      "No top level hogs found\n",
      "No top level hogs found\n",
      "No top level hogs found\n",
      "No top level hogs found\n",
      "No top level hogs found\n",
      "No top level hogs found\n",
      "No top level hogs found\n",
      "No top level hogs found\n",
      "No top level hogs found\n",
      "No top level hogs found\n",
      "No top level hogs found\n",
      "No top level hogs found\n",
      "No top level hogs found\n",
      "No top level hogs found\n",
      "No top level hogs found\n",
      "No top level hogs found"
     ]
    },
    {
     "name": "stderr",
     "output_type": "stream",
     "text": [
      "244it [02:44,  1.51it/s]"
     ]
    },
    {
     "name": "stdout",
     "output_type": "stream",
     "text": [
      "\n",
      "No top level hogs found\n",
      "No top level hogs found\n",
      "No top level hogs found\n",
      "No top level hogs found\n",
      "No top level hogs found\n",
      "No top level hogs found\n",
      "No top level hogs found\n",
      "No top level hogs found\n",
      "No top level hogs found\n",
      "No top level hogs found\n",
      "No top level hogs found\n",
      "No top level hogs found\n",
      "No top level hogs found\n",
      "No top level hogs found\n",
      "No top level hogs found\n",
      "No top level hogs found\n",
      "No top level hogs found\n",
      "No top level hogs found\n",
      "No top level hogs found\n",
      "No top level hogs found\n",
      "No top level hogs found\n",
      "No top level hogs found\n"
     ]
    },
    {
     "name": "stderr",
     "output_type": "stream",
     "text": [
      "245it [02:44,  1.49it/s]"
     ]
    },
    {
     "name": "stdout",
     "output_type": "stream",
     "text": [
      "No top level hogs found\n",
      "No top level hogs found\n",
      "No top level hogs found\n",
      "No top level hogs found\n",
      "No top level hogs found\n",
      "No top level hogs found\n",
      "No top level hogs found\n",
      "No top level hogs found\n",
      "No top level hogs found\n",
      "No top level hogs found\n",
      "No top level hogs found\n",
      "No top level hogs found\n",
      "No top level hogs found\n",
      "No top level hogs found\n",
      "No top level hogs found\n",
      "No top level hogs found\n",
      "No top level hogs found\n",
      "No top level hogs found\n",
      "No top level hogs found\n",
      "No top level hogs found\n",
      "No top level hogs found\n",
      "No top level hogs found\n",
      "No top level hogs found\n",
      "No top level hogs found\n",
      "No top level hogs found\n",
      "No top level hogs found\n"
     ]
    },
    {
     "name": "stderr",
     "output_type": "stream",
     "text": [
      "246it [02:45,  1.51it/s]"
     ]
    },
    {
     "name": "stdout",
     "output_type": "stream",
     "text": [
      "No top level hogs found\n",
      "No top level hogs found\n",
      "No top level hogs found\n",
      "No top level hogs found\n",
      "No top level hogs found\n",
      "No top level hogs found\n",
      "No top level hogs found\n",
      "No top level hogs found\n",
      "No top level hogs found\n",
      "No top level hogs found\n",
      "No top level hogs found\n",
      "No top level hogs found\n",
      "No top level hogs found\n",
      "No top level hogs found\n",
      "No top level hogs found\n",
      "No top level hogs found"
     ]
    },
    {
     "name": "stderr",
     "output_type": "stream",
     "text": [
      "247it [02:45,  1.63it/s]"
     ]
    },
    {
     "name": "stdout",
     "output_type": "stream",
     "text": [
      "\n",
      "No top level hogs found\n",
      "No top level hogs found\n",
      "No top level hogs found\n",
      "No top level hogs found\n",
      "No top level hogs found\n",
      "No top level hogs found\n",
      "No top level hogs found\n",
      "No top level hogs found\n",
      "No top level hogs found\n",
      "No top level hogs found\n",
      "No top level hogs found\n",
      "No top level hogs found\n",
      "No top level hogs found\n",
      "No top level hogs found\n",
      "No top level hogs found\n",
      "No top level hogs found\n",
      "No top level hogs found\n",
      "No top level hogs found\n",
      "No top level hogs found\n",
      "No top level hogs found\n",
      "No top level hogs found\n",
      "No top level hogs found\n",
      "No top level hogs found\n",
      "No top level hogs found\n",
      "No top level hogs found"
     ]
    },
    {
     "name": "stderr",
     "output_type": "stream",
     "text": [
      "248it [02:46,  1.60it/s]"
     ]
    },
    {
     "name": "stdout",
     "output_type": "stream",
     "text": [
      "\n",
      "No top level hogs found\n",
      "No top level hogs found\n",
      "No top level hogs found\n",
      "No top level hogs found\n",
      "No top level hogs found\n",
      "No top level hogs found\n",
      "No top level hogs found\n",
      "No top level hogs found\n",
      "No top level hogs found\n",
      "No top level hogs found\n",
      "No top level hogs found\n",
      "No top level hogs found\n",
      "No top level hogs found\n",
      "No top level hogs found\n",
      "No top level hogs found\n",
      "No top level hogs found\n",
      "No top level hogs found\n",
      "No top level hogs found\n",
      "No top level hogs found\n",
      "No top level hogs found\n",
      "No top level hogs found\n"
     ]
    },
    {
     "name": "stderr",
     "output_type": "stream",
     "text": [
      "249it [02:47,  1.61it/s]"
     ]
    },
    {
     "name": "stdout",
     "output_type": "stream",
     "text": [
      "No top level hogs found\n",
      "No top level hogs found\n",
      "No top level hogs found\n",
      "No top level hogs found\n",
      "No top level hogs found\n",
      "No top level hogs found\n",
      "No top level hogs found\n",
      "No top level hogs found\n",
      "No top level hogs found\n",
      "No top level hogs found\n",
      "No top level hogs found\n",
      "No top level hogs found\n",
      "No top level hogs found\n",
      "No top level hogs found\n",
      "No top level hogs found\n",
      "No top level hogs found\n",
      "No top level hogs found\n",
      "No top level hogs found\n",
      "No top level hogs found\n",
      "No top level hogs found\n",
      "No top level hogs found\n",
      "No top level hogs found"
     ]
    },
    {
     "name": "stderr",
     "output_type": "stream",
     "text": [
      "250it [02:47,  1.62it/s]"
     ]
    },
    {
     "name": "stdout",
     "output_type": "stream",
     "text": [
      "\n",
      "No top level hogs found\n",
      "No top level hogs found\n",
      "No top level hogs found\n",
      "No top level hogs found\n",
      "No top level hogs found\n",
      "No top level hogs found\n",
      "No top level hogs found\n",
      "No top level hogs found\n",
      "No top level hogs found\n",
      "No top level hogs found\n",
      "No top level hogs found\n",
      "No top level hogs found\n",
      "No top level hogs found\n",
      "No top level hogs found\n",
      "No top level hogs found\n",
      "No top level hogs found\n",
      "No top level hogs found\n",
      "No top level hogs found\n",
      "No top level hogs found\n",
      "No top level hogs found\n",
      "No top level hogs found\n",
      "No top level hogs found\n",
      "No top level hogs found\n",
      "No top level hogs found\n",
      "No top level hogs found\n",
      "No top level hogs found\n",
      "No top level hogs found\n",
      "No top level hogs found\n"
     ]
    },
    {
     "name": "stderr",
     "output_type": "stream",
     "text": [
      "251it [02:48,  1.61it/s]"
     ]
    },
    {
     "name": "stdout",
     "output_type": "stream",
     "text": [
      "No top level hogs found\n",
      "No top level hogs found\n",
      "No top level hogs found\n",
      "No top level hogs found\n",
      "No top level hogs found\n",
      "No top level hogs found\n",
      "No top level hogs found\n",
      "No top level hogs found\n",
      "No top level hogs found\n",
      "No top level hogs found\n",
      "No top level hogs found\n",
      "No top level hogs found\n",
      "No top level hogs found\n",
      "No top level hogs found\n",
      "No top level hogs found\n",
      "No top level hogs found\n",
      "No top level hogs found\n",
      "No top level hogs found\n",
      "No top level hogs found\n",
      "No top level hogs found\n",
      "No top level hogs found\n",
      "No top level hogs found\n",
      "No top level hogs found\n",
      "No top level hogs found\n",
      "No top level hogs found\n",
      "No top level hogs found\n",
      "No top level hogs found\n",
      "No top level hogs found\n",
      "No top level hogs found\n",
      "No top level hogs found\n",
      "No top level hogs found"
     ]
    },
    {
     "name": "stderr",
     "output_type": "stream",
     "text": [
      "252it [02:49,  1.51it/s]"
     ]
    },
    {
     "name": "stdout",
     "output_type": "stream",
     "text": [
      "\n",
      "No top level hogs found\n",
      "No top level hogs found\n",
      "No top level hogs found\n",
      "No top level hogs found\n",
      "No top level hogs found\n",
      "No top level hogs found\n",
      "No top level hogs found\n",
      "No top level hogs found\n",
      "No top level hogs found\n",
      "No top level hogs found\n",
      "No top level hogs found\n",
      "No top level hogs found\n",
      "No top level hogs found\n",
      "No top level hogs found\n",
      "No top level hogs found\n",
      "No top level hogs found\n",
      "No top level hogs found\n",
      "No top level hogs found\n",
      "No top level hogs found\n"
     ]
    },
    {
     "name": "stderr",
     "output_type": "stream",
     "text": [
      "253it [02:49,  1.55it/s]"
     ]
    },
    {
     "name": "stdout",
     "output_type": "stream",
     "text": [
      "No top level hogs found\n",
      "No top level hogs found\n",
      "No top level hogs found\n",
      "No top level hogs found\n",
      "No top level hogs found\n",
      "No top level hogs found\n",
      "No top level hogs found\n",
      "No top level hogs found\n",
      "No top level hogs found\n",
      "No top level hogs found\n",
      "No top level hogs found\n",
      "No top level hogs found\n",
      "No top level hogs found\n",
      "No top level hogs found\n",
      "No top level hogs found\n",
      "No top level hogs found\n",
      "No top level hogs found\n",
      "No top level hogs found\n",
      "No top level hogs found\n",
      "No top level hogs found\n",
      "No top level hogs found\n",
      "No top level hogs found\n",
      "No top level hogs found\n",
      "No top level hogs found\n",
      "No top level hogs found\n",
      "No top level hogs found\n",
      "No top level hogs found\n",
      "No top level hogs found\n",
      "No top level hogs found\n",
      "No top level hogs found\n"
     ]
    },
    {
     "name": "stderr",
     "output_type": "stream",
     "text": [
      "254it [02:50,  1.44it/s]"
     ]
    },
    {
     "name": "stdout",
     "output_type": "stream",
     "text": [
      "No top level hogs found\n",
      "No top level hogs found\n",
      "No top level hogs found\n",
      "No top level hogs found\n",
      "No top level hogs found\n",
      "No top level hogs found\n",
      "No top level hogs found\n",
      "No top level hogs found\n",
      "No top level hogs found\n",
      "No top level hogs found\n",
      "No top level hogs found\n",
      "No top level hogs found\n",
      "No top level hogs found\n",
      "No top level hogs found\n",
      "No top level hogs found\n",
      "No top level hogs found\n",
      "No top level hogs found\n"
     ]
    },
    {
     "name": "stderr",
     "output_type": "stream",
     "text": [
      "255it [02:51,  1.41it/s]"
     ]
    },
    {
     "name": "stdout",
     "output_type": "stream",
     "text": [
      "No top level hogs found\n",
      "No top level hogs found\n",
      "No top level hogs found\n",
      "No top level hogs found\n",
      "No top level hogs found\n",
      "No top level hogs found\n",
      "No top level hogs found\n",
      "No top level hogs found\n",
      "No top level hogs found\n",
      "No top level hogs found\n",
      "No top level hogs found\n",
      "No top level hogs found\n",
      "No top level hogs found\n",
      "No top level hogs found\n",
      "No top level hogs found\n",
      "No top level hogs found\n",
      "No top level hogs found\n",
      "No top level hogs found\n",
      "No top level hogs found\n",
      "No top level hogs found\n"
     ]
    },
    {
     "name": "stderr",
     "output_type": "stream",
     "text": [
      "256it [02:51,  1.47it/s]"
     ]
    },
    {
     "name": "stdout",
     "output_type": "stream",
     "text": [
      "No top level hogs found\n",
      "No top level hogs found\n",
      "No top level hogs found\n",
      "No top level hogs found\n",
      "No top level hogs found\n",
      "No top level hogs found\n",
      "No top level hogs found\n",
      "No top level hogs found\n",
      "No top level hogs found\n",
      "No top level hogs found\n",
      "No top level hogs found\n",
      "No top level hogs found\n",
      "No top level hogs found\n",
      "No top level hogs found\n",
      "No top level hogs found\n",
      "No top level hogs found\n",
      "No top level hogs found\n",
      "No top level hogs found\n",
      "No top level hogs found\n",
      "No top level hogs found\n",
      "No top level hogs found\n",
      "No top level hogs found\n",
      "No top level hogs found\n",
      "No top level hogs found\n",
      "No top level hogs found\n",
      "No top level hogs found\n"
     ]
    },
    {
     "name": "stderr",
     "output_type": "stream",
     "text": [
      "257it [02:52,  1.48it/s]"
     ]
    },
    {
     "name": "stdout",
     "output_type": "stream",
     "text": [
      "No top level hogs found\n",
      "No top level hogs found\n",
      "No top level hogs found\n",
      "No top level hogs found\n",
      "No top level hogs found\n",
      "No top level hogs found\n",
      "No top level hogs found\n",
      "No top level hogs found\n",
      "No top level hogs found\n",
      "No top level hogs found\n",
      "No top level hogs found\n",
      "No top level hogs found\n",
      "No top level hogs found\n",
      "No top level hogs found\n",
      "No top level hogs found\n",
      "No top level hogs found\n",
      "No top level hogs found\n",
      "No top level hogs found\n",
      "No top level hogs found\n",
      "No top level hogs found\n",
      "No top level hogs found\n",
      "No top level hogs found\n",
      "No top level hogs found\n",
      "No top level hogs found\n",
      "No top level hogs found\n",
      "No top level hogs found\n",
      "No top level hogs found\n",
      "No top level hogs found\n",
      "No top level hogs found"
     ]
    },
    {
     "name": "stderr",
     "output_type": "stream",
     "text": [
      "258it [02:53,  1.41it/s]"
     ]
    },
    {
     "name": "stdout",
     "output_type": "stream",
     "text": [
      "\n",
      "No top level hogs found\n",
      "No top level hogs found\n",
      "No top level hogs found\n",
      "No top level hogs found\n",
      "No top level hogs found\n",
      "No top level hogs found\n",
      "No top level hogs found\n",
      "No top level hogs found\n",
      "No top level hogs found\n",
      "No top level hogs found\n",
      "No top level hogs found\n",
      "No top level hogs found\n",
      "No top level hogs found\n",
      "No top level hogs found\n",
      "No top level hogs found\n",
      "No top level hogs found\n",
      "No top level hogs found\n",
      "No top level hogs found\n",
      "No top level hogs found\n",
      "No top level hogs found\n",
      "No top level hogs found\n",
      "No top level hogs found\n"
     ]
    },
    {
     "name": "stderr",
     "output_type": "stream",
     "text": [
      "259it [02:54,  1.46it/s]"
     ]
    },
    {
     "name": "stdout",
     "output_type": "stream",
     "text": [
      "No top level hogs found\n",
      "No top level hogs found\n",
      "No top level hogs found\n",
      "No top level hogs found\n",
      "No top level hogs found\n",
      "No top level hogs found\n",
      "No top level hogs found\n",
      "No top level hogs found\n",
      "No top level hogs found\n",
      "No top level hogs found\n",
      "No top level hogs found\n",
      "No top level hogs found\n",
      "No top level hogs found\n",
      "No top level hogs found\n",
      "No top level hogs found\n",
      "No top level hogs found\n",
      "No top level hogs found\n",
      "No top level hogs found\n",
      "No top level hogs found\n",
      "No top level hogs found\n",
      "No top level hogs found\n",
      "No top level hogs found\n",
      "No top level hogs found\n",
      "No top level hogs found\n",
      "No top level hogs found\n",
      "No top level hogs found\n",
      "No top level hogs found\n",
      "No top level hogs found\n",
      "No top level hogs found\n",
      "No top level hogs found\n"
     ]
    },
    {
     "name": "stderr",
     "output_type": "stream",
     "text": [
      "260it [02:54,  1.41it/s]"
     ]
    },
    {
     "name": "stdout",
     "output_type": "stream",
     "text": [
      "No top level hogs found\n",
      "No top level hogs found\n",
      "No top level hogs found\n",
      "No top level hogs found\n",
      "No top level hogs found\n",
      "No top level hogs found\n",
      "No top level hogs found\n",
      "No top level hogs found\n",
      "No top level hogs found\n",
      "No top level hogs found\n",
      "No top level hogs found\n",
      "No top level hogs found\n",
      "No top level hogs found\n",
      "No top level hogs found\n",
      "No top level hogs found\n",
      "No top level hogs found\n",
      "No top level hogs found\n",
      "No top level hogs found\n",
      "No top level hogs found\n",
      "No top level hogs found\n",
      "No top level hogs found\n",
      "No top level hogs found\n",
      "No top level hogs found\n",
      "No top level hogs found\n",
      "No top level hogs found\n"
     ]
    },
    {
     "name": "stderr",
     "output_type": "stream",
     "text": [
      "261it [02:55,  1.43it/s]"
     ]
    },
    {
     "name": "stdout",
     "output_type": "stream",
     "text": [
      "No top level hogs found\n",
      "No top level hogs found\n",
      "No top level hogs found\n",
      "No top level hogs found\n",
      "No top level hogs found\n",
      "No top level hogs found\n",
      "No top level hogs found\n",
      "No top level hogs found\n",
      "No top level hogs found\n",
      "No top level hogs found\n",
      "No top level hogs found\n",
      "No top level hogs found\n",
      "No top level hogs found\n",
      "No top level hogs found\n",
      "No top level hogs found\n",
      "No top level hogs found\n",
      "No top level hogs found\n",
      "No top level hogs found\n",
      "No top level hogs found\n",
      "No top level hogs found\n",
      "No top level hogs found\n",
      "No top level hogs found\n",
      "No top level hogs found\n"
     ]
    },
    {
     "name": "stderr",
     "output_type": "stream",
     "text": [
      "262it [02:56,  1.47it/s]"
     ]
    },
    {
     "name": "stdout",
     "output_type": "stream",
     "text": [
      "No top level hogs found\n",
      "No top level hogs found\n",
      "No top level hogs found\n",
      "No top level hogs found\n",
      "No top level hogs found\n",
      "No top level hogs found\n",
      "No top level hogs found\n",
      "No top level hogs found\n",
      "No top level hogs found\n",
      "No top level hogs found\n",
      "No top level hogs found\n",
      "No top level hogs found\n",
      "No top level hogs found\n",
      "No top level hogs found\n",
      "No top level hogs found\n",
      "No top level hogs found\n",
      "No top level hogs found\n",
      "No top level hogs found\n",
      "No top level hogs found\n",
      "No top level hogs found\n"
     ]
    },
    {
     "name": "stderr",
     "output_type": "stream",
     "text": [
      "263it [02:56,  1.53it/s]"
     ]
    },
    {
     "name": "stdout",
     "output_type": "stream",
     "text": [
      "No top level hogs found\n",
      "No top level hogs found\n",
      "No top level hogs found\n",
      "No top level hogs found\n",
      "No top level hogs found\n",
      "No top level hogs found\n",
      "No top level hogs found\n",
      "No top level hogs found\n",
      "No top level hogs found\n",
      "No top level hogs found\n",
      "No top level hogs found\n",
      "No top level hogs found\n",
      "No top level hogs found\n",
      "No top level hogs found\n",
      "No top level hogs found\n",
      "No top level hogs found\n",
      "No top level hogs found\n",
      "No top level hogs found\n",
      "No top level hogs found\n",
      "No top level hogs found\n",
      "No top level hogs found\n",
      "No top level hogs found\n",
      "No top level hogs found\n",
      "No top level hogs found\n"
     ]
    },
    {
     "name": "stderr",
     "output_type": "stream",
     "text": [
      "264it [02:57,  1.48it/s]"
     ]
    },
    {
     "name": "stdout",
     "output_type": "stream",
     "text": [
      "No top level hogs found\n",
      "No top level hogs found\n",
      "No top level hogs found\n",
      "No top level hogs found\n",
      "No top level hogs found\n",
      "No top level hogs found\n",
      "No top level hogs found\n",
      "No top level hogs found\n",
      "No top level hogs found\n",
      "No top level hogs found\n",
      "No top level hogs found\n",
      "No top level hogs found\n",
      "No top level hogs found\n",
      "No top level hogs found\n",
      "No top level hogs found\n",
      "No top level hogs found\n",
      "No top level hogs found\n",
      "No top level hogs found\n",
      "No top level hogs found\n",
      "No top level hogs found\n",
      "No top level hogs found\n",
      "No top level hogs found\n",
      "No top level hogs found"
     ]
    },
    {
     "name": "stderr",
     "output_type": "stream",
     "text": [
      "265it [02:58,  1.55it/s]"
     ]
    },
    {
     "name": "stdout",
     "output_type": "stream",
     "text": [
      "\n",
      "No top level hogs found\n",
      "No top level hogs found\n",
      "No top level hogs found\n",
      "No top level hogs found\n",
      "No top level hogs found\n",
      "No top level hogs found\n",
      "No top level hogs found\n",
      "No top level hogs found\n",
      "No top level hogs found\n",
      "No top level hogs found\n",
      "No top level hogs found\n",
      "No top level hogs found\n",
      "No top level hogs found\n",
      "No top level hogs found\n",
      "No top level hogs found\n",
      "No top level hogs found\n",
      "No top level hogs found\n",
      "No top level hogs found\n",
      "No top level hogs found\n",
      "No top level hogs found\n",
      "No top level hogs found\n",
      "No top level hogs found\n",
      "No top level hogs found\n",
      "No top level hogs found\n",
      "No top level hogs found\n",
      "No top level hogs found\n",
      "No top level hogs found\n",
      "No top level hogs found\n",
      "No top level hogs found\n",
      "No top level hogs found"
     ]
    },
    {
     "name": "stderr",
     "output_type": "stream",
     "text": [
      "266it [02:58,  1.45it/s]"
     ]
    },
    {
     "name": "stdout",
     "output_type": "stream",
     "text": [
      "\n",
      "No top level hogs found\n",
      "No top level hogs found\n",
      "No top level hogs found\n",
      "No top level hogs found\n",
      "No top level hogs found\n",
      "No top level hogs found\n",
      "No top level hogs found\n",
      "No top level hogs found\n",
      "No top level hogs found\n",
      "No top level hogs found\n",
      "No top level hogs found\n",
      "No top level hogs found\n",
      "No top level hogs found\n",
      "No top level hogs found\n",
      "No top level hogs found\n",
      "No top level hogs found\n",
      "No top level hogs found\n",
      "No top level hogs found\n",
      "No top level hogs found\n"
     ]
    },
    {
     "name": "stderr",
     "output_type": "stream",
     "text": [
      "267it [02:59,  1.49it/s]"
     ]
    },
    {
     "name": "stdout",
     "output_type": "stream",
     "text": [
      "No top level hogs found\n",
      "No top level hogs found\n",
      "No top level hogs found\n",
      "No top level hogs found\n",
      "No top level hogs found\n",
      "No top level hogs found\n",
      "No top level hogs found\n",
      "No top level hogs found\n",
      "No top level hogs found\n",
      "No top level hogs found\n",
      "No top level hogs found\n",
      "No top level hogs found\n",
      "No top level hogs found\n",
      "No top level hogs found\n",
      "No top level hogs found\n",
      "No top level hogs found\n",
      "No top level hogs found\n",
      "No top level hogs found\n",
      "No top level hogs found\n",
      "No top level hogs found\n",
      "No top level hogs found\n",
      "No top level hogs found\n",
      "No top level hogs found\n",
      "No top level hogs found\n",
      "No top level hogs found\n",
      "No top level hogs found\n",
      "No top level hogs found\n",
      "No top level hogs found\n",
      "No top level hogs found\n",
      "No top level hogs found\n"
     ]
    },
    {
     "name": "stderr",
     "output_type": "stream",
     "text": [
      "268it [03:00,  1.37it/s]"
     ]
    },
    {
     "name": "stdout",
     "output_type": "stream",
     "text": [
      "No top level hogs found\n",
      "No top level hogs found\n",
      "No top level hogs found\n",
      "No top level hogs found\n",
      "No top level hogs found\n",
      "No top level hogs found\n",
      "No top level hogs found\n",
      "No top level hogs found\n",
      "No top level hogs found\n",
      "No top level hogs found\n",
      "No top level hogs found\n",
      "No top level hogs found\n",
      "No top level hogs found\n",
      "No top level hogs found\n",
      "No top level hogs found\n",
      "No top level hogs found\n",
      "No top level hogs found\n",
      "No top level hogs found\n",
      "No top level hogs found\n",
      "No top level hogs found\n",
      "No top level hogs found\n",
      "No top level hogs found\n",
      "No top level hogs found\n",
      "No top level hogs found\n",
      "No top level hogs found\n"
     ]
    },
    {
     "name": "stderr",
     "output_type": "stream",
     "text": [
      "269it [03:00,  1.43it/s]"
     ]
    },
    {
     "name": "stdout",
     "output_type": "stream",
     "text": [
      "No top level hogs found\n",
      "No top level hogs found\n",
      "No top level hogs found\n",
      "No top level hogs found\n",
      "No top level hogs found\n",
      "No top level hogs found\n",
      "No top level hogs found\n",
      "No top level hogs found\n",
      "No top level hogs found\n",
      "No top level hogs found\n",
      "No top level hogs found\n",
      "No top level hogs found\n",
      "No top level hogs found\n",
      "No top level hogs found\n",
      "No top level hogs found\n",
      "No top level hogs found\n",
      "No top level hogs found\n",
      "No top level hogs found\n",
      "No top level hogs found\n",
      "No top level hogs found\n",
      "No top level hogs found\n",
      "No top level hogs found\n",
      "No top level hogs found\n",
      "No top level hogs found\n",
      "No top level hogs found\n",
      "No top level hogs found\n"
     ]
    },
    {
     "name": "stderr",
     "output_type": "stream",
     "text": [
      "270it [03:01,  1.42it/s]"
     ]
    },
    {
     "name": "stdout",
     "output_type": "stream",
     "text": [
      "No top level hogs found\n",
      "No top level hogs found\n",
      "No top level hogs found\n",
      "No top level hogs found\n",
      "No top level hogs found\n",
      "No top level hogs found\n",
      "No top level hogs found\n",
      "No top level hogs found\n",
      "No top level hogs found\n",
      "No top level hogs found\n",
      "No top level hogs found\n",
      "No top level hogs found\n",
      "No top level hogs found\n",
      "No top level hogs found\n",
      "No top level hogs found\n",
      "No top level hogs found\n",
      "No top level hogs found\n",
      "No top level hogs found\n",
      "No top level hogs found\n",
      "No top level hogs found\n",
      "No top level hogs found\n"
     ]
    },
    {
     "name": "stderr",
     "output_type": "stream",
     "text": [
      "271it [03:02,  1.48it/s]"
     ]
    },
    {
     "name": "stdout",
     "output_type": "stream",
     "text": [
      "No top level hogs found\n",
      "No top level hogs found\n",
      "No top level hogs found\n",
      "No top level hogs found\n",
      "No top level hogs found\n",
      "No top level hogs found\n",
      "No top level hogs found\n",
      "No top level hogs found\n",
      "No top level hogs found\n",
      "No top level hogs found\n",
      "No top level hogs found\n",
      "No top level hogs found\n",
      "No top level hogs found\n",
      "No top level hogs found\n",
      "No top level hogs found\n",
      "No top level hogs found\n",
      "No top level hogs found\n",
      "No top level hogs found\n",
      "No top level hogs found\n",
      "No top level hogs found\n",
      "No top level hogs found\n",
      "No top level hogs found\n",
      "No top level hogs found\n",
      "No top level hogs found\n",
      "No top level hogs found\n",
      "No top level hogs found\n",
      "No top level hogs found\n",
      "No top level hogs found\n"
     ]
    },
    {
     "name": "stderr",
     "output_type": "stream",
     "text": [
      "272it [03:02,  1.50it/s]"
     ]
    },
    {
     "name": "stdout",
     "output_type": "stream",
     "text": [
      "No top level hogs found\n",
      "No top level hogs found\n",
      "No top level hogs found\n",
      "No top level hogs found\n",
      "No top level hogs found\n",
      "No top level hogs found\n",
      "No top level hogs found\n",
      "No top level hogs found\n",
      "No top level hogs found\n",
      "No top level hogs found\n",
      "No top level hogs found\n",
      "No top level hogs found\n",
      "No top level hogs found\n",
      "No top level hogs found\n",
      "No top level hogs found\n",
      "No top level hogs found\n",
      "No top level hogs found\n",
      "No top level hogs found\n",
      "No top level hogs found\n",
      "No top level hogs found\n",
      "No top level hogs found\n"
     ]
    },
    {
     "name": "stderr",
     "output_type": "stream",
     "text": [
      "273it [03:03,  1.55it/s]"
     ]
    },
    {
     "name": "stdout",
     "output_type": "stream",
     "text": [
      "No top level hogs found\n",
      "No top level hogs found\n",
      "No top level hogs found\n",
      "No top level hogs found\n",
      "No top level hogs found\n",
      "No top level hogs found\n",
      "No top level hogs found\n",
      "No top level hogs found\n",
      "No top level hogs found\n",
      "No top level hogs found\n",
      "No top level hogs found\n",
      "No top level hogs found\n",
      "No top level hogs found\n",
      "No top level hogs found\n",
      "No top level hogs found\n",
      "No top level hogs found\n",
      "No top level hogs found\n",
      "No top level hogs found\n",
      "No top level hogs found\n",
      "No top level hogs found\n",
      "No top level hogs found\n",
      "No top level hogs found\n",
      "No top level hogs found\n",
      "No top level hogs found"
     ]
    },
    {
     "name": "stderr",
     "output_type": "stream",
     "text": [
      "274it [03:04,  1.62it/s]"
     ]
    },
    {
     "name": "stdout",
     "output_type": "stream",
     "text": [
      "\n",
      "No top level hogs found\n",
      "No top level hogs found\n",
      "No top level hogs found\n",
      "No top level hogs found\n",
      "No top level hogs found\n",
      "No top level hogs found\n",
      "No top level hogs found\n",
      "No top level hogs found\n",
      "No top level hogs found\n",
      "No top level hogs found\n",
      "No top level hogs found\n",
      "No top level hogs found\n",
      "No top level hogs found\n",
      "No top level hogs found\n",
      "No top level hogs found\n",
      "No top level hogs found\n",
      "No top level hogs found\n",
      "No top level hogs found\n",
      "No top level hogs found\n",
      "No top level hogs found\n",
      "No top level hogs found\n"
     ]
    },
    {
     "name": "stderr",
     "output_type": "stream",
     "text": [
      "275it [03:04,  1.59it/s]"
     ]
    },
    {
     "name": "stdout",
     "output_type": "stream",
     "text": [
      "No top level hogs found\n",
      "No top level hogs found\n",
      "No top level hogs found\n",
      "No top level hogs found\n",
      "No top level hogs found\n",
      "No top level hogs found\n",
      "No top level hogs found\n",
      "No top level hogs found\n",
      "No top level hogs found\n",
      "No top level hogs found\n",
      "No top level hogs found\n",
      "No top level hogs found\n",
      "No top level hogs found\n",
      "No top level hogs found\n",
      "No top level hogs found\n",
      "No top level hogs found\n",
      "No top level hogs found\n",
      "No top level hogs found\n",
      "No top level hogs found\n",
      "No top level hogs found\n",
      "No top level hogs found\n",
      "No top level hogs found\n",
      "No top level hogs found\n",
      "No top level hogs found\n",
      "No top level hogs found\n"
     ]
    },
    {
     "name": "stderr",
     "output_type": "stream",
     "text": [
      "276it [03:05,  1.54it/s]"
     ]
    },
    {
     "name": "stdout",
     "output_type": "stream",
     "text": [
      "No top level hogs found\n",
      "No top level hogs found\n",
      "No top level hogs found\n",
      "No top level hogs found\n",
      "No top level hogs found\n",
      "No top level hogs found\n",
      "No top level hogs found\n",
      "No top level hogs found\n",
      "No top level hogs found\n",
      "No top level hogs found\n",
      "No top level hogs found\n",
      "No top level hogs found\n",
      "No top level hogs found\n",
      "No top level hogs found\n",
      "No top level hogs found\n",
      "No top level hogs found\n",
      "No top level hogs found\n",
      "No top level hogs found\n",
      "No top level hogs found\n"
     ]
    },
    {
     "name": "stderr",
     "output_type": "stream",
     "text": [
      "277it [03:05,  1.61it/s]"
     ]
    },
    {
     "name": "stdout",
     "output_type": "stream",
     "text": [
      "No top level hogs found\n",
      "No top level hogs found\n",
      "No top level hogs found\n",
      "No top level hogs found\n",
      "No top level hogs found\n",
      "No top level hogs found\n",
      "No top level hogs found\n",
      "No top level hogs found\n",
      "No top level hogs found\n",
      "No top level hogs found\n",
      "No top level hogs found\n",
      "No top level hogs found\n",
      "No top level hogs found\n",
      "No top level hogs found\n",
      "No top level hogs found\n",
      "No top level hogs found\n",
      "No top level hogs found\n",
      "No top level hogs found\n",
      "No top level hogs found\n",
      "No top level hogs found\n",
      "No top level hogs found\n",
      "No top level hogs found\n",
      "No top level hogs found\n",
      "No top level hogs found\n",
      "No top level hogs found\n",
      "No top level hogs found\n"
     ]
    },
    {
     "name": "stderr",
     "output_type": "stream",
     "text": [
      "278it [03:06,  1.61it/s]"
     ]
    },
    {
     "name": "stdout",
     "output_type": "stream",
     "text": [
      "No top level hogs found\n",
      "No top level hogs found\n",
      "No top level hogs found\n",
      "No top level hogs found\n",
      "No top level hogs found\n",
      "No top level hogs found\n",
      "No top level hogs found\n",
      "No top level hogs found\n",
      "No top level hogs found\n",
      "No top level hogs found\n",
      "No top level hogs found\n",
      "No top level hogs found\n",
      "No top level hogs found\n",
      "No top level hogs found\n",
      "No top level hogs found\n",
      "No top level hogs found\n",
      "No top level hogs found\n"
     ]
    },
    {
     "name": "stderr",
     "output_type": "stream",
     "text": [
      "279it [03:07,  1.55it/s]"
     ]
    },
    {
     "name": "stdout",
     "output_type": "stream",
     "text": [
      "No top level hogs found\n",
      "No top level hogs found\n",
      "No top level hogs found\n",
      "No top level hogs found\n",
      "No top level hogs found\n",
      "No top level hogs found\n",
      "No top level hogs found\n",
      "No top level hogs found\n",
      "No top level hogs found\n",
      "No top level hogs found\n",
      "No top level hogs found\n",
      "No top level hogs found\n",
      "No top level hogs found\n",
      "No top level hogs found\n",
      "No top level hogs found\n",
      "No top level hogs found\n",
      "No top level hogs found\n",
      "No top level hogs found\n",
      "No top level hogs found\n",
      "No top level hogs found\n",
      "No top level hogs found\n",
      "No top level hogs found\n",
      "No top level hogs found\n",
      "No top level hogs found\n",
      "No top level hogs found\n",
      "No top level hogs found\n",
      "No top level hogs found\n",
      "No top level hogs found\n",
      "No top level hogs found\n",
      "No top level hogs found\n",
      "No top level hogs found\n",
      "No top level hogs found\n",
      "No top level hogs found\n",
      "No top level hogs found\n",
      "No top level hogs found\n",
      "No top level hogs found\n",
      "No top level hogs found\n"
     ]
    },
    {
     "name": "stderr",
     "output_type": "stream",
     "text": [
      "280it [03:07,  1.50it/s]"
     ]
    },
    {
     "name": "stdout",
     "output_type": "stream",
     "text": [
      "No top level hogs found\n",
      "No top level hogs found\n",
      "No top level hogs found\n",
      "No top level hogs found\n",
      "No top level hogs found\n",
      "No top level hogs found\n",
      "No top level hogs found\n",
      "No top level hogs found\n",
      "No top level hogs found\n",
      "No top level hogs found\n",
      "No top level hogs found\n",
      "No top level hogs found\n",
      "No top level hogs found\n",
      "No top level hogs found\n",
      "No top level hogs found\n",
      "No top level hogs found\n",
      "No top level hogs found\n",
      "No top level hogs found\n",
      "No top level hogs found\n",
      "No top level hogs found\n",
      "No top level hogs found\n"
     ]
    },
    {
     "name": "stderr",
     "output_type": "stream",
     "text": [
      "281it [03:08,  1.52it/s]"
     ]
    },
    {
     "name": "stdout",
     "output_type": "stream",
     "text": [
      "No top level hogs found\n",
      "No top level hogs found\n",
      "No top level hogs found\n",
      "No top level hogs found\n",
      "No top level hogs found\n",
      "No top level hogs found\n",
      "No top level hogs found\n",
      "No top level hogs found\n",
      "No top level hogs found\n",
      "No top level hogs found\n",
      "No top level hogs found\n",
      "No top level hogs found\n",
      "No top level hogs found\n",
      "No top level hogs found\n",
      "No top level hogs found\n",
      "No top level hogs found\n",
      "No top level hogs found\n",
      "No top level hogs found\n",
      "No top level hogs found\n",
      "No top level hogs found\n",
      "No top level hogs found\n",
      "No top level hogs found\n",
      "No top level hogs found\n",
      "No top level hogs found\n",
      "No top level hogs found\n"
     ]
    },
    {
     "name": "stderr",
     "output_type": "stream",
     "text": [
      "282it [03:09,  1.57it/s]"
     ]
    },
    {
     "name": "stdout",
     "output_type": "stream",
     "text": [
      "No top level hogs found\n",
      "No top level hogs found\n",
      "No top level hogs found\n",
      "No top level hogs found\n",
      "No top level hogs found\n",
      "No top level hogs found\n",
      "No top level hogs found\n",
      "No top level hogs found\n",
      "No top level hogs found\n",
      "No top level hogs found\n",
      "No top level hogs found\n",
      "No top level hogs found\n",
      "No top level hogs found\n",
      "No top level hogs found\n",
      "No top level hogs found\n",
      "No top level hogs found\n",
      "No top level hogs found\n",
      "No top level hogs found\n",
      "No top level hogs found\n"
     ]
    },
    {
     "name": "stderr",
     "output_type": "stream",
     "text": [
      "283it [03:09,  1.55it/s]"
     ]
    },
    {
     "name": "stdout",
     "output_type": "stream",
     "text": [
      "No top level hogs found\n",
      "No top level hogs found\n",
      "No top level hogs found\n",
      "No top level hogs found\n",
      "No top level hogs found\n",
      "No top level hogs found\n",
      "No top level hogs found\n",
      "No top level hogs found\n",
      "No top level hogs found\n",
      "No top level hogs found\n",
      "No top level hogs found\n",
      "No top level hogs found\n",
      "No top level hogs found\n",
      "No top level hogs found\n",
      "No top level hogs found\n",
      "No top level hogs found\n",
      "No top level hogs found\n",
      "No top level hogs found\n",
      "No top level hogs found\n",
      "No top level hogs found\n",
      "No top level hogs found\n",
      "No top level hogs found\n",
      "No top level hogs found\n"
     ]
    },
    {
     "name": "stderr",
     "output_type": "stream",
     "text": [
      "284it [03:10,  1.60it/s]"
     ]
    },
    {
     "name": "stdout",
     "output_type": "stream",
     "text": [
      "No top level hogs found\n",
      "No top level hogs found\n",
      "No top level hogs found\n",
      "No top level hogs found\n",
      "No top level hogs found\n",
      "No top level hogs found\n",
      "No top level hogs found\n",
      "No top level hogs found\n",
      "No top level hogs found\n",
      "No top level hogs found\n"
     ]
    },
    {
     "name": "stderr",
     "output_type": "stream",
     "text": [
      "285it [03:11,  1.61it/s]"
     ]
    },
    {
     "name": "stdout",
     "output_type": "stream",
     "text": [
      "No top level hogs found\n",
      "No top level hogs found\n",
      "No top level hogs found\n",
      "No top level hogs found\n",
      "No top level hogs found\n",
      "No top level hogs found\n",
      "No top level hogs found\n",
      "No top level hogs found\n",
      "No top level hogs found\n",
      "No top level hogs found\n",
      "No top level hogs found\n",
      "No top level hogs found\n",
      "No top level hogs found\n",
      "No top level hogs found\n",
      "No top level hogs found\n",
      "No top level hogs found\n",
      "No top level hogs found\n",
      "No top level hogs found\n",
      "No top level hogs found\n",
      "No top level hogs found\n",
      "No top level hogs found\n",
      "No top level hogs found\n",
      "No top level hogs found\n",
      "No top level hogs found\n",
      "No top level hogs found\n",
      "No top level hogs found\n",
      "No top level hogs found\n",
      "No top level hogs found\n",
      "No top level hogs found\n",
      "No top level hogs found\n",
      "No top level hogs found\n",
      "No top level hogs found\n",
      "No top level hogs found\n",
      "No top level hogs found\n",
      "No top level hogs found\n",
      "No top level hogs found\n",
      "No top level hogs found\n"
     ]
    },
    {
     "name": "stderr",
     "output_type": "stream",
     "text": [
      "286it [03:11,  1.60it/s]"
     ]
    },
    {
     "name": "stdout",
     "output_type": "stream",
     "text": [
      "No top level hogs found\n",
      "No top level hogs found\n",
      "No top level hogs found\n",
      "No top level hogs found\n",
      "No top level hogs found\n",
      "No top level hogs found\n",
      "No top level hogs found\n",
      "No top level hogs found\n",
      "No top level hogs found\n",
      "No top level hogs found\n",
      "No top level hogs found\n",
      "No top level hogs found\n",
      "No top level hogs found\n",
      "No top level hogs found\n",
      "No top level hogs found\n",
      "No top level hogs found\n",
      "No top level hogs found\n",
      "No top level hogs found\n",
      "No top level hogs found\n",
      "No top level hogs found\n",
      "No top level hogs found\n",
      "No top level hogs found\n",
      "No top level hogs found\n",
      "No top level hogs found\n",
      "No top level hogs found\n",
      "No top level hogs found\n",
      "No top level hogs found"
     ]
    },
    {
     "name": "stderr",
     "output_type": "stream",
     "text": [
      "287it [03:12,  1.54it/s]"
     ]
    },
    {
     "name": "stdout",
     "output_type": "stream",
     "text": [
      "\n",
      "No top level hogs found\n",
      "No top level hogs found\n",
      "No top level hogs found\n",
      "No top level hogs found\n",
      "No top level hogs found\n",
      "No top level hogs found\n",
      "No top level hogs found\n",
      "No top level hogs found\n",
      "No top level hogs found\n",
      "No top level hogs found\n",
      "No top level hogs found\n",
      "No top level hogs found\n",
      "No top level hogs found\n",
      "No top level hogs found\n",
      "No top level hogs found\n",
      "No top level hogs found\n",
      "No top level hogs found\n",
      "No top level hogs found\n",
      "No top level hogs found\n",
      "No top level hogs found"
     ]
    },
    {
     "name": "stderr",
     "output_type": "stream",
     "text": [
      "288it [03:13,  1.47it/s]"
     ]
    },
    {
     "name": "stdout",
     "output_type": "stream",
     "text": [
      "\n",
      "No top level hogs found\n",
      "No top level hogs found\n",
      "No top level hogs found\n",
      "No top level hogs found\n",
      "No top level hogs found\n",
      "No top level hogs found\n",
      "No top level hogs found\n",
      "No top level hogs found\n",
      "No top level hogs found\n",
      "No top level hogs found\n",
      "No top level hogs found\n",
      "No top level hogs found\n",
      "No top level hogs found\n",
      "No top level hogs found\n",
      "No top level hogs found\n",
      "No top level hogs found\n",
      "No top level hogs found\n",
      "No top level hogs found\n",
      "No top level hogs found\n",
      "No top level hogs found\n",
      "No top level hogs found\n",
      "No top level hogs found\n",
      "No top level hogs found\n",
      "No top level hogs found\n"
     ]
    },
    {
     "name": "stderr",
     "output_type": "stream",
     "text": [
      "289it [03:13,  1.40it/s]"
     ]
    },
    {
     "name": "stdout",
     "output_type": "stream",
     "text": [
      "No top level hogs found\n",
      "No top level hogs found\n",
      "No top level hogs found\n",
      "No top level hogs found\n",
      "No top level hogs found\n",
      "No top level hogs found\n",
      "No top level hogs found\n",
      "No top level hogs found\n",
      "No top level hogs found\n",
      "No top level hogs found\n",
      "No top level hogs found\n",
      "No top level hogs found\n",
      "No top level hogs found\n",
      "No top level hogs found\n",
      "No top level hogs found\n",
      "No top level hogs found\n",
      "No top level hogs found\n",
      "No top level hogs found\n",
      "No top level hogs found\n",
      "No top level hogs found\n",
      "No top level hogs found\n",
      "No top level hogs found\n",
      "No top level hogs found"
     ]
    },
    {
     "name": "stderr",
     "output_type": "stream",
     "text": [
      "290it [03:14,  1.43it/s]"
     ]
    },
    {
     "name": "stdout",
     "output_type": "stream",
     "text": [
      "\n",
      "No top level hogs found\n",
      "No top level hogs found\n",
      "No top level hogs found\n",
      "No top level hogs found\n",
      "No top level hogs found\n",
      "No top level hogs found\n",
      "No top level hogs found\n",
      "No top level hogs found\n",
      "No top level hogs found\n",
      "No top level hogs found\n",
      "No top level hogs found\n",
      "No top level hogs found\n",
      "No top level hogs found\n",
      "No top level hogs found\n",
      "No top level hogs found\n",
      "No top level hogs found\n",
      "No top level hogs found\n",
      "No top level hogs found\n",
      "No top level hogs found\n",
      "No top level hogs found\n",
      "No top level hogs found\n",
      "No top level hogs found\n",
      "No top level hogs found\n",
      "No top level hogs found\n",
      "No top level hogs found\n"
     ]
    },
    {
     "name": "stderr",
     "output_type": "stream",
     "text": [
      "291it [03:15,  1.43it/s]"
     ]
    },
    {
     "name": "stdout",
     "output_type": "stream",
     "text": [
      "No top level hogs found\n",
      "No top level hogs found\n",
      "No top level hogs found\n",
      "No top level hogs found\n",
      "No top level hogs found\n",
      "No top level hogs found\n",
      "No top level hogs found\n",
      "No top level hogs found\n",
      "No top level hogs found\n",
      "No top level hogs found\n",
      "No top level hogs found\n",
      "No top level hogs found\n",
      "No top level hogs found\n",
      "No top level hogs found\n",
      "No top level hogs found\n",
      "No top level hogs found\n",
      "No top level hogs found\n",
      "No top level hogs found\n",
      "No top level hogs found\n",
      "No top level hogs found\n",
      "No top level hogs found\n",
      "No top level hogs found\n",
      "No top level hogs found\n"
     ]
    },
    {
     "name": "stderr",
     "output_type": "stream",
     "text": [
      "292it [03:15,  1.49it/s]"
     ]
    },
    {
     "name": "stdout",
     "output_type": "stream",
     "text": [
      "No top level hogs found\n",
      "No top level hogs found\n",
      "No top level hogs found\n",
      "No top level hogs found\n",
      "No top level hogs found\n",
      "No top level hogs found\n",
      "No top level hogs found\n",
      "No top level hogs found\n",
      "No top level hogs found\n",
      "No top level hogs found\n",
      "No top level hogs found\n",
      "No top level hogs found\n",
      "No top level hogs found\n",
      "No top level hogs found\n",
      "No top level hogs found\n",
      "No top level hogs found\n",
      "No top level hogs found\n",
      "No top level hogs found\n",
      "No top level hogs found\n",
      "No top level hogs found\n",
      "No top level hogs found\n",
      "No top level hogs found\n",
      "No top level hogs found\n",
      "No top level hogs found\n",
      "No top level hogs found\n",
      "No top level hogs found\n",
      "No top level hogs found\n",
      "No top level hogs found"
     ]
    },
    {
     "name": "stderr",
     "output_type": "stream",
     "text": [
      "293it [03:16,  1.45it/s]"
     ]
    },
    {
     "name": "stdout",
     "output_type": "stream",
     "text": [
      "\n",
      "No top level hogs found\n",
      "No top level hogs found\n",
      "No top level hogs found\n",
      "No top level hogs found\n",
      "No top level hogs found\n",
      "No top level hogs found\n",
      "No top level hogs found\n",
      "No top level hogs found\n",
      "No top level hogs found\n",
      "No top level hogs found\n",
      "No top level hogs found\n",
      "No top level hogs found\n",
      "No top level hogs found\n",
      "No top level hogs found\n",
      "No top level hogs found\n",
      "No top level hogs found\n",
      "No top level hogs found\n",
      "No top level hogs found\n",
      "No top level hogs found\n",
      "No top level hogs found\n",
      "No top level hogs found\n",
      "No top level hogs found\n",
      "No top level hogs found\n",
      "No top level hogs found\n",
      "No top level hogs found"
     ]
    },
    {
     "name": "stderr",
     "output_type": "stream",
     "text": [
      "294it [03:17,  1.45it/s]"
     ]
    },
    {
     "name": "stdout",
     "output_type": "stream",
     "text": [
      "\n",
      "No top level hogs found\n",
      "No top level hogs found\n",
      "No top level hogs found\n",
      "No top level hogs found\n",
      "No top level hogs found\n",
      "No top level hogs found\n",
      "No top level hogs found\n",
      "No top level hogs found\n",
      "No top level hogs found\n",
      "No top level hogs found\n",
      "No top level hogs found\n",
      "No top level hogs found\n",
      "No top level hogs found\n",
      "No top level hogs found\n",
      "No top level hogs found\n",
      "No top level hogs found\n"
     ]
    },
    {
     "name": "stderr",
     "output_type": "stream",
     "text": [
      "295it [03:18,  1.43it/s]"
     ]
    },
    {
     "name": "stdout",
     "output_type": "stream",
     "text": [
      "No top level hogs found\n",
      "No top level hogs found\n",
      "No top level hogs found\n",
      "No top level hogs found\n",
      "No top level hogs found\n",
      "No top level hogs found\n",
      "No top level hogs found\n",
      "No top level hogs found\n",
      "No top level hogs found\n",
      "No top level hogs found\n",
      "No top level hogs found\n",
      "No top level hogs found\n",
      "No top level hogs found\n",
      "No top level hogs found\n",
      "No top level hogs found\n",
      "No top level hogs found\n",
      "No top level hogs found\n",
      "No top level hogs found\n",
      "No top level hogs found\n",
      "No top level hogs found\n"
     ]
    },
    {
     "name": "stderr",
     "output_type": "stream",
     "text": [
      "296it [03:18,  1.44it/s]"
     ]
    },
    {
     "name": "stdout",
     "output_type": "stream",
     "text": [
      "No top level hogs found\n",
      "No top level hogs found\n",
      "No top level hogs found\n",
      "No top level hogs found\n",
      "No top level hogs found\n",
      "No top level hogs found\n",
      "No top level hogs found\n",
      "No top level hogs found\n",
      "No top level hogs found\n",
      "No top level hogs found\n",
      "No top level hogs found\n",
      "No top level hogs found\n",
      "No top level hogs found\n",
      "No top level hogs found\n",
      "No top level hogs found\n",
      "No top level hogs found\n",
      "No top level hogs found\n",
      "No top level hogs found\n",
      "No top level hogs found\n",
      "No top level hogs found\n",
      "No top level hogs found\n",
      "No top level hogs found\n"
     ]
    },
    {
     "name": "stderr",
     "output_type": "stream",
     "text": [
      "297it [03:19,  1.29it/s]"
     ]
    },
    {
     "name": "stdout",
     "output_type": "stream",
     "text": [
      "No top level hogs found\n",
      "No top level hogs found\n",
      "No top level hogs found\n",
      "No top level hogs found\n",
      "No top level hogs found\n",
      "No top level hogs found\n",
      "No top level hogs found\n",
      "No top level hogs found\n",
      "No top level hogs found\n",
      "No top level hogs found\n",
      "No top level hogs found\n",
      "No top level hogs found\n",
      "No top level hogs found\n",
      "No top level hogs found\n",
      "No top level hogs found\n",
      "No top level hogs found\n",
      "No top level hogs found\n",
      "No top level hogs found\n",
      "No top level hogs found\n",
      "No top level hogs found\n",
      "No top level hogs found\n",
      "No top level hogs found\n",
      "No top level hogs found\n",
      "No top level hogs found\n",
      "No top level hogs found\n",
      "No top level hogs found\n",
      "No top level hogs found\n",
      "No top level hogs found\n",
      "No top level hogs found\n"
     ]
    },
    {
     "name": "stderr",
     "output_type": "stream",
     "text": [
      "298it [03:20,  1.28it/s]"
     ]
    },
    {
     "name": "stdout",
     "output_type": "stream",
     "text": [
      "No top level hogs found\n",
      "No top level hogs found\n",
      "No top level hogs found\n",
      "No top level hogs found\n",
      "No top level hogs found\n",
      "No top level hogs found\n",
      "No top level hogs found\n",
      "No top level hogs found\n",
      "No top level hogs found\n",
      "No top level hogs found\n",
      "No top level hogs found\n",
      "No top level hogs found\n",
      "No top level hogs found\n",
      "No top level hogs found\n",
      "No top level hogs found\n",
      "No top level hogs found\n",
      "No top level hogs found\n",
      "No top level hogs found\n",
      "No top level hogs found\n",
      "No top level hogs found\n",
      "No top level hogs found\n",
      "No top level hogs found\n",
      "No top level hogs found\n",
      "No top level hogs found\n"
     ]
    },
    {
     "name": "stderr",
     "output_type": "stream",
     "text": [
      "299it [03:21,  1.34it/s]"
     ]
    },
    {
     "name": "stdout",
     "output_type": "stream",
     "text": [
      "No top level hogs found\n",
      "No top level hogs found\n",
      "No top level hogs found\n",
      "No top level hogs found\n",
      "No top level hogs found\n",
      "No top level hogs found\n",
      "No top level hogs found\n",
      "No top level hogs found\n",
      "No top level hogs found\n",
      "No top level hogs found\n",
      "No top level hogs found\n",
      "No top level hogs found\n",
      "No top level hogs found\n",
      "No top level hogs found\n",
      "No top level hogs found\n",
      "No top level hogs found\n",
      "No top level hogs found\n",
      "No top level hogs found\n",
      "No top level hogs found\n",
      "No top level hogs found\n",
      "No top level hogs found\n",
      "No top level hogs found\n",
      "No top level hogs found\n",
      "No top level hogs found\n",
      "No top level hogs found\n",
      "No top level hogs found\n",
      "saving at :No top level hogs found \n",
      "201.86700654029846No top level hogs found\n",
      "\n",
      "testing forest"
     ]
    },
    {
     "name": "stderr",
     "output_type": "stream",
     "text": [
      "300it [03:21,  1.32it/s]"
     ]
    },
    {
     "name": "stdout",
     "output_type": "stream",
     "text": [
      "No top level hogs found\n",
      "\n"
     ]
    },
    {
     "name": "stderr",
     "output_type": "stream",
     "text": [
      "Process Process-2:\n"
     ]
    },
    {
     "name": "stdout",
     "output_type": "stream",
     "text": [
      "No top level hogs found\n"
     ]
    },
    {
     "name": "stderr",
     "output_type": "stream",
     "text": [
      "Traceback (most recent call last):\n"
     ]
    },
    {
     "name": "stdout",
     "output_type": "stream",
     "text": [
      "No top level hogs found"
     ]
    },
    {
     "name": "stderr",
     "output_type": "stream",
     "text": [
      "  File \"/work/FAC/FBM/DBC/cdessim2/default/agavriilidou/miniconda3/envs/hogprof/lib/python3.12/multiprocessing/process.py\", line 314, in _bootstrap\n",
      "    self.run()\n"
     ]
    },
    {
     "name": "stdout",
     "output_type": "stream",
     "text": [
      "\n"
     ]
    },
    {
     "name": "stderr",
     "output_type": "stream",
     "text": [
      "  File \"/work/FAC/FBM/DBC/cdessim2/default/agavriilidou/miniconda3/envs/hogprof/lib/python3.12/multiprocessing/process.py\", line 108, in run\n",
      "    self._target(*self._args, **self._kwargs)\n"
     ]
    },
    {
     "name": "stdout",
     "output_type": "stream",
     "text": [
      "No top level hogs found"
     ]
    },
    {
     "name": "stderr",
     "output_type": "stream",
     "text": [
      "  File \"/work/FAC/FBM/DBC/cdessim2/default/agavriilidou/HogProf/src/HogProf/lshbuilder.py\", line 377, in saver\n",
      "    print(forest.query( hashes[fam] , k = 10 ) )\n",
      "                               ^^^\n"
     ]
    },
    {
     "name": "stdout",
     "output_type": "stream",
     "text": [
      "\n"
     ]
    },
    {
     "name": "stderr",
     "output_type": "stream",
     "text": [
      "UnboundLocalError: cannot access local variable 'fam' where it is not associated with a value\n"
     ]
    },
    {
     "name": "stdout",
     "output_type": "stream",
     "text": [
      "No top level hogs found\n",
      "No top level hogs found\n",
      "No top level hogs found\n",
      "No top level hogs found\n",
      "No top level hogs found\n",
      "No top level hogs found\n",
      "No top level hogs found\n",
      "No top level hogs found\n",
      "No top level hogs found\n",
      "No top level hogs found\n",
      "No top level hogs found\n",
      "No top level hogs found\n",
      "No top level hogs found\n",
      "No top level hogs found\n",
      "No top level hogs found\n",
      "No top level hogs found\n",
      "No top level hogs found\n",
      "No top level hogs found\n",
      "No top level hogs found\n"
     ]
    },
    {
     "name": "stderr",
     "output_type": "stream",
     "text": [
      "301it [03:22,  1.39it/s]"
     ]
    },
    {
     "name": "stdout",
     "output_type": "stream",
     "text": [
      "No top level hogs found\n",
      "No top level hogs found\n",
      "No top level hogs found\n",
      "No top level hogs found\n",
      "No top level hogs found\n",
      "No top level hogs found\n",
      "No top level hogs found\n",
      "No top level hogs found\n",
      "No top level hogs found\n",
      "No top level hogs found\n",
      "No top level hogs found\n",
      "No top level hogs found\n",
      "No top level hogs found\n",
      "No top level hogs found\n",
      "No top level hogs found\n",
      "No top level hogs found\n",
      "No top level hogs found\n",
      "No top level hogs found\n",
      "No top level hogs found\n",
      "No top level hogs found\n",
      "No top level hogs found\n",
      "No top level hogs found\n",
      "No top level hogs found\n",
      "No top level hogs found\n",
      "No top level hogs found\n",
      "No top level hogs found\n",
      "No top level hogs found\n",
      "No top level hogs found"
     ]
    },
    {
     "name": "stderr",
     "output_type": "stream",
     "text": [
      "302it [03:23,  1.41it/s]"
     ]
    },
    {
     "name": "stdout",
     "output_type": "stream",
     "text": [
      "\n",
      "No top level hogs found\n",
      "No top level hogs found\n",
      "No top level hogs found\n",
      "No top level hogs found\n",
      "No top level hogs found\n",
      "No top level hogs found\n",
      "No top level hogs found\n",
      "No top level hogs found\n",
      "No top level hogs found\n",
      "No top level hogs found\n",
      "No top level hogs found\n",
      "No top level hogs found\n",
      "No top level hogs found\n",
      "No top level hogs found\n",
      "No top level hogs found\n",
      "No top level hogs found\n",
      "No top level hogs found\n",
      "No top level hogs found\n",
      "No top level hogs found\n",
      "No top level hogs found\n",
      "No top level hogs found\n",
      "No top level hogs found\n"
     ]
    },
    {
     "name": "stderr",
     "output_type": "stream",
     "text": [
      "303it [03:23,  1.44it/s]"
     ]
    },
    {
     "name": "stdout",
     "output_type": "stream",
     "text": [
      "No top level hogs found\n",
      "No top level hogs found\n",
      "No top level hogs found\n",
      "No top level hogs found\n",
      "No top level hogs found\n",
      "No top level hogs found\n",
      "No top level hogs found\n",
      "No top level hogs found\n",
      "No top level hogs found\n",
      "No top level hogs found\n",
      "No top level hogs found\n",
      "No top level hogs found\n",
      "No top level hogs found\n",
      "No top level hogs found\n",
      "No top level hogs found\n",
      "No top level hogs found\n",
      "No top level hogs found\n",
      "No top level hogs found\n",
      "No top level hogs found\n",
      "No top level hogs found\n",
      "No top level hogs found\n",
      "No top level hogs found\n",
      "No top level hogs found\n",
      "No top level hogs found\n",
      "No top level hogs found\n",
      "No top level hogs found\n",
      "No top level hogs found\n",
      "No top level hogs found\n",
      "No top level hogs found\n",
      "No top level hogs found\n",
      "No top level hogs found\n"
     ]
    },
    {
     "name": "stderr",
     "output_type": "stream",
     "text": [
      "304it [03:24,  1.37it/s]"
     ]
    },
    {
     "name": "stdout",
     "output_type": "stream",
     "text": [
      "No top level hogs found\n",
      "No top level hogs found\n",
      "No top level hogs found\n",
      "No top level hogs found\n",
      "No top level hogs found\n",
      "No top level hogs found\n",
      "No top level hogs found\n",
      "No top level hogs found\n",
      "No top level hogs found\n",
      "No top level hogs found\n",
      "No top level hogs found\n",
      "No top level hogs found\n",
      "No top level hogs found\n",
      "No top level hogs found\n",
      "No top level hogs found\n",
      "No top level hogs found\n",
      "No top level hogs found\n",
      "No top level hogs found\n",
      "No top level hogs found\n",
      "No top level hogs found\n",
      "No top level hogs found\n",
      "No top level hogs found\n"
     ]
    },
    {
     "name": "stderr",
     "output_type": "stream",
     "text": [
      "305it [03:25,  1.45it/s]"
     ]
    },
    {
     "name": "stdout",
     "output_type": "stream",
     "text": [
      "No top level hogs found\n",
      "No top level hogs found\n",
      "No top level hogs found\n",
      "No top level hogs found\n",
      "No top level hogs found\n",
      "No top level hogs found\n",
      "No top level hogs found\n",
      "No top level hogs found\n",
      "No top level hogs found\n",
      "No top level hogs found\n",
      "No top level hogs found\n",
      "No top level hogs found\n",
      "No top level hogs found\n",
      "No top level hogs found\n",
      "No top level hogs found\n",
      "No top level hogs found\n",
      "No top level hogs found\n",
      "No top level hogs found\n",
      "No top level hogs found\n",
      "No top level hogs found\n",
      "No top level hogs found\n",
      "No top level hogs found\n",
      "No top level hogs found"
     ]
    },
    {
     "name": "stderr",
     "output_type": "stream",
     "text": [
      "306it [03:25,  1.48it/s]"
     ]
    },
    {
     "name": "stdout",
     "output_type": "stream",
     "text": [
      "\n",
      "No top level hogs found\n",
      "No top level hogs found\n",
      "No top level hogs found\n",
      "No top level hogs found\n",
      "No top level hogs found\n",
      "No top level hogs found\n",
      "No top level hogs found\n",
      "No top level hogs found\n",
      "No top level hogs found\n",
      "No top level hogs found\n",
      "No top level hogs found\n",
      "No top level hogs found\n",
      "No top level hogs found\n",
      "No top level hogs found\n",
      "No top level hogs found\n",
      "No top level hogs found\n",
      "No top level hogs found\n",
      "No top level hogs found\n",
      "No top level hogs found\n",
      "No top level hogs found\n",
      "No top level hogs found\n",
      "No top level hogs found\n",
      "No top level hogs found\n",
      "No top level hogs found\n",
      "No top level hogs found\n",
      "No top level hogs found\n",
      "No top level hogs found\n",
      "No top level hogs found\n",
      "No top level hogs found"
     ]
    },
    {
     "name": "stderr",
     "output_type": "stream",
     "text": [
      "307it [03:26,  1.51it/s]"
     ]
    },
    {
     "name": "stdout",
     "output_type": "stream",
     "text": [
      "\n",
      "No top level hogs found\n",
      "No top level hogs found\n",
      "No top level hogs found\n",
      "No top level hogs found\n",
      "No top level hogs found\n",
      "No top level hogs found\n",
      "No top level hogs found\n",
      "No top level hogs found\n",
      "No top level hogs found\n",
      "No top level hogs found\n",
      "No top level hogs found\n",
      "No top level hogs found\n",
      "No top level hogs found\n",
      "No top level hogs found\n",
      "No top level hogs found\n",
      "No top level hogs found\n",
      "No top level hogs found\n",
      "No top level hogs found\n",
      "No top level hogs found\n",
      "No top level hogs found\n",
      "No top level hogs found\n",
      "No top level hogs found\n",
      "No top level hogs found\n",
      "No top level hogs found\n",
      "No top level hogs found\n"
     ]
    },
    {
     "name": "stderr",
     "output_type": "stream",
     "text": [
      "308it [03:27,  1.51it/s]"
     ]
    },
    {
     "name": "stdout",
     "output_type": "stream",
     "text": [
      "No top level hogs found\n",
      "No top level hogs found\n",
      "No top level hogs found\n",
      "No top level hogs found\n",
      "No top level hogs found\n",
      "No top level hogs found\n",
      "No top level hogs found\n",
      "No top level hogs found\n",
      "No top level hogs found\n",
      "No top level hogs found\n",
      "No top level hogs found\n",
      "No top level hogs found\n",
      "No top level hogs found\n",
      "No top level hogs found\n",
      "No top level hogs found\n",
      "No top level hogs found\n",
      "No top level hogs found\n",
      "No top level hogs found\n",
      "No top level hogs found\n",
      "No top level hogs found\n",
      "No top level hogs found\n",
      "No top level hogs found\n",
      "No top level hogs found\n",
      "No top level hogs found\n",
      "No top level hogs found\n",
      "No top level hogs found\n",
      "No top level hogs found\n",
      "No top level hogs found\n",
      "No top level hogs found\n",
      "No top level hogs found\n"
     ]
    },
    {
     "name": "stderr",
     "output_type": "stream",
     "text": [
      "309it [03:28,  1.44it/s]"
     ]
    },
    {
     "name": "stdout",
     "output_type": "stream",
     "text": [
      "No top level hogs found\n",
      "No top level hogs found\n",
      "No top level hogs found\n",
      "No top level hogs found\n",
      "No top level hogs found\n",
      "\n",
      "No top level hogs found\n",
      "No top level hogs found\n",
      "No top level hogs foundNo top level hogs found\n",
      "No top level hogs found\n",
      "No top level hogs found\n",
      "No top level hogs found\n",
      "No top level hogs found\n",
      "No top level hogs found\n",
      "No top level hogs found\n",
      "No top level hogs found\n",
      "No top level hogs found\n",
      "No top level hogs found\n",
      "No top level hogs found\n",
      "No top level hogs found\n",
      "No top level hogs found\n",
      "No top level hogs found\n",
      "No top level hogs found\n",
      "No top level hogs found\n",
      "No top level hogs found\n",
      "No top level hogs found"
     ]
    },
    {
     "name": "stderr",
     "output_type": "stream",
     "text": [
      "310it [03:28,  1.48it/s]"
     ]
    },
    {
     "name": "stdout",
     "output_type": "stream",
     "text": [
      "\n",
      "No top level hogs found\n",
      "No top level hogs found\n",
      "No top level hogs found\n",
      "No top level hogs found\n",
      "No top level hogs found\n",
      "No top level hogs found\n",
      "No top level hogs found\n",
      "No top level hogs found\n",
      "No top level hogs found\n",
      "No top level hogs found\n",
      "No top level hogs found\n",
      "No top level hogs found\n",
      "No top level hogs found\n",
      "No top level hogs found\n",
      "No top level hogs found\n",
      "No top level hogs found\n",
      "No top level hogs found\n",
      "No top level hogs found\n",
      "No top level hogs found\n",
      "No top level hogs found\n",
      "No top level hogs found\n",
      "No top level hogs found\n",
      "No top level hogs found\n",
      "No top level hogs found\n",
      "No top level hogs found\n"
     ]
    },
    {
     "name": "stderr",
     "output_type": "stream",
     "text": [
      "311it [03:29,  1.49it/s]"
     ]
    },
    {
     "name": "stdout",
     "output_type": "stream",
     "text": [
      "No top level hogs found\n",
      "No top level hogs found\n",
      "No top level hogs found\n",
      "No top level hogs found\n",
      "No top level hogs found\n",
      "No top level hogs found\n",
      "No top level hogs found\n",
      "No top level hogs found\n",
      "No top level hogs found\n",
      "No top level hogs found\n",
      "No top level hogs found\n",
      "No top level hogs found\n",
      "No top level hogs found\n",
      "No top level hogs found\n",
      "No top level hogs found\n",
      "No top level hogs found\n",
      "No top level hogs found\n",
      "No top level hogs found\n",
      "No top level hogs found\n",
      "No top level hogs found\n",
      "No top level hogs found\n",
      "No top level hogs found\n",
      "No top level hogs found\n",
      "No top level hogs found\n",
      "No top level hogs found\n",
      "No top level hogs found\n"
     ]
    },
    {
     "name": "stderr",
     "output_type": "stream",
     "text": [
      "312it [03:29,  1.49it/s]"
     ]
    },
    {
     "name": "stdout",
     "output_type": "stream",
     "text": [
      "No top level hogs found\n",
      "No top level hogs found\n",
      "No top level hogs found\n",
      "No top level hogs found\n",
      "No top level hogs found\n",
      "No top level hogs found\n",
      "No top level hogs found\n",
      "No top level hogs found\n",
      "No top level hogs found\n",
      "No top level hogs found\n",
      "No top level hogs found\n",
      "No top level hogs found\n",
      "No top level hogs found\n",
      "No top level hogs found\n",
      "No top level hogs found\n",
      "No top level hogs found\n",
      "No top level hogs found\n",
      "No top level hogs found\n",
      "No top level hogs found\n",
      "No top level hogs found\n",
      "No top level hogs found\n",
      "No top level hogs found\n",
      "No top level hogs found\n",
      "No top level hogs found\n"
     ]
    },
    {
     "name": "stderr",
     "output_type": "stream",
     "text": [
      "313it [03:30,  1.46it/s]"
     ]
    },
    {
     "name": "stdout",
     "output_type": "stream",
     "text": [
      "No top level hogs found\n",
      "No top level hogs found\n",
      "No top level hogs found\n",
      "No top level hogs found\n",
      "No top level hogs found\n",
      "No top level hogs found\n",
      "No top level hogs found\n",
      "No top level hogs found\n",
      "No top level hogs found\n",
      "No top level hogs found\n",
      "No top level hogs found\n",
      "No top level hogs found\n",
      "No top level hogs found\n",
      "No top level hogs found\n",
      "No top level hogs found\n",
      "No top level hogs found\n",
      "No top level hogs found\n",
      "No top level hogs found\n",
      "No top level hogs found\n",
      "No top level hogs found\n",
      "No top level hogs found\n",
      "No top level hogs found\n",
      "No top level hogs found\n",
      "No top level hogs found\n",
      "No top level hogs found\n",
      "No top level hogs found\n",
      "No top level hogs found\n",
      "No top level hogs found"
     ]
    },
    {
     "name": "stderr",
     "output_type": "stream",
     "text": [
      "314it [03:31,  1.51it/s]"
     ]
    },
    {
     "name": "stdout",
     "output_type": "stream",
     "text": [
      "\n",
      "No top level hogs found\n",
      "No top level hogs found\n",
      "No top level hogs found\n",
      "No top level hogs found\n",
      "No top level hogs found\n",
      "No top level hogs found\n",
      "No top level hogs found\n",
      "No top level hogs found\n",
      "No top level hogs found\n",
      "No top level hogs found\n",
      "No top level hogs found\n",
      "No top level hogs found\n",
      "No top level hogs found\n",
      "No top level hogs found\n",
      "No top level hogs found\n",
      "No top level hogs found\n",
      "No top level hogs found\n",
      "No top level hogs found\n",
      "No top level hogs found\n",
      "No top level hogs found\n",
      "No top level hogs found\n",
      "No top level hogs found\n",
      "No top level hogs found\n",
      "No top level hogs found\n"
     ]
    },
    {
     "name": "stderr",
     "output_type": "stream",
     "text": [
      "315it [03:32,  1.50it/s]"
     ]
    },
    {
     "name": "stdout",
     "output_type": "stream",
     "text": [
      "No top level hogs found\n",
      "No top level hogs found\n",
      "No top level hogs found\n",
      "No top level hogs found\n",
      "No top level hogs found\n",
      "No top level hogs found\n",
      "No top level hogs found\n",
      "No top level hogs found\n",
      "No top level hogs found\n",
      "No top level hogs found\n",
      "No top level hogs found\n",
      "No top level hogs found\n",
      "No top level hogs found\n",
      "No top level hogs found\n",
      "No top level hogs found\n",
      "No top level hogs found\n",
      "No top level hogs found\n",
      "No top level hogs found\n",
      "No top level hogs found\n",
      "No top level hogs found\n",
      "No top level hogs found\n",
      "No top level hogs found\n",
      "No top level hogs found\n",
      "No top level hogs found\n",
      "No top level hogs found"
     ]
    },
    {
     "name": "stderr",
     "output_type": "stream",
     "text": [
      "316it [03:32,  1.49it/s]"
     ]
    },
    {
     "name": "stdout",
     "output_type": "stream",
     "text": [
      "\n",
      "No top level hogs found\n",
      "No top level hogs found\n",
      "No top level hogs found\n",
      "No top level hogs found\n",
      "No top level hogs found\n",
      "No top level hogs found\n",
      "No top level hogs found\n",
      "No top level hogs found\n",
      "No top level hogs found\n",
      "No top level hogs found\n",
      "No top level hogs found\n",
      "No top level hogs found\n",
      "No top level hogs found\n",
      "No top level hogs found\n",
      "No top level hogs found\n",
      "No top level hogs found\n",
      "No top level hogs found\n",
      "No top level hogs found\n",
      "No top level hogs found\n",
      "No top level hogs found\n",
      "No top level hogs found\n",
      "No top level hogs found\n"
     ]
    },
    {
     "name": "stderr",
     "output_type": "stream",
     "text": [
      "317it [03:33,  1.37it/s]"
     ]
    },
    {
     "name": "stdout",
     "output_type": "stream",
     "text": [
      "No top level hogs found\n",
      "No top level hogs found\n",
      "No top level hogs found\n",
      "No top level hogs found\n",
      "No top level hogs found\n",
      "No top level hogs found\n",
      "No top level hogs found\n",
      "No top level hogs found\n",
      "No top level hogs found\n",
      "No top level hogs found\n",
      "No top level hogs found\n",
      "No top level hogs found\n",
      "No top level hogs found\n",
      "No top level hogs found\n",
      "No top level hogs found\n",
      "No top level hogs found\n",
      "No top level hogs found\n",
      "No top level hogs found\n",
      "No top level hogs found\n",
      "No top level hogs found\n",
      "No top level hogs found\n",
      "No top level hogs found\n",
      "No top level hogs found\n",
      "No top level hogs found\n",
      "No top level hogs found\n",
      "No top level hogs found\n",
      "No top level hogs found\n"
     ]
    },
    {
     "name": "stderr",
     "output_type": "stream",
     "text": [
      "318it [03:34,  1.38it/s]"
     ]
    },
    {
     "name": "stdout",
     "output_type": "stream",
     "text": [
      "No top level hogs found\n",
      "No top level hogs found\n",
      "No top level hogs found\n",
      "No top level hogs found\n",
      "No top level hogs found\n",
      "No top level hogs found\n",
      "No top level hogs found\n",
      "No top level hogs found\n",
      "No top level hogs found\n",
      "No top level hogs found\n",
      "No top level hogs found\n",
      "No top level hogs found\n",
      "No top level hogs found\n",
      "No top level hogs found\n",
      "No top level hogs found\n",
      "No top level hogs found\n",
      "No top level hogs found\n",
      "No top level hogs found\n",
      "No top level hogs found\n",
      "No top level hogs found\n",
      "No top level hogs found\n",
      "No top level hogs found\n",
      "No top level hogs found\n"
     ]
    },
    {
     "name": "stderr",
     "output_type": "stream",
     "text": [
      "319it [03:34,  1.46it/s]"
     ]
    },
    {
     "name": "stdout",
     "output_type": "stream",
     "text": [
      "No top level hogs found\n",
      "No top level hogs found\n",
      "No top level hogs found\n",
      "No top level hogs found\n",
      "No top level hogs found\n",
      "No top level hogs found\n",
      "No top level hogs found\n",
      "No top level hogs found\n",
      "No top level hogs found\n",
      "No top level hogs found\n",
      "No top level hogs found\n",
      "No top level hogs found\n",
      "No top level hogs found\n",
      "No top level hogs found\n",
      "No top level hogs found\n",
      "No top level hogs found\n",
      "No top level hogs found\n",
      "No top level hogs found\n",
      "No top level hogs found\n",
      "No top level hogs found\n",
      "No top level hogs found\n",
      "No top level hogs found\n",
      "No top level hogs found\n",
      "No top level hogs found\n",
      "No top level hogs found\n",
      "No top level hogs found"
     ]
    },
    {
     "name": "stderr",
     "output_type": "stream",
     "text": [
      "320it [03:35,  1.44it/s]"
     ]
    },
    {
     "name": "stdout",
     "output_type": "stream",
     "text": [
      "\n",
      "No top level hogs found\n",
      "No top level hogs found\n",
      "No top level hogs found\n",
      "No top level hogs found\n",
      "No top level hogs found\n",
      "No top level hogs found\n",
      "No top level hogs found\n",
      "No top level hogs found\n",
      "No top level hogs found\n",
      "No top level hogs found\n",
      "No top level hogs found\n",
      "No top level hogs found\n",
      "No top level hogs found\n",
      "No top level hogs found\n",
      "No top level hogs found\n",
      "No top level hogs found\n",
      "No top level hogs found\n",
      "No top level hogs found\n",
      "No top level hogs found\n",
      "No top level hogs found\n",
      "No top level hogs found\n",
      "No top level hogs found\n",
      "No top level hogs found\n",
      "No top level hogs found\n",
      "No top level hogs found\n",
      "No top level hogs found\n",
      "No top level hogs found\n",
      "No top level hogs found"
     ]
    },
    {
     "name": "stderr",
     "output_type": "stream",
     "text": [
      "321it [03:36,  1.42it/s]"
     ]
    },
    {
     "name": "stdout",
     "output_type": "stream",
     "text": [
      "\n",
      "No top level hogs found\n",
      "No top level hogs found\n",
      "No top level hogs found\n",
      "No top level hogs found\n",
      "No top level hogs found\n",
      "No top level hogs found\n",
      "No top level hogs found\n",
      "No top level hogs found\n",
      "No top level hogs found\n",
      "No top level hogs found\n",
      "No top level hogs found\n",
      "No top level hogs found\n",
      "No top level hogs found\n",
      "No top level hogs found\n",
      "No top level hogs found\n",
      "No top level hogs found\n",
      "No top level hogs found\n",
      "No top level hogs found\n",
      "No top level hogs found\n",
      "No top level hogs found\n",
      "No top level hogs found\n",
      "No top level hogs found\n",
      "No top level hogs found\n",
      "No top level hogs found\n",
      "No top level hogs found\n",
      "No top level hogs found"
     ]
    },
    {
     "name": "stderr",
     "output_type": "stream",
     "text": [
      "322it [03:37,  1.41it/s]"
     ]
    },
    {
     "name": "stdout",
     "output_type": "stream",
     "text": [
      "\n",
      "No top level hogs found\n",
      "No top level hogs found\n",
      "No top level hogs found\n",
      "No top level hogs found\n",
      "No top level hogs found\n",
      "No top level hogs found\n",
      "No top level hogs found\n",
      "No top level hogs found\n",
      "No top level hogs found\n",
      "No top level hogs found\n",
      "No top level hogs found\n",
      "No top level hogs found\n",
      "No top level hogs found\n",
      "No top level hogs found\n",
      "No top level hogs found\n",
      "No top level hogs found\n",
      "No top level hogs found\n",
      "No top level hogs found\n",
      "No top level hogs found\n",
      "No top level hogs found\n",
      "No top level hogs found"
     ]
    },
    {
     "name": "stderr",
     "output_type": "stream",
     "text": [
      "323it [03:37,  1.46it/s]"
     ]
    },
    {
     "name": "stdout",
     "output_type": "stream",
     "text": [
      "\n",
      "No top level hogs found\n",
      "No top level hogs found\n",
      "No top level hogs found\n",
      "No top level hogs found\n",
      "No top level hogs found\n",
      "No top level hogs found\n",
      "No top level hogs found\n",
      "No top level hogs found\n",
      "No top level hogs found\n",
      "No top level hogs found\n",
      "No top level hogs found\n",
      "No top level hogs found\n",
      "No top level hogs found\n",
      "No top level hogs found\n",
      "No top level hogs found\n",
      "No top level hogs found\n",
      "No top level hogs found\n",
      "No top level hogs found\n",
      "No top level hogs found\n",
      "No top level hogs found\n",
      "No top level hogs found\n",
      "No top level hogs found\n",
      "No top level hogs found\n",
      "No top level hogs found\n",
      "No top level hogs found"
     ]
    },
    {
     "name": "stderr",
     "output_type": "stream",
     "text": [
      "324it [03:38,  1.51it/s]"
     ]
    },
    {
     "name": "stdout",
     "output_type": "stream",
     "text": [
      "\n",
      "No top level hogs found\n",
      "No top level hogs found\n",
      "No top level hogs found\n",
      "No top level hogs found\n",
      "No top level hogs found\n",
      "No top level hogs found\n",
      "No top level hogs found\n",
      "No top level hogs found\n",
      "No top level hogs found\n",
      "No top level hogs found\n",
      "No top level hogs found\n",
      "No top level hogs found\n",
      "No top level hogs found\n",
      "No top level hogs found\n",
      "No top level hogs found\n",
      "No top level hogs found\n",
      "No top level hogs found\n",
      "No top level hogs found\n",
      "No top level hogs found\n",
      "No top level hogs found\n",
      "No top level hogs found\n",
      "No top level hogs found\n",
      "No top level hogs found\n",
      "No top level hogs found"
     ]
    },
    {
     "name": "stderr",
     "output_type": "stream",
     "text": [
      "325it [03:38,  1.50it/s]"
     ]
    },
    {
     "name": "stdout",
     "output_type": "stream",
     "text": [
      "\n",
      "No top level hogs found\n",
      "No top level hogs found\n",
      "No top level hogs found\n",
      "No top level hogs found\n",
      "No top level hogs found\n",
      "No top level hogs found\n",
      "No top level hogs found\n",
      "No top level hogs found\n",
      "No top level hogs found\n",
      "No top level hogs found\n",
      "No top level hogs found\n",
      "No top level hogs found\n",
      "No top level hogs found\n",
      "No top level hogs found\n",
      "No top level hogs found\n",
      "No top level hogs found\n",
      "No top level hogs found\n",
      "No top level hogs found\n",
      "No top level hogs found\n",
      "No top level hogs found\n",
      "No top level hogs found\n",
      "No top level hogs found\n",
      "No top level hogs found\n"
     ]
    },
    {
     "name": "stderr",
     "output_type": "stream",
     "text": [
      "326it [03:39,  1.50it/s]"
     ]
    },
    {
     "name": "stdout",
     "output_type": "stream",
     "text": [
      "No top level hogs found\n",
      "No top level hogs found\n",
      "No top level hogs found\n",
      "No top level hogs found\n",
      "No top level hogs found\n",
      "No top level hogs found\n",
      "No top level hogs found\n",
      "No top level hogs found\n",
      "No top level hogs found\n",
      "No top level hogs found\n",
      "No top level hogs found\n",
      "No top level hogs found\n",
      "No top level hogs found\n",
      "No top level hogs found\n",
      "No top level hogs found\n",
      "No top level hogs found\n",
      "No top level hogs found\n"
     ]
    },
    {
     "name": "stderr",
     "output_type": "stream",
     "text": [
      "327it [03:40,  1.51it/s]"
     ]
    },
    {
     "name": "stdout",
     "output_type": "stream",
     "text": [
      "No top level hogs found\n",
      "No top level hogs found\n",
      "No top level hogs found\n",
      "No top level hogs found\n",
      "No top level hogs found\n",
      "No top level hogs found\n",
      "No top level hogs found\n",
      "No top level hogs found\n",
      "No top level hogs found\n",
      "No top level hogs found\n",
      "No top level hogs found\n",
      "No top level hogs found\n",
      "No top level hogs found\n",
      "No top level hogs found\n",
      "No top level hogs found\n",
      "No top level hogs found\n",
      "No top level hogs found\n",
      "No top level hogs found\n",
      "No top level hogs found\n",
      "No top level hogs found\n",
      "No top level hogs found\n",
      "No top level hogs found\n",
      "No top level hogs found\n",
      "No top level hogs found\n",
      "No top level hogs found\n",
      "No top level hogs found\n",
      "No top level hogs found\n",
      "No top level hogs found\n",
      "No top level hogs found"
     ]
    },
    {
     "name": "stderr",
     "output_type": "stream",
     "text": [
      "328it [03:40,  1.52it/s]"
     ]
    },
    {
     "name": "stdout",
     "output_type": "stream",
     "text": [
      "\n",
      "No top level hogs found\n",
      "No top level hogs found\n",
      "No top level hogs found\n",
      "No top level hogs found\n",
      "No top level hogs found\n",
      "No top level hogs found\n",
      "No top level hogs found\n",
      "No top level hogs found\n",
      "No top level hogs found\n",
      "No top level hogs found\n",
      "No top level hogs found\n",
      "No top level hogs found\n",
      "No top level hogs found\n",
      "No top level hogs found\n",
      "No top level hogs found\n",
      "No top level hogs found\n",
      "No top level hogs found\n",
      "No top level hogs found\n",
      "No top level hogs found\n",
      "No top level hogs found\n",
      "No top level hogs found\n",
      "No top level hogs found\n",
      "No top level hogs found\n",
      "No top level hogs found\n",
      "No top level hogs found\n"
     ]
    },
    {
     "name": "stderr",
     "output_type": "stream",
     "text": [
      "329it [03:41,  1.46it/s]"
     ]
    },
    {
     "name": "stdout",
     "output_type": "stream",
     "text": [
      "No top level hogs found\n",
      "No top level hogs found\n",
      "No top level hogs found\n",
      "No top level hogs found\n",
      "No top level hogs found\n",
      "No top level hogs found\n",
      "No top level hogs found\n",
      "No top level hogs found\n",
      "No top level hogs found\n",
      "No top level hogs found\n",
      "No top level hogs found\n",
      "No top level hogs found\n",
      "No top level hogs found\n",
      "No top level hogs found\n",
      "No top level hogs found\n",
      "No top level hogs found\n",
      "No top level hogs found\n",
      "No top level hogs found\n",
      "No top level hogs found\n",
      "No top level hogs found\n",
      "No top level hogs found\n",
      "No top level hogs found\n",
      "No top level hogs found"
     ]
    },
    {
     "name": "stderr",
     "output_type": "stream",
     "text": [
      "330it [03:42,  1.47it/s]"
     ]
    },
    {
     "name": "stdout",
     "output_type": "stream",
     "text": [
      "\n",
      "No top level hogs found\n",
      "No top level hogs found\n",
      "No top level hogs found\n",
      "No top level hogs found\n",
      "No top level hogs found\n",
      "No top level hogs found\n",
      "No top level hogs found\n",
      "No top level hogs found\n",
      "No top level hogs found\n",
      "No top level hogs found\n",
      "No top level hogs found\n",
      "No top level hogs found\n",
      "No top level hogs found\n",
      "No top level hogs found\n",
      "No top level hogs found\n",
      "No top level hogs found\n",
      "No top level hogs found\n",
      "No top level hogs found\n",
      "No top level hogs found\n",
      "No top level hogs found\n"
     ]
    },
    {
     "name": "stderr",
     "output_type": "stream",
     "text": [
      "331it [03:42,  1.49it/s]"
     ]
    },
    {
     "name": "stdout",
     "output_type": "stream",
     "text": [
      "No top level hogs found\n",
      "No top level hogs found\n",
      "No top level hogs found\n",
      "No top level hogs found\n",
      "No top level hogs found\n",
      "No top level hogs found\n",
      "No top level hogs found\n",
      "No top level hogs found\n",
      "No top level hogs found\n",
      "No top level hogs found\n",
      "No top level hogs found\n",
      "No top level hogs found\n",
      "No top level hogs found\n",
      "No top level hogs found\n",
      "No top level hogs found\n",
      "No top level hogs found\n",
      "No top level hogs found\n",
      "No top level hogs found\n",
      "No top level hogs found\n",
      "No top level hogs found\n",
      "No top level hogs found\n",
      "No top level hogs found\n",
      "No top level hogs found\n",
      "No top level hogs found\n",
      "No top level hogs found\n"
     ]
    },
    {
     "name": "stderr",
     "output_type": "stream",
     "text": [
      "332it [03:43,  1.44it/s]"
     ]
    },
    {
     "name": "stdout",
     "output_type": "stream",
     "text": [
      "No top level hogs found\n",
      "No top level hogs found\n",
      "No top level hogs found\n",
      "No top level hogs found\n",
      "No top level hogs found\n",
      "No top level hogs found\n",
      "No top level hogs found\n",
      "No top level hogs found\n",
      "No top level hogs found\n",
      "No top level hogs found\n",
      "No top level hogs found\n",
      "No top level hogs found\n",
      "No top level hogs found\n",
      "No top level hogs found\n",
      "No top level hogs found\n",
      "No top level hogs found\n",
      "No top level hogs found\n",
      "No top level hogs found\n",
      "No top level hogs found\n",
      "No top level hogs found\n",
      "No top level hogs found\n",
      "No top level hogs found\n",
      "No top level hogs found\n",
      "No top level hogs found\n",
      "No top level hogs found\n",
      "No top level hogs found\n",
      "No top level hogs found\n",
      "No top level hogs found\n",
      "No top level hogs found"
     ]
    },
    {
     "name": "stderr",
     "output_type": "stream",
     "text": [
      "333it [03:44,  1.44it/s]"
     ]
    },
    {
     "name": "stdout",
     "output_type": "stream",
     "text": [
      "\n",
      "No top level hogs found\n",
      "No top level hogs found\n",
      "No top level hogs found\n",
      "No top level hogs found\n",
      "No top level hogs found\n",
      "No top level hogs found\n",
      "No top level hogs found\n",
      "No top level hogs found\n",
      "No top level hogs found\n",
      "No top level hogs found\n",
      "No top level hogs found\n",
      "No top level hogs found\n",
      "No top level hogs found\n",
      "No top level hogs found\n",
      "No top level hogs found\n",
      "No top level hogs found\n",
      "No top level hogs found\n",
      "No top level hogs found\n",
      "No top level hogs found\n",
      "No top level hogs found\n",
      "No top level hogs found\n",
      "No top level hogs found\n",
      "No top level hogs found\n",
      "No top level hogs found\n",
      "No top level hogs found\n"
     ]
    },
    {
     "name": "stderr",
     "output_type": "stream",
     "text": [
      "334it [03:45,  1.43it/s]"
     ]
    },
    {
     "name": "stdout",
     "output_type": "stream",
     "text": [
      "No top level hogs found\n",
      "No top level hogs found\n",
      "No top level hogs found\n",
      "No top level hogs found\n",
      "No top level hogs found\n",
      "No top level hogs found\n",
      "No top level hogs found\n",
      "No top level hogs found\n",
      "No top level hogs found\n",
      "No top level hogs found\n",
      "No top level hogs found\n",
      "No top level hogs found\n",
      "No top level hogs found\n",
      "No top level hogs found\n",
      "No top level hogs found\n",
      "No top level hogs found\n",
      "No top level hogs found\n",
      "No top level hogs found\n",
      "No top level hogs found\n",
      "No top level hogs found\n",
      "No top level hogs found\n",
      "No top level hogs found\n",
      "No top level hogs found\n",
      "No top level hogs found\n",
      "No top level hogs found\n",
      "No top level hogs found\n"
     ]
    },
    {
     "name": "stderr",
     "output_type": "stream",
     "text": [
      "335it [03:45,  1.46it/s]"
     ]
    },
    {
     "name": "stdout",
     "output_type": "stream",
     "text": [
      "No top level hogs found\n",
      "No top level hogs found\n",
      "No top level hogs found\n",
      "No top level hogs found\n",
      "No top level hogs found\n",
      "No top level hogs found\n",
      "No top level hogs found\n",
      "No top level hogs found\n",
      "No top level hogs found\n",
      "No top level hogs found\n",
      "No top level hogs found\n",
      "No top level hogs found\n",
      "No top level hogs found\n",
      "No top level hogs found\n",
      "No top level hogs found\n",
      "No top level hogs found\n",
      "No top level hogs found\n",
      "No top level hogs found\n",
      "No top level hogs found\n"
     ]
    },
    {
     "name": "stderr",
     "output_type": "stream",
     "text": [
      "336it [03:46,  1.54it/s]"
     ]
    },
    {
     "name": "stdout",
     "output_type": "stream",
     "text": [
      "No top level hogs found\n",
      "No top level hogs found\n",
      "No top level hogs found\n",
      "No top level hogs found\n",
      "No top level hogs found\n",
      "No top level hogs found\n",
      "No top level hogs found\n",
      "No top level hogs found\n",
      "No top level hogs found\n",
      "No top level hogs found\n",
      "No top level hogs found\n",
      "No top level hogs found\n",
      "No top level hogs found\n",
      "No top level hogs found\n",
      "No top level hogs found\n",
      "No top level hogs found\n",
      "No top level hogs found\n",
      "No top level hogs found\n",
      "No top level hogs found\n",
      "No top level hogs found\n",
      "No top level hogs found\n",
      "No top level hogs found\n",
      "No top level hogs found\n",
      "No top level hogs found\n",
      "No top level hogs found\n",
      "No top level hogs found\n"
     ]
    },
    {
     "name": "stderr",
     "output_type": "stream",
     "text": [
      "337it [03:47,  1.51it/s]"
     ]
    },
    {
     "name": "stdout",
     "output_type": "stream",
     "text": [
      "No top level hogs found\n",
      "No top level hogs found\n",
      "No top level hogs found\n",
      "No top level hogs found\n",
      "No top level hogs found\n",
      "No top level hogs found\n",
      "No top level hogs found\n",
      "No top level hogs found\n",
      "No top level hogs found\n",
      "No top level hogs found\n",
      "No top level hogs found\n",
      "No top level hogs found\n",
      "No top level hogs found\n",
      "No top level hogs found\n",
      "No top level hogs found\n",
      "No top level hogs found\n",
      "No top level hogs found\n",
      "No top level hogs found\n",
      "No top level hogs found\n",
      "No top level hogs found\n",
      "No top level hogs found\n",
      "No top level hogs found\n"
     ]
    },
    {
     "name": "stderr",
     "output_type": "stream",
     "text": [
      "338it [03:47,  1.52it/s]"
     ]
    },
    {
     "name": "stdout",
     "output_type": "stream",
     "text": [
      "No top level hogs found\n",
      "No top level hogs found\n",
      "No top level hogs found\n",
      "No top level hogs found\n",
      "No top level hogs found\n",
      "No top level hogs found\n",
      "No top level hogs found\n",
      "No top level hogs found\n",
      "No top level hogs found\n",
      "No top level hogs found\n",
      "No top level hogs found\n",
      "No top level hogs found\n",
      "No top level hogs found\n",
      "No top level hogs found\n",
      "No top level hogs found\n",
      "No top level hogs found\n",
      "No top level hogs found\n",
      "No top level hogs found\n",
      "No top level hogs found\n",
      "No top level hogs found\n",
      "No top level hogs found\n",
      "No top level hogs found\n",
      "No top level hogs found\n",
      "No top level hogs found\n",
      "No top level hogs found\n",
      "No top level hogs found\n"
     ]
    },
    {
     "name": "stderr",
     "output_type": "stream",
     "text": [
      "339it [03:48,  1.54it/s]"
     ]
    },
    {
     "name": "stdout",
     "output_type": "stream",
     "text": [
      "No top level hogs found\n",
      "No top level hogs found\n",
      "No top level hogs found\n",
      "No top level hogs found\n",
      "No top level hogs found\n",
      "No top level hogs found\n",
      "No top level hogs found\n",
      "No top level hogs found\n",
      "No top level hogs found\n",
      "No top level hogs found\n",
      "No top level hogs found\n",
      "No top level hogs found\n",
      "No top level hogs found\n",
      "No top level hogs found\n",
      "No top level hogs found\n",
      "No top level hogs found\n",
      "No top level hogs found\n",
      "No top level hogs found\n",
      "No top level hogs found\n",
      "No top level hogs found\n",
      "No top level hogs found\n",
      "No top level hogs found\n"
     ]
    },
    {
     "name": "stderr",
     "output_type": "stream",
     "text": [
      "340it [03:48,  1.66it/s]"
     ]
    },
    {
     "name": "stdout",
     "output_type": "stream",
     "text": [
      "No top level hogs found\n",
      "No top level hogs found\n",
      "No top level hogs found\n",
      "No top level hogs found\n",
      "No top level hogs found\n",
      "No top level hogs found\n",
      "No top level hogs found\n",
      "No top level hogs found\n",
      "No top level hogs found\n",
      "No top level hogs found\n",
      "No top level hogs found\n",
      "No top level hogs found\n",
      "No top level hogs found\n",
      "No top level hogs found\n",
      "No top level hogs found\n",
      "No top level hogs found\n",
      "No top level hogs found\n",
      "No top level hogs found\n",
      "No top level hogs found\n",
      "No top level hogs found\n",
      "No top level hogs found\n",
      "No top level hogs found\n"
     ]
    },
    {
     "name": "stderr",
     "output_type": "stream",
     "text": [
      "341it [03:49,  1.69it/s]"
     ]
    },
    {
     "name": "stdout",
     "output_type": "stream",
     "text": [
      "No top level hogs found\n",
      "No top level hogs found\n",
      "No top level hogs found\n",
      "No top level hogs found\n",
      "No top level hogs found\n",
      "No top level hogs found\n",
      "No top level hogs found\n",
      "No top level hogs found\n",
      "No top level hogs found\n",
      "No top level hogs found\n",
      "No top level hogs found\n",
      "No top level hogs found\n",
      "No top level hogs found\n",
      "No top level hogs found\n",
      "No top level hogs found\n",
      "No top level hogs found\n",
      "No top level hogs found\n",
      "No top level hogs found\n",
      "No top level hogs found\n",
      "No top level hogs found\n",
      "No top level hogs found\n",
      "No top level hogs found\n",
      "No top level hogs found\n",
      "No top level hogs found\n",
      "No top level hogs found\n",
      "No top level hogs found\n"
     ]
    },
    {
     "name": "stderr",
     "output_type": "stream",
     "text": [
      "342it [03:50,  1.61it/s]"
     ]
    },
    {
     "name": "stdout",
     "output_type": "stream",
     "text": [
      "No top level hogs found\n",
      "No top level hogs found\n",
      "No top level hogs found\n",
      "No top level hogs found\n",
      "No top level hogs found\n",
      "No top level hogs found\n",
      "No top level hogs found\n",
      "No top level hogs found\n",
      "No top level hogs found\n",
      "No top level hogs found\n",
      "No top level hogs found\n",
      "No top level hogs found\n",
      "No top level hogs found\n",
      "No top level hogs found\n",
      "No top level hogs found\n",
      "No top level hogs found\n",
      "No top level hogs found\n",
      "No top level hogs found\n",
      "No top level hogs found\n",
      "No top level hogs found\n",
      "No top level hogs found\n",
      "No top level hogs found\n",
      "No top level hogs found\n",
      "No top level hogs found\n",
      "No top level hogs found\n",
      "No top level hogs found"
     ]
    },
    {
     "name": "stderr",
     "output_type": "stream",
     "text": [
      "343it [03:50,  1.62it/s]"
     ]
    },
    {
     "name": "stdout",
     "output_type": "stream",
     "text": [
      "\n",
      "No top level hogs found\n",
      "No top level hogs found\n",
      "No top level hogs found\n",
      "No top level hogs found\n",
      "No top level hogs found\n",
      "No top level hogs found\n",
      "No top level hogs found\n",
      "No top level hogs found\n",
      "No top level hogs found\n",
      "No top level hogs found\n",
      "No top level hogs found\n",
      "No top level hogs found\n",
      "No top level hogs found\n",
      "No top level hogs found\n",
      "No top level hogs found\n",
      "No top level hogs found\n",
      "No top level hogs found\n",
      "No top level hogs found\n",
      "No top level hogs found\n",
      "No top level hogs found\n",
      "No top level hogs found\n",
      "No top level hogs found\n",
      "No top level hogs found"
     ]
    },
    {
     "name": "stderr",
     "output_type": "stream",
     "text": [
      "344it [03:51,  1.64it/s]"
     ]
    },
    {
     "name": "stdout",
     "output_type": "stream",
     "text": [
      "\n",
      "No top level hogs found\n",
      "No top level hogs found\n",
      "No top level hogs found\n",
      "No top level hogs found\n",
      "No top level hogs found\n",
      "No top level hogs found\n",
      "No top level hogs found\n",
      "No top level hogs found\n",
      "No top level hogs found\n",
      "No top level hogs found\n",
      "No top level hogs found\n",
      "No top level hogs found\n",
      "No top level hogs found\n",
      "No top level hogs found\n",
      "No top level hogs found\n",
      "No top level hogs found\n",
      "No top level hogs found\n",
      "No top level hogs found\n",
      "No top level hogs found\n",
      "No top level hogs found\n",
      "No top level hogs found\n",
      "No top level hogs found\n",
      "No top level hogs found\n",
      "No top level hogs found\n"
     ]
    },
    {
     "name": "stderr",
     "output_type": "stream",
     "text": [
      "345it [03:51,  1.65it/s]"
     ]
    },
    {
     "name": "stdout",
     "output_type": "stream",
     "text": [
      "No top level hogs found\n",
      "No top level hogs found\n",
      "No top level hogs found\n",
      "No top level hogs found\n",
      "No top level hogs found\n",
      "No top level hogs found\n",
      "No top level hogs found\n",
      "No top level hogs found\n",
      "No top level hogs found\n",
      "No top level hogs found\n",
      "No top level hogs found\n",
      "No top level hogs found\n",
      "No top level hogs found\n",
      "No top level hogs found\n",
      "No top level hogs found\n",
      "No top level hogs found\n",
      "No top level hogs found\n",
      "No top level hogs found\n",
      "No top level hogs found\n",
      "No top level hogs found\n",
      "No top level hogs found\n",
      "No top level hogs found\n",
      "No top level hogs found\n",
      "No top level hogs found\n",
      "No top level hogs found\n",
      "No top level hogs found\n"
     ]
    },
    {
     "name": "stderr",
     "output_type": "stream",
     "text": [
      "346it [03:52,  1.61it/s]"
     ]
    },
    {
     "name": "stdout",
     "output_type": "stream",
     "text": [
      "No top level hogs found\n",
      "No top level hogs found\n",
      "No top level hogs found\n",
      "No top level hogs found\n",
      "No top level hogs found\n",
      "No top level hogs found\n",
      "No top level hogs found\n",
      "No top level hogs found\n",
      "No top level hogs found\n",
      "No top level hogs found\n",
      "No top level hogs found\n",
      "No top level hogs found\n",
      "No top level hogs found\n",
      "No top level hogs found\n",
      "No top level hogs found\n",
      "No top level hogs found\n",
      "No top level hogs found\n",
      "No top level hogs found\n",
      "No top level hogs found\n",
      "No top level hogs found\n",
      "No top level hogs found\n",
      "No top level hogs found\n",
      "No top level hogs found\n",
      "No top level hogs found\n",
      "No top level hogs found\n",
      "No top level hogs found\n",
      "No top level hogs found\n",
      "No top level hogs found\n"
     ]
    },
    {
     "name": "stderr",
     "output_type": "stream",
     "text": [
      "347it [03:53,  1.57it/s]"
     ]
    },
    {
     "name": "stdout",
     "output_type": "stream",
     "text": [
      "No top level hogs found\n",
      "No top level hogs found\n",
      "No top level hogs found\n",
      "No top level hogs found\n",
      "No top level hogs found\n",
      "No top level hogs found\n",
      "No top level hogs found\n",
      "No top level hogs found\n",
      "No top level hogs found\n",
      "No top level hogs found\n",
      "No top level hogs found\n",
      "No top level hogs found\n",
      "No top level hogs found\n",
      "No top level hogs found\n",
      "No top level hogs found\n",
      "No top level hogs found\n",
      "No top level hogs found\n",
      "No top level hogs found\n",
      "No top level hogs found\n",
      "No top level hogs found\n",
      "No top level hogs found\n",
      "No top level hogs found\n",
      "No top level hogs found\n"
     ]
    },
    {
     "name": "stderr",
     "output_type": "stream",
     "text": [
      "348it [03:53,  1.62it/s]"
     ]
    },
    {
     "name": "stdout",
     "output_type": "stream",
     "text": [
      "No top level hogs found\n",
      "No top level hogs found\n",
      "No top level hogs found\n",
      "No top level hogs found\n",
      "No top level hogs found\n",
      "No top level hogs found\n",
      "No top level hogs found\n",
      "No top level hogs found\n",
      "No top level hogs found\n",
      "No top level hogs found\n",
      "No top level hogs found\n",
      "No top level hogs found\n",
      "No top level hogs found\n",
      "No top level hogs found\n",
      "No top level hogs found\n",
      "No top level hogs found\n",
      "No top level hogs found\n",
      "No top level hogs found\n",
      "No top level hogs found\n",
      "No top level hogs found\n",
      "No top level hogs found\n",
      "No top level hogs found\n",
      "No top level hogs found\n"
     ]
    },
    {
     "name": "stderr",
     "output_type": "stream",
     "text": [
      "349it [03:54,  1.64it/s]"
     ]
    },
    {
     "name": "stdout",
     "output_type": "stream",
     "text": [
      "No top level hogs found\n",
      "No top level hogs found\n",
      "No top level hogs found\n",
      "No top level hogs found\n",
      "No top level hogs found\n",
      "No top level hogs found\n",
      "No top level hogs found\n",
      "No top level hogs found\n",
      "No top level hogs found\n",
      "No top level hogs found\n",
      "No top level hogs found\n",
      "No top level hogs found\n",
      "No top level hogs found\n",
      "No top level hogs found\n",
      "No top level hogs found\n",
      "No top level hogs found\n",
      "No top level hogs found\n",
      "No top level hogs found\n",
      "No top level hogs found\n",
      "No top level hogs found\n",
      "No top level hogs found\n",
      "No top level hogs found\n",
      "No top level hogs found\n",
      "No top level hogs found\n"
     ]
    },
    {
     "name": "stderr",
     "output_type": "stream",
     "text": [
      "350it [03:54,  1.64it/s]"
     ]
    },
    {
     "name": "stdout",
     "output_type": "stream",
     "text": [
      "No top level hogs found\n",
      "No top level hogs found\n",
      "No top level hogs found\n",
      "No top level hogs found\n",
      "No top level hogs found\n",
      "No top level hogs found\n",
      "No top level hogs found\n",
      "No top level hogs found\n",
      "No top level hogs found\n",
      "No top level hogs found\n",
      "No top level hogs found\n",
      "No top level hogs found\n",
      "No top level hogs found\n",
      "No top level hogs found\n",
      "No top level hogs found\n",
      "No top level hogs found\n",
      "No top level hogs found\n",
      "No top level hogs found\n",
      "No top level hogs found\n",
      "No top level hogs found\n",
      "No top level hogs found\n",
      "No top level hogs found\n"
     ]
    },
    {
     "name": "stderr",
     "output_type": "stream",
     "text": [
      "351it [03:55,  1.63it/s]"
     ]
    },
    {
     "name": "stdout",
     "output_type": "stream",
     "text": [
      "No top level hogs found\n",
      "No top level hogs found\n",
      "No top level hogs found\n",
      "No top level hogs found\n",
      "No top level hogs found\n",
      "No top level hogs found\n",
      "No top level hogs found\n",
      "No top level hogs found\n",
      "No top level hogs found\n",
      "No top level hogs found\n",
      "No top level hogs found\n",
      "No top level hogs found\n",
      "No top level hogs found\n",
      "No top level hogs found\n",
      "No top level hogs found\n",
      "No top level hogs found\n",
      "No top level hogs found\n",
      "No top level hogs found\n",
      "No top level hogs found\n",
      "No top level hogs found\n",
      "No top level hogs found\n",
      "No top level hogs found\n",
      "No top level hogs found\n",
      "No top level hogs found\n",
      "No top level hogs found\n",
      "No top level hogs found\n",
      "No top level hogs found\n"
     ]
    },
    {
     "name": "stderr",
     "output_type": "stream",
     "text": [
      "352it [03:56,  1.55it/s]"
     ]
    },
    {
     "name": "stdout",
     "output_type": "stream",
     "text": [
      "No top level hogs found\n",
      "No top level hogs found\n",
      "No top level hogs found\n",
      "No top level hogs found\n",
      "No top level hogs found\n",
      "No top level hogs found\n",
      "No top level hogs found\n",
      "No top level hogs found\n",
      "No top level hogs found\n",
      "No top level hogs found\n",
      "No top level hogs found\n",
      "No top level hogs found\n",
      "No top level hogs found\n",
      "No top level hogs found\n",
      "No top level hogs found\n",
      "No top level hogs found\n",
      "No top level hogs found\n",
      "No top level hogs found\n",
      "No top level hogs found\n",
      "No top level hogs found\n",
      "No top level hogs found\n",
      "\n",
      "No top level hogs foundNo top level hogs found\n",
      "No top level hogs found\n",
      "No top level hogs found\n",
      "No top level hogs found"
     ]
    },
    {
     "name": "stderr",
     "output_type": "stream",
     "text": [
      "353it [03:56,  1.53it/s]"
     ]
    },
    {
     "name": "stdout",
     "output_type": "stream",
     "text": [
      "\n",
      "No top level hogs found\n",
      "No top level hogs found\n",
      "No top level hogs found\n",
      "No top level hogs found\n",
      "No top level hogs found\n",
      "No top level hogs found\n",
      "No top level hogs found\n",
      "No top level hogs found\n",
      "No top level hogs found\n",
      "No top level hogs found\n",
      "No top level hogs found\n",
      "No top level hogs found\n",
      "No top level hogs found\n",
      "No top level hogs found\n",
      "No top level hogs found\n",
      "No top level hogs found\n",
      "No top level hogs found\n",
      "No top level hogs found\n",
      "No top level hogs found\n",
      "No top level hogs found\n",
      "No top level hogs found\n",
      "No top level hogs found\n",
      "No top level hogs found"
     ]
    },
    {
     "name": "stderr",
     "output_type": "stream",
     "text": [
      "354it [03:57,  1.55it/s]"
     ]
    },
    {
     "name": "stdout",
     "output_type": "stream",
     "text": [
      "\n",
      "No top level hogs found\n",
      "No top level hogs found\n",
      "No top level hogs found\n",
      "No top level hogs found\n",
      "No top level hogs found\n",
      "No top level hogs found\n",
      "No top level hogs found\n",
      "No top level hogs found\n",
      "No top level hogs found\n",
      "No top level hogs found\n",
      "No top level hogs found\n",
      "No top level hogs found\n",
      "No top level hogs found\n",
      "No top level hogs found\n",
      "No top level hogs found\n",
      "No top level hogs found\n",
      "No top level hogs found\n",
      "No top level hogs found\n",
      "No top level hogs found\n",
      "No top level hogs found\n",
      "No top level hogs found\n",
      "No top level hogs found\n",
      "No top level hogs found\n",
      "No top level hogs found\n",
      "No top level hogs found\n",
      "No top level hogs found\n",
      "No top level hogs found\n",
      "No top level hogs found\n",
      "No top level hogs found\n"
     ]
    },
    {
     "name": "stderr",
     "output_type": "stream",
     "text": [
      "355it [03:58,  1.49it/s]"
     ]
    },
    {
     "name": "stdout",
     "output_type": "stream",
     "text": [
      "No top level hogs found\n",
      "No top level hogs found\n",
      "No top level hogs found\n",
      "No top level hogs found\n",
      "No top level hogs found\n",
      "No top level hogs found\n",
      "No top level hogs found\n",
      "No top level hogs found\n",
      "No top level hogs found\n",
      "No top level hogs found\n",
      "No top level hogs found\n",
      "No top level hogs found\n",
      "No top level hogs found\n",
      "No top level hogs found\n",
      "No top level hogs found\n",
      "No top level hogs found\n",
      "No top level hogs found\n",
      "No top level hogs found\n",
      "No top level hogs found\n",
      "No top level hogs found\n",
      "No top level hogs found\n",
      "No top level hogs found\n",
      "No top level hogs found\n",
      "No top level hogs found\n",
      "No top level hogs found\n"
     ]
    },
    {
     "name": "stderr",
     "output_type": "stream",
     "text": [
      "356it [03:59,  1.49it/s]"
     ]
    },
    {
     "name": "stdout",
     "output_type": "stream",
     "text": [
      "No top level hogs found\n",
      "No top level hogs found\n",
      "No top level hogs found\n",
      "No top level hogs found\n",
      "No top level hogs found\n",
      "No top level hogs found\n",
      "No top level hogs found\n",
      "No top level hogs found\n",
      "No top level hogs found\n",
      "No top level hogs found\n",
      "No top level hogs found\n",
      "No top level hogs found\n",
      "No top level hogs found\n",
      "No top level hogs found\n",
      "No top level hogs found\n",
      "No top level hogs found\n",
      "No top level hogs found\n",
      "No top level hogs found\n",
      "No top level hogs found\n",
      "No top level hogs found\n",
      "No top level hogs found\n",
      "No top level hogs found\n",
      "No top level hogs found\n",
      "No top level hogs found\n",
      "No top level hogs found\n",
      "No top level hogs found\n",
      "No top level hogs found\n",
      "No top level hogs found\n",
      "No top level hogs found\n"
     ]
    },
    {
     "name": "stderr",
     "output_type": "stream",
     "text": [
      "357it [03:59,  1.46it/s]"
     ]
    },
    {
     "name": "stdout",
     "output_type": "stream",
     "text": [
      "No top level hogs found\n",
      "No top level hogs found\n",
      "No top level hogs found\n",
      "No top level hogs found\n",
      "No top level hogs found\n",
      "No top level hogs found\n",
      "No top level hogs found\n",
      "No top level hogs found\n",
      "No top level hogs found\n",
      "No top level hogs found\n",
      "No top level hogs found\n",
      "No top level hogs found\n",
      "No top level hogs found\n",
      "No top level hogs found\n",
      "No top level hogs found\n",
      "No top level hogs found\n",
      "No top level hogs found\n",
      "No top level hogs found\n",
      "No top level hogs found\n",
      "No top level hogs found\n"
     ]
    },
    {
     "name": "stderr",
     "output_type": "stream",
     "text": [
      "358it [04:00,  1.50it/s]"
     ]
    },
    {
     "name": "stdout",
     "output_type": "stream",
     "text": [
      "No top level hogs found\n",
      "No top level hogs found\n",
      "No top level hogs found\n",
      "No top level hogs found\n",
      "No top level hogs found\n",
      "No top level hogs found\n",
      "No top level hogs found\n",
      "No top level hogs found\n",
      "No top level hogs found\n",
      "No top level hogs found\n",
      "No top level hogs found\n",
      "No top level hogs found\n",
      "No top level hogs found\n",
      "No top level hogs found\n",
      "No top level hogs found\n",
      "No top level hogs found\n",
      "No top level hogs found\n",
      "No top level hogs found\n",
      "No top level hogs found\n",
      "No top level hogs found\n",
      "No top level hogs found\n",
      "No top level hogs found"
     ]
    },
    {
     "name": "stderr",
     "output_type": "stream",
     "text": [
      "359it [04:01,  1.51it/s]"
     ]
    },
    {
     "name": "stdout",
     "output_type": "stream",
     "text": [
      "\n",
      "No top level hogs found\n",
      "No top level hogs found\n",
      "No top level hogs found\n",
      "No top level hogs found\n",
      "No top level hogs found\n",
      "No top level hogs found\n",
      "No top level hogs found\n",
      "No top level hogs found\n",
      "No top level hogs found\n",
      "No top level hogs found\n",
      "No top level hogs found\n",
      "No top level hogs found\n",
      "No top level hogs found\n",
      "No top level hogs found\n",
      "No top level hogs found\n",
      "No top level hogs found\n",
      "No top level hogs found\n",
      "No top level hogs found\n",
      "No top level hogs found\n",
      "No top level hogs found\n",
      "No top level hogs found\n",
      "No top level hogs found\n",
      "No top level hogs found\n",
      "No top level hogs found\n",
      "No top level hogs found\n",
      "No top level hogs found\n",
      "No top level hogs found\n",
      "No top level hogs found\n",
      "No top level hogs found\n",
      "No top level hogs found\n"
     ]
    },
    {
     "name": "stderr",
     "output_type": "stream",
     "text": [
      "360it [04:01,  1.59it/s]"
     ]
    },
    {
     "name": "stdout",
     "output_type": "stream",
     "text": [
      "No top level hogs found\n",
      "No top level hogs found\n",
      "No top level hogs found\n",
      "No top level hogs found\n",
      "No top level hogs found\n",
      "No top level hogs found\n",
      "No top level hogs found\n",
      "No top level hogs found\n",
      "No top level hogs found\n",
      "No top level hogs found\n",
      "No top level hogs found\n",
      "No top level hogs found\n",
      "No top level hogs found\n",
      "No top level hogs found\n",
      "No top level hogs found\n",
      "No top level hogs found\n",
      "No top level hogs found"
     ]
    },
    {
     "name": "stderr",
     "output_type": "stream",
     "text": [
      "361it [04:02,  1.63it/s]"
     ]
    },
    {
     "name": "stdout",
     "output_type": "stream",
     "text": [
      "\n",
      "No top level hogs found\n",
      "No top level hogs found\n",
      "No top level hogs found\n",
      "No top level hogs found\n",
      "No top level hogs found\n",
      "No top level hogs found\n",
      "No top level hogs found\n",
      "No top level hogs found\n",
      "No top level hogs found\n",
      "No top level hogs found\n",
      "No top level hogs found\n",
      "No top level hogs found\n",
      "No top level hogs found\n",
      "No top level hogs found\n",
      "No top level hogs found\n",
      "No top level hogs found\n",
      "No top level hogs found\n",
      "No top level hogs found\n",
      "No top level hogs found\n",
      "No top level hogs found\n",
      "No top level hogs found\n",
      "No top level hogs found\n",
      "No top level hogs found\n",
      "No top level hogs found\n",
      "No top level hogs found\n",
      "No top level hogs found\n",
      "No top level hogs found\n",
      "No top level hogs found\n",
      "No top level hogs found\n"
     ]
    },
    {
     "name": "stderr",
     "output_type": "stream",
     "text": [
      "362it [04:02,  1.60it/s]"
     ]
    },
    {
     "name": "stdout",
     "output_type": "stream",
     "text": [
      "No top level hogs found\n",
      "No top level hogs found\n",
      "No top level hogs found\n",
      "No top level hogs found\n",
      "No top level hogs found\n",
      "No top level hogs found\n",
      "No top level hogs found\n",
      "No top level hogs found\n",
      "No top level hogs found\n",
      "No top level hogs found\n",
      "No top level hogs found\n",
      "No top level hogs found\n",
      "No top level hogs found\n",
      "No top level hogs found\n",
      "No top level hogs found\n",
      "No top level hogs found\n",
      "No top level hogs found\n",
      "No top level hogs found\n",
      "No top level hogs found\n",
      "No top level hogs found\n",
      "No top level hogs found\n",
      "No top level hogs found\n",
      "No top level hogs found\n"
     ]
    },
    {
     "name": "stderr",
     "output_type": "stream",
     "text": [
      "363it [04:03,  1.52it/s]"
     ]
    },
    {
     "name": "stdout",
     "output_type": "stream",
     "text": [
      "No top level hogs found\n",
      "No top level hogs found\n",
      "No top level hogs found\n",
      "No top level hogs found\n",
      "No top level hogs found\n",
      "No top level hogs found\n",
      "No top level hogs found\n",
      "No top level hogs found\n",
      "No top level hogs found\n",
      "No top level hogs found"
     ]
    },
    {
     "name": "stderr",
     "output_type": "stream",
     "text": [
      "364it [04:04,  1.53it/s]"
     ]
    },
    {
     "name": "stdout",
     "output_type": "stream",
     "text": [
      "\n",
      "No top level hogs found\n",
      "No top level hogs found\n",
      "No top level hogs found\n",
      "No top level hogs found\n",
      "No top level hogs found\n",
      "No top level hogs found\n",
      "No top level hogs found\n",
      "No top level hogs found\n",
      "No top level hogs found\n",
      "No top level hogs found\n",
      "No top level hogs found\n",
      "No top level hogs found\n",
      "No top level hogs found\n",
      "No top level hogs found\n",
      "No top level hogs found\n",
      "No top level hogs found\n",
      "No top level hogs found\n",
      "No top level hogs found\n",
      "No top level hogs found\n",
      "No top level hogs found\n",
      "No top level hogs found\n",
      "No top level hogs found\n",
      "No top level hogs found\n",
      "No top level hogs found\n",
      "No top level hogs found\n",
      "No top level hogs found\n",
      "No top level hogs found\n",
      "No top level hogs found\n",
      "No top level hogs found\n",
      "No top level hogs found\n",
      "No top level hogs found\n",
      "No top level hogs found\n",
      "No top level hogs found\n",
      "No top level hogs found\n",
      "No top level hogs found\n"
     ]
    },
    {
     "name": "stderr",
     "output_type": "stream",
     "text": [
      "365it [04:04,  1.50it/s]"
     ]
    },
    {
     "name": "stdout",
     "output_type": "stream",
     "text": [
      "No top level hogs found\n",
      "No top level hogs found\n",
      "No top level hogs found\n",
      "No top level hogs found\n",
      "No top level hogs found\n",
      "No top level hogs found\n",
      "No top level hogs found\n",
      "No top level hogs found\n",
      "No top level hogs found\n",
      "No top level hogs found\n",
      "No top level hogs found\n",
      "No top level hogs found\n",
      "No top level hogs found\n",
      "No top level hogs found\n",
      "No top level hogs found\n",
      "No top level hogs found\n",
      "No top level hogs found\n",
      "No top level hogs found\n",
      "No top level hogs found\n",
      "No top level hogs found\n",
      "No top level hogs found\n",
      "No top level hogs found\n",
      "No top level hogs found\n"
     ]
    },
    {
     "name": "stderr",
     "output_type": "stream",
     "text": [
      "366it [04:05,  1.44it/s]"
     ]
    },
    {
     "name": "stdout",
     "output_type": "stream",
     "text": [
      "No top level hogs found\n",
      "No top level hogs found\n",
      "No top level hogs found\n",
      "No top level hogs found\n",
      "No top level hogs found\n",
      "No top level hogs found\n",
      "No top level hogs found\n",
      "No top level hogs found\n",
      "No top level hogs found\n",
      "No top level hogs found\n",
      "No top level hogs found\n",
      "No top level hogs found\n",
      "No top level hogs found\n",
      "No top level hogs found\n",
      "No top level hogs found\n",
      "No top level hogs found\n",
      "No top level hogs found\n",
      "No top level hogs found\n",
      "No top level hogs found\n",
      "No top level hogs found\n",
      "No top level hogs found\n",
      "No top level hogs found\n",
      "No top level hogs found\n",
      "No top level hogs found\n",
      "No top level hogs found\n",
      "No top level hogs found\n",
      "No top level hogs found\n",
      "No top level hogs found\n",
      "No top level hogs found\n",
      "No top level hogs found\n",
      "No top level hogs found"
     ]
    },
    {
     "name": "stderr",
     "output_type": "stream",
     "text": [
      "367it [04:06,  1.41it/s]"
     ]
    },
    {
     "name": "stdout",
     "output_type": "stream",
     "text": [
      "\n",
      "No top level hogs found\n",
      "No top level hogs found\n",
      "No top level hogs found\n",
      "No top level hogs found\n",
      "No top level hogs found\n",
      "No top level hogs found\n",
      "No top level hogs found\n",
      "No top level hogs found\n",
      "No top level hogs found\n",
      "No top level hogs found\n",
      "No top level hogs found\n",
      "No top level hogs found\n",
      "No top level hogs found\n",
      "No top level hogs found\n",
      "No top level hogs found\n",
      "No top level hogs found\n",
      "No top level hogs found\n",
      "No top level hogs found\n",
      "No top level hogs found\n",
      "No top level hogs found\n",
      "No top level hogs found\n",
      "No top level hogs found\n",
      "No top level hogs found\n",
      "No top level hogs found\n",
      "No top level hogs found\n",
      "No top level hogs found"
     ]
    },
    {
     "name": "stderr",
     "output_type": "stream",
     "text": [
      "368it [04:07,  1.37it/s]"
     ]
    },
    {
     "name": "stdout",
     "output_type": "stream",
     "text": [
      "\n",
      "No top level hogs found\n",
      "No top level hogs found\n",
      "No top level hogs found\n",
      "No top level hogs found\n",
      "No top level hogs found\n",
      "No top level hogs found\n",
      "No top level hogs found\n",
      "No top level hogs found\n",
      "No top level hogs found\n",
      "No top level hogs found\n",
      "No top level hogs found\n",
      "No top level hogs found\n",
      "No top level hogs found\n",
      "No top level hogs found\n",
      "No top level hogs found\n",
      "No top level hogs found\n",
      "No top level hogs found\n",
      "No top level hogs found\n",
      "No top level hogs found\n"
     ]
    },
    {
     "name": "stderr",
     "output_type": "stream",
     "text": [
      "369it [04:07,  1.33it/s]"
     ]
    },
    {
     "name": "stdout",
     "output_type": "stream",
     "text": [
      "No top level hogs found\n",
      "No top level hogs found\n",
      "No top level hogs found\n",
      "No top level hogs found\n",
      "No top level hogs found\n",
      "No top level hogs found\n",
      "No top level hogs found\n",
      "No top level hogs found\n",
      "No top level hogs found\n",
      "No top level hogs found\n",
      "No top level hogs found\n",
      "No top level hogs found\n",
      "No top level hogs found\n",
      "No top level hogs found\n",
      "No top level hogs found\n",
      "No top level hogs found\n",
      "No top level hogs found\n"
     ]
    },
    {
     "name": "stderr",
     "output_type": "stream",
     "text": [
      "370it [04:08,  1.42it/s]"
     ]
    },
    {
     "name": "stdout",
     "output_type": "stream",
     "text": [
      "No top level hogs found\n",
      "No top level hogs found\n",
      "No top level hogs found\n",
      "No top level hogs found\n",
      "No top level hogs found\n",
      "No top level hogs found\n",
      "No top level hogs found\n",
      "No top level hogs found\n",
      "No top level hogs found\n",
      "No top level hogs found\n",
      "No top level hogs found\n",
      "No top level hogs found\n",
      "No top level hogs found\n",
      "No top level hogs found\n",
      "No top level hogs found\n",
      "No top level hogs found\n",
      "No top level hogs found\n",
      "No top level hogs found\n",
      "No top level hogs found\n",
      "No top level hogs found\n",
      "No top level hogs found\n",
      "No top level hogs found\n",
      "No top level hogs found\n",
      "No top level hogs found\n",
      "No top level hogs found\n",
      "No top level hogs found\n",
      "No top level hogs found\n",
      "No top level hogs found\n"
     ]
    },
    {
     "name": "stderr",
     "output_type": "stream",
     "text": [
      "371it [04:09,  1.38it/s]"
     ]
    },
    {
     "name": "stdout",
     "output_type": "stream",
     "text": [
      "No top level hogs found\n",
      "No top level hogs found\n",
      "No top level hogs found\n",
      "No top level hogs found\n",
      "No top level hogs found\n",
      "No top level hogs found\n",
      "No top level hogs found\n",
      "No top level hogs found\n",
      "No top level hogs found\n",
      "No top level hogs found\n",
      "No top level hogs found\n",
      "No top level hogs found\n",
      "No top level hogs found\n",
      "No top level hogs found\n",
      "No top level hogs found\n",
      "No top level hogs found\n",
      "No top level hogs found\n",
      "No top level hogs found\n",
      "No top level hogs found\n",
      "No top level hogs found\n",
      "No top level hogs found\n",
      "No top level hogs found\n",
      "No top level hogs found\n",
      "No top level hogs found\n",
      "No top level hogs found\n",
      "No top level hogs found\n",
      "No top level hogs found\n"
     ]
    },
    {
     "name": "stderr",
     "output_type": "stream",
     "text": [
      "372it [04:10,  1.40it/s]"
     ]
    },
    {
     "name": "stdout",
     "output_type": "stream",
     "text": [
      "No top level hogs found\n",
      "No top level hogs found\n",
      "No top level hogs found\n",
      "No top level hogs found\n",
      "No top level hogs found\n",
      "No top level hogs found\n",
      "No top level hogs found\n",
      "No top level hogs found\n",
      "No top level hogs found\n",
      "No top level hogs found\n",
      "No top level hogs found\n",
      "No top level hogs found\n",
      "No top level hogs found\n",
      "No top level hogs found\n",
      "No top level hogs found\n",
      "No top level hogs found\n",
      "No top level hogs found\n",
      "No top level hogs found\n",
      "No top level hogs found\n",
      "No top level hogs found\n",
      "No top level hogs found\n",
      "No top level hogs found\n",
      "No top level hogs found\n",
      "No top level hogs found\n"
     ]
    },
    {
     "name": "stderr",
     "output_type": "stream",
     "text": [
      "373it [04:10,  1.45it/s]"
     ]
    },
    {
     "name": "stdout",
     "output_type": "stream",
     "text": [
      "No top level hogs found\n",
      "No top level hogs found\n",
      "No top level hogs found\n",
      "No top level hogs found\n",
      "No top level hogs found\n",
      "No top level hogs found\n",
      "No top level hogs found\n",
      "No top level hogs found\n",
      "No top level hogs found\n",
      "No top level hogs found\n",
      "No top level hogs found\n",
      "No top level hogs found\n",
      "No top level hogs found\n",
      "No top level hogs found\n",
      "No top level hogs found\n",
      "No top level hogs found\n",
      "No top level hogs found\n",
      "No top level hogs found\n",
      "No top level hogs found\n",
      "No top level hogs found\n",
      "No top level hogs found\n",
      "No top level hogs found\n",
      "No top level hogs found\n",
      "No top level hogs found\n"
     ]
    },
    {
     "name": "stderr",
     "output_type": "stream",
     "text": [
      "374it [04:11,  1.49it/s]"
     ]
    },
    {
     "name": "stdout",
     "output_type": "stream",
     "text": [
      "No top level hogs found\n",
      "No top level hogs found\n",
      "No top level hogs found\n",
      "No top level hogs found\n",
      "No top level hogs found\n",
      "No top level hogs found\n",
      "No top level hogs found\n",
      "No top level hogs found\n",
      "No top level hogs found\n",
      "No top level hogs found\n",
      "No top level hogs found\n",
      "No top level hogs found\n",
      "No top level hogs found\n",
      "No top level hogs found\n",
      "No top level hogs found\n",
      "No top level hogs found\n",
      "No top level hogs found\n",
      "No top level hogs found\n",
      "No top level hogs found\n",
      "No top level hogs found\n",
      "No top level hogs found\n",
      "No top level hogs found\n",
      "No top level hogs found\n"
     ]
    },
    {
     "name": "stderr",
     "output_type": "stream",
     "text": [
      "375it [04:11,  1.54it/s]"
     ]
    },
    {
     "name": "stdout",
     "output_type": "stream",
     "text": [
      "No top level hogs found\n",
      "No top level hogs found\n",
      "No top level hogs found\n",
      "No top level hogs found\n",
      "No top level hogs found\n",
      "No top level hogs found\n",
      "No top level hogs found\n",
      "No top level hogs found\n",
      "No top level hogs found\n",
      "No top level hogs found\n",
      "No top level hogs found\n",
      "No top level hogs found\n",
      "No top level hogs found\n",
      "No top level hogs found\n",
      "No top level hogs found\n",
      "No top level hogs found\n",
      "No top level hogs found\n",
      "No top level hogs found\n",
      "No top level hogs found\n",
      "No top level hogs found\n",
      "No top level hogs found\n",
      "No top level hogs found\n",
      "No top level hogs found\n",
      "No top level hogs found\n",
      "No top level hogs found\n",
      "No top level hogs found\n"
     ]
    },
    {
     "name": "stderr",
     "output_type": "stream",
     "text": [
      "376it [04:12,  1.39it/s]"
     ]
    },
    {
     "name": "stdout",
     "output_type": "stream",
     "text": [
      "No top level hogs found\n",
      "No top level hogs found\n",
      "No top level hogs found\n",
      "No top level hogs found\n",
      "No top level hogs found\n",
      "No top level hogs found\n",
      "No top level hogs found\n",
      "No top level hogs found\n",
      "No top level hogs found\n",
      "No top level hogs found\n",
      "No top level hogs found\n",
      "No top level hogs found\n",
      "No top level hogs found\n",
      "No top level hogs found\n",
      "No top level hogs found\n",
      "No top level hogs found\n",
      "No top level hogs found\n",
      "No top level hogs found\n",
      "No top level hogs found\n",
      "No top level hogs found\n",
      "No top level hogs found\n",
      "No top level hogs found\n",
      "No top level hogs found\n"
     ]
    },
    {
     "name": "stderr",
     "output_type": "stream",
     "text": [
      "377it [04:13,  1.43it/s]"
     ]
    },
    {
     "name": "stdout",
     "output_type": "stream",
     "text": [
      "No top level hogs found\n",
      "No top level hogs found\n",
      "No top level hogs found\n",
      "No top level hogs found\n",
      "No top level hogs found\n",
      "No top level hogs found\n",
      "No top level hogs found\n",
      "No top level hogs found\n",
      "No top level hogs found\n",
      "No top level hogs found\n",
      "No top level hogs found\n",
      "No top level hogs found\n",
      "No top level hogs found\n",
      "No top level hogs found\n",
      "No top level hogs found\n",
      "No top level hogs found\n",
      "No top level hogs found\n",
      "No top level hogs found\n",
      "No top level hogs found\n",
      "No top level hogs found\n",
      "No top level hogs found\n",
      "No top level hogs found\n",
      "No top level hogs found\n",
      "No top level hogs found\n",
      "No top level hogs found\n",
      "No top level hogs found\n",
      "No top level hogs found\n",
      "No top level hogs found\n",
      "No top level hogs found\n",
      "No top level hogs found\n",
      "No top level hogs found\n",
      "No top level hogs found\n"
     ]
    },
    {
     "name": "stderr",
     "output_type": "stream",
     "text": [
      "378it [04:14,  1.34it/s]"
     ]
    },
    {
     "name": "stdout",
     "output_type": "stream",
     "text": [
      "No top level hogs found\n",
      "No top level hogs found\n",
      "No top level hogs found\n",
      "No top level hogs found\n",
      "No top level hogs found\n",
      "No top level hogs found\n",
      "No top level hogs found\n",
      "No top level hogs found\n",
      "No top level hogs found\n",
      "No top level hogs found\n",
      "No top level hogs found\n",
      "No top level hogs found\n",
      "No top level hogs found\n",
      "No top level hogs found\n",
      "No top level hogs found\n",
      "No top level hogs found\n",
      "No top level hogs found\n",
      "No top level hogs found\n",
      "No top level hogs found\n",
      "No top level hogs found\n",
      "No top level hogs found\n",
      "No top level hogs found"
     ]
    },
    {
     "name": "stderr",
     "output_type": "stream",
     "text": [
      "379it [04:14,  1.40it/s]"
     ]
    },
    {
     "name": "stdout",
     "output_type": "stream",
     "text": [
      "\n",
      "No top level hogs found\n",
      "No top level hogs found\n",
      "No top level hogs found\n",
      "No top level hogs found\n",
      "No top level hogs found\n",
      "No top level hogs found\n",
      "No top level hogs found\n",
      "No top level hogs found\n",
      "No top level hogs found\n",
      "No top level hogs found\n",
      "No top level hogs found\n",
      "No top level hogs found\n",
      "No top level hogs found\n",
      "No top level hogs found\n",
      "No top level hogs found\n",
      "No top level hogs found\n",
      "No top level hogs found\n",
      "No top level hogs found\n",
      "No top level hogs found\n",
      "No top level hogs found\n",
      "No top level hogs found\n",
      "No top level hogs found\n",
      "No top level hogs found\n",
      "No top level hogs found\n",
      "No top level hogs found\n",
      "No top level hogs found\n",
      "No top level hogs found\n",
      "No top level hogs found\n",
      "No top level hogs found\n",
      "No top level hogs found"
     ]
    },
    {
     "name": "stderr",
     "output_type": "stream",
     "text": [
      "380it [04:15,  1.42it/s]"
     ]
    },
    {
     "name": "stdout",
     "output_type": "stream",
     "text": [
      "\n",
      "No top level hogs found\n",
      "No top level hogs found\n",
      "No top level hogs found\n",
      "No top level hogs found\n",
      "No top level hogs found\n",
      "No top level hogs found\n",
      "No top level hogs found\n",
      "No top level hogs found\n",
      "No top level hogs found\n",
      "No top level hogs found\n",
      "No top level hogs found\n",
      "No top level hogs found\n",
      "No top level hogs found\n",
      "No top level hogs found\n",
      "No top level hogs found\n",
      "No top level hogs found\n",
      "No top level hogs found\n",
      "No top level hogs found\n",
      "No top level hogs found\n",
      "No top level hogs found\n",
      "No top level hogs found\n",
      "No top level hogs found\n"
     ]
    },
    {
     "name": "stderr",
     "output_type": "stream",
     "text": [
      "381it [04:16,  1.49it/s]"
     ]
    },
    {
     "name": "stdout",
     "output_type": "stream",
     "text": [
      "No top level hogs found\n",
      "No top level hogs found\n",
      "No top level hogs found\n",
      "No top level hogs found\n",
      "No top level hogs found\n",
      "No top level hogs found\n",
      "No top level hogs found\n",
      "No top level hogs found\n",
      "No top level hogs found\n",
      "No top level hogs found\n",
      "No top level hogs found\n",
      "No top level hogs found\n",
      "No top level hogs found\n",
      "No top level hogs found\n",
      "No top level hogs found\n",
      "No top level hogs found\n",
      "No top level hogs found\n",
      "No top level hogs found\n",
      "No top level hogs found\n",
      "No top level hogs found\n",
      "No top level hogs found"
     ]
    },
    {
     "name": "stderr",
     "output_type": "stream",
     "text": [
      "382it [04:16,  1.57it/s]"
     ]
    },
    {
     "name": "stdout",
     "output_type": "stream",
     "text": [
      "\n",
      "No top level hogs found\n",
      "No top level hogs found\n",
      "No top level hogs found\n",
      "No top level hogs found\n",
      "No top level hogs found\n",
      "No top level hogs found\n",
      "No top level hogs found\n",
      "No top level hogs found\n",
      "No top level hogs found\n",
      "No top level hogs found\n",
      "No top level hogs found\n",
      "No top level hogs found\n",
      "No top level hogs found\n",
      "No top level hogs found\n",
      "No top level hogs found\n",
      "No top level hogs found\n",
      "No top level hogs found\n",
      "No top level hogs found\n",
      "No top level hogs found\n",
      "No top level hogs found\n"
     ]
    },
    {
     "name": "stderr",
     "output_type": "stream",
     "text": [
      "383it [04:17,  1.62it/s]"
     ]
    },
    {
     "name": "stdout",
     "output_type": "stream",
     "text": [
      "No top level hogs found\n",
      "No top level hogs found\n",
      "No top level hogs found\n",
      "No top level hogs found\n",
      "No top level hogs found\n",
      "No top level hogs found\n",
      "No top level hogs found\n",
      "No top level hogs found\n",
      "No top level hogs found\n",
      "No top level hogs found\n",
      "No top level hogs found\n",
      "No top level hogs found\n",
      "No top level hogs found\n",
      "No top level hogs found\n",
      "No top level hogs found\n",
      "No top level hogs found\n",
      "No top level hogs found\n",
      "No top level hogs found\n",
      "No top level hogs found\n",
      "No top level hogs found\n"
     ]
    },
    {
     "name": "stderr",
     "output_type": "stream",
     "text": [
      "384it [04:17,  1.62it/s]"
     ]
    },
    {
     "name": "stdout",
     "output_type": "stream",
     "text": [
      "No top level hogs found\n",
      "No top level hogs found\n",
      "No top level hogs found\n",
      "No top level hogs found\n",
      "No top level hogs found\n",
      "No top level hogs found\n",
      "No top level hogs found\n",
      "No top level hogs found\n",
      "No top level hogs found\n",
      "No top level hogs found\n",
      "No top level hogs found\n",
      "No top level hogs found\n",
      "No top level hogs found\n",
      "No top level hogs found\n",
      "No top level hogs found\n",
      "No top level hogs found\n",
      "No top level hogs found\n",
      "No top level hogs found\n",
      "No top level hogs found\n",
      "No top level hogs found\n",
      "No top level hogs found\n",
      "No top level hogs found\n",
      "No top level hogs found\n"
     ]
    },
    {
     "name": "stderr",
     "output_type": "stream",
     "text": [
      "385it [04:18,  1.69it/s]"
     ]
    },
    {
     "name": "stdout",
     "output_type": "stream",
     "text": [
      "No top level hogs found\n",
      "No top level hogs found\n",
      "No top level hogs found\n",
      "No top level hogs found\n",
      "No top level hogs found\n",
      "No top level hogs found\n",
      "No top level hogs found\n",
      "No top level hogs found\n",
      "No top level hogs found\n",
      "No top level hogs found\n",
      "No top level hogs found\n",
      "No top level hogs found\n",
      "No top level hogs found\n"
     ]
    },
    {
     "name": "stderr",
     "output_type": "stream",
     "text": [
      "386it [04:19,  1.63it/s]"
     ]
    },
    {
     "name": "stdout",
     "output_type": "stream",
     "text": [
      "No top level hogs found\n",
      "No top level hogs found\n",
      "No top level hogs found\n",
      "No top level hogs found\n",
      "No top level hogs found\n",
      "No top level hogs found\n",
      "No top level hogs found\n",
      "No top level hogs found\n",
      "No top level hogs found\n",
      "No top level hogs foundNo top level hogs found\n",
      "\n",
      "No top level hogs found\n",
      "No top level hogs found\n",
      "No top level hogs found\n",
      "No top level hogs found\n",
      "No top level hogs found\n",
      "No top level hogs found\n",
      "No top level hogs found\n",
      "No top level hogs found\n",
      "No top level hogs found\n",
      "No top level hogs found\n"
     ]
    },
    {
     "name": "stderr",
     "output_type": "stream",
     "text": [
      "387it [04:19,  1.63it/s]"
     ]
    },
    {
     "name": "stdout",
     "output_type": "stream",
     "text": [
      "No top level hogs found\n",
      "No top level hogs found\n",
      "No top level hogs found\n",
      "No top level hogs found\n",
      "No top level hogs found\n",
      "No top level hogs found\n",
      "No top level hogs found\n",
      "No top level hogs found\n",
      "No top level hogs found\n",
      "No top level hogs found\n",
      "No top level hogs found\n",
      "No top level hogs found\n",
      "No top level hogs found\n",
      "No top level hogs found\n",
      "No top level hogs found\n",
      "No top level hogs found\n",
      "No top level hogs found\n",
      "No top level hogs found\n",
      "No top level hogs found\n",
      "No top level hogs found\n",
      "No top level hogs found\n",
      "No top level hogs found\n",
      "No top level hogs found\n",
      "No top level hogs found\n",
      "No top level hogs found\n"
     ]
    },
    {
     "name": "stderr",
     "output_type": "stream",
     "text": [
      "388it [04:20,  1.60it/s]"
     ]
    },
    {
     "name": "stdout",
     "output_type": "stream",
     "text": [
      "No top level hogs found\n",
      "No top level hogs found\n",
      "No top level hogs found\n",
      "No top level hogs found\n",
      "No top level hogs found\n",
      "No top level hogs found\n",
      "No top level hogs found\n",
      "No top level hogs found\n",
      "No top level hogs found\n",
      "No top level hogs found\n",
      "No top level hogs found\n",
      "No top level hogs found\n",
      "No top level hogs found\n",
      "No top level hogs found\n",
      "No top level hogs found\n",
      "No top level hogs found\n",
      "No top level hogs found\n",
      "No top level hogs found\n",
      "No top level hogs found\n",
      "No top level hogs found\n",
      "No top level hogs found\n"
     ]
    },
    {
     "name": "stderr",
     "output_type": "stream",
     "text": [
      "389it [04:20,  1.62it/s]"
     ]
    },
    {
     "name": "stdout",
     "output_type": "stream",
     "text": [
      "No top level hogs found\n",
      "No top level hogs found\n",
      "No top level hogs found\n",
      "No top level hogs found\n",
      "No top level hogs found\n",
      "No top level hogs found\n",
      "No top level hogs found\n",
      "No top level hogs found\n",
      "No top level hogs found\n",
      "No top level hogs found\n",
      "No top level hogs found\n",
      "No top level hogs found\n",
      "No top level hogs found\n",
      "No top level hogs found\n",
      "No top level hogs found\n",
      "No top level hogs found\n",
      "No top level hogs found\n",
      "No top level hogs found\n",
      "No top level hogs found\n",
      "No top level hogs found\n",
      "No top level hogs found\n",
      "No top level hogs found\n",
      "No top level hogs found\n",
      "No top level hogs found\n",
      "No top level hogs found\n"
     ]
    },
    {
     "name": "stderr",
     "output_type": "stream",
     "text": [
      "390it [04:21,  1.67it/s]"
     ]
    },
    {
     "name": "stdout",
     "output_type": "stream",
     "text": [
      "No top level hogs found\n",
      "No top level hogs found\n",
      "No top level hogs found\n",
      "No top level hogs found\n",
      "No top level hogs found\n",
      "No top level hogs found\n",
      "No top level hogs found\n",
      "No top level hogs found\n",
      "No top level hogs found\n",
      "No top level hogs found\n",
      "No top level hogs found\n",
      "No top level hogs found\n",
      "No top level hogs found\n",
      "No top level hogs found\n",
      "No top level hogs found\n",
      "No top level hogs found\n",
      "No top level hogs found\n",
      "No top level hogs found\n",
      "No top level hogs found\n",
      "No top level hogs found\n",
      "No top level hogs found\n",
      "No top level hogs found\n",
      "No top level hogs found\n",
      "No top level hogs found\n",
      "No top level hogs found\n"
     ]
    },
    {
     "name": "stderr",
     "output_type": "stream",
     "text": [
      "391it [04:22,  1.58it/s]"
     ]
    },
    {
     "name": "stdout",
     "output_type": "stream",
     "text": [
      "No top level hogs found\n",
      "No top level hogs found\n",
      "No top level hogs found\n",
      "No top level hogs found\n",
      "No top level hogs found\n",
      "No top level hogs found\n",
      "No top level hogs found\n",
      "No top level hogs found\n",
      "No top level hogs found\n",
      "No top level hogs found\n",
      "No top level hogs found\n",
      "No top level hogs found\n",
      "No top level hogs found\n",
      "No top level hogs found\n",
      "No top level hogs found\n",
      "No top level hogs found\n",
      "No top level hogs found\n",
      "No top level hogs found\n",
      "No top level hogs found\n",
      "No top level hogs found\n",
      "No top level hogs found\n",
      "No top level hogs found\n",
      "No top level hogs found\n",
      "No top level hogs found\n",
      "No top level hogs found\n",
      "No top level hogs found\n",
      "No top level hogs found"
     ]
    },
    {
     "name": "stderr",
     "output_type": "stream",
     "text": [
      "392it [04:22,  1.57it/s]"
     ]
    },
    {
     "name": "stdout",
     "output_type": "stream",
     "text": [
      "\n",
      "No top level hogs found\n",
      "No top level hogs found\n",
      "No top level hogs found\n",
      "No top level hogs found\n",
      "No top level hogs found\n",
      "No top level hogs found\n",
      "No top level hogs found\n",
      "No top level hogs found\n",
      "No top level hogs found\n",
      "No top level hogs found\n",
      "No top level hogs found\n",
      "No top level hogs found\n",
      "No top level hogs found\n",
      "No top level hogs found\n",
      "No top level hogs found\n",
      "No top level hogs found\n",
      "No top level hogs found\n",
      "No top level hogs found\n",
      "No top level hogs found\n",
      "No top level hogs found\n",
      "No top level hogs found\n",
      "No top level hogs found\n",
      "No top level hogs found\n",
      "No top level hogs found\n",
      "No top level hogs found\n",
      "No top level hogs found\n",
      "No top level hogs found\n",
      "No top level hogs found\n"
     ]
    },
    {
     "name": "stderr",
     "output_type": "stream",
     "text": [
      "393it [04:23,  1.51it/s]"
     ]
    },
    {
     "name": "stdout",
     "output_type": "stream",
     "text": [
      "No top level hogs found\n",
      "No top level hogs found\n",
      "No top level hogs found\n",
      "No top level hogs found\n",
      "No top level hogs found\n",
      "No top level hogs found\n",
      "No top level hogs found\n",
      "No top level hogs found\n",
      "No top level hogs found\n",
      "No top level hogs found\n",
      "No top level hogs found\n",
      "No top level hogs found\n",
      "No top level hogs found\n",
      "No top level hogs found\n",
      "No top level hogs found\n",
      "No top level hogs found\n",
      "No top level hogs found\n",
      "No top level hogs found\n",
      "No top level hogs found\n",
      "No top level hogs found\n",
      "No top level hogs found\n",
      "No top level hogs found\n"
     ]
    },
    {
     "name": "stderr",
     "output_type": "stream",
     "text": [
      "394it [04:24,  1.54it/s]"
     ]
    },
    {
     "name": "stdout",
     "output_type": "stream",
     "text": [
      "No top level hogs found\n",
      "No top level hogs found\n",
      "No top level hogs found\n",
      "No top level hogs found\n",
      "No top level hogs found\n",
      "No top level hogs found\n",
      "No top level hogs found\n",
      "No top level hogs found\n",
      "No top level hogs found\n",
      "No top level hogs found\n",
      "No top level hogs found\n",
      "No top level hogs found\n",
      "No top level hogs found\n",
      "No top level hogs found\n",
      "No top level hogs found\n",
      "No top level hogs found\n",
      "No top level hogs found\n",
      "No top level hogs found\n"
     ]
    },
    {
     "name": "stderr",
     "output_type": "stream",
     "text": [
      "395it [04:24,  1.50it/s]"
     ]
    },
    {
     "name": "stdout",
     "output_type": "stream",
     "text": [
      "No top level hogs found\n",
      "No top level hogs found\n",
      "No top level hogs found\n",
      "No top level hogs found\n",
      "No top level hogs found\n",
      "No top level hogs found\n",
      "No top level hogs found\n",
      "No top level hogs found\n",
      "No top level hogs found\n",
      "No top level hogs found\n",
      "No top level hogs found\n",
      "No top level hogs found\n",
      "No top level hogs found\n",
      "No top level hogs found\n",
      "No top level hogs found\n",
      "No top level hogs found\n",
      "No top level hogs found\n",
      "No top level hogs found\n",
      "No top level hogs found\n",
      "No top level hogs found\n",
      "No top level hogs found\n",
      "No top level hogs found\n",
      "No top level hogs found\n",
      "No top level hogs found\n",
      "No top level hogs found\n",
      "No top level hogs found\n",
      "No top level hogs found\n",
      "No top level hogs found\n",
      "No top level hogs found\n",
      "No top level hogs found\n",
      "No top level hogs found\n",
      "No top level hogs found\n",
      "No top level hogs found\n",
      "No top level hogs found\n",
      "No top level hogs found\n"
     ]
    },
    {
     "name": "stderr",
     "output_type": "stream",
     "text": [
      "396it [04:25,  1.42it/s]"
     ]
    },
    {
     "name": "stdout",
     "output_type": "stream",
     "text": [
      "No top level hogs found\n",
      "No top level hogs found\n",
      "No top level hogs found\n",
      "No top level hogs found\n",
      "No top level hogs found\n",
      "No top level hogs found\n",
      "No top level hogs found\n",
      "No top level hogs found\n",
      "No top level hogs found\n",
      "No top level hogs found\n",
      "No top level hogs found\n",
      "No top level hogs found\n",
      "No top level hogs found\n",
      "No top level hogs found\n",
      "No top level hogs found\n",
      "No top level hogs found\n",
      "No top level hogs found\n",
      "No top level hogs found\n",
      "No top level hogs found\n"
     ]
    },
    {
     "name": "stderr",
     "output_type": "stream",
     "text": [
      "397it [04:26,  1.58it/s]"
     ]
    },
    {
     "name": "stdout",
     "output_type": "stream",
     "text": [
      "No top level hogs found\n",
      "No top level hogs found\n",
      "No top level hogs found\n",
      "No top level hogs found\n",
      "No top level hogs found\n",
      "No top level hogs found\n",
      "No top level hogs found\n",
      "No top level hogs found\n",
      "No top level hogs found\n",
      "No top level hogs found\n",
      "No top level hogs found\n",
      "No top level hogs found\n",
      "No top level hogs found\n",
      "No top level hogs found\n",
      "No top level hogs found\n",
      "No top level hogs found\n",
      "No top level hogs found\n",
      "No top level hogs found\n",
      "No top level hogs found\n",
      "No top level hogs found\n",
      "No top level hogs found\n",
      "No top level hogs found\n",
      "No top level hogs found\n",
      "No top level hogs found\n",
      "No top level hogs found\n"
     ]
    },
    {
     "name": "stderr",
     "output_type": "stream",
     "text": [
      "398it [04:26,  1.53it/s]"
     ]
    },
    {
     "name": "stdout",
     "output_type": "stream",
     "text": [
      "No top level hogs found\n",
      "No top level hogs found\n",
      "No top level hogs found\n",
      "No top level hogs found\n",
      "No top level hogs found\n",
      "No top level hogs found\n",
      "No top level hogs found\n",
      "No top level hogs found\n",
      "No top level hogs found\n",
      "No top level hogs found\n",
      "No top level hogs found\n",
      "No top level hogs found\n",
      "No top level hogs found\n",
      "No top level hogs found\n",
      "No top level hogs found\n",
      "No top level hogs found\n",
      "No top level hogs found\n",
      "No top level hogs found\n",
      "No top level hogs found\n",
      "No top level hogs found\n",
      "No top level hogs found\n",
      "No top level hogs found\n",
      "No top level hogs found\n",
      "No top level hogs found\n",
      "No top level hogs found\n",
      "No top level hogs found\n",
      "No top level hogs found\n",
      "No top level hogs found\n",
      "No top level hogs found\n",
      "No top level hogs found\n",
      "No top level hogs found\n",
      "No top level hogs found\n",
      "No top level hogs found\n",
      "No top level hogs found"
     ]
    },
    {
     "name": "stderr",
     "output_type": "stream",
     "text": [
      "399it [04:27,  1.41it/s]"
     ]
    },
    {
     "name": "stdout",
     "output_type": "stream",
     "text": [
      "\n",
      "No top level hogs found\n",
      "No top level hogs found\n",
      "No top level hogs found\n",
      "No top level hogs found\n",
      "No top level hogs found\n",
      "No top level hogs found\n",
      "No top level hogs found\n",
      "No top level hogs found\n",
      "No top level hogs found\n",
      "No top level hogs found\n",
      "No top level hogs found\n",
      "No top level hogs found\n",
      "No top level hogs found\n",
      "No top level hogs found\n",
      "No top level hogs found\n",
      "No top level hogs found\n",
      "No top level hogs found\n",
      "No top level hogs found\n",
      "No top level hogs found\n",
      "No top level hogs found\n",
      "No top level hogs found\n",
      "No top level hogs found\n",
      "No top level hogs found\n"
     ]
    },
    {
     "name": "stderr",
     "output_type": "stream",
     "text": [
      "400it [04:28,  1.40it/s]"
     ]
    },
    {
     "name": "stdout",
     "output_type": "stream",
     "text": [
      "No top level hogs found\n",
      "No top level hogs found\n",
      "No top level hogs found\n",
      "No top level hogs found\n",
      "No top level hogs found\n",
      "No top level hogs found\n",
      "No top level hogs found\n",
      "No top level hogs found\n",
      "No top level hogs found\n",
      "No top level hogs found\n",
      "No top level hogs found\n",
      "No top level hogs found\n",
      "No top level hogs found\n",
      "No top level hogs found\n",
      "No top level hogs found\n",
      "No top level hogs found\n",
      "No top level hogs found\n",
      "No top level hogs found\n",
      "No top level hogs found\n",
      "No top level hogs found\n",
      "No top level hogs found\n",
      "No top level hogs found\n",
      "No top level hogs found\n",
      "No top level hogs found\n",
      "No top level hogs found\n",
      "No top level hogs found\n",
      "No top level hogs found\n"
     ]
    },
    {
     "name": "stderr",
     "output_type": "stream",
     "text": [
      "401it [04:29,  1.39it/s]"
     ]
    },
    {
     "name": "stdout",
     "output_type": "stream",
     "text": [
      "No top level hogs found\n",
      "No top level hogs found\n",
      "No top level hogs found\n",
      "No top level hogs found\n",
      "No top level hogs found\n",
      "No top level hogs found\n",
      "No top level hogs found\n",
      "No top level hogs found\n",
      "No top level hogs found\n",
      "No top level hogs found\n",
      "No top level hogs found\n",
      "No top level hogs found\n",
      "No top level hogs found\n",
      "No top level hogs found\n",
      "No top level hogs found\n",
      "No top level hogs found\n",
      "No top level hogs found\n",
      "No top level hogs found\n"
     ]
    },
    {
     "name": "stderr",
     "output_type": "stream",
     "text": [
      "402it [04:29,  1.42it/s]"
     ]
    },
    {
     "name": "stdout",
     "output_type": "stream",
     "text": [
      "No top level hogs found\n",
      "No top level hogs found\n",
      "No top level hogs found\n",
      "No top level hogs found\n",
      "No top level hogs found\n",
      "No top level hogs found\n",
      "No top level hogs found\n",
      "No top level hogs found\n",
      "No top level hogs found\n",
      "No top level hogs found\n",
      "No top level hogs found\n",
      "No top level hogs found\n",
      "No top level hogs found\n",
      "No top level hogs found\n",
      "No top level hogs found\n",
      "No top level hogs found\n",
      "No top level hogs found\n",
      "No top level hogs found\n",
      "No top level hogs found\n",
      "No top level hogs found\n",
      "No top level hogs found\n",
      "No top level hogs found\n",
      "No top level hogs found\n"
     ]
    },
    {
     "name": "stderr",
     "output_type": "stream",
     "text": [
      "403it [04:30,  1.36it/s]"
     ]
    },
    {
     "name": "stdout",
     "output_type": "stream",
     "text": [
      "No top level hogs found\n",
      "No top level hogs found\n",
      "No top level hogs found\n",
      "No top level hogs found\n",
      "No top level hogs found\n",
      "No top level hogs found\n",
      "No top level hogs found\n",
      "No top level hogs found\n",
      "No top level hogs found\n",
      "No top level hogs found\n",
      "No top level hogs found\n",
      "No top level hogs found\n",
      "No top level hogs found\n",
      "No top level hogs found\n",
      "No top level hogs found\n",
      "No top level hogs found\n",
      "No top level hogs found\n",
      "No top level hogs found\n",
      "No top level hogs found\n",
      "No top level hogs found\n",
      "No top level hogs found\n",
      "No top level hogs found\n",
      "No top level hogs found\n",
      "No top level hogs found\n",
      "No top level hogs found\n",
      "No top level hogs found\n"
     ]
    },
    {
     "name": "stderr",
     "output_type": "stream",
     "text": [
      "404it [04:31,  1.40it/s]"
     ]
    },
    {
     "name": "stdout",
     "output_type": "stream",
     "text": [
      "No top level hogs found\n",
      "No top level hogs found\n",
      "No top level hogs found\n",
      "No top level hogs found\n",
      "No top level hogs found\n",
      "No top level hogs found\n",
      "No top level hogs found\n",
      "No top level hogs found\n",
      "No top level hogs found\n",
      "No top level hogs found\n",
      "No top level hogs found\n",
      "No top level hogs found\n",
      "No top level hogs found\n",
      "No top level hogs found\n",
      "No top level hogs found\n",
      "No top level hogs found\n",
      "No top level hogs found\n",
      "No top level hogs found\n",
      "No top level hogs found\n",
      "No top level hogs found\n",
      "No top level hogs found\n",
      "No top level hogs found\n"
     ]
    },
    {
     "name": "stderr",
     "output_type": "stream",
     "text": [
      "405it [04:32,  1.35it/s]"
     ]
    },
    {
     "name": "stdout",
     "output_type": "stream",
     "text": [
      "No top level hogs found\n",
      "No top level hogs found\n",
      "No top level hogs found\n",
      "No top level hogs found\n",
      "No top level hogs found\n",
      "No top level hogs found\n",
      "No top level hogs found\n",
      "No top level hogs found\n",
      "No top level hogs found\n",
      "No top level hogs found\n",
      "No top level hogs found\n",
      "No top level hogs found\n",
      "No top level hogs found\n",
      "No top level hogs found\n",
      "No top level hogs found\n",
      "No top level hogs found\n",
      "No top level hogs found\n",
      "No top level hogs found\n",
      "No top level hogs found\n",
      "No top level hogs found\n",
      "No top level hogs found\n",
      "No top level hogs found\n",
      "No top level hogs found\n",
      "No top level hogs found\n",
      "No top level hogs found\n",
      "No top level hogs found\n"
     ]
    },
    {
     "name": "stderr",
     "output_type": "stream",
     "text": [
      "406it [04:32,  1.42it/s]"
     ]
    },
    {
     "name": "stdout",
     "output_type": "stream",
     "text": [
      "No top level hogs found\n",
      "No top level hogs found\n",
      "No top level hogs found\n",
      "No top level hogs found\n",
      "No top level hogs found\n",
      "No top level hogs found\n",
      "No top level hogs found\n",
      "No top level hogs found\n",
      "No top level hogs found\n",
      "No top level hogs found\n",
      "No top level hogs found\n",
      "No top level hogs found\n",
      "No top level hogs found\n",
      "No top level hogs found\n",
      "No top level hogs found\n",
      "No top level hogs found\n",
      "No top level hogs found\n",
      "No top level hogs found\n",
      "No top level hogs found\n",
      "No top level hogs found\n",
      "No top level hogs found\n",
      "No top level hogs found\n"
     ]
    },
    {
     "name": "stderr",
     "output_type": "stream",
     "text": [
      "407it [04:33,  1.53it/s]"
     ]
    },
    {
     "name": "stdout",
     "output_type": "stream",
     "text": [
      "No top level hogs found\n",
      "No top level hogs found\n",
      "No top level hogs found\n",
      "No top level hogs found\n",
      "No top level hogs found\n",
      "No top level hogs found\n",
      "No top level hogs found\n",
      "No top level hogs found\n",
      "No top level hogs found\n",
      "No top level hogs found\n",
      "No top level hogs found\n",
      "No top level hogs found\n",
      "No top level hogs found\n",
      "No top level hogs found\n",
      "No top level hogs found\n",
      "No top level hogs found\n",
      "No top level hogs found\n",
      "No top level hogs found\n",
      "No top level hogs found\n",
      "No top level hogs found\n"
     ]
    },
    {
     "name": "stderr",
     "output_type": "stream",
     "text": [
      "408it [04:33,  1.53it/s]"
     ]
    },
    {
     "name": "stdout",
     "output_type": "stream",
     "text": [
      "No top level hogs found\n",
      "No top level hogs found\n",
      "No top level hogs found\n",
      "No top level hogs found\n",
      "No top level hogs found\n",
      "No top level hogs found\n",
      "No top level hogs found\n",
      "No top level hogs found\n",
      "No top level hogs found\n",
      "No top level hogs found\n",
      "No top level hogs found\n",
      "No top level hogs found\n",
      "No top level hogs found\n",
      "No top level hogs found\n",
      "No top level hogs found\n",
      "No top level hogs found\n",
      "No top level hogs found\n",
      "No top level hogs found\n",
      "No top level hogs found\n",
      "No top level hogs found\n",
      "No top level hogs found\n",
      "No top level hogs found\n",
      "No top level hogs found\n",
      "No top level hogs found\n",
      "No top level hogs found\n",
      "No top level hogs found\n",
      "No top level hogs found\n",
      "No top level hogs found\n",
      "No top level hogs found\n"
     ]
    },
    {
     "name": "stderr",
     "output_type": "stream",
     "text": [
      "409it [04:34,  1.50it/s]"
     ]
    },
    {
     "name": "stdout",
     "output_type": "stream",
     "text": [
      "No top level hogs found\n",
      "No top level hogs found\n",
      "No top level hogs found\n",
      "No top level hogs found\n",
      "No top level hogs found\n",
      "No top level hogs found\n",
      "No top level hogs found\n",
      "No top level hogs found\n",
      "No top level hogs found\n",
      "No top level hogs found\n",
      "No top level hogs found\n",
      "No top level hogs found\n",
      "No top level hogs found\n",
      "No top level hogs found\n",
      "No top level hogs found\n",
      "No top level hogs found\n",
      "No top level hogs found\n",
      "No top level hogs found\n",
      "No top level hogs found\n",
      "No top level hogs found\n",
      "No top level hogs found\n",
      "No top level hogs found\n",
      "No top level hogs found\n",
      "No top level hogs found\n",
      "No top level hogs found\n",
      "No top level hogs found\n",
      "No top level hogs found\n"
     ]
    },
    {
     "name": "stderr",
     "output_type": "stream",
     "text": [
      "410it [04:35,  1.50it/s]"
     ]
    },
    {
     "name": "stdout",
     "output_type": "stream",
     "text": [
      "No top level hogs found\n",
      "No top level hogs found\n",
      "No top level hogs found\n",
      "No top level hogs found\n",
      "No top level hogs found\n",
      "No top level hogs found\n",
      "No top level hogs found\n",
      "No top level hogs found\n",
      "No top level hogs found\n",
      "No top level hogs found\n",
      "No top level hogs found\n",
      "No top level hogs found\n",
      "No top level hogs found\n",
      "No top level hogs found\n",
      "No top level hogs found\n",
      "No top level hogs found\n",
      "No top level hogs found\n",
      "No top level hogs found\n",
      "No top level hogs found\n",
      "No top level hogs found\n",
      "No top level hogs found\n",
      "No top level hogs found\n",
      "No top level hogs found\n",
      "No top level hogs found\n",
      "No top level hogs found\n",
      "No top level hogs found\n",
      "No top level hogs found\n",
      "No top level hogs found\n",
      "No top level hogs found\n",
      "No top level hogs found"
     ]
    },
    {
     "name": "stderr",
     "output_type": "stream",
     "text": [
      "411it [04:36,  1.45it/s]"
     ]
    },
    {
     "name": "stdout",
     "output_type": "stream",
     "text": [
      "\n",
      "No top level hogs found\n",
      "No top level hogs found\n",
      "No top level hogs found\n",
      "No top level hogs found\n",
      "No top level hogs found\n",
      "No top level hogs found\n",
      "No top level hogs found\n",
      "No top level hogs found\n",
      "No top level hogs found\n",
      "No top level hogs found\n",
      "No top level hogs found\n",
      "No top level hogs found\n",
      "No top level hogs found\n",
      "No top level hogs found\n",
      "No top level hogs found\n",
      "No top level hogs found\n",
      "No top level hogs found\n",
      "No top level hogs found\n",
      "No top level hogs found\n",
      "No top level hogs found\n",
      "No top level hogs found\n",
      "No top level hogs found\n",
      "No top level hogs found\n",
      "No top level hogs found\n"
     ]
    },
    {
     "name": "stderr",
     "output_type": "stream",
     "text": [
      "412it [04:36,  1.47it/s]"
     ]
    },
    {
     "name": "stdout",
     "output_type": "stream",
     "text": [
      "No top level hogs found\n",
      "No top level hogs found\n",
      "No top level hogs found\n",
      "No top level hogs found\n",
      "No top level hogs found\n",
      "No top level hogs found\n",
      "No top level hogs found\n",
      "No top level hogs found\n",
      "No top level hogs found\n",
      "No top level hogs found\n",
      "No top level hogs found\n",
      "No top level hogs found\n",
      "No top level hogs found\n",
      "No top level hogs found\n",
      "No top level hogs found\n",
      "No top level hogs found\n",
      "No top level hogs found\n",
      "No top level hogs found\n",
      "No top level hogs found\n",
      "No top level hogs found\n",
      "No top level hogs found\n",
      "No top level hogs found\n",
      "No top level hogs found\n",
      "No top level hogs found\n",
      "No top level hogs found\n",
      "No top level hogs found"
     ]
    },
    {
     "name": "stderr",
     "output_type": "stream",
     "text": [
      "413it [04:37,  1.45it/s]"
     ]
    },
    {
     "name": "stdout",
     "output_type": "stream",
     "text": [
      "\n",
      "No top level hogs found\n",
      "No top level hogs found\n",
      "No top level hogs found\n",
      "No top level hogs found\n",
      "No top level hogs found\n",
      "No top level hogs found\n",
      "No top level hogs found\n",
      "No top level hogs found\n",
      "No top level hogs found\n",
      "No top level hogs found\n",
      "No top level hogs found\n",
      "No top level hogs found\n",
      "No top level hogs found\n",
      "No top level hogs found\n",
      "No top level hogs found\n",
      "No top level hogs found\n",
      "No top level hogs found\n",
      "No top level hogs found\n",
      "No top level hogs found\n",
      "No top level hogs found\n",
      "No top level hogs found\n",
      "No top level hogs found\n",
      "No top level hogs found\n",
      "No top level hogs found\n",
      "No top level hogs found\n",
      "No top level hogs found\n",
      "No top level hogs found\n",
      "No top level hogs found\n",
      "No top level hogs found\n",
      "No top level hogs found\n",
      "No top level hogs found\n",
      "No top level hogs found\n",
      "No top level hogs found"
     ]
    },
    {
     "name": "stderr",
     "output_type": "stream",
     "text": [
      "414it [04:38,  1.40it/s]"
     ]
    },
    {
     "name": "stdout",
     "output_type": "stream",
     "text": [
      "\n",
      "No top level hogs found\n",
      "No top level hogs found\n",
      "No top level hogs found\n",
      "No top level hogs found\n",
      "No top level hogs found\n",
      "No top level hogs found\n",
      "No top level hogs found\n",
      "No top level hogs found\n",
      "No top level hogs found\n",
      "No top level hogs found\n",
      "No top level hogs found\n",
      "No top level hogs found\n",
      "No top level hogs found\n",
      "No top level hogs found\n",
      "No top level hogs found\n",
      "No top level hogs found\n",
      "No top level hogs found"
     ]
    },
    {
     "name": "stderr",
     "output_type": "stream",
     "text": [
      "415it [04:38,  1.49it/s]"
     ]
    },
    {
     "name": "stdout",
     "output_type": "stream",
     "text": [
      "\n",
      "No top level hogs found\n",
      "No top level hogs found\n",
      "No top level hogs found\n",
      "No top level hogs found\n",
      "No top level hogs found\n",
      "No top level hogs found\n",
      "No top level hogs found\n",
      "No top level hogs found\n",
      "No top level hogs found\n",
      "No top level hogs found\n",
      "No top level hogs found\n",
      "No top level hogs found\n",
      "No top level hogs found\n",
      "No top level hogs found\n",
      "No top level hogs found\n",
      "No top level hogs found\n",
      "No top level hogs found\n",
      "No top level hogs found\n",
      "No top level hogs found\n",
      "No top level hogs found\n",
      "No top level hogs found\n",
      "No top level hogs found\n",
      "No top level hogs found\n",
      "No top level hogs found\n",
      "No top level hogs found\n",
      "No top level hogs found\n",
      "No top level hogs found\n",
      "No top level hogs found\n"
     ]
    },
    {
     "name": "stderr",
     "output_type": "stream",
     "text": [
      "416it [04:39,  1.46it/s]"
     ]
    },
    {
     "name": "stdout",
     "output_type": "stream",
     "text": [
      "No top level hogs found\n",
      "No top level hogs found\n",
      "No top level hogs found\n",
      "No top level hogs found\n",
      "No top level hogs found\n",
      "No top level hogs found\n",
      "No top level hogs found\n",
      "No top level hogs found\n",
      "No top level hogs found\n",
      "No top level hogs found\n",
      "No top level hogs found\n",
      "No top level hogs found\n",
      "No top level hogs found\n",
      "No top level hogs found\n",
      "No top level hogs found\n",
      "No top level hogs found\n",
      "No top level hogs found\n",
      "No top level hogs found\n",
      "No top level hogs found\n",
      "No top level hogs found\n",
      "No top level hogs found\n",
      "No top level hogs found\n"
     ]
    },
    {
     "name": "stderr",
     "output_type": "stream",
     "text": [
      "417it [04:40,  1.37it/s]"
     ]
    },
    {
     "name": "stdout",
     "output_type": "stream",
     "text": [
      "No top level hogs found\n",
      "No top level hogs found\n",
      "No top level hogs found\n",
      "No top level hogs found\n",
      "No top level hogs found\n",
      "No top level hogs found\n",
      "No top level hogs found\n",
      "No top level hogs found\n",
      "No top level hogs found\n",
      "No top level hogs found\n",
      "No top level hogs found\n",
      "No top level hogs found\n",
      "No top level hogs found\n",
      "No top level hogs found\n",
      "No top level hogs found\n",
      "No top level hogs found\n",
      "No top level hogs found\n",
      "No top level hogs found\n",
      "No top level hogs found\n",
      "No top level hogs found\n",
      "No top level hogs found\n",
      "No top level hogs found\n"
     ]
    },
    {
     "name": "stderr",
     "output_type": "stream",
     "text": [
      "418it [04:41,  1.35it/s]"
     ]
    },
    {
     "name": "stdout",
     "output_type": "stream",
     "text": [
      "No top level hogs found\n",
      "No top level hogs found\n",
      "No top level hogs found\n",
      "No top level hogs found\n",
      "No top level hogs found\n",
      "No top level hogs found\n",
      "No top level hogs found\n",
      "No top level hogs found\n",
      "No top level hogs found\n",
      "No top level hogs found\n",
      "No top level hogs found\n",
      "No top level hogs found\n",
      "No top level hogs found\n",
      "No top level hogs found\n",
      "No top level hogs found\n",
      "No top level hogs found\n",
      "No top level hogs found\n",
      "No top level hogs found\n",
      "No top level hogs found\n",
      "No top level hogs found\n",
      "No top level hogs found\n",
      "No top level hogs found\n",
      "No top level hogs found\n",
      "No top level hogs found"
     ]
    },
    {
     "name": "stderr",
     "output_type": "stream",
     "text": [
      "419it [04:41,  1.43it/s]"
     ]
    },
    {
     "name": "stdout",
     "output_type": "stream",
     "text": [
      "\n",
      "No top level hogs found\n",
      "No top level hogs found\n",
      "No top level hogs found\n",
      "No top level hogs found\n",
      "No top level hogs found\n",
      "No top level hogs found\n",
      "No top level hogs found\n",
      "No top level hogs found\n",
      "No top level hogs found\n",
      "No top level hogs found\n",
      "No top level hogs found\n",
      "No top level hogs found\n",
      "No top level hogs found\n",
      "No top level hogs found\n",
      "No top level hogs found\n",
      "No top level hogs found\n",
      "No top level hogs found\n",
      "No top level hogs found\n",
      "No top level hogs found\n",
      "No top level hogs found\n",
      "No top level hogs found\n",
      "No top level hogs found\n",
      "No top level hogs found\n",
      "No top level hogs found\n",
      "No top level hogs found\n"
     ]
    },
    {
     "name": "stderr",
     "output_type": "stream",
     "text": [
      "420it [04:42,  1.42it/s]"
     ]
    },
    {
     "name": "stdout",
     "output_type": "stream",
     "text": [
      "No top level hogs found\n",
      "No top level hogs found\n",
      "No top level hogs found\n",
      "No top level hogs found\n",
      "No top level hogs found\n",
      "No top level hogs found\n",
      "No top level hogs found\n",
      "No top level hogs found\n",
      "No top level hogs found\n",
      "No top level hogs found\n",
      "No top level hogs found\n",
      "No top level hogs found\n",
      "No top level hogs found\n",
      "No top level hogs found\n",
      "No top level hogs found\n",
      "No top level hogs found\n",
      "No top level hogs found\n",
      "No top level hogs found\n",
      "No top level hogs found\n",
      "No top level hogs found\n",
      "No top level hogs found\n",
      "No top level hogs found\n",
      "No top level hogs found\n",
      "No top level hogs found\n",
      "No top level hogs found\n",
      "No top level hogs found\n",
      "No top level hogs found\n",
      "No top level hogs found"
     ]
    },
    {
     "name": "stderr",
     "output_type": "stream",
     "text": [
      "421it [04:43,  1.43it/s]"
     ]
    },
    {
     "name": "stdout",
     "output_type": "stream",
     "text": [
      "\n",
      "No top level hogs found\n",
      "No top level hogs found\n",
      "No top level hogs found\n",
      "No top level hogs found\n",
      "No top level hogs found\n",
      "No top level hogs found\n",
      "No top level hogs found\n",
      "No top level hogs found\n",
      "No top level hogs found\n",
      "No top level hogs found\n",
      "No top level hogs found\n",
      "No top level hogs found\n",
      "No top level hogs found\n",
      "No top level hogs found\n",
      "No top level hogs found\n",
      "No top level hogs found\n",
      "No top level hogs found\n",
      "No top level hogs found\n",
      "No top level hogs found\n",
      "No top level hogs found\n",
      "No top level hogs found\n",
      "No top level hogs found\n",
      "No top level hogs found\n"
     ]
    },
    {
     "name": "stderr",
     "output_type": "stream",
     "text": [
      "422it [04:43,  1.49it/s]"
     ]
    },
    {
     "name": "stdout",
     "output_type": "stream",
     "text": [
      "No top level hogs found\n",
      "No top level hogs found\n",
      "No top level hogs found\n",
      "No top level hogs found\n",
      "No top level hogs found\n",
      "No top level hogs found\n",
      "No top level hogs found\n",
      "No top level hogs found\n",
      "No top level hogs found\n",
      "No top level hogs found\n",
      "No top level hogs found\n",
      "No top level hogs found\n",
      "No top level hogs found\n",
      "No top level hogs found\n",
      "No top level hogs found\n",
      "No top level hogs found\n",
      "No top level hogs found\n",
      "No top level hogs found\n",
      "No top level hogs found\n",
      "No top level hogs found\n",
      "No top level hogs found\n",
      "No top level hogs found\n",
      "No top level hogs found\n",
      "No top level hogs found\n",
      "No top level hogs found\n",
      "No top level hogs found\n",
      "No top level hogs found\n",
      "No top level hogs found\n",
      "No top level hogs found"
     ]
    },
    {
     "name": "stderr",
     "output_type": "stream",
     "text": [
      "423it [04:44,  1.45it/s]"
     ]
    },
    {
     "name": "stdout",
     "output_type": "stream",
     "text": [
      "\n",
      "No top level hogs found\n",
      "No top level hogs found\n",
      "No top level hogs found\n",
      "No top level hogs found\n",
      "No top level hogs found\n",
      "No top level hogs found\n",
      "No top level hogs found\n",
      "No top level hogs found\n",
      "No top level hogs found\n",
      "No top level hogs found\n",
      "No top level hogs found\n",
      "No top level hogs found\n",
      "No top level hogs found\n",
      "No top level hogs found\n",
      "No top level hogs found\n",
      "No top level hogs found\n",
      "No top level hogs found\n",
      "No top level hogs found\n",
      "No top level hogs found\n",
      "No top level hogs found\n",
      "No top level hogs found\n",
      "No top level hogs found\n",
      "No top level hogs found"
     ]
    },
    {
     "name": "stderr",
     "output_type": "stream",
     "text": [
      "424it [04:45,  1.51it/s]"
     ]
    },
    {
     "name": "stdout",
     "output_type": "stream",
     "text": [
      "\n",
      "No top level hogs found\n",
      "No top level hogs found\n",
      "No top level hogs found\n",
      "No top level hogs found\n",
      "No top level hogs found\n",
      "No top level hogs found\n",
      "No top level hogs found\n",
      "No top level hogs found\n",
      "No top level hogs found\n",
      "No top level hogs found\n",
      "No top level hogs found\n",
      "No top level hogs found\n",
      "No top level hogs found\n",
      "No top level hogs found\n",
      "No top level hogs found\n",
      "No top level hogs found\n",
      "No top level hogs found\n",
      "No top level hogs found\n",
      "No top level hogs found\n",
      "No top level hogs found\n",
      "No top level hogs found\n",
      "No top level hogs found\n",
      "No top level hogs found\n",
      "No top level hogs found\n"
     ]
    },
    {
     "name": "stderr",
     "output_type": "stream",
     "text": [
      "425it [04:45,  1.53it/s]"
     ]
    },
    {
     "name": "stdout",
     "output_type": "stream",
     "text": [
      "No top level hogs found\n",
      "No top level hogs found\n",
      "No top level hogs found\n",
      "No top level hogs found\n",
      "No top level hogs found\n",
      "No top level hogs found\n",
      "No top level hogs found\n",
      "No top level hogs found\n",
      "No top level hogs found\n",
      "No top level hogs found\n",
      "No top level hogs found\n",
      "No top level hogs found\n",
      "No top level hogs found\n",
      "No top level hogs found\n",
      "No top level hogs found\n",
      "No top level hogs found\n",
      "No top level hogs found\n",
      "No top level hogs found\n",
      "No top level hogs found\n",
      "No top level hogs found\n",
      "No top level hogs found\n",
      "No top level hogs found\n",
      "No top level hogs found\n"
     ]
    },
    {
     "name": "stderr",
     "output_type": "stream",
     "text": [
      "426it [04:46,  1.54it/s]"
     ]
    },
    {
     "name": "stdout",
     "output_type": "stream",
     "text": [
      "No top level hogs found\n",
      "No top level hogs found\n",
      "No top level hogs found\n",
      "No top level hogs found\n",
      "No top level hogs found\n",
      "No top level hogs found\n",
      "No top level hogs found\n",
      "No top level hogs found\n",
      "No top level hogs found\n",
      "No top level hogs found\n",
      "No top level hogs found\n",
      "No top level hogs found\n",
      "No top level hogs found\n",
      "No top level hogs found\n",
      "No top level hogs found\n",
      "No top level hogs found\n",
      "No top level hogs found\n",
      "No top level hogs found\n",
      "No top level hogs found\n",
      "No top level hogs found\n",
      "No top level hogs found\n",
      "No top level hogs found\n",
      "No top level hogs found\n",
      "No top level hogs found\n",
      "No top level hogs found\n",
      "No top level hogs found\n"
     ]
    },
    {
     "name": "stderr",
     "output_type": "stream",
     "text": [
      "427it [04:46,  1.53it/s]"
     ]
    },
    {
     "name": "stdout",
     "output_type": "stream",
     "text": [
      "No top level hogs found\n",
      "No top level hogs found\n",
      "No top level hogs found\n",
      "No top level hogs found\n",
      "No top level hogs found\n",
      "No top level hogs found\n",
      "No top level hogs found\n",
      "No top level hogs found\n",
      "No top level hogs found\n",
      "No top level hogs found\n",
      "No top level hogs found\n",
      "No top level hogs found\n",
      "No top level hogs found\n",
      "No top level hogs found\n",
      "No top level hogs found\n",
      "No top level hogs found\n",
      "No top level hogs found\n",
      "No top level hogs found\n",
      "No top level hogs found\n",
      "No top level hogs found\n",
      "No top level hogs found\n",
      "No top level hogs found\n",
      "No top level hogs found\n",
      "No top level hogs found\n",
      "No top level hogs found\n",
      "No top level hogs found\n",
      "No top level hogs found\n",
      "No top level hogs found\n"
     ]
    },
    {
     "name": "stderr",
     "output_type": "stream",
     "text": [
      "428it [04:47,  1.48it/s]"
     ]
    },
    {
     "name": "stdout",
     "output_type": "stream",
     "text": [
      "No top level hogs found\n",
      "No top level hogs found\n",
      "No top level hogs found\n",
      "No top level hogs found\n",
      "No top level hogs found\n",
      "No top level hogs found\n",
      "No top level hogs found\n",
      "No top level hogs found\n",
      "No top level hogs found\n",
      "No top level hogs found\n",
      "No top level hogs found\n",
      "No top level hogs found\n",
      "No top level hogs found\n",
      "No top level hogs found\n",
      "No top level hogs found\n",
      "No top level hogs found\n",
      "No top level hogs found\n",
      "No top level hogs found\n",
      "No top level hogs found\n",
      "No top level hogs found\n",
      "No top level hogs found\n",
      "No top level hogs found"
     ]
    },
    {
     "name": "stderr",
     "output_type": "stream",
     "text": [
      "429it [04:48,  1.52it/s]"
     ]
    },
    {
     "name": "stdout",
     "output_type": "stream",
     "text": [
      "\n",
      "No top level hogs found\n",
      "No top level hogs found\n",
      "No top level hogs found\n",
      "No top level hogs found\n",
      "No top level hogs found\n",
      "No top level hogs found\n",
      "No top level hogs found\n",
      "No top level hogs found\n",
      "No top level hogs found\n",
      "No top level hogs found\n",
      "No top level hogs found\n",
      "No top level hogs found\n",
      "No top level hogs found\n",
      "No top level hogs found\n",
      "No top level hogs found\n",
      "No top level hogs found\n",
      "No top level hogs found\n",
      "No top level hogs found\n",
      "No top level hogs found\n",
      "No top level hogs found\n",
      "No top level hogs found\n",
      "No top level hogs found\n",
      "No top level hogs found\n",
      "No top level hogs found\n",
      "No top level hogs found\n",
      "No top level hogs found\n"
     ]
    },
    {
     "name": "stderr",
     "output_type": "stream",
     "text": [
      "430it [04:48,  1.50it/s]"
     ]
    },
    {
     "name": "stdout",
     "output_type": "stream",
     "text": [
      "No top level hogs found\n",
      "No top level hogs found\n",
      "No top level hogs found\n",
      "No top level hogs found\n",
      "No top level hogs found\n",
      "No top level hogs found\n",
      "No top level hogs found\n",
      "No top level hogs found\n",
      "No top level hogs found\n",
      "No top level hogs found\n",
      "No top level hogs found\n",
      "No top level hogs found\n",
      "No top level hogs found\n",
      "No top level hogs found\n",
      "No top level hogs found\n",
      "No top level hogs found\n",
      "No top level hogs found\n",
      "No top level hogs found\n",
      "No top level hogs found\n",
      "No top level hogs found\n",
      "No top level hogs found\n",
      "No top level hogs found\n",
      "No top level hogs found"
     ]
    },
    {
     "name": "stderr",
     "output_type": "stream",
     "text": [
      "431it [04:49,  1.54it/s]"
     ]
    },
    {
     "name": "stdout",
     "output_type": "stream",
     "text": [
      "\n",
      "No top level hogs found\n",
      "No top level hogs found\n",
      "No top level hogs found\n",
      "No top level hogs found\n",
      "No top level hogs found\n",
      "No top level hogs found\n",
      "No top level hogs found\n",
      "No top level hogs found\n",
      "No top level hogs found\n",
      "No top level hogs found\n",
      "No top level hogs found\n",
      "No top level hogs found\n",
      "No top level hogs found\n",
      "No top level hogs found\n",
      "No top level hogs found\n",
      "No top level hogs found\n",
      "No top level hogs found\n",
      "No top level hogs found\n",
      "No top level hogs found\n",
      "No top level hogs found\n",
      "No top level hogs found\n",
      "No top level hogs found\n",
      "No top level hogs found\n",
      "No top level hogs found\n"
     ]
    },
    {
     "name": "stderr",
     "output_type": "stream",
     "text": [
      "432it [04:50,  1.50it/s]"
     ]
    },
    {
     "name": "stdout",
     "output_type": "stream",
     "text": [
      "No top level hogs found\n",
      "No top level hogs found\n",
      "No top level hogs found\n",
      "No top level hogs found\n",
      "No top level hogs found\n",
      "No top level hogs found\n",
      "No top level hogs found\n",
      "No top level hogs found\n",
      "No top level hogs found\n",
      "No top level hogs found\n",
      "No top level hogs found\n",
      "No top level hogs found\n",
      "No top level hogs found\n",
      "No top level hogs found\n",
      "No top level hogs found\n",
      "No top level hogs found\n",
      "No top level hogs found\n",
      "No top level hogs found\n",
      "No top level hogs found\n",
      "No top level hogs found\n",
      "No top level hogs found\n",
      "No top level hogs found\n",
      "No top level hogs found\n",
      "No top level hogs found\n"
     ]
    },
    {
     "name": "stderr",
     "output_type": "stream",
     "text": [
      "433it [04:50,  1.50it/s]"
     ]
    },
    {
     "name": "stdout",
     "output_type": "stream",
     "text": [
      "No top level hogs found\n",
      "No top level hogs found\n",
      "No top level hogs found\n",
      "No top level hogs found\n",
      "No top level hogs found\n",
      "No top level hogs found\n",
      "No top level hogs found\n",
      "No top level hogs found\n",
      "No top level hogs found\n",
      "No top level hogs found\n",
      "No top level hogs found\n",
      "No top level hogs found\n",
      "No top level hogs found\n",
      "No top level hogs found\n",
      "No top level hogs found\n",
      "No top level hogs found\n",
      "No top level hogs found\n",
      "No top level hogs found\n",
      "No top level hogs found\n"
     ]
    },
    {
     "name": "stderr",
     "output_type": "stream",
     "text": [
      "434it [04:51,  1.51it/s]"
     ]
    },
    {
     "name": "stdout",
     "output_type": "stream",
     "text": [
      "No top level hogs found\n",
      "No top level hogs found\n",
      "No top level hogs found\n",
      "No top level hogs found\n",
      "No top level hogs found\n",
      "No top level hogs found\n",
      "No top level hogs found\n",
      "No top level hogs found\n",
      "No top level hogs found\n",
      "No top level hogs found\n",
      "No top level hogs found\n",
      "No top level hogs found\n",
      "No top level hogs found\n",
      "No top level hogs found\n",
      "No top level hogs found\n",
      "No top level hogs found\n",
      "No top level hogs found\n",
      "No top level hogs found\n",
      "No top level hogs found\n",
      "No top level hogs found\n",
      "No top level hogs found\n",
      "No top level hogs found\n",
      "No top level hogs found\n",
      "No top level hogs found\n",
      "No top level hogs found\n",
      "No top level hogs found\n",
      "No top level hogs found\n",
      "No top level hogs found\n",
      "No top level hogs found\n",
      "No top level hogs found\n",
      "No top level hogs found\n"
     ]
    },
    {
     "name": "stderr",
     "output_type": "stream",
     "text": [
      "435it [04:52,  1.50it/s]"
     ]
    },
    {
     "name": "stdout",
     "output_type": "stream",
     "text": [
      "No top level hogs found\n",
      "No top level hogs found\n",
      "No top level hogs found\n",
      "No top level hogs found\n",
      "No top level hogs found\n",
      "No top level hogs found\n",
      "No top level hogs found\n",
      "No top level hogs found\n",
      "No top level hogs found\n",
      "No top level hogs found\n",
      "No top level hogs found\n",
      "No top level hogs found\n",
      "No top level hogs found\n",
      "No top level hogs found\n",
      "No top level hogs found\n",
      "No top level hogs found\n",
      "No top level hogs found\n",
      "No top level hogs found\n",
      "No top level hogs found\n",
      "No top level hogs found\n",
      "No top level hogs found\n",
      "No top level hogs found\n",
      "No top level hogs found\n",
      "No top level hogs found"
     ]
    },
    {
     "name": "stderr",
     "output_type": "stream",
     "text": [
      "436it [04:52,  1.54it/s]"
     ]
    },
    {
     "name": "stdout",
     "output_type": "stream",
     "text": [
      "\n",
      "No top level hogs found\n",
      "No top level hogs found\n",
      "No top level hogs found\n",
      "No top level hogs found\n",
      "No top level hogs found\n",
      "No top level hogs found\n",
      "No top level hogs found\n",
      "No top level hogs found\n",
      "No top level hogs found\n",
      "No top level hogs found\n",
      "No top level hogs found\n",
      "No top level hogs found\n",
      "No top level hogs found\n",
      "No top level hogs found\n",
      "No top level hogs found\n",
      "No top level hogs found\n",
      "No top level hogs found\n",
      "No top level hogs found\n",
      "No top level hogs found\n",
      "No top level hogs found\n",
      "No top level hogs found\n",
      "No top level hogs found\n",
      "No top level hogs found"
     ]
    },
    {
     "name": "stderr",
     "output_type": "stream",
     "text": [
      "437it [04:53,  1.57it/s]"
     ]
    },
    {
     "name": "stdout",
     "output_type": "stream",
     "text": [
      "\n",
      "No top level hogs found\n",
      "No top level hogs found\n",
      "No top level hogs found\n",
      "No top level hogs found\n",
      "No top level hogs found\n",
      "No top level hogs found\n",
      "No top level hogs found\n",
      "No top level hogs found\n",
      "No top level hogs found\n",
      "No top level hogs found\n",
      "No top level hogs found\n",
      "No top level hogs found\n",
      "No top level hogs found\n",
      "No top level hogs found\n",
      "No top level hogs found"
     ]
    },
    {
     "name": "stderr",
     "output_type": "stream",
     "text": [
      "438it [04:54,  1.45it/s]"
     ]
    },
    {
     "name": "stdout",
     "output_type": "stream",
     "text": [
      "\n",
      "No top level hogs found\n",
      "No top level hogs found\n",
      "No top level hogs found\n",
      "No top level hogs found\n",
      "No top level hogs found\n",
      "No top level hogs found\n",
      "No top level hogs found\n",
      "No top level hogs found\n",
      "No top level hogs found\n",
      "No top level hogs found\n",
      "No top level hogs found\n",
      "No top level hogs found\n",
      "No top level hogs found\n",
      "No top level hogs found\n",
      "No top level hogs found\n",
      "No top level hogs found\n",
      "No top level hogs found\n",
      "No top level hogs found\n",
      "No top level hogs found\n",
      "No top level hogs found\n",
      "No top level hogs found\n",
      "No top level hogs found\n",
      "No top level hogs found\n",
      "No top level hogs found\n",
      "No top level hogs found\n",
      "No top level hogs found\n",
      "No top level hogs found\n",
      "No top level hogs found\n"
     ]
    },
    {
     "name": "stderr",
     "output_type": "stream",
     "text": [
      "439it [04:54,  1.49it/s]"
     ]
    },
    {
     "name": "stdout",
     "output_type": "stream",
     "text": [
      "No top level hogs found\n",
      "No top level hogs found\n",
      "No top level hogs found\n",
      "No top level hogs found\n",
      "No top level hogs found\n",
      "No top level hogs found\n",
      "No top level hogs found\n",
      "No top level hogs found\n",
      "No top level hogs found\n",
      "No top level hogs found\n",
      "No top level hogs found\n",
      "No top level hogs found\n",
      "No top level hogs found\n",
      "No top level hogs found\n",
      "No top level hogs found\n",
      "No top level hogs found\n",
      "No top level hogs found\n",
      "No top level hogs found\n",
      "No top level hogs found\n"
     ]
    },
    {
     "name": "stderr",
     "output_type": "stream",
     "text": [
      "440it [04:55,  1.55it/s]"
     ]
    },
    {
     "name": "stdout",
     "output_type": "stream",
     "text": [
      "No top level hogs found\n",
      "No top level hogs found\n",
      "No top level hogs found\n",
      "No top level hogs found\n",
      "No top level hogs found\n",
      "No top level hogs found\n",
      "No top level hogs found\n",
      "No top level hogs found\n",
      "No top level hogs found\n",
      "No top level hogs found\n",
      "No top level hogs found\n",
      "No top level hogs found\n",
      "No top level hogs found\n",
      "No top level hogs found\n",
      "No top level hogs found\n",
      "No top level hogs found\n",
      "No top level hogs found\n",
      "No top level hogs found\n",
      "No top level hogs found\n",
      "No top level hogs found\n",
      "No top level hogs found\n",
      "No top level hogs found\n",
      "No top level hogs found"
     ]
    },
    {
     "name": "stderr",
     "output_type": "stream",
     "text": [
      "441it [04:56,  1.55it/s]"
     ]
    },
    {
     "name": "stdout",
     "output_type": "stream",
     "text": [
      "\n",
      "No top level hogs found\n",
      "No top level hogs found\n",
      "No top level hogs found\n",
      "No top level hogs found\n",
      "No top level hogs found\n",
      "No top level hogs found\n",
      "No top level hogs found\n",
      "No top level hogs found\n",
      "No top level hogs found\n",
      "No top level hogs found\n",
      "No top level hogs found\n",
      "No top level hogs found\n",
      "No top level hogs found\n",
      "No top level hogs found\n",
      "No top level hogs found\n",
      "No top level hogs found\n",
      "No top level hogs found\n",
      "No top level hogs found\n",
      "No top level hogs found\n",
      "No top level hogs found\n",
      "No top level hogs found\n",
      "No top level hogs found\n",
      "No top level hogs found\n",
      "No top level hogs found"
     ]
    },
    {
     "name": "stderr",
     "output_type": "stream",
     "text": [
      "442it [04:56,  1.59it/s]"
     ]
    },
    {
     "name": "stdout",
     "output_type": "stream",
     "text": [
      "\n",
      "No top level hogs found\n",
      "No top level hogs found\n",
      "No top level hogs found\n",
      "No top level hogs found\n",
      "No top level hogs found\n",
      "No top level hogs found\n",
      "No top level hogs found\n",
      "No top level hogs found\n",
      "No top level hogs found\n",
      "No top level hogs found\n",
      "No top level hogs found\n",
      "No top level hogs found\n",
      "No top level hogs found\n",
      "No top level hogs found\n",
      "No top level hogs found\n",
      "No top level hogs found\n",
      "No top level hogs found\n",
      "No top level hogs found\n",
      "No top level hogs found\n"
     ]
    },
    {
     "name": "stderr",
     "output_type": "stream",
     "text": [
      "443it [04:57,  1.64it/s]"
     ]
    },
    {
     "name": "stdout",
     "output_type": "stream",
     "text": [
      "No top level hogs found\n",
      "No top level hogs found\n",
      "No top level hogs found\n",
      "No top level hogs found\n",
      "No top level hogs found\n",
      "No top level hogs found\n",
      "No top level hogs found\n",
      "No top level hogs found\n",
      "No top level hogs found\n",
      "No top level hogs found\n",
      "No top level hogs found\n",
      "No top level hogs found\n",
      "No top level hogs found\n",
      "No top level hogs found\n",
      "No top level hogs found\n",
      "No top level hogs found\n",
      "No top level hogs found\n",
      "No top level hogs found\n",
      "No top level hogs found\n",
      "No top level hogs found\n",
      "No top level hogs found\n",
      "No top level hogs found\n",
      "No top level hogs found\n",
      "No top level hogs found\n",
      "No top level hogs found\n",
      "No top level hogs found\n",
      "No top level hogs found\n",
      "No top level hogs found\n",
      "No top level hogs found\n"
     ]
    },
    {
     "name": "stderr",
     "output_type": "stream",
     "text": [
      "444it [04:58,  1.58it/s]"
     ]
    },
    {
     "name": "stdout",
     "output_type": "stream",
     "text": [
      "No top level hogs found\n",
      "No top level hogs found\n",
      "No top level hogs found\n",
      "No top level hogs found\n",
      "No top level hogs found\n",
      "No top level hogs found\n",
      "No top level hogs found\n",
      "No top level hogs found\n",
      "No top level hogs found\n",
      "No top level hogs found\n",
      "No top level hogs found\n",
      "No top level hogs found\n",
      "No top level hogs found\n",
      "No top level hogs found\n",
      "No top level hogs found\n",
      "No top level hogs found\n",
      "No top level hogs found\n",
      "No top level hogs found\n",
      "No top level hogs found\n",
      "No top level hogs found\n",
      "No top level hogs found\n",
      "No top level hogs found\n",
      "No top level hogs found\n",
      "No top level hogs found\n"
     ]
    },
    {
     "name": "stderr",
     "output_type": "stream",
     "text": [
      "445it [04:58,  1.51it/s]"
     ]
    },
    {
     "name": "stdout",
     "output_type": "stream",
     "text": [
      "No top level hogs found\n",
      "No top level hogs found\n",
      "No top level hogs found\n",
      "No top level hogs found\n",
      "No top level hogs found\n",
      "No top level hogs found\n",
      "No top level hogs found\n",
      "No top level hogs found\n",
      "No top level hogs found\n",
      "No top level hogs found\n",
      "No top level hogs found\n",
      "No top level hogs found\n",
      "No top level hogs found\n",
      "No top level hogs found\n",
      "No top level hogs found\n",
      "No top level hogs found\n",
      "No top level hogs found\n",
      "No top level hogs found\n",
      "No top level hogs found\n",
      "No top level hogs found\n",
      "No top level hogs found\n",
      "No top level hogs found\n",
      "No top level hogs found\n",
      "No top level hogs found\n",
      "No top level hogs found\n",
      "No top level hogs found\n",
      "No top level hogs found\n",
      "No top level hogs found"
     ]
    },
    {
     "name": "stderr",
     "output_type": "stream",
     "text": [
      "446it [04:59,  1.51it/s]"
     ]
    },
    {
     "name": "stdout",
     "output_type": "stream",
     "text": [
      "\n",
      "No top level hogs found\n",
      "No top level hogs found\n",
      "No top level hogs found\n",
      "No top level hogs found\n",
      "No top level hogs found\n",
      "No top level hogs found\n",
      "No top level hogs found\n",
      "No top level hogs found\n",
      "No top level hogs found\n",
      "No top level hogs found\n",
      "No top level hogs found\n",
      "No top level hogs found\n",
      "No top level hogs found\n",
      "No top level hogs found\n",
      "No top level hogs found\n",
      "No top level hogs found\n",
      "No top level hogs found\n",
      "No top level hogs found\n",
      "No top level hogs found\n",
      "No top level hogs found\n"
     ]
    },
    {
     "name": "stderr",
     "output_type": "stream",
     "text": [
      "447it [05:00,  1.52it/s]"
     ]
    },
    {
     "name": "stdout",
     "output_type": "stream",
     "text": [
      "No top level hogs found\n",
      "No top level hogs found\n",
      "No top level hogs found\n",
      "No top level hogs found\n",
      "No top level hogs found\n",
      "No top level hogs found\n",
      "No top level hogs found\n",
      "No top level hogs found\n",
      "No top level hogs found\n",
      "No top level hogs found\n",
      "No top level hogs found\n",
      "No top level hogs found\n",
      "No top level hogs found\n",
      "No top level hogs found\n",
      "No top level hogs found\n",
      "No top level hogs found\n",
      "No top level hogs found\n",
      "No top level hogs found\n",
      "No top level hogs found\n",
      "No top level hogs found\n",
      "No top level hogs found\n",
      "No top level hogs found\n",
      "No top level hogs found\n",
      "No top level hogs found\n",
      "No top level hogs found\n",
      "No top level hogs found\n",
      "No top level hogs found\n",
      "No top level hogs found\n",
      "No top level hogs found"
     ]
    },
    {
     "name": "stderr",
     "output_type": "stream",
     "text": [
      "448it [05:00,  1.51it/s]"
     ]
    },
    {
     "name": "stdout",
     "output_type": "stream",
     "text": [
      "\n",
      "No top level hogs found\n",
      "No top level hogs found\n",
      "No top level hogs found\n",
      "No top level hogs found\n",
      "No top level hogs found\n",
      "No top level hogs found\n",
      "No top level hogs found\n",
      "No top level hogs found\n",
      "No top level hogs found\n",
      "No top level hogs found\n",
      "No top level hogs found\n",
      "No top level hogs found\n",
      "No top level hogs found\n",
      "No top level hogs found\n",
      "No top level hogs found\n",
      "No top level hogs found\n",
      "No top level hogs found\n",
      "No top level hogs found\n",
      "No top level hogs found\n",
      "No top level hogs found\n",
      "No top level hogs found\n",
      "No top level hogs found\n",
      "No top level hogs found\n",
      "No top level hogs found\n",
      "No top level hogs found\n",
      "No top level hogs found"
     ]
    },
    {
     "name": "stderr",
     "output_type": "stream",
     "text": [
      "449it [05:01,  1.47it/s]"
     ]
    },
    {
     "name": "stdout",
     "output_type": "stream",
     "text": [
      "\n",
      "No top level hogs found\n",
      "No top level hogs found\n",
      "No top level hogs found\n",
      "No top level hogs found\n",
      "No top level hogs found\n",
      "No top level hogs found\n",
      "No top level hogs found\n",
      "No top level hogs found\n",
      "No top level hogs found\n",
      "No top level hogs found\n",
      "No top level hogs found\n",
      "No top level hogs found\n",
      "No top level hogs found\n",
      "No top level hogs found\n",
      "No top level hogs found\n",
      "No top level hogs found\n",
      "No top level hogs found\n",
      "No top level hogs found\n",
      "No top level hogs found\n",
      "No top level hogs found\n",
      "No top level hogs found\n",
      "No top level hogs found\n",
      "No top level hogs found\n"
     ]
    },
    {
     "name": "stderr",
     "output_type": "stream",
     "text": [
      "450it [05:02,  1.52it/s]"
     ]
    },
    {
     "name": "stdout",
     "output_type": "stream",
     "text": [
      "No top level hogs found\n",
      "No top level hogs found\n",
      "No top level hogs found\n",
      "No top level hogs found\n",
      "No top level hogs found\n",
      "No top level hogs found\n",
      "No top level hogs found\n",
      "No top level hogs found\n",
      "No top level hogs found\n",
      "No top level hogs found\n",
      "No top level hogs found\n",
      "No top level hogs found\n",
      "No top level hogs found\n",
      "No top level hogs found\n",
      "No top level hogs found\n",
      "No top level hogs found\n",
      "No top level hogs found\n",
      "No top level hogs found\n",
      "No top level hogs found\n",
      "No top level hogs found\n",
      "No top level hogs found\n",
      "No top level hogs found\n",
      "No top level hogs found\n",
      "No top level hogs found\n",
      "No top level hogs found\n",
      "No top level hogs found\n"
     ]
    },
    {
     "name": "stderr",
     "output_type": "stream",
     "text": [
      "451it [05:02,  1.41it/s]"
     ]
    },
    {
     "name": "stdout",
     "output_type": "stream",
     "text": [
      "No top level hogs found\n",
      "No top level hogs found\n",
      "No top level hogs found\n",
      "No top level hogs found\n",
      "No top level hogs found\n",
      "No top level hogs found\n",
      "No top level hogs found\n",
      "No top level hogs found\n",
      "No top level hogs found\n",
      "No top level hogs found\n",
      "No top level hogs found\n",
      "No top level hogs found\n",
      "No top level hogs found\n",
      "No top level hogs found\n",
      "No top level hogs found\n",
      "No top level hogs found\n",
      "No top level hogs found\n",
      "No top level hogs found\n",
      "No top level hogs found\n",
      "No top level hogs found\n",
      "No top level hogs found\n",
      "No top level hogs found\n",
      "No top level hogs found\n",
      "No top level hogs found\n",
      "No top level hogs found\n",
      "No top level hogs found\n",
      "No top level hogs found\n",
      "No top level hogs found\n"
     ]
    },
    {
     "name": "stderr",
     "output_type": "stream",
     "text": [
      "452it [05:03,  1.39it/s]"
     ]
    },
    {
     "name": "stdout",
     "output_type": "stream",
     "text": [
      "No top level hogs found\n",
      "No top level hogs found\n",
      "No top level hogs found\n",
      "No top level hogs found\n",
      "No top level hogs found\n",
      "No top level hogs found\n",
      "No top level hogs found\n",
      "No top level hogs found\n",
      "No top level hogs found\n",
      "No top level hogs found\n",
      "No top level hogs found\n",
      "No top level hogs found\n",
      "No top level hogs found\n",
      "No top level hogs found\n",
      "No top level hogs found\n",
      "No top level hogs found\n",
      "No top level hogs found\n",
      "No top level hogs found\n",
      "No top level hogs found\n",
      "No top level hogs found\n",
      "No top level hogs found\n",
      "No top level hogs found\n",
      "No top level hogs found\n",
      "No top level hogs found\n"
     ]
    },
    {
     "name": "stderr",
     "output_type": "stream",
     "text": [
      "453it [05:04,  1.42it/s]"
     ]
    },
    {
     "name": "stdout",
     "output_type": "stream",
     "text": [
      "No top level hogs found\n",
      "No top level hogs found\n",
      "No top level hogs found\n",
      "No top level hogs found\n",
      "No top level hogs found\n",
      "No top level hogs found\n",
      "No top level hogs found\n",
      "No top level hogs found\n",
      "No top level hogs found\n",
      "No top level hogs found\n",
      "No top level hogs found\n",
      "No top level hogs found\n",
      "No top level hogs found\n",
      "No top level hogs found\n",
      "No top level hogs found\n",
      "No top level hogs found\n",
      "No top level hogs found\n",
      "No top level hogs found\n",
      "No top level hogs found\n",
      "No top level hogs found\n",
      "No top level hogs found\n"
     ]
    },
    {
     "name": "stderr",
     "output_type": "stream",
     "text": [
      "454it [05:04,  1.48it/s]"
     ]
    },
    {
     "name": "stdout",
     "output_type": "stream",
     "text": [
      "No top level hogs found\n",
      "No top level hogs found\n",
      "No top level hogs found\n",
      "No top level hogs found\n",
      "No top level hogs found\n",
      "No top level hogs found\n",
      "No top level hogs found\n",
      "No top level hogs found\n",
      "No top level hogs found\n",
      "No top level hogs found\n",
      "No top level hogs found\n",
      "No top level hogs found\n",
      "No top level hogs found\n",
      "No top level hogs found\n",
      "No top level hogs found\n",
      "No top level hogs found\n",
      "No top level hogs found\n",
      "No top level hogs found\n",
      "No top level hogs found\n",
      "No top level hogs found\n",
      "No top level hogs found\n",
      "No top level hogs found\n",
      "No top level hogs found\n",
      "No top level hogs found\n",
      "No top level hogs found\n"
     ]
    },
    {
     "name": "stderr",
     "output_type": "stream",
     "text": [
      "455it [05:05,  1.49it/s]"
     ]
    },
    {
     "name": "stdout",
     "output_type": "stream",
     "text": [
      "No top level hogs found\n",
      "No top level hogs found\n",
      "No top level hogs found\n",
      "No top level hogs found\n",
      "No top level hogs found\n",
      "No top level hogs found\n",
      "No top level hogs found\n",
      "No top level hogs found\n",
      "No top level hogs found\n",
      "No top level hogs found\n",
      "No top level hogs found\n",
      "No top level hogs found\n",
      "No top level hogs found\n",
      "No top level hogs found\n",
      "No top level hogs found\n",
      "No top level hogs found\n",
      "No top level hogs found\n",
      "No top level hogs found\n",
      "No top level hogs found\n",
      "No top level hogs found\n",
      "No top level hogs found\n",
      "No top level hogs found\n"
     ]
    },
    {
     "name": "stderr",
     "output_type": "stream",
     "text": [
      "456it [05:06,  1.46it/s]"
     ]
    },
    {
     "name": "stdout",
     "output_type": "stream",
     "text": [
      "No top level hogs found\n",
      "No top level hogs found\n",
      "No top level hogs found\n",
      "No top level hogs found\n",
      "No top level hogs found\n",
      "No top level hogs found\n",
      "No top level hogs found\n",
      "No top level hogs found\n",
      "No top level hogs found\n",
      "No top level hogs found\n",
      "No top level hogs found\n",
      "No top level hogs found\n",
      "No top level hogs found\n",
      "No top level hogs found\n",
      "No top level hogs found\n",
      "No top level hogs found\n",
      "No top level hogs found\n",
      "No top level hogs found\n",
      "No top level hogs found\n",
      "No top level hogs found\n",
      "No top level hogs found\n",
      "No top level hogs found\n"
     ]
    },
    {
     "name": "stderr",
     "output_type": "stream",
     "text": [
      "457it [05:06,  1.47it/s]"
     ]
    },
    {
     "name": "stdout",
     "output_type": "stream",
     "text": [
      "No top level hogs found\n",
      "No top level hogs found\n",
      "No top level hogs found\n",
      "No top level hogs found\n",
      "No top level hogs found\n",
      "No top level hogs found\n",
      "No top level hogs found\n",
      "No top level hogs found\n",
      "No top level hogs found\n",
      "No top level hogs found\n",
      "No top level hogs found\n",
      "No top level hogs found\n",
      "No top level hogs found\n",
      "No top level hogs found\n",
      "No top level hogs found\n",
      "No top level hogs found\n",
      "No top level hogs found\n",
      "No top level hogs found\n",
      "No top level hogs found\n",
      "No top level hogs found\n",
      "No top level hogs found"
     ]
    },
    {
     "name": "stderr",
     "output_type": "stream",
     "text": [
      "458it [05:07,  1.50it/s]"
     ]
    },
    {
     "name": "stdout",
     "output_type": "stream",
     "text": [
      "\n",
      "No top level hogs found\n",
      "No top level hogs found\n",
      "No top level hogs found\n",
      "No top level hogs found\n",
      "No top level hogs found\n",
      "No top level hogs found\n",
      "No top level hogs found\n",
      "No top level hogs found\n",
      "No top level hogs found\n",
      "No top level hogs found\n",
      "No top level hogs found\n",
      "No top level hogs found\n",
      "No top level hogs found\n",
      "No top level hogs found\n",
      "No top level hogs found\n",
      "No top level hogs found\n",
      "No top level hogs found\n",
      "No top level hogs found\n",
      "No top level hogs found\n",
      "No top level hogs found\n",
      "No top level hogs found\n",
      "No top level hogs found\n",
      "No top level hogs found\n",
      "No top level hogs found\n",
      "No top level hogs found"
     ]
    },
    {
     "name": "stderr",
     "output_type": "stream",
     "text": [
      "459it [05:08,  1.50it/s]"
     ]
    },
    {
     "name": "stdout",
     "output_type": "stream",
     "text": [
      "\n",
      "No top level hogs found\n",
      "No top level hogs found\n",
      "No top level hogs found\n",
      "No top level hogs found\n",
      "No top level hogs found\n",
      "No top level hogs found\n",
      "No top level hogs found\n",
      "No top level hogs found\n",
      "No top level hogs found\n",
      "No top level hogs found\n",
      "No top level hogs found\n",
      "No top level hogs found\n",
      "No top level hogs found\n",
      "No top level hogs found\n",
      "No top level hogs found\n",
      "No top level hogs found\n",
      "No top level hogs found\n",
      "No top level hogs found\n",
      "No top level hogs found\n",
      "No top level hogs found\n",
      "No top level hogs found\n",
      "No top level hogs found"
     ]
    },
    {
     "name": "stderr",
     "output_type": "stream",
     "text": [
      "460it [05:09,  1.46it/s]"
     ]
    },
    {
     "name": "stdout",
     "output_type": "stream",
     "text": [
      "\n",
      "No top level hogs found\n",
      "No top level hogs found\n",
      "No top level hogs found\n",
      "No top level hogs found\n",
      "No top level hogs found\n",
      "No top level hogs found\n",
      "No top level hogs found\n",
      "No top level hogs found\n",
      "No top level hogs found\n",
      "No top level hogs found\n",
      "No top level hogs found\n",
      "No top level hogs found\n",
      "No top level hogs found\n",
      "No top level hogs found\n",
      "No top level hogs found\n",
      "No top level hogs found\n",
      "No top level hogs found\n",
      "No top level hogs found\n",
      "No top level hogs found\n",
      "No top level hogs found\n",
      "No top level hogs found\n",
      "No top level hogs found\n",
      "No top level hogs found\n",
      "No top level hogs found\n",
      "No top level hogs found\n",
      "No top level hogs found\n",
      "No top level hogs found\n",
      "No top level hogs found\n",
      "No top level hogs found\n",
      "No top level hogs found\n",
      "No top level hogs found\n",
      "No top level hogs found\n",
      "No top level hogs found\n",
      "No top level hogs found\n",
      "No top level hogs found\n"
     ]
    },
    {
     "name": "stderr",
     "output_type": "stream",
     "text": [
      "461it [05:09,  1.41it/s]"
     ]
    },
    {
     "name": "stdout",
     "output_type": "stream",
     "text": [
      "No top level hogs found\n",
      "No top level hogs found\n",
      "No top level hogs found\n",
      "No top level hogs found\n",
      "No top level hogs found\n",
      "No top level hogs found\n",
      "No top level hogs found\n",
      "No top level hogs found\n",
      "No top level hogs found\n",
      "No top level hogs found\n",
      "No top level hogs found\n",
      "No top level hogs found\n",
      "No top level hogs found\n",
      "No top level hogs found\n",
      "No top level hogs found\n",
      "No top level hogs found\n",
      "No top level hogs found\n",
      "No top level hogs found\n",
      "No top level hogs found\n",
      "No top level hogs found\n",
      "No top level hogs found\n",
      "No top level hogs found\n",
      "No top level hogs found\n",
      "No top level hogs found\n",
      "No top level hogs found\n",
      "No top level hogs found\n",
      "No top level hogs found\n"
     ]
    },
    {
     "name": "stderr",
     "output_type": "stream",
     "text": [
      "462it [05:10,  1.40it/s]"
     ]
    },
    {
     "name": "stdout",
     "output_type": "stream",
     "text": [
      "No top level hogs found\n",
      "No top level hogs found\n",
      "No top level hogs found\n",
      "No top level hogs found\n",
      "No top level hogs found\n",
      "No top level hogs found\n",
      "No top level hogs found\n",
      "No top level hogs found\n",
      "No top level hogs found\n",
      "No top level hogs found\n",
      "No top level hogs found\n",
      "No top level hogs found\n",
      "No top level hogs found\n",
      "No top level hogs found\n",
      "No top level hogs found\n",
      "No top level hogs found\n",
      "No top level hogs found\n",
      "No top level hogs found\n",
      "No top level hogs found\n",
      "No top level hogs found\n",
      "No top level hogs found\n",
      "No top level hogs found\n",
      "No top level hogs found"
     ]
    },
    {
     "name": "stderr",
     "output_type": "stream",
     "text": [
      "463it [05:11,  1.45it/s]"
     ]
    },
    {
     "name": "stdout",
     "output_type": "stream",
     "text": [
      "\n",
      "No top level hogs found\n",
      "No top level hogs found\n",
      "No top level hogs found\n",
      "No top level hogs found\n",
      "No top level hogs found\n",
      "No top level hogs found\n",
      "No top level hogs found\n",
      "No top level hogs found\n",
      "No top level hogs found\n",
      "No top level hogs found\n",
      "No top level hogs found\n",
      "No top level hogs found\n",
      "No top level hogs found\n",
      "No top level hogs found\n",
      "No top level hogs found\n",
      "No top level hogs found\n",
      "No top level hogs found\n",
      "No top level hogs found\n",
      "No top level hogs found\n",
      "No top level hogs found\n",
      "No top level hogs found\n",
      "No top level hogs found\n",
      "No top level hogs found\n",
      "No top level hogs found"
     ]
    },
    {
     "name": "stderr",
     "output_type": "stream",
     "text": [
      "464it [05:11,  1.42it/s]"
     ]
    },
    {
     "name": "stdout",
     "output_type": "stream",
     "text": [
      "\n",
      "No top level hogs found\n",
      "No top level hogs found\n",
      "No top level hogs found\n",
      "No top level hogs found\n",
      "No top level hogs found\n",
      "No top level hogs found\n",
      "No top level hogs found\n",
      "No top level hogs found\n",
      "No top level hogs found\n",
      "No top level hogs found\n",
      "No top level hogs found\n",
      "No top level hogs found\n",
      "No top level hogs found\n",
      "No top level hogs found\n",
      "No top level hogs found\n",
      "No top level hogs found\n",
      "No top level hogs found\n",
      "No top level hogs found\n",
      "No top level hogs found\n",
      "No top level hogs found\n",
      "No top level hogs found\n",
      "No top level hogs found\n",
      "No top level hogs found\n",
      "No top level hogs found\n",
      "No top level hogs found\n"
     ]
    },
    {
     "name": "stderr",
     "output_type": "stream",
     "text": [
      "465it [05:12,  1.45it/s]"
     ]
    },
    {
     "name": "stdout",
     "output_type": "stream",
     "text": [
      "No top level hogs found\n",
      "No top level hogs found\n",
      "No top level hogs found\n",
      "No top level hogs found\n",
      "No top level hogs found\n",
      "No top level hogs found\n",
      "No top level hogs found\n",
      "No top level hogs found\n",
      "No top level hogs found\n",
      "No top level hogs found\n",
      "No top level hogs found\n",
      "No top level hogs found\n",
      "No top level hogs found\n",
      "No top level hogs found\n",
      "No top level hogs found\n",
      "No top level hogs found\n",
      "No top level hogs found\n",
      "No top level hogs found\n",
      "No top level hogs found\n"
     ]
    },
    {
     "name": "stderr",
     "output_type": "stream",
     "text": [
      "466it [05:13,  1.52it/s]"
     ]
    },
    {
     "name": "stdout",
     "output_type": "stream",
     "text": [
      "No top level hogs found\n",
      "No top level hogs found\n",
      "No top level hogs found\n",
      "No top level hogs found\n",
      "No top level hogs found\n",
      "No top level hogs found\n",
      "No top level hogs found\n",
      "No top level hogs found\n",
      "No top level hogs found\n",
      "No top level hogs found\n",
      "No top level hogs found\n",
      "No top level hogs found\n",
      "No top level hogs found\n",
      "No top level hogs found\n",
      "No top level hogs found\n",
      "No top level hogs found\n",
      "No top level hogs found\n",
      "No top level hogs found\n",
      "No top level hogs found\n",
      "No top level hogs found\n",
      "No top level hogs found\n",
      "No top level hogs found\n"
     ]
    },
    {
     "name": "stderr",
     "output_type": "stream",
     "text": [
      "467it [05:13,  1.59it/s]"
     ]
    },
    {
     "name": "stdout",
     "output_type": "stream",
     "text": [
      "No top level hogs found\n",
      "No top level hogs found\n",
      "No top level hogs found\n",
      "No top level hogs found\n",
      "No top level hogs found\n",
      "No top level hogs found\n",
      "No top level hogs found\n",
      "No top level hogs found\n",
      "No top level hogs found\n",
      "No top level hogs found\n",
      "No top level hogs found\n",
      "No top level hogs found\n",
      "No top level hogs found\n",
      "No top level hogs found\n",
      "No top level hogs found\n",
      "No top level hogs found\n",
      "No top level hogs found\n",
      "No top level hogs found\n",
      "No top level hogs found\n",
      "No top level hogs found\n",
      "No top level hogs found\n",
      "No top level hogs found\n",
      "No top level hogs found\n",
      "No top level hogs found\n",
      "No top level hogs found\n",
      "No top level hogs found"
     ]
    },
    {
     "name": "stderr",
     "output_type": "stream",
     "text": [
      "468it [05:14,  1.57it/s]"
     ]
    },
    {
     "name": "stdout",
     "output_type": "stream",
     "text": [
      "\n",
      "No top level hogs found\n",
      "No top level hogs found\n",
      "No top level hogs found\n",
      "No top level hogs found\n",
      "No top level hogs found\n",
      "No top level hogs found\n",
      "No top level hogs found\n",
      "No top level hogs found\n",
      "No top level hogs found\n",
      "No top level hogs found\n",
      "No top level hogs found\n",
      "No top level hogs found\n",
      "No top level hogs found\n",
      "No top level hogs found\n",
      "No top level hogs found\n",
      "No top level hogs found\n",
      "No top level hogs found\n"
     ]
    },
    {
     "name": "stderr",
     "output_type": "stream",
     "text": [
      "469it [05:14,  1.61it/s]"
     ]
    },
    {
     "name": "stdout",
     "output_type": "stream",
     "text": [
      "No top level hogs found\n",
      "No top level hogs found\n",
      "No top level hogs found\n",
      "No top level hogs found\n",
      "No top level hogs found\n",
      "No top level hogs found\n",
      "No top level hogs found\n",
      "No top level hogs found\n",
      "No top level hogs found\n",
      "No top level hogs found\n",
      "No top level hogs found\n",
      "No top level hogs found\n",
      "No top level hogs found\n",
      "No top level hogs found\n",
      "No top level hogs found\n",
      "No top level hogs found\n",
      "No top level hogs found\n",
      "No top level hogs found\n",
      "No top level hogs found\n",
      "No top level hogs found\n",
      "No top level hogs found\n",
      "No top level hogs found\n",
      "No top level hogs found\n",
      "No top level hogs found\n",
      "No top level hogs found\n",
      "No top level hogs found\n",
      "No top level hogs found\n",
      "No top level hogs found\n",
      "No top level hogs found\n",
      "No top level hogs found"
     ]
    },
    {
     "name": "stderr",
     "output_type": "stream",
     "text": [
      "470it [05:15,  1.66it/s]"
     ]
    },
    {
     "name": "stdout",
     "output_type": "stream",
     "text": [
      "\n",
      "No top level hogs found\n",
      "No top level hogs found\n",
      "No top level hogs found\n",
      "No top level hogs found\n",
      "No top level hogs found\n",
      "No top level hogs found\n",
      "No top level hogs found\n",
      "No top level hogs found\n",
      "No top level hogs found\n",
      "No top level hogs found\n",
      "No top level hogs found\n",
      "No top level hogs found\n",
      "No top level hogs found\n",
      "No top level hogs found\n",
      "No top level hogs found\n",
      "No top level hogs found\n",
      "No top level hogs found\n",
      "No top level hogs found\n",
      "No top level hogs found\n",
      "No top level hogs found\n",
      "No top level hogs found\n",
      "No top level hogs found\n",
      "No top level hogs found\n",
      "No top level hogs found\n",
      "No top level hogs found\n",
      "No top level hogs found\n",
      "No top level hogs found\n",
      "No top level hogs found\n",
      "No top level hogs found\n",
      "No top level hogs found\n"
     ]
    },
    {
     "name": "stderr",
     "output_type": "stream",
     "text": [
      "471it [05:16,  1.50it/s]"
     ]
    },
    {
     "name": "stdout",
     "output_type": "stream",
     "text": [
      "No top level hogs found\n",
      "No top level hogs found\n",
      "No top level hogs found\n",
      "No top level hogs found\n",
      "No top level hogs found\n",
      "No top level hogs found\n",
      "No top level hogs found\n",
      "No top level hogs found\n",
      "No top level hogs found\n",
      "No top level hogs found\n",
      "No top level hogs found\n",
      "No top level hogs found\n",
      "No top level hogs found\n",
      "No top level hogs found\n",
      "No top level hogs found\n",
      "No top level hogs found\n",
      "No top level hogs found\n",
      "No top level hogs found\n",
      "No top level hogs found\n",
      "No top level hogs found\n",
      "No top level hogs found\n",
      "No top level hogs found\n",
      "No top level hogs found\n",
      "No top level hogs found\n"
     ]
    },
    {
     "name": "stderr",
     "output_type": "stream",
     "text": [
      "472it [05:16,  1.51it/s]"
     ]
    },
    {
     "name": "stdout",
     "output_type": "stream",
     "text": [
      "No top level hogs found\n",
      "No top level hogs found\n",
      "No top level hogs found\n",
      "No top level hogs found\n",
      "No top level hogs found\n",
      "No top level hogs found\n",
      "No top level hogs found\n",
      "No top level hogs found\n",
      "No top level hogs found\n",
      "No top level hogs found\n",
      "No top level hogs found\n",
      "No top level hogs found\n",
      "No top level hogs found\n",
      "No top level hogs found\n",
      "No top level hogs found\n",
      "No top level hogs found\n",
      "No top level hogs found\n",
      "No top level hogs found\n",
      "No top level hogs found\n",
      "No top level hogs found\n",
      "No top level hogs found\n",
      "No top level hogs found\n",
      "No top level hogs found\n"
     ]
    },
    {
     "name": "stderr",
     "output_type": "stream",
     "text": [
      "473it [05:17,  1.47it/s]"
     ]
    },
    {
     "name": "stdout",
     "output_type": "stream",
     "text": [
      "No top level hogs found\n",
      "No top level hogs found\n",
      "No top level hogs found\n",
      "No top level hogs found\n",
      "No top level hogs found\n",
      "No top level hogs found\n",
      "No top level hogs found\n",
      "No top level hogs found\n",
      "No top level hogs found\n",
      "No top level hogs found\n",
      "No top level hogs found\n",
      "No top level hogs found\n",
      "No top level hogs found\n",
      "No top level hogs found\n",
      "No top level hogs found\n",
      "No top level hogs found\n",
      "No top level hogs found\n",
      "No top level hogs found\n",
      "No top level hogs found\n",
      "No top level hogs found\n",
      "No top level hogs found\n",
      "No top level hogs found\n",
      "No top level hogs found\n",
      "No top level hogs found\n",
      "No top level hogs found\n",
      "No top level hogs found\n",
      "No top level hogs found\n",
      "No top level hogs found\n",
      "No top level hogs found\n",
      "No top level hogs found\n",
      "No top level hogs found"
     ]
    },
    {
     "name": "stderr",
     "output_type": "stream",
     "text": [
      "474it [05:18,  1.40it/s]"
     ]
    },
    {
     "name": "stdout",
     "output_type": "stream",
     "text": [
      "\n",
      "No top level hogs found\n",
      "No top level hogs found\n",
      "No top level hogs found\n",
      "No top level hogs found\n",
      "No top level hogs found\n",
      "No top level hogs found\n",
      "No top level hogs found\n",
      "No top level hogs found\n",
      "No top level hogs found\n",
      "No top level hogs found\n",
      "No top level hogs found\n",
      "No top level hogs found\n",
      "No top level hogs found\n",
      "No top level hogs found\n",
      "No top level hogs found\n",
      "No top level hogs found\n",
      "No top level hogs found\n",
      "No top level hogs found\n",
      "No top level hogs found\n",
      "No top level hogs found\n"
     ]
    },
    {
     "name": "stderr",
     "output_type": "stream",
     "text": [
      "475it [05:19,  1.49it/s]"
     ]
    },
    {
     "name": "stdout",
     "output_type": "stream",
     "text": [
      "No top level hogs found\n",
      "No top level hogs found\n",
      "No top level hogs found\n",
      "No top level hogs found\n",
      "No top level hogs found\n",
      "No top level hogs found\n",
      "No top level hogs found\n",
      "No top level hogs found\n",
      "No top level hogs found\n",
      "No top level hogs found\n",
      "No top level hogs found\n",
      "No top level hogs found\n",
      "No top level hogs found\n",
      "No top level hogs found\n",
      "No top level hogs found\n",
      "No top level hogs found\n",
      "No top level hogs found\n",
      "No top level hogs found\n",
      "No top level hogs found\n",
      "No top level hogs found\n",
      "No top level hogs found\n",
      "No top level hogs found\n",
      "No top level hogs found\n",
      "No top level hogs found\n",
      "No top level hogs found\n",
      "No top level hogs found\n",
      "No top level hogs found\n",
      "No top level hogs found\n",
      "No top level hogs found\n",
      "No top level hogs found\n",
      "No top level hogs found\n",
      "No top level hogs found\n"
     ]
    },
    {
     "name": "stderr",
     "output_type": "stream",
     "text": [
      "476it [05:19,  1.47it/s]"
     ]
    },
    {
     "name": "stdout",
     "output_type": "stream",
     "text": [
      "No top level hogs found\n",
      "No top level hogs found\n",
      "No top level hogs found\n",
      "No top level hogs found\n",
      "No top level hogs found\n",
      "No top level hogs found\n",
      "No top level hogs found\n",
      "No top level hogs found\n",
      "No top level hogs found\n",
      "No top level hogs found\n",
      "No top level hogs found\n",
      "No top level hogs found\n",
      "No top level hogs found\n",
      "No top level hogs found\n",
      "No top level hogs found\n",
      "No top level hogs found\n",
      "No top level hogs found\n",
      "No top level hogs found\n",
      "No top level hogs found\n",
      "No top level hogs found\n",
      "No top level hogs found\n"
     ]
    },
    {
     "name": "stderr",
     "output_type": "stream",
     "text": [
      "477it [05:20,  1.56it/s]"
     ]
    },
    {
     "name": "stdout",
     "output_type": "stream",
     "text": [
      "No top level hogs found\n",
      "No top level hogs found\n",
      "No top level hogs found\n",
      "No top level hogs found\n",
      "No top level hogs found\n",
      "No top level hogs found\n",
      "No top level hogs found\n",
      "No top level hogs found\n",
      "No top level hogs found\n",
      "No top level hogs found\n",
      "No top level hogs found\n",
      "No top level hogs found\n",
      "No top level hogs found\n",
      "No top level hogs found\n",
      "No top level hogs found\n",
      "No top level hogs found\n",
      "No top level hogs found\n",
      "No top level hogs found\n",
      "No top level hogs found\n",
      "No top level hogs found\n",
      "No top level hogs found\n"
     ]
    },
    {
     "name": "stderr",
     "output_type": "stream",
     "text": [
      "478it [05:20,  1.51it/s]"
     ]
    },
    {
     "name": "stdout",
     "output_type": "stream",
     "text": [
      "No top level hogs found\n",
      "No top level hogs found\n",
      "No top level hogs found\n",
      "No top level hogs found\n",
      "No top level hogs found\n",
      "No top level hogs found\n",
      "No top level hogs found\n",
      "No top level hogs found\n",
      "No top level hogs found\n",
      "No top level hogs found\n",
      "No top level hogs found\n",
      "No top level hogs found\n",
      "No top level hogs found\n",
      "No top level hogs found\n",
      "No top level hogs found\n",
      "No top level hogs found\n",
      "No top level hogs found\n",
      "No top level hogs found\n"
     ]
    },
    {
     "name": "stderr",
     "output_type": "stream",
     "text": [
      "479it [05:21,  1.52it/s]"
     ]
    },
    {
     "name": "stdout",
     "output_type": "stream",
     "text": [
      "No top level hogs found\n",
      "No top level hogs found\n",
      "No top level hogs found\n",
      "No top level hogs found\n",
      "No top level hogs found\n",
      "No top level hogs found\n",
      "No top level hogs found\n",
      "No top level hogs found\n",
      "No top level hogs found\n",
      "No top level hogs found\n",
      "No top level hogs found\n",
      "No top level hogs found\n",
      "No top level hogs found\n",
      "No top level hogs found\n",
      "No top level hogs found\n",
      "No top level hogs found\n",
      "No top level hogs found\n",
      "No top level hogs found\n",
      "No top level hogs found\n",
      "No top level hogs found\n",
      "No top level hogs found\n",
      "No top level hogs found\n",
      "No top level hogs found\n",
      "No top level hogs found\n",
      "No top level hogs found\n",
      "No top level hogs found\n",
      "No top level hogs found\n",
      "No top level hogs found\n",
      "No top level hogs found\n",
      "No top level hogs found\n",
      "No top level hogs found\n",
      "No top level hogs found\n",
      "No top level hogs found\n",
      "No top level hogs found\n",
      "No top level hogs found\n"
     ]
    },
    {
     "name": "stderr",
     "output_type": "stream",
     "text": [
      "480it [05:22,  1.49it/s]"
     ]
    },
    {
     "name": "stdout",
     "output_type": "stream",
     "text": [
      "No top level hogs found\n",
      "No top level hogs found\n",
      "No top level hogs found\n",
      "No top level hogs found\n",
      "No top level hogs found\n",
      "No top level hogs found\n",
      "No top level hogs found\n",
      "No top level hogs found\n",
      "No top level hogs found\n",
      "No top level hogs found\n",
      "No top level hogs found\n",
      "No top level hogs found\n",
      "No top level hogs found\n",
      "No top level hogs found\n",
      "No top level hogs found\n",
      "No top level hogs found\n",
      "No top level hogs found\n",
      "No top level hogs found\n",
      "No top level hogs found\n",
      "No top level hogs found\n",
      "No top level hogs found\n",
      "No top level hogs found\n",
      "No top level hogs found\n",
      "No top level hogs found\n",
      "No top level hogs found\n"
     ]
    },
    {
     "name": "stderr",
     "output_type": "stream",
     "text": [
      "481it [05:22,  1.54it/s]"
     ]
    },
    {
     "name": "stdout",
     "output_type": "stream",
     "text": [
      "No top level hogs found\n",
      "No top level hogs found\n",
      "No top level hogs found\n",
      "No top level hogs found\n",
      "No top level hogs found\n",
      "No top level hogs found\n",
      "No top level hogs found\n",
      "No top level hogs found\n",
      "No top level hogs found\n",
      "No top level hogs found\n",
      "No top level hogs found\n",
      "No top level hogs found\n",
      "No top level hogs found\n",
      "No top level hogs found\n",
      "No top level hogs found\n",
      "No top level hogs found\n",
      "No top level hogs found\n",
      "No top level hogs found\n",
      "No top level hogs found\n"
     ]
    },
    {
     "name": "stderr",
     "output_type": "stream",
     "text": [
      "482it [05:23,  1.41it/s]"
     ]
    },
    {
     "name": "stdout",
     "output_type": "stream",
     "text": [
      "No top level hogs found\n",
      "No top level hogs found\n",
      "No top level hogs found\n",
      "No top level hogs found\n",
      "No top level hogs found\n",
      "No top level hogs found\n",
      "No top level hogs found\n",
      "No top level hogs found\n",
      "No top level hogs found\n",
      "No top level hogs found\n",
      "No top level hogs found\n",
      "No top level hogs found\n",
      "No top level hogs found\n",
      "No top level hogs found\n",
      "No top level hogs found\n",
      "No top level hogs found\n",
      "No top level hogs found\n",
      "No top level hogs found\n",
      "No top level hogs found\n",
      "No top level hogs found\n",
      "No top level hogs found\n",
      "No top level hogs found\n",
      "No top level hogs found\n",
      "No top level hogs found\n",
      "No top level hogs found\n",
      "No top level hogs found"
     ]
    },
    {
     "name": "stderr",
     "output_type": "stream",
     "text": [
      "483it [05:24,  1.47it/s]"
     ]
    },
    {
     "name": "stdout",
     "output_type": "stream",
     "text": [
      "\n",
      "No top level hogs found\n",
      "No top level hogs found\n",
      "No top level hogs found\n",
      "No top level hogs found\n",
      "No top level hogs found\n",
      "No top level hogs found\n",
      "No top level hogs found\n",
      "No top level hogs found\n",
      "No top level hogs found\n",
      "No top level hogs found\n",
      "No top level hogs found\n",
      "No top level hogs found\n",
      "No top level hogs found\n",
      "No top level hogs found\n",
      "No top level hogs found\n",
      "No top level hogs found\n",
      "No top level hogs found\n",
      "No top level hogs found\n",
      "No top level hogs found\n",
      "No top level hogs found\n",
      "No top level hogs found\n",
      "No top level hogs found\n",
      "No top level hogs found\n",
      "No top level hogs found\n"
     ]
    },
    {
     "name": "stderr",
     "output_type": "stream",
     "text": [
      "484it [05:25,  1.49it/s]"
     ]
    },
    {
     "name": "stdout",
     "output_type": "stream",
     "text": [
      "No top level hogs found\n",
      "No top level hogs found\n",
      "No top level hogs found\n",
      "No top level hogs found\n",
      "No top level hogs found\n",
      "No top level hogs found\n",
      "No top level hogs found\n",
      "No top level hogs found\n",
      "No top level hogs found\n",
      "No top level hogs found\n",
      "No top level hogs found\n",
      "No top level hogs found\n",
      "No top level hogs found\n",
      "No top level hogs found\n",
      "No top level hogs found\n",
      "No top level hogs found\n",
      "No top level hogs found\n",
      "No top level hogs found\n",
      "No top level hogs found\n",
      "No top level hogs found\n",
      "No top level hogs found\n",
      "No top level hogs found\n",
      "No top level hogs found\n",
      "No top level hogs found\n",
      "No top level hogs found\n"
     ]
    },
    {
     "name": "stderr",
     "output_type": "stream",
     "text": [
      "485it [05:25,  1.52it/s]"
     ]
    },
    {
     "name": "stdout",
     "output_type": "stream",
     "text": [
      "No top level hogs found\n",
      "No top level hogs found\n",
      "No top level hogs found\n",
      "No top level hogs found\n",
      "No top level hogs found\n",
      "No top level hogs found\n",
      "No top level hogs found\n",
      "No top level hogs found\n",
      "No top level hogs found\n",
      "No top level hogs found\n",
      "No top level hogs found\n",
      "No top level hogs found\n",
      "No top level hogs found\n",
      "No top level hogs found\n",
      "No top level hogs found\n",
      "No top level hogs found\n",
      "No top level hogs found\n",
      "No top level hogs found\n",
      "No top level hogs found\n",
      "No top level hogs found\n",
      "No top level hogs found\n",
      "No top level hogs found\n",
      "No top level hogs found\n",
      "No top level hogs found\n",
      "No top level hogs found\n",
      "No top level hogs found\n",
      "No top level hogs found\n",
      "No top level hogs found\n",
      "No top level hogs found\n",
      "No top level hogs found\n",
      "No top level hogs found\n",
      "No top level hogs found"
     ]
    },
    {
     "name": "stderr",
     "output_type": "stream",
     "text": [
      "486it [05:26,  1.43it/s]"
     ]
    },
    {
     "name": "stdout",
     "output_type": "stream",
     "text": [
      "\n",
      "No top level hogs found\n",
      "No top level hogs found\n",
      "No top level hogs found\n",
      "No top level hogs found\n",
      "No top level hogs found\n",
      "No top level hogs found\n",
      "No top level hogs found\n",
      "No top level hogs found\n",
      "No top level hogs found\n",
      "No top level hogs found\n",
      "No top level hogs found\n",
      "No top level hogs found\n",
      "No top level hogs found\n"
     ]
    },
    {
     "name": "stderr",
     "output_type": "stream",
     "text": [
      "487it [05:27,  1.46it/s]"
     ]
    },
    {
     "name": "stdout",
     "output_type": "stream",
     "text": [
      "No top level hogs found\n",
      "No top level hogs found\n",
      "No top level hogs found\n",
      "No top level hogs found\n",
      "No top level hogs found\n",
      "No top level hogs found\n",
      "No top level hogs found\n",
      "No top level hogs found\n",
      "No top level hogs found\n",
      "No top level hogs found\n",
      "No top level hogs found\n",
      "No top level hogs found\n",
      "No top level hogs found\n",
      "No top level hogs found\n",
      "No top level hogs found\n",
      "No top level hogs found\n",
      "No top level hogs found\n",
      "No top level hogs found\n",
      "No top level hogs found\n",
      "No top level hogs found\n",
      "No top level hogs found\n",
      "No top level hogs found\n",
      "No top level hogs found\n",
      "No top level hogs found\n",
      "No top level hogs found\n",
      "No top level hogs found\n",
      "No top level hogs found\n",
      "No top level hogs found\n",
      "No top level hogs found\n",
      "No top level hogs found\n",
      "No top level hogs found\n"
     ]
    },
    {
     "name": "stderr",
     "output_type": "stream",
     "text": [
      "488it [05:27,  1.48it/s]"
     ]
    },
    {
     "name": "stdout",
     "output_type": "stream",
     "text": [
      "No top level hogs found\n",
      "No top level hogs found\n",
      "No top level hogs found\n",
      "No top level hogs found\n",
      "No top level hogs found\n",
      "No top level hogs found\n",
      "No top level hogs found\n",
      "No top level hogs found\n",
      "No top level hogs found\n",
      "No top level hogs found\n",
      "No top level hogs found\n",
      "No top level hogs found\n",
      "No top level hogs found\n",
      "No top level hogs found\n",
      "No top level hogs found\n",
      "No top level hogs found\n",
      "No top level hogs found\n",
      "No top level hogs found\n",
      "No top level hogs found\n",
      "No top level hogs found\n",
      "No top level hogs found\n"
     ]
    },
    {
     "name": "stderr",
     "output_type": "stream",
     "text": [
      "489it [05:28,  1.49it/s]"
     ]
    },
    {
     "name": "stdout",
     "output_type": "stream",
     "text": [
      "No top level hogs found\n",
      "No top level hogs found\n",
      "No top level hogs found\n",
      "No top level hogs found\n",
      "No top level hogs found\n",
      "No top level hogs found\n",
      "No top level hogs found\n",
      "No top level hogs found\n",
      "No top level hogs found\n",
      "No top level hogs found\n",
      "No top level hogs found\n",
      "No top level hogs found\n",
      "No top level hogs found\n",
      "No top level hogs found\n",
      "No top level hogs found\n",
      "No top level hogs found\n",
      "No top level hogs found\n",
      "No top level hogs found\n",
      "No top level hogs found\n",
      "No top level hogs found\n",
      "No top level hogs found\n",
      "No top level hogs found\n",
      "No top level hogs found\n",
      "No top level hogs found\n"
     ]
    },
    {
     "name": "stderr",
     "output_type": "stream",
     "text": [
      "490it [05:29,  1.53it/s]"
     ]
    },
    {
     "name": "stdout",
     "output_type": "stream",
     "text": [
      "No top level hogs found\n",
      "No top level hogs found\n",
      "No top level hogs found\n",
      "No top level hogs found\n",
      "No top level hogs found\n",
      "No top level hogs found\n",
      "No top level hogs found\n",
      "No top level hogs found\n",
      "No top level hogs found\n",
      "No top level hogs found\n",
      "No top level hogs found\n",
      "No top level hogs found\n",
      "No top level hogs found\n",
      "No top level hogs found\n",
      "No top level hogs found\n",
      "No top level hogs found\n",
      "No top level hogs found\n",
      "No top level hogs found\n",
      "No top level hogs found\n",
      "No top level hogs found\n",
      "No top level hogs found\n",
      "No top level hogs found\n"
     ]
    },
    {
     "name": "stderr",
     "output_type": "stream",
     "text": [
      "491it [05:29,  1.53it/s]"
     ]
    },
    {
     "name": "stdout",
     "output_type": "stream",
     "text": [
      "No top level hogs found\n",
      "No top level hogs found\n",
      "No top level hogs found\n",
      "No top level hogs found\n",
      "No top level hogs found\n",
      "No top level hogs found\n",
      "No top level hogs found\n",
      "No top level hogs found\n",
      "No top level hogs found\n",
      "No top level hogs found\n",
      "No top level hogs found\n",
      "No top level hogs found\n",
      "No top level hogs found\n",
      "No top level hogs found\n",
      "No top level hogs found\n",
      "No top level hogs found\n",
      "No top level hogs found\n",
      "No top level hogs found\n",
      "No top level hogs found\n",
      "No top level hogs found"
     ]
    },
    {
     "name": "stderr",
     "output_type": "stream",
     "text": [
      "492it [05:30,  1.54it/s]"
     ]
    },
    {
     "name": "stdout",
     "output_type": "stream",
     "text": [
      "\n",
      "No top level hogs found\n",
      "No top level hogs found\n",
      "No top level hogs found\n",
      "No top level hogs found\n",
      "No top level hogs found\n",
      "No top level hogs found\n",
      "No top level hogs found\n",
      "No top level hogs found\n",
      "No top level hogs found\n",
      "No top level hogs found\n",
      "No top level hogs found\n",
      "No top level hogs found\n",
      "No top level hogs found\n",
      "No top level hogs found\n",
      "No top level hogs found\n",
      "No top level hogs found\n",
      "No top level hogs found\n",
      "No top level hogs found\n",
      "No top level hogs found\n",
      "No top level hogs found\n",
      "No top level hogs found\n",
      "No top level hogs found\n",
      "No top level hogs found\n",
      "No top level hogs found\n",
      "No top level hogs found\n",
      "No top level hogs found\n",
      "No top level hogs found\n",
      "No top level hogs found\n",
      "No top level hogs found\n"
     ]
    },
    {
     "name": "stderr",
     "output_type": "stream",
     "text": [
      "493it [05:31,  1.49it/s]"
     ]
    },
    {
     "name": "stdout",
     "output_type": "stream",
     "text": [
      "No top level hogs found\n",
      "No top level hogs found\n",
      "No top level hogs found\n",
      "No top level hogs found\n",
      "No top level hogs found\n",
      "No top level hogs found\n",
      "No top level hogs found\n",
      "No top level hogs found\n",
      "No top level hogs found\n",
      "No top level hogs found\n",
      "No top level hogs found\n",
      "No top level hogs found\n",
      "No top level hogs found\n",
      "No top level hogs found\n",
      "No top level hogs found\n",
      "No top level hogs found\n",
      "No top level hogs found\n",
      "No top level hogs found\n",
      "No top level hogs found\n",
      "No top level hogs found\n",
      "No top level hogs found\n",
      "No top level hogs found\n",
      "No top level hogs found\n",
      "No top level hogs found\n",
      "No top level hogs found\n",
      "No top level hogs found"
     ]
    },
    {
     "name": "stderr",
     "output_type": "stream",
     "text": [
      "494it [05:31,  1.50it/s]"
     ]
    },
    {
     "name": "stdout",
     "output_type": "stream",
     "text": [
      "\n",
      "No top level hogs found\n",
      "No top level hogs found\n",
      "No top level hogs found\n",
      "No top level hogs found\n",
      "No top level hogs found\n",
      "No top level hogs found\n",
      "No top level hogs found\n",
      "No top level hogs found\n",
      "No top level hogs found\n",
      "No top level hogs found\n",
      "No top level hogs found\n",
      "No top level hogs found\n",
      "No top level hogs found\n",
      "No top level hogs found\n",
      "No top level hogs found\n",
      "No top level hogs found\n",
      "No top level hogs found\n",
      "No top level hogs found\n",
      "No top level hogs found\n",
      "No top level hogs found\n",
      "No top level hogs found\n",
      "No top level hogs found\n",
      "No top level hogs found\n",
      "No top level hogs found\n",
      "No top level hogs found\n",
      "No top level hogs found\n",
      "No top level hogs found\n",
      "No top level hogs found"
     ]
    },
    {
     "name": "stderr",
     "output_type": "stream",
     "text": [
      "495it [05:32,  1.42it/s]"
     ]
    },
    {
     "name": "stdout",
     "output_type": "stream",
     "text": [
      "\n",
      "No top level hogs found\n",
      "No top level hogs found\n",
      "No top level hogs found\n",
      "No top level hogs found\n",
      "No top level hogs found\n",
      "No top level hogs found\n",
      "No top level hogs found\n",
      "No top level hogs found\n",
      "No top level hogs found\n",
      "No top level hogs found\n",
      "No top level hogs found\n",
      "No top level hogs found\n",
      "No top level hogs found\n",
      "No top level hogs found\n",
      "No top level hogs found\n",
      "No top level hogs found\n",
      "No top level hogs found\n",
      "No top level hogs found\n",
      "No top level hogs found\n",
      "No top level hogs found\n",
      "No top level hogs found\n",
      "No top level hogs found\n",
      "No top level hogs found\n",
      "No top level hogs found"
     ]
    },
    {
     "name": "stderr",
     "output_type": "stream",
     "text": [
      "496it [05:33,  1.45it/s]"
     ]
    },
    {
     "name": "stdout",
     "output_type": "stream",
     "text": [
      "\n",
      "No top level hogs found\n",
      "No top level hogs found\n",
      "No top level hogs found\n",
      "No top level hogs found\n",
      "No top level hogs found\n",
      "No top level hogs found\n",
      "No top level hogs found\n",
      "No top level hogs found\n",
      "No top level hogs found\n",
      "No top level hogs found\n",
      "No top level hogs found\n",
      "No top level hogs found\n",
      "No top level hogs found\n",
      "No top level hogs found\n",
      "No top level hogs found\n",
      "No top level hogs found\n",
      "No top level hogs found\n",
      "No top level hogs found\n",
      "No top level hogs found\n",
      "No top level hogs found\n",
      "No top level hogs found\n",
      "No top level hogs found\n",
      "No top level hogs found\n",
      "No top level hogs found\n"
     ]
    },
    {
     "name": "stderr",
     "output_type": "stream",
     "text": [
      "497it [05:33,  1.47it/s]"
     ]
    },
    {
     "name": "stdout",
     "output_type": "stream",
     "text": [
      "No top level hogs found\n",
      "No top level hogs found\n",
      "No top level hogs found\n",
      "No top level hogs found\n",
      "No top level hogs found\n",
      "No top level hogs found\n",
      "No top level hogs found\n",
      "No top level hogs found\n",
      "No top level hogs found\n",
      "No top level hogs found\n",
      "No top level hogs found\n",
      "No top level hogs found\n",
      "No top level hogs found\n",
      "No top level hogs found\n",
      "No top level hogs found\n",
      "No top level hogs found\n",
      "No top level hogs found\n",
      "No top level hogs found\n",
      "No top level hogs found\n",
      "No top level hogs found\n",
      "No top level hogs found\n",
      "No top level hogs found\n"
     ]
    },
    {
     "name": "stderr",
     "output_type": "stream",
     "text": [
      "498it [05:34,  1.54it/s]"
     ]
    },
    {
     "name": "stdout",
     "output_type": "stream",
     "text": [
      "No top level hogs found\n",
      "No top level hogs found\n",
      "No top level hogs found\n",
      "No top level hogs found\n",
      "No top level hogs found\n",
      "No top level hogs found\n",
      "No top level hogs found\n",
      "No top level hogs found\n",
      "No top level hogs found\n",
      "No top level hogs found\n",
      "No top level hogs found\n",
      "No top level hogs found\n",
      "No top level hogs found\n",
      "No top level hogs found\n",
      "No top level hogs found\n",
      "No top level hogs found\n",
      "No top level hogs found\n",
      "No top level hogs found\n"
     ]
    },
    {
     "name": "stderr",
     "output_type": "stream",
     "text": [
      "499it [05:35,  1.48it/s]"
     ]
    },
    {
     "name": "stdout",
     "output_type": "stream",
     "text": [
      "No top level hogs found\n",
      "No top level hogs found\n",
      "No top level hogs found\n",
      "No top level hogs found\n",
      "No top level hogs found\n",
      "No top level hogs found\n",
      "No top level hogs found\n",
      "No top level hogs found\n",
      "No top level hogs found\n",
      "No top level hogs found\n",
      "No top level hogs found\n",
      "No top level hogs found\n",
      "No top level hogs found\n",
      "No top level hogs found\n"
     ]
    },
    {
     "name": "stderr",
     "output_type": "stream",
     "text": [
      "500it [05:35,  1.47it/s]"
     ]
    },
    {
     "name": "stdout",
     "output_type": "stream",
     "text": [
      "No top level hogs found\n",
      "No top level hogs found\n",
      "No top level hogs found\n",
      "No top level hogs found\n",
      "No top level hogs found\n",
      "No top level hogs found\n",
      "No top level hogs found\n",
      "No top level hogs found\n",
      "No top level hogs found\n",
      "No top level hogs found\n",
      "No top level hogs found\n",
      "No top level hogs found\n",
      "No top level hogs found\n",
      "No top level hogs found\n",
      "No top level hogs found\n",
      "No top level hogs found\n",
      "No top level hogs found\n",
      "No top level hogs found\n",
      "No top level hogs found\n",
      "No top level hogs found\n",
      "No top level hogs found\n",
      "No top level hogs found\n",
      "No top level hogs found\n",
      "No top level hogs found\n",
      "No top level hogs found\n"
     ]
    },
    {
     "name": "stderr",
     "output_type": "stream",
     "text": [
      "501it [05:36,  1.52it/s]"
     ]
    },
    {
     "name": "stdout",
     "output_type": "stream",
     "text": [
      "No top level hogs found\n",
      "No top level hogs found\n",
      "No top level hogs found\n",
      "No top level hogs found\n",
      "No top level hogs found\n",
      "No top level hogs found\n",
      "No top level hogs found\n",
      "No top level hogs found\n",
      "No top level hogs found\n",
      "No top level hogs found\n",
      "No top level hogs found\n",
      "No top level hogs found\n",
      "No top level hogs found\n",
      "No top level hogs found\n"
     ]
    },
    {
     "name": "stderr",
     "output_type": "stream",
     "text": [
      "502it [05:36,  1.60it/s]"
     ]
    },
    {
     "name": "stdout",
     "output_type": "stream",
     "text": [
      "No top level hogs found\n",
      "No top level hogs found\n",
      "No top level hogs found\n",
      "No top level hogs found\n",
      "No top level hogs found\n",
      "No top level hogs found\n",
      "No top level hogs found\n",
      "No top level hogs found\n",
      "No top level hogs found\n",
      "No top level hogs found\n",
      "No top level hogs found\n",
      "No top level hogs found\n",
      "No top level hogs found\n",
      "No top level hogs found\n",
      "No top level hogs found\n",
      "No top level hogs found\n",
      "No top level hogs found\n",
      "No top level hogs found\n",
      "No top level hogs found\n",
      "No top level hogs found\n",
      "No top level hogs found\n",
      "No top level hogs found\n",
      "No top level hogs found\n",
      "No top level hogs found\n",
      "No top level hogs found\n",
      "No top level hogs found\n",
      "No top level hogs found\n",
      "No top level hogs found\n",
      "No top level hogs found\n",
      "No top level hogs found\n",
      "No top level hogs found\n",
      "No top level hogs found\n",
      "No top level hogs found\n",
      "No top level hogs found"
     ]
    },
    {
     "name": "stderr",
     "output_type": "stream",
     "text": [
      "503it [05:37,  1.55it/s]"
     ]
    },
    {
     "name": "stdout",
     "output_type": "stream",
     "text": [
      "\n",
      "No top level hogs found\n",
      "No top level hogs found\n",
      "No top level hogs found\n",
      "No top level hogs found\n",
      "No top level hogs found\n",
      "No top level hogs found\n",
      "No top level hogs found\n",
      "No top level hogs found\n",
      "No top level hogs found\n",
      "No top level hogs found\n",
      "No top level hogs found\n",
      "No top level hogs found\n",
      "No top level hogs found\n",
      "No top level hogs found\n",
      "No top level hogs found\n",
      "No top level hogs found\n",
      "No top level hogs found\n",
      "No top level hogs found\n",
      "No top level hogs found\n",
      "No top level hogs found"
     ]
    },
    {
     "name": "stderr",
     "output_type": "stream",
     "text": [
      "504it [05:38,  1.49it/s]"
     ]
    },
    {
     "name": "stdout",
     "output_type": "stream",
     "text": [
      "\n",
      "No top level hogs found\n",
      "No top level hogs found\n",
      "No top level hogs found\n",
      "No top level hogs found\n",
      "No top level hogs found\n",
      "No top level hogs found\n",
      "No top level hogs found\n",
      "No top level hogs found\n",
      "No top level hogs found\n",
      "No top level hogs found\n",
      "No top level hogs found\n",
      "No top level hogs found\n",
      "No top level hogs found\n",
      "No top level hogs found\n",
      "No top level hogs found\n",
      "No top level hogs found\n",
      "No top level hogs found\n",
      "No top level hogs found\n",
      "No top level hogs found\n",
      "No top level hogs found\n",
      "No top level hogs found\n",
      "No top level hogs found\n",
      "No top level hogs found\n",
      "No top level hogs found\n",
      "No top level hogs found"
     ]
    },
    {
     "name": "stderr",
     "output_type": "stream",
     "text": [
      "505it [05:39,  1.51it/s]"
     ]
    },
    {
     "name": "stdout",
     "output_type": "stream",
     "text": [
      "\n",
      "No top level hogs found\n",
      "No top level hogs found\n",
      "No top level hogs found\n",
      "No top level hogs found\n",
      "No top level hogs found\n",
      "No top level hogs found\n",
      "No top level hogs found\n",
      "No top level hogs found\n",
      "No top level hogs found\n",
      "No top level hogs found\n",
      "No top level hogs found\n",
      "No top level hogs found\n",
      "No top level hogs found\n",
      "No top level hogs found\n",
      "No top level hogs found\n",
      "No top level hogs found\n",
      "No top level hogs found\n",
      "No top level hogs found\n",
      "No top level hogs found\n",
      "No top level hogs found\n"
     ]
    },
    {
     "name": "stderr",
     "output_type": "stream",
     "text": [
      "506it [05:39,  1.52it/s]"
     ]
    },
    {
     "name": "stdout",
     "output_type": "stream",
     "text": [
      "No top level hogs found\n",
      "No top level hogs found\n",
      "No top level hogs found\n",
      "No top level hogs found\n",
      "No top level hogs found\n",
      "No top level hogs found\n",
      "No top level hogs found\n",
      "No top level hogs found\n",
      "No top level hogs found\n",
      "No top level hogs found\n",
      "No top level hogs found\n",
      "No top level hogs found\n",
      "No top level hogs found\n",
      "No top level hogs found\n",
      "No top level hogs found\n",
      "No top level hogs found\n",
      "No top level hogs found\n",
      "No top level hogs found\n",
      "No top level hogs found\n",
      "No top level hogs found\n",
      "No top level hogs found\n",
      "No top level hogs found\n",
      "No top level hogs found\n",
      "No top level hogs found\n",
      "No top level hogs found\n",
      "No top level hogs found\n",
      "No top level hogs found\n",
      "No top level hogs found\n",
      "No top level hogs found\n",
      "No top level hogs found\n",
      "No top level hogs found\n",
      "No top level hogs found\n",
      "No top level hogs found\n"
     ]
    },
    {
     "name": "stderr",
     "output_type": "stream",
     "text": [
      "507it [05:40,  1.49it/s]"
     ]
    },
    {
     "name": "stdout",
     "output_type": "stream",
     "text": [
      "No top level hogs found\n",
      "No top level hogs found\n",
      "No top level hogs found\n",
      "No top level hogs found\n",
      "No top level hogs found\n",
      "No top level hogs found\n",
      "No top level hogs found\n",
      "No top level hogs found\n",
      "No top level hogs found\n",
      "No top level hogs found\n",
      "No top level hogs found\n",
      "No top level hogs found\n",
      "No top level hogs found\n",
      "No top level hogs found\n",
      "No top level hogs found\n",
      "No top level hogs found\n",
      "No top level hogs found\n",
      "No top level hogs found\n",
      "No top level hogs found\n"
     ]
    },
    {
     "name": "stderr",
     "output_type": "stream",
     "text": [
      "508it [05:41,  1.46it/s]"
     ]
    },
    {
     "name": "stdout",
     "output_type": "stream",
     "text": [
      "No top level hogs found\n",
      "No top level hogs found\n",
      "No top level hogs found\n",
      "No top level hogs found\n",
      "No top level hogs found\n",
      "No top level hogs found\n",
      "No top level hogs found\n",
      "No top level hogs found\n",
      "No top level hogs found\n",
      "No top level hogs found\n",
      "No top level hogs found\n",
      "No top level hogs found\n",
      "No top level hogs found\n",
      "No top level hogs found\n",
      "No top level hogs found\n",
      "No top level hogs found\n",
      "No top level hogs found\n",
      "No top level hogs found\n",
      "No top level hogs found\n",
      "No top level hogs found\n",
      "No top level hogs found\n",
      "No top level hogs found\n",
      "No top level hogs found\n",
      "No top level hogs found\n",
      "No top level hogs found\n",
      "No top level hogs found\n",
      "No top level hogs found\n",
      "No top level hogs found\n",
      "No top level hogs found"
     ]
    },
    {
     "name": "stderr",
     "output_type": "stream",
     "text": [
      "509it [05:41,  1.51it/s]"
     ]
    },
    {
     "name": "stdout",
     "output_type": "stream",
     "text": [
      "\n",
      "No top level hogs found\n",
      "No top level hogs found\n",
      "No top level hogs found\n",
      "No top level hogs found\n",
      "No top level hogs found\n",
      "No top level hogs found\n",
      "No top level hogs found\n",
      "No top level hogs found\n",
      "No top level hogs found\n",
      "No top level hogs found\n",
      "No top level hogs found\n",
      "No top level hogs found\n",
      "No top level hogs found\n",
      "No top level hogs found\n",
      "No top level hogs found\n",
      "No top level hogs found\n"
     ]
    },
    {
     "name": "stderr",
     "output_type": "stream",
     "text": [
      "510it [05:42,  1.56it/s]"
     ]
    },
    {
     "name": "stdout",
     "output_type": "stream",
     "text": [
      "No top level hogs found\n",
      "No top level hogs found\n",
      "No top level hogs found\n",
      "No top level hogs found\n",
      "No top level hogs found\n",
      "No top level hogs found\n",
      "No top level hogs found\n",
      "No top level hogs found\n",
      "No top level hogs found\n",
      "No top level hogs found\n",
      "No top level hogs found\n",
      "No top level hogs found\n",
      "No top level hogs found\n",
      "No top level hogs found\n",
      "No top level hogs found\n",
      "No top level hogs found\n",
      "No top level hogs found\n",
      "No top level hogs found\n",
      "No top level hogs found\n",
      "No top level hogs found\n",
      "No top level hogs found\n",
      "No top level hogs found\n",
      "No top level hogs found\n",
      "No top level hogs found\n",
      "No top level hogs found\n",
      "No top level hogs found\n",
      "No top level hogs found\n",
      "No top level hogs found\n",
      "No top level hogs found\n",
      "No top level hogs found\n",
      "No top level hogs found\n",
      "No top level hogs found\n",
      "No top level hogs found\n",
      "No top level hogs found\n"
     ]
    },
    {
     "name": "stderr",
     "output_type": "stream",
     "text": [
      "511it [05:43,  1.48it/s]"
     ]
    },
    {
     "name": "stdout",
     "output_type": "stream",
     "text": [
      "No top level hogs found\n",
      "No top level hogs found\n",
      "No top level hogs found\n",
      "No top level hogs found\n",
      "No top level hogs found\n",
      "No top level hogs found\n",
      "No top level hogs found\n",
      "No top level hogs found\n",
      "No top level hogs found\n",
      "No top level hogs found\n",
      "No top level hogs found\n",
      "No top level hogs found\n",
      "No top level hogs found\n",
      "No top level hogs found\n",
      "No top level hogs found\n",
      "No top level hogs found\n",
      "No top level hogs found\n",
      "No top level hogs found\n",
      "No top level hogs found\n",
      "No top level hogs found\n",
      "No top level hogs found\n",
      "No top level hogs found"
     ]
    },
    {
     "name": "stderr",
     "output_type": "stream",
     "text": [
      "512it [05:43,  1.49it/s]"
     ]
    },
    {
     "name": "stdout",
     "output_type": "stream",
     "text": [
      "\n",
      "No top level hogs found\n",
      "No top level hogs found\n",
      "No top level hogs found\n",
      "No top level hogs found\n",
      "No top level hogs found\n",
      "No top level hogs found\n",
      "No top level hogs found\n",
      "No top level hogs found\n",
      "No top level hogs found\n",
      "No top level hogs found\n",
      "No top level hogs found\n",
      "No top level hogs found\n",
      "No top level hogs found\n",
      "No top level hogs found\n",
      "No top level hogs found\n",
      "No top level hogs found\n",
      "No top level hogs found\n",
      "No top level hogs found\n",
      "No top level hogs found\n",
      "No top level hogs found\n",
      "No top level hogs found\n",
      "No top level hogs found\n",
      "No top level hogs found\n"
     ]
    },
    {
     "name": "stderr",
     "output_type": "stream",
     "text": [
      "513it [05:44,  1.51it/s]"
     ]
    },
    {
     "name": "stdout",
     "output_type": "stream",
     "text": [
      "No top level hogs found\n",
      "No top level hogs found\n",
      "No top level hogs found\n",
      "No top level hogs found\n",
      "No top level hogs found\n",
      "No top level hogs found\n",
      "No top level hogs found\n",
      "No top level hogs found\n",
      "No top level hogs found\n",
      "No top level hogs found\n",
      "No top level hogs found\n",
      "No top level hogs found\n",
      "No top level hogs found\n",
      "No top level hogs found\n",
      "No top level hogs found\n",
      "No top level hogs found\n",
      "No top level hogs found\n",
      "No top level hogs found\n",
      "No top level hogs found\n",
      "No top level hogs found\n",
      "No top level hogs found\n",
      "No top level hogs found\n",
      "No top level hogs found\n",
      "No top level hogs found\n",
      "No top level hogs found\n",
      "No top level hogs found\n",
      "No top level hogs found\n",
      "No top level hogs found\n"
     ]
    },
    {
     "name": "stderr",
     "output_type": "stream",
     "text": [
      "514it [05:45,  1.51it/s]"
     ]
    },
    {
     "name": "stdout",
     "output_type": "stream",
     "text": [
      "No top level hogs found\n",
      "No top level hogs found\n",
      "No top level hogs found\n",
      "No top level hogs found\n",
      "No top level hogs found\n",
      "No top level hogs found\n",
      "No top level hogs found\n",
      "No top level hogs found\n",
      "No top level hogs found\n",
      "No top level hogs found\n",
      "No top level hogs found\n",
      "No top level hogs found\n",
      "No top level hogs found\n",
      "No top level hogs found\n",
      "No top level hogs found\n",
      "No top level hogs found\n",
      "No top level hogs found\n",
      "No top level hogs found\n",
      "No top level hogs found\n",
      "No top level hogs found\n",
      "No top level hogs found\n",
      "No top level hogs found\n",
      "No top level hogs found\n",
      "No top level hogs found\n",
      "No top level hogs found\n",
      "No top level hogs found\n",
      "No top level hogs found\n"
     ]
    },
    {
     "name": "stderr",
     "output_type": "stream",
     "text": [
      "515it [05:45,  1.50it/s]"
     ]
    },
    {
     "name": "stdout",
     "output_type": "stream",
     "text": [
      "No top level hogs found\n",
      "No top level hogs found\n",
      "No top level hogs found\n",
      "No top level hogs found\n",
      "No top level hogs found\n",
      "No top level hogs found\n",
      "No top level hogs found\n",
      "No top level hogs found\n",
      "No top level hogs found\n",
      "No top level hogs found\n",
      "No top level hogs found\n",
      "No top level hogs found\n",
      "No top level hogs found\n",
      "No top level hogs found\n",
      "No top level hogs found\n",
      "No top level hogs found\n",
      "No top level hogs found\n",
      "No top level hogs found\n",
      "No top level hogs found\n",
      "No top level hogs found\n",
      "No top level hogs found\n",
      "No top level hogs found\n"
     ]
    },
    {
     "name": "stderr",
     "output_type": "stream",
     "text": [
      "516it [05:46,  1.51it/s]"
     ]
    },
    {
     "name": "stdout",
     "output_type": "stream",
     "text": [
      "No top level hogs found\n",
      "No top level hogs found\n",
      "No top level hogs found\n",
      "No top level hogs found\n",
      "No top level hogs found\n",
      "No top level hogs found\n",
      "No top level hogs found\n",
      "No top level hogs found\n",
      "No top level hogs found\n",
      "No top level hogs found\n",
      "No top level hogs found\n",
      "No top level hogs found\n",
      "No top level hogs found\n",
      "No top level hogs found\n",
      "No top level hogs found\n",
      "No top level hogs found\n",
      "No top level hogs found\n",
      "No top level hogs found\n",
      "No top level hogs found\n",
      "No top level hogs found\n",
      "No top level hogs found\n",
      "No top level hogs found\n",
      "No top level hogs found\n",
      "No top level hogs found\n",
      "No top level hogs found\n",
      "No top level hogs found\n",
      "No top level hogs found\n",
      "No top level hogs found\n",
      "No top level hogs found\n",
      "No top level hogs found\n"
     ]
    },
    {
     "name": "stderr",
     "output_type": "stream",
     "text": [
      "517it [05:47,  1.45it/s]"
     ]
    },
    {
     "name": "stdout",
     "output_type": "stream",
     "text": [
      "No top level hogs found\n",
      "No top level hogs found\n",
      "No top level hogs found\n",
      "No top level hogs found\n",
      "No top level hogs found\n",
      "No top level hogs found\n",
      "No top level hogs found\n",
      "No top level hogs found\n",
      "No top level hogs found\n",
      "No top level hogs found\n",
      "No top level hogs found\n",
      "No top level hogs found\n",
      "No top level hogs found\n",
      "No top level hogs found\n",
      "No top level hogs found\n",
      "No top level hogs found\n",
      "No top level hogs found\n",
      "No top level hogs found\n",
      "No top level hogs found\n",
      "No top level hogs found\n",
      "No top level hogs found\n",
      "No top level hogs found\n",
      "No top level hogs found\n",
      "No top level hogs found\n",
      "No top level hogs found\n",
      "No top level hogs found\n",
      "No top level hogs found"
     ]
    },
    {
     "name": "stderr",
     "output_type": "stream",
     "text": [
      "518it [05:47,  1.46it/s]"
     ]
    },
    {
     "name": "stdout",
     "output_type": "stream",
     "text": [
      "\n",
      "No top level hogs found\n",
      "No top level hogs found\n",
      "No top level hogs found\n",
      "No top level hogs found\n",
      "No top level hogs found\n",
      "No top level hogs found\n",
      "No top level hogs found\n",
      "No top level hogs found\n",
      "No top level hogs found\n",
      "No top level hogs found\n",
      "No top level hogs found\n",
      "No top level hogs found\n",
      "No top level hogs found\n",
      "No top level hogs found\n",
      "No top level hogs found\n",
      "No top level hogs found\n",
      "No top level hogs found\n",
      "No top level hogs found\n",
      "No top level hogs found\n",
      "No top level hogs found\n"
     ]
    },
    {
     "name": "stderr",
     "output_type": "stream",
     "text": [
      "519it [05:48,  1.50it/s]"
     ]
    },
    {
     "name": "stdout",
     "output_type": "stream",
     "text": [
      "No top level hogs found\n",
      "No top level hogs found\n",
      "No top level hogs found\n",
      "No top level hogs found\n",
      "No top level hogs found\n",
      "No top level hogs found\n",
      "No top level hogs found\n",
      "No top level hogs found\n",
      "No top level hogs found\n",
      "No top level hogs found\n",
      "No top level hogs found\n",
      "No top level hogs found\n",
      "No top level hogs found\n",
      "No top level hogs found\n",
      "No top level hogs found\n",
      "No top level hogs found\n",
      "No top level hogs found\n",
      "No top level hogs found\n",
      "No top level hogs found\n",
      "No top level hogs found\n",
      "No top level hogs found\n",
      "No top level hogs found\n",
      "No top level hogs found\n",
      "No top level hogs found\n",
      "No top level hogs found\n",
      "No top level hogs found\n",
      "No top level hogs found\n"
     ]
    },
    {
     "name": "stderr",
     "output_type": "stream",
     "text": [
      "520it [05:49,  1.53it/s]"
     ]
    },
    {
     "name": "stdout",
     "output_type": "stream",
     "text": [
      "No top level hogs found\n",
      "No top level hogs found\n",
      "No top level hogs found\n",
      "No top level hogs found\n",
      "No top level hogs found\n",
      "No top level hogs found\n",
      "No top level hogs found\n",
      "No top level hogs found\n",
      "No top level hogs found\n",
      "No top level hogs found\n",
      "No top level hogs found\n",
      "No top level hogs found\n",
      "No top level hogs found\n",
      "No top level hogs found\n",
      "No top level hogs found\n",
      "No top level hogs found\n",
      "No top level hogs found\n",
      "No top level hogs found\n"
     ]
    },
    {
     "name": "stderr",
     "output_type": "stream",
     "text": [
      "521it [05:49,  1.54it/s]"
     ]
    },
    {
     "name": "stdout",
     "output_type": "stream",
     "text": [
      "No top level hogs found\n",
      "No top level hogs found\n",
      "No top level hogs found\n",
      "No top level hogs found\n",
      "No top level hogs found\n",
      "No top level hogs found\n",
      "No top level hogs found\n",
      "No top level hogs found\n",
      "No top level hogs found\n",
      "No top level hogs found\n",
      "No top level hogs found\n",
      "No top level hogs found\n",
      "No top level hogs found\n",
      "No top level hogs found\n",
      "No top level hogs found\n",
      "No top level hogs found\n",
      "No top level hogs found\n",
      "No top level hogs found\n",
      "No top level hogs found\n",
      "No top level hogs found\n",
      "No top level hogs found\n",
      "No top level hogs found\n",
      "No top level hogs found\n",
      "No top level hogs found\n"
     ]
    },
    {
     "name": "stderr",
     "output_type": "stream",
     "text": [
      "522it [05:50,  1.55it/s]"
     ]
    },
    {
     "name": "stdout",
     "output_type": "stream",
     "text": [
      "No top level hogs found\n",
      "No top level hogs found\n",
      "No top level hogs found\n",
      "No top level hogs found\n",
      "No top level hogs found\n",
      "No top level hogs found\n",
      "No top level hogs found\n",
      "No top level hogs found\n",
      "No top level hogs found\n",
      "No top level hogs found\n",
      "No top level hogs found\n",
      "No top level hogs found\n",
      "No top level hogs found\n",
      "No top level hogs found\n",
      "No top level hogs found\n",
      "No top level hogs found\n",
      "No top level hogs found\n",
      "No top level hogs found\n",
      "No top level hogs found\n",
      "No top level hogs found\n",
      "No top level hogs found\n",
      "No top level hogs found\n",
      "No top level hogs found\n",
      "No top level hogs found\n"
     ]
    },
    {
     "name": "stderr",
     "output_type": "stream",
     "text": [
      "523it [05:50,  1.56it/s]"
     ]
    },
    {
     "name": "stdout",
     "output_type": "stream",
     "text": [
      "No top level hogs found\n",
      "No top level hogs found\n",
      "No top level hogs found\n",
      "No top level hogs found\n",
      "No top level hogs found\n",
      "No top level hogs found\n",
      "No top level hogs found\n",
      "No top level hogs found\n",
      "No top level hogs found\n",
      "No top level hogs found\n",
      "No top level hogs found\n",
      "No top level hogs found\n",
      "No top level hogs found\n",
      "No top level hogs found\n",
      "No top level hogs found\n",
      "No top level hogs found\n",
      "No top level hogs found\n",
      "No top level hogs found\n",
      "No top level hogs found\n",
      "No top level hogs found\n",
      "No top level hogs found\n",
      "No top level hogs found\n",
      "No top level hogs found\n",
      "No top level hogs found\n",
      "No top level hogs found\n",
      "No top level hogs found\n",
      "No top level hogs found"
     ]
    },
    {
     "name": "stderr",
     "output_type": "stream",
     "text": [
      "524it [05:51,  1.49it/s]"
     ]
    },
    {
     "name": "stdout",
     "output_type": "stream",
     "text": [
      "\n",
      "No top level hogs found\n",
      "No top level hogs found\n",
      "No top level hogs found\n",
      "No top level hogs found\n",
      "No top level hogs found\n",
      "No top level hogs found\n",
      "No top level hogs found\n",
      "No top level hogs found\n",
      "No top level hogs found\n",
      "No top level hogs found\n",
      "No top level hogs found\n",
      "No top level hogs found\n",
      "No top level hogs found\n",
      "No top level hogs found\n",
      "No top level hogs found\n",
      "No top level hogs found\n",
      "No top level hogs found\n",
      "No top level hogs found\n",
      "No top level hogs found\n",
      "No top level hogs found\n",
      "No top level hogs found\n",
      "No top level hogs found\n",
      "No top level hogs found"
     ]
    },
    {
     "name": "stderr",
     "output_type": "stream",
     "text": [
      "525it [05:52,  1.45it/s]"
     ]
    },
    {
     "name": "stdout",
     "output_type": "stream",
     "text": [
      "\n",
      "No top level hogs found\n",
      "No top level hogs found\n",
      "No top level hogs found\n",
      "No top level hogs found\n",
      "No top level hogs found\n",
      "No top level hogs found\n",
      "No top level hogs found\n",
      "No top level hogs found\n",
      "No top level hogs found\n",
      "No top level hogs found\n",
      "No top level hogs found\n",
      "No top level hogs found\n",
      "No top level hogs found\n",
      "No top level hogs found\n",
      "No top level hogs found\n",
      "No top level hogs found\n",
      "No top level hogs found\n",
      "No top level hogs found\n",
      "No top level hogs found\n",
      "No top level hogs found\n",
      "No top level hogs found\n",
      "No top level hogs found\n",
      "No top level hogs found\n"
     ]
    },
    {
     "name": "stderr",
     "output_type": "stream",
     "text": [
      "526it [05:53,  1.42it/s]"
     ]
    },
    {
     "name": "stdout",
     "output_type": "stream",
     "text": [
      "No top level hogs found\n",
      "No top level hogs found\n",
      "No top level hogs found\n",
      "No top level hogs found\n",
      "No top level hogs found\n",
      "No top level hogs found\n",
      "No top level hogs found\n",
      "No top level hogs found\n",
      "No top level hogs found\n",
      "No top level hogs found\n",
      "No top level hogs found\n",
      "No top level hogs found\n",
      "No top level hogs found\n",
      "No top level hogs found\n",
      "No top level hogs found\n",
      "No top level hogs found\n",
      "No top level hogs found\n",
      "No top level hogs found\n",
      "No top level hogs found\n",
      "No top level hogs found\n",
      "No top level hogs found\n",
      "No top level hogs found\n",
      "No top level hogs found\n",
      "No top level hogs found\n",
      "No top level hogs found\n"
     ]
    },
    {
     "name": "stderr",
     "output_type": "stream",
     "text": [
      "527it [05:53,  1.47it/s]"
     ]
    },
    {
     "name": "stdout",
     "output_type": "stream",
     "text": [
      "No top level hogs found\n",
      "No top level hogs found\n",
      "No top level hogs found\n",
      "No top level hogs found\n",
      "No top level hogs found\n",
      "No top level hogs found\n",
      "No top level hogs found\n",
      "No top level hogs found\n",
      "No top level hogs found\n",
      "No top level hogs found\n",
      "No top level hogs found\n",
      "No top level hogs found\n",
      "No top level hogs found\n",
      "No top level hogs found\n",
      "No top level hogs found\n",
      "No top level hogs found\n",
      "No top level hogs found\n",
      "No top level hogs found\n",
      "No top level hogs found\n",
      "No top level hogs found\n",
      "No top level hogs found\n",
      "No top level hogs found\n",
      "No top level hogs found\n",
      "No top level hogs found\n",
      "No top level hogs found\n",
      "No top level hogs found\n",
      "No top level hogs found\n",
      "No top level hogs found\n",
      "No top level hogs found\n",
      "No top level hogs found\n"
     ]
    },
    {
     "name": "stderr",
     "output_type": "stream",
     "text": [
      "528it [05:54,  1.40it/s]"
     ]
    },
    {
     "name": "stdout",
     "output_type": "stream",
     "text": [
      "No top level hogs found\n",
      "No top level hogs found\n",
      "No top level hogs found\n",
      "No top level hogs found\n",
      "No top level hogs found\n",
      "No top level hogs found\n",
      "No top level hogs found\n",
      "No top level hogs found\n",
      "No top level hogs found\n",
      "No top level hogs found\n",
      "No top level hogs found\n",
      "No top level hogs found\n",
      "No top level hogs found\n",
      "No top level hogs found\n",
      "No top level hogs found\n",
      "No top level hogs found\n",
      "No top level hogs found\n",
      "No top level hogs found\n",
      "No top level hogs found\n",
      "No top level hogs found\n",
      "No top level hogs found\n"
     ]
    },
    {
     "name": "stderr",
     "output_type": "stream",
     "text": [
      "529it [05:55,  1.52it/s]"
     ]
    },
    {
     "name": "stdout",
     "output_type": "stream",
     "text": [
      "No top level hogs found\n",
      "No top level hogs found\n",
      "No top level hogs found\n",
      "No top level hogs found\n",
      "No top level hogs found\n",
      "No top level hogs found\n",
      "No top level hogs found\n",
      "No top level hogs found\n",
      "No top level hogs found\n",
      "No top level hogs found\n",
      "No top level hogs found\n",
      "No top level hogs found\n",
      "No top level hogs found\n",
      "No top level hogs found\n",
      "No top level hogs found\n",
      "No top level hogs found\n",
      "No top level hogs found\n",
      "No top level hogs found\n",
      "No top level hogs found\n"
     ]
    },
    {
     "name": "stderr",
     "output_type": "stream",
     "text": [
      "530it [05:55,  1.46it/s]"
     ]
    },
    {
     "name": "stdout",
     "output_type": "stream",
     "text": [
      "No top level hogs found\n",
      "No top level hogs found\n",
      "No top level hogs found\n",
      "No top level hogs found\n",
      "No top level hogs found\n",
      "No top level hogs found\n",
      "No top level hogs found\n",
      "No top level hogs found\n",
      "No top level hogs found\n",
      "No top level hogs found\n",
      "No top level hogs found\n",
      "No top level hogs found\n",
      "No top level hogs found\n"
     ]
    },
    {
     "name": "stderr",
     "output_type": "stream",
     "text": [
      "531it [05:56,  1.32it/s]"
     ]
    },
    {
     "name": "stdout",
     "output_type": "stream",
     "text": [
      "No top level hogs found\n",
      "No top level hogs found\n",
      "No top level hogs found\n",
      "No top level hogs found\n",
      "No top level hogs found\n",
      "No top level hogs found\n",
      "No top level hogs found\n",
      "No top level hogs found\n",
      "No top level hogs found\n",
      "No top level hogs found\n",
      "No top level hogs found\n",
      "No top level hogs found\n",
      "No top level hogs found\n",
      "No top level hogs found\n",
      "No top level hogs found\n",
      "No top level hogs found\n",
      "No top level hogs found\n",
      "No top level hogs found\n",
      "No top level hogs found\n",
      "No top level hogs found\n",
      "No top level hogs found\n",
      "No top level hogs found\n",
      "No top level hogs found\n",
      "No top level hogs found\n",
      "No top level hogs found\n",
      "No top level hogs found\n"
     ]
    },
    {
     "name": "stderr",
     "output_type": "stream",
     "text": [
      "532it [05:57,  1.33it/s]"
     ]
    },
    {
     "name": "stdout",
     "output_type": "stream",
     "text": [
      "No top level hogs found\n",
      "No top level hogs found\n",
      "No top level hogs found\n",
      "No top level hogs found\n",
      "No top level hogs found\n",
      "No top level hogs found\n",
      "No top level hogs found\n",
      "No top level hogs found\n",
      "No top level hogs found\n",
      "No top level hogs found\n",
      "No top level hogs found\n",
      "No top level hogs found\n",
      "No top level hogs found\n",
      "No top level hogs found\n",
      "No top level hogs found\n",
      "No top level hogs found\n",
      "No top level hogs found\n",
      "No top level hogs found\n",
      "No top level hogs found\n",
      "No top level hogs found\n",
      "No top level hogs found\n",
      "No top level hogs found\n",
      "No top level hogs found\n",
      "No top level hogs found\n",
      "No top level hogs found\n",
      "No top level hogs found"
     ]
    },
    {
     "name": "stderr",
     "output_type": "stream",
     "text": [
      "533it [05:58,  1.38it/s]"
     ]
    },
    {
     "name": "stdout",
     "output_type": "stream",
     "text": [
      "\n",
      "No top level hogs found\n",
      "No top level hogs found\n",
      "No top level hogs found\n",
      "No top level hogs found\n",
      "No top level hogs found\n",
      "No top level hogs found\n",
      "No top level hogs found\n",
      "No top level hogs found\n",
      "No top level hogs found\n",
      "No top level hogs found\n",
      "No top level hogs found\n",
      "No top level hogs found\n",
      "No top level hogs found\n",
      "No top level hogs found\n",
      "No top level hogs found\n",
      "No top level hogs found\n",
      "No top level hogs found\n",
      "No top level hogs found\n",
      "No top level hogs found\n",
      "No top level hogs found\n",
      "No top level hogs found\n",
      "No top level hogs found\n",
      "No top level hogs found\n",
      "No top level hogs found\n",
      "No top level hogs found\n"
     ]
    },
    {
     "name": "stderr",
     "output_type": "stream",
     "text": [
      "534it [05:58,  1.40it/s]"
     ]
    },
    {
     "name": "stdout",
     "output_type": "stream",
     "text": [
      "No top level hogs found\n",
      "No top level hogs found\n",
      "No top level hogs found\n",
      "No top level hogs found\n",
      "No top level hogs found\n",
      "No top level hogs found\n",
      "No top level hogs found\n",
      "No top level hogs found\n",
      "No top level hogs found\n",
      "No top level hogs found\n",
      "No top level hogs found\n",
      "No top level hogs found\n",
      "No top level hogs found\n",
      "No top level hogs found\n",
      "No top level hogs found\n",
      "No top level hogs found\n",
      "No top level hogs found\n",
      "No top level hogs found\n",
      "No top level hogs found\n",
      "No top level hogs found\n",
      "No top level hogs found\n",
      "No top level hogs found\n",
      "No top level hogs found"
     ]
    },
    {
     "name": "stderr",
     "output_type": "stream",
     "text": [
      "535it [05:59,  1.40it/s]"
     ]
    },
    {
     "name": "stdout",
     "output_type": "stream",
     "text": [
      "\n",
      "No top level hogs found\n",
      "No top level hogs found\n",
      "No top level hogs found\n",
      "No top level hogs found\n",
      "No top level hogs found\n",
      "No top level hogs found\n",
      "No top level hogs found\n",
      "No top level hogs found\n",
      "No top level hogs found\n",
      "No top level hogs found\n",
      "No top level hogs found\n",
      "No top level hogs found\n",
      "No top level hogs found\n",
      "No top level hogs found\n",
      "No top level hogs found\n",
      "No top level hogs found\n",
      "No top level hogs found\n",
      "No top level hogs found\n",
      "No top level hogs found\n",
      "No top level hogs found\n",
      "No top level hogs found\n"
     ]
    },
    {
     "name": "stderr",
     "output_type": "stream",
     "text": [
      "536it [06:00,  1.48it/s]"
     ]
    },
    {
     "name": "stdout",
     "output_type": "stream",
     "text": [
      "No top level hogs found\n",
      "No top level hogs found\n",
      "No top level hogs found\n",
      "No top level hogs found\n",
      "No top level hogs found\n",
      "No top level hogs found\n",
      "No top level hogs found\n",
      "No top level hogs found\n",
      "No top level hogs found\n",
      "No top level hogs found\n",
      "No top level hogs found\n",
      "No top level hogs found\n",
      "No top level hogs found\n",
      "No top level hogs found\n",
      "No top level hogs found\n",
      "No top level hogs found\n",
      "No top level hogs found\n",
      "No top level hogs found\n",
      "No top level hogs found\n",
      "No top level hogs found\n",
      "No top level hogs found\n",
      "No top level hogs found\n",
      "No top level hogs found\n",
      "No top level hogs found\n",
      "No top level hogs found\n",
      "No top level hogs found\n",
      "No top level hogs found\n",
      "No top level hogs found\n"
     ]
    },
    {
     "name": "stderr",
     "output_type": "stream",
     "text": [
      "537it [06:00,  1.46it/s]"
     ]
    },
    {
     "name": "stdout",
     "output_type": "stream",
     "text": [
      "No top level hogs found\n",
      "No top level hogs found\n",
      "No top level hogs found\n",
      "No top level hogs found\n",
      "No top level hogs found\n",
      "No top level hogs found\n",
      "No top level hogs found\n",
      "No top level hogs found\n",
      "No top level hogs found\n",
      "No top level hogs found\n",
      "No top level hogs found\n",
      "No top level hogs found\n",
      "No top level hogs found\n",
      "No top level hogs found\n",
      "No top level hogs found\n",
      "No top level hogs found\n",
      "No top level hogs found\n",
      "No top level hogs found\n",
      "No top level hogs found\n",
      "No top level hogs found\n",
      "No top level hogs found\n",
      "No top level hogs found\n",
      "No top level hogs found\n",
      "No top level hogs found\n",
      "No top level hogs found\n",
      "No top level hogs found\n",
      "No top level hogs found\n"
     ]
    },
    {
     "name": "stderr",
     "output_type": "stream",
     "text": [
      "538it [06:01,  1.42it/s]"
     ]
    },
    {
     "name": "stdout",
     "output_type": "stream",
     "text": [
      "No top level hogs found\n",
      "No top level hogs found\n",
      "No top level hogs found\n",
      "No top level hogs found\n",
      "No top level hogs found\n",
      "No top level hogs found\n",
      "No top level hogs found\n",
      "No top level hogs found\n",
      "No top level hogs found\n",
      "No top level hogs found\n",
      "No top level hogs found\n",
      "No top level hogs found\n",
      "No top level hogs found\n",
      "No top level hogs found\n",
      "No top level hogs found\n",
      "No top level hogs found\n",
      "No top level hogs found\n",
      "No top level hogs found\n",
      "No top level hogs found\n",
      "No top level hogs found\n",
      "No top level hogs found\n",
      "No top level hogs found\n",
      "No top level hogs found\n",
      "No top level hogs found\n",
      "No top level hogs found\n",
      "No top level hogs found\n",
      "No top level hogs found\n",
      "No top level hogs found\n",
      "No top level hogs found\n",
      "No top level hogs found\n"
     ]
    },
    {
     "name": "stderr",
     "output_type": "stream",
     "text": [
      "539it [06:02,  1.35it/s]"
     ]
    },
    {
     "name": "stdout",
     "output_type": "stream",
     "text": [
      "No top level hogs found\n",
      "No top level hogs found\n",
      "No top level hogs found\n",
      "No top level hogs found\n",
      "No top level hogs found\n",
      "No top level hogs found\n",
      "No top level hogs found\n",
      "No top level hogs found\n",
      "No top level hogs found\n",
      "No top level hogs found\n",
      "No top level hogs found\n",
      "No top level hogs found\n",
      "No top level hogs found\n",
      "No top level hogs found\n",
      "No top level hogs found\n",
      "No top level hogs found\n",
      "No top level hogs found\n",
      "No top level hogs found\n",
      "No top level hogs found\n",
      "No top level hogs found\n",
      "No top level hogs found\n",
      "No top level hogs found\n",
      "No top level hogs found\n",
      "No top level hogs found\n"
     ]
    },
    {
     "name": "stderr",
     "output_type": "stream",
     "text": [
      "540it [06:03,  1.43it/s]"
     ]
    },
    {
     "name": "stdout",
     "output_type": "stream",
     "text": [
      "No top level hogs found\n",
      "No top level hogs found\n",
      "No top level hogs found\n",
      "No top level hogs found\n",
      "No top level hogs found\n",
      "No top level hogs found\n",
      "No top level hogs found\n",
      "No top level hogs found\n",
      "No top level hogs found\n",
      "No top level hogs found\n",
      "No top level hogs found\n",
      "No top level hogs found\n",
      "No top level hogs found\n",
      "No top level hogs found\n",
      "No top level hogs found\n",
      "No top level hogs found\n",
      "No top level hogs found\n",
      "No top level hogs found\n",
      "No top level hogs found\n",
      "No top level hogs found\n",
      "No top level hogs found\n",
      "No top level hogs found\n",
      "No top level hogs found\n",
      "No top level hogs found\n",
      "No top level hogs found"
     ]
    },
    {
     "name": "stderr",
     "output_type": "stream",
     "text": [
      "541it [06:03,  1.48it/s]"
     ]
    },
    {
     "name": "stdout",
     "output_type": "stream",
     "text": [
      "\n",
      "No top level hogs found\n",
      "No top level hogs found\n",
      "No top level hogs found\n",
      "No top level hogs found\n",
      "No top level hogs found\n",
      "No top level hogs found\n",
      "No top level hogs found\n",
      "No top level hogs found\n",
      "No top level hogs found\n",
      "No top level hogs found\n",
      "No top level hogs found\n",
      "No top level hogs found\n",
      "No top level hogs found\n",
      "No top level hogs found\n",
      "No top level hogs found\n",
      "No top level hogs found\n",
      "No top level hogs found\n",
      "No top level hogs found\n"
     ]
    },
    {
     "name": "stderr",
     "output_type": "stream",
     "text": [
      "542it [06:04,  1.60it/s]"
     ]
    },
    {
     "name": "stdout",
     "output_type": "stream",
     "text": [
      "No top level hogs found\n",
      "No top level hogs found\n",
      "No top level hogs found\n",
      "No top level hogs found\n",
      "No top level hogs found\n",
      "No top level hogs found\n",
      "No top level hogs found\n",
      "No top level hogs found\n",
      "No top level hogs found\n",
      "No top level hogs found\n",
      "No top level hogs found\n",
      "No top level hogs found\n",
      "No top level hogs found\n",
      "No top level hogs found\n",
      "No top level hogs found\n",
      "No top level hogs found\n",
      "No top level hogs found\n",
      "No top level hogs found\n",
      "No top level hogs found\n",
      "No top level hogs found\n",
      "No top level hogs found\n",
      "No top level hogs found\n",
      "No top level hogs found\n",
      "No top level hogs found\n",
      "No top level hogs found\n",
      "No top level hogs found\n",
      "No top level hogs found\n",
      "No top level hogs found\n",
      "No top level hogs found\n",
      "No top level hogs found\n",
      "No top level hogs found\n",
      "No top level hogs found\n",
      "No top level hogs found\n",
      "No top level hogs found\n",
      "No top level hogs found"
     ]
    },
    {
     "name": "stderr",
     "output_type": "stream",
     "text": [
      "543it [06:04,  1.55it/s]"
     ]
    },
    {
     "name": "stdout",
     "output_type": "stream",
     "text": [
      "\n",
      "No top level hogs found\n",
      "No top level hogs found\n",
      "No top level hogs found\n",
      "No top level hogs found\n",
      "No top level hogs found\n",
      "No top level hogs found\n",
      "No top level hogs found\n",
      "No top level hogs found\n",
      "No top level hogs found\n",
      "No top level hogs found\n",
      "No top level hogs found\n",
      "No top level hogs found\n",
      "No top level hogs found\n",
      "No top level hogs found\n",
      "No top level hogs found\n",
      "No top level hogs found\n",
      "No top level hogs found\n",
      "No top level hogs found\n",
      "No top level hogs found\n",
      "No top level hogs found\n",
      "No top level hogs found\n",
      "No top level hogs found\n",
      "No top level hogs found\n",
      "No top level hogs found\n"
     ]
    },
    {
     "name": "stderr",
     "output_type": "stream",
     "text": [
      "544it [06:05,  1.56it/s]"
     ]
    },
    {
     "name": "stdout",
     "output_type": "stream",
     "text": [
      "No top level hogs found\n",
      "No top level hogs found\n",
      "No top level hogs found\n",
      "No top level hogs found\n",
      "No top level hogs found\n",
      "No top level hogs found\n",
      "No top level hogs found\n",
      "No top level hogs found\n",
      "No top level hogs found\n",
      "No top level hogs found\n",
      "No top level hogs found\n",
      "No top level hogs found\n",
      "No top level hogs found\n",
      "No top level hogs found\n",
      "No top level hogs found\n",
      "No top level hogs found\n",
      "No top level hogs found\n"
     ]
    }
   ],
   "source": [
    "today = datetime.now().strftime(\"%y%m%d\")\n",
    "### 1 thread needs more than 2 ours for Toxicofera taxmask - do not let run from here\n",
    "args = {\n",
    "    'dbname': f'/work/FAC/FBM/DBC/cdessim2/default/agavriilidou/venom_project/2a_hogprof_testing/test_{today}_',\n",
    "    #'orthoglob': None,\n",
    "    'omafile': '/work/FAC/FBM/DBC/cdessim2/default/agavriilidou/oma_downloads/OmaServer.h5',\n",
    "    #'taxweights': None,\n",
    "    'taxmask': 'Toxicofera',            # 'Toxicofera', #4115 taxa after taxmask \n",
    "    #'taxfilter': None,\n",
    "    #'dbtype': 'vertebrates',   ###does not seem to work, taxmask seems to be ignored later in the pipeline\n",
    "    #'nperm': 256,\n",
    "    'mastertree': '/work/FAC/FBM/DBC/cdessim2/default/agavriilidou/oma_downloads/speciestree.nwk',\n",
    "    'threads': 1,\n",
    "    #'lossonly': False,\n",
    "    #'duplonly': False,\n",
    "    #'taxcodes': True,        ### does not seem to work due to bacteria and archaea not being in the taxcodes\n",
    "    'verbose': True,\n",
    "    'reformat_names': True    ### seems to be necessary or broken newick file errors appear\n",
    "}\n",
    "lshbuilder_main(**args)"
   ]
  },
  {
   "cell_type": "code",
   "execution_count": null,
   "metadata": {},
   "outputs": [],
   "source": []
  }
 ],
 "metadata": {
  "kernelspec": {
   "display_name": "Python 3 (ipykernel)",
   "language": "python",
   "name": "python3"
  },
  "language_info": {
   "codemirror_mode": {
    "name": "ipython",
    "version": 3
   },
   "file_extension": ".py",
   "mimetype": "text/x-python",
   "name": "python",
   "nbconvert_exporter": "python",
   "pygments_lexer": "ipython3",
   "version": "3.12.4"
  }
 },
 "nbformat": 4,
 "nbformat_minor": 2
}
