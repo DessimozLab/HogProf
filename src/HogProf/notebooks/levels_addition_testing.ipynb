{
 "cells": [
  {
   "cell_type": "markdown",
   "metadata": {},
   "source": [
    "### imports"
   ]
  },
  {
   "cell_type": "code",
   "execution_count": 1,
   "metadata": {},
   "outputs": [
    {
     "name": "stdout",
     "output_type": "stream",
     "text": [
      "Current working directory: /work/FAC/FBM/DBC/cdessim2/default/agavriilidou\n",
      "Successfully imported lshbuilder.\n",
      "Successfully imported pyhamutils and hashutils.\n"
     ]
    }
   ],
   "source": [
    "import sys\n",
    "import os\n",
    "import time\n",
    "from tables import *\n",
    "\n",
    "# Get the current working directory\n",
    "current_directory = os.getcwd()\n",
    "print(f\"Current working directory: {current_directory}\")\n",
    "\n",
    "# Add the parent directory 'HogProf/src/HogProf' to sys.path (for importing lshbuilder)\n",
    "sys.path.append(os.path.abspath('HogProf/src/HogProf'))\n",
    "\n",
    "# Import lshbuilder module from the parent directory\n",
    "try:\n",
    "    import lshbuilder\n",
    "    print(\"Successfully imported lshbuilder.\")\n",
    "except ImportError as e:\n",
    "    print(f\"Error importing lshbuilder: {e}\")\n",
    "\n",
    "# Add the utils directory 'HogProf/src/HogProf/utils' to sys.path (for importing phyhamutils and hashutils)\n",
    "sys.path.append(os.path.abspath('HogProf/src/HogProf/utils'))\n",
    "\n",
    "# Import phyhamutils and hashutils from the utils directory\n",
    "try:\n",
    "    import pyhamutils\n",
    "    import hashutils\n",
    "    print(\"Successfully imported pyhamutils and hashutils.\")\n",
    "except ImportError as e:\n",
    "    print(f\"Error importing pyhamutils or hashutils: {e}\")\n"
   ]
  },
  {
   "cell_type": "markdown",
   "metadata": {},
   "source": [
    "### lshbuilder main function"
   ]
  },
  {
   "cell_type": "code",
   "execution_count": 2,
   "metadata": {},
   "outputs": [],
   "source": [
    "def lshbuilder_main(dbname, orthoglob=None, nperm=256, omafile=None, taxfilter=None, taxmask=None, weights=None, \n",
    "mastertree=None, lossonly=False, duplonly=False, taxcodes=False, verbose=False, reformat_names=False, threads=4,\n",
    "dbtype=None):\n",
    "    '''\n",
    "    parser = argparse.ArgumentParser()\n",
    "    parser.add_argument('--taxweights', help='load optimised weights from keras model',type = str)\n",
    "    parser.add_argument('--taxmask', help='consider only one branch',type = str)\n",
    "    parser.add_argument('--taxfilter', help='remove these taxa' , type = str)\n",
    "    parser.add_argument('--outpath', help='name of the db', type = str)\n",
    "    parser.add_argument('--dbtype', help='preconfigured taxonomic ranges' , type = str)\n",
    "    parser.add_argument('--OMA', help='use oma data ' , type = str)\n",
    "    parser.add_argument('--OrthoGlob', help='a glob expression for orthoxml files ' , type = str)\n",
    "    parser.add_argument('--tarfile', help='use tarfile with orthoxml data ' , type = str)\n",
    "    parser.add_argument('--nperm', help='number of hash functions to use when constructing profiles' , type = int)\n",
    "    parser.add_argument('--mastertree', help='master taxonomic tree. nodes should correspond to orthoxml' , type = str)\n",
    "    \n",
    "    parser.add_argument('--nthreads', help='nthreads for multiprocessing' , type = int)\n",
    "    parser.add_argument('--lossonly', help='only compile loss events' , type = bool)\n",
    "    parser.add_argument('--duplonly', help='only compile duplication events' , type = bool)\n",
    "    parser.add_argument('--taxcodes', help='use taxid info in HOGs' , type = str)\n",
    "    parser.add_argument('--verbose', help='print verbose output' , type = bool)\n",
    "    parser.add_argument('--reformat_names', help='try to correct broken species trees by replacing all names with numbers.' , type = bool)\n",
    "    '''\n",
    "    ### the following dictionary may be outdated or does not work with reformat_names (14.10.2024)\n",
    "    dbdict = {\n",
    "        'all': { 'taxfilter': None , 'taxmask': None },\n",
    "        'plants': { 'taxfilter': None , 'taxmask': 33090 },\n",
    "        'archaea':{ 'taxfilter': None , 'taxmask': 2157 },\n",
    "        'bacteria':{ 'taxfilter': None , 'taxmask': 2 },\n",
    "        'eukarya':{ 'taxfilter': None , 'taxmask': 2759 },\n",
    "        'protists':{ 'taxfilter': [2 , 2157 , 33090 , 4751, 33208] , 'taxmask':None },\n",
    "        'fungi':{ 'taxfilter': None , 'taxmask': 4751 },\n",
    "        'metazoa':{ 'taxfilter': None , 'taxmask': 33208 },\n",
    "        'vertebrates':{ 'taxfilter': None , 'taxmask': 7742 },\n",
    "    }\n",
    "\n",
    "    if dbtype:\n",
    "        taxfilter = dbdict[dbtype]['taxfilter']\n",
    "        taxmask = dbdict[dbtype]['taxmask']\n",
    "        print('using dbtype', dbtype, 'with taxfilter', taxfilter, 'and taxmask', taxmask)\n",
    "\n",
    "    if weights:\n",
    "        from keras.models import model_from_json\n",
    "        json_file = open(  args['taxweights']+ '.json', 'r')\n",
    "        loaded_model_json = json_file.read()\n",
    "        json_file.close()\n",
    "        model = model_from_json(loaded_model_json)\n",
    "        # load weights into new model\n",
    "        model.load_weights(  args['taxweights']+\".h5\")\n",
    "        print(\"Loaded model from disk\")\n",
    "        weights = model.get_weights()[0]\n",
    "        weights += 10 ** -10\n",
    "\n",
    "    start = time.time()\n",
    "    if omafile:\n",
    "        with open_file( omafile , mode=\"r\") as h5_oma:\n",
    "            lsh_builder = lshbuilder.LSHBuilder(h5_oma = h5_oma,  fileglob=orthoglob ,saving_name=dbname , numperm = nperm ,\n",
    "            treeweights= weights , taxfilter = taxfilter, taxmask=taxmask , masterTree =mastertree , \n",
    "            lossonly = lossonly , duplonly = duplonly , use_taxcodes = taxcodes , reformat_names=reformat_names, verbose=verbose )\n",
    "            #### maybe here is where load_one and saver are needed instaed of the run_pipeline!!!!!!!!!!!!!!!!!!!!!!!!!!!!!!\n",
    "            lsh_builder.run_pipeline(threads)\n",
    "    else:\n",
    "        lsh_builder = lshbuilder.LSHBuilder(h5_oma = None,  fileglob=orthoglob ,saving_name=dbname , numperm = nperm ,\n",
    "        treeweights= weights , taxfilter = taxfilter, taxmask=taxmask ,\n",
    "          masterTree =mastertree , lossonly = lossonly , duplonly = duplonly , use_taxcodes = taxcodes , reformat_names=reformat_names, verbose=verbose)\n",
    "        lsh_builder.run_pipeline(threads)\n",
    "    print(time.time() - start)\n",
    "    print('DONE')"
   ]
  },
  {
   "cell_type": "markdown",
   "metadata": {},
   "source": [
    "### testing"
   ]
  },
  {
   "cell_type": "code",
   "execution_count": null,
   "metadata": {},
   "outputs": [
    {
     "name": "stdout",
     "output_type": "stream",
     "text": [
      "reformatted tree\n",
      "taxmask Toxicofera\n",
      "making tree weights w n taxa = : 4115\n",
      "configuring pyham functions\n",
      "swap ids False\n",
      "reformat names True\n",
      "use phyloxml False\n",
      "use taxcodes False\n",
      "reading oma hdf5 with n groups: 1040435\n",
      "done\n",
      "\n",
      "run w n threads: 2\n",
      "start workers\n"
     ]
    },
    {
     "name": "stderr",
     "output_type": "stream",
     "text": [
      "0it [00:00, ?it/s]"
     ]
    },
    {
     "name": "stdout",
     "output_type": "stream",
     "text": [
      "worker init 0worker init 1\n",
      "creating dataset\n",
      "\n",
      "filtered at taxonomic level: NoFilter_Mask3778\n",
      "{}\n",
      "saver init 0\n"
     ]
    },
    {
     "name": "stderr",
     "output_type": "stream",
     "text": [
      "2it [00:01,  1.24it/s]"
     ]
    },
    {
     "name": "stdout",
     "output_type": "stream",
     "text": [
      "error species name '3626' maps to an ancestral name, not a leaf of the taxonomy\n"
     ]
    },
    {
     "name": "stderr",
     "output_type": "stream",
     "text": [
      "Process Process-2:\n",
      "Traceback (most recent call last):\n",
      "  File \"/work/FAC/FBM/DBC/cdessim2/default/agavriilidou/HogProf/src/HogProf/utils/pyhamutils.py\", line 108, in get_ham_treemap_from_row\n",
      "    ham_obj = pyham.Ham(tree, orthoxml, type_hog_file=\"orthoxml\" , tree_format = format  , use_internal_name=use_internal_name, orthoXML_as_string=orthoXML_as_string )\n",
      "    ^^^^^^^^^^^^^^^^^^^^^^^^^^^^^^^^^^^^^^^^^^^^^^^^^^^^^^^^^^^^^^^^^^^^^^^^^^^^^^^^^^^^^^^^^^^^^^^^^^^^^^^^^^^^^^^^^^^^^^^^^^^^^^^^^^^^^^^^^^^^^^^^^^^^^^^^^\n",
      "  File \"/work/FAC/FBM/DBC/cdessim2/default/agavriilidou/miniconda3/envs/hogprof/lib/python3.12/site-packages/pyham/ham.py\", line 259, in __init__\n",
      "    self.top_level_hogs, self.extant_gene_map, self.external_id_mapper = self._build_hogs_and_genes(orthoxml_file, filter_object=self.filter_obj)\n",
      "                                                                         ^^^^^^^^^^^^^^^^^^^^^^^^^^^^^^^^^^^^^^^^^^^^^^^^^^^^^^^^^^^^^^^^^^^^^^^^\n",
      "  File \"/work/FAC/FBM/DBC/cdessim2/default/agavriilidou/miniconda3/envs/hogprof/lib/python3.12/site-packages/pyham/ham.py\", line 823, in _build_hogs_and_genes\n",
      "    parser.feed(line)\n",
      "  File \"/work/FAC/FBM/DBC/cdessim2/default/agavriilidou/miniconda3/envs/hogprof/lib/python3.12/site-packages/pyham/parsers.py\", line 99, in start\n",
      "    self.current_species = self.ham_object._get_extant_genome_by_name(**attrib)\n",
      "                           ^^^^^^^^^^^^^^^^^^^^^^^^^^^^^^^^^^^^^^^^^^^^^^^^^^^^\n",
      "  File \"/work/FAC/FBM/DBC/cdessim2/default/agavriilidou/miniconda3/envs/hogprof/lib/python3.12/site-packages/pyham/ham.py\", line 884, in _get_extant_genome_by_name\n",
      "    raise TypeError(\"species name '{}' maps to an ancestral name, not a leaf of the taxonomy\"\n",
      "TypeError: species name '3626' maps to an ancestral name, not a leaf of the taxonomy\n",
      "\n",
      "During handling of the above exception, another exception occurred:\n",
      "\n",
      "Traceback (most recent call last):\n",
      "  File \"/work/FAC/FBM/DBC/cdessim2/default/agavriilidou/miniconda3/envs/hogprof/lib/python3.12/multiprocessing/process.py\", line 314, in _bootstrap\n",
      "    self.run()\n",
      "  File \"/work/FAC/FBM/DBC/cdessim2/default/agavriilidou/miniconda3/envs/hogprof/lib/python3.12/multiprocessing/process.py\", line 108, in run\n",
      "    self._target(*self._args, **self._kwargs)\n",
      "  File \"/work/FAC/FBM/DBC/cdessim2/default/agavriilidou/HogProf/src/HogProf/lshbuilder.py\", line 272, in worker\n",
      "    df['tree'] = df[['Fam', 'ortho']].apply(self.HAM_PIPELINE, axis=1)\n",
      "                 ^^^^^^^^^^^^^^^^^^^^^^^^^^^^^^^^^^^^^^^^^^^^^^^^^^^^^\n",
      "  File \"/work/FAC/FBM/DBC/cdessim2/default/agavriilidou/miniconda3/envs/hogprof/lib/python3.12/site-packages/pandas/core/frame.py\", line 10374, in apply\n",
      "    return op.apply().__finalize__(self, method=\"apply\")\n",
      "           ^^^^^^^^^^\n",
      "  File \"/work/FAC/FBM/DBC/cdessim2/default/agavriilidou/miniconda3/envs/hogprof/lib/python3.12/site-packages/pandas/core/apply.py\", line 916, in apply\n",
      "    return self.apply_standard()\n",
      "           ^^^^^^^^^^^^^^^^^^^^^\n",
      "  File \"/work/FAC/FBM/DBC/cdessim2/default/agavriilidou/miniconda3/envs/hogprof/lib/python3.12/site-packages/pandas/core/apply.py\", line 1063, in apply_standard\n",
      "    results, res_index = self.apply_series_generator()\n",
      "                         ^^^^^^^^^^^^^^^^^^^^^^^^^^^^^\n",
      "  File \"/work/FAC/FBM/DBC/cdessim2/default/agavriilidou/miniconda3/envs/hogprof/lib/python3.12/site-packages/pandas/core/apply.py\", line 1081, in apply_series_generator\n",
      "    results[i] = self.func(v, *self.args, **self.kwargs)\n",
      "                 ^^^^^^^^^^^^^^^^^^^^^^^^^^^^^^^^^^^^^^^\n",
      "  File \"/work/FAC/FBM/DBC/cdessim2/default/agavriilidou/HogProf/src/HogProf/utils/pyhamutils.py\", line 191, in get_ham_treemap_from_row\n",
      "    ham_obj = pyham.Ham(tree.write(format=1), orthoxml, type_hog_file=\"orthoxml\" , tree_format = format  , use_internal_name=use_internal_name, orthoXML_as_string=orthoXML_as_string )\n",
      "              ^^^^^^^^^^^^^^^^^^^^^^^^^^^^^^^^^^^^^^^^^^^^^^^^^^^^^^^^^^^^^^^^^^^^^^^^^^^^^^^^^^^^^^^^^^^^^^^^^^^^^^^^^^^^^^^^^^^^^^^^^^^^^^^^^^^^^^^^^^^^^^^^^^^^^^^^^^^^^^^^^^^^^^^^^\n",
      "  File \"/work/FAC/FBM/DBC/cdessim2/default/agavriilidou/miniconda3/envs/hogprof/lib/python3.12/site-packages/pyham/ham.py\", line 259, in __init__\n",
      "    self.top_level_hogs, self.extant_gene_map, self.external_id_mapper = self._build_hogs_and_genes(orthoxml_file, filter_object=self.filter_obj)\n",
      "                                                                         ^^^^^^^^^^^^^^^^^^^^^^^^^^^^^^^^^^^^^^^^^^^^^^^^^^^^^^^^^^^^^^^^^^^^^^^^\n",
      "  File \"/work/FAC/FBM/DBC/cdessim2/default/agavriilidou/miniconda3/envs/hogprof/lib/python3.12/site-packages/pyham/ham.py\", line 823, in _build_hogs_and_genes\n",
      "    parser.feed(line)\n",
      "  File \"/work/FAC/FBM/DBC/cdessim2/default/agavriilidou/miniconda3/envs/hogprof/lib/python3.12/site-packages/pyham/parsers.py\", line 99, in start\n",
      "    self.current_species = self.ham_object._get_extant_genome_by_name(**attrib)\n",
      "                           ^^^^^^^^^^^^^^^^^^^^^^^^^^^^^^^^^^^^^^^^^^^^^^^^^^^^\n",
      "  File \"/work/FAC/FBM/DBC/cdessim2/default/agavriilidou/miniconda3/envs/hogprof/lib/python3.12/site-packages/pyham/ham.py\", line 884, in _get_extant_genome_by_name\n",
      "    raise TypeError(\"species name '{}' maps to an ancestral name, not a leaf of the taxonomy\"\n",
      "3it [00:02,  1.03s/it]"
     ]
    },
    {
     "name": "stdout",
     "output_type": "stream",
     "text": [
      "error"
     ]
    },
    {
     "name": "stderr",
     "output_type": "stream",
     "text": [
      "TypeError: species name '3561' maps to an ancestral name, not a leaf of the taxonomy\n"
     ]
    },
    {
     "name": "stdout",
     "output_type": "stream",
     "text": [
      " species name '3321' maps to an ancestral name, not a leaf of the taxonomy\n"
     ]
    },
    {
     "name": "stderr",
     "output_type": "stream",
     "text": [
      "Process Process-1:\n",
      "Traceback (most recent call last):\n",
      "  File \"/work/FAC/FBM/DBC/cdessim2/default/agavriilidou/HogProf/src/HogProf/utils/pyhamutils.py\", line 108, in get_ham_treemap_from_row\n",
      "    ham_obj = pyham.Ham(tree, orthoxml, type_hog_file=\"orthoxml\" , tree_format = format  , use_internal_name=use_internal_name, orthoXML_as_string=orthoXML_as_string )\n",
      "    ^^^^^^^^^^^^^^^^^^^^^^^^^^^^^^^^^^^^^^^^^^^^^^^^^^^^^^^^^^^^^^^^^^^^^^^^^^^^^^^^^^^^^^^^^^^^^^^^^^^^^^^^^^^^^^^^^^^^^^^^^^^^^^^^^^^^^^^^^^^^^^^^^^^^^^^^^\n",
      "  File \"/work/FAC/FBM/DBC/cdessim2/default/agavriilidou/miniconda3/envs/hogprof/lib/python3.12/site-packages/pyham/ham.py\", line 259, in __init__\n",
      "    self.top_level_hogs, self.extant_gene_map, self.external_id_mapper = self._build_hogs_and_genes(orthoxml_file, filter_object=self.filter_obj)\n",
      "                                                                         ^^^^^^^^^^^^^^^^^^^^^^^^^^^^^^^^^^^^^^^^^^^^^^^^^^^^^^^^^^^^^^^^^^^^^^^^\n",
      "  File \"/work/FAC/FBM/DBC/cdessim2/default/agavriilidou/miniconda3/envs/hogprof/lib/python3.12/site-packages/pyham/ham.py\", line 823, in _build_hogs_and_genes\n",
      "    parser.feed(line)\n",
      "  File \"/work/FAC/FBM/DBC/cdessim2/default/agavriilidou/miniconda3/envs/hogprof/lib/python3.12/site-packages/pyham/parsers.py\", line 99, in start\n",
      "    self.current_species = self.ham_object._get_extant_genome_by_name(**attrib)\n",
      "                           ^^^^^^^^^^^^^^^^^^^^^^^^^^^^^^^^^^^^^^^^^^^^^^^^^^^^\n",
      "  File \"/work/FAC/FBM/DBC/cdessim2/default/agavriilidou/miniconda3/envs/hogprof/lib/python3.12/site-packages/pyham/ham.py\", line 884, in _get_extant_genome_by_name\n",
      "    raise TypeError(\"species name '{}' maps to an ancestral name, not a leaf of the taxonomy\"\n",
      "TypeError: species name '3321' maps to an ancestral name, not a leaf of the taxonomy\n",
      "\n",
      "During handling of the above exception, another exception occurred:\n",
      "\n",
      "Traceback (most recent call last):\n",
      "  File \"/work/FAC/FBM/DBC/cdessim2/default/agavriilidou/miniconda3/envs/hogprof/lib/python3.12/multiprocessing/process.py\", line 314, in _bootstrap\n",
      "    self.run()\n",
      "  File \"/work/FAC/FBM/DBC/cdessim2/default/agavriilidou/miniconda3/envs/hogprof/lib/python3.12/multiprocessing/process.py\", line 108, in run\n",
      "    self._target(*self._args, **self._kwargs)\n",
      "  File \"/work/FAC/FBM/DBC/cdessim2/default/agavriilidou/HogProf/src/HogProf/lshbuilder.py\", line 272, in worker\n",
      "    df['tree'] = df[['Fam', 'ortho']].apply(self.HAM_PIPELINE, axis=1)\n",
      "                 ^^^^^^^^^^^^^^^^^^^^^^^^^^^^^^^^^^^^^^^^^^^^^^^^^^^^^\n",
      "  File \"/work/FAC/FBM/DBC/cdessim2/default/agavriilidou/miniconda3/envs/hogprof/lib/python3.12/site-packages/pandas/core/frame.py\", line 10374, in apply\n",
      "    return op.apply().__finalize__(self, method=\"apply\")\n",
      "           ^^^^^^^^^^\n",
      "  File \"/work/FAC/FBM/DBC/cdessim2/default/agavriilidou/miniconda3/envs/hogprof/lib/python3.12/site-packages/pandas/core/apply.py\", line 916, in apply\n",
      "    return self.apply_standard()\n",
      "           ^^^^^^^^^^^^^^^^^^^^^\n",
      "  File \"/work/FAC/FBM/DBC/cdessim2/default/agavriilidou/miniconda3/envs/hogprof/lib/python3.12/site-packages/pandas/core/apply.py\", line 1063, in apply_standard\n",
      "    results, res_index = self.apply_series_generator()\n",
      "                         ^^^^^^^^^^^^^^^^^^^^^^^^^^^^^\n",
      "  File \"/work/FAC/FBM/DBC/cdessim2/default/agavriilidou/miniconda3/envs/hogprof/lib/python3.12/site-packages/pandas/core/apply.py\", line 1081, in apply_series_generator\n",
      "    results[i] = self.func(v, *self.args, **self.kwargs)\n",
      "                 ^^^^^^^^^^^^^^^^^^^^^^^^^^^^^^^^^^^^^^^\n",
      "  File \"/work/FAC/FBM/DBC/cdessim2/default/agavriilidou/HogProf/src/HogProf/utils/pyhamutils.py\", line 191, in get_ham_treemap_from_row\n",
      "    ham_obj = pyham.Ham(tree.write(format=1), orthoxml, type_hog_file=\"orthoxml\" , tree_format = format  , use_internal_name=use_internal_name, orthoXML_as_string=orthoXML_as_string )\n",
      "              ^^^^^^^^^^^^^^^^^^^^^^^^^^^^^^^^^^^^^^^^^^^^^^^^^^^^^^^^^^^^^^^^^^^^^^^^^^^^^^^^^^^^^^^^^^^^^^^^^^^^^^^^^^^^^^^^^^^^^^^^^^^^^^^^^^^^^^^^^^^^^^^^^^^^^^^^^^^^^^^^^^^^^^^^^\n",
      "  File \"/work/FAC/FBM/DBC/cdessim2/default/agavriilidou/miniconda3/envs/hogprof/lib/python3.12/site-packages/pyham/ham.py\", line 259, in __init__\n",
      "    self.top_level_hogs, self.extant_gene_map, self.external_id_mapper = self._build_hogs_and_genes(orthoxml_file, filter_object=self.filter_obj)\n",
      "                                                                         ^^^^^^^^^^^^^^^^^^^^^^^^^^^^^^^^^^^^^^^^^^^^^^^^^^^^^^^^^^^^^^^^^^^^^^^^\n",
      "  File \"/work/FAC/FBM/DBC/cdessim2/default/agavriilidou/miniconda3/envs/hogprof/lib/python3.12/site-packages/pyham/ham.py\", line 823, in _build_hogs_and_genes\n",
      "    parser.feed(line)\n",
      "  File \"/work/FAC/FBM/DBC/cdessim2/default/agavriilidou/miniconda3/envs/hogprof/lib/python3.12/site-packages/pyham/parsers.py\", line 99, in start\n",
      "    self.current_species = self.ham_object._get_extant_genome_by_name(**attrib)\n",
      "                           ^^^^^^^^^^^^^^^^^^^^^^^^^^^^^^^^^^^^^^^^^^^^^^^^^^^^\n",
      "  File \"/work/FAC/FBM/DBC/cdessim2/default/agavriilidou/miniconda3/envs/hogprof/lib/python3.12/site-packages/pyham/ham.py\", line 884, in _get_extant_genome_by_name\n",
      "    raise TypeError(\"species name '{}' maps to an ancestral name, not a leaf of the taxonomy\"\n",
      "TypeError: species name '3561' maps to an ancestral name, not a leaf of the taxonomy\n",
      "482it [03:36,  2.22it/s]"
     ]
    }
   ],
   "source": [
    "args = {\n",
    "    'dbname': '/work/FAC/FBM/DBC/cdessim2/default/agavriilidou/venom_project/2a_hogprof_testing',\n",
    "    #'orthoglob': None,\n",
    "    'omafile': '/work/FAC/FBM/DBC/cdessim2/default/agavriilidou/oma_downloads/OmaServer.h5',\n",
    "    #'taxweights': None,\n",
    "    'taxmask': 'Toxicofera',            # 'Toxicofera',\n",
    "    #'taxfilter': None,\n",
    "    #'dbtype': 'vertebrates',   ###does not seem to work, taxmask seems to be ignored later in the pipeline\n",
    "    #'nperm': 256,\n",
    "    'mastertree': '/work/FAC/FBM/DBC/cdessim2/default/agavriilidou/oma_downloads/speciestree.nwk',\n",
    "    'threads': 1,\n",
    "    #'lossonly': False,\n",
    "    #'duplonly': False,\n",
    "    #'taxcodes': True,        ### does not seem to work due to bacteria and archaea not being in the taxcodes\n",
    "    'verbose': True,\n",
    "    'reformat_names': True    ### seems to be necessary or broken newick file errors appear\n",
    "}\n",
    "lshbuilder_main(**args)"
   ]
  },
  {
   "cell_type": "code",
   "execution_count": null,
   "metadata": {},
   "outputs": [],
   "source": []
  }
 ],
 "metadata": {
  "kernelspec": {
   "display_name": "Python 3 (ipykernel)",
   "language": "python",
   "name": "python3"
  },
  "language_info": {
   "codemirror_mode": {
    "name": "ipython",
    "version": 3
   },
   "file_extension": ".py",
   "mimetype": "text/x-python",
   "name": "python",
   "nbconvert_exporter": "python",
   "pygments_lexer": "ipython3",
   "version": "3.12.4"
  }
 },
 "nbformat": 4,
 "nbformat_minor": 2
}
